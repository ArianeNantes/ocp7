{
 "cells": [
  {
   "cell_type": "code",
   "execution_count": 5,
   "id": "20cc39b3",
   "metadata": {},
   "outputs": [],
   "source": [
    "# On affiche les graphiques dans le notebook en statique\n",
    "%matplotlib inline"
   ]
  },
  {
   "cell_type": "code",
   "execution_count": 71,
   "id": "8fe93c76",
   "metadata": {},
   "outputs": [],
   "source": [
    "\"\"\"\n",
    "code du lightgbm repris (et adapté) de :\n",
    "Lien : https://www.kaggle.com/code/jsaguiar/lightgbm-7th-place-solution\n",
    "\n",
    "KAGGLE HOME CREDIT DEFAULT RISK COMPETITION\n",
    "Adapted from one of the models used in 7th place solution ensemble.\n",
    "For more details about our solution please check this discussion:\n",
    "https://www.kaggle.com/c/home-credit-default-risk/discussion/64580\n",
    "\n",
    "Another similar version is also available at GitHub:\n",
    "https://github.com/js-aguiar/home-credit-default-competition\n",
    "\n",
    "This model uses LightGBM with goss and label encode for the application's \n",
    "categorical features. Other tables are using one-hot encode with mean, \n",
    "sum and a few different functions to aggregate. The main ideia was to add \n",
    "more time related features like last application and last X months aggregations.\n",
    "There are also aggregations for specific loan types and status as well as\n",
    "ratios between tables. Configurations are in line 785\n",
    "\"\"\"\n",
    "\n",
    "import os\n",
    "import gc\n",
    "import time\n",
    "import numpy as np\n",
    "import pandas as pd\n",
    "import re\n",
    "import joblib\n",
    "import matplotlib.pyplot as plt\n",
    "import seaborn as sns\n",
    "from contextlib import contextmanager\n",
    "import multiprocessing as mp\n",
    "from functools import partial\n",
    "from scipy.stats import kurtosis, iqr, skew\n",
    "import lightgbm as lgb\n",
    "from lightgbm import LGBMClassifier\n",
    "import sklearn\n",
    "from sklearn.linear_model import LogisticRegression\n",
    "from sklearn.model_selection import KFold, StratifiedKFold\n",
    "from sklearn.model_selection import train_test_split\n",
    "from sklearn.model_selection import cross_val_score, cross_validate\n",
    "from sklearn.metrics import make_scorer\n",
    "from sklearn.impute import SimpleImputer\n",
    "from sklearn.metrics import roc_auc_score, confusion_matrix, roc_curve, classification_report\n",
    "import warnings\n",
    "\n",
    "from pprint import pprint\n",
    "import mlflow \n",
    "import mlflow.sklearn\n",
    "from mlflow import MlflowClient\n",
    "\n",
    "warnings.simplefilter(action=\"ignore\", category=FutureWarning)"
   ]
  },
  {
   "cell_type": "code",
   "execution_count": 51,
   "id": "60988dd6",
   "metadata": {},
   "outputs": [
    {
     "name": "stdout",
     "output_type": "stream",
     "text": [
      "The autoreload extension is already loaded. To reload it, use:\n",
      "  %reload_ext autoreload\n"
     ]
    }
   ],
   "source": [
    "from src.p7_constantes import (\n",
    "    MODEL_DIR,\n",
    "    DATA_BASE,\n",
    "    DATA_INTERIM,\n",
    "    LOCAL_URI,\n",
    "    LOCAL_HOST,\n",
    "    LOCAL_PORT,\n",
    ")\n",
    "\n",
    "%load_ext autoreload\n",
    "%autoreload 2\n",
    "#autoreload 2 = Reload all modules (except those excluded by %aimport)\n",
    "# every time before executing the Python code typed."
   ]
  },
  {
   "cell_type": "code",
   "execution_count": null,
   "id": "f31c965c",
   "metadata": {},
   "outputs": [
    {
     "name": "stdout",
     "output_type": "stream",
     "text": [
      "Numpy: 1.26.4\n",
      "Pandas: 2.2.2\n",
      "Scikit-learn: 1.4.2\n",
      "MLFlow: 2.12.1\n"
     ]
    }
   ],
   "source": [
    "print(\"Numpy: {}\".format(np.__version__))\n",
    "print(\"Pandas: {}\".format(pd.__version__))\n",
    "print(\"Scikit-learn: {}\".format(sklearn.__version__))\n",
    "print(\"MLFlow: {}\".format(mlflow.__version__))"
   ]
  },
  {
   "cell_type": "code",
   "execution_count": null,
   "id": "903c0470",
   "metadata": {},
   "outputs": [
    {
     "data": {
      "text/plain": [
       "'\\n\"feature\": \"ORGANIZATION_TYPE\", \"table\": \"application\", \"description\": \"Type of organization where client works\", \"agg\": None\\n\\nCREDIT_TO_ANNUITY_RATIO:\\nbureau[\"CREDIT_TO_ANNUITY_RATIO\"] = bureau[\"AMT_CREDIT_SUM\"] / bureau[\"AMT_ANNUITY\"]\\nprev[\"CREDIT_TO_ANNUITY_RATIO\"] = prev[\"AMT_CREDIT\"] / prev[\"AMT_ANNUITY\"]\\n(df=Application) df[\"CREDIT_TO_ANNUITY_RATIO\"] = df[\"AMT_CREDIT\"] / df[\"AMT_ANNUITY\"]\\n\\n\"feature\": \"AMT_CREDIT\", \"table\": \"application\", \"description\": \"Credit amount of the loan\", \"agg\": None\\n\"feature\": \"AMT_ANNUITY\", \"table\": \"application\", \"description\": \"Loan annuity\", \"agg\": None\\n\\nEXT_SOURCES_MEAN\\nfor function_name in [\"min\", \"max\", \"mean\", \"nanmedian\", \"var\"]:\\n        feature_name = \"EXT_SOURCES_{}\".format(function_name.upper())\\n        df[feature_name] = eval(\"np.{}\".format(function_name))(\\n            df[[\"EXT_SOURCE_1\", \"EXT_SOURCE_2\", \"EXT_SOURCE_3\"]], axis=1\\n        )\\n\\nOn va éviter une multicolinéarité trop forte en ne prenant pas toutes les features ext_sources. On va garder la EXT_SOURCES_MEAN et la EXT_SOURCE_3\\n\"feature\": \"EXT_SOURCE_1\", \"table\": \"application\", \"description\": \"Normalized score from external data source\", \"agg\": \"None\"\\n\"feature\": \"EXT_SOURCE_2\", \"table\": \"application\", \"description\": \"Normalized score from external data source\", \"agg\": \"None\"\\n\"feature\": \"EXT_SOURCE_3\", \"table\": \"application\", \"description\": \"Normalized score from external data source\", \"agg\": \"None\"\\n\\n\"feature\": \"DAYS_BIRTH\", \"table\": \"application\", \"description\": \"Client\\'s age in days at the time of application\", \"agg\": \"None\"\\n\\n\"feature\": \"DAYS_CREDIT_ENDDATE\", \"table\": \"bureau\", \"description\": \"Remaining duration of CB credit (in days) at the time of application in Home Credit\", \"agg\": \"max\"\\n\\n# On ne garde pas AMT_ANNUITY ?? Faire une matrice de corrélation ?\\n\"feature\": \"AMT_ANNUITY\", \"table\": \"application\", \"description\": \"Loan annuity\", \"agg\": \"None\"\\n\\nCREDIT_TO_GOODS_RATIO\\ndf[\"CREDIT_TO_GOODS_RATIO\"] = df[\"AMT_CREDIT\"] / df[\"AMT_GOODS_PRICE\"]\\n\"feature\": \"AMT_CREDIT\", \"table\": \"application\", \"description\": \"Credit amount of the loan\", \"agg\": \"None\"\\n\"feature\": \"AMT_GOODS_PRICE\", \"table\": \"application\", \"description\": \"For consumer loans it is the price of the goods for which the loan is given\", \"agg\": \"None\"\\n\\n\\n\"feature\": \"OCCUPATION_TYPE\", \"table\": \"application\", \"description\": \"What kind of occupation does the client have\", \"agg\": \"None\"\\n\\n\"feature\": \"DAYS_ID_PUBLISH\", \"table\": \"application\", \"description\": \"How many days before the application did client change the identity document with which he applied for the loan\", \"agg\": \"None\"\\n\\n\"feature\": \"DAYS_EMPLOYED\", \"table\": \"application\", \"description\": \"How many days before the application the person started current employment\", \"agg\": \"None\"\\n\\nBUREAU_CREDIT_DEBT_CREDIT_DIFF_MEAN\\nbureau[\"DEBT_CREDIT_DIFF\"] = (\\n        bureau[\"AMT_CREDIT_SUM\"] - bureau[\"AMT_CREDIT_SUM_DEBT\"]\\n    )\\n    \\n# General loans aggregations\\n    agg_bureau = group(bureau, \"BUREAU_\", BUREAU_AGG)\\n    # Active and closed loans aggregations\\n    active = bureau[bureau[\"CREDIT_ACTIVE_Active\"] == 1]\\n    agg_bureau = group_and_merge(\\n        active, agg_bureau, \"BUREAU_ACTIVE_\", BUREAU_ACTIVE_AGG\\n    )\\nBUREAU_AGG = {\\n    \"DEBT_CREDIT_DIFF\": [\"mean\", \"sum\"],\\n    \\n\"feature\": \"AMT_CREDIT_SUM\", \"table\": \"bureau\", \"description\": \"Current credit amount for the Credit Bureau credit\", \"agg\": \"None\"\\n\"feature\": \"AMT_CREDIT_SUM_DEBT\", \"table\": \"bureau\", \"description\": \"Current debt on Credit Bureau credit\", \"agg\": \"None\"  \\n    \\n    \\nPour le Last loan, c\\'est intéressant mais plus compliqué. A priori ce serait le nombre de jours d\\'impayés du dernier emprunt précédent\\ninstallments_payments.csv\\npay[\"DPD\"] = pay[\"DAYS_ENTRY_PAYMENT\"] - pay[\"DAYS_INSTALMENT\"]\\n    pay[\"DPD\"] = pay[\"DPD\"].apply(lambda x: 0 if x <= 0 else x)\\nDAYS_ENTRY_PAYMENT : When was the installments of previous credit paid actually (relative to application date of current loan)\\nDAYS_INSTALMENT : When the installment of previous credit was supposed to be paid (relative to application date of current loan)\\n'"
      ]
     },
     "execution_count": 7,
     "metadata": {},
     "output_type": "execute_result"
    }
   ],
   "source": [
    "\"\"\"\n",
    "\"feature\": \"ORGANIZATION_TYPE\", \"table\": \"application\", \"description\": \"Type of organization where client works\", \"agg\": None\n",
    "\n",
    "CREDIT_TO_ANNUITY_RATIO:\n",
    "bureau[\"CREDIT_TO_ANNUITY_RATIO\"] = bureau[\"AMT_CREDIT_SUM\"] / bureau[\"AMT_ANNUITY\"]\n",
    "prev[\"CREDIT_TO_ANNUITY_RATIO\"] = prev[\"AMT_CREDIT\"] / prev[\"AMT_ANNUITY\"]\n",
    "(df=Application) df[\"CREDIT_TO_ANNUITY_RATIO\"] = df[\"AMT_CREDIT\"] / df[\"AMT_ANNUITY\"]\n",
    "\n",
    "\"feature\": \"AMT_CREDIT\", \"table\": \"application\", \"description\": \"Credit amount of the loan\", \"agg\": None\n",
    "\"feature\": \"AMT_ANNUITY\", \"table\": \"application\", \"description\": \"Loan annuity\", \"agg\": None\n",
    "\n",
    "EXT_SOURCES_MEAN\n",
    "for function_name in [\"min\", \"max\", \"mean\", \"nanmedian\", \"var\"]:\n",
    "        feature_name = \"EXT_SOURCES_{}\".format(function_name.upper())\n",
    "        df[feature_name] = eval(\"np.{}\".format(function_name))(\n",
    "            df[[\"EXT_SOURCE_1\", \"EXT_SOURCE_2\", \"EXT_SOURCE_3\"]], axis=1\n",
    "        )\n",
    "\n",
    "On va éviter une multicolinéarité trop forte en ne prenant pas toutes les features ext_sources. On va garder la EXT_SOURCES_MEAN et la EXT_SOURCE_3\n",
    "\"feature\": \"EXT_SOURCE_1\", \"table\": \"application\", \"description\": \"Normalized score from external data source\", \"agg\": \"None\"\n",
    "\"feature\": \"EXT_SOURCE_2\", \"table\": \"application\", \"description\": \"Normalized score from external data source\", \"agg\": \"None\"\n",
    "\"feature\": \"EXT_SOURCE_3\", \"table\": \"application\", \"description\": \"Normalized score from external data source\", \"agg\": \"None\"\n",
    "\n",
    "\"feature\": \"DAYS_BIRTH\", \"table\": \"application\", \"description\": \"Client's age in days at the time of application\", \"agg\": \"None\"\n",
    "\n",
    "\"feature\": \"DAYS_CREDIT_ENDDATE\", \"table\": \"bureau\", \"description\": \"Remaining duration of CB credit (in days) at the time of application in Home Credit\", \"agg\": \"max\"\n",
    "\n",
    "# On ne garde pas AMT_ANNUITY ?? Faire une matrice de corrélation ?\n",
    "\"feature\": \"AMT_ANNUITY\", \"table\": \"application\", \"description\": \"Loan annuity\", \"agg\": \"None\"\n",
    "\n",
    "CREDIT_TO_GOODS_RATIO\n",
    "df[\"CREDIT_TO_GOODS_RATIO\"] = df[\"AMT_CREDIT\"] / df[\"AMT_GOODS_PRICE\"]\n",
    "\"feature\": \"AMT_CREDIT\", \"table\": \"application\", \"description\": \"Credit amount of the loan\", \"agg\": \"None\"\n",
    "\"feature\": \"AMT_GOODS_PRICE\", \"table\": \"application\", \"description\": \"For consumer loans it is the price of the goods for which the loan is given\", \"agg\": \"None\"\n",
    "\n",
    "\n",
    "\"feature\": \"OCCUPATION_TYPE\", \"table\": \"application\", \"description\": \"What kind of occupation does the client have\", \"agg\": \"None\"\n",
    "\n",
    "\"feature\": \"DAYS_ID_PUBLISH\", \"table\": \"application\", \"description\": \"How many days before the application did client change the identity document with which he applied for the loan\", \"agg\": \"None\"\n",
    "\n",
    "\"feature\": \"DAYS_EMPLOYED\", \"table\": \"application\", \"description\": \"How many days before the application the person started current employment\", \"agg\": \"None\"\n",
    "\n",
    "BUREAU_CREDIT_DEBT_CREDIT_DIFF_MEAN\n",
    "bureau[\"DEBT_CREDIT_DIFF\"] = (\n",
    "        bureau[\"AMT_CREDIT_SUM\"] - bureau[\"AMT_CREDIT_SUM_DEBT\"]\n",
    "    )\n",
    "    \n",
    "# General loans aggregations\n",
    "    agg_bureau = group(bureau, \"BUREAU_\", BUREAU_AGG)\n",
    "    # Active and closed loans aggregations\n",
    "    active = bureau[bureau[\"CREDIT_ACTIVE_Active\"] == 1]\n",
    "    agg_bureau = group_and_merge(\n",
    "        active, agg_bureau, \"BUREAU_ACTIVE_\", BUREAU_ACTIVE_AGG\n",
    "    )\n",
    "BUREAU_AGG = {\n",
    "    \"DEBT_CREDIT_DIFF\": [\"mean\", \"sum\"],\n",
    "    \n",
    "\"feature\": \"AMT_CREDIT_SUM\", \"table\": \"bureau\", \"description\": \"Current credit amount for the Credit Bureau credit\", \"agg\": \"None\"\n",
    "\"feature\": \"AMT_CREDIT_SUM_DEBT\", \"table\": \"bureau\", \"description\": \"Current debt on Credit Bureau credit\", \"agg\": \"None\"  \n",
    "    \n",
    "    \n",
    "Pour le Last loan, c'est intéressant mais plus compliqué. A priori ce serait le nombre de jours d'impayés du dernier emprunt précédent\n",
    "installments_payments.csv\n",
    "pay[\"DPD\"] = pay[\"DAYS_ENTRY_PAYMENT\"] - pay[\"DAYS_INSTALMENT\"]\n",
    "    pay[\"DPD\"] = pay[\"DPD\"].apply(lambda x: 0 if x <= 0 else x)\n",
    "DAYS_ENTRY_PAYMENT : When was the installments of previous credit paid actually (relative to application date of current loan)\n",
    "DAYS_INSTALMENT : When the installment of previous credit was supposed to be paid (relative to application date of current loan)\n",
    "\"\"\""
   ]
  },
  {
   "cell_type": "code",
   "execution_count": null,
   "id": "3e2fd970",
   "metadata": {},
   "outputs": [
    {
     "name": "stderr",
     "output_type": "stream",
     "text": [
      "e:\\Mes Documents\\_Open Classroom\\Code\\p7\\src\\p7_lightgbm.py:538: RuntimeWarning: All-NaN slice encountered\n",
      "  df[feature_name] = eval(\"np.{}\".format(function_name))(\n"
     ]
    },
    {
     "name": "stdout",
     "output_type": "stream",
     "text": [
      "Application dataframe shape:  (356250, 83)\n",
      "application_train and application_test - done in 6s\n",
      "Bureau dataframe shape:  (305811, 156)\n",
      "Bureau and bureau_balance data - done in 15s\n",
      "Previous dataframe shape:  (338857, 225)\n",
      "previous_application - done in 23s\n",
      "Pos-cash dataframe shape:  (337252, 24)\n",
      "Installments dataframe shape:  (339587, 101)\n",
      "Credit card dataframe shape:  (103558, 59)\n",
      "previous applications balances - done in 463s\n",
      "Initial df memory usage is 1791.14 MB for 659 columns\n",
      "Final memory usage is: 714.49 MB - decreased by 60.1%\n",
      "<class 'pandas.core.frame.DataFrame'>\n",
      "RangeIndex: 356250 entries, 0 to 356249\n",
      "Data columns (total 17 columns):\n",
      " #   Column                                   Non-Null Count   Dtype  \n",
      "---  ------                                   --------------   -----  \n",
      " 0   SK_ID_CURR                               356250 non-null  int32  \n",
      " 1   TARGET                                   307506 non-null  float16\n",
      " 2   ORGANIZATION_TYPE                        356250 non-null  int8   \n",
      " 3   CREDIT_TO_ANNUITY_RATIO                  356214 non-null  float16\n",
      " 4   EXT_SOURCES_MEAN                         356071 non-null  float16\n",
      " 5   EXT_SOURCE_3                             286617 non-null  float16\n",
      " 6   EXT_SOURCES_MIN                          356071 non-null  float16\n",
      " 7   BUREAU_CONSUMER_DAYS_CREDIT_ENDDATE_MAX  285837 non-null  float16\n",
      " 8   AMT_ANNUITY                              356214 non-null  float32\n",
      " 9   CREDIT_TO_GOODS_RATIO                    355972 non-null  float16\n",
      " 10  OCCUPATION_TYPE                          356250 non-null  int8   \n",
      " 11  DAYS_ID_PUBLISH                          356250 non-null  int16  \n",
      " 12  DAYS_EMPLOYED                            291602 non-null  float16\n",
      " 13  BUREAU_CREDIT_DEBT_CREDIT_DIFF_MEAN      187548 non-null  float32\n",
      " 14  BUREAU_ACTIVE_DEBT_CREDIT_DIFF_MEAN      239856 non-null  float32\n",
      " 15  ANNUITY_TO_INCOME_RATIO                  356214 non-null  float16\n",
      " 16  AGE                                      356250 non-null  float64\n",
      "dtypes: float16(9), float32(3), float64(1), int16(1), int32(1), int8(2)\n",
      "memory usage: 15.6 MB\n"
     ]
    }
   ],
   "source": [
    "features_old = [\n",
    "    'ORGANIZATION_TYPE',\n",
    "    'CREDIT_TO_ANNUITY_RATIO',\n",
    "    'EXT_SOURCES_MEAN',\n",
    "    'EXT_SOURCE_3',\n",
    "    'DAYS_BIRTH',\n",
    "    'EXT_SOURCES_MIN',\n",
    "    'BUREAU_CONSUMER_DAYS_CREDIT_ENDDATE_MAX',\n",
    "    'AMT_ANNUITY',\n",
    "    'CREDIT_TO_GOODS_RATIO',\n",
    "    'OCCUPATION_TYPE',\n",
    "    'DAYS_ID_PUBLISH',\n",
    "    'DAYS_EMPLOYED',\n",
    "    'BUREAU_CREDIT_DEBT_CREDIT_DIFF_MEAN',\n",
    "    'BUREAU_ACTIVE_DEBT_CREDIT_DIFF_MEAN',\n",
    "    \"ANNUITY_TO_INCOME_RATIO\"\n",
    "    ]\n"
   ]
  },
  {
   "cell_type": "code",
   "execution_count": 52,
   "id": "dc965d12",
   "metadata": {},
   "outputs": [],
   "source": [
    "subdir = \"light_simple/\""
   ]
  },
  {
   "cell_type": "code",
   "execution_count": 53,
   "id": "e5f8a467",
   "metadata": {},
   "outputs": [
    {
     "name": "stdout",
     "output_type": "stream",
     "text": [
      "Forme de train : (191616, 19)\n"
     ]
    },
    {
     "data": {
      "text/html": [
       "<div>\n",
       "<style scoped>\n",
       "    .dataframe tbody tr th:only-of-type {\n",
       "        vertical-align: middle;\n",
       "    }\n",
       "\n",
       "    .dataframe tbody tr th {\n",
       "        vertical-align: top;\n",
       "    }\n",
       "\n",
       "    .dataframe thead th {\n",
       "        text-align: right;\n",
       "    }\n",
       "</style>\n",
       "<table border=\"1\" class=\"dataframe\">\n",
       "  <thead>\n",
       "    <tr style=\"text-align: right;\">\n",
       "      <th></th>\n",
       "      <th>SK_ID_CURR</th>\n",
       "      <th>TARGET</th>\n",
       "      <th>AMT_ANNUITY</th>\n",
       "      <th>DAYS_BIRTH</th>\n",
       "      <th>DAYS_EMPLOYED</th>\n",
       "      <th>DAYS_ID_PUBLISH</th>\n",
       "      <th>EXT_SOURCE_1</th>\n",
       "      <th>EXT_SOURCE_2</th>\n",
       "      <th>EXT_SOURCE_3</th>\n",
       "      <th>ANNUITY_INCOME_PERC</th>\n",
       "      <th>PAYMENT_RATE</th>\n",
       "      <th>BURO_AMT_CREDIT_MAX_OVERDUE_MEAN</th>\n",
       "      <th>ACTIVE_DAYS_CREDIT_MAX</th>\n",
       "      <th>ACTIVE_DAYS_CREDIT_ENDDATE_MIN</th>\n",
       "      <th>CLOSED_DAYS_CREDIT_MAX</th>\n",
       "      <th>CLOSED_DAYS_CREDIT_ENDDATE_MAX</th>\n",
       "      <th>PREV_CNT_PAYMENT_MEAN</th>\n",
       "      <th>APPROVED_CNT_PAYMENT_MEAN</th>\n",
       "      <th>INSTAL_DPD_MEAN</th>\n",
       "    </tr>\n",
       "  </thead>\n",
       "  <tbody>\n",
       "    <tr>\n",
       "      <th>0</th>\n",
       "      <td>100002</td>\n",
       "      <td>1.0</td>\n",
       "      <td>24700.5</td>\n",
       "      <td>-9461</td>\n",
       "      <td>-637.0</td>\n",
       "      <td>-2120</td>\n",
       "      <td>0.083037</td>\n",
       "      <td>0.262949</td>\n",
       "      <td>0.139376</td>\n",
       "      <td>0.121978</td>\n",
       "      <td>0.060749</td>\n",
       "      <td>1681.029</td>\n",
       "      <td>-103.0</td>\n",
       "      <td>780.0</td>\n",
       "      <td>-476.0</td>\n",
       "      <td>85.0</td>\n",
       "      <td>24.0</td>\n",
       "      <td>24.0</td>\n",
       "      <td>0.000000</td>\n",
       "    </tr>\n",
       "    <tr>\n",
       "      <th>1</th>\n",
       "      <td>100003</td>\n",
       "      <td>0.0</td>\n",
       "      <td>35698.5</td>\n",
       "      <td>-16765</td>\n",
       "      <td>-1188.0</td>\n",
       "      <td>-291</td>\n",
       "      <td>0.311267</td>\n",
       "      <td>0.622246</td>\n",
       "      <td>NaN</td>\n",
       "      <td>0.132217</td>\n",
       "      <td>0.027598</td>\n",
       "      <td>0.000</td>\n",
       "      <td>-606.0</td>\n",
       "      <td>1216.0</td>\n",
       "      <td>-775.0</td>\n",
       "      <td>-420.0</td>\n",
       "      <td>10.0</td>\n",
       "      <td>10.0</td>\n",
       "      <td>0.000000</td>\n",
       "    </tr>\n",
       "    <tr>\n",
       "      <th>2</th>\n",
       "      <td>100008</td>\n",
       "      <td>0.0</td>\n",
       "      <td>27517.5</td>\n",
       "      <td>-16941</td>\n",
       "      <td>-1588.0</td>\n",
       "      <td>-477</td>\n",
       "      <td>NaN</td>\n",
       "      <td>0.354225</td>\n",
       "      <td>0.621226</td>\n",
       "      <td>0.277955</td>\n",
       "      <td>0.056101</td>\n",
       "      <td>0.000</td>\n",
       "      <td>-78.0</td>\n",
       "      <td>471.0</td>\n",
       "      <td>-1097.0</td>\n",
       "      <td>-792.0</td>\n",
       "      <td>14.0</td>\n",
       "      <td>14.0</td>\n",
       "      <td>37.628571</td>\n",
       "    </tr>\n",
       "    <tr>\n",
       "      <th>3</th>\n",
       "      <td>100009</td>\n",
       "      <td>0.0</td>\n",
       "      <td>41301.0</td>\n",
       "      <td>-13778</td>\n",
       "      <td>-3130.0</td>\n",
       "      <td>-619</td>\n",
       "      <td>0.774761</td>\n",
       "      <td>0.724000</td>\n",
       "      <td>0.492060</td>\n",
       "      <td>0.241526</td>\n",
       "      <td>0.026463</td>\n",
       "      <td>0.000</td>\n",
       "      <td>-239.0</td>\n",
       "      <td>-209.0</td>\n",
       "      <td>-684.0</td>\n",
       "      <td>1044.0</td>\n",
       "      <td>8.0</td>\n",
       "      <td>8.0</td>\n",
       "      <td>0.137255</td>\n",
       "    </tr>\n",
       "    <tr>\n",
       "      <th>4</th>\n",
       "      <td>100011</td>\n",
       "      <td>0.0</td>\n",
       "      <td>33826.5</td>\n",
       "      <td>-20099</td>\n",
       "      <td>NaN</td>\n",
       "      <td>-3514</td>\n",
       "      <td>0.587334</td>\n",
       "      <td>0.205747</td>\n",
       "      <td>0.751724</td>\n",
       "      <td>0.300680</td>\n",
       "      <td>0.033176</td>\n",
       "      <td>5073.615</td>\n",
       "      <td>NaN</td>\n",
       "      <td>NaN</td>\n",
       "      <td>-1309.0</td>\n",
       "      <td>-860.0</td>\n",
       "      <td>14.0</td>\n",
       "      <td>14.0</td>\n",
       "      <td>7.946154</td>\n",
       "    </tr>\n",
       "  </tbody>\n",
       "</table>\n",
       "</div>"
      ],
      "text/plain": [
       "   SK_ID_CURR  TARGET  AMT_ANNUITY  DAYS_BIRTH  DAYS_EMPLOYED  \\\n",
       "0      100002     1.0      24700.5       -9461         -637.0   \n",
       "1      100003     0.0      35698.5      -16765        -1188.0   \n",
       "2      100008     0.0      27517.5      -16941        -1588.0   \n",
       "3      100009     0.0      41301.0      -13778        -3130.0   \n",
       "4      100011     0.0      33826.5      -20099            NaN   \n",
       "\n",
       "   DAYS_ID_PUBLISH  EXT_SOURCE_1  EXT_SOURCE_2  EXT_SOURCE_3  \\\n",
       "0            -2120      0.083037      0.262949      0.139376   \n",
       "1             -291      0.311267      0.622246           NaN   \n",
       "2             -477           NaN      0.354225      0.621226   \n",
       "3             -619      0.774761      0.724000      0.492060   \n",
       "4            -3514      0.587334      0.205747      0.751724   \n",
       "\n",
       "   ANNUITY_INCOME_PERC  PAYMENT_RATE  BURO_AMT_CREDIT_MAX_OVERDUE_MEAN  \\\n",
       "0             0.121978      0.060749                          1681.029   \n",
       "1             0.132217      0.027598                             0.000   \n",
       "2             0.277955      0.056101                             0.000   \n",
       "3             0.241526      0.026463                             0.000   \n",
       "4             0.300680      0.033176                          5073.615   \n",
       "\n",
       "   ACTIVE_DAYS_CREDIT_MAX  ACTIVE_DAYS_CREDIT_ENDDATE_MIN  \\\n",
       "0                  -103.0                           780.0   \n",
       "1                  -606.0                          1216.0   \n",
       "2                   -78.0                           471.0   \n",
       "3                  -239.0                          -209.0   \n",
       "4                     NaN                             NaN   \n",
       "\n",
       "   CLOSED_DAYS_CREDIT_MAX  CLOSED_DAYS_CREDIT_ENDDATE_MAX  \\\n",
       "0                  -476.0                            85.0   \n",
       "1                  -775.0                          -420.0   \n",
       "2                 -1097.0                          -792.0   \n",
       "3                  -684.0                          1044.0   \n",
       "4                 -1309.0                          -860.0   \n",
       "\n",
       "   PREV_CNT_PAYMENT_MEAN  APPROVED_CNT_PAYMENT_MEAN  INSTAL_DPD_MEAN  \n",
       "0                   24.0                       24.0         0.000000  \n",
       "1                   10.0                       10.0         0.000000  \n",
       "2                   14.0                       14.0        37.628571  \n",
       "3                    8.0                        8.0         0.137255  \n",
       "4                   14.0                       14.0         7.946154  "
      ]
     },
     "execution_count": 53,
     "metadata": {},
     "output_type": "execute_result"
    }
   ],
   "source": [
    "selected_features = joblib.load(os.path.join(MODEL_DIR, subdir, \"selected_features_03.pkl\"))\n",
    "train = pd.read_csv(os.path.join(DATA_INTERIM, \"train_simple_reduced_03.csv\"), usecols=['SK_ID_CURR', 'TARGET'] + selected_features)\n",
    "print(\"Forme de train :\", train.shape)\n",
    "train.head()"
   ]
  },
  {
   "cell_type": "code",
   "execution_count": 54,
   "id": "c625907d",
   "metadata": {},
   "outputs": [
    {
     "name": "stdout",
     "output_type": "stream",
     "text": [
      "Forme de test : (48744, 19)\n"
     ]
    },
    {
     "data": {
      "text/html": [
       "<div>\n",
       "<style scoped>\n",
       "    .dataframe tbody tr th:only-of-type {\n",
       "        vertical-align: middle;\n",
       "    }\n",
       "\n",
       "    .dataframe tbody tr th {\n",
       "        vertical-align: top;\n",
       "    }\n",
       "\n",
       "    .dataframe thead th {\n",
       "        text-align: right;\n",
       "    }\n",
       "</style>\n",
       "<table border=\"1\" class=\"dataframe\">\n",
       "  <thead>\n",
       "    <tr style=\"text-align: right;\">\n",
       "      <th></th>\n",
       "      <th>SK_ID_CURR</th>\n",
       "      <th>TARGET</th>\n",
       "      <th>AMT_ANNUITY</th>\n",
       "      <th>DAYS_BIRTH</th>\n",
       "      <th>DAYS_EMPLOYED</th>\n",
       "      <th>DAYS_ID_PUBLISH</th>\n",
       "      <th>EXT_SOURCE_1</th>\n",
       "      <th>EXT_SOURCE_2</th>\n",
       "      <th>EXT_SOURCE_3</th>\n",
       "      <th>ANNUITY_INCOME_PERC</th>\n",
       "      <th>PAYMENT_RATE</th>\n",
       "      <th>BURO_AMT_CREDIT_MAX_OVERDUE_MEAN</th>\n",
       "      <th>ACTIVE_DAYS_CREDIT_MAX</th>\n",
       "      <th>ACTIVE_DAYS_CREDIT_ENDDATE_MIN</th>\n",
       "      <th>CLOSED_DAYS_CREDIT_MAX</th>\n",
       "      <th>CLOSED_DAYS_CREDIT_ENDDATE_MAX</th>\n",
       "      <th>PREV_CNT_PAYMENT_MEAN</th>\n",
       "      <th>APPROVED_CNT_PAYMENT_MEAN</th>\n",
       "      <th>INSTAL_DPD_MEAN</th>\n",
       "    </tr>\n",
       "  </thead>\n",
       "  <tbody>\n",
       "    <tr>\n",
       "      <th>307507</th>\n",
       "      <td>100001</td>\n",
       "      <td>NaN</td>\n",
       "      <td>20560.5</td>\n",
       "      <td>-19241</td>\n",
       "      <td>-2329.0</td>\n",
       "      <td>-812</td>\n",
       "      <td>0.752614</td>\n",
       "      <td>0.789654</td>\n",
       "      <td>0.159520</td>\n",
       "      <td>0.152300</td>\n",
       "      <td>0.036147</td>\n",
       "      <td>NaN</td>\n",
       "      <td>-49.0</td>\n",
       "      <td>411.0</td>\n",
       "      <td>-857.0</td>\n",
       "      <td>-179.0</td>\n",
       "      <td>8.000000</td>\n",
       "      <td>8.000000</td>\n",
       "      <td>1.571429</td>\n",
       "    </tr>\n",
       "    <tr>\n",
       "      <th>307508</th>\n",
       "      <td>100005</td>\n",
       "      <td>NaN</td>\n",
       "      <td>17370.0</td>\n",
       "      <td>-18064</td>\n",
       "      <td>-4469.0</td>\n",
       "      <td>-1623</td>\n",
       "      <td>0.564990</td>\n",
       "      <td>0.291656</td>\n",
       "      <td>0.432962</td>\n",
       "      <td>0.175455</td>\n",
       "      <td>0.077973</td>\n",
       "      <td>0.0</td>\n",
       "      <td>-62.0</td>\n",
       "      <td>122.0</td>\n",
       "      <td>-373.0</td>\n",
       "      <td>-128.0</td>\n",
       "      <td>12.000000</td>\n",
       "      <td>12.000000</td>\n",
       "      <td>0.111111</td>\n",
       "    </tr>\n",
       "    <tr>\n",
       "      <th>307509</th>\n",
       "      <td>100013</td>\n",
       "      <td>NaN</td>\n",
       "      <td>69777.0</td>\n",
       "      <td>-20038</td>\n",
       "      <td>-4458.0</td>\n",
       "      <td>-3503</td>\n",
       "      <td>NaN</td>\n",
       "      <td>0.699787</td>\n",
       "      <td>0.610991</td>\n",
       "      <td>0.344578</td>\n",
       "      <td>0.105202</td>\n",
       "      <td>19305.0</td>\n",
       "      <td>NaN</td>\n",
       "      <td>NaN</td>\n",
       "      <td>-1210.0</td>\n",
       "      <td>-567.0</td>\n",
       "      <td>17.333333</td>\n",
       "      <td>17.333333</td>\n",
       "      <td>0.541935</td>\n",
       "    </tr>\n",
       "    <tr>\n",
       "      <th>307510</th>\n",
       "      <td>100028</td>\n",
       "      <td>NaN</td>\n",
       "      <td>49018.5</td>\n",
       "      <td>-13976</td>\n",
       "      <td>-1866.0</td>\n",
       "      <td>-4208</td>\n",
       "      <td>0.525734</td>\n",
       "      <td>0.509677</td>\n",
       "      <td>0.612704</td>\n",
       "      <td>0.155614</td>\n",
       "      <td>0.031123</td>\n",
       "      <td>0.0</td>\n",
       "      <td>-269.0</td>\n",
       "      <td>-1105.0</td>\n",
       "      <td>-992.0</td>\n",
       "      <td>-452.0</td>\n",
       "      <td>11.333333</td>\n",
       "      <td>11.333333</td>\n",
       "      <td>0.265487</td>\n",
       "    </tr>\n",
       "    <tr>\n",
       "      <th>307511</th>\n",
       "      <td>100038</td>\n",
       "      <td>NaN</td>\n",
       "      <td>32067.0</td>\n",
       "      <td>-13040</td>\n",
       "      <td>-2191.0</td>\n",
       "      <td>-4262</td>\n",
       "      <td>0.202145</td>\n",
       "      <td>0.425687</td>\n",
       "      <td>NaN</td>\n",
       "      <td>0.178150</td>\n",
       "      <td>0.051266</td>\n",
       "      <td>NaN</td>\n",
       "      <td>NaN</td>\n",
       "      <td>NaN</td>\n",
       "      <td>NaN</td>\n",
       "      <td>NaN</td>\n",
       "      <td>24.000000</td>\n",
       "      <td>12.000000</td>\n",
       "      <td>0.000000</td>\n",
       "    </tr>\n",
       "  </tbody>\n",
       "</table>\n",
       "</div>"
      ],
      "text/plain": [
       "        SK_ID_CURR  TARGET  AMT_ANNUITY  DAYS_BIRTH  DAYS_EMPLOYED  \\\n",
       "307507      100001     NaN      20560.5      -19241        -2329.0   \n",
       "307508      100005     NaN      17370.0      -18064        -4469.0   \n",
       "307509      100013     NaN      69777.0      -20038        -4458.0   \n",
       "307510      100028     NaN      49018.5      -13976        -1866.0   \n",
       "307511      100038     NaN      32067.0      -13040        -2191.0   \n",
       "\n",
       "        DAYS_ID_PUBLISH  EXT_SOURCE_1  EXT_SOURCE_2  EXT_SOURCE_3  \\\n",
       "307507             -812      0.752614      0.789654      0.159520   \n",
       "307508            -1623      0.564990      0.291656      0.432962   \n",
       "307509            -3503           NaN      0.699787      0.610991   \n",
       "307510            -4208      0.525734      0.509677      0.612704   \n",
       "307511            -4262      0.202145      0.425687           NaN   \n",
       "\n",
       "        ANNUITY_INCOME_PERC  PAYMENT_RATE  BURO_AMT_CREDIT_MAX_OVERDUE_MEAN  \\\n",
       "307507             0.152300      0.036147                               NaN   \n",
       "307508             0.175455      0.077973                               0.0   \n",
       "307509             0.344578      0.105202                           19305.0   \n",
       "307510             0.155614      0.031123                               0.0   \n",
       "307511             0.178150      0.051266                               NaN   \n",
       "\n",
       "        ACTIVE_DAYS_CREDIT_MAX  ACTIVE_DAYS_CREDIT_ENDDATE_MIN  \\\n",
       "307507                   -49.0                           411.0   \n",
       "307508                   -62.0                           122.0   \n",
       "307509                     NaN                             NaN   \n",
       "307510                  -269.0                         -1105.0   \n",
       "307511                     NaN                             NaN   \n",
       "\n",
       "        CLOSED_DAYS_CREDIT_MAX  CLOSED_DAYS_CREDIT_ENDDATE_MAX  \\\n",
       "307507                  -857.0                          -179.0   \n",
       "307508                  -373.0                          -128.0   \n",
       "307509                 -1210.0                          -567.0   \n",
       "307510                  -992.0                          -452.0   \n",
       "307511                     NaN                             NaN   \n",
       "\n",
       "        PREV_CNT_PAYMENT_MEAN  APPROVED_CNT_PAYMENT_MEAN  INSTAL_DPD_MEAN  \n",
       "307507               8.000000                   8.000000         1.571429  \n",
       "307508              12.000000                  12.000000         0.111111  \n",
       "307509              17.333333                  17.333333         0.541935  \n",
       "307510              11.333333                  11.333333         0.265487  \n",
       "307511              24.000000                  12.000000         0.000000  "
      ]
     },
     "execution_count": 54,
     "metadata": {},
     "output_type": "execute_result"
    }
   ],
   "source": [
    "test = pd.read_csv(os.path.join(DATA_INTERIM, \"all_data_simple_kernel_ohe.csv\"), usecols=['SK_ID_CURR', 'TARGET'] + selected_features)\n",
    "test = test[test['TARGET'].isnull()]\n",
    "print(\"Forme de test :\", test.shape)\n",
    "test.head()"
   ]
  },
  {
   "cell_type": "code",
   "execution_count": 15,
   "id": "574682c1",
   "metadata": {},
   "outputs": [],
   "source": [
    "# Essai sur un échantillon d'abord\n",
    "n_rows = 30_000\n",
    "X_train = train.drop(columns=[\"SK_ID_CURR\", \"TARGET\"], axis=1)\n",
    "y_train = train[\"TARGET\"]\n",
    "if n_rows:\n",
    "    X_train = X_train.sample(n_rows, random_state=42)\n",
    "    y_train = y_train.sample(n_rows, random_state=42)"
   ]
  },
  {
   "cell_type": "code",
   "execution_count": 16,
   "id": "1fdb8d7e",
   "metadata": {},
   "outputs": [
    {
     "data": {
      "text/plain": [
       "['AMT_ANNUITY',\n",
       " 'DAYS_BIRTH',\n",
       " 'DAYS_EMPLOYED',\n",
       " 'DAYS_ID_PUBLISH',\n",
       " 'EXT_SOURCE_1',\n",
       " 'EXT_SOURCE_2',\n",
       " 'EXT_SOURCE_3',\n",
       " 'ANNUITY_INCOME_PERC',\n",
       " 'PAYMENT_RATE',\n",
       " 'BURO_AMT_CREDIT_MAX_OVERDUE_MEAN',\n",
       " 'ACTIVE_DAYS_CREDIT_MAX',\n",
       " 'ACTIVE_DAYS_CREDIT_ENDDATE_MIN',\n",
       " 'CLOSED_DAYS_CREDIT_MAX',\n",
       " 'CLOSED_DAYS_CREDIT_ENDDATE_MAX',\n",
       " 'PREV_CNT_PAYMENT_MEAN',\n",
       " 'APPROVED_CNT_PAYMENT_MEAN',\n",
       " 'INSTAL_DPD_MEAN']"
      ]
     },
     "execution_count": 16,
     "metadata": {},
     "output_type": "execute_result"
    }
   ],
   "source": [
    "predictors = list(X_train.columns)\n",
    "predictors"
   ]
  },
  {
   "cell_type": "code",
   "execution_count": 17,
   "id": "5c5fc63e",
   "metadata": {},
   "outputs": [
    {
     "name": "stdout",
     "output_type": "stream",
     "text": [
      "<class 'pandas.core.frame.DataFrame'>\n",
      "Index: 30000 entries, 176776 to 159030\n",
      "Data columns (total 17 columns):\n",
      " #   Column                            Non-Null Count  Dtype  \n",
      "---  ------                            --------------  -----  \n",
      " 0   AMT_ANNUITY                       29998 non-null  float64\n",
      " 1   DAYS_BIRTH                        30000 non-null  int64  \n",
      " 2   DAYS_EMPLOYED                     27634 non-null  float64\n",
      " 3   DAYS_ID_PUBLISH                   30000 non-null  int64  \n",
      " 4   EXT_SOURCE_1                      21057 non-null  float64\n",
      " 5   EXT_SOURCE_2                      29959 non-null  float64\n",
      " 6   EXT_SOURCE_3                      25501 non-null  float64\n",
      " 7   ANNUITY_INCOME_PERC               29998 non-null  float64\n",
      " 8   PAYMENT_RATE                      29998 non-null  float64\n",
      " 9   BURO_AMT_CREDIT_MAX_OVERDUE_MEAN  20999 non-null  float64\n",
      " 10  ACTIVE_DAYS_CREDIT_MAX            23650 non-null  float64\n",
      " 11  ACTIVE_DAYS_CREDIT_ENDDATE_MIN    22907 non-null  float64\n",
      " 12  CLOSED_DAYS_CREDIT_MAX            24196 non-null  float64\n",
      " 13  CLOSED_DAYS_CREDIT_ENDDATE_MAX    24084 non-null  float64\n",
      " 14  PREV_CNT_PAYMENT_MEAN             28774 non-null  float64\n",
      " 15  APPROVED_CNT_PAYMENT_MEAN         28732 non-null  float64\n",
      " 16  INSTAL_DPD_MEAN                   28832 non-null  float64\n",
      "dtypes: float64(15), int64(2)\n",
      "memory usage: 4.1 MB\n"
     ]
    }
   ],
   "source": [
    "X_train.info()"
   ]
  },
  {
   "cell_type": "code",
   "execution_count": 18,
   "id": "2f15a0d6",
   "metadata": {},
   "outputs": [],
   "source": [
    "X_test = test.drop(columns=[\"SK_ID_CURR\", \"TARGET\"], axis=1)"
   ]
  },
  {
   "cell_type": "markdown",
   "id": "6f2dbfc6",
   "metadata": {},
   "source": [
    "# Modèle"
   ]
  },
  {
   "cell_type": "markdown",
   "id": "d538668e",
   "metadata": {},
   "source": [
    "Partage du Train en train et validation, séparation de la target (PAS de validation croisée)"
   ]
  },
  {
   "cell_type": "code",
   "execution_count": 55,
   "id": "238553dc",
   "metadata": {},
   "outputs": [
    {
     "name": "stdout",
     "output_type": "stream",
     "text": [
      "Forme du jeu de validation : (47904, 17)\n",
      "Forme de Target de validation : (47904,)\n",
      "\n",
      "Forme du jeu d'entraînement' : (143712, 17)\n",
      "Forme de Target d'entraînement' : (143712,)\n"
     ]
    }
   ],
   "source": [
    "train, val = train_test_split(train, test_size=0.25, stratify=train['TARGET'], shuffle=True, random_state=42)\n",
    "\n",
    "y_train = train['TARGET']\n",
    "y_val = val['TARGET']\n",
    "X_train = train.drop('TARGET', axis=1).set_index('SK_ID_CURR')\n",
    "X_val = val.drop('TARGET', axis=1).set_index('SK_ID_CURR')\n",
    "\n",
    "# Imputation avec la médiane\n",
    "median_imputer = SimpleImputer(strategy='median')\n",
    "median_imputer.fit(X_train)\n",
    "X_train_imputed = median_imputer.transform(X_train)\n",
    "X_val_imputed = median_imputer.transform(X_val)\n",
    "\n",
    "X_val.to_csv(os.path.join(DATA_INTERIM, \"X_val.csv\"))\n",
    "print(\"Forme du jeu de validation :\", X_val.shape)\n",
    "y_val.to_csv(os.path.join(DATA_INTERIM, \"y_val.csv\"))\n",
    "print(\"Forme de Target de validation :\", y_val.shape)\n",
    "\n",
    "X_train.to_csv(os.path.join(DATA_INTERIM, \"X_train.csv\"))\n",
    "print(\"\\nForme du jeu d'entraînement' :\", X_train.shape)\n",
    "y_train.to_csv(os.path.join(DATA_INTERIM, \"y_train.csv\"))\n",
    "print(\"Forme de Target d'entraînement' :\", y_train.shape)"
   ]
  },
  {
   "cell_type": "markdown",
   "id": "1c75158a",
   "metadata": {},
   "source": [
    "# Imputation"
   ]
  },
  {
   "cell_type": "code",
   "execution_count": 19,
   "id": "82d5a2a2",
   "metadata": {},
   "outputs": [],
   "source": [
    "\"\"\"median_imputer = SimpleImputer(strategy='median')\n",
    "median_imputer.fit(X_train)\n",
    "X_train_imputed = median_imputer.transform(X_train)\n",
    "X_test_imputed = median_imputer.transform(X_test)\"\"\""
   ]
  },
  {
   "cell_type": "markdown",
   "id": "206a2f30",
   "metadata": {},
   "source": [
    "# Fonctions d'apprentissage et metrique  MLFlow"
   ]
  },
  {
   "cell_type": "markdown",
   "id": "4b7790ed",
   "metadata": {},
   "source": [
    "fonction d'apprentissage MLFlow"
   ]
  },
  {
   "cell_type": "code",
   "execution_count": 56,
   "id": "a9ea7fe1",
   "metadata": {},
   "outputs": [],
   "source": [
    "def train_mlflow(sk_model, X_train, y_train):\n",
    "    sk_model = sk_model.fit(X_train, y_train)\n",
    "    \n",
    "    train_acc = sk_model.score(X_train, y_train)\n",
    "    mlflow.log_metric(\"train_acc\", train_acc)\n",
    "    \n",
    "    print(f\"Train Accuracy:{train_acc:.3%}\")"
   ]
  },
  {
   "cell_type": "markdown",
   "id": "d8e70c8f",
   "metadata": {},
   "source": [
    "Métrique MLFlow"
   ]
  },
  {
   "cell_type": "code",
   "execution_count": null,
   "id": "7d9a52b9",
   "metadata": {},
   "outputs": [],
   "source": [
    "# [TODO]\n",
    "# Définir ici une métrique spéciale qui pénalise le recall des defaut ?\n",
    "# Pour l'instant on met l'accuracy, MLFlow devrait tracer ça pour chaque run"
   ]
  },
  {
   "cell_type": "markdown",
   "id": "012a18df",
   "metadata": {},
   "source": [
    "# Fonction d'évaluation MLFlow"
   ]
  },
  {
   "cell_type": "code",
   "execution_count": 72,
   "id": "f07c982d",
   "metadata": {},
   "outputs": [],
   "source": [
    "def plot_roc_curve(sk_model, X_test, y_test):\n",
    "    preds = sk_model.predict_proba(X_test)[:,1]\n",
    "    fpr, tpr, _ = roc_curve(y_test, preds)\n",
    "    plt.plot(fpr, tpr, label='ROC Curve (sklearn)')\n",
    "    plt.plot([0, 1], [0, 1], linestyle='--', color='grey')\n",
    "    plt.xlabel('False Positive Rate')\n",
    "    plt.ylabel('True Positive Rate')\n",
    "    plt.title('Receiver Operating Characteristic (ROC) Curve')\n",
    "    plt.legend()\n",
    "    plt.grid(True)\n",
    "    #plt.savefig(os.path.join(MODEL_DIR, \"model_test_mlflow_roc_curve.png\"))\n",
    "    "
   ]
  },
  {
   "cell_type": "code",
   "execution_count": 91,
   "id": "85b2660e",
   "metadata": {},
   "outputs": [],
   "source": [
    "def plot_confusion_matrix(y_true, y_pred, figsize=(5, 4)):\n",
    "    conf_mat = confusion_matrix(y_true, y_pred)\n",
    "    conf_mat_df = pd.DataFrame(\n",
    "        conf_mat,\n",
    "        index=[\"Ok\", \"Défaut\"],\n",
    "        columns=[\"Ok\", \"Défaut\"],\n",
    "        )\n",
    "    fig, ax = plt.subplots(figsize=figsize)\n",
    "    sns.heatmap(\n",
    "        conf_mat_df,\n",
    "        annot=True,\n",
    "        fmt=\".0f\",\n",
    "        vmin=0,\n",
    "        linewidths=0.5,\n",
    "        cmap=\"Blues\",\n",
    "        # cbar_kws={\"format\": self.format_percent},\n",
    "        ax=ax,\n",
    "    )\n",
    "    fig.suptitle(\"Matrice de confusion\")\n",
    "    plt.yticks(rotation=0)\n",
    "    ax.set_xlabel(\"Prédiction\")\n",
    "    ax.set_ylabel(\"Vraie catégorie\")\n",
    "    return fig"
   ]
  },
  {
   "cell_type": "code",
   "execution_count": 117,
   "id": "bc1ac585",
   "metadata": {},
   "outputs": [],
   "source": [
    "def format_percent(x, _):\n",
    "        return f\"{x * 100:.0f}%\"\n",
    "\n",
    "def plot_precision(y_true, y_pred, figsize=(5, 4)):\n",
    "    conf_mat = confusion_matrix(y_true, y_pred, normalize=\"pred\")\n",
    "    conf_mat_df = pd.DataFrame(\n",
    "        conf_mat,\n",
    "        index=[\"Ok\", \"Défaut\"],\n",
    "        columns=[\"Ok\", \"Défaut\"],\n",
    "        )\n",
    "    fig, ax = plt.subplots(figsize=figsize)\n",
    "    sns.heatmap(\n",
    "        conf_mat_df,\n",
    "        annot=True,\n",
    "        fmt=\".0%\",\n",
    "        vmin=0,\n",
    "        vmax=1,\n",
    "        linewidths=0.5,\n",
    "        cmap=\"Blues\",\n",
    "        cbar_kws={\"format\": format_percent},\n",
    "        ax=ax,\n",
    "    )\n",
    "    fig.suptitle(\"Matrice de confusion en % par colonne (Précision)\")\n",
    "    plt.yticks(rotation=0)\n",
    "    ax.set_xlabel(\"Prédiction\")\n",
    "    ax.set_ylabel(\"Vraie catégorie\")\n",
    "    return fig\n",
    "\n",
    "\n",
    "def plot_recall(y_true, y_pred, figsize=(5, 4)):\n",
    "    conf_mat = confusion_matrix(y_true, y_pred, normalize=\"true\")\n",
    "    conf_mat_df = pd.DataFrame(\n",
    "        conf_mat,\n",
    "        index=[\"Ok\", \"Défaut\"],\n",
    "        columns=[\"Ok\", \"Défaut\"],\n",
    "        )\n",
    "    fig, ax = plt.subplots(figsize=figsize)\n",
    "    sns.heatmap(\n",
    "        conf_mat_df,\n",
    "        annot=True,\n",
    "        fmt=\".0%\",\n",
    "        vmin=0,\n",
    "        vmax=1,\n",
    "        linewidths=0.5,\n",
    "        cmap=\"Blues\",\n",
    "        cbar_kws={\"format\": format_percent},\n",
    "        ax=ax,\n",
    "    )\n",
    "    fig.suptitle(\"Matrice de confusion en % par ligne (Recall)\")\n",
    "    plt.yticks(rotation=0)\n",
    "    ax.set_xlabel(\"Prédiction\")\n",
    "    ax.set_ylabel(\"Vraie catégorie\")\n",
    "    return fig"
   ]
  },
  {
   "cell_type": "code",
   "execution_count": 77,
   "id": "055d5fda",
   "metadata": {},
   "outputs": [],
   "source": [
    "def custom_f1(tn, fp, fn, tp, weight_fn=0.9):\n",
    "    # f1 standard = 2 * tp / (2 * tp + fp + fn)\n",
    "    weighted_f1 = 2 * tp / (2 * tp + weight_fn * fn  + (1 - weight_fn) * fp)\n",
    "    return weighted_f1"
   ]
  },
  {
   "cell_type": "code",
   "execution_count": 25,
   "id": "e7a0920e",
   "metadata": {},
   "outputs": [],
   "source": [
    "#from sklearn.metrics import classification_report"
   ]
  },
  {
   "cell_type": "code",
   "execution_count": 118,
   "id": "3b50fe7f",
   "metadata": {},
   "outputs": [],
   "source": [
    "def evaluate_mlflow(sk_model, X_val, y_val):\n",
    "    eval_acc = sk_model.score(X_val, y_val)\n",
    "    \n",
    "    preds = sk_model.predict(X_val)\n",
    "    auc_score = roc_auc_score(y_val, preds)\n",
    "    \n",
    "    # On extrait les valeurs de la matrice de confusion\n",
    "    conf_matrix = confusion_matrix(y_val, preds)\n",
    "    tn, fp, fn, tp = conf_matrix.ravel()\n",
    "    weighted_f1 = custom_f1(tn, fp, fn, tp)\n",
    "    \n",
    "    dic_metrics = {\"eval_acc\": eval_acc, \"roc_auc_score\": auc_score, \"weighted_f1\": weighted_f1}\n",
    "    \n",
    "        \n",
    "    print(f\"Auc Score: {auc_score:.3%}\")\n",
    "    print(f\"Eval Accuracy: {eval_acc:.3%}\")\n",
    "    print(f\"Weighted f1: {weighted_f1:.3%}\")\n",
    "    # Plot de la courbe ROC\n",
    "    plot_roc_curve(\n",
    "        sk_model,\n",
    "        X_val,\n",
    "        y_val,\n",
    "        #name = 'ROC Curve (sklearn)',\n",
    "        )\n",
    "    plt.savefig(os.path.join(MODEL_DIR, \"model_test_mlflow_roc_curve.png\"))\n",
    "    \n",
    "    \n",
    "    # Plot Matrice de confusion\n",
    "    plot_confusion_matrix(y_val, preds)\n",
    "    plt.savefig(os.path.join(MODEL_DIR, \"model_test_mlflow_conf_matrix.png\"))\n",
    "    \n",
    "    # Plot Matrice de confusion normalisée True\n",
    "    plot_recall(y_val, preds)\n",
    "    plt.savefig(os.path.join(MODEL_DIR, \"model_test_mlflow_recall.png\"))\n",
    "    \n",
    "    # Plot Matrice de confusion normalisée Pred\n",
    "    plot_precision(y_val, preds)\n",
    "    \n",
    "    report = classification_report(y_val, preds)\n",
    "    print(report)\n",
    "    \n",
    "    # Traçage mlflow\n",
    "    mlflow.log_artifact(os.path.join(MODEL_DIR, \"model_test_mlflow_roc_curve.png\"))\n",
    "    mlflow.log_artifact(os.path.join(MODEL_DIR, \"model_test_mlflow_conf_matrix.png\"))\n",
    "    mlflow.log_artifact(os.path.join(MODEL_DIR, \"model_test_mlflow_recall.png\"))\n",
    "    return dic_metrics"
   ]
  },
  {
   "cell_type": "markdown",
   "id": "34baf5b1",
   "metadata": {},
   "source": [
    "# Premier modèle pour tester ML FLOW"
   ]
  },
  {
   "cell_type": "code",
   "execution_count": 79,
   "id": "aaf8b971",
   "metadata": {},
   "outputs": [],
   "source": [
    "sk_model = LogisticRegression(\n",
    "    max_iter=400,\n",
    "    solver='newton-cg',\n",
    "    random_state=42,\n",
    ")"
   ]
  },
  {
   "cell_type": "code",
   "execution_count": 80,
   "id": "8c5313c5",
   "metadata": {},
   "outputs": [
    {
     "data": {
      "text/plain": [
       "{'C': 1.0,\n",
       " 'class_weight': None,\n",
       " 'dual': False,\n",
       " 'fit_intercept': True,\n",
       " 'intercept_scaling': 1,\n",
       " 'l1_ratio': None,\n",
       " 'max_iter': 400,\n",
       " 'multi_class': 'auto',\n",
       " 'n_jobs': None,\n",
       " 'penalty': 'l2',\n",
       " 'random_state': 42,\n",
       " 'solver': 'newton-cg',\n",
       " 'tol': 0.0001,\n",
       " 'verbose': 0,\n",
       " 'warm_start': False}"
      ]
     },
     "execution_count": 80,
     "metadata": {},
     "output_type": "execute_result"
    }
   ],
   "source": [
    "sk_model.get_params()"
   ]
  },
  {
   "cell_type": "markdown",
   "id": "f96d3bd9",
   "metadata": {},
   "source": [
    "# Première expérience mlflow"
   ]
  },
  {
   "cell_type": "code",
   "execution_count": null,
   "id": "e115bb2e",
   "metadata": {},
   "outputs": [],
   "source": [
    "\"\"\"\n",
    "Démarrer un serveur mlflow local en ligne de commande :\n",
    "mlflow server --host 127.0.0.1 --port 8080\n",
    "\"\"\""
   ]
  },
  {
   "cell_type": "code",
   "execution_count": 115,
   "id": "0b43432d",
   "metadata": {},
   "outputs": [],
   "source": [
    "# Use the fluent API to set the tracking uri and the active experiment\n",
    "mlflow.set_tracking_uri(LOCAL_URI)"
   ]
  },
  {
   "cell_type": "code",
   "execution_count": 119,
   "id": "dd62650b",
   "metadata": {},
   "outputs": [
    {
     "name": "stderr",
     "output_type": "stream",
     "text": [
      "2024/05/03 11:17:00 INFO mlflow.tracking.fluent: Experiment with name 'Régression Logistique' does not exist. Creating a new experiment.\n",
      "e:\\Mes Documents\\_Open Classroom\\Code\\p7\\p7env\\lib\\site-packages\\scipy\\optimize\\_linesearch.py:313: LineSearchWarning: The line search algorithm did not converge\n",
      "  alpha_star, phi_star, old_fval, derphi_star = scalar_search_wolfe2(\n",
      "e:\\Mes Documents\\_Open Classroom\\Code\\p7\\p7env\\lib\\site-packages\\sklearn\\utils\\optimize.py:74: LineSearchWarning: The line search algorithm did not converge\n",
      "  ret = line_search_wolfe2(\n"
     ]
    },
    {
     "name": "stdout",
     "output_type": "stream",
     "text": [
      "Train Accuracy:87.094%\n",
      "Auc Score: 51.379%\n",
      "Eval Accuracy: 87.141%\n",
      "Weighted f1: 6.641%\n"
     ]
    },
    {
     "data": {
      "image/png": "[encoded data removed]",
      "text/plain": [
       "<Figure size 640x480 with 1 Axes>"
      ]
     },
     "metadata": {},
     "output_type": "display_data"
    },
    {
     "name": "stdout",
     "output_type": "stream",
     "text": [
      "              precision    recall  f1-score   support\n",
      "\n",
      "         0.0       0.87      1.00      0.93     41698\n",
      "         1.0       0.57      0.03      0.06      6206\n",
      "\n",
      "    accuracy                           0.87     47904\n",
      "   macro avg       0.72      0.51      0.49     47904\n",
      "weighted avg       0.83      0.87      0.82     47904\n",
      "\n",
      "Model run: e77706ea94f840598148031f18b64222\n",
      "run.info : <RunInfo: artifact_uri='mlflow-artifacts:/127285067532811628/e77706ea94f840598148031f18b64222/artifacts', end_time=None, experiment_id='127285067532811628', lifecycle_stage='active', run_id='e77706ea94f840598148031f18b64222', run_name='Premier run expérimental', run_uuid='e77706ea94f840598148031f18b64222', start_time=1714727820859, status='RUNNING', user_id='Ariane'>\n"
     ]
    },
    {
     "name": "stderr",
     "output_type": "stream",
     "text": [
      "e:\\Mes Documents\\_Open Classroom\\Code\\p7\\p7env\\lib\\site-packages\\_distutils_hack\\__init__.py:18: UserWarning: Distutils was imported before Setuptools, but importing Setuptools also replaces the `distutils` module in `sys.modules`. This may lead to undesirable behaviors or errors. To avoid these issues, avoid using distutils directly, ensure that setuptools is installed in the traditional way (e.g. not an editable install), and/or make sure that setuptools is always imported before distutils.\n",
      "  warnings.warn(\n",
      "e:\\Mes Documents\\_Open Classroom\\Code\\p7\\p7env\\lib\\site-packages\\_distutils_hack\\__init__.py:33: UserWarning: Setuptools is replacing distutils.\n",
      "  warnings.warn(\"Setuptools is replacing distutils.\")\n"
     ]
    },
    {
     "data": {
      "text/plain": [
       "<Figure size 640x480 with 0 Axes>"
      ]
     },
     "metadata": {},
     "output_type": "display_data"
    },
    {
     "data": {
      "image/png": "[encoded data removed]",
      "text/plain": [
       "<Figure size 500x400 with 2 Axes>"
      ]
     },
     "metadata": {},
     "output_type": "display_data"
    },
    {
     "data": {
      "image/png": "[encoded data removed]",
      "text/plain": [
       "<Figure size 500x400 with 2 Axes>"
      ]
     },
     "metadata": {},
     "output_type": "display_data"
    },
    {
     "data": {
      "image/png": "[encoded data removed]",
      "text/plain": [
       "<Figure size 500x400 with 2 Axes>"
      ]
     },
     "metadata": {},
     "output_type": "display_data"
    }
   ],
   "source": [
    "# Traçage de l'expérience\n",
    "mlflow.set_experiment(\"Régression Logistique\")\n",
    "with mlflow.start_run(run_name=\"Premier run expérimental\") as run:\n",
    "    # Entraînement\n",
    "    train_mlflow(sk_model, X_train_imputed, y_train)\n",
    "    # Validation\n",
    "    dic_metrics = evaluate_mlflow(sk_model, X_val_imputed, y_val)\n",
    "    \n",
    "    # Log  metrics that were calculated during validation\n",
    "    mlflow.log_metrics(dic_metrics)\n",
    "    # Log the parameters used for the model fit\n",
    "    mlflow.log_params(sk_model.get_params())\n",
    "    # Log an instance of the trained model for later use\n",
    "    #mlflow.sklearn.log_model(sk_model=rf, input_example=X_val, artifact_path=artifact_path)\n",
    "    mlflow.sklearn.log_model(sk_model, \"Test 0 de mlflow sur une reg log\")\n",
    "    print(\"Model run:\", mlflow.active_run().info.run_uuid)\n",
    "    print(\"run.info :\", run.info)\n",
    "# Force mlflow à terminer le run même s'il y a une erreur dedans\n",
    "mlflow.end_run()\n",
    "\n"
   ]
  },
  {
   "cell_type": "markdown",
   "id": "0afaed1b",
   "metadata": {},
   "source": [
    "Voir le résultat dans un navigateur\n",
    "Dans firefox, http://127.0.0.1:8080"
   ]
  },
  {
   "cell_type": "markdown",
   "id": "df1962ba",
   "metadata": {},
   "source": [
    "# Sauvegarde du modèle"
   ]
  },
  {
   "cell_type": "code",
   "execution_count": 42,
   "id": "a1f47e15",
   "metadata": {},
   "outputs": [
    {
     "data": {
      "text/plain": [
       "['models/clf_reglog_test0.pkl']"
      ]
     },
     "execution_count": 42,
     "metadata": {},
     "output_type": "execute_result"
    }
   ],
   "source": [
    "joblib.dump(sk_model, os.path.join(MODEL_DIR, \"clf_reglog_test0.pkl\"))"
   ]
  },
  {
   "cell_type": "markdown",
   "id": "2aee068a",
   "metadata": {},
   "source": [
    "# Recherche d'un Run"
   ]
  },
  {
   "cell_type": "code",
   "execution_count": null,
   "id": "66ef5617",
   "metadata": {},
   "outputs": [],
   "source": [
    "# Le client c'est pour interroger mlflow\n",
    "# For example, the following code snippet search for runs that has the best validation loss among all runs in the experiment.\n",
    "client = mlflow.tracking.MlflowClient()\n",
    "experiment_id = \"0\"\n",
    "best_run = client.search_runs(\n",
    "    experiment_id, order_by=[\"metrics.val_loss ASC\"], max_results=1\n",
    ")[0]\n",
    "print(best_run.info)\n",
    "# {'run_id': '...', 'metrics': {'val_loss': 0.123}, ...}\n"
   ]
  },
  {
   "cell_type": "markdown",
   "id": "9cdd4723",
   "metadata": {},
   "source": [
    "# Test du modèle"
   ]
  },
  {
   "cell_type": "markdown",
   "id": "53d8d795",
   "metadata": {},
   "source": [
    "Charger un modèle loggé"
   ]
  },
  {
   "cell_type": "code",
   "execution_count": 53,
   "id": "5c063856",
   "metadata": {},
   "outputs": [
    {
     "ename": "MlflowException",
     "evalue": "Not a proper runs:/ URI: runs://a1c3ff54285f47fa88f5d823d08dc943/. Runs URIs must be of the form 'runs:/<run_id>/run-relative/path/to/artifact'",
     "output_type": "error",
     "traceback": [
      "\u001b[1;31m---------------------------------------------------------------------------\u001b[0m",
      "\u001b[1;31mMlflowException\u001b[0m                           Traceback (most recent call last)",
      "Cell \u001b[1;32mIn[53], line 1\u001b[0m\n\u001b[1;32m----> 1\u001b[0m loaded_model \u001b[38;5;241m=\u001b[39m \u001b[43mmlflow\u001b[49m\u001b[38;5;241;43m.\u001b[39;49m\u001b[43msklearn\u001b[49m\u001b[38;5;241;43m.\u001b[39;49m\u001b[43mload_model\u001b[49m\u001b[43m(\u001b[49m\n\u001b[0;32m      2\u001b[0m \u001b[43m    \u001b[49m\u001b[38;5;66;43;03m#\"runs://a1c3ff54285f47fa88f5d823d08dc943/'Test 0 de mlflow sur une reg log'\"\u001b[39;49;00m\n\u001b[0;32m      3\u001b[0m \u001b[43m    \u001b[49m\u001b[38;5;66;43;03m#\"mlruns/935863330358510444/a1c3ff54285f47fa88f5d823d08dc943/artifacts\"\u001b[39;49;00m\n\u001b[0;32m      4\u001b[0m \u001b[43m    \u001b[49m\u001b[38;5;124;43m\"\u001b[39;49m\u001b[38;5;124;43mruns://a1c3ff54285f47fa88f5d823d08dc943/artifacts\u001b[39;49m\u001b[38;5;124;43m\"\u001b[39;49m\n\u001b[0;32m      5\u001b[0m \u001b[43m)\u001b[49m\n",
      "File \u001b[1;32me:\\Mes Documents\\_Open Classroom\\Code\\p7\\p7env\\lib\\site-packages\\mlflow\\sklearn\\__init__.py:635\u001b[0m, in \u001b[0;36mload_model\u001b[1;34m(model_uri, dst_path)\u001b[0m\n\u001b[0;32m    600\u001b[0m \u001b[38;5;28;01mdef\u001b[39;00m \u001b[38;5;21mload_model\u001b[39m(model_uri, dst_path\u001b[38;5;241m=\u001b[39m\u001b[38;5;28;01mNone\u001b[39;00m):\n\u001b[0;32m    601\u001b[0m \u001b[38;5;250m    \u001b[39m\u001b[38;5;124;03m\"\"\"\u001b[39;00m\n\u001b[0;32m    602\u001b[0m \u001b[38;5;124;03m    Load a scikit-learn model from a local file or a run.\u001b[39;00m\n\u001b[0;32m    603\u001b[0m \n\u001b[1;32m   (...)\u001b[0m\n\u001b[0;32m    633\u001b[0m \u001b[38;5;124;03m        predictions = sk_model.predict(pandas_df)\u001b[39;00m\n\u001b[0;32m    634\u001b[0m \u001b[38;5;124;03m    \"\"\"\u001b[39;00m\n\u001b[1;32m--> 635\u001b[0m     local_model_path \u001b[38;5;241m=\u001b[39m \u001b[43m_download_artifact_from_uri\u001b[49m\u001b[43m(\u001b[49m\u001b[43martifact_uri\u001b[49m\u001b[38;5;241;43m=\u001b[39;49m\u001b[43mmodel_uri\u001b[49m\u001b[43m,\u001b[49m\u001b[43m \u001b[49m\u001b[43moutput_path\u001b[49m\u001b[38;5;241;43m=\u001b[39;49m\u001b[43mdst_path\u001b[49m\u001b[43m)\u001b[49m\n\u001b[0;32m    636\u001b[0m     flavor_conf \u001b[38;5;241m=\u001b[39m _get_flavor_configuration(model_path\u001b[38;5;241m=\u001b[39mlocal_model_path, flavor_name\u001b[38;5;241m=\u001b[39mFLAVOR_NAME)\n\u001b[0;32m    637\u001b[0m     _add_code_from_conf_to_system_path(local_model_path, flavor_conf)\n",
      "File \u001b[1;32me:\\Mes Documents\\_Open Classroom\\Code\\p7\\p7env\\lib\\site-packages\\mlflow\\tracking\\artifact_utils.py:106\u001b[0m, in \u001b[0;36m_download_artifact_from_uri\u001b[1;34m(artifact_uri, output_path)\u001b[0m\n\u001b[0;32m     99\u001b[0m \u001b[38;5;250m\u001b[39m\u001b[38;5;124;03m\"\"\"\u001b[39;00m\n\u001b[0;32m    100\u001b[0m \u001b[38;5;124;03mArgs:\u001b[39;00m\n\u001b[0;32m    101\u001b[0m \u001b[38;5;124;03m    artifact_uri: The *absolute* URI of the artifact to download.\u001b[39;00m\n\u001b[0;32m    102\u001b[0m \u001b[38;5;124;03m    output_path: The local filesystem path to which to download the artifact. If unspecified,\u001b[39;00m\n\u001b[0;32m    103\u001b[0m \u001b[38;5;124;03m        a local output path will be created.\u001b[39;00m\n\u001b[0;32m    104\u001b[0m \u001b[38;5;124;03m\"\"\"\u001b[39;00m\n\u001b[0;32m    105\u001b[0m root_uri, artifact_path \u001b[38;5;241m=\u001b[39m _get_root_uri_and_artifact_path(artifact_uri)\n\u001b[1;32m--> 106\u001b[0m \u001b[38;5;28;01mreturn\u001b[39;00m \u001b[43mget_artifact_repository\u001b[49m\u001b[43m(\u001b[49m\u001b[43martifact_uri\u001b[49m\u001b[38;5;241;43m=\u001b[39;49m\u001b[43mroot_uri\u001b[49m\u001b[43m)\u001b[49m\u001b[38;5;241m.\u001b[39mdownload_artifacts(\n\u001b[0;32m    107\u001b[0m     artifact_path\u001b[38;5;241m=\u001b[39martifact_path, dst_path\u001b[38;5;241m=\u001b[39moutput_path\n\u001b[0;32m    108\u001b[0m )\n",
      "File \u001b[1;32me:\\Mes Documents\\_Open Classroom\\Code\\p7\\p7env\\lib\\site-packages\\mlflow\\store\\artifact\\artifact_repository_registry.py:124\u001b[0m, in \u001b[0;36mget_artifact_repository\u001b[1;34m(artifact_uri)\u001b[0m\n\u001b[0;32m    111\u001b[0m \u001b[38;5;28;01mdef\u001b[39;00m \u001b[38;5;21mget_artifact_repository\u001b[39m(artifact_uri: \u001b[38;5;28mstr\u001b[39m) \u001b[38;5;241m-\u001b[39m\u001b[38;5;241m>\u001b[39m ArtifactRepository:\n\u001b[0;32m    112\u001b[0m \u001b[38;5;250m    \u001b[39m\u001b[38;5;124;03m\"\"\"\u001b[39;00m\n\u001b[0;32m    113\u001b[0m \u001b[38;5;124;03m    Get an artifact repository from the registry based on the scheme of artifact_uri\u001b[39;00m\n\u001b[0;32m    114\u001b[0m \n\u001b[1;32m   (...)\u001b[0m\n\u001b[0;32m    122\u001b[0m \u001b[38;5;124;03m        requirements.\u001b[39;00m\n\u001b[0;32m    123\u001b[0m \u001b[38;5;124;03m    \"\"\"\u001b[39;00m\n\u001b[1;32m--> 124\u001b[0m     \u001b[38;5;28;01mreturn\u001b[39;00m \u001b[43m_artifact_repository_registry\u001b[49m\u001b[38;5;241;43m.\u001b[39;49m\u001b[43mget_artifact_repository\u001b[49m\u001b[43m(\u001b[49m\u001b[43martifact_uri\u001b[49m\u001b[43m)\u001b[49m\n",
      "File \u001b[1;32me:\\Mes Documents\\_Open Classroom\\Code\\p7\\p7env\\lib\\site-packages\\mlflow\\store\\artifact\\artifact_repository_registry.py:77\u001b[0m, in \u001b[0;36mArtifactRepositoryRegistry.get_artifact_repository\u001b[1;34m(self, artifact_uri)\u001b[0m\n\u001b[0;32m     72\u001b[0m \u001b[38;5;28;01mif\u001b[39;00m repository \u001b[38;5;129;01mis\u001b[39;00m \u001b[38;5;28;01mNone\u001b[39;00m:\n\u001b[0;32m     73\u001b[0m     \u001b[38;5;28;01mraise\u001b[39;00m MlflowException(\n\u001b[0;32m     74\u001b[0m         \u001b[38;5;124mf\u001b[39m\u001b[38;5;124m\"\u001b[39m\u001b[38;5;124mCould not find a registered artifact repository for: \u001b[39m\u001b[38;5;132;01m{\u001b[39;00martifact_uri\u001b[38;5;132;01m}\u001b[39;00m\u001b[38;5;124m. \u001b[39m\u001b[38;5;124m\"\u001b[39m\n\u001b[0;32m     75\u001b[0m         \u001b[38;5;124mf\u001b[39m\u001b[38;5;124m\"\u001b[39m\u001b[38;5;124mCurrently registered schemes are: \u001b[39m\u001b[38;5;132;01m{\u001b[39;00m\u001b[38;5;28mlist\u001b[39m(\u001b[38;5;28mself\u001b[39m\u001b[38;5;241m.\u001b[39m_registry\u001b[38;5;241m.\u001b[39mkeys())\u001b[38;5;132;01m}\u001b[39;00m\u001b[38;5;124m\"\u001b[39m\n\u001b[0;32m     76\u001b[0m     )\n\u001b[1;32m---> 77\u001b[0m \u001b[38;5;28;01mreturn\u001b[39;00m \u001b[43mrepository\u001b[49m\u001b[43m(\u001b[49m\u001b[43martifact_uri\u001b[49m\u001b[43m)\u001b[49m\n",
      "File \u001b[1;32me:\\Mes Documents\\_Open Classroom\\Code\\p7\\p7env\\lib\\site-packages\\mlflow\\store\\artifact\\runs_artifact_repo.py:26\u001b[0m, in \u001b[0;36mRunsArtifactRepository.__init__\u001b[1;34m(self, artifact_uri)\u001b[0m\n\u001b[0;32m     23\u001b[0m \u001b[38;5;28;01mfrom\u001b[39;00m \u001b[38;5;21;01mmlflow\u001b[39;00m\u001b[38;5;21;01m.\u001b[39;00m\u001b[38;5;21;01mstore\u001b[39;00m\u001b[38;5;21;01m.\u001b[39;00m\u001b[38;5;21;01martifact\u001b[39;00m\u001b[38;5;21;01m.\u001b[39;00m\u001b[38;5;21;01martifact_repository_registry\u001b[39;00m \u001b[38;5;28;01mimport\u001b[39;00m get_artifact_repository\n\u001b[0;32m     25\u001b[0m \u001b[38;5;28msuper\u001b[39m()\u001b[38;5;241m.\u001b[39m\u001b[38;5;21m__init__\u001b[39m(artifact_uri)\n\u001b[1;32m---> 26\u001b[0m uri \u001b[38;5;241m=\u001b[39m \u001b[43mRunsArtifactRepository\u001b[49m\u001b[38;5;241;43m.\u001b[39;49m\u001b[43mget_underlying_uri\u001b[49m\u001b[43m(\u001b[49m\u001b[43martifact_uri\u001b[49m\u001b[43m)\u001b[49m\n\u001b[0;32m     27\u001b[0m \u001b[38;5;28mself\u001b[39m\u001b[38;5;241m.\u001b[39mrepo \u001b[38;5;241m=\u001b[39m get_artifact_repository(uri)\n",
      "File \u001b[1;32me:\\Mes Documents\\_Open Classroom\\Code\\p7\\p7env\\lib\\site-packages\\mlflow\\store\\artifact\\runs_artifact_repo.py:37\u001b[0m, in \u001b[0;36mRunsArtifactRepository.get_underlying_uri\u001b[1;34m(runs_uri)\u001b[0m\n\u001b[0;32m     33\u001b[0m \u001b[38;5;129m@staticmethod\u001b[39m\n\u001b[0;32m     34\u001b[0m \u001b[38;5;28;01mdef\u001b[39;00m \u001b[38;5;21mget_underlying_uri\u001b[39m(runs_uri):\n\u001b[0;32m     35\u001b[0m     \u001b[38;5;28;01mfrom\u001b[39;00m \u001b[38;5;21;01mmlflow\u001b[39;00m\u001b[38;5;21;01m.\u001b[39;00m\u001b[38;5;21;01mtracking\u001b[39;00m\u001b[38;5;21;01m.\u001b[39;00m\u001b[38;5;21;01martifact_utils\u001b[39;00m \u001b[38;5;28;01mimport\u001b[39;00m get_artifact_uri\n\u001b[1;32m---> 37\u001b[0m     (run_id, artifact_path) \u001b[38;5;241m=\u001b[39m \u001b[43mRunsArtifactRepository\u001b[49m\u001b[38;5;241;43m.\u001b[39;49m\u001b[43mparse_runs_uri\u001b[49m\u001b[43m(\u001b[49m\u001b[43mruns_uri\u001b[49m\u001b[43m)\u001b[49m\n\u001b[0;32m     38\u001b[0m     tracking_uri \u001b[38;5;241m=\u001b[39m get_databricks_profile_uri_from_artifact_uri(runs_uri)\n\u001b[0;32m     39\u001b[0m     uri \u001b[38;5;241m=\u001b[39m get_artifact_uri(run_id, artifact_path, tracking_uri)\n",
      "File \u001b[1;32me:\\Mes Documents\\_Open Classroom\\Code\\p7\\p7env\\lib\\site-packages\\mlflow\\store\\artifact\\runs_artifact_repo.py:54\u001b[0m, in \u001b[0;36mRunsArtifactRepository.parse_runs_uri\u001b[1;34m(run_uri)\u001b[0m\n\u001b[0;32m     52\u001b[0m path \u001b[38;5;241m=\u001b[39m parsed\u001b[38;5;241m.\u001b[39mpath\n\u001b[0;32m     53\u001b[0m \u001b[38;5;28;01mif\u001b[39;00m \u001b[38;5;129;01mnot\u001b[39;00m path\u001b[38;5;241m.\u001b[39mstartswith(\u001b[38;5;124m\"\u001b[39m\u001b[38;5;124m/\u001b[39m\u001b[38;5;124m\"\u001b[39m) \u001b[38;5;129;01mor\u001b[39;00m \u001b[38;5;28mlen\u001b[39m(path) \u001b[38;5;241m<\u001b[39m\u001b[38;5;241m=\u001b[39m \u001b[38;5;241m1\u001b[39m:\n\u001b[1;32m---> 54\u001b[0m     \u001b[38;5;28;01mraise\u001b[39;00m MlflowException(\n\u001b[0;32m     55\u001b[0m         \u001b[38;5;124mf\u001b[39m\u001b[38;5;124m\"\u001b[39m\u001b[38;5;124mNot a proper runs:/ URI: \u001b[39m\u001b[38;5;132;01m{\u001b[39;00mrun_uri\u001b[38;5;132;01m}\u001b[39;00m\u001b[38;5;124m. \u001b[39m\u001b[38;5;124m\"\u001b[39m\n\u001b[0;32m     56\u001b[0m         \u001b[38;5;241m+\u001b[39m \u001b[38;5;124m\"\u001b[39m\u001b[38;5;124mRuns URIs must be of the form \u001b[39m\u001b[38;5;124m'\u001b[39m\u001b[38;5;124mruns:/<run_id>/run-relative/path/to/artifact\u001b[39m\u001b[38;5;124m'\u001b[39m\u001b[38;5;124m\"\u001b[39m\n\u001b[0;32m     57\u001b[0m     )\n\u001b[0;32m     58\u001b[0m path \u001b[38;5;241m=\u001b[39m path[\u001b[38;5;241m1\u001b[39m:]\n\u001b[0;32m     60\u001b[0m path_parts \u001b[38;5;241m=\u001b[39m path\u001b[38;5;241m.\u001b[39msplit(\u001b[38;5;124m\"\u001b[39m\u001b[38;5;124m/\u001b[39m\u001b[38;5;124m\"\u001b[39m)\n",
      "\u001b[1;31mMlflowException\u001b[0m: Not a proper runs:/ URI: runs://a1c3ff54285f47fa88f5d823d08dc943/. Runs URIs must be of the form 'runs:/<run_id>/run-relative/path/to/artifact'"
     ]
    }
   ],
   "source": [
    "loaded_model = mlflow.sklearn.load_model(\n",
    "    #\"runs://a1c3ff54285f47fa88f5d823d08dc943/'Test 0 de mlflow sur une reg log'\"\n",
    "    #\"mlruns/935863330358510444/a1c3ff54285f47fa88f5d823d08dc943/artifacts\"\n",
    "    \"runs://a1c3ff54285f47fa88f5d823d08dc943/artifacts\"\n",
    ")"
   ]
  },
  {
   "cell_type": "markdown",
   "id": "8343c0e6",
   "metadata": {},
   "source": [
    "Tester le modèle"
   ]
  },
  {
   "cell_type": "code",
   "execution_count": null,
   "id": "1b03ba4a",
   "metadata": {},
   "outputs": [],
   "source": [
    "loaded_model.score(X_test, y_test)"
   ]
  },
  {
   "cell_type": "markdown",
   "id": "4eb987b1",
   "metadata": {},
   "source": [
    "# MLFlow"
   ]
  },
  {
   "cell_type": "markdown",
   "id": "aedaefcc",
   "metadata": {},
   "source": [
    "Démarrer le serveur mlflow"
   ]
  },
  {
   "cell_type": "code",
   "execution_count": null,
   "id": "f396f91b",
   "metadata": {},
   "outputs": [
    {
     "data": {
      "text/plain": [
       "'\\nDémarrer un serveur mlflow en local :\\nmlflow server --host 127.0.0.1 --port 8080\\n'"
      ]
     },
     "metadata": {},
     "output_type": "display_data"
    }
   ],
   "source": [
    "\"\"\"\n",
    "Démarrer un serveur mlflow en local :\n",
    "mlflow server --host 127.0.0.1 --port 8080\n",
    "\"\"\""
   ]
  },
  {
   "cell_type": "markdown",
   "id": "2bd9fb01",
   "metadata": {},
   "source": [
    "Initialiser un client mlflow"
   ]
  },
  {
   "cell_type": "code",
   "execution_count": null,
   "id": "b2a091b6",
   "metadata": {},
   "outputs": [],
   "source": [
    "# NOTE: review the links mentioned above for guidance on connecting to a managed tracking server, such as the free Databricks Community Edition\n",
    "\n",
    "client = MlflowClient(tracking_uri=URI_LOCAL)"
   ]
  },
  {
   "cell_type": "markdown",
   "id": "42eddba8",
   "metadata": {},
   "source": [
    "Création d'une nouvelle expérience mlflow"
   ]
  },
  {
   "cell_type": "code",
   "execution_count": null,
   "id": "047fbfb3",
   "metadata": {},
   "outputs": [
    {
     "data": {
      "text/plain": [
       "'experiment_description = (\\n    \"OC P7 Implémentez un modèle de Scoring\"\\n    \"Modèle LightGBM - Mode Debug\"\\n)\\n\\nexperiment_tags = {\\n    \"project_name\": \"p7\",\\n    \"store_dept\": \"produce\",\\n    \"team\": \"oc\",\\n    \"project_quarter\": \"Q1-2024\",\\n    \"mlflow.note.content\": experiment_description,\\n}\\n\\nlightgbm_debug_experiment = client.create_experiment(name=\"lightgbm_debug\", tags=experiment_tags)'"
      ]
     },
     "metadata": {},
     "output_type": "display_data"
    }
   ],
   "source": [
    "\"\"\"experiment_description = (\n",
    "    \"OC P7 Implémentez un modèle de Scoring\"\n",
    "    \"Modèle LightGBM - Mode Debug\"\n",
    ")\n",
    "\n",
    "experiment_tags = {\n",
    "    \"project_name\": \"p7\",\n",
    "    \"store_dept\": \"produce\",\n",
    "    \"team\": \"oc\",\n",
    "    \"project_quarter\": \"Q1-2024\",\n",
    "    \"mlflow.note.content\": experiment_description,\n",
    "}\n",
    "\n",
    "lightgbm_debug_experiment = client.create_experiment(name=\"lightgbm_debug\", tags=experiment_tags)\"\"\""
   ]
  },
  {
   "cell_type": "markdown",
   "id": "7c4dc363",
   "metadata": {},
   "source": [
    "Rechercher l'expérience avec le nom du projet"
   ]
  },
  {
   "cell_type": "code",
   "execution_count": null,
   "id": "a48a7f38",
   "metadata": {},
   "outputs": [
    {
     "name": "stdout",
     "output_type": "stream",
     "text": [
      "<Experiment: artifact_location='mlflow-artifacts:/768052023167465751', creation_time=1713797424132, experiment_id='768052023167465751', last_update_time=1713797424132, lifecycle_stage='active', name='lightgbm_debug', tags={'mlflow.note.content': 'OC P7 Implémentez un modèle de ScoringModèle LightGBM '\n",
      "                        '- Mode Debug',\n",
      " 'project_name': 'p7',\n",
      " 'project_quarter': 'Q1-2024',\n",
      " 'store_dept': 'produce',\n",
      " 'team': 'oc'}>\n"
     ]
    }
   ],
   "source": [
    "# Use search_experiments() to search on the project_name tag key\n",
    "\n",
    "lightgbm_debug_experiment = client.search_experiments(\n",
    "    filter_string=\"tags.'project_name' = 'p7'\"\n",
    ")\n",
    "\n",
    "pprint(lightgbm_debug_experiment[0])"
   ]
  },
  {
   "cell_type": "code",
   "execution_count": null,
   "id": "78e9d1a2",
   "metadata": {},
   "outputs": [
    {
     "name": "stdout",
     "output_type": "stream",
     "text": [
      "oc\n"
     ]
    }
   ],
   "source": [
    "# Access individual tag data\n",
    "\n",
    "print(lightgbm_debug_experiment[0].tags[\"team\"])"
   ]
  },
  {
   "cell_type": "markdown",
   "id": "77102c18",
   "metadata": {},
   "source": [
    "## Démarrer un run mlflow"
   ]
  },
  {
   "cell_type": "code",
   "execution_count": null,
   "id": "f179b885",
   "metadata": {},
   "outputs": [],
   "source": [
    "import mlflow\n",
    "\n",
    "# Use the fluent API to set the tracking uri and the active experiment\n",
    "mlflow.set_tracking_uri(URI_LOCAL)\n",
    "\n",
    "# Sets the current active experiment to the \"Apple_Models\" experiment and returns the Experiment metadata\n",
    "lightgbm_debug_experiment = mlflow.set_experiment(\"lightgbm_debug\")\n",
    "\n",
    "# Define a run name for this iteration of training.\n",
    "# If this is not set, a unique name will be auto-generated for your run.\n",
    "run_name = \"lightgbm_debug_test\"\n",
    "\n",
    "# Define an artifact path that the model will be saved to.\n",
    "artifact_path = \"lightgbm_debug\""
   ]
  },
  {
   "cell_type": "code",
   "execution_count": 14,
   "id": "ae02e54b",
   "metadata": {},
   "outputs": [
    {
     "name": "stderr",
     "output_type": "stream",
     "text": [
      "2024/04/20 10:03:40 WARNING mlflow.utils.git_utils: Failed to import Git (the Git executable is probably not on your PATH), so Git SHA is not available. Error: Failed to initialize: Bad git executable.\n",
      "The git executable must be specified in one of the following ways:\n",
      "    - be included in your $PATH\n",
      "    - be set via $GIT_PYTHON_GIT_EXECUTABLE\n",
      "    - explicitly set via git.refresh(<full-path-to-git-executable>)\n",
      "\n",
      "All git commands will error until this is rectified.\n",
      "\n",
      "This initial message can be silenced or aggravated in the future by setting the\n",
      "$GIT_PYTHON_REFRESH environment variable. Use one of the following values:\n",
      "    - quiet|q|silence|s|silent|none|n|0: for no message or exception\n",
      "    - warn|w|warning|log|l|1: for a warning message (logging level CRITICAL, displayed by default)\n",
      "    - error|e|exception|raise|r|2: for a raised exception\n",
      "\n",
      "Example:\n",
      "    export GIT_PYTHON_REFRESH=quiet\n",
      "\n",
      "e:\\Mes Documents\\_Open Classroom\\Code\\p7\\p7env\\lib\\site-packages\\mlflow\\types\\utils.py:394: UserWarning: Hint: Inferred schema contains integer column(s). Integer columns in Python cannot represent missing values. If your input data contains missing values at inference time, it will be encoded as floats and will cause a schema enforcement error. The best way to avoid this problem is to infer the model schema based on a realistic data sample (training dataset) that includes missing values. Alternatively, you can declare integer columns as doubles (float64) whenever these columns may have missing values. See `Handling Integers With Missing Values <https://www.mlflow.org/docs/latest/models.html#handling-integers-with-missing-values>`_ for more details.\n",
      "  warnings.warn(\n"
     ]
    }
   ],
   "source": [
    "# Split the data into features and target and drop irrelevant date field and target field\n",
    "X = data.drop(columns=[\"date\", \"demand\"])\n",
    "y = data[\"demand\"]\n",
    "\n",
    "# Split the data into training and validation sets\n",
    "X_train, X_val, y_train, y_val = train_test_split(X, y, test_size=0.2, random_state=42)\n",
    "\n",
    "\"\"\"params = {\n",
    "    \"n_estimators\": 100,\n",
    "    \"max_depth\": 6,\n",
    "    \"min_samples_split\": 10,\n",
    "    \"min_samples_leaf\": 4,\n",
    "    \"bootstrap\": True,\n",
    "    \"oob_score\": False,\n",
    "    \"random_state\": 888,\n",
    "}\"\"\"\n",
    "\n",
    "LIGHTGBM_PARAMS = {\n",
    "    \"boosting_type\": \"goss\",\n",
    "    \"n_estimators\": 10000,\n",
    "    \"learning_rate\": 0.005134,\n",
    "    \"num_leaves\": 54,\n",
    "    \"max_depth\": 10,\n",
    "    \"subsample_for_bin\": 240000,\n",
    "    \"reg_alpha\": 0.436193,\n",
    "    \"reg_lambda\": 0.479169,\n",
    "    \"colsample_bytree\": 0.508716,\n",
    "    \"min_split_gain\": 0.024766,\n",
    "    \"subsample\": 1,\n",
    "    \"is_unbalance\": False,\n",
    "    \"silent\": -1,\n",
    "    \"verbose\": -1,\n",
    "}\n",
    "\n",
    "# Train the RandomForestRegressor\n",
    "rf = RandomForestRegressor(**params)\n",
    "\n",
    "# Fit the model on the training data\n",
    "rf.fit(X_train, y_train)\n",
    "\n",
    "# Predict on the validation set\n",
    "y_pred = rf.predict(X_val)\n",
    "\n",
    "# Calculate error metrics\n",
    "mae = mean_absolute_error(y_val, y_pred)\n",
    "mse = mean_squared_error(y_val, y_pred)\n",
    "rmse = np.sqrt(mse)\n",
    "r2 = r2_score(y_val, y_pred)\n",
    "\n",
    "# Assemble the metrics we're going to write into a collection\n",
    "metrics = {\"mae\": mae, \"mse\": mse, \"rmse\": rmse, \"r2\": r2}\n",
    "\n",
    "# Initiate the MLflow run context\n",
    "with mlflow.start_run(run_name=run_name) as run:\n",
    "    # Log the parameters used for the model fit\n",
    "    mlflow.log_params(LIGHTGBM_PARAMS)\n",
    "\n",
    "    # Log the error metrics that were calculated during validation\n",
    "    mlflow.log_metrics(metrics)\n",
    "\n",
    "    # Log an instance of the trained model for later use\n",
    "    mlflow.sklearn.log_model(sk_model=rf, input_example=X_val, artifact_path=artifact_path)"
   ]
  },
  {
   "cell_type": "markdown",
   "id": "84c06abe",
   "metadata": {},
   "source": [
    "#### Success!\n",
    "\n",
    "You've just logged your first MLflow model! \n",
    "\n",
    "Navigate to the MLflow UI to see the run that was just created (named \"apples_rf_test\", logged to the Experiment \"Apple_Models\"). "
   ]
  }
 ],
 "metadata": {
  "kernelspec": {
   "display_name": "Python 3 (ipykernel)",
   "language": "python",
   "name": "python3"
  },
  "language_info": {
   "codemirror_mode": {
    "name": "ipython",
    "version": 3
   },
   "file_extension": ".py",
   "mimetype": "text/x-python",
   "name": "python",
   "nbconvert_exporter": "python",
   "pygments_lexer": "ipython3",
   "version": "3.10.11"
  }
 },
 "nbformat": 4,
 "nbformat_minor": 5
}
