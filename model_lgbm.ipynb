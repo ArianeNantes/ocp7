{
 "cells": [
  {
   "cell_type": "code",
   "execution_count": 1,
   "id": "20cc39b3",
   "metadata": {},
   "outputs": [],
   "source": [
    "# On affiche les graphiques dans le notebook en statique\n",
    "%matplotlib inline"
   ]
  },
  {
   "cell_type": "code",
   "execution_count": 2,
   "id": "8fe93c76",
   "metadata": {},
   "outputs": [],
   "source": [
    "\"\"\"\n",
    "code du lightgbm repris (et adapté) de :\n",
    "Lien : https://www.kaggle.com/code/jsaguiar/lightgbm-7th-place-solution\n",
    "\n",
    "KAGGLE HOME CREDIT DEFAULT RISK COMPETITION\n",
    "Adapted from one of the models used in 7th place solution ensemble.\n",
    "For more details about our solution please check this discussion:\n",
    "https://www.kaggle.com/c/home-credit-default-risk/discussion/64580\n",
    "\n",
    "Another similar version is also available at GitHub:\n",
    "https://github.com/js-aguiar/home-credit-default-competition\n",
    "\n",
    "This model uses LightGBM with goss and label encode for the application's \n",
    "categorical features. Other tables are using one-hot encode with mean, \n",
    "sum and a few different functions to aggregate. The main ideia was to add \n",
    "more time related features like last application and last X months aggregations.\n",
    "There are also aggregations for specific loan types and status as well as\n",
    "ratios between tables. Configurations are in line 785\n",
    "\"\"\"\n",
    "\n",
    "import os\n",
    "import gc\n",
    "import time\n",
    "import numpy as np\n",
    "import pandas as pd\n",
    "import re\n",
    "import joblib\n",
    "import matplotlib.pyplot as plt\n",
    "import seaborn as sns\n",
    "from contextlib import contextmanager\n",
    "import multiprocessing as mp\n",
    "from functools import partial\n",
    "from scipy.stats import kurtosis, iqr, skew\n",
    "import lightgbm as lgb\n",
    "from lightgbm import LGBMClassifier\n",
    "import sklearn\n",
    "from sklearn.linear_model import LogisticRegression\n",
    "from sklearn.model_selection import KFold, StratifiedKFold\n",
    "from sklearn.model_selection import train_test_split\n",
    "from sklearn.impute import SimpleImputer\n",
    "from sklearn.metrics import roc_auc_score, confusion_matrix, roc_curve\n",
    "import warnings\n",
    "\n",
    "from pprint import pprint\n",
    "import mlflow \n",
    "import mlflow.sklearn\n",
    "from mlflow import MlflowClient\n",
    "\n",
    "warnings.simplefilter(action=\"ignore\", category=FutureWarning)"
   ]
  },
  {
   "cell_type": "code",
   "execution_count": 3,
   "id": "60988dd6",
   "metadata": {},
   "outputs": [],
   "source": [
    "from src.p7_lightgbm import get_age_label, get_bureau, get_data\n",
    "from src.p7_lightgbm import add_ratios_features, reduce_memory, timer, kfold_lightgbm_sklearn\n",
    "from src.p7_lightgbm import display_importances\n",
    "from src.p7_constantes import (\n",
    "    NUM_THREADS,\n",
    "    SUBMISSION_SUFIX,\n",
    "    INSTALLMENTS_LAST_K_TREND_PERIODS,\n",
    "    GENERATE_SUBMISSION_FILES,\n",
    "    STRATIFIED_KFOLD,\n",
    "    RANDOM_SEED,\n",
    "    NUM_FOLDS,\n",
    "    EARLY_STOPPING,\n",
    "    MODEL_DIR,\n",
    "    DATA_BASE,\n",
    "    DATA_INTERIM,\n",
    "    URI_LOCAL,\n",
    ")\n",
    "\n",
    "%load_ext autoreload\n",
    "%autoreload 2\n",
    "#autoreload 2 = Reload all modules (except those excluded by %aimport)\n",
    "# every time before executing the Python code typed."
   ]
  },
  {
   "cell_type": "code",
   "execution_count": 4,
   "id": "f31c965c",
   "metadata": {},
   "outputs": [
    {
     "name": "stdout",
     "output_type": "stream",
     "text": [
      "Numpy: 1.26.4\n",
      "Pandas: 2.2.2\n",
      "Scikit-learn: 1.4.2\n",
      "MLFlow: 2.12.1\n"
     ]
    }
   ],
   "source": [
    "print(\"Numpy: {}\".format(np.__version__))\n",
    "print(\"Pandas: {}\".format(pd.__version__))\n",
    "print(\"Scikit-learn: {}\".format(sklearn.__version__))\n",
    "print(\"MLFlow: {}\".format(mlflow.__version__))"
   ]
  },
  {
   "cell_type": "markdown",
   "id": "c540854b",
   "metadata": {},
   "source": [
    "# Séléction des features à conserver"
   ]
  },
  {
   "cell_type": "markdown",
   "id": "0373acd3",
   "metadata": {},
   "source": [
    "Démarrer"
   ]
  },
  {
   "cell_type": "code",
   "execution_count": 5,
   "id": "9de22882",
   "metadata": {},
   "outputs": [],
   "source": [
    "feature_importance = pd.read_csv(os.path.join(MODEL_DIR, \"feature_importance_model2_04.csv\"))"
   ]
  },
  {
   "cell_type": "markdown",
   "id": "4e403042",
   "metadata": {},
   "source": [
    "Features à conserver"
   ]
  },
  {
   "cell_type": "code",
   "execution_count": 6,
   "id": "f5d3a9e2",
   "metadata": {},
   "outputs": [
    {
     "data": {
      "text/plain": [
       "['ORGANIZATION_TYPE',\n",
       " 'CREDIT_TO_ANNUITY_RATIO',\n",
       " 'EXT_SOURCES_MEAN',\n",
       " 'EXT_SOURCE_3',\n",
       " 'DAYS_BIRTH',\n",
       " 'EXT_SOURCES_NANMEDIAN',\n",
       " 'EXT_SOURCES_MIN',\n",
       " 'BUREAU_CONSUMER_DAYS_CREDIT_ENDDATE_MAX',\n",
       " 'EXT_SOURCE_1',\n",
       " 'AMT_ANNUITY',\n",
       " 'CREDIT_TO_GOODS_RATIO',\n",
       " 'OCCUPATION_TYPE',\n",
       " 'EXT_SOURCE_2',\n",
       " 'EXT_SOURCES_MAX',\n",
       " 'DAYS_ID_PUBLISH',\n",
       " 'DAYS_EMPLOYED',\n",
       " 'BUREAU_CREDIT_DEBT_CREDIT_DIFF_MEAN',\n",
       " 'BUREAU_ACTIVE_DEBT_CREDIT_DIFF_MEAN']"
      ]
     },
     "execution_count": 6,
     "metadata": {},
     "output_type": "execute_result"
    }
   ],
   "source": [
    "top = 14\n",
    "top = 18\n",
    "features = feature_importance.sort_values(by='split', ascending=False).head(top)['feature'].values.tolist()\n",
    "features"
   ]
  },
  {
   "cell_type": "code",
   "execution_count": 7,
   "id": "903c0470",
   "metadata": {},
   "outputs": [
    {
     "data": {
      "text/plain": [
       "'\\n\"feature\": \"ORGANIZATION_TYPE\", \"table\": \"application\", \"description\": \"Type of organization where client works\", \"agg\": None\\n\\nCREDIT_TO_ANNUITY_RATIO:\\nbureau[\"CREDIT_TO_ANNUITY_RATIO\"] = bureau[\"AMT_CREDIT_SUM\"] / bureau[\"AMT_ANNUITY\"]\\nprev[\"CREDIT_TO_ANNUITY_RATIO\"] = prev[\"AMT_CREDIT\"] / prev[\"AMT_ANNUITY\"]\\n(df=Application) df[\"CREDIT_TO_ANNUITY_RATIO\"] = df[\"AMT_CREDIT\"] / df[\"AMT_ANNUITY\"]\\n\\n\"feature\": \"AMT_CREDIT\", \"table\": \"application\", \"description\": \"Credit amount of the loan\", \"agg\": None\\n\"feature\": \"AMT_ANNUITY\", \"table\": \"application\", \"description\": \"Loan annuity\", \"agg\": None\\n\\nEXT_SOURCES_MEAN\\nfor function_name in [\"min\", \"max\", \"mean\", \"nanmedian\", \"var\"]:\\n        feature_name = \"EXT_SOURCES_{}\".format(function_name.upper())\\n        df[feature_name] = eval(\"np.{}\".format(function_name))(\\n            df[[\"EXT_SOURCE_1\", \"EXT_SOURCE_2\", \"EXT_SOURCE_3\"]], axis=1\\n        )\\n\\nOn va éviter une multicolinéarité trop forte en ne prenant pas toutes les features ext_sources. On va garder la EXT_SOURCES_MEAN et la EXT_SOURCE_3\\n\"feature\": \"EXT_SOURCE_1\", \"table\": \"application\", \"description\": \"Normalized score from external data source\", \"agg\": \"None\"\\n\"feature\": \"EXT_SOURCE_2\", \"table\": \"application\", \"description\": \"Normalized score from external data source\", \"agg\": \"None\"\\n\"feature\": \"EXT_SOURCE_3\", \"table\": \"application\", \"description\": \"Normalized score from external data source\", \"agg\": \"None\"\\n\\n\"feature\": \"DAYS_BIRTH\", \"table\": \"application\", \"description\": \"Client\\'s age in days at the time of application\", \"agg\": \"None\"\\n\\n\"feature\": \"DAYS_CREDIT_ENDDATE\", \"table\": \"bureau\", \"description\": \"Remaining duration of CB credit (in days) at the time of application in Home Credit\", \"agg\": \"max\"\\n\\n# On ne garde pas AMT_ANNUITY ?? Faire une matrice de corrélation ?\\n\"feature\": \"AMT_ANNUITY\", \"table\": \"application\", \"description\": \"Loan annuity\", \"agg\": \"None\"\\n\\nCREDIT_TO_GOODS_RATIO\\ndf[\"CREDIT_TO_GOODS_RATIO\"] = df[\"AMT_CREDIT\"] / df[\"AMT_GOODS_PRICE\"]\\n\"feature\": \"AMT_CREDIT\", \"table\": \"application\", \"description\": \"Credit amount of the loan\", \"agg\": \"None\"\\n\"feature\": \"AMT_GOODS_PRICE\", \"table\": \"application\", \"description\": \"For consumer loans it is the price of the goods for which the loan is given\", \"agg\": \"None\"\\n\\n\\n\"feature\": \"OCCUPATION_TYPE\", \"table\": \"application\", \"description\": \"What kind of occupation does the client have\", \"agg\": \"None\"\\n\\n\"feature\": \"DAYS_ID_PUBLISH\", \"table\": \"application\", \"description\": \"How many days before the application did client change the identity document with which he applied for the loan\", \"agg\": \"None\"\\n\\n\"feature\": \"DAYS_EMPLOYED\", \"table\": \"application\", \"description\": \"How many days before the application the person started current employment\", \"agg\": \"None\"\\n\\nBUREAU_CREDIT_DEBT_CREDIT_DIFF_MEAN\\nbureau[\"DEBT_CREDIT_DIFF\"] = (\\n        bureau[\"AMT_CREDIT_SUM\"] - bureau[\"AMT_CREDIT_SUM_DEBT\"]\\n    )\\n    \\n# General loans aggregations\\n    agg_bureau = group(bureau, \"BUREAU_\", BUREAU_AGG)\\n    # Active and closed loans aggregations\\n    active = bureau[bureau[\"CREDIT_ACTIVE_Active\"] == 1]\\n    agg_bureau = group_and_merge(\\n        active, agg_bureau, \"BUREAU_ACTIVE_\", BUREAU_ACTIVE_AGG\\n    )\\nBUREAU_AGG = {\\n    \"DEBT_CREDIT_DIFF\": [\"mean\", \"sum\"],\\n    \\n\"feature\": \"AMT_CREDIT_SUM\", \"table\": \"bureau\", \"description\": \"Current credit amount for the Credit Bureau credit\", \"agg\": \"None\"\\n\"feature\": \"AMT_CREDIT_SUM_DEBT\", \"table\": \"bureau\", \"description\": \"Current debt on Credit Bureau credit\", \"agg\": \"None\"  \\n    \\n    \\nPour le Last loan, c\\'est intéressant mais plus compliqué. A priori ce serait le nombre de jours d\\'impayés du dernier emprunt précédent\\ninstallments_payments.csv\\npay[\"DPD\"] = pay[\"DAYS_ENTRY_PAYMENT\"] - pay[\"DAYS_INSTALMENT\"]\\n    pay[\"DPD\"] = pay[\"DPD\"].apply(lambda x: 0 if x <= 0 else x)\\nDAYS_ENTRY_PAYMENT : When was the installments of previous credit paid actually (relative to application date of current loan)\\nDAYS_INSTALMENT : When the installment of previous credit was supposed to be paid (relative to application date of current loan)\\n'"
      ]
     },
     "execution_count": 7,
     "metadata": {},
     "output_type": "execute_result"
    }
   ],
   "source": [
    "\"\"\"\n",
    "\"feature\": \"ORGANIZATION_TYPE\", \"table\": \"application\", \"description\": \"Type of organization where client works\", \"agg\": None\n",
    "\n",
    "CREDIT_TO_ANNUITY_RATIO:\n",
    "bureau[\"CREDIT_TO_ANNUITY_RATIO\"] = bureau[\"AMT_CREDIT_SUM\"] / bureau[\"AMT_ANNUITY\"]\n",
    "prev[\"CREDIT_TO_ANNUITY_RATIO\"] = prev[\"AMT_CREDIT\"] / prev[\"AMT_ANNUITY\"]\n",
    "(df=Application) df[\"CREDIT_TO_ANNUITY_RATIO\"] = df[\"AMT_CREDIT\"] / df[\"AMT_ANNUITY\"]\n",
    "\n",
    "\"feature\": \"AMT_CREDIT\", \"table\": \"application\", \"description\": \"Credit amount of the loan\", \"agg\": None\n",
    "\"feature\": \"AMT_ANNUITY\", \"table\": \"application\", \"description\": \"Loan annuity\", \"agg\": None\n",
    "\n",
    "EXT_SOURCES_MEAN\n",
    "for function_name in [\"min\", \"max\", \"mean\", \"nanmedian\", \"var\"]:\n",
    "        feature_name = \"EXT_SOURCES_{}\".format(function_name.upper())\n",
    "        df[feature_name] = eval(\"np.{}\".format(function_name))(\n",
    "            df[[\"EXT_SOURCE_1\", \"EXT_SOURCE_2\", \"EXT_SOURCE_3\"]], axis=1\n",
    "        )\n",
    "\n",
    "On va éviter une multicolinéarité trop forte en ne prenant pas toutes les features ext_sources. On va garder la EXT_SOURCES_MEAN et la EXT_SOURCE_3\n",
    "\"feature\": \"EXT_SOURCE_1\", \"table\": \"application\", \"description\": \"Normalized score from external data source\", \"agg\": \"None\"\n",
    "\"feature\": \"EXT_SOURCE_2\", \"table\": \"application\", \"description\": \"Normalized score from external data source\", \"agg\": \"None\"\n",
    "\"feature\": \"EXT_SOURCE_3\", \"table\": \"application\", \"description\": \"Normalized score from external data source\", \"agg\": \"None\"\n",
    "\n",
    "\"feature\": \"DAYS_BIRTH\", \"table\": \"application\", \"description\": \"Client's age in days at the time of application\", \"agg\": \"None\"\n",
    "\n",
    "\"feature\": \"DAYS_CREDIT_ENDDATE\", \"table\": \"bureau\", \"description\": \"Remaining duration of CB credit (in days) at the time of application in Home Credit\", \"agg\": \"max\"\n",
    "\n",
    "# On ne garde pas AMT_ANNUITY ?? Faire une matrice de corrélation ?\n",
    "\"feature\": \"AMT_ANNUITY\", \"table\": \"application\", \"description\": \"Loan annuity\", \"agg\": \"None\"\n",
    "\n",
    "CREDIT_TO_GOODS_RATIO\n",
    "df[\"CREDIT_TO_GOODS_RATIO\"] = df[\"AMT_CREDIT\"] / df[\"AMT_GOODS_PRICE\"]\n",
    "\"feature\": \"AMT_CREDIT\", \"table\": \"application\", \"description\": \"Credit amount of the loan\", \"agg\": \"None\"\n",
    "\"feature\": \"AMT_GOODS_PRICE\", \"table\": \"application\", \"description\": \"For consumer loans it is the price of the goods for which the loan is given\", \"agg\": \"None\"\n",
    "\n",
    "\n",
    "\"feature\": \"OCCUPATION_TYPE\", \"table\": \"application\", \"description\": \"What kind of occupation does the client have\", \"agg\": \"None\"\n",
    "\n",
    "\"feature\": \"DAYS_ID_PUBLISH\", \"table\": \"application\", \"description\": \"How many days before the application did client change the identity document with which he applied for the loan\", \"agg\": \"None\"\n",
    "\n",
    "\"feature\": \"DAYS_EMPLOYED\", \"table\": \"application\", \"description\": \"How many days before the application the person started current employment\", \"agg\": \"None\"\n",
    "\n",
    "BUREAU_CREDIT_DEBT_CREDIT_DIFF_MEAN\n",
    "bureau[\"DEBT_CREDIT_DIFF\"] = (\n",
    "        bureau[\"AMT_CREDIT_SUM\"] - bureau[\"AMT_CREDIT_SUM_DEBT\"]\n",
    "    )\n",
    "    \n",
    "# General loans aggregations\n",
    "    agg_bureau = group(bureau, \"BUREAU_\", BUREAU_AGG)\n",
    "    # Active and closed loans aggregations\n",
    "    active = bureau[bureau[\"CREDIT_ACTIVE_Active\"] == 1]\n",
    "    agg_bureau = group_and_merge(\n",
    "        active, agg_bureau, \"BUREAU_ACTIVE_\", BUREAU_ACTIVE_AGG\n",
    "    )\n",
    "BUREAU_AGG = {\n",
    "    \"DEBT_CREDIT_DIFF\": [\"mean\", \"sum\"],\n",
    "    \n",
    "\"feature\": \"AMT_CREDIT_SUM\", \"table\": \"bureau\", \"description\": \"Current credit amount for the Credit Bureau credit\", \"agg\": \"None\"\n",
    "\"feature\": \"AMT_CREDIT_SUM_DEBT\", \"table\": \"bureau\", \"description\": \"Current debt on Credit Bureau credit\", \"agg\": \"None\"  \n",
    "    \n",
    "    \n",
    "Pour le Last loan, c'est intéressant mais plus compliqué. A priori ce serait le nombre de jours d'impayés du dernier emprunt précédent\n",
    "installments_payments.csv\n",
    "pay[\"DPD\"] = pay[\"DAYS_ENTRY_PAYMENT\"] - pay[\"DAYS_INSTALMENT\"]\n",
    "    pay[\"DPD\"] = pay[\"DPD\"].apply(lambda x: 0 if x <= 0 else x)\n",
    "DAYS_ENTRY_PAYMENT : When was the installments of previous credit paid actually (relative to application date of current loan)\n",
    "DAYS_INSTALMENT : When the installment of previous credit was supposed to be paid (relative to application date of current loan)\n",
    "\"\"\""
   ]
  },
  {
   "cell_type": "markdown",
   "id": "7419b11b",
   "metadata": {},
   "source": [
    "# Script get data pour analyse exploratoire"
   ]
  },
  {
   "cell_type": "code",
   "execution_count": 8,
   "id": "6d2a8305",
   "metadata": {},
   "outputs": [],
   "source": [
    "APPLICATION_FEATURES = [\n",
    "    \"SK_ID_CURR\",\n",
    "    \"ORGANIZATION_TYPE\",\n",
    "    \"AMT_CREDIT\",\n",
    "    \"AMT_ANNUITY\",\n",
    "    \"EXT_SOURCE_1\",\n",
    "    \"EXT_SOURCE_2\",\n",
    "    \"EXT_SOURCE_3\",\n",
    "    \"DAYS_BIRTH\",\n",
    "    \"AMT_GOODS_PRICE\",\n",
    "    \"OCCUPATION_TYPE\",\n",
    "    \"DAYS_ID_PUBLISH\",\n",
    "    \"DAYS_EMPLOYED\",\n",
    "    \"AMT_INCOME_TOTAL\", # Pas dans importante dans la feature importance\n",
    "    ]\n",
    "\n",
    "BUREAU_FEATURES = [\n",
    "    \"SK_ID_CURR\",\n",
    "    \"DAYS_CREDIT_ENDDATE\",\n",
    "    \"AMT_CREDIT_SUM\",\n",
    "    \"AMT_CREDIT_SUM_DEBT\",\n",
    "    ]"
   ]
  },
  {
   "cell_type": "code",
   "execution_count": 9,
   "id": "9701cc06",
   "metadata": {},
   "outputs": [],
   "source": [
    "def get_important_application(path=DATA_BASE, num_rows=None):\n",
    "    \"\"\"Process application_train.csv and application_test.csv and return a pandas dataframe.\"\"\"\n",
    "    train = pd.read_csv(os.path.join(path, \"application_train.csv\"), nrows=num_rows)[APPLICATION_FEATURES + ['TARGET']]\n",
    "    test = pd.read_csv(os.path.join(path, \"application_test.csv\"), nrows=num_rows)[APPLICATION_FEATURES]\n",
    "    df = pd.concat([train, test], ignore_index=True)\n",
    "    del train, test\n",
    "    gc.collect()\n",
    "    \n",
    "    # Data cleaning\n",
    "    if \"AMT_INCOME_TOTAL\" in APPLICATION_FEATURES:\n",
    "        df = df[\n",
    "            df[\"AMT_INCOME_TOTAL\"] < 20000000\n",
    "    ]  # Max income in test is 4M; train has a 117M value\n",
    "    df[\"DAYS_EMPLOYED\"].replace(365243, np.nan, inplace=True)\n",
    "\n",
    "    # Categorical age - based on target=1 plot\n",
    "    df[\"AGE_RANGE\"] = df[\"DAYS_BIRTH\"].apply(lambda x: get_age_label(x))\n",
    "    \n",
    "    # Age  comme var numérique (plus compréhensible que day_birth)\n",
    "    df[\"AGE\"] = - df[\"DAYS_BIRTH\"] / 365\n",
    "\n",
    "\n",
    "    # np.warnings.filterwarnings(\"ignore\", r\"All-NaN (slice|axis) encountered\")\n",
    "    np.seterr(all=\"ignore\", invalid=\"ignore\")\n",
    "    # New features based on External sources\n",
    "    df[\"EXT_SOURCES_MEAN\"] = np.mean(df[[\"EXT_SOURCE_1\", \"EXT_SOURCE_2\", \"EXT_SOURCE_3\"]], axis=1)\n",
    "    df[\"EXT_SOURCES_NANMEDIAN\"] = np.nanmedian(df[[\"EXT_SOURCE_1\", \"EXT_SOURCE_2\", \"EXT_SOURCE_3\"]], axis=1)\n",
    "    # Credit ratios\n",
    "    df[\"CREDIT_TO_ANNUITY_RATIO\"] = df[\"AMT_CREDIT\"] / df[\"AMT_ANNUITY\"]\n",
    "    df[\"CREDIT_TO_GOODS_RATIO\"] = df[\"AMT_CREDIT\"] / df[\"AMT_GOODS_PRICE\"]\n",
    "    # Income ratios\n",
    "    if \"AMT_INCOME_TOTAL\" in APPLICATION_FEATURES:\n",
    "        df[\"ANNUITY_TO_INCOME_RATIO\"] = df[\"AMT_ANNUITY\"] / df[\"AMT_INCOME_TOTAL\"]\n",
    "\n",
    "    to_drop = ['DAYS_BIRTH', 'AMT_CREDIT','EXT_SOURCE_1', 'EXT_SOURCE_2', 'EXT_SOURCES_NANMEDIAN', 'AMT_INCOME_TOTAL', 'AGE_RANGE', 'AMT_GOODS_PRICE']\n",
    "    df = df.drop(to_drop, axis=1)\n",
    "    \n",
    "    # Encode categorical features (LabelEncoder)\n",
    "    \"\"\"df, le_encoded_cols = label_encoder(df, None)\n",
    "    df = drop_application_columns(df)\"\"\"\n",
    "    return df\n",
    "    "
   ]
  },
  {
   "cell_type": "code",
   "execution_count": 10,
   "id": "da6a07c9",
   "metadata": {},
   "outputs": [
    {
     "name": "stderr",
     "output_type": "stream",
     "text": [
      "D:\\TEMP\\ipykernel_5696\\2728051136.py:27: RuntimeWarning: All-NaN slice encountered\n",
      "  df[\"EXT_SOURCES_NANMEDIAN\"] = np.nanmedian(df[[\"EXT_SOURCE_1\", \"EXT_SOURCE_2\", \"EXT_SOURCE_3\"]], axis=1)\n"
     ]
    },
    {
     "data": {
      "text/html": [
       "<div>\n",
       "<style scoped>\n",
       "    .dataframe tbody tr th:only-of-type {\n",
       "        vertical-align: middle;\n",
       "    }\n",
       "\n",
       "    .dataframe tbody tr th {\n",
       "        vertical-align: top;\n",
       "    }\n",
       "\n",
       "    .dataframe thead th {\n",
       "        text-align: right;\n",
       "    }\n",
       "</style>\n",
       "<table border=\"1\" class=\"dataframe\">\n",
       "  <thead>\n",
       "    <tr style=\"text-align: right;\">\n",
       "      <th></th>\n",
       "      <th>SK_ID_CURR</th>\n",
       "      <th>ORGANIZATION_TYPE</th>\n",
       "      <th>AMT_ANNUITY</th>\n",
       "      <th>EXT_SOURCE_3</th>\n",
       "      <th>OCCUPATION_TYPE</th>\n",
       "      <th>DAYS_ID_PUBLISH</th>\n",
       "      <th>DAYS_EMPLOYED</th>\n",
       "      <th>TARGET</th>\n",
       "      <th>AGE</th>\n",
       "      <th>EXT_SOURCES_MEAN</th>\n",
       "      <th>CREDIT_TO_ANNUITY_RATIO</th>\n",
       "      <th>CREDIT_TO_GOODS_RATIO</th>\n",
       "      <th>ANNUITY_TO_INCOME_RATIO</th>\n",
       "    </tr>\n",
       "  </thead>\n",
       "  <tbody>\n",
       "    <tr>\n",
       "      <th>0</th>\n",
       "      <td>100002</td>\n",
       "      <td>Business Entity Type 3</td>\n",
       "      <td>24700.5</td>\n",
       "      <td>0.139376</td>\n",
       "      <td>Laborers</td>\n",
       "      <td>-2120</td>\n",
       "      <td>-637.0</td>\n",
       "      <td>1.0</td>\n",
       "      <td>25.920548</td>\n",
       "      <td>0.161787</td>\n",
       "      <td>16.461104</td>\n",
       "      <td>1.158397</td>\n",
       "      <td>0.121978</td>\n",
       "    </tr>\n",
       "    <tr>\n",
       "      <th>1</th>\n",
       "      <td>100003</td>\n",
       "      <td>School</td>\n",
       "      <td>35698.5</td>\n",
       "      <td>NaN</td>\n",
       "      <td>Core staff</td>\n",
       "      <td>-291</td>\n",
       "      <td>-1188.0</td>\n",
       "      <td>0.0</td>\n",
       "      <td>45.931507</td>\n",
       "      <td>0.466757</td>\n",
       "      <td>36.234085</td>\n",
       "      <td>1.145199</td>\n",
       "      <td>0.132217</td>\n",
       "    </tr>\n",
       "    <tr>\n",
       "      <th>2</th>\n",
       "      <td>100004</td>\n",
       "      <td>Government</td>\n",
       "      <td>6750.0</td>\n",
       "      <td>0.729567</td>\n",
       "      <td>Laborers</td>\n",
       "      <td>-2531</td>\n",
       "      <td>-225.0</td>\n",
       "      <td>0.0</td>\n",
       "      <td>52.180822</td>\n",
       "      <td>0.642739</td>\n",
       "      <td>20.000000</td>\n",
       "      <td>1.000000</td>\n",
       "      <td>0.100000</td>\n",
       "    </tr>\n",
       "    <tr>\n",
       "      <th>3</th>\n",
       "      <td>100006</td>\n",
       "      <td>Business Entity Type 3</td>\n",
       "      <td>29686.5</td>\n",
       "      <td>NaN</td>\n",
       "      <td>Laborers</td>\n",
       "      <td>-2437</td>\n",
       "      <td>-3039.0</td>\n",
       "      <td>0.0</td>\n",
       "      <td>52.068493</td>\n",
       "      <td>0.650442</td>\n",
       "      <td>10.532818</td>\n",
       "      <td>1.052803</td>\n",
       "      <td>0.219900</td>\n",
       "    </tr>\n",
       "    <tr>\n",
       "      <th>4</th>\n",
       "      <td>100007</td>\n",
       "      <td>Religion</td>\n",
       "      <td>21865.5</td>\n",
       "      <td>NaN</td>\n",
       "      <td>Core staff</td>\n",
       "      <td>-3458</td>\n",
       "      <td>-3038.0</td>\n",
       "      <td>0.0</td>\n",
       "      <td>54.608219</td>\n",
       "      <td>0.322738</td>\n",
       "      <td>23.461618</td>\n",
       "      <td>1.000000</td>\n",
       "      <td>0.179963</td>\n",
       "    </tr>\n",
       "  </tbody>\n",
       "</table>\n",
       "</div>"
      ],
      "text/plain": [
       "   SK_ID_CURR       ORGANIZATION_TYPE  AMT_ANNUITY  EXT_SOURCE_3  \\\n",
       "0      100002  Business Entity Type 3      24700.5      0.139376   \n",
       "1      100003                  School      35698.5           NaN   \n",
       "2      100004              Government       6750.0      0.729567   \n",
       "3      100006  Business Entity Type 3      29686.5           NaN   \n",
       "4      100007                Religion      21865.5           NaN   \n",
       "\n",
       "  OCCUPATION_TYPE  DAYS_ID_PUBLISH  DAYS_EMPLOYED  TARGET        AGE  \\\n",
       "0        Laborers            -2120         -637.0     1.0  25.920548   \n",
       "1      Core staff             -291        -1188.0     0.0  45.931507   \n",
       "2        Laborers            -2531         -225.0     0.0  52.180822   \n",
       "3        Laborers            -2437        -3039.0     0.0  52.068493   \n",
       "4      Core staff            -3458        -3038.0     0.0  54.608219   \n",
       "\n",
       "   EXT_SOURCES_MEAN  CREDIT_TO_ANNUITY_RATIO  CREDIT_TO_GOODS_RATIO  \\\n",
       "0          0.161787                16.461104               1.158397   \n",
       "1          0.466757                36.234085               1.145199   \n",
       "2          0.642739                20.000000               1.000000   \n",
       "3          0.650442                10.532818               1.052803   \n",
       "4          0.322738                23.461618               1.000000   \n",
       "\n",
       "   ANNUITY_TO_INCOME_RATIO  \n",
       "0                 0.121978  \n",
       "1                 0.132217  \n",
       "2                 0.100000  \n",
       "3                 0.219900  \n",
       "4                 0.179963  "
      ]
     },
     "execution_count": 10,
     "metadata": {},
     "output_type": "execute_result"
    }
   ],
   "source": [
    "application = get_important_application()\n",
    "application.head()"
   ]
  },
  {
   "cell_type": "code",
   "execution_count": 11,
   "id": "3e2fd970",
   "metadata": {},
   "outputs": [
    {
     "name": "stderr",
     "output_type": "stream",
     "text": [
      "e:\\Mes Documents\\_Open Classroom\\Code\\p7\\src\\p7_lightgbm.py:538: RuntimeWarning: All-NaN slice encountered\n",
      "  df[feature_name] = eval(\"np.{}\".format(function_name))(\n"
     ]
    },
    {
     "name": "stdout",
     "output_type": "stream",
     "text": [
      "Application dataframe shape:  (356250, 83)\n",
      "application_train and application_test - done in 6s\n",
      "Bureau dataframe shape:  (305811, 156)\n",
      "Bureau and bureau_balance data - done in 15s\n",
      "Previous dataframe shape:  (338857, 225)\n",
      "previous_application - done in 23s\n",
      "Pos-cash dataframe shape:  (337252, 24)\n",
      "Installments dataframe shape:  (339587, 101)\n",
      "Credit card dataframe shape:  (103558, 59)\n",
      "previous applications balances - done in 463s\n",
      "Initial df memory usage is 1791.14 MB for 659 columns\n",
      "Final memory usage is: 714.49 MB - decreased by 60.1%\n",
      "<class 'pandas.core.frame.DataFrame'>\n",
      "RangeIndex: 356250 entries, 0 to 356249\n",
      "Data columns (total 17 columns):\n",
      " #   Column                                   Non-Null Count   Dtype  \n",
      "---  ------                                   --------------   -----  \n",
      " 0   SK_ID_CURR                               356250 non-null  int32  \n",
      " 1   TARGET                                   307506 non-null  float16\n",
      " 2   ORGANIZATION_TYPE                        356250 non-null  int8   \n",
      " 3   CREDIT_TO_ANNUITY_RATIO                  356214 non-null  float16\n",
      " 4   EXT_SOURCES_MEAN                         356071 non-null  float16\n",
      " 5   EXT_SOURCE_3                             286617 non-null  float16\n",
      " 6   EXT_SOURCES_MIN                          356071 non-null  float16\n",
      " 7   BUREAU_CONSUMER_DAYS_CREDIT_ENDDATE_MAX  285837 non-null  float16\n",
      " 8   AMT_ANNUITY                              356214 non-null  float32\n",
      " 9   CREDIT_TO_GOODS_RATIO                    355972 non-null  float16\n",
      " 10  OCCUPATION_TYPE                          356250 non-null  int8   \n",
      " 11  DAYS_ID_PUBLISH                          356250 non-null  int16  \n",
      " 12  DAYS_EMPLOYED                            291602 non-null  float16\n",
      " 13  BUREAU_CREDIT_DEBT_CREDIT_DIFF_MEAN      187548 non-null  float32\n",
      " 14  BUREAU_ACTIVE_DEBT_CREDIT_DIFF_MEAN      239856 non-null  float32\n",
      " 15  ANNUITY_TO_INCOME_RATIO                  356214 non-null  float16\n",
      " 16  AGE                                      356250 non-null  float64\n",
      "dtypes: float16(9), float32(3), float64(1), int16(1), int32(1), int8(2)\n",
      "memory usage: 15.6 MB\n"
     ]
    }
   ],
   "source": [
    "features = [\n",
    "    'ORGANIZATION_TYPE',\n",
    "    'CREDIT_TO_ANNUITY_RATIO',\n",
    "    'EXT_SOURCES_MEAN',\n",
    "    'EXT_SOURCE_3',\n",
    "    'DAYS_BIRTH',\n",
    "    'EXT_SOURCES_MIN',\n",
    "    'BUREAU_CONSUMER_DAYS_CREDIT_ENDDATE_MAX',\n",
    "    'AMT_ANNUITY',\n",
    "    'CREDIT_TO_GOODS_RATIO',\n",
    "    'OCCUPATION_TYPE',\n",
    "    'DAYS_ID_PUBLISH',\n",
    "    'DAYS_EMPLOYED',\n",
    "    'BUREAU_CREDIT_DEBT_CREDIT_DIFF_MEAN',\n",
    "    'BUREAU_ACTIVE_DEBT_CREDIT_DIFF_MEAN',\n",
    "    \"ANNUITY_TO_INCOME_RATIO\"\n",
    "    ]\n",
    "\n",
    "important_data = get_data(debug=False)[['SK_ID_CURR', 'TARGET'] + features]\n",
    "important_data['AGE'] = - important_data['DAYS_BIRTH'] / 365\n",
    "to_drop = [\n",
    "    'DAYS_BIRTH', \n",
    "    ]\n",
    "important_data = important_data.drop('DAYS_BIRTH', axis=1)\n",
    "important_data.info()"
   ]
  },
  {
   "cell_type": "code",
   "execution_count": 12,
   "id": "8fbbf0e4",
   "metadata": {},
   "outputs": [
    {
     "data": {
      "text/plain": [
       "0"
      ]
     },
     "execution_count": 12,
     "metadata": {},
     "output_type": "execute_result"
    }
   ],
   "source": [
    "train = important_data[important_data[\"TARGET\"].notnull()]\n",
    "test = important_data[important_data[\"TARGET\"].isnull()]\n",
    "test = test.drop('TARGET', axis=1)\n",
    "del important_data\n",
    "gc.collect()\n"
   ]
  },
  {
   "cell_type": "code",
   "execution_count": 13,
   "id": "155ba144",
   "metadata": {},
   "outputs": [
    {
     "name": "stdout",
     "output_type": "stream",
     "text": [
      "Forme de train (307506, 17)\n",
      "Forme de test (48744, 16)\n"
     ]
    }
   ],
   "source": [
    "train.to_csv(os.path.join(DATA_INTERIM, \"train.csv\"))\n",
    "test.to_csv(os.path.join(DATA_INTERIM, \"test.csv\"))\n",
    "print(\"Forme de train\", train.shape)\n",
    "print(\"Forme de test\", test.shape)"
   ]
  },
  {
   "cell_type": "markdown",
   "id": "6f2dbfc6",
   "metadata": {},
   "source": [
    "# Modèle"
   ]
  },
  {
   "cell_type": "markdown",
   "id": "11831477",
   "metadata": {},
   "source": [
    "Démarrer"
   ]
  },
  {
   "cell_type": "code",
   "execution_count": 5,
   "id": "94dcc30c",
   "metadata": {},
   "outputs": [],
   "source": [
    "train = pd.read_csv(os.path.join(DATA_INTERIM, \"train.csv\"))\n",
    "test = pd.read_csv(os.path.join(DATA_INTERIM, \"test.csv\"))"
   ]
  },
  {
   "cell_type": "markdown",
   "id": "d538668e",
   "metadata": {},
   "source": [
    "Partage du Train en train et validation, séparation de la target (PAS de validation croisée)"
   ]
  },
  {
   "cell_type": "code",
   "execution_count": 6,
   "id": "238553dc",
   "metadata": {},
   "outputs": [
    {
     "name": "stdout",
     "output_type": "stream",
     "text": [
      "Forme du jeu de validation : (76877, 16)\n",
      "Forme de Target de validation : (76877,)\n",
      "\n",
      "Forme du jeu d'entraînement' : (230629, 16)\n",
      "Forme de Target d'entraînement' : (230629,)\n"
     ]
    }
   ],
   "source": [
    "train, val = train_test_split(train, test_size=0.25, stratify=train['TARGET'], shuffle=True, random_state=42)\n",
    "\n",
    "y_train = train['TARGET']\n",
    "y_val = val['TARGET']\n",
    "X_train = train.drop('TARGET', axis=1).set_index('SK_ID_CURR')\n",
    "X_val = val.drop('TARGET', axis=1).set_index('SK_ID_CURR')\n",
    "\n",
    "# Imputation avec la médiane\n",
    "median_imputer = SimpleImputer(strategy='median')\n",
    "median_imputer.fit(X_train)\n",
    "X_train_imputed = median_imputer.transform(X_train)\n",
    "X_val_imputed = median_imputer.transform(X_val)\n",
    "\n",
    "X_val.to_csv(os.path.join(DATA_INTERIM, \"X_val.csv\"))\n",
    "print(\"Forme du jeu de validation :\", X_val.shape)\n",
    "y_val.to_csv(os.path.join(DATA_INTERIM, \"y_val.csv\"))\n",
    "print(\"Forme de Target de validation :\", y_val.shape)\n",
    "\n",
    "X_train.to_csv(os.path.join(DATA_INTERIM, \"X_train.csv\"))\n",
    "print(\"\\nForme du jeu d'entraînement' :\", X_train.shape)\n",
    "y_train.to_csv(os.path.join(DATA_INTERIM, \"y_train.csv\"))\n",
    "print(\"Forme de Target d'entraînement' :\", y_train.shape)"
   ]
  },
  {
   "cell_type": "markdown",
   "id": "206a2f30",
   "metadata": {},
   "source": [
    "# Fonctions d'apprentissage et metrique  MLFlow"
   ]
  },
  {
   "cell_type": "markdown",
   "id": "4b7790ed",
   "metadata": {},
   "source": [
    "fonction d'apprentissage MLFlow"
   ]
  },
  {
   "cell_type": "code",
   "execution_count": 7,
   "id": "a9ea7fe1",
   "metadata": {},
   "outputs": [],
   "source": [
    "def train_mlflow(sk_model, X_train, y_train):\n",
    "    sk_model = sk_model.fit(X_train, y_train)\n",
    "    \n",
    "    train_acc = sk_model.score(X_train, y_train)\n",
    "    mlflow.log_metric(\"train_acc\", train_acc)\n",
    "    \n",
    "    print(f\"Train Accuracy:{train_acc:.3%}\")"
   ]
  },
  {
   "cell_type": "markdown",
   "id": "d8e70c8f",
   "metadata": {},
   "source": [
    "Métrique MLFlow"
   ]
  },
  {
   "cell_type": "code",
   "execution_count": null,
   "id": "7d9a52b9",
   "metadata": {},
   "outputs": [],
   "source": [
    "# [TODO]\n",
    "# Définir ici une métrique spéciale qui pénalise le recall des defaut ?\n",
    "# Pour l'instant on met l'accuracy, MLFlow devrait tracer ça pour chaque run"
   ]
  },
  {
   "cell_type": "markdown",
   "id": "012a18df",
   "metadata": {},
   "source": [
    "# Fonction d'évaluation MLFlow"
   ]
  },
  {
   "cell_type": "code",
   "execution_count": 15,
   "id": "f07c982d",
   "metadata": {},
   "outputs": [],
   "source": [
    "def plot_roc_curve(sk_model, X_test, y_test):\n",
    "    preds = sk_model.predict_proba(X_test)[:,1]\n",
    "    fpr, tpr, _ = roc_curve(y_test, preds)\n",
    "    plt.plot(fpr, tpr, label='ROC Curve (sklearn)')\n",
    "    plt.plot([0, 1], [0, 1], linestyle='--', color='grey')\n",
    "    plt.xlabel('False Positive Rate')\n",
    "    plt.ylabel('True Positive Rate')\n",
    "    plt.title('Receiver Operating Characteristic (ROC) Curve')\n",
    "    plt.legend()\n",
    "    plt.grid(True)\n",
    "    plt.savefig(os.path.join(MODEL_DIR, \"model_test_mlflow_roc_curve.png\"))\n",
    "    plt.show()\n",
    "    plt.clf()"
   ]
  },
  {
   "cell_type": "code",
   "execution_count": 20,
   "id": "e7a0920e",
   "metadata": {},
   "outputs": [],
   "source": [
    "def evaluate_mlflow(sk_model, X_test, y_test):\n",
    "    eval_acc = sk_model.score(X_test, y_test)\n",
    "    \n",
    "    preds = sk_model.predict(X_test)\n",
    "    auc_score = roc_auc_score(y_test, preds)\n",
    "    \n",
    "    \n",
    "    # On pénalise les faux négatifs de la classe défaut\n",
    "    WEIGHT_FN = 0.9\n",
    "    WEIGHT_FP = 0.1\n",
    "\n",
    "    # On extrait les valeurs de la matrice de confusion\n",
    "    conf_matrix = confusion_matrix(y_test, preds)\n",
    "    tn, fp, fn, tp = conf_matrix.ravel()\n",
    "    weighted_conf_matrix = np.array([[tn, np.round(fp * WEIGHT_FP)], [np.round(fn * WEIGHT_FN), tp]])\n",
    "    weighted_recall = tp / (tp + fn * WEIGHT_FN)\n",
    "    \n",
    "    dic_metrics = {\"eval_acc\": eval_acc, \"roc_auc_score\": auc_score, \"weighted_recall\": weighted_recall}\n",
    "    \n",
    "    \"\"\"# On trace dans mlflow les métriques\n",
    "    mlflow.log_metric(\"eval_acc\", eval_acc)\n",
    "    mlflow.log_metric(\"auc_score\", auc_score)\"\"\"\n",
    "    \n",
    "    print(f\"Auc Score: {auc_score:.3%}\")\n",
    "    print(f\"Eval Accuracy: {eval_acc:.3%}\")\n",
    "    \n",
    "    # Plot de la courbe ROC\n",
    "    plt.figure()\n",
    "    roc_plot = plot_roc_curve(\n",
    "        sk_model,\n",
    "        X_test,\n",
    "        y_test,\n",
    "        #name = 'ROC Curve (sklearn)',\n",
    "        )\n",
    "    \n",
    "    \n",
    "    \n",
    "    # Plot Matrice de confusion\n",
    "    #conf_matrix = confusion_matrix(y_test, preds)\n",
    "    plt.figure()\n",
    "    ax = sns.heatmap(conf_matrix, annot=True, fmt='g')\n",
    "    ax.invert_xaxis()\n",
    "    ax.invert_yaxis()\n",
    "    plt.ylabel('Actual')\n",
    "    plt.xlabel('Predicted')\n",
    "    plt.savefig(os.path.join(MODEL_DIR, \"model_test_mlflow_conf_matrix.png\"))\n",
    "    plt.show()\n",
    "    plt.clf()\n",
    "    \n",
    "    \"\"\"plt.figure()\n",
    "    ax = sns.heatmap(weighted_conf_matrix, annot=True, fmt='g')\n",
    "    ax.invert_xaxis()\n",
    "    ax.invert_yaxis()\n",
    "    plt.ylabel('Actual')\n",
    "    plt.xlabel('Predicted')\n",
    "    \n",
    "    plt.savefig(os.path.join(MODEL_DIR, \"model_test_mlflow_conf_matrix.png\"))\n",
    "    plt.show()\n",
    "    plt.clf()\"\"\"\n",
    "    \n",
    "    # Traçage mlflow\n",
    "    mlflow.log_artifact(os.path.join(MODEL_DIR, \"model_test_mlflow_roc_curve.png\"))\n",
    "    mlflow.log_artifact(os.path.join(MODEL_DIR, \"model_test_mlflow_conf_matrix.png\"))\n",
    "    return dic_metrics"
   ]
  },
  {
   "cell_type": "markdown",
   "id": "34baf5b1",
   "metadata": {},
   "source": [
    "# Premier modèle pour tester ML FLOW"
   ]
  },
  {
   "cell_type": "code",
   "execution_count": 17,
   "id": "aaf8b971",
   "metadata": {},
   "outputs": [],
   "source": [
    "sk_model = LogisticRegression(\n",
    "    max_iter=400,\n",
    "    solver='newton-cg',\n",
    "    random_state=42,\n",
    ")"
   ]
  },
  {
   "cell_type": "code",
   "execution_count": 18,
   "id": "8c5313c5",
   "metadata": {},
   "outputs": [
    {
     "data": {
      "text/plain": [
       "{'C': 1.0,\n",
       " 'class_weight': None,\n",
       " 'dual': False,\n",
       " 'fit_intercept': True,\n",
       " 'intercept_scaling': 1,\n",
       " 'l1_ratio': None,\n",
       " 'max_iter': 400,\n",
       " 'multi_class': 'auto',\n",
       " 'n_jobs': None,\n",
       " 'penalty': 'l2',\n",
       " 'random_state': 42,\n",
       " 'solver': 'newton-cg',\n",
       " 'tol': 0.0001,\n",
       " 'verbose': 0,\n",
       " 'warm_start': False}"
      ]
     },
     "execution_count": 18,
     "metadata": {},
     "output_type": "execute_result"
    }
   ],
   "source": [
    "sk_model.get_params()"
   ]
  },
  {
   "cell_type": "markdown",
   "id": "f96d3bd9",
   "metadata": {},
   "source": [
    "# Première expérience mlflow"
   ]
  },
  {
   "cell_type": "code",
   "execution_count": null,
   "id": "e115bb2e",
   "metadata": {},
   "outputs": [],
   "source": [
    "\"\"\"\n",
    "Démarrer un serveur mlflow local en ligne de commande :\n",
    "mlflow server --host 127.0.0.1 --port 8080\n",
    "\"\"\""
   ]
  },
  {
   "cell_type": "code",
   "execution_count": 13,
   "id": "0b43432d",
   "metadata": {},
   "outputs": [],
   "source": [
    "# Use the fluent API to set the tracking uri and the active experiment\n",
    "#mlflow.set_tracking_uri(\"http://127.0.0.1:8080\")"
   ]
  },
  {
   "cell_type": "code",
   "execution_count": 21,
   "id": "dd62650b",
   "metadata": {},
   "outputs": [
    {
     "name": "stderr",
     "output_type": "stream",
     "text": [
      "e:\\Mes Documents\\_Open Classroom\\Code\\p7\\p7env\\lib\\site-packages\\scipy\\optimize\\_linesearch.py:313: LineSearchWarning: The line search algorithm did not converge\n",
      "  alpha_star, phi_star, old_fval, derphi_star = scalar_search_wolfe2(\n",
      "e:\\Mes Documents\\_Open Classroom\\Code\\p7\\p7env\\lib\\site-packages\\sklearn\\utils\\optimize.py:74: LineSearchWarning: The line search algorithm did not converge\n",
      "  ret = line_search_wolfe2(\n"
     ]
    },
    {
     "name": "stdout",
     "output_type": "stream",
     "text": [
      "Train Accuracy:91.923%\n",
      "Auc Score: 50.184%\n",
      "Eval Accuracy: 91.942%\n"
     ]
    },
    {
     "data": {
      "image/png": "[encoded data removed]",
      "text/plain": [
       "<Figure size 640x480 with 1 Axes>"
      ]
     },
     "metadata": {},
     "output_type": "display_data"
    },
    {
     "data": {
      "text/plain": [
       "<Figure size 640x480 with 0 Axes>"
      ]
     },
     "metadata": {},
     "output_type": "display_data"
    },
    {
     "data": {
      "image/png": "[encoded data removed]",
      "text/plain": [
       "<Figure size 640x480 with 2 Axes>"
      ]
     },
     "metadata": {},
     "output_type": "display_data"
    },
    {
     "name": "stdout",
     "output_type": "stream",
     "text": [
      "Model run: 6f72550ec1194fb4b2767580b47abd4a\n",
      "run.info : <RunInfo: artifact_uri='mlflow-artifacts:/371043185040307163/6f72550ec1194fb4b2767580b47abd4a/artifacts', end_time=None, experiment_id='371043185040307163', lifecycle_stage='active', run_id='6f72550ec1194fb4b2767580b47abd4a', run_name='Premier run expérimental', run_uuid='6f72550ec1194fb4b2767580b47abd4a', start_time=1714204971846, status='RUNNING', user_id='Ariane'>\n"
     ]
    },
    {
     "name": "stderr",
     "output_type": "stream",
     "text": [
      "e:\\Mes Documents\\_Open Classroom\\Code\\p7\\p7env\\lib\\site-packages\\_distutils_hack\\__init__.py:18: UserWarning: Distutils was imported before Setuptools, but importing Setuptools also replaces the `distutils` module in `sys.modules`. This may lead to undesirable behaviors or errors. To avoid these issues, avoid using distutils directly, ensure that setuptools is installed in the traditional way (e.g. not an editable install), and/or make sure that setuptools is always imported before distutils.\n",
      "  warnings.warn(\n",
      "e:\\Mes Documents\\_Open Classroom\\Code\\p7\\p7env\\lib\\site-packages\\_distutils_hack\\__init__.py:33: UserWarning: Setuptools is replacing distutils.\n",
      "  warnings.warn(\"Setuptools is replacing distutils.\")\n"
     ]
    },
    {
     "data": {
      "text/plain": [
       "<Figure size 640x480 with 0 Axes>"
      ]
     },
     "metadata": {},
     "output_type": "display_data"
    }
   ],
   "source": [
    "# Traçage de l'expérience\n",
    "mlflow.set_experiment(\"Régression Logistique\")\n",
    "with mlflow.start_run(run_name=\"Premier run expérimental\") as run:\n",
    "    # Entraînement\n",
    "    train_mlflow(sk_model, X_train_imputed, y_train)\n",
    "    # Validation\n",
    "    dic_metrics = evaluate_mlflow(sk_model, X_val_imputed, y_val)\n",
    "    \n",
    "    # Log  metrics that were calculated during validation\n",
    "    mlflow.log_metrics(dic_metrics)\n",
    "    # Log the parameters used for the model fit\n",
    "    mlflow.log_params(sk_model.get_params())\n",
    "    # Log an instance of the trained model for later use\n",
    "    #mlflow.sklearn.log_model(sk_model=rf, input_example=X_val, artifact_path=artifact_path)\n",
    "    mlflow.sklearn.log_model(sk_model, \"Test 0 de mlflow sur une reg log\")\n",
    "    print(\"Model run:\", mlflow.active_run().info.run_uuid)\n",
    "    print(\"run.info :\", run.info)\n",
    "# Force mlflow à terminer le run même s'il y a une erreur dedans\n",
    "mlflow.end_run()\n",
    "\n"
   ]
  },
  {
   "cell_type": "markdown",
   "id": "0afaed1b",
   "metadata": {},
   "source": [
    "Voir le résultat dans un navigateur\n",
    "Dans firefox, http://127.0.0.1:8080"
   ]
  },
  {
   "cell_type": "markdown",
   "id": "df1962ba",
   "metadata": {},
   "source": [
    "# Sauvegarde du modèle"
   ]
  },
  {
   "cell_type": "code",
   "execution_count": 42,
   "id": "a1f47e15",
   "metadata": {},
   "outputs": [
    {
     "data": {
      "text/plain": [
       "['models/clf_reglog_test0.pkl']"
      ]
     },
     "execution_count": 42,
     "metadata": {},
     "output_type": "execute_result"
    }
   ],
   "source": [
    "joblib.dump(sk_model, os.path.join(MODEL_DIR, \"clf_reglog_test0.pkl\"))"
   ]
  },
  {
   "cell_type": "markdown",
   "id": "2aee068a",
   "metadata": {},
   "source": [
    "# Recherche d'un Run"
   ]
  },
  {
   "cell_type": "code",
   "execution_count": null,
   "id": "66ef5617",
   "metadata": {},
   "outputs": [],
   "source": [
    "# Le client c'est pour interroger mlflow\n",
    "# For example, the following code snippet search for runs that has the best validation loss among all runs in the experiment.\n",
    "client = mlflow.tracking.MlflowClient()\n",
    "experiment_id = \"0\"\n",
    "best_run = client.search_runs(\n",
    "    experiment_id, order_by=[\"metrics.val_loss ASC\"], max_results=1\n",
    ")[0]\n",
    "print(best_run.info)\n",
    "# {'run_id': '...', 'metrics': {'val_loss': 0.123}, ...}\n"
   ]
  },
  {
   "cell_type": "markdown",
   "id": "9cdd4723",
   "metadata": {},
   "source": [
    "# Test du modèle"
   ]
  },
  {
   "cell_type": "markdown",
   "id": "53d8d795",
   "metadata": {},
   "source": [
    "Charger un modèle loggé"
   ]
  },
  {
   "cell_type": "code",
   "execution_count": 53,
   "id": "5c063856",
   "metadata": {},
   "outputs": [
    {
     "ename": "MlflowException",
     "evalue": "Not a proper runs:/ URI: runs://a1c3ff54285f47fa88f5d823d08dc943/. Runs URIs must be of the form 'runs:/<run_id>/run-relative/path/to/artifact'",
     "output_type": "error",
     "traceback": [
      "\u001b[1;31m---------------------------------------------------------------------------\u001b[0m",
      "\u001b[1;31mMlflowException\u001b[0m                           Traceback (most recent call last)",
      "Cell \u001b[1;32mIn[53], line 1\u001b[0m\n\u001b[1;32m----> 1\u001b[0m loaded_model \u001b[38;5;241m=\u001b[39m \u001b[43mmlflow\u001b[49m\u001b[38;5;241;43m.\u001b[39;49m\u001b[43msklearn\u001b[49m\u001b[38;5;241;43m.\u001b[39;49m\u001b[43mload_model\u001b[49m\u001b[43m(\u001b[49m\n\u001b[0;32m      2\u001b[0m \u001b[43m    \u001b[49m\u001b[38;5;66;43;03m#\"runs://a1c3ff54285f47fa88f5d823d08dc943/'Test 0 de mlflow sur une reg log'\"\u001b[39;49;00m\n\u001b[0;32m      3\u001b[0m \u001b[43m    \u001b[49m\u001b[38;5;66;43;03m#\"mlruns/935863330358510444/a1c3ff54285f47fa88f5d823d08dc943/artifacts\"\u001b[39;49;00m\n\u001b[0;32m      4\u001b[0m \u001b[43m    \u001b[49m\u001b[38;5;124;43m\"\u001b[39;49m\u001b[38;5;124;43mruns://a1c3ff54285f47fa88f5d823d08dc943/artifacts\u001b[39;49m\u001b[38;5;124;43m\"\u001b[39;49m\n\u001b[0;32m      5\u001b[0m \u001b[43m)\u001b[49m\n",
      "File \u001b[1;32me:\\Mes Documents\\_Open Classroom\\Code\\p7\\p7env\\lib\\site-packages\\mlflow\\sklearn\\__init__.py:635\u001b[0m, in \u001b[0;36mload_model\u001b[1;34m(model_uri, dst_path)\u001b[0m\n\u001b[0;32m    600\u001b[0m \u001b[38;5;28;01mdef\u001b[39;00m \u001b[38;5;21mload_model\u001b[39m(model_uri, dst_path\u001b[38;5;241m=\u001b[39m\u001b[38;5;28;01mNone\u001b[39;00m):\n\u001b[0;32m    601\u001b[0m \u001b[38;5;250m    \u001b[39m\u001b[38;5;124;03m\"\"\"\u001b[39;00m\n\u001b[0;32m    602\u001b[0m \u001b[38;5;124;03m    Load a scikit-learn model from a local file or a run.\u001b[39;00m\n\u001b[0;32m    603\u001b[0m \n\u001b[1;32m   (...)\u001b[0m\n\u001b[0;32m    633\u001b[0m \u001b[38;5;124;03m        predictions = sk_model.predict(pandas_df)\u001b[39;00m\n\u001b[0;32m    634\u001b[0m \u001b[38;5;124;03m    \"\"\"\u001b[39;00m\n\u001b[1;32m--> 635\u001b[0m     local_model_path \u001b[38;5;241m=\u001b[39m \u001b[43m_download_artifact_from_uri\u001b[49m\u001b[43m(\u001b[49m\u001b[43martifact_uri\u001b[49m\u001b[38;5;241;43m=\u001b[39;49m\u001b[43mmodel_uri\u001b[49m\u001b[43m,\u001b[49m\u001b[43m \u001b[49m\u001b[43moutput_path\u001b[49m\u001b[38;5;241;43m=\u001b[39;49m\u001b[43mdst_path\u001b[49m\u001b[43m)\u001b[49m\n\u001b[0;32m    636\u001b[0m     flavor_conf \u001b[38;5;241m=\u001b[39m _get_flavor_configuration(model_path\u001b[38;5;241m=\u001b[39mlocal_model_path, flavor_name\u001b[38;5;241m=\u001b[39mFLAVOR_NAME)\n\u001b[0;32m    637\u001b[0m     _add_code_from_conf_to_system_path(local_model_path, flavor_conf)\n",
      "File \u001b[1;32me:\\Mes Documents\\_Open Classroom\\Code\\p7\\p7env\\lib\\site-packages\\mlflow\\tracking\\artifact_utils.py:106\u001b[0m, in \u001b[0;36m_download_artifact_from_uri\u001b[1;34m(artifact_uri, output_path)\u001b[0m\n\u001b[0;32m     99\u001b[0m \u001b[38;5;250m\u001b[39m\u001b[38;5;124;03m\"\"\"\u001b[39;00m\n\u001b[0;32m    100\u001b[0m \u001b[38;5;124;03mArgs:\u001b[39;00m\n\u001b[0;32m    101\u001b[0m \u001b[38;5;124;03m    artifact_uri: The *absolute* URI of the artifact to download.\u001b[39;00m\n\u001b[0;32m    102\u001b[0m \u001b[38;5;124;03m    output_path: The local filesystem path to which to download the artifact. If unspecified,\u001b[39;00m\n\u001b[0;32m    103\u001b[0m \u001b[38;5;124;03m        a local output path will be created.\u001b[39;00m\n\u001b[0;32m    104\u001b[0m \u001b[38;5;124;03m\"\"\"\u001b[39;00m\n\u001b[0;32m    105\u001b[0m root_uri, artifact_path \u001b[38;5;241m=\u001b[39m _get_root_uri_and_artifact_path(artifact_uri)\n\u001b[1;32m--> 106\u001b[0m \u001b[38;5;28;01mreturn\u001b[39;00m \u001b[43mget_artifact_repository\u001b[49m\u001b[43m(\u001b[49m\u001b[43martifact_uri\u001b[49m\u001b[38;5;241;43m=\u001b[39;49m\u001b[43mroot_uri\u001b[49m\u001b[43m)\u001b[49m\u001b[38;5;241m.\u001b[39mdownload_artifacts(\n\u001b[0;32m    107\u001b[0m     artifact_path\u001b[38;5;241m=\u001b[39martifact_path, dst_path\u001b[38;5;241m=\u001b[39moutput_path\n\u001b[0;32m    108\u001b[0m )\n",
      "File \u001b[1;32me:\\Mes Documents\\_Open Classroom\\Code\\p7\\p7env\\lib\\site-packages\\mlflow\\store\\artifact\\artifact_repository_registry.py:124\u001b[0m, in \u001b[0;36mget_artifact_repository\u001b[1;34m(artifact_uri)\u001b[0m\n\u001b[0;32m    111\u001b[0m \u001b[38;5;28;01mdef\u001b[39;00m \u001b[38;5;21mget_artifact_repository\u001b[39m(artifact_uri: \u001b[38;5;28mstr\u001b[39m) \u001b[38;5;241m-\u001b[39m\u001b[38;5;241m>\u001b[39m ArtifactRepository:\n\u001b[0;32m    112\u001b[0m \u001b[38;5;250m    \u001b[39m\u001b[38;5;124;03m\"\"\"\u001b[39;00m\n\u001b[0;32m    113\u001b[0m \u001b[38;5;124;03m    Get an artifact repository from the registry based on the scheme of artifact_uri\u001b[39;00m\n\u001b[0;32m    114\u001b[0m \n\u001b[1;32m   (...)\u001b[0m\n\u001b[0;32m    122\u001b[0m \u001b[38;5;124;03m        requirements.\u001b[39;00m\n\u001b[0;32m    123\u001b[0m \u001b[38;5;124;03m    \"\"\"\u001b[39;00m\n\u001b[1;32m--> 124\u001b[0m     \u001b[38;5;28;01mreturn\u001b[39;00m \u001b[43m_artifact_repository_registry\u001b[49m\u001b[38;5;241;43m.\u001b[39;49m\u001b[43mget_artifact_repository\u001b[49m\u001b[43m(\u001b[49m\u001b[43martifact_uri\u001b[49m\u001b[43m)\u001b[49m\n",
      "File \u001b[1;32me:\\Mes Documents\\_Open Classroom\\Code\\p7\\p7env\\lib\\site-packages\\mlflow\\store\\artifact\\artifact_repository_registry.py:77\u001b[0m, in \u001b[0;36mArtifactRepositoryRegistry.get_artifact_repository\u001b[1;34m(self, artifact_uri)\u001b[0m\n\u001b[0;32m     72\u001b[0m \u001b[38;5;28;01mif\u001b[39;00m repository \u001b[38;5;129;01mis\u001b[39;00m \u001b[38;5;28;01mNone\u001b[39;00m:\n\u001b[0;32m     73\u001b[0m     \u001b[38;5;28;01mraise\u001b[39;00m MlflowException(\n\u001b[0;32m     74\u001b[0m         \u001b[38;5;124mf\u001b[39m\u001b[38;5;124m\"\u001b[39m\u001b[38;5;124mCould not find a registered artifact repository for: \u001b[39m\u001b[38;5;132;01m{\u001b[39;00martifact_uri\u001b[38;5;132;01m}\u001b[39;00m\u001b[38;5;124m. \u001b[39m\u001b[38;5;124m\"\u001b[39m\n\u001b[0;32m     75\u001b[0m         \u001b[38;5;124mf\u001b[39m\u001b[38;5;124m\"\u001b[39m\u001b[38;5;124mCurrently registered schemes are: \u001b[39m\u001b[38;5;132;01m{\u001b[39;00m\u001b[38;5;28mlist\u001b[39m(\u001b[38;5;28mself\u001b[39m\u001b[38;5;241m.\u001b[39m_registry\u001b[38;5;241m.\u001b[39mkeys())\u001b[38;5;132;01m}\u001b[39;00m\u001b[38;5;124m\"\u001b[39m\n\u001b[0;32m     76\u001b[0m     )\n\u001b[1;32m---> 77\u001b[0m \u001b[38;5;28;01mreturn\u001b[39;00m \u001b[43mrepository\u001b[49m\u001b[43m(\u001b[49m\u001b[43martifact_uri\u001b[49m\u001b[43m)\u001b[49m\n",
      "File \u001b[1;32me:\\Mes Documents\\_Open Classroom\\Code\\p7\\p7env\\lib\\site-packages\\mlflow\\store\\artifact\\runs_artifact_repo.py:26\u001b[0m, in \u001b[0;36mRunsArtifactRepository.__init__\u001b[1;34m(self, artifact_uri)\u001b[0m\n\u001b[0;32m     23\u001b[0m \u001b[38;5;28;01mfrom\u001b[39;00m \u001b[38;5;21;01mmlflow\u001b[39;00m\u001b[38;5;21;01m.\u001b[39;00m\u001b[38;5;21;01mstore\u001b[39;00m\u001b[38;5;21;01m.\u001b[39;00m\u001b[38;5;21;01martifact\u001b[39;00m\u001b[38;5;21;01m.\u001b[39;00m\u001b[38;5;21;01martifact_repository_registry\u001b[39;00m \u001b[38;5;28;01mimport\u001b[39;00m get_artifact_repository\n\u001b[0;32m     25\u001b[0m \u001b[38;5;28msuper\u001b[39m()\u001b[38;5;241m.\u001b[39m\u001b[38;5;21m__init__\u001b[39m(artifact_uri)\n\u001b[1;32m---> 26\u001b[0m uri \u001b[38;5;241m=\u001b[39m \u001b[43mRunsArtifactRepository\u001b[49m\u001b[38;5;241;43m.\u001b[39;49m\u001b[43mget_underlying_uri\u001b[49m\u001b[43m(\u001b[49m\u001b[43martifact_uri\u001b[49m\u001b[43m)\u001b[49m\n\u001b[0;32m     27\u001b[0m \u001b[38;5;28mself\u001b[39m\u001b[38;5;241m.\u001b[39mrepo \u001b[38;5;241m=\u001b[39m get_artifact_repository(uri)\n",
      "File \u001b[1;32me:\\Mes Documents\\_Open Classroom\\Code\\p7\\p7env\\lib\\site-packages\\mlflow\\store\\artifact\\runs_artifact_repo.py:37\u001b[0m, in \u001b[0;36mRunsArtifactRepository.get_underlying_uri\u001b[1;34m(runs_uri)\u001b[0m\n\u001b[0;32m     33\u001b[0m \u001b[38;5;129m@staticmethod\u001b[39m\n\u001b[0;32m     34\u001b[0m \u001b[38;5;28;01mdef\u001b[39;00m \u001b[38;5;21mget_underlying_uri\u001b[39m(runs_uri):\n\u001b[0;32m     35\u001b[0m     \u001b[38;5;28;01mfrom\u001b[39;00m \u001b[38;5;21;01mmlflow\u001b[39;00m\u001b[38;5;21;01m.\u001b[39;00m\u001b[38;5;21;01mtracking\u001b[39;00m\u001b[38;5;21;01m.\u001b[39;00m\u001b[38;5;21;01martifact_utils\u001b[39;00m \u001b[38;5;28;01mimport\u001b[39;00m get_artifact_uri\n\u001b[1;32m---> 37\u001b[0m     (run_id, artifact_path) \u001b[38;5;241m=\u001b[39m \u001b[43mRunsArtifactRepository\u001b[49m\u001b[38;5;241;43m.\u001b[39;49m\u001b[43mparse_runs_uri\u001b[49m\u001b[43m(\u001b[49m\u001b[43mruns_uri\u001b[49m\u001b[43m)\u001b[49m\n\u001b[0;32m     38\u001b[0m     tracking_uri \u001b[38;5;241m=\u001b[39m get_databricks_profile_uri_from_artifact_uri(runs_uri)\n\u001b[0;32m     39\u001b[0m     uri \u001b[38;5;241m=\u001b[39m get_artifact_uri(run_id, artifact_path, tracking_uri)\n",
      "File \u001b[1;32me:\\Mes Documents\\_Open Classroom\\Code\\p7\\p7env\\lib\\site-packages\\mlflow\\store\\artifact\\runs_artifact_repo.py:54\u001b[0m, in \u001b[0;36mRunsArtifactRepository.parse_runs_uri\u001b[1;34m(run_uri)\u001b[0m\n\u001b[0;32m     52\u001b[0m path \u001b[38;5;241m=\u001b[39m parsed\u001b[38;5;241m.\u001b[39mpath\n\u001b[0;32m     53\u001b[0m \u001b[38;5;28;01mif\u001b[39;00m \u001b[38;5;129;01mnot\u001b[39;00m path\u001b[38;5;241m.\u001b[39mstartswith(\u001b[38;5;124m\"\u001b[39m\u001b[38;5;124m/\u001b[39m\u001b[38;5;124m\"\u001b[39m) \u001b[38;5;129;01mor\u001b[39;00m \u001b[38;5;28mlen\u001b[39m(path) \u001b[38;5;241m<\u001b[39m\u001b[38;5;241m=\u001b[39m \u001b[38;5;241m1\u001b[39m:\n\u001b[1;32m---> 54\u001b[0m     \u001b[38;5;28;01mraise\u001b[39;00m MlflowException(\n\u001b[0;32m     55\u001b[0m         \u001b[38;5;124mf\u001b[39m\u001b[38;5;124m\"\u001b[39m\u001b[38;5;124mNot a proper runs:/ URI: \u001b[39m\u001b[38;5;132;01m{\u001b[39;00mrun_uri\u001b[38;5;132;01m}\u001b[39;00m\u001b[38;5;124m. \u001b[39m\u001b[38;5;124m\"\u001b[39m\n\u001b[0;32m     56\u001b[0m         \u001b[38;5;241m+\u001b[39m \u001b[38;5;124m\"\u001b[39m\u001b[38;5;124mRuns URIs must be of the form \u001b[39m\u001b[38;5;124m'\u001b[39m\u001b[38;5;124mruns:/<run_id>/run-relative/path/to/artifact\u001b[39m\u001b[38;5;124m'\u001b[39m\u001b[38;5;124m\"\u001b[39m\n\u001b[0;32m     57\u001b[0m     )\n\u001b[0;32m     58\u001b[0m path \u001b[38;5;241m=\u001b[39m path[\u001b[38;5;241m1\u001b[39m:]\n\u001b[0;32m     60\u001b[0m path_parts \u001b[38;5;241m=\u001b[39m path\u001b[38;5;241m.\u001b[39msplit(\u001b[38;5;124m\"\u001b[39m\u001b[38;5;124m/\u001b[39m\u001b[38;5;124m\"\u001b[39m)\n",
      "\u001b[1;31mMlflowException\u001b[0m: Not a proper runs:/ URI: runs://a1c3ff54285f47fa88f5d823d08dc943/. Runs URIs must be of the form 'runs:/<run_id>/run-relative/path/to/artifact'"
     ]
    }
   ],
   "source": [
    "loaded_model = mlflow.sklearn.load_model(\n",
    "    #\"runs://a1c3ff54285f47fa88f5d823d08dc943/'Test 0 de mlflow sur une reg log'\"\n",
    "    #\"mlruns/935863330358510444/a1c3ff54285f47fa88f5d823d08dc943/artifacts\"\n",
    "    \"runs://a1c3ff54285f47fa88f5d823d08dc943/artifacts\"\n",
    ")"
   ]
  },
  {
   "cell_type": "markdown",
   "id": "8343c0e6",
   "metadata": {},
   "source": [
    "Tester le modèle"
   ]
  },
  {
   "cell_type": "code",
   "execution_count": null,
   "id": "1b03ba4a",
   "metadata": {},
   "outputs": [],
   "source": [
    "loaded_model.score(X_test, y_test)"
   ]
  },
  {
   "cell_type": "markdown",
   "id": "4eb987b1",
   "metadata": {},
   "source": [
    "# MLFlow"
   ]
  },
  {
   "cell_type": "markdown",
   "id": "aedaefcc",
   "metadata": {},
   "source": [
    "Démarrer le serveur mlflow"
   ]
  },
  {
   "cell_type": "code",
   "execution_count": null,
   "id": "f396f91b",
   "metadata": {},
   "outputs": [
    {
     "data": {
      "text/plain": [
       "'\\nDémarrer un serveur mlflow en local :\\nmlflow server --host 127.0.0.1 --port 8080\\n'"
      ]
     },
     "metadata": {},
     "output_type": "display_data"
    }
   ],
   "source": [
    "\"\"\"\n",
    "Démarrer un serveur mlflow en local :\n",
    "mlflow server --host 127.0.0.1 --port 8080\n",
    "\"\"\""
   ]
  },
  {
   "cell_type": "markdown",
   "id": "2bd9fb01",
   "metadata": {},
   "source": [
    "Initialiser un client mlflow"
   ]
  },
  {
   "cell_type": "code",
   "execution_count": null,
   "id": "b2a091b6",
   "metadata": {},
   "outputs": [],
   "source": [
    "# NOTE: review the links mentioned above for guidance on connecting to a managed tracking server, such as the free Databricks Community Edition\n",
    "\n",
    "client = MlflowClient(tracking_uri=URI_LOCAL)"
   ]
  },
  {
   "cell_type": "markdown",
   "id": "42eddba8",
   "metadata": {},
   "source": [
    "Création d'une nouvelle expérience mlflow"
   ]
  },
  {
   "cell_type": "code",
   "execution_count": null,
   "id": "047fbfb3",
   "metadata": {},
   "outputs": [
    {
     "data": {
      "text/plain": [
       "'experiment_description = (\\n    \"OC P7 Implémentez un modèle de Scoring\"\\n    \"Modèle LightGBM - Mode Debug\"\\n)\\n\\nexperiment_tags = {\\n    \"project_name\": \"p7\",\\n    \"store_dept\": \"produce\",\\n    \"team\": \"oc\",\\n    \"project_quarter\": \"Q1-2024\",\\n    \"mlflow.note.content\": experiment_description,\\n}\\n\\nlightgbm_debug_experiment = client.create_experiment(name=\"lightgbm_debug\", tags=experiment_tags)'"
      ]
     },
     "metadata": {},
     "output_type": "display_data"
    }
   ],
   "source": [
    "\"\"\"experiment_description = (\n",
    "    \"OC P7 Implémentez un modèle de Scoring\"\n",
    "    \"Modèle LightGBM - Mode Debug\"\n",
    ")\n",
    "\n",
    "experiment_tags = {\n",
    "    \"project_name\": \"p7\",\n",
    "    \"store_dept\": \"produce\",\n",
    "    \"team\": \"oc\",\n",
    "    \"project_quarter\": \"Q1-2024\",\n",
    "    \"mlflow.note.content\": experiment_description,\n",
    "}\n",
    "\n",
    "lightgbm_debug_experiment = client.create_experiment(name=\"lightgbm_debug\", tags=experiment_tags)\"\"\""
   ]
  },
  {
   "cell_type": "markdown",
   "id": "7c4dc363",
   "metadata": {},
   "source": [
    "Rechercher l'expérience avec le nom du projet"
   ]
  },
  {
   "cell_type": "code",
   "execution_count": null,
   "id": "a48a7f38",
   "metadata": {},
   "outputs": [
    {
     "name": "stdout",
     "output_type": "stream",
     "text": [
      "<Experiment: artifact_location='mlflow-artifacts:/768052023167465751', creation_time=1713797424132, experiment_id='768052023167465751', last_update_time=1713797424132, lifecycle_stage='active', name='lightgbm_debug', tags={'mlflow.note.content': 'OC P7 Implémentez un modèle de ScoringModèle LightGBM '\n",
      "                        '- Mode Debug',\n",
      " 'project_name': 'p7',\n",
      " 'project_quarter': 'Q1-2024',\n",
      " 'store_dept': 'produce',\n",
      " 'team': 'oc'}>\n"
     ]
    }
   ],
   "source": [
    "# Use search_experiments() to search on the project_name tag key\n",
    "\n",
    "lightgbm_debug_experiment = client.search_experiments(\n",
    "    filter_string=\"tags.'project_name' = 'p7'\"\n",
    ")\n",
    "\n",
    "pprint(lightgbm_debug_experiment[0])"
   ]
  },
  {
   "cell_type": "code",
   "execution_count": null,
   "id": "78e9d1a2",
   "metadata": {},
   "outputs": [
    {
     "name": "stdout",
     "output_type": "stream",
     "text": [
      "oc\n"
     ]
    }
   ],
   "source": [
    "# Access individual tag data\n",
    "\n",
    "print(lightgbm_debug_experiment[0].tags[\"team\"])"
   ]
  },
  {
   "cell_type": "markdown",
   "id": "77102c18",
   "metadata": {},
   "source": [
    "## Démarrer un run mlflow"
   ]
  },
  {
   "cell_type": "code",
   "execution_count": null,
   "id": "f179b885",
   "metadata": {},
   "outputs": [],
   "source": [
    "import mlflow\n",
    "\n",
    "# Use the fluent API to set the tracking uri and the active experiment\n",
    "mlflow.set_tracking_uri(URI_LOCAL)\n",
    "\n",
    "# Sets the current active experiment to the \"Apple_Models\" experiment and returns the Experiment metadata\n",
    "lightgbm_debug_experiment = mlflow.set_experiment(\"lightgbm_debug\")\n",
    "\n",
    "# Define a run name for this iteration of training.\n",
    "# If this is not set, a unique name will be auto-generated for your run.\n",
    "run_name = \"lightgbm_debug_test\"\n",
    "\n",
    "# Define an artifact path that the model will be saved to.\n",
    "artifact_path = \"lightgbm_debug\""
   ]
  },
  {
   "cell_type": "code",
   "execution_count": 14,
   "id": "ae02e54b",
   "metadata": {},
   "outputs": [
    {
     "name": "stderr",
     "output_type": "stream",
     "text": [
      "2024/04/20 10:03:40 WARNING mlflow.utils.git_utils: Failed to import Git (the Git executable is probably not on your PATH), so Git SHA is not available. Error: Failed to initialize: Bad git executable.\n",
      "The git executable must be specified in one of the following ways:\n",
      "    - be included in your $PATH\n",
      "    - be set via $GIT_PYTHON_GIT_EXECUTABLE\n",
      "    - explicitly set via git.refresh(<full-path-to-git-executable>)\n",
      "\n",
      "All git commands will error until this is rectified.\n",
      "\n",
      "This initial message can be silenced or aggravated in the future by setting the\n",
      "$GIT_PYTHON_REFRESH environment variable. Use one of the following values:\n",
      "    - quiet|q|silence|s|silent|none|n|0: for no message or exception\n",
      "    - warn|w|warning|log|l|1: for a warning message (logging level CRITICAL, displayed by default)\n",
      "    - error|e|exception|raise|r|2: for a raised exception\n",
      "\n",
      "Example:\n",
      "    export GIT_PYTHON_REFRESH=quiet\n",
      "\n",
      "e:\\Mes Documents\\_Open Classroom\\Code\\p7\\p7env\\lib\\site-packages\\mlflow\\types\\utils.py:394: UserWarning: Hint: Inferred schema contains integer column(s). Integer columns in Python cannot represent missing values. If your input data contains missing values at inference time, it will be encoded as floats and will cause a schema enforcement error. The best way to avoid this problem is to infer the model schema based on a realistic data sample (training dataset) that includes missing values. Alternatively, you can declare integer columns as doubles (float64) whenever these columns may have missing values. See `Handling Integers With Missing Values <https://www.mlflow.org/docs/latest/models.html#handling-integers-with-missing-values>`_ for more details.\n",
      "  warnings.warn(\n"
     ]
    }
   ],
   "source": [
    "# Split the data into features and target and drop irrelevant date field and target field\n",
    "X = data.drop(columns=[\"date\", \"demand\"])\n",
    "y = data[\"demand\"]\n",
    "\n",
    "# Split the data into training and validation sets\n",
    "X_train, X_val, y_train, y_val = train_test_split(X, y, test_size=0.2, random_state=42)\n",
    "\n",
    "\"\"\"params = {\n",
    "    \"n_estimators\": 100,\n",
    "    \"max_depth\": 6,\n",
    "    \"min_samples_split\": 10,\n",
    "    \"min_samples_leaf\": 4,\n",
    "    \"bootstrap\": True,\n",
    "    \"oob_score\": False,\n",
    "    \"random_state\": 888,\n",
    "}\"\"\"\n",
    "\n",
    "LIGHTGBM_PARAMS = {\n",
    "    \"boosting_type\": \"goss\",\n",
    "    \"n_estimators\": 10000,\n",
    "    \"learning_rate\": 0.005134,\n",
    "    \"num_leaves\": 54,\n",
    "    \"max_depth\": 10,\n",
    "    \"subsample_for_bin\": 240000,\n",
    "    \"reg_alpha\": 0.436193,\n",
    "    \"reg_lambda\": 0.479169,\n",
    "    \"colsample_bytree\": 0.508716,\n",
    "    \"min_split_gain\": 0.024766,\n",
    "    \"subsample\": 1,\n",
    "    \"is_unbalance\": False,\n",
    "    \"silent\": -1,\n",
    "    \"verbose\": -1,\n",
    "}\n",
    "\n",
    "# Train the RandomForestRegressor\n",
    "rf = RandomForestRegressor(**params)\n",
    "\n",
    "# Fit the model on the training data\n",
    "rf.fit(X_train, y_train)\n",
    "\n",
    "# Predict on the validation set\n",
    "y_pred = rf.predict(X_val)\n",
    "\n",
    "# Calculate error metrics\n",
    "mae = mean_absolute_error(y_val, y_pred)\n",
    "mse = mean_squared_error(y_val, y_pred)\n",
    "rmse = np.sqrt(mse)\n",
    "r2 = r2_score(y_val, y_pred)\n",
    "\n",
    "# Assemble the metrics we're going to write into a collection\n",
    "metrics = {\"mae\": mae, \"mse\": mse, \"rmse\": rmse, \"r2\": r2}\n",
    "\n",
    "# Initiate the MLflow run context\n",
    "with mlflow.start_run(run_name=run_name) as run:\n",
    "    # Log the parameters used for the model fit\n",
    "    mlflow.log_params(LIGHTGBM_PARAMS)\n",
    "\n",
    "    # Log the error metrics that were calculated during validation\n",
    "    mlflow.log_metrics(metrics)\n",
    "\n",
    "    # Log an instance of the trained model for later use\n",
    "    mlflow.sklearn.log_model(sk_model=rf, input_example=X_val, artifact_path=artifact_path)"
   ]
  },
  {
   "cell_type": "markdown",
   "id": "84c06abe",
   "metadata": {},
   "source": [
    "#### Success!\n",
    "\n",
    "You've just logged your first MLflow model! \n",
    "\n",
    "Navigate to the MLflow UI to see the run that was just created (named \"apples_rf_test\", logged to the Experiment \"Apple_Models\"). "
   ]
  }
 ],
 "metadata": {
  "kernelspec": {
   "display_name": "Python 3 (ipykernel)",
   "language": "python",
   "name": "python3"
  },
  "language_info": {
   "codemirror_mode": {
    "name": "ipython",
    "version": 3
   },
   "file_extension": ".py",
   "mimetype": "text/x-python",
   "name": "python",
   "nbconvert_exporter": "python",
   "pygments_lexer": "ipython3",
   "version": "3.10.11"
  }
 },
 "nbformat": 4,
 "nbformat_minor": 5
}
