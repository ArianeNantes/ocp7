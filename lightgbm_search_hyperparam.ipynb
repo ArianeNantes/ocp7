{
 "cells": [
  {
   "cell_type": "code",
   "execution_count": 2,
   "metadata": {
    "ExecuteTime": {
     "end_time": "2023-04-27T12:28:07.483508Z",
     "start_time": "2023-04-27T12:28:07.139630Z"
    },
    "collapsed": true
   },
   "outputs": [],
   "source": [
    "# On affiche les graphiques dans le notebook en statique\n",
    "%matplotlib inline"
   ]
  },
  {
   "cell_type": "code",
   "execution_count": 3,
   "metadata": {},
   "outputs": [],
   "source": [
    "import numpy as np\n",
    "import logging\n",
    "import re\n",
    "import os\n",
    "import gc\n",
    "import joblib\n",
    "import lightgbm as lgb\n",
    "import optuna\n",
    "import plotly\n",
    "import kaleido\n",
    "import mlflow\n",
    "\n",
    "import pandas as pd\n",
    "from sklearn.model_selection import cross_val_score, cross_validate\n",
    "from sklearn.model_selection import StratifiedKFold\n",
    "from sklearn.metrics import confusion_matrix, make_scorer, f1_score"
   ]
  },
  {
   "cell_type": "code",
   "execution_count": 4,
   "metadata": {},
   "outputs": [],
   "source": [
    "from src.p7_constantes import DATA_INTERIM, DATA_BASE, MODEL_DIR\n",
    "from src.p7_constantes import LOCAL_HOST, LOCAL_PORT\n",
    "from src.p7_util import timer, clean_ram\n",
    "from src.p7_regex import sel_var"
   ]
  },
  {
   "cell_type": "code",
   "execution_count": 5,
   "metadata": {},
   "outputs": [
    {
     "name": "stdout",
     "output_type": "stream",
     "text": [
      "mlflow 2.12.1\n",
      "optuna 3.6.1\n",
      "numpy 1.26.4\n",
      "plotly 5.21.0\n",
      "kaleido 0.1.0\n"
     ]
    }
   ],
   "source": [
    "print(\"mlflow\", mlflow.__version__)\n",
    "print(\"optuna\", optuna.__version__)\n",
    "print(\"numpy\", np.__version__)\n",
    "print(\"plotly\", plotly.__version__)\n",
    "print(\"kaleido\", kaleido.__version__)"
   ]
  },
  {
   "cell_type": "markdown",
   "metadata": {},
   "source": [
    "Démarrer"
   ]
  },
  {
   "cell_type": "code",
   "execution_count": 6,
   "metadata": {},
   "outputs": [],
   "source": [
    "# from src.p7_regex import sel_var"
   ]
  },
  {
   "cell_type": "code",
   "execution_count": 7,
   "metadata": {},
   "outputs": [],
   "source": [
    "subdir = \"light_simple/\""
   ]
  },
  {
   "cell_type": "code",
   "execution_count": 8,
   "metadata": {},
   "outputs": [
    {
     "name": "stdout",
     "output_type": "stream",
     "text": [
      "0 variables à inclure correspondant au motif 'Unnamed' : []\n",
      "0 variables à exclure correspondant au motif 'None' : []\n",
      "0 variables sélectionnées : []\n",
      "Forme de train.csv : (307507, 794)\n"
     ]
    },
    {
     "data": {
      "text/html": [
       "<div>\n",
       "<style scoped>\n",
       "    .dataframe tbody tr th:only-of-type {\n",
       "        vertical-align: middle;\n",
       "    }\n",
       "\n",
       "    .dataframe tbody tr th {\n",
       "        vertical-align: top;\n",
       "    }\n",
       "\n",
       "    .dataframe thead th {\n",
       "        text-align: right;\n",
       "    }\n",
       "</style>\n",
       "<table border=\"1\" class=\"dataframe\">\n",
       "  <thead>\n",
       "    <tr style=\"text-align: right;\">\n",
       "      <th></th>\n",
       "      <th>SK_ID_CURR</th>\n",
       "      <th>TARGET</th>\n",
       "      <th>CODE_GENDER</th>\n",
       "      <th>FLAG_OWN_CAR</th>\n",
       "      <th>FLAG_OWN_REALTY</th>\n",
       "      <th>CNT_CHILDREN</th>\n",
       "      <th>AMT_INCOME_TOTAL</th>\n",
       "      <th>AMT_CREDIT</th>\n",
       "      <th>AMT_ANNUITY</th>\n",
       "      <th>AMT_GOODS_PRICE</th>\n",
       "      <th>...</th>\n",
       "      <th>CC_NAME_CONTRACT_STATUS_Sentproposal_MEAN</th>\n",
       "      <th>CC_NAME_CONTRACT_STATUS_Sentproposal_SUM</th>\n",
       "      <th>CC_NAME_CONTRACT_STATUS_Sentproposal_VAR</th>\n",
       "      <th>CC_NAME_CONTRACT_STATUS_Signed_MEAN</th>\n",
       "      <th>CC_NAME_CONTRACT_STATUS_Signed_SUM</th>\n",
       "      <th>CC_NAME_CONTRACT_STATUS_Signed_VAR</th>\n",
       "      <th>CC_NAME_CONTRACT_STATUS_nan_MEAN</th>\n",
       "      <th>CC_NAME_CONTRACT_STATUS_nan_SUM</th>\n",
       "      <th>CC_NAME_CONTRACT_STATUS_nan_VAR</th>\n",
       "      <th>CC_COUNT</th>\n",
       "    </tr>\n",
       "  </thead>\n",
       "  <tbody>\n",
       "    <tr>\n",
       "      <th>0</th>\n",
       "      <td>100002</td>\n",
       "      <td>1.0</td>\n",
       "      <td>0</td>\n",
       "      <td>0</td>\n",
       "      <td>0</td>\n",
       "      <td>0</td>\n",
       "      <td>202500.0</td>\n",
       "      <td>406597.5</td>\n",
       "      <td>24700.5</td>\n",
       "      <td>351000.0</td>\n",
       "      <td>...</td>\n",
       "      <td>NaN</td>\n",
       "      <td>NaN</td>\n",
       "      <td>NaN</td>\n",
       "      <td>NaN</td>\n",
       "      <td>NaN</td>\n",
       "      <td>NaN</td>\n",
       "      <td>NaN</td>\n",
       "      <td>NaN</td>\n",
       "      <td>NaN</td>\n",
       "      <td>NaN</td>\n",
       "    </tr>\n",
       "    <tr>\n",
       "      <th>1</th>\n",
       "      <td>100003</td>\n",
       "      <td>0.0</td>\n",
       "      <td>1</td>\n",
       "      <td>0</td>\n",
       "      <td>1</td>\n",
       "      <td>0</td>\n",
       "      <td>270000.0</td>\n",
       "      <td>1293502.5</td>\n",
       "      <td>35698.5</td>\n",
       "      <td>1129500.0</td>\n",
       "      <td>...</td>\n",
       "      <td>NaN</td>\n",
       "      <td>NaN</td>\n",
       "      <td>NaN</td>\n",
       "      <td>NaN</td>\n",
       "      <td>NaN</td>\n",
       "      <td>NaN</td>\n",
       "      <td>NaN</td>\n",
       "      <td>NaN</td>\n",
       "      <td>NaN</td>\n",
       "      <td>NaN</td>\n",
       "    </tr>\n",
       "    <tr>\n",
       "      <th>2</th>\n",
       "      <td>100004</td>\n",
       "      <td>0.0</td>\n",
       "      <td>0</td>\n",
       "      <td>1</td>\n",
       "      <td>0</td>\n",
       "      <td>0</td>\n",
       "      <td>67500.0</td>\n",
       "      <td>135000.0</td>\n",
       "      <td>6750.0</td>\n",
       "      <td>135000.0</td>\n",
       "      <td>...</td>\n",
       "      <td>NaN</td>\n",
       "      <td>NaN</td>\n",
       "      <td>NaN</td>\n",
       "      <td>NaN</td>\n",
       "      <td>NaN</td>\n",
       "      <td>NaN</td>\n",
       "      <td>NaN</td>\n",
       "      <td>NaN</td>\n",
       "      <td>NaN</td>\n",
       "      <td>NaN</td>\n",
       "    </tr>\n",
       "    <tr>\n",
       "      <th>3</th>\n",
       "      <td>100006</td>\n",
       "      <td>0.0</td>\n",
       "      <td>1</td>\n",
       "      <td>0</td>\n",
       "      <td>0</td>\n",
       "      <td>0</td>\n",
       "      <td>135000.0</td>\n",
       "      <td>312682.5</td>\n",
       "      <td>29686.5</td>\n",
       "      <td>297000.0</td>\n",
       "      <td>...</td>\n",
       "      <td>0.0</td>\n",
       "      <td>0.0</td>\n",
       "      <td>0.0</td>\n",
       "      <td>0.0</td>\n",
       "      <td>0.0</td>\n",
       "      <td>0.0</td>\n",
       "      <td>0.0</td>\n",
       "      <td>0.0</td>\n",
       "      <td>0.0</td>\n",
       "      <td>6.0</td>\n",
       "    </tr>\n",
       "    <tr>\n",
       "      <th>4</th>\n",
       "      <td>100007</td>\n",
       "      <td>0.0</td>\n",
       "      <td>0</td>\n",
       "      <td>0</td>\n",
       "      <td>0</td>\n",
       "      <td>0</td>\n",
       "      <td>121500.0</td>\n",
       "      <td>513000.0</td>\n",
       "      <td>21865.5</td>\n",
       "      <td>513000.0</td>\n",
       "      <td>...</td>\n",
       "      <td>NaN</td>\n",
       "      <td>NaN</td>\n",
       "      <td>NaN</td>\n",
       "      <td>NaN</td>\n",
       "      <td>NaN</td>\n",
       "      <td>NaN</td>\n",
       "      <td>NaN</td>\n",
       "      <td>NaN</td>\n",
       "      <td>NaN</td>\n",
       "      <td>NaN</td>\n",
       "    </tr>\n",
       "  </tbody>\n",
       "</table>\n",
       "<p>5 rows × 794 columns</p>\n",
       "</div>"
      ],
      "text/plain": [
       "   SK_ID_CURR  TARGET  CODE_GENDER  FLAG_OWN_CAR  FLAG_OWN_REALTY  \\\n",
       "0      100002     1.0            0             0                0   \n",
       "1      100003     0.0            1             0                1   \n",
       "2      100004     0.0            0             1                0   \n",
       "3      100006     0.0            1             0                0   \n",
       "4      100007     0.0            0             0                0   \n",
       "\n",
       "   CNT_CHILDREN  AMT_INCOME_TOTAL  AMT_CREDIT  AMT_ANNUITY  AMT_GOODS_PRICE  \\\n",
       "0             0          202500.0    406597.5      24700.5         351000.0   \n",
       "1             0          270000.0   1293502.5      35698.5        1129500.0   \n",
       "2             0           67500.0    135000.0       6750.0         135000.0   \n",
       "3             0          135000.0    312682.5      29686.5         297000.0   \n",
       "4             0          121500.0    513000.0      21865.5         513000.0   \n",
       "\n",
       "   ...  CC_NAME_CONTRACT_STATUS_Sentproposal_MEAN  \\\n",
       "0  ...                                        NaN   \n",
       "1  ...                                        NaN   \n",
       "2  ...                                        NaN   \n",
       "3  ...                                        0.0   \n",
       "4  ...                                        NaN   \n",
       "\n",
       "   CC_NAME_CONTRACT_STATUS_Sentproposal_SUM  \\\n",
       "0                                       NaN   \n",
       "1                                       NaN   \n",
       "2                                       NaN   \n",
       "3                                       0.0   \n",
       "4                                       NaN   \n",
       "\n",
       "   CC_NAME_CONTRACT_STATUS_Sentproposal_VAR  \\\n",
       "0                                       NaN   \n",
       "1                                       NaN   \n",
       "2                                       NaN   \n",
       "3                                       0.0   \n",
       "4                                       NaN   \n",
       "\n",
       "   CC_NAME_CONTRACT_STATUS_Signed_MEAN  CC_NAME_CONTRACT_STATUS_Signed_SUM  \\\n",
       "0                                  NaN                                 NaN   \n",
       "1                                  NaN                                 NaN   \n",
       "2                                  NaN                                 NaN   \n",
       "3                                  0.0                                 0.0   \n",
       "4                                  NaN                                 NaN   \n",
       "\n",
       "   CC_NAME_CONTRACT_STATUS_Signed_VAR  CC_NAME_CONTRACT_STATUS_nan_MEAN  \\\n",
       "0                                 NaN                               NaN   \n",
       "1                                 NaN                               NaN   \n",
       "2                                 NaN                               NaN   \n",
       "3                                 0.0                               0.0   \n",
       "4                                 NaN                               NaN   \n",
       "\n",
       "   CC_NAME_CONTRACT_STATUS_nan_SUM  CC_NAME_CONTRACT_STATUS_nan_VAR  CC_COUNT  \n",
       "0                              NaN                              NaN       NaN  \n",
       "1                              NaN                              NaN       NaN  \n",
       "2                              NaN                              NaN       NaN  \n",
       "3                              0.0                              0.0       6.0  \n",
       "4                              NaN                              NaN       NaN  \n",
       "\n",
       "[5 rows x 794 columns]"
      ]
     },
     "execution_count": 8,
     "metadata": {},
     "output_type": "execute_result"
    }
   ],
   "source": [
    "df = pd.read_csv(os.path.join(DATA_INTERIM, \"all_data_simple_kernel_ohe.csv\"))\n",
    "\n",
    "to_drop = sel_var(df.columns, 'Unnamed')\n",
    "if to_drop:\n",
    "    df = df.drop(to_drop, axis=1)\n",
    "\n",
    "df = df.rename(columns=lambda x: re.sub(\"[^A-Za-z0-9_]+\", \"\", x))\n",
    "    \n",
    "train = df[df['TARGET'].notnull()]\n",
    "#test = df[df['TARGET'].isnull()]\n",
    "\n",
    "del df\n",
    "gc.collect()\n",
    "\n",
    "print(\"Forme de train.csv :\", train.shape)\n",
    "#print(\"Forme de test :\", test.shape)\n",
    "train.head()"
   ]
  },
  {
   "cell_type": "code",
   "execution_count": 9,
   "metadata": {},
   "outputs": [],
   "source": [
    "#from src.p7_util import clean_ram"
   ]
  },
  {
   "cell_type": "code",
   "execution_count": 10,
   "metadata": {},
   "outputs": [
    {
     "name": "stdout",
     "output_type": "stream",
     "text": [
      "1 variables détruites : ['to_drop']\n"
     ]
    }
   ],
   "source": [
    "dic_local = locals()\n",
    "to_del = ['to_drop', 'selected_features']\n",
    "clean_ram(to_del, dic_local)"
   ]
  },
  {
   "cell_type": "code",
   "execution_count": 11,
   "metadata": {},
   "outputs": [],
   "source": [
    "# Passe les variables catégorielles en dtype category sinon LGM ne pourra pas les traiter\n",
    "cat_features = list(train.loc[:, train.dtypes == 'object'].columns.values)\n",
    "for feature in cat_features:\n",
    "    train[feature] = pd.Series(train[feature], dtype=\"category\")"
   ]
  },
  {
   "cell_type": "markdown",
   "metadata": {},
   "source": [
    "Récupération des features par ordre d'importance"
   ]
  },
  {
   "cell_type": "code",
   "execution_count": 12,
   "metadata": {},
   "outputs": [
    {
     "name": "stdout",
     "output_type": "stream",
     "text": [
      "792\n"
     ]
    },
    {
     "data": {
      "text/plain": [
       "['PAYMENT_RATE',\n",
       " 'EXT_SOURCE_1',\n",
       " 'EXT_SOURCE_3',\n",
       " 'EXT_SOURCE_2',\n",
       " 'DAYS_BIRTH',\n",
       " 'AMT_ANNUITY',\n",
       " 'DAYS_EMPLOYED',\n",
       " 'APPROVED_CNT_PAYMENT_MEAN',\n",
       " 'DAYS_ID_PUBLISH',\n",
       " 'ACTIVE_DAYS_CREDIT_MAX']"
      ]
     },
     "execution_count": 12,
     "metadata": {},
     "output_type": "execute_result"
    }
   ],
   "source": [
    "sorted_features_by_importance = pd.read_csv(os.path.join(MODEL_DIR, subdir, \"feature_importance.csv\")).set_index(\"feature\").index.tolist()\n",
    "print(len(sorted_features_by_importance))\n",
    "sorted_features_by_importance[:10]"
   ]
  },
  {
   "cell_type": "code",
   "execution_count": 11,
   "metadata": {
    "ExecuteTime": {
     "end_time": "2023-04-27T12:28:07.971843Z",
     "start_time": "2023-04-27T12:28:07.966255Z"
    },
    "collapsed": false
   },
   "outputs": [
    {
     "data": {
      "text/plain": [
       "'# Essai sur un échantillon d\\'abord\\nn_rows = None\\nX = train.drop(columns=[\"SK_ID_CURR\", \"TARGET\"], axis=1)\\ny = train[\"TARGET\"]\\nif n_rows:\\n    X = X.head(n_rows)\\n    y = y.head(n_rows)'"
      ]
     },
     "execution_count": 11,
     "metadata": {},
     "output_type": "execute_result"
    }
   ],
   "source": [
    "\"\"\"# Essai sur un échantillon d'abord\n",
    "n_rows = None\n",
    "X = train.drop(columns=[\"SK_ID_CURR\", \"TARGET\"], axis=1)\n",
    "y = train[\"TARGET\"]\n",
    "if n_rows:\n",
    "    X = X.head(n_rows)\n",
    "    y = y.head(n_rows)\"\"\""
   ]
  },
  {
   "cell_type": "code",
   "execution_count": 12,
   "metadata": {},
   "outputs": [
    {
     "data": {
      "text/plain": [
       "'predictors = list(X.columns)\\nlen(predictors)'"
      ]
     },
     "execution_count": 12,
     "metadata": {},
     "output_type": "execute_result"
    }
   ],
   "source": [
    "\"\"\"predictors = list(X.columns)\n",
    "len(predictors)\"\"\""
   ]
  },
  {
   "cell_type": "code",
   "execution_count": 14,
   "metadata": {},
   "outputs": [],
   "source": [
    "not_predictors = [\n",
    "    'TARGET',\n",
    "    \"SK_ID_CURR\",\n",
    "    \"SK_ID_BUREAU\",\n",
    "    \"SK_ID_PREV\",\n",
    "    \"index\",\n",
    "    \"level_0\",\n",
    "    ]\n",
    "predictors = list(filter(lambda v: v not in not_predictors, train.columns))"
   ]
  },
  {
   "cell_type": "code",
   "execution_count": 15,
   "metadata": {},
   "outputs": [
    {
     "data": {
      "text/plain": [
       "792"
      ]
     },
     "execution_count": 15,
     "metadata": {},
     "output_type": "execute_result"
    }
   ],
   "source": [
    "len(predictors)"
   ]
  },
  {
   "cell_type": "code",
   "execution_count": 15,
   "metadata": {},
   "outputs": [
    {
     "data": {
      "text/plain": [
       "'X.info()'"
      ]
     },
     "execution_count": 15,
     "metadata": {},
     "output_type": "execute_result"
    }
   ],
   "source": [
    "\"\"\"X.info()\"\"\""
   ]
  },
  {
   "cell_type": "code",
   "execution_count": 16,
   "metadata": {},
   "outputs": [],
   "source": [
    "n_features = 20"
   ]
  },
  {
   "cell_type": "code",
   "execution_count": 17,
   "metadata": {},
   "outputs": [
    {
     "data": {
      "text/plain": [
       "20"
      ]
     },
     "execution_count": 17,
     "metadata": {},
     "output_type": "execute_result"
    }
   ],
   "source": [
    "predictors = predictors[:n_features]\n",
    "len(predictors)"
   ]
  },
  {
   "cell_type": "markdown",
   "metadata": {},
   "source": [
    "# Métrique personnalisée"
   ]
  },
  {
   "cell_type": "code",
   "execution_count": 17,
   "metadata": {},
   "outputs": [],
   "source": [
    "\n",
    "# Pénalise les Faux Negatifs dans le F1 Score\n",
    "def weight_f1(y_true, y_pred, weight_fn=10):\n",
    "    _, fp, fn, tp = confusion_matrix(y_true, y_pred).ravel()\n",
    "    # fn = Nombre de faux négatifs (oubli de prédire un défaut)\n",
    "    # fp = Nombre de faux positifs (défaut prédit à tort)\n",
    "    \n",
    "    # f1 standard = 2 * tp / (2 * tp + fp + fn)\n",
    "    \n",
    "    #weighted_f1 = 2 * tp / (2 * tp + weight_fn * fn  + (1 - weight_fn) * fp)\n",
    "    weighted_f1 = 2 * tp / (2 * tp + (weight_fn * fn  +  fp) / weight_fn)\n",
    "    \n",
    "    return weighted_f1\n",
    "\n",
    "# Créer une métrique personnalisée à partir de la fonction de perte\n",
    "custom_f1 = make_scorer(weight_f1, greater_is_better=True)"
   ]
  },
  {
   "cell_type": "markdown",
   "metadata": {
    "collapsed": false
   },
   "source": [
    "## Run A Study"
   ]
  },
  {
   "cell_type": "code",
   "execution_count": 18,
   "metadata": {},
   "outputs": [
    {
     "data": {
      "text/plain": [
       "\"\\nLa fonction _objectif est appelée une fois pour chaque essai (trial).\\nIci on entraîne un LGBMClassfier et on calcule la métrique : ? replacer le f1-score par une autre\\nOptuna passe un objet trial à la fonction _objectif, qu'on peut utiliser pour en définir les paramètres.\\nlog=True : applique une log scale aux valeurs à tester dans l'étendue spécifiée (pour les valeurs num), \\nEffet : plus de valeurs sont testées à proximité de la borne basse et moins (logarithmiquement) vers\\nla borne haute\\nConvient particulièrement bien au learning rate : on veut se concentrer sur des valeurs + petites et \\naugmenter exponentiellement le pas des valeurs à tester pour les plus grandes\\n\\nLe pruning callbac est le mécanisme qui applique le pruning dynamique pendant l'entraînement du modèle LightGBM \\ndans le cadre d'une étude Optuna. \\n1 - Initialisation du callback : \\nCrée le callback de pruning qui surveillera l'entraînement du modèle LightGBM \\net effectuera le pruning selon les instructions spécifiées par l'étude Optuna\\n2 - Évaluation périodique : \\nPendant l'entraînement de LightGBM, le callback est appelé périodiquement\\npour évaluer les performances du modèle en fonction des critères de pruning définis par Optuna.\\n3 - Décision de pruning : \\nLe callback utilise les informations fournies par Optuna, \\ntelles que les valeurs d'objectif de l'essai actuel et les valeurs d'objectif des essais précédents, \\npour décider si l'essai actuel doit être pruned en fonction de son efficacité par rapport à d'autres essais.\\n4 - Pruning : \\nPruning appliqué si décidé (arrête l'entraînement de ce modèle LightGBM)\\n5 - Réévaluation et ajustement :\\nAprès le pruning d'un essai, l'entraînement peut continuer avec les essais restants, \\net le processus de pruning peut être répété à intervalles réguliers jusqu'à ce que l'étude soit terminée.\\n\\n\\n\""
      ]
     },
     "execution_count": 18,
     "metadata": {},
     "output_type": "execute_result"
    }
   ],
   "source": [
    "\"\"\"\n",
    "La fonction _objectif est appelée une fois pour chaque essai (trial).\n",
    "Ici on entraîne un LGBMClassfier et on calcule la métrique : ? replacer le f1-score par une autre\n",
    "Optuna passe un objet trial à la fonction _objectif, qu'on peut utiliser pour en définir les paramètres.\n",
    "log=True : applique une log scale aux valeurs à tester dans l'étendue spécifiée (pour les valeurs num), \n",
    "Effet : plus de valeurs sont testées à proximité de la borne basse et moins (logarithmiquement) vers\n",
    "la borne haute\n",
    "Convient particulièrement bien au learning rate : on veut se concentrer sur des valeurs + petites et \n",
    "augmenter exponentiellement le pas des valeurs à tester pour les plus grandes\n",
    "\n",
    "Le pruning callbac est le mécanisme qui applique le pruning dynamique pendant l'entraînement du modèle LightGBM \n",
    "dans le cadre d'une étude Optuna. \n",
    "1 - Initialisation du callback : \n",
    "Crée le callback de pruning qui surveillera l'entraînement du modèle LightGBM \n",
    "et effectuera le pruning selon les instructions spécifiées par l'étude Optuna\n",
    "2 - Évaluation périodique : \n",
    "Pendant l'entraînement de LightGBM, le callback est appelé périodiquement\n",
    "pour évaluer les performances du modèle en fonction des critères de pruning définis par Optuna.\n",
    "3 - Décision de pruning : \n",
    "Le callback utilise les informations fournies par Optuna, \n",
    "telles que les valeurs d'objectif de l'essai actuel et les valeurs d'objectif des essais précédents, \n",
    "pour décider si l'essai actuel doit être pruned en fonction de son efficacité par rapport à d'autres essais.\n",
    "4 - Pruning : \n",
    "Pruning appliqué si décidé (arrête l'entraînement de ce modèle LightGBM)\n",
    "5 - Réévaluation et ajustement :\n",
    "Après le pruning d'un essai, l'entraînement peut continuer avec les essais restants, \n",
    "et le processus de pruning peut être répété à intervalles réguliers jusqu'à ce que l'étude soit terminée.\n",
    "\n",
    "\n",
    "\"\"\""
   ]
  },
  {
   "cell_type": "code",
   "execution_count": 19,
   "metadata": {},
   "outputs": [],
   "source": [
    "#from sklearn.model_selection import cross_validate"
   ]
  },
  {
   "cell_type": "code",
   "execution_count": 20,
   "metadata": {},
   "outputs": [],
   "source": [
    "#from sklearn.model_selection import StratifiedKFold\n",
    "#from sklearn.metrics import f1_score"
   ]
  },
  {
   "cell_type": "code",
   "execution_count": 76,
   "metadata": {},
   "outputs": [],
   "source": [
    "from sklearn.metrics import recall_score, precision_recall_fscore_support"
   ]
  },
  {
   "cell_type": "code",
   "execution_count": 88,
   "metadata": {
    "ExecuteTime": {
     "end_time": "2023-04-27T12:28:10.156076Z",
     "start_time": "2023-04-27T12:28:10.152538Z"
    },
    "collapsed": false
   },
   "outputs": [],
   "source": [
    "# Nécessite l'installation optuna-integration\n",
    "def objective(optimize_boosting_type=True):\n",
    "    def _objective(trial):\n",
    "        with mlflow.start_run(run_name=f\"T_{trial._trial_id}\", nested=True):\n",
    "            if optimize_boosting_type:\n",
    "                boosting_type = trial.suggest_categorical(\"boosting_type\", [\"dart\", \"gbdt\"])\n",
    "            else:\n",
    "                boosting_type = \"gbdt\"\n",
    "            lambda_l1 = trial.suggest_float(\n",
    "                'lambda_l1', 1e-8, 10.0, log=True),\n",
    "            lambda_l2 = trial.suggest_float(\n",
    "                'lambda_l2', 1e-8, 10.0, log=True),\n",
    "            num_leaves = trial.suggest_int(\n",
    "                'num_leaves', 2, 256),\n",
    "            feature_fraction = trial.suggest_float(\n",
    "                'feature_fraction', 0.4, 1.0),\n",
    "            bagging_fraction = trial.suggest_float(\n",
    "                'bagging_fraction', 0.4, 1.0),\n",
    "            bagging_freq = trial.suggest_int(\n",
    "                'bagging_freq', 1, 7),\n",
    "            min_child_samples = trial.suggest_int(\n",
    "                'min_child_samples', 5, 100),\n",
    "            learning_rate = trial.suggest_float(\n",
    "                \"learning_rate\", 0.0001, 0.5, log=True),\n",
    "            max_bin = trial.suggest_int(\n",
    "                \"max_bin\", 128, 512, step=32)\n",
    "            n_estimators = trial.suggest_int(\n",
    "                \"n_estimators\", 40, 400, step=20)\n",
    "            \n",
    "            hyperparams = {\n",
    "                'optimize_boosting_type': optimize_boosting_type,\n",
    "                'lambda_l1': lambda_l1,\n",
    "                'lambda_l2': lambda_l2,\n",
    "                'num_leaves': num_leaves,\n",
    "                'feature_fraction': feature_fraction,\n",
    "                'bagging_fraction': bagging_fraction,\n",
    "                'bagging_freq': bagging_freq,\n",
    "                'min_child_samples': min_child_samples,\n",
    "                'learning_rate': learning_rate,\n",
    "                'max_bin': max_bin,\n",
    "                'n_estimators': n_estimators,\n",
    "            }\n",
    "            \n",
    "            # 'binary' est la métrique d'erreur\n",
    "            pruning_callback = optuna.integration.LightGBMPruningCallback(trial, \"binary\")\n",
    "            \n",
    "            \n",
    "            \n",
    "            \n",
    "            # Pour intégration optuna mlflow avec nested runs voir :\n",
    "            # https://mlflow.org/docs/latest/traditional-ml/hyperparameter-tuning-with-child-runs/notebooks/hyperparameter-tuning-with-child-runs.html?highlight=run%20description\n",
    "\n",
    "            # On n'utilise pas cross_val_score pour des problèmes de RAM\n",
    "            #scores = cross_val_score(model, X, y, scoring=\"f1_macro\", cv=5)\n",
    "            folds = StratifiedKFold(\n",
    "                n_splits=5, shuffle=True, random_state=42\n",
    "            )\n",
    "            f1_scores = []\n",
    "            weighted_recall_scores = []\n",
    "            \n",
    "            for n_fold, (train_idx, valid_idx) in enumerate(folds.split(train[predictors], train[\"TARGET\"])):\n",
    "                train_x, train_y = train[predictors].iloc[train_idx], train[\"TARGET\"].iloc[train_idx]\n",
    "                valid_x, valid_y = train[predictors].iloc[valid_idx], train[\"TARGET\"].iloc[valid_idx]\n",
    "                \n",
    "                model = lgb.LGBMClassifier(\n",
    "                    force_row_wise=True,\n",
    "                    boosting_type=boosting_type,\n",
    "                    n_estimators=n_estimators,\n",
    "                    lambda_l1=lambda_l1,\n",
    "                    lambda_l2=lambda_l2,\n",
    "                    num_leaves=num_leaves,\n",
    "                    feature_fraction=feature_fraction,\n",
    "                    bagging_fraction=bagging_fraction,\n",
    "                    bagging_freq=bagging_freq,\n",
    "                    min_child_samples=min_child_samples,\n",
    "                    learning_rate=learning_rate,\n",
    "                    max_bin=max_bin,\n",
    "                    callbacks=[pruning_callback],\n",
    "                    verbose=-1,\n",
    "                )\n",
    "                \n",
    "                model.fit(\n",
    "                    train_x,\n",
    "                    train_y,\n",
    "                    eval_set=[(train_x, train_y), (valid_x, valid_y)],\n",
    "                    eval_metric=\"f1_macro\",\n",
    "                )\n",
    "                \n",
    "                pred_y = model.predict(valid_x)\n",
    "                f1_scores.append(f1_score(valid_y, pred_y))\n",
    "                weighted_recall_scores.append(recall_score(valid_y, pred_y, average='weighted'))\n",
    "            mean_f1_scores = np.mean(f1_scores)\n",
    "            mean_weighted_recall_scores = np.mean(weighted_recall_scores)\n",
    "            \n",
    "            \"\"\"dic_metrics = {\n",
    "                \"f1_score\": mean_f1_scores,\n",
    "                \"weighted_recall_score\": mean_weighted_recall_scores,\n",
    "            }\n",
    "            \"\"\"\n",
    "            mlflow.log_metric(\"f1_score\", mean_f1_scores)\n",
    "            mlflow.log_metric(\"weighted_recall\", mean_weighted_recall_scores)\n",
    "            mlflow.log_params(hyperparams)\n",
    "        return mean_weighted_recall_scores\n",
    "\n",
    "    return _objective"
   ]
  },
  {
   "cell_type": "code",
   "execution_count": 18,
   "metadata": {},
   "outputs": [
    {
     "data": {
      "text/plain": [
       "\"\\nMétriques pour notre cas :\\n\\nLe Recall mesure la proportion de vrais positifs (défauts correctement prédits)\\nparmi tous les vrais positifs et faux négatifs (défauts réels).\\nEn choisissant le Recall comme métrique, on se concentre sur la capacité du modèle à capturer la majorité des cas de défauts, \\nminimisant ainsi le risque de faux négatifs (ne pas prédire un défaut lorsqu'il existe réellement).\\n\\nLe F1-score est une mesure combinée de la précision et du recall. \\nIl s'agit de la moyenne harmonique de la précision et du recall.\\nLe F1-score est particulièrement utile lorsque les classes sont déséquilibrées car il donne plus de poids aux classes minoritaires. \\nAinsi, il peut être une bonne métrique lorsqu'on veut trouver un compromis entre la précision et le recall.\\n\\nAUC-ROC (Area Under the Receiver Operating Characteristic Curve) : L'AUC-ROC est une métrique qui mesure la capacité du modèle à classer\\ncorrectement les exemples positifs et négatifs. \\nElle est robuste aux déséquilibres de classe et donne une indication de la capacité du modèle à discriminer entre les classes.\\n\""
      ]
     },
     "execution_count": 18,
     "metadata": {},
     "output_type": "execute_result"
    }
   ],
   "source": [
    "\"\"\"\n",
    "Métriques pour notre cas :\n",
    "\n",
    "Le Recall mesure la proportion de vrais positifs (défauts correctement prédits)\n",
    "parmi tous les vrais positifs et faux négatifs (défauts réels).\n",
    "En choisissant le Recall comme métrique, on se concentre sur la capacité du modèle à capturer la majorité des cas de défauts, \n",
    "minimisant ainsi le risque de faux négatifs (ne pas prédire un défaut lorsqu'il existe réellement).\n",
    "\n",
    "Le F1-score est une mesure combinée de la précision et du recall. \n",
    "Il s'agit de la moyenne harmonique de la précision et du recall.\n",
    "Le F1-score est particulièrement utile lorsque les classes sont déséquilibrées car il donne plus de poids aux classes minoritaires. \n",
    "Ainsi, il peut être une bonne métrique lorsqu'on veut trouver un compromis entre la précision et le recall.\n",
    "\n",
    "AUC-ROC (Area Under the Receiver Operating Characteristic Curve) : L'AUC-ROC est une métrique qui mesure la capacité du modèle à classer\n",
    "correctement les exemples positifs et négatifs. \n",
    "Elle est robuste aux déséquilibres de classe et donne une indication de la capacité du modèle à discriminer entre les classes.\n",
    "\"\"\""
   ]
  },
  {
   "cell_type": "code",
   "execution_count": 19,
   "metadata": {},
   "outputs": [
    {
     "data": {
      "text/plain": [
       "\"\\nscoring avec cross_val_score :\\nThe 'scoring' parameter of cross_val_score must be a str among pour la classification :\\n{\\n'accuracy', 'balanced_accuracy', 'f1', \\n'jaccard_micro',\\n'jaccard_weighted',\\n'precision_micro',\\n'recall_samples', \\n'precision_macro',\\n'jaccard', \\n'recall_micro', \\n'roc_auc_ovo', \\n'f1_samples', 'recall_macro', 'precision_weighted', 'f1_weighted', 'roc_auc_ovr_weighted',\\n'f1_micro', 'roc_auc', 'f1_macro', 'precision_samples', 'recall', 'jaccard_samples', 'precision', 'average_precision', 'top_k_accuracy', \\n'neg_log_loss', 'jaccard_macro', 'neg_brier_score', 'roc_auc_ovr', 'recall_weighted', 'roc_auc_ovo_weighted'\\n}, a callable or None.\\n\\n\""
      ]
     },
     "execution_count": 19,
     "metadata": {},
     "output_type": "execute_result"
    }
   ],
   "source": [
    "\"\"\"\n",
    "scoring avec cross_val_score :\n",
    "The 'scoring' parameter of cross_val_score must be a str among pour la classification :\n",
    "{\n",
    "'accuracy', 'balanced_accuracy', 'f1', \n",
    "'jaccard_micro',\n",
    "'jaccard_weighted',\n",
    "'precision_micro',\n",
    "'recall_samples', \n",
    "'precision_macro',\n",
    "'jaccard', \n",
    "'recall_micro', \n",
    "'roc_auc_ovo', \n",
    "'f1_samples', 'recall_macro', 'precision_weighted', 'f1_weighted', 'roc_auc_ovr_weighted',\n",
    "'f1_micro', 'roc_auc', 'f1_macro', 'precision_samples', 'recall', 'jaccard_samples', 'precision', 'average_precision', 'top_k_accuracy', \n",
    "'neg_log_loss', 'jaccard_macro', 'neg_brier_score', 'roc_auc_ovr', 'recall_weighted', 'roc_auc_ovo_weighted'\n",
    "}, a callable or None.\n",
    "\n",
    "\"\"\""
   ]
  },
  {
   "cell_type": "code",
   "execution_count": 20,
   "metadata": {},
   "outputs": [
    {
     "data": {
      "text/plain": [
       "'\\nbalanced accuracy\\nThe balanced accuracy in binary and multiclass classification problems to deal with imbalanced datasets. \\nIt is defined as the average of recall obtained on each class.\\nThe best value is 1 and the worst value is 0 when adjusted=False.\\n'"
      ]
     },
     "execution_count": 20,
     "metadata": {},
     "output_type": "execute_result"
    }
   ],
   "source": [
    "\"\"\"\n",
    "balanced accuracy\n",
    "The balanced accuracy in binary and multiclass classification problems to deal with imbalanced datasets. \n",
    "It is defined as the average of recall obtained on each class.\n",
    "The best value is 1 and the worst value is 0 when adjusted=False.\n",
    "\"\"\""
   ]
  },
  {
   "cell_type": "code",
   "execution_count": 17,
   "metadata": {},
   "outputs": [
    {
     "data": {
      "text/plain": [
       "[]"
      ]
     },
     "execution_count": 17,
     "metadata": {},
     "output_type": "execute_result"
    }
   ],
   "source": [
    "cat_features"
   ]
  },
  {
   "cell_type": "code",
   "execution_count": 22,
   "metadata": {},
   "outputs": [
    {
     "data": {
      "text/plain": [
       "'\\nPruning (=\"Elagage\") = technique pour arrêter prématurément l\\'exécution (train + eval) si \\nil est peu probable que l\\'essai conduise à une amélioreration significative des performances\\n(l\\'entraînement est stoppé si l\\'algo sous-performe)\\n\\n**** HYPERBAND\\n\\nHyperband est une technique de pruning qui combine le pruning de type \"Successive halving\" et\\nd\\'autres techniques (random search, multi-bracket resource allocation strategy).\\n\\n1 - Successive Halving (Demi-seuccessifs):\\nAu début de l\\'optimisation, Hyperband crée un grand nombre de configurations d\\'hyperparamètres\\net entraîne chaque modèle pendant un petit nombre d\\'itérations (eochs). \\nEnsuite, il évalue les performances de ces modèles et conserve uniquement les meilleurs. \\nIl répète ce processus plusieurs fois, en doublant à chaque fois le nombre d\\'itérations, \\nmais en réduisant de moitié le nombre de configurations conservées.\\n\\nAinsi les modèles prometteurs bénéficient de plus d\\'itérations pour converger vers de bonnes performances,\\ntandis que les modèles moins prometteurs sont élagués à chaque étape.\\n\\n2 - Pruning basé sur la performance:\\nÀ chaque étape du Successive Halving, Hyperband évalue périodiquement les performances des modèles en formation\\net décide de \"pruner\" les modèles moins prometteurs. \\nLes modèles qui n\\'atteignent pas un certain seuil de performance sont arrêtés prématurément.\\n\\n*** MULTI_BRACKET RESSOURCE ALLOCATION strategy (Allocation de ressource à plusieurs \\'brackets\\' ou niveaux / échelon)\\n\\ndivise les ressources disponibles (telles que le nombre d\\'itérations, d\\'évaluations de modèles, etc.)\\nen plusieurs \"brackets\" ou \"niveaux\" et alloue ces ressources de manière dynamique en fonction de la performance\\ndes modèles à chaque niveau.\\n\\n1 - Multi-brackets\\nL\\'algorithme divise le budget total de ressources (par exemple, le nombre maximal d\\'itérations ou le temps total de calcul) en plusieurs \"brackets\" ou \"échelons\".\\nChaque bracket représente une étape distincte de l\\'algorithme où différents ensembles d\\'hyperparamètres sont évalués.\\nChaque bracket est caractérisé par un budget de ressources spécifique, qui peut être soit le nombre d\\'itérations, soit le temps de calcul. \\nLes brackets initiaux ont un budget élevé tandis que les brackets ultérieurs ont des budgets plus bas.\\n\\n2 - Resource allocation\\nAlloue dynamiquement les ressources aux config d\\'hyperparams\\nDans chaque bracket, Hyperband commence par évaluer un grand nombre de configurations d\\'hyperparamètres pour un nombre restreint d\\'itérations. \\nEnsuite, il élimine les configurations sous-performantes et alloue davantage de ressources aux configurations les plus prometteuses.\\n\\nWithin each bracket, successive halving is applied to iteratively eliminate underperforming configurations and\\nallocate more resources to the remaining promising ones.\\nAt the begining of each bracket, a new set of hyperparam configurations is sampled using random search.\\n\\n=> reduce risk of missing good config\\nmore efficient and effective hyperparam tuning.\\n'"
      ]
     },
     "execution_count": 22,
     "metadata": {},
     "output_type": "execute_result"
    }
   ],
   "source": [
    "\"\"\"\n",
    "Pruning (=\"Elagage\") = technique pour arrêter prématurément l'exécution (train + eval) si \n",
    "il est peu probable que l'essai conduise à une amélioreration significative des performances\n",
    "(l'entraînement est stoppé si l'algo sous-performe)\n",
    "\n",
    "**** HYPERBAND\n",
    "\n",
    "Hyperband est une technique de pruning qui combine le pruning de type \"Successive halving\" et\n",
    "d'autres techniques (random search, multi-bracket resource allocation strategy).\n",
    "\n",
    "1 - Successive Halving (Demi-seuccessifs):\n",
    "Au début de l'optimisation, Hyperband crée un grand nombre de configurations d'hyperparamètres\n",
    "et entraîne chaque modèle pendant un petit nombre d'itérations (eochs). \n",
    "Ensuite, il évalue les performances de ces modèles et conserve uniquement les meilleurs. \n",
    "Il répète ce processus plusieurs fois, en doublant à chaque fois le nombre d'itérations, \n",
    "mais en réduisant de moitié le nombre de configurations conservées.\n",
    "\n",
    "Ainsi les modèles prometteurs bénéficient de plus d'itérations pour converger vers de bonnes performances,\n",
    "tandis que les modèles moins prometteurs sont élagués à chaque étape.\n",
    "\n",
    "2 - Pruning basé sur la performance:\n",
    "À chaque étape du Successive Halving, Hyperband évalue périodiquement les performances des modèles en formation\n",
    "et décide de \"pruner\" les modèles moins prometteurs. \n",
    "Les modèles qui n'atteignent pas un certain seuil de performance sont arrêtés prématurément.\n",
    "\n",
    "*** MULTI_BRACKET RESSOURCE ALLOCATION strategy (Allocation de ressource à plusieurs 'brackets' ou niveaux / échelon)\n",
    "\n",
    "divise les ressources disponibles (telles que le nombre d'itérations, d'évaluations de modèles, etc.)\n",
    "en plusieurs \"brackets\" ou \"niveaux\" et alloue ces ressources de manière dynamique en fonction de la performance\n",
    "des modèles à chaque niveau.\n",
    "\n",
    "1 - Multi-brackets\n",
    "L'algorithme divise le budget total de ressources (par exemple, le nombre maximal d'itérations ou le temps total de calcul) en plusieurs \"brackets\" ou \"échelons\".\n",
    "Chaque bracket représente une étape distincte de l'algorithme où différents ensembles d'hyperparamètres sont évalués.\n",
    "Chaque bracket est caractérisé par un budget de ressources spécifique, qui peut être soit le nombre d'itérations, soit le temps de calcul. \n",
    "Les brackets initiaux ont un budget élevé tandis que les brackets ultérieurs ont des budgets plus bas.\n",
    "\n",
    "2 - Resource allocation\n",
    "Alloue dynamiquement les ressources aux config d'hyperparams\n",
    "Dans chaque bracket, Hyperband commence par évaluer un grand nombre de configurations d'hyperparamètres pour un nombre restreint d'itérations. \n",
    "Ensuite, il élimine les configurations sous-performantes et alloue davantage de ressources aux configurations les plus prometteuses.\n",
    "\n",
    "Within each bracket, successive halving is applied to iteratively eliminate underperforming configurations and\n",
    "allocate more resources to the remaining promising ones.\n",
    "At the begining of each bracket, a new set of hyperparam configurations is sampled using random search.\n",
    "\n",
    "=> reduce risk of missing good config\n",
    "more efficient and effective hyperparam tuning.\n",
    "\"\"\""
   ]
  },
  {
   "cell_type": "code",
   "execution_count": 23,
   "metadata": {},
   "outputs": [
    {
     "data": {
      "text/plain": [
       "'\\nSAMPLER TPE :\\nTree-structured Parzen Estimator\\nTPESampler utilise une approche bayésienne pour estimer les distributions de probabilité des valeurs d\\'hyperparamètres,\\nen se basant sur les performances des essais précédents, \\nafin de guider efficacement la recherche vers des régions prometteuses de l\\'espace des hyperparamètres.\\n\\n1 - Initialisation des distributions :\\nL\\'algorithme TPE commence par définir des distributions de probabilité pour chaque hyperparamètre à optimiser.\\nCes distributions peuvent être continues (comme des distributions gaussiennes) ou discrètes (comme des distributions uniformes).\\nPour chaque hyperparamètre, deux distributions sont définies : \\nune pour les valeurs considérées comme \"bonnes\" (positive), et une pour les valeurs considérées comme \"mauvaises\" (négative).\\n\\n2 - Évaluation des essais :\\nÀ chaque étape de l\\'optimisation, \\nTPE utilise les essais précédents pour estimer les distributions de probabilité des valeurs d\\'hyperparamètres.\\nLes essais sont divisés en deux groupes : \\nceux qui ont produit de bonnes performances et ceux qui ont produit de mauvaises performances, \\nen fonction du critère d\\'objectif (par exemple, la précision d\\'un modèle).\\nLes distributions de probabilité sont mises à jour en utilisant les essais des deux groupes,\\nen ajustant les paramètres des distributions pour mieux modéliser les valeurs d\\'hyperparamètres qui ont conduit à de bonnes performances.\\n\\n3 - Échantillonnage des essais :\\nUne fois que les distributions de probabilité ont été mises à jour, \\nTPE échantillonne de nouvelles valeurs d\\'hyperparamètres à partir de ces distributions. \\nLes valeurs échantillonnées sont généralement celles qui maximisent l\\'espérance d\\'une fonction d\\'acquisition \\n(par exemple, l\\'espérance de l\\'amélioration de l\\'objectif) \\nou qui minimisent une fonction de coût (par exemple, l\\'espérance de la perte de l\\'objectif).\\n\\n4 - Évaluation des performances :\\nLes nouvelles valeurs d\\'hyperparamètres échantillonnées sont utilisées pour effectuer de nouveaux essais.\\nLes performances de ces essais sont évaluées à l\\'aide de la fonction d\\'objectif, \\net les résultats sont utilisés pour mettre à jour les distributions de probabilité et répéter le processus.\\n'"
      ]
     },
     "execution_count": 23,
     "metadata": {},
     "output_type": "execute_result"
    }
   ],
   "source": [
    "\"\"\"\n",
    "SAMPLER TPE :\n",
    "Tree-structured Parzen Estimator\n",
    "TPESampler utilise une approche bayésienne pour estimer les distributions de probabilité des valeurs d'hyperparamètres,\n",
    "en se basant sur les performances des essais précédents, \n",
    "afin de guider efficacement la recherche vers des régions prometteuses de l'espace des hyperparamètres.\n",
    "\n",
    "1 - Initialisation des distributions :\n",
    "L'algorithme TPE commence par définir des distributions de probabilité pour chaque hyperparamètre à optimiser.\n",
    "Ces distributions peuvent être continues (comme des distributions gaussiennes) ou discrètes (comme des distributions uniformes).\n",
    "Pour chaque hyperparamètre, deux distributions sont définies : \n",
    "une pour les valeurs considérées comme \"bonnes\" (positive), et une pour les valeurs considérées comme \"mauvaises\" (négative).\n",
    "\n",
    "2 - Évaluation des essais :\n",
    "À chaque étape de l'optimisation, \n",
    "TPE utilise les essais précédents pour estimer les distributions de probabilité des valeurs d'hyperparamètres.\n",
    "Les essais sont divisés en deux groupes : \n",
    "ceux qui ont produit de bonnes performances et ceux qui ont produit de mauvaises performances, \n",
    "en fonction du critère d'objectif (par exemple, la précision d'un modèle).\n",
    "Les distributions de probabilité sont mises à jour en utilisant les essais des deux groupes,\n",
    "en ajustant les paramètres des distributions pour mieux modéliser les valeurs d'hyperparamètres qui ont conduit à de bonnes performances.\n",
    "\n",
    "3 - Échantillonnage des essais :\n",
    "Une fois que les distributions de probabilité ont été mises à jour, \n",
    "TPE échantillonne de nouvelles valeurs d'hyperparamètres à partir de ces distributions. \n",
    "Les valeurs échantillonnées sont généralement celles qui maximisent l'espérance d'une fonction d'acquisition \n",
    "(par exemple, l'espérance de l'amélioration de l'objectif) \n",
    "ou qui minimisent une fonction de coût (par exemple, l'espérance de la perte de l'objectif).\n",
    "\n",
    "4 - Évaluation des performances :\n",
    "Les nouvelles valeurs d'hyperparamètres échantillonnées sont utilisées pour effectuer de nouveaux essais.\n",
    "Les performances de ces essais sont évaluées à l'aide de la fonction d'objectif, \n",
    "et les résultats sont utilisés pour mettre à jour les distributions de probabilité et répéter le processus.\n",
    "\"\"\""
   ]
  },
  {
   "cell_type": "code",
   "execution_count": 24,
   "metadata": {},
   "outputs": [
    {
     "data": {
      "text/plain": [
       "'\\nDémarrer un serveur mlflow local en ligne de commande :\\nmlflow server --host 127.0.0.1 --port 8080\\n'"
      ]
     },
     "execution_count": 24,
     "metadata": {},
     "output_type": "execute_result"
    }
   ],
   "source": [
    "\"\"\"\n",
    "Démarrer un serveur mlflow local en ligne de commande :\n",
    "mlflow server --host 127.0.0.1 --port 8080\n",
    "\"\"\""
   ]
  },
  {
   "cell_type": "code",
   "execution_count": 42,
   "metadata": {},
   "outputs": [],
   "source": [
    "# Use the fluent API to set the tracking uri and the active experiment\n",
    "mlflow.set_tracking_uri(f\"{LOCAL_HOST}:{LOCAL_PORT}\")"
   ]
  },
  {
   "cell_type": "code",
   "execution_count": 59,
   "metadata": {},
   "outputs": [
    {
     "data": {
      "text/plain": [
       "(307507, 794)"
      ]
     },
     "execution_count": 59,
     "metadata": {},
     "output_type": "execute_result"
    }
   ],
   "source": [
    "train.shape"
   ]
  },
  {
   "cell_type": "code",
   "execution_count": 90,
   "metadata": {},
   "outputs": [
    {
     "name": "stdout",
     "output_type": "stream",
     "text": [
      "lightgbm_hyperparam_simple_20_307507\n",
      "Le nom de l'expérience existe déjà, on l'active\n"
     ]
    },
    {
     "data": {
      "text/plain": [
       "<Experiment: artifact_location='file:///E:/Mes Documents/_Open Classroom/Code/p7/models/light_simple', creation_time=1715006893309, experiment_id='520338994331402696', last_update_time=1715006893309, lifecycle_stage='active', name='lightgbm_hyperparam_simple_20_307507', tags={'mlflow.note.content': \"Recherche d'hyperparamètres pour le modèle LightGBM, \"\n",
       "                        'impact du nombre de featuresRecherche Bayesienne - '\n",
       "                        'mono objectif - Hyperband',\n",
       " 'model': 'lightgbm',\n",
       " 'task': 'hyperparam'}>"
      ]
     },
     "execution_count": 90,
     "metadata": {},
     "output_type": "execute_result"
    }
   ],
   "source": [
    "# On crèe une epérience\n",
    "experiment_name = f\"lightgbm_hyperparam_simple_{len(predictors)}_{train.shape[0]}\"\n",
    "print(experiment_name)\n",
    "\n",
    "experiment_description = (\n",
    "    \"Recherche d'hyperparamètres pour le modèle LightGBM, impact du nombre de features\"\n",
    "    \"Recherche Bayesienne - mono objectif - Hyperband\"\n",
    ")\n",
    "\n",
    "experiment_tags = {\n",
    "    \"model\": \"lightgbm\",\n",
    "    \"task\": \"hyperparam\",\n",
    "    \"mlflow.note.content\": experiment_description,\n",
    "}\n",
    "\n",
    "# On vérifie si l'expérience existe déjà\n",
    "existing_experiment = mlflow.get_experiment_by_name(experiment_name)\n",
    "\n",
    "if existing_experiment:\n",
    "    print(\"Le nom de l'expérience existe déjà, on l'active\")\n",
    "    experiment_id = existing_experiment.experiment_id\n",
    "    \n",
    "else:\n",
    "    print(f\"Création de l'expérience {experiment_name}\")\n",
    "    experiment_id = mlflow.create_experiment(\n",
    "        experiment_name,\n",
    "        #artifact_location=os.path.join(MODEL_DIR, subdir).as_uri(),\n",
    "        artifact_location=os.path.join(MODEL_DIR, subdir),\n",
    "        tags=experiment_tags,\n",
    "    )\n",
    "# On active l'expérience\n",
    "experiment_metadata = mlflow.set_experiment(experiment_id=experiment_id)\n",
    "experiment_metadata"
   ]
  },
  {
   "cell_type": "code",
   "execution_count": 61,
   "metadata": {},
   "outputs": [
    {
     "name": "stdout",
     "output_type": "stream",
     "text": [
      "lightgbm_hyperparam_simple_20_307507\n",
      "active\n",
      "file:///E:/Mes Documents/_Open Classroom/Code/p7/models/light_simple\n"
     ]
    }
   ],
   "source": [
    "print(experiment_metadata.name)\n",
    "print(experiment_metadata.lifecycle_stage)\n",
    "print(experiment_metadata.artifact_location)"
   ]
  },
  {
   "cell_type": "code",
   "execution_count": 91,
   "metadata": {
    "ExecuteTime": {
     "end_time": "2023-04-27T12:41:49.408124Z",
     "start_time": "2023-04-27T12:28:12.286408Z"
    },
    "collapsed": false
   },
   "outputs": [
    {
     "name": "stderr",
     "output_type": "stream",
     "text": [
      "[I 2024-05-06 18:20:15,182] A new study created in memory with name: lightgbm_single_obj_03\n",
      "[I 2024-05-06 18:21:59,476] Trial 4 finished with value: 0.9192701304309328 and parameters: {'boosting_type': 'gbdt', 'lambda_l1': 0.03822282990343516, 'lambda_l2': 2.4351434935849822e-05, 'num_leaves': 52, 'feature_fraction': 0.6004499562553188, 'bagging_fraction': 0.790998968213686, 'bagging_freq': 7, 'min_child_samples': 83, 'learning_rate': 0.00026268426118726665, 'max_bin': 416, 'n_estimators': 80}. Best is trial 4 with value: 0.9192701304309328.\n",
      "[I 2024-05-06 18:22:48,301] Trial 32 finished with value: 0.9192701304309328 and parameters: {'boosting_type': 'gbdt', 'lambda_l1': 0.00023901282533408106, 'lambda_l2': 0.0002595401544043731, 'num_leaves': 3, 'feature_fraction': 0.5679375961850424, 'bagging_fraction': 0.7351040716389725, 'bagging_freq': 2, 'min_child_samples': 55, 'learning_rate': 0.03258683746723998, 'max_bin': 512, 'n_estimators': 340}. Best is trial 4 with value: 0.9192701304309328.\n",
      "[I 2024-05-06 18:22:50,012] Trial 31 finished with value: 0.9192701304309328 and parameters: {'boosting_type': 'gbdt', 'lambda_l1': 1.280212353547459e-07, 'lambda_l2': 2.4124504460810093e-07, 'num_leaves': 37, 'feature_fraction': 0.8552293427646379, 'bagging_fraction': 0.5977637069480365, 'bagging_freq': 5, 'min_child_samples': 87, 'learning_rate': 0.0038346413274030194, 'max_bin': 128, 'n_estimators': 180}. Best is trial 4 with value: 0.9192701304309328.\n",
      "[I 2024-05-06 18:22:51,492] Trial 9 finished with value: 0.9192701304309328 and parameters: {'boosting_type': 'dart', 'lambda_l1': 9.795771310908463e-07, 'lambda_l2': 1.654652749671289, 'num_leaves': 37, 'feature_fraction': 0.9723249410247441, 'bagging_fraction': 0.6417034850924346, 'bagging_freq': 7, 'min_child_samples': 39, 'learning_rate': 0.02488669204670835, 'max_bin': 384, 'n_estimators': 160}. Best is trial 4 with value: 0.9192701304309328.\n",
      "[I 2024-05-06 18:23:00,619] Trial 28 finished with value: 0.9192701304309328 and parameters: {'boosting_type': 'dart', 'lambda_l1': 3.7898764215185854, 'lambda_l2': 0.23769991658267628, 'num_leaves': 179, 'feature_fraction': 0.6670244664170633, 'bagging_fraction': 0.4353726375011707, 'bagging_freq': 1, 'min_child_samples': 7, 'learning_rate': 0.004525574104229125, 'max_bin': 128, 'n_estimators': 40}. Best is trial 4 with value: 0.9192701304309328.\n",
      "[I 2024-05-06 18:23:07,370] Trial 11 finished with value: 0.9192701304309328 and parameters: {'boosting_type': 'gbdt', 'lambda_l1': 1.1878317559108272e-06, 'lambda_l2': 5.774570435246991e-05, 'num_leaves': 39, 'feature_fraction': 0.8499724137159738, 'bagging_fraction': 0.9224102542006203, 'bagging_freq': 4, 'min_child_samples': 74, 'learning_rate': 0.002847640104007444, 'max_bin': 512, 'n_estimators': 180}. Best is trial 4 with value: 0.9192701304309328.\n",
      "[I 2024-05-06 18:23:15,878] Trial 30 finished with value: 0.9192701304309328 and parameters: {'boosting_type': 'dart', 'lambda_l1': 0.12095681807511878, 'lambda_l2': 1.6002124338511262e-05, 'num_leaves': 12, 'feature_fraction': 0.6587551056544824, 'bagging_fraction': 0.5653690766144152, 'bagging_freq': 1, 'min_child_samples': 8, 'learning_rate': 0.0007528452169862903, 'max_bin': 160, 'n_estimators': 380}. Best is trial 4 with value: 0.9192701304309328.\n",
      "[I 2024-05-06 18:23:21,470] Trial 7 finished with value: 0.9192701304309328 and parameters: {'boosting_type': 'dart', 'lambda_l1': 1.0785406276185119e-07, 'lambda_l2': 5.965905723346041e-05, 'num_leaves': 206, 'feature_fraction': 0.5863306826649496, 'bagging_fraction': 0.9659322746023522, 'bagging_freq': 3, 'min_child_samples': 51, 'learning_rate': 0.0002198762616881287, 'max_bin': 448, 'n_estimators': 40}. Best is trial 4 with value: 0.9192701304309328.\n",
      "[I 2024-05-06 18:23:45,635] Trial 16 finished with value: 0.9192701304309328 and parameters: {'boosting_type': 'dart', 'lambda_l1': 2.3294357533019542e-05, 'lambda_l2': 1.6856573936013168, 'num_leaves': 31, 'feature_fraction': 0.4885392344090903, 'bagging_fraction': 0.4099769596656186, 'bagging_freq': 1, 'min_child_samples': 65, 'learning_rate': 0.029688127838791774, 'max_bin': 128, 'n_estimators': 220}. Best is trial 4 with value: 0.9192701304309328.\n",
      "[I 2024-05-06 18:24:12,584] Trial 1 finished with value: 0.9192701304309328 and parameters: {'boosting_type': 'dart', 'lambda_l1': 0.22458896440472315, 'lambda_l2': 8.652788194362332, 'num_leaves': 109, 'feature_fraction': 0.6770833430465357, 'bagging_fraction': 0.7403720803782881, 'bagging_freq': 5, 'min_child_samples': 71, 'learning_rate': 0.046598868127260426, 'max_bin': 192, 'n_estimators': 100}. Best is trial 4 with value: 0.9192701304309328.\n",
      "[I 2024-05-06 18:24:29,147] Trial 17 finished with value: 0.9192701304309328 and parameters: {'boosting_type': 'gbdt', 'lambda_l1': 2.0002039190662433e-08, 'lambda_l2': 3.3256968389173616e-06, 'num_leaves': 104, 'feature_fraction': 0.5499024001077063, 'bagging_fraction': 0.5949202970939541, 'bagging_freq': 1, 'min_child_samples': 91, 'learning_rate': 0.006324635892873212, 'max_bin': 416, 'n_estimators': 100}. Best is trial 4 with value: 0.9192701304309328.\n",
      "[I 2024-05-06 18:24:29,886] Trial 8 finished with value: 0.9192701304309328 and parameters: {'boosting_type': 'dart', 'lambda_l1': 0.15769088945201815, 'lambda_l2': 3.329616888191911e-05, 'num_leaves': 152, 'feature_fraction': 0.9329610622821946, 'bagging_fraction': 0.5477328679018928, 'bagging_freq': 3, 'min_child_samples': 96, 'learning_rate': 0.0011426770283560928, 'max_bin': 384, 'n_estimators': 80}. Best is trial 4 with value: 0.9192701304309328.\n",
      "[I 2024-05-06 18:24:57,970] Trial 27 finished with value: 0.9192701304309328 and parameters: {'boosting_type': 'gbdt', 'lambda_l1': 8.602018614544233e-05, 'lambda_l2': 0.00010462351867547651, 'num_leaves': 74, 'feature_fraction': 0.9091903350200284, 'bagging_fraction': 0.6349626737380203, 'bagging_freq': 7, 'min_child_samples': 82, 'learning_rate': 0.00018614614105684312, 'max_bin': 320, 'n_estimators': 180}. Best is trial 4 with value: 0.9192701304309328.\n",
      "[I 2024-05-06 18:25:37,119] Trial 6 finished with value: 0.9191498081888001 and parameters: {'boosting_type': 'gbdt', 'lambda_l1': 2.7136337115885496e-07, 'lambda_l2': 0.48321825424004256, 'num_leaves': 44, 'feature_fraction': 0.6021215899935435, 'bagging_fraction': 0.6607878895972266, 'bagging_freq': 6, 'min_child_samples': 5, 'learning_rate': 0.11622694401937811, 'max_bin': 288, 'n_estimators': 320}. Best is trial 4 with value: 0.9192701304309328.\n",
      "[I 2024-05-06 18:26:28,965] Trial 40 finished with value: 0.9192701304309328 and parameters: {'boosting_type': 'gbdt', 'lambda_l1': 5.444988641144025, 'lambda_l2': 0.00025785522107083745, 'num_leaves': 219, 'feature_fraction': 0.6080678929143462, 'bagging_fraction': 0.6305435207364048, 'bagging_freq': 7, 'min_child_samples': 58, 'learning_rate': 0.10889706722880205, 'max_bin': 256, 'n_estimators': 40}. Best is trial 4 with value: 0.9192701304309328.\n",
      "[I 2024-05-06 18:26:30,086] Trial 25 finished with value: 0.9119532250924884 and parameters: {'boosting_type': 'gbdt', 'lambda_l1': 0.00016376484979036736, 'lambda_l2': 0.0003632921913816464, 'num_leaves': 111, 'feature_fraction': 0.8045479388704371, 'bagging_fraction': 0.7269353776528842, 'bagging_freq': 2, 'min_child_samples': 48, 'learning_rate': 0.3546044323769393, 'max_bin': 448, 'n_estimators': 180}. Best is trial 4 with value: 0.9192701304309328.\n",
      "[I 2024-05-06 18:26:40,505] Trial 18 finished with value: 0.9192701304309328 and parameters: {'boosting_type': 'dart', 'lambda_l1': 0.000864679898885658, 'lambda_l2': 1.2592919807315611e-05, 'num_leaves': 116, 'feature_fraction': 0.7053074377258679, 'bagging_fraction': 0.6040264744360246, 'bagging_freq': 7, 'min_child_samples': 92, 'learning_rate': 0.05237103500194556, 'max_bin': 160, 'n_estimators': 160}. Best is trial 4 with value: 0.9192701304309328.\n",
      "[I 2024-05-06 18:26:51,682] Trial 35 finished with value: 0.9192701304309328 and parameters: {'boosting_type': 'gbdt', 'lambda_l1': 1.114360763199778e-06, 'lambda_l2': 8.955732830357939e-07, 'num_leaves': 92, 'feature_fraction': 0.9807890631051366, 'bagging_fraction': 0.8362557861013622, 'bagging_freq': 4, 'min_child_samples': 75, 'learning_rate': 0.0002049469862522175, 'max_bin': 160, 'n_estimators': 140}. Best is trial 4 with value: 0.9192701304309328.\n",
      "[I 2024-05-06 18:27:01,360] Trial 38 finished with value: 0.9114491704686761 and parameters: {'boosting_type': 'gbdt', 'lambda_l1': 2.008559172724728e-05, 'lambda_l2': 4.44429461788368e-08, 'num_leaves': 30, 'feature_fraction': 0.5366626497975031, 'bagging_fraction': 0.49973224560970586, 'bagging_freq': 1, 'min_child_samples': 77, 'learning_rate': 0.42740333769523686, 'max_bin': 288, 'n_estimators': 360}. Best is trial 4 with value: 0.9192701304309328.\n",
      "[I 2024-05-06 18:27:15,670] Trial 23 finished with value: 0.9192701304309328 and parameters: {'boosting_type': 'gbdt', 'lambda_l1': 0.04977411332016496, 'lambda_l2': 0.0011715779671502638, 'num_leaves': 157, 'feature_fraction': 0.614213605222128, 'bagging_fraction': 0.7383176751718705, 'bagging_freq': 7, 'min_child_samples': 85, 'learning_rate': 0.0001390331202640141, 'max_bin': 352, 'n_estimators': 140}. Best is trial 4 with value: 0.9192701304309328.\n",
      "[I 2024-05-06 18:27:30,881] Trial 14 finished with value: 0.9192701304309328 and parameters: {'boosting_type': 'gbdt', 'lambda_l1': 2.7599997454133457e-07, 'lambda_l2': 6.2706058873034305, 'num_leaves': 65, 'feature_fraction': 0.9864643406224113, 'bagging_fraction': 0.8023573786085103, 'bagging_freq': 2, 'min_child_samples': 25, 'learning_rate': 0.009651337431277145, 'max_bin': 256, 'n_estimators': 340}. Best is trial 4 with value: 0.9192701304309328.\n",
      "[I 2024-05-06 18:27:56,415] Trial 42 finished with value: 0.917175867966953 and parameters: {'boosting_type': 'gbdt', 'lambda_l1': 0.024790889891945462, 'lambda_l2': 0.014096361331542922, 'num_leaves': 102, 'feature_fraction': 0.4141959885723744, 'bagging_fraction': 0.8165617729770727, 'bagging_freq': 7, 'min_child_samples': 77, 'learning_rate': 0.4067741612620084, 'max_bin': 256, 'n_estimators': 100}. Best is trial 4 with value: 0.9192701304309328.\n",
      "[I 2024-05-06 18:27:59,792] Trial 22 finished with value: 0.904395675534159 and parameters: {'boosting_type': 'gbdt', 'lambda_l1': 3.786407954540931e-05, 'lambda_l2': 0.0027778699356081175, 'num_leaves': 64, 'feature_fraction': 0.5084463642454488, 'bagging_fraction': 0.7761762135415914, 'bagging_freq': 7, 'min_child_samples': 5, 'learning_rate': 0.2838668773343784, 'max_bin': 448, 'n_estimators': 340}. Best is trial 4 with value: 0.9192701304309328.\n",
      "[I 2024-05-06 18:28:19,931] Trial 10 finished with value: 0.9192701304309328 and parameters: {'boosting_type': 'dart', 'lambda_l1': 0.7126381077362192, 'lambda_l2': 0.00017604281297222332, 'num_leaves': 114, 'feature_fraction': 0.6751051398529406, 'bagging_fraction': 0.8682720110428463, 'bagging_freq': 1, 'min_child_samples': 96, 'learning_rate': 0.0005301295149613182, 'max_bin': 416, 'n_estimators': 200}. Best is trial 4 with value: 0.9192701304309328.\n",
      "[I 2024-05-06 18:28:35,996] Trial 43 finished with value: 0.9192343589721201 and parameters: {'boosting_type': 'gbdt', 'lambda_l1': 0.033841457881184776, 'lambda_l2': 0.007178930005787741, 'num_leaves': 97, 'feature_fraction': 0.4177765316440723, 'bagging_fraction': 0.7992035671381456, 'bagging_freq': 7, 'min_child_samples': 75, 'learning_rate': 0.12026605580109279, 'max_bin': 256, 'n_estimators': 120}. Best is trial 4 with value: 0.9192701304309328.\n",
      "[I 2024-05-06 18:29:06,321] Trial 26 finished with value: 0.9192603744920049 and parameters: {'boosting_type': 'gbdt', 'lambda_l1': 0.00016950722877758355, 'lambda_l2': 3.520644572245798, 'num_leaves': 79, 'feature_fraction': 0.9728179386908536, 'bagging_fraction': 0.44263417806043154, 'bagging_freq': 3, 'min_child_samples': 95, 'learning_rate': 0.03879615829609538, 'max_bin': 448, 'n_estimators': 340}. Best is trial 4 with value: 0.9192701304309328.\n",
      "[I 2024-05-06 18:29:23,020] Trial 44 finished with value: 0.9160149185843061 and parameters: {'boosting_type': 'gbdt', 'lambda_l1': 0.013445954191742406, 'lambda_l2': 0.013713588147857034, 'num_leaves': 107, 'feature_fraction': 0.4004468911869643, 'bagging_fraction': 0.803817663492781, 'bagging_freq': 6, 'min_child_samples': 70, 'learning_rate': 0.40146407011733554, 'max_bin': 256, 'n_estimators': 120}. Best is trial 4 with value: 0.9192701304309328.\n",
      "[I 2024-05-06 18:29:27,017] Trial 47 finished with value: 0.9192701304309328 and parameters: {'boosting_type': 'dart', 'lambda_l1': 0.017970316697620493, 'lambda_l2': 0.010161141136004678, 'num_leaves': 86, 'feature_fraction': 0.7537573002181793, 'bagging_fraction': 0.8141225905504572, 'bagging_freq': 5, 'min_child_samples': 74, 'learning_rate': 0.0006658492301027789, 'max_bin': 192, 'n_estimators': 100}. Best is trial 4 with value: 0.9192701304309328.\n",
      "[I 2024-05-06 18:29:29,394] Trial 36 finished with value: 0.9192701304309328 and parameters: {'boosting_type': 'dart', 'lambda_l1': 1.5388689268360123e-07, 'lambda_l2': 0.8763733000337612, 'num_leaves': 117, 'feature_fraction': 0.834055785874906, 'bagging_fraction': 0.43450769367503717, 'bagging_freq': 6, 'min_child_samples': 59, 'learning_rate': 0.041456293380850315, 'max_bin': 288, 'n_estimators': 180}. Best is trial 4 with value: 0.9192701304309328.\n",
      "[I 2024-05-06 18:30:14,536] Trial 34 finished with value: 0.9192701304309328 and parameters: {'boosting_type': 'gbdt', 'lambda_l1': 1.870156260159458e-07, 'lambda_l2': 0.007854942737137502, 'num_leaves': 159, 'feature_fraction': 0.8703056890240892, 'bagging_fraction': 0.6880011940480838, 'bagging_freq': 2, 'min_child_samples': 77, 'learning_rate': 0.016699231149252845, 'max_bin': 256, 'n_estimators': 160}. Best is trial 4 with value: 0.9192701304309328.\n",
      "[I 2024-05-06 18:30:38,153] Trial 46 finished with value: 0.9190132258369506 and parameters: {'boosting_type': 'dart', 'lambda_l1': 0.009172339870631657, 'lambda_l2': 0.007542041329178537, 'num_leaves': 108, 'feature_fraction': 0.7587294055014109, 'bagging_fraction': 0.7867200289552962, 'bagging_freq': 5, 'min_child_samples': 38, 'learning_rate': 0.34734727939131277, 'max_bin': 224, 'n_estimators': 120}. Best is trial 4 with value: 0.9192701304309328.\n",
      "[I 2024-05-06 18:31:25,729] Trial 39 finished with value: 0.9192701304309328 and parameters: {'boosting_type': 'gbdt', 'lambda_l1': 0.002983242388314547, 'lambda_l2': 0.002309421263535622, 'num_leaves': 107, 'feature_fraction': 0.6205486058447931, 'bagging_fraction': 0.9300262657588251, 'bagging_freq': 1, 'min_child_samples': 79, 'learning_rate': 0.00018941883435670242, 'max_bin': 288, 'n_estimators': 240}. Best is trial 4 with value: 0.9192701304309328.\n",
      "[I 2024-05-06 18:31:40,157] Trial 12 finished with value: 0.919250618605953 and parameters: {'boosting_type': 'dart', 'lambda_l1': 1.5581780561646297e-06, 'lambda_l2': 4.3829039545497606e-08, 'num_leaves': 230, 'feature_fraction': 0.9203320864957177, 'bagging_fraction': 0.5663304001014522, 'bagging_freq': 2, 'min_child_samples': 86, 'learning_rate': 0.09921512803304898, 'max_bin': 288, 'n_estimators': 160}. Best is trial 4 with value: 0.9192701304309328.\n",
      "[I 2024-05-06 18:32:01,806] Trial 15 finished with value: 0.9192701304309328 and parameters: {'boosting_type': 'dart', 'lambda_l1': 0.024220842486103202, 'lambda_l2': 5.897262825486099e-06, 'num_leaves': 135, 'feature_fraction': 0.6199154895476545, 'bagging_fraction': 0.6488191593914252, 'bagging_freq': 6, 'min_child_samples': 99, 'learning_rate': 0.007674204774337277, 'max_bin': 416, 'n_estimators': 260}. Best is trial 4 with value: 0.9192701304309328.\n",
      "[I 2024-05-06 18:32:34,797] Trial 2 finished with value: 0.9191855793832329 and parameters: {'boosting_type': 'dart', 'lambda_l1': 1.3371492567683925e-05, 'lambda_l2': 0.9663128343382282, 'num_leaves': 110, 'feature_fraction': 0.5644778649333273, 'bagging_fraction': 0.6548647989961389, 'bagging_freq': 3, 'min_child_samples': 76, 'learning_rate': 0.19305979551509914, 'max_bin': 512, 'n_estimators': 300}. Best is trial 4 with value: 0.9192701304309328.\n",
      "[I 2024-05-06 18:32:52,361] Trial 20 finished with value: 0.9192701304309328 and parameters: {'boosting_type': 'dart', 'lambda_l1': 6.0069644672817005e-05, 'lambda_l2': 0.07885918249994837, 'num_leaves': 221, 'feature_fraction': 0.535607949890357, 'bagging_fraction': 0.6122503670409304, 'bagging_freq': 7, 'min_child_samples': 96, 'learning_rate': 0.00209268445857009, 'max_bin': 192, 'n_estimators': 160}. Best is trial 4 with value: 0.9192701304309328.\n",
      "[I 2024-05-06 18:33:27,982] Trial 58 finished with value: 0.9192701304309328 and parameters: {'boosting_type': 'dart', 'lambda_l1': 0.004010654677242681, 'lambda_l2': 0.04968811458532514, 'num_leaves': 214, 'feature_fraction': 0.7372702468428957, 'bagging_fraction': 0.9898694827034105, 'bagging_freq': 5, 'min_child_samples': 44, 'learning_rate': 0.00041800633527579216, 'max_bin': 480, 'n_estimators': 60}. Best is trial 4 with value: 0.9192701304309328.\n",
      "[I 2024-05-06 18:33:46,633] Trial 57 finished with value: 0.9192701304309328 and parameters: {'boosting_type': 'dart', 'lambda_l1': 0.0033860854787245405, 'lambda_l2': 0.045887683956139624, 'num_leaves': 248, 'feature_fraction': 0.7564983608936963, 'bagging_fraction': 0.9963886349777862, 'bagging_freq': 5, 'min_child_samples': 65, 'learning_rate': 0.0003824734519729867, 'max_bin': 480, 'n_estimators': 60}. Best is trial 4 with value: 0.9192701304309328.\n",
      "[I 2024-05-06 18:33:48,049] Trial 59 finished with value: 0.9192701304309328 and parameters: {'boosting_type': 'dart', 'lambda_l1': 0.001455467100070076, 'lambda_l2': 0.160056942482308, 'num_leaves': 230, 'feature_fraction': 0.7417561335725221, 'bagging_fraction': 0.9606883249946307, 'bagging_freq': 5, 'min_child_samples': 42, 'learning_rate': 0.0003649798121991296, 'max_bin': 480, 'n_estimators': 60}. Best is trial 4 with value: 0.9192701304309328.\n",
      "[I 2024-05-06 18:33:54,460] Trial 55 finished with value: 0.9192701304309328 and parameters: {'boosting_type': 'dart', 'lambda_l1': 0.003367819933640063, 'lambda_l2': 0.002951548410714364, 'num_leaves': 215, 'feature_fraction': 0.7104439896328196, 'bagging_fraction': 0.9572114049603961, 'bagging_freq': 5, 'min_child_samples': 40, 'learning_rate': 0.00040160315651460634, 'max_bin': 480, 'n_estimators': 80}. Best is trial 4 with value: 0.9192701304309328.\n",
      "[I 2024-05-06 18:34:08,797] Trial 45 finished with value: 0.9191530600098148 and parameters: {'boosting_type': 'dart', 'lambda_l1': 0.018859942633978864, 'lambda_l2': 0.02327058876636842, 'num_leaves': 254, 'feature_fraction': 0.7612355603525718, 'bagging_fraction': 0.7873814670163484, 'bagging_freq': 5, 'min_child_samples': 70, 'learning_rate': 0.20627308424115454, 'max_bin': 224, 'n_estimators': 120}. Best is trial 4 with value: 0.9192701304309328.\n",
      "[I 2024-05-06 18:34:23,356] Trial 41 finished with value: 0.9191790753710716 and parameters: {'boosting_type': 'dart', 'lambda_l1': 0.017316008880225494, 'lambda_l2': 0.030032696853611984, 'num_leaves': 104, 'feature_fraction': 0.7970762453792182, 'bagging_fraction': 0.8415386194923793, 'bagging_freq': 5, 'min_child_samples': 97, 'learning_rate': 0.21493569475509308, 'max_bin': 256, 'n_estimators': 300}. Best is trial 4 with value: 0.9192701304309328.\n",
      "[I 2024-05-06 18:34:28,466] Trial 33 finished with value: 0.9192701304309328 and parameters: {'boosting_type': 'dart', 'lambda_l1': 2.0132302264719183e-06, 'lambda_l2': 1.625663872162457, 'num_leaves': 256, 'feature_fraction': 0.8503605702667291, 'bagging_fraction': 0.4985451382839955, 'bagging_freq': 6, 'min_child_samples': 73, 'learning_rate': 0.00010620347460220927, 'max_bin': 320, 'n_estimators': 160}. Best is trial 4 with value: 0.9192701304309328.\n",
      "[I 2024-05-06 18:34:33,129] Trial 52 finished with value: 0.9192701304309328 and parameters: {'boosting_type': 'dart', 'lambda_l1': 0.003609536260291924, 'lambda_l2': 0.005049734122858335, 'num_leaves': 250, 'feature_fraction': 0.41814735050751545, 'bagging_fraction': 0.9676142708171498, 'bagging_freq': 5, 'min_child_samples': 64, 'learning_rate': 0.000457718636397238, 'max_bin': 448, 'n_estimators': 80}. Best is trial 4 with value: 0.9192701304309328.\n",
      "[I 2024-05-06 18:34:42,131] Trial 51 finished with value: 0.9192701304309328 and parameters: {'boosting_type': 'dart', 'lambda_l1': 0.0035004327170339486, 'lambda_l2': 0.006764664034776588, 'num_leaves': 65, 'feature_fraction': 0.42650319038344053, 'bagging_fraction': 0.8135820874051108, 'bagging_freq': 6, 'min_child_samples': 33, 'learning_rate': 0.0008927483599182072, 'max_bin': 224, 'n_estimators': 280}. Best is trial 4 with value: 0.9192701304309328.\n",
      "[I 2024-05-06 18:34:43,196] Trial 13 finished with value: 0.9192701304309328 and parameters: {'boosting_type': 'dart', 'lambda_l1': 0.0066781589060612365, 'lambda_l2': 3.605010482235214e-07, 'num_leaves': 193, 'feature_fraction': 0.6555232387619574, 'bagging_fraction': 0.8982563264523382, 'bagging_freq': 6, 'min_child_samples': 96, 'learning_rate': 0.0019897801784100307, 'max_bin': 448, 'n_estimators': 220}. Best is trial 4 with value: 0.9192701304309328.\n",
      "[I 2024-05-06 18:35:02,155] Trial 63 finished with value: 0.9192701304309328 and parameters: {'boosting_type': 'dart', 'lambda_l1': 0.5075405255481251, 'lambda_l2': 2.2279100359698316e-05, 'num_leaves': 192, 'feature_fraction': 0.7231504389572224, 'bagging_fraction': 0.999847374686124, 'bagging_freq': 3, 'min_child_samples': 100, 'learning_rate': 0.0017962676071215924, 'max_bin': 384, 'n_estimators': 60}. Best is trial 4 with value: 0.9192701304309328.\n",
      "[I 2024-05-06 18:35:34,792] Trial 62 finished with value: 0.9192701304309328 and parameters: {'boosting_type': 'dart', 'lambda_l1': 0.4044469733036122, 'lambda_l2': 0.10890319009519964, 'num_leaves': 253, 'feature_fraction': 0.7323012144833666, 'bagging_fraction': 0.9607343259305443, 'bagging_freq': 3, 'min_child_samples': 47, 'learning_rate': 0.0014511654915463005, 'max_bin': 352, 'n_estimators': 60}. Best is trial 4 with value: 0.9192701304309328.\n",
      "[I 2024-05-06 18:35:39,604] Trial 64 finished with value: 0.9192701304309328 and parameters: {'boosting_type': 'dart', 'lambda_l1': 0.412641960260991, 'lambda_l2': 2.01519681948007e-05, 'num_leaves': 204, 'feature_fraction': 0.7384584920273383, 'bagging_fraction': 0.9874358959155891, 'bagging_freq': 3, 'min_child_samples': 99, 'learning_rate': 0.001592874176422363, 'max_bin': 384, 'n_estimators': 60}. Best is trial 4 with value: 0.9192701304309328.\n",
      "[I 2024-05-06 18:35:52,664] Trial 72 finished with value: 0.9192701304309328 and parameters: {'boosting_type': 'dart', 'lambda_l1': 0.5052830034200669, 'lambda_l2': 4.253081777556226e-05, 'num_leaves': 58, 'feature_fraction': 0.9488458804350887, 'bagging_fraction': 0.8666303974138163, 'bagging_freq': 3, 'min_child_samples': 27, 'learning_rate': 0.01531538442473278, 'max_bin': 384, 'n_estimators': 80}. Best is trial 4 with value: 0.9192701304309328.\n",
      "[I 2024-05-06 18:35:58,665] Trial 48 finished with value: 0.9192701304309328 and parameters: {'boosting_type': 'dart', 'lambda_l1': 0.015394087236204173, 'lambda_l2': 0.0097474708233208, 'num_leaves': 254, 'feature_fraction': 0.4064489065667484, 'bagging_fraction': 0.8215594385360669, 'bagging_freq': 5, 'min_child_samples': 74, 'learning_rate': 0.00010649635938730017, 'max_bin': 224, 'n_estimators': 100}. Best is trial 4 with value: 0.9192701304309328.\n",
      "[I 2024-05-06 18:36:05,089] Trial 75 finished with value: 0.9192701304309328 and parameters: {'boosting_type': 'dart', 'lambda_l1': 0.49066320637381544, 'lambda_l2': 3.3627064573614923e-05, 'num_leaves': 50, 'feature_fraction': 0.9368686579944969, 'bagging_fraction': 0.8810411041668241, 'bagging_freq': 3, 'min_child_samples': 35, 'learning_rate': 0.0013739454156693825, 'max_bin': 384, 'n_estimators': 80}. Best is trial 4 with value: 0.9192701304309328.\n",
      "[I 2024-05-06 18:36:10,951] Trial 73 finished with value: 0.9192701304309328 and parameters: {'boosting_type': 'dart', 'lambda_l1': 0.6834983693739733, 'lambda_l2': 4.060096095091958e-05, 'num_leaves': 57, 'feature_fraction': 0.9322794851091339, 'bagging_fraction': 0.8821471975502413, 'bagging_freq': 3, 'min_child_samples': 33, 'learning_rate': 0.001456169440719693, 'max_bin': 384, 'n_estimators': 80}. Best is trial 4 with value: 0.9192701304309328.\n",
      "[I 2024-05-06 18:36:16,037] Trial 78 finished with value: 0.08072986956906729 and parameters: {'boosting_type': 'dart', 'lambda_l1': 1.4612110555473143e-08, 'lambda_l2': 7.391121767546352, 'num_leaves': 51, 'feature_fraction': 0.9473137710665418, 'bagging_fraction': 0.6929226998448271, 'bagging_freq': 4, 'min_child_samples': 24, 'learning_rate': 0.020248730100211686, 'max_bin': 384, 'n_estimators': 80}. Best is trial 4 with value: 0.9192701304309328.\n",
      "[I 2024-05-06 18:36:28,248] Trial 66 finished with value: 0.9192701304309328 and parameters: {'boosting_type': 'dart', 'lambda_l1': 0.8007710976821812, 'lambda_l2': 0.07526474151414199, 'num_leaves': 202, 'feature_fraction': 0.7067625213196904, 'bagging_fraction': 0.9773626308614436, 'bagging_freq': 3, 'min_child_samples': 65, 'learning_rate': 0.0014699813012672295, 'max_bin': 384, 'n_estimators': 60}. Best is trial 4 with value: 0.9192701304309328.\n",
      "[I 2024-05-06 18:36:33,620] Trial 67 finished with value: 0.9192701304309328 and parameters: {'boosting_type': 'dart', 'lambda_l1': 0.45180786487217933, 'lambda_l2': 4.0735138244752663e-05, 'num_leaves': 188, 'feature_fraction': 0.6972260784285116, 'bagging_fraction': 0.8880446105263655, 'bagging_freq': 3, 'min_child_samples': 46, 'learning_rate': 0.0014048620812904275, 'max_bin': 384, 'n_estimators': 60}. Best is trial 4 with value: 0.9192701304309328.\n",
      "[I 2024-05-06 18:36:54,291] Trial 65 finished with value: 0.9192701304309328 and parameters: {'boosting_type': 'dart', 'lambda_l1': 1.2724068804549225, 'lambda_l2': 3.448792552206223e-05, 'num_leaves': 199, 'feature_fraction': 0.6896327363381194, 'bagging_fraction': 0.983175361734646, 'bagging_freq': 3, 'min_child_samples': 47, 'learning_rate': 0.001438937663506731, 'max_bin': 384, 'n_estimators': 80}. Best is trial 4 with value: 0.9192701304309328.\n",
      "[I 2024-05-06 18:37:58,571] Trial 81 finished with value: 0.9192701304309328 and parameters: {'boosting_type': 'dart', 'lambda_l1': 3.737980677525429e-08, 'lambda_l2': 8.828088158735174, 'num_leaves': 156, 'feature_fraction': 0.6378700233746617, 'bagging_fraction': 0.6778947241203399, 'bagging_freq': 4, 'min_child_samples': 91, 'learning_rate': 0.06792198170981735, 'max_bin': 416, 'n_estimators': 40}. Best is trial 4 with value: 0.9192701304309328.\n",
      "[I 2024-05-06 18:38:05,845] Trial 49 finished with value: 0.9192701304309328 and parameters: {'boosting_type': 'dart', 'lambda_l1': 0.013531196182634599, 'lambda_l2': 0.015569506270546849, 'num_leaves': 139, 'feature_fraction': 0.7449154278602409, 'bagging_fraction': 0.812591480956445, 'bagging_freq': 6, 'min_child_samples': 36, 'learning_rate': 0.01151157550283303, 'max_bin': 224, 'n_estimators': 240}. Best is trial 4 with value: 0.9192701304309328.\n",
      "[I 2024-05-06 18:38:10,071] Trial 80 finished with value: 0.08072986956906729 and parameters: {'boosting_type': 'dart', 'lambda_l1': 1.1090015070864469e-08, 'lambda_l2': 7.344259196300088, 'num_leaves': 144, 'feature_fraction': 0.9527545577296792, 'bagging_fraction': 0.6765898631176228, 'bagging_freq': 4, 'min_child_samples': 26, 'learning_rate': 0.01680063704192254, 'max_bin': 384, 'n_estimators': 80}. Best is trial 4 with value: 0.9192701304309328.\n",
      "[I 2024-05-06 18:38:15,911] Trial 76 finished with value: 0.9192701304309328 and parameters: {'boosting_type': 'dart', 'lambda_l1': 0.1765076291736776, 'lambda_l2': 4.669605711012267e-05, 'num_leaves': 137, 'feature_fraction': 0.9459859148312579, 'bagging_fraction': 0.8905377627298158, 'bagging_freq': 3, 'min_child_samples': 27, 'learning_rate': 0.0014059327163174124, 'max_bin': 384, 'n_estimators': 80}. Best is trial 4 with value: 0.9192701304309328.\n",
      "[I 2024-05-06 18:38:21,127] Trial 68 finished with value: 0.9192701304309328 and parameters: {'boosting_type': 'dart', 'lambda_l1': 0.4910252004188257, 'lambda_l2': 4.023182176753566e-05, 'num_leaves': 253, 'feature_fraction': 0.7084826927936089, 'bagging_fraction': 0.8846430115833439, 'bagging_freq': 3, 'min_child_samples': 67, 'learning_rate': 0.0011802497873123312, 'max_bin': 352, 'n_estimators': 60}. Best is trial 4 with value: 0.9192701304309328.\n",
      "[I 2024-05-06 18:38:54,005] Trial 77 finished with value: 0.9192701304309328 and parameters: {'boosting_type': 'dart', 'lambda_l1': 0.258876831294393, 'lambda_l2': 3.465905736267228e-05, 'num_leaves': 135, 'feature_fraction': 0.5762500296136546, 'bagging_fraction': 0.8853554947843911, 'bagging_freq': 3, 'min_child_samples': 35, 'learning_rate': 0.001262789202806621, 'max_bin': 384, 'n_estimators': 80}. Best is trial 4 with value: 0.9192701304309328.\n",
      "[I 2024-05-06 18:38:55,189] Trial 70 finished with value: 0.9192701304309328 and parameters: {'boosting_type': 'dart', 'lambda_l1': 0.4974233323521964, 'lambda_l2': 4.3073097027795506e-05, 'num_leaves': 186, 'feature_fraction': 0.6996020071652076, 'bagging_fraction': 0.8587511105086638, 'bagging_freq': 3, 'min_child_samples': 31, 'learning_rate': 0.001328974193672993, 'max_bin': 384, 'n_estimators': 80}. Best is trial 4 with value: 0.9192701304309328.\n",
      "[I 2024-05-06 18:39:16,409] Trial 69 finished with value: 0.9192701304309328 and parameters: {'boosting_type': 'dart', 'lambda_l1': 0.366901951489499, 'lambda_l2': 1.7963353839900182e-06, 'num_leaves': 200, 'feature_fraction': 0.7094225079790888, 'bagging_fraction': 0.8812845864697268, 'bagging_freq': 3, 'min_child_samples': 32, 'learning_rate': 0.0016183148641716425, 'max_bin': 384, 'n_estimators': 80}. Best is trial 4 with value: 0.9192701304309328.\n",
      "[I 2024-05-06 18:39:24,931] Trial 79 finished with value: 0.9192701304309328 and parameters: {'boosting_type': 'dart', 'lambda_l1': 1.2450988753184739e-08, 'lambda_l2': 5.2034282362062e-05, 'num_leaves': 135, 'feature_fraction': 0.9457033260883075, 'bagging_fraction': 0.6725767423890183, 'bagging_freq': 4, 'min_child_samples': 29, 'learning_rate': 0.01517840062415446, 'max_bin': 384, 'n_estimators': 80}. Best is trial 4 with value: 0.9192701304309328.\n",
      "[I 2024-05-06 18:39:39,145] Trial 0 finished with value: 0.6366942963127613 and parameters: {'boosting_type': 'dart', 'lambda_l1': 2.8211647532320785, 'lambda_l2': 0.00561589198106542, 'num_leaves': 166, 'feature_fraction': 0.6823381018222008, 'bagging_fraction': 0.7062225355842133, 'bagging_freq': 6, 'min_child_samples': 14, 'learning_rate': 0.017838268951877262, 'max_bin': 256, 'n_estimators': 360}. Best is trial 4 with value: 0.9192701304309328.\n",
      "[I 2024-05-06 18:39:48,603] Trial 71 finished with value: 0.9192701304309328 and parameters: {'boosting_type': 'dart', 'lambda_l1': 0.2992739723953176, 'lambda_l2': 5.541759927128198e-05, 'num_leaves': 192, 'feature_fraction': 0.5762592733364378, 'bagging_fraction': 0.877929186095206, 'bagging_freq': 3, 'min_child_samples': 29, 'learning_rate': 0.0013752730610122848, 'max_bin': 384, 'n_estimators': 80}. Best is trial 4 with value: 0.9192701304309328.\n",
      "[I 2024-05-06 18:40:36,469] Trial 74 finished with value: 0.9192701304309328 and parameters: {'boosting_type': 'dart', 'lambda_l1': 0.39703469241559186, 'lambda_l2': 4.234437717268692e-05, 'num_leaves': 192, 'feature_fraction': 0.5805707762166136, 'bagging_fraction': 0.8791166645448439, 'bagging_freq': 3, 'min_child_samples': 24, 'learning_rate': 0.001763959642295384, 'max_bin': 384, 'n_estimators': 80}. Best is trial 4 with value: 0.9192701304309328.\n",
      "[I 2024-05-06 18:40:48,663] Trial 90 finished with value: 0.9192701304309328 and parameters: {'boosting_type': 'dart', 'lambda_l1': 2.6060064430113132, 'lambda_l2': 5.323091341830479e-06, 'num_leaves': 19, 'feature_fraction': 0.5812846675493907, 'bagging_fraction': 0.7649729606100751, 'bagging_freq': 2, 'min_child_samples': 84, 'learning_rate': 0.0002697514375508338, 'max_bin': 416, 'n_estimators': 200}. Best is trial 4 with value: 0.9192701304309328.\n",
      "[I 2024-05-06 18:41:06,956] Trial 92 finished with value: 0.9192701304309328 and parameters: {'boosting_type': 'gbdt', 'lambda_l1': 5.627116370390541e-06, 'lambda_l2': 6.574621681409627e-06, 'num_leaves': 26, 'feature_fraction': 0.5826072386016876, 'bagging_fraction': 0.9340589226739743, 'bagging_freq': 2, 'min_child_samples': 84, 'learning_rate': 0.002726591484949845, 'max_bin': 416, 'n_estimators': 200}. Best is trial 4 with value: 0.9192701304309328.\n",
      "[I 2024-05-06 18:41:08,065] Trial 94 finished with value: 0.9192701304309328 and parameters: {'boosting_type': 'gbdt', 'lambda_l1': 6.068778300667796e-07, 'lambda_l2': 6.582183726949262e-06, 'num_leaves': 20, 'feature_fraction': 0.8972682404732247, 'bagging_fraction': 0.7135288828987811, 'bagging_freq': 2, 'min_child_samples': 87, 'learning_rate': 0.002913216758967717, 'max_bin': 416, 'n_estimators': 200}. Best is trial 4 with value: 0.9192701304309328.\n",
      "[I 2024-05-06 18:41:19,255] Trial 95 finished with value: 0.9192701304309328 and parameters: {'boosting_type': 'gbdt', 'lambda_l1': 2.413559341544506e-06, 'lambda_l2': 3.559737547143465e-06, 'num_leaves': 22, 'feature_fraction': 0.8999620301498514, 'bagging_fraction': 0.7555585559609136, 'bagging_freq': 2, 'min_child_samples': 87, 'learning_rate': 0.0034302053781617714, 'max_bin': 416, 'n_estimators': 200}. Best is trial 4 with value: 0.9192701304309328.\n",
      "[I 2024-05-06 18:41:27,570] Trial 96 finished with value: 0.9192701304309328 and parameters: {'boosting_type': 'gbdt', 'lambda_l1': 3.3838653531449344e-06, 'lambda_l2': 0.0004986650555036155, 'num_leaves': 20, 'feature_fraction': 0.8960398731671718, 'bagging_fraction': 0.7536761484655178, 'bagging_freq': 2, 'min_child_samples': 84, 'learning_rate': 0.00028708100005850985, 'max_bin': 416, 'n_estimators': 200}. Best is trial 4 with value: 0.9192701304309328.\n",
      "[I 2024-05-06 18:41:35,978] Trial 19 finished with value: 0.9124963014098479 and parameters: {'boosting_type': 'dart', 'lambda_l1': 0.007302133073229893, 'lambda_l2': 9.899823021792659e-07, 'num_leaves': 161, 'feature_fraction': 0.6046057565535858, 'bagging_fraction': 0.48773720633314943, 'bagging_freq': 6, 'min_child_samples': 44, 'learning_rate': 0.4352486449664346, 'max_bin': 352, 'n_estimators': 360}. Best is trial 4 with value: 0.9192701304309328.\n",
      "[I 2024-05-06 18:41:37,298] Trial 98 finished with value: 0.9192701304309328 and parameters: {'boosting_type': 'gbdt', 'lambda_l1': 5.4634565969970806e-06, 'lambda_l2': 7.842846035251886e-06, 'num_leaves': 18, 'feature_fraction': 0.9031934595210692, 'bagging_fraction': 0.7679559543583565, 'bagging_freq': 2, 'min_child_samples': 86, 'learning_rate': 0.002589424999017801, 'max_bin': 512, 'n_estimators': 200}. Best is trial 4 with value: 0.9192701304309328.\n",
      "[I 2024-05-06 18:41:39,105] Trial 97 finished with value: 0.9192701304309328 and parameters: {'boosting_type': 'gbdt', 'lambda_l1': 4.538859715545689e-06, 'lambda_l2': 7.799603787608343e-06, 'num_leaves': 21, 'feature_fraction': 0.8844870634832901, 'bagging_fraction': 0.7608416109268585, 'bagging_freq': 2, 'min_child_samples': 84, 'learning_rate': 0.0037272221711423343, 'max_bin': 416, 'n_estimators': 200}. Best is trial 4 with value: 0.9192701304309328.\n",
      "[I 2024-05-06 18:41:53,715] Trial 50 finished with value: 0.9192701304309328 and parameters: {'boosting_type': 'dart', 'lambda_l1': 0.006345787152103751, 'lambda_l2': 0.023578124137650536, 'num_leaves': 147, 'feature_fraction': 0.42588380779855584, 'bagging_fraction': 0.8043390888970886, 'bagging_freq': 6, 'min_child_samples': 32, 'learning_rate': 0.013067896171315584, 'max_bin': 256, 'n_estimators': 260}. Best is trial 4 with value: 0.9192701304309328.\n",
      "[I 2024-05-06 18:41:59,374] Trial 99 finished with value: 0.9192701304309328 and parameters: {'boosting_type': 'gbdt', 'lambda_l1': 0.07812948698825233, 'lambda_l2': 7.283526144652181e-06, 'num_leaves': 23, 'feature_fraction': 0.8917314845119602, 'bagging_fraction': 0.9206254446897651, 'bagging_freq': 2, 'min_child_samples': 87, 'learning_rate': 0.0024864851072563202, 'max_bin': 512, 'n_estimators': 200}. Best is trial 4 with value: 0.9192701304309328.\n",
      "[I 2024-05-06 18:42:04,245] Trial 93 finished with value: 0.9192701304309328 and parameters: {'boosting_type': 'gbdt', 'lambda_l1': 4.104201172779306e-06, 'lambda_l2': 5.478290430919352e-06, 'num_leaves': 38, 'feature_fraction': 0.5797033685557882, 'bagging_fraction': 0.75919451238685, 'bagging_freq': 2, 'min_child_samples': 86, 'learning_rate': 0.003153517711990193, 'max_bin': 416, 'n_estimators': 200}. Best is trial 4 with value: 0.9192701304309328.\n",
      "[I 2024-05-06 18:43:03,691] Trial 84 finished with value: 0.911556487171658 and parameters: {'boosting_type': 'dart', 'lambda_l1': 0.11251907466171962, 'lambda_l2': 9.957306887879282, 'num_leaves': 134, 'feature_fraction': 0.681183247620892, 'bagging_fraction': 0.6826288793063314, 'bagging_freq': 4, 'min_child_samples': 89, 'learning_rate': 0.06189585322287178, 'max_bin': 416, 'n_estimators': 200}. Best is trial 4 with value: 0.9192701304309328.\n",
      "[I 2024-05-06 18:43:42,357] Trial 83 finished with value: 0.9132409847608777 and parameters: {'boosting_type': 'dart', 'lambda_l1': 3.22744791861789e-08, 'lambda_l2': 8.233724991284365, 'num_leaves': 136, 'feature_fraction': 0.6883660930040533, 'bagging_fraction': 0.685085083894809, 'bagging_freq': 4, 'min_child_samples': 90, 'learning_rate': 0.07424865552720046, 'max_bin': 416, 'n_estimators': 220}. Best is trial 4 with value: 0.9192701304309328.\n",
      "[I 2024-05-06 18:43:43,371] Trial 3 finished with value: 0.9192636265245235 and parameters: {'boosting_type': 'dart', 'lambda_l1': 0.0012527575497096283, 'lambda_l2': 2.41454130287557e-07, 'num_leaves': 192, 'feature_fraction': 0.7768285981223142, 'bagging_fraction': 0.4195889808006739, 'bagging_freq': 3, 'min_child_samples': 94, 'learning_rate': 0.032579087982577096, 'max_bin': 416, 'n_estimators': 380}. Best is trial 4 with value: 0.9192701304309328.\n",
      "[I 2024-05-06 18:43:52,139] Trial 21 finished with value: 0.9192701304309328 and parameters: {'boosting_type': 'gbdt', 'lambda_l1': 0.0015241533701059098, 'lambda_l2': 0.132239063257725, 'num_leaves': 189, 'feature_fraction': 0.5285517355912543, 'bagging_fraction': 0.8596346299846922, 'bagging_freq': 1, 'min_child_samples': 5, 'learning_rate': 0.00013572803429912536, 'max_bin': 128, 'n_estimators': 340}. Best is trial 4 with value: 0.9192701304309328.\n",
      "[I 2024-05-06 18:43:58,089] Trial 5 finished with value: 0.9192701304309328 and parameters: {'boosting_type': 'dart', 'lambda_l1': 8.693026322272413e-05, 'lambda_l2': 6.53007311606375e-05, 'num_leaves': 173, 'feature_fraction': 0.4537364655910769, 'bagging_fraction': 0.4144368284481943, 'bagging_freq': 5, 'min_child_samples': 15, 'learning_rate': 0.005355360366452324, 'max_bin': 320, 'n_estimators': 360}. Best is trial 4 with value: 0.9192701304309328.\n",
      "[I 2024-05-06 18:43:59,620] Trial 24 finished with value: 0.8937455089341293 and parameters: {'boosting_type': 'gbdt', 'lambda_l1': 2.8610724305176758e-05, 'lambda_l2': 0.05720202869700974, 'num_leaves': 183, 'feature_fraction': 0.5446564346151417, 'bagging_fraction': 0.5547592316764993, 'bagging_freq': 5, 'min_child_samples': 76, 'learning_rate': 0.4652781667491061, 'max_bin': 416, 'n_estimators': 380}. Best is trial 4 with value: 0.9192701304309328.\n",
      "[I 2024-05-06 18:44:06,522] Trial 82 finished with value: 0.9192701304309328 and parameters: {'boosting_type': 'dart', 'lambda_l1': 1.6239005912097134e-08, 'lambda_l2': 7.592779727463968, 'num_leaves': 136, 'feature_fraction': 0.6795719170334458, 'bagging_fraction': 0.8861027601842854, 'bagging_freq': 4, 'min_child_samples': 92, 'learning_rate': 0.0002469609514990867, 'max_bin': 416, 'n_estimators': 220}. Best is trial 4 with value: 0.9192701304309328.\n",
      "[I 2024-05-06 18:44:27,344] Trial 85 finished with value: 0.9192636264716475 and parameters: {'boosting_type': 'dart', 'lambda_l1': 0.14732775954948435, 'lambda_l2': 2.9504184664059867e-06, 'num_leaves': 144, 'feature_fraction': 0.6854695684517625, 'bagging_fraction': 0.74882780368925, 'bagging_freq': 4, 'min_child_samples': 92, 'learning_rate': 0.06636637736859288, 'max_bin': 416, 'n_estimators': 200}. Best is trial 4 with value: 0.9192701304309328.\n",
      "[I 2024-05-06 18:44:52,938] Trial 88 finished with value: 0.9192701304309328 and parameters: {'boosting_type': 'dart', 'lambda_l1': 0.10035004801221932, 'lambda_l2': 3.2799174015073232e-06, 'num_leaves': 137, 'feature_fraction': 0.584901068198553, 'bagging_fraction': 0.7635435735438926, 'bagging_freq': 4, 'min_child_samples': 91, 'learning_rate': 0.00026509676252855786, 'max_bin': 416, 'n_estimators': 200}. Best is trial 4 with value: 0.9192701304309328.\n",
      "[I 2024-05-06 18:44:58,258] Trial 86 finished with value: 0.9192701304309328 and parameters: {'boosting_type': 'dart', 'lambda_l1': 0.1363595015438804, 'lambda_l2': 4.193950804326271e-06, 'num_leaves': 148, 'feature_fraction': 0.6820320641001223, 'bagging_fraction': 0.7490585868158721, 'bagging_freq': 4, 'min_child_samples': 91, 'learning_rate': 0.00022969461584479992, 'max_bin': 416, 'n_estimators': 200}. Best is trial 4 with value: 0.9192701304309328.\n",
      "[I 2024-05-06 18:45:01,693] Trial 87 finished with value: 0.9192701304309328 and parameters: {'boosting_type': 'dart', 'lambda_l1': 0.10907926371604727, 'lambda_l2': 6.886688738757691e-06, 'num_leaves': 137, 'feature_fraction': 0.5803038029947121, 'bagging_fraction': 0.762612792603858, 'bagging_freq': 4, 'min_child_samples': 90, 'learning_rate': 0.0002561813397644471, 'max_bin': 416, 'n_estimators': 200}. Best is trial 4 with value: 0.9192701304309328.\n",
      "[I 2024-05-06 18:45:08,167] Trial 53 finished with value: 0.9192701304309328 and parameters: {'boosting_type': 'dart', 'lambda_l1': 0.003197915048851739, 'lambda_l2': 0.0032708069283506076, 'num_leaves': 251, 'feature_fraction': 0.7562859824177497, 'bagging_fraction': 0.9313428290859966, 'bagging_freq': 5, 'min_child_samples': 65, 'learning_rate': 0.0005345719844296052, 'max_bin': 448, 'n_estimators': 240}. Best is trial 4 with value: 0.9192701304309328.\n",
      "[I 2024-05-06 18:45:08,552] Trial 60 finished with value: 0.9192701304309328 and parameters: {'boosting_type': 'dart', 'lambda_l1': 0.004507430549879259, 'lambda_l2': 0.1426820901259056, 'num_leaves': 227, 'feature_fraction': 0.7336388516164715, 'bagging_fraction': 0.9536795911001229, 'bagging_freq': 5, 'min_child_samples': 42, 'learning_rate': 0.0003252119897926937, 'max_bin': 480, 'n_estimators': 240}. Best is trial 4 with value: 0.9192701304309328.\n",
      "[I 2024-05-06 18:45:09,907] Trial 61 finished with value: 0.9192701304309328 and parameters: {'boosting_type': 'dart', 'lambda_l1': 0.004275111972312985, 'lambda_l2': 0.15620538660584074, 'num_leaves': 233, 'feature_fraction': 0.7558676528439356, 'bagging_fraction': 0.9701947127957532, 'bagging_freq': 5, 'min_child_samples': 47, 'learning_rate': 0.0018651883087818768, 'max_bin': 480, 'n_estimators': 240}. Best is trial 4 with value: 0.9192701304309328.\n",
      "[I 2024-05-06 18:45:10,506] Trial 89 finished with value: 0.9192701304309328 and parameters: {'boosting_type': 'dart', 'lambda_l1': 0.09977984484958397, 'lambda_l2': 5.798551213165627e-06, 'num_leaves': 135, 'feature_fraction': 0.5935188755195256, 'bagging_fraction': 0.716339306820128, 'bagging_freq': 4, 'min_child_samples': 87, 'learning_rate': 0.00024917720854843894, 'max_bin': 416, 'n_estimators': 200}. Best is trial 4 with value: 0.9192701304309328.\n",
      "[I 2024-05-06 18:45:13,550] Trial 91 finished with value: 0.9192701304309328 and parameters: {'boosting_type': 'dart', 'lambda_l1': 0.12459923950133531, 'lambda_l2': 5.323090492808707e-06, 'num_leaves': 124, 'feature_fraction': 0.582018687862434, 'bagging_fraction': 0.5407589512267448, 'bagging_freq': 2, 'min_child_samples': 85, 'learning_rate': 0.0002498765549950518, 'max_bin': 416, 'n_estimators': 200}. Best is trial 4 with value: 0.9192701304309328.\n",
      "[I 2024-05-06 18:45:16,221] Trial 54 finished with value: 0.9192701304309328 and parameters: {'boosting_type': 'dart', 'lambda_l1': 0.006208939792493009, 'lambda_l2': 0.03083392027922082, 'num_leaves': 255, 'feature_fraction': 0.7331959623328197, 'bagging_fraction': 0.9966889983913103, 'bagging_freq': 5, 'min_child_samples': 65, 'learning_rate': 0.0004647689579885387, 'max_bin': 480, 'n_estimators': 260}. Best is trial 4 with value: 0.9192701304309328.\n",
      "[I 2024-05-06 18:45:20,366] Trial 37 finished with value: 0.9192701304309328 and parameters: {'boosting_type': 'gbdt', 'lambda_l1': 0.07262093373738567, 'lambda_l2': 2.889833207987408, 'num_leaves': 202, 'feature_fraction': 0.8590916762834755, 'bagging_fraction': 0.7527957872778837, 'bagging_freq': 4, 'min_child_samples': 46, 'learning_rate': 0.0017887771804535508, 'max_bin': 512, 'n_estimators': 400}. Best is trial 4 with value: 0.9192701304309328.\n",
      "[I 2024-05-06 18:45:22,461] Trial 56 finished with value: 0.9192701304309328 and parameters: {'boosting_type': 'dart', 'lambda_l1': 0.0028987465622288293, 'lambda_l2': 0.09206927730745901, 'num_leaves': 251, 'feature_fraction': 0.7565997043324436, 'bagging_fraction': 0.9769260294086833, 'bagging_freq': 5, 'min_child_samples': 67, 'learning_rate': 0.0017814865820255277, 'max_bin': 480, 'n_estimators': 260}. Best is trial 4 with value: 0.9192701304309328.\n",
      "[I 2024-05-06 18:45:24,097] Trial 29 finished with value: 0.9192701304309328 and parameters: {'boosting_type': 'gbdt', 'lambda_l1': 0.036665369081348195, 'lambda_l2': 1.5491328078056384e-08, 'num_leaves': 228, 'feature_fraction': 0.5811568491083816, 'bagging_fraction': 0.9955146731963863, 'bagging_freq': 6, 'min_child_samples': 13, 'learning_rate': 0.0005567769041050175, 'max_bin': 320, 'n_estimators': 400}. Best is trial 4 with value: 0.9192701304309328.\n"
     ]
    },
    {
     "name": "stdout",
     "output_type": "stream",
     "text": [
      "Optimize hyperparameters - duration (hh:mm:ss) : 0:25:10\n"
     ]
    }
   ],
   "source": [
    "with timer(\"Optimize hyperparameters\"):\n",
    "    # Utilise l'algorithme d'optimisation TPE (Tree-structured Parzen Estimator) comme méthode d'échantillonnage\n",
    "    # Il s'agit de l'algo qui génère les valeurs des hyperparams lors de chaque essai d'optimisation\n",
    "    # Ici il est utilisé en conjonction avec le pruning Hyperband\n",
    "    # => Le sampler choisit les params à essayer, le pruner les arrête prématurément si non performants\n",
    "    sampler = optuna.samplers.TPESampler()\n",
    "    \n",
    "    # Optuna a réalisé plusieurs études empiriques avec différents algorithmes de pruning.\n",
    "    # Empiriquement, l'algorithme Hyperband a donné les meilleurs résultats\n",
    "    # Voir : https://github.com/optuna/optuna/wiki/Benchmarks-with-Kurobako\n",
    "    # reduction_factor contrôle combien de trials sont proposés dans chaque Halving Round\n",
    "    pruner = optuna.pruners.HyperbandPruner(\n",
    "        min_resource=10, max_resource=400, reduction_factor=3)\n",
    "    \n",
    "    # On crèe une run MLFlow\n",
    "    run_name = f\"lightgbm_single_weighted_recall_{n_features}_best\"\n",
    "    run_description = f'Single objective - métrique f1_macro - all data kernel simple - {n_features}_features'\n",
    "    \n",
    "    \n",
    "    with mlflow.start_run(experiment_id=experiment_id, run_name=run_name, nested=True) as run:\n",
    "        # description du run\n",
    "        mlflow.set_tag(\"mlflow.note.content\", run_description)\n",
    "        \n",
    "        study = optuna.create_study(\n",
    "            direction='maximize', \n",
    "            sampler=sampler,\n",
    "            pruner=pruner,\n",
    "            study_name=\"lightgbm_single_obj_03\",\n",
    "            #storage=os.path.join(MODEL_DIR, subdir)\n",
    "        )\n",
    "    \n",
    "        # gc appelle le garbage collector après chaque trial\n",
    "        study.optimize(objective(optimize_boosting_type=True), n_trials=100, gc_after_trial=True, n_jobs=-1)\n",
    "        \n",
    "        best_params = study.best_trial.params\n",
    "        best_score =study.best_trial.value\n",
    "        mlflow.log_params(best_params)\n",
    "        #mlflow.sklearn.log_model(study.best_trial.model, \"Meilleur modèle\")\n",
    "        \n",
    "        fig = optuna.visualization.plot_parallel_coordinate(study, params=[\"boosting_type\", \"num_leaves\", \"learning_rate\", \"n_estimators\"])\n",
    "        im_dir = os.path.join(MODEL_DIR, subdir)\n",
    "        #fig.write_image(file=os.path.join(im_dir, \"single_parallel_coordinates.png\"), format=\"png\", scale=6)\n",
    "        fig.write_html(os.path.join(im_dir, \"single_parallel_coordinates.html\"))\n",
    "        fig = optuna.visualization.plot_param_importances(study)\n",
    "        #fig.write_image(file=os.path.join(im_dir, \"single_hyperparam_importance.png\"), format=\"png\", scale=1)\n",
    "        fig.write_html(os.path.join(im_dir, \"single_hyperparam_importance.html\"))\n",
    "        \n",
    "        mlflow.log_params(best_params)\n",
    "        mlflow.log_metric(\"weight_recall\", best_score)\n",
    "        mlflow.log_artifact(os.path.join(im_dir, \"single_parallel_coordinates.html\"))\n",
    "        mlflow.log_artifact(os.path.join(im_dir, \"single_hyperparam_importance.html\"))\n",
    "        #mlflow.log_artifact(os.path.join(im_dir, \"single_hyperparam_importance.png\"))\n",
    "    # Force mlflow à terminer le run même s'il y a une erreur dedans\n",
    "    mlflow.end_run()"
   ]
  },
  {
   "cell_type": "code",
   "execution_count": 82,
   "metadata": {},
   "outputs": [],
   "source": [
    "mlflow.end_run()"
   ]
  },
  {
   "cell_type": "code",
   "execution_count": 47,
   "metadata": {
    "ExecuteTime": {
     "end_time": "2023-04-27T12:41:49.410671Z",
     "start_time": "2023-04-27T12:41:49.410671Z"
    },
    "collapsed": false
   },
   "outputs": [
    {
     "name": "stdout",
     "output_type": "stream",
     "text": [
      "FrozenTrial(number=3, state=TrialState.COMPLETE, values=[0.04807719281410693], datetime_start=datetime.datetime(2024, 5, 6, 15, 32, 46, 653851), datetime_complete=datetime.datetime(2024, 5, 6, 15, 35, 57, 587988), params={'boosting_type': 'dart', 'lambda_l1': 0.0002094385256850892, 'lambda_l2': 1.4244398909216404e-06, 'num_leaves': 165, 'feature_fraction': 0.5791097943448836, 'bagging_fraction': 0.4524519297389386, 'bagging_freq': 3, 'min_child_samples': 47, 'learning_rate': 0.4925837985942177, 'max_bin': 256, 'n_estimators': 200}, user_attrs={}, system_attrs={}, intermediate_values={}, distributions={'boosting_type': CategoricalDistribution(choices=('dart', 'gbdt')), 'lambda_l1': FloatDistribution(high=10.0, log=True, low=1e-08, step=None), 'lambda_l2': FloatDistribution(high=10.0, log=True, low=1e-08, step=None), 'num_leaves': IntDistribution(high=256, log=False, low=2, step=1), 'feature_fraction': FloatDistribution(high=1.0, log=False, low=0.4, step=None), 'bagging_fraction': FloatDistribution(high=1.0, log=False, low=0.4, step=None), 'bagging_freq': IntDistribution(high=7, log=False, low=1, step=1), 'min_child_samples': IntDistribution(high=100, log=False, low=5, step=1), 'learning_rate': FloatDistribution(high=0.5, log=True, low=0.0001, step=None), 'max_bin': IntDistribution(high=512, log=False, low=128, step=32), 'n_estimators': IntDistribution(high=400, log=False, low=40, step=20)}, trial_id=3, value=None)\n",
      "boosting_type : dart\n",
      "lambda_l1 : 0.0002094385256850892\n",
      "lambda_l2 : 1.4244398909216404e-06\n",
      "num_leaves : 165\n",
      "feature_fraction : 0.5791097943448836\n",
      "bagging_fraction : 0.4524519297389386\n",
      "bagging_freq : 3\n",
      "min_child_samples : 47\n",
      "learning_rate : 0.4925837985942177\n",
      "max_bin : 256\n",
      "n_estimators : 200\n"
     ]
    }
   ],
   "source": [
    "print(study.best_trial)\n",
    "best_params = study.best_trial.params\n",
    "for k, v in best_params.items():\n",
    "    print(f\"{k} : {v}\")"
   ]
  },
  {
   "cell_type": "code",
   "execution_count": 70,
   "metadata": {},
   "outputs": [
    {
     "data": {
      "text/plain": [
       "['models/light_simple/opt_lightgbm_single_03.pkl']"
      ]
     },
     "execution_count": 70,
     "metadata": {},
     "output_type": "execute_result"
    }
   ],
   "source": [
    "joblib.dump(study, os.path.join(MODEL_DIR, subdir, \"opt_lightgbm_single_03.pkl\"))"
   ]
  },
  {
   "cell_type": "markdown",
   "metadata": {
    "collapsed": false
   },
   "source": [
    "## Understanding Parameters"
   ]
  },
  {
   "cell_type": "code",
   "execution_count": 72,
   "metadata": {},
   "outputs": [],
   "source": [
    "study = joblib.load(os.path.join(MODEL_DIR, subdir, \"opt_lightgbm_single_03.pkl\"))"
   ]
  },
  {
   "cell_type": "code",
   "execution_count": 73,
   "metadata": {},
   "outputs": [
    {
     "name": "stdout",
     "output_type": "stream",
     "text": [
      "<class 'plotly.graph_objs._figure.Figure'>\n"
     ]
    }
   ],
   "source": [
    "# Nécessite l'installation de plotly et de Kaleido (redémarrer le kernel impérativement après plotly, kaleido version 0.1.0 et nformat version récente)\n",
    "# pip install kaleido==0.1.0\n",
    "# pip install --upgrade nbformat\n",
    "# Ajouter le path de kaleido.cmd au PATH windows\n",
    "# Tout redémarrer\n",
    "fig = optuna.visualization.plot_parallel_coordinate(study, params=[\"boosting_type\", \"num_leaves\", \"learning_rate\", \"n_estimators\"])\n",
    "joblib.dump(fig, os.path.join(MODEL_DIR,'fig_plotly.pkl'))\n",
    "print(type(fig))"
   ]
  },
  {
   "cell_type": "code",
   "execution_count": 74,
   "metadata": {},
   "outputs": [],
   "source": [
    "im_dir = os.path.join(MODEL_DIR, subdir)"
   ]
  },
  {
   "cell_type": "code",
   "execution_count": 75,
   "metadata": {},
   "outputs": [],
   "source": [
    "fig.write_image(file=os.path.join(im_dir, \"single_parallel_coordinates.png\"), format=\"png\", scale=6)"
   ]
  },
  {
   "cell_type": "code",
   "execution_count": 76,
   "metadata": {},
   "outputs": [
    {
     "data": {
      "application/vnd.plotly.v1+json": {
       "config": {
        "plotlyServerURL": "https://plot.ly"
       },
       "data": [
        {
         "dimensions": [
          {
           "label": "Objective Value",
           "range": [
            0,
            0.6335845510272915
           ],
           "values": [
            0,
            0.36372286809394566,
            0,
            0.4088985407279015,
            0,
            0.5589914400737834,
            0,
            0.0714842700487468,
            0.6335845510272915,
            0,
            0.5989651572714703,
            0,
            0,
            0,
            0.6122962426302936,
            0,
            0,
            0.6137732165590389,
            0.5929453236600144,
            0.5974505756144689,
            0.5825649484091543,
            0,
            0.5761810375678778,
            0.5820088324178478,
            0,
            0.6059444364872382,
            0,
            0,
            0.6223718964301336,
            0.22116656003256724
           ]
          },
          {
           "label": "boosting_type",
           "range": [
            0,
            1
           ],
           "ticktext": [
            "gbdt",
            "dart"
           ],
           "tickvals": [
            0,
            1
           ],
           "values": [
            0,
            1,
            1,
            1,
            0,
            0,
            0,
            1,
            1,
            1,
            0,
            1,
            0,
            1,
            0,
            0,
            0,
            0,
            1,
            1,
            1,
            1,
            1,
            1,
            1,
            0,
            1,
            1,
            0,
            0
           ]
          },
          {
           "label": "learning_rate",
           "range": [
            -3.9992969909375042,
            -0.45992162336571174
           ],
           "ticktext": [
            "0.0001",
            "0.001",
            "0.01",
            "0.1",
            "0.347"
           ],
           "tickvals": [
            -3.9992969909375042,
            -3,
            -2,
            -1,
            -0.45992162336571174
           ],
           "values": [
            -3.3373056015812823,
            -2.3736549524268833,
            -3.125087617110428,
            -1.4805809673703987,
            -3.035132001741161,
            -2.3298956705726748,
            -3.1206659331229805,
            -2.6098673062993245,
            -0.45992162336571174,
            -3.210349380841419,
            -1.3764100599775493,
            -3.3738465035131573,
            -2.940103500449386,
            -3.3824107584039402,
            -1.9021515372502098,
            -3.9992969909375042,
            -3.8415746011774927,
            -1.3236205014760583,
            -1.835433653046471,
            -0.6641913655877274,
            -1.8535088390017314,
            -2.9672624255514655,
            -1.3773063194983444,
            -1.0554680062030413,
            -3.492949978024926,
            -2.045946538849903,
            -3.2915486452037084,
            -3.495271665763219,
            -0.4824275649206435,
            -2.4834829068126267
           ]
          },
          {
           "label": "n_estimators",
           "range": [
            40,
            400
           ],
           "values": [
            380,
            200,
            300,
            40,
            220,
            300,
            340,
            360,
            40,
            340,
            60,
            400,
            360,
            320,
            400,
            260,
            120,
            280,
            380,
            200,
            340,
            40,
            260,
            160,
            160,
            360,
            200,
            200,
            360,
            180
           ]
          },
          {
           "label": "num_leaves",
           "range": [
            12,
            255
           ],
           "values": [
            34,
            91,
            203,
            97,
            80,
            160,
            102,
            12,
            204,
            41,
            31,
            155,
            114,
            62,
            181,
            25,
            235,
            233,
            255,
            201,
            134,
            57,
            67,
            185,
            127,
            71,
            23,
            184,
            145,
            55
           ]
          }
         ],
         "labelangle": 30,
         "labelside": "bottom",
         "line": {
          "color": [
           0,
           0.36372286809394566,
           0,
           0.4088985407279015,
           0,
           0.5589914400737834,
           0,
           0.0714842700487468,
           0.6335845510272915,
           0,
           0.5989651572714703,
           0,
           0,
           0,
           0.6122962426302936,
           0,
           0,
           0.6137732165590389,
           0.5929453236600144,
           0.5974505756144689,
           0.5825649484091543,
           0,
           0.5761810375678778,
           0.5820088324178478,
           0,
           0.6059444364872382,
           0,
           0,
           0.6223718964301336,
           0.22116656003256724
          ],
          "colorbar": {
           "title": {
            "text": "Objective Value"
           }
          },
          "colorscale": [
           [
            0,
            "rgb(247,251,255)"
           ],
           [
            0.125,
            "rgb(222,235,247)"
           ],
           [
            0.25,
            "rgb(198,219,239)"
           ],
           [
            0.375,
            "rgb(158,202,225)"
           ],
           [
            0.5,
            "rgb(107,174,214)"
           ],
           [
            0.625,
            "rgb(66,146,198)"
           ],
           [
            0.75,
            "rgb(33,113,181)"
           ],
           [
            0.875,
            "rgb(8,81,156)"
           ],
           [
            1,
            "rgb(8,48,107)"
           ]
          ],
          "reversescale": false,
          "showscale": true
         },
         "type": "parcoords"
        }
       ],
       "layout": {
        "template": {
         "data": {
          "bar": [
           {
            "error_x": {
             "color": "#2a3f5f"
            },
            "error_y": {
             "color": "#2a3f5f"
            },
            "marker": {
             "line": {
              "color": "#E5ECF6",
              "width": 0.5
             },
             "pattern": {
              "fillmode": "overlay",
              "size": 10,
              "solidity": 0.2
             }
            },
            "type": "bar"
           }
          ],
          "barpolar": [
           {
            "marker": {
             "line": {
              "color": "#E5ECF6",
              "width": 0.5
             },
             "pattern": {
              "fillmode": "overlay",
              "size": 10,
              "solidity": 0.2
             }
            },
            "type": "barpolar"
           }
          ],
          "carpet": [
           {
            "aaxis": {
             "endlinecolor": "#2a3f5f",
             "gridcolor": "white",
             "linecolor": "white",
             "minorgridcolor": "white",
             "startlinecolor": "#2a3f5f"
            },
            "baxis": {
             "endlinecolor": "#2a3f5f",
             "gridcolor": "white",
             "linecolor": "white",
             "minorgridcolor": "white",
             "startlinecolor": "#2a3f5f"
            },
            "type": "carpet"
           }
          ],
          "choropleth": [
           {
            "colorbar": {
             "outlinewidth": 0,
             "ticks": ""
            },
            "type": "choropleth"
           }
          ],
          "contour": [
           {
            "colorbar": {
             "outlinewidth": 0,
             "ticks": ""
            },
            "colorscale": [
             [
              0,
              "#0d0887"
             ],
             [
              0.1111111111111111,
              "#46039f"
             ],
             [
              0.2222222222222222,
              "#7201a8"
             ],
             [
              0.3333333333333333,
              "#9c179e"
             ],
             [
              0.4444444444444444,
              "#bd3786"
             ],
             [
              0.5555555555555556,
              "#d8576b"
             ],
             [
              0.6666666666666666,
              "#ed7953"
             ],
             [
              0.7777777777777778,
              "#fb9f3a"
             ],
             [
              0.8888888888888888,
              "#fdca26"
             ],
             [
              1,
              "#f0f921"
             ]
            ],
            "type": "contour"
           }
          ],
          "contourcarpet": [
           {
            "colorbar": {
             "outlinewidth": 0,
             "ticks": ""
            },
            "type": "contourcarpet"
           }
          ],
          "heatmap": [
           {
            "colorbar": {
             "outlinewidth": 0,
             "ticks": ""
            },
            "colorscale": [
             [
              0,
              "#0d0887"
             ],
             [
              0.1111111111111111,
              "#46039f"
             ],
             [
              0.2222222222222222,
              "#7201a8"
             ],
             [
              0.3333333333333333,
              "#9c179e"
             ],
             [
              0.4444444444444444,
              "#bd3786"
             ],
             [
              0.5555555555555556,
              "#d8576b"
             ],
             [
              0.6666666666666666,
              "#ed7953"
             ],
             [
              0.7777777777777778,
              "#fb9f3a"
             ],
             [
              0.8888888888888888,
              "#fdca26"
             ],
             [
              1,
              "#f0f921"
             ]
            ],
            "type": "heatmap"
           }
          ],
          "heatmapgl": [
           {
            "colorbar": {
             "outlinewidth": 0,
             "ticks": ""
            },
            "colorscale": [
             [
              0,
              "#0d0887"
             ],
             [
              0.1111111111111111,
              "#46039f"
             ],
             [
              0.2222222222222222,
              "#7201a8"
             ],
             [
              0.3333333333333333,
              "#9c179e"
             ],
             [
              0.4444444444444444,
              "#bd3786"
             ],
             [
              0.5555555555555556,
              "#d8576b"
             ],
             [
              0.6666666666666666,
              "#ed7953"
             ],
             [
              0.7777777777777778,
              "#fb9f3a"
             ],
             [
              0.8888888888888888,
              "#fdca26"
             ],
             [
              1,
              "#f0f921"
             ]
            ],
            "type": "heatmapgl"
           }
          ],
          "histogram": [
           {
            "marker": {
             "pattern": {
              "fillmode": "overlay",
              "size": 10,
              "solidity": 0.2
             }
            },
            "type": "histogram"
           }
          ],
          "histogram2d": [
           {
            "colorbar": {
             "outlinewidth": 0,
             "ticks": ""
            },
            "colorscale": [
             [
              0,
              "#0d0887"
             ],
             [
              0.1111111111111111,
              "#46039f"
             ],
             [
              0.2222222222222222,
              "#7201a8"
             ],
             [
              0.3333333333333333,
              "#9c179e"
             ],
             [
              0.4444444444444444,
              "#bd3786"
             ],
             [
              0.5555555555555556,
              "#d8576b"
             ],
             [
              0.6666666666666666,
              "#ed7953"
             ],
             [
              0.7777777777777778,
              "#fb9f3a"
             ],
             [
              0.8888888888888888,
              "#fdca26"
             ],
             [
              1,
              "#f0f921"
             ]
            ],
            "type": "histogram2d"
           }
          ],
          "histogram2dcontour": [
           {
            "colorbar": {
             "outlinewidth": 0,
             "ticks": ""
            },
            "colorscale": [
             [
              0,
              "#0d0887"
             ],
             [
              0.1111111111111111,
              "#46039f"
             ],
             [
              0.2222222222222222,
              "#7201a8"
             ],
             [
              0.3333333333333333,
              "#9c179e"
             ],
             [
              0.4444444444444444,
              "#bd3786"
             ],
             [
              0.5555555555555556,
              "#d8576b"
             ],
             [
              0.6666666666666666,
              "#ed7953"
             ],
             [
              0.7777777777777778,
              "#fb9f3a"
             ],
             [
              0.8888888888888888,
              "#fdca26"
             ],
             [
              1,
              "#f0f921"
             ]
            ],
            "type": "histogram2dcontour"
           }
          ],
          "mesh3d": [
           {
            "colorbar": {
             "outlinewidth": 0,
             "ticks": ""
            },
            "type": "mesh3d"
           }
          ],
          "parcoords": [
           {
            "line": {
             "colorbar": {
              "outlinewidth": 0,
              "ticks": ""
             }
            },
            "type": "parcoords"
           }
          ],
          "pie": [
           {
            "automargin": true,
            "type": "pie"
           }
          ],
          "scatter": [
           {
            "fillpattern": {
             "fillmode": "overlay",
             "size": 10,
             "solidity": 0.2
            },
            "type": "scatter"
           }
          ],
          "scatter3d": [
           {
            "line": {
             "colorbar": {
              "outlinewidth": 0,
              "ticks": ""
             }
            },
            "marker": {
             "colorbar": {
              "outlinewidth": 0,
              "ticks": ""
             }
            },
            "type": "scatter3d"
           }
          ],
          "scattercarpet": [
           {
            "marker": {
             "colorbar": {
              "outlinewidth": 0,
              "ticks": ""
             }
            },
            "type": "scattercarpet"
           }
          ],
          "scattergeo": [
           {
            "marker": {
             "colorbar": {
              "outlinewidth": 0,
              "ticks": ""
             }
            },
            "type": "scattergeo"
           }
          ],
          "scattergl": [
           {
            "marker": {
             "colorbar": {
              "outlinewidth": 0,
              "ticks": ""
             }
            },
            "type": "scattergl"
           }
          ],
          "scattermapbox": [
           {
            "marker": {
             "colorbar": {
              "outlinewidth": 0,
              "ticks": ""
             }
            },
            "type": "scattermapbox"
           }
          ],
          "scatterpolar": [
           {
            "marker": {
             "colorbar": {
              "outlinewidth": 0,
              "ticks": ""
             }
            },
            "type": "scatterpolar"
           }
          ],
          "scatterpolargl": [
           {
            "marker": {
             "colorbar": {
              "outlinewidth": 0,
              "ticks": ""
             }
            },
            "type": "scatterpolargl"
           }
          ],
          "scatterternary": [
           {
            "marker": {
             "colorbar": {
              "outlinewidth": 0,
              "ticks": ""
             }
            },
            "type": "scatterternary"
           }
          ],
          "surface": [
           {
            "colorbar": {
             "outlinewidth": 0,
             "ticks": ""
            },
            "colorscale": [
             [
              0,
              "#0d0887"
             ],
             [
              0.1111111111111111,
              "#46039f"
             ],
             [
              0.2222222222222222,
              "#7201a8"
             ],
             [
              0.3333333333333333,
              "#9c179e"
             ],
             [
              0.4444444444444444,
              "#bd3786"
             ],
             [
              0.5555555555555556,
              "#d8576b"
             ],
             [
              0.6666666666666666,
              "#ed7953"
             ],
             [
              0.7777777777777778,
              "#fb9f3a"
             ],
             [
              0.8888888888888888,
              "#fdca26"
             ],
             [
              1,
              "#f0f921"
             ]
            ],
            "type": "surface"
           }
          ],
          "table": [
           {
            "cells": {
             "fill": {
              "color": "#EBF0F8"
             },
             "line": {
              "color": "white"
             }
            },
            "header": {
             "fill": {
              "color": "#C8D4E3"
             },
             "line": {
              "color": "white"
             }
            },
            "type": "table"
           }
          ]
         },
         "layout": {
          "annotationdefaults": {
           "arrowcolor": "#2a3f5f",
           "arrowhead": 0,
           "arrowwidth": 1
          },
          "autotypenumbers": "strict",
          "coloraxis": {
           "colorbar": {
            "outlinewidth": 0,
            "ticks": ""
           }
          },
          "colorscale": {
           "diverging": [
            [
             0,
             "#8e0152"
            ],
            [
             0.1,
             "#c51b7d"
            ],
            [
             0.2,
             "#de77ae"
            ],
            [
             0.3,
             "#f1b6da"
            ],
            [
             0.4,
             "#fde0ef"
            ],
            [
             0.5,
             "#f7f7f7"
            ],
            [
             0.6,
             "#e6f5d0"
            ],
            [
             0.7,
             "#b8e186"
            ],
            [
             0.8,
             "#7fbc41"
            ],
            [
             0.9,
             "#4d9221"
            ],
            [
             1,
             "#276419"
            ]
           ],
           "sequential": [
            [
             0,
             "#0d0887"
            ],
            [
             0.1111111111111111,
             "#46039f"
            ],
            [
             0.2222222222222222,
             "#7201a8"
            ],
            [
             0.3333333333333333,
             "#9c179e"
            ],
            [
             0.4444444444444444,
             "#bd3786"
            ],
            [
             0.5555555555555556,
             "#d8576b"
            ],
            [
             0.6666666666666666,
             "#ed7953"
            ],
            [
             0.7777777777777778,
             "#fb9f3a"
            ],
            [
             0.8888888888888888,
             "#fdca26"
            ],
            [
             1,
             "#f0f921"
            ]
           ],
           "sequentialminus": [
            [
             0,
             "#0d0887"
            ],
            [
             0.1111111111111111,
             "#46039f"
            ],
            [
             0.2222222222222222,
             "#7201a8"
            ],
            [
             0.3333333333333333,
             "#9c179e"
            ],
            [
             0.4444444444444444,
             "#bd3786"
            ],
            [
             0.5555555555555556,
             "#d8576b"
            ],
            [
             0.6666666666666666,
             "#ed7953"
            ],
            [
             0.7777777777777778,
             "#fb9f3a"
            ],
            [
             0.8888888888888888,
             "#fdca26"
            ],
            [
             1,
             "#f0f921"
            ]
           ]
          },
          "colorway": [
           "#636efa",
           "#EF553B",
           "#00cc96",
           "#ab63fa",
           "#FFA15A",
           "#19d3f3",
           "#FF6692",
           "#B6E880",
           "#FF97FF",
           "#FECB52"
          ],
          "font": {
           "color": "#2a3f5f"
          },
          "geo": {
           "bgcolor": "white",
           "lakecolor": "white",
           "landcolor": "#E5ECF6",
           "showlakes": true,
           "showland": true,
           "subunitcolor": "white"
          },
          "hoverlabel": {
           "align": "left"
          },
          "hovermode": "closest",
          "mapbox": {
           "style": "light"
          },
          "paper_bgcolor": "white",
          "plot_bgcolor": "#E5ECF6",
          "polar": {
           "angularaxis": {
            "gridcolor": "white",
            "linecolor": "white",
            "ticks": ""
           },
           "bgcolor": "#E5ECF6",
           "radialaxis": {
            "gridcolor": "white",
            "linecolor": "white",
            "ticks": ""
           }
          },
          "scene": {
           "xaxis": {
            "backgroundcolor": "#E5ECF6",
            "gridcolor": "white",
            "gridwidth": 2,
            "linecolor": "white",
            "showbackground": true,
            "ticks": "",
            "zerolinecolor": "white"
           },
           "yaxis": {
            "backgroundcolor": "#E5ECF6",
            "gridcolor": "white",
            "gridwidth": 2,
            "linecolor": "white",
            "showbackground": true,
            "ticks": "",
            "zerolinecolor": "white"
           },
           "zaxis": {
            "backgroundcolor": "#E5ECF6",
            "gridcolor": "white",
            "gridwidth": 2,
            "linecolor": "white",
            "showbackground": true,
            "ticks": "",
            "zerolinecolor": "white"
           }
          },
          "shapedefaults": {
           "line": {
            "color": "#2a3f5f"
           }
          },
          "ternary": {
           "aaxis": {
            "gridcolor": "white",
            "linecolor": "white",
            "ticks": ""
           },
           "baxis": {
            "gridcolor": "white",
            "linecolor": "white",
            "ticks": ""
           },
           "bgcolor": "#E5ECF6",
           "caxis": {
            "gridcolor": "white",
            "linecolor": "white",
            "ticks": ""
           }
          },
          "title": {
           "x": 0.05
          },
          "xaxis": {
           "automargin": true,
           "gridcolor": "white",
           "linecolor": "white",
           "ticks": "",
           "title": {
            "standoff": 15
           },
           "zerolinecolor": "white",
           "zerolinewidth": 2
          },
          "yaxis": {
           "automargin": true,
           "gridcolor": "white",
           "linecolor": "white",
           "ticks": "",
           "title": {
            "standoff": 15
           },
           "zerolinecolor": "white",
           "zerolinewidth": 2
          }
         }
        },
        "title": {
         "text": "Parallel Coordinate Plot"
        }
       }
      }
     },
     "metadata": {},
     "output_type": "display_data"
    }
   ],
   "source": [
    "fig.show()"
   ]
  },
  {
   "cell_type": "code",
   "execution_count": 44,
   "metadata": {},
   "outputs": [
    {
     "data": {
      "application/vnd.plotly.v1+json": {
       "config": {
        "plotlyServerURL": "https://plot.ly"
       },
       "data": [
        {
         "cliponaxis": false,
         "hovertemplate": [
          "boosting_type (CategoricalDistribution): 0.0<extra></extra>",
          "lambda_l2 (FloatDistribution): 1.1284358476796856e-08<extra></extra>",
          "n_estimators (IntDistribution): 0.0006056489878890361<extra></extra>",
          "bagging_fraction (FloatDistribution): 0.01639358197193788<extra></extra>",
          "bagging_freq (IntDistribution): 0.03288196624317381<extra></extra>",
          "min_child_samples (IntDistribution): 0.03294483063155574<extra></extra>",
          "lambda_l1 (FloatDistribution): 0.04918195872950982<extra></extra>",
          "max_bin (IntDistribution): 0.11475526867989987<extra></extra>",
          "num_leaves (IntDistribution): 0.11487100862927674<extra></extra>",
          "feature_fraction (FloatDistribution): 0.14770862489345693<extra></extra>",
          "learning_rate (FloatDistribution): 0.4906570999489418<extra></extra>"
         ],
         "name": "Objective Value",
         "orientation": "h",
         "text": [
          "<0.01",
          "<0.01",
          "<0.01",
          "0.02",
          "0.03",
          "0.03",
          "0.05",
          "0.11",
          "0.11",
          "0.15",
          "0.49"
         ],
         "textposition": "outside",
         "type": "bar",
         "x": [
          0,
          1.1284358476796856e-8,
          0.0006056489878890361,
          0.01639358197193788,
          0.03288196624317381,
          0.03294483063155574,
          0.04918195872950982,
          0.11475526867989987,
          0.11487100862927674,
          0.14770862489345693,
          0.4906570999489418
         ],
         "y": [
          "boosting_type",
          "lambda_l2",
          "n_estimators",
          "bagging_fraction",
          "bagging_freq",
          "min_child_samples",
          "lambda_l1",
          "max_bin",
          "num_leaves",
          "feature_fraction",
          "learning_rate"
         ]
        }
       ],
       "layout": {
        "template": {
         "data": {
          "bar": [
           {
            "error_x": {
             "color": "#2a3f5f"
            },
            "error_y": {
             "color": "#2a3f5f"
            },
            "marker": {
             "line": {
              "color": "#E5ECF6",
              "width": 0.5
             },
             "pattern": {
              "fillmode": "overlay",
              "size": 10,
              "solidity": 0.2
             }
            },
            "type": "bar"
           }
          ],
          "barpolar": [
           {
            "marker": {
             "line": {
              "color": "#E5ECF6",
              "width": 0.5
             },
             "pattern": {
              "fillmode": "overlay",
              "size": 10,
              "solidity": 0.2
             }
            },
            "type": "barpolar"
           }
          ],
          "carpet": [
           {
            "aaxis": {
             "endlinecolor": "#2a3f5f",
             "gridcolor": "white",
             "linecolor": "white",
             "minorgridcolor": "white",
             "startlinecolor": "#2a3f5f"
            },
            "baxis": {
             "endlinecolor": "#2a3f5f",
             "gridcolor": "white",
             "linecolor": "white",
             "minorgridcolor": "white",
             "startlinecolor": "#2a3f5f"
            },
            "type": "carpet"
           }
          ],
          "choropleth": [
           {
            "colorbar": {
             "outlinewidth": 0,
             "ticks": ""
            },
            "type": "choropleth"
           }
          ],
          "contour": [
           {
            "colorbar": {
             "outlinewidth": 0,
             "ticks": ""
            },
            "colorscale": [
             [
              0,
              "#0d0887"
             ],
             [
              0.1111111111111111,
              "#46039f"
             ],
             [
              0.2222222222222222,
              "#7201a8"
             ],
             [
              0.3333333333333333,
              "#9c179e"
             ],
             [
              0.4444444444444444,
              "#bd3786"
             ],
             [
              0.5555555555555556,
              "#d8576b"
             ],
             [
              0.6666666666666666,
              "#ed7953"
             ],
             [
              0.7777777777777778,
              "#fb9f3a"
             ],
             [
              0.8888888888888888,
              "#fdca26"
             ],
             [
              1,
              "#f0f921"
             ]
            ],
            "type": "contour"
           }
          ],
          "contourcarpet": [
           {
            "colorbar": {
             "outlinewidth": 0,
             "ticks": ""
            },
            "type": "contourcarpet"
           }
          ],
          "heatmap": [
           {
            "colorbar": {
             "outlinewidth": 0,
             "ticks": ""
            },
            "colorscale": [
             [
              0,
              "#0d0887"
             ],
             [
              0.1111111111111111,
              "#46039f"
             ],
             [
              0.2222222222222222,
              "#7201a8"
             ],
             [
              0.3333333333333333,
              "#9c179e"
             ],
             [
              0.4444444444444444,
              "#bd3786"
             ],
             [
              0.5555555555555556,
              "#d8576b"
             ],
             [
              0.6666666666666666,
              "#ed7953"
             ],
             [
              0.7777777777777778,
              "#fb9f3a"
             ],
             [
              0.8888888888888888,
              "#fdca26"
             ],
             [
              1,
              "#f0f921"
             ]
            ],
            "type": "heatmap"
           }
          ],
          "heatmapgl": [
           {
            "colorbar": {
             "outlinewidth": 0,
             "ticks": ""
            },
            "colorscale": [
             [
              0,
              "#0d0887"
             ],
             [
              0.1111111111111111,
              "#46039f"
             ],
             [
              0.2222222222222222,
              "#7201a8"
             ],
             [
              0.3333333333333333,
              "#9c179e"
             ],
             [
              0.4444444444444444,
              "#bd3786"
             ],
             [
              0.5555555555555556,
              "#d8576b"
             ],
             [
              0.6666666666666666,
              "#ed7953"
             ],
             [
              0.7777777777777778,
              "#fb9f3a"
             ],
             [
              0.8888888888888888,
              "#fdca26"
             ],
             [
              1,
              "#f0f921"
             ]
            ],
            "type": "heatmapgl"
           }
          ],
          "histogram": [
           {
            "marker": {
             "pattern": {
              "fillmode": "overlay",
              "size": 10,
              "solidity": 0.2
             }
            },
            "type": "histogram"
           }
          ],
          "histogram2d": [
           {
            "colorbar": {
             "outlinewidth": 0,
             "ticks": ""
            },
            "colorscale": [
             [
              0,
              "#0d0887"
             ],
             [
              0.1111111111111111,
              "#46039f"
             ],
             [
              0.2222222222222222,
              "#7201a8"
             ],
             [
              0.3333333333333333,
              "#9c179e"
             ],
             [
              0.4444444444444444,
              "#bd3786"
             ],
             [
              0.5555555555555556,
              "#d8576b"
             ],
             [
              0.6666666666666666,
              "#ed7953"
             ],
             [
              0.7777777777777778,
              "#fb9f3a"
             ],
             [
              0.8888888888888888,
              "#fdca26"
             ],
             [
              1,
              "#f0f921"
             ]
            ],
            "type": "histogram2d"
           }
          ],
          "histogram2dcontour": [
           {
            "colorbar": {
             "outlinewidth": 0,
             "ticks": ""
            },
            "colorscale": [
             [
              0,
              "#0d0887"
             ],
             [
              0.1111111111111111,
              "#46039f"
             ],
             [
              0.2222222222222222,
              "#7201a8"
             ],
             [
              0.3333333333333333,
              "#9c179e"
             ],
             [
              0.4444444444444444,
              "#bd3786"
             ],
             [
              0.5555555555555556,
              "#d8576b"
             ],
             [
              0.6666666666666666,
              "#ed7953"
             ],
             [
              0.7777777777777778,
              "#fb9f3a"
             ],
             [
              0.8888888888888888,
              "#fdca26"
             ],
             [
              1,
              "#f0f921"
             ]
            ],
            "type": "histogram2dcontour"
           }
          ],
          "mesh3d": [
           {
            "colorbar": {
             "outlinewidth": 0,
             "ticks": ""
            },
            "type": "mesh3d"
           }
          ],
          "parcoords": [
           {
            "line": {
             "colorbar": {
              "outlinewidth": 0,
              "ticks": ""
             }
            },
            "type": "parcoords"
           }
          ],
          "pie": [
           {
            "automargin": true,
            "type": "pie"
           }
          ],
          "scatter": [
           {
            "fillpattern": {
             "fillmode": "overlay",
             "size": 10,
             "solidity": 0.2
            },
            "type": "scatter"
           }
          ],
          "scatter3d": [
           {
            "line": {
             "colorbar": {
              "outlinewidth": 0,
              "ticks": ""
             }
            },
            "marker": {
             "colorbar": {
              "outlinewidth": 0,
              "ticks": ""
             }
            },
            "type": "scatter3d"
           }
          ],
          "scattercarpet": [
           {
            "marker": {
             "colorbar": {
              "outlinewidth": 0,
              "ticks": ""
             }
            },
            "type": "scattercarpet"
           }
          ],
          "scattergeo": [
           {
            "marker": {
             "colorbar": {
              "outlinewidth": 0,
              "ticks": ""
             }
            },
            "type": "scattergeo"
           }
          ],
          "scattergl": [
           {
            "marker": {
             "colorbar": {
              "outlinewidth": 0,
              "ticks": ""
             }
            },
            "type": "scattergl"
           }
          ],
          "scattermapbox": [
           {
            "marker": {
             "colorbar": {
              "outlinewidth": 0,
              "ticks": ""
             }
            },
            "type": "scattermapbox"
           }
          ],
          "scatterpolar": [
           {
            "marker": {
             "colorbar": {
              "outlinewidth": 0,
              "ticks": ""
             }
            },
            "type": "scatterpolar"
           }
          ],
          "scatterpolargl": [
           {
            "marker": {
             "colorbar": {
              "outlinewidth": 0,
              "ticks": ""
             }
            },
            "type": "scatterpolargl"
           }
          ],
          "scatterternary": [
           {
            "marker": {
             "colorbar": {
              "outlinewidth": 0,
              "ticks": ""
             }
            },
            "type": "scatterternary"
           }
          ],
          "surface": [
           {
            "colorbar": {
             "outlinewidth": 0,
             "ticks": ""
            },
            "colorscale": [
             [
              0,
              "#0d0887"
             ],
             [
              0.1111111111111111,
              "#46039f"
             ],
             [
              0.2222222222222222,
              "#7201a8"
             ],
             [
              0.3333333333333333,
              "#9c179e"
             ],
             [
              0.4444444444444444,
              "#bd3786"
             ],
             [
              0.5555555555555556,
              "#d8576b"
             ],
             [
              0.6666666666666666,
              "#ed7953"
             ],
             [
              0.7777777777777778,
              "#fb9f3a"
             ],
             [
              0.8888888888888888,
              "#fdca26"
             ],
             [
              1,
              "#f0f921"
             ]
            ],
            "type": "surface"
           }
          ],
          "table": [
           {
            "cells": {
             "fill": {
              "color": "#EBF0F8"
             },
             "line": {
              "color": "white"
             }
            },
            "header": {
             "fill": {
              "color": "#C8D4E3"
             },
             "line": {
              "color": "white"
             }
            },
            "type": "table"
           }
          ]
         },
         "layout": {
          "annotationdefaults": {
           "arrowcolor": "#2a3f5f",
           "arrowhead": 0,
           "arrowwidth": 1
          },
          "autotypenumbers": "strict",
          "coloraxis": {
           "colorbar": {
            "outlinewidth": 0,
            "ticks": ""
           }
          },
          "colorscale": {
           "diverging": [
            [
             0,
             "#8e0152"
            ],
            [
             0.1,
             "#c51b7d"
            ],
            [
             0.2,
             "#de77ae"
            ],
            [
             0.3,
             "#f1b6da"
            ],
            [
             0.4,
             "#fde0ef"
            ],
            [
             0.5,
             "#f7f7f7"
            ],
            [
             0.6,
             "#e6f5d0"
            ],
            [
             0.7,
             "#b8e186"
            ],
            [
             0.8,
             "#7fbc41"
            ],
            [
             0.9,
             "#4d9221"
            ],
            [
             1,
             "#276419"
            ]
           ],
           "sequential": [
            [
             0,
             "#0d0887"
            ],
            [
             0.1111111111111111,
             "#46039f"
            ],
            [
             0.2222222222222222,
             "#7201a8"
            ],
            [
             0.3333333333333333,
             "#9c179e"
            ],
            [
             0.4444444444444444,
             "#bd3786"
            ],
            [
             0.5555555555555556,
             "#d8576b"
            ],
            [
             0.6666666666666666,
             "#ed7953"
            ],
            [
             0.7777777777777778,
             "#fb9f3a"
            ],
            [
             0.8888888888888888,
             "#fdca26"
            ],
            [
             1,
             "#f0f921"
            ]
           ],
           "sequentialminus": [
            [
             0,
             "#0d0887"
            ],
            [
             0.1111111111111111,
             "#46039f"
            ],
            [
             0.2222222222222222,
             "#7201a8"
            ],
            [
             0.3333333333333333,
             "#9c179e"
            ],
            [
             0.4444444444444444,
             "#bd3786"
            ],
            [
             0.5555555555555556,
             "#d8576b"
            ],
            [
             0.6666666666666666,
             "#ed7953"
            ],
            [
             0.7777777777777778,
             "#fb9f3a"
            ],
            [
             0.8888888888888888,
             "#fdca26"
            ],
            [
             1,
             "#f0f921"
            ]
           ]
          },
          "colorway": [
           "#636efa",
           "#EF553B",
           "#00cc96",
           "#ab63fa",
           "#FFA15A",
           "#19d3f3",
           "#FF6692",
           "#B6E880",
           "#FF97FF",
           "#FECB52"
          ],
          "font": {
           "color": "#2a3f5f"
          },
          "geo": {
           "bgcolor": "white",
           "lakecolor": "white",
           "landcolor": "#E5ECF6",
           "showlakes": true,
           "showland": true,
           "subunitcolor": "white"
          },
          "hoverlabel": {
           "align": "left"
          },
          "hovermode": "closest",
          "mapbox": {
           "style": "light"
          },
          "paper_bgcolor": "white",
          "plot_bgcolor": "#E5ECF6",
          "polar": {
           "angularaxis": {
            "gridcolor": "white",
            "linecolor": "white",
            "ticks": ""
           },
           "bgcolor": "#E5ECF6",
           "radialaxis": {
            "gridcolor": "white",
            "linecolor": "white",
            "ticks": ""
           }
          },
          "scene": {
           "xaxis": {
            "backgroundcolor": "#E5ECF6",
            "gridcolor": "white",
            "gridwidth": 2,
            "linecolor": "white",
            "showbackground": true,
            "ticks": "",
            "zerolinecolor": "white"
           },
           "yaxis": {
            "backgroundcolor": "#E5ECF6",
            "gridcolor": "white",
            "gridwidth": 2,
            "linecolor": "white",
            "showbackground": true,
            "ticks": "",
            "zerolinecolor": "white"
           },
           "zaxis": {
            "backgroundcolor": "#E5ECF6",
            "gridcolor": "white",
            "gridwidth": 2,
            "linecolor": "white",
            "showbackground": true,
            "ticks": "",
            "zerolinecolor": "white"
           }
          },
          "shapedefaults": {
           "line": {
            "color": "#2a3f5f"
           }
          },
          "ternary": {
           "aaxis": {
            "gridcolor": "white",
            "linecolor": "white",
            "ticks": ""
           },
           "baxis": {
            "gridcolor": "white",
            "linecolor": "white",
            "ticks": ""
           },
           "bgcolor": "#E5ECF6",
           "caxis": {
            "gridcolor": "white",
            "linecolor": "white",
            "ticks": ""
           }
          },
          "title": {
           "x": 0.05
          },
          "xaxis": {
           "automargin": true,
           "gridcolor": "white",
           "linecolor": "white",
           "ticks": "",
           "title": {
            "standoff": 15
           },
           "zerolinecolor": "white",
           "zerolinewidth": 2
          },
          "yaxis": {
           "automargin": true,
           "gridcolor": "white",
           "linecolor": "white",
           "ticks": "",
           "title": {
            "standoff": 15
           },
           "zerolinecolor": "white",
           "zerolinewidth": 2
          }
         }
        },
        "title": {
         "text": "Hyperparameter Importances"
        },
        "xaxis": {
         "title": {
          "text": "Hyperparameter Importance"
         }
        },
        "yaxis": {
         "title": {
          "text": "Hyperparameter"
         }
        }
       }
      }
     },
     "metadata": {},
     "output_type": "display_data"
    }
   ],
   "source": [
    "# Plus rapide en html\n",
    "im_path = os.path.join(im_dir, \"single_parallel_coordinates.html\")\n",
    "fig.write_html(im_path)\n",
    "fig.show()"
   ]
  },
  {
   "cell_type": "code",
   "execution_count": 78,
   "metadata": {
    "ExecuteTime": {
     "end_time": "2023-04-27T12:44:59.987744Z",
     "start_time": "2023-04-27T12:44:57.634931Z"
    },
    "collapsed": false
   },
   "outputs": [
    {
     "data": {
      "application/vnd.plotly.v1+json": {
       "config": {
        "plotlyServerURL": "https://plot.ly"
       },
       "data": [
        {
         "cliponaxis": false,
         "hovertemplate": [
          "lambda_l2 (FloatDistribution): 0.00029711125426770864<extra></extra>",
          "boosting_type (CategoricalDistribution): 0.0006904020889898302<extra></extra>",
          "bagging_fraction (FloatDistribution): 0.008221532264097471<extra></extra>",
          "n_estimators (IntDistribution): 0.01646130539032057<extra></extra>",
          "max_bin (IntDistribution): 0.02036604589641953<extra></extra>",
          "num_leaves (IntDistribution): 0.02667477929639801<extra></extra>",
          "min_child_samples (IntDistribution): 0.031078573055325073<extra></extra>",
          "feature_fraction (FloatDistribution): 0.03711879247964429<extra></extra>",
          "bagging_freq (IntDistribution): 0.0580117715249724<extra></extra>",
          "lambda_l1 (FloatDistribution): 0.19512041675465164<extra></extra>",
          "learning_rate (FloatDistribution): 0.6059592699949132<extra></extra>"
         ],
         "name": "Objective Value",
         "orientation": "h",
         "text": [
          "<0.01",
          "<0.01",
          "<0.01",
          "0.02",
          "0.02",
          "0.03",
          "0.03",
          "0.04",
          "0.06",
          "0.20",
          "0.61"
         ],
         "textposition": "outside",
         "type": "bar",
         "x": [
          0.00029711125426770864,
          0.0006904020889898302,
          0.008221532264097471,
          0.01646130539032057,
          0.02036604589641953,
          0.02667477929639801,
          0.031078573055325073,
          0.03711879247964429,
          0.0580117715249724,
          0.19512041675465164,
          0.6059592699949132
         ],
         "y": [
          "lambda_l2",
          "boosting_type",
          "bagging_fraction",
          "n_estimators",
          "max_bin",
          "num_leaves",
          "min_child_samples",
          "feature_fraction",
          "bagging_freq",
          "lambda_l1",
          "learning_rate"
         ]
        }
       ],
       "layout": {
        "template": {
         "data": {
          "bar": [
           {
            "error_x": {
             "color": "#2a3f5f"
            },
            "error_y": {
             "color": "#2a3f5f"
            },
            "marker": {
             "line": {
              "color": "#E5ECF6",
              "width": 0.5
             },
             "pattern": {
              "fillmode": "overlay",
              "size": 10,
              "solidity": 0.2
             }
            },
            "type": "bar"
           }
          ],
          "barpolar": [
           {
            "marker": {
             "line": {
              "color": "#E5ECF6",
              "width": 0.5
             },
             "pattern": {
              "fillmode": "overlay",
              "size": 10,
              "solidity": 0.2
             }
            },
            "type": "barpolar"
           }
          ],
          "carpet": [
           {
            "aaxis": {
             "endlinecolor": "#2a3f5f",
             "gridcolor": "white",
             "linecolor": "white",
             "minorgridcolor": "white",
             "startlinecolor": "#2a3f5f"
            },
            "baxis": {
             "endlinecolor": "#2a3f5f",
             "gridcolor": "white",
             "linecolor": "white",
             "minorgridcolor": "white",
             "startlinecolor": "#2a3f5f"
            },
            "type": "carpet"
           }
          ],
          "choropleth": [
           {
            "colorbar": {
             "outlinewidth": 0,
             "ticks": ""
            },
            "type": "choropleth"
           }
          ],
          "contour": [
           {
            "colorbar": {
             "outlinewidth": 0,
             "ticks": ""
            },
            "colorscale": [
             [
              0,
              "#0d0887"
             ],
             [
              0.1111111111111111,
              "#46039f"
             ],
             [
              0.2222222222222222,
              "#7201a8"
             ],
             [
              0.3333333333333333,
              "#9c179e"
             ],
             [
              0.4444444444444444,
              "#bd3786"
             ],
             [
              0.5555555555555556,
              "#d8576b"
             ],
             [
              0.6666666666666666,
              "#ed7953"
             ],
             [
              0.7777777777777778,
              "#fb9f3a"
             ],
             [
              0.8888888888888888,
              "#fdca26"
             ],
             [
              1,
              "#f0f921"
             ]
            ],
            "type": "contour"
           }
          ],
          "contourcarpet": [
           {
            "colorbar": {
             "outlinewidth": 0,
             "ticks": ""
            },
            "type": "contourcarpet"
           }
          ],
          "heatmap": [
           {
            "colorbar": {
             "outlinewidth": 0,
             "ticks": ""
            },
            "colorscale": [
             [
              0,
              "#0d0887"
             ],
             [
              0.1111111111111111,
              "#46039f"
             ],
             [
              0.2222222222222222,
              "#7201a8"
             ],
             [
              0.3333333333333333,
              "#9c179e"
             ],
             [
              0.4444444444444444,
              "#bd3786"
             ],
             [
              0.5555555555555556,
              "#d8576b"
             ],
             [
              0.6666666666666666,
              "#ed7953"
             ],
             [
              0.7777777777777778,
              "#fb9f3a"
             ],
             [
              0.8888888888888888,
              "#fdca26"
             ],
             [
              1,
              "#f0f921"
             ]
            ],
            "type": "heatmap"
           }
          ],
          "heatmapgl": [
           {
            "colorbar": {
             "outlinewidth": 0,
             "ticks": ""
            },
            "colorscale": [
             [
              0,
              "#0d0887"
             ],
             [
              0.1111111111111111,
              "#46039f"
             ],
             [
              0.2222222222222222,
              "#7201a8"
             ],
             [
              0.3333333333333333,
              "#9c179e"
             ],
             [
              0.4444444444444444,
              "#bd3786"
             ],
             [
              0.5555555555555556,
              "#d8576b"
             ],
             [
              0.6666666666666666,
              "#ed7953"
             ],
             [
              0.7777777777777778,
              "#fb9f3a"
             ],
             [
              0.8888888888888888,
              "#fdca26"
             ],
             [
              1,
              "#f0f921"
             ]
            ],
            "type": "heatmapgl"
           }
          ],
          "histogram": [
           {
            "marker": {
             "pattern": {
              "fillmode": "overlay",
              "size": 10,
              "solidity": 0.2
             }
            },
            "type": "histogram"
           }
          ],
          "histogram2d": [
           {
            "colorbar": {
             "outlinewidth": 0,
             "ticks": ""
            },
            "colorscale": [
             [
              0,
              "#0d0887"
             ],
             [
              0.1111111111111111,
              "#46039f"
             ],
             [
              0.2222222222222222,
              "#7201a8"
             ],
             [
              0.3333333333333333,
              "#9c179e"
             ],
             [
              0.4444444444444444,
              "#bd3786"
             ],
             [
              0.5555555555555556,
              "#d8576b"
             ],
             [
              0.6666666666666666,
              "#ed7953"
             ],
             [
              0.7777777777777778,
              "#fb9f3a"
             ],
             [
              0.8888888888888888,
              "#fdca26"
             ],
             [
              1,
              "#f0f921"
             ]
            ],
            "type": "histogram2d"
           }
          ],
          "histogram2dcontour": [
           {
            "colorbar": {
             "outlinewidth": 0,
             "ticks": ""
            },
            "colorscale": [
             [
              0,
              "#0d0887"
             ],
             [
              0.1111111111111111,
              "#46039f"
             ],
             [
              0.2222222222222222,
              "#7201a8"
             ],
             [
              0.3333333333333333,
              "#9c179e"
             ],
             [
              0.4444444444444444,
              "#bd3786"
             ],
             [
              0.5555555555555556,
              "#d8576b"
             ],
             [
              0.6666666666666666,
              "#ed7953"
             ],
             [
              0.7777777777777778,
              "#fb9f3a"
             ],
             [
              0.8888888888888888,
              "#fdca26"
             ],
             [
              1,
              "#f0f921"
             ]
            ],
            "type": "histogram2dcontour"
           }
          ],
          "mesh3d": [
           {
            "colorbar": {
             "outlinewidth": 0,
             "ticks": ""
            },
            "type": "mesh3d"
           }
          ],
          "parcoords": [
           {
            "line": {
             "colorbar": {
              "outlinewidth": 0,
              "ticks": ""
             }
            },
            "type": "parcoords"
           }
          ],
          "pie": [
           {
            "automargin": true,
            "type": "pie"
           }
          ],
          "scatter": [
           {
            "fillpattern": {
             "fillmode": "overlay",
             "size": 10,
             "solidity": 0.2
            },
            "type": "scatter"
           }
          ],
          "scatter3d": [
           {
            "line": {
             "colorbar": {
              "outlinewidth": 0,
              "ticks": ""
             }
            },
            "marker": {
             "colorbar": {
              "outlinewidth": 0,
              "ticks": ""
             }
            },
            "type": "scatter3d"
           }
          ],
          "scattercarpet": [
           {
            "marker": {
             "colorbar": {
              "outlinewidth": 0,
              "ticks": ""
             }
            },
            "type": "scattercarpet"
           }
          ],
          "scattergeo": [
           {
            "marker": {
             "colorbar": {
              "outlinewidth": 0,
              "ticks": ""
             }
            },
            "type": "scattergeo"
           }
          ],
          "scattergl": [
           {
            "marker": {
             "colorbar": {
              "outlinewidth": 0,
              "ticks": ""
             }
            },
            "type": "scattergl"
           }
          ],
          "scattermapbox": [
           {
            "marker": {
             "colorbar": {
              "outlinewidth": 0,
              "ticks": ""
             }
            },
            "type": "scattermapbox"
           }
          ],
          "scatterpolar": [
           {
            "marker": {
             "colorbar": {
              "outlinewidth": 0,
              "ticks": ""
             }
            },
            "type": "scatterpolar"
           }
          ],
          "scatterpolargl": [
           {
            "marker": {
             "colorbar": {
              "outlinewidth": 0,
              "ticks": ""
             }
            },
            "type": "scatterpolargl"
           }
          ],
          "scatterternary": [
           {
            "marker": {
             "colorbar": {
              "outlinewidth": 0,
              "ticks": ""
             }
            },
            "type": "scatterternary"
           }
          ],
          "surface": [
           {
            "colorbar": {
             "outlinewidth": 0,
             "ticks": ""
            },
            "colorscale": [
             [
              0,
              "#0d0887"
             ],
             [
              0.1111111111111111,
              "#46039f"
             ],
             [
              0.2222222222222222,
              "#7201a8"
             ],
             [
              0.3333333333333333,
              "#9c179e"
             ],
             [
              0.4444444444444444,
              "#bd3786"
             ],
             [
              0.5555555555555556,
              "#d8576b"
             ],
             [
              0.6666666666666666,
              "#ed7953"
             ],
             [
              0.7777777777777778,
              "#fb9f3a"
             ],
             [
              0.8888888888888888,
              "#fdca26"
             ],
             [
              1,
              "#f0f921"
             ]
            ],
            "type": "surface"
           }
          ],
          "table": [
           {
            "cells": {
             "fill": {
              "color": "#EBF0F8"
             },
             "line": {
              "color": "white"
             }
            },
            "header": {
             "fill": {
              "color": "#C8D4E3"
             },
             "line": {
              "color": "white"
             }
            },
            "type": "table"
           }
          ]
         },
         "layout": {
          "annotationdefaults": {
           "arrowcolor": "#2a3f5f",
           "arrowhead": 0,
           "arrowwidth": 1
          },
          "autotypenumbers": "strict",
          "coloraxis": {
           "colorbar": {
            "outlinewidth": 0,
            "ticks": ""
           }
          },
          "colorscale": {
           "diverging": [
            [
             0,
             "#8e0152"
            ],
            [
             0.1,
             "#c51b7d"
            ],
            [
             0.2,
             "#de77ae"
            ],
            [
             0.3,
             "#f1b6da"
            ],
            [
             0.4,
             "#fde0ef"
            ],
            [
             0.5,
             "#f7f7f7"
            ],
            [
             0.6,
             "#e6f5d0"
            ],
            [
             0.7,
             "#b8e186"
            ],
            [
             0.8,
             "#7fbc41"
            ],
            [
             0.9,
             "#4d9221"
            ],
            [
             1,
             "#276419"
            ]
           ],
           "sequential": [
            [
             0,
             "#0d0887"
            ],
            [
             0.1111111111111111,
             "#46039f"
            ],
            [
             0.2222222222222222,
             "#7201a8"
            ],
            [
             0.3333333333333333,
             "#9c179e"
            ],
            [
             0.4444444444444444,
             "#bd3786"
            ],
            [
             0.5555555555555556,
             "#d8576b"
            ],
            [
             0.6666666666666666,
             "#ed7953"
            ],
            [
             0.7777777777777778,
             "#fb9f3a"
            ],
            [
             0.8888888888888888,
             "#fdca26"
            ],
            [
             1,
             "#f0f921"
            ]
           ],
           "sequentialminus": [
            [
             0,
             "#0d0887"
            ],
            [
             0.1111111111111111,
             "#46039f"
            ],
            [
             0.2222222222222222,
             "#7201a8"
            ],
            [
             0.3333333333333333,
             "#9c179e"
            ],
            [
             0.4444444444444444,
             "#bd3786"
            ],
            [
             0.5555555555555556,
             "#d8576b"
            ],
            [
             0.6666666666666666,
             "#ed7953"
            ],
            [
             0.7777777777777778,
             "#fb9f3a"
            ],
            [
             0.8888888888888888,
             "#fdca26"
            ],
            [
             1,
             "#f0f921"
            ]
           ]
          },
          "colorway": [
           "#636efa",
           "#EF553B",
           "#00cc96",
           "#ab63fa",
           "#FFA15A",
           "#19d3f3",
           "#FF6692",
           "#B6E880",
           "#FF97FF",
           "#FECB52"
          ],
          "font": {
           "color": "#2a3f5f"
          },
          "geo": {
           "bgcolor": "white",
           "lakecolor": "white",
           "landcolor": "#E5ECF6",
           "showlakes": true,
           "showland": true,
           "subunitcolor": "white"
          },
          "hoverlabel": {
           "align": "left"
          },
          "hovermode": "closest",
          "mapbox": {
           "style": "light"
          },
          "paper_bgcolor": "white",
          "plot_bgcolor": "#E5ECF6",
          "polar": {
           "angularaxis": {
            "gridcolor": "white",
            "linecolor": "white",
            "ticks": ""
           },
           "bgcolor": "#E5ECF6",
           "radialaxis": {
            "gridcolor": "white",
            "linecolor": "white",
            "ticks": ""
           }
          },
          "scene": {
           "xaxis": {
            "backgroundcolor": "#E5ECF6",
            "gridcolor": "white",
            "gridwidth": 2,
            "linecolor": "white",
            "showbackground": true,
            "ticks": "",
            "zerolinecolor": "white"
           },
           "yaxis": {
            "backgroundcolor": "#E5ECF6",
            "gridcolor": "white",
            "gridwidth": 2,
            "linecolor": "white",
            "showbackground": true,
            "ticks": "",
            "zerolinecolor": "white"
           },
           "zaxis": {
            "backgroundcolor": "#E5ECF6",
            "gridcolor": "white",
            "gridwidth": 2,
            "linecolor": "white",
            "showbackground": true,
            "ticks": "",
            "zerolinecolor": "white"
           }
          },
          "shapedefaults": {
           "line": {
            "color": "#2a3f5f"
           }
          },
          "ternary": {
           "aaxis": {
            "gridcolor": "white",
            "linecolor": "white",
            "ticks": ""
           },
           "baxis": {
            "gridcolor": "white",
            "linecolor": "white",
            "ticks": ""
           },
           "bgcolor": "#E5ECF6",
           "caxis": {
            "gridcolor": "white",
            "linecolor": "white",
            "ticks": ""
           }
          },
          "title": {
           "x": 0.05
          },
          "xaxis": {
           "automargin": true,
           "gridcolor": "white",
           "linecolor": "white",
           "ticks": "",
           "title": {
            "standoff": 15
           },
           "zerolinecolor": "white",
           "zerolinewidth": 2
          },
          "yaxis": {
           "automargin": true,
           "gridcolor": "white",
           "linecolor": "white",
           "ticks": "",
           "title": {
            "standoff": 15
           },
           "zerolinecolor": "white",
           "zerolinewidth": 2
          }
         }
        },
        "title": {
         "text": "Hyperparameter Importances"
        },
        "xaxis": {
         "title": {
          "text": "Hyperparameter Importance"
         }
        },
        "yaxis": {
         "title": {
          "text": "Hyperparameter"
         }
        }
       }
      }
     },
     "metadata": {},
     "output_type": "display_data"
    }
   ],
   "source": [
    "fig = optuna.visualization.plot_param_importances(study)\n",
    "fig.write_image(file=os.path.join(im_dir, \"single_hyperparam_importance.png\"), format=\"png\", scale=6)\n",
    "fig.show()"
   ]
  },
  {
   "cell_type": "markdown",
   "metadata": {
    "collapsed": false
   },
   "source": [
    "## Multi-objective optimization"
   ]
  },
  {
   "cell_type": "code",
   "execution_count": 22,
   "metadata": {
    "ExecuteTime": {
     "end_time": "2023-04-27T12:47:34.914428Z",
     "start_time": "2023-04-27T12:47:34.907420Z"
    },
    "collapsed": false
   },
   "outputs": [],
   "source": [
    "def moo_objective(trial):\n",
    "    learning_rate = trial.suggest_float(\"learning_rate\", 0.0001, 0.5, log=True),\n",
    "\n",
    "    model = lgb.LGBMClassifier(\n",
    "        force_row_wise=True,\n",
    "        boosting_type='gbdt',\n",
    "        n_estimators=200,\n",
    "        lambda_l1=3.298803078077973e-07,\n",
    "        lambda_l2=8.938532783741386e-07,\n",
    "        num_leaves=6,\n",
    "        feature_fraction=0.5133218336120866,\n",
    "        bagging_fraction=0.9660809666082303,\n",
    "        bagging_freq=7,\n",
    "        min_child_samples=91,\n",
    "        learning_rate=learning_rate,\n",
    "        max_bin=320,\n",
    "        verbose=-1,\n",
    "    )\n",
    "    scores = cross_val_score(model, X, y, scoring=\"f1_macro\")\n",
    "    return learning_rate[0], scores.mean()"
   ]
  },
  {
   "cell_type": "code",
   "execution_count": 23,
   "metadata": {
    "ExecuteTime": {
     "end_time": "2023-04-27T12:48:45.814205Z",
     "start_time": "2023-04-27T12:47:35.162158Z"
    },
    "collapsed": false
   },
   "outputs": [
    {
     "name": "stderr",
     "output_type": "stream",
     "text": [
      "\u001b[32m[I 2023-04-27 10:47:35,501]\u001b[0m A new study created in memory with name: no-name-eb122531-f2ee-4cb5-92d1-8efba6a28eef\u001b[0m\n",
      "\u001b[32m[I 2023-04-27 10:47:36,221]\u001b[0m Trial 0 finished with values: [0.018276625572235056, 0.7229728382357858] and parameters: {'learning_rate': 0.018276625572235056}. \u001b[0m\n",
      "\u001b[32m[I 2023-04-27 10:47:36,922]\u001b[0m Trial 1 finished with values: [0.012281350875017864, 0.713129498994182] and parameters: {'learning_rate': 0.012281350875017864}. \u001b[0m\n",
      "\u001b[32m[I 2023-04-27 10:47:37,601]\u001b[0m Trial 2 finished with values: [0.3179931543219117, 0.7181352358216049] and parameters: {'learning_rate': 0.3179931543219117}. \u001b[0m\n",
      "\u001b[32m[I 2023-04-27 10:47:38,317]\u001b[0m Trial 3 finished with values: [0.3317048028124761, 0.7182462105095208] and parameters: {'learning_rate': 0.3317048028124761}. \u001b[0m\n",
      "\u001b[32m[I 2023-04-27 10:47:39,042]\u001b[0m Trial 4 finished with values: [0.010097499163932589, 0.689595604293249] and parameters: {'learning_rate': 0.010097499163932589}. \u001b[0m\n",
      "\u001b[32m[I 2023-04-27 10:47:39,716]\u001b[0m Trial 5 finished with values: [0.0010284892903758126, 0.4235082247366586] and parameters: {'learning_rate': 0.0010284892903758126}. \u001b[0m\n",
      "\u001b[32m[I 2023-04-27 10:47:40,423]\u001b[0m Trial 6 finished with values: [0.0008073623310050534, 0.4235082247366586] and parameters: {'learning_rate': 0.0008073623310050534}. \u001b[0m\n",
      "\u001b[32m[I 2023-04-27 10:47:41,147]\u001b[0m Trial 7 finished with values: [0.009446892389275133, 0.6841554205738356] and parameters: {'learning_rate': 0.009446892389275133}. \u001b[0m\n",
      "\u001b[32m[I 2023-04-27 10:47:41,994]\u001b[0m Trial 8 finished with values: [0.042129982546996285, 0.7318679125094985] and parameters: {'learning_rate': 0.042129982546996285}. \u001b[0m\n",
      "\u001b[32m[I 2023-04-27 10:47:42,733]\u001b[0m Trial 9 finished with values: [0.006234336282154794, 0.6372047388051083] and parameters: {'learning_rate': 0.006234336282154794}. \u001b[0m\n",
      "\u001b[32m[I 2023-04-27 10:47:43,412]\u001b[0m Trial 10 finished with values: [0.0014213907266344855, 0.4235082247366586] and parameters: {'learning_rate': 0.0014213907266344855}. \u001b[0m\n",
      "\u001b[32m[I 2023-04-27 10:47:44,069]\u001b[0m Trial 11 finished with values: [0.0074818711669891215, 0.6643619268828908] and parameters: {'learning_rate': 0.0074818711669891215}. \u001b[0m\n",
      "\u001b[32m[I 2023-04-27 10:47:44,798]\u001b[0m Trial 12 finished with values: [0.1148404311838305, 0.7321994102159477] and parameters: {'learning_rate': 0.1148404311838305}. \u001b[0m\n",
      "\u001b[32m[I 2023-04-27 10:47:45,481]\u001b[0m Trial 13 finished with values: [0.0012664149179400209, 0.4235082247366586] and parameters: {'learning_rate': 0.0012664149179400209}. \u001b[0m\n",
      "\u001b[32m[I 2023-04-27 10:47:46,223]\u001b[0m Trial 14 finished with values: [0.05307222954482612, 0.7336139976808754] and parameters: {'learning_rate': 0.05307222954482612}. \u001b[0m\n",
      "\u001b[32m[I 2023-04-27 10:47:46,949]\u001b[0m Trial 15 finished with values: [0.01538041330688695, 0.7173796023919852] and parameters: {'learning_rate': 0.01538041330688695}. \u001b[0m\n",
      "\u001b[32m[I 2023-04-27 10:47:47,724]\u001b[0m Trial 16 finished with values: [0.018396986660930648, 0.7227368738811438] and parameters: {'learning_rate': 0.018396986660930648}. \u001b[0m\n",
      "\u001b[32m[I 2023-04-27 10:47:48,451]\u001b[0m Trial 17 finished with values: [0.0030415201353781317, 0.4235082247366586] and parameters: {'learning_rate': 0.0030415201353781317}. \u001b[0m\n",
      "\u001b[32m[I 2023-04-27 10:47:49,134]\u001b[0m Trial 18 finished with values: [0.34679130964813293, 0.7165372792236238] and parameters: {'learning_rate': 0.34679130964813293}. \u001b[0m\n",
      "\u001b[32m[I 2023-04-27 10:47:49,814]\u001b[0m Trial 19 finished with values: [0.0016185106184141472, 0.4235082247366586] and parameters: {'learning_rate': 0.0016185106184141472}. \u001b[0m\n",
      "\u001b[32m[I 2023-04-27 10:47:50,473]\u001b[0m Trial 20 finished with values: [0.09977031400739048, 0.7302018596960369] and parameters: {'learning_rate': 0.09977031400739048}. \u001b[0m\n",
      "\u001b[32m[I 2023-04-27 10:47:51,155]\u001b[0m Trial 21 finished with values: [0.00015692458115144144, 0.4235082247366586] and parameters: {'learning_rate': 0.00015692458115144144}. \u001b[0m\n",
      "\u001b[32m[I 2023-04-27 10:47:51,845]\u001b[0m Trial 22 finished with values: [0.0014637099340279343, 0.4235082247366586] and parameters: {'learning_rate': 0.0014637099340279343}. \u001b[0m\n",
      "\u001b[32m[I 2023-04-27 10:47:52,522]\u001b[0m Trial 23 finished with values: [0.237542460048024, 0.7216310177763523] and parameters: {'learning_rate': 0.237542460048024}. \u001b[0m\n",
      "\u001b[32m[I 2023-04-27 10:47:53,209]\u001b[0m Trial 24 finished with values: [0.24410089728809634, 0.7254004209977449] and parameters: {'learning_rate': 0.24410089728809634}. \u001b[0m\n",
      "\u001b[32m[I 2023-04-27 10:47:53,930]\u001b[0m Trial 25 finished with values: [0.039216586476540555, 0.7301579035907364] and parameters: {'learning_rate': 0.039216586476540555}. \u001b[0m\n",
      "\u001b[32m[I 2023-04-27 10:47:54,668]\u001b[0m Trial 26 finished with values: [0.04413193652148863, 0.7292176187667853] and parameters: {'learning_rate': 0.04413193652148863}. \u001b[0m\n",
      "\u001b[32m[I 2023-04-27 10:47:55,334]\u001b[0m Trial 27 finished with values: [0.12844461011742844, 0.7321027124572879] and parameters: {'learning_rate': 0.12844461011742844}. \u001b[0m\n",
      "\u001b[32m[I 2023-04-27 10:47:56,032]\u001b[0m Trial 28 finished with values: [0.0006332697167843045, 0.4235082247366586] and parameters: {'learning_rate': 0.0006332697167843045}. \u001b[0m\n",
      "\u001b[32m[I 2023-04-27 10:47:56,712]\u001b[0m Trial 29 finished with values: [0.4498243389528799, 0.7180387023655493] and parameters: {'learning_rate': 0.4498243389528799}. \u001b[0m\n",
      "\u001b[32m[I 2023-04-27 10:47:57,322]\u001b[0m Trial 30 finished with values: [0.28825962026286955, 0.7220137309076756] and parameters: {'learning_rate': 0.28825962026286955}. \u001b[0m\n",
      "\u001b[32m[I 2023-04-27 10:47:57,985]\u001b[0m Trial 31 finished with values: [0.036619413830782564, 0.7302184406320554] and parameters: {'learning_rate': 0.036619413830782564}. \u001b[0m\n",
      "\u001b[32m[I 2023-04-27 10:47:58,563]\u001b[0m Trial 32 finished with values: [0.03610204856200786, 0.7304328067409969] and parameters: {'learning_rate': 0.03610204856200786}. \u001b[0m\n",
      "\u001b[32m[I 2023-04-27 10:47:59,225]\u001b[0m Trial 33 finished with values: [0.0021961450728918896, 0.4235082247366586] and parameters: {'learning_rate': 0.0021961450728918896}. \u001b[0m\n",
      "\u001b[32m[I 2023-04-27 10:47:59,946]\u001b[0m Trial 34 finished with values: [0.012193586140043794, 0.7120523440790167] and parameters: {'learning_rate': 0.012193586140043794}. \u001b[0m\n",
      "\u001b[32m[I 2023-04-27 10:48:00,626]\u001b[0m Trial 35 finished with values: [0.19630258423899116, 0.7290264275839735] and parameters: {'learning_rate': 0.19630258423899116}. \u001b[0m\n",
      "\u001b[32m[I 2023-04-27 10:48:01,328]\u001b[0m Trial 36 finished with values: [0.00017918412416240907, 0.4235082247366586] and parameters: {'learning_rate': 0.00017918412416240907}. \u001b[0m\n",
      "\u001b[32m[I 2023-04-27 10:48:02,017]\u001b[0m Trial 37 finished with values: [0.014133500358080071, 0.7167142851538554] and parameters: {'learning_rate': 0.014133500358080071}. \u001b[0m\n",
      "\u001b[32m[I 2023-04-27 10:48:02,698]\u001b[0m Trial 38 finished with values: [0.04852382290869409, 0.7310333204595433] and parameters: {'learning_rate': 0.04852382290869409}. \u001b[0m\n",
      "\u001b[32m[I 2023-04-27 10:48:03,384]\u001b[0m Trial 39 finished with values: [0.040201201662143485, 0.7306614283099379] and parameters: {'learning_rate': 0.040201201662143485}. \u001b[0m\n",
      "\u001b[32m[I 2023-04-27 10:48:04,062]\u001b[0m Trial 40 finished with values: [0.0011776265316570207, 0.4235082247366586] and parameters: {'learning_rate': 0.0011776265316570207}. \u001b[0m\n",
      "\u001b[32m[I 2023-04-27 10:48:04,770]\u001b[0m Trial 41 finished with values: [0.026396073829949854, 0.7294521208392316] and parameters: {'learning_rate': 0.026396073829949854}. \u001b[0m\n",
      "\u001b[32m[I 2023-04-27 10:48:05,444]\u001b[0m Trial 42 finished with values: [0.19287363423507076, 0.7259236143539816] and parameters: {'learning_rate': 0.19287363423507076}. \u001b[0m\n",
      "\u001b[32m[I 2023-04-27 10:48:06,182]\u001b[0m Trial 43 finished with values: [0.07377836783758575, 0.7335097300380633] and parameters: {'learning_rate': 0.07377836783758575}. \u001b[0m\n",
      "\u001b[32m[I 2023-04-27 10:48:06,865]\u001b[0m Trial 44 finished with values: [0.06950786503628438, 0.7323174432397132] and parameters: {'learning_rate': 0.06950786503628438}. \u001b[0m\n",
      "\u001b[32m[I 2023-04-27 10:48:07,522]\u001b[0m Trial 45 finished with values: [0.0013182070434705978, 0.4235082247366586] and parameters: {'learning_rate': 0.0013182070434705978}. \u001b[0m\n",
      "\u001b[32m[I 2023-04-27 10:48:08,245]\u001b[0m Trial 46 finished with values: [0.0001689170415983065, 0.4235082247366586] and parameters: {'learning_rate': 0.0001689170415983065}. \u001b[0m\n",
      "\u001b[32m[I 2023-04-27 10:48:08,983]\u001b[0m Trial 47 finished with values: [0.0021018530965500105, 0.4235082247366586] and parameters: {'learning_rate': 0.0021018530965500105}. \u001b[0m\n",
      "\u001b[32m[I 2023-04-27 10:48:09,687]\u001b[0m Trial 48 finished with values: [0.00019287163151974652, 0.4235082247366586] and parameters: {'learning_rate': 0.00019287163151974652}. \u001b[0m\n",
      "\u001b[32m[I 2023-04-27 10:48:10,369]\u001b[0m Trial 49 finished with values: [0.1714187324525616, 0.7274564562489783] and parameters: {'learning_rate': 0.1714187324525616}. \u001b[0m\n",
      "\u001b[32m[I 2023-04-27 10:48:11,109]\u001b[0m Trial 50 finished with values: [0.028218912249716382, 0.7285799931977797] and parameters: {'learning_rate': 0.028218912249716382}. \u001b[0m\n",
      "\u001b[32m[I 2023-04-27 10:48:11,818]\u001b[0m Trial 51 finished with values: [0.00037469787058577405, 0.4235082247366586] and parameters: {'learning_rate': 0.00037469787058577405}. \u001b[0m\n",
      "\u001b[32m[I 2023-04-27 10:48:12,557]\u001b[0m Trial 52 finished with values: [0.016517619384449466, 0.7201909680929806] and parameters: {'learning_rate': 0.016517619384449466}. \u001b[0m\n",
      "\u001b[32m[I 2023-04-27 10:48:13,222]\u001b[0m Trial 53 finished with values: [0.4796291220454122, 0.7120415606860494] and parameters: {'learning_rate': 0.4796291220454122}. \u001b[0m\n",
      "\u001b[32m[I 2023-04-27 10:48:13,891]\u001b[0m Trial 54 finished with values: [0.01075645544167512, 0.6983807551597365] and parameters: {'learning_rate': 0.01075645544167512}. \u001b[0m\n",
      "\u001b[32m[I 2023-04-27 10:48:14,587]\u001b[0m Trial 55 finished with values: [0.0013300668001608705, 0.4235082247366586] and parameters: {'learning_rate': 0.0013300668001608705}. \u001b[0m\n",
      "\u001b[32m[I 2023-04-27 10:48:15,311]\u001b[0m Trial 56 finished with values: [0.009234620597188305, 0.6815820697212852] and parameters: {'learning_rate': 0.009234620597188305}. \u001b[0m\n",
      "\u001b[32m[I 2023-04-27 10:48:16,010]\u001b[0m Trial 57 finished with values: [0.030789337644333142, 0.7297299658845593] and parameters: {'learning_rate': 0.030789337644333142}. \u001b[0m\n",
      "\u001b[32m[I 2023-04-27 10:48:16,741]\u001b[0m Trial 58 finished with values: [0.0005196761744466342, 0.4235082247366586] and parameters: {'learning_rate': 0.0005196761744466342}. \u001b[0m\n",
      "\u001b[32m[I 2023-04-27 10:48:17,397]\u001b[0m Trial 59 finished with values: [0.21454254531144426, 0.7279770709345865] and parameters: {'learning_rate': 0.21454254531144426}. \u001b[0m\n",
      "\u001b[32m[I 2023-04-27 10:48:18,113]\u001b[0m Trial 60 finished with values: [0.023714036796718886, 0.7259369472766212] and parameters: {'learning_rate': 0.023714036796718886}. \u001b[0m\n",
      "\u001b[32m[I 2023-04-27 10:48:18,831]\u001b[0m Trial 61 finished with values: [0.042951701452191404, 0.7302474855948291] and parameters: {'learning_rate': 0.042951701452191404}. \u001b[0m\n",
      "\u001b[32m[I 2023-04-27 10:48:19,505]\u001b[0m Trial 62 finished with values: [0.30521179006815724, 0.7193743184471776] and parameters: {'learning_rate': 0.30521179006815724}. \u001b[0m\n",
      "\u001b[32m[I 2023-04-27 10:48:20,238]\u001b[0m Trial 63 finished with values: [0.0031088442966744653, 0.4235082247366586] and parameters: {'learning_rate': 0.0031088442966744653}. \u001b[0m\n",
      "\u001b[32m[I 2023-04-27 10:48:20,968]\u001b[0m Trial 64 finished with values: [0.0004014235312843208, 0.4235082247366586] and parameters: {'learning_rate': 0.0004014235312843208}. \u001b[0m\n",
      "\u001b[32m[I 2023-04-27 10:48:21,682]\u001b[0m Trial 65 finished with values: [0.005578035829630357, 0.6170142717941252] and parameters: {'learning_rate': 0.005578035829630357}. \u001b[0m\n",
      "\u001b[32m[I 2023-04-27 10:48:22,420]\u001b[0m Trial 66 finished with values: [0.0001592544431367279, 0.4235082247366586] and parameters: {'learning_rate': 0.0001592544431367279}. \u001b[0m\n",
      "\u001b[32m[I 2023-04-27 10:48:23,115]\u001b[0m Trial 67 finished with values: [0.0807232375319011, 0.7309408871913655] and parameters: {'learning_rate': 0.0807232375319011}. \u001b[0m\n",
      "\u001b[32m[I 2023-04-27 10:48:23,791]\u001b[0m Trial 68 finished with values: [0.16799292006264588, 0.7309842390105754] and parameters: {'learning_rate': 0.16799292006264588}. \u001b[0m\n",
      "\u001b[32m[I 2023-04-27 10:48:24,481]\u001b[0m Trial 69 finished with values: [0.04159311590472715, 0.7313584050417112] and parameters: {'learning_rate': 0.04159311590472715}. \u001b[0m\n",
      "\u001b[32m[I 2023-04-27 10:48:25,217]\u001b[0m Trial 70 finished with values: [0.0007829813261500128, 0.4235082247366586] and parameters: {'learning_rate': 0.0007829813261500128}. \u001b[0m\n",
      "\u001b[32m[I 2023-04-27 10:48:25,965]\u001b[0m Trial 71 finished with values: [0.0005327862205087224, 0.4235082247366586] and parameters: {'learning_rate': 0.0005327862205087224}. \u001b[0m\n",
      "\u001b[32m[I 2023-04-27 10:48:26,763]\u001b[0m Trial 72 finished with values: [0.011004042996587247, 0.7013991059388606] and parameters: {'learning_rate': 0.011004042996587247}. \u001b[0m\n",
      "\u001b[32m[I 2023-04-27 10:48:27,570]\u001b[0m Trial 73 finished with values: [0.012096495400321669, 0.7112448137800941] and parameters: {'learning_rate': 0.012096495400321669}. \u001b[0m\n",
      "\u001b[32m[I 2023-04-27 10:48:28,277]\u001b[0m Trial 74 finished with values: [0.07830377287729806, 0.7306338561389435] and parameters: {'learning_rate': 0.07830377287729806}. \u001b[0m\n",
      "\u001b[32m[I 2023-04-27 10:48:29,000]\u001b[0m Trial 75 finished with values: [0.0020289312962674306, 0.4235082247366586] and parameters: {'learning_rate': 0.0020289312962674306}. \u001b[0m\n",
      "\u001b[32m[I 2023-04-27 10:48:29,717]\u001b[0m Trial 76 finished with values: [0.007003614272196497, 0.653715322076985] and parameters: {'learning_rate': 0.007003614272196497}. \u001b[0m\n",
      "\u001b[32m[I 2023-04-27 10:48:30,438]\u001b[0m Trial 77 finished with values: [0.026811861365256547, 0.7281393119846103] and parameters: {'learning_rate': 0.026811861365256547}. \u001b[0m\n",
      "\u001b[32m[I 2023-04-27 10:48:31,206]\u001b[0m Trial 78 finished with values: [0.0014534431094221844, 0.4235082247366586] and parameters: {'learning_rate': 0.0014534431094221844}. \u001b[0m\n",
      "\u001b[32m[I 2023-04-27 10:48:31,910]\u001b[0m Trial 79 finished with values: [0.07184266906020101, 0.7318954915835494] and parameters: {'learning_rate': 0.07184266906020101}. \u001b[0m\n",
      "\u001b[32m[I 2023-04-27 10:48:32,611]\u001b[0m Trial 80 finished with values: [0.20138173825410338, 0.7278080193179831] and parameters: {'learning_rate': 0.20138173825410338}. \u001b[0m\n",
      "\u001b[32m[I 2023-04-27 10:48:33,350]\u001b[0m Trial 81 finished with values: [0.01956656266919498, 0.7259187426802697] and parameters: {'learning_rate': 0.01956656266919498}. \u001b[0m\n",
      "\u001b[32m[I 2023-04-27 10:48:34,043]\u001b[0m Trial 82 finished with values: [0.005251844487229045, 0.6024609734794308] and parameters: {'learning_rate': 0.005251844487229045}. \u001b[0m\n",
      "\u001b[32m[I 2023-04-27 10:48:34,734]\u001b[0m Trial 83 finished with values: [0.0007975269741962664, 0.4235082247366586] and parameters: {'learning_rate': 0.0007975269741962664}. \u001b[0m\n",
      "\u001b[32m[I 2023-04-27 10:48:35,428]\u001b[0m Trial 84 finished with values: [0.0005538907493946157, 0.4235082247366586] and parameters: {'learning_rate': 0.0005538907493946157}. \u001b[0m\n",
      "\u001b[32m[I 2023-04-27 10:48:36,126]\u001b[0m Trial 85 finished with values: [0.0835122016432078, 0.7321890615843162] and parameters: {'learning_rate': 0.0835122016432078}. \u001b[0m\n",
      "\u001b[32m[I 2023-04-27 10:48:36,860]\u001b[0m Trial 86 finished with values: [0.0006260697703589752, 0.4235082247366586] and parameters: {'learning_rate': 0.0006260697703589752}. \u001b[0m\n",
      "\u001b[32m[I 2023-04-27 10:48:37,556]\u001b[0m Trial 87 finished with values: [0.11742527067046299, 0.7321944783582703] and parameters: {'learning_rate': 0.11742527067046299}. \u001b[0m\n",
      "\u001b[32m[I 2023-04-27 10:48:38,296]\u001b[0m Trial 88 finished with values: [0.004544231657855253, 0.5343888745179519] and parameters: {'learning_rate': 0.004544231657855253}. \u001b[0m\n",
      "\u001b[32m[I 2023-04-27 10:48:39,070]\u001b[0m Trial 89 finished with values: [0.00012209259631005412, 0.4235082247366586] and parameters: {'learning_rate': 0.00012209259631005412}. \u001b[0m\n",
      "\u001b[32m[I 2023-04-27 10:48:39,823]\u001b[0m Trial 90 finished with values: [0.001267549290534437, 0.4235082247366586] and parameters: {'learning_rate': 0.001267549290534437}. \u001b[0m\n",
      "\u001b[32m[I 2023-04-27 10:48:40,539]\u001b[0m Trial 91 finished with values: [0.004363976487357013, 0.5087369170754972] and parameters: {'learning_rate': 0.004363976487357013}. \u001b[0m\n",
      "\u001b[32m[I 2023-04-27 10:48:41,243]\u001b[0m Trial 92 finished with values: [0.017485462659550834, 0.722280452051524] and parameters: {'learning_rate': 0.017485462659550834}. \u001b[0m\n",
      "\u001b[32m[I 2023-04-27 10:48:41,927]\u001b[0m Trial 93 finished with values: [0.44828056389247145, 0.7116760995541701] and parameters: {'learning_rate': 0.44828056389247145}. \u001b[0m\n",
      "\u001b[32m[I 2023-04-27 10:48:42,634]\u001b[0m Trial 94 finished with values: [0.08277845673611592, 0.7314187112500111] and parameters: {'learning_rate': 0.08277845673611592}. \u001b[0m\n",
      "\u001b[32m[I 2023-04-27 10:48:43,357]\u001b[0m Trial 95 finished with values: [0.0003291311959625348, 0.4235082247366586] and parameters: {'learning_rate': 0.0003291311959625348}. \u001b[0m\n",
      "\u001b[32m[I 2023-04-27 10:48:44,073]\u001b[0m Trial 96 finished with values: [0.00022868118733042252, 0.4235082247366586] and parameters: {'learning_rate': 0.00022868118733042252}. \u001b[0m\n",
      "\u001b[32m[I 2023-04-27 10:48:44,798]\u001b[0m Trial 97 finished with values: [0.18286145837300968, 0.7262427071035374] and parameters: {'learning_rate': 0.18286145837300968}. \u001b[0m\n",
      "\u001b[32m[I 2023-04-27 10:48:45,479]\u001b[0m Trial 98 finished with values: [0.06941692989749879, 0.7295385067809874] and parameters: {'learning_rate': 0.06941692989749879}. \u001b[0m\n",
      "\u001b[32m[I 2023-04-27 10:48:46,147]\u001b[0m Trial 99 finished with values: [0.19305171220017311, 0.7262367052555226] and parameters: {'learning_rate': 0.19305171220017311}. \u001b[0m\n"
     ]
    }
   ],
   "source": [
    "study = optuna.create_study(directions=[\"maximize\", \"maximize\"])\n",
    "study.optimize(moo_objective, n_trials=100)"
   ]
  },
  {
   "cell_type": "code",
   "execution_count": 24,
   "metadata": {
    "ExecuteTime": {
     "end_time": "2023-04-27T12:48:46.776516Z",
     "start_time": "2023-04-27T12:48:45.820953Z"
    },
    "collapsed": false
   },
   "outputs": [
    {
     "data": {
      "application/vnd.plotly.v1+json": {
       "config": {
        "plotlyServerURL": "https://plot.ly"
       },
       "data": [
        {
         "hovertemplate": "%{text}<extra>Trial</extra>",
         "marker": {
          "color": [
           0,
           1,
           2,
           4,
           5,
           6,
           7,
           8,
           9,
           10,
           11,
           13,
           15,
           16,
           17,
           18,
           19,
           20,
           21,
           22,
           23,
           25,
           26,
           28,
           31,
           32,
           33,
           34,
           36,
           37,
           38,
           39,
           40,
           41,
           42,
           44,
           45,
           46,
           47,
           48,
           49,
           50,
           51,
           52,
           54,
           55,
           56,
           57,
           58,
           60,
           61,
           63,
           64,
           65,
           66,
           67,
           69,
           70,
           71,
           72,
           73,
           74,
           75,
           76,
           77,
           78,
           79,
           80,
           81,
           82,
           83,
           84,
           85,
           86,
           88,
           89,
           90,
           91,
           92,
           93,
           94,
           95,
           96,
           97,
           98,
           99
          ],
          "colorbar": {
           "title": {
            "text": "Trial"
           }
          },
          "colorscale": [
           [
            0,
            "rgb(247,251,255)"
           ],
           [
            0.125,
            "rgb(222,235,247)"
           ],
           [
            0.25,
            "rgb(198,219,239)"
           ],
           [
            0.375,
            "rgb(158,202,225)"
           ],
           [
            0.5,
            "rgb(107,174,214)"
           ],
           [
            0.625,
            "rgb(66,146,198)"
           ],
           [
            0.75,
            "rgb(33,113,181)"
           ],
           [
            0.875,
            "rgb(8,81,156)"
           ],
           [
            1,
            "rgb(8,48,107)"
           ]
          ],
          "line": {
           "color": "Grey",
           "width": 0.5
          }
         },
         "mode": "markers",
         "showlegend": false,
         "text": [
          "{<br>  \"number\": 0,<br>  \"values\": [<br>    0.018276625572235056,<br>    0.7229728382357858<br>  ],<br>  \"params\": {<br>    \"learning_rate\": 0.018276625572235056<br>  }<br>}",
          "{<br>  \"number\": 1,<br>  \"values\": [<br>    0.012281350875017864,<br>    0.713129498994182<br>  ],<br>  \"params\": {<br>    \"learning_rate\": 0.012281350875017864<br>  }<br>}",
          "{<br>  \"number\": 2,<br>  \"values\": [<br>    0.3179931543219117,<br>    0.7181352358216049<br>  ],<br>  \"params\": {<br>    \"learning_rate\": 0.3179931543219117<br>  }<br>}",
          "{<br>  \"number\": 4,<br>  \"values\": [<br>    0.010097499163932589,<br>    0.689595604293249<br>  ],<br>  \"params\": {<br>    \"learning_rate\": 0.010097499163932589<br>  }<br>}",
          "{<br>  \"number\": 5,<br>  \"values\": [<br>    0.0010284892903758126,<br>    0.4235082247366586<br>  ],<br>  \"params\": {<br>    \"learning_rate\": 0.0010284892903758126<br>  }<br>}",
          "{<br>  \"number\": 6,<br>  \"values\": [<br>    0.0008073623310050534,<br>    0.4235082247366586<br>  ],<br>  \"params\": {<br>    \"learning_rate\": 0.0008073623310050534<br>  }<br>}",
          "{<br>  \"number\": 7,<br>  \"values\": [<br>    0.009446892389275133,<br>    0.6841554205738356<br>  ],<br>  \"params\": {<br>    \"learning_rate\": 0.009446892389275133<br>  }<br>}",
          "{<br>  \"number\": 8,<br>  \"values\": [<br>    0.042129982546996285,<br>    0.7318679125094985<br>  ],<br>  \"params\": {<br>    \"learning_rate\": 0.042129982546996285<br>  }<br>}",
          "{<br>  \"number\": 9,<br>  \"values\": [<br>    0.006234336282154794,<br>    0.6372047388051083<br>  ],<br>  \"params\": {<br>    \"learning_rate\": 0.006234336282154794<br>  }<br>}",
          "{<br>  \"number\": 10,<br>  \"values\": [<br>    0.0014213907266344855,<br>    0.4235082247366586<br>  ],<br>  \"params\": {<br>    \"learning_rate\": 0.0014213907266344855<br>  }<br>}",
          "{<br>  \"number\": 11,<br>  \"values\": [<br>    0.0074818711669891215,<br>    0.6643619268828908<br>  ],<br>  \"params\": {<br>    \"learning_rate\": 0.0074818711669891215<br>  }<br>}",
          "{<br>  \"number\": 13,<br>  \"values\": [<br>    0.0012664149179400209,<br>    0.4235082247366586<br>  ],<br>  \"params\": {<br>    \"learning_rate\": 0.0012664149179400209<br>  }<br>}",
          "{<br>  \"number\": 15,<br>  \"values\": [<br>    0.01538041330688695,<br>    0.7173796023919852<br>  ],<br>  \"params\": {<br>    \"learning_rate\": 0.01538041330688695<br>  }<br>}",
          "{<br>  \"number\": 16,<br>  \"values\": [<br>    0.018396986660930648,<br>    0.7227368738811438<br>  ],<br>  \"params\": {<br>    \"learning_rate\": 0.018396986660930648<br>  }<br>}",
          "{<br>  \"number\": 17,<br>  \"values\": [<br>    0.0030415201353781317,<br>    0.4235082247366586<br>  ],<br>  \"params\": {<br>    \"learning_rate\": 0.0030415201353781317<br>  }<br>}",
          "{<br>  \"number\": 18,<br>  \"values\": [<br>    0.34679130964813293,<br>    0.7165372792236238<br>  ],<br>  \"params\": {<br>    \"learning_rate\": 0.34679130964813293<br>  }<br>}",
          "{<br>  \"number\": 19,<br>  \"values\": [<br>    0.0016185106184141472,<br>    0.4235082247366586<br>  ],<br>  \"params\": {<br>    \"learning_rate\": 0.0016185106184141472<br>  }<br>}",
          "{<br>  \"number\": 20,<br>  \"values\": [<br>    0.09977031400739048,<br>    0.7302018596960369<br>  ],<br>  \"params\": {<br>    \"learning_rate\": 0.09977031400739048<br>  }<br>}",
          "{<br>  \"number\": 21,<br>  \"values\": [<br>    0.00015692458115144144,<br>    0.4235082247366586<br>  ],<br>  \"params\": {<br>    \"learning_rate\": 0.00015692458115144144<br>  }<br>}",
          "{<br>  \"number\": 22,<br>  \"values\": [<br>    0.0014637099340279343,<br>    0.4235082247366586<br>  ],<br>  \"params\": {<br>    \"learning_rate\": 0.0014637099340279343<br>  }<br>}",
          "{<br>  \"number\": 23,<br>  \"values\": [<br>    0.237542460048024,<br>    0.7216310177763523<br>  ],<br>  \"params\": {<br>    \"learning_rate\": 0.237542460048024<br>  }<br>}",
          "{<br>  \"number\": 25,<br>  \"values\": [<br>    0.039216586476540555,<br>    0.7301579035907364<br>  ],<br>  \"params\": {<br>    \"learning_rate\": 0.039216586476540555<br>  }<br>}",
          "{<br>  \"number\": 26,<br>  \"values\": [<br>    0.04413193652148863,<br>    0.7292176187667853<br>  ],<br>  \"params\": {<br>    \"learning_rate\": 0.04413193652148863<br>  }<br>}",
          "{<br>  \"number\": 28,<br>  \"values\": [<br>    0.0006332697167843045,<br>    0.4235082247366586<br>  ],<br>  \"params\": {<br>    \"learning_rate\": 0.0006332697167843045<br>  }<br>}",
          "{<br>  \"number\": 31,<br>  \"values\": [<br>    0.036619413830782564,<br>    0.7302184406320554<br>  ],<br>  \"params\": {<br>    \"learning_rate\": 0.036619413830782564<br>  }<br>}",
          "{<br>  \"number\": 32,<br>  \"values\": [<br>    0.03610204856200786,<br>    0.7304328067409969<br>  ],<br>  \"params\": {<br>    \"learning_rate\": 0.03610204856200786<br>  }<br>}",
          "{<br>  \"number\": 33,<br>  \"values\": [<br>    0.0021961450728918896,<br>    0.4235082247366586<br>  ],<br>  \"params\": {<br>    \"learning_rate\": 0.0021961450728918896<br>  }<br>}",
          "{<br>  \"number\": 34,<br>  \"values\": [<br>    0.012193586140043794,<br>    0.7120523440790167<br>  ],<br>  \"params\": {<br>    \"learning_rate\": 0.012193586140043794<br>  }<br>}",
          "{<br>  \"number\": 36,<br>  \"values\": [<br>    0.00017918412416240907,<br>    0.4235082247366586<br>  ],<br>  \"params\": {<br>    \"learning_rate\": 0.00017918412416240907<br>  }<br>}",
          "{<br>  \"number\": 37,<br>  \"values\": [<br>    0.014133500358080071,<br>    0.7167142851538554<br>  ],<br>  \"params\": {<br>    \"learning_rate\": 0.014133500358080071<br>  }<br>}",
          "{<br>  \"number\": 38,<br>  \"values\": [<br>    0.04852382290869409,<br>    0.7310333204595433<br>  ],<br>  \"params\": {<br>    \"learning_rate\": 0.04852382290869409<br>  }<br>}",
          "{<br>  \"number\": 39,<br>  \"values\": [<br>    0.040201201662143485,<br>    0.7306614283099379<br>  ],<br>  \"params\": {<br>    \"learning_rate\": 0.040201201662143485<br>  }<br>}",
          "{<br>  \"number\": 40,<br>  \"values\": [<br>    0.0011776265316570207,<br>    0.4235082247366586<br>  ],<br>  \"params\": {<br>    \"learning_rate\": 0.0011776265316570207<br>  }<br>}",
          "{<br>  \"number\": 41,<br>  \"values\": [<br>    0.026396073829949854,<br>    0.7294521208392316<br>  ],<br>  \"params\": {<br>    \"learning_rate\": 0.026396073829949854<br>  }<br>}",
          "{<br>  \"number\": 42,<br>  \"values\": [<br>    0.19287363423507076,<br>    0.7259236143539816<br>  ],<br>  \"params\": {<br>    \"learning_rate\": 0.19287363423507076<br>  }<br>}",
          "{<br>  \"number\": 44,<br>  \"values\": [<br>    0.06950786503628438,<br>    0.7323174432397132<br>  ],<br>  \"params\": {<br>    \"learning_rate\": 0.06950786503628438<br>  }<br>}",
          "{<br>  \"number\": 45,<br>  \"values\": [<br>    0.0013182070434705978,<br>    0.4235082247366586<br>  ],<br>  \"params\": {<br>    \"learning_rate\": 0.0013182070434705978<br>  }<br>}",
          "{<br>  \"number\": 46,<br>  \"values\": [<br>    0.0001689170415983065,<br>    0.4235082247366586<br>  ],<br>  \"params\": {<br>    \"learning_rate\": 0.0001689170415983065<br>  }<br>}",
          "{<br>  \"number\": 47,<br>  \"values\": [<br>    0.0021018530965500105,<br>    0.4235082247366586<br>  ],<br>  \"params\": {<br>    \"learning_rate\": 0.0021018530965500105<br>  }<br>}",
          "{<br>  \"number\": 48,<br>  \"values\": [<br>    0.00019287163151974652,<br>    0.4235082247366586<br>  ],<br>  \"params\": {<br>    \"learning_rate\": 0.00019287163151974652<br>  }<br>}",
          "{<br>  \"number\": 49,<br>  \"values\": [<br>    0.1714187324525616,<br>    0.7274564562489783<br>  ],<br>  \"params\": {<br>    \"learning_rate\": 0.1714187324525616<br>  }<br>}",
          "{<br>  \"number\": 50,<br>  \"values\": [<br>    0.028218912249716382,<br>    0.7285799931977797<br>  ],<br>  \"params\": {<br>    \"learning_rate\": 0.028218912249716382<br>  }<br>}",
          "{<br>  \"number\": 51,<br>  \"values\": [<br>    0.00037469787058577405,<br>    0.4235082247366586<br>  ],<br>  \"params\": {<br>    \"learning_rate\": 0.00037469787058577405<br>  }<br>}",
          "{<br>  \"number\": 52,<br>  \"values\": [<br>    0.016517619384449466,<br>    0.7201909680929806<br>  ],<br>  \"params\": {<br>    \"learning_rate\": 0.016517619384449466<br>  }<br>}",
          "{<br>  \"number\": 54,<br>  \"values\": [<br>    0.01075645544167512,<br>    0.6983807551597365<br>  ],<br>  \"params\": {<br>    \"learning_rate\": 0.01075645544167512<br>  }<br>}",
          "{<br>  \"number\": 55,<br>  \"values\": [<br>    0.0013300668001608705,<br>    0.4235082247366586<br>  ],<br>  \"params\": {<br>    \"learning_rate\": 0.0013300668001608705<br>  }<br>}",
          "{<br>  \"number\": 56,<br>  \"values\": [<br>    0.009234620597188305,<br>    0.6815820697212852<br>  ],<br>  \"params\": {<br>    \"learning_rate\": 0.009234620597188305<br>  }<br>}",
          "{<br>  \"number\": 57,<br>  \"values\": [<br>    0.030789337644333142,<br>    0.7297299658845593<br>  ],<br>  \"params\": {<br>    \"learning_rate\": 0.030789337644333142<br>  }<br>}",
          "{<br>  \"number\": 58,<br>  \"values\": [<br>    0.0005196761744466342,<br>    0.4235082247366586<br>  ],<br>  \"params\": {<br>    \"learning_rate\": 0.0005196761744466342<br>  }<br>}",
          "{<br>  \"number\": 60,<br>  \"values\": [<br>    0.023714036796718886,<br>    0.7259369472766212<br>  ],<br>  \"params\": {<br>    \"learning_rate\": 0.023714036796718886<br>  }<br>}",
          "{<br>  \"number\": 61,<br>  \"values\": [<br>    0.042951701452191404,<br>    0.7302474855948291<br>  ],<br>  \"params\": {<br>    \"learning_rate\": 0.042951701452191404<br>  }<br>}",
          "{<br>  \"number\": 63,<br>  \"values\": [<br>    0.0031088442966744653,<br>    0.4235082247366586<br>  ],<br>  \"params\": {<br>    \"learning_rate\": 0.0031088442966744653<br>  }<br>}",
          "{<br>  \"number\": 64,<br>  \"values\": [<br>    0.0004014235312843208,<br>    0.4235082247366586<br>  ],<br>  \"params\": {<br>    \"learning_rate\": 0.0004014235312843208<br>  }<br>}",
          "{<br>  \"number\": 65,<br>  \"values\": [<br>    0.005578035829630357,<br>    0.6170142717941252<br>  ],<br>  \"params\": {<br>    \"learning_rate\": 0.005578035829630357<br>  }<br>}",
          "{<br>  \"number\": 66,<br>  \"values\": [<br>    0.0001592544431367279,<br>    0.4235082247366586<br>  ],<br>  \"params\": {<br>    \"learning_rate\": 0.0001592544431367279<br>  }<br>}",
          "{<br>  \"number\": 67,<br>  \"values\": [<br>    0.0807232375319011,<br>    0.7309408871913655<br>  ],<br>  \"params\": {<br>    \"learning_rate\": 0.0807232375319011<br>  }<br>}",
          "{<br>  \"number\": 69,<br>  \"values\": [<br>    0.04159311590472715,<br>    0.7313584050417112<br>  ],<br>  \"params\": {<br>    \"learning_rate\": 0.04159311590472715<br>  }<br>}",
          "{<br>  \"number\": 70,<br>  \"values\": [<br>    0.0007829813261500128,<br>    0.4235082247366586<br>  ],<br>  \"params\": {<br>    \"learning_rate\": 0.0007829813261500128<br>  }<br>}",
          "{<br>  \"number\": 71,<br>  \"values\": [<br>    0.0005327862205087224,<br>    0.4235082247366586<br>  ],<br>  \"params\": {<br>    \"learning_rate\": 0.0005327862205087224<br>  }<br>}",
          "{<br>  \"number\": 72,<br>  \"values\": [<br>    0.011004042996587247,<br>    0.7013991059388606<br>  ],<br>  \"params\": {<br>    \"learning_rate\": 0.011004042996587247<br>  }<br>}",
          "{<br>  \"number\": 73,<br>  \"values\": [<br>    0.012096495400321669,<br>    0.7112448137800941<br>  ],<br>  \"params\": {<br>    \"learning_rate\": 0.012096495400321669<br>  }<br>}",
          "{<br>  \"number\": 74,<br>  \"values\": [<br>    0.07830377287729806,<br>    0.7306338561389435<br>  ],<br>  \"params\": {<br>    \"learning_rate\": 0.07830377287729806<br>  }<br>}",
          "{<br>  \"number\": 75,<br>  \"values\": [<br>    0.0020289312962674306,<br>    0.4235082247366586<br>  ],<br>  \"params\": {<br>    \"learning_rate\": 0.0020289312962674306<br>  }<br>}",
          "{<br>  \"number\": 76,<br>  \"values\": [<br>    0.007003614272196497,<br>    0.653715322076985<br>  ],<br>  \"params\": {<br>    \"learning_rate\": 0.007003614272196497<br>  }<br>}",
          "{<br>  \"number\": 77,<br>  \"values\": [<br>    0.026811861365256547,<br>    0.7281393119846103<br>  ],<br>  \"params\": {<br>    \"learning_rate\": 0.026811861365256547<br>  }<br>}",
          "{<br>  \"number\": 78,<br>  \"values\": [<br>    0.0014534431094221844,<br>    0.4235082247366586<br>  ],<br>  \"params\": {<br>    \"learning_rate\": 0.0014534431094221844<br>  }<br>}",
          "{<br>  \"number\": 79,<br>  \"values\": [<br>    0.07184266906020101,<br>    0.7318954915835494<br>  ],<br>  \"params\": {<br>    \"learning_rate\": 0.07184266906020101<br>  }<br>}",
          "{<br>  \"number\": 80,<br>  \"values\": [<br>    0.20138173825410338,<br>    0.7278080193179831<br>  ],<br>  \"params\": {<br>    \"learning_rate\": 0.20138173825410338<br>  }<br>}",
          "{<br>  \"number\": 81,<br>  \"values\": [<br>    0.01956656266919498,<br>    0.7259187426802697<br>  ],<br>  \"params\": {<br>    \"learning_rate\": 0.01956656266919498<br>  }<br>}",
          "{<br>  \"number\": 82,<br>  \"values\": [<br>    0.005251844487229045,<br>    0.6024609734794308<br>  ],<br>  \"params\": {<br>    \"learning_rate\": 0.005251844487229045<br>  }<br>}",
          "{<br>  \"number\": 83,<br>  \"values\": [<br>    0.0007975269741962664,<br>    0.4235082247366586<br>  ],<br>  \"params\": {<br>    \"learning_rate\": 0.0007975269741962664<br>  }<br>}",
          "{<br>  \"number\": 84,<br>  \"values\": [<br>    0.0005538907493946157,<br>    0.4235082247366586<br>  ],<br>  \"params\": {<br>    \"learning_rate\": 0.0005538907493946157<br>  }<br>}",
          "{<br>  \"number\": 85,<br>  \"values\": [<br>    0.0835122016432078,<br>    0.7321890615843162<br>  ],<br>  \"params\": {<br>    \"learning_rate\": 0.0835122016432078<br>  }<br>}",
          "{<br>  \"number\": 86,<br>  \"values\": [<br>    0.0006260697703589752,<br>    0.4235082247366586<br>  ],<br>  \"params\": {<br>    \"learning_rate\": 0.0006260697703589752<br>  }<br>}",
          "{<br>  \"number\": 88,<br>  \"values\": [<br>    0.004544231657855253,<br>    0.5343888745179519<br>  ],<br>  \"params\": {<br>    \"learning_rate\": 0.004544231657855253<br>  }<br>}",
          "{<br>  \"number\": 89,<br>  \"values\": [<br>    0.00012209259631005412,<br>    0.4235082247366586<br>  ],<br>  \"params\": {<br>    \"learning_rate\": 0.00012209259631005412<br>  }<br>}",
          "{<br>  \"number\": 90,<br>  \"values\": [<br>    0.001267549290534437,<br>    0.4235082247366586<br>  ],<br>  \"params\": {<br>    \"learning_rate\": 0.001267549290534437<br>  }<br>}",
          "{<br>  \"number\": 91,<br>  \"values\": [<br>    0.004363976487357013,<br>    0.5087369170754972<br>  ],<br>  \"params\": {<br>    \"learning_rate\": 0.004363976487357013<br>  }<br>}",
          "{<br>  \"number\": 92,<br>  \"values\": [<br>    0.017485462659550834,<br>    0.722280452051524<br>  ],<br>  \"params\": {<br>    \"learning_rate\": 0.017485462659550834<br>  }<br>}",
          "{<br>  \"number\": 93,<br>  \"values\": [<br>    0.44828056389247145,<br>    0.7116760995541701<br>  ],<br>  \"params\": {<br>    \"learning_rate\": 0.44828056389247145<br>  }<br>}",
          "{<br>  \"number\": 94,<br>  \"values\": [<br>    0.08277845673611592,<br>    0.7314187112500111<br>  ],<br>  \"params\": {<br>    \"learning_rate\": 0.08277845673611592<br>  }<br>}",
          "{<br>  \"number\": 95,<br>  \"values\": [<br>    0.0003291311959625348,<br>    0.4235082247366586<br>  ],<br>  \"params\": {<br>    \"learning_rate\": 0.0003291311959625348<br>  }<br>}",
          "{<br>  \"number\": 96,<br>  \"values\": [<br>    0.00022868118733042252,<br>    0.4235082247366586<br>  ],<br>  \"params\": {<br>    \"learning_rate\": 0.00022868118733042252<br>  }<br>}",
          "{<br>  \"number\": 97,<br>  \"values\": [<br>    0.18286145837300968,<br>    0.7262427071035374<br>  ],<br>  \"params\": {<br>    \"learning_rate\": 0.18286145837300968<br>  }<br>}",
          "{<br>  \"number\": 98,<br>  \"values\": [<br>    0.06941692989749879,<br>    0.7295385067809874<br>  ],<br>  \"params\": {<br>    \"learning_rate\": 0.06941692989749879<br>  }<br>}",
          "{<br>  \"number\": 99,<br>  \"values\": [<br>    0.19305171220017311,<br>    0.7262367052555226<br>  ],<br>  \"params\": {<br>    \"learning_rate\": 0.19305171220017311<br>  }<br>}"
         ],
         "type": "scatter",
         "x": [
          0.018276625572235056,
          0.012281350875017864,
          0.3179931543219117,
          0.010097499163932589,
          0.0010284892903758126,
          0.0008073623310050534,
          0.009446892389275133,
          0.042129982546996285,
          0.006234336282154794,
          0.0014213907266344855,
          0.0074818711669891215,
          0.0012664149179400209,
          0.01538041330688695,
          0.018396986660930648,
          0.0030415201353781317,
          0.34679130964813293,
          0.0016185106184141472,
          0.09977031400739048,
          0.00015692458115144144,
          0.0014637099340279343,
          0.237542460048024,
          0.039216586476540555,
          0.04413193652148863,
          0.0006332697167843045,
          0.036619413830782564,
          0.03610204856200786,
          0.0021961450728918896,
          0.012193586140043794,
          0.00017918412416240907,
          0.014133500358080071,
          0.04852382290869409,
          0.040201201662143485,
          0.0011776265316570207,
          0.026396073829949854,
          0.19287363423507076,
          0.06950786503628438,
          0.0013182070434705978,
          0.0001689170415983065,
          0.0021018530965500105,
          0.00019287163151974652,
          0.1714187324525616,
          0.028218912249716382,
          0.00037469787058577405,
          0.016517619384449466,
          0.01075645544167512,
          0.0013300668001608705,
          0.009234620597188305,
          0.030789337644333142,
          0.0005196761744466342,
          0.023714036796718886,
          0.042951701452191404,
          0.0031088442966744653,
          0.0004014235312843208,
          0.005578035829630357,
          0.0001592544431367279,
          0.0807232375319011,
          0.04159311590472715,
          0.0007829813261500128,
          0.0005327862205087224,
          0.011004042996587247,
          0.012096495400321669,
          0.07830377287729806,
          0.0020289312962674306,
          0.007003614272196497,
          0.026811861365256547,
          0.0014534431094221844,
          0.07184266906020101,
          0.20138173825410338,
          0.01956656266919498,
          0.005251844487229045,
          0.0007975269741962664,
          0.0005538907493946157,
          0.0835122016432078,
          0.0006260697703589752,
          0.004544231657855253,
          0.00012209259631005412,
          0.001267549290534437,
          0.004363976487357013,
          0.017485462659550834,
          0.44828056389247145,
          0.08277845673611592,
          0.0003291311959625348,
          0.00022868118733042252,
          0.18286145837300968,
          0.06941692989749879,
          0.19305171220017311
         ],
         "y": [
          0.7229728382357858,
          0.713129498994182,
          0.7181352358216049,
          0.689595604293249,
          0.4235082247366586,
          0.4235082247366586,
          0.6841554205738356,
          0.7318679125094985,
          0.6372047388051083,
          0.4235082247366586,
          0.6643619268828908,
          0.4235082247366586,
          0.7173796023919852,
          0.7227368738811438,
          0.4235082247366586,
          0.7165372792236238,
          0.4235082247366586,
          0.7302018596960369,
          0.4235082247366586,
          0.4235082247366586,
          0.7216310177763523,
          0.7301579035907364,
          0.7292176187667853,
          0.4235082247366586,
          0.7302184406320554,
          0.7304328067409969,
          0.4235082247366586,
          0.7120523440790167,
          0.4235082247366586,
          0.7167142851538554,
          0.7310333204595433,
          0.7306614283099379,
          0.4235082247366586,
          0.7294521208392316,
          0.7259236143539816,
          0.7323174432397132,
          0.4235082247366586,
          0.4235082247366586,
          0.4235082247366586,
          0.4235082247366586,
          0.7274564562489783,
          0.7285799931977797,
          0.4235082247366586,
          0.7201909680929806,
          0.6983807551597365,
          0.4235082247366586,
          0.6815820697212852,
          0.7297299658845593,
          0.4235082247366586,
          0.7259369472766212,
          0.7302474855948291,
          0.4235082247366586,
          0.4235082247366586,
          0.6170142717941252,
          0.4235082247366586,
          0.7309408871913655,
          0.7313584050417112,
          0.4235082247366586,
          0.4235082247366586,
          0.7013991059388606,
          0.7112448137800941,
          0.7306338561389435,
          0.4235082247366586,
          0.653715322076985,
          0.7281393119846103,
          0.4235082247366586,
          0.7318954915835494,
          0.7278080193179831,
          0.7259187426802697,
          0.6024609734794308,
          0.4235082247366586,
          0.4235082247366586,
          0.7321890615843162,
          0.4235082247366586,
          0.5343888745179519,
          0.4235082247366586,
          0.4235082247366586,
          0.5087369170754972,
          0.722280452051524,
          0.7116760995541701,
          0.7314187112500111,
          0.4235082247366586,
          0.4235082247366586,
          0.7262427071035374,
          0.7295385067809874,
          0.7262367052555226
         ]
        },
        {
         "hovertemplate": "%{text}<extra>Best Trial</extra>",
         "marker": {
          "color": [
           3,
           12,
           14,
           24,
           27,
           29,
           30,
           35,
           43,
           53,
           59,
           62,
           68,
           87
          ],
          "colorbar": {
           "title": {
            "text": "Best Trial"
           },
           "x": 1.1,
           "xpad": 40
          },
          "colorscale": [
           [
            0,
            "rgb(255,245,240)"
           ],
           [
            0.125,
            "rgb(254,224,210)"
           ],
           [
            0.25,
            "rgb(252,187,161)"
           ],
           [
            0.375,
            "rgb(252,146,114)"
           ],
           [
            0.5,
            "rgb(251,106,74)"
           ],
           [
            0.625,
            "rgb(239,59,44)"
           ],
           [
            0.75,
            "rgb(203,24,29)"
           ],
           [
            0.875,
            "rgb(165,15,21)"
           ],
           [
            1,
            "rgb(103,0,13)"
           ]
          ],
          "line": {
           "color": "Grey",
           "width": 0.5
          }
         },
         "mode": "markers",
         "showlegend": false,
         "text": [
          "{<br>  \"number\": 3,<br>  \"values\": [<br>    0.3317048028124761,<br>    0.7182462105095208<br>  ],<br>  \"params\": {<br>    \"learning_rate\": 0.3317048028124761<br>  }<br>}",
          "{<br>  \"number\": 12,<br>  \"values\": [<br>    0.1148404311838305,<br>    0.7321994102159477<br>  ],<br>  \"params\": {<br>    \"learning_rate\": 0.1148404311838305<br>  }<br>}",
          "{<br>  \"number\": 14,<br>  \"values\": [<br>    0.05307222954482612,<br>    0.7336139976808754<br>  ],<br>  \"params\": {<br>    \"learning_rate\": 0.05307222954482612<br>  }<br>}",
          "{<br>  \"number\": 24,<br>  \"values\": [<br>    0.24410089728809634,<br>    0.7254004209977449<br>  ],<br>  \"params\": {<br>    \"learning_rate\": 0.24410089728809634<br>  }<br>}",
          "{<br>  \"number\": 27,<br>  \"values\": [<br>    0.12844461011742844,<br>    0.7321027124572879<br>  ],<br>  \"params\": {<br>    \"learning_rate\": 0.12844461011742844<br>  }<br>}",
          "{<br>  \"number\": 29,<br>  \"values\": [<br>    0.4498243389528799,<br>    0.7180387023655493<br>  ],<br>  \"params\": {<br>    \"learning_rate\": 0.4498243389528799<br>  }<br>}",
          "{<br>  \"number\": 30,<br>  \"values\": [<br>    0.28825962026286955,<br>    0.7220137309076756<br>  ],<br>  \"params\": {<br>    \"learning_rate\": 0.28825962026286955<br>  }<br>}",
          "{<br>  \"number\": 35,<br>  \"values\": [<br>    0.19630258423899116,<br>    0.7290264275839735<br>  ],<br>  \"params\": {<br>    \"learning_rate\": 0.19630258423899116<br>  }<br>}",
          "{<br>  \"number\": 43,<br>  \"values\": [<br>    0.07377836783758575,<br>    0.7335097300380633<br>  ],<br>  \"params\": {<br>    \"learning_rate\": 0.07377836783758575<br>  }<br>}",
          "{<br>  \"number\": 53,<br>  \"values\": [<br>    0.4796291220454122,<br>    0.7120415606860494<br>  ],<br>  \"params\": {<br>    \"learning_rate\": 0.4796291220454122<br>  }<br>}",
          "{<br>  \"number\": 59,<br>  \"values\": [<br>    0.21454254531144426,<br>    0.7279770709345865<br>  ],<br>  \"params\": {<br>    \"learning_rate\": 0.21454254531144426<br>  }<br>}",
          "{<br>  \"number\": 62,<br>  \"values\": [<br>    0.30521179006815724,<br>    0.7193743184471776<br>  ],<br>  \"params\": {<br>    \"learning_rate\": 0.30521179006815724<br>  }<br>}",
          "{<br>  \"number\": 68,<br>  \"values\": [<br>    0.16799292006264588,<br>    0.7309842390105754<br>  ],<br>  \"params\": {<br>    \"learning_rate\": 0.16799292006264588<br>  }<br>}",
          "{<br>  \"number\": 87,<br>  \"values\": [<br>    0.11742527067046299,<br>    0.7321944783582703<br>  ],<br>  \"params\": {<br>    \"learning_rate\": 0.11742527067046299<br>  }<br>}"
         ],
         "type": "scatter",
         "x": [
          0.3317048028124761,
          0.1148404311838305,
          0.05307222954482612,
          0.24410089728809634,
          0.12844461011742844,
          0.4498243389528799,
          0.28825962026286955,
          0.19630258423899116,
          0.07377836783758575,
          0.4796291220454122,
          0.21454254531144426,
          0.30521179006815724,
          0.16799292006264588,
          0.11742527067046299
         ],
         "y": [
          0.7182462105095208,
          0.7321994102159477,
          0.7336139976808754,
          0.7254004209977449,
          0.7321027124572879,
          0.7180387023655493,
          0.7220137309076756,
          0.7290264275839735,
          0.7335097300380633,
          0.7120415606860494,
          0.7279770709345865,
          0.7193743184471776,
          0.7309842390105754,
          0.7321944783582703
         ]
        }
       ],
       "layout": {
        "template": {
         "data": {
          "bar": [
           {
            "error_x": {
             "color": "#2a3f5f"
            },
            "error_y": {
             "color": "#2a3f5f"
            },
            "marker": {
             "line": {
              "color": "#E5ECF6",
              "width": 0.5
             },
             "pattern": {
              "fillmode": "overlay",
              "size": 10,
              "solidity": 0.2
             }
            },
            "type": "bar"
           }
          ],
          "barpolar": [
           {
            "marker": {
             "line": {
              "color": "#E5ECF6",
              "width": 0.5
             },
             "pattern": {
              "fillmode": "overlay",
              "size": 10,
              "solidity": 0.2
             }
            },
            "type": "barpolar"
           }
          ],
          "carpet": [
           {
            "aaxis": {
             "endlinecolor": "#2a3f5f",
             "gridcolor": "white",
             "linecolor": "white",
             "minorgridcolor": "white",
             "startlinecolor": "#2a3f5f"
            },
            "baxis": {
             "endlinecolor": "#2a3f5f",
             "gridcolor": "white",
             "linecolor": "white",
             "minorgridcolor": "white",
             "startlinecolor": "#2a3f5f"
            },
            "type": "carpet"
           }
          ],
          "choropleth": [
           {
            "colorbar": {
             "outlinewidth": 0,
             "ticks": ""
            },
            "type": "choropleth"
           }
          ],
          "contour": [
           {
            "colorbar": {
             "outlinewidth": 0,
             "ticks": ""
            },
            "colorscale": [
             [
              0,
              "#0d0887"
             ],
             [
              0.1111111111111111,
              "#46039f"
             ],
             [
              0.2222222222222222,
              "#7201a8"
             ],
             [
              0.3333333333333333,
              "#9c179e"
             ],
             [
              0.4444444444444444,
              "#bd3786"
             ],
             [
              0.5555555555555556,
              "#d8576b"
             ],
             [
              0.6666666666666666,
              "#ed7953"
             ],
             [
              0.7777777777777778,
              "#fb9f3a"
             ],
             [
              0.8888888888888888,
              "#fdca26"
             ],
             [
              1,
              "#f0f921"
             ]
            ],
            "type": "contour"
           }
          ],
          "contourcarpet": [
           {
            "colorbar": {
             "outlinewidth": 0,
             "ticks": ""
            },
            "type": "contourcarpet"
           }
          ],
          "heatmap": [
           {
            "colorbar": {
             "outlinewidth": 0,
             "ticks": ""
            },
            "colorscale": [
             [
              0,
              "#0d0887"
             ],
             [
              0.1111111111111111,
              "#46039f"
             ],
             [
              0.2222222222222222,
              "#7201a8"
             ],
             [
              0.3333333333333333,
              "#9c179e"
             ],
             [
              0.4444444444444444,
              "#bd3786"
             ],
             [
              0.5555555555555556,
              "#d8576b"
             ],
             [
              0.6666666666666666,
              "#ed7953"
             ],
             [
              0.7777777777777778,
              "#fb9f3a"
             ],
             [
              0.8888888888888888,
              "#fdca26"
             ],
             [
              1,
              "#f0f921"
             ]
            ],
            "type": "heatmap"
           }
          ],
          "heatmapgl": [
           {
            "colorbar": {
             "outlinewidth": 0,
             "ticks": ""
            },
            "colorscale": [
             [
              0,
              "#0d0887"
             ],
             [
              0.1111111111111111,
              "#46039f"
             ],
             [
              0.2222222222222222,
              "#7201a8"
             ],
             [
              0.3333333333333333,
              "#9c179e"
             ],
             [
              0.4444444444444444,
              "#bd3786"
             ],
             [
              0.5555555555555556,
              "#d8576b"
             ],
             [
              0.6666666666666666,
              "#ed7953"
             ],
             [
              0.7777777777777778,
              "#fb9f3a"
             ],
             [
              0.8888888888888888,
              "#fdca26"
             ],
             [
              1,
              "#f0f921"
             ]
            ],
            "type": "heatmapgl"
           }
          ],
          "histogram": [
           {
            "marker": {
             "pattern": {
              "fillmode": "overlay",
              "size": 10,
              "solidity": 0.2
             }
            },
            "type": "histogram"
           }
          ],
          "histogram2d": [
           {
            "colorbar": {
             "outlinewidth": 0,
             "ticks": ""
            },
            "colorscale": [
             [
              0,
              "#0d0887"
             ],
             [
              0.1111111111111111,
              "#46039f"
             ],
             [
              0.2222222222222222,
              "#7201a8"
             ],
             [
              0.3333333333333333,
              "#9c179e"
             ],
             [
              0.4444444444444444,
              "#bd3786"
             ],
             [
              0.5555555555555556,
              "#d8576b"
             ],
             [
              0.6666666666666666,
              "#ed7953"
             ],
             [
              0.7777777777777778,
              "#fb9f3a"
             ],
             [
              0.8888888888888888,
              "#fdca26"
             ],
             [
              1,
              "#f0f921"
             ]
            ],
            "type": "histogram2d"
           }
          ],
          "histogram2dcontour": [
           {
            "colorbar": {
             "outlinewidth": 0,
             "ticks": ""
            },
            "colorscale": [
             [
              0,
              "#0d0887"
             ],
             [
              0.1111111111111111,
              "#46039f"
             ],
             [
              0.2222222222222222,
              "#7201a8"
             ],
             [
              0.3333333333333333,
              "#9c179e"
             ],
             [
              0.4444444444444444,
              "#bd3786"
             ],
             [
              0.5555555555555556,
              "#d8576b"
             ],
             [
              0.6666666666666666,
              "#ed7953"
             ],
             [
              0.7777777777777778,
              "#fb9f3a"
             ],
             [
              0.8888888888888888,
              "#fdca26"
             ],
             [
              1,
              "#f0f921"
             ]
            ],
            "type": "histogram2dcontour"
           }
          ],
          "mesh3d": [
           {
            "colorbar": {
             "outlinewidth": 0,
             "ticks": ""
            },
            "type": "mesh3d"
           }
          ],
          "parcoords": [
           {
            "line": {
             "colorbar": {
              "outlinewidth": 0,
              "ticks": ""
             }
            },
            "type": "parcoords"
           }
          ],
          "pie": [
           {
            "automargin": true,
            "type": "pie"
           }
          ],
          "scatter": [
           {
            "fillpattern": {
             "fillmode": "overlay",
             "size": 10,
             "solidity": 0.2
            },
            "type": "scatter"
           }
          ],
          "scatter3d": [
           {
            "line": {
             "colorbar": {
              "outlinewidth": 0,
              "ticks": ""
             }
            },
            "marker": {
             "colorbar": {
              "outlinewidth": 0,
              "ticks": ""
             }
            },
            "type": "scatter3d"
           }
          ],
          "scattercarpet": [
           {
            "marker": {
             "colorbar": {
              "outlinewidth": 0,
              "ticks": ""
             }
            },
            "type": "scattercarpet"
           }
          ],
          "scattergeo": [
           {
            "marker": {
             "colorbar": {
              "outlinewidth": 0,
              "ticks": ""
             }
            },
            "type": "scattergeo"
           }
          ],
          "scattergl": [
           {
            "marker": {
             "colorbar": {
              "outlinewidth": 0,
              "ticks": ""
             }
            },
            "type": "scattergl"
           }
          ],
          "scattermapbox": [
           {
            "marker": {
             "colorbar": {
              "outlinewidth": 0,
              "ticks": ""
             }
            },
            "type": "scattermapbox"
           }
          ],
          "scatterpolar": [
           {
            "marker": {
             "colorbar": {
              "outlinewidth": 0,
              "ticks": ""
             }
            },
            "type": "scatterpolar"
           }
          ],
          "scatterpolargl": [
           {
            "marker": {
             "colorbar": {
              "outlinewidth": 0,
              "ticks": ""
             }
            },
            "type": "scatterpolargl"
           }
          ],
          "scatterternary": [
           {
            "marker": {
             "colorbar": {
              "outlinewidth": 0,
              "ticks": ""
             }
            },
            "type": "scatterternary"
           }
          ],
          "surface": [
           {
            "colorbar": {
             "outlinewidth": 0,
             "ticks": ""
            },
            "colorscale": [
             [
              0,
              "#0d0887"
             ],
             [
              0.1111111111111111,
              "#46039f"
             ],
             [
              0.2222222222222222,
              "#7201a8"
             ],
             [
              0.3333333333333333,
              "#9c179e"
             ],
             [
              0.4444444444444444,
              "#bd3786"
             ],
             [
              0.5555555555555556,
              "#d8576b"
             ],
             [
              0.6666666666666666,
              "#ed7953"
             ],
             [
              0.7777777777777778,
              "#fb9f3a"
             ],
             [
              0.8888888888888888,
              "#fdca26"
             ],
             [
              1,
              "#f0f921"
             ]
            ],
            "type": "surface"
           }
          ],
          "table": [
           {
            "cells": {
             "fill": {
              "color": "#EBF0F8"
             },
             "line": {
              "color": "white"
             }
            },
            "header": {
             "fill": {
              "color": "#C8D4E3"
             },
             "line": {
              "color": "white"
             }
            },
            "type": "table"
           }
          ]
         },
         "layout": {
          "annotationdefaults": {
           "arrowcolor": "#2a3f5f",
           "arrowhead": 0,
           "arrowwidth": 1
          },
          "autotypenumbers": "strict",
          "coloraxis": {
           "colorbar": {
            "outlinewidth": 0,
            "ticks": ""
           }
          },
          "colorscale": {
           "diverging": [
            [
             0,
             "#8e0152"
            ],
            [
             0.1,
             "#c51b7d"
            ],
            [
             0.2,
             "#de77ae"
            ],
            [
             0.3,
             "#f1b6da"
            ],
            [
             0.4,
             "#fde0ef"
            ],
            [
             0.5,
             "#f7f7f7"
            ],
            [
             0.6,
             "#e6f5d0"
            ],
            [
             0.7,
             "#b8e186"
            ],
            [
             0.8,
             "#7fbc41"
            ],
            [
             0.9,
             "#4d9221"
            ],
            [
             1,
             "#276419"
            ]
           ],
           "sequential": [
            [
             0,
             "#0d0887"
            ],
            [
             0.1111111111111111,
             "#46039f"
            ],
            [
             0.2222222222222222,
             "#7201a8"
            ],
            [
             0.3333333333333333,
             "#9c179e"
            ],
            [
             0.4444444444444444,
             "#bd3786"
            ],
            [
             0.5555555555555556,
             "#d8576b"
            ],
            [
             0.6666666666666666,
             "#ed7953"
            ],
            [
             0.7777777777777778,
             "#fb9f3a"
            ],
            [
             0.8888888888888888,
             "#fdca26"
            ],
            [
             1,
             "#f0f921"
            ]
           ],
           "sequentialminus": [
            [
             0,
             "#0d0887"
            ],
            [
             0.1111111111111111,
             "#46039f"
            ],
            [
             0.2222222222222222,
             "#7201a8"
            ],
            [
             0.3333333333333333,
             "#9c179e"
            ],
            [
             0.4444444444444444,
             "#bd3786"
            ],
            [
             0.5555555555555556,
             "#d8576b"
            ],
            [
             0.6666666666666666,
             "#ed7953"
            ],
            [
             0.7777777777777778,
             "#fb9f3a"
            ],
            [
             0.8888888888888888,
             "#fdca26"
            ],
            [
             1,
             "#f0f921"
            ]
           ]
          },
          "colorway": [
           "#636efa",
           "#EF553B",
           "#00cc96",
           "#ab63fa",
           "#FFA15A",
           "#19d3f3",
           "#FF6692",
           "#B6E880",
           "#FF97FF",
           "#FECB52"
          ],
          "font": {
           "color": "#2a3f5f"
          },
          "geo": {
           "bgcolor": "white",
           "lakecolor": "white",
           "landcolor": "#E5ECF6",
           "showlakes": true,
           "showland": true,
           "subunitcolor": "white"
          },
          "hoverlabel": {
           "align": "left"
          },
          "hovermode": "closest",
          "mapbox": {
           "style": "light"
          },
          "paper_bgcolor": "white",
          "plot_bgcolor": "#E5ECF6",
          "polar": {
           "angularaxis": {
            "gridcolor": "white",
            "linecolor": "white",
            "ticks": ""
           },
           "bgcolor": "#E5ECF6",
           "radialaxis": {
            "gridcolor": "white",
            "linecolor": "white",
            "ticks": ""
           }
          },
          "scene": {
           "xaxis": {
            "backgroundcolor": "#E5ECF6",
            "gridcolor": "white",
            "gridwidth": 2,
            "linecolor": "white",
            "showbackground": true,
            "ticks": "",
            "zerolinecolor": "white"
           },
           "yaxis": {
            "backgroundcolor": "#E5ECF6",
            "gridcolor": "white",
            "gridwidth": 2,
            "linecolor": "white",
            "showbackground": true,
            "ticks": "",
            "zerolinecolor": "white"
           },
           "zaxis": {
            "backgroundcolor": "#E5ECF6",
            "gridcolor": "white",
            "gridwidth": 2,
            "linecolor": "white",
            "showbackground": true,
            "ticks": "",
            "zerolinecolor": "white"
           }
          },
          "shapedefaults": {
           "line": {
            "color": "#2a3f5f"
           }
          },
          "ternary": {
           "aaxis": {
            "gridcolor": "white",
            "linecolor": "white",
            "ticks": ""
           },
           "baxis": {
            "gridcolor": "white",
            "linecolor": "white",
            "ticks": ""
           },
           "bgcolor": "#E5ECF6",
           "caxis": {
            "gridcolor": "white",
            "linecolor": "white",
            "ticks": ""
           }
          },
          "title": {
           "x": 0.05
          },
          "xaxis": {
           "automargin": true,
           "gridcolor": "white",
           "linecolor": "white",
           "ticks": "",
           "title": {
            "standoff": 15
           },
           "zerolinecolor": "white",
           "zerolinewidth": 2
          },
          "yaxis": {
           "automargin": true,
           "gridcolor": "white",
           "linecolor": "white",
           "ticks": "",
           "title": {
            "standoff": 15
           },
           "zerolinecolor": "white",
           "zerolinewidth": 2
          }
         }
        },
        "title": {
         "text": "Pareto-front Plot"
        },
        "xaxis": {
         "title": {
          "text": "learning_rate"
         }
        },
        "yaxis": {
         "title": {
          "text": "f1"
         }
        }
       }
      },
      "text/html": [
       "<div>                            <div id=\"f5c97c6e-db5a-4ff5-9b09-b323a292b954\" class=\"plotly-graph-div\" style=\"height:525px; width:100%;\"></div>            <script type=\"text/javascript\">                require([\"plotly\"], function(Plotly) {                    window.PLOTLYENV=window.PLOTLYENV || {};                                    if (document.getElementById(\"f5c97c6e-db5a-4ff5-9b09-b323a292b954\")) {                    Plotly.newPlot(                        \"f5c97c6e-db5a-4ff5-9b09-b323a292b954\",                        [{\"hovertemplate\":\"%{text}<extra>Trial</extra>\",\"marker\":{\"color\":[0,1,2,4,5,6,7,8,9,10,11,13,15,16,17,18,19,20,21,22,23,25,26,28,31,32,33,34,36,37,38,39,40,41,42,44,45,46,47,48,49,50,51,52,54,55,56,57,58,60,61,63,64,65,66,67,69,70,71,72,73,74,75,76,77,78,79,80,81,82,83,84,85,86,88,89,90,91,92,93,94,95,96,97,98,99],\"colorbar\":{\"title\":{\"text\":\"Trial\"}},\"colorscale\":[[0.0,\"rgb(247,251,255)\"],[0.125,\"rgb(222,235,247)\"],[0.25,\"rgb(198,219,239)\"],[0.375,\"rgb(158,202,225)\"],[0.5,\"rgb(107,174,214)\"],[0.625,\"rgb(66,146,198)\"],[0.75,\"rgb(33,113,181)\"],[0.875,\"rgb(8,81,156)\"],[1.0,\"rgb(8,48,107)\"]],\"line\":{\"color\":\"Grey\",\"width\":0.5}},\"mode\":\"markers\",\"showlegend\":false,\"text\":[\"{<br>  \\\"number\\\": 0,<br>  \\\"values\\\": [<br>    0.018276625572235056,<br>    0.7229728382357858<br>  ],<br>  \\\"params\\\": {<br>    \\\"learning_rate\\\": 0.018276625572235056<br>  }<br>}\",\"{<br>  \\\"number\\\": 1,<br>  \\\"values\\\": [<br>    0.012281350875017864,<br>    0.713129498994182<br>  ],<br>  \\\"params\\\": {<br>    \\\"learning_rate\\\": 0.012281350875017864<br>  }<br>}\",\"{<br>  \\\"number\\\": 2,<br>  \\\"values\\\": [<br>    0.3179931543219117,<br>    0.7181352358216049<br>  ],<br>  \\\"params\\\": {<br>    \\\"learning_rate\\\": 0.3179931543219117<br>  }<br>}\",\"{<br>  \\\"number\\\": 4,<br>  \\\"values\\\": [<br>    0.010097499163932589,<br>    0.689595604293249<br>  ],<br>  \\\"params\\\": {<br>    \\\"learning_rate\\\": 0.010097499163932589<br>  }<br>}\",\"{<br>  \\\"number\\\": 5,<br>  \\\"values\\\": [<br>    0.0010284892903758126,<br>    0.4235082247366586<br>  ],<br>  \\\"params\\\": {<br>    \\\"learning_rate\\\": 0.0010284892903758126<br>  }<br>}\",\"{<br>  \\\"number\\\": 6,<br>  \\\"values\\\": [<br>    0.0008073623310050534,<br>    0.4235082247366586<br>  ],<br>  \\\"params\\\": {<br>    \\\"learning_rate\\\": 0.0008073623310050534<br>  }<br>}\",\"{<br>  \\\"number\\\": 7,<br>  \\\"values\\\": [<br>    0.009446892389275133,<br>    0.6841554205738356<br>  ],<br>  \\\"params\\\": {<br>    \\\"learning_rate\\\": 0.009446892389275133<br>  }<br>}\",\"{<br>  \\\"number\\\": 8,<br>  \\\"values\\\": [<br>    0.042129982546996285,<br>    0.7318679125094985<br>  ],<br>  \\\"params\\\": {<br>    \\\"learning_rate\\\": 0.042129982546996285<br>  }<br>}\",\"{<br>  \\\"number\\\": 9,<br>  \\\"values\\\": [<br>    0.006234336282154794,<br>    0.6372047388051083<br>  ],<br>  \\\"params\\\": {<br>    \\\"learning_rate\\\": 0.006234336282154794<br>  }<br>}\",\"{<br>  \\\"number\\\": 10,<br>  \\\"values\\\": [<br>    0.0014213907266344855,<br>    0.4235082247366586<br>  ],<br>  \\\"params\\\": {<br>    \\\"learning_rate\\\": 0.0014213907266344855<br>  }<br>}\",\"{<br>  \\\"number\\\": 11,<br>  \\\"values\\\": [<br>    0.0074818711669891215,<br>    0.6643619268828908<br>  ],<br>  \\\"params\\\": {<br>    \\\"learning_rate\\\": 0.0074818711669891215<br>  }<br>}\",\"{<br>  \\\"number\\\": 13,<br>  \\\"values\\\": [<br>    0.0012664149179400209,<br>    0.4235082247366586<br>  ],<br>  \\\"params\\\": {<br>    \\\"learning_rate\\\": 0.0012664149179400209<br>  }<br>}\",\"{<br>  \\\"number\\\": 15,<br>  \\\"values\\\": [<br>    0.01538041330688695,<br>    0.7173796023919852<br>  ],<br>  \\\"params\\\": {<br>    \\\"learning_rate\\\": 0.01538041330688695<br>  }<br>}\",\"{<br>  \\\"number\\\": 16,<br>  \\\"values\\\": [<br>    0.018396986660930648,<br>    0.7227368738811438<br>  ],<br>  \\\"params\\\": {<br>    \\\"learning_rate\\\": 0.018396986660930648<br>  }<br>}\",\"{<br>  \\\"number\\\": 17,<br>  \\\"values\\\": [<br>    0.0030415201353781317,<br>    0.4235082247366586<br>  ],<br>  \\\"params\\\": {<br>    \\\"learning_rate\\\": 0.0030415201353781317<br>  }<br>}\",\"{<br>  \\\"number\\\": 18,<br>  \\\"values\\\": [<br>    0.34679130964813293,<br>    0.7165372792236238<br>  ],<br>  \\\"params\\\": {<br>    \\\"learning_rate\\\": 0.34679130964813293<br>  }<br>}\",\"{<br>  \\\"number\\\": 19,<br>  \\\"values\\\": [<br>    0.0016185106184141472,<br>    0.4235082247366586<br>  ],<br>  \\\"params\\\": {<br>    \\\"learning_rate\\\": 0.0016185106184141472<br>  }<br>}\",\"{<br>  \\\"number\\\": 20,<br>  \\\"values\\\": [<br>    0.09977031400739048,<br>    0.7302018596960369<br>  ],<br>  \\\"params\\\": {<br>    \\\"learning_rate\\\": 0.09977031400739048<br>  }<br>}\",\"{<br>  \\\"number\\\": 21,<br>  \\\"values\\\": [<br>    0.00015692458115144144,<br>    0.4235082247366586<br>  ],<br>  \\\"params\\\": {<br>    \\\"learning_rate\\\": 0.00015692458115144144<br>  }<br>}\",\"{<br>  \\\"number\\\": 22,<br>  \\\"values\\\": [<br>    0.0014637099340279343,<br>    0.4235082247366586<br>  ],<br>  \\\"params\\\": {<br>    \\\"learning_rate\\\": 0.0014637099340279343<br>  }<br>}\",\"{<br>  \\\"number\\\": 23,<br>  \\\"values\\\": [<br>    0.237542460048024,<br>    0.7216310177763523<br>  ],<br>  \\\"params\\\": {<br>    \\\"learning_rate\\\": 0.237542460048024<br>  }<br>}\",\"{<br>  \\\"number\\\": 25,<br>  \\\"values\\\": [<br>    0.039216586476540555,<br>    0.7301579035907364<br>  ],<br>  \\\"params\\\": {<br>    \\\"learning_rate\\\": 0.039216586476540555<br>  }<br>}\",\"{<br>  \\\"number\\\": 26,<br>  \\\"values\\\": [<br>    0.04413193652148863,<br>    0.7292176187667853<br>  ],<br>  \\\"params\\\": {<br>    \\\"learning_rate\\\": 0.04413193652148863<br>  }<br>}\",\"{<br>  \\\"number\\\": 28,<br>  \\\"values\\\": [<br>    0.0006332697167843045,<br>    0.4235082247366586<br>  ],<br>  \\\"params\\\": {<br>    \\\"learning_rate\\\": 0.0006332697167843045<br>  }<br>}\",\"{<br>  \\\"number\\\": 31,<br>  \\\"values\\\": [<br>    0.036619413830782564,<br>    0.7302184406320554<br>  ],<br>  \\\"params\\\": {<br>    \\\"learning_rate\\\": 0.036619413830782564<br>  }<br>}\",\"{<br>  \\\"number\\\": 32,<br>  \\\"values\\\": [<br>    0.03610204856200786,<br>    0.7304328067409969<br>  ],<br>  \\\"params\\\": {<br>    \\\"learning_rate\\\": 0.03610204856200786<br>  }<br>}\",\"{<br>  \\\"number\\\": 33,<br>  \\\"values\\\": [<br>    0.0021961450728918896,<br>    0.4235082247366586<br>  ],<br>  \\\"params\\\": {<br>    \\\"learning_rate\\\": 0.0021961450728918896<br>  }<br>}\",\"{<br>  \\\"number\\\": 34,<br>  \\\"values\\\": [<br>    0.012193586140043794,<br>    0.7120523440790167<br>  ],<br>  \\\"params\\\": {<br>    \\\"learning_rate\\\": 0.012193586140043794<br>  }<br>}\",\"{<br>  \\\"number\\\": 36,<br>  \\\"values\\\": [<br>    0.00017918412416240907,<br>    0.4235082247366586<br>  ],<br>  \\\"params\\\": {<br>    \\\"learning_rate\\\": 0.00017918412416240907<br>  }<br>}\",\"{<br>  \\\"number\\\": 37,<br>  \\\"values\\\": [<br>    0.014133500358080071,<br>    0.7167142851538554<br>  ],<br>  \\\"params\\\": {<br>    \\\"learning_rate\\\": 0.014133500358080071<br>  }<br>}\",\"{<br>  \\\"number\\\": 38,<br>  \\\"values\\\": [<br>    0.04852382290869409,<br>    0.7310333204595433<br>  ],<br>  \\\"params\\\": {<br>    \\\"learning_rate\\\": 0.04852382290869409<br>  }<br>}\",\"{<br>  \\\"number\\\": 39,<br>  \\\"values\\\": [<br>    0.040201201662143485,<br>    0.7306614283099379<br>  ],<br>  \\\"params\\\": {<br>    \\\"learning_rate\\\": 0.040201201662143485<br>  }<br>}\",\"{<br>  \\\"number\\\": 40,<br>  \\\"values\\\": [<br>    0.0011776265316570207,<br>    0.4235082247366586<br>  ],<br>  \\\"params\\\": {<br>    \\\"learning_rate\\\": 0.0011776265316570207<br>  }<br>}\",\"{<br>  \\\"number\\\": 41,<br>  \\\"values\\\": [<br>    0.026396073829949854,<br>    0.7294521208392316<br>  ],<br>  \\\"params\\\": {<br>    \\\"learning_rate\\\": 0.026396073829949854<br>  }<br>}\",\"{<br>  \\\"number\\\": 42,<br>  \\\"values\\\": [<br>    0.19287363423507076,<br>    0.7259236143539816<br>  ],<br>  \\\"params\\\": {<br>    \\\"learning_rate\\\": 0.19287363423507076<br>  }<br>}\",\"{<br>  \\\"number\\\": 44,<br>  \\\"values\\\": [<br>    0.06950786503628438,<br>    0.7323174432397132<br>  ],<br>  \\\"params\\\": {<br>    \\\"learning_rate\\\": 0.06950786503628438<br>  }<br>}\",\"{<br>  \\\"number\\\": 45,<br>  \\\"values\\\": [<br>    0.0013182070434705978,<br>    0.4235082247366586<br>  ],<br>  \\\"params\\\": {<br>    \\\"learning_rate\\\": 0.0013182070434705978<br>  }<br>}\",\"{<br>  \\\"number\\\": 46,<br>  \\\"values\\\": [<br>    0.0001689170415983065,<br>    0.4235082247366586<br>  ],<br>  \\\"params\\\": {<br>    \\\"learning_rate\\\": 0.0001689170415983065<br>  }<br>}\",\"{<br>  \\\"number\\\": 47,<br>  \\\"values\\\": [<br>    0.0021018530965500105,<br>    0.4235082247366586<br>  ],<br>  \\\"params\\\": {<br>    \\\"learning_rate\\\": 0.0021018530965500105<br>  }<br>}\",\"{<br>  \\\"number\\\": 48,<br>  \\\"values\\\": [<br>    0.00019287163151974652,<br>    0.4235082247366586<br>  ],<br>  \\\"params\\\": {<br>    \\\"learning_rate\\\": 0.00019287163151974652<br>  }<br>}\",\"{<br>  \\\"number\\\": 49,<br>  \\\"values\\\": [<br>    0.1714187324525616,<br>    0.7274564562489783<br>  ],<br>  \\\"params\\\": {<br>    \\\"learning_rate\\\": 0.1714187324525616<br>  }<br>}\",\"{<br>  \\\"number\\\": 50,<br>  \\\"values\\\": [<br>    0.028218912249716382,<br>    0.7285799931977797<br>  ],<br>  \\\"params\\\": {<br>    \\\"learning_rate\\\": 0.028218912249716382<br>  }<br>}\",\"{<br>  \\\"number\\\": 51,<br>  \\\"values\\\": [<br>    0.00037469787058577405,<br>    0.4235082247366586<br>  ],<br>  \\\"params\\\": {<br>    \\\"learning_rate\\\": 0.00037469787058577405<br>  }<br>}\",\"{<br>  \\\"number\\\": 52,<br>  \\\"values\\\": [<br>    0.016517619384449466,<br>    0.7201909680929806<br>  ],<br>  \\\"params\\\": {<br>    \\\"learning_rate\\\": 0.016517619384449466<br>  }<br>}\",\"{<br>  \\\"number\\\": 54,<br>  \\\"values\\\": [<br>    0.01075645544167512,<br>    0.6983807551597365<br>  ],<br>  \\\"params\\\": {<br>    \\\"learning_rate\\\": 0.01075645544167512<br>  }<br>}\",\"{<br>  \\\"number\\\": 55,<br>  \\\"values\\\": [<br>    0.0013300668001608705,<br>    0.4235082247366586<br>  ],<br>  \\\"params\\\": {<br>    \\\"learning_rate\\\": 0.0013300668001608705<br>  }<br>}\",\"{<br>  \\\"number\\\": 56,<br>  \\\"values\\\": [<br>    0.009234620597188305,<br>    0.6815820697212852<br>  ],<br>  \\\"params\\\": {<br>    \\\"learning_rate\\\": 0.009234620597188305<br>  }<br>}\",\"{<br>  \\\"number\\\": 57,<br>  \\\"values\\\": [<br>    0.030789337644333142,<br>    0.7297299658845593<br>  ],<br>  \\\"params\\\": {<br>    \\\"learning_rate\\\": 0.030789337644333142<br>  }<br>}\",\"{<br>  \\\"number\\\": 58,<br>  \\\"values\\\": [<br>    0.0005196761744466342,<br>    0.4235082247366586<br>  ],<br>  \\\"params\\\": {<br>    \\\"learning_rate\\\": 0.0005196761744466342<br>  }<br>}\",\"{<br>  \\\"number\\\": 60,<br>  \\\"values\\\": [<br>    0.023714036796718886,<br>    0.7259369472766212<br>  ],<br>  \\\"params\\\": {<br>    \\\"learning_rate\\\": 0.023714036796718886<br>  }<br>}\",\"{<br>  \\\"number\\\": 61,<br>  \\\"values\\\": [<br>    0.042951701452191404,<br>    0.7302474855948291<br>  ],<br>  \\\"params\\\": {<br>    \\\"learning_rate\\\": 0.042951701452191404<br>  }<br>}\",\"{<br>  \\\"number\\\": 63,<br>  \\\"values\\\": [<br>    0.0031088442966744653,<br>    0.4235082247366586<br>  ],<br>  \\\"params\\\": {<br>    \\\"learning_rate\\\": 0.0031088442966744653<br>  }<br>}\",\"{<br>  \\\"number\\\": 64,<br>  \\\"values\\\": [<br>    0.0004014235312843208,<br>    0.4235082247366586<br>  ],<br>  \\\"params\\\": {<br>    \\\"learning_rate\\\": 0.0004014235312843208<br>  }<br>}\",\"{<br>  \\\"number\\\": 65,<br>  \\\"values\\\": [<br>    0.005578035829630357,<br>    0.6170142717941252<br>  ],<br>  \\\"params\\\": {<br>    \\\"learning_rate\\\": 0.005578035829630357<br>  }<br>}\",\"{<br>  \\\"number\\\": 66,<br>  \\\"values\\\": [<br>    0.0001592544431367279,<br>    0.4235082247366586<br>  ],<br>  \\\"params\\\": {<br>    \\\"learning_rate\\\": 0.0001592544431367279<br>  }<br>}\",\"{<br>  \\\"number\\\": 67,<br>  \\\"values\\\": [<br>    0.0807232375319011,<br>    0.7309408871913655<br>  ],<br>  \\\"params\\\": {<br>    \\\"learning_rate\\\": 0.0807232375319011<br>  }<br>}\",\"{<br>  \\\"number\\\": 69,<br>  \\\"values\\\": [<br>    0.04159311590472715,<br>    0.7313584050417112<br>  ],<br>  \\\"params\\\": {<br>    \\\"learning_rate\\\": 0.04159311590472715<br>  }<br>}\",\"{<br>  \\\"number\\\": 70,<br>  \\\"values\\\": [<br>    0.0007829813261500128,<br>    0.4235082247366586<br>  ],<br>  \\\"params\\\": {<br>    \\\"learning_rate\\\": 0.0007829813261500128<br>  }<br>}\",\"{<br>  \\\"number\\\": 71,<br>  \\\"values\\\": [<br>    0.0005327862205087224,<br>    0.4235082247366586<br>  ],<br>  \\\"params\\\": {<br>    \\\"learning_rate\\\": 0.0005327862205087224<br>  }<br>}\",\"{<br>  \\\"number\\\": 72,<br>  \\\"values\\\": [<br>    0.011004042996587247,<br>    0.7013991059388606<br>  ],<br>  \\\"params\\\": {<br>    \\\"learning_rate\\\": 0.011004042996587247<br>  }<br>}\",\"{<br>  \\\"number\\\": 73,<br>  \\\"values\\\": [<br>    0.012096495400321669,<br>    0.7112448137800941<br>  ],<br>  \\\"params\\\": {<br>    \\\"learning_rate\\\": 0.012096495400321669<br>  }<br>}\",\"{<br>  \\\"number\\\": 74,<br>  \\\"values\\\": [<br>    0.07830377287729806,<br>    0.7306338561389435<br>  ],<br>  \\\"params\\\": {<br>    \\\"learning_rate\\\": 0.07830377287729806<br>  }<br>}\",\"{<br>  \\\"number\\\": 75,<br>  \\\"values\\\": [<br>    0.0020289312962674306,<br>    0.4235082247366586<br>  ],<br>  \\\"params\\\": {<br>    \\\"learning_rate\\\": 0.0020289312962674306<br>  }<br>}\",\"{<br>  \\\"number\\\": 76,<br>  \\\"values\\\": [<br>    0.007003614272196497,<br>    0.653715322076985<br>  ],<br>  \\\"params\\\": {<br>    \\\"learning_rate\\\": 0.007003614272196497<br>  }<br>}\",\"{<br>  \\\"number\\\": 77,<br>  \\\"values\\\": [<br>    0.026811861365256547,<br>    0.7281393119846103<br>  ],<br>  \\\"params\\\": {<br>    \\\"learning_rate\\\": 0.026811861365256547<br>  }<br>}\",\"{<br>  \\\"number\\\": 78,<br>  \\\"values\\\": [<br>    0.0014534431094221844,<br>    0.4235082247366586<br>  ],<br>  \\\"params\\\": {<br>    \\\"learning_rate\\\": 0.0014534431094221844<br>  }<br>}\",\"{<br>  \\\"number\\\": 79,<br>  \\\"values\\\": [<br>    0.07184266906020101,<br>    0.7318954915835494<br>  ],<br>  \\\"params\\\": {<br>    \\\"learning_rate\\\": 0.07184266906020101<br>  }<br>}\",\"{<br>  \\\"number\\\": 80,<br>  \\\"values\\\": [<br>    0.20138173825410338,<br>    0.7278080193179831<br>  ],<br>  \\\"params\\\": {<br>    \\\"learning_rate\\\": 0.20138173825410338<br>  }<br>}\",\"{<br>  \\\"number\\\": 81,<br>  \\\"values\\\": [<br>    0.01956656266919498,<br>    0.7259187426802697<br>  ],<br>  \\\"params\\\": {<br>    \\\"learning_rate\\\": 0.01956656266919498<br>  }<br>}\",\"{<br>  \\\"number\\\": 82,<br>  \\\"values\\\": [<br>    0.005251844487229045,<br>    0.6024609734794308<br>  ],<br>  \\\"params\\\": {<br>    \\\"learning_rate\\\": 0.005251844487229045<br>  }<br>}\",\"{<br>  \\\"number\\\": 83,<br>  \\\"values\\\": [<br>    0.0007975269741962664,<br>    0.4235082247366586<br>  ],<br>  \\\"params\\\": {<br>    \\\"learning_rate\\\": 0.0007975269741962664<br>  }<br>}\",\"{<br>  \\\"number\\\": 84,<br>  \\\"values\\\": [<br>    0.0005538907493946157,<br>    0.4235082247366586<br>  ],<br>  \\\"params\\\": {<br>    \\\"learning_rate\\\": 0.0005538907493946157<br>  }<br>}\",\"{<br>  \\\"number\\\": 85,<br>  \\\"values\\\": [<br>    0.0835122016432078,<br>    0.7321890615843162<br>  ],<br>  \\\"params\\\": {<br>    \\\"learning_rate\\\": 0.0835122016432078<br>  }<br>}\",\"{<br>  \\\"number\\\": 86,<br>  \\\"values\\\": [<br>    0.0006260697703589752,<br>    0.4235082247366586<br>  ],<br>  \\\"params\\\": {<br>    \\\"learning_rate\\\": 0.0006260697703589752<br>  }<br>}\",\"{<br>  \\\"number\\\": 88,<br>  \\\"values\\\": [<br>    0.004544231657855253,<br>    0.5343888745179519<br>  ],<br>  \\\"params\\\": {<br>    \\\"learning_rate\\\": 0.004544231657855253<br>  }<br>}\",\"{<br>  \\\"number\\\": 89,<br>  \\\"values\\\": [<br>    0.00012209259631005412,<br>    0.4235082247366586<br>  ],<br>  \\\"params\\\": {<br>    \\\"learning_rate\\\": 0.00012209259631005412<br>  }<br>}\",\"{<br>  \\\"number\\\": 90,<br>  \\\"values\\\": [<br>    0.001267549290534437,<br>    0.4235082247366586<br>  ],<br>  \\\"params\\\": {<br>    \\\"learning_rate\\\": 0.001267549290534437<br>  }<br>}\",\"{<br>  \\\"number\\\": 91,<br>  \\\"values\\\": [<br>    0.004363976487357013,<br>    0.5087369170754972<br>  ],<br>  \\\"params\\\": {<br>    \\\"learning_rate\\\": 0.004363976487357013<br>  }<br>}\",\"{<br>  \\\"number\\\": 92,<br>  \\\"values\\\": [<br>    0.017485462659550834,<br>    0.722280452051524<br>  ],<br>  \\\"params\\\": {<br>    \\\"learning_rate\\\": 0.017485462659550834<br>  }<br>}\",\"{<br>  \\\"number\\\": 93,<br>  \\\"values\\\": [<br>    0.44828056389247145,<br>    0.7116760995541701<br>  ],<br>  \\\"params\\\": {<br>    \\\"learning_rate\\\": 0.44828056389247145<br>  }<br>}\",\"{<br>  \\\"number\\\": 94,<br>  \\\"values\\\": [<br>    0.08277845673611592,<br>    0.7314187112500111<br>  ],<br>  \\\"params\\\": {<br>    \\\"learning_rate\\\": 0.08277845673611592<br>  }<br>}\",\"{<br>  \\\"number\\\": 95,<br>  \\\"values\\\": [<br>    0.0003291311959625348,<br>    0.4235082247366586<br>  ],<br>  \\\"params\\\": {<br>    \\\"learning_rate\\\": 0.0003291311959625348<br>  }<br>}\",\"{<br>  \\\"number\\\": 96,<br>  \\\"values\\\": [<br>    0.00022868118733042252,<br>    0.4235082247366586<br>  ],<br>  \\\"params\\\": {<br>    \\\"learning_rate\\\": 0.00022868118733042252<br>  }<br>}\",\"{<br>  \\\"number\\\": 97,<br>  \\\"values\\\": [<br>    0.18286145837300968,<br>    0.7262427071035374<br>  ],<br>  \\\"params\\\": {<br>    \\\"learning_rate\\\": 0.18286145837300968<br>  }<br>}\",\"{<br>  \\\"number\\\": 98,<br>  \\\"values\\\": [<br>    0.06941692989749879,<br>    0.7295385067809874<br>  ],<br>  \\\"params\\\": {<br>    \\\"learning_rate\\\": 0.06941692989749879<br>  }<br>}\",\"{<br>  \\\"number\\\": 99,<br>  \\\"values\\\": [<br>    0.19305171220017311,<br>    0.7262367052555226<br>  ],<br>  \\\"params\\\": {<br>    \\\"learning_rate\\\": 0.19305171220017311<br>  }<br>}\"],\"x\":[0.018276625572235056,0.012281350875017864,0.3179931543219117,0.010097499163932589,0.0010284892903758126,0.0008073623310050534,0.009446892389275133,0.042129982546996285,0.006234336282154794,0.0014213907266344855,0.0074818711669891215,0.0012664149179400209,0.01538041330688695,0.018396986660930648,0.0030415201353781317,0.34679130964813293,0.0016185106184141472,0.09977031400739048,0.00015692458115144144,0.0014637099340279343,0.237542460048024,0.039216586476540555,0.04413193652148863,0.0006332697167843045,0.036619413830782564,0.03610204856200786,0.0021961450728918896,0.012193586140043794,0.00017918412416240907,0.014133500358080071,0.04852382290869409,0.040201201662143485,0.0011776265316570207,0.026396073829949854,0.19287363423507076,0.06950786503628438,0.0013182070434705978,0.0001689170415983065,0.0021018530965500105,0.00019287163151974652,0.1714187324525616,0.028218912249716382,0.00037469787058577405,0.016517619384449466,0.01075645544167512,0.0013300668001608705,0.009234620597188305,0.030789337644333142,0.0005196761744466342,0.023714036796718886,0.042951701452191404,0.0031088442966744653,0.0004014235312843208,0.005578035829630357,0.0001592544431367279,0.0807232375319011,0.04159311590472715,0.0007829813261500128,0.0005327862205087224,0.011004042996587247,0.012096495400321669,0.07830377287729806,0.0020289312962674306,0.007003614272196497,0.026811861365256547,0.0014534431094221844,0.07184266906020101,0.20138173825410338,0.01956656266919498,0.005251844487229045,0.0007975269741962664,0.0005538907493946157,0.0835122016432078,0.0006260697703589752,0.004544231657855253,0.00012209259631005412,0.001267549290534437,0.004363976487357013,0.017485462659550834,0.44828056389247145,0.08277845673611592,0.0003291311959625348,0.00022868118733042252,0.18286145837300968,0.06941692989749879,0.19305171220017311],\"y\":[0.7229728382357858,0.713129498994182,0.7181352358216049,0.689595604293249,0.4235082247366586,0.4235082247366586,0.6841554205738356,0.7318679125094985,0.6372047388051083,0.4235082247366586,0.6643619268828908,0.4235082247366586,0.7173796023919852,0.7227368738811438,0.4235082247366586,0.7165372792236238,0.4235082247366586,0.7302018596960369,0.4235082247366586,0.4235082247366586,0.7216310177763523,0.7301579035907364,0.7292176187667853,0.4235082247366586,0.7302184406320554,0.7304328067409969,0.4235082247366586,0.7120523440790167,0.4235082247366586,0.7167142851538554,0.7310333204595433,0.7306614283099379,0.4235082247366586,0.7294521208392316,0.7259236143539816,0.7323174432397132,0.4235082247366586,0.4235082247366586,0.4235082247366586,0.4235082247366586,0.7274564562489783,0.7285799931977797,0.4235082247366586,0.7201909680929806,0.6983807551597365,0.4235082247366586,0.6815820697212852,0.7297299658845593,0.4235082247366586,0.7259369472766212,0.7302474855948291,0.4235082247366586,0.4235082247366586,0.6170142717941252,0.4235082247366586,0.7309408871913655,0.7313584050417112,0.4235082247366586,0.4235082247366586,0.7013991059388606,0.7112448137800941,0.7306338561389435,0.4235082247366586,0.653715322076985,0.7281393119846103,0.4235082247366586,0.7318954915835494,0.7278080193179831,0.7259187426802697,0.6024609734794308,0.4235082247366586,0.4235082247366586,0.7321890615843162,0.4235082247366586,0.5343888745179519,0.4235082247366586,0.4235082247366586,0.5087369170754972,0.722280452051524,0.7116760995541701,0.7314187112500111,0.4235082247366586,0.4235082247366586,0.7262427071035374,0.7295385067809874,0.7262367052555226],\"type\":\"scatter\"},{\"hovertemplate\":\"%{text}<extra>Best Trial</extra>\",\"marker\":{\"color\":[3,12,14,24,27,29,30,35,43,53,59,62,68,87],\"colorbar\":{\"title\":{\"text\":\"Best Trial\"},\"x\":1.1,\"xpad\":40},\"colorscale\":[[0.0,\"rgb(255,245,240)\"],[0.125,\"rgb(254,224,210)\"],[0.25,\"rgb(252,187,161)\"],[0.375,\"rgb(252,146,114)\"],[0.5,\"rgb(251,106,74)\"],[0.625,\"rgb(239,59,44)\"],[0.75,\"rgb(203,24,29)\"],[0.875,\"rgb(165,15,21)\"],[1.0,\"rgb(103,0,13)\"]],\"line\":{\"color\":\"Grey\",\"width\":0.5}},\"mode\":\"markers\",\"showlegend\":false,\"text\":[\"{<br>  \\\"number\\\": 3,<br>  \\\"values\\\": [<br>    0.3317048028124761,<br>    0.7182462105095208<br>  ],<br>  \\\"params\\\": {<br>    \\\"learning_rate\\\": 0.3317048028124761<br>  }<br>}\",\"{<br>  \\\"number\\\": 12,<br>  \\\"values\\\": [<br>    0.1148404311838305,<br>    0.7321994102159477<br>  ],<br>  \\\"params\\\": {<br>    \\\"learning_rate\\\": 0.1148404311838305<br>  }<br>}\",\"{<br>  \\\"number\\\": 14,<br>  \\\"values\\\": [<br>    0.05307222954482612,<br>    0.7336139976808754<br>  ],<br>  \\\"params\\\": {<br>    \\\"learning_rate\\\": 0.05307222954482612<br>  }<br>}\",\"{<br>  \\\"number\\\": 24,<br>  \\\"values\\\": [<br>    0.24410089728809634,<br>    0.7254004209977449<br>  ],<br>  \\\"params\\\": {<br>    \\\"learning_rate\\\": 0.24410089728809634<br>  }<br>}\",\"{<br>  \\\"number\\\": 27,<br>  \\\"values\\\": [<br>    0.12844461011742844,<br>    0.7321027124572879<br>  ],<br>  \\\"params\\\": {<br>    \\\"learning_rate\\\": 0.12844461011742844<br>  }<br>}\",\"{<br>  \\\"number\\\": 29,<br>  \\\"values\\\": [<br>    0.4498243389528799,<br>    0.7180387023655493<br>  ],<br>  \\\"params\\\": {<br>    \\\"learning_rate\\\": 0.4498243389528799<br>  }<br>}\",\"{<br>  \\\"number\\\": 30,<br>  \\\"values\\\": [<br>    0.28825962026286955,<br>    0.7220137309076756<br>  ],<br>  \\\"params\\\": {<br>    \\\"learning_rate\\\": 0.28825962026286955<br>  }<br>}\",\"{<br>  \\\"number\\\": 35,<br>  \\\"values\\\": [<br>    0.19630258423899116,<br>    0.7290264275839735<br>  ],<br>  \\\"params\\\": {<br>    \\\"learning_rate\\\": 0.19630258423899116<br>  }<br>}\",\"{<br>  \\\"number\\\": 43,<br>  \\\"values\\\": [<br>    0.07377836783758575,<br>    0.7335097300380633<br>  ],<br>  \\\"params\\\": {<br>    \\\"learning_rate\\\": 0.07377836783758575<br>  }<br>}\",\"{<br>  \\\"number\\\": 53,<br>  \\\"values\\\": [<br>    0.4796291220454122,<br>    0.7120415606860494<br>  ],<br>  \\\"params\\\": {<br>    \\\"learning_rate\\\": 0.4796291220454122<br>  }<br>}\",\"{<br>  \\\"number\\\": 59,<br>  \\\"values\\\": [<br>    0.21454254531144426,<br>    0.7279770709345865<br>  ],<br>  \\\"params\\\": {<br>    \\\"learning_rate\\\": 0.21454254531144426<br>  }<br>}\",\"{<br>  \\\"number\\\": 62,<br>  \\\"values\\\": [<br>    0.30521179006815724,<br>    0.7193743184471776<br>  ],<br>  \\\"params\\\": {<br>    \\\"learning_rate\\\": 0.30521179006815724<br>  }<br>}\",\"{<br>  \\\"number\\\": 68,<br>  \\\"values\\\": [<br>    0.16799292006264588,<br>    0.7309842390105754<br>  ],<br>  \\\"params\\\": {<br>    \\\"learning_rate\\\": 0.16799292006264588<br>  }<br>}\",\"{<br>  \\\"number\\\": 87,<br>  \\\"values\\\": [<br>    0.11742527067046299,<br>    0.7321944783582703<br>  ],<br>  \\\"params\\\": {<br>    \\\"learning_rate\\\": 0.11742527067046299<br>  }<br>}\"],\"x\":[0.3317048028124761,0.1148404311838305,0.05307222954482612,0.24410089728809634,0.12844461011742844,0.4498243389528799,0.28825962026286955,0.19630258423899116,0.07377836783758575,0.4796291220454122,0.21454254531144426,0.30521179006815724,0.16799292006264588,0.11742527067046299],\"y\":[0.7182462105095208,0.7321994102159477,0.7336139976808754,0.7254004209977449,0.7321027124572879,0.7180387023655493,0.7220137309076756,0.7290264275839735,0.7335097300380633,0.7120415606860494,0.7279770709345865,0.7193743184471776,0.7309842390105754,0.7321944783582703],\"type\":\"scatter\"}],                        {\"title\":{\"text\":\"Pareto-front Plot\"},\"xaxis\":{\"title\":{\"text\":\"learning_rate\"}},\"yaxis\":{\"title\":{\"text\":\"f1\"}},\"template\":{\"data\":{\"histogram2dcontour\":[{\"type\":\"histogram2dcontour\",\"colorbar\":{\"outlinewidth\":0,\"ticks\":\"\"},\"colorscale\":[[0.0,\"#0d0887\"],[0.1111111111111111,\"#46039f\"],[0.2222222222222222,\"#7201a8\"],[0.3333333333333333,\"#9c179e\"],[0.4444444444444444,\"#bd3786\"],[0.5555555555555556,\"#d8576b\"],[0.6666666666666666,\"#ed7953\"],[0.7777777777777778,\"#fb9f3a\"],[0.8888888888888888,\"#fdca26\"],[1.0,\"#f0f921\"]]}],\"choropleth\":[{\"type\":\"choropleth\",\"colorbar\":{\"outlinewidth\":0,\"ticks\":\"\"}}],\"histogram2d\":[{\"type\":\"histogram2d\",\"colorbar\":{\"outlinewidth\":0,\"ticks\":\"\"},\"colorscale\":[[0.0,\"#0d0887\"],[0.1111111111111111,\"#46039f\"],[0.2222222222222222,\"#7201a8\"],[0.3333333333333333,\"#9c179e\"],[0.4444444444444444,\"#bd3786\"],[0.5555555555555556,\"#d8576b\"],[0.6666666666666666,\"#ed7953\"],[0.7777777777777778,\"#fb9f3a\"],[0.8888888888888888,\"#fdca26\"],[1.0,\"#f0f921\"]]}],\"heatmap\":[{\"type\":\"heatmap\",\"colorbar\":{\"outlinewidth\":0,\"ticks\":\"\"},\"colorscale\":[[0.0,\"#0d0887\"],[0.1111111111111111,\"#46039f\"],[0.2222222222222222,\"#7201a8\"],[0.3333333333333333,\"#9c179e\"],[0.4444444444444444,\"#bd3786\"],[0.5555555555555556,\"#d8576b\"],[0.6666666666666666,\"#ed7953\"],[0.7777777777777778,\"#fb9f3a\"],[0.8888888888888888,\"#fdca26\"],[1.0,\"#f0f921\"]]}],\"heatmapgl\":[{\"type\":\"heatmapgl\",\"colorbar\":{\"outlinewidth\":0,\"ticks\":\"\"},\"colorscale\":[[0.0,\"#0d0887\"],[0.1111111111111111,\"#46039f\"],[0.2222222222222222,\"#7201a8\"],[0.3333333333333333,\"#9c179e\"],[0.4444444444444444,\"#bd3786\"],[0.5555555555555556,\"#d8576b\"],[0.6666666666666666,\"#ed7953\"],[0.7777777777777778,\"#fb9f3a\"],[0.8888888888888888,\"#fdca26\"],[1.0,\"#f0f921\"]]}],\"contourcarpet\":[{\"type\":\"contourcarpet\",\"colorbar\":{\"outlinewidth\":0,\"ticks\":\"\"}}],\"contour\":[{\"type\":\"contour\",\"colorbar\":{\"outlinewidth\":0,\"ticks\":\"\"},\"colorscale\":[[0.0,\"#0d0887\"],[0.1111111111111111,\"#46039f\"],[0.2222222222222222,\"#7201a8\"],[0.3333333333333333,\"#9c179e\"],[0.4444444444444444,\"#bd3786\"],[0.5555555555555556,\"#d8576b\"],[0.6666666666666666,\"#ed7953\"],[0.7777777777777778,\"#fb9f3a\"],[0.8888888888888888,\"#fdca26\"],[1.0,\"#f0f921\"]]}],\"surface\":[{\"type\":\"surface\",\"colorbar\":{\"outlinewidth\":0,\"ticks\":\"\"},\"colorscale\":[[0.0,\"#0d0887\"],[0.1111111111111111,\"#46039f\"],[0.2222222222222222,\"#7201a8\"],[0.3333333333333333,\"#9c179e\"],[0.4444444444444444,\"#bd3786\"],[0.5555555555555556,\"#d8576b\"],[0.6666666666666666,\"#ed7953\"],[0.7777777777777778,\"#fb9f3a\"],[0.8888888888888888,\"#fdca26\"],[1.0,\"#f0f921\"]]}],\"mesh3d\":[{\"type\":\"mesh3d\",\"colorbar\":{\"outlinewidth\":0,\"ticks\":\"\"}}],\"scatter\":[{\"fillpattern\":{\"fillmode\":\"overlay\",\"size\":10,\"solidity\":0.2},\"type\":\"scatter\"}],\"parcoords\":[{\"type\":\"parcoords\",\"line\":{\"colorbar\":{\"outlinewidth\":0,\"ticks\":\"\"}}}],\"scatterpolargl\":[{\"type\":\"scatterpolargl\",\"marker\":{\"colorbar\":{\"outlinewidth\":0,\"ticks\":\"\"}}}],\"bar\":[{\"error_x\":{\"color\":\"#2a3f5f\"},\"error_y\":{\"color\":\"#2a3f5f\"},\"marker\":{\"line\":{\"color\":\"#E5ECF6\",\"width\":0.5},\"pattern\":{\"fillmode\":\"overlay\",\"size\":10,\"solidity\":0.2}},\"type\":\"bar\"}],\"scattergeo\":[{\"type\":\"scattergeo\",\"marker\":{\"colorbar\":{\"outlinewidth\":0,\"ticks\":\"\"}}}],\"scatterpolar\":[{\"type\":\"scatterpolar\",\"marker\":{\"colorbar\":{\"outlinewidth\":0,\"ticks\":\"\"}}}],\"histogram\":[{\"marker\":{\"pattern\":{\"fillmode\":\"overlay\",\"size\":10,\"solidity\":0.2}},\"type\":\"histogram\"}],\"scattergl\":[{\"type\":\"scattergl\",\"marker\":{\"colorbar\":{\"outlinewidth\":0,\"ticks\":\"\"}}}],\"scatter3d\":[{\"type\":\"scatter3d\",\"line\":{\"colorbar\":{\"outlinewidth\":0,\"ticks\":\"\"}},\"marker\":{\"colorbar\":{\"outlinewidth\":0,\"ticks\":\"\"}}}],\"scattermapbox\":[{\"type\":\"scattermapbox\",\"marker\":{\"colorbar\":{\"outlinewidth\":0,\"ticks\":\"\"}}}],\"scatterternary\":[{\"type\":\"scatterternary\",\"marker\":{\"colorbar\":{\"outlinewidth\":0,\"ticks\":\"\"}}}],\"scattercarpet\":[{\"type\":\"scattercarpet\",\"marker\":{\"colorbar\":{\"outlinewidth\":0,\"ticks\":\"\"}}}],\"carpet\":[{\"aaxis\":{\"endlinecolor\":\"#2a3f5f\",\"gridcolor\":\"white\",\"linecolor\":\"white\",\"minorgridcolor\":\"white\",\"startlinecolor\":\"#2a3f5f\"},\"baxis\":{\"endlinecolor\":\"#2a3f5f\",\"gridcolor\":\"white\",\"linecolor\":\"white\",\"minorgridcolor\":\"white\",\"startlinecolor\":\"#2a3f5f\"},\"type\":\"carpet\"}],\"table\":[{\"cells\":{\"fill\":{\"color\":\"#EBF0F8\"},\"line\":{\"color\":\"white\"}},\"header\":{\"fill\":{\"color\":\"#C8D4E3\"},\"line\":{\"color\":\"white\"}},\"type\":\"table\"}],\"barpolar\":[{\"marker\":{\"line\":{\"color\":\"#E5ECF6\",\"width\":0.5},\"pattern\":{\"fillmode\":\"overlay\",\"size\":10,\"solidity\":0.2}},\"type\":\"barpolar\"}],\"pie\":[{\"automargin\":true,\"type\":\"pie\"}]},\"layout\":{\"autotypenumbers\":\"strict\",\"colorway\":[\"#636efa\",\"#EF553B\",\"#00cc96\",\"#ab63fa\",\"#FFA15A\",\"#19d3f3\",\"#FF6692\",\"#B6E880\",\"#FF97FF\",\"#FECB52\"],\"font\":{\"color\":\"#2a3f5f\"},\"hovermode\":\"closest\",\"hoverlabel\":{\"align\":\"left\"},\"paper_bgcolor\":\"white\",\"plot_bgcolor\":\"#E5ECF6\",\"polar\":{\"bgcolor\":\"#E5ECF6\",\"angularaxis\":{\"gridcolor\":\"white\",\"linecolor\":\"white\",\"ticks\":\"\"},\"radialaxis\":{\"gridcolor\":\"white\",\"linecolor\":\"white\",\"ticks\":\"\"}},\"ternary\":{\"bgcolor\":\"#E5ECF6\",\"aaxis\":{\"gridcolor\":\"white\",\"linecolor\":\"white\",\"ticks\":\"\"},\"baxis\":{\"gridcolor\":\"white\",\"linecolor\":\"white\",\"ticks\":\"\"},\"caxis\":{\"gridcolor\":\"white\",\"linecolor\":\"white\",\"ticks\":\"\"}},\"coloraxis\":{\"colorbar\":{\"outlinewidth\":0,\"ticks\":\"\"}},\"colorscale\":{\"sequential\":[[0.0,\"#0d0887\"],[0.1111111111111111,\"#46039f\"],[0.2222222222222222,\"#7201a8\"],[0.3333333333333333,\"#9c179e\"],[0.4444444444444444,\"#bd3786\"],[0.5555555555555556,\"#d8576b\"],[0.6666666666666666,\"#ed7953\"],[0.7777777777777778,\"#fb9f3a\"],[0.8888888888888888,\"#fdca26\"],[1.0,\"#f0f921\"]],\"sequentialminus\":[[0.0,\"#0d0887\"],[0.1111111111111111,\"#46039f\"],[0.2222222222222222,\"#7201a8\"],[0.3333333333333333,\"#9c179e\"],[0.4444444444444444,\"#bd3786\"],[0.5555555555555556,\"#d8576b\"],[0.6666666666666666,\"#ed7953\"],[0.7777777777777778,\"#fb9f3a\"],[0.8888888888888888,\"#fdca26\"],[1.0,\"#f0f921\"]],\"diverging\":[[0,\"#8e0152\"],[0.1,\"#c51b7d\"],[0.2,\"#de77ae\"],[0.3,\"#f1b6da\"],[0.4,\"#fde0ef\"],[0.5,\"#f7f7f7\"],[0.6,\"#e6f5d0\"],[0.7,\"#b8e186\"],[0.8,\"#7fbc41\"],[0.9,\"#4d9221\"],[1,\"#276419\"]]},\"xaxis\":{\"gridcolor\":\"white\",\"linecolor\":\"white\",\"ticks\":\"\",\"title\":{\"standoff\":15},\"zerolinecolor\":\"white\",\"automargin\":true,\"zerolinewidth\":2},\"yaxis\":{\"gridcolor\":\"white\",\"linecolor\":\"white\",\"ticks\":\"\",\"title\":{\"standoff\":15},\"zerolinecolor\":\"white\",\"automargin\":true,\"zerolinewidth\":2},\"scene\":{\"xaxis\":{\"backgroundcolor\":\"#E5ECF6\",\"gridcolor\":\"white\",\"linecolor\":\"white\",\"showbackground\":true,\"ticks\":\"\",\"zerolinecolor\":\"white\",\"gridwidth\":2},\"yaxis\":{\"backgroundcolor\":\"#E5ECF6\",\"gridcolor\":\"white\",\"linecolor\":\"white\",\"showbackground\":true,\"ticks\":\"\",\"zerolinecolor\":\"white\",\"gridwidth\":2},\"zaxis\":{\"backgroundcolor\":\"#E5ECF6\",\"gridcolor\":\"white\",\"linecolor\":\"white\",\"showbackground\":true,\"ticks\":\"\",\"zerolinecolor\":\"white\",\"gridwidth\":2}},\"shapedefaults\":{\"line\":{\"color\":\"#2a3f5f\"}},\"annotationdefaults\":{\"arrowcolor\":\"#2a3f5f\",\"arrowhead\":0,\"arrowwidth\":1},\"geo\":{\"bgcolor\":\"white\",\"landcolor\":\"#E5ECF6\",\"subunitcolor\":\"white\",\"showland\":true,\"showlakes\":true,\"lakecolor\":\"white\"},\"title\":{\"x\":0.05},\"mapbox\":{\"style\":\"light\"}}}},                        {\"responsive\": true}                    ).then(function(){\n",
       "                            \n",
       "var gd = document.getElementById('f5c97c6e-db5a-4ff5-9b09-b323a292b954');\n",
       "var x = new MutationObserver(function (mutations, observer) {{\n",
       "        var display = window.getComputedStyle(gd).display;\n",
       "        if (!display || display === 'none') {{\n",
       "            console.log([gd, 'removed!']);\n",
       "            Plotly.purge(gd);\n",
       "            observer.disconnect();\n",
       "        }}\n",
       "}});\n",
       "\n",
       "// Listen for the removal of the full notebook cells\n",
       "var notebookContainer = gd.closest('#notebook-container');\n",
       "if (notebookContainer) {{\n",
       "    x.observe(notebookContainer, {childList: true});\n",
       "}}\n",
       "\n",
       "// Listen for the clearing of the current output cell\n",
       "var outputEl = gd.closest('.output');\n",
       "if (outputEl) {{\n",
       "    x.observe(outputEl, {childList: true});\n",
       "}}\n",
       "\n",
       "                        })                };                });            </script>        </div>"
      ]
     },
     "metadata": {},
     "output_type": "display_data"
    }
   ],
   "source": [
    "fig = optuna.visualization.plot_pareto_front(study, target_names=[\"learning_rate\", \"f1\"])\n",
    "fig.write_image(file=\"figures/ch5_pareto.png\", format=\"png\", scale=6)\n",
    "fig.show()"
   ]
  }
 ],
 "metadata": {
  "kernelspec": {
   "display_name": "Python 3",
   "language": "python",
   "name": "python3"
  },
  "language_info": {
   "codemirror_mode": {
    "name": "ipython",
    "version": 3
   },
   "file_extension": ".py",
   "mimetype": "text/x-python",
   "name": "python",
   "nbconvert_exporter": "python",
   "pygments_lexer": "ipython3",
   "version": "3.10.11"
  }
 },
 "nbformat": 4,
 "nbformat_minor": 0
}
