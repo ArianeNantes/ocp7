{
 "cells": [
  {
   "cell_type": "code",
   "execution_count": 1,
   "id": "20cc39b3",
   "metadata": {},
   "outputs": [],
   "source": [
    "# On affiche les graphiques dans le notebook en statique\n",
    "%matplotlib inline"
   ]
  },
  {
   "cell_type": "code",
   "execution_count": 2,
   "id": "8fe93c76",
   "metadata": {},
   "outputs": [
    {
     "data": {
      "text/plain": [
       "{'divide': 'warn', 'over': 'warn', 'under': 'ignore', 'invalid': 'warn'}"
      ]
     },
     "execution_count": 2,
     "metadata": {},
     "output_type": "execute_result"
    }
   ],
   "source": [
    "\"\"\"\n",
    "code du lightgbm repris (et adapté) de :\n",
    "Lien : https://www.kaggle.com/code/jsaguiar/lightgbm-7th-place-solution\n",
    "\n",
    "KAGGLE HOME CREDIT DEFAULT RISK COMPETITION\n",
    "Adapted from one of the models used in 7th place solution ensemble.\n",
    "For more details about our solution please check this discussion:\n",
    "https://www.kaggle.com/c/home-credit-default-risk/discussion/64580\n",
    "\n",
    "Another similar version is also available at GitHub:\n",
    "https://github.com/js-aguiar/home-credit-default-competition\n",
    "\n",
    "This model uses LightGBM with goss and label encode for the application's \n",
    "categorical features. Other tables are using one-hot encode with mean, \n",
    "sum and a few different functions to aggregate. The main ideia was to add \n",
    "more time related features like last application and last X months aggregations.\n",
    "There are also aggregations for specific loan types and status as well as\n",
    "ratios between tables. Configurations are in line 785\n",
    "\"\"\"\n",
    "\n",
    "import os\n",
    "import gc\n",
    "import numpy as np\n",
    "import pandas as pd\n",
    "import joblib\n",
    "import warnings\n",
    "\n",
    "\n",
    "warnings.simplefilter(action=\"ignore\", category=FutureWarning)\n",
    "## np.warnings.filterwarnings(\"ignore\", r\"All-NaN (slice|axis) encountered\")\n",
    "np.seterr(all=\"ignore\", invalid=\"ignore\")"
   ]
  },
  {
   "cell_type": "code",
   "execution_count": 3,
   "id": "60988dd6",
   "metadata": {},
   "outputs": [],
   "source": [
    "from src.p7_full_kernel import get_full_data, kfold_lightgbm_sklearn\n",
    "from src.p7_simple_kernel import get_simple_data\n",
    "from src.p7_simple_kernel import CONFIG_SIMPLE\n",
    "from src.p7_util import timer\n",
    "from src.p7_constantes import (\n",
    "    NUM_THREADS,\n",
    "    DATA_BASE,\n",
    "    DATA_INTERIM,\n",
    ")\n",
    "\n",
    "%load_ext autoreload\n",
    "%autoreload 2\n",
    "#autoreload 2 = Reload all modules (except those excluded by %aimport)\n",
    "# every time before executing the Python code typed."
   ]
  },
  {
   "cell_type": "markdown",
   "id": "a9abc5c3",
   "metadata": {},
   "source": [
    "# Configuration"
   ]
  },
  {
   "cell_type": "code",
   "execution_count": 4,
   "id": "5f130f37",
   "metadata": {},
   "outputs": [
    {
     "name": "stdout",
     "output_type": "stream",
     "text": [
      "NUM_THREADS : 16\n"
     ]
    }
   ],
   "source": [
    "print(\"NUM_THREADS :\", NUM_THREADS)\n"
   ]
  },
  {
   "cell_type": "code",
   "execution_count": 5,
   "id": "997b1979",
   "metadata": {},
   "outputs": [
    {
     "name": "stdout",
     "output_type": "stream",
     "text": [
      "(307511, 122)\n"
     ]
    }
   ],
   "source": [
    "shape_application_train = pd.read_csv(os.path.join(DATA_BASE, \"application_train.csv\")).shape\n",
    "print(shape_application_train)"
   ]
  },
  {
   "cell_type": "markdown",
   "id": "6314c799",
   "metadata": {},
   "source": [
    "# Full Kernel"
   ]
  },
  {
   "cell_type": "markdown",
   "id": "0d4a633b",
   "metadata": {},
   "source": [
    "## One Hot uniquement"
   ]
  },
  {
   "cell_type": "markdown",
   "id": "353f5216",
   "metadata": {},
   "source": [
    "Joindre et nettoyer les données"
   ]
  },
  {
   "cell_type": "code",
   "execution_count": 6,
   "id": "15b021e7",
   "metadata": {},
   "outputs": [
    {
     "name": "stderr",
     "output_type": "stream",
     "text": [
      "e:\\Mes Documents\\_Open Classroom\\Code\\p7\\src\\p7_full_kernel.py:540: RuntimeWarning: All-NaN slice encountered\n",
      "  df[feature_name] = eval(\"np.{}\".format(function_name))(\n"
     ]
    },
    {
     "name": "stdout",
     "output_type": "stream",
     "text": [
      "Application dataframe shape:  (356250, 211)\n",
      "application_train and application_test - duration (hh:mm:ss) : 0:00:06\n",
      "Bureau dataframe shape:  (305811, 156)\n",
      "Bureau and bureau_balance data - duration (hh:mm:ss) : 0:00:14\n",
      "Previous dataframe shape:  (338857, 225)\n",
      "previous_application - duration (hh:mm:ss) : 0:00:20\n",
      "Pos-cash dataframe shape:  (337252, 24)\n",
      "Installments dataframe shape:  (339587, 101)\n",
      "Credit card dataframe shape:  (103558, 59)\n",
      "previous applications balances - duration (hh:mm:ss) : 0:07:42\n",
      "Initial df memory usage is 1806.09 MB for 787 columns\n",
      "Final memory usage is: 805.54 MB - decreased by 55.4%\n",
      "Pipeline total time - duration (hh:mm:ss) : 0:08:26\n"
     ]
    }
   ],
   "source": [
    "with timer(\"Pipeline total time\"):\n",
    "    df = get_full_data(debug=False, ohe=True)"
   ]
  },
  {
   "cell_type": "markdown",
   "id": "72442ed2",
   "metadata": {},
   "source": [
    "Information"
   ]
  },
  {
   "cell_type": "code",
   "execution_count": 7,
   "id": "4eb7949c",
   "metadata": {},
   "outputs": [
    {
     "name": "stdout",
     "output_type": "stream",
     "text": [
      "<class 'pandas.core.frame.DataFrame'>\n",
      "RangeIndex: 356250 entries, 0 to 356249\n",
      "Columns: 787 entries, SK_ID_CURR to DAYS_CREDIT_MEAN_TO_EMPLOYED\n",
      "dtypes: float16(482), float32(235), float64(56), int16(2), int32(1), int8(11)\n",
      "memory usage: 805.5 MB\n"
     ]
    }
   ],
   "source": [
    "df.info()"
   ]
  },
  {
   "cell_type": "code",
   "execution_count": 8,
   "id": "1ce78d76",
   "metadata": {},
   "outputs": [
    {
     "data": {
      "text/plain": [
       "(356250, 787)"
      ]
     },
     "execution_count": 8,
     "metadata": {},
     "output_type": "execute_result"
    }
   ],
   "source": [
    "df.shape"
   ]
  },
  {
   "cell_type": "markdown",
   "id": "746e1343",
   "metadata": {},
   "source": [
    "Sauvegarde"
   ]
  },
  {
   "cell_type": "code",
   "execution_count": 9,
   "id": "047be72e",
   "metadata": {},
   "outputs": [],
   "source": [
    "df.to_csv(os.path.join(DATA_INTERIM, \"all_data_full_kernel_ohe.csv\"))"
   ]
  },
  {
   "cell_type": "markdown",
   "id": "cdbeb870",
   "metadata": {},
   "source": [
    "## Label Encoding in application table"
   ]
  },
  {
   "cell_type": "markdown",
   "id": "aac32686",
   "metadata": {},
   "source": [
    "Joindre et nettoyer les données"
   ]
  },
  {
   "cell_type": "code",
   "execution_count": 10,
   "id": "67ab3a3e",
   "metadata": {},
   "outputs": [
    {
     "name": "stderr",
     "output_type": "stream",
     "text": [
      "e:\\Mes Documents\\_Open Classroom\\Code\\p7\\src\\p7_full_kernel.py:540: RuntimeWarning: All-NaN slice encountered\n",
      "  df[feature_name] = eval(\"np.{}\".format(function_name))(\n"
     ]
    },
    {
     "name": "stdout",
     "output_type": "stream",
     "text": [
      "Application dataframe shape:  (356250, 83)\n",
      "application_train and application_test - duration (hh:mm:ss) : 0:00:06\n",
      "Bureau dataframe shape:  (305811, 156)\n",
      "Bureau and bureau_balance data - duration (hh:mm:ss) : 0:00:14\n",
      "Previous dataframe shape:  (338857, 225)\n",
      "previous_application - duration (hh:mm:ss) : 0:00:21\n",
      "Pos-cash dataframe shape:  (337252, 24)\n",
      "Installments dataframe shape:  (339587, 101)\n",
      "Credit card dataframe shape:  (103558, 59)\n",
      "previous applications balances - duration (hh:mm:ss) : 0:07:35\n",
      "Initial df memory usage is 1791.14 MB for 659 columns\n",
      "Final memory usage is: 714.49 MB - decreased by 60.1%\n",
      "Pipeline total time - duration (hh:mm:ss) : 0:08:19\n"
     ]
    }
   ],
   "source": [
    "with timer(\"Pipeline total time\"):\n",
    "    df = get_full_data(debug=False, ohe=False)"
   ]
  },
  {
   "cell_type": "markdown",
   "id": "760d8381",
   "metadata": {},
   "source": [
    "Information"
   ]
  },
  {
   "cell_type": "code",
   "execution_count": 11,
   "id": "c794f6d5",
   "metadata": {},
   "outputs": [
    {
     "name": "stdout",
     "output_type": "stream",
     "text": [
      "<class 'pandas.core.frame.DataFrame'>\n",
      "RangeIndex: 356250 entries, 0 to 356249\n",
      "Columns: 659 entries, SK_ID_CURR to DAYS_CREDIT_MEAN_TO_EMPLOYED\n",
      "dtypes: float16(342), float32(235), float64(56), int16(2), int32(1), int8(23)\n",
      "memory usage: 714.5 MB\n"
     ]
    }
   ],
   "source": [
    "df.info()"
   ]
  },
  {
   "cell_type": "code",
   "execution_count": 12,
   "id": "0911a6e4",
   "metadata": {},
   "outputs": [
    {
     "data": {
      "text/plain": [
       "(356250, 659)"
      ]
     },
     "execution_count": 12,
     "metadata": {},
     "output_type": "execute_result"
    }
   ],
   "source": [
    "df.shape"
   ]
  },
  {
   "cell_type": "code",
   "execution_count": 13,
   "id": "da10ec15",
   "metadata": {},
   "outputs": [
    {
     "data": {
      "text/plain": [
       "[]"
      ]
     },
     "execution_count": 13,
     "metadata": {},
     "output_type": "execute_result"
    }
   ],
   "source": [
    "cat_features = df.select_dtypes(include='object').columns.tolist()\n",
    "cat_features"
   ]
  },
  {
   "cell_type": "code",
   "execution_count": 14,
   "id": "723fc21a",
   "metadata": {},
   "outputs": [
    {
     "data": {
      "text/plain": [
       "['data/interim/cat_features_full_kernel_le.pkl']"
      ]
     },
     "execution_count": 14,
     "metadata": {},
     "output_type": "execute_result"
    }
   ],
   "source": [
    "df.to_csv(os.path.join(DATA_INTERIM, \"all_data_full_kernel_le.csv\"))\n",
    "joblib.dump(cat_features, os.path.join(DATA_INTERIM, \"cat_features_full_kernel_le.pkl\"))"
   ]
  },
  {
   "cell_type": "markdown",
   "id": "f541a881",
   "metadata": {},
   "source": [
    "# Simple Kernel (OHE)"
   ]
  },
  {
   "cell_type": "markdown",
   "id": "a0abf3fc",
   "metadata": {},
   "source": [
    "Configuration"
   ]
  },
  {
   "cell_type": "code",
   "execution_count": 6,
   "id": "c5201d98",
   "metadata": {},
   "outputs": [
    {
     "data": {
      "text/plain": [
       "{'debug': False,\n",
       " 'nan_as_cat': True,\n",
       " 'data_output_dir': 'data/interim/',\n",
       " 'data_filename': 'all_data_simple_kernel_ohe.csv',\n",
       " 'generate_submission_files': True,\n",
       " 'model_dir': 'models/',\n",
       " 'model_subdir': 'light_simple/',\n",
       " 'importance_filename': 'feature_importance.csv',\n",
       " 'submission_filename': 'lightgbm_simple_submission.csv',\n",
       " 'num_threads': 16,\n",
       " 'stratified_kfold': True,\n",
       " 'num_folds': 10,\n",
       " 'early_stopping': 100,\n",
       " 'random_seed': 1001}"
      ]
     },
     "execution_count": 6,
     "metadata": {},
     "output_type": "execute_result"
    }
   ],
   "source": [
    "CONFIG_SIMPLE"
   ]
  },
  {
   "cell_type": "code",
   "execution_count": 7,
   "id": "2d532c23",
   "metadata": {},
   "outputs": [
    {
     "name": "stdout",
     "output_type": "stream",
     "text": [
      "Debug = False\n",
      "NaN as category = True\n",
      "Data filepath = data/interim/all_data_simple_kernel_ohe.csv\n"
     ]
    }
   ],
   "source": [
    "config = CONFIG_SIMPLE\n",
    "print(\"Debug =\", config[\"debug\"])\n",
    "print(\"NaN as category =\", config[\"nan_as_cat\"])\n",
    "print(\"Data filepath =\", os.path.join(config[\"data_output_dir\"], config[\"data_filename\"]))"
   ]
  },
  {
   "cell_type": "code",
   "execution_count": 8,
   "id": "93bc273f",
   "metadata": {},
   "outputs": [],
   "source": [
    "config[\"debug\"] = False"
   ]
  },
  {
   "cell_type": "markdown",
   "id": "9e73b7d5",
   "metadata": {},
   "source": [
    "Joindre et nettoyer les données"
   ]
  },
  {
   "cell_type": "code",
   "execution_count": 23,
   "id": "e25621d3",
   "metadata": {},
   "outputs": [
    {
     "name": "stdout",
     "output_type": "stream",
     "text": [
      "data/interim/ dossier déjà existant\n",
      "Data samples: 307511\n",
      "Application df shape: (307511, 258)\n",
      "Process Application - duration (hh:mm:ss) : 0:00:02\n",
      "Bureau df shape: (305811, 116)\n",
      "Process bureau and bureau_balance - duration (hh:mm:ss) : 0:00:12\n",
      "Previous applications df shape: (338857, 249)\n",
      "Process previous_applications - duration (hh:mm:ss) : 0:00:11\n",
      "Pos-cash balance df shape: (337252, 18)\n",
      "Process POS-CASH balance - duration (hh:mm:ss) : 0:00:06\n",
      "Installments payments df shape: (339587, 26)\n",
      "Process installments payments - duration (hh:mm:ss) : 0:00:14\n",
      "Credit card balance df shape: (103558, 125)\n",
      "0 variables à inclure correspondant au motif 'Unnamed' : []\n",
      "0 variables à exclure correspondant au motif 'None' : []\n",
      "0 variables sélectionnées : []\n",
      "Process credit card balance - duration (hh:mm:ss) : 0:00:09\n",
      "write data\n",
      "Test shape : (61503, 792), saved in data/interim/test.csv\n",
      "Train shape : (246008, 792), saved in data/interim/train.csv\n",
      "Pipeline total time - duration (hh:mm:ss) : 0:02:02\n"
     ]
    }
   ],
   "source": [
    "with timer(\"Pipeline total time\"):\n",
    "    df, test = get_simple_data(config)"
   ]
  },
  {
   "cell_type": "markdown",
   "id": "76487bf7",
   "metadata": {},
   "source": [
    "Information"
   ]
  },
  {
   "cell_type": "code",
   "execution_count": 24,
   "id": "f497ee87",
   "metadata": {},
   "outputs": [
    {
     "name": "stdout",
     "output_type": "stream",
     "text": [
      "<class 'pandas.core.frame.DataFrame'>\n",
      "Index: 246008 entries, 302149 to 42906\n",
      "Columns: 792 entries, SK_ID_CURR to TARGET\n",
      "dtypes: bool(144), float64(606), int64(42)\n",
      "memory usage: 1.2 GB\n"
     ]
    }
   ],
   "source": [
    "df.info()"
   ]
  },
  {
   "cell_type": "code",
   "execution_count": 25,
   "id": "43c3126b",
   "metadata": {},
   "outputs": [
    {
     "data": {
      "text/plain": [
       "(246008, 792)"
      ]
     },
     "execution_count": 25,
     "metadata": {},
     "output_type": "execute_result"
    }
   ],
   "source": [
    "df.shape"
   ]
  },
  {
   "cell_type": "code",
   "execution_count": 27,
   "id": "0066d11a",
   "metadata": {},
   "outputs": [
    {
     "data": {
      "text/plain": [
       "CODE_GENDER\n",
       "1.0    161963\n",
       "0.0     84043\n",
       "NaN         2\n",
       "Name: count, dtype: int64"
      ]
     },
     "execution_count": 27,
     "metadata": {},
     "output_type": "execute_result"
    }
   ],
   "source": [
    "df['CODE_GENDER'].value_counts(dropna=False)"
   ]
  },
  {
   "cell_type": "code",
   "execution_count": 22,
   "id": "9d5a5f3f",
   "metadata": {},
   "outputs": [
    {
     "name": "stdout",
     "output_type": "stream",
     "text": [
      "794\n",
      "794\n"
     ]
    }
   ],
   "source": [
    "# Doublons dans les noms de features ?\n",
    "features = df.columns.tolist()\n",
    "print(len(features))\n",
    "print(len(set(features)))"
   ]
  },
  {
   "cell_type": "markdown",
   "id": "d098d77a",
   "metadata": {},
   "source": [
    "Sauvegarde"
   ]
  },
  {
   "cell_type": "code",
   "execution_count": 13,
   "id": "b73f0014",
   "metadata": {},
   "outputs": [],
   "source": [
    "#df.to_csv(config[\"data_filepath\"])"
   ]
  },
  {
   "cell_type": "code",
   "execution_count": 20,
   "id": "8ce0ad3d",
   "metadata": {},
   "outputs": [
    {
     "data": {
      "text/html": [
       "<div>\n",
       "<style scoped>\n",
       "    .dataframe tbody tr th:only-of-type {\n",
       "        vertical-align: middle;\n",
       "    }\n",
       "\n",
       "    .dataframe tbody tr th {\n",
       "        vertical-align: top;\n",
       "    }\n",
       "\n",
       "    .dataframe thead th {\n",
       "        text-align: right;\n",
       "    }\n",
       "</style>\n",
       "<table border=\"1\" class=\"dataframe\">\n",
       "  <thead>\n",
       "    <tr style=\"text-align: right;\">\n",
       "      <th></th>\n",
       "      <th>SK_ID_CURR</th>\n",
       "      <th>CODE_GENDER</th>\n",
       "      <th>FLAG_OWN_CAR</th>\n",
       "      <th>FLAG_OWN_REALTY</th>\n",
       "      <th>CNT_CHILDREN</th>\n",
       "      <th>AMT_INCOME_TOTAL</th>\n",
       "      <th>AMT_CREDIT</th>\n",
       "      <th>AMT_ANNUITY</th>\n",
       "      <th>AMT_GOODS_PRICE</th>\n",
       "      <th>REGION_POPULATION_RELATIVE</th>\n",
       "      <th>...</th>\n",
       "      <th>CC_NAME_CONTRACT_STATUS_Sentproposal_SUM</th>\n",
       "      <th>CC_NAME_CONTRACT_STATUS_Sentproposal_VAR</th>\n",
       "      <th>CC_NAME_CONTRACT_STATUS_Signed_MEAN</th>\n",
       "      <th>CC_NAME_CONTRACT_STATUS_Signed_SUM</th>\n",
       "      <th>CC_NAME_CONTRACT_STATUS_Signed_VAR</th>\n",
       "      <th>CC_NAME_CONTRACT_STATUS_nan_MEAN</th>\n",
       "      <th>CC_NAME_CONTRACT_STATUS_nan_SUM</th>\n",
       "      <th>CC_NAME_CONTRACT_STATUS_nan_VAR</th>\n",
       "      <th>CC_COUNT</th>\n",
       "      <th>TARGET</th>\n",
       "    </tr>\n",
       "  </thead>\n",
       "  <tbody>\n",
       "    <tr>\n",
       "      <th>202026</th>\n",
       "      <td>334191</td>\n",
       "      <td>0</td>\n",
       "      <td>1</td>\n",
       "      <td>0</td>\n",
       "      <td>0</td>\n",
       "      <td>238477.5</td>\n",
       "      <td>157500.0</td>\n",
       "      <td>7875.0</td>\n",
       "      <td>157500.0</td>\n",
       "      <td>0.018850</td>\n",
       "      <td>...</td>\n",
       "      <td>NaN</td>\n",
       "      <td>NaN</td>\n",
       "      <td>NaN</td>\n",
       "      <td>NaN</td>\n",
       "      <td>NaN</td>\n",
       "      <td>NaN</td>\n",
       "      <td>NaN</td>\n",
       "      <td>NaN</td>\n",
       "      <td>NaN</td>\n",
       "      <td>0</td>\n",
       "    </tr>\n",
       "    <tr>\n",
       "      <th>93913</th>\n",
       "      <td>209052</td>\n",
       "      <td>1</td>\n",
       "      <td>0</td>\n",
       "      <td>0</td>\n",
       "      <td>0</td>\n",
       "      <td>180000.0</td>\n",
       "      <td>450000.0</td>\n",
       "      <td>21109.5</td>\n",
       "      <td>450000.0</td>\n",
       "      <td>0.018209</td>\n",
       "      <td>...</td>\n",
       "      <td>NaN</td>\n",
       "      <td>NaN</td>\n",
       "      <td>NaN</td>\n",
       "      <td>NaN</td>\n",
       "      <td>NaN</td>\n",
       "      <td>NaN</td>\n",
       "      <td>NaN</td>\n",
       "      <td>NaN</td>\n",
       "      <td>NaN</td>\n",
       "      <td>0</td>\n",
       "    </tr>\n",
       "    <tr>\n",
       "      <th>132834</th>\n",
       "      <td>254074</td>\n",
       "      <td>1</td>\n",
       "      <td>0</td>\n",
       "      <td>0</td>\n",
       "      <td>0</td>\n",
       "      <td>112500.0</td>\n",
       "      <td>269550.0</td>\n",
       "      <td>10264.5</td>\n",
       "      <td>225000.0</td>\n",
       "      <td>0.010643</td>\n",
       "      <td>...</td>\n",
       "      <td>NaN</td>\n",
       "      <td>NaN</td>\n",
       "      <td>NaN</td>\n",
       "      <td>NaN</td>\n",
       "      <td>NaN</td>\n",
       "      <td>NaN</td>\n",
       "      <td>NaN</td>\n",
       "      <td>NaN</td>\n",
       "      <td>NaN</td>\n",
       "      <td>0</td>\n",
       "    </tr>\n",
       "    <tr>\n",
       "      <th>156041</th>\n",
       "      <td>280892</td>\n",
       "      <td>0</td>\n",
       "      <td>1</td>\n",
       "      <td>0</td>\n",
       "      <td>0</td>\n",
       "      <td>112500.0</td>\n",
       "      <td>271066.5</td>\n",
       "      <td>21861.0</td>\n",
       "      <td>234000.0</td>\n",
       "      <td>0.018029</td>\n",
       "      <td>...</td>\n",
       "      <td>0.0</td>\n",
       "      <td>0.0</td>\n",
       "      <td>0.0</td>\n",
       "      <td>0.0</td>\n",
       "      <td>0.0</td>\n",
       "      <td>0.0</td>\n",
       "      <td>0.0</td>\n",
       "      <td>0.0</td>\n",
       "      <td>7.0</td>\n",
       "      <td>0</td>\n",
       "    </tr>\n",
       "    <tr>\n",
       "      <th>271996</th>\n",
       "      <td>415335</td>\n",
       "      <td>1</td>\n",
       "      <td>0</td>\n",
       "      <td>1</td>\n",
       "      <td>3</td>\n",
       "      <td>180000.0</td>\n",
       "      <td>204858.0</td>\n",
       "      <td>16555.5</td>\n",
       "      <td>171000.0</td>\n",
       "      <td>0.014464</td>\n",
       "      <td>...</td>\n",
       "      <td>NaN</td>\n",
       "      <td>NaN</td>\n",
       "      <td>NaN</td>\n",
       "      <td>NaN</td>\n",
       "      <td>NaN</td>\n",
       "      <td>NaN</td>\n",
       "      <td>NaN</td>\n",
       "      <td>NaN</td>\n",
       "      <td>NaN</td>\n",
       "      <td>1</td>\n",
       "    </tr>\n",
       "  </tbody>\n",
       "</table>\n",
       "<p>5 rows × 794 columns</p>\n",
       "</div>"
      ],
      "text/plain": [
       "        SK_ID_CURR  CODE_GENDER  FLAG_OWN_CAR  FLAG_OWN_REALTY  CNT_CHILDREN  \\\n",
       "202026      334191            0             1                0             0   \n",
       "93913       209052            1             0                0             0   \n",
       "132834      254074            1             0                0             0   \n",
       "156041      280892            0             1                0             0   \n",
       "271996      415335            1             0                1             3   \n",
       "\n",
       "        AMT_INCOME_TOTAL  AMT_CREDIT  AMT_ANNUITY  AMT_GOODS_PRICE  \\\n",
       "202026          238477.5    157500.0       7875.0         157500.0   \n",
       "93913           180000.0    450000.0      21109.5         450000.0   \n",
       "132834          112500.0    269550.0      10264.5         225000.0   \n",
       "156041          112500.0    271066.5      21861.0         234000.0   \n",
       "271996          180000.0    204858.0      16555.5         171000.0   \n",
       "\n",
       "        REGION_POPULATION_RELATIVE  ...  \\\n",
       "202026                    0.018850  ...   \n",
       "93913                     0.018209  ...   \n",
       "132834                    0.010643  ...   \n",
       "156041                    0.018029  ...   \n",
       "271996                    0.014464  ...   \n",
       "\n",
       "        CC_NAME_CONTRACT_STATUS_Sentproposal_SUM  \\\n",
       "202026                                       NaN   \n",
       "93913                                        NaN   \n",
       "132834                                       NaN   \n",
       "156041                                       0.0   \n",
       "271996                                       NaN   \n",
       "\n",
       "        CC_NAME_CONTRACT_STATUS_Sentproposal_VAR  \\\n",
       "202026                                       NaN   \n",
       "93913                                        NaN   \n",
       "132834                                       NaN   \n",
       "156041                                       0.0   \n",
       "271996                                       NaN   \n",
       "\n",
       "        CC_NAME_CONTRACT_STATUS_Signed_MEAN  \\\n",
       "202026                                  NaN   \n",
       "93913                                   NaN   \n",
       "132834                                  NaN   \n",
       "156041                                  0.0   \n",
       "271996                                  NaN   \n",
       "\n",
       "        CC_NAME_CONTRACT_STATUS_Signed_SUM  \\\n",
       "202026                                 NaN   \n",
       "93913                                  NaN   \n",
       "132834                                 NaN   \n",
       "156041                                 0.0   \n",
       "271996                                 NaN   \n",
       "\n",
       "        CC_NAME_CONTRACT_STATUS_Signed_VAR  CC_NAME_CONTRACT_STATUS_nan_MEAN  \\\n",
       "202026                                 NaN                               NaN   \n",
       "93913                                  NaN                               NaN   \n",
       "132834                                 NaN                               NaN   \n",
       "156041                                 0.0                               0.0   \n",
       "271996                                 NaN                               NaN   \n",
       "\n",
       "        CC_NAME_CONTRACT_STATUS_nan_SUM  CC_NAME_CONTRACT_STATUS_nan_VAR  \\\n",
       "202026                              NaN                              NaN   \n",
       "93913                               NaN                              NaN   \n",
       "132834                              NaN                              NaN   \n",
       "156041                              0.0                              0.0   \n",
       "271996                              NaN                              NaN   \n",
       "\n",
       "        CC_COUNT  TARGET  \n",
       "202026       NaN       0  \n",
       "93913        NaN       0  \n",
       "132834       NaN       0  \n",
       "156041       7.0       0  \n",
       "271996       NaN       1  \n",
       "\n",
       "[5 rows x 794 columns]"
      ]
     },
     "execution_count": 20,
     "metadata": {},
     "output_type": "execute_result"
    }
   ],
   "source": [
    "df.head()"
   ]
  }
 ],
 "metadata": {
  "kernelspec": {
   "display_name": "Python 3 (ipykernel)",
   "language": "python",
   "name": "python3"
  },
  "language_info": {
   "codemirror_mode": {
    "name": "ipython",
    "version": 3
   },
   "file_extension": ".py",
   "mimetype": "text/x-python",
   "name": "python",
   "nbconvert_exporter": "python",
   "pygments_lexer": "ipython3",
   "version": "3.10.11"
  }
 },
 "nbformat": 4,
 "nbformat_minor": 5
}
