{
 "cells": [
  {
   "cell_type": "code",
   "execution_count": 1,
   "id": "20cc39b3",
   "metadata": {},
   "outputs": [],
   "source": [
    "# On affiche les graphiques dans le notebook en statique\n",
    "%matplotlib inline"
   ]
  },
  {
   "cell_type": "code",
   "execution_count": 2,
   "id": "8fe93c76",
   "metadata": {},
   "outputs": [
    {
     "data": {
      "text/plain": [
       "{'divide': 'warn', 'over': 'warn', 'under': 'ignore', 'invalid': 'warn'}"
      ]
     },
     "execution_count": 2,
     "metadata": {},
     "output_type": "execute_result"
    }
   ],
   "source": [
    "\"\"\"\n",
    "code du lightgbm repris (et adapté) de :\n",
    "Lien : https://www.kaggle.com/code/jsaguiar/lightgbm-7th-place-solution\n",
    "\n",
    "KAGGLE HOME CREDIT DEFAULT RISK COMPETITION\n",
    "Adapted from one of the models used in 7th place solution ensemble.\n",
    "For more details about our solution please check this discussion:\n",
    "https://www.kaggle.com/c/home-credit-default-risk/discussion/64580\n",
    "\n",
    "Another similar version is also available at GitHub:\n",
    "https://github.com/js-aguiar/home-credit-default-competition\n",
    "\n",
    "This model uses LightGBM with goss and label encode for the application's \n",
    "categorical features. Other tables are using one-hot encode with mean, \n",
    "sum and a few different functions to aggregate. The main ideia was to add \n",
    "more time related features like last application and last X months aggregations.\n",
    "There are also aggregations for specific loan types and status as well as\n",
    "ratios between tables. Configurations are in line 785\n",
    "\"\"\"\n",
    "\n",
    "import os\n",
    "import gc\n",
    "import numpy as np\n",
    "import pandas as pd\n",
    "import joblib\n",
    "import warnings\n",
    "\n",
    "\n",
    "warnings.simplefilter(action=\"ignore\", category=FutureWarning)\n",
    "## np.warnings.filterwarnings(\"ignore\", r\"All-NaN (slice|axis) encountered\")\n",
    "np.seterr(all=\"ignore\", invalid=\"ignore\")"
   ]
  },
  {
   "cell_type": "code",
   "execution_count": 3,
   "id": "60988dd6",
   "metadata": {},
   "outputs": [],
   "source": [
    "from src.p7_full_kernel import get_full_data, kfold_lightgbm_sklearn\n",
    "from src.p7_simple_kernel import get_simple_data\n",
    "from src.p7_simple_kernel import CONFIG_SIMPLE\n",
    "from src.p7_util import timer\n",
    "from src.p7_constantes import (\n",
    "    NUM_THREADS,\n",
    "    DATA_BASE,\n",
    "    DATA_INTERIM,\n",
    ")\n",
    "\n",
    "%load_ext autoreload\n",
    "%autoreload 2\n",
    "#autoreload 2 = Reload all modules (except those excluded by %aimport)\n",
    "# every time before executing the Python code typed."
   ]
  },
  {
   "cell_type": "markdown",
   "id": "a9abc5c3",
   "metadata": {},
   "source": [
    "# Configuration"
   ]
  },
  {
   "cell_type": "code",
   "execution_count": 4,
   "id": "5f130f37",
   "metadata": {},
   "outputs": [
    {
     "name": "stdout",
     "output_type": "stream",
     "text": [
      "NUM_THREADS : 16\n"
     ]
    }
   ],
   "source": [
    "print(\"NUM_THREADS :\", NUM_THREADS)\n"
   ]
  },
  {
   "cell_type": "code",
   "execution_count": 5,
   "id": "997b1979",
   "metadata": {},
   "outputs": [
    {
     "name": "stdout",
     "output_type": "stream",
     "text": [
      "(307511, 122)\n"
     ]
    }
   ],
   "source": [
    "shape_application_train = pd.read_csv(os.path.join(DATA_BASE, \"application_train.csv\")).shape\n",
    "print(shape_application_train)"
   ]
  },
  {
   "cell_type": "markdown",
   "id": "6314c799",
   "metadata": {},
   "source": [
    "# Full Kernel"
   ]
  },
  {
   "cell_type": "markdown",
   "id": "0d4a633b",
   "metadata": {},
   "source": [
    "## One Hot uniquement"
   ]
  },
  {
   "cell_type": "markdown",
   "id": "353f5216",
   "metadata": {},
   "source": [
    "Joindre et nettoyer les données"
   ]
  },
  {
   "cell_type": "code",
   "execution_count": 6,
   "id": "15b021e7",
   "metadata": {},
   "outputs": [
    {
     "name": "stderr",
     "output_type": "stream",
     "text": [
      "e:\\Mes Documents\\_Open Classroom\\Code\\p7\\src\\p7_full_kernel.py:540: RuntimeWarning: All-NaN slice encountered\n",
      "  df[feature_name] = eval(\"np.{}\".format(function_name))(\n"
     ]
    },
    {
     "name": "stdout",
     "output_type": "stream",
     "text": [
      "Application dataframe shape:  (356250, 211)\n",
      "application_train and application_test - duration (hh:mm:ss) : 0:00:06\n",
      "Bureau dataframe shape:  (305811, 156)\n",
      "Bureau and bureau_balance data - duration (hh:mm:ss) : 0:00:14\n",
      "Previous dataframe shape:  (338857, 225)\n",
      "previous_application - duration (hh:mm:ss) : 0:00:20\n",
      "Pos-cash dataframe shape:  (337252, 24)\n",
      "Installments dataframe shape:  (339587, 101)\n",
      "Credit card dataframe shape:  (103558, 59)\n",
      "previous applications balances - duration (hh:mm:ss) : 0:07:42\n",
      "Initial df memory usage is 1806.09 MB for 787 columns\n",
      "Final memory usage is: 805.54 MB - decreased by 55.4%\n",
      "Pipeline total time - duration (hh:mm:ss) : 0:08:26\n"
     ]
    }
   ],
   "source": [
    "with timer(\"Pipeline total time\"):\n",
    "    df = get_full_data(debug=False, ohe=True)"
   ]
  },
  {
   "cell_type": "markdown",
   "id": "72442ed2",
   "metadata": {},
   "source": [
    "Information"
   ]
  },
  {
   "cell_type": "code",
   "execution_count": 7,
   "id": "4eb7949c",
   "metadata": {},
   "outputs": [
    {
     "name": "stdout",
     "output_type": "stream",
     "text": [
      "<class 'pandas.core.frame.DataFrame'>\n",
      "RangeIndex: 356250 entries, 0 to 356249\n",
      "Columns: 787 entries, SK_ID_CURR to DAYS_CREDIT_MEAN_TO_EMPLOYED\n",
      "dtypes: float16(482), float32(235), float64(56), int16(2), int32(1), int8(11)\n",
      "memory usage: 805.5 MB\n"
     ]
    }
   ],
   "source": [
    "df.info()"
   ]
  },
  {
   "cell_type": "code",
   "execution_count": 8,
   "id": "1ce78d76",
   "metadata": {},
   "outputs": [
    {
     "data": {
      "text/plain": [
       "(356250, 787)"
      ]
     },
     "execution_count": 8,
     "metadata": {},
     "output_type": "execute_result"
    }
   ],
   "source": [
    "df.shape"
   ]
  },
  {
   "cell_type": "markdown",
   "id": "746e1343",
   "metadata": {},
   "source": [
    "Sauvegarde"
   ]
  },
  {
   "cell_type": "code",
   "execution_count": 9,
   "id": "047be72e",
   "metadata": {},
   "outputs": [],
   "source": [
    "df.to_csv(os.path.join(DATA_INTERIM, \"all_data_full_kernel_ohe.csv\"))"
   ]
  },
  {
   "cell_type": "markdown",
   "id": "cdbeb870",
   "metadata": {},
   "source": [
    "## Label Encoding in application table"
   ]
  },
  {
   "cell_type": "markdown",
   "id": "aac32686",
   "metadata": {},
   "source": [
    "Joindre et nettoyer les données"
   ]
  },
  {
   "cell_type": "code",
   "execution_count": 10,
   "id": "67ab3a3e",
   "metadata": {},
   "outputs": [
    {
     "name": "stderr",
     "output_type": "stream",
     "text": [
      "e:\\Mes Documents\\_Open Classroom\\Code\\p7\\src\\p7_full_kernel.py:540: RuntimeWarning: All-NaN slice encountered\n",
      "  df[feature_name] = eval(\"np.{}\".format(function_name))(\n"
     ]
    },
    {
     "name": "stdout",
     "output_type": "stream",
     "text": [
      "Application dataframe shape:  (356250, 83)\n",
      "application_train and application_test - duration (hh:mm:ss) : 0:00:06\n",
      "Bureau dataframe shape:  (305811, 156)\n",
      "Bureau and bureau_balance data - duration (hh:mm:ss) : 0:00:14\n",
      "Previous dataframe shape:  (338857, 225)\n",
      "previous_application - duration (hh:mm:ss) : 0:00:21\n",
      "Pos-cash dataframe shape:  (337252, 24)\n",
      "Installments dataframe shape:  (339587, 101)\n",
      "Credit card dataframe shape:  (103558, 59)\n",
      "previous applications balances - duration (hh:mm:ss) : 0:07:35\n",
      "Initial df memory usage is 1791.14 MB for 659 columns\n",
      "Final memory usage is: 714.49 MB - decreased by 60.1%\n",
      "Pipeline total time - duration (hh:mm:ss) : 0:08:19\n"
     ]
    }
   ],
   "source": [
    "with timer(\"Pipeline total time\"):\n",
    "    df = get_full_data(debug=False, ohe=False)"
   ]
  },
  {
   "cell_type": "markdown",
   "id": "760d8381",
   "metadata": {},
   "source": [
    "Information"
   ]
  },
  {
   "cell_type": "code",
   "execution_count": 11,
   "id": "c794f6d5",
   "metadata": {},
   "outputs": [
    {
     "name": "stdout",
     "output_type": "stream",
     "text": [
      "<class 'pandas.core.frame.DataFrame'>\n",
      "RangeIndex: 356250 entries, 0 to 356249\n",
      "Columns: 659 entries, SK_ID_CURR to DAYS_CREDIT_MEAN_TO_EMPLOYED\n",
      "dtypes: float16(342), float32(235), float64(56), int16(2), int32(1), int8(23)\n",
      "memory usage: 714.5 MB\n"
     ]
    }
   ],
   "source": [
    "df.info()"
   ]
  },
  {
   "cell_type": "code",
   "execution_count": 12,
   "id": "0911a6e4",
   "metadata": {},
   "outputs": [
    {
     "data": {
      "text/plain": [
       "(356250, 659)"
      ]
     },
     "execution_count": 12,
     "metadata": {},
     "output_type": "execute_result"
    }
   ],
   "source": [
    "df.shape"
   ]
  },
  {
   "cell_type": "code",
   "execution_count": 13,
   "id": "da10ec15",
   "metadata": {},
   "outputs": [
    {
     "data": {
      "text/plain": [
       "[]"
      ]
     },
     "execution_count": 13,
     "metadata": {},
     "output_type": "execute_result"
    }
   ],
   "source": [
    "cat_features = df.select_dtypes(include='object').columns.tolist()\n",
    "cat_features"
   ]
  },
  {
   "cell_type": "code",
   "execution_count": 14,
   "id": "723fc21a",
   "metadata": {},
   "outputs": [
    {
     "data": {
      "text/plain": [
       "['data/interim/cat_features_full_kernel_le.pkl']"
      ]
     },
     "execution_count": 14,
     "metadata": {},
     "output_type": "execute_result"
    }
   ],
   "source": [
    "df.to_csv(os.path.join(DATA_INTERIM, \"all_data_full_kernel_le.csv\"))\n",
    "joblib.dump(cat_features, os.path.join(DATA_INTERIM, \"cat_features_full_kernel_le.pkl\"))"
   ]
  },
  {
   "cell_type": "markdown",
   "id": "f541a881",
   "metadata": {},
   "source": [
    "# Simple Kernel (OHE)"
   ]
  },
  {
   "cell_type": "markdown",
   "id": "a0abf3fc",
   "metadata": {},
   "source": [
    "Configuration"
   ]
  },
  {
   "cell_type": "code",
   "execution_count": 24,
   "id": "c5201d98",
   "metadata": {},
   "outputs": [
    {
     "data": {
      "text/plain": [
       "{'debug': False,\n",
       " 'nan_as_cat': True,\n",
       " 'data_output_dir': 'data/interim/',\n",
       " 'data_filename': 'all_data_simple_kernel_ohe.csv',\n",
       " 'generate_submission_files': True,\n",
       " 'model_dir': 'models/',\n",
       " 'model_subdir': 'light_simple/',\n",
       " 'importance_filename': 'feature_importance.csv',\n",
       " 'submission_filename': 'lightgbm_simple_submission.csv',\n",
       " 'num_threads': 16,\n",
       " 'stratified_kfold': True,\n",
       " 'num_folds': 10,\n",
       " 'early_stopping': 100,\n",
       " 'random_seed': 1001}"
      ]
     },
     "execution_count": 24,
     "metadata": {},
     "output_type": "execute_result"
    }
   ],
   "source": [
    "CONFIG_SIMPLE"
   ]
  },
  {
   "cell_type": "code",
   "execution_count": 25,
   "id": "2d532c23",
   "metadata": {},
   "outputs": [
    {
     "name": "stdout",
     "output_type": "stream",
     "text": [
      "Debug = False\n",
      "NaN as category = True\n",
      "Data filepath = data/interim/all_data_simple_kernel_ohe.csv\n"
     ]
    }
   ],
   "source": [
    "config = CONFIG_SIMPLE\n",
    "print(\"Debug =\", config[\"debug\"])\n",
    "print(\"NaN as category =\", config[\"nan_as_cat\"])\n",
    "print(\"Data filepath =\", os.path.join(config[\"data_output_dir\"], config[\"data_filename\"]))"
   ]
  },
  {
   "cell_type": "code",
   "execution_count": 26,
   "id": "93bc273f",
   "metadata": {},
   "outputs": [],
   "source": [
    "config[\"debug\"] = False"
   ]
  },
  {
   "cell_type": "markdown",
   "id": "9e73b7d5",
   "metadata": {},
   "source": [
    "Joindre et nettoyer les données"
   ]
  },
  {
   "cell_type": "code",
   "execution_count": 27,
   "id": "e25621d3",
   "metadata": {},
   "outputs": [
    {
     "name": "stdout",
     "output_type": "stream",
     "text": [
      "data/interim/ dossier déjà existant\n",
      "Data samples: 307511\n",
      "Application df shape: (307511, 256)\n",
      "Process Application - duration (hh:mm:ss) : 0:00:02\n",
      "Bureau df shape: (305811, 116)\n",
      "Process bureau and bureau_balance - duration (hh:mm:ss) : 0:00:11\n",
      "Previous applications df shape: (338857, 249)\n",
      "Process previous_applications - duration (hh:mm:ss) : 0:00:11\n",
      "Pos-cash balance df shape: (337252, 18)\n",
      "Process POS-CASH balance - duration (hh:mm:ss) : 0:00:06\n",
      "Installments payments df shape: (339587, 26)\n",
      "Process installments payments - duration (hh:mm:ss) : 0:00:14\n",
      "Credit card balance df shape: (103558, 125)\n",
      "Process credit card balance - duration (hh:mm:ss) : 0:00:09\n",
      "Remplacement des valeurs infinies par NaN - duration (hh:mm:ss) : 0:00:00\n",
      "write data\n",
      "\n",
      "Taille du jeu de test : (76878, 790), sauvegardé dans data/interim/v0_test.csv\n",
      "Taille du jeu de Train : (230633, 790), 1175 Mo. Sauvegardé dans data/interim/v0_train.csv\n",
      "Partage Train Test(25%) - duration (hh:mm:ss) : 0:01:06\n",
      "Pipeline total time - duration (hh:mm:ss) : 0:01:59\n"
     ]
    }
   ],
   "source": [
    "with timer(\"Pipeline total time\"):\n",
    "    df, test = get_simple_data(config)"
   ]
  },
  {
   "cell_type": "markdown",
   "id": "76487bf7",
   "metadata": {},
   "source": [
    "Information"
   ]
  },
  {
   "cell_type": "code",
   "execution_count": 28,
   "id": "f497ee87",
   "metadata": {},
   "outputs": [
    {
     "name": "stdout",
     "output_type": "stream",
     "text": [
      "<class 'pandas.core.frame.DataFrame'>\n",
      "Index: 230633 entries, 85650 to 42906\n",
      "Columns: 790 entries, SK_ID_CURR to TARGET\n",
      "dtypes: bool(141), float64(607), int64(42)\n",
      "memory usage: 1.1 GB\n"
     ]
    }
   ],
   "source": [
    "df.info()"
   ]
  },
  {
   "cell_type": "code",
   "execution_count": 29,
   "id": "43c3126b",
   "metadata": {},
   "outputs": [
    {
     "data": {
      "text/plain": [
       "(230633, 790)"
      ]
     },
     "execution_count": 29,
     "metadata": {},
     "output_type": "execute_result"
    }
   ],
   "source": [
    "df.shape"
   ]
  },
  {
   "cell_type": "code",
   "execution_count": 30,
   "id": "0066d11a",
   "metadata": {},
   "outputs": [
    {
     "data": {
      "text/plain": [
       "CODE_GENDER\n",
       "1.0    151901\n",
       "0.0     78730\n",
       "NaN         2\n",
       "Name: count, dtype: int64"
      ]
     },
     "execution_count": 30,
     "metadata": {},
     "output_type": "execute_result"
    }
   ],
   "source": [
    "df['CODE_GENDER'].value_counts(dropna=False)"
   ]
  },
  {
   "cell_type": "code",
   "execution_count": 31,
   "id": "9d5a5f3f",
   "metadata": {},
   "outputs": [
    {
     "name": "stdout",
     "output_type": "stream",
     "text": [
      "790\n",
      "790\n"
     ]
    }
   ],
   "source": [
    "# Doublons dans les noms de features ?\n",
    "features = df.columns.tolist()\n",
    "print(len(features))\n",
    "print(len(set(features)))"
   ]
  },
  {
   "cell_type": "code",
   "execution_count": 14,
   "id": "8ce0ad3d",
   "metadata": {},
   "outputs": [
    {
     "data": {
      "text/html": [
       "<div>\n",
       "<style scoped>\n",
       "    .dataframe tbody tr th:only-of-type {\n",
       "        vertical-align: middle;\n",
       "    }\n",
       "\n",
       "    .dataframe tbody tr th {\n",
       "        vertical-align: top;\n",
       "    }\n",
       "\n",
       "    .dataframe thead th {\n",
       "        text-align: right;\n",
       "    }\n",
       "</style>\n",
       "<table border=\"1\" class=\"dataframe\">\n",
       "  <thead>\n",
       "    <tr style=\"text-align: right;\">\n",
       "      <th></th>\n",
       "      <th>SK_ID_CURR</th>\n",
       "      <th>CODE_GENDER</th>\n",
       "      <th>FLAG_OWN_CAR</th>\n",
       "      <th>FLAG_OWN_REALTY</th>\n",
       "      <th>CNT_CHILDREN</th>\n",
       "      <th>AMT_INCOME_TOTAL</th>\n",
       "      <th>AMT_CREDIT</th>\n",
       "      <th>AMT_ANNUITY</th>\n",
       "      <th>AMT_GOODS_PRICE</th>\n",
       "      <th>REGION_POPULATION_RELATIVE</th>\n",
       "      <th>...</th>\n",
       "      <th>CC_NAME_CONTRACT_STATUS_Sentproposal_SUM</th>\n",
       "      <th>CC_NAME_CONTRACT_STATUS_Sentproposal_VAR</th>\n",
       "      <th>CC_NAME_CONTRACT_STATUS_Signed_MEAN</th>\n",
       "      <th>CC_NAME_CONTRACT_STATUS_Signed_SUM</th>\n",
       "      <th>CC_NAME_CONTRACT_STATUS_Signed_VAR</th>\n",
       "      <th>CC_NAME_CONTRACT_STATUS_nan_MEAN</th>\n",
       "      <th>CC_NAME_CONTRACT_STATUS_nan_SUM</th>\n",
       "      <th>CC_NAME_CONTRACT_STATUS_nan_VAR</th>\n",
       "      <th>CC_COUNT</th>\n",
       "      <th>TARGET</th>\n",
       "    </tr>\n",
       "  </thead>\n",
       "  <tbody>\n",
       "    <tr>\n",
       "      <th>85650</th>\n",
       "      <td>199392</td>\n",
       "      <td>0.0</td>\n",
       "      <td>1</td>\n",
       "      <td>1</td>\n",
       "      <td>1</td>\n",
       "      <td>225000.0</td>\n",
       "      <td>270000.0</td>\n",
       "      <td>13500.0</td>\n",
       "      <td>270000.0</td>\n",
       "      <td>0.008625</td>\n",
       "      <td>...</td>\n",
       "      <td>NaN</td>\n",
       "      <td>NaN</td>\n",
       "      <td>NaN</td>\n",
       "      <td>NaN</td>\n",
       "      <td>NaN</td>\n",
       "      <td>NaN</td>\n",
       "      <td>NaN</td>\n",
       "      <td>NaN</td>\n",
       "      <td>NaN</td>\n",
       "      <td>0</td>\n",
       "    </tr>\n",
       "    <tr>\n",
       "      <th>212385</th>\n",
       "      <td>346123</td>\n",
       "      <td>1.0</td>\n",
       "      <td>0</td>\n",
       "      <td>0</td>\n",
       "      <td>0</td>\n",
       "      <td>540000.0</td>\n",
       "      <td>2013840.0</td>\n",
       "      <td>53253.0</td>\n",
       "      <td>1800000.0</td>\n",
       "      <td>0.016612</td>\n",
       "      <td>...</td>\n",
       "      <td>NaN</td>\n",
       "      <td>NaN</td>\n",
       "      <td>NaN</td>\n",
       "      <td>NaN</td>\n",
       "      <td>NaN</td>\n",
       "      <td>NaN</td>\n",
       "      <td>NaN</td>\n",
       "      <td>NaN</td>\n",
       "      <td>NaN</td>\n",
       "      <td>0</td>\n",
       "    </tr>\n",
       "    <tr>\n",
       "      <th>35384</th>\n",
       "      <td>140985</td>\n",
       "      <td>1.0</td>\n",
       "      <td>0</td>\n",
       "      <td>1</td>\n",
       "      <td>0</td>\n",
       "      <td>103500.0</td>\n",
       "      <td>239850.0</td>\n",
       "      <td>23364.0</td>\n",
       "      <td>225000.0</td>\n",
       "      <td>0.024610</td>\n",
       "      <td>...</td>\n",
       "      <td>0.0</td>\n",
       "      <td>NaN</td>\n",
       "      <td>0.0</td>\n",
       "      <td>0.0</td>\n",
       "      <td>NaN</td>\n",
       "      <td>0.0</td>\n",
       "      <td>0.0</td>\n",
       "      <td>NaN</td>\n",
       "      <td>1.0</td>\n",
       "      <td>0</td>\n",
       "    </tr>\n",
       "    <tr>\n",
       "      <th>47464</th>\n",
       "      <td>154964</td>\n",
       "      <td>0.0</td>\n",
       "      <td>0</td>\n",
       "      <td>0</td>\n",
       "      <td>1</td>\n",
       "      <td>135000.0</td>\n",
       "      <td>473760.0</td>\n",
       "      <td>53451.0</td>\n",
       "      <td>450000.0</td>\n",
       "      <td>0.010006</td>\n",
       "      <td>...</td>\n",
       "      <td>0.0</td>\n",
       "      <td>0.0</td>\n",
       "      <td>0.0</td>\n",
       "      <td>0.0</td>\n",
       "      <td>0.0</td>\n",
       "      <td>0.0</td>\n",
       "      <td>0.0</td>\n",
       "      <td>0.0</td>\n",
       "      <td>14.0</td>\n",
       "      <td>0</td>\n",
       "    </tr>\n",
       "    <tr>\n",
       "      <th>172378</th>\n",
       "      <td>299752</td>\n",
       "      <td>0.0</td>\n",
       "      <td>0</td>\n",
       "      <td>0</td>\n",
       "      <td>1</td>\n",
       "      <td>216000.0</td>\n",
       "      <td>1714833.0</td>\n",
       "      <td>59737.5</td>\n",
       "      <td>1566000.0</td>\n",
       "      <td>0.025164</td>\n",
       "      <td>...</td>\n",
       "      <td>NaN</td>\n",
       "      <td>NaN</td>\n",
       "      <td>NaN</td>\n",
       "      <td>NaN</td>\n",
       "      <td>NaN</td>\n",
       "      <td>NaN</td>\n",
       "      <td>NaN</td>\n",
       "      <td>NaN</td>\n",
       "      <td>NaN</td>\n",
       "      <td>0</td>\n",
       "    </tr>\n",
       "  </tbody>\n",
       "</table>\n",
       "<p>5 rows × 790 columns</p>\n",
       "</div>"
      ],
      "text/plain": [
       "        SK_ID_CURR  CODE_GENDER  FLAG_OWN_CAR  FLAG_OWN_REALTY  CNT_CHILDREN  \\\n",
       "85650       199392          0.0             1                1             1   \n",
       "212385      346123          1.0             0                0             0   \n",
       "35384       140985          1.0             0                1             0   \n",
       "47464       154964          0.0             0                0             1   \n",
       "172378      299752          0.0             0                0             1   \n",
       "\n",
       "        AMT_INCOME_TOTAL  AMT_CREDIT  AMT_ANNUITY  AMT_GOODS_PRICE  \\\n",
       "85650           225000.0    270000.0      13500.0         270000.0   \n",
       "212385          540000.0   2013840.0      53253.0        1800000.0   \n",
       "35384           103500.0    239850.0      23364.0         225000.0   \n",
       "47464           135000.0    473760.0      53451.0         450000.0   \n",
       "172378          216000.0   1714833.0      59737.5        1566000.0   \n",
       "\n",
       "        REGION_POPULATION_RELATIVE  ...  \\\n",
       "85650                     0.008625  ...   \n",
       "212385                    0.016612  ...   \n",
       "35384                     0.024610  ...   \n",
       "47464                     0.010006  ...   \n",
       "172378                    0.025164  ...   \n",
       "\n",
       "        CC_NAME_CONTRACT_STATUS_Sentproposal_SUM  \\\n",
       "85650                                        NaN   \n",
       "212385                                       NaN   \n",
       "35384                                        0.0   \n",
       "47464                                        0.0   \n",
       "172378                                       NaN   \n",
       "\n",
       "        CC_NAME_CONTRACT_STATUS_Sentproposal_VAR  \\\n",
       "85650                                        NaN   \n",
       "212385                                       NaN   \n",
       "35384                                        NaN   \n",
       "47464                                        0.0   \n",
       "172378                                       NaN   \n",
       "\n",
       "        CC_NAME_CONTRACT_STATUS_Signed_MEAN  \\\n",
       "85650                                   NaN   \n",
       "212385                                  NaN   \n",
       "35384                                   0.0   \n",
       "47464                                   0.0   \n",
       "172378                                  NaN   \n",
       "\n",
       "        CC_NAME_CONTRACT_STATUS_Signed_SUM  \\\n",
       "85650                                  NaN   \n",
       "212385                                 NaN   \n",
       "35384                                  0.0   \n",
       "47464                                  0.0   \n",
       "172378                                 NaN   \n",
       "\n",
       "        CC_NAME_CONTRACT_STATUS_Signed_VAR  CC_NAME_CONTRACT_STATUS_nan_MEAN  \\\n",
       "85650                                  NaN                               NaN   \n",
       "212385                                 NaN                               NaN   \n",
       "35384                                  NaN                               0.0   \n",
       "47464                                  0.0                               0.0   \n",
       "172378                                 NaN                               NaN   \n",
       "\n",
       "        CC_NAME_CONTRACT_STATUS_nan_SUM  CC_NAME_CONTRACT_STATUS_nan_VAR  \\\n",
       "85650                               NaN                              NaN   \n",
       "212385                              NaN                              NaN   \n",
       "35384                               0.0                              NaN   \n",
       "47464                               0.0                              0.0   \n",
       "172378                              NaN                              NaN   \n",
       "\n",
       "        CC_COUNT  TARGET  \n",
       "85650        NaN       0  \n",
       "212385       NaN       0  \n",
       "35384        1.0       0  \n",
       "47464       14.0       0  \n",
       "172378       NaN       0  \n",
       "\n",
       "[5 rows x 790 columns]"
      ]
     },
     "execution_count": 14,
     "metadata": {},
     "output_type": "execute_result"
    }
   ],
   "source": [
    "df.head()"
   ]
  },
  {
   "cell_type": "markdown",
   "id": "3f108d0d",
   "metadata": {},
   "source": [
    "Features de variance nulle"
   ]
  },
  {
   "cell_type": "code",
   "execution_count": 15,
   "id": "cec7f110",
   "metadata": {},
   "outputs": [
    {
     "data": {
      "text/plain": [
       "(230633, 790)"
      ]
     },
     "execution_count": 15,
     "metadata": {},
     "output_type": "execute_result"
    }
   ],
   "source": [
    "df.shape"
   ]
  },
  {
   "cell_type": "code",
   "execution_count": 48,
   "id": "bfcff833",
   "metadata": {},
   "outputs": [],
   "source": [
    "from src.p7_simple_kernel import get_memory_consumed\n",
    "from src.p7_feature_selection import DataSelector\n",
    "from src.p7_simple_kernel import LIGHTGBM_PARAMS_SIMPLE\n",
    "from src.p7_evaluate import lgb_cross_evaluate"
   ]
  },
  {
   "cell_type": "code",
   "execution_count": 46,
   "id": "30784008",
   "metadata": {},
   "outputs": [
    {
     "data": {
      "text/plain": [
       "{'debug': False,\n",
       " 'nan_as_cat': True,\n",
       " 'data_output_dir': 'data/interim/',\n",
       " 'data_filename': 'all_data_simple_kernel_ohe.csv',\n",
       " 'generate_submission_files': True,\n",
       " 'model_dir': 'models/',\n",
       " 'model_subdir': 'light_simple/',\n",
       " 'importance_filename': 'feature_importance.csv',\n",
       " 'submission_filename': 'lightgbm_simple_submission.csv',\n",
       " 'num_threads': 16,\n",
       " 'stratified_kfold': True,\n",
       " 'num_folds': 10,\n",
       " 'early_stopping': 100,\n",
       " 'random_seed': 1001}"
      ]
     },
     "execution_count": 46,
     "metadata": {},
     "output_type": "execute_result"
    }
   ],
   "source": [
    "LIGHTGBM_PARAMS_SIMPLE"
   ]
  },
  {
   "cell_type": "code",
   "execution_count": 34,
   "id": "10b1f00f",
   "metadata": {},
   "outputs": [
    {
     "name": "stdout",
     "output_type": "stream",
     "text": [
      "Train : (230633, 790)\n",
      "Test : (76878, 790)\n"
     ]
    }
   ],
   "source": [
    "train = pd.read_csv(os.path.join(DATA_INTERIM, \"v0_train.csv\"))\n",
    "print(\"Train :\", train.shape)\n",
    "test = pd.read_csv(os.path.join(DATA_INTERIM, \"v0_test.csv\"))\n",
    "print(\"Test :\", test.shape)"
   ]
  },
  {
   "cell_type": "code",
   "execution_count": 35,
   "id": "16699a8d",
   "metadata": {},
   "outputs": [],
   "source": [
    "ds = DataSelector(train, test)"
   ]
  },
  {
   "cell_type": "code",
   "execution_count": 36,
   "id": "2453d880",
   "metadata": {},
   "outputs": [
    {
     "name": "stdout",
     "output_type": "stream",
     "text": [
      "33 features de variance nulle suppimées dans Train et Test\n",
      "Nouvelle taille du jeu de Train : (230633, 757), 1123 Mo\n"
     ]
    }
   ],
   "source": [
    "_ = ds.drop_null_std()"
   ]
  },
  {
   "cell_type": "code",
   "execution_count": 40,
   "id": "9fafa32b",
   "metadata": {},
   "outputs": [
    {
     "name": "stdout",
     "output_type": "stream",
     "text": [
      "Le fichier data/interim/v1_train.csv sauvegardé. Forme (230633, 757)\n",
      "Le fichier data/interim/v1_test.csv sauvegardé. Forme (76878, 757)\n"
     ]
    }
   ],
   "source": [
    "ds.save_data(\"v1_train.csv\", \"v1_test.csv\")"
   ]
  },
  {
   "cell_type": "code",
   "execution_count": 72,
   "id": "00261de4",
   "metadata": {},
   "outputs": [],
   "source": [
    "df = ds.train\n",
    "#lgb_cross_evaluate(df, params=LIGHTGBM_PARAMS_SIMPLE)"
   ]
  },
  {
   "cell_type": "code",
   "execution_count": 52,
   "id": "83b9efc9",
   "metadata": {},
   "outputs": [],
   "source": [
    "import lightgbm as lgb\n",
    "from lightgbm import LGBMClassifier\n",
    "from sklearn.metrics import roc_auc_score, roc_curve\n",
    "from sklearn.model_selection import KFold, StratifiedKFold, train_test_split"
   ]
  },
  {
   "cell_type": "code",
   "execution_count": null,
   "id": "043f373b",
   "metadata": {},
   "outputs": [],
   "source": [
    "#df = df.set_index(\"SK_ID_CURR\")"
   ]
  },
  {
   "cell_type": "code",
   "execution_count": 88,
   "id": "aa562bae",
   "metadata": {},
   "outputs": [],
   "source": [
    "def check_df(X):\n",
    "    print(\"Valeurs infinies :\\n\", np.isinf(X).sum())\n",
    "    print(\"Valeurs non numériques :\\n\", X.applymap(lambda x: not isinstance(x, (int, float))).sum())\n",
    "    return"
   ]
  },
  {
   "cell_type": "code",
   "execution_count": 73,
   "id": "5c8eba42",
   "metadata": {},
   "outputs": [
    {
     "data": {
      "text/plain": [
       "(230633, 755)"
      ]
     },
     "execution_count": 73,
     "metadata": {},
     "output_type": "execute_result"
    }
   ],
   "source": [
    "features = df.columns.tolist()\n",
    "features.remove(\"TARGET\")\n",
    "features.remove(\"SK_ID_CURR\")\n",
    "X = df[features]\n",
    "y = df['TARGET']\n",
    "X.shape"
   ]
  },
  {
   "cell_type": "code",
   "execution_count": 76,
   "id": "223ff162",
   "metadata": {},
   "outputs": [
    {
     "data": {
      "text/plain": [
       "0"
      ]
     },
     "execution_count": 76,
     "metadata": {},
     "output_type": "execute_result"
    }
   ],
   "source": [
    "y.isnull().sum()"
   ]
  },
  {
   "cell_type": "code",
   "execution_count": 77,
   "id": "ffb60ad8",
   "metadata": {},
   "outputs": [
    {
     "data": {
      "text/plain": [
       "0"
      ]
     },
     "execution_count": 77,
     "metadata": {},
     "output_type": "execute_result"
    }
   ],
   "source": [
    "y.isna().sum()"
   ]
  },
  {
   "cell_type": "code",
   "execution_count": null,
   "id": "220baf96",
   "metadata": {},
   "outputs": [],
   "source": []
  },
  {
   "cell_type": "code",
   "execution_count": 93,
   "id": "88282a8a",
   "metadata": {},
   "outputs": [],
   "source": [
    "X_train, X_val, y_train, y_val = train_test_split(X, y, test_size=0.25, random_state=42, stratify=y)"
   ]
  },
  {
   "cell_type": "code",
   "execution_count": 94,
   "id": "c8220d49",
   "metadata": {},
   "outputs": [
    {
     "data": {
      "text/plain": [
       "pandas.core.frame.DataFrame"
      ]
     },
     "execution_count": 94,
     "metadata": {},
     "output_type": "execute_result"
    }
   ],
   "source": [
    "type(X_val)"
   ]
  },
  {
   "cell_type": "code",
   "execution_count": null,
   "id": "434754eb",
   "metadata": {},
   "outputs": [],
   "source": []
  },
  {
   "cell_type": "code",
   "execution_count": 95,
   "id": "a43967f3",
   "metadata": {},
   "outputs": [
    {
     "name": "stdout",
     "output_type": "stream",
     "text": [
      "Valeurs infinies :\n",
      " CODE_GENDER                                 0\n",
      "FLAG_OWN_CAR                                0\n",
      "FLAG_OWN_REALTY                             0\n",
      "CNT_CHILDREN                                0\n",
      "AMT_INCOME_TOTAL                            0\n",
      "                                           ..\n",
      "CC_NAME_CONTRACT_STATUS_Sentproposal_VAR    0\n",
      "CC_NAME_CONTRACT_STATUS_Signed_MEAN         0\n",
      "CC_NAME_CONTRACT_STATUS_Signed_SUM          0\n",
      "CC_NAME_CONTRACT_STATUS_Signed_VAR          0\n",
      "CC_COUNT                                    0\n",
      "Length: 755, dtype: int64\n",
      "Valeurs non numériques :\n",
      " CODE_GENDER                                 0\n",
      "FLAG_OWN_CAR                                0\n",
      "FLAG_OWN_REALTY                             0\n",
      "CNT_CHILDREN                                0\n",
      "AMT_INCOME_TOTAL                            0\n",
      "                                           ..\n",
      "CC_NAME_CONTRACT_STATUS_Sentproposal_VAR    0\n",
      "CC_NAME_CONTRACT_STATUS_Signed_MEAN         0\n",
      "CC_NAME_CONTRACT_STATUS_Signed_SUM          0\n",
      "CC_NAME_CONTRACT_STATUS_Signed_VAR          0\n",
      "CC_COUNT                                    0\n",
      "Length: 755, dtype: int64\n",
      "Valeurs infinies :\n",
      " CODE_GENDER                                 0\n",
      "FLAG_OWN_CAR                                0\n",
      "FLAG_OWN_REALTY                             0\n",
      "CNT_CHILDREN                                0\n",
      "AMT_INCOME_TOTAL                            0\n",
      "                                           ..\n",
      "CC_NAME_CONTRACT_STATUS_Sentproposal_VAR    0\n",
      "CC_NAME_CONTRACT_STATUS_Signed_MEAN         0\n",
      "CC_NAME_CONTRACT_STATUS_Signed_SUM          0\n",
      "CC_NAME_CONTRACT_STATUS_Signed_VAR          0\n",
      "CC_COUNT                                    0\n",
      "Length: 755, dtype: int64\n",
      "Valeurs non numériques :\n",
      " CODE_GENDER                                 0\n",
      "FLAG_OWN_CAR                                0\n",
      "FLAG_OWN_REALTY                             0\n",
      "CNT_CHILDREN                                0\n",
      "AMT_INCOME_TOTAL                            0\n",
      "                                           ..\n",
      "CC_NAME_CONTRACT_STATUS_Sentproposal_VAR    0\n",
      "CC_NAME_CONTRACT_STATUS_Signed_MEAN         0\n",
      "CC_NAME_CONTRACT_STATUS_Signed_SUM          0\n",
      "CC_NAME_CONTRACT_STATUS_Signed_VAR          0\n",
      "CC_COUNT                                    0\n",
      "Length: 755, dtype: int64\n"
     ]
    }
   ],
   "source": [
    "check_df(X_train)\n",
    "check_df(X_val)"
   ]
  },
  {
   "cell_type": "code",
   "execution_count": 78,
   "id": "1847901d",
   "metadata": {},
   "outputs": [
    {
     "data": {
      "text/plain": [
       "0"
      ]
     },
     "execution_count": 78,
     "metadata": {},
     "output_type": "execute_result"
    }
   ],
   "source": [
    "# Convertir les bool en int\n",
    "var_bool = df.select_dtypes(\"bool\").columns\n",
    "len(var_bool)"
   ]
  },
  {
   "cell_type": "code",
   "execution_count": 84,
   "id": "5d4b7616",
   "metadata": {},
   "outputs": [],
   "source": [
    "df[var_bool] = df[var_bool].astype(int)\n",
    "X[var_bool] = X[var_bool].astype(int)"
   ]
  },
  {
   "cell_type": "code",
   "execution_count": 67,
   "id": "5a432076",
   "metadata": {},
   "outputs": [
    {
     "name": "stdout",
     "output_type": "stream",
     "text": [
      "Taille mémoire du DataFrame : 1212 Mo\n"
     ]
    },
    {
     "data": {
      "text/plain": [
       "1212"
      ]
     },
     "execution_count": 67,
     "metadata": {},
     "output_type": "execute_result"
    }
   ],
   "source": [
    "get_memory_consumed(df)"
   ]
  },
  {
   "cell_type": "code",
   "execution_count": 96,
   "id": "9f5f5c3b",
   "metadata": {},
   "outputs": [
    {
     "name": "stdout",
     "output_type": "stream",
     "text": [
      "Training until validation scores don't improve for 50 rounds\n",
      "Early stopping, best iteration is:\n",
      "[1284]\ttraining's auc: 0.894863\ttraining's binary_logloss: 0.192957\tvalid_1's auc: 0.784343\tvalid_1's binary_logloss: 0.238391\n"
     ]
    },
    {
     "data": {
      "text/plain": [
       "'oof_preds[valid_idx] = clf.predict_proba(\\n    valid_x, num_iteration=clf.best_iteration_\\n)[:, 1]'"
      ]
     },
     "execution_count": 96,
     "metadata": {},
     "output_type": "execute_result"
    }
   ],
   "source": [
    "\n",
    "\n",
    "\n",
    "params = {\n",
    "    \"random_state\": 42,\n",
    "    \"nthread\": 8,\n",
    "}\n",
    "clf = LGBMClassifier(**{**params, **LIGHTGBM_PARAMS_SIMPLE})\n",
    "\n",
    "clf.fit(\n",
    "    X_train,\n",
    "    y_train,\n",
    "    eval_set=[(X_train, y_train), (X_val, y_val)],\n",
    "    eval_metric=\"auc\",\n",
    "    # verbose=200,\n",
    "    callbacks=[lgb.early_stopping(50)],\n",
    "    n_jobs=16,\n",
    ")\n",
    "\n",
    "\"\"\"oof_preds[valid_idx] = clf.predict_proba(\n",
    "    valid_x, num_iteration=clf.best_iteration_\n",
    ")[:, 1]\"\"\"\n"
   ]
  },
  {
   "cell_type": "code",
   "execution_count": 97,
   "id": "57a50c7f",
   "metadata": {},
   "outputs": [
    {
     "data": {
      "text/plain": [
       "1284"
      ]
     },
     "execution_count": 97,
     "metadata": {},
     "output_type": "execute_result"
    }
   ],
   "source": [
    "clf.best_iteration_"
   ]
  },
  {
   "cell_type": "code",
   "execution_count": 99,
   "id": "8fa30fe0",
   "metadata": {},
   "outputs": [],
   "source": [
    "params = clf.get_params()\n",
    "params['n_estimators'] = clf.best_iteration_"
   ]
  },
  {
   "cell_type": "code",
   "execution_count": 101,
   "id": "54e89ae9",
   "metadata": {},
   "outputs": [
    {
     "name": "stdout",
     "output_type": "stream",
     "text": [
      "Training until validation scores don't improve for 50 rounds\n",
      "Did not meet early stopping. Best iteration is:\n",
      "[1284]\ttraining's auc: 0.894863\ttraining's binary_logloss: 0.192957\tvalid_1's auc: 0.784343\tvalid_1's binary_logloss: 0.238391\n"
     ]
    },
    {
     "data": {
      "text/html": [
       "<style>#sk-container-id-1 {\n",
       "  /* Definition of color scheme common for light and dark mode */\n",
       "  --sklearn-color-text: black;\n",
       "  --sklearn-color-line: gray;\n",
       "  /* Definition of color scheme for unfitted estimators */\n",
       "  --sklearn-color-unfitted-level-0: #fff5e6;\n",
       "  --sklearn-color-unfitted-level-1: #f6e4d2;\n",
       "  --sklearn-color-unfitted-level-2: #ffe0b3;\n",
       "  --sklearn-color-unfitted-level-3: chocolate;\n",
       "  /* Definition of color scheme for fitted estimators */\n",
       "  --sklearn-color-fitted-level-0: #f0f8ff;\n",
       "  --sklearn-color-fitted-level-1: #d4ebff;\n",
       "  --sklearn-color-fitted-level-2: #b3dbfd;\n",
       "  --sklearn-color-fitted-level-3: cornflowerblue;\n",
       "\n",
       "  /* Specific color for light theme */\n",
       "  --sklearn-color-text-on-default-background: var(--sg-text-color, var(--theme-code-foreground, var(--jp-content-font-color1, black)));\n",
       "  --sklearn-color-background: var(--sg-background-color, var(--theme-background, var(--jp-layout-color0, white)));\n",
       "  --sklearn-color-border-box: var(--sg-text-color, var(--theme-code-foreground, var(--jp-content-font-color1, black)));\n",
       "  --sklearn-color-icon: #696969;\n",
       "\n",
       "  @media (prefers-color-scheme: dark) {\n",
       "    /* Redefinition of color scheme for dark theme */\n",
       "    --sklearn-color-text-on-default-background: var(--sg-text-color, var(--theme-code-foreground, var(--jp-content-font-color1, white)));\n",
       "    --sklearn-color-background: var(--sg-background-color, var(--theme-background, var(--jp-layout-color0, #111)));\n",
       "    --sklearn-color-border-box: var(--sg-text-color, var(--theme-code-foreground, var(--jp-content-font-color1, white)));\n",
       "    --sklearn-color-icon: #878787;\n",
       "  }\n",
       "}\n",
       "\n",
       "#sk-container-id-1 {\n",
       "  color: var(--sklearn-color-text);\n",
       "}\n",
       "\n",
       "#sk-container-id-1 pre {\n",
       "  padding: 0;\n",
       "}\n",
       "\n",
       "#sk-container-id-1 input.sk-hidden--visually {\n",
       "  border: 0;\n",
       "  clip: rect(1px 1px 1px 1px);\n",
       "  clip: rect(1px, 1px, 1px, 1px);\n",
       "  height: 1px;\n",
       "  margin: -1px;\n",
       "  overflow: hidden;\n",
       "  padding: 0;\n",
       "  position: absolute;\n",
       "  width: 1px;\n",
       "}\n",
       "\n",
       "#sk-container-id-1 div.sk-dashed-wrapped {\n",
       "  border: 1px dashed var(--sklearn-color-line);\n",
       "  margin: 0 0.4em 0.5em 0.4em;\n",
       "  box-sizing: border-box;\n",
       "  padding-bottom: 0.4em;\n",
       "  background-color: var(--sklearn-color-background);\n",
       "}\n",
       "\n",
       "#sk-container-id-1 div.sk-container {\n",
       "  /* jupyter's `normalize.less` sets `[hidden] { display: none; }`\n",
       "     but bootstrap.min.css set `[hidden] { display: none !important; }`\n",
       "     so we also need the `!important` here to be able to override the\n",
       "     default hidden behavior on the sphinx rendered scikit-learn.org.\n",
       "     See: https://github.com/scikit-learn/scikit-learn/issues/21755 */\n",
       "  display: inline-block !important;\n",
       "  position: relative;\n",
       "}\n",
       "\n",
       "#sk-container-id-1 div.sk-text-repr-fallback {\n",
       "  display: none;\n",
       "}\n",
       "\n",
       "div.sk-parallel-item,\n",
       "div.sk-serial,\n",
       "div.sk-item {\n",
       "  /* draw centered vertical line to link estimators */\n",
       "  background-image: linear-gradient(var(--sklearn-color-text-on-default-background), var(--sklearn-color-text-on-default-background));\n",
       "  background-size: 2px 100%;\n",
       "  background-repeat: no-repeat;\n",
       "  background-position: center center;\n",
       "}\n",
       "\n",
       "/* Parallel-specific style estimator block */\n",
       "\n",
       "#sk-container-id-1 div.sk-parallel-item::after {\n",
       "  content: \"\";\n",
       "  width: 100%;\n",
       "  border-bottom: 2px solid var(--sklearn-color-text-on-default-background);\n",
       "  flex-grow: 1;\n",
       "}\n",
       "\n",
       "#sk-container-id-1 div.sk-parallel {\n",
       "  display: flex;\n",
       "  align-items: stretch;\n",
       "  justify-content: center;\n",
       "  background-color: var(--sklearn-color-background);\n",
       "  position: relative;\n",
       "}\n",
       "\n",
       "#sk-container-id-1 div.sk-parallel-item {\n",
       "  display: flex;\n",
       "  flex-direction: column;\n",
       "}\n",
       "\n",
       "#sk-container-id-1 div.sk-parallel-item:first-child::after {\n",
       "  align-self: flex-end;\n",
       "  width: 50%;\n",
       "}\n",
       "\n",
       "#sk-container-id-1 div.sk-parallel-item:last-child::after {\n",
       "  align-self: flex-start;\n",
       "  width: 50%;\n",
       "}\n",
       "\n",
       "#sk-container-id-1 div.sk-parallel-item:only-child::after {\n",
       "  width: 0;\n",
       "}\n",
       "\n",
       "/* Serial-specific style estimator block */\n",
       "\n",
       "#sk-container-id-1 div.sk-serial {\n",
       "  display: flex;\n",
       "  flex-direction: column;\n",
       "  align-items: center;\n",
       "  background-color: var(--sklearn-color-background);\n",
       "  padding-right: 1em;\n",
       "  padding-left: 1em;\n",
       "}\n",
       "\n",
       "\n",
       "/* Toggleable style: style used for estimator/Pipeline/ColumnTransformer box that is\n",
       "clickable and can be expanded/collapsed.\n",
       "- Pipeline and ColumnTransformer use this feature and define the default style\n",
       "- Estimators will overwrite some part of the style using the `sk-estimator` class\n",
       "*/\n",
       "\n",
       "/* Pipeline and ColumnTransformer style (default) */\n",
       "\n",
       "#sk-container-id-1 div.sk-toggleable {\n",
       "  /* Default theme specific background. It is overwritten whether we have a\n",
       "  specific estimator or a Pipeline/ColumnTransformer */\n",
       "  background-color: var(--sklearn-color-background);\n",
       "}\n",
       "\n",
       "/* Toggleable label */\n",
       "#sk-container-id-1 label.sk-toggleable__label {\n",
       "  cursor: pointer;\n",
       "  display: block;\n",
       "  width: 100%;\n",
       "  margin-bottom: 0;\n",
       "  padding: 0.5em;\n",
       "  box-sizing: border-box;\n",
       "  text-align: center;\n",
       "}\n",
       "\n",
       "#sk-container-id-1 label.sk-toggleable__label-arrow:before {\n",
       "  /* Arrow on the left of the label */\n",
       "  content: \"▸\";\n",
       "  float: left;\n",
       "  margin-right: 0.25em;\n",
       "  color: var(--sklearn-color-icon);\n",
       "}\n",
       "\n",
       "#sk-container-id-1 label.sk-toggleable__label-arrow:hover:before {\n",
       "  color: var(--sklearn-color-text);\n",
       "}\n",
       "\n",
       "/* Toggleable content - dropdown */\n",
       "\n",
       "#sk-container-id-1 div.sk-toggleable__content {\n",
       "  max-height: 0;\n",
       "  max-width: 0;\n",
       "  overflow: hidden;\n",
       "  text-align: left;\n",
       "  /* unfitted */\n",
       "  background-color: var(--sklearn-color-unfitted-level-0);\n",
       "}\n",
       "\n",
       "#sk-container-id-1 div.sk-toggleable__content.fitted {\n",
       "  /* fitted */\n",
       "  background-color: var(--sklearn-color-fitted-level-0);\n",
       "}\n",
       "\n",
       "#sk-container-id-1 div.sk-toggleable__content pre {\n",
       "  margin: 0.2em;\n",
       "  border-radius: 0.25em;\n",
       "  color: var(--sklearn-color-text);\n",
       "  /* unfitted */\n",
       "  background-color: var(--sklearn-color-unfitted-level-0);\n",
       "}\n",
       "\n",
       "#sk-container-id-1 div.sk-toggleable__content.fitted pre {\n",
       "  /* unfitted */\n",
       "  background-color: var(--sklearn-color-fitted-level-0);\n",
       "}\n",
       "\n",
       "#sk-container-id-1 input.sk-toggleable__control:checked~div.sk-toggleable__content {\n",
       "  /* Expand drop-down */\n",
       "  max-height: 200px;\n",
       "  max-width: 100%;\n",
       "  overflow: auto;\n",
       "}\n",
       "\n",
       "#sk-container-id-1 input.sk-toggleable__control:checked~label.sk-toggleable__label-arrow:before {\n",
       "  content: \"▾\";\n",
       "}\n",
       "\n",
       "/* Pipeline/ColumnTransformer-specific style */\n",
       "\n",
       "#sk-container-id-1 div.sk-label input.sk-toggleable__control:checked~label.sk-toggleable__label {\n",
       "  color: var(--sklearn-color-text);\n",
       "  background-color: var(--sklearn-color-unfitted-level-2);\n",
       "}\n",
       "\n",
       "#sk-container-id-1 div.sk-label.fitted input.sk-toggleable__control:checked~label.sk-toggleable__label {\n",
       "  background-color: var(--sklearn-color-fitted-level-2);\n",
       "}\n",
       "\n",
       "/* Estimator-specific style */\n",
       "\n",
       "/* Colorize estimator box */\n",
       "#sk-container-id-1 div.sk-estimator input.sk-toggleable__control:checked~label.sk-toggleable__label {\n",
       "  /* unfitted */\n",
       "  background-color: var(--sklearn-color-unfitted-level-2);\n",
       "}\n",
       "\n",
       "#sk-container-id-1 div.sk-estimator.fitted input.sk-toggleable__control:checked~label.sk-toggleable__label {\n",
       "  /* fitted */\n",
       "  background-color: var(--sklearn-color-fitted-level-2);\n",
       "}\n",
       "\n",
       "#sk-container-id-1 div.sk-label label.sk-toggleable__label,\n",
       "#sk-container-id-1 div.sk-label label {\n",
       "  /* The background is the default theme color */\n",
       "  color: var(--sklearn-color-text-on-default-background);\n",
       "}\n",
       "\n",
       "/* On hover, darken the color of the background */\n",
       "#sk-container-id-1 div.sk-label:hover label.sk-toggleable__label {\n",
       "  color: var(--sklearn-color-text);\n",
       "  background-color: var(--sklearn-color-unfitted-level-2);\n",
       "}\n",
       "\n",
       "/* Label box, darken color on hover, fitted */\n",
       "#sk-container-id-1 div.sk-label.fitted:hover label.sk-toggleable__label.fitted {\n",
       "  color: var(--sklearn-color-text);\n",
       "  background-color: var(--sklearn-color-fitted-level-2);\n",
       "}\n",
       "\n",
       "/* Estimator label */\n",
       "\n",
       "#sk-container-id-1 div.sk-label label {\n",
       "  font-family: monospace;\n",
       "  font-weight: bold;\n",
       "  display: inline-block;\n",
       "  line-height: 1.2em;\n",
       "}\n",
       "\n",
       "#sk-container-id-1 div.sk-label-container {\n",
       "  text-align: center;\n",
       "}\n",
       "\n",
       "/* Estimator-specific */\n",
       "#sk-container-id-1 div.sk-estimator {\n",
       "  font-family: monospace;\n",
       "  border: 1px dotted var(--sklearn-color-border-box);\n",
       "  border-radius: 0.25em;\n",
       "  box-sizing: border-box;\n",
       "  margin-bottom: 0.5em;\n",
       "  /* unfitted */\n",
       "  background-color: var(--sklearn-color-unfitted-level-0);\n",
       "}\n",
       "\n",
       "#sk-container-id-1 div.sk-estimator.fitted {\n",
       "  /* fitted */\n",
       "  background-color: var(--sklearn-color-fitted-level-0);\n",
       "}\n",
       "\n",
       "/* on hover */\n",
       "#sk-container-id-1 div.sk-estimator:hover {\n",
       "  /* unfitted */\n",
       "  background-color: var(--sklearn-color-unfitted-level-2);\n",
       "}\n",
       "\n",
       "#sk-container-id-1 div.sk-estimator.fitted:hover {\n",
       "  /* fitted */\n",
       "  background-color: var(--sklearn-color-fitted-level-2);\n",
       "}\n",
       "\n",
       "/* Specification for estimator info (e.g. \"i\" and \"?\") */\n",
       "\n",
       "/* Common style for \"i\" and \"?\" */\n",
       "\n",
       ".sk-estimator-doc-link,\n",
       "a:link.sk-estimator-doc-link,\n",
       "a:visited.sk-estimator-doc-link {\n",
       "  float: right;\n",
       "  font-size: smaller;\n",
       "  line-height: 1em;\n",
       "  font-family: monospace;\n",
       "  background-color: var(--sklearn-color-background);\n",
       "  border-radius: 1em;\n",
       "  height: 1em;\n",
       "  width: 1em;\n",
       "  text-decoration: none !important;\n",
       "  margin-left: 1ex;\n",
       "  /* unfitted */\n",
       "  border: var(--sklearn-color-unfitted-level-1) 1pt solid;\n",
       "  color: var(--sklearn-color-unfitted-level-1);\n",
       "}\n",
       "\n",
       ".sk-estimator-doc-link.fitted,\n",
       "a:link.sk-estimator-doc-link.fitted,\n",
       "a:visited.sk-estimator-doc-link.fitted {\n",
       "  /* fitted */\n",
       "  border: var(--sklearn-color-fitted-level-1) 1pt solid;\n",
       "  color: var(--sklearn-color-fitted-level-1);\n",
       "}\n",
       "\n",
       "/* On hover */\n",
       "div.sk-estimator:hover .sk-estimator-doc-link:hover,\n",
       ".sk-estimator-doc-link:hover,\n",
       "div.sk-label-container:hover .sk-estimator-doc-link:hover,\n",
       ".sk-estimator-doc-link:hover {\n",
       "  /* unfitted */\n",
       "  background-color: var(--sklearn-color-unfitted-level-3);\n",
       "  color: var(--sklearn-color-background);\n",
       "  text-decoration: none;\n",
       "}\n",
       "\n",
       "div.sk-estimator.fitted:hover .sk-estimator-doc-link.fitted:hover,\n",
       ".sk-estimator-doc-link.fitted:hover,\n",
       "div.sk-label-container:hover .sk-estimator-doc-link.fitted:hover,\n",
       ".sk-estimator-doc-link.fitted:hover {\n",
       "  /* fitted */\n",
       "  background-color: var(--sklearn-color-fitted-level-3);\n",
       "  color: var(--sklearn-color-background);\n",
       "  text-decoration: none;\n",
       "}\n",
       "\n",
       "/* Span, style for the box shown on hovering the info icon */\n",
       ".sk-estimator-doc-link span {\n",
       "  display: none;\n",
       "  z-index: 9999;\n",
       "  position: relative;\n",
       "  font-weight: normal;\n",
       "  right: .2ex;\n",
       "  padding: .5ex;\n",
       "  margin: .5ex;\n",
       "  width: min-content;\n",
       "  min-width: 20ex;\n",
       "  max-width: 50ex;\n",
       "  color: var(--sklearn-color-text);\n",
       "  box-shadow: 2pt 2pt 4pt #999;\n",
       "  /* unfitted */\n",
       "  background: var(--sklearn-color-unfitted-level-0);\n",
       "  border: .5pt solid var(--sklearn-color-unfitted-level-3);\n",
       "}\n",
       "\n",
       ".sk-estimator-doc-link.fitted span {\n",
       "  /* fitted */\n",
       "  background: var(--sklearn-color-fitted-level-0);\n",
       "  border: var(--sklearn-color-fitted-level-3);\n",
       "}\n",
       "\n",
       ".sk-estimator-doc-link:hover span {\n",
       "  display: block;\n",
       "}\n",
       "\n",
       "/* \"?\"-specific style due to the `<a>` HTML tag */\n",
       "\n",
       "#sk-container-id-1 a.estimator_doc_link {\n",
       "  float: right;\n",
       "  font-size: 1rem;\n",
       "  line-height: 1em;\n",
       "  font-family: monospace;\n",
       "  background-color: var(--sklearn-color-background);\n",
       "  border-radius: 1rem;\n",
       "  height: 1rem;\n",
       "  width: 1rem;\n",
       "  text-decoration: none;\n",
       "  /* unfitted */\n",
       "  color: var(--sklearn-color-unfitted-level-1);\n",
       "  border: var(--sklearn-color-unfitted-level-1) 1pt solid;\n",
       "}\n",
       "\n",
       "#sk-container-id-1 a.estimator_doc_link.fitted {\n",
       "  /* fitted */\n",
       "  border: var(--sklearn-color-fitted-level-1) 1pt solid;\n",
       "  color: var(--sklearn-color-fitted-level-1);\n",
       "}\n",
       "\n",
       "/* On hover */\n",
       "#sk-container-id-1 a.estimator_doc_link:hover {\n",
       "  /* unfitted */\n",
       "  background-color: var(--sklearn-color-unfitted-level-3);\n",
       "  color: var(--sklearn-color-background);\n",
       "  text-decoration: none;\n",
       "}\n",
       "\n",
       "#sk-container-id-1 a.estimator_doc_link.fitted:hover {\n",
       "  /* fitted */\n",
       "  background-color: var(--sklearn-color-fitted-level-3);\n",
       "}\n",
       "</style><div id=\"sk-container-id-1\" class=\"sk-top-container\"><div class=\"sk-text-repr-fallback\"><pre>LGBMClassifier(colsample_bytree=0.9497036, learning_rate=0.02, max_depth=8,\n",
       "               min_child_weight=39.3259775, min_split_gain=0.0222415,\n",
       "               n_estimators=1284, nthread=8, num_leaves=34, random_state=42,\n",
       "               reg_alpha=0.041545473, reg_lambda=0.0735294, silent=-1,\n",
       "               subsample=0.8715623, verbose=-1)</pre><b>In a Jupyter environment, please rerun this cell to show the HTML representation or trust the notebook. <br />On GitHub, the HTML representation is unable to render, please try loading this page with nbviewer.org.</b></div><div class=\"sk-container\" hidden><div class=\"sk-item\"><div class=\"sk-estimator fitted sk-toggleable\"><input class=\"sk-toggleable__control sk-hidden--visually\" id=\"sk-estimator-id-1\" type=\"checkbox\" checked><label for=\"sk-estimator-id-1\" class=\"sk-toggleable__label fitted sk-toggleable__label-arrow fitted\">&nbsp;LGBMClassifier<span class=\"sk-estimator-doc-link fitted\">i<span>Fitted</span></span></label><div class=\"sk-toggleable__content fitted\"><pre>LGBMClassifier(colsample_bytree=0.9497036, learning_rate=0.02, max_depth=8,\n",
       "               min_child_weight=39.3259775, min_split_gain=0.0222415,\n",
       "               n_estimators=1284, nthread=8, num_leaves=34, random_state=42,\n",
       "               reg_alpha=0.041545473, reg_lambda=0.0735294, silent=-1,\n",
       "               subsample=0.8715623, verbose=-1)</pre></div> </div></div></div></div>"
      ],
      "text/plain": [
       "LGBMClassifier(colsample_bytree=0.9497036, learning_rate=0.02, max_depth=8,\n",
       "               min_child_weight=39.3259775, min_split_gain=0.0222415,\n",
       "               n_estimators=1284, nthread=8, num_leaves=34, random_state=42,\n",
       "               reg_alpha=0.041545473, reg_lambda=0.0735294, silent=-1,\n",
       "               subsample=0.8715623, verbose=-1)"
      ]
     },
     "execution_count": 101,
     "metadata": {},
     "output_type": "execute_result"
    }
   ],
   "source": [
    "clf = LGBMClassifier(**params)\n",
    "\n",
    "clf.fit(\n",
    "    X_train,\n",
    "    y_train,\n",
    "    eval_set=[(X_train, y_train), (X_val, y_val)],\n",
    "    eval_metric=\"auc\",\n",
    "    # verbose=200,\n",
    "    callbacks=[lgb.early_stopping(50)],\n",
    ")\n"
   ]
  },
  {
   "cell_type": "code",
   "execution_count": 105,
   "id": "72401c53",
   "metadata": {},
   "outputs": [],
   "source": [
    "from sklearn.inspection import permutation_importance\n",
    "import copy"
   ]
  },
  {
   "cell_type": "code",
   "execution_count": 111,
   "id": "a725199f",
   "metadata": {},
   "outputs": [],
   "source": [
    "fitted_clf = copy.deepcopy(clf)"
   ]
  },
  {
   "cell_type": "code",
   "execution_count": 112,
   "id": "3a5c5db7",
   "metadata": {},
   "outputs": [],
   "source": [
    "result = permutation_importance(\n",
    "    fitted_clf, X_val, y_val, n_repeats=3, random_state=42, n_jobs=16\n",
    ")"
   ]
  },
  {
   "cell_type": "code",
   "execution_count": 115,
   "id": "7b0056ed",
   "metadata": {},
   "outputs": [
    {
     "data": {
      "text/plain": [
       "3"
      ]
     },
     "execution_count": 115,
     "metadata": {},
     "output_type": "execute_result"
    }
   ],
   "source": [
    "len(result)"
   ]
  },
  {
   "cell_type": "code",
   "execution_count": 116,
   "id": "f46881ed",
   "metadata": {},
   "outputs": [
    {
     "data": {
      "text/plain": [
       "dict_keys(['importances_mean', 'importances_std', 'importances'])"
      ]
     },
     "execution_count": 116,
     "metadata": {},
     "output_type": "execute_result"
    }
   ],
   "source": [
    "result.keys()"
   ]
  },
  {
   "cell_type": "code",
   "execution_count": 117,
   "id": "d90528c0",
   "metadata": {},
   "outputs": [
    {
     "data": {
      "text/html": [
       "<div>\n",
       "<style scoped>\n",
       "    .dataframe tbody tr th:only-of-type {\n",
       "        vertical-align: middle;\n",
       "    }\n",
       "\n",
       "    .dataframe tbody tr th {\n",
       "        vertical-align: top;\n",
       "    }\n",
       "\n",
       "    .dataframe thead th {\n",
       "        text-align: right;\n",
       "    }\n",
       "</style>\n",
       "<table border=\"1\" class=\"dataframe\">\n",
       "  <thead>\n",
       "    <tr style=\"text-align: right;\">\n",
       "      <th></th>\n",
       "      <th>PREV_CNT_PAYMENT_MEAN</th>\n",
       "      <th>INSTAL_AMT_PAYMENT_MEAN</th>\n",
       "      <th>INCOME_CREDIT_PERC</th>\n",
       "      <th>PREV_NAME_YIELD_GROUP_low_action_MEAN</th>\n",
       "      <th>PREV_AMT_DOWN_PAYMENT_MAX</th>\n",
       "      <th>CC_CNT_DRAWINGS_CURRENT_MEAN</th>\n",
       "      <th>ACTIVE_DAYS_CREDIT_ENDDATE_MIN</th>\n",
       "      <th>PREV_NAME_CONTRACT_STATUS_Canceled_MEAN</th>\n",
       "      <th>INSTAL_AMT_PAYMENT_MAX</th>\n",
       "      <th>ACTIVE_AMT_CREDIT_SUM_LIMIT_SUM</th>\n",
       "      <th>...</th>\n",
       "      <th>INSTAL_DPD_MEAN</th>\n",
       "      <th>OWN_CAR_AGE</th>\n",
       "      <th>PAYMENT_RATE</th>\n",
       "      <th>CODE_GENDER</th>\n",
       "      <th>DAYS_EMPLOYED</th>\n",
       "      <th>INSTAL_AMT_PAYMENT_SUM</th>\n",
       "      <th>AMT_GOODS_PRICE</th>\n",
       "      <th>EXT_SOURCE_1</th>\n",
       "      <th>EXT_SOURCE_3</th>\n",
       "      <th>EXT_SOURCE_2</th>\n",
       "    </tr>\n",
       "  </thead>\n",
       "  <tbody>\n",
       "    <tr>\n",
       "      <th>0</th>\n",
       "      <td>-0.000139</td>\n",
       "      <td>-0.000208</td>\n",
       "      <td>-0.000156</td>\n",
       "      <td>-0.000191</td>\n",
       "      <td>-0.000139</td>\n",
       "      <td>-0.000052</td>\n",
       "      <td>0.000069</td>\n",
       "      <td>-0.000087</td>\n",
       "      <td>-0.000052</td>\n",
       "      <td>-0.000069</td>\n",
       "      <td>...</td>\n",
       "      <td>-0.000017</td>\n",
       "      <td>0.000208</td>\n",
       "      <td>0.000295</td>\n",
       "      <td>0.000208</td>\n",
       "      <td>0.000451</td>\n",
       "      <td>0.000364</td>\n",
       "      <td>0.000468</td>\n",
       "      <td>0.000416</td>\n",
       "      <td>0.000624</td>\n",
       "      <td>0.001231</td>\n",
       "    </tr>\n",
       "    <tr>\n",
       "      <th>1</th>\n",
       "      <td>-0.000191</td>\n",
       "      <td>-0.000260</td>\n",
       "      <td>-0.000104</td>\n",
       "      <td>-0.000173</td>\n",
       "      <td>-0.000121</td>\n",
       "      <td>-0.000156</td>\n",
       "      <td>-0.000208</td>\n",
       "      <td>-0.000087</td>\n",
       "      <td>-0.000104</td>\n",
       "      <td>-0.000121</td>\n",
       "      <td>...</td>\n",
       "      <td>0.000277</td>\n",
       "      <td>0.000191</td>\n",
       "      <td>0.000035</td>\n",
       "      <td>0.000156</td>\n",
       "      <td>0.000087</td>\n",
       "      <td>0.000191</td>\n",
       "      <td>0.000104</td>\n",
       "      <td>0.000555</td>\n",
       "      <td>0.000746</td>\n",
       "      <td>0.000867</td>\n",
       "    </tr>\n",
       "    <tr>\n",
       "      <th>2</th>\n",
       "      <td>-0.000364</td>\n",
       "      <td>-0.000225</td>\n",
       "      <td>-0.000156</td>\n",
       "      <td>-0.000017</td>\n",
       "      <td>-0.000069</td>\n",
       "      <td>-0.000104</td>\n",
       "      <td>-0.000173</td>\n",
       "      <td>-0.000121</td>\n",
       "      <td>-0.000121</td>\n",
       "      <td>-0.000087</td>\n",
       "      <td>...</td>\n",
       "      <td>0.000260</td>\n",
       "      <td>0.000139</td>\n",
       "      <td>0.000243</td>\n",
       "      <td>0.000347</td>\n",
       "      <td>0.000191</td>\n",
       "      <td>0.000208</td>\n",
       "      <td>0.000225</td>\n",
       "      <td>0.000468</td>\n",
       "      <td>0.000451</td>\n",
       "      <td>0.001023</td>\n",
       "    </tr>\n",
       "  </tbody>\n",
       "</table>\n",
       "<p>3 rows × 755 columns</p>\n",
       "</div>"
      ],
      "text/plain": [
       "   PREV_CNT_PAYMENT_MEAN  INSTAL_AMT_PAYMENT_MEAN  INCOME_CREDIT_PERC  \\\n",
       "0              -0.000139                -0.000208           -0.000156   \n",
       "1              -0.000191                -0.000260           -0.000104   \n",
       "2              -0.000364                -0.000225           -0.000156   \n",
       "\n",
       "   PREV_NAME_YIELD_GROUP_low_action_MEAN  PREV_AMT_DOWN_PAYMENT_MAX  \\\n",
       "0                              -0.000191                  -0.000139   \n",
       "1                              -0.000173                  -0.000121   \n",
       "2                              -0.000017                  -0.000069   \n",
       "\n",
       "   CC_CNT_DRAWINGS_CURRENT_MEAN  ACTIVE_DAYS_CREDIT_ENDDATE_MIN  \\\n",
       "0                     -0.000052                        0.000069   \n",
       "1                     -0.000156                       -0.000208   \n",
       "2                     -0.000104                       -0.000173   \n",
       "\n",
       "   PREV_NAME_CONTRACT_STATUS_Canceled_MEAN  INSTAL_AMT_PAYMENT_MAX  \\\n",
       "0                                -0.000087               -0.000052   \n",
       "1                                -0.000087               -0.000104   \n",
       "2                                -0.000121               -0.000121   \n",
       "\n",
       "   ACTIVE_AMT_CREDIT_SUM_LIMIT_SUM  ...  INSTAL_DPD_MEAN  OWN_CAR_AGE  \\\n",
       "0                        -0.000069  ...        -0.000017     0.000208   \n",
       "1                        -0.000121  ...         0.000277     0.000191   \n",
       "2                        -0.000087  ...         0.000260     0.000139   \n",
       "\n",
       "   PAYMENT_RATE  CODE_GENDER  DAYS_EMPLOYED  INSTAL_AMT_PAYMENT_SUM  \\\n",
       "0      0.000295     0.000208       0.000451                0.000364   \n",
       "1      0.000035     0.000156       0.000087                0.000191   \n",
       "2      0.000243     0.000347       0.000191                0.000208   \n",
       "\n",
       "   AMT_GOODS_PRICE  EXT_SOURCE_1  EXT_SOURCE_3  EXT_SOURCE_2  \n",
       "0         0.000468      0.000416      0.000624      0.001231  \n",
       "1         0.000104      0.000555      0.000746      0.000867  \n",
       "2         0.000225      0.000468      0.000451      0.001023  \n",
       "\n",
       "[3 rows x 755 columns]"
      ]
     },
     "execution_count": 117,
     "metadata": {},
     "output_type": "execute_result"
    }
   ],
   "source": [
    "sorted_importances_idx = result.importances_mean.argsort()\n",
    "importances = pd.DataFrame(\n",
    "    result.importances[sorted_importances_idx].T,\n",
    "    columns=X.columns[sorted_importances_idx],\n",
    ")\n",
    "\n",
    "importances.head()"
   ]
  },
  {
   "cell_type": "code",
   "execution_count": 124,
   "id": "8b3816e1",
   "metadata": {},
   "outputs": [
    {
     "data": {
      "text/plain": [
       "20"
      ]
     },
     "execution_count": 124,
     "metadata": {},
     "output_type": "execute_result"
    }
   ],
   "source": [
    "# Top 40 des plus importantes\n",
    "top = 20\n",
    "most_important_features = importances.columns[-top:]\n",
    "len(most_important_features)"
   ]
  },
  {
   "cell_type": "code",
   "execution_count": 125,
   "id": "a2ece563",
   "metadata": {},
   "outputs": [
    {
     "data": {
      "text/plain": [
       "Index(['POS_MONTHS_BALANCE_MAX', 'ACTIVE_DAYS_CREDIT_MAX',\n",
       "       'CLOSED_DAYS_CREDIT_ENDDATE_MAX', 'ACTIVE_AMT_CREDIT_SUM_DEBT_SUM',\n",
       "       'NAME_EDUCATION_TYPE_Secondarysecondaryspecial',\n",
       "       'PREV_APP_CREDIT_PERC_MEAN', 'NAME_FAMILY_STATUS_Married',\n",
       "       'INSTAL_PAYMENT_DIFF_MEAN', 'AMT_ANNUITY', 'DAYS_BIRTH',\n",
       "       'INSTAL_DPD_MEAN', 'OWN_CAR_AGE', 'PAYMENT_RATE', 'CODE_GENDER',\n",
       "       'DAYS_EMPLOYED', 'INSTAL_AMT_PAYMENT_SUM', 'AMT_GOODS_PRICE',\n",
       "       'EXT_SOURCE_1', 'EXT_SOURCE_3', 'EXT_SOURCE_2'],\n",
       "      dtype='object')"
      ]
     },
     "execution_count": 125,
     "metadata": {},
     "output_type": "execute_result"
    }
   ],
   "source": [
    "most_important_features"
   ]
  },
  {
   "cell_type": "code",
   "execution_count": 129,
   "id": "4299c98b",
   "metadata": {},
   "outputs": [
    {
     "data": {
      "image/png": "[encoded data removed]",
      "text/plain": [
       "<Figure size 640x480 with 1 Axes>"
      ]
     },
     "metadata": {},
     "output_type": "display_data"
    }
   ],
   "source": [
    "min_importance = importances.min().min()\n",
    "max_importance = importances.max().max()\n",
    "ax = importances[most_important_features].plot.box(vert=False, whis=10)\n",
    "ax.set_title(\"Permutation Importances (test set)\")\n",
    "ax.axvline(x=0, color=\"k\", linestyle=\"--\")\n",
    "ax.set_xlabel(\"Decrease in accuracy score\")\n",
    "ax.set_xlim(min_importance, max_importance)\n",
    "ax.figure.tight_layout()"
   ]
  },
  {
   "cell_type": "code",
   "execution_count": 130,
   "id": "05312656",
   "metadata": {},
   "outputs": [
    {
     "data": {
      "text/plain": [
       "Index(['PREV_CNT_PAYMENT_MEAN', 'INSTAL_AMT_PAYMENT_MEAN',\n",
       "       'INCOME_CREDIT_PERC', 'PREV_NAME_YIELD_GROUP_low_action_MEAN',\n",
       "       'PREV_AMT_DOWN_PAYMENT_MAX', 'CC_CNT_DRAWINGS_CURRENT_MEAN',\n",
       "       'ACTIVE_DAYS_CREDIT_ENDDATE_MIN',\n",
       "       'PREV_NAME_CONTRACT_STATUS_Canceled_MEAN', 'INSTAL_AMT_PAYMENT_MAX',\n",
       "       'ACTIVE_AMT_CREDIT_SUM_LIMIT_SUM', 'PREV_RATE_DOWN_PAYMENT_MEAN',\n",
       "       'CC_AMT_RECEIVABLE_PRINCIPAL_MEAN', 'APPROVED_APP_CREDIT_PERC_MIN',\n",
       "       'APPROVED_AMT_ANNUITY_MEAN', 'APPROVED_AMT_ANNUITY_MIN',\n",
       "       'BURO_DAYS_CREDIT_UPDATE_MEAN', 'CC_AMT_CREDIT_LIMIT_ACTUAL_SUM',\n",
       "       'APPROVED_CNT_PAYMENT_MEAN', 'APPROVED_CNT_PAYMENT_SUM',\n",
       "       'REFUSED_DAYS_DECISION_MIN'],\n",
       "      dtype='object')"
      ]
     },
     "execution_count": 130,
     "metadata": {},
     "output_type": "execute_result"
    }
   ],
   "source": [
    "# Top 40 des moins importantes\n",
    "bottom = top\n",
    "less_important_features = importances.columns[:bottom]\n",
    "less_important_features"
   ]
  },
  {
   "cell_type": "code",
   "execution_count": 132,
   "id": "02ba4a0c",
   "metadata": {},
   "outputs": [
    {
     "data": {
      "image/png": "[encoded data removed]",
      "text/plain": [
       "<Figure size 640x480 with 1 Axes>"
      ]
     },
     "metadata": {},
     "output_type": "display_data"
    }
   ],
   "source": [
    "ax = importances[less_important_features].plot.box(vert=False, whis=10)\n",
    "ax.set_title(\"Permutation Importances (test set)\")\n",
    "ax.axvline(x=0, color=\"k\", linestyle=\"--\")\n",
    "ax.set_xlabel(\"Decrease in accuracy score\")\n",
    "ax.set_xlim(min_importance, max_importance)\n",
    "ax.figure.tight_layout()"
   ]
  },
  {
   "cell_type": "code",
   "execution_count": 134,
   "id": "5f49e352",
   "metadata": {},
   "outputs": [
    {
     "data": {
      "text/plain": [
       "7.435050412647598e-06"
      ]
     },
     "execution_count": 134,
     "metadata": {},
     "output_type": "execute_result"
    }
   ],
   "source": [
    "# Moyenne des moyennes\n",
    "mean_importance = np.mean(result['importances_mean'])\n",
    "mean_importance"
   ]
  },
  {
   "cell_type": "code",
   "execution_count": 147,
   "id": "49b7fc16",
   "metadata": {},
   "outputs": [
    {
     "data": {
      "text/html": [
       "<div>\n",
       "<style scoped>\n",
       "    .dataframe tbody tr th:only-of-type {\n",
       "        vertical-align: middle;\n",
       "    }\n",
       "\n",
       "    .dataframe tbody tr th {\n",
       "        vertical-align: top;\n",
       "    }\n",
       "\n",
       "    .dataframe thead th {\n",
       "        text-align: right;\n",
       "    }\n",
       "</style>\n",
       "<table border=\"1\" class=\"dataframe\">\n",
       "  <thead>\n",
       "    <tr style=\"text-align: right;\">\n",
       "      <th></th>\n",
       "      <th>importance</th>\n",
       "    </tr>\n",
       "  </thead>\n",
       "  <tbody>\n",
       "    <tr>\n",
       "      <th>CODE_GENDER</th>\n",
       "      <td>0.000237</td>\n",
       "    </tr>\n",
       "    <tr>\n",
       "      <th>FLAG_OWN_CAR</th>\n",
       "      <td>0.000012</td>\n",
       "    </tr>\n",
       "    <tr>\n",
       "      <th>FLAG_OWN_REALTY</th>\n",
       "      <td>-0.000012</td>\n",
       "    </tr>\n",
       "    <tr>\n",
       "      <th>CNT_CHILDREN</th>\n",
       "      <td>0.000006</td>\n",
       "    </tr>\n",
       "    <tr>\n",
       "      <th>AMT_INCOME_TOTAL</th>\n",
       "      <td>-0.000029</td>\n",
       "    </tr>\n",
       "  </tbody>\n",
       "</table>\n",
       "</div>"
      ],
      "text/plain": [
       "                  importance\n",
       "CODE_GENDER         0.000237\n",
       "FLAG_OWN_CAR        0.000012\n",
       "FLAG_OWN_REALTY    -0.000012\n",
       "CNT_CHILDREN        0.000006\n",
       "AMT_INCOME_TOTAL   -0.000029"
      ]
     },
     "execution_count": 147,
     "metadata": {},
     "output_type": "execute_result"
    }
   ],
   "source": [
    "# Importances négatives\n",
    "importances_mean = pd.DataFrame(result['importances_mean'], index=X.columns, columns=['importance'])\n",
    "importances_mean.head()\n"
   ]
  },
  {
   "cell_type": "code",
   "execution_count": 149,
   "id": "498131fe",
   "metadata": {},
   "outputs": [
    {
     "data": {
      "text/plain": [
       "223"
      ]
     },
     "execution_count": 149,
     "metadata": {},
     "output_type": "execute_result"
    }
   ],
   "source": [
    "negative_features = importances_mean[importances_mean['importance'] < 0].index.tolist()\n",
    "len(negative_features)"
   ]
  },
  {
   "cell_type": "code",
   "execution_count": null,
   "id": "d4b43339",
   "metadata": {},
   "outputs": [],
   "source": [
    "\"\"\"\n",
    "I. Interprétation des Importances \n",
    "\n",
    "1) Impact Négatif sur les Performances :\n",
    "Une importance moyenne négative pour une caractéristique signifie que, \n",
    "lorsque les valeurs de cette caractéristique sont permutées (c'est-à-dire réarrangées au hasard), \n",
    "les performances du modèle s'améliorent plutôt que de se dégrader. En d'autres termes, \n",
    "le modèle se comporte mieux sans la structure d'origine de cette caractéristique.\n",
    "\n",
    "2) Indicateur de Bruit ou d'Information Trompeuse :\n",
    "Cela peut indiquer que la caractéristique en question introduit du bruit ou de l'information trompeuse dans le modèle, \n",
    "ce qui nuit à la capacité du modèle à faire des prédictions précises. \n",
    "En d'autres termes, la caractéristique pourrait être nuisible.\n",
    "\n",
    "II. Raisons Potentielles\n",
    "\n",
    "1) Multicolinéarité :\n",
    "Si la caractéristique est fortement corrélée avec une ou plusieurs autres caractéristiques, \n",
    "elle peut introduire de la redondance ou même de la confusion dans le modèle.\n",
    "\n",
    "2) Caractéristique Non Pertinente :\n",
    "La caractéristique peut être non pertinente pour la tâche de prédiction, et sa présence peut introduire du bruit.\n",
    "\n",
    "3) Petite Taille de l'Échantillon.\n",
    "\"\"\""
   ]
  },
  {
   "cell_type": "code",
   "execution_count": null,
   "id": "5170f054",
   "metadata": {},
   "outputs": [],
   "source": []
  },
  {
   "cell_type": "code",
   "execution_count": 44,
   "id": "ecd00dbc",
   "metadata": {},
   "outputs": [
    {
     "name": "stdout",
     "output_type": "stream",
     "text": [
      "Memory usage of dataframe is 1122.62 MB\n",
      "Memory usage after optimization is: 1122.62 MB\n",
      "Decreased by 0.0%\n"
     ]
    }
   ],
   "source": [
    "df1 = ds.reduce_memory_usage()"
   ]
  },
  {
   "cell_type": "code",
   "execution_count": 32,
   "id": "a63051b9",
   "metadata": {},
   "outputs": [
    {
     "name": "stdout",
     "output_type": "stream",
     "text": [
      "Taille mémoire du DataFrame : 1175 Mo\n"
     ]
    },
    {
     "data": {
      "text/plain": [
       "1175"
      ]
     },
     "execution_count": 32,
     "metadata": {},
     "output_type": "execute_result"
    }
   ],
   "source": [
    "get_memory_consumed(df)"
   ]
  },
  {
   "cell_type": "code",
   "execution_count": 18,
   "id": "c91ff035",
   "metadata": {},
   "outputs": [
    {
     "data": {
      "text/plain": [
       "788"
      ]
     },
     "execution_count": 18,
     "metadata": {},
     "output_type": "execute_result"
    }
   ],
   "source": [
    "predictors = [feature for feature in df.columns if feature not in ['SK_ID_CURR', 'TARGET']]\n",
    "len(predictors)"
   ]
  },
  {
   "cell_type": "code",
   "execution_count": 21,
   "id": "e38233f2",
   "metadata": {},
   "outputs": [],
   "source": [
    "std = df[predictors].std().sort_values()"
   ]
  },
  {
   "cell_type": "code",
   "execution_count": 23,
   "id": "db4d9dda",
   "metadata": {},
   "outputs": [
    {
     "name": "stdout",
     "output_type": "stream",
     "text": [
      "33 features ont une variance nulle\n"
     ]
    },
    {
     "data": {
      "text/plain": [
       "PREV_NAME_CASH_LOAN_PURPOSE_nan_MEAN               0.0\n",
       "PREV_CHANNEL_TYPE_nan_MEAN                         0.0\n",
       "PREV_NAME_PRODUCT_TYPE_nan_MEAN                    0.0\n",
       "PREV_NAME_PAYMENT_TYPE_nan_MEAN                    0.0\n",
       "NAME_HOUSING_TYPE_nan                              0.0\n",
       "PREV_NAME_SELLER_INDUSTRY_nan_MEAN                 0.0\n",
       "PREV_NAME_YIELD_GROUP_nan_MEAN                     0.0\n",
       "PREV_NAME_PORTFOLIO_nan_MEAN                       0.0\n",
       "BURO_STATUS_nan_MEAN_MEAN                          0.0\n",
       "PREV_FLAG_LAST_APPL_PER_CONTRACT_nan_MEAN          0.0\n",
       "PREV_CODE_REJECT_REASON_nan_MEAN                   0.0\n",
       "PREV_NAME_GOODS_CATEGORY_nan_MEAN                  0.0\n",
       "NAME_EDUCATION_TYPE_nan                            0.0\n",
       "NAME_INCOME_TYPE_nan                               0.0\n",
       "CC_SK_DPD_MIN                                      0.0\n",
       "PREV_NAME_CONTRACT_STATUS_nan_MEAN                 0.0\n",
       "WEEKDAY_APPR_PROCESS_START_nan                     0.0\n",
       "BURO_CREDIT_TYPE_nan_MEAN                          0.0\n",
       "PREV_NAME_CLIENT_TYPE_nan_MEAN                     0.0\n",
       "CC_NAME_CONTRACT_STATUS_nan_SUM                    0.0\n",
       "CC_NAME_CONTRACT_STATUS_nan_MEAN                   0.0\n",
       "BURO_CREDIT_TYPE_Mobileoperatorloan_MEAN           0.0\n",
       "PREV_WEEKDAY_APPR_PROCESS_START_nan_MEAN           0.0\n",
       "PREV_NAME_CONTRACT_TYPE_nan_MEAN                   0.0\n",
       "POS_NAME_CONTRACT_STATUS_nan_MEAN                  0.0\n",
       "BURO_CREDIT_ACTIVE_nan_MEAN                        0.0\n",
       "CC_SK_DPD_DEF_MIN                                  0.0\n",
       "NAME_CONTRACT_TYPE_nan                             0.0\n",
       "PREV_NAME_GOODS_CATEGORY_HouseConstruction_MEAN    0.0\n",
       "PREV_NAME_GOODS_CATEGORY_Animals_MEAN              0.0\n",
       "FLAG_MOBIL                                         0.0\n",
       "CC_NAME_CONTRACT_STATUS_nan_VAR                    0.0\n",
       "BURO_CREDIT_CURRENCY_nan_MEAN                      0.0\n",
       "dtype: float64"
      ]
     },
     "execution_count": 23,
     "metadata": {},
     "output_type": "execute_result"
    }
   ],
   "source": [
    "features_null_std = std[std == 0.0]\n",
    "print(f\"{features_null_std.shape[0]} features ont une variance nulle\")\n",
    "features_null_std"
   ]
  },
  {
   "cell_type": "markdown",
   "id": "d098d77a",
   "metadata": {},
   "source": [
    "Sauvegarde"
   ]
  },
  {
   "cell_type": "code",
   "execution_count": 13,
   "id": "b73f0014",
   "metadata": {},
   "outputs": [],
   "source": [
    "#df.to_csv(config[\"data_filepath\"])"
   ]
  }
 ],
 "metadata": {
  "kernelspec": {
   "display_name": "Python 3 (ipykernel)",
   "language": "python",
   "name": "python3"
  },
  "language_info": {
   "codemirror_mode": {
    "name": "ipython",
    "version": 3
   },
   "file_extension": ".py",
   "mimetype": "text/x-python",
   "name": "python",
   "nbconvert_exporter": "python",
   "pygments_lexer": "ipython3",
   "version": "3.10.11"
  }
 },
 "nbformat": 4,
 "nbformat_minor": 5
}
