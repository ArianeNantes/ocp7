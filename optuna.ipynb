{
 "cells": [
  {
   "cell_type": "code",
   "execution_count": 1,
   "metadata": {
    "ExecuteTime": {
     "end_time": "2023-04-27T12:28:07.483508Z",
     "start_time": "2023-04-27T12:28:07.139630Z"
    },
    "collapsed": true
   },
   "outputs": [],
   "source": [
    "# On affiche les graphiques dans le notebook en statique\n",
    "%matplotlib inline"
   ]
  },
  {
   "cell_type": "code",
   "execution_count": 2,
   "metadata": {},
   "outputs": [],
   "source": [
    "import numpy as np\n",
    "import logging\n",
    "import sys\n",
    "import os\n",
    "import gc\n",
    "import joblib\n",
    "import lightgbm as lgb\n",
    "import optuna\n",
    "import pandas as pd\n",
    "from sklearn.model_selection import cross_val_score"
   ]
  },
  {
   "cell_type": "code",
   "execution_count": 3,
   "metadata": {},
   "outputs": [],
   "source": [
    "from src.p7_constantes import DATA_INTERIM, DATA_BASE, MODEL_DIR\n",
    "from src.p7_util import timer"
   ]
  },
  {
   "cell_type": "markdown",
   "metadata": {},
   "source": [
    "Démarrer"
   ]
  },
  {
   "cell_type": "code",
   "execution_count": 4,
   "metadata": {},
   "outputs": [
    {
     "name": "stdout",
     "output_type": "stream",
     "text": [
      "Forme de train.csv : (307506, 18)\n"
     ]
    },
    {
     "data": {
      "text/html": [
       "<div>\n",
       "<style scoped>\n",
       "    .dataframe tbody tr th:only-of-type {\n",
       "        vertical-align: middle;\n",
       "    }\n",
       "\n",
       "    .dataframe tbody tr th {\n",
       "        vertical-align: top;\n",
       "    }\n",
       "\n",
       "    .dataframe thead th {\n",
       "        text-align: right;\n",
       "    }\n",
       "</style>\n",
       "<table border=\"1\" class=\"dataframe\">\n",
       "  <thead>\n",
       "    <tr style=\"text-align: right;\">\n",
       "      <th></th>\n",
       "      <th>SK_ID_CURR</th>\n",
       "      <th>TARGET</th>\n",
       "      <th>ORGANIZATION_TYPE</th>\n",
       "      <th>CREDIT_TO_ANNUITY_RATIO</th>\n",
       "      <th>EXT_SOURCES_MEAN</th>\n",
       "      <th>EXT_SOURCE_3</th>\n",
       "      <th>EXT_SOURCES_MIN</th>\n",
       "      <th>BUREAU_CONSUMER_DAYS_CREDIT_ENDDATE_MAX</th>\n",
       "      <th>AMT_ANNUITY</th>\n",
       "      <th>CREDIT_TO_GOODS_RATIO</th>\n",
       "      <th>OCCUPATION_TYPE</th>\n",
       "      <th>DAYS_ID_PUBLISH</th>\n",
       "      <th>DAYS_EMPLOYED</th>\n",
       "      <th>BUREAU_CREDIT_DEBT_CREDIT_DIFF_MEAN</th>\n",
       "      <th>BUREAU_ACTIVE_DEBT_CREDIT_DIFF_MEAN</th>\n",
       "      <th>ANNUITY_TO_INCOME_RATIO</th>\n",
       "      <th>AGE</th>\n",
       "    </tr>\n",
       "  </thead>\n",
       "  <tbody>\n",
       "    <tr>\n",
       "      <th>0</th>\n",
       "      <td>100002</td>\n",
       "      <td>1.0</td>\n",
       "      <td>0</td>\n",
       "      <td>16.47</td>\n",
       "      <td>0.1617</td>\n",
       "      <td>0.1394</td>\n",
       "      <td>0.0830</td>\n",
       "      <td>780.0</td>\n",
       "      <td>24700.5</td>\n",
       "      <td>1.1580</td>\n",
       "      <td>0</td>\n",
       "      <td>-2120</td>\n",
       "      <td>-637.0</td>\n",
       "      <td>15994.282</td>\n",
       "      <td>118103.78</td>\n",
       "      <td>0.12195</td>\n",
       "      <td>25.920548</td>\n",
       "    </tr>\n",
       "    <tr>\n",
       "      <th>1</th>\n",
       "      <td>100003</td>\n",
       "      <td>0.0</td>\n",
       "      <td>1</td>\n",
       "      <td>36.22</td>\n",
       "      <td>0.4668</td>\n",
       "      <td>NaN</td>\n",
       "      <td>0.3113</td>\n",
       "      <td>-420.0</td>\n",
       "      <td>35698.5</td>\n",
       "      <td>1.1455</td>\n",
       "      <td>1</td>\n",
       "      <td>-291</td>\n",
       "      <td>-1188.0</td>\n",
       "      <td>461250.000</td>\n",
       "      <td>810000.00</td>\n",
       "      <td>0.13220</td>\n",
       "      <td>45.931507</td>\n",
       "    </tr>\n",
       "    <tr>\n",
       "      <th>2</th>\n",
       "      <td>100004</td>\n",
       "      <td>0.0</td>\n",
       "      <td>2</td>\n",
       "      <td>20.00</td>\n",
       "      <td>0.6426</td>\n",
       "      <td>0.7295</td>\n",
       "      <td>0.5560</td>\n",
       "      <td>-382.0</td>\n",
       "      <td>6750.0</td>\n",
       "      <td>1.0000</td>\n",
       "      <td>0</td>\n",
       "      <td>-2531</td>\n",
       "      <td>-225.0</td>\n",
       "      <td>NaN</td>\n",
       "      <td>NaN</td>\n",
       "      <td>0.10000</td>\n",
       "      <td>52.180822</td>\n",
       "    </tr>\n",
       "    <tr>\n",
       "      <th>3</th>\n",
       "      <td>100006</td>\n",
       "      <td>0.0</td>\n",
       "      <td>0</td>\n",
       "      <td>10.53</td>\n",
       "      <td>0.6504</td>\n",
       "      <td>NaN</td>\n",
       "      <td>0.6504</td>\n",
       "      <td>NaN</td>\n",
       "      <td>29686.5</td>\n",
       "      <td>1.0530</td>\n",
       "      <td>0</td>\n",
       "      <td>-2437</td>\n",
       "      <td>-3040.0</td>\n",
       "      <td>NaN</td>\n",
       "      <td>NaN</td>\n",
       "      <td>0.21980</td>\n",
       "      <td>52.068493</td>\n",
       "    </tr>\n",
       "    <tr>\n",
       "      <th>4</th>\n",
       "      <td>100007</td>\n",
       "      <td>0.0</td>\n",
       "      <td>3</td>\n",
       "      <td>23.47</td>\n",
       "      <td>0.3228</td>\n",
       "      <td>NaN</td>\n",
       "      <td>0.3228</td>\n",
       "      <td>-783.0</td>\n",
       "      <td>21865.5</td>\n",
       "      <td>1.0000</td>\n",
       "      <td>1</td>\n",
       "      <td>-3458</td>\n",
       "      <td>-3038.0</td>\n",
       "      <td>NaN</td>\n",
       "      <td>NaN</td>\n",
       "      <td>0.17990</td>\n",
       "      <td>54.608219</td>\n",
       "    </tr>\n",
       "  </tbody>\n",
       "</table>\n",
       "</div>"
      ],
      "text/plain": [
       "   SK_ID_CURR  TARGET  ORGANIZATION_TYPE  CREDIT_TO_ANNUITY_RATIO  \\\n",
       "0      100002     1.0                  0                    16.47   \n",
       "1      100003     0.0                  1                    36.22   \n",
       "2      100004     0.0                  2                    20.00   \n",
       "3      100006     0.0                  0                    10.53   \n",
       "4      100007     0.0                  3                    23.47   \n",
       "\n",
       "   EXT_SOURCES_MEAN  EXT_SOURCE_3  EXT_SOURCES_MIN  \\\n",
       "0            0.1617        0.1394           0.0830   \n",
       "1            0.4668           NaN           0.3113   \n",
       "2            0.6426        0.7295           0.5560   \n",
       "3            0.6504           NaN           0.6504   \n",
       "4            0.3228           NaN           0.3228   \n",
       "\n",
       "   BUREAU_CONSUMER_DAYS_CREDIT_ENDDATE_MAX  AMT_ANNUITY  \\\n",
       "0                                    780.0      24700.5   \n",
       "1                                   -420.0      35698.5   \n",
       "2                                   -382.0       6750.0   \n",
       "3                                      NaN      29686.5   \n",
       "4                                   -783.0      21865.5   \n",
       "\n",
       "   CREDIT_TO_GOODS_RATIO  OCCUPATION_TYPE  DAYS_ID_PUBLISH  DAYS_EMPLOYED  \\\n",
       "0                 1.1580                0            -2120         -637.0   \n",
       "1                 1.1455                1             -291        -1188.0   \n",
       "2                 1.0000                0            -2531         -225.0   \n",
       "3                 1.0530                0            -2437        -3040.0   \n",
       "4                 1.0000                1            -3458        -3038.0   \n",
       "\n",
       "   BUREAU_CREDIT_DEBT_CREDIT_DIFF_MEAN  BUREAU_ACTIVE_DEBT_CREDIT_DIFF_MEAN  \\\n",
       "0                            15994.282                            118103.78   \n",
       "1                           461250.000                            810000.00   \n",
       "2                                  NaN                                  NaN   \n",
       "3                                  NaN                                  NaN   \n",
       "4                                  NaN                                  NaN   \n",
       "\n",
       "   ANNUITY_TO_INCOME_RATIO        AGE  \n",
       "0                  0.12195  25.920548  \n",
       "1                  0.13220  45.931507  \n",
       "2                  0.10000  52.180822  \n",
       "3                  0.21980  52.068493  \n",
       "4                  0.17990  54.608219  "
      ]
     },
     "execution_count": 4,
     "metadata": {},
     "output_type": "execute_result"
    }
   ],
   "source": [
    "df = pd.read_csv(os.path.join(DATA_INTERIM, \"train.csv\"))\n",
    "print(\"Forme de train.csv :\", df.shape)\n",
    "if 'Unnamed: 0' in df.columns:\n",
    "    df = df.drop('Unnamed: 0', axis=1)\n",
    "df.head()"
   ]
  },
  {
   "cell_type": "code",
   "execution_count": 5,
   "metadata": {},
   "outputs": [],
   "source": [
    "encoded_features_application = ['ORGANIZATION_TYPE', 'OCCUPATION_TYPE']\n",
    "mapper = {feature: feature + '_old' for feature in encoded_features_application}\n",
    "df = df.rename(mapper, axis=1)\n"
   ]
  },
  {
   "cell_type": "code",
   "execution_count": 6,
   "metadata": {},
   "outputs": [
    {
     "data": {
      "text/html": [
       "<div>\n",
       "<style scoped>\n",
       "    .dataframe tbody tr th:only-of-type {\n",
       "        vertical-align: middle;\n",
       "    }\n",
       "\n",
       "    .dataframe tbody tr th {\n",
       "        vertical-align: top;\n",
       "    }\n",
       "\n",
       "    .dataframe thead th {\n",
       "        text-align: right;\n",
       "    }\n",
       "</style>\n",
       "<table border=\"1\" class=\"dataframe\">\n",
       "  <thead>\n",
       "    <tr style=\"text-align: right;\">\n",
       "      <th></th>\n",
       "      <th>SK_ID_CURR</th>\n",
       "      <th>TARGET</th>\n",
       "      <th>CREDIT_TO_ANNUITY_RATIO</th>\n",
       "      <th>EXT_SOURCES_MEAN</th>\n",
       "      <th>EXT_SOURCE_3</th>\n",
       "      <th>EXT_SOURCES_MIN</th>\n",
       "      <th>BUREAU_CONSUMER_DAYS_CREDIT_ENDDATE_MAX</th>\n",
       "      <th>AMT_ANNUITY</th>\n",
       "      <th>CREDIT_TO_GOODS_RATIO</th>\n",
       "      <th>DAYS_ID_PUBLISH</th>\n",
       "      <th>DAYS_EMPLOYED</th>\n",
       "      <th>BUREAU_CREDIT_DEBT_CREDIT_DIFF_MEAN</th>\n",
       "      <th>BUREAU_ACTIVE_DEBT_CREDIT_DIFF_MEAN</th>\n",
       "      <th>ANNUITY_TO_INCOME_RATIO</th>\n",
       "      <th>AGE</th>\n",
       "      <th>ORGANIZATION_TYPE</th>\n",
       "      <th>OCCUPATION_TYPE</th>\n",
       "    </tr>\n",
       "  </thead>\n",
       "  <tbody>\n",
       "    <tr>\n",
       "      <th>0</th>\n",
       "      <td>100002</td>\n",
       "      <td>1.0</td>\n",
       "      <td>16.47</td>\n",
       "      <td>0.1617</td>\n",
       "      <td>0.1394</td>\n",
       "      <td>0.0830</td>\n",
       "      <td>780.0</td>\n",
       "      <td>24700.5</td>\n",
       "      <td>1.1580</td>\n",
       "      <td>-2120</td>\n",
       "      <td>-637.0</td>\n",
       "      <td>15994.282</td>\n",
       "      <td>118103.78</td>\n",
       "      <td>0.12195</td>\n",
       "      <td>25.920548</td>\n",
       "      <td>Business Entity Type 3</td>\n",
       "      <td>Laborers</td>\n",
       "    </tr>\n",
       "    <tr>\n",
       "      <th>1</th>\n",
       "      <td>100003</td>\n",
       "      <td>0.0</td>\n",
       "      <td>36.22</td>\n",
       "      <td>0.4668</td>\n",
       "      <td>NaN</td>\n",
       "      <td>0.3113</td>\n",
       "      <td>-420.0</td>\n",
       "      <td>35698.5</td>\n",
       "      <td>1.1455</td>\n",
       "      <td>-291</td>\n",
       "      <td>-1188.0</td>\n",
       "      <td>461250.000</td>\n",
       "      <td>810000.00</td>\n",
       "      <td>0.13220</td>\n",
       "      <td>45.931507</td>\n",
       "      <td>School</td>\n",
       "      <td>Core staff</td>\n",
       "    </tr>\n",
       "    <tr>\n",
       "      <th>2</th>\n",
       "      <td>100004</td>\n",
       "      <td>0.0</td>\n",
       "      <td>20.00</td>\n",
       "      <td>0.6426</td>\n",
       "      <td>0.7295</td>\n",
       "      <td>0.5560</td>\n",
       "      <td>-382.0</td>\n",
       "      <td>6750.0</td>\n",
       "      <td>1.0000</td>\n",
       "      <td>-2531</td>\n",
       "      <td>-225.0</td>\n",
       "      <td>NaN</td>\n",
       "      <td>NaN</td>\n",
       "      <td>0.10000</td>\n",
       "      <td>52.180822</td>\n",
       "      <td>Government</td>\n",
       "      <td>Laborers</td>\n",
       "    </tr>\n",
       "    <tr>\n",
       "      <th>3</th>\n",
       "      <td>100006</td>\n",
       "      <td>0.0</td>\n",
       "      <td>10.53</td>\n",
       "      <td>0.6504</td>\n",
       "      <td>NaN</td>\n",
       "      <td>0.6504</td>\n",
       "      <td>NaN</td>\n",
       "      <td>29686.5</td>\n",
       "      <td>1.0530</td>\n",
       "      <td>-2437</td>\n",
       "      <td>-3040.0</td>\n",
       "      <td>NaN</td>\n",
       "      <td>NaN</td>\n",
       "      <td>0.21980</td>\n",
       "      <td>52.068493</td>\n",
       "      <td>Business Entity Type 3</td>\n",
       "      <td>Laborers</td>\n",
       "    </tr>\n",
       "    <tr>\n",
       "      <th>4</th>\n",
       "      <td>100007</td>\n",
       "      <td>0.0</td>\n",
       "      <td>23.47</td>\n",
       "      <td>0.3228</td>\n",
       "      <td>NaN</td>\n",
       "      <td>0.3228</td>\n",
       "      <td>-783.0</td>\n",
       "      <td>21865.5</td>\n",
       "      <td>1.0000</td>\n",
       "      <td>-3458</td>\n",
       "      <td>-3038.0</td>\n",
       "      <td>NaN</td>\n",
       "      <td>NaN</td>\n",
       "      <td>0.17990</td>\n",
       "      <td>54.608219</td>\n",
       "      <td>Religion</td>\n",
       "      <td>Core staff</td>\n",
       "    </tr>\n",
       "  </tbody>\n",
       "</table>\n",
       "</div>"
      ],
      "text/plain": [
       "   SK_ID_CURR  TARGET  CREDIT_TO_ANNUITY_RATIO  EXT_SOURCES_MEAN  \\\n",
       "0      100002     1.0                    16.47            0.1617   \n",
       "1      100003     0.0                    36.22            0.4668   \n",
       "2      100004     0.0                    20.00            0.6426   \n",
       "3      100006     0.0                    10.53            0.6504   \n",
       "4      100007     0.0                    23.47            0.3228   \n",
       "\n",
       "   EXT_SOURCE_3  EXT_SOURCES_MIN  BUREAU_CONSUMER_DAYS_CREDIT_ENDDATE_MAX  \\\n",
       "0        0.1394           0.0830                                    780.0   \n",
       "1           NaN           0.3113                                   -420.0   \n",
       "2        0.7295           0.5560                                   -382.0   \n",
       "3           NaN           0.6504                                      NaN   \n",
       "4           NaN           0.3228                                   -783.0   \n",
       "\n",
       "   AMT_ANNUITY  CREDIT_TO_GOODS_RATIO  DAYS_ID_PUBLISH  DAYS_EMPLOYED  \\\n",
       "0      24700.5                 1.1580            -2120         -637.0   \n",
       "1      35698.5                 1.1455             -291        -1188.0   \n",
       "2       6750.0                 1.0000            -2531         -225.0   \n",
       "3      29686.5                 1.0530            -2437        -3040.0   \n",
       "4      21865.5                 1.0000            -3458        -3038.0   \n",
       "\n",
       "   BUREAU_CREDIT_DEBT_CREDIT_DIFF_MEAN  BUREAU_ACTIVE_DEBT_CREDIT_DIFF_MEAN  \\\n",
       "0                            15994.282                            118103.78   \n",
       "1                           461250.000                            810000.00   \n",
       "2                                  NaN                                  NaN   \n",
       "3                                  NaN                                  NaN   \n",
       "4                                  NaN                                  NaN   \n",
       "\n",
       "   ANNUITY_TO_INCOME_RATIO        AGE       ORGANIZATION_TYPE OCCUPATION_TYPE  \n",
       "0                  0.12195  25.920548  Business Entity Type 3        Laborers  \n",
       "1                  0.13220  45.931507                  School      Core staff  \n",
       "2                  0.10000  52.180822              Government        Laborers  \n",
       "3                  0.21980  52.068493  Business Entity Type 3        Laborers  \n",
       "4                  0.17990  54.608219                Religion      Core staff  "
      ]
     },
     "execution_count": 6,
     "metadata": {},
     "output_type": "execute_result"
    }
   ],
   "source": [
    "initial_application = pd.read_csv(os.path.join(DATA_BASE, \"application_train.csv\"))[['SK_ID_CURR'] + encoded_features_application]\n",
    "initial_application.shape\n",
    "df = pd.merge(left=df, right=initial_application, on=['SK_ID_CURR'])\n",
    "df = df.drop([v for v in mapper.values()], axis=1)\n",
    "del initial_application\n",
    "del mapper\n",
    "gc.collect()\n",
    "df.head()"
   ]
  },
  {
   "cell_type": "code",
   "execution_count": 7,
   "metadata": {},
   "outputs": [
    {
     "data": {
      "text/plain": [
       "ORGANIZATION_TYPE\n",
       "Business Entity Type 3    67991\n",
       "NaN                       55374\n",
       "Self-employed             38412\n",
       "Other                     16683\n",
       "Medicine                  11192\n",
       "Business Entity Type 2    10553\n",
       "Government                10404\n",
       "School                     8893\n",
       "Trade: type 7              7831\n",
       "Kindergarten               6879\n",
       "Construction               6721\n",
       "Business Entity Type 1     5983\n",
       "Transport: type 4          5398\n",
       "Trade: type 3              3492\n",
       "Industry: type 9           3368\n",
       "Industry: type 3           3277\n",
       "Security                   3247\n",
       "Housing                    2958\n",
       "Industry: type 11          2704\n",
       "Military                   2634\n",
       "Bank                       2507\n",
       "Agriculture                2454\n",
       "Police                     2341\n",
       "Transport: type 2          2204\n",
       "Postal                     2157\n",
       "Security Ministries        1974\n",
       "Trade: type 2              1900\n",
       "Restaurant                 1811\n",
       "Services                   1575\n",
       "University                 1327\n",
       "Industry: type 7           1307\n",
       "Transport: type 3          1187\n",
       "Industry: type 1           1039\n",
       "Hotel                       966\n",
       "Electricity                 950\n",
       "Industry: type 4            877\n",
       "Trade: type 6               631\n",
       "Industry: type 5            599\n",
       "Insurance                   597\n",
       "Telecom                     577\n",
       "Emergency                   560\n",
       "Industry: type 2            458\n",
       "Advertising                 429\n",
       "Realtor                     396\n",
       "Culture                     379\n",
       "Industry: type 12           369\n",
       "Trade: type 1               348\n",
       "Mobile                      317\n",
       "Legal Services              305\n",
       "Cleaning                    260\n",
       "Transport: type 1           201\n",
       "Industry: type 6            112\n",
       "Industry: type 10           109\n",
       "Religion                     85\n",
       "Industry: type 13            67\n",
       "Trade: type 4                64\n",
       "Trade: type 5                49\n",
       "Industry: type 8             24\n",
       "Name: count, dtype: int64"
      ]
     },
     "execution_count": 7,
     "metadata": {},
     "output_type": "execute_result"
    }
   ],
   "source": [
    "df['ORGANIZATION_TYPE'] = df['ORGANIZATION_TYPE'].apply(lambda x: np.nan if x==\"XNA\" else x)\n",
    "df['ORGANIZATION_TYPE'].value_counts(dropna=False)"
   ]
  },
  {
   "cell_type": "code",
   "execution_count": 8,
   "metadata": {},
   "outputs": [
    {
     "data": {
      "text/plain": [
       "OCCUPATION_TYPE\n",
       "NaN                      96389\n",
       "Laborers                 55185\n",
       "Sales staff              32102\n",
       "Core staff               27569\n",
       "Managers                 21371\n",
       "Drivers                  18603\n",
       "High skill tech staff    11380\n",
       "Accountants               9813\n",
       "Medicine staff            8537\n",
       "Security staff            6721\n",
       "Cooking staff             5946\n",
       "Cleaning staff            4653\n",
       "Private service staff     2652\n",
       "Low-skill Laborers        2092\n",
       "Waiters/barmen staff      1348\n",
       "Secretaries               1305\n",
       "Realty agents              751\n",
       "HR staff                   563\n",
       "IT staff                   526\n",
       "Name: count, dtype: int64"
      ]
     },
     "execution_count": 8,
     "metadata": {},
     "output_type": "execute_result"
    }
   ],
   "source": [
    "df['OCCUPATION_TYPE'].value_counts(dropna=False)"
   ]
  },
  {
   "cell_type": "code",
   "execution_count": 9,
   "metadata": {
    "ExecuteTime": {
     "end_time": "2023-04-27T12:28:07.777267Z",
     "start_time": "2023-04-27T12:28:07.750661Z"
    },
    "collapsed": false
   },
   "outputs": [],
   "source": [
    "cat_features = list(df.loc[:, df.dtypes == 'object'].columns.values)\n",
    "for feature in cat_features:\n",
    "    df[feature] = pd.Series(df[feature], dtype=\"category\")"
   ]
  },
  {
   "cell_type": "code",
   "execution_count": 10,
   "metadata": {
    "ExecuteTime": {
     "end_time": "2023-04-27T12:28:07.971843Z",
     "start_time": "2023-04-27T12:28:07.966255Z"
    },
    "collapsed": false
   },
   "outputs": [],
   "source": [
    "# Essai sur un échantillon d'abord\n",
    "n_rows = 30_000\n",
    "X = df.drop(columns=[\"SK_ID_CURR\", \"TARGET\"], axis=1)\n",
    "y = df[\"TARGET\"]\n",
    "if n_rows:\n",
    "    X = X.head(n_rows)\n",
    "    y = y.head(n_rows)"
   ]
  },
  {
   "cell_type": "code",
   "execution_count": 11,
   "metadata": {},
   "outputs": [
    {
     "data": {
      "text/plain": [
       "['CREDIT_TO_ANNUITY_RATIO',\n",
       " 'EXT_SOURCES_MEAN',\n",
       " 'EXT_SOURCE_3',\n",
       " 'EXT_SOURCES_MIN',\n",
       " 'BUREAU_CONSUMER_DAYS_CREDIT_ENDDATE_MAX',\n",
       " 'AMT_ANNUITY',\n",
       " 'CREDIT_TO_GOODS_RATIO',\n",
       " 'DAYS_ID_PUBLISH',\n",
       " 'DAYS_EMPLOYED',\n",
       " 'BUREAU_CREDIT_DEBT_CREDIT_DIFF_MEAN',\n",
       " 'BUREAU_ACTIVE_DEBT_CREDIT_DIFF_MEAN',\n",
       " 'ANNUITY_TO_INCOME_RATIO',\n",
       " 'AGE',\n",
       " 'ORGANIZATION_TYPE',\n",
       " 'OCCUPATION_TYPE']"
      ]
     },
     "execution_count": 11,
     "metadata": {},
     "output_type": "execute_result"
    }
   ],
   "source": [
    "predictors = list(X.columns)\n",
    "predictors"
   ]
  },
  {
   "cell_type": "code",
   "execution_count": 12,
   "metadata": {},
   "outputs": [
    {
     "name": "stdout",
     "output_type": "stream",
     "text": [
      "<class 'pandas.core.frame.DataFrame'>\n",
      "RangeIndex: 30000 entries, 0 to 29999\n",
      "Data columns (total 15 columns):\n",
      " #   Column                                   Non-Null Count  Dtype   \n",
      "---  ------                                   --------------  -----   \n",
      " 0   CREDIT_TO_ANNUITY_RATIO                  30000 non-null  float64 \n",
      " 1   EXT_SOURCES_MEAN                         29977 non-null  float64 \n",
      " 2   EXT_SOURCE_3                             24078 non-null  float64 \n",
      " 3   EXT_SOURCES_MIN                          29977 non-null  float64 \n",
      " 4   BUREAU_CONSUMER_DAYS_CREDIT_ENDDATE_MAX  24064 non-null  float64 \n",
      " 5   AMT_ANNUITY                              30000 non-null  float64 \n",
      " 6   CREDIT_TO_GOODS_RATIO                    29976 non-null  float64 \n",
      " 7   DAYS_ID_PUBLISH                          30000 non-null  int64   \n",
      " 8   DAYS_EMPLOYED                            24577 non-null  float64 \n",
      " 9   BUREAU_CREDIT_DEBT_CREDIT_DIFF_MEAN      15663 non-null  float64 \n",
      " 10  BUREAU_ACTIVE_DEBT_CREDIT_DIFF_MEAN      20092 non-null  float64 \n",
      " 11  ANNUITY_TO_INCOME_RATIO                  30000 non-null  float64 \n",
      " 12  AGE                                      30000 non-null  float64 \n",
      " 13  ORGANIZATION_TYPE                        24577 non-null  category\n",
      " 14  OCCUPATION_TYPE                          20554 non-null  category\n",
      "dtypes: category(2), float64(12), int64(1)\n",
      "memory usage: 3.0 MB\n"
     ]
    }
   ],
   "source": [
    "X.info()"
   ]
  },
  {
   "cell_type": "markdown",
   "metadata": {
    "collapsed": false
   },
   "source": [
    "## Run A Study"
   ]
  },
  {
   "cell_type": "code",
   "execution_count": 13,
   "metadata": {
    "ExecuteTime": {
     "end_time": "2023-04-27T12:28:10.156076Z",
     "start_time": "2023-04-27T12:28:10.152538Z"
    },
    "collapsed": false
   },
   "outputs": [],
   "source": [
    "# Nécessite l'installation optuna-integration\n",
    "def objective(predictors, cat_features=None, optimize_boosting_type=True):\n",
    "    def _objective(trial):\n",
    "        if optimize_boosting_type:\n",
    "            boosting_type = trial.suggest_categorical(\"boosting_type\", [\"dart\", \"gbdt\"])\n",
    "        else:\n",
    "            boosting_type = \"gbdt\"\n",
    "        lambda_l1 = trial.suggest_float(\n",
    "            'lambda_l1', 1e-8, 10.0, log=True),\n",
    "        lambda_l2 = trial.suggest_float(\n",
    "            'lambda_l2', 1e-8, 10.0, log=True),\n",
    "        num_leaves = trial.suggest_int(\n",
    "            'num_leaves', 2, 256),\n",
    "        feature_fraction = trial.suggest_float(\n",
    "            'feature_fraction', 0.4, 1.0),\n",
    "        bagging_fraction = trial.suggest_float(\n",
    "            'bagging_fraction', 0.4, 1.0),\n",
    "        bagging_freq = trial.suggest_int(\n",
    "            'bagging_freq', 1, 7),\n",
    "        min_child_samples = trial.suggest_int(\n",
    "            'min_child_samples', 5, 100),\n",
    "        learning_rate = trial.suggest_float(\n",
    "            \"learning_rate\", 0.0001, 0.5, log=True),\n",
    "        max_bin = trial.suggest_int(\n",
    "            \"max_bin\", 128, 512, step=32)\n",
    "        n_estimators = trial.suggest_int(\n",
    "            \"n_estimators\", 40, 400, step=20)\n",
    "\n",
    "        pruning_callback = optuna.integration.LightGBMPruningCallback(trial, \"binary\")\n",
    "        #pruning_callback = optuna-integration.LightGBMPruningCallback(trial, \"binary\")\n",
    "        \n",
    "        if cat_features:\n",
    "            model = lgb.LGBMClassifier(\n",
    "                force_row_wise=True,\n",
    "                boosting_type=boosting_type,\n",
    "                n_estimators=n_estimators,\n",
    "                lambda_l1=lambda_l1,\n",
    "                lambda_l2=lambda_l2,\n",
    "                num_leaves=num_leaves,\n",
    "                feature_fraction=feature_fraction,\n",
    "                bagging_fraction=bagging_fraction,\n",
    "                bagging_freq=bagging_freq,\n",
    "                min_child_samples=min_child_samples,\n",
    "                learning_rate=learning_rate,\n",
    "                max_bin=max_bin,\n",
    "                callbacks=[pruning_callback],\n",
    "                #feature_name=predictors,\n",
    "                categorical_feature=cat_features,\n",
    "                verbose=-1,\n",
    "                )\n",
    "        else:\n",
    "            model = lgb.LGBMClassifier(\n",
    "                force_row_wise=True,\n",
    "                boosting_type=boosting_type,\n",
    "                n_estimators=n_estimators,\n",
    "                lambda_l1=lambda_l1,\n",
    "                lambda_l2=lambda_l2,\n",
    "                num_leaves=num_leaves,\n",
    "                feature_fraction=feature_fraction,\n",
    "                bagging_fraction=bagging_fraction,\n",
    "                bagging_freq=bagging_freq,\n",
    "                min_child_samples=min_child_samples,\n",
    "                learning_rate=learning_rate,\n",
    "                max_bin=max_bin,\n",
    "                callbacks=[pruning_callback],\n",
    "                #feature_name=predictors,\n",
    "                verbose=-1,\n",
    "                )\n",
    "        scores = cross_val_score(model, X, y, scoring=\"f1_macro\", cv=5)\n",
    "        return scores.mean()\n",
    "\n",
    "    return _objective"
   ]
  },
  {
   "cell_type": "code",
   "execution_count": 14,
   "metadata": {},
   "outputs": [
    {
     "data": {
      "text/plain": [
       "['ORGANIZATION_TYPE', 'OCCUPATION_TYPE']"
      ]
     },
     "execution_count": 14,
     "metadata": {},
     "output_type": "execute_result"
    }
   ],
   "source": [
    "cat_features"
   ]
  },
  {
   "cell_type": "code",
   "execution_count": 15,
   "metadata": {
    "ExecuteTime": {
     "end_time": "2023-04-27T12:41:49.408124Z",
     "start_time": "2023-04-27T12:28:12.286408Z"
    },
    "collapsed": false
   },
   "outputs": [
    {
     "name": "stderr",
     "output_type": "stream",
     "text": [
      "[I 2024-04-26 07:18:28,311] A new study created in memory with name: no-name-e93d7651-4e07-42ff-b967-7f6c3d23a18e\n",
      "e:\\Mes Documents\\_Open Classroom\\Code\\p7\\p7env\\lib\\site-packages\\lightgbm\\basic.py:2054: UserWarning: categorical_feature in param dict is overridden.\n",
      "  _log_warning(f'{cat_alias} in param dict is overridden.')\n",
      "e:\\Mes Documents\\_Open Classroom\\Code\\p7\\p7env\\lib\\site-packages\\lightgbm\\basic.py:2054: UserWarning: categorical_feature in param dict is overridden.\n",
      "  _log_warning(f'{cat_alias} in param dict is overridden.')\n",
      "e:\\Mes Documents\\_Open Classroom\\Code\\p7\\p7env\\lib\\site-packages\\lightgbm\\basic.py:2034: UserWarning: categorical_feature keyword has been found in `params` and will be ignored.\n",
      "Please use categorical_feature argument of the Dataset constructor to pass this parameter.\n",
      "  _log_warning(f'{key} keyword has been found in `params` and will be ignored.\\n'\n",
      "e:\\Mes Documents\\_Open Classroom\\Code\\p7\\p7env\\lib\\site-packages\\lightgbm\\basic.py:2034: UserWarning: categorical_feature keyword has been found in `params` and will be ignored.\n",
      "Please use categorical_feature argument of the Dataset constructor to pass this parameter.\n",
      "  _log_warning(f'{key} keyword has been found in `params` and will be ignored.\\n'\n",
      "e:\\Mes Documents\\_Open Classroom\\Code\\p7\\p7env\\lib\\site-packages\\lightgbm\\basic.py:2054: UserWarning: categorical_feature in param dict is overridden.\n",
      "  _log_warning(f'{cat_alias} in param dict is overridden.')\n",
      "e:\\Mes Documents\\_Open Classroom\\Code\\p7\\p7env\\lib\\site-packages\\lightgbm\\basic.py:2034: UserWarning: categorical_feature keyword has been found in `params` and will be ignored.\n",
      "Please use categorical_feature argument of the Dataset constructor to pass this parameter.\n",
      "  _log_warning(f'{key} keyword has been found in `params` and will be ignored.\\n'\n",
      "e:\\Mes Documents\\_Open Classroom\\Code\\p7\\p7env\\lib\\site-packages\\lightgbm\\basic.py:2034: UserWarning: categorical_feature keyword has been found in `params` and will be ignored.\n",
      "Please use categorical_feature argument of the Dataset constructor to pass this parameter.\n",
      "  _log_warning(f'{key} keyword has been found in `params` and will be ignored.\\n'\n",
      "e:\\Mes Documents\\_Open Classroom\\Code\\p7\\p7env\\lib\\site-packages\\lightgbm\\basic.py:2034: UserWarning: categorical_feature keyword has been found in `params` and will be ignored.\n",
      "Please use categorical_feature argument of the Dataset constructor to pass this parameter.\n",
      "  _log_warning(f'{key} keyword has been found in `params` and will be ignored.\\n'\n",
      "e:\\Mes Documents\\_Open Classroom\\Code\\p7\\p7env\\lib\\site-packages\\lightgbm\\basic.py:2054: UserWarning: categorical_feature in param dict is overridden.\n",
      "  _log_warning(f'{cat_alias} in param dict is overridden.')\n",
      "e:\\Mes Documents\\_Open Classroom\\Code\\p7\\p7env\\lib\\site-packages\\lightgbm\\basic.py:2054: UserWarning: categorical_feature in param dict is overridden.\n",
      "  _log_warning(f'{cat_alias} in param dict is overridden.')\n",
      "e:\\Mes Documents\\_Open Classroom\\Code\\p7\\p7env\\lib\\site-packages\\lightgbm\\basic.py:2034: UserWarning: categorical_feature keyword has been found in `params` and will be ignored.\n",
      "Please use categorical_feature argument of the Dataset constructor to pass this parameter.\n",
      "  _log_warning(f'{key} keyword has been found in `params` and will be ignored.\\n'\n",
      "e:\\Mes Documents\\_Open Classroom\\Code\\p7\\p7env\\lib\\site-packages\\lightgbm\\basic.py:2054: UserWarning: categorical_feature in param dict is overridden.\n",
      "  _log_warning(f'{cat_alias} in param dict is overridden.')\n",
      "e:\\Mes Documents\\_Open Classroom\\Code\\p7\\p7env\\lib\\site-packages\\lightgbm\\basic.py:2034: UserWarning: categorical_feature keyword has been found in `params` and will be ignored.\n",
      "Please use categorical_feature argument of the Dataset constructor to pass this parameter.\n",
      "  _log_warning(f'{key} keyword has been found in `params` and will be ignored.\\n'\n",
      "e:\\Mes Documents\\_Open Classroom\\Code\\p7\\p7env\\lib\\site-packages\\lightgbm\\basic.py:2034: UserWarning: categorical_feature keyword has been found in `params` and will be ignored.\n",
      "Please use categorical_feature argument of the Dataset constructor to pass this parameter.\n",
      "  _log_warning(f'{key} keyword has been found in `params` and will be ignored.\\n'\n",
      "e:\\Mes Documents\\_Open Classroom\\Code\\p7\\p7env\\lib\\site-packages\\lightgbm\\basic.py:2034: UserWarning: categorical_feature keyword has been found in `params` and will be ignored.\n",
      "Please use categorical_feature argument of the Dataset constructor to pass this parameter.\n",
      "  _log_warning(f'{key} keyword has been found in `params` and will be ignored.\\n'\n",
      "e:\\Mes Documents\\_Open Classroom\\Code\\p7\\p7env\\lib\\site-packages\\lightgbm\\basic.py:2034: UserWarning: categorical_feature keyword has been found in `params` and will be ignored.\n",
      "Please use categorical_feature argument of the Dataset constructor to pass this parameter.\n",
      "  _log_warning(f'{key} keyword has been found in `params` and will be ignored.\\n'\n",
      "e:\\Mes Documents\\_Open Classroom\\Code\\p7\\p7env\\lib\\site-packages\\lightgbm\\basic.py:2054: UserWarning: categorical_feature in param dict is overridden.\n",
      "  _log_warning(f'{cat_alias} in param dict is overridden.')\n",
      "e:\\Mes Documents\\_Open Classroom\\Code\\p7\\p7env\\lib\\site-packages\\lightgbm\\basic.py:2034: UserWarning: categorical_feature keyword has been found in `params` and will be ignored.\n",
      "Please use categorical_feature argument of the Dataset constructor to pass this parameter.\n",
      "  _log_warning(f'{key} keyword has been found in `params` and will be ignored.\\n'\n",
      "e:\\Mes Documents\\_Open Classroom\\Code\\p7\\p7env\\lib\\site-packages\\lightgbm\\basic.py:2054: UserWarning: categorical_feature in param dict is overridden.\n",
      "  _log_warning(f'{cat_alias} in param dict is overridden.')\n",
      "e:\\Mes Documents\\_Open Classroom\\Code\\p7\\p7env\\lib\\site-packages\\lightgbm\\basic.py:2034: UserWarning: categorical_feature keyword has been found in `params` and will be ignored.\n",
      "Please use categorical_feature argument of the Dataset constructor to pass this parameter.\n",
      "  _log_warning(f'{key} keyword has been found in `params` and will be ignored.\\n'\n",
      "e:\\Mes Documents\\_Open Classroom\\Code\\p7\\p7env\\lib\\site-packages\\lightgbm\\basic.py:2054: UserWarning: categorical_feature in param dict is overridden.\n",
      "  _log_warning(f'{cat_alias} in param dict is overridden.')\n",
      "e:\\Mes Documents\\_Open Classroom\\Code\\p7\\p7env\\lib\\site-packages\\lightgbm\\basic.py:2034: UserWarning: categorical_feature keyword has been found in `params` and will be ignored.\n",
      "Please use categorical_feature argument of the Dataset constructor to pass this parameter.\n",
      "  _log_warning(f'{key} keyword has been found in `params` and will be ignored.\\n'\n",
      "e:\\Mes Documents\\_Open Classroom\\Code\\p7\\p7env\\lib\\site-packages\\lightgbm\\basic.py:2054: UserWarning: categorical_feature in param dict is overridden.\n",
      "  _log_warning(f'{cat_alias} in param dict is overridden.')\n",
      "e:\\Mes Documents\\_Open Classroom\\Code\\p7\\p7env\\lib\\site-packages\\lightgbm\\basic.py:2034: UserWarning: categorical_feature keyword has been found in `params` and will be ignored.\n",
      "Please use categorical_feature argument of the Dataset constructor to pass this parameter.\n",
      "  _log_warning(f'{key} keyword has been found in `params` and will be ignored.\\n'\n",
      "e:\\Mes Documents\\_Open Classroom\\Code\\p7\\p7env\\lib\\site-packages\\lightgbm\\basic.py:2054: UserWarning: categorical_feature in param dict is overridden.\n",
      "  _log_warning(f'{cat_alias} in param dict is overridden.')\n",
      "e:\\Mes Documents\\_Open Classroom\\Code\\p7\\p7env\\lib\\site-packages\\lightgbm\\basic.py:2034: UserWarning: categorical_feature keyword has been found in `params` and will be ignored.\n",
      "Please use categorical_feature argument of the Dataset constructor to pass this parameter.\n",
      "  _log_warning(f'{key} keyword has been found in `params` and will be ignored.\\n'\n",
      "e:\\Mes Documents\\_Open Classroom\\Code\\p7\\p7env\\lib\\site-packages\\lightgbm\\basic.py:2054: UserWarning: categorical_feature in param dict is overridden.\n",
      "  _log_warning(f'{cat_alias} in param dict is overridden.')\n",
      "e:\\Mes Documents\\_Open Classroom\\Code\\p7\\p7env\\lib\\site-packages\\lightgbm\\basic.py:2034: UserWarning: categorical_feature keyword has been found in `params` and will be ignored.\n",
      "Please use categorical_feature argument of the Dataset constructor to pass this parameter.\n",
      "  _log_warning(f'{key} keyword has been found in `params` and will be ignored.\\n'\n",
      "e:\\Mes Documents\\_Open Classroom\\Code\\p7\\p7env\\lib\\site-packages\\lightgbm\\basic.py:2054: UserWarning: categorical_feature in param dict is overridden.\n",
      "  _log_warning(f'{cat_alias} in param dict is overridden.')\n",
      "e:\\Mes Documents\\_Open Classroom\\Code\\p7\\p7env\\lib\\site-packages\\lightgbm\\basic.py:2034: UserWarning: categorical_feature keyword has been found in `params` and will be ignored.\n",
      "Please use categorical_feature argument of the Dataset constructor to pass this parameter.\n",
      "  _log_warning(f'{key} keyword has been found in `params` and will be ignored.\\n'\n",
      "e:\\Mes Documents\\_Open Classroom\\Code\\p7\\p7env\\lib\\site-packages\\lightgbm\\basic.py:2054: UserWarning: categorical_feature in param dict is overridden.\n",
      "  _log_warning(f'{cat_alias} in param dict is overridden.')\n",
      "e:\\Mes Documents\\_Open Classroom\\Code\\p7\\p7env\\lib\\site-packages\\lightgbm\\basic.py:2034: UserWarning: categorical_feature keyword has been found in `params` and will be ignored.\n",
      "Please use categorical_feature argument of the Dataset constructor to pass this parameter.\n",
      "  _log_warning(f'{key} keyword has been found in `params` and will be ignored.\\n'\n",
      "e:\\Mes Documents\\_Open Classroom\\Code\\p7\\p7env\\lib\\site-packages\\lightgbm\\basic.py:2054: UserWarning: categorical_feature in param dict is overridden.\n",
      "  _log_warning(f'{cat_alias} in param dict is overridden.')\n",
      "e:\\Mes Documents\\_Open Classroom\\Code\\p7\\p7env\\lib\\site-packages\\lightgbm\\basic.py:2034: UserWarning: categorical_feature keyword has been found in `params` and will be ignored.\n",
      "Please use categorical_feature argument of the Dataset constructor to pass this parameter.\n",
      "  _log_warning(f'{key} keyword has been found in `params` and will be ignored.\\n'\n",
      "e:\\Mes Documents\\_Open Classroom\\Code\\p7\\p7env\\lib\\site-packages\\lightgbm\\basic.py:2054: UserWarning: categorical_feature in param dict is overridden.\n",
      "  _log_warning(f'{cat_alias} in param dict is overridden.')\n",
      "e:\\Mes Documents\\_Open Classroom\\Code\\p7\\p7env\\lib\\site-packages\\lightgbm\\basic.py:2034: UserWarning: categorical_feature keyword has been found in `params` and will be ignored.\n",
      "Please use categorical_feature argument of the Dataset constructor to pass this parameter.\n",
      "  _log_warning(f'{key} keyword has been found in `params` and will be ignored.\\n'\n",
      "e:\\Mes Documents\\_Open Classroom\\Code\\p7\\p7env\\lib\\site-packages\\lightgbm\\basic.py:2054: UserWarning: categorical_feature in param dict is overridden.\n",
      "  _log_warning(f'{cat_alias} in param dict is overridden.')\n",
      "e:\\Mes Documents\\_Open Classroom\\Code\\p7\\p7env\\lib\\site-packages\\lightgbm\\basic.py:2034: UserWarning: categorical_feature keyword has been found in `params` and will be ignored.\n",
      "Please use categorical_feature argument of the Dataset constructor to pass this parameter.\n",
      "  _log_warning(f'{key} keyword has been found in `params` and will be ignored.\\n'\n",
      "e:\\Mes Documents\\_Open Classroom\\Code\\p7\\p7env\\lib\\site-packages\\lightgbm\\basic.py:2054: UserWarning: categorical_feature in param dict is overridden.\n",
      "  _log_warning(f'{cat_alias} in param dict is overridden.')\n",
      "e:\\Mes Documents\\_Open Classroom\\Code\\p7\\p7env\\lib\\site-packages\\lightgbm\\basic.py:2034: UserWarning: categorical_feature keyword has been found in `params` and will be ignored.\n",
      "Please use categorical_feature argument of the Dataset constructor to pass this parameter.\n",
      "  _log_warning(f'{key} keyword has been found in `params` and will be ignored.\\n'\n",
      "e:\\Mes Documents\\_Open Classroom\\Code\\p7\\p7env\\lib\\site-packages\\lightgbm\\basic.py:2054: UserWarning: categorical_feature in param dict is overridden.\n",
      "  _log_warning(f'{cat_alias} in param dict is overridden.')\n",
      "e:\\Mes Documents\\_Open Classroom\\Code\\p7\\p7env\\lib\\site-packages\\lightgbm\\basic.py:2034: UserWarning: categorical_feature keyword has been found in `params` and will be ignored.\n",
      "Please use categorical_feature argument of the Dataset constructor to pass this parameter.\n",
      "  _log_warning(f'{key} keyword has been found in `params` and will be ignored.\\n'\n",
      "e:\\Mes Documents\\_Open Classroom\\Code\\p7\\p7env\\lib\\site-packages\\lightgbm\\basic.py:2054: UserWarning: categorical_feature in param dict is overridden.\n",
      "  _log_warning(f'{cat_alias} in param dict is overridden.')\n",
      "e:\\Mes Documents\\_Open Classroom\\Code\\p7\\p7env\\lib\\site-packages\\lightgbm\\basic.py:2034: UserWarning: categorical_feature keyword has been found in `params` and will be ignored.\n",
      "Please use categorical_feature argument of the Dataset constructor to pass this parameter.\n",
      "  _log_warning(f'{key} keyword has been found in `params` and will be ignored.\\n'\n",
      "e:\\Mes Documents\\_Open Classroom\\Code\\p7\\p7env\\lib\\site-packages\\lightgbm\\basic.py:2054: UserWarning: categorical_feature in param dict is overridden.\n",
      "  _log_warning(f'{cat_alias} in param dict is overridden.')\n",
      "e:\\Mes Documents\\_Open Classroom\\Code\\p7\\p7env\\lib\\site-packages\\lightgbm\\basic.py:2034: UserWarning: categorical_feature keyword has been found in `params` and will be ignored.\n",
      "Please use categorical_feature argument of the Dataset constructor to pass this parameter.\n",
      "  _log_warning(f'{key} keyword has been found in `params` and will be ignored.\\n'\n",
      "e:\\Mes Documents\\_Open Classroom\\Code\\p7\\p7env\\lib\\site-packages\\lightgbm\\basic.py:2054: UserWarning: categorical_feature in param dict is overridden.\n",
      "  _log_warning(f'{cat_alias} in param dict is overridden.')\n",
      "e:\\Mes Documents\\_Open Classroom\\Code\\p7\\p7env\\lib\\site-packages\\lightgbm\\basic.py:2034: UserWarning: categorical_feature keyword has been found in `params` and will be ignored.\n",
      "Please use categorical_feature argument of the Dataset constructor to pass this parameter.\n",
      "  _log_warning(f'{key} keyword has been found in `params` and will be ignored.\\n'\n",
      "e:\\Mes Documents\\_Open Classroom\\Code\\p7\\p7env\\lib\\site-packages\\lightgbm\\basic.py:2054: UserWarning: categorical_feature in param dict is overridden.\n",
      "  _log_warning(f'{cat_alias} in param dict is overridden.')\n",
      "e:\\Mes Documents\\_Open Classroom\\Code\\p7\\p7env\\lib\\site-packages\\lightgbm\\basic.py:2034: UserWarning: categorical_feature keyword has been found in `params` and will be ignored.\n",
      "Please use categorical_feature argument of the Dataset constructor to pass this parameter.\n",
      "  _log_warning(f'{key} keyword has been found in `params` and will be ignored.\\n'\n",
      "e:\\Mes Documents\\_Open Classroom\\Code\\p7\\p7env\\lib\\site-packages\\lightgbm\\basic.py:2054: UserWarning: categorical_feature in param dict is overridden.\n",
      "  _log_warning(f'{cat_alias} in param dict is overridden.')\n",
      "e:\\Mes Documents\\_Open Classroom\\Code\\p7\\p7env\\lib\\site-packages\\lightgbm\\basic.py:2034: UserWarning: categorical_feature keyword has been found in `params` and will be ignored.\n",
      "Please use categorical_feature argument of the Dataset constructor to pass this parameter.\n",
      "  _log_warning(f'{key} keyword has been found in `params` and will be ignored.\\n'\n",
      "e:\\Mes Documents\\_Open Classroom\\Code\\p7\\p7env\\lib\\site-packages\\lightgbm\\basic.py:2054: UserWarning: categorical_feature in param dict is overridden.\n",
      "  _log_warning(f'{cat_alias} in param dict is overridden.')\n",
      "e:\\Mes Documents\\_Open Classroom\\Code\\p7\\p7env\\lib\\site-packages\\lightgbm\\basic.py:2034: UserWarning: categorical_feature keyword has been found in `params` and will be ignored.\n",
      "Please use categorical_feature argument of the Dataset constructor to pass this parameter.\n",
      "  _log_warning(f'{key} keyword has been found in `params` and will be ignored.\\n'\n",
      "e:\\Mes Documents\\_Open Classroom\\Code\\p7\\p7env\\lib\\site-packages\\lightgbm\\basic.py:2054: UserWarning: categorical_feature in param dict is overridden.\n",
      "  _log_warning(f'{cat_alias} in param dict is overridden.')\n",
      "e:\\Mes Documents\\_Open Classroom\\Code\\p7\\p7env\\lib\\site-packages\\lightgbm\\basic.py:2034: UserWarning: categorical_feature keyword has been found in `params` and will be ignored.\n",
      "Please use categorical_feature argument of the Dataset constructor to pass this parameter.\n",
      "  _log_warning(f'{key} keyword has been found in `params` and will be ignored.\\n'\n",
      "e:\\Mes Documents\\_Open Classroom\\Code\\p7\\p7env\\lib\\site-packages\\lightgbm\\basic.py:2054: UserWarning: categorical_feature in param dict is overridden.\n",
      "  _log_warning(f'{cat_alias} in param dict is overridden.')\n",
      "[I 2024-04-26 07:18:37,572] Trial 27 finished with value: 0.5036063910842142 and parameters: {'boosting_type': 'gbdt', 'lambda_l1': 0.3625726121142129, 'lambda_l2': 2.0758186237816143, 'num_leaves': 10, 'feature_fraction': 0.6636657720219887, 'bagging_fraction': 0.42143012313784933, 'bagging_freq': 2, 'min_child_samples': 95, 'learning_rate': 0.09470473058450345, 'max_bin': 256, 'n_estimators': 160}. Best is trial 27 with value: 0.5036063910842142.\n",
      "e:\\Mes Documents\\_Open Classroom\\Code\\p7\\p7env\\lib\\site-packages\\lightgbm\\basic.py:2034: UserWarning: categorical_feature keyword has been found in `params` and will be ignored.\n",
      "Please use categorical_feature argument of the Dataset constructor to pass this parameter.\n",
      "  _log_warning(f'{key} keyword has been found in `params` and will be ignored.\\n'\n",
      "e:\\Mes Documents\\_Open Classroom\\Code\\p7\\p7env\\lib\\site-packages\\lightgbm\\basic.py:2054: UserWarning: categorical_feature in param dict is overridden.\n",
      "  _log_warning(f'{cat_alias} in param dict is overridden.')\n",
      "e:\\Mes Documents\\_Open Classroom\\Code\\p7\\p7env\\lib\\site-packages\\lightgbm\\basic.py:2034: UserWarning: categorical_feature keyword has been found in `params` and will be ignored.\n",
      "Please use categorical_feature argument of the Dataset constructor to pass this parameter.\n",
      "  _log_warning(f'{key} keyword has been found in `params` and will be ignored.\\n'\n",
      "[I 2024-04-26 07:18:38,642] Trial 11 finished with value: 0.4791485806059554 and parameters: {'boosting_type': 'gbdt', 'lambda_l1': 0.015253748666431113, 'lambda_l2': 0.26991588809755507, 'num_leaves': 6, 'feature_fraction': 0.8109987801964369, 'bagging_fraction': 0.9542079206741508, 'bagging_freq': 2, 'min_child_samples': 5, 'learning_rate': 0.0017125650573674369, 'max_bin': 224, 'n_estimators': 280}. Best is trial 27 with value: 0.5036063910842142.\n",
      "e:\\Mes Documents\\_Open Classroom\\Code\\p7\\p7env\\lib\\site-packages\\lightgbm\\basic.py:2034: UserWarning: categorical_feature keyword has been found in `params` and will be ignored.\n",
      "Please use categorical_feature argument of the Dataset constructor to pass this parameter.\n",
      "  _log_warning(f'{key} keyword has been found in `params` and will be ignored.\\n'\n",
      "e:\\Mes Documents\\_Open Classroom\\Code\\p7\\p7env\\lib\\site-packages\\lightgbm\\basic.py:2054: UserWarning: categorical_feature in param dict is overridden.\n",
      "  _log_warning(f'{cat_alias} in param dict is overridden.')\n",
      "e:\\Mes Documents\\_Open Classroom\\Code\\p7\\p7env\\lib\\site-packages\\lightgbm\\basic.py:2034: UserWarning: categorical_feature keyword has been found in `params` and will be ignored.\n",
      "Please use categorical_feature argument of the Dataset constructor to pass this parameter.\n",
      "  _log_warning(f'{key} keyword has been found in `params` and will be ignored.\\n'\n",
      "e:\\Mes Documents\\_Open Classroom\\Code\\p7\\p7env\\lib\\site-packages\\lightgbm\\basic.py:2054: UserWarning: categorical_feature in param dict is overridden.\n",
      "  _log_warning(f'{cat_alias} in param dict is overridden.')\n",
      "e:\\Mes Documents\\_Open Classroom\\Code\\p7\\p7env\\lib\\site-packages\\lightgbm\\basic.py:2034: UserWarning: categorical_feature keyword has been found in `params` and will be ignored.\n",
      "Please use categorical_feature argument of the Dataset constructor to pass this parameter.\n",
      "  _log_warning(f'{key} keyword has been found in `params` and will be ignored.\\n'\n",
      "e:\\Mes Documents\\_Open Classroom\\Code\\p7\\p7env\\lib\\site-packages\\lightgbm\\basic.py:2054: UserWarning: categorical_feature in param dict is overridden.\n",
      "  _log_warning(f'{cat_alias} in param dict is overridden.')\n",
      "e:\\Mes Documents\\_Open Classroom\\Code\\p7\\p7env\\lib\\site-packages\\lightgbm\\basic.py:2034: UserWarning: categorical_feature keyword has been found in `params` and will be ignored.\n",
      "Please use categorical_feature argument of the Dataset constructor to pass this parameter.\n",
      "  _log_warning(f'{key} keyword has been found in `params` and will be ignored.\\n'\n",
      "e:\\Mes Documents\\_Open Classroom\\Code\\p7\\p7env\\lib\\site-packages\\lightgbm\\basic.py:2054: UserWarning: categorical_feature in param dict is overridden.\n",
      "  _log_warning(f'{cat_alias} in param dict is overridden.')\n",
      "e:\\Mes Documents\\_Open Classroom\\Code\\p7\\p7env\\lib\\site-packages\\lightgbm\\basic.py:2034: UserWarning: categorical_feature keyword has been found in `params` and will be ignored.\n",
      "Please use categorical_feature argument of the Dataset constructor to pass this parameter.\n",
      "  _log_warning(f'{key} keyword has been found in `params` and will be ignored.\\n'\n",
      "e:\\Mes Documents\\_Open Classroom\\Code\\p7\\p7env\\lib\\site-packages\\lightgbm\\basic.py:2054: UserWarning: categorical_feature in param dict is overridden.\n",
      "  _log_warning(f'{cat_alias} in param dict is overridden.')\n",
      "[I 2024-04-26 07:18:40,179] Trial 21 finished with value: 0.4791485806059554 and parameters: {'boosting_type': 'dart', 'lambda_l1': 2.233930266416007e-08, 'lambda_l2': 4.648159792976108e-05, 'num_leaves': 35, 'feature_fraction': 0.5203146837139564, 'bagging_fraction': 0.9538136245340142, 'bagging_freq': 2, 'min_child_samples': 33, 'learning_rate': 0.0001199597699319483, 'max_bin': 128, 'n_estimators': 60}. Best is trial 27 with value: 0.5036063910842142.\n",
      "e:\\Mes Documents\\_Open Classroom\\Code\\p7\\p7env\\lib\\site-packages\\lightgbm\\basic.py:2034: UserWarning: categorical_feature keyword has been found in `params` and will be ignored.\n",
      "Please use categorical_feature argument of the Dataset constructor to pass this parameter.\n",
      "  _log_warning(f'{key} keyword has been found in `params` and will be ignored.\\n'\n",
      "e:\\Mes Documents\\_Open Classroom\\Code\\p7\\p7env\\lib\\site-packages\\lightgbm\\basic.py:2054: UserWarning: categorical_feature in param dict is overridden.\n",
      "  _log_warning(f'{cat_alias} in param dict is overridden.')\n",
      "[I 2024-04-26 07:18:41,375] Trial 16 finished with value: 0.5131614347035655 and parameters: {'boosting_type': 'dart', 'lambda_l1': 5.631874972284509e-05, 'lambda_l2': 0.0013980955835069307, 'num_leaves': 80, 'feature_fraction': 0.8854631009633241, 'bagging_fraction': 0.9430040660650452, 'bagging_freq': 3, 'min_child_samples': 29, 'learning_rate': 0.21921804518470023, 'max_bin': 480, 'n_estimators': 40}. Best is trial 16 with value: 0.5131614347035655.\n",
      "e:\\Mes Documents\\_Open Classroom\\Code\\p7\\p7env\\lib\\site-packages\\lightgbm\\basic.py:2034: UserWarning: categorical_feature keyword has been found in `params` and will be ignored.\n",
      "Please use categorical_feature argument of the Dataset constructor to pass this parameter.\n",
      "  _log_warning(f'{key} keyword has been found in `params` and will be ignored.\\n'\n",
      "e:\\Mes Documents\\_Open Classroom\\Code\\p7\\p7env\\lib\\site-packages\\lightgbm\\basic.py:2054: UserWarning: categorical_feature in param dict is overridden.\n",
      "  _log_warning(f'{cat_alias} in param dict is overridden.')\n",
      "e:\\Mes Documents\\_Open Classroom\\Code\\p7\\p7env\\lib\\site-packages\\lightgbm\\basic.py:2034: UserWarning: categorical_feature keyword has been found in `params` and will be ignored.\n",
      "Please use categorical_feature argument of the Dataset constructor to pass this parameter.\n",
      "  _log_warning(f'{key} keyword has been found in `params` and will be ignored.\\n'\n",
      "e:\\Mes Documents\\_Open Classroom\\Code\\p7\\p7env\\lib\\site-packages\\lightgbm\\basic.py:2054: UserWarning: categorical_feature in param dict is overridden.\n",
      "  _log_warning(f'{cat_alias} in param dict is overridden.')\n",
      "e:\\Mes Documents\\_Open Classroom\\Code\\p7\\p7env\\lib\\site-packages\\lightgbm\\basic.py:2034: UserWarning: categorical_feature keyword has been found in `params` and will be ignored.\n",
      "Please use categorical_feature argument of the Dataset constructor to pass this parameter.\n",
      "  _log_warning(f'{key} keyword has been found in `params` and will be ignored.\\n'\n",
      "e:\\Mes Documents\\_Open Classroom\\Code\\p7\\p7env\\lib\\site-packages\\lightgbm\\basic.py:2054: UserWarning: categorical_feature in param dict is overridden.\n",
      "  _log_warning(f'{cat_alias} in param dict is overridden.')\n",
      "e:\\Mes Documents\\_Open Classroom\\Code\\p7\\p7env\\lib\\site-packages\\lightgbm\\basic.py:2034: UserWarning: categorical_feature keyword has been found in `params` and will be ignored.\n",
      "Please use categorical_feature argument of the Dataset constructor to pass this parameter.\n",
      "  _log_warning(f'{key} keyword has been found in `params` and will be ignored.\\n'\n",
      "e:\\Mes Documents\\_Open Classroom\\Code\\p7\\p7env\\lib\\site-packages\\lightgbm\\basic.py:2054: UserWarning: categorical_feature in param dict is overridden.\n",
      "  _log_warning(f'{cat_alias} in param dict is overridden.')\n",
      "e:\\Mes Documents\\_Open Classroom\\Code\\p7\\p7env\\lib\\site-packages\\lightgbm\\basic.py:2034: UserWarning: categorical_feature keyword has been found in `params` and will be ignored.\n",
      "Please use categorical_feature argument of the Dataset constructor to pass this parameter.\n",
      "  _log_warning(f'{key} keyword has been found in `params` and will be ignored.\\n'\n",
      "e:\\Mes Documents\\_Open Classroom\\Code\\p7\\p7env\\lib\\site-packages\\lightgbm\\basic.py:2054: UserWarning: categorical_feature in param dict is overridden.\n",
      "  _log_warning(f'{cat_alias} in param dict is overridden.')\n",
      "e:\\Mes Documents\\_Open Classroom\\Code\\p7\\p7env\\lib\\site-packages\\lightgbm\\basic.py:2034: UserWarning: categorical_feature keyword has been found in `params` and will be ignored.\n",
      "Please use categorical_feature argument of the Dataset constructor to pass this parameter.\n",
      "  _log_warning(f'{key} keyword has been found in `params` and will be ignored.\\n'\n",
      "e:\\Mes Documents\\_Open Classroom\\Code\\p7\\p7env\\lib\\site-packages\\lightgbm\\basic.py:2054: UserWarning: categorical_feature in param dict is overridden.\n",
      "  _log_warning(f'{cat_alias} in param dict is overridden.')\n",
      "e:\\Mes Documents\\_Open Classroom\\Code\\p7\\p7env\\lib\\site-packages\\lightgbm\\basic.py:2034: UserWarning: categorical_feature keyword has been found in `params` and will be ignored.\n",
      "Please use categorical_feature argument of the Dataset constructor to pass this parameter.\n",
      "  _log_warning(f'{key} keyword has been found in `params` and will be ignored.\\n'\n",
      "e:\\Mes Documents\\_Open Classroom\\Code\\p7\\p7env\\lib\\site-packages\\lightgbm\\basic.py:2054: UserWarning: categorical_feature in param dict is overridden.\n",
      "  _log_warning(f'{cat_alias} in param dict is overridden.')\n",
      "e:\\Mes Documents\\_Open Classroom\\Code\\p7\\p7env\\lib\\site-packages\\lightgbm\\basic.py:2034: UserWarning: categorical_feature keyword has been found in `params` and will be ignored.\n",
      "Please use categorical_feature argument of the Dataset constructor to pass this parameter.\n",
      "  _log_warning(f'{key} keyword has been found in `params` and will be ignored.\\n'\n",
      "e:\\Mes Documents\\_Open Classroom\\Code\\p7\\p7env\\lib\\site-packages\\lightgbm\\basic.py:2054: UserWarning: categorical_feature in param dict is overridden.\n",
      "  _log_warning(f'{cat_alias} in param dict is overridden.')\n",
      "e:\\Mes Documents\\_Open Classroom\\Code\\p7\\p7env\\lib\\site-packages\\lightgbm\\basic.py:2034: UserWarning: categorical_feature keyword has been found in `params` and will be ignored.\n",
      "Please use categorical_feature argument of the Dataset constructor to pass this parameter.\n",
      "  _log_warning(f'{key} keyword has been found in `params` and will be ignored.\\n'\n",
      "e:\\Mes Documents\\_Open Classroom\\Code\\p7\\p7env\\lib\\site-packages\\lightgbm\\basic.py:2054: UserWarning: categorical_feature in param dict is overridden.\n",
      "  _log_warning(f'{cat_alias} in param dict is overridden.')\n",
      "[I 2024-04-26 07:18:45,727] Trial 1 finished with value: 0.48677853308851143 and parameters: {'boosting_type': 'dart', 'lambda_l1': 3.776201294620101, 'lambda_l2': 1.1732408092509239, 'num_leaves': 58, 'feature_fraction': 0.6960176630942401, 'bagging_fraction': 0.71971979068802, 'bagging_freq': 2, 'min_child_samples': 72, 'learning_rate': 0.10683866854245697, 'max_bin': 384, 'n_estimators': 80}. Best is trial 16 with value: 0.5131614347035655.\n",
      "e:\\Mes Documents\\_Open Classroom\\Code\\p7\\p7env\\lib\\site-packages\\lightgbm\\basic.py:2034: UserWarning: categorical_feature keyword has been found in `params` and will be ignored.\n",
      "Please use categorical_feature argument of the Dataset constructor to pass this parameter.\n",
      "  _log_warning(f'{key} keyword has been found in `params` and will be ignored.\\n'\n",
      "e:\\Mes Documents\\_Open Classroom\\Code\\p7\\p7env\\lib\\site-packages\\lightgbm\\basic.py:2054: UserWarning: categorical_feature in param dict is overridden.\n",
      "  _log_warning(f'{cat_alias} in param dict is overridden.')\n",
      "e:\\Mes Documents\\_Open Classroom\\Code\\p7\\p7env\\lib\\site-packages\\lightgbm\\basic.py:2034: UserWarning: categorical_feature keyword has been found in `params` and will be ignored.\n",
      "Please use categorical_feature argument of the Dataset constructor to pass this parameter.\n",
      "  _log_warning(f'{key} keyword has been found in `params` and will be ignored.\\n'\n",
      "e:\\Mes Documents\\_Open Classroom\\Code\\p7\\p7env\\lib\\site-packages\\lightgbm\\basic.py:2054: UserWarning: categorical_feature in param dict is overridden.\n",
      "  _log_warning(f'{cat_alias} in param dict is overridden.')\n",
      "e:\\Mes Documents\\_Open Classroom\\Code\\p7\\p7env\\lib\\site-packages\\lightgbm\\basic.py:2034: UserWarning: categorical_feature keyword has been found in `params` and will be ignored.\n",
      "Please use categorical_feature argument of the Dataset constructor to pass this parameter.\n",
      "  _log_warning(f'{key} keyword has been found in `params` and will be ignored.\\n'\n",
      "e:\\Mes Documents\\_Open Classroom\\Code\\p7\\p7env\\lib\\site-packages\\lightgbm\\basic.py:2054: UserWarning: categorical_feature in param dict is overridden.\n",
      "  _log_warning(f'{cat_alias} in param dict is overridden.')\n",
      "e:\\Mes Documents\\_Open Classroom\\Code\\p7\\p7env\\lib\\site-packages\\lightgbm\\basic.py:2034: UserWarning: categorical_feature keyword has been found in `params` and will be ignored.\n",
      "Please use categorical_feature argument of the Dataset constructor to pass this parameter.\n",
      "  _log_warning(f'{key} keyword has been found in `params` and will be ignored.\\n'\n",
      "e:\\Mes Documents\\_Open Classroom\\Code\\p7\\p7env\\lib\\site-packages\\lightgbm\\basic.py:2054: UserWarning: categorical_feature in param dict is overridden.\n",
      "  _log_warning(f'{cat_alias} in param dict is overridden.')\n",
      "e:\\Mes Documents\\_Open Classroom\\Code\\p7\\p7env\\lib\\site-packages\\lightgbm\\basic.py:2034: UserWarning: categorical_feature keyword has been found in `params` and will be ignored.\n",
      "Please use categorical_feature argument of the Dataset constructor to pass this parameter.\n",
      "  _log_warning(f'{key} keyword has been found in `params` and will be ignored.\\n'\n",
      "e:\\Mes Documents\\_Open Classroom\\Code\\p7\\p7env\\lib\\site-packages\\lightgbm\\basic.py:2054: UserWarning: categorical_feature in param dict is overridden.\n",
      "  _log_warning(f'{cat_alias} in param dict is overridden.')\n",
      "e:\\Mes Documents\\_Open Classroom\\Code\\p7\\p7env\\lib\\site-packages\\lightgbm\\basic.py:2034: UserWarning: categorical_feature keyword has been found in `params` and will be ignored.\n",
      "Please use categorical_feature argument of the Dataset constructor to pass this parameter.\n",
      "  _log_warning(f'{key} keyword has been found in `params` and will be ignored.\\n'\n",
      "e:\\Mes Documents\\_Open Classroom\\Code\\p7\\p7env\\lib\\site-packages\\lightgbm\\basic.py:2054: UserWarning: categorical_feature in param dict is overridden.\n",
      "  _log_warning(f'{cat_alias} in param dict is overridden.')\n",
      "e:\\Mes Documents\\_Open Classroom\\Code\\p7\\p7env\\lib\\site-packages\\lightgbm\\basic.py:2034: UserWarning: categorical_feature keyword has been found in `params` and will be ignored.\n",
      "Please use categorical_feature argument of the Dataset constructor to pass this parameter.\n",
      "  _log_warning(f'{key} keyword has been found in `params` and will be ignored.\\n'\n",
      "e:\\Mes Documents\\_Open Classroom\\Code\\p7\\p7env\\lib\\site-packages\\lightgbm\\basic.py:2054: UserWarning: categorical_feature in param dict is overridden.\n",
      "  _log_warning(f'{cat_alias} in param dict is overridden.')\n",
      "e:\\Mes Documents\\_Open Classroom\\Code\\p7\\p7env\\lib\\site-packages\\lightgbm\\basic.py:2034: UserWarning: categorical_feature keyword has been found in `params` and will be ignored.\n",
      "Please use categorical_feature argument of the Dataset constructor to pass this parameter.\n",
      "  _log_warning(f'{key} keyword has been found in `params` and will be ignored.\\n'\n",
      "e:\\Mes Documents\\_Open Classroom\\Code\\p7\\p7env\\lib\\site-packages\\lightgbm\\basic.py:2054: UserWarning: categorical_feature in param dict is overridden.\n",
      "  _log_warning(f'{cat_alias} in param dict is overridden.')\n",
      "e:\\Mes Documents\\_Open Classroom\\Code\\p7\\p7env\\lib\\site-packages\\lightgbm\\basic.py:2034: UserWarning: categorical_feature keyword has been found in `params` and will be ignored.\n",
      "Please use categorical_feature argument of the Dataset constructor to pass this parameter.\n",
      "  _log_warning(f'{key} keyword has been found in `params` and will be ignored.\\n'\n",
      "e:\\Mes Documents\\_Open Classroom\\Code\\p7\\p7env\\lib\\site-packages\\lightgbm\\basic.py:2054: UserWarning: categorical_feature in param dict is overridden.\n",
      "  _log_warning(f'{cat_alias} in param dict is overridden.')\n",
      "[I 2024-04-26 07:18:49,635] Trial 15 finished with value: 0.4791485806059554 and parameters: {'boosting_type': 'gbdt', 'lambda_l1': 0.006823776274222582, 'lambda_l2': 0.0005027961426555496, 'num_leaves': 106, 'feature_fraction': 0.6511381424166389, 'bagging_fraction': 0.5423027072753832, 'bagging_freq': 7, 'min_child_samples': 79, 'learning_rate': 0.0017659863592447745, 'max_bin': 384, 'n_estimators': 60}. Best is trial 16 with value: 0.5131614347035655.\n",
      "e:\\Mes Documents\\_Open Classroom\\Code\\p7\\p7env\\lib\\site-packages\\lightgbm\\basic.py:2034: UserWarning: categorical_feature keyword has been found in `params` and will be ignored.\n",
      "Please use categorical_feature argument of the Dataset constructor to pass this parameter.\n",
      "  _log_warning(f'{key} keyword has been found in `params` and will be ignored.\\n'\n",
      "e:\\Mes Documents\\_Open Classroom\\Code\\p7\\p7env\\lib\\site-packages\\lightgbm\\basic.py:2054: UserWarning: categorical_feature in param dict is overridden.\n",
      "  _log_warning(f'{cat_alias} in param dict is overridden.')\n",
      "e:\\Mes Documents\\_Open Classroom\\Code\\p7\\p7env\\lib\\site-packages\\lightgbm\\basic.py:2034: UserWarning: categorical_feature keyword has been found in `params` and will be ignored.\n",
      "Please use categorical_feature argument of the Dataset constructor to pass this parameter.\n",
      "  _log_warning(f'{key} keyword has been found in `params` and will be ignored.\\n'\n",
      "e:\\Mes Documents\\_Open Classroom\\Code\\p7\\p7env\\lib\\site-packages\\lightgbm\\basic.py:2054: UserWarning: categorical_feature in param dict is overridden.\n",
      "  _log_warning(f'{cat_alias} in param dict is overridden.')\n",
      "e:\\Mes Documents\\_Open Classroom\\Code\\p7\\p7env\\lib\\site-packages\\lightgbm\\basic.py:2034: UserWarning: categorical_feature keyword has been found in `params` and will be ignored.\n",
      "Please use categorical_feature argument of the Dataset constructor to pass this parameter.\n",
      "  _log_warning(f'{key} keyword has been found in `params` and will be ignored.\\n'\n",
      "e:\\Mes Documents\\_Open Classroom\\Code\\p7\\p7env\\lib\\site-packages\\lightgbm\\basic.py:2054: UserWarning: categorical_feature in param dict is overridden.\n",
      "  _log_warning(f'{cat_alias} in param dict is overridden.')\n",
      "e:\\Mes Documents\\_Open Classroom\\Code\\p7\\p7env\\lib\\site-packages\\lightgbm\\basic.py:2034: UserWarning: categorical_feature keyword has been found in `params` and will be ignored.\n",
      "Please use categorical_feature argument of the Dataset constructor to pass this parameter.\n",
      "  _log_warning(f'{key} keyword has been found in `params` and will be ignored.\\n'\n",
      "e:\\Mes Documents\\_Open Classroom\\Code\\p7\\p7env\\lib\\site-packages\\lightgbm\\basic.py:2054: UserWarning: categorical_feature in param dict is overridden.\n",
      "  _log_warning(f'{cat_alias} in param dict is overridden.')\n",
      "e:\\Mes Documents\\_Open Classroom\\Code\\p7\\p7env\\lib\\site-packages\\lightgbm\\basic.py:2034: UserWarning: categorical_feature keyword has been found in `params` and will be ignored.\n",
      "Please use categorical_feature argument of the Dataset constructor to pass this parameter.\n",
      "  _log_warning(f'{key} keyword has been found in `params` and will be ignored.\\n'\n",
      "e:\\Mes Documents\\_Open Classroom\\Code\\p7\\p7env\\lib\\site-packages\\lightgbm\\basic.py:2054: UserWarning: categorical_feature in param dict is overridden.\n",
      "  _log_warning(f'{cat_alias} in param dict is overridden.')\n",
      "e:\\Mes Documents\\_Open Classroom\\Code\\p7\\p7env\\lib\\site-packages\\lightgbm\\basic.py:2034: UserWarning: categorical_feature keyword has been found in `params` and will be ignored.\n",
      "Please use categorical_feature argument of the Dataset constructor to pass this parameter.\n",
      "  _log_warning(f'{key} keyword has been found in `params` and will be ignored.\\n'\n",
      "e:\\Mes Documents\\_Open Classroom\\Code\\p7\\p7env\\lib\\site-packages\\lightgbm\\basic.py:2054: UserWarning: categorical_feature in param dict is overridden.\n",
      "  _log_warning(f'{cat_alias} in param dict is overridden.')\n",
      "e:\\Mes Documents\\_Open Classroom\\Code\\p7\\p7env\\lib\\site-packages\\lightgbm\\basic.py:2034: UserWarning: categorical_feature keyword has been found in `params` and will be ignored.\n",
      "Please use categorical_feature argument of the Dataset constructor to pass this parameter.\n",
      "  _log_warning(f'{key} keyword has been found in `params` and will be ignored.\\n'\n",
      "e:\\Mes Documents\\_Open Classroom\\Code\\p7\\p7env\\lib\\site-packages\\lightgbm\\basic.py:2054: UserWarning: categorical_feature in param dict is overridden.\n",
      "  _log_warning(f'{cat_alias} in param dict is overridden.')\n",
      "e:\\Mes Documents\\_Open Classroom\\Code\\p7\\p7env\\lib\\site-packages\\lightgbm\\basic.py:2034: UserWarning: categorical_feature keyword has been found in `params` and will be ignored.\n",
      "Please use categorical_feature argument of the Dataset constructor to pass this parameter.\n",
      "  _log_warning(f'{key} keyword has been found in `params` and will be ignored.\\n'\n",
      "e:\\Mes Documents\\_Open Classroom\\Code\\p7\\p7env\\lib\\site-packages\\lightgbm\\basic.py:2054: UserWarning: categorical_feature in param dict is overridden.\n",
      "  _log_warning(f'{cat_alias} in param dict is overridden.')\n",
      "e:\\Mes Documents\\_Open Classroom\\Code\\p7\\p7env\\lib\\site-packages\\lightgbm\\basic.py:2034: UserWarning: categorical_feature keyword has been found in `params` and will be ignored.\n",
      "Please use categorical_feature argument of the Dataset constructor to pass this parameter.\n",
      "  _log_warning(f'{key} keyword has been found in `params` and will be ignored.\\n'\n",
      "e:\\Mes Documents\\_Open Classroom\\Code\\p7\\p7env\\lib\\site-packages\\lightgbm\\basic.py:2054: UserWarning: categorical_feature in param dict is overridden.\n",
      "  _log_warning(f'{cat_alias} in param dict is overridden.')\n",
      "e:\\Mes Documents\\_Open Classroom\\Code\\p7\\p7env\\lib\\site-packages\\lightgbm\\basic.py:2034: UserWarning: categorical_feature keyword has been found in `params` and will be ignored.\n",
      "Please use categorical_feature argument of the Dataset constructor to pass this parameter.\n",
      "  _log_warning(f'{key} keyword has been found in `params` and will be ignored.\\n'\n",
      "e:\\Mes Documents\\_Open Classroom\\Code\\p7\\p7env\\lib\\site-packages\\lightgbm\\basic.py:2054: UserWarning: categorical_feature in param dict is overridden.\n",
      "  _log_warning(f'{cat_alias} in param dict is overridden.')\n",
      "e:\\Mes Documents\\_Open Classroom\\Code\\p7\\p7env\\lib\\site-packages\\lightgbm\\basic.py:2034: UserWarning: categorical_feature keyword has been found in `params` and will be ignored.\n",
      "Please use categorical_feature argument of the Dataset constructor to pass this parameter.\n",
      "  _log_warning(f'{key} keyword has been found in `params` and will be ignored.\\n'\n",
      "e:\\Mes Documents\\_Open Classroom\\Code\\p7\\p7env\\lib\\site-packages\\lightgbm\\basic.py:2054: UserWarning: categorical_feature in param dict is overridden.\n",
      "  _log_warning(f'{cat_alias} in param dict is overridden.')\n",
      "e:\\Mes Documents\\_Open Classroom\\Code\\p7\\p7env\\lib\\site-packages\\lightgbm\\basic.py:2034: UserWarning: categorical_feature keyword has been found in `params` and will be ignored.\n",
      "Please use categorical_feature argument of the Dataset constructor to pass this parameter.\n",
      "  _log_warning(f'{key} keyword has been found in `params` and will be ignored.\\n'\n",
      "e:\\Mes Documents\\_Open Classroom\\Code\\p7\\p7env\\lib\\site-packages\\lightgbm\\basic.py:2054: UserWarning: categorical_feature in param dict is overridden.\n",
      "  _log_warning(f'{cat_alias} in param dict is overridden.')\n",
      "e:\\Mes Documents\\_Open Classroom\\Code\\p7\\p7env\\lib\\site-packages\\lightgbm\\basic.py:2034: UserWarning: categorical_feature keyword has been found in `params` and will be ignored.\n",
      "Please use categorical_feature argument of the Dataset constructor to pass this parameter.\n",
      "  _log_warning(f'{key} keyword has been found in `params` and will be ignored.\\n'\n",
      "e:\\Mes Documents\\_Open Classroom\\Code\\p7\\p7env\\lib\\site-packages\\lightgbm\\basic.py:2054: UserWarning: categorical_feature in param dict is overridden.\n",
      "  _log_warning(f'{cat_alias} in param dict is overridden.')\n",
      "e:\\Mes Documents\\_Open Classroom\\Code\\p7\\p7env\\lib\\site-packages\\lightgbm\\basic.py:2034: UserWarning: categorical_feature keyword has been found in `params` and will be ignored.\n",
      "Please use categorical_feature argument of the Dataset constructor to pass this parameter.\n",
      "  _log_warning(f'{key} keyword has been found in `params` and will be ignored.\\n'\n",
      "e:\\Mes Documents\\_Open Classroom\\Code\\p7\\p7env\\lib\\site-packages\\lightgbm\\basic.py:2054: UserWarning: categorical_feature in param dict is overridden.\n",
      "  _log_warning(f'{cat_alias} in param dict is overridden.')\n",
      "e:\\Mes Documents\\_Open Classroom\\Code\\p7\\p7env\\lib\\site-packages\\lightgbm\\basic.py:2034: UserWarning: categorical_feature keyword has been found in `params` and will be ignored.\n",
      "Please use categorical_feature argument of the Dataset constructor to pass this parameter.\n",
      "  _log_warning(f'{key} keyword has been found in `params` and will be ignored.\\n'\n",
      "e:\\Mes Documents\\_Open Classroom\\Code\\p7\\p7env\\lib\\site-packages\\lightgbm\\basic.py:2054: UserWarning: categorical_feature in param dict is overridden.\n",
      "  _log_warning(f'{cat_alias} in param dict is overridden.')\n",
      "e:\\Mes Documents\\_Open Classroom\\Code\\p7\\p7env\\lib\\site-packages\\lightgbm\\basic.py:2034: UserWarning: categorical_feature keyword has been found in `params` and will be ignored.\n",
      "Please use categorical_feature argument of the Dataset constructor to pass this parameter.\n",
      "  _log_warning(f'{key} keyword has been found in `params` and will be ignored.\\n'\n",
      "e:\\Mes Documents\\_Open Classroom\\Code\\p7\\p7env\\lib\\site-packages\\lightgbm\\basic.py:2054: UserWarning: categorical_feature in param dict is overridden.\n",
      "  _log_warning(f'{cat_alias} in param dict is overridden.')\n",
      "e:\\Mes Documents\\_Open Classroom\\Code\\p7\\p7env\\lib\\site-packages\\lightgbm\\basic.py:2034: UserWarning: categorical_feature keyword has been found in `params` and will be ignored.\n",
      "Please use categorical_feature argument of the Dataset constructor to pass this parameter.\n",
      "  _log_warning(f'{key} keyword has been found in `params` and will be ignored.\\n'\n",
      "e:\\Mes Documents\\_Open Classroom\\Code\\p7\\p7env\\lib\\site-packages\\lightgbm\\basic.py:2054: UserWarning: categorical_feature in param dict is overridden.\n",
      "  _log_warning(f'{cat_alias} in param dict is overridden.')\n",
      "[I 2024-04-26 07:18:56,600] Trial 12 finished with value: 0.4791485806059554 and parameters: {'boosting_type': 'gbdt', 'lambda_l1': 1.0428208754347389e-08, 'lambda_l2': 2.0195666600664186e-05, 'num_leaves': 83, 'feature_fraction': 0.8287910356943371, 'bagging_fraction': 0.6456504840363495, 'bagging_freq': 6, 'min_child_samples': 63, 'learning_rate': 0.008249340336366744, 'max_bin': 512, 'n_estimators': 100}. Best is trial 16 with value: 0.5131614347035655.\n",
      "e:\\Mes Documents\\_Open Classroom\\Code\\p7\\p7env\\lib\\site-packages\\lightgbm\\basic.py:2034: UserWarning: categorical_feature keyword has been found in `params` and will be ignored.\n",
      "Please use categorical_feature argument of the Dataset constructor to pass this parameter.\n",
      "  _log_warning(f'{key} keyword has been found in `params` and will be ignored.\\n'\n",
      "e:\\Mes Documents\\_Open Classroom\\Code\\p7\\p7env\\lib\\site-packages\\lightgbm\\basic.py:2054: UserWarning: categorical_feature in param dict is overridden.\n",
      "  _log_warning(f'{cat_alias} in param dict is overridden.')\n",
      "e:\\Mes Documents\\_Open Classroom\\Code\\p7\\p7env\\lib\\site-packages\\lightgbm\\basic.py:2034: UserWarning: categorical_feature keyword has been found in `params` and will be ignored.\n",
      "Please use categorical_feature argument of the Dataset constructor to pass this parameter.\n",
      "  _log_warning(f'{key} keyword has been found in `params` and will be ignored.\\n'\n",
      "e:\\Mes Documents\\_Open Classroom\\Code\\p7\\p7env\\lib\\site-packages\\lightgbm\\basic.py:2054: UserWarning: categorical_feature in param dict is overridden.\n",
      "  _log_warning(f'{cat_alias} in param dict is overridden.')\n",
      "e:\\Mes Documents\\_Open Classroom\\Code\\p7\\p7env\\lib\\site-packages\\lightgbm\\basic.py:2034: UserWarning: categorical_feature keyword has been found in `params` and will be ignored.\n",
      "Please use categorical_feature argument of the Dataset constructor to pass this parameter.\n",
      "  _log_warning(f'{key} keyword has been found in `params` and will be ignored.\\n'\n",
      "e:\\Mes Documents\\_Open Classroom\\Code\\p7\\p7env\\lib\\site-packages\\lightgbm\\basic.py:2054: UserWarning: categorical_feature in param dict is overridden.\n",
      "  _log_warning(f'{cat_alias} in param dict is overridden.')\n",
      "e:\\Mes Documents\\_Open Classroom\\Code\\p7\\p7env\\lib\\site-packages\\lightgbm\\basic.py:2034: UserWarning: categorical_feature keyword has been found in `params` and will be ignored.\n",
      "Please use categorical_feature argument of the Dataset constructor to pass this parameter.\n",
      "  _log_warning(f'{key} keyword has been found in `params` and will be ignored.\\n'\n",
      "e:\\Mes Documents\\_Open Classroom\\Code\\p7\\p7env\\lib\\site-packages\\lightgbm\\basic.py:2054: UserWarning: categorical_feature in param dict is overridden.\n",
      "  _log_warning(f'{cat_alias} in param dict is overridden.')\n",
      "e:\\Mes Documents\\_Open Classroom\\Code\\p7\\p7env\\lib\\site-packages\\lightgbm\\basic.py:2034: UserWarning: categorical_feature keyword has been found in `params` and will be ignored.\n",
      "Please use categorical_feature argument of the Dataset constructor to pass this parameter.\n",
      "  _log_warning(f'{key} keyword has been found in `params` and will be ignored.\\n'\n",
      "e:\\Mes Documents\\_Open Classroom\\Code\\p7\\p7env\\lib\\site-packages\\lightgbm\\basic.py:2054: UserWarning: categorical_feature in param dict is overridden.\n",
      "  _log_warning(f'{cat_alias} in param dict is overridden.')\n",
      "e:\\Mes Documents\\_Open Classroom\\Code\\p7\\p7env\\lib\\site-packages\\lightgbm\\basic.py:2034: UserWarning: categorical_feature keyword has been found in `params` and will be ignored.\n",
      "Please use categorical_feature argument of the Dataset constructor to pass this parameter.\n",
      "  _log_warning(f'{key} keyword has been found in `params` and will be ignored.\\n'\n",
      "e:\\Mes Documents\\_Open Classroom\\Code\\p7\\p7env\\lib\\site-packages\\lightgbm\\basic.py:2054: UserWarning: categorical_feature in param dict is overridden.\n",
      "  _log_warning(f'{cat_alias} in param dict is overridden.')\n",
      "[I 2024-04-26 07:18:59,868] Trial 0 finished with value: 0.4791485806059554 and parameters: {'boosting_type': 'dart', 'lambda_l1': 0.00018045184514907414, 'lambda_l2': 0.010662269601451462, 'num_leaves': 66, 'feature_fraction': 0.7675786278692548, 'bagging_fraction': 0.7978944628143536, 'bagging_freq': 1, 'min_child_samples': 38, 'learning_rate': 0.000512059564326924, 'max_bin': 224, 'n_estimators': 140}. Best is trial 16 with value: 0.5131614347035655.\n",
      "e:\\Mes Documents\\_Open Classroom\\Code\\p7\\p7env\\lib\\site-packages\\lightgbm\\basic.py:2034: UserWarning: categorical_feature keyword has been found in `params` and will be ignored.\n",
      "Please use categorical_feature argument of the Dataset constructor to pass this parameter.\n",
      "  _log_warning(f'{key} keyword has been found in `params` and will be ignored.\\n'\n",
      "e:\\Mes Documents\\_Open Classroom\\Code\\p7\\p7env\\lib\\site-packages\\lightgbm\\basic.py:2054: UserWarning: categorical_feature in param dict is overridden.\n",
      "  _log_warning(f'{cat_alias} in param dict is overridden.')\n",
      "[I 2024-04-26 07:19:01,419] Trial 20 finished with value: 0.4791485806059554 and parameters: {'boosting_type': 'dart', 'lambda_l1': 2.160351846848612, 'lambda_l2': 1.212459304440881, 'num_leaves': 231, 'feature_fraction': 0.658163577383158, 'bagging_fraction': 0.5269361668990877, 'bagging_freq': 3, 'min_child_samples': 85, 'learning_rate': 0.0006627491792780409, 'max_bin': 480, 'n_estimators': 300}. Best is trial 16 with value: 0.5131614347035655.\n",
      "[I 2024-04-26 07:19:01,665] Trial 2 finished with value: 0.4791485806059554 and parameters: {'boosting_type': 'gbdt', 'lambda_l1': 1.9873225780982084e-06, 'lambda_l2': 0.0009711222635624303, 'num_leaves': 175, 'feature_fraction': 0.4879862847709691, 'bagging_fraction': 0.46395591846762124, 'bagging_freq': 6, 'min_child_samples': 66, 'learning_rate': 0.0014695625847298997, 'max_bin': 288, 'n_estimators': 80}. Best is trial 16 with value: 0.5131614347035655.\n",
      "e:\\Mes Documents\\_Open Classroom\\Code\\p7\\p7env\\lib\\site-packages\\lightgbm\\basic.py:2034: UserWarning: categorical_feature keyword has been found in `params` and will be ignored.\n",
      "Please use categorical_feature argument of the Dataset constructor to pass this parameter.\n",
      "  _log_warning(f'{key} keyword has been found in `params` and will be ignored.\\n'\n",
      "e:\\Mes Documents\\_Open Classroom\\Code\\p7\\p7env\\lib\\site-packages\\lightgbm\\basic.py:2054: UserWarning: categorical_feature in param dict is overridden.\n",
      "  _log_warning(f'{cat_alias} in param dict is overridden.')\n",
      "e:\\Mes Documents\\_Open Classroom\\Code\\p7\\p7env\\lib\\site-packages\\lightgbm\\basic.py:2034: UserWarning: categorical_feature keyword has been found in `params` and will be ignored.\n",
      "Please use categorical_feature argument of the Dataset constructor to pass this parameter.\n",
      "  _log_warning(f'{key} keyword has been found in `params` and will be ignored.\\n'\n",
      "e:\\Mes Documents\\_Open Classroom\\Code\\p7\\p7env\\lib\\site-packages\\lightgbm\\basic.py:2054: UserWarning: categorical_feature in param dict is overridden.\n",
      "  _log_warning(f'{cat_alias} in param dict is overridden.')\n",
      "e:\\Mes Documents\\_Open Classroom\\Code\\p7\\p7env\\lib\\site-packages\\lightgbm\\basic.py:2034: UserWarning: categorical_feature keyword has been found in `params` and will be ignored.\n",
      "Please use categorical_feature argument of the Dataset constructor to pass this parameter.\n",
      "  _log_warning(f'{key} keyword has been found in `params` and will be ignored.\\n'\n",
      "e:\\Mes Documents\\_Open Classroom\\Code\\p7\\p7env\\lib\\site-packages\\lightgbm\\basic.py:2054: UserWarning: categorical_feature in param dict is overridden.\n",
      "  _log_warning(f'{cat_alias} in param dict is overridden.')\n",
      "e:\\Mes Documents\\_Open Classroom\\Code\\p7\\p7env\\lib\\site-packages\\lightgbm\\basic.py:2034: UserWarning: categorical_feature keyword has been found in `params` and will be ignored.\n",
      "Please use categorical_feature argument of the Dataset constructor to pass this parameter.\n",
      "  _log_warning(f'{key} keyword has been found in `params` and will be ignored.\\n'\n",
      "e:\\Mes Documents\\_Open Classroom\\Code\\p7\\p7env\\lib\\site-packages\\lightgbm\\basic.py:2054: UserWarning: categorical_feature in param dict is overridden.\n",
      "  _log_warning(f'{cat_alias} in param dict is overridden.')\n",
      "e:\\Mes Documents\\_Open Classroom\\Code\\p7\\p7env\\lib\\site-packages\\lightgbm\\basic.py:2034: UserWarning: categorical_feature keyword has been found in `params` and will be ignored.\n",
      "Please use categorical_feature argument of the Dataset constructor to pass this parameter.\n",
      "  _log_warning(f'{key} keyword has been found in `params` and will be ignored.\\n'\n",
      "e:\\Mes Documents\\_Open Classroom\\Code\\p7\\p7env\\lib\\site-packages\\lightgbm\\basic.py:2054: UserWarning: categorical_feature in param dict is overridden.\n",
      "  _log_warning(f'{cat_alias} in param dict is overridden.')\n",
      "[I 2024-04-26 07:19:05,003] Trial 3 finished with value: 0.4791485806059554 and parameters: {'boosting_type': 'dart', 'lambda_l1': 0.030414277605698693, 'lambda_l2': 0.2174436595897243, 'num_leaves': 155, 'feature_fraction': 0.6914066023185121, 'bagging_fraction': 0.9610710104955789, 'bagging_freq': 4, 'min_child_samples': 56, 'learning_rate': 0.010056638727381216, 'max_bin': 256, 'n_estimators': 80}. Best is trial 16 with value: 0.5131614347035655.\n",
      "e:\\Mes Documents\\_Open Classroom\\Code\\p7\\p7env\\lib\\site-packages\\lightgbm\\basic.py:2034: UserWarning: categorical_feature keyword has been found in `params` and will be ignored.\n",
      "Please use categorical_feature argument of the Dataset constructor to pass this parameter.\n",
      "  _log_warning(f'{key} keyword has been found in `params` and will be ignored.\\n'\n",
      "e:\\Mes Documents\\_Open Classroom\\Code\\p7\\p7env\\lib\\site-packages\\lightgbm\\basic.py:2054: UserWarning: categorical_feature in param dict is overridden.\n",
      "  _log_warning(f'{cat_alias} in param dict is overridden.')\n",
      "e:\\Mes Documents\\_Open Classroom\\Code\\p7\\p7env\\lib\\site-packages\\lightgbm\\basic.py:2034: UserWarning: categorical_feature keyword has been found in `params` and will be ignored.\n",
      "Please use categorical_feature argument of the Dataset constructor to pass this parameter.\n",
      "  _log_warning(f'{key} keyword has been found in `params` and will be ignored.\\n'\n",
      "e:\\Mes Documents\\_Open Classroom\\Code\\p7\\p7env\\lib\\site-packages\\lightgbm\\basic.py:2054: UserWarning: categorical_feature in param dict is overridden.\n",
      "  _log_warning(f'{cat_alias} in param dict is overridden.')\n",
      "e:\\Mes Documents\\_Open Classroom\\Code\\p7\\p7env\\lib\\site-packages\\lightgbm\\basic.py:2034: UserWarning: categorical_feature keyword has been found in `params` and will be ignored.\n",
      "Please use categorical_feature argument of the Dataset constructor to pass this parameter.\n",
      "  _log_warning(f'{key} keyword has been found in `params` and will be ignored.\\n'\n",
      "e:\\Mes Documents\\_Open Classroom\\Code\\p7\\p7env\\lib\\site-packages\\lightgbm\\basic.py:2054: UserWarning: categorical_feature in param dict is overridden.\n",
      "  _log_warning(f'{cat_alias} in param dict is overridden.')\n",
      "[I 2024-04-26 07:19:09,435] Trial 17 finished with value: 0.4791485806059554 and parameters: {'boosting_type': 'gbdt', 'lambda_l1': 1.777481575539589e-06, 'lambda_l2': 0.00977827456454707, 'num_leaves': 215, 'feature_fraction': 0.6043567605974755, 'bagging_fraction': 0.9506179849696191, 'bagging_freq': 5, 'min_child_samples': 20, 'learning_rate': 0.004513147324627834, 'max_bin': 512, 'n_estimators': 60}. Best is trial 16 with value: 0.5131614347035655.\n",
      "e:\\Mes Documents\\_Open Classroom\\Code\\p7\\p7env\\lib\\site-packages\\lightgbm\\basic.py:2034: UserWarning: categorical_feature keyword has been found in `params` and will be ignored.\n",
      "Please use categorical_feature argument of the Dataset constructor to pass this parameter.\n",
      "  _log_warning(f'{key} keyword has been found in `params` and will be ignored.\\n'\n",
      "e:\\Mes Documents\\_Open Classroom\\Code\\p7\\p7env\\lib\\site-packages\\lightgbm\\basic.py:2054: UserWarning: categorical_feature in param dict is overridden.\n",
      "  _log_warning(f'{cat_alias} in param dict is overridden.')\n",
      "e:\\Mes Documents\\_Open Classroom\\Code\\p7\\p7env\\lib\\site-packages\\lightgbm\\basic.py:2034: UserWarning: categorical_feature keyword has been found in `params` and will be ignored.\n",
      "Please use categorical_feature argument of the Dataset constructor to pass this parameter.\n",
      "  _log_warning(f'{key} keyword has been found in `params` and will be ignored.\\n'\n",
      "e:\\Mes Documents\\_Open Classroom\\Code\\p7\\p7env\\lib\\site-packages\\lightgbm\\basic.py:2054: UserWarning: categorical_feature in param dict is overridden.\n",
      "  _log_warning(f'{cat_alias} in param dict is overridden.')\n",
      "[I 2024-04-26 07:19:09,996] Trial 19 finished with value: 0.4791485806059554 and parameters: {'boosting_type': 'gbdt', 'lambda_l1': 1.5320225223382612e-08, 'lambda_l2': 1.439103494335884e-05, 'num_leaves': 152, 'feature_fraction': 0.6552460339519544, 'bagging_fraction': 0.5747138920938398, 'bagging_freq': 2, 'min_child_samples': 54, 'learning_rate': 0.0003306116312833183, 'max_bin': 192, 'n_estimators': 100}. Best is trial 16 with value: 0.5131614347035655.\n",
      "e:\\Mes Documents\\_Open Classroom\\Code\\p7\\p7env\\lib\\site-packages\\lightgbm\\basic.py:2034: UserWarning: categorical_feature keyword has been found in `params` and will be ignored.\n",
      "Please use categorical_feature argument of the Dataset constructor to pass this parameter.\n",
      "  _log_warning(f'{key} keyword has been found in `params` and will be ignored.\\n'\n",
      "e:\\Mes Documents\\_Open Classroom\\Code\\p7\\p7env\\lib\\site-packages\\lightgbm\\basic.py:2054: UserWarning: categorical_feature in param dict is overridden.\n",
      "  _log_warning(f'{cat_alias} in param dict is overridden.')\n",
      "e:\\Mes Documents\\_Open Classroom\\Code\\p7\\p7env\\lib\\site-packages\\lightgbm\\basic.py:2034: UserWarning: categorical_feature keyword has been found in `params` and will be ignored.\n",
      "Please use categorical_feature argument of the Dataset constructor to pass this parameter.\n",
      "  _log_warning(f'{key} keyword has been found in `params` and will be ignored.\\n'\n",
      "e:\\Mes Documents\\_Open Classroom\\Code\\p7\\p7env\\lib\\site-packages\\lightgbm\\basic.py:2054: UserWarning: categorical_feature in param dict is overridden.\n",
      "  _log_warning(f'{cat_alias} in param dict is overridden.')\n",
      "[I 2024-04-26 07:19:10,684] Trial 8 finished with value: 0.5051361509095036 and parameters: {'boosting_type': 'gbdt', 'lambda_l1': 9.763541132185083e-05, 'lambda_l2': 2.186066095307818, 'num_leaves': 154, 'feature_fraction': 0.985399663547912, 'bagging_fraction': 0.5590909296773715, 'bagging_freq': 2, 'min_child_samples': 49, 'learning_rate': 0.06277477329103306, 'max_bin': 480, 'n_estimators': 100}. Best is trial 16 with value: 0.5131614347035655.\n",
      "e:\\Mes Documents\\_Open Classroom\\Code\\p7\\p7env\\lib\\site-packages\\lightgbm\\basic.py:2034: UserWarning: categorical_feature keyword has been found in `params` and will be ignored.\n",
      "Please use categorical_feature argument of the Dataset constructor to pass this parameter.\n",
      "  _log_warning(f'{key} keyword has been found in `params` and will be ignored.\\n'\n",
      "e:\\Mes Documents\\_Open Classroom\\Code\\p7\\p7env\\lib\\site-packages\\lightgbm\\basic.py:2054: UserWarning: categorical_feature in param dict is overridden.\n",
      "  _log_warning(f'{cat_alias} in param dict is overridden.')\n",
      "e:\\Mes Documents\\_Open Classroom\\Code\\p7\\p7env\\lib\\site-packages\\lightgbm\\basic.py:2034: UserWarning: categorical_feature keyword has been found in `params` and will be ignored.\n",
      "Please use categorical_feature argument of the Dataset constructor to pass this parameter.\n",
      "  _log_warning(f'{key} keyword has been found in `params` and will be ignored.\\n'\n",
      "e:\\Mes Documents\\_Open Classroom\\Code\\p7\\p7env\\lib\\site-packages\\lightgbm\\basic.py:2054: UserWarning: categorical_feature in param dict is overridden.\n",
      "  _log_warning(f'{cat_alias} in param dict is overridden.')\n",
      "e:\\Mes Documents\\_Open Classroom\\Code\\p7\\p7env\\lib\\site-packages\\lightgbm\\basic.py:2034: UserWarning: categorical_feature keyword has been found in `params` and will be ignored.\n",
      "Please use categorical_feature argument of the Dataset constructor to pass this parameter.\n",
      "  _log_warning(f'{key} keyword has been found in `params` and will be ignored.\\n'\n",
      "e:\\Mes Documents\\_Open Classroom\\Code\\p7\\p7env\\lib\\site-packages\\lightgbm\\basic.py:2054: UserWarning: categorical_feature in param dict is overridden.\n",
      "  _log_warning(f'{cat_alias} in param dict is overridden.')\n",
      "e:\\Mes Documents\\_Open Classroom\\Code\\p7\\p7env\\lib\\site-packages\\lightgbm\\basic.py:2034: UserWarning: categorical_feature keyword has been found in `params` and will be ignored.\n",
      "Please use categorical_feature argument of the Dataset constructor to pass this parameter.\n",
      "  _log_warning(f'{key} keyword has been found in `params` and will be ignored.\\n'\n",
      "e:\\Mes Documents\\_Open Classroom\\Code\\p7\\p7env\\lib\\site-packages\\lightgbm\\basic.py:2054: UserWarning: categorical_feature in param dict is overridden.\n",
      "  _log_warning(f'{cat_alias} in param dict is overridden.')\n",
      "e:\\Mes Documents\\_Open Classroom\\Code\\p7\\p7env\\lib\\site-packages\\lightgbm\\basic.py:2034: UserWarning: categorical_feature keyword has been found in `params` and will be ignored.\n",
      "Please use categorical_feature argument of the Dataset constructor to pass this parameter.\n",
      "  _log_warning(f'{key} keyword has been found in `params` and will be ignored.\\n'\n",
      "e:\\Mes Documents\\_Open Classroom\\Code\\p7\\p7env\\lib\\site-packages\\lightgbm\\basic.py:2054: UserWarning: categorical_feature in param dict is overridden.\n",
      "  _log_warning(f'{cat_alias} in param dict is overridden.')\n",
      "e:\\Mes Documents\\_Open Classroom\\Code\\p7\\p7env\\lib\\site-packages\\lightgbm\\basic.py:2034: UserWarning: categorical_feature keyword has been found in `params` and will be ignored.\n",
      "Please use categorical_feature argument of the Dataset constructor to pass this parameter.\n",
      "  _log_warning(f'{key} keyword has been found in `params` and will be ignored.\\n'\n",
      "e:\\Mes Documents\\_Open Classroom\\Code\\p7\\p7env\\lib\\site-packages\\lightgbm\\basic.py:2054: UserWarning: categorical_feature in param dict is overridden.\n",
      "  _log_warning(f'{cat_alias} in param dict is overridden.')\n",
      "e:\\Mes Documents\\_Open Classroom\\Code\\p7\\p7env\\lib\\site-packages\\lightgbm\\basic.py:2034: UserWarning: categorical_feature keyword has been found in `params` and will be ignored.\n",
      "Please use categorical_feature argument of the Dataset constructor to pass this parameter.\n",
      "  _log_warning(f'{key} keyword has been found in `params` and will be ignored.\\n'\n",
      "e:\\Mes Documents\\_Open Classroom\\Code\\p7\\p7env\\lib\\site-packages\\lightgbm\\basic.py:2054: UserWarning: categorical_feature in param dict is overridden.\n",
      "  _log_warning(f'{cat_alias} in param dict is overridden.')\n",
      "e:\\Mes Documents\\_Open Classroom\\Code\\p7\\p7env\\lib\\site-packages\\lightgbm\\basic.py:2034: UserWarning: categorical_feature keyword has been found in `params` and will be ignored.\n",
      "Please use categorical_feature argument of the Dataset constructor to pass this parameter.\n",
      "  _log_warning(f'{key} keyword has been found in `params` and will be ignored.\\n'\n",
      "e:\\Mes Documents\\_Open Classroom\\Code\\p7\\p7env\\lib\\site-packages\\lightgbm\\basic.py:2054: UserWarning: categorical_feature in param dict is overridden.\n",
      "  _log_warning(f'{cat_alias} in param dict is overridden.')\n",
      "e:\\Mes Documents\\_Open Classroom\\Code\\p7\\p7env\\lib\\site-packages\\lightgbm\\basic.py:2034: UserWarning: categorical_feature keyword has been found in `params` and will be ignored.\n",
      "Please use categorical_feature argument of the Dataset constructor to pass this parameter.\n",
      "  _log_warning(f'{key} keyword has been found in `params` and will be ignored.\\n'\n",
      "e:\\Mes Documents\\_Open Classroom\\Code\\p7\\p7env\\lib\\site-packages\\lightgbm\\basic.py:2054: UserWarning: categorical_feature in param dict is overridden.\n",
      "  _log_warning(f'{cat_alias} in param dict is overridden.')\n",
      "e:\\Mes Documents\\_Open Classroom\\Code\\p7\\p7env\\lib\\site-packages\\lightgbm\\basic.py:2034: UserWarning: categorical_feature keyword has been found in `params` and will be ignored.\n",
      "Please use categorical_feature argument of the Dataset constructor to pass this parameter.\n",
      "  _log_warning(f'{key} keyword has been found in `params` and will be ignored.\\n'\n",
      "e:\\Mes Documents\\_Open Classroom\\Code\\p7\\p7env\\lib\\site-packages\\lightgbm\\basic.py:2054: UserWarning: categorical_feature in param dict is overridden.\n",
      "  _log_warning(f'{cat_alias} in param dict is overridden.')\n",
      "e:\\Mes Documents\\_Open Classroom\\Code\\p7\\p7env\\lib\\site-packages\\lightgbm\\basic.py:2034: UserWarning: categorical_feature keyword has been found in `params` and will be ignored.\n",
      "Please use categorical_feature argument of the Dataset constructor to pass this parameter.\n",
      "  _log_warning(f'{key} keyword has been found in `params` and will be ignored.\\n'\n",
      "e:\\Mes Documents\\_Open Classroom\\Code\\p7\\p7env\\lib\\site-packages\\lightgbm\\basic.py:2054: UserWarning: categorical_feature in param dict is overridden.\n",
      "  _log_warning(f'{cat_alias} in param dict is overridden.')\n",
      "e:\\Mes Documents\\_Open Classroom\\Code\\p7\\p7env\\lib\\site-packages\\lightgbm\\basic.py:2034: UserWarning: categorical_feature keyword has been found in `params` and will be ignored.\n",
      "Please use categorical_feature argument of the Dataset constructor to pass this parameter.\n",
      "  _log_warning(f'{key} keyword has been found in `params` and will be ignored.\\n'\n",
      "e:\\Mes Documents\\_Open Classroom\\Code\\p7\\p7env\\lib\\site-packages\\lightgbm\\basic.py:2054: UserWarning: categorical_feature in param dict is overridden.\n",
      "  _log_warning(f'{cat_alias} in param dict is overridden.')\n",
      "[I 2024-04-26 07:19:19,347] Trial 5 finished with value: 0.4791485806059554 and parameters: {'boosting_type': 'gbdt', 'lambda_l1': 7.0489090361459045e-06, 'lambda_l2': 0.0006446115230210751, 'num_leaves': 153, 'feature_fraction': 0.671156092038415, 'bagging_fraction': 0.930531348865887, 'bagging_freq': 5, 'min_child_samples': 9, 'learning_rate': 0.004385511959950098, 'max_bin': 416, 'n_estimators': 120}. Best is trial 16 with value: 0.5131614347035655.\n",
      "e:\\Mes Documents\\_Open Classroom\\Code\\p7\\p7env\\lib\\site-packages\\lightgbm\\basic.py:2034: UserWarning: categorical_feature keyword has been found in `params` and will be ignored.\n",
      "Please use categorical_feature argument of the Dataset constructor to pass this parameter.\n",
      "  _log_warning(f'{key} keyword has been found in `params` and will be ignored.\\n'\n",
      "e:\\Mes Documents\\_Open Classroom\\Code\\p7\\p7env\\lib\\site-packages\\lightgbm\\basic.py:2054: UserWarning: categorical_feature in param dict is overridden.\n",
      "  _log_warning(f'{cat_alias} in param dict is overridden.')\n",
      "e:\\Mes Documents\\_Open Classroom\\Code\\p7\\p7env\\lib\\site-packages\\lightgbm\\basic.py:2034: UserWarning: categorical_feature keyword has been found in `params` and will be ignored.\n",
      "Please use categorical_feature argument of the Dataset constructor to pass this parameter.\n",
      "  _log_warning(f'{key} keyword has been found in `params` and will be ignored.\\n'\n",
      "e:\\Mes Documents\\_Open Classroom\\Code\\p7\\p7env\\lib\\site-packages\\lightgbm\\basic.py:2054: UserWarning: categorical_feature in param dict is overridden.\n",
      "  _log_warning(f'{cat_alias} in param dict is overridden.')\n",
      "e:\\Mes Documents\\_Open Classroom\\Code\\p7\\p7env\\lib\\site-packages\\lightgbm\\basic.py:2034: UserWarning: categorical_feature keyword has been found in `params` and will be ignored.\n",
      "Please use categorical_feature argument of the Dataset constructor to pass this parameter.\n",
      "  _log_warning(f'{key} keyword has been found in `params` and will be ignored.\\n'\n",
      "e:\\Mes Documents\\_Open Classroom\\Code\\p7\\p7env\\lib\\site-packages\\lightgbm\\basic.py:2054: UserWarning: categorical_feature in param dict is overridden.\n",
      "  _log_warning(f'{cat_alias} in param dict is overridden.')\n",
      "e:\\Mes Documents\\_Open Classroom\\Code\\p7\\p7env\\lib\\site-packages\\lightgbm\\basic.py:2034: UserWarning: categorical_feature keyword has been found in `params` and will be ignored.\n",
      "Please use categorical_feature argument of the Dataset constructor to pass this parameter.\n",
      "  _log_warning(f'{key} keyword has been found in `params` and will be ignored.\\n'\n",
      "e:\\Mes Documents\\_Open Classroom\\Code\\p7\\p7env\\lib\\site-packages\\lightgbm\\basic.py:2054: UserWarning: categorical_feature in param dict is overridden.\n",
      "  _log_warning(f'{cat_alias} in param dict is overridden.')\n",
      "e:\\Mes Documents\\_Open Classroom\\Code\\p7\\p7env\\lib\\site-packages\\lightgbm\\basic.py:2034: UserWarning: categorical_feature keyword has been found in `params` and will be ignored.\n",
      "Please use categorical_feature argument of the Dataset constructor to pass this parameter.\n",
      "  _log_warning(f'{key} keyword has been found in `params` and will be ignored.\\n'\n",
      "e:\\Mes Documents\\_Open Classroom\\Code\\p7\\p7env\\lib\\site-packages\\lightgbm\\basic.py:2054: UserWarning: categorical_feature in param dict is overridden.\n",
      "  _log_warning(f'{cat_alias} in param dict is overridden.')\n",
      "e:\\Mes Documents\\_Open Classroom\\Code\\p7\\p7env\\lib\\site-packages\\lightgbm\\basic.py:2034: UserWarning: categorical_feature keyword has been found in `params` and will be ignored.\n",
      "Please use categorical_feature argument of the Dataset constructor to pass this parameter.\n",
      "  _log_warning(f'{key} keyword has been found in `params` and will be ignored.\\n'\n",
      "e:\\Mes Documents\\_Open Classroom\\Code\\p7\\p7env\\lib\\site-packages\\lightgbm\\basic.py:2054: UserWarning: categorical_feature in param dict is overridden.\n",
      "  _log_warning(f'{cat_alias} in param dict is overridden.')\n",
      "e:\\Mes Documents\\_Open Classroom\\Code\\p7\\p7env\\lib\\site-packages\\lightgbm\\basic.py:2034: UserWarning: categorical_feature keyword has been found in `params` and will be ignored.\n",
      "Please use categorical_feature argument of the Dataset constructor to pass this parameter.\n",
      "  _log_warning(f'{key} keyword has been found in `params` and will be ignored.\\n'\n",
      "e:\\Mes Documents\\_Open Classroom\\Code\\p7\\p7env\\lib\\site-packages\\lightgbm\\basic.py:2054: UserWarning: categorical_feature in param dict is overridden.\n",
      "  _log_warning(f'{cat_alias} in param dict is overridden.')\n",
      "e:\\Mes Documents\\_Open Classroom\\Code\\p7\\p7env\\lib\\site-packages\\lightgbm\\basic.py:2034: UserWarning: categorical_feature keyword has been found in `params` and will be ignored.\n",
      "Please use categorical_feature argument of the Dataset constructor to pass this parameter.\n",
      "  _log_warning(f'{key} keyword has been found in `params` and will be ignored.\\n'\n",
      "e:\\Mes Documents\\_Open Classroom\\Code\\p7\\p7env\\lib\\site-packages\\lightgbm\\basic.py:2054: UserWarning: categorical_feature in param dict is overridden.\n",
      "  _log_warning(f'{cat_alias} in param dict is overridden.')\n",
      "[I 2024-04-26 07:19:27,236] Trial 26 finished with value: 0.4791485806059554 and parameters: {'boosting_type': 'gbdt', 'lambda_l1': 0.005163185073569831, 'lambda_l2': 9.047567458159814e-06, 'num_leaves': 225, 'feature_fraction': 0.8538963030068228, 'bagging_fraction': 0.4421381505161761, 'bagging_freq': 4, 'min_child_samples': 98, 'learning_rate': 0.0017184894322745054, 'max_bin': 416, 'n_estimators': 320}. Best is trial 16 with value: 0.5131614347035655.\n",
      "e:\\Mes Documents\\_Open Classroom\\Code\\p7\\p7env\\lib\\site-packages\\lightgbm\\basic.py:2034: UserWarning: categorical_feature keyword has been found in `params` and will be ignored.\n",
      "Please use categorical_feature argument of the Dataset constructor to pass this parameter.\n",
      "  _log_warning(f'{key} keyword has been found in `params` and will be ignored.\\n'\n",
      "e:\\Mes Documents\\_Open Classroom\\Code\\p7\\p7env\\lib\\site-packages\\lightgbm\\basic.py:2054: UserWarning: categorical_feature in param dict is overridden.\n",
      "  _log_warning(f'{cat_alias} in param dict is overridden.')\n",
      "[I 2024-04-26 07:19:27,743] Trial 23 finished with value: 0.5907814807779238 and parameters: {'boosting_type': 'dart', 'lambda_l1': 0.025780771002814715, 'lambda_l2': 2.1103357195834125, 'num_leaves': 72, 'feature_fraction': 0.746310813407126, 'bagging_fraction': 0.9601299271053441, 'bagging_freq': 6, 'min_child_samples': 44, 'learning_rate': 0.043556425276861634, 'max_bin': 256, 'n_estimators': 320}. Best is trial 23 with value: 0.5907814807779238.\n",
      "e:\\Mes Documents\\_Open Classroom\\Code\\p7\\p7env\\lib\\site-packages\\lightgbm\\basic.py:2034: UserWarning: categorical_feature keyword has been found in `params` and will be ignored.\n",
      "Please use categorical_feature argument of the Dataset constructor to pass this parameter.\n",
      "  _log_warning(f'{key} keyword has been found in `params` and will be ignored.\\n'\n",
      "e:\\Mes Documents\\_Open Classroom\\Code\\p7\\p7env\\lib\\site-packages\\lightgbm\\basic.py:2054: UserWarning: categorical_feature in param dict is overridden.\n",
      "  _log_warning(f'{cat_alias} in param dict is overridden.')\n",
      "e:\\Mes Documents\\_Open Classroom\\Code\\p7\\p7env\\lib\\site-packages\\lightgbm\\basic.py:2034: UserWarning: categorical_feature keyword has been found in `params` and will be ignored.\n",
      "Please use categorical_feature argument of the Dataset constructor to pass this parameter.\n",
      "  _log_warning(f'{key} keyword has been found in `params` and will be ignored.\\n'\n",
      "e:\\Mes Documents\\_Open Classroom\\Code\\p7\\p7env\\lib\\site-packages\\lightgbm\\basic.py:2054: UserWarning: categorical_feature in param dict is overridden.\n",
      "  _log_warning(f'{cat_alias} in param dict is overridden.')\n",
      "[I 2024-04-26 07:19:29,869] Trial 24 finished with value: 0.49875606323431265 and parameters: {'boosting_type': 'dart', 'lambda_l1': 0.012766225630109266, 'lambda_l2': 6.819900786579226e-06, 'num_leaves': 169, 'feature_fraction': 0.8111817315265305, 'bagging_fraction': 0.5797659843242542, 'bagging_freq': 1, 'min_child_samples': 53, 'learning_rate': 0.04871572885063015, 'max_bin': 256, 'n_estimators': 160}. Best is trial 23 with value: 0.5907814807779238.\n",
      "e:\\Mes Documents\\_Open Classroom\\Code\\p7\\p7env\\lib\\site-packages\\lightgbm\\basic.py:2034: UserWarning: categorical_feature keyword has been found in `params` and will be ignored.\n",
      "Please use categorical_feature argument of the Dataset constructor to pass this parameter.\n",
      "  _log_warning(f'{key} keyword has been found in `params` and will be ignored.\\n'\n",
      "e:\\Mes Documents\\_Open Classroom\\Code\\p7\\p7env\\lib\\site-packages\\lightgbm\\basic.py:2054: UserWarning: categorical_feature in param dict is overridden.\n",
      "  _log_warning(f'{cat_alias} in param dict is overridden.')\n",
      "[I 2024-04-26 07:19:31,395] Trial 10 finished with value: 0.4791485806059554 and parameters: {'boosting_type': 'gbdt', 'lambda_l1': 1.0952450088658124e-05, 'lambda_l2': 4.138141245583567, 'num_leaves': 59, 'feature_fraction': 0.7336717503509225, 'bagging_fraction': 0.9098178171597004, 'bagging_freq': 5, 'min_child_samples': 93, 'learning_rate': 0.00023287568956905519, 'max_bin': 288, 'n_estimators': 400}. Best is trial 23 with value: 0.5907814807779238.\n",
      "e:\\Mes Documents\\_Open Classroom\\Code\\p7\\p7env\\lib\\site-packages\\lightgbm\\basic.py:2034: UserWarning: categorical_feature keyword has been found in `params` and will be ignored.\n",
      "Please use categorical_feature argument of the Dataset constructor to pass this parameter.\n",
      "  _log_warning(f'{key} keyword has been found in `params` and will be ignored.\\n'\n",
      "e:\\Mes Documents\\_Open Classroom\\Code\\p7\\p7env\\lib\\site-packages\\lightgbm\\basic.py:2054: UserWarning: categorical_feature in param dict is overridden.\n",
      "  _log_warning(f'{cat_alias} in param dict is overridden.')\n",
      "e:\\Mes Documents\\_Open Classroom\\Code\\p7\\p7env\\lib\\site-packages\\lightgbm\\basic.py:2034: UserWarning: categorical_feature keyword has been found in `params` and will be ignored.\n",
      "Please use categorical_feature argument of the Dataset constructor to pass this parameter.\n",
      "  _log_warning(f'{key} keyword has been found in `params` and will be ignored.\\n'\n",
      "e:\\Mes Documents\\_Open Classroom\\Code\\p7\\p7env\\lib\\site-packages\\lightgbm\\basic.py:2054: UserWarning: categorical_feature in param dict is overridden.\n",
      "  _log_warning(f'{cat_alias} in param dict is overridden.')\n",
      "e:\\Mes Documents\\_Open Classroom\\Code\\p7\\p7env\\lib\\site-packages\\lightgbm\\basic.py:2034: UserWarning: categorical_feature keyword has been found in `params` and will be ignored.\n",
      "Please use categorical_feature argument of the Dataset constructor to pass this parameter.\n",
      "  _log_warning(f'{key} keyword has been found in `params` and will be ignored.\\n'\n",
      "e:\\Mes Documents\\_Open Classroom\\Code\\p7\\p7env\\lib\\site-packages\\lightgbm\\basic.py:2054: UserWarning: categorical_feature in param dict is overridden.\n",
      "  _log_warning(f'{cat_alias} in param dict is overridden.')\n",
      "e:\\Mes Documents\\_Open Classroom\\Code\\p7\\p7env\\lib\\site-packages\\lightgbm\\basic.py:2034: UserWarning: categorical_feature keyword has been found in `params` and will be ignored.\n",
      "Please use categorical_feature argument of the Dataset constructor to pass this parameter.\n",
      "  _log_warning(f'{key} keyword has been found in `params` and will be ignored.\\n'\n",
      "e:\\Mes Documents\\_Open Classroom\\Code\\p7\\p7env\\lib\\site-packages\\lightgbm\\basic.py:2054: UserWarning: categorical_feature in param dict is overridden.\n",
      "  _log_warning(f'{cat_alias} in param dict is overridden.')\n",
      "e:\\Mes Documents\\_Open Classroom\\Code\\p7\\p7env\\lib\\site-packages\\lightgbm\\basic.py:2034: UserWarning: categorical_feature keyword has been found in `params` and will be ignored.\n",
      "Please use categorical_feature argument of the Dataset constructor to pass this parameter.\n",
      "  _log_warning(f'{key} keyword has been found in `params` and will be ignored.\\n'\n",
      "e:\\Mes Documents\\_Open Classroom\\Code\\p7\\p7env\\lib\\site-packages\\lightgbm\\basic.py:2054: UserWarning: categorical_feature in param dict is overridden.\n",
      "  _log_warning(f'{cat_alias} in param dict is overridden.')\n",
      "e:\\Mes Documents\\_Open Classroom\\Code\\p7\\p7env\\lib\\site-packages\\lightgbm\\basic.py:2034: UserWarning: categorical_feature keyword has been found in `params` and will be ignored.\n",
      "Please use categorical_feature argument of the Dataset constructor to pass this parameter.\n",
      "  _log_warning(f'{key} keyword has been found in `params` and will be ignored.\\n'\n",
      "e:\\Mes Documents\\_Open Classroom\\Code\\p7\\p7env\\lib\\site-packages\\lightgbm\\basic.py:2054: UserWarning: categorical_feature in param dict is overridden.\n",
      "  _log_warning(f'{cat_alias} in param dict is overridden.')\n",
      "e:\\Mes Documents\\_Open Classroom\\Code\\p7\\p7env\\lib\\site-packages\\lightgbm\\basic.py:2034: UserWarning: categorical_feature keyword has been found in `params` and will be ignored.\n",
      "Please use categorical_feature argument of the Dataset constructor to pass this parameter.\n",
      "  _log_warning(f'{key} keyword has been found in `params` and will be ignored.\\n'\n",
      "e:\\Mes Documents\\_Open Classroom\\Code\\p7\\p7env\\lib\\site-packages\\lightgbm\\basic.py:2054: UserWarning: categorical_feature in param dict is overridden.\n",
      "  _log_warning(f'{cat_alias} in param dict is overridden.')\n",
      "[I 2024-04-26 07:19:37,756] Trial 14 finished with value: 0.4791485806059554 and parameters: {'boosting_type': 'gbdt', 'lambda_l1': 0.000522234718681785, 'lambda_l2': 0.007860994317631768, 'num_leaves': 247, 'feature_fraction': 0.9964577884491148, 'bagging_fraction': 0.8561076752594798, 'bagging_freq': 7, 'min_child_samples': 65, 'learning_rate': 0.0001962107915136587, 'max_bin': 512, 'n_estimators': 160}. Best is trial 23 with value: 0.5907814807779238.\n",
      "e:\\Mes Documents\\_Open Classroom\\Code\\p7\\p7env\\lib\\site-packages\\lightgbm\\basic.py:2034: UserWarning: categorical_feature keyword has been found in `params` and will be ignored.\n",
      "Please use categorical_feature argument of the Dataset constructor to pass this parameter.\n",
      "  _log_warning(f'{key} keyword has been found in `params` and will be ignored.\\n'\n",
      "e:\\Mes Documents\\_Open Classroom\\Code\\p7\\p7env\\lib\\site-packages\\lightgbm\\basic.py:2054: UserWarning: categorical_feature in param dict is overridden.\n",
      "  _log_warning(f'{cat_alias} in param dict is overridden.')\n",
      "[I 2024-04-26 07:19:39,689] Trial 29 finished with value: 0.4791485806059554 and parameters: {'boosting_type': 'dart', 'lambda_l1': 8.055826846673348e-08, 'lambda_l2': 0.00036416554905082245, 'num_leaves': 210, 'feature_fraction': 0.7503543250953734, 'bagging_fraction': 0.6378063245208303, 'bagging_freq': 7, 'min_child_samples': 39, 'learning_rate': 0.0005257536653424088, 'max_bin': 512, 'n_estimators': 160}. Best is trial 23 with value: 0.5907814807779238.\n",
      "e:\\Mes Documents\\_Open Classroom\\Code\\p7\\p7env\\lib\\site-packages\\lightgbm\\basic.py:2034: UserWarning: categorical_feature keyword has been found in `params` and will be ignored.\n",
      "Please use categorical_feature argument of the Dataset constructor to pass this parameter.\n",
      "  _log_warning(f'{key} keyword has been found in `params` and will be ignored.\\n'\n",
      "e:\\Mes Documents\\_Open Classroom\\Code\\p7\\p7env\\lib\\site-packages\\lightgbm\\basic.py:2054: UserWarning: categorical_feature in param dict is overridden.\n",
      "  _log_warning(f'{cat_alias} in param dict is overridden.')\n",
      "[I 2024-04-26 07:19:42,691] Trial 22 finished with value: 0.4791485806059554 and parameters: {'boosting_type': 'dart', 'lambda_l1': 2.017329237699813e-08, 'lambda_l2': 0.00033883101858424086, 'num_leaves': 212, 'feature_fraction': 0.781128594885264, 'bagging_fraction': 0.5586761250923513, 'bagging_freq': 1, 'min_child_samples': 98, 'learning_rate': 0.00018109637603964205, 'max_bin': 160, 'n_estimators': 360}. Best is trial 23 with value: 0.5907814807779238.\n",
      "[I 2024-04-26 07:19:42,769] Trial 9 finished with value: 0.4791485806059554 and parameters: {'boosting_type': 'gbdt', 'lambda_l1': 0.0885638937958217, 'lambda_l2': 0.4957747161312013, 'num_leaves': 104, 'feature_fraction': 0.9574032769653062, 'bagging_fraction': 0.6910372070818043, 'bagging_freq': 7, 'min_child_samples': 50, 'learning_rate': 0.0002154600390383944, 'max_bin': 512, 'n_estimators': 340}. Best is trial 23 with value: 0.5907814807779238.\n",
      "[I 2024-04-26 07:19:43,138] Trial 7 finished with value: 0.4791485806059554 and parameters: {'boosting_type': 'dart', 'lambda_l1': 0.00048758843828085443, 'lambda_l2': 0.09708579426232299, 'num_leaves': 153, 'feature_fraction': 0.9803225419013604, 'bagging_fraction': 0.9942497385464867, 'bagging_freq': 3, 'min_child_samples': 69, 'learning_rate': 0.002411073797106095, 'max_bin': 512, 'n_estimators': 240}. Best is trial 23 with value: 0.5907814807779238.\n",
      "e:\\Mes Documents\\_Open Classroom\\Code\\p7\\p7env\\lib\\site-packages\\lightgbm\\basic.py:2034: UserWarning: categorical_feature keyword has been found in `params` and will be ignored.\n",
      "Please use categorical_feature argument of the Dataset constructor to pass this parameter.\n",
      "  _log_warning(f'{key} keyword has been found in `params` and will be ignored.\\n'\n",
      "e:\\Mes Documents\\_Open Classroom\\Code\\p7\\p7env\\lib\\site-packages\\lightgbm\\basic.py:2054: UserWarning: categorical_feature in param dict is overridden.\n",
      "  _log_warning(f'{cat_alias} in param dict is overridden.')\n",
      "[I 2024-04-26 07:19:43,739] Trial 25 finished with value: 0.48887390520415275 and parameters: {'boosting_type': 'gbdt', 'lambda_l1': 0.012821538049546556, 'lambda_l2': 0.07912926651171873, 'num_leaves': 138, 'feature_fraction': 0.6911926494289884, 'bagging_fraction': 0.6420579812565057, 'bagging_freq': 1, 'min_child_samples': 7, 'learning_rate': 0.012848323451093753, 'max_bin': 416, 'n_estimators': 240}. Best is trial 23 with value: 0.5907814807779238.\n",
      "[I 2024-04-26 07:19:43,812] Trial 18 finished with value: 0.4965349243953761 and parameters: {'boosting_type': 'gbdt', 'lambda_l1': 2.1083271461997824e-07, 'lambda_l2': 6.598358244088242, 'num_leaves': 200, 'feature_fraction': 0.506658571061961, 'bagging_fraction': 0.495087601711403, 'bagging_freq': 5, 'min_child_samples': 59, 'learning_rate': 0.029696114592639787, 'max_bin': 384, 'n_estimators': 300}. Best is trial 23 with value: 0.5907814807779238.\n",
      "e:\\Mes Documents\\_Open Classroom\\Code\\p7\\p7env\\lib\\site-packages\\lightgbm\\basic.py:2034: UserWarning: categorical_feature keyword has been found in `params` and will be ignored.\n",
      "Please use categorical_feature argument of the Dataset constructor to pass this parameter.\n",
      "  _log_warning(f'{key} keyword has been found in `params` and will be ignored.\\n'\n",
      "e:\\Mes Documents\\_Open Classroom\\Code\\p7\\p7env\\lib\\site-packages\\lightgbm\\basic.py:2054: UserWarning: categorical_feature in param dict is overridden.\n",
      "  _log_warning(f'{cat_alias} in param dict is overridden.')\n",
      "[I 2024-04-26 07:19:45,231] Trial 6 finished with value: 0.4791485806059554 and parameters: {'boosting_type': 'dart', 'lambda_l1': 1.3879783807282762e-06, 'lambda_l2': 0.36447685327286844, 'num_leaves': 112, 'feature_fraction': 0.45699939440138304, 'bagging_fraction': 0.9606963426615118, 'bagging_freq': 1, 'min_child_samples': 65, 'learning_rate': 0.00017561044305876007, 'max_bin': 192, 'n_estimators': 300}. Best is trial 23 with value: 0.5907814807779238.\n",
      "[I 2024-04-26 07:19:45,998] Trial 4 finished with value: 0.4791485806059554 and parameters: {'boosting_type': 'dart', 'lambda_l1': 0.040760914458768116, 'lambda_l2': 0.0036097873679410797, 'num_leaves': 210, 'feature_fraction': 0.8474752032941069, 'bagging_fraction': 0.4911273873086367, 'bagging_freq': 6, 'min_child_samples': 16, 'learning_rate': 0.00136697662061785, 'max_bin': 384, 'n_estimators': 200}. Best is trial 23 with value: 0.5907814807779238.\n",
      "[I 2024-04-26 07:19:47,182] Trial 13 finished with value: 0.5178311388514388 and parameters: {'boosting_type': 'gbdt', 'lambda_l1': 5.131850330487679e-07, 'lambda_l2': 0.0004822747664734023, 'num_leaves': 112, 'feature_fraction': 0.8243995682438292, 'bagging_fraction': 0.9778367880379516, 'bagging_freq': 7, 'min_child_samples': 86, 'learning_rate': 0.08147300308739595, 'max_bin': 384, 'n_estimators': 400}. Best is trial 23 with value: 0.5907814807779238.\n",
      "[I 2024-04-26 07:19:47,746] Trial 28 finished with value: 0.4791485806059554 and parameters: {'boosting_type': 'dart', 'lambda_l1': 1.1862044279861366e-08, 'lambda_l2': 0.062476958914950725, 'num_leaves': 168, 'feature_fraction': 0.9334088317656913, 'bagging_fraction': 0.9953270716790433, 'bagging_freq': 3, 'min_child_samples': 82, 'learning_rate': 0.0007570379224689191, 'max_bin': 352, 'n_estimators': 280}. Best is trial 23 with value: 0.5907814807779238.\n"
     ]
    },
    {
     "name": "stdout",
     "output_type": "stream",
     "text": [
      "Optimize hyperparameters - done in 79s\n"
     ]
    }
   ],
   "source": [
    "with timer(\"Optimize hyperparameters\"):\n",
    "    sampler = optuna.samplers.TPESampler()\n",
    "    pruner = optuna.pruners.HyperbandPruner(\n",
    "        min_resource=10, max_resource=400, reduction_factor=3)\n",
    "\n",
    "    study = optuna.create_study(\n",
    "        direction='maximize', sampler=sampler,\n",
    "        pruner=pruner\n",
    "    )\n",
    "    study.optimize(objective(predictors=predictors, cat_features=cat_features), n_trials=30, gc_after_trial=True, n_jobs=-1)"
   ]
  },
  {
   "cell_type": "code",
   "execution_count": 16,
   "metadata": {
    "ExecuteTime": {
     "end_time": "2023-04-27T12:41:49.410671Z",
     "start_time": "2023-04-27T12:41:49.410671Z"
    },
    "collapsed": false
   },
   "outputs": [
    {
     "name": "stdout",
     "output_type": "stream",
     "text": [
      "FrozenTrial(number=23, state=TrialState.COMPLETE, values=[0.5907814807779238], datetime_start=datetime.datetime(2024, 4, 26, 7, 18, 28, 352868), datetime_complete=datetime.datetime(2024, 4, 26, 7, 19, 27, 743267), params={'boosting_type': 'dart', 'lambda_l1': 0.025780771002814715, 'lambda_l2': 2.1103357195834125, 'num_leaves': 72, 'feature_fraction': 0.746310813407126, 'bagging_fraction': 0.9601299271053441, 'bagging_freq': 6, 'min_child_samples': 44, 'learning_rate': 0.043556425276861634, 'max_bin': 256, 'n_estimators': 320}, user_attrs={}, system_attrs={}, intermediate_values={}, distributions={'boosting_type': CategoricalDistribution(choices=('dart', 'gbdt')), 'lambda_l1': FloatDistribution(high=10.0, log=True, low=1e-08, step=None), 'lambda_l2': FloatDistribution(high=10.0, log=True, low=1e-08, step=None), 'num_leaves': IntDistribution(high=256, log=False, low=2, step=1), 'feature_fraction': FloatDistribution(high=1.0, log=False, low=0.4, step=None), 'bagging_fraction': FloatDistribution(high=1.0, log=False, low=0.4, step=None), 'bagging_freq': IntDistribution(high=7, log=False, low=1, step=1), 'min_child_samples': IntDistribution(high=100, log=False, low=5, step=1), 'learning_rate': FloatDistribution(high=0.5, log=True, low=0.0001, step=None), 'max_bin': IntDistribution(high=512, log=False, low=128, step=32), 'n_estimators': IntDistribution(high=400, log=False, low=40, step=20)}, trial_id=23, value=None)\n",
      "boosting_type : dart\n",
      "lambda_l1 : 0.025780771002814715\n",
      "lambda_l2 : 2.1103357195834125\n",
      "num_leaves : 72\n",
      "feature_fraction : 0.746310813407126\n",
      "bagging_fraction : 0.9601299271053441\n",
      "bagging_freq : 6\n",
      "min_child_samples : 44\n",
      "learning_rate : 0.043556425276861634\n",
      "max_bin : 256\n",
      "n_estimators : 320\n"
     ]
    }
   ],
   "source": [
    "print(study.best_trial)\n",
    "best_params = study.best_trial.params\n",
    "for k, v in best_params.items():\n",
    "    print(f\"{k} : {v}\")"
   ]
  },
  {
   "cell_type": "markdown",
   "metadata": {
    "collapsed": false
   },
   "source": [
    "## Understanding Parameters"
   ]
  },
  {
   "cell_type": "code",
   "execution_count": 18,
   "metadata": {
    "ExecuteTime": {
     "end_time": "2023-04-27T13:10:19.070931Z",
     "start_time": "2023-04-27T13:10:01.799386Z"
    },
    "collapsed": false
   },
   "outputs": [],
   "source": [
    "import plotly"
   ]
  },
  {
   "cell_type": "code",
   "execution_count": 19,
   "metadata": {},
   "outputs": [
    {
     "data": {
      "text/plain": [
       "'5.21.0'"
      ]
     },
     "execution_count": 19,
     "metadata": {},
     "output_type": "execute_result"
    }
   ],
   "source": [
    "plotly.__version__"
   ]
  },
  {
   "cell_type": "code",
   "execution_count": 13,
   "metadata": {},
   "outputs": [
    {
     "data": {
      "text/plain": [
       "'0.1.0'"
      ]
     },
     "execution_count": 13,
     "metadata": {},
     "output_type": "execute_result"
    }
   ],
   "source": [
    "import kaleido\n",
    "kaleido.__version__"
   ]
  },
  {
   "cell_type": "code",
   "execution_count": 14,
   "metadata": {},
   "outputs": [],
   "source": [
    "study = joblib.load(os.path.join(MODEL_DIR,\"lgbm-optuna-study.pkl\"))"
   ]
  },
  {
   "cell_type": "code",
   "execution_count": 30,
   "metadata": {},
   "outputs": [
    {
     "name": "stdout",
     "output_type": "stream",
     "text": [
      "<class 'plotly.graph_objs._figure.Figure'>\n"
     ]
    }
   ],
   "source": [
    "# Nécessite l'installation de plotly et de Kaleido (redémarrer le kernel impérativement après plotly et kaleido)\n",
    "# Aparremment il faut kaleido 0.1.0\n",
    "# essayer pip install \"kaleido==0.1.0.post1\"\n",
    "fig = optuna.visualization.plot_parallel_coordinate(study, params=[\"boosting_type\", \"num_leaves\", \"learning_rate\", \"n_estimators\"])\n",
    "print(type(fig))"
   ]
  },
  {
   "cell_type": "code",
   "execution_count": 33,
   "metadata": {},
   "outputs": [],
   "source": [
    "fig.write_html(os.path.join(MODEL_DIR, 'fig_plotly.html'))"
   ]
  },
  {
   "cell_type": "code",
   "execution_count": 32,
   "metadata": {},
   "outputs": [
    {
     "ename": "ValueError",
     "evalue": "\nThe kaleido executable is required by the kaleido Python library, but it was not included\nin the Python package and it could not be found on the system PATH.\n\nSearched for included kaleido executable at:\n    e:\\Mes Documents\\_Open Classroom\\Code\\p7\\p7env\\lib\\site-packages\\kaleido\\executable\\kaleido \n\nSearched for executable 'kaleido' on the following system PATH:\n    e:\\Mes Documents\\_Open Classroom\\Code\\p7\\p7env\\Scripts\n    E:\\Mes Documents\\_Open Classroom\\Code\\p7\\p7env\\Scripts\n    E:\\Program Files\\Python310\\Scripts\\\n    E:\\Program Files\\Python310\\\n    E:\\Program Files (x86)\\VMware\\VMware Player\\bin\\\n    C:\\Windows\\system32\n    C:\\Windows\n    C:\\Windows\\System32\\Wbem\n    C:\\Windows\\System32\\WindowsPowerShell\\v1.0\\\n    C:\\Windows\\System32\\OpenSSH\\\n    C:\\Program Files (x86)\\NVIDIA Corporation\\PhysX\\Common\n    C:\\Program Files\\NVIDIA Corporation\\NVIDIA NvDLISR\n    E:\\Program Files\\Git\\cmd\n    C:\\Users\\Ariane\\AppData\\Local\\Programs\\Python\\Python39\\Scripts\\\n    C:\\Users\\Ariane\\AppData\\Local\\Programs\\Python\\Python39\\\n    C:\\Users\\Ariane\\AppData\\Local\\Microsoft\\WindowsApps\n    \n    E:\\Program Files\\Microsoft VS Code\\bin\n    E:\\Program Files\\Graphviz\\bin\n",
     "output_type": "error",
     "traceback": [
      "\u001b[1;31m---------------------------------------------------------------------------\u001b[0m",
      "\u001b[1;31mValueError\u001b[0m                                Traceback (most recent call last)",
      "Cell \u001b[1;32mIn[32], line 2\u001b[0m\n\u001b[0;32m      1\u001b[0m \u001b[38;5;28;01mwith\u001b[39;00m \u001b[38;5;28mopen\u001b[39m(\u001b[38;5;124m\"\u001b[39m\u001b[38;5;124mfigure.png\u001b[39m\u001b[38;5;124m\"\u001b[39m, \u001b[38;5;124m\"\u001b[39m\u001b[38;5;124mwb\u001b[39m\u001b[38;5;124m\"\u001b[39m) \u001b[38;5;28;01mas\u001b[39;00m f:\n\u001b[1;32m----> 2\u001b[0m     \u001b[43mfig\u001b[49m\u001b[38;5;241;43m.\u001b[39;49m\u001b[43mwrite_image\u001b[49m\u001b[43m(\u001b[49m\u001b[43mf\u001b[49m\u001b[43m,\u001b[49m\u001b[43m \u001b[49m\u001b[38;5;28;43mformat\u001b[39;49m\u001b[38;5;241;43m=\u001b[39;49m\u001b[38;5;124;43m\"\u001b[39;49m\u001b[38;5;124;43mpng\u001b[39;49m\u001b[38;5;124;43m\"\u001b[39;49m\u001b[43m,\u001b[49m\u001b[43m \u001b[49m\u001b[43mscale\u001b[49m\u001b[38;5;241;43m=\u001b[39;49m\u001b[38;5;241;43m6\u001b[39;49m\u001b[43m)\u001b[49m\n",
      "File \u001b[1;32me:\\Mes Documents\\_Open Classroom\\Code\\p7\\p7env\\lib\\site-packages\\plotly\\basedatatypes.py:3841\u001b[0m, in \u001b[0;36mBaseFigure.write_image\u001b[1;34m(self, *args, **kwargs)\u001b[0m\n\u001b[0;32m   3781\u001b[0m \u001b[38;5;250m\u001b[39m\u001b[38;5;124;03m\"\"\"\u001b[39;00m\n\u001b[0;32m   3782\u001b[0m \u001b[38;5;124;03mConvert a figure to a static image and write it to a file or writeable\u001b[39;00m\n\u001b[0;32m   3783\u001b[0m \u001b[38;5;124;03mobject\u001b[39;00m\n\u001b[1;32m   (...)\u001b[0m\n\u001b[0;32m   3837\u001b[0m \u001b[38;5;124;03mNone\u001b[39;00m\n\u001b[0;32m   3838\u001b[0m \u001b[38;5;124;03m\"\"\"\u001b[39;00m\n\u001b[0;32m   3839\u001b[0m \u001b[38;5;28;01mimport\u001b[39;00m \u001b[38;5;21;01mplotly\u001b[39;00m\u001b[38;5;21;01m.\u001b[39;00m\u001b[38;5;21;01mio\u001b[39;00m \u001b[38;5;28;01mas\u001b[39;00m \u001b[38;5;21;01mpio\u001b[39;00m\n\u001b[1;32m-> 3841\u001b[0m \u001b[38;5;28;01mreturn\u001b[39;00m pio\u001b[38;5;241m.\u001b[39mwrite_image(\u001b[38;5;28mself\u001b[39m, \u001b[38;5;241m*\u001b[39margs, \u001b[38;5;241m*\u001b[39m\u001b[38;5;241m*\u001b[39mkwargs)\n",
      "File \u001b[1;32me:\\Mes Documents\\_Open Classroom\\Code\\p7\\p7env\\lib\\site-packages\\plotly\\io\\_kaleido.py:266\u001b[0m, in \u001b[0;36mwrite_image\u001b[1;34m(fig, file, format, scale, width, height, validate, engine)\u001b[0m\n\u001b[0;32m    250\u001b[0m             \u001b[38;5;28;01mraise\u001b[39;00m \u001b[38;5;167;01mValueError\u001b[39;00m(\n\u001b[0;32m    251\u001b[0m \u001b[38;5;250m                \u001b[39m\u001b[38;5;124;03m\"\"\"\u001b[39;00m\n\u001b[0;32m    252\u001b[0m \u001b[38;5;124;03mCannot infer image type from output path '{file}'.\u001b[39;00m\n\u001b[1;32m   (...)\u001b[0m\n\u001b[0;32m    260\u001b[0m                 )\n\u001b[0;32m    261\u001b[0m             )\n\u001b[0;32m    263\u001b[0m     \u001b[38;5;66;03m# Request image\u001b[39;00m\n\u001b[0;32m    264\u001b[0m     \u001b[38;5;66;03m# -------------\u001b[39;00m\n\u001b[0;32m    265\u001b[0m     \u001b[38;5;66;03m# Do this first so we don't create a file if image conversion fails\u001b[39;00m\n\u001b[1;32m--> 266\u001b[0m     img_data \u001b[38;5;241m=\u001b[39m \u001b[43mto_image\u001b[49m\u001b[43m(\u001b[49m\n\u001b[0;32m    267\u001b[0m \u001b[43m        \u001b[49m\u001b[43mfig\u001b[49m\u001b[43m,\u001b[49m\n\u001b[0;32m    268\u001b[0m \u001b[43m        \u001b[49m\u001b[38;5;28;43mformat\u001b[39;49m\u001b[38;5;241;43m=\u001b[39;49m\u001b[38;5;28;43mformat\u001b[39;49m\u001b[43m,\u001b[49m\n\u001b[0;32m    269\u001b[0m \u001b[43m        \u001b[49m\u001b[43mscale\u001b[49m\u001b[38;5;241;43m=\u001b[39;49m\u001b[43mscale\u001b[49m\u001b[43m,\u001b[49m\n\u001b[0;32m    270\u001b[0m \u001b[43m        \u001b[49m\u001b[43mwidth\u001b[49m\u001b[38;5;241;43m=\u001b[39;49m\u001b[43mwidth\u001b[49m\u001b[43m,\u001b[49m\n\u001b[0;32m    271\u001b[0m \u001b[43m        \u001b[49m\u001b[43mheight\u001b[49m\u001b[38;5;241;43m=\u001b[39;49m\u001b[43mheight\u001b[49m\u001b[43m,\u001b[49m\n\u001b[0;32m    272\u001b[0m \u001b[43m        \u001b[49m\u001b[43mvalidate\u001b[49m\u001b[38;5;241;43m=\u001b[39;49m\u001b[43mvalidate\u001b[49m\u001b[43m,\u001b[49m\n\u001b[0;32m    273\u001b[0m \u001b[43m        \u001b[49m\u001b[43mengine\u001b[49m\u001b[38;5;241;43m=\u001b[39;49m\u001b[43mengine\u001b[49m\u001b[43m,\u001b[49m\n\u001b[0;32m    274\u001b[0m \u001b[43m    \u001b[49m\u001b[43m)\u001b[49m\n\u001b[0;32m    276\u001b[0m     \u001b[38;5;66;03m# Open file\u001b[39;00m\n\u001b[0;32m    277\u001b[0m     \u001b[38;5;66;03m# ---------\u001b[39;00m\n\u001b[0;32m    278\u001b[0m     \u001b[38;5;28;01mif\u001b[39;00m path \u001b[38;5;129;01mis\u001b[39;00m \u001b[38;5;28;01mNone\u001b[39;00m:\n\u001b[0;32m    279\u001b[0m         \u001b[38;5;66;03m# We previously failed to make sense of `file` as a pathlib object.\u001b[39;00m\n\u001b[0;32m    280\u001b[0m         \u001b[38;5;66;03m# Attempt to write to `file` as an open file descriptor.\u001b[39;00m\n",
      "File \u001b[1;32me:\\Mes Documents\\_Open Classroom\\Code\\p7\\p7env\\lib\\site-packages\\plotly\\io\\_kaleido.py:143\u001b[0m, in \u001b[0;36mto_image\u001b[1;34m(fig, format, width, height, scale, validate, engine)\u001b[0m\n\u001b[0;32m    140\u001b[0m \u001b[38;5;66;03m# Validate figure\u001b[39;00m\n\u001b[0;32m    141\u001b[0m \u001b[38;5;66;03m# ---------------\u001b[39;00m\n\u001b[0;32m    142\u001b[0m fig_dict \u001b[38;5;241m=\u001b[39m validate_coerce_fig_to_dict(fig, validate)\n\u001b[1;32m--> 143\u001b[0m img_bytes \u001b[38;5;241m=\u001b[39m \u001b[43mscope\u001b[49m\u001b[38;5;241;43m.\u001b[39;49m\u001b[43mtransform\u001b[49m\u001b[43m(\u001b[49m\n\u001b[0;32m    144\u001b[0m \u001b[43m    \u001b[49m\u001b[43mfig_dict\u001b[49m\u001b[43m,\u001b[49m\u001b[43m \u001b[49m\u001b[38;5;28;43mformat\u001b[39;49m\u001b[38;5;241;43m=\u001b[39;49m\u001b[38;5;28;43mformat\u001b[39;49m\u001b[43m,\u001b[49m\u001b[43m \u001b[49m\u001b[43mwidth\u001b[49m\u001b[38;5;241;43m=\u001b[39;49m\u001b[43mwidth\u001b[49m\u001b[43m,\u001b[49m\u001b[43m \u001b[49m\u001b[43mheight\u001b[49m\u001b[38;5;241;43m=\u001b[39;49m\u001b[43mheight\u001b[49m\u001b[43m,\u001b[49m\u001b[43m \u001b[49m\u001b[43mscale\u001b[49m\u001b[38;5;241;43m=\u001b[39;49m\u001b[43mscale\u001b[49m\n\u001b[0;32m    145\u001b[0m \u001b[43m\u001b[49m\u001b[43m)\u001b[49m\n\u001b[0;32m    147\u001b[0m \u001b[38;5;28;01mreturn\u001b[39;00m img_bytes\n",
      "File \u001b[1;32me:\\Mes Documents\\_Open Classroom\\Code\\p7\\p7env\\lib\\site-packages\\kaleido\\scopes\\plotly.py:103\u001b[0m, in \u001b[0;36mPlotlyScope.transform\u001b[1;34m(self, figure, format, width, height, scale)\u001b[0m\n\u001b[0;32m     92\u001b[0m     \u001b[38;5;28;01mraise\u001b[39;00m \u001b[38;5;167;01mValueError\u001b[39;00m(\n\u001b[0;32m     93\u001b[0m         \u001b[38;5;124m\"\u001b[39m\u001b[38;5;124mInvalid format \u001b[39m\u001b[38;5;124m'\u001b[39m\u001b[38;5;132;01m{original_format}\u001b[39;00m\u001b[38;5;124m'\u001b[39m\u001b[38;5;124m.\u001b[39m\u001b[38;5;130;01m\\n\u001b[39;00m\u001b[38;5;124m\"\u001b[39m\n\u001b[0;32m     94\u001b[0m         \u001b[38;5;124m\"\u001b[39m\u001b[38;5;124m    Supported formats: \u001b[39m\u001b[38;5;132;01m{supported_formats_str}\u001b[39;00m\u001b[38;5;124m\"\u001b[39m\n\u001b[1;32m   (...)\u001b[0m\n\u001b[0;32m     98\u001b[0m         )\n\u001b[0;32m     99\u001b[0m     )\n\u001b[0;32m    101\u001b[0m \u001b[38;5;66;03m# Transform in using _perform_transform rather than superclass so we can access the full\u001b[39;00m\n\u001b[0;32m    102\u001b[0m \u001b[38;5;66;03m# response dict, including error codes.\u001b[39;00m\n\u001b[1;32m--> 103\u001b[0m response \u001b[38;5;241m=\u001b[39m \u001b[38;5;28;43mself\u001b[39;49m\u001b[38;5;241;43m.\u001b[39;49m\u001b[43m_perform_transform\u001b[49m\u001b[43m(\u001b[49m\n\u001b[0;32m    104\u001b[0m \u001b[43m    \u001b[49m\u001b[43mfigure\u001b[49m\u001b[43m,\u001b[49m\u001b[43m \u001b[49m\u001b[38;5;28;43mformat\u001b[39;49m\u001b[38;5;241;43m=\u001b[39;49m\u001b[38;5;28;43mformat\u001b[39;49m\u001b[43m,\u001b[49m\u001b[43m \u001b[49m\u001b[43mwidth\u001b[49m\u001b[38;5;241;43m=\u001b[39;49m\u001b[43mwidth\u001b[49m\u001b[43m,\u001b[49m\u001b[43m \u001b[49m\u001b[43mheight\u001b[49m\u001b[38;5;241;43m=\u001b[39;49m\u001b[43mheight\u001b[49m\u001b[43m,\u001b[49m\u001b[43m \u001b[49m\u001b[43mscale\u001b[49m\u001b[38;5;241;43m=\u001b[39;49m\u001b[43mscale\u001b[49m\n\u001b[0;32m    105\u001b[0m \u001b[43m\u001b[49m\u001b[43m)\u001b[49m\n\u001b[0;32m    107\u001b[0m \u001b[38;5;66;03m# Check for export error, later can customize error messages for plotly Python users\u001b[39;00m\n\u001b[0;32m    108\u001b[0m code \u001b[38;5;241m=\u001b[39m response\u001b[38;5;241m.\u001b[39mget(\u001b[38;5;124m\"\u001b[39m\u001b[38;5;124mcode\u001b[39m\u001b[38;5;124m\"\u001b[39m, \u001b[38;5;241m0\u001b[39m)\n",
      "File \u001b[1;32me:\\Mes Documents\\_Open Classroom\\Code\\p7\\p7env\\lib\\site-packages\\kaleido\\scopes\\base.py:280\u001b[0m, in \u001b[0;36mBaseScope._perform_transform\u001b[1;34m(self, data, **kwargs)\u001b[0m\n\u001b[0;32m    271\u001b[0m \u001b[38;5;250m\u001b[39m\u001b[38;5;124;03m\"\"\"\u001b[39;00m\n\u001b[0;32m    272\u001b[0m \u001b[38;5;124;03mTransform input data using the current scope, returning dict response with error code\u001b[39;00m\n\u001b[0;32m    273\u001b[0m \u001b[38;5;124;03mwhether successful or not.\u001b[39;00m\n\u001b[1;32m   (...)\u001b[0m\n\u001b[0;32m    277\u001b[0m \u001b[38;5;124;03m:return: Dict of response from Kaleido executable, whether successful or not\u001b[39;00m\n\u001b[0;32m    278\u001b[0m \u001b[38;5;124;03m\"\"\"\u001b[39;00m\n\u001b[0;32m    279\u001b[0m \u001b[38;5;66;03m# Ensure that kaleido subprocess is running\u001b[39;00m\n\u001b[1;32m--> 280\u001b[0m \u001b[38;5;28;43mself\u001b[39;49m\u001b[38;5;241;43m.\u001b[39;49m\u001b[43m_ensure_kaleido\u001b[49m\u001b[43m(\u001b[49m\u001b[43m)\u001b[49m\n\u001b[0;32m    282\u001b[0m \u001b[38;5;66;03m# Perform export\u001b[39;00m\n\u001b[0;32m    283\u001b[0m export_spec \u001b[38;5;241m=\u001b[39m json\u001b[38;5;241m.\u001b[39mdumps(\n\u001b[0;32m    284\u001b[0m     \u001b[38;5;28mdict\u001b[39m(kwargs, data\u001b[38;5;241m=\u001b[39mdata),\n\u001b[0;32m    285\u001b[0m     \u001b[38;5;28mcls\u001b[39m\u001b[38;5;241m=\u001b[39m\u001b[38;5;28mself\u001b[39m\u001b[38;5;241m.\u001b[39m_json_encoder)\u001b[38;5;241m.\u001b[39mencode(\u001b[38;5;124m'\u001b[39m\u001b[38;5;124mutf-8\u001b[39m\u001b[38;5;124m'\u001b[39m)\n",
      "File \u001b[1;32me:\\Mes Documents\\_Open Classroom\\Code\\p7\\p7env\\lib\\site-packages\\kaleido\\scopes\\base.py:166\u001b[0m, in \u001b[0;36mBaseScope._ensure_kaleido\u001b[1;34m(self)\u001b[0m\n\u001b[0;32m    160\u001b[0m \u001b[38;5;28mself\u001b[39m\u001b[38;5;241m.\u001b[39m_std_error \u001b[38;5;241m=\u001b[39m io\u001b[38;5;241m.\u001b[39mBytesIO()\n\u001b[0;32m    162\u001b[0m \u001b[38;5;66;03m# Launch kaleido subprocess\u001b[39;00m\n\u001b[0;32m    163\u001b[0m \u001b[38;5;66;03m# Note: shell=True seems to be needed on Windows to handle executable path with\u001b[39;00m\n\u001b[0;32m    164\u001b[0m \u001b[38;5;66;03m# spaces.  The subprocess.Popen docs makes it sound like this shouldn't be\u001b[39;00m\n\u001b[0;32m    165\u001b[0m \u001b[38;5;66;03m# necessary.\u001b[39;00m\n\u001b[1;32m--> 166\u001b[0m proc_args \u001b[38;5;241m=\u001b[39m \u001b[38;5;28;43mself\u001b[39;49m\u001b[38;5;241;43m.\u001b[39;49m\u001b[43m_build_proc_args\u001b[49m\u001b[43m(\u001b[49m\u001b[43m)\u001b[49m\n\u001b[0;32m    167\u001b[0m \u001b[38;5;28mself\u001b[39m\u001b[38;5;241m.\u001b[39m_proc \u001b[38;5;241m=\u001b[39m subprocess\u001b[38;5;241m.\u001b[39mPopen(\n\u001b[0;32m    168\u001b[0m     proc_args,\n\u001b[0;32m    169\u001b[0m     stdin\u001b[38;5;241m=\u001b[39msubprocess\u001b[38;5;241m.\u001b[39mPIPE,\n\u001b[1;32m   (...)\u001b[0m\n\u001b[0;32m    172\u001b[0m     shell\u001b[38;5;241m=\u001b[39msys\u001b[38;5;241m.\u001b[39mplatform \u001b[38;5;241m==\u001b[39m \u001b[38;5;124m\"\u001b[39m\u001b[38;5;124mwin32\u001b[39m\u001b[38;5;124m\"\u001b[39m\n\u001b[0;32m    173\u001b[0m )\n\u001b[0;32m    175\u001b[0m \u001b[38;5;66;03m# Set up thread to asynchronously collect standard error stream\u001b[39;00m\n",
      "File \u001b[1;32me:\\Mes Documents\\_Open Classroom\\Code\\p7\\p7env\\lib\\site-packages\\kaleido\\scopes\\base.py:113\u001b[0m, in \u001b[0;36mBaseScope._build_proc_args\u001b[1;34m(self)\u001b[0m\n\u001b[0;32m    106\u001b[0m \u001b[38;5;28;01mdef\u001b[39;00m \u001b[38;5;21m_build_proc_args\u001b[39m(\u001b[38;5;28mself\u001b[39m):\n\u001b[0;32m    107\u001b[0m \u001b[38;5;250m    \u001b[39m\u001b[38;5;124;03m\"\"\"\u001b[39;00m\n\u001b[0;32m    108\u001b[0m \u001b[38;5;124;03m    Build list of kaleido command-line arguments based on current values of\u001b[39;00m\n\u001b[0;32m    109\u001b[0m \u001b[38;5;124;03m    the properties specified by self._scope_flags and self.chromium_args\u001b[39;00m\n\u001b[0;32m    110\u001b[0m \n\u001b[0;32m    111\u001b[0m \u001b[38;5;124;03m    :return: list of flags\u001b[39;00m\n\u001b[0;32m    112\u001b[0m \u001b[38;5;124;03m    \"\"\"\u001b[39;00m\n\u001b[1;32m--> 113\u001b[0m     proc_args \u001b[38;5;241m=\u001b[39m [\u001b[38;5;28;43mself\u001b[39;49m\u001b[38;5;241;43m.\u001b[39;49m\u001b[43mexecutable_path\u001b[49m\u001b[43m(\u001b[49m\u001b[43m)\u001b[49m, \u001b[38;5;28mself\u001b[39m\u001b[38;5;241m.\u001b[39mscope_name]\n\u001b[0;32m    114\u001b[0m     \u001b[38;5;28;01mfor\u001b[39;00m k \u001b[38;5;129;01min\u001b[39;00m \u001b[38;5;28mself\u001b[39m\u001b[38;5;241m.\u001b[39m_scope_flags:\n\u001b[0;32m    115\u001b[0m         v \u001b[38;5;241m=\u001b[39m \u001b[38;5;28mgetattr\u001b[39m(\u001b[38;5;28mself\u001b[39m, k)\n",
      "File \u001b[1;32me:\\Mes Documents\\_Open Classroom\\Code\\p7\\p7env\\lib\\site-packages\\kaleido\\scopes\\base.py:89\u001b[0m, in \u001b[0;36mBaseScope.executable_path\u001b[1;34m(cls)\u001b[0m\n\u001b[0;32m     87\u001b[0m                 path \u001b[38;5;241m=\u001b[39m os\u001b[38;5;241m.\u001b[39menviron\u001b[38;5;241m.\u001b[39mget(\u001b[38;5;124m\"\u001b[39m\u001b[38;5;124mPATH\u001b[39m\u001b[38;5;124m\"\u001b[39m, os\u001b[38;5;241m.\u001b[39mdefpath)\n\u001b[0;32m     88\u001b[0m                 formatted_path \u001b[38;5;241m=\u001b[39m path\u001b[38;5;241m.\u001b[39mreplace(os\u001b[38;5;241m.\u001b[39mpathsep, \u001b[38;5;124m\"\u001b[39m\u001b[38;5;130;01m\\n\u001b[39;00m\u001b[38;5;124m    \u001b[39m\u001b[38;5;124m\"\u001b[39m)\n\u001b[1;32m---> 89\u001b[0m                 \u001b[38;5;28;01mraise\u001b[39;00m \u001b[38;5;167;01mValueError\u001b[39;00m(\n\u001b[0;32m     90\u001b[0m \u001b[38;5;250m                    \u001b[39m\u001b[38;5;124;03m\"\"\"\u001b[39;00m\n\u001b[0;32m     91\u001b[0m \u001b[38;5;124;03mThe kaleido executable is required by the kaleido Python library, but it was not included\u001b[39;00m\n\u001b[0;32m     92\u001b[0m \u001b[38;5;124;03min the Python package and it could not be found on the system PATH.\u001b[39;00m\n\u001b[0;32m     93\u001b[0m \n\u001b[0;32m     94\u001b[0m \u001b[38;5;124;03mSearched for included kaleido executable at:\u001b[39;00m\n\u001b[0;32m     95\u001b[0m \u001b[38;5;124;03m    {vendored_executable_path} \u001b[39;00m\n\u001b[0;32m     96\u001b[0m \n\u001b[0;32m     97\u001b[0m \u001b[38;5;124;03mSearched for executable 'kaleido' on the following system PATH:\u001b[39;00m\n\u001b[0;32m     98\u001b[0m \u001b[38;5;124;03m    {formatted_path}\\n\"\"\"\u001b[39;00m\u001b[38;5;241m.\u001b[39mformat(\n\u001b[0;32m     99\u001b[0m                         vendored_executable_path\u001b[38;5;241m=\u001b[39mvendored_executable_path,\n\u001b[0;32m    100\u001b[0m                         formatted_path\u001b[38;5;241m=\u001b[39mformatted_path,\n\u001b[0;32m    101\u001b[0m                     )\n\u001b[0;32m    102\u001b[0m                 )\n\u001b[0;32m    104\u001b[0m         \u001b[38;5;28;01mreturn\u001b[39;00m executable_path\n",
      "\u001b[1;31mValueError\u001b[0m: \nThe kaleido executable is required by the kaleido Python library, but it was not included\nin the Python package and it could not be found on the system PATH.\n\nSearched for included kaleido executable at:\n    e:\\Mes Documents\\_Open Classroom\\Code\\p7\\p7env\\lib\\site-packages\\kaleido\\executable\\kaleido \n\nSearched for executable 'kaleido' on the following system PATH:\n    e:\\Mes Documents\\_Open Classroom\\Code\\p7\\p7env\\Scripts\n    E:\\Mes Documents\\_Open Classroom\\Code\\p7\\p7env\\Scripts\n    E:\\Program Files\\Python310\\Scripts\\\n    E:\\Program Files\\Python310\\\n    E:\\Program Files (x86)\\VMware\\VMware Player\\bin\\\n    C:\\Windows\\system32\n    C:\\Windows\n    C:\\Windows\\System32\\Wbem\n    C:\\Windows\\System32\\WindowsPowerShell\\v1.0\\\n    C:\\Windows\\System32\\OpenSSH\\\n    C:\\Program Files (x86)\\NVIDIA Corporation\\PhysX\\Common\n    C:\\Program Files\\NVIDIA Corporation\\NVIDIA NvDLISR\n    E:\\Program Files\\Git\\cmd\n    C:\\Users\\Ariane\\AppData\\Local\\Programs\\Python\\Python39\\Scripts\\\n    C:\\Users\\Ariane\\AppData\\Local\\Programs\\Python\\Python39\\\n    C:\\Users\\Ariane\\AppData\\Local\\Microsoft\\WindowsApps\n    \n    E:\\Program Files\\Microsoft VS Code\\bin\n    E:\\Program Files\\Graphviz\\bin\n"
     ]
    }
   ],
   "source": [
    "with open(\"figure.png\", \"wb\") as f:\n",
    "    fig.write_image(f, format=\"png\", scale=6)"
   ]
  },
  {
   "cell_type": "code",
   "execution_count": 29,
   "metadata": {},
   "outputs": [
    {
     "ename": "ValueError",
     "evalue": "\nThe kaleido executable is required by the kaleido Python library, but it was not included\nin the Python package and it could not be found on the system PATH.\n\nSearched for included kaleido executable at:\n    e:\\Mes Documents\\_Open Classroom\\Code\\p7\\p7env\\lib\\site-packages\\kaleido\\executable\\kaleido \n\nSearched for executable 'kaleido' on the following system PATH:\n    e:\\Mes Documents\\_Open Classroom\\Code\\p7\\p7env\\Scripts\n    E:\\Mes Documents\\_Open Classroom\\Code\\p7\\p7env\\Scripts\n    E:\\Program Files\\Python310\\Scripts\\\n    E:\\Program Files\\Python310\\\n    E:\\Program Files (x86)\\VMware\\VMware Player\\bin\\\n    C:\\Windows\\system32\n    C:\\Windows\n    C:\\Windows\\System32\\Wbem\n    C:\\Windows\\System32\\WindowsPowerShell\\v1.0\\\n    C:\\Windows\\System32\\OpenSSH\\\n    C:\\Program Files (x86)\\NVIDIA Corporation\\PhysX\\Common\n    C:\\Program Files\\NVIDIA Corporation\\NVIDIA NvDLISR\n    E:\\Program Files\\Git\\cmd\n    C:\\Users\\Ariane\\AppData\\Local\\Programs\\Python\\Python39\\Scripts\\\n    C:\\Users\\Ariane\\AppData\\Local\\Programs\\Python\\Python39\\\n    C:\\Users\\Ariane\\AppData\\Local\\Microsoft\\WindowsApps\n    \n    E:\\Program Files\\Microsoft VS Code\\bin\n    E:\\Program Files\\Graphviz\\bin\n",
     "output_type": "error",
     "traceback": [
      "\u001b[1;31m---------------------------------------------------------------------------\u001b[0m",
      "\u001b[1;31mValueError\u001b[0m                                Traceback (most recent call last)",
      "Cell \u001b[1;32mIn[29], line 2\u001b[0m\n\u001b[0;32m      1\u001b[0m \u001b[38;5;66;03m#fig.write_image(file=os.path.join(MODEL_DIR, \"try1_parallel_coordinates.png\"), format=\"png\", scale=6)\u001b[39;00m\n\u001b[1;32m----> 2\u001b[0m \u001b[43mfig\u001b[49m\u001b[38;5;241;43m.\u001b[39;49m\u001b[43mwrite_image\u001b[49m\u001b[43m(\u001b[49m\u001b[43mfile\u001b[49m\u001b[38;5;241;43m=\u001b[39;49m\u001b[43mos\u001b[49m\u001b[38;5;241;43m.\u001b[39;49m\u001b[43mpath\u001b[49m\u001b[38;5;241;43m.\u001b[39;49m\u001b[43mjoin\u001b[49m\u001b[43m(\u001b[49m\u001b[43mMODEL_DIR\u001b[49m\u001b[43m,\u001b[49m\u001b[43m \u001b[49m\u001b[38;5;124;43m\"\u001b[39;49m\u001b[38;5;124;43mtry1_parallel_coordinates.jpg\u001b[39;49m\u001b[38;5;124;43m\"\u001b[39;49m\u001b[43m)\u001b[49m\u001b[43m,\u001b[49m\u001b[43m \u001b[49m\u001b[38;5;28;43mformat\u001b[39;49m\u001b[38;5;241;43m=\u001b[39;49m\u001b[38;5;124;43m\"\u001b[39;49m\u001b[38;5;124;43mjpg\u001b[39;49m\u001b[38;5;124;43m\"\u001b[39;49m\u001b[43m,\u001b[49m\u001b[43m \u001b[49m\u001b[43mscale\u001b[49m\u001b[38;5;241;43m=\u001b[39;49m\u001b[38;5;241;43m6\u001b[39;49m\u001b[43m)\u001b[49m\n\u001b[0;32m      3\u001b[0m fig\u001b[38;5;241m.\u001b[39mshow()\n",
      "File \u001b[1;32me:\\Mes Documents\\_Open Classroom\\Code\\p7\\p7env\\lib\\site-packages\\plotly\\basedatatypes.py:3841\u001b[0m, in \u001b[0;36mBaseFigure.write_image\u001b[1;34m(self, *args, **kwargs)\u001b[0m\n\u001b[0;32m   3781\u001b[0m \u001b[38;5;250m\u001b[39m\u001b[38;5;124;03m\"\"\"\u001b[39;00m\n\u001b[0;32m   3782\u001b[0m \u001b[38;5;124;03mConvert a figure to a static image and write it to a file or writeable\u001b[39;00m\n\u001b[0;32m   3783\u001b[0m \u001b[38;5;124;03mobject\u001b[39;00m\n\u001b[1;32m   (...)\u001b[0m\n\u001b[0;32m   3837\u001b[0m \u001b[38;5;124;03mNone\u001b[39;00m\n\u001b[0;32m   3838\u001b[0m \u001b[38;5;124;03m\"\"\"\u001b[39;00m\n\u001b[0;32m   3839\u001b[0m \u001b[38;5;28;01mimport\u001b[39;00m \u001b[38;5;21;01mplotly\u001b[39;00m\u001b[38;5;21;01m.\u001b[39;00m\u001b[38;5;21;01mio\u001b[39;00m \u001b[38;5;28;01mas\u001b[39;00m \u001b[38;5;21;01mpio\u001b[39;00m\n\u001b[1;32m-> 3841\u001b[0m \u001b[38;5;28;01mreturn\u001b[39;00m pio\u001b[38;5;241m.\u001b[39mwrite_image(\u001b[38;5;28mself\u001b[39m, \u001b[38;5;241m*\u001b[39margs, \u001b[38;5;241m*\u001b[39m\u001b[38;5;241m*\u001b[39mkwargs)\n",
      "File \u001b[1;32me:\\Mes Documents\\_Open Classroom\\Code\\p7\\p7env\\lib\\site-packages\\plotly\\io\\_kaleido.py:266\u001b[0m, in \u001b[0;36mwrite_image\u001b[1;34m(fig, file, format, scale, width, height, validate, engine)\u001b[0m\n\u001b[0;32m    250\u001b[0m             \u001b[38;5;28;01mraise\u001b[39;00m \u001b[38;5;167;01mValueError\u001b[39;00m(\n\u001b[0;32m    251\u001b[0m \u001b[38;5;250m                \u001b[39m\u001b[38;5;124;03m\"\"\"\u001b[39;00m\n\u001b[0;32m    252\u001b[0m \u001b[38;5;124;03mCannot infer image type from output path '{file}'.\u001b[39;00m\n\u001b[1;32m   (...)\u001b[0m\n\u001b[0;32m    260\u001b[0m                 )\n\u001b[0;32m    261\u001b[0m             )\n\u001b[0;32m    263\u001b[0m     \u001b[38;5;66;03m# Request image\u001b[39;00m\n\u001b[0;32m    264\u001b[0m     \u001b[38;5;66;03m# -------------\u001b[39;00m\n\u001b[0;32m    265\u001b[0m     \u001b[38;5;66;03m# Do this first so we don't create a file if image conversion fails\u001b[39;00m\n\u001b[1;32m--> 266\u001b[0m     img_data \u001b[38;5;241m=\u001b[39m \u001b[43mto_image\u001b[49m\u001b[43m(\u001b[49m\n\u001b[0;32m    267\u001b[0m \u001b[43m        \u001b[49m\u001b[43mfig\u001b[49m\u001b[43m,\u001b[49m\n\u001b[0;32m    268\u001b[0m \u001b[43m        \u001b[49m\u001b[38;5;28;43mformat\u001b[39;49m\u001b[38;5;241;43m=\u001b[39;49m\u001b[38;5;28;43mformat\u001b[39;49m\u001b[43m,\u001b[49m\n\u001b[0;32m    269\u001b[0m \u001b[43m        \u001b[49m\u001b[43mscale\u001b[49m\u001b[38;5;241;43m=\u001b[39;49m\u001b[43mscale\u001b[49m\u001b[43m,\u001b[49m\n\u001b[0;32m    270\u001b[0m \u001b[43m        \u001b[49m\u001b[43mwidth\u001b[49m\u001b[38;5;241;43m=\u001b[39;49m\u001b[43mwidth\u001b[49m\u001b[43m,\u001b[49m\n\u001b[0;32m    271\u001b[0m \u001b[43m        \u001b[49m\u001b[43mheight\u001b[49m\u001b[38;5;241;43m=\u001b[39;49m\u001b[43mheight\u001b[49m\u001b[43m,\u001b[49m\n\u001b[0;32m    272\u001b[0m \u001b[43m        \u001b[49m\u001b[43mvalidate\u001b[49m\u001b[38;5;241;43m=\u001b[39;49m\u001b[43mvalidate\u001b[49m\u001b[43m,\u001b[49m\n\u001b[0;32m    273\u001b[0m \u001b[43m        \u001b[49m\u001b[43mengine\u001b[49m\u001b[38;5;241;43m=\u001b[39;49m\u001b[43mengine\u001b[49m\u001b[43m,\u001b[49m\n\u001b[0;32m    274\u001b[0m \u001b[43m    \u001b[49m\u001b[43m)\u001b[49m\n\u001b[0;32m    276\u001b[0m     \u001b[38;5;66;03m# Open file\u001b[39;00m\n\u001b[0;32m    277\u001b[0m     \u001b[38;5;66;03m# ---------\u001b[39;00m\n\u001b[0;32m    278\u001b[0m     \u001b[38;5;28;01mif\u001b[39;00m path \u001b[38;5;129;01mis\u001b[39;00m \u001b[38;5;28;01mNone\u001b[39;00m:\n\u001b[0;32m    279\u001b[0m         \u001b[38;5;66;03m# We previously failed to make sense of `file` as a pathlib object.\u001b[39;00m\n\u001b[0;32m    280\u001b[0m         \u001b[38;5;66;03m# Attempt to write to `file` as an open file descriptor.\u001b[39;00m\n",
      "File \u001b[1;32me:\\Mes Documents\\_Open Classroom\\Code\\p7\\p7env\\lib\\site-packages\\plotly\\io\\_kaleido.py:143\u001b[0m, in \u001b[0;36mto_image\u001b[1;34m(fig, format, width, height, scale, validate, engine)\u001b[0m\n\u001b[0;32m    140\u001b[0m \u001b[38;5;66;03m# Validate figure\u001b[39;00m\n\u001b[0;32m    141\u001b[0m \u001b[38;5;66;03m# ---------------\u001b[39;00m\n\u001b[0;32m    142\u001b[0m fig_dict \u001b[38;5;241m=\u001b[39m validate_coerce_fig_to_dict(fig, validate)\n\u001b[1;32m--> 143\u001b[0m img_bytes \u001b[38;5;241m=\u001b[39m \u001b[43mscope\u001b[49m\u001b[38;5;241;43m.\u001b[39;49m\u001b[43mtransform\u001b[49m\u001b[43m(\u001b[49m\n\u001b[0;32m    144\u001b[0m \u001b[43m    \u001b[49m\u001b[43mfig_dict\u001b[49m\u001b[43m,\u001b[49m\u001b[43m \u001b[49m\u001b[38;5;28;43mformat\u001b[39;49m\u001b[38;5;241;43m=\u001b[39;49m\u001b[38;5;28;43mformat\u001b[39;49m\u001b[43m,\u001b[49m\u001b[43m \u001b[49m\u001b[43mwidth\u001b[49m\u001b[38;5;241;43m=\u001b[39;49m\u001b[43mwidth\u001b[49m\u001b[43m,\u001b[49m\u001b[43m \u001b[49m\u001b[43mheight\u001b[49m\u001b[38;5;241;43m=\u001b[39;49m\u001b[43mheight\u001b[49m\u001b[43m,\u001b[49m\u001b[43m \u001b[49m\u001b[43mscale\u001b[49m\u001b[38;5;241;43m=\u001b[39;49m\u001b[43mscale\u001b[49m\n\u001b[0;32m    145\u001b[0m \u001b[43m\u001b[49m\u001b[43m)\u001b[49m\n\u001b[0;32m    147\u001b[0m \u001b[38;5;28;01mreturn\u001b[39;00m img_bytes\n",
      "File \u001b[1;32me:\\Mes Documents\\_Open Classroom\\Code\\p7\\p7env\\lib\\site-packages\\kaleido\\scopes\\plotly.py:103\u001b[0m, in \u001b[0;36mPlotlyScope.transform\u001b[1;34m(self, figure, format, width, height, scale)\u001b[0m\n\u001b[0;32m     92\u001b[0m     \u001b[38;5;28;01mraise\u001b[39;00m \u001b[38;5;167;01mValueError\u001b[39;00m(\n\u001b[0;32m     93\u001b[0m         \u001b[38;5;124m\"\u001b[39m\u001b[38;5;124mInvalid format \u001b[39m\u001b[38;5;124m'\u001b[39m\u001b[38;5;132;01m{original_format}\u001b[39;00m\u001b[38;5;124m'\u001b[39m\u001b[38;5;124m.\u001b[39m\u001b[38;5;130;01m\\n\u001b[39;00m\u001b[38;5;124m\"\u001b[39m\n\u001b[0;32m     94\u001b[0m         \u001b[38;5;124m\"\u001b[39m\u001b[38;5;124m    Supported formats: \u001b[39m\u001b[38;5;132;01m{supported_formats_str}\u001b[39;00m\u001b[38;5;124m\"\u001b[39m\n\u001b[1;32m   (...)\u001b[0m\n\u001b[0;32m     98\u001b[0m         )\n\u001b[0;32m     99\u001b[0m     )\n\u001b[0;32m    101\u001b[0m \u001b[38;5;66;03m# Transform in using _perform_transform rather than superclass so we can access the full\u001b[39;00m\n\u001b[0;32m    102\u001b[0m \u001b[38;5;66;03m# response dict, including error codes.\u001b[39;00m\n\u001b[1;32m--> 103\u001b[0m response \u001b[38;5;241m=\u001b[39m \u001b[38;5;28;43mself\u001b[39;49m\u001b[38;5;241;43m.\u001b[39;49m\u001b[43m_perform_transform\u001b[49m\u001b[43m(\u001b[49m\n\u001b[0;32m    104\u001b[0m \u001b[43m    \u001b[49m\u001b[43mfigure\u001b[49m\u001b[43m,\u001b[49m\u001b[43m \u001b[49m\u001b[38;5;28;43mformat\u001b[39;49m\u001b[38;5;241;43m=\u001b[39;49m\u001b[38;5;28;43mformat\u001b[39;49m\u001b[43m,\u001b[49m\u001b[43m \u001b[49m\u001b[43mwidth\u001b[49m\u001b[38;5;241;43m=\u001b[39;49m\u001b[43mwidth\u001b[49m\u001b[43m,\u001b[49m\u001b[43m \u001b[49m\u001b[43mheight\u001b[49m\u001b[38;5;241;43m=\u001b[39;49m\u001b[43mheight\u001b[49m\u001b[43m,\u001b[49m\u001b[43m \u001b[49m\u001b[43mscale\u001b[49m\u001b[38;5;241;43m=\u001b[39;49m\u001b[43mscale\u001b[49m\n\u001b[0;32m    105\u001b[0m \u001b[43m\u001b[49m\u001b[43m)\u001b[49m\n\u001b[0;32m    107\u001b[0m \u001b[38;5;66;03m# Check for export error, later can customize error messages for plotly Python users\u001b[39;00m\n\u001b[0;32m    108\u001b[0m code \u001b[38;5;241m=\u001b[39m response\u001b[38;5;241m.\u001b[39mget(\u001b[38;5;124m\"\u001b[39m\u001b[38;5;124mcode\u001b[39m\u001b[38;5;124m\"\u001b[39m, \u001b[38;5;241m0\u001b[39m)\n",
      "File \u001b[1;32me:\\Mes Documents\\_Open Classroom\\Code\\p7\\p7env\\lib\\site-packages\\kaleido\\scopes\\base.py:280\u001b[0m, in \u001b[0;36mBaseScope._perform_transform\u001b[1;34m(self, data, **kwargs)\u001b[0m\n\u001b[0;32m    271\u001b[0m \u001b[38;5;250m\u001b[39m\u001b[38;5;124;03m\"\"\"\u001b[39;00m\n\u001b[0;32m    272\u001b[0m \u001b[38;5;124;03mTransform input data using the current scope, returning dict response with error code\u001b[39;00m\n\u001b[0;32m    273\u001b[0m \u001b[38;5;124;03mwhether successful or not.\u001b[39;00m\n\u001b[1;32m   (...)\u001b[0m\n\u001b[0;32m    277\u001b[0m \u001b[38;5;124;03m:return: Dict of response from Kaleido executable, whether successful or not\u001b[39;00m\n\u001b[0;32m    278\u001b[0m \u001b[38;5;124;03m\"\"\"\u001b[39;00m\n\u001b[0;32m    279\u001b[0m \u001b[38;5;66;03m# Ensure that kaleido subprocess is running\u001b[39;00m\n\u001b[1;32m--> 280\u001b[0m \u001b[38;5;28;43mself\u001b[39;49m\u001b[38;5;241;43m.\u001b[39;49m\u001b[43m_ensure_kaleido\u001b[49m\u001b[43m(\u001b[49m\u001b[43m)\u001b[49m\n\u001b[0;32m    282\u001b[0m \u001b[38;5;66;03m# Perform export\u001b[39;00m\n\u001b[0;32m    283\u001b[0m export_spec \u001b[38;5;241m=\u001b[39m json\u001b[38;5;241m.\u001b[39mdumps(\n\u001b[0;32m    284\u001b[0m     \u001b[38;5;28mdict\u001b[39m(kwargs, data\u001b[38;5;241m=\u001b[39mdata),\n\u001b[0;32m    285\u001b[0m     \u001b[38;5;28mcls\u001b[39m\u001b[38;5;241m=\u001b[39m\u001b[38;5;28mself\u001b[39m\u001b[38;5;241m.\u001b[39m_json_encoder)\u001b[38;5;241m.\u001b[39mencode(\u001b[38;5;124m'\u001b[39m\u001b[38;5;124mutf-8\u001b[39m\u001b[38;5;124m'\u001b[39m)\n",
      "File \u001b[1;32me:\\Mes Documents\\_Open Classroom\\Code\\p7\\p7env\\lib\\site-packages\\kaleido\\scopes\\base.py:166\u001b[0m, in \u001b[0;36mBaseScope._ensure_kaleido\u001b[1;34m(self)\u001b[0m\n\u001b[0;32m    160\u001b[0m \u001b[38;5;28mself\u001b[39m\u001b[38;5;241m.\u001b[39m_std_error \u001b[38;5;241m=\u001b[39m io\u001b[38;5;241m.\u001b[39mBytesIO()\n\u001b[0;32m    162\u001b[0m \u001b[38;5;66;03m# Launch kaleido subprocess\u001b[39;00m\n\u001b[0;32m    163\u001b[0m \u001b[38;5;66;03m# Note: shell=True seems to be needed on Windows to handle executable path with\u001b[39;00m\n\u001b[0;32m    164\u001b[0m \u001b[38;5;66;03m# spaces.  The subprocess.Popen docs makes it sound like this shouldn't be\u001b[39;00m\n\u001b[0;32m    165\u001b[0m \u001b[38;5;66;03m# necessary.\u001b[39;00m\n\u001b[1;32m--> 166\u001b[0m proc_args \u001b[38;5;241m=\u001b[39m \u001b[38;5;28;43mself\u001b[39;49m\u001b[38;5;241;43m.\u001b[39;49m\u001b[43m_build_proc_args\u001b[49m\u001b[43m(\u001b[49m\u001b[43m)\u001b[49m\n\u001b[0;32m    167\u001b[0m \u001b[38;5;28mself\u001b[39m\u001b[38;5;241m.\u001b[39m_proc \u001b[38;5;241m=\u001b[39m subprocess\u001b[38;5;241m.\u001b[39mPopen(\n\u001b[0;32m    168\u001b[0m     proc_args,\n\u001b[0;32m    169\u001b[0m     stdin\u001b[38;5;241m=\u001b[39msubprocess\u001b[38;5;241m.\u001b[39mPIPE,\n\u001b[1;32m   (...)\u001b[0m\n\u001b[0;32m    172\u001b[0m     shell\u001b[38;5;241m=\u001b[39msys\u001b[38;5;241m.\u001b[39mplatform \u001b[38;5;241m==\u001b[39m \u001b[38;5;124m\"\u001b[39m\u001b[38;5;124mwin32\u001b[39m\u001b[38;5;124m\"\u001b[39m\n\u001b[0;32m    173\u001b[0m )\n\u001b[0;32m    175\u001b[0m \u001b[38;5;66;03m# Set up thread to asynchronously collect standard error stream\u001b[39;00m\n",
      "File \u001b[1;32me:\\Mes Documents\\_Open Classroom\\Code\\p7\\p7env\\lib\\site-packages\\kaleido\\scopes\\base.py:113\u001b[0m, in \u001b[0;36mBaseScope._build_proc_args\u001b[1;34m(self)\u001b[0m\n\u001b[0;32m    106\u001b[0m \u001b[38;5;28;01mdef\u001b[39;00m \u001b[38;5;21m_build_proc_args\u001b[39m(\u001b[38;5;28mself\u001b[39m):\n\u001b[0;32m    107\u001b[0m \u001b[38;5;250m    \u001b[39m\u001b[38;5;124;03m\"\"\"\u001b[39;00m\n\u001b[0;32m    108\u001b[0m \u001b[38;5;124;03m    Build list of kaleido command-line arguments based on current values of\u001b[39;00m\n\u001b[0;32m    109\u001b[0m \u001b[38;5;124;03m    the properties specified by self._scope_flags and self.chromium_args\u001b[39;00m\n\u001b[0;32m    110\u001b[0m \n\u001b[0;32m    111\u001b[0m \u001b[38;5;124;03m    :return: list of flags\u001b[39;00m\n\u001b[0;32m    112\u001b[0m \u001b[38;5;124;03m    \"\"\"\u001b[39;00m\n\u001b[1;32m--> 113\u001b[0m     proc_args \u001b[38;5;241m=\u001b[39m [\u001b[38;5;28;43mself\u001b[39;49m\u001b[38;5;241;43m.\u001b[39;49m\u001b[43mexecutable_path\u001b[49m\u001b[43m(\u001b[49m\u001b[43m)\u001b[49m, \u001b[38;5;28mself\u001b[39m\u001b[38;5;241m.\u001b[39mscope_name]\n\u001b[0;32m    114\u001b[0m     \u001b[38;5;28;01mfor\u001b[39;00m k \u001b[38;5;129;01min\u001b[39;00m \u001b[38;5;28mself\u001b[39m\u001b[38;5;241m.\u001b[39m_scope_flags:\n\u001b[0;32m    115\u001b[0m         v \u001b[38;5;241m=\u001b[39m \u001b[38;5;28mgetattr\u001b[39m(\u001b[38;5;28mself\u001b[39m, k)\n",
      "File \u001b[1;32me:\\Mes Documents\\_Open Classroom\\Code\\p7\\p7env\\lib\\site-packages\\kaleido\\scopes\\base.py:89\u001b[0m, in \u001b[0;36mBaseScope.executable_path\u001b[1;34m(cls)\u001b[0m\n\u001b[0;32m     87\u001b[0m                 path \u001b[38;5;241m=\u001b[39m os\u001b[38;5;241m.\u001b[39menviron\u001b[38;5;241m.\u001b[39mget(\u001b[38;5;124m\"\u001b[39m\u001b[38;5;124mPATH\u001b[39m\u001b[38;5;124m\"\u001b[39m, os\u001b[38;5;241m.\u001b[39mdefpath)\n\u001b[0;32m     88\u001b[0m                 formatted_path \u001b[38;5;241m=\u001b[39m path\u001b[38;5;241m.\u001b[39mreplace(os\u001b[38;5;241m.\u001b[39mpathsep, \u001b[38;5;124m\"\u001b[39m\u001b[38;5;130;01m\\n\u001b[39;00m\u001b[38;5;124m    \u001b[39m\u001b[38;5;124m\"\u001b[39m)\n\u001b[1;32m---> 89\u001b[0m                 \u001b[38;5;28;01mraise\u001b[39;00m \u001b[38;5;167;01mValueError\u001b[39;00m(\n\u001b[0;32m     90\u001b[0m \u001b[38;5;250m                    \u001b[39m\u001b[38;5;124;03m\"\"\"\u001b[39;00m\n\u001b[0;32m     91\u001b[0m \u001b[38;5;124;03mThe kaleido executable is required by the kaleido Python library, but it was not included\u001b[39;00m\n\u001b[0;32m     92\u001b[0m \u001b[38;5;124;03min the Python package and it could not be found on the system PATH.\u001b[39;00m\n\u001b[0;32m     93\u001b[0m \n\u001b[0;32m     94\u001b[0m \u001b[38;5;124;03mSearched for included kaleido executable at:\u001b[39;00m\n\u001b[0;32m     95\u001b[0m \u001b[38;5;124;03m    {vendored_executable_path} \u001b[39;00m\n\u001b[0;32m     96\u001b[0m \n\u001b[0;32m     97\u001b[0m \u001b[38;5;124;03mSearched for executable 'kaleido' on the following system PATH:\u001b[39;00m\n\u001b[0;32m     98\u001b[0m \u001b[38;5;124;03m    {formatted_path}\\n\"\"\"\u001b[39;00m\u001b[38;5;241m.\u001b[39mformat(\n\u001b[0;32m     99\u001b[0m                         vendored_executable_path\u001b[38;5;241m=\u001b[39mvendored_executable_path,\n\u001b[0;32m    100\u001b[0m                         formatted_path\u001b[38;5;241m=\u001b[39mformatted_path,\n\u001b[0;32m    101\u001b[0m                     )\n\u001b[0;32m    102\u001b[0m                 )\n\u001b[0;32m    104\u001b[0m         \u001b[38;5;28;01mreturn\u001b[39;00m executable_path\n",
      "\u001b[1;31mValueError\u001b[0m: \nThe kaleido executable is required by the kaleido Python library, but it was not included\nin the Python package and it could not be found on the system PATH.\n\nSearched for included kaleido executable at:\n    e:\\Mes Documents\\_Open Classroom\\Code\\p7\\p7env\\lib\\site-packages\\kaleido\\executable\\kaleido \n\nSearched for executable 'kaleido' on the following system PATH:\n    e:\\Mes Documents\\_Open Classroom\\Code\\p7\\p7env\\Scripts\n    E:\\Mes Documents\\_Open Classroom\\Code\\p7\\p7env\\Scripts\n    E:\\Program Files\\Python310\\Scripts\\\n    E:\\Program Files\\Python310\\\n    E:\\Program Files (x86)\\VMware\\VMware Player\\bin\\\n    C:\\Windows\\system32\n    C:\\Windows\n    C:\\Windows\\System32\\Wbem\n    C:\\Windows\\System32\\WindowsPowerShell\\v1.0\\\n    C:\\Windows\\System32\\OpenSSH\\\n    C:\\Program Files (x86)\\NVIDIA Corporation\\PhysX\\Common\n    C:\\Program Files\\NVIDIA Corporation\\NVIDIA NvDLISR\n    E:\\Program Files\\Git\\cmd\n    C:\\Users\\Ariane\\AppData\\Local\\Programs\\Python\\Python39\\Scripts\\\n    C:\\Users\\Ariane\\AppData\\Local\\Programs\\Python\\Python39\\\n    C:\\Users\\Ariane\\AppData\\Local\\Microsoft\\WindowsApps\n    \n    E:\\Program Files\\Microsoft VS Code\\bin\n    E:\\Program Files\\Graphviz\\bin\n"
     ]
    }
   ],
   "source": [
    "#fig.write_image(file=os.path.join(MODEL_DIR, \"try1_parallel_coordinates.png\"), format=\"png\", scale=6)\n",
    "fig.write_image(file=os.path.join(MODEL_DIR, \"try1_parallel_coordinates.jpg\"), format=\"jpg\", scale=6)\n",
    "fig.show()"
   ]
  },
  {
   "cell_type": "code",
   "execution_count": 25,
   "metadata": {},
   "outputs": [
    {
     "ename": "ValueError",
     "evalue": "\nThe kaleido executable is required by the kaleido Python library, but it was not included\nin the Python package and it could not be found on the system PATH.\n\nSearched for included kaleido executable at:\n    e:\\Mes Documents\\_Open Classroom\\Code\\p7\\p7env\\lib\\site-packages\\kaleido\\executable\\kaleido \n\nSearched for executable 'kaleido' on the following system PATH:\n    e:\\Mes Documents\\_Open Classroom\\Code\\p7\\p7env\\Scripts\n    E:\\Mes Documents\\_Open Classroom\\Code\\p7\\p7env\\Scripts\n    E:\\Program Files\\Python310\\Scripts\\\n    E:\\Program Files\\Python310\\\n    E:\\Program Files (x86)\\VMware\\VMware Player\\bin\\\n    C:\\Windows\\system32\n    C:\\Windows\n    C:\\Windows\\System32\\Wbem\n    C:\\Windows\\System32\\WindowsPowerShell\\v1.0\\\n    C:\\Windows\\System32\\OpenSSH\\\n    C:\\Program Files (x86)\\NVIDIA Corporation\\PhysX\\Common\n    C:\\Program Files\\NVIDIA Corporation\\NVIDIA NvDLISR\n    E:\\Program Files\\Git\\cmd\n    C:\\Users\\Ariane\\AppData\\Local\\Programs\\Python\\Python39\\Scripts\\\n    C:\\Users\\Ariane\\AppData\\Local\\Programs\\Python\\Python39\\\n    C:\\Users\\Ariane\\AppData\\Local\\Microsoft\\WindowsApps\n    \n    E:\\Program Files\\Microsoft VS Code\\bin\n    E:\\Program Files\\Graphviz\\bin\n",
     "output_type": "error",
     "traceback": [
      "\u001b[1;31m---------------------------------------------------------------------------\u001b[0m",
      "\u001b[1;31mValueError\u001b[0m                                Traceback (most recent call last)",
      "Cell \u001b[1;32mIn[25], line 2\u001b[0m\n\u001b[0;32m      1\u001b[0m \u001b[38;5;66;03m#plotly.io.write_image(fig, file=os.path.join(MODEL_DIR, \"try1_parallel_coordinates.png\"), format=\"png\", scale=6, width=None, height=None, validate=True, engine='auto')\u001b[39;00m\n\u001b[1;32m----> 2\u001b[0m \u001b[43mplotly\u001b[49m\u001b[38;5;241;43m.\u001b[39;49m\u001b[43mio\u001b[49m\u001b[38;5;241;43m.\u001b[39;49m\u001b[43mwrite_image\u001b[49m\u001b[43m(\u001b[49m\u001b[43mfig\u001b[49m\u001b[43m,\u001b[49m\u001b[43m \u001b[49m\u001b[43mfile\u001b[49m\u001b[38;5;241;43m=\u001b[39;49m\u001b[38;5;124;43m\"\u001b[39;49m\u001b[38;5;124;43mtry1_parallel_coordinates.png\u001b[39;49m\u001b[38;5;124;43m\"\u001b[39;49m\u001b[43m,\u001b[49m\u001b[43m \u001b[49m\u001b[38;5;28;43mformat\u001b[39;49m\u001b[38;5;241;43m=\u001b[39;49m\u001b[38;5;124;43m\"\u001b[39;49m\u001b[38;5;124;43mpng\u001b[39;49m\u001b[38;5;124;43m\"\u001b[39;49m\u001b[43m,\u001b[49m\u001b[43m \u001b[49m\u001b[43mscale\u001b[49m\u001b[38;5;241;43m=\u001b[39;49m\u001b[38;5;241;43m6\u001b[39;49m\u001b[43m,\u001b[49m\u001b[43m \u001b[49m\u001b[43mwidth\u001b[49m\u001b[38;5;241;43m=\u001b[39;49m\u001b[38;5;28;43;01mNone\u001b[39;49;00m\u001b[43m,\u001b[49m\u001b[43m \u001b[49m\u001b[43mheight\u001b[49m\u001b[38;5;241;43m=\u001b[39;49m\u001b[38;5;28;43;01mNone\u001b[39;49;00m\u001b[43m,\u001b[49m\u001b[43m \u001b[49m\u001b[43mvalidate\u001b[49m\u001b[38;5;241;43m=\u001b[39;49m\u001b[38;5;28;43;01mTrue\u001b[39;49;00m\u001b[43m,\u001b[49m\u001b[43m \u001b[49m\u001b[43mengine\u001b[49m\u001b[38;5;241;43m=\u001b[39;49m\u001b[38;5;124;43m'\u001b[39;49m\u001b[38;5;124;43mauto\u001b[39;49m\u001b[38;5;124;43m'\u001b[39;49m\u001b[43m)\u001b[49m\n",
      "File \u001b[1;32me:\\Mes Documents\\_Open Classroom\\Code\\p7\\p7env\\lib\\site-packages\\plotly\\io\\_kaleido.py:266\u001b[0m, in \u001b[0;36mwrite_image\u001b[1;34m(fig, file, format, scale, width, height, validate, engine)\u001b[0m\n\u001b[0;32m    250\u001b[0m             \u001b[38;5;28;01mraise\u001b[39;00m \u001b[38;5;167;01mValueError\u001b[39;00m(\n\u001b[0;32m    251\u001b[0m \u001b[38;5;250m                \u001b[39m\u001b[38;5;124;03m\"\"\"\u001b[39;00m\n\u001b[0;32m    252\u001b[0m \u001b[38;5;124;03mCannot infer image type from output path '{file}'.\u001b[39;00m\n\u001b[1;32m   (...)\u001b[0m\n\u001b[0;32m    260\u001b[0m                 )\n\u001b[0;32m    261\u001b[0m             )\n\u001b[0;32m    263\u001b[0m     \u001b[38;5;66;03m# Request image\u001b[39;00m\n\u001b[0;32m    264\u001b[0m     \u001b[38;5;66;03m# -------------\u001b[39;00m\n\u001b[0;32m    265\u001b[0m     \u001b[38;5;66;03m# Do this first so we don't create a file if image conversion fails\u001b[39;00m\n\u001b[1;32m--> 266\u001b[0m     img_data \u001b[38;5;241m=\u001b[39m \u001b[43mto_image\u001b[49m\u001b[43m(\u001b[49m\n\u001b[0;32m    267\u001b[0m \u001b[43m        \u001b[49m\u001b[43mfig\u001b[49m\u001b[43m,\u001b[49m\n\u001b[0;32m    268\u001b[0m \u001b[43m        \u001b[49m\u001b[38;5;28;43mformat\u001b[39;49m\u001b[38;5;241;43m=\u001b[39;49m\u001b[38;5;28;43mformat\u001b[39;49m\u001b[43m,\u001b[49m\n\u001b[0;32m    269\u001b[0m \u001b[43m        \u001b[49m\u001b[43mscale\u001b[49m\u001b[38;5;241;43m=\u001b[39;49m\u001b[43mscale\u001b[49m\u001b[43m,\u001b[49m\n\u001b[0;32m    270\u001b[0m \u001b[43m        \u001b[49m\u001b[43mwidth\u001b[49m\u001b[38;5;241;43m=\u001b[39;49m\u001b[43mwidth\u001b[49m\u001b[43m,\u001b[49m\n\u001b[0;32m    271\u001b[0m \u001b[43m        \u001b[49m\u001b[43mheight\u001b[49m\u001b[38;5;241;43m=\u001b[39;49m\u001b[43mheight\u001b[49m\u001b[43m,\u001b[49m\n\u001b[0;32m    272\u001b[0m \u001b[43m        \u001b[49m\u001b[43mvalidate\u001b[49m\u001b[38;5;241;43m=\u001b[39;49m\u001b[43mvalidate\u001b[49m\u001b[43m,\u001b[49m\n\u001b[0;32m    273\u001b[0m \u001b[43m        \u001b[49m\u001b[43mengine\u001b[49m\u001b[38;5;241;43m=\u001b[39;49m\u001b[43mengine\u001b[49m\u001b[43m,\u001b[49m\n\u001b[0;32m    274\u001b[0m \u001b[43m    \u001b[49m\u001b[43m)\u001b[49m\n\u001b[0;32m    276\u001b[0m     \u001b[38;5;66;03m# Open file\u001b[39;00m\n\u001b[0;32m    277\u001b[0m     \u001b[38;5;66;03m# ---------\u001b[39;00m\n\u001b[0;32m    278\u001b[0m     \u001b[38;5;28;01mif\u001b[39;00m path \u001b[38;5;129;01mis\u001b[39;00m \u001b[38;5;28;01mNone\u001b[39;00m:\n\u001b[0;32m    279\u001b[0m         \u001b[38;5;66;03m# We previously failed to make sense of `file` as a pathlib object.\u001b[39;00m\n\u001b[0;32m    280\u001b[0m         \u001b[38;5;66;03m# Attempt to write to `file` as an open file descriptor.\u001b[39;00m\n",
      "File \u001b[1;32me:\\Mes Documents\\_Open Classroom\\Code\\p7\\p7env\\lib\\site-packages\\plotly\\io\\_kaleido.py:143\u001b[0m, in \u001b[0;36mto_image\u001b[1;34m(fig, format, width, height, scale, validate, engine)\u001b[0m\n\u001b[0;32m    140\u001b[0m \u001b[38;5;66;03m# Validate figure\u001b[39;00m\n\u001b[0;32m    141\u001b[0m \u001b[38;5;66;03m# ---------------\u001b[39;00m\n\u001b[0;32m    142\u001b[0m fig_dict \u001b[38;5;241m=\u001b[39m validate_coerce_fig_to_dict(fig, validate)\n\u001b[1;32m--> 143\u001b[0m img_bytes \u001b[38;5;241m=\u001b[39m \u001b[43mscope\u001b[49m\u001b[38;5;241;43m.\u001b[39;49m\u001b[43mtransform\u001b[49m\u001b[43m(\u001b[49m\n\u001b[0;32m    144\u001b[0m \u001b[43m    \u001b[49m\u001b[43mfig_dict\u001b[49m\u001b[43m,\u001b[49m\u001b[43m \u001b[49m\u001b[38;5;28;43mformat\u001b[39;49m\u001b[38;5;241;43m=\u001b[39;49m\u001b[38;5;28;43mformat\u001b[39;49m\u001b[43m,\u001b[49m\u001b[43m \u001b[49m\u001b[43mwidth\u001b[49m\u001b[38;5;241;43m=\u001b[39;49m\u001b[43mwidth\u001b[49m\u001b[43m,\u001b[49m\u001b[43m \u001b[49m\u001b[43mheight\u001b[49m\u001b[38;5;241;43m=\u001b[39;49m\u001b[43mheight\u001b[49m\u001b[43m,\u001b[49m\u001b[43m \u001b[49m\u001b[43mscale\u001b[49m\u001b[38;5;241;43m=\u001b[39;49m\u001b[43mscale\u001b[49m\n\u001b[0;32m    145\u001b[0m \u001b[43m\u001b[49m\u001b[43m)\u001b[49m\n\u001b[0;32m    147\u001b[0m \u001b[38;5;28;01mreturn\u001b[39;00m img_bytes\n",
      "File \u001b[1;32me:\\Mes Documents\\_Open Classroom\\Code\\p7\\p7env\\lib\\site-packages\\kaleido\\scopes\\plotly.py:103\u001b[0m, in \u001b[0;36mPlotlyScope.transform\u001b[1;34m(self, figure, format, width, height, scale)\u001b[0m\n\u001b[0;32m     92\u001b[0m     \u001b[38;5;28;01mraise\u001b[39;00m \u001b[38;5;167;01mValueError\u001b[39;00m(\n\u001b[0;32m     93\u001b[0m         \u001b[38;5;124m\"\u001b[39m\u001b[38;5;124mInvalid format \u001b[39m\u001b[38;5;124m'\u001b[39m\u001b[38;5;132;01m{original_format}\u001b[39;00m\u001b[38;5;124m'\u001b[39m\u001b[38;5;124m.\u001b[39m\u001b[38;5;130;01m\\n\u001b[39;00m\u001b[38;5;124m\"\u001b[39m\n\u001b[0;32m     94\u001b[0m         \u001b[38;5;124m\"\u001b[39m\u001b[38;5;124m    Supported formats: \u001b[39m\u001b[38;5;132;01m{supported_formats_str}\u001b[39;00m\u001b[38;5;124m\"\u001b[39m\n\u001b[1;32m   (...)\u001b[0m\n\u001b[0;32m     98\u001b[0m         )\n\u001b[0;32m     99\u001b[0m     )\n\u001b[0;32m    101\u001b[0m \u001b[38;5;66;03m# Transform in using _perform_transform rather than superclass so we can access the full\u001b[39;00m\n\u001b[0;32m    102\u001b[0m \u001b[38;5;66;03m# response dict, including error codes.\u001b[39;00m\n\u001b[1;32m--> 103\u001b[0m response \u001b[38;5;241m=\u001b[39m \u001b[38;5;28;43mself\u001b[39;49m\u001b[38;5;241;43m.\u001b[39;49m\u001b[43m_perform_transform\u001b[49m\u001b[43m(\u001b[49m\n\u001b[0;32m    104\u001b[0m \u001b[43m    \u001b[49m\u001b[43mfigure\u001b[49m\u001b[43m,\u001b[49m\u001b[43m \u001b[49m\u001b[38;5;28;43mformat\u001b[39;49m\u001b[38;5;241;43m=\u001b[39;49m\u001b[38;5;28;43mformat\u001b[39;49m\u001b[43m,\u001b[49m\u001b[43m \u001b[49m\u001b[43mwidth\u001b[49m\u001b[38;5;241;43m=\u001b[39;49m\u001b[43mwidth\u001b[49m\u001b[43m,\u001b[49m\u001b[43m \u001b[49m\u001b[43mheight\u001b[49m\u001b[38;5;241;43m=\u001b[39;49m\u001b[43mheight\u001b[49m\u001b[43m,\u001b[49m\u001b[43m \u001b[49m\u001b[43mscale\u001b[49m\u001b[38;5;241;43m=\u001b[39;49m\u001b[43mscale\u001b[49m\n\u001b[0;32m    105\u001b[0m \u001b[43m\u001b[49m\u001b[43m)\u001b[49m\n\u001b[0;32m    107\u001b[0m \u001b[38;5;66;03m# Check for export error, later can customize error messages for plotly Python users\u001b[39;00m\n\u001b[0;32m    108\u001b[0m code \u001b[38;5;241m=\u001b[39m response\u001b[38;5;241m.\u001b[39mget(\u001b[38;5;124m\"\u001b[39m\u001b[38;5;124mcode\u001b[39m\u001b[38;5;124m\"\u001b[39m, \u001b[38;5;241m0\u001b[39m)\n",
      "File \u001b[1;32me:\\Mes Documents\\_Open Classroom\\Code\\p7\\p7env\\lib\\site-packages\\kaleido\\scopes\\base.py:280\u001b[0m, in \u001b[0;36mBaseScope._perform_transform\u001b[1;34m(self, data, **kwargs)\u001b[0m\n\u001b[0;32m    271\u001b[0m \u001b[38;5;250m\u001b[39m\u001b[38;5;124;03m\"\"\"\u001b[39;00m\n\u001b[0;32m    272\u001b[0m \u001b[38;5;124;03mTransform input data using the current scope, returning dict response with error code\u001b[39;00m\n\u001b[0;32m    273\u001b[0m \u001b[38;5;124;03mwhether successful or not.\u001b[39;00m\n\u001b[1;32m   (...)\u001b[0m\n\u001b[0;32m    277\u001b[0m \u001b[38;5;124;03m:return: Dict of response from Kaleido executable, whether successful or not\u001b[39;00m\n\u001b[0;32m    278\u001b[0m \u001b[38;5;124;03m\"\"\"\u001b[39;00m\n\u001b[0;32m    279\u001b[0m \u001b[38;5;66;03m# Ensure that kaleido subprocess is running\u001b[39;00m\n\u001b[1;32m--> 280\u001b[0m \u001b[38;5;28;43mself\u001b[39;49m\u001b[38;5;241;43m.\u001b[39;49m\u001b[43m_ensure_kaleido\u001b[49m\u001b[43m(\u001b[49m\u001b[43m)\u001b[49m\n\u001b[0;32m    282\u001b[0m \u001b[38;5;66;03m# Perform export\u001b[39;00m\n\u001b[0;32m    283\u001b[0m export_spec \u001b[38;5;241m=\u001b[39m json\u001b[38;5;241m.\u001b[39mdumps(\n\u001b[0;32m    284\u001b[0m     \u001b[38;5;28mdict\u001b[39m(kwargs, data\u001b[38;5;241m=\u001b[39mdata),\n\u001b[0;32m    285\u001b[0m     \u001b[38;5;28mcls\u001b[39m\u001b[38;5;241m=\u001b[39m\u001b[38;5;28mself\u001b[39m\u001b[38;5;241m.\u001b[39m_json_encoder)\u001b[38;5;241m.\u001b[39mencode(\u001b[38;5;124m'\u001b[39m\u001b[38;5;124mutf-8\u001b[39m\u001b[38;5;124m'\u001b[39m)\n",
      "File \u001b[1;32me:\\Mes Documents\\_Open Classroom\\Code\\p7\\p7env\\lib\\site-packages\\kaleido\\scopes\\base.py:166\u001b[0m, in \u001b[0;36mBaseScope._ensure_kaleido\u001b[1;34m(self)\u001b[0m\n\u001b[0;32m    160\u001b[0m \u001b[38;5;28mself\u001b[39m\u001b[38;5;241m.\u001b[39m_std_error \u001b[38;5;241m=\u001b[39m io\u001b[38;5;241m.\u001b[39mBytesIO()\n\u001b[0;32m    162\u001b[0m \u001b[38;5;66;03m# Launch kaleido subprocess\u001b[39;00m\n\u001b[0;32m    163\u001b[0m \u001b[38;5;66;03m# Note: shell=True seems to be needed on Windows to handle executable path with\u001b[39;00m\n\u001b[0;32m    164\u001b[0m \u001b[38;5;66;03m# spaces.  The subprocess.Popen docs makes it sound like this shouldn't be\u001b[39;00m\n\u001b[0;32m    165\u001b[0m \u001b[38;5;66;03m# necessary.\u001b[39;00m\n\u001b[1;32m--> 166\u001b[0m proc_args \u001b[38;5;241m=\u001b[39m \u001b[38;5;28;43mself\u001b[39;49m\u001b[38;5;241;43m.\u001b[39;49m\u001b[43m_build_proc_args\u001b[49m\u001b[43m(\u001b[49m\u001b[43m)\u001b[49m\n\u001b[0;32m    167\u001b[0m \u001b[38;5;28mself\u001b[39m\u001b[38;5;241m.\u001b[39m_proc \u001b[38;5;241m=\u001b[39m subprocess\u001b[38;5;241m.\u001b[39mPopen(\n\u001b[0;32m    168\u001b[0m     proc_args,\n\u001b[0;32m    169\u001b[0m     stdin\u001b[38;5;241m=\u001b[39msubprocess\u001b[38;5;241m.\u001b[39mPIPE,\n\u001b[1;32m   (...)\u001b[0m\n\u001b[0;32m    172\u001b[0m     shell\u001b[38;5;241m=\u001b[39msys\u001b[38;5;241m.\u001b[39mplatform \u001b[38;5;241m==\u001b[39m \u001b[38;5;124m\"\u001b[39m\u001b[38;5;124mwin32\u001b[39m\u001b[38;5;124m\"\u001b[39m\n\u001b[0;32m    173\u001b[0m )\n\u001b[0;32m    175\u001b[0m \u001b[38;5;66;03m# Set up thread to asynchronously collect standard error stream\u001b[39;00m\n",
      "File \u001b[1;32me:\\Mes Documents\\_Open Classroom\\Code\\p7\\p7env\\lib\\site-packages\\kaleido\\scopes\\base.py:113\u001b[0m, in \u001b[0;36mBaseScope._build_proc_args\u001b[1;34m(self)\u001b[0m\n\u001b[0;32m    106\u001b[0m \u001b[38;5;28;01mdef\u001b[39;00m \u001b[38;5;21m_build_proc_args\u001b[39m(\u001b[38;5;28mself\u001b[39m):\n\u001b[0;32m    107\u001b[0m \u001b[38;5;250m    \u001b[39m\u001b[38;5;124;03m\"\"\"\u001b[39;00m\n\u001b[0;32m    108\u001b[0m \u001b[38;5;124;03m    Build list of kaleido command-line arguments based on current values of\u001b[39;00m\n\u001b[0;32m    109\u001b[0m \u001b[38;5;124;03m    the properties specified by self._scope_flags and self.chromium_args\u001b[39;00m\n\u001b[0;32m    110\u001b[0m \n\u001b[0;32m    111\u001b[0m \u001b[38;5;124;03m    :return: list of flags\u001b[39;00m\n\u001b[0;32m    112\u001b[0m \u001b[38;5;124;03m    \"\"\"\u001b[39;00m\n\u001b[1;32m--> 113\u001b[0m     proc_args \u001b[38;5;241m=\u001b[39m [\u001b[38;5;28;43mself\u001b[39;49m\u001b[38;5;241;43m.\u001b[39;49m\u001b[43mexecutable_path\u001b[49m\u001b[43m(\u001b[49m\u001b[43m)\u001b[49m, \u001b[38;5;28mself\u001b[39m\u001b[38;5;241m.\u001b[39mscope_name]\n\u001b[0;32m    114\u001b[0m     \u001b[38;5;28;01mfor\u001b[39;00m k \u001b[38;5;129;01min\u001b[39;00m \u001b[38;5;28mself\u001b[39m\u001b[38;5;241m.\u001b[39m_scope_flags:\n\u001b[0;32m    115\u001b[0m         v \u001b[38;5;241m=\u001b[39m \u001b[38;5;28mgetattr\u001b[39m(\u001b[38;5;28mself\u001b[39m, k)\n",
      "File \u001b[1;32me:\\Mes Documents\\_Open Classroom\\Code\\p7\\p7env\\lib\\site-packages\\kaleido\\scopes\\base.py:89\u001b[0m, in \u001b[0;36mBaseScope.executable_path\u001b[1;34m(cls)\u001b[0m\n\u001b[0;32m     87\u001b[0m                 path \u001b[38;5;241m=\u001b[39m os\u001b[38;5;241m.\u001b[39menviron\u001b[38;5;241m.\u001b[39mget(\u001b[38;5;124m\"\u001b[39m\u001b[38;5;124mPATH\u001b[39m\u001b[38;5;124m\"\u001b[39m, os\u001b[38;5;241m.\u001b[39mdefpath)\n\u001b[0;32m     88\u001b[0m                 formatted_path \u001b[38;5;241m=\u001b[39m path\u001b[38;5;241m.\u001b[39mreplace(os\u001b[38;5;241m.\u001b[39mpathsep, \u001b[38;5;124m\"\u001b[39m\u001b[38;5;130;01m\\n\u001b[39;00m\u001b[38;5;124m    \u001b[39m\u001b[38;5;124m\"\u001b[39m)\n\u001b[1;32m---> 89\u001b[0m                 \u001b[38;5;28;01mraise\u001b[39;00m \u001b[38;5;167;01mValueError\u001b[39;00m(\n\u001b[0;32m     90\u001b[0m \u001b[38;5;250m                    \u001b[39m\u001b[38;5;124;03m\"\"\"\u001b[39;00m\n\u001b[0;32m     91\u001b[0m \u001b[38;5;124;03mThe kaleido executable is required by the kaleido Python library, but it was not included\u001b[39;00m\n\u001b[0;32m     92\u001b[0m \u001b[38;5;124;03min the Python package and it could not be found on the system PATH.\u001b[39;00m\n\u001b[0;32m     93\u001b[0m \n\u001b[0;32m     94\u001b[0m \u001b[38;5;124;03mSearched for included kaleido executable at:\u001b[39;00m\n\u001b[0;32m     95\u001b[0m \u001b[38;5;124;03m    {vendored_executable_path} \u001b[39;00m\n\u001b[0;32m     96\u001b[0m \n\u001b[0;32m     97\u001b[0m \u001b[38;5;124;03mSearched for executable 'kaleido' on the following system PATH:\u001b[39;00m\n\u001b[0;32m     98\u001b[0m \u001b[38;5;124;03m    {formatted_path}\\n\"\"\"\u001b[39;00m\u001b[38;5;241m.\u001b[39mformat(\n\u001b[0;32m     99\u001b[0m                         vendored_executable_path\u001b[38;5;241m=\u001b[39mvendored_executable_path,\n\u001b[0;32m    100\u001b[0m                         formatted_path\u001b[38;5;241m=\u001b[39mformatted_path,\n\u001b[0;32m    101\u001b[0m                     )\n\u001b[0;32m    102\u001b[0m                 )\n\u001b[0;32m    104\u001b[0m         \u001b[38;5;28;01mreturn\u001b[39;00m executable_path\n",
      "\u001b[1;31mValueError\u001b[0m: \nThe kaleido executable is required by the kaleido Python library, but it was not included\nin the Python package and it could not be found on the system PATH.\n\nSearched for included kaleido executable at:\n    e:\\Mes Documents\\_Open Classroom\\Code\\p7\\p7env\\lib\\site-packages\\kaleido\\executable\\kaleido \n\nSearched for executable 'kaleido' on the following system PATH:\n    e:\\Mes Documents\\_Open Classroom\\Code\\p7\\p7env\\Scripts\n    E:\\Mes Documents\\_Open Classroom\\Code\\p7\\p7env\\Scripts\n    E:\\Program Files\\Python310\\Scripts\\\n    E:\\Program Files\\Python310\\\n    E:\\Program Files (x86)\\VMware\\VMware Player\\bin\\\n    C:\\Windows\\system32\n    C:\\Windows\n    C:\\Windows\\System32\\Wbem\n    C:\\Windows\\System32\\WindowsPowerShell\\v1.0\\\n    C:\\Windows\\System32\\OpenSSH\\\n    C:\\Program Files (x86)\\NVIDIA Corporation\\PhysX\\Common\n    C:\\Program Files\\NVIDIA Corporation\\NVIDIA NvDLISR\n    E:\\Program Files\\Git\\cmd\n    C:\\Users\\Ariane\\AppData\\Local\\Programs\\Python\\Python39\\Scripts\\\n    C:\\Users\\Ariane\\AppData\\Local\\Programs\\Python\\Python39\\\n    C:\\Users\\Ariane\\AppData\\Local\\Microsoft\\WindowsApps\n    \n    E:\\Program Files\\Microsoft VS Code\\bin\n    E:\\Program Files\\Graphviz\\bin\n"
     ]
    }
   ],
   "source": [
    "#plotly.io.write_image(fig, file=os.path.join(MODEL_DIR, \"try1_parallel_coordinates.png\"), format=\"png\", scale=6, width=None, height=None, validate=True, engine='auto')\n",
    "plotly.io.write_image(fig, file=\"try1_parallel_coordinates.png\", format=\"png\", scale=6, width=None, height=None, validate=True, engine='auto')"
   ]
  },
  {
   "cell_type": "code",
   "execution_count": 79,
   "metadata": {
    "ExecuteTime": {
     "end_time": "2023-04-27T12:44:59.987744Z",
     "start_time": "2023-04-27T12:44:57.634931Z"
    },
    "collapsed": false
   },
   "outputs": [
    {
     "ename": "ImportError",
     "evalue": "Tried to import 'plotly' but failed. Please make sure that the package is installed correctly to use this feature. Actual error: No module named 'plotly'.",
     "output_type": "error",
     "traceback": [
      "\u001b[1;31m---------------------------------------------------------------------------\u001b[0m",
      "\u001b[1;31mModuleNotFoundError\u001b[0m                       Traceback (most recent call last)",
      "File \u001b[1;32me:\\Mes Documents\\_Open Classroom\\Code\\p7\\p7env\\lib\\site-packages\\optuna\\visualization\\_plotly_imports.py:7\u001b[0m\n\u001b[0;32m      6\u001b[0m \u001b[38;5;28;01mwith\u001b[39;00m try_import() \u001b[38;5;28;01mas\u001b[39;00m _imports:\n\u001b[1;32m----> 7\u001b[0m     \u001b[38;5;28;01mimport\u001b[39;00m \u001b[38;5;21;01mplotly\u001b[39;00m\n\u001b[0;32m      8\u001b[0m     \u001b[38;5;28;01mfrom\u001b[39;00m \u001b[38;5;21;01mplotly\u001b[39;00m \u001b[38;5;28;01mimport\u001b[39;00m __version__ \u001b[38;5;28;01mas\u001b[39;00m plotly_version\n",
      "\u001b[1;31mModuleNotFoundError\u001b[0m: No module named 'plotly'",
      "\nThe above exception was the direct cause of the following exception:\n",
      "\u001b[1;31mImportError\u001b[0m                               Traceback (most recent call last)",
      "Cell \u001b[1;32mIn[79], line 1\u001b[0m\n\u001b[1;32m----> 1\u001b[0m fig \u001b[38;5;241m=\u001b[39m \u001b[43moptuna\u001b[49m\u001b[38;5;241;43m.\u001b[39;49m\u001b[43mvisualization\u001b[49m\u001b[38;5;241;43m.\u001b[39;49m\u001b[43mplot_param_importances\u001b[49m\u001b[43m(\u001b[49m\u001b[43mstudy\u001b[49m\u001b[43m)\u001b[49m\n\u001b[0;32m      2\u001b[0m fig\u001b[38;5;241m.\u001b[39mwrite_image(file\u001b[38;5;241m=\u001b[39mos\u001b[38;5;241m.\u001b[39mpath\u001b[38;5;241m.\u001b[39mjoin(MODEL_DIR, \u001b[38;5;124m\"\u001b[39m\u001b[38;5;124mtry1_hyperparam_importance.png\u001b[39m\u001b[38;5;124m\"\u001b[39m), \u001b[38;5;28mformat\u001b[39m\u001b[38;5;241m=\u001b[39m\u001b[38;5;124m\"\u001b[39m\u001b[38;5;124mpng\u001b[39m\u001b[38;5;124m\"\u001b[39m, scale\u001b[38;5;241m=\u001b[39m\u001b[38;5;241m6\u001b[39m)\n\u001b[0;32m      3\u001b[0m fig\u001b[38;5;241m.\u001b[39mshow()\n",
      "File \u001b[1;32me:\\Mes Documents\\_Open Classroom\\Code\\p7\\p7env\\lib\\site-packages\\optuna\\visualization\\_param_importances.py:190\u001b[0m, in \u001b[0;36mplot_param_importances\u001b[1;34m(study, evaluator, params, target, target_name)\u001b[0m\n\u001b[0;32m    113\u001b[0m \u001b[38;5;28;01mdef\u001b[39;00m \u001b[38;5;21mplot_param_importances\u001b[39m(\n\u001b[0;32m    114\u001b[0m     study: Study,\n\u001b[0;32m    115\u001b[0m     evaluator: BaseImportanceEvaluator \u001b[38;5;241m|\u001b[39m \u001b[38;5;28;01mNone\u001b[39;00m \u001b[38;5;241m=\u001b[39m \u001b[38;5;28;01mNone\u001b[39;00m,\n\u001b[1;32m   (...)\u001b[0m\n\u001b[0;32m    119\u001b[0m     target_name: \u001b[38;5;28mstr\u001b[39m \u001b[38;5;241m=\u001b[39m \u001b[38;5;124m\"\u001b[39m\u001b[38;5;124mObjective Value\u001b[39m\u001b[38;5;124m\"\u001b[39m,\n\u001b[0;32m    120\u001b[0m ) \u001b[38;5;241m-\u001b[39m\u001b[38;5;241m>\u001b[39m \u001b[38;5;124m\"\u001b[39m\u001b[38;5;124mgo.Figure\u001b[39m\u001b[38;5;124m\"\u001b[39m:\n\u001b[0;32m    121\u001b[0m \u001b[38;5;250m    \u001b[39m\u001b[38;5;124;03m\"\"\"Plot hyperparameter importances.\u001b[39;00m\n\u001b[0;32m    122\u001b[0m \n\u001b[0;32m    123\u001b[0m \u001b[38;5;124;03m    Example:\u001b[39;00m\n\u001b[1;32m   (...)\u001b[0m\n\u001b[0;32m    187\u001b[0m \u001b[38;5;124;03m        A :class:`plotly.graph_objects.Figure` object.\u001b[39;00m\n\u001b[0;32m    188\u001b[0m \u001b[38;5;124;03m    \"\"\"\u001b[39;00m\n\u001b[1;32m--> 190\u001b[0m     \u001b[43m_imports\u001b[49m\u001b[38;5;241;43m.\u001b[39;49m\u001b[43mcheck\u001b[49m\u001b[43m(\u001b[49m\u001b[43m)\u001b[49m\n\u001b[0;32m    191\u001b[0m     importances_infos \u001b[38;5;241m=\u001b[39m _get_importances_infos(study, evaluator, params, target, target_name)\n\u001b[0;32m    192\u001b[0m     \u001b[38;5;28;01mreturn\u001b[39;00m _get_importances_plot(importances_infos, study)\n",
      "File \u001b[1;32me:\\Mes Documents\\_Open Classroom\\Code\\p7\\p7env\\lib\\site-packages\\optuna\\_imports.py:89\u001b[0m, in \u001b[0;36m_DeferredImportExceptionContextManager.check\u001b[1;34m(self)\u001b[0m\n\u001b[0;32m     87\u001b[0m \u001b[38;5;28;01mif\u001b[39;00m \u001b[38;5;28mself\u001b[39m\u001b[38;5;241m.\u001b[39m_deferred \u001b[38;5;129;01mis\u001b[39;00m \u001b[38;5;129;01mnot\u001b[39;00m \u001b[38;5;28;01mNone\u001b[39;00m:\n\u001b[0;32m     88\u001b[0m     exc_value, message \u001b[38;5;241m=\u001b[39m \u001b[38;5;28mself\u001b[39m\u001b[38;5;241m.\u001b[39m_deferred\n\u001b[1;32m---> 89\u001b[0m     \u001b[38;5;28;01mraise\u001b[39;00m \u001b[38;5;167;01mImportError\u001b[39;00m(message) \u001b[38;5;28;01mfrom\u001b[39;00m \u001b[38;5;21;01mexc_value\u001b[39;00m\n",
      "\u001b[1;31mImportError\u001b[0m: Tried to import 'plotly' but failed. Please make sure that the package is installed correctly to use this feature. Actual error: No module named 'plotly'."
     ]
    }
   ],
   "source": [
    "fig = optuna.visualization.plot_param_importances(study)\n",
    "fig.write_image(file=os.path.join(MODEL_DIR, \"try1_hyperparam_importance.png\"), format=\"png\", scale=6)\n",
    "fig.show()"
   ]
  },
  {
   "cell_type": "markdown",
   "metadata": {
    "collapsed": false
   },
   "source": [
    "## Save and Resume a Study"
   ]
  },
  {
   "cell_type": "code",
   "execution_count": 23,
   "metadata": {
    "ExecuteTime": {
     "end_time": "2023-04-27T12:46:03.381646Z",
     "start_time": "2023-04-27T12:46:03.326566Z"
    },
    "collapsed": false
   },
   "outputs": [
    {
     "data": {
      "text/plain": [
       "['models/lgbm-optuna-study.pkl']"
      ]
     },
     "execution_count": 23,
     "metadata": {},
     "output_type": "execute_result"
    }
   ],
   "source": [
    "joblib.dump(study, os.path.join(MODEL_DIR, \"lgbm-optuna-study.pkl\"))"
   ]
  },
  {
   "cell_type": "code",
   "execution_count": 24,
   "metadata": {
    "ExecuteTime": {
     "end_time": "2023-04-27T13:09:55.488271Z",
     "start_time": "2023-04-27T13:09:55.463873Z"
    },
    "collapsed": false
   },
   "outputs": [
    {
     "ename": "FileNotFoundError",
     "evalue": "[Errno 2] No such file or directory: 'lgbm-optuna-study.pkl'",
     "output_type": "error",
     "traceback": [
      "\u001b[1;31m---------------------------------------------------------------------------\u001b[0m",
      "\u001b[1;31mFileNotFoundError\u001b[0m                         Traceback (most recent call last)",
      "Cell \u001b[1;32mIn[24], line 1\u001b[0m\n\u001b[1;32m----> 1\u001b[0m study \u001b[38;5;241m=\u001b[39m \u001b[43mjoblib\u001b[49m\u001b[38;5;241;43m.\u001b[39;49m\u001b[43mload\u001b[49m\u001b[43m(\u001b[49m\u001b[38;5;124;43m\"\u001b[39;49m\u001b[38;5;124;43mlgbm-optuna-study.pkl\u001b[39;49m\u001b[38;5;124;43m\"\u001b[39;49m\u001b[43m)\u001b[49m\n\u001b[0;32m      2\u001b[0m study\u001b[38;5;241m.\u001b[39moptimize(objective(), n_trials\u001b[38;5;241m=\u001b[39m\u001b[38;5;241m20\u001b[39m, gc_after_trial\u001b[38;5;241m=\u001b[39m\u001b[38;5;28;01mTrue\u001b[39;00m, n_jobs\u001b[38;5;241m=\u001b[39m\u001b[38;5;241m-\u001b[39m\u001b[38;5;241m1\u001b[39m)\n",
      "File \u001b[1;32me:\\Mes Documents\\_Open Classroom\\Code\\p7\\p7env\\lib\\site-packages\\joblib\\numpy_pickle.py:650\u001b[0m, in \u001b[0;36mload\u001b[1;34m(filename, mmap_mode)\u001b[0m\n\u001b[0;32m    648\u001b[0m         obj \u001b[38;5;241m=\u001b[39m _unpickle(fobj)\n\u001b[0;32m    649\u001b[0m \u001b[38;5;28;01melse\u001b[39;00m:\n\u001b[1;32m--> 650\u001b[0m     \u001b[38;5;28;01mwith\u001b[39;00m \u001b[38;5;28;43mopen\u001b[39;49m\u001b[43m(\u001b[49m\u001b[43mfilename\u001b[49m\u001b[43m,\u001b[49m\u001b[43m \u001b[49m\u001b[38;5;124;43m'\u001b[39;49m\u001b[38;5;124;43mrb\u001b[39;49m\u001b[38;5;124;43m'\u001b[39;49m\u001b[43m)\u001b[49m \u001b[38;5;28;01mas\u001b[39;00m f:\n\u001b[0;32m    651\u001b[0m         \u001b[38;5;28;01mwith\u001b[39;00m _read_fileobject(f, filename, mmap_mode) \u001b[38;5;28;01mas\u001b[39;00m fobj:\n\u001b[0;32m    652\u001b[0m             \u001b[38;5;28;01mif\u001b[39;00m \u001b[38;5;28misinstance\u001b[39m(fobj, \u001b[38;5;28mstr\u001b[39m):\n\u001b[0;32m    653\u001b[0m                 \u001b[38;5;66;03m# if the returned file object is a string, this means we\u001b[39;00m\n\u001b[0;32m    654\u001b[0m                 \u001b[38;5;66;03m# try to load a pickle file generated with an version of\u001b[39;00m\n\u001b[0;32m    655\u001b[0m                 \u001b[38;5;66;03m# Joblib so we load it with joblib compatibility function.\u001b[39;00m\n",
      "\u001b[1;31mFileNotFoundError\u001b[0m: [Errno 2] No such file or directory: 'lgbm-optuna-study.pkl'"
     ]
    }
   ],
   "source": [
    "study = joblib.load(\"lgbm-optuna-study.pkl\")\n",
    "study.optimize(objective(), n_trials=20, gc_after_trial=True, n_jobs=-1)"
   ]
  },
  {
   "cell_type": "code",
   "execution_count": 13,
   "metadata": {
    "ExecuteTime": {
     "end_time": "2023-04-26T23:52:19.672471Z",
     "start_time": "2023-04-26T23:52:19.665936Z"
    },
    "collapsed": false
   },
   "outputs": [
    {
     "name": "stdout",
     "output_type": "stream",
     "text": [
      "FrozenTrial(number=113, state=TrialState.COMPLETE, values=[0.7325947131542604], datetime_start=datetime.datetime(2023, 4, 26, 21, 51, 41, 700790), datetime_complete=datetime.datetime(2023, 4, 26, 21, 51, 58, 269510), params={'boosting_type': 'gbdt', 'lambda_l1': 8.761930063313846e-06, 'lambda_l2': 3.674098080906251e-06, 'num_leaves': 2, 'feature_fraction': 0.8013834287179691, 'bagging_fraction': 0.8930729866672722, 'bagging_freq': 1, 'min_child_samples': 68, 'learning_rate': 0.14747560109267427, 'max_bin': 416, 'n_estimators': 140}, user_attrs={}, system_attrs={}, intermediate_values={}, distributions={'boosting_type': CategoricalDistribution(choices=('dart', 'gbdt')), 'lambda_l1': FloatDistribution(high=10.0, log=True, low=1e-08, step=None), 'lambda_l2': FloatDistribution(high=10.0, log=True, low=1e-08, step=None), 'num_leaves': IntDistribution(high=256, log=False, low=2, step=1), 'feature_fraction': FloatDistribution(high=1.0, log=False, low=0.4, step=None), 'bagging_fraction': FloatDistribution(high=1.0, log=False, low=0.4, step=None), 'bagging_freq': IntDistribution(high=7, log=False, low=1, step=1), 'min_child_samples': IntDistribution(high=100, log=False, low=5, step=1), 'learning_rate': FloatDistribution(high=0.5, log=True, low=0.0001, step=None), 'max_bin': IntDistribution(high=512, log=False, low=128, step=32), 'n_estimators': IntDistribution(high=400, log=False, low=40, step=20)}, trial_id=113, value=None)\n"
     ]
    }
   ],
   "source": [
    "print(study.best_trial)"
   ]
  },
  {
   "cell_type": "markdown",
   "metadata": {
    "collapsed": false
   },
   "source": [
    "## Save and Resume on a remote DB"
   ]
  },
  {
   "cell_type": "code",
   "execution_count": 21,
   "metadata": {
    "ExecuteTime": {
     "end_time": "2023-04-21T10:25:32.522967Z",
     "start_time": "2023-04-21T10:23:58.669851Z"
    },
    "collapsed": false
   },
   "outputs": [
    {
     "name": "stderr",
     "output_type": "stream",
     "text": [
      "\u001b[32m[I 2023-04-26 21:55:54,747]\u001b[0m A new study created in RDB with name: lgbm-cma-es-rdb-study\u001b[0m\n"
     ]
    },
    {
     "name": "stdout",
     "output_type": "stream",
     "text": [
      "A new study created in RDB with name: lgbm-cma-es-rdb-study\n"
     ]
    },
    {
     "name": "stderr",
     "output_type": "stream",
     "text": [
      "\u001b[32m[I 2023-04-26 21:56:33,779]\u001b[0m Trial 3 finished with value: 0.7132657507447453 and parameters: {'lambda_l1': 2.2532403757797748e-05, 'lambda_l2': 0.05662631493366982, 'num_leaves': 91, 'feature_fraction': 0.8673704694022113, 'bagging_fraction': 0.7408227257890989, 'bagging_freq': 3, 'min_child_samples': 69, 'learning_rate': 0.20682759099882317, 'max_bin': 512, 'n_estimators': 60}. Best is trial 3 with value: 0.7132657507447453.\u001b[0m\n"
     ]
    },
    {
     "name": "stdout",
     "output_type": "stream",
     "text": [
      "Trial 3 finished with value: 0.7132657507447453 and parameters: {'lambda_l1': 2.2532403757797748e-05, 'lambda_l2': 0.05662631493366982, 'num_leaves': 91, 'feature_fraction': 0.8673704694022113, 'bagging_fraction': 0.7408227257890989, 'bagging_freq': 3, 'min_child_samples': 69, 'learning_rate': 0.20682759099882317, 'max_bin': 512, 'n_estimators': 60}. Best is trial 3 with value: 0.7132657507447453.\n"
     ]
    },
    {
     "name": "stderr",
     "output_type": "stream",
     "text": [
      "\u001b[32m[I 2023-04-26 21:56:34,880]\u001b[0m Trial 4 finished with value: 0.7226552433871103 and parameters: {'lambda_l1': 0.006182106804178753, 'lambda_l2': 6.160625321836477, 'num_leaves': 77, 'feature_fraction': 0.941323475749757, 'bagging_fraction': 0.4142484304524909, 'bagging_freq': 6, 'min_child_samples': 94, 'learning_rate': 0.017326662146954618, 'max_bin': 512, 'n_estimators': 180}. Best is trial 3 with value: 0.7132657507447453.\u001b[0m\n"
     ]
    },
    {
     "name": "stdout",
     "output_type": "stream",
     "text": [
      "Trial 4 finished with value: 0.7226552433871103 and parameters: {'lambda_l1': 0.006182106804178753, 'lambda_l2': 6.160625321836477, 'num_leaves': 77, 'feature_fraction': 0.941323475749757, 'bagging_fraction': 0.4142484304524909, 'bagging_freq': 6, 'min_child_samples': 94, 'learning_rate': 0.017326662146954618, 'max_bin': 512, 'n_estimators': 180}. Best is trial 3 with value: 0.7132657507447453.\n"
     ]
    },
    {
     "name": "stderr",
     "output_type": "stream",
     "text": [
      "\u001b[32m[I 2023-04-26 21:56:38,409]\u001b[0m Trial 5 finished with value: 0.4235082247366586 and parameters: {'lambda_l1': 4.496791174062579, 'lambda_l2': 0.000612013760106219, 'num_leaves': 100, 'feature_fraction': 0.6565211338929926, 'bagging_fraction': 0.9277029430467971, 'bagging_freq': 3, 'min_child_samples': 97, 'learning_rate': 0.00011283703507767392, 'max_bin': 288, 'n_estimators': 180}. Best is trial 5 with value: 0.4235082247366586.\u001b[0m\n"
     ]
    },
    {
     "name": "stdout",
     "output_type": "stream",
     "text": [
      "Trial 5 finished with value: 0.4235082247366586 and parameters: {'lambda_l1': 4.496791174062579, 'lambda_l2': 0.000612013760106219, 'num_leaves': 100, 'feature_fraction': 0.6565211338929926, 'bagging_fraction': 0.9277029430467971, 'bagging_freq': 3, 'min_child_samples': 97, 'learning_rate': 0.00011283703507767392, 'max_bin': 288, 'n_estimators': 180}. Best is trial 5 with value: 0.4235082247366586.\n"
     ]
    },
    {
     "name": "stderr",
     "output_type": "stream",
     "text": [
      "\u001b[32m[I 2023-04-26 21:56:39,264]\u001b[0m Trial 7 finished with value: 0.4235082247366586 and parameters: {'lambda_l1': 1.8793157986706806e-08, 'lambda_l2': 7.03746696021021e-08, 'num_leaves': 118, 'feature_fraction': 0.7014529641391991, 'bagging_fraction': 0.5633518746744183, 'bagging_freq': 3, 'min_child_samples': 73, 'learning_rate': 0.0002478952959356982, 'max_bin': 256, 'n_estimators': 120}. Best is trial 5 with value: 0.4235082247366586.\u001b[0m\n"
     ]
    },
    {
     "name": "stdout",
     "output_type": "stream",
     "text": [
      "Trial 7 finished with value: 0.4235082247366586 and parameters: {'lambda_l1': 1.8793157986706806e-08, 'lambda_l2': 7.03746696021021e-08, 'num_leaves': 118, 'feature_fraction': 0.7014529641391991, 'bagging_fraction': 0.5633518746744183, 'bagging_freq': 3, 'min_child_samples': 73, 'learning_rate': 0.0002478952959356982, 'max_bin': 256, 'n_estimators': 120}. Best is trial 5 with value: 0.4235082247366586.\n"
     ]
    },
    {
     "name": "stderr",
     "output_type": "stream",
     "text": [
      "\u001b[32m[I 2023-04-26 21:56:40,294]\u001b[0m Trial 0 finished with value: 0.4235082247366586 and parameters: {'lambda_l1': 0.003794559193304904, 'lambda_l2': 0.6154894043457899, 'num_leaves': 105, 'feature_fraction': 0.601774324878128, 'bagging_fraction': 0.6786749272058372, 'bagging_freq': 6, 'min_child_samples': 94, 'learning_rate': 0.0023161976651961303, 'max_bin': 416, 'n_estimators': 160}. Best is trial 5 with value: 0.4235082247366586.\u001b[0m\n"
     ]
    },
    {
     "name": "stdout",
     "output_type": "stream",
     "text": [
      "Trial 0 finished with value: 0.4235082247366586 and parameters: {'lambda_l1': 0.003794559193304904, 'lambda_l2': 0.6154894043457899, 'num_leaves': 105, 'feature_fraction': 0.601774324878128, 'bagging_fraction': 0.6786749272058372, 'bagging_freq': 6, 'min_child_samples': 94, 'learning_rate': 0.0023161976651961303, 'max_bin': 416, 'n_estimators': 160}. Best is trial 5 with value: 0.4235082247366586.\n"
     ]
    },
    {
     "name": "stderr",
     "output_type": "stream",
     "text": [
      "\u001b[32m[I 2023-04-26 21:56:58,578]\u001b[0m Trial 6 finished with value: 0.7265285387632892 and parameters: {'lambda_l1': 4.42522248721259, 'lambda_l2': 1.8767849186266793e-06, 'num_leaves': 230, 'feature_fraction': 0.508861183839956, 'bagging_fraction': 0.7815656077283852, 'bagging_freq': 7, 'min_child_samples': 68, 'learning_rate': 0.03895272788271125, 'max_bin': 320, 'n_estimators': 380}. Best is trial 5 with value: 0.4235082247366586.\u001b[0m\n"
     ]
    },
    {
     "name": "stdout",
     "output_type": "stream",
     "text": [
      "Trial 6 finished with value: 0.7265285387632892 and parameters: {'lambda_l1': 4.42522248721259, 'lambda_l2': 1.8767849186266793e-06, 'num_leaves': 230, 'feature_fraction': 0.508861183839956, 'bagging_fraction': 0.7815656077283852, 'bagging_freq': 7, 'min_child_samples': 68, 'learning_rate': 0.03895272788271125, 'max_bin': 320, 'n_estimators': 380}. Best is trial 5 with value: 0.4235082247366586.\n"
     ]
    },
    {
     "name": "stderr",
     "output_type": "stream",
     "text": [
      "\u001b[32m[I 2023-04-26 21:57:16,697]\u001b[0m Trial 2 finished with value: 0.7082282316547065 and parameters: {'lambda_l1': 0.003910737289204815, 'lambda_l2': 0.01513734244260219, 'num_leaves': 98, 'feature_fraction': 0.4346112851629354, 'bagging_fraction': 0.9593137033273504, 'bagging_freq': 6, 'min_child_samples': 72, 'learning_rate': 0.09214666406828496, 'max_bin': 320, 'n_estimators': 260}. Best is trial 5 with value: 0.4235082247366586.\u001b[0m\n"
     ]
    },
    {
     "name": "stdout",
     "output_type": "stream",
     "text": [
      "Trial 2 finished with value: 0.7082282316547065 and parameters: {'lambda_l1': 0.003910737289204815, 'lambda_l2': 0.01513734244260219, 'num_leaves': 98, 'feature_fraction': 0.4346112851629354, 'bagging_fraction': 0.9593137033273504, 'bagging_freq': 6, 'min_child_samples': 72, 'learning_rate': 0.09214666406828496, 'max_bin': 320, 'n_estimators': 260}. Best is trial 5 with value: 0.4235082247366586.\n"
     ]
    },
    {
     "name": "stderr",
     "output_type": "stream",
     "text": [
      "\u001b[32m[I 2023-04-26 21:57:32,511]\u001b[0m Trial 12 finished with value: 0.7236188177590547 and parameters: {'lambda_l1': 0.0005117057428555102, 'lambda_l2': 0.006965829987933876, 'num_leaves': 133, 'feature_fraction': 0.5955227407774499, 'bagging_fraction': 0.6826385809764808, 'bagging_freq': 5, 'min_child_samples': 62, 'learning_rate': 0.03517532930344647, 'max_bin': 320, 'n_estimators': 180}. Best is trial 5 with value: 0.4235082247366586.\u001b[0m\n"
     ]
    },
    {
     "name": "stdout",
     "output_type": "stream",
     "text": [
      "Trial 12 finished with value: 0.7236188177590547 and parameters: {'lambda_l1': 0.0005117057428555102, 'lambda_l2': 0.006965829987933876, 'num_leaves': 133, 'feature_fraction': 0.5955227407774499, 'bagging_fraction': 0.6826385809764808, 'bagging_freq': 5, 'min_child_samples': 62, 'learning_rate': 0.03517532930344647, 'max_bin': 320, 'n_estimators': 180}. Best is trial 5 with value: 0.4235082247366586.\n"
     ]
    },
    {
     "name": "stderr",
     "output_type": "stream",
     "text": [
      "\u001b[32m[I 2023-04-26 21:57:39,632]\u001b[0m Trial 13 finished with value: 0.7221821556240089 and parameters: {'lambda_l1': 3.068539523780704e-05, 'lambda_l2': 0.002511418991062922, 'num_leaves': 37, 'feature_fraction': 0.6044469660506546, 'bagging_fraction': 0.8131381633496206, 'bagging_freq': 5, 'min_child_samples': 54, 'learning_rate': 0.02744326259000487, 'max_bin': 384, 'n_estimators': 140}. Best is trial 5 with value: 0.4235082247366586.\u001b[0m\n"
     ]
    },
    {
     "name": "stdout",
     "output_type": "stream",
     "text": [
      "Trial 13 finished with value: 0.7221821556240089 and parameters: {'lambda_l1': 3.068539523780704e-05, 'lambda_l2': 0.002511418991062922, 'num_leaves': 37, 'feature_fraction': 0.6044469660506546, 'bagging_fraction': 0.8131381633496206, 'bagging_freq': 5, 'min_child_samples': 54, 'learning_rate': 0.02744326259000487, 'max_bin': 384, 'n_estimators': 140}. Best is trial 5 with value: 0.4235082247366586.\n"
     ]
    },
    {
     "name": "stderr",
     "output_type": "stream",
     "text": [
      "\u001b[32m[I 2023-04-26 21:57:42,290]\u001b[0m Trial 9 finished with value: 0.7127814694230292 and parameters: {'lambda_l1': 1.0294972624490543e-05, 'lambda_l2': 0.0017009778095421122, 'num_leaves': 125, 'feature_fraction': 0.7398171792302985, 'bagging_fraction': 0.8501549490306263, 'bagging_freq': 3, 'min_child_samples': 80, 'learning_rate': 0.007284164952600397, 'max_bin': 384, 'n_estimators': 300}. Best is trial 5 with value: 0.4235082247366586.\u001b[0m\n"
     ]
    },
    {
     "name": "stdout",
     "output_type": "stream",
     "text": [
      "Trial 9 finished with value: 0.7127814694230292 and parameters: {'lambda_l1': 1.0294972624490543e-05, 'lambda_l2': 0.0017009778095421122, 'num_leaves': 125, 'feature_fraction': 0.7398171792302985, 'bagging_fraction': 0.8501549490306263, 'bagging_freq': 3, 'min_child_samples': 80, 'learning_rate': 0.007284164952600397, 'max_bin': 384, 'n_estimators': 300}. Best is trial 5 with value: 0.4235082247366586.\n"
     ]
    },
    {
     "name": "stderr",
     "output_type": "stream",
     "text": [
      "\u001b[32m[I 2023-04-26 21:57:49,691]\u001b[0m Trial 11 finished with value: 0.4963819785413051 and parameters: {'lambda_l1': 2.950780129711847e-05, 'lambda_l2': 0.00016127882839972024, 'num_leaves': 164, 'feature_fraction': 0.6169654894572002, 'bagging_fraction': 0.6315885806772508, 'bagging_freq': 4, 'min_child_samples': 41, 'learning_rate': 0.0025651137810712133, 'max_bin': 352, 'n_estimators': 240}. Best is trial 5 with value: 0.4235082247366586.\u001b[0m\n"
     ]
    },
    {
     "name": "stdout",
     "output_type": "stream",
     "text": [
      "Trial 11 finished with value: 0.4963819785413051 and parameters: {'lambda_l1': 2.950780129711847e-05, 'lambda_l2': 0.00016127882839972024, 'num_leaves': 164, 'feature_fraction': 0.6169654894572002, 'bagging_fraction': 0.6315885806772508, 'bagging_freq': 4, 'min_child_samples': 41, 'learning_rate': 0.0025651137810712133, 'max_bin': 352, 'n_estimators': 240}. Best is trial 5 with value: 0.4235082247366586.\n"
     ]
    },
    {
     "name": "stderr",
     "output_type": "stream",
     "text": [
      "\u001b[32m[I 2023-04-26 21:58:00,491]\u001b[0m Trial 10 finished with value: 0.7191344808590985 and parameters: {'lambda_l1': 0.0004862215793549142, 'lambda_l2': 0.015169826554356678, 'num_leaves': 118, 'feature_fraction': 0.7233968292849686, 'bagging_fraction': 0.7910776767009089, 'bagging_freq': 5, 'min_child_samples': 41, 'learning_rate': 0.02350563367779821, 'max_bin': 352, 'n_estimators': 240}. Best is trial 5 with value: 0.4235082247366586.\u001b[0m\n"
     ]
    },
    {
     "name": "stdout",
     "output_type": "stream",
     "text": [
      "Trial 10 finished with value: 0.7191344808590985 and parameters: {'lambda_l1': 0.0004862215793549142, 'lambda_l2': 0.015169826554356678, 'num_leaves': 118, 'feature_fraction': 0.7233968292849686, 'bagging_fraction': 0.7910776767009089, 'bagging_freq': 5, 'min_child_samples': 41, 'learning_rate': 0.02350563367779821, 'max_bin': 352, 'n_estimators': 240}. Best is trial 5 with value: 0.4235082247366586.\n"
     ]
    },
    {
     "name": "stderr",
     "output_type": "stream",
     "text": [
      "\u001b[32m[I 2023-04-26 21:58:04,613]\u001b[0m Trial 8 finished with value: 0.7204496062097221 and parameters: {'lambda_l1': 0.0001085177632369296, 'lambda_l2': 0.00033481905806464763, 'num_leaves': 198, 'feature_fraction': 0.7381311911506477, 'bagging_fraction': 0.5934634962331308, 'bagging_freq': 2, 'min_child_samples': 33, 'learning_rate': 0.00984674505152094, 'max_bin': 352, 'n_estimators': 280}. Best is trial 5 with value: 0.4235082247366586.\u001b[0m\n"
     ]
    },
    {
     "name": "stdout",
     "output_type": "stream",
     "text": [
      "Trial 8 finished with value: 0.7204496062097221 and parameters: {'lambda_l1': 0.0001085177632369296, 'lambda_l2': 0.00033481905806464763, 'num_leaves': 198, 'feature_fraction': 0.7381311911506477, 'bagging_fraction': 0.5934634962331308, 'bagging_freq': 2, 'min_child_samples': 33, 'learning_rate': 0.00984674505152094, 'max_bin': 352, 'n_estimators': 280}. Best is trial 5 with value: 0.4235082247366586.\n"
     ]
    },
    {
     "name": "stderr",
     "output_type": "stream",
     "text": [
      "\u001b[32m[I 2023-04-26 21:58:13,438]\u001b[0m Trial 16 finished with value: 0.4235082247366586 and parameters: {'lambda_l1': 0.002133585621237185, 'lambda_l2': 0.0008577438527117182, 'num_leaves': 175, 'feature_fraction': 0.7131261268522244, 'bagging_fraction': 0.6181159833020071, 'bagging_freq': 5, 'min_child_samples': 78, 'learning_rate': 0.0005688423061920447, 'max_bin': 352, 'n_estimators': 100}. Best is trial 5 with value: 0.4235082247366586.\u001b[0m\n"
     ]
    },
    {
     "name": "stdout",
     "output_type": "stream",
     "text": [
      "Trial 16 finished with value: 0.4235082247366586 and parameters: {'lambda_l1': 0.002133585621237185, 'lambda_l2': 0.0008577438527117182, 'num_leaves': 175, 'feature_fraction': 0.7131261268522244, 'bagging_fraction': 0.6181159833020071, 'bagging_freq': 5, 'min_child_samples': 78, 'learning_rate': 0.0005688423061920447, 'max_bin': 352, 'n_estimators': 100}. Best is trial 5 with value: 0.4235082247366586.\n"
     ]
    },
    {
     "name": "stderr",
     "output_type": "stream",
     "text": [
      "\u001b[32m[I 2023-04-26 21:58:24,471]\u001b[0m Trial 14 finished with value: 0.5701266383224441 and parameters: {'lambda_l1': 1.1739563543832058e-05, 'lambda_l2': 0.005079754110321929, 'num_leaves': 97, 'feature_fraction': 0.7441914436821913, 'bagging_fraction': 0.719954642786498, 'bagging_freq': 2, 'min_child_samples': 71, 'learning_rate': 0.0024723695006481586, 'max_bin': 384, 'n_estimators': 300}. Best is trial 5 with value: 0.4235082247366586.\u001b[0m\n"
     ]
    },
    {
     "name": "stdout",
     "output_type": "stream",
     "text": [
      "Trial 14 finished with value: 0.5701266383224441 and parameters: {'lambda_l1': 1.1739563543832058e-05, 'lambda_l2': 0.005079754110321929, 'num_leaves': 97, 'feature_fraction': 0.7441914436821913, 'bagging_fraction': 0.719954642786498, 'bagging_freq': 2, 'min_child_samples': 71, 'learning_rate': 0.0024723695006481586, 'max_bin': 384, 'n_estimators': 300}. Best is trial 5 with value: 0.4235082247366586.\n"
     ]
    },
    {
     "name": "stderr",
     "output_type": "stream",
     "text": [
      "\u001b[32m[I 2023-04-26 21:58:30,194]\u001b[0m Trial 15 finished with value: 0.7295286246988901 and parameters: {'lambda_l1': 0.006077299646654025, 'lambda_l2': 0.00012549609648231772, 'num_leaves': 144, 'feature_fraction': 0.7638370598473596, 'bagging_fraction': 0.4957898953100847, 'bagging_freq': 3, 'min_child_samples': 69, 'learning_rate': 0.022664911890791724, 'max_bin': 480, 'n_estimators': 280}. Best is trial 5 with value: 0.4235082247366586.\u001b[0m\n"
     ]
    },
    {
     "name": "stdout",
     "output_type": "stream",
     "text": [
      "Trial 15 finished with value: 0.7295286246988901 and parameters: {'lambda_l1': 0.006077299646654025, 'lambda_l2': 0.00012549609648231772, 'num_leaves': 144, 'feature_fraction': 0.7638370598473596, 'bagging_fraction': 0.4957898953100847, 'bagging_freq': 3, 'min_child_samples': 69, 'learning_rate': 0.022664911890791724, 'max_bin': 480, 'n_estimators': 280}. Best is trial 5 with value: 0.4235082247366586.\n"
     ]
    },
    {
     "name": "stderr",
     "output_type": "stream",
     "text": [
      "\u001b[32m[I 2023-04-26 21:58:46,840]\u001b[0m Trial 17 finished with value: 0.4235082247366586 and parameters: {'lambda_l1': 0.026473371893423768, 'lambda_l2': 7.46087577455392e-05, 'num_leaves': 147, 'feature_fraction': 0.4942943667947235, 'bagging_fraction': 0.7985930362163047, 'bagging_freq': 2, 'min_child_samples': 46, 'learning_rate': 0.002095386140872213, 'max_bin': 352, 'n_estimators': 160}. Best is trial 5 with value: 0.4235082247366586.\u001b[0m\n"
     ]
    },
    {
     "name": "stdout",
     "output_type": "stream",
     "text": [
      "Trial 17 finished with value: 0.4235082247366586 and parameters: {'lambda_l1': 0.026473371893423768, 'lambda_l2': 7.46087577455392e-05, 'num_leaves': 147, 'feature_fraction': 0.4942943667947235, 'bagging_fraction': 0.7985930362163047, 'bagging_freq': 2, 'min_child_samples': 46, 'learning_rate': 0.002095386140872213, 'max_bin': 352, 'n_estimators': 160}. Best is trial 5 with value: 0.4235082247366586.\n"
     ]
    },
    {
     "name": "stderr",
     "output_type": "stream",
     "text": [
      "\u001b[32m[I 2023-04-26 21:59:11,713]\u001b[0m Trial 19 finished with value: 0.7245230543069855 and parameters: {'lambda_l1': 1.2259013764341677, 'lambda_l2': 0.0002955341964778695, 'num_leaves': 123, 'feature_fraction': 0.9380508644552307, 'bagging_fraction': 0.884410118282574, 'bagging_freq': 4, 'min_child_samples': 45, 'learning_rate': 0.011587723254757966, 'max_bin': 352, 'n_estimators': 260}. Best is trial 5 with value: 0.4235082247366586.\u001b[0m\n"
     ]
    },
    {
     "name": "stdout",
     "output_type": "stream",
     "text": [
      "Trial 19 finished with value: 0.7245230543069855 and parameters: {'lambda_l1': 1.2259013764341677, 'lambda_l2': 0.0002955341964778695, 'num_leaves': 123, 'feature_fraction': 0.9380508644552307, 'bagging_fraction': 0.884410118282574, 'bagging_freq': 4, 'min_child_samples': 45, 'learning_rate': 0.011587723254757966, 'max_bin': 352, 'n_estimators': 260}. Best is trial 5 with value: 0.4235082247366586.\n"
     ]
    },
    {
     "name": "stderr",
     "output_type": "stream",
     "text": [
      "\u001b[32m[I 2023-04-26 21:59:12,454]\u001b[0m Trial 20 finished with value: 0.4235082247366586 and parameters: {'lambda_l1': 0.0001987016505609363, 'lambda_l2': 0.0936360528661082, 'num_leaves': 129, 'feature_fraction': 0.5772837420879483, 'bagging_fraction': 0.7762392207404161, 'bagging_freq': 2, 'min_child_samples': 57, 'learning_rate': 0.001501615837328021, 'max_bin': 512, 'n_estimators': 260}. Best is trial 5 with value: 0.4235082247366586.\u001b[0m\n"
     ]
    },
    {
     "name": "stdout",
     "output_type": "stream",
     "text": [
      "Trial 20 finished with value: 0.4235082247366586 and parameters: {'lambda_l1': 0.0001987016505609363, 'lambda_l2': 0.0936360528661082, 'num_leaves': 129, 'feature_fraction': 0.5772837420879483, 'bagging_fraction': 0.7762392207404161, 'bagging_freq': 2, 'min_child_samples': 57, 'learning_rate': 0.001501615837328021, 'max_bin': 512, 'n_estimators': 260}. Best is trial 5 with value: 0.4235082247366586.\n"
     ]
    },
    {
     "name": "stderr",
     "output_type": "stream",
     "text": [
      "\u001b[32m[I 2023-04-26 21:59:14,445]\u001b[0m Trial 21 finished with value: 0.7247177859885826 and parameters: {'lambda_l1': 0.03353200156665507, 'lambda_l2': 7.584991190458851e-05, 'num_leaves': 179, 'feature_fraction': 0.6842407028760097, 'bagging_fraction': 0.7009988707049546, 'bagging_freq': 1, 'min_child_samples': 54, 'learning_rate': 0.020798374920210486, 'max_bin': 288, 'n_estimators': 220}. Best is trial 5 with value: 0.4235082247366586.\u001b[0m\n"
     ]
    },
    {
     "name": "stdout",
     "output_type": "stream",
     "text": [
      "Trial 21 finished with value: 0.7247177859885826 and parameters: {'lambda_l1': 0.03353200156665507, 'lambda_l2': 7.584991190458851e-05, 'num_leaves': 179, 'feature_fraction': 0.6842407028760097, 'bagging_fraction': 0.7009988707049546, 'bagging_freq': 1, 'min_child_samples': 54, 'learning_rate': 0.020798374920210486, 'max_bin': 288, 'n_estimators': 220}. Best is trial 5 with value: 0.4235082247366586.\n"
     ]
    },
    {
     "name": "stderr",
     "output_type": "stream",
     "text": [
      "\u001b[32m[I 2023-04-26 21:59:21,830]\u001b[0m Trial 18 finished with value: 0.7200009039713511 and parameters: {'lambda_l1': 1.6309127005373238e-05, 'lambda_l2': 2.24686161663669e-05, 'num_leaves': 229, 'feature_fraction': 0.680163555357137, 'bagging_fraction': 0.783179371203975, 'bagging_freq': 4, 'min_child_samples': 31, 'learning_rate': 0.013271590617105755, 'max_bin': 288, 'n_estimators': 200}. Best is trial 5 with value: 0.4235082247366586.\u001b[0m\n"
     ]
    },
    {
     "name": "stdout",
     "output_type": "stream",
     "text": [
      "Trial 18 finished with value: 0.7200009039713511 and parameters: {'lambda_l1': 1.6309127005373238e-05, 'lambda_l2': 2.24686161663669e-05, 'num_leaves': 229, 'feature_fraction': 0.680163555357137, 'bagging_fraction': 0.783179371203975, 'bagging_freq': 4, 'min_child_samples': 31, 'learning_rate': 0.013271590617105755, 'max_bin': 288, 'n_estimators': 200}. Best is trial 5 with value: 0.4235082247366586.\n"
     ]
    },
    {
     "name": "stderr",
     "output_type": "stream",
     "text": [
      "\u001b[32m[I 2023-04-26 21:59:25,157]\u001b[0m Trial 23 finished with value: 0.7052974538768557 and parameters: {'lambda_l1': 4.7041902852272645e-05, 'lambda_l2': 1.1153870570307009e-05, 'num_leaves': 107, 'feature_fraction': 0.7263698263213738, 'bagging_fraction': 0.7017138477267462, 'bagging_freq': 5, 'min_child_samples': 76, 'learning_rate': 0.00741000677035772, 'max_bin': 224, 'n_estimators': 240}. Best is trial 5 with value: 0.4235082247366586.\u001b[0m\n"
     ]
    },
    {
     "name": "stdout",
     "output_type": "stream",
     "text": [
      "Trial 23 finished with value: 0.7052974538768557 and parameters: {'lambda_l1': 4.7041902852272645e-05, 'lambda_l2': 1.1153870570307009e-05, 'num_leaves': 107, 'feature_fraction': 0.7263698263213738, 'bagging_fraction': 0.7017138477267462, 'bagging_freq': 5, 'min_child_samples': 76, 'learning_rate': 0.00741000677035772, 'max_bin': 224, 'n_estimators': 240}. Best is trial 5 with value: 0.4235082247366586.\n"
     ]
    },
    {
     "name": "stderr",
     "output_type": "stream",
     "text": [
      "\u001b[32m[I 2023-04-26 21:59:42,337]\u001b[0m Trial 24 finished with value: 0.4647921718693221 and parameters: {'lambda_l1': 0.0005333052153570391, 'lambda_l2': 1.561244892589828e-05, 'num_leaves': 157, 'feature_fraction': 0.5779016751238185, 'bagging_fraction': 0.7435798523082545, 'bagging_freq': 2, 'min_child_samples': 71, 'learning_rate': 0.0027554807118625904, 'max_bin': 480, 'n_estimators': 220}. Best is trial 5 with value: 0.4235082247366586.\u001b[0m\n"
     ]
    },
    {
     "name": "stdout",
     "output_type": "stream",
     "text": [
      "Trial 24 finished with value: 0.4647921718693221 and parameters: {'lambda_l1': 0.0005333052153570391, 'lambda_l2': 1.561244892589828e-05, 'num_leaves': 157, 'feature_fraction': 0.5779016751238185, 'bagging_fraction': 0.7435798523082545, 'bagging_freq': 2, 'min_child_samples': 71, 'learning_rate': 0.0027554807118625904, 'max_bin': 480, 'n_estimators': 220}. Best is trial 5 with value: 0.4235082247366586.\n"
     ]
    },
    {
     "name": "stderr",
     "output_type": "stream",
     "text": [
      "\u001b[32m[I 2023-04-26 21:59:54,121]\u001b[0m Trial 25 finished with value: 0.4235082247366586 and parameters: {'lambda_l1': 0.1343773329137853, 'lambda_l2': 0.00015339668612022298, 'num_leaves': 123, 'feature_fraction': 0.6693977078691773, 'bagging_fraction': 0.7293398441718523, 'bagging_freq': 3, 'min_child_samples': 65, 'learning_rate': 0.0005663109578118587, 'max_bin': 352, 'n_estimators': 140}. Best is trial 5 with value: 0.4235082247366586.\u001b[0m\n"
     ]
    },
    {
     "name": "stdout",
     "output_type": "stream",
     "text": [
      "Trial 25 finished with value: 0.4235082247366586 and parameters: {'lambda_l1': 0.1343773329137853, 'lambda_l2': 0.00015339668612022298, 'num_leaves': 123, 'feature_fraction': 0.6693977078691773, 'bagging_fraction': 0.7293398441718523, 'bagging_freq': 3, 'min_child_samples': 65, 'learning_rate': 0.0005663109578118587, 'max_bin': 352, 'n_estimators': 140}. Best is trial 5 with value: 0.4235082247366586.\n"
     ]
    },
    {
     "name": "stderr",
     "output_type": "stream",
     "text": [
      "\u001b[32m[I 2023-04-26 22:00:00,007]\u001b[0m Trial 22 finished with value: 0.7059193262326448 and parameters: {'lambda_l1': 3.05518403567864e-06, 'lambda_l2': 0.003430942902730991, 'num_leaves': 130, 'feature_fraction': 0.7010102387035586, 'bagging_fraction': 0.757387919062724, 'bagging_freq': 4, 'min_child_samples': 47, 'learning_rate': 0.05818911042675295, 'max_bin': 320, 'n_estimators': 300}. Best is trial 5 with value: 0.4235082247366586.\u001b[0m\n"
     ]
    },
    {
     "name": "stdout",
     "output_type": "stream",
     "text": [
      "Trial 22 finished with value: 0.7059193262326448 and parameters: {'lambda_l1': 3.05518403567864e-06, 'lambda_l2': 0.003430942902730991, 'num_leaves': 130, 'feature_fraction': 0.7010102387035586, 'bagging_fraction': 0.757387919062724, 'bagging_freq': 4, 'min_child_samples': 47, 'learning_rate': 0.05818911042675295, 'max_bin': 320, 'n_estimators': 300}. Best is trial 5 with value: 0.4235082247366586.\n"
     ]
    },
    {
     "name": "stderr",
     "output_type": "stream",
     "text": [
      "\u001b[32m[I 2023-04-26 22:00:01,708]\u001b[0m Trial 1 finished with value: 0.4296022167760862 and parameters: {'lambda_l1': 2.057220960414258e-05, 'lambda_l2': 1.226134414057479e-08, 'num_leaves': 183, 'feature_fraction': 0.777945633563689, 'bagging_fraction': 0.7668364742005638, 'bagging_freq': 4, 'min_child_samples': 9, 'learning_rate': 0.0012478782244765272, 'max_bin': 416, 'n_estimators': 360}. Best is trial 5 with value: 0.4235082247366586.\u001b[0m\n"
     ]
    },
    {
     "name": "stdout",
     "output_type": "stream",
     "text": [
      "Trial 1 finished with value: 0.4296022167760862 and parameters: {'lambda_l1': 2.057220960414258e-05, 'lambda_l2': 1.226134414057479e-08, 'num_leaves': 183, 'feature_fraction': 0.777945633563689, 'bagging_fraction': 0.7668364742005638, 'bagging_freq': 4, 'min_child_samples': 9, 'learning_rate': 0.0012478782244765272, 'max_bin': 416, 'n_estimators': 360}. Best is trial 5 with value: 0.4235082247366586.\n"
     ]
    },
    {
     "name": "stderr",
     "output_type": "stream",
     "text": [
      "\u001b[32m[I 2023-04-26 22:00:06,677]\u001b[0m Trial 26 finished with value: 0.7252039878648813 and parameters: {'lambda_l1': 0.0001584722729397901, 'lambda_l2': 0.009021078757985114, 'num_leaves': 195, 'feature_fraction': 0.6200355250139156, 'bagging_fraction': 0.6735427010317007, 'bagging_freq': 3, 'min_child_samples': 83, 'learning_rate': 0.027365852833081364, 'max_bin': 416, 'n_estimators': 220}. Best is trial 5 with value: 0.4235082247366586.\u001b[0m\n"
     ]
    },
    {
     "name": "stdout",
     "output_type": "stream",
     "text": [
      "Trial 26 finished with value: 0.7252039878648813 and parameters: {'lambda_l1': 0.0001584722729397901, 'lambda_l2': 0.009021078757985114, 'num_leaves': 195, 'feature_fraction': 0.6200355250139156, 'bagging_fraction': 0.6735427010317007, 'bagging_freq': 3, 'min_child_samples': 83, 'learning_rate': 0.027365852833081364, 'max_bin': 416, 'n_estimators': 220}. Best is trial 5 with value: 0.4235082247366586.\n"
     ]
    },
    {
     "name": "stderr",
     "output_type": "stream",
     "text": [
      "\u001b[32m[I 2023-04-26 22:00:22,202]\u001b[0m Trial 30 finished with value: 0.4235082247366586 and parameters: {'lambda_l1': 0.0009717121402260743, 'lambda_l2': 0.00014832554914101498, 'num_leaves': 149, 'feature_fraction': 0.5077094043475243, 'bagging_fraction': 0.7538583499956746, 'bagging_freq': 3, 'min_child_samples': 77, 'learning_rate': 0.0005104077393763588, 'max_bin': 384, 'n_estimators': 100}. Best is trial 5 with value: 0.4235082247366586.\u001b[0m\n"
     ]
    },
    {
     "name": "stdout",
     "output_type": "stream",
     "text": [
      "Trial 30 finished with value: 0.4235082247366586 and parameters: {'lambda_l1': 0.0009717121402260743, 'lambda_l2': 0.00014832554914101498, 'num_leaves': 149, 'feature_fraction': 0.5077094043475243, 'bagging_fraction': 0.7538583499956746, 'bagging_freq': 3, 'min_child_samples': 77, 'learning_rate': 0.0005104077393763588, 'max_bin': 384, 'n_estimators': 100}. Best is trial 5 with value: 0.4235082247366586.\n"
     ]
    },
    {
     "name": "stderr",
     "output_type": "stream",
     "text": [
      "\u001b[32m[I 2023-04-26 22:00:32,017]\u001b[0m Trial 28 finished with value: 0.4235082247366586 and parameters: {'lambda_l1': 0.0006848985059261791, 'lambda_l2': 9.830835918906725e-05, 'num_leaves': 214, 'feature_fraction': 0.6516779534344779, 'bagging_fraction': 0.6955263254940055, 'bagging_freq': 4, 'min_child_samples': 47, 'learning_rate': 0.0013445226953895679, 'max_bin': 512, 'n_estimators': 220}. Best is trial 5 with value: 0.4235082247366586.\u001b[0m\n"
     ]
    },
    {
     "name": "stdout",
     "output_type": "stream",
     "text": [
      "Trial 28 finished with value: 0.4235082247366586 and parameters: {'lambda_l1': 0.0006848985059261791, 'lambda_l2': 9.830835918906725e-05, 'num_leaves': 214, 'feature_fraction': 0.6516779534344779, 'bagging_fraction': 0.6955263254940055, 'bagging_freq': 4, 'min_child_samples': 47, 'learning_rate': 0.0013445226953895679, 'max_bin': 512, 'n_estimators': 220}. Best is trial 5 with value: 0.4235082247366586.\n"
     ]
    },
    {
     "name": "stderr",
     "output_type": "stream",
     "text": [
      "\u001b[32m[I 2023-04-26 22:00:50,610]\u001b[0m Trial 32 finished with value: 0.4235082247366586 and parameters: {'lambda_l1': 0.0023504131832336426, 'lambda_l2': 0.0003345648060106819, 'num_leaves': 116, 'feature_fraction': 0.7084233885069295, 'bagging_fraction': 0.6117956700320719, 'bagging_freq': 3, 'min_child_samples': 61, 'learning_rate': 0.0015100891154366928, 'max_bin': 352, 'n_estimators': 200}. Best is trial 5 with value: 0.4235082247366586.\u001b[0m\n"
     ]
    },
    {
     "name": "stdout",
     "output_type": "stream",
     "text": [
      "Trial 32 finished with value: 0.4235082247366586 and parameters: {'lambda_l1': 0.0023504131832336426, 'lambda_l2': 0.0003345648060106819, 'num_leaves': 116, 'feature_fraction': 0.7084233885069295, 'bagging_fraction': 0.6117956700320719, 'bagging_freq': 3, 'min_child_samples': 61, 'learning_rate': 0.0015100891154366928, 'max_bin': 352, 'n_estimators': 200}. Best is trial 5 with value: 0.4235082247366586.\n"
     ]
    },
    {
     "name": "stderr",
     "output_type": "stream",
     "text": [
      "\u001b[32m[I 2023-04-26 22:00:51,220]\u001b[0m Trial 31 finished with value: 0.4235082247366586 and parameters: {'lambda_l1': 0.0017257527882981283, 'lambda_l2': 0.0003919601374562326, 'num_leaves': 220, 'feature_fraction': 0.864407243207137, 'bagging_fraction': 0.9106298293889803, 'bagging_freq': 4, 'min_child_samples': 81, 'learning_rate': 0.00047577823768574375, 'max_bin': 288, 'n_estimators': 200}. Best is trial 5 with value: 0.4235082247366586.\u001b[0m\n"
     ]
    },
    {
     "name": "stdout",
     "output_type": "stream",
     "text": [
      "Trial 31 finished with value: 0.4235082247366586 and parameters: {'lambda_l1': 0.0017257527882981283, 'lambda_l2': 0.0003919601374562326, 'num_leaves': 220, 'feature_fraction': 0.864407243207137, 'bagging_fraction': 0.9106298293889803, 'bagging_freq': 4, 'min_child_samples': 81, 'learning_rate': 0.00047577823768574375, 'max_bin': 288, 'n_estimators': 200}. Best is trial 5 with value: 0.4235082247366586.\n"
     ]
    },
    {
     "name": "stderr",
     "output_type": "stream",
     "text": [
      "\u001b[32m[I 2023-04-26 22:00:52,768]\u001b[0m Trial 29 finished with value: 0.4235082247366586 and parameters: {'lambda_l1': 0.0020829506830174743, 'lambda_l2': 0.00021136341853158922, 'num_leaves': 119, 'feature_fraction': 0.5411655729242193, 'bagging_fraction': 0.8725154208870947, 'bagging_freq': 2, 'min_child_samples': 31, 'learning_rate': 0.001326674080280392, 'max_bin': 352, 'n_estimators': 160}. Best is trial 5 with value: 0.4235082247366586.\u001b[0m\n"
     ]
    },
    {
     "name": "stdout",
     "output_type": "stream",
     "text": [
      "Trial 29 finished with value: 0.4235082247366586 and parameters: {'lambda_l1': 0.0020829506830174743, 'lambda_l2': 0.00021136341853158922, 'num_leaves': 119, 'feature_fraction': 0.5411655729242193, 'bagging_fraction': 0.8725154208870947, 'bagging_freq': 2, 'min_child_samples': 31, 'learning_rate': 0.001326674080280392, 'max_bin': 352, 'n_estimators': 160}. Best is trial 5 with value: 0.4235082247366586.\n"
     ]
    },
    {
     "name": "stderr",
     "output_type": "stream",
     "text": [
      "\u001b[32m[I 2023-04-26 22:00:55,964]\u001b[0m Trial 33 finished with value: 0.4235082247366586 and parameters: {'lambda_l1': 1.8357536175676748e-05, 'lambda_l2': 0.0023338729936500284, 'num_leaves': 180, 'feature_fraction': 0.6075217738030629, 'bagging_fraction': 0.7128874412919011, 'bagging_freq': 5, 'min_child_samples': 42, 'learning_rate': 0.0006076830989775877, 'max_bin': 448, 'n_estimators': 140}. Best is trial 5 with value: 0.4235082247366586.\u001b[0m\n"
     ]
    },
    {
     "name": "stdout",
     "output_type": "stream",
     "text": [
      "Trial 33 finished with value: 0.4235082247366586 and parameters: {'lambda_l1': 1.8357536175676748e-05, 'lambda_l2': 0.0023338729936500284, 'num_leaves': 180, 'feature_fraction': 0.6075217738030629, 'bagging_fraction': 0.7128874412919011, 'bagging_freq': 5, 'min_child_samples': 42, 'learning_rate': 0.0006076830989775877, 'max_bin': 448, 'n_estimators': 140}. Best is trial 5 with value: 0.4235082247366586.\n"
     ]
    },
    {
     "name": "stderr",
     "output_type": "stream",
     "text": [
      "\u001b[32m[I 2023-04-26 22:00:57,222]\u001b[0m Trial 27 finished with value: 0.6668835851350419 and parameters: {'lambda_l1': 0.0004841156671159634, 'lambda_l2': 0.0001633633292214134, 'num_leaves': 106, 'feature_fraction': 0.5495030257592295, 'bagging_fraction': 0.7310362250273497, 'bagging_freq': 4, 'min_child_samples': 23, 'learning_rate': 0.006510839307992801, 'max_bin': 448, 'n_estimators': 200}. Best is trial 5 with value: 0.4235082247366586.\u001b[0m\n"
     ]
    },
    {
     "name": "stdout",
     "output_type": "stream",
     "text": [
      "Trial 27 finished with value: 0.6668835851350419 and parameters: {'lambda_l1': 0.0004841156671159634, 'lambda_l2': 0.0001633633292214134, 'num_leaves': 106, 'feature_fraction': 0.5495030257592295, 'bagging_fraction': 0.7310362250273497, 'bagging_freq': 4, 'min_child_samples': 23, 'learning_rate': 0.006510839307992801, 'max_bin': 448, 'n_estimators': 200}. Best is trial 5 with value: 0.4235082247366586.\n"
     ]
    },
    {
     "name": "stderr",
     "output_type": "stream",
     "text": [
      "\u001b[32m[I 2023-04-26 22:01:04,573]\u001b[0m Trial 34 finished with value: 0.4235082247366586 and parameters: {'lambda_l1': 0.00037977111511818527, 'lambda_l2': 1.2100202799020918e-05, 'num_leaves': 94, 'feature_fraction': 0.7994716940013217, 'bagging_fraction': 0.6482056850753264, 'bagging_freq': 4, 'min_child_samples': 39, 'learning_rate': 0.0020216943024731373, 'max_bin': 256, 'n_estimators': 160}. Best is trial 5 with value: 0.4235082247366586.\u001b[0m\n"
     ]
    },
    {
     "name": "stdout",
     "output_type": "stream",
     "text": [
      "Trial 34 finished with value: 0.4235082247366586 and parameters: {'lambda_l1': 0.00037977111511818527, 'lambda_l2': 1.2100202799020918e-05, 'num_leaves': 94, 'feature_fraction': 0.7994716940013217, 'bagging_fraction': 0.6482056850753264, 'bagging_freq': 4, 'min_child_samples': 39, 'learning_rate': 0.0020216943024731373, 'max_bin': 256, 'n_estimators': 160}. Best is trial 5 with value: 0.4235082247366586.\n"
     ]
    },
    {
     "name": "stderr",
     "output_type": "stream",
     "text": [
      "\u001b[32m[I 2023-04-26 22:01:06,683]\u001b[0m Trial 35 finished with value: 0.4235082247366586 and parameters: {'lambda_l1': 0.09078765870412851, 'lambda_l2': 6.2836089616779585e-06, 'num_leaves': 167, 'feature_fraction': 0.7052190420761504, 'bagging_fraction': 0.6972375699162854, 'bagging_freq': 3, 'min_child_samples': 87, 'learning_rate': 0.0005167184619640648, 'max_bin': 320, 'n_estimators': 180}. Best is trial 5 with value: 0.4235082247366586.\u001b[0m\n"
     ]
    },
    {
     "name": "stdout",
     "output_type": "stream",
     "text": [
      "Trial 35 finished with value: 0.4235082247366586 and parameters: {'lambda_l1': 0.09078765870412851, 'lambda_l2': 6.2836089616779585e-06, 'num_leaves': 167, 'feature_fraction': 0.7052190420761504, 'bagging_fraction': 0.6972375699162854, 'bagging_freq': 3, 'min_child_samples': 87, 'learning_rate': 0.0005167184619640648, 'max_bin': 320, 'n_estimators': 180}. Best is trial 5 with value: 0.4235082247366586.\n"
     ]
    },
    {
     "name": "stderr",
     "output_type": "stream",
     "text": [
      "\u001b[32m[I 2023-04-26 22:01:35,029]\u001b[0m Trial 40 finished with value: 0.4235082247366586 and parameters: {'lambda_l1': 0.0001252751791138023, 'lambda_l2': 4.0046568772850896e-05, 'num_leaves': 167, 'feature_fraction': 0.6483357126658088, 'bagging_fraction': 0.4573138150286857, 'bagging_freq': 4, 'min_child_samples': 41, 'learning_rate': 0.00034534621616028575, 'max_bin': 416, 'n_estimators': 80}. Best is trial 5 with value: 0.4235082247366586.\u001b[0m\n"
     ]
    },
    {
     "name": "stdout",
     "output_type": "stream",
     "text": [
      "Trial 40 finished with value: 0.4235082247366586 and parameters: {'lambda_l1': 0.0001252751791138023, 'lambda_l2': 4.0046568772850896e-05, 'num_leaves': 167, 'feature_fraction': 0.6483357126658088, 'bagging_fraction': 0.4573138150286857, 'bagging_freq': 4, 'min_child_samples': 41, 'learning_rate': 0.00034534621616028575, 'max_bin': 416, 'n_estimators': 80}. Best is trial 5 with value: 0.4235082247366586.\n"
     ]
    },
    {
     "name": "stderr",
     "output_type": "stream",
     "text": [
      "\u001b[32m[I 2023-04-26 22:01:36,607]\u001b[0m Trial 37 finished with value: 0.6015372283444924 and parameters: {'lambda_l1': 0.00017786200186397356, 'lambda_l2': 0.00567144939429214, 'num_leaves': 188, 'feature_fraction': 0.724872904474686, 'bagging_fraction': 0.5722354600733452, 'bagging_freq': 4, 'min_child_samples': 63, 'learning_rate': 0.0060709357021840995, 'max_bin': 224, 'n_estimators': 140}. Best is trial 5 with value: 0.4235082247366586.\u001b[0m\n"
     ]
    },
    {
     "name": "stdout",
     "output_type": "stream",
     "text": [
      "Trial 37 finished with value: 0.6015372283444924 and parameters: {'lambda_l1': 0.00017786200186397356, 'lambda_l2': 0.00567144939429214, 'num_leaves': 188, 'feature_fraction': 0.724872904474686, 'bagging_fraction': 0.5722354600733452, 'bagging_freq': 4, 'min_child_samples': 63, 'learning_rate': 0.0060709357021840995, 'max_bin': 224, 'n_estimators': 140}. Best is trial 5 with value: 0.4235082247366586.\n"
     ]
    },
    {
     "name": "stderr",
     "output_type": "stream",
     "text": [
      "\u001b[32m[I 2023-04-26 22:01:40,481]\u001b[0m Trial 36 finished with value: 0.4235082247366586 and parameters: {'lambda_l1': 0.0005060949185683066, 'lambda_l2': 0.0065110566908324246, 'num_leaves': 169, 'feature_fraction': 0.8271724095124457, 'bagging_fraction': 0.6982274725595286, 'bagging_freq': 4, 'min_child_samples': 58, 'learning_rate': 0.0004636712686556871, 'max_bin': 352, 'n_estimators': 260}. Best is trial 5 with value: 0.4235082247366586.\u001b[0m\n"
     ]
    },
    {
     "name": "stdout",
     "output_type": "stream",
     "text": [
      "Trial 36 finished with value: 0.4235082247366586 and parameters: {'lambda_l1': 0.0005060949185683066, 'lambda_l2': 0.0065110566908324246, 'num_leaves': 169, 'feature_fraction': 0.8271724095124457, 'bagging_fraction': 0.6982274725595286, 'bagging_freq': 4, 'min_child_samples': 58, 'learning_rate': 0.0004636712686556871, 'max_bin': 352, 'n_estimators': 260}. Best is trial 5 with value: 0.4235082247366586.\n"
     ]
    },
    {
     "name": "stderr",
     "output_type": "stream",
     "text": [
      "\u001b[32m[I 2023-04-26 22:01:46,654]\u001b[0m Trial 38 finished with value: 0.4235082247366586 and parameters: {'lambda_l1': 0.0018130860175022369, 'lambda_l2': 0.00010063277134507422, 'num_leaves': 198, 'feature_fraction': 0.5796203779136433, 'bagging_fraction': 0.7043487973024416, 'bagging_freq': 2, 'min_child_samples': 42, 'learning_rate': 0.0018067678883908298, 'max_bin': 416, 'n_estimators': 120}. Best is trial 5 with value: 0.4235082247366586.\u001b[0m\n"
     ]
    },
    {
     "name": "stdout",
     "output_type": "stream",
     "text": [
      "Trial 38 finished with value: 0.4235082247366586 and parameters: {'lambda_l1': 0.0018130860175022369, 'lambda_l2': 0.00010063277134507422, 'num_leaves': 198, 'feature_fraction': 0.5796203779136433, 'bagging_fraction': 0.7043487973024416, 'bagging_freq': 2, 'min_child_samples': 42, 'learning_rate': 0.0018067678883908298, 'max_bin': 416, 'n_estimators': 120}. Best is trial 5 with value: 0.4235082247366586.\n"
     ]
    },
    {
     "name": "stderr",
     "output_type": "stream",
     "text": [
      "\u001b[32m[I 2023-04-26 22:02:05,808]\u001b[0m Trial 42 finished with value: 0.4235082247366586 and parameters: {'lambda_l1': 0.0060359243771772155, 'lambda_l2': 0.0007583050355678974, 'num_leaves': 140, 'feature_fraction': 0.7050572029682485, 'bagging_fraction': 0.8046552165209491, 'bagging_freq': 4, 'min_child_samples': 87, 'learning_rate': 0.0016810573121454695, 'max_bin': 320, 'n_estimators': 260}. Best is trial 5 with value: 0.4235082247366586.\u001b[0m\n"
     ]
    },
    {
     "name": "stdout",
     "output_type": "stream",
     "text": [
      "Trial 42 finished with value: 0.4235082247366586 and parameters: {'lambda_l1': 0.0060359243771772155, 'lambda_l2': 0.0007583050355678974, 'num_leaves': 140, 'feature_fraction': 0.7050572029682485, 'bagging_fraction': 0.8046552165209491, 'bagging_freq': 4, 'min_child_samples': 87, 'learning_rate': 0.0016810573121454695, 'max_bin': 320, 'n_estimators': 260}. Best is trial 5 with value: 0.4235082247366586.\n"
     ]
    },
    {
     "name": "stderr",
     "output_type": "stream",
     "text": [
      "\u001b[32m[I 2023-04-26 22:02:07,274]\u001b[0m Trial 39 finished with value: 0.4235082247366586 and parameters: {'lambda_l1': 0.00011111970614684665, 'lambda_l2': 7.801208965191916e-05, 'num_leaves': 156, 'feature_fraction': 0.5975236701233376, 'bagging_fraction': 0.8134524616867093, 'bagging_freq': 4, 'min_child_samples': 68, 'learning_rate': 0.001628843130231351, 'max_bin': 384, 'n_estimators': 280}. Best is trial 5 with value: 0.4235082247366586.\u001b[0m\n"
     ]
    },
    {
     "name": "stdout",
     "output_type": "stream",
     "text": [
      "Trial 39 finished with value: 0.4235082247366586 and parameters: {'lambda_l1': 0.00011111970614684665, 'lambda_l2': 7.801208965191916e-05, 'num_leaves': 156, 'feature_fraction': 0.5975236701233376, 'bagging_fraction': 0.8134524616867093, 'bagging_freq': 4, 'min_child_samples': 68, 'learning_rate': 0.001628843130231351, 'max_bin': 384, 'n_estimators': 280}. Best is trial 5 with value: 0.4235082247366586.\n"
     ]
    },
    {
     "name": "stderr",
     "output_type": "stream",
     "text": [
      "\u001b[32m[I 2023-04-26 22:02:12,665]\u001b[0m Trial 43 finished with value: 0.4235082247366586 and parameters: {'lambda_l1': 0.010890140327468276, 'lambda_l2': 0.0004392301688578328, 'num_leaves': 180, 'feature_fraction': 0.5876685162650634, 'bagging_fraction': 0.6713466676101436, 'bagging_freq': 2, 'min_child_samples': 35, 'learning_rate': 0.0009290045519488492, 'max_bin': 352, 'n_estimators': 160}. Best is trial 5 with value: 0.4235082247366586.\u001b[0m\n"
     ]
    },
    {
     "name": "stdout",
     "output_type": "stream",
     "text": [
      "Trial 43 finished with value: 0.4235082247366586 and parameters: {'lambda_l1': 0.010890140327468276, 'lambda_l2': 0.0004392301688578328, 'num_leaves': 180, 'feature_fraction': 0.5876685162650634, 'bagging_fraction': 0.6713466676101436, 'bagging_freq': 2, 'min_child_samples': 35, 'learning_rate': 0.0009290045519488492, 'max_bin': 352, 'n_estimators': 160}. Best is trial 5 with value: 0.4235082247366586.\n"
     ]
    },
    {
     "name": "stderr",
     "output_type": "stream",
     "text": [
      "\u001b[32m[I 2023-04-26 22:02:13,941]\u001b[0m Trial 41 finished with value: 0.4235082247366586 and parameters: {'lambda_l1': 0.0008071823275351634, 'lambda_l2': 0.0027536217976923665, 'num_leaves': 145, 'feature_fraction': 0.7749515744276264, 'bagging_fraction': 0.8958005030541605, 'bagging_freq': 4, 'min_child_samples': 63, 'learning_rate': 0.0014206810743736262, 'max_bin': 480, 'n_estimators': 260}. Best is trial 5 with value: 0.4235082247366586.\u001b[0m\n"
     ]
    },
    {
     "name": "stdout",
     "output_type": "stream",
     "text": [
      "Trial 41 finished with value: 0.4235082247366586 and parameters: {'lambda_l1': 0.0008071823275351634, 'lambda_l2': 0.0027536217976923665, 'num_leaves': 145, 'feature_fraction': 0.7749515744276264, 'bagging_fraction': 0.8958005030541605, 'bagging_freq': 4, 'min_child_samples': 63, 'learning_rate': 0.0014206810743736262, 'max_bin': 480, 'n_estimators': 260}. Best is trial 5 with value: 0.4235082247366586.\n"
     ]
    },
    {
     "name": "stderr",
     "output_type": "stream",
     "text": [
      "\u001b[32m[I 2023-04-26 22:02:25,590]\u001b[0m Trial 44 finished with value: 0.4235082247366586 and parameters: {'lambda_l1': 0.003581640325352662, 'lambda_l2': 3.577127253008481e-05, 'num_leaves': 136, 'feature_fraction': 0.7037555621902205, 'bagging_fraction': 0.7534808195249656, 'bagging_freq': 2, 'min_child_samples': 37, 'learning_rate': 0.0008889426614970405, 'max_bin': 416, 'n_estimators': 80}. Best is trial 5 with value: 0.4235082247366586.\u001b[0m\n"
     ]
    },
    {
     "name": "stdout",
     "output_type": "stream",
     "text": [
      "Trial 44 finished with value: 0.4235082247366586 and parameters: {'lambda_l1': 0.003581640325352662, 'lambda_l2': 3.577127253008481e-05, 'num_leaves': 136, 'feature_fraction': 0.7037555621902205, 'bagging_fraction': 0.7534808195249656, 'bagging_freq': 2, 'min_child_samples': 37, 'learning_rate': 0.0008889426614970405, 'max_bin': 416, 'n_estimators': 80}. Best is trial 5 with value: 0.4235082247366586.\n"
     ]
    },
    {
     "name": "stderr",
     "output_type": "stream",
     "text": [
      "\u001b[33m[W 2023-04-26 22:02:26,148]\u001b[0m Trial 46 failed with parameters: {'lambda_l1': 0.0005358485552091732, 'lambda_l2': 4.491911363327979e-05, 'num_leaves': 153, 'feature_fraction': 0.6049899928711149, 'bagging_fraction': 0.757552463041655, 'bagging_freq': 2, 'min_child_samples': 46, 'learning_rate': 0.0004935226574522204, 'max_bin': 384, 'n_estimators': 120} because of the following error: RuntimeError('dictionary changed size during iteration').\u001b[0m\n",
      "Traceback (most recent call last):\n",
      "  File \"/usr/local/lib/python3.9/dist-packages/joblib/parallel.py\", line 822, in dispatch_one_batch\n",
      "    tasks = self._ready_batches.get(block=False)\n",
      "  File \"/usr/lib/python3.9/queue.py\", line 168, in get\n",
      "    raise Empty\n",
      "_queue.Empty\n",
      "\n",
      "During handling of the above exception, another exception occurred:\n",
      "\n",
      "Traceback (most recent call last):\n",
      "  File \"/usr/local/lib/python3.9/dist-packages/optuna/study/_optimize.py\", line 200, in _run_trial\n",
      "    value_or_values = func(trial)\n",
      "  File \"/tmp/ipykernel_1151/2289925561.py\", line 34, in _objective\n",
      "    scores = cross_val_score(model, X, y, scoring=\"f1_macro\")\n",
      "  File \"/usr/local/lib/python3.9/dist-packages/sklearn/model_selection/_validation.py\", line 515, in cross_val_score\n",
      "    cv_results = cross_validate(\n",
      "  File \"/usr/local/lib/python3.9/dist-packages/sklearn/model_selection/_validation.py\", line 266, in cross_validate\n",
      "    results = parallel(\n",
      "  File \"/usr/local/lib/python3.9/dist-packages/joblib/parallel.py\", line 1046, in __call__\n",
      "    while self.dispatch_one_batch(iterator):\n",
      "  File \"/usr/local/lib/python3.9/dist-packages/joblib/parallel.py\", line 833, in dispatch_one_batch\n",
      "    islice = list(itertools.islice(iterator, big_batch_size))\n",
      "  File \"/usr/local/lib/python3.9/dist-packages/sklearn/model_selection/_validation.py\", line 268, in <genexpr>\n",
      "    clone(estimator),\n",
      "  File \"/usr/local/lib/python3.9/dist-packages/sklearn/base.py\", line 87, in clone\n",
      "    new_object_params[name] = clone(param, safe=False)\n",
      "  File \"/usr/local/lib/python3.9/dist-packages/sklearn/base.py\", line 65, in clone\n",
      "    return estimator_type([clone(e, safe=safe) for e in estimator])\n",
      "  File \"/usr/local/lib/python3.9/dist-packages/sklearn/base.py\", line 65, in <listcomp>\n",
      "    return estimator_type([clone(e, safe=safe) for e in estimator])\n",
      "  File \"/usr/local/lib/python3.9/dist-packages/sklearn/base.py\", line 68, in clone\n",
      "    return copy.deepcopy(estimator)\n",
      "  File \"/usr/lib/python3.9/copy.py\", line 172, in deepcopy\n",
      "    y = _reconstruct(x, memo, *rv)\n",
      "  File \"/usr/lib/python3.9/copy.py\", line 270, in _reconstruct\n",
      "    state = deepcopy(state, memo)\n",
      "  File \"/usr/lib/python3.9/copy.py\", line 146, in deepcopy\n",
      "    y = copier(x, memo)\n",
      "  File \"/usr/lib/python3.9/copy.py\", line 230, in _deepcopy_dict\n",
      "    y[deepcopy(key, memo)] = deepcopy(value, memo)\n",
      "  File \"/usr/lib/python3.9/copy.py\", line 172, in deepcopy\n",
      "    y = _reconstruct(x, memo, *rv)\n",
      "  File \"/usr/lib/python3.9/copy.py\", line 270, in _reconstruct\n",
      "    state = deepcopy(state, memo)\n",
      "  File \"/usr/lib/python3.9/copy.py\", line 146, in deepcopy\n",
      "    y = copier(x, memo)\n",
      "  File \"/usr/lib/python3.9/copy.py\", line 230, in _deepcopy_dict\n",
      "    y[deepcopy(key, memo)] = deepcopy(value, memo)\n",
      "  File \"/usr/lib/python3.9/copy.py\", line 172, in deepcopy\n",
      "    y = _reconstruct(x, memo, *rv)\n",
      "  File \"/usr/lib/python3.9/copy.py\", line 270, in _reconstruct\n",
      "    state = deepcopy(state, memo)\n",
      "  File \"/usr/lib/python3.9/copy.py\", line 146, in deepcopy\n",
      "    y = copier(x, memo)\n",
      "  File \"/usr/lib/python3.9/copy.py\", line 230, in _deepcopy_dict\n",
      "    y[deepcopy(key, memo)] = deepcopy(value, memo)\n",
      "  File \"/usr/lib/python3.9/copy.py\", line 172, in deepcopy\n",
      "    y = _reconstruct(x, memo, *rv)\n",
      "  File \"/usr/lib/python3.9/copy.py\", line 270, in _reconstruct\n",
      "    state = deepcopy(state, memo)\n",
      "  File \"/usr/lib/python3.9/copy.py\", line 146, in deepcopy\n",
      "    y = copier(x, memo)\n",
      "  File \"/usr/lib/python3.9/copy.py\", line 230, in _deepcopy_dict\n",
      "    y[deepcopy(key, memo)] = deepcopy(value, memo)\n",
      "  File \"/usr/lib/python3.9/copy.py\", line 146, in deepcopy\n",
      "    y = copier(x, memo)\n",
      "  File \"/usr/lib/python3.9/copy.py\", line 230, in _deepcopy_dict\n",
      "    y[deepcopy(key, memo)] = deepcopy(value, memo)\n",
      "  File \"/usr/lib/python3.9/copy.py\", line 172, in deepcopy\n",
      "    y = _reconstruct(x, memo, *rv)\n",
      "  File \"/usr/lib/python3.9/copy.py\", line 270, in _reconstruct\n",
      "    state = deepcopy(state, memo)\n",
      "  File \"/usr/lib/python3.9/copy.py\", line 146, in deepcopy\n",
      "    y = copier(x, memo)\n",
      "  File \"/usr/lib/python3.9/copy.py\", line 230, in _deepcopy_dict\n",
      "    y[deepcopy(key, memo)] = deepcopy(value, memo)\n",
      "  File \"/usr/lib/python3.9/copy.py\", line 146, in deepcopy\n",
      "    y = copier(x, memo)\n",
      "  File \"/usr/lib/python3.9/copy.py\", line 229, in _deepcopy_dict\n",
      "    for key, value in x.items():\n",
      "RuntimeError: dictionary changed size during iteration\n"
     ]
    },
    {
     "name": "stdout",
     "output_type": "stream",
     "text": [
      "Trial 46 failed with parameters: {'lambda_l1': 0.0005358485552091732, 'lambda_l2': 4.491911363327979e-05, 'num_leaves': 153, 'feature_fraction': 0.6049899928711149, 'bagging_fraction': 0.757552463041655, 'bagging_freq': 2, 'min_child_samples': 46, 'learning_rate': 0.0004935226574522204, 'max_bin': 384, 'n_estimators': 120} because of the following error: RuntimeError('dictionary changed size during iteration').\n",
      "Traceback (most recent call last):\n",
      "  File \"/usr/local/lib/python3.9/dist-packages/joblib/parallel.py\", line 822, in dispatch_one_batch\n",
      "    tasks = self._ready_batches.get(block=False)\n",
      "  File \"/usr/lib/python3.9/queue.py\", line 168, in get\n",
      "    raise Empty\n",
      "_queue.Empty\n",
      "\n",
      "During handling of the above exception, another exception occurred:\n",
      "\n",
      "Traceback (most recent call last):\n",
      "  File \"/usr/local/lib/python3.9/dist-packages/optuna/study/_optimize.py\", line 200, in _run_trial\n",
      "    value_or_values = func(trial)\n",
      "  File \"/tmp/ipykernel_1151/2289925561.py\", line 34, in _objective\n",
      "    scores = cross_val_score(model, X, y, scoring=\"f1_macro\")\n",
      "  File \"/usr/local/lib/python3.9/dist-packages/sklearn/model_selection/_validation.py\", line 515, in cross_val_score\n",
      "    cv_results = cross_validate(\n",
      "  File \"/usr/local/lib/python3.9/dist-packages/sklearn/model_selection/_validation.py\", line 266, in cross_validate\n",
      "    results = parallel(\n",
      "  File \"/usr/local/lib/python3.9/dist-packages/joblib/parallel.py\", line 1046, in __call__\n",
      "    while self.dispatch_one_batch(iterator):\n",
      "  File \"/usr/local/lib/python3.9/dist-packages/joblib/parallel.py\", line 833, in dispatch_one_batch\n",
      "    islice = list(itertools.islice(iterator, big_batch_size))\n",
      "  File \"/usr/local/lib/python3.9/dist-packages/sklearn/model_selection/_validation.py\", line 268, in <genexpr>\n",
      "    clone(estimator),\n",
      "  File \"/usr/local/lib/python3.9/dist-packages/sklearn/base.py\", line 87, in clone\n",
      "    new_object_params[name] = clone(param, safe=False)\n",
      "  File \"/usr/local/lib/python3.9/dist-packages/sklearn/base.py\", line 65, in clone\n",
      "    return estimator_type([clone(e, safe=safe) for e in estimator])\n",
      "  File \"/usr/local/lib/python3.9/dist-packages/sklearn/base.py\", line 65, in <listcomp>\n",
      "    return estimator_type([clone(e, safe=safe) for e in estimator])\n",
      "  File \"/usr/local/lib/python3.9/dist-packages/sklearn/base.py\", line 68, in clone\n",
      "    return copy.deepcopy(estimator)\n",
      "  File \"/usr/lib/python3.9/copy.py\", line 172, in deepcopy\n",
      "    y = _reconstruct(x, memo, *rv)\n",
      "  File \"/usr/lib/python3.9/copy.py\", line 270, in _reconstruct\n",
      "    state = deepcopy(state, memo)\n",
      "  File \"/usr/lib/python3.9/copy.py\", line 146, in deepcopy\n",
      "    y = copier(x, memo)\n",
      "  File \"/usr/lib/python3.9/copy.py\", line 230, in _deepcopy_dict\n",
      "    y[deepcopy(key, memo)] = deepcopy(value, memo)\n",
      "  File \"/usr/lib/python3.9/copy.py\", line 172, in deepcopy\n",
      "    y = _reconstruct(x, memo, *rv)\n",
      "  File \"/usr/lib/python3.9/copy.py\", line 270, in _reconstruct\n",
      "    state = deepcopy(state, memo)\n",
      "  File \"/usr/lib/python3.9/copy.py\", line 146, in deepcopy\n",
      "    y = copier(x, memo)\n",
      "  File \"/usr/lib/python3.9/copy.py\", line 230, in _deepcopy_dict\n",
      "    y[deepcopy(key, memo)] = deepcopy(value, memo)\n",
      "  File \"/usr/lib/python3.9/copy.py\", line 172, in deepcopy\n",
      "    y = _reconstruct(x, memo, *rv)\n",
      "  File \"/usr/lib/python3.9/copy.py\", line 270, in _reconstruct\n",
      "    state = deepcopy(state, memo)\n",
      "  File \"/usr/lib/python3.9/copy.py\", line 146, in deepcopy\n",
      "    y = copier(x, memo)\n",
      "  File \"/usr/lib/python3.9/copy.py\", line 230, in _deepcopy_dict\n",
      "    y[deepcopy(key, memo)] = deepcopy(value, memo)\n",
      "  File \"/usr/lib/python3.9/copy.py\", line 172, in deepcopy\n",
      "    y = _reconstruct(x, memo, *rv)\n",
      "  File \"/usr/lib/python3.9/copy.py\", line 270, in _reconstruct\n",
      "    state = deepcopy(state, memo)\n",
      "  File \"/usr/lib/python3.9/copy.py\", line 146, in deepcopy\n",
      "    y = copier(x, memo)\n",
      "  File \"/usr/lib/python3.9/copy.py\", line 230, in _deepcopy_dict\n",
      "    y[deepcopy(key, memo)] = deepcopy(value, memo)\n",
      "  File \"/usr/lib/python3.9/copy.py\", line 146, in deepcopy\n",
      "    y = copier(x, memo)\n",
      "  File \"/usr/lib/python3.9/copy.py\", line 230, in _deepcopy_dict\n",
      "    y[deepcopy(key, memo)] = deepcopy(value, memo)\n",
      "  File \"/usr/lib/python3.9/copy.py\", line 172, in deepcopy\n",
      "    y = _reconstruct(x, memo, *rv)\n",
      "  File \"/usr/lib/python3.9/copy.py\", line 270, in _reconstruct\n",
      "    state = deepcopy(state, memo)\n",
      "  File \"/usr/lib/python3.9/copy.py\", line 146, in deepcopy\n",
      "    y = copier(x, memo)\n",
      "  File \"/usr/lib/python3.9/copy.py\", line 230, in _deepcopy_dict\n",
      "    y[deepcopy(key, memo)] = deepcopy(value, memo)\n",
      "  File \"/usr/lib/python3.9/copy.py\", line 146, in deepcopy\n",
      "    y = copier(x, memo)\n",
      "  File \"/usr/lib/python3.9/copy.py\", line 229, in _deepcopy_dict\n",
      "    for key, value in x.items():\n",
      "RuntimeError: dictionary changed size during iteration\n"
     ]
    },
    {
     "name": "stderr",
     "output_type": "stream",
     "text": [
      "\u001b[33m[W 2023-04-26 22:02:26,191]\u001b[0m Trial 46 failed with value None.\u001b[0m\n"
     ]
    },
    {
     "name": "stdout",
     "output_type": "stream",
     "text": [
      "Trial 46 failed with value None.\n"
     ]
    },
    {
     "name": "stderr",
     "output_type": "stream",
     "text": [
      "\u001b[32m[I 2023-04-26 22:02:27,479]\u001b[0m Trial 47 finished with value: 0.4235082247366586 and parameters: {'lambda_l1': 0.2231573308890992, 'lambda_l2': 0.00023531586400224125, 'num_leaves': 125, 'feature_fraction': 0.6909915157100837, 'bagging_fraction': 0.7146409667988023, 'bagging_freq': 4, 'min_child_samples': 64, 'learning_rate': 0.001263837068938151, 'max_bin': 416, 'n_estimators': 100}. Best is trial 5 with value: 0.4235082247366586.\u001b[0m\n"
     ]
    },
    {
     "name": "stdout",
     "output_type": "stream",
     "text": [
      "Trial 47 finished with value: 0.4235082247366586 and parameters: {'lambda_l1': 0.2231573308890992, 'lambda_l2': 0.00023531586400224125, 'num_leaves': 125, 'feature_fraction': 0.6909915157100837, 'bagging_fraction': 0.7146409667988023, 'bagging_freq': 4, 'min_child_samples': 64, 'learning_rate': 0.001263837068938151, 'max_bin': 416, 'n_estimators': 100}. Best is trial 5 with value: 0.4235082247366586.\n"
     ]
    },
    {
     "name": "stderr",
     "output_type": "stream",
     "text": [
      "\u001b[32m[I 2023-04-26 22:02:31,770]\u001b[0m Trial 45 finished with value: 0.4235082247366586 and parameters: {'lambda_l1': 0.23952660621892627, 'lambda_l2': 0.0009821538500136727, 'num_leaves': 123, 'feature_fraction': 0.6736663519514008, 'bagging_fraction': 0.689695325082097, 'bagging_freq': 3, 'min_child_samples': 59, 'learning_rate': 0.0006441154827444114, 'max_bin': 384, 'n_estimators': 200}. Best is trial 5 with value: 0.4235082247366586.\u001b[0m\n"
     ]
    },
    {
     "name": "stdout",
     "output_type": "stream",
     "text": [
      "Trial 45 finished with value: 0.4235082247366586 and parameters: {'lambda_l1': 0.23952660621892627, 'lambda_l2': 0.0009821538500136727, 'num_leaves': 123, 'feature_fraction': 0.6736663519514008, 'bagging_fraction': 0.689695325082097, 'bagging_freq': 3, 'min_child_samples': 59, 'learning_rate': 0.0006441154827444114, 'max_bin': 384, 'n_estimators': 200}. Best is trial 5 with value: 0.4235082247366586.\n"
     ]
    },
    {
     "name": "stderr",
     "output_type": "stream",
     "text": [
      "\u001b[32m[I 2023-04-26 22:02:46,922]\u001b[0m Trial 51 finished with value: 0.4235082247366586 and parameters: {'lambda_l1': 0.15637897793650152, 'lambda_l2': 0.08964543306822373, 'num_leaves': 160, 'feature_fraction': 0.6311818981442667, 'bagging_fraction': 0.7550482593385656, 'bagging_freq': 4, 'min_child_samples': 67, 'learning_rate': 0.0007838454033215808, 'max_bin': 288, 'n_estimators': 120}. Best is trial 5 with value: 0.4235082247366586.\u001b[0m\n"
     ]
    },
    {
     "name": "stdout",
     "output_type": "stream",
     "text": [
      "Trial 51 finished with value: 0.4235082247366586 and parameters: {'lambda_l1': 0.15637897793650152, 'lambda_l2': 0.08964543306822373, 'num_leaves': 160, 'feature_fraction': 0.6311818981442667, 'bagging_fraction': 0.7550482593385656, 'bagging_freq': 4, 'min_child_samples': 67, 'learning_rate': 0.0007838454033215808, 'max_bin': 288, 'n_estimators': 120}. Best is trial 5 with value: 0.4235082247366586.\n"
     ]
    },
    {
     "name": "stderr",
     "output_type": "stream",
     "text": [
      "\u001b[32m[I 2023-04-26 22:02:52,395]\u001b[0m Trial 48 finished with value: 0.4235082247366586 and parameters: {'lambda_l1': 0.006245141148919911, 'lambda_l2': 7.452079101712789e-06, 'num_leaves': 134, 'feature_fraction': 0.7000486954239561, 'bagging_fraction': 0.6291941771651506, 'bagging_freq': 4, 'min_child_samples': 71, 'learning_rate': 0.0013921748948393766, 'max_bin': 320, 'n_estimators': 220}. Best is trial 5 with value: 0.4235082247366586.\u001b[0m\n"
     ]
    },
    {
     "name": "stdout",
     "output_type": "stream",
     "text": [
      "Trial 48 finished with value: 0.4235082247366586 and parameters: {'lambda_l1': 0.006245141148919911, 'lambda_l2': 7.452079101712789e-06, 'num_leaves': 134, 'feature_fraction': 0.7000486954239561, 'bagging_fraction': 0.6291941771651506, 'bagging_freq': 4, 'min_child_samples': 71, 'learning_rate': 0.0013921748948393766, 'max_bin': 320, 'n_estimators': 220}. Best is trial 5 with value: 0.4235082247366586.\n"
     ]
    },
    {
     "name": "stderr",
     "output_type": "stream",
     "text": [
      "\u001b[32m[I 2023-04-26 22:02:56,298]\u001b[0m Trial 52 finished with value: 0.4235082247366586 and parameters: {'lambda_l1': 0.22435531025089386, 'lambda_l2': 8.204890999999079e-05, 'num_leaves': 102, 'feature_fraction': 0.6266607830791726, 'bagging_fraction': 0.8001261340703905, 'bagging_freq': 1, 'min_child_samples': 48, 'learning_rate': 0.0012568932874834399, 'max_bin': 416, 'n_estimators': 120}. Best is trial 5 with value: 0.4235082247366586.\u001b[0m\n"
     ]
    },
    {
     "name": "stdout",
     "output_type": "stream",
     "text": [
      "Trial 52 finished with value: 0.4235082247366586 and parameters: {'lambda_l1': 0.22435531025089386, 'lambda_l2': 8.204890999999079e-05, 'num_leaves': 102, 'feature_fraction': 0.6266607830791726, 'bagging_fraction': 0.8001261340703905, 'bagging_freq': 1, 'min_child_samples': 48, 'learning_rate': 0.0012568932874834399, 'max_bin': 416, 'n_estimators': 120}. Best is trial 5 with value: 0.4235082247366586.\n"
     ]
    },
    {
     "name": "stderr",
     "output_type": "stream",
     "text": [
      "\u001b[32m[I 2023-04-26 22:02:59,748]\u001b[0m Trial 50 finished with value: 0.4235082247366586 and parameters: {'lambda_l1': 0.0012739682245968972, 'lambda_l2': 9.842818164648099e-05, 'num_leaves': 147, 'feature_fraction': 0.5631666822474554, 'bagging_fraction': 0.7274109201998455, 'bagging_freq': 5, 'min_child_samples': 53, 'learning_rate': 0.0022965647473676305, 'max_bin': 416, 'n_estimators': 180}. Best is trial 5 with value: 0.4235082247366586.\u001b[0m\n"
     ]
    },
    {
     "name": "stdout",
     "output_type": "stream",
     "text": [
      "Trial 50 finished with value: 0.4235082247366586 and parameters: {'lambda_l1': 0.0012739682245968972, 'lambda_l2': 9.842818164648099e-05, 'num_leaves': 147, 'feature_fraction': 0.5631666822474554, 'bagging_fraction': 0.7274109201998455, 'bagging_freq': 5, 'min_child_samples': 53, 'learning_rate': 0.0022965647473676305, 'max_bin': 416, 'n_estimators': 180}. Best is trial 5 with value: 0.4235082247366586.\n"
     ]
    },
    {
     "name": "stderr",
     "output_type": "stream",
     "text": [
      "\u001b[32m[I 2023-04-26 22:03:00,457]\u001b[0m Trial 49 finished with value: 0.4235082247366586 and parameters: {'lambda_l1': 0.0050038474922444315, 'lambda_l2': 5.162993438119722e-06, 'num_leaves': 103, 'feature_fraction': 0.5098782589132528, 'bagging_fraction': 0.677029585535416, 'bagging_freq': 3, 'min_child_samples': 52, 'learning_rate': 0.00020630631963538095, 'max_bin': 448, 'n_estimators': 220}. Best is trial 5 with value: 0.4235082247366586.\u001b[0m\n"
     ]
    },
    {
     "name": "stdout",
     "output_type": "stream",
     "text": [
      "Trial 49 finished with value: 0.4235082247366586 and parameters: {'lambda_l1': 0.0050038474922444315, 'lambda_l2': 5.162993438119722e-06, 'num_leaves': 103, 'feature_fraction': 0.5098782589132528, 'bagging_fraction': 0.677029585535416, 'bagging_freq': 3, 'min_child_samples': 52, 'learning_rate': 0.00020630631963538095, 'max_bin': 448, 'n_estimators': 220}. Best is trial 5 with value: 0.4235082247366586.\n"
     ]
    },
    {
     "ename": "RuntimeError",
     "evalue": "dictionary changed size during iteration",
     "output_type": "error",
     "traceback": [
      "\u001b[0;31m---------------------------------------------------------------------------\u001b[0m",
      "\u001b[0;31mEmpty\u001b[0m                                     Traceback (most recent call last)",
      "File \u001b[0;32m/usr/local/lib/python3.9/dist-packages/joblib/parallel.py:822\u001b[0m, in \u001b[0;36mParallel.dispatch_one_batch\u001b[0;34m(self, iterator)\u001b[0m\n\u001b[1;32m    821\u001b[0m \u001b[38;5;28;01mtry\u001b[39;00m:\n\u001b[0;32m--> 822\u001b[0m     tasks \u001b[38;5;241m=\u001b[39m \u001b[38;5;28;43mself\u001b[39;49m\u001b[38;5;241;43m.\u001b[39;49m\u001b[43m_ready_batches\u001b[49m\u001b[38;5;241;43m.\u001b[39;49m\u001b[43mget\u001b[49m\u001b[43m(\u001b[49m\u001b[43mblock\u001b[49m\u001b[38;5;241;43m=\u001b[39;49m\u001b[38;5;28;43;01mFalse\u001b[39;49;00m\u001b[43m)\u001b[49m\n\u001b[1;32m    823\u001b[0m \u001b[38;5;28;01mexcept\u001b[39;00m queue\u001b[38;5;241m.\u001b[39mEmpty:\n\u001b[1;32m    824\u001b[0m     \u001b[38;5;66;03m# slice the iterator n_jobs * batchsize items at a time. If the\u001b[39;00m\n\u001b[1;32m    825\u001b[0m     \u001b[38;5;66;03m# slice returns less than that, then the current batchsize puts\u001b[39;00m\n\u001b[0;32m   (...)\u001b[0m\n\u001b[1;32m    828\u001b[0m     \u001b[38;5;66;03m# accordingly to distribute evenly the last items between all\u001b[39;00m\n\u001b[1;32m    829\u001b[0m     \u001b[38;5;66;03m# workers.\u001b[39;00m\n",
      "File \u001b[0;32m/usr/lib/python3.9/queue.py:168\u001b[0m, in \u001b[0;36mQueue.get\u001b[0;34m(self, block, timeout)\u001b[0m\n\u001b[1;32m    167\u001b[0m     \u001b[38;5;28;01mif\u001b[39;00m \u001b[38;5;129;01mnot\u001b[39;00m \u001b[38;5;28mself\u001b[39m\u001b[38;5;241m.\u001b[39m_qsize():\n\u001b[0;32m--> 168\u001b[0m         \u001b[38;5;28;01mraise\u001b[39;00m Empty\n\u001b[1;32m    169\u001b[0m \u001b[38;5;28;01melif\u001b[39;00m timeout \u001b[38;5;129;01mis\u001b[39;00m \u001b[38;5;28;01mNone\u001b[39;00m:\n",
      "\u001b[0;31mEmpty\u001b[0m: ",
      "\nDuring handling of the above exception, another exception occurred:\n",
      "\u001b[0;31mRuntimeError\u001b[0m                              Traceback (most recent call last)",
      "Input \u001b[0;32mIn [21]\u001b[0m, in \u001b[0;36m<cell line: 5>\u001b[0;34m()\u001b[0m\n\u001b[1;32m      3\u001b[0m storage_name \u001b[38;5;241m=\u001b[39m \u001b[38;5;124mf\u001b[39m\u001b[38;5;124m\"\u001b[39m\u001b[38;5;124msqlite:///\u001b[39m\u001b[38;5;132;01m{\u001b[39;00mstudy_name\u001b[38;5;132;01m}\u001b[39;00m\u001b[38;5;124m.db\u001b[39m\u001b[38;5;124m\"\u001b[39m\n\u001b[1;32m      4\u001b[0m study \u001b[38;5;241m=\u001b[39m optuna\u001b[38;5;241m.\u001b[39mcreate_study(study_name\u001b[38;5;241m=\u001b[39mstudy_name, storage\u001b[38;5;241m=\u001b[39mstorage_name, load_if_exists\u001b[38;5;241m=\u001b[39m\u001b[38;5;28;01mFalse\u001b[39;00m, sampler\u001b[38;5;241m=\u001b[39moptuna\u001b[38;5;241m.\u001b[39msamplers\u001b[38;5;241m.\u001b[39mCmaEsSampler(), pruner\u001b[38;5;241m=\u001b[39moptuna\u001b[38;5;241m.\u001b[39mpruners\u001b[38;5;241m.\u001b[39mHyperbandPruner(min_resource\u001b[38;5;241m=\u001b[39m\u001b[38;5;241m10\u001b[39m, max_resource\u001b[38;5;241m=\u001b[39m\u001b[38;5;241m400\u001b[39m, reduction_factor\u001b[38;5;241m=\u001b[39m\u001b[38;5;241m3\u001b[39m))\n\u001b[0;32m----> 5\u001b[0m \u001b[43mstudy\u001b[49m\u001b[38;5;241;43m.\u001b[39;49m\u001b[43moptimize\u001b[49m\u001b[43m(\u001b[49m\u001b[43mobjective\u001b[49m\u001b[43m(\u001b[49m\u001b[38;5;28;43;01mFalse\u001b[39;49;00m\u001b[43m)\u001b[49m\u001b[43m,\u001b[49m\u001b[43m \u001b[49m\u001b[43mn_trials\u001b[49m\u001b[38;5;241;43m=\u001b[39;49m\u001b[38;5;241;43m100\u001b[39;49m\u001b[43m,\u001b[49m\u001b[43m \u001b[49m\u001b[43mgc_after_trial\u001b[49m\u001b[38;5;241;43m=\u001b[39;49m\u001b[38;5;28;43;01mTrue\u001b[39;49;00m\u001b[43m,\u001b[49m\u001b[43m \u001b[49m\u001b[43mn_jobs\u001b[49m\u001b[38;5;241;43m=\u001b[39;49m\u001b[38;5;241;43m-\u001b[39;49m\u001b[38;5;241;43m1\u001b[39;49m\u001b[43m)\u001b[49m\n",
      "File \u001b[0;32m/usr/local/lib/python3.9/dist-packages/optuna/study/study.py:425\u001b[0m, in \u001b[0;36mStudy.optimize\u001b[0;34m(self, func, n_trials, timeout, n_jobs, catch, callbacks, gc_after_trial, show_progress_bar)\u001b[0m\n\u001b[1;32m    321\u001b[0m \u001b[38;5;28;01mdef\u001b[39;00m \u001b[38;5;21moptimize\u001b[39m(\n\u001b[1;32m    322\u001b[0m     \u001b[38;5;28mself\u001b[39m,\n\u001b[1;32m    323\u001b[0m     func: ObjectiveFuncType,\n\u001b[0;32m   (...)\u001b[0m\n\u001b[1;32m    330\u001b[0m     show_progress_bar: \u001b[38;5;28mbool\u001b[39m \u001b[38;5;241m=\u001b[39m \u001b[38;5;28;01mFalse\u001b[39;00m,\n\u001b[1;32m    331\u001b[0m ) \u001b[38;5;241m-\u001b[39m\u001b[38;5;241m>\u001b[39m \u001b[38;5;28;01mNone\u001b[39;00m:\n\u001b[1;32m    332\u001b[0m     \u001b[38;5;124;03m\"\"\"Optimize an objective function.\u001b[39;00m\n\u001b[1;32m    333\u001b[0m \n\u001b[1;32m    334\u001b[0m \u001b[38;5;124;03m    Optimization is done by choosing a suitable set of hyperparameter values from a given\u001b[39;00m\n\u001b[0;32m   (...)\u001b[0m\n\u001b[1;32m    422\u001b[0m \u001b[38;5;124;03m            If nested invocation of this method occurs.\u001b[39;00m\n\u001b[1;32m    423\u001b[0m \u001b[38;5;124;03m    \"\"\"\u001b[39;00m\n\u001b[0;32m--> 425\u001b[0m     \u001b[43m_optimize\u001b[49m\u001b[43m(\u001b[49m\n\u001b[1;32m    426\u001b[0m \u001b[43m        \u001b[49m\u001b[43mstudy\u001b[49m\u001b[38;5;241;43m=\u001b[39;49m\u001b[38;5;28;43mself\u001b[39;49m\u001b[43m,\u001b[49m\n\u001b[1;32m    427\u001b[0m \u001b[43m        \u001b[49m\u001b[43mfunc\u001b[49m\u001b[38;5;241;43m=\u001b[39;49m\u001b[43mfunc\u001b[49m\u001b[43m,\u001b[49m\n\u001b[1;32m    428\u001b[0m \u001b[43m        \u001b[49m\u001b[43mn_trials\u001b[49m\u001b[38;5;241;43m=\u001b[39;49m\u001b[43mn_trials\u001b[49m\u001b[43m,\u001b[49m\n\u001b[1;32m    429\u001b[0m \u001b[43m        \u001b[49m\u001b[43mtimeout\u001b[49m\u001b[38;5;241;43m=\u001b[39;49m\u001b[43mtimeout\u001b[49m\u001b[43m,\u001b[49m\n\u001b[1;32m    430\u001b[0m \u001b[43m        \u001b[49m\u001b[43mn_jobs\u001b[49m\u001b[38;5;241;43m=\u001b[39;49m\u001b[43mn_jobs\u001b[49m\u001b[43m,\u001b[49m\n\u001b[1;32m    431\u001b[0m \u001b[43m        \u001b[49m\u001b[43mcatch\u001b[49m\u001b[38;5;241;43m=\u001b[39;49m\u001b[38;5;28;43mtuple\u001b[39;49m\u001b[43m(\u001b[49m\u001b[43mcatch\u001b[49m\u001b[43m)\u001b[49m\u001b[43m \u001b[49m\u001b[38;5;28;43;01mif\u001b[39;49;00m\u001b[43m \u001b[49m\u001b[38;5;28;43misinstance\u001b[39;49m\u001b[43m(\u001b[49m\u001b[43mcatch\u001b[49m\u001b[43m,\u001b[49m\u001b[43m \u001b[49m\u001b[43mIterable\u001b[49m\u001b[43m)\u001b[49m\u001b[43m \u001b[49m\u001b[38;5;28;43;01melse\u001b[39;49;00m\u001b[43m \u001b[49m\u001b[43m(\u001b[49m\u001b[43mcatch\u001b[49m\u001b[43m,\u001b[49m\u001b[43m)\u001b[49m\u001b[43m,\u001b[49m\n\u001b[1;32m    432\u001b[0m \u001b[43m        \u001b[49m\u001b[43mcallbacks\u001b[49m\u001b[38;5;241;43m=\u001b[39;49m\u001b[43mcallbacks\u001b[49m\u001b[43m,\u001b[49m\n\u001b[1;32m    433\u001b[0m \u001b[43m        \u001b[49m\u001b[43mgc_after_trial\u001b[49m\u001b[38;5;241;43m=\u001b[39;49m\u001b[43mgc_after_trial\u001b[49m\u001b[43m,\u001b[49m\n\u001b[1;32m    434\u001b[0m \u001b[43m        \u001b[49m\u001b[43mshow_progress_bar\u001b[49m\u001b[38;5;241;43m=\u001b[39;49m\u001b[43mshow_progress_bar\u001b[49m\u001b[43m,\u001b[49m\n\u001b[1;32m    435\u001b[0m \u001b[43m    \u001b[49m\u001b[43m)\u001b[49m\n",
      "File \u001b[0;32m/usr/local/lib/python3.9/dist-packages/optuna/study/_optimize.py:103\u001b[0m, in \u001b[0;36m_optimize\u001b[0;34m(study, func, n_trials, timeout, n_jobs, catch, callbacks, gc_after_trial, show_progress_bar)\u001b[0m\n\u001b[1;32m    101\u001b[0m                     \u001b[38;5;66;03m# Raise if exception occurred in executing the completed futures.\u001b[39;00m\n\u001b[1;32m    102\u001b[0m                     \u001b[38;5;28;01mfor\u001b[39;00m f \u001b[38;5;129;01min\u001b[39;00m completed:\n\u001b[0;32m--> 103\u001b[0m                         \u001b[43mf\u001b[49m\u001b[38;5;241;43m.\u001b[39;49m\u001b[43mresult\u001b[49m\u001b[43m(\u001b[49m\u001b[43m)\u001b[49m\n\u001b[1;32m    105\u001b[0m                 futures\u001b[38;5;241m.\u001b[39madd(\n\u001b[1;32m    106\u001b[0m                     executor\u001b[38;5;241m.\u001b[39msubmit(\n\u001b[1;32m    107\u001b[0m                         _optimize_sequential,\n\u001b[0;32m   (...)\u001b[0m\n\u001b[1;32m    118\u001b[0m                     )\n\u001b[1;32m    119\u001b[0m                 )\n\u001b[1;32m    120\u001b[0m \u001b[38;5;28;01mfinally\u001b[39;00m:\n",
      "File \u001b[0;32m/usr/lib/python3.9/concurrent/futures/_base.py:439\u001b[0m, in \u001b[0;36mFuture.result\u001b[0;34m(self, timeout)\u001b[0m\n\u001b[1;32m    437\u001b[0m     \u001b[38;5;28;01mraise\u001b[39;00m CancelledError()\n\u001b[1;32m    438\u001b[0m \u001b[38;5;28;01melif\u001b[39;00m \u001b[38;5;28mself\u001b[39m\u001b[38;5;241m.\u001b[39m_state \u001b[38;5;241m==\u001b[39m FINISHED:\n\u001b[0;32m--> 439\u001b[0m     \u001b[38;5;28;01mreturn\u001b[39;00m \u001b[38;5;28;43mself\u001b[39;49m\u001b[38;5;241;43m.\u001b[39;49m\u001b[43m__get_result\u001b[49m\u001b[43m(\u001b[49m\u001b[43m)\u001b[49m\n\u001b[1;32m    441\u001b[0m \u001b[38;5;28mself\u001b[39m\u001b[38;5;241m.\u001b[39m_condition\u001b[38;5;241m.\u001b[39mwait(timeout)\n\u001b[1;32m    443\u001b[0m \u001b[38;5;28;01mif\u001b[39;00m \u001b[38;5;28mself\u001b[39m\u001b[38;5;241m.\u001b[39m_state \u001b[38;5;129;01min\u001b[39;00m [CANCELLED, CANCELLED_AND_NOTIFIED]:\n",
      "File \u001b[0;32m/usr/lib/python3.9/concurrent/futures/_base.py:391\u001b[0m, in \u001b[0;36mFuture.__get_result\u001b[0;34m(self)\u001b[0m\n\u001b[1;32m    389\u001b[0m \u001b[38;5;28;01mif\u001b[39;00m \u001b[38;5;28mself\u001b[39m\u001b[38;5;241m.\u001b[39m_exception:\n\u001b[1;32m    390\u001b[0m     \u001b[38;5;28;01mtry\u001b[39;00m:\n\u001b[0;32m--> 391\u001b[0m         \u001b[38;5;28;01mraise\u001b[39;00m \u001b[38;5;28mself\u001b[39m\u001b[38;5;241m.\u001b[39m_exception\n\u001b[1;32m    392\u001b[0m     \u001b[38;5;28;01mfinally\u001b[39;00m:\n\u001b[1;32m    393\u001b[0m         \u001b[38;5;66;03m# Break a reference cycle with the exception in self._exception\u001b[39;00m\n\u001b[1;32m    394\u001b[0m         \u001b[38;5;28mself\u001b[39m \u001b[38;5;241m=\u001b[39m \u001b[38;5;28;01mNone\u001b[39;00m\n",
      "File \u001b[0;32m/usr/lib/python3.9/concurrent/futures/thread.py:58\u001b[0m, in \u001b[0;36m_WorkItem.run\u001b[0;34m(self)\u001b[0m\n\u001b[1;32m     55\u001b[0m     \u001b[38;5;28;01mreturn\u001b[39;00m\n\u001b[1;32m     57\u001b[0m \u001b[38;5;28;01mtry\u001b[39;00m:\n\u001b[0;32m---> 58\u001b[0m     result \u001b[38;5;241m=\u001b[39m \u001b[38;5;28;43mself\u001b[39;49m\u001b[38;5;241;43m.\u001b[39;49m\u001b[43mfn\u001b[49m\u001b[43m(\u001b[49m\u001b[38;5;241;43m*\u001b[39;49m\u001b[38;5;28;43mself\u001b[39;49m\u001b[38;5;241;43m.\u001b[39;49m\u001b[43margs\u001b[49m\u001b[43m,\u001b[49m\u001b[43m \u001b[49m\u001b[38;5;241;43m*\u001b[39;49m\u001b[38;5;241;43m*\u001b[39;49m\u001b[38;5;28;43mself\u001b[39;49m\u001b[38;5;241;43m.\u001b[39;49m\u001b[43mkwargs\u001b[49m\u001b[43m)\u001b[49m\n\u001b[1;32m     59\u001b[0m \u001b[38;5;28;01mexcept\u001b[39;00m \u001b[38;5;167;01mBaseException\u001b[39;00m \u001b[38;5;28;01mas\u001b[39;00m exc:\n\u001b[1;32m     60\u001b[0m     \u001b[38;5;28mself\u001b[39m\u001b[38;5;241m.\u001b[39mfuture\u001b[38;5;241m.\u001b[39mset_exception(exc)\n",
      "File \u001b[0;32m/usr/local/lib/python3.9/dist-packages/optuna/study/_optimize.py:163\u001b[0m, in \u001b[0;36m_optimize_sequential\u001b[0;34m(study, func, n_trials, timeout, catch, callbacks, gc_after_trial, reseed_sampler_rng, time_start, progress_bar)\u001b[0m\n\u001b[1;32m    160\u001b[0m         \u001b[38;5;28;01mbreak\u001b[39;00m\n\u001b[1;32m    162\u001b[0m \u001b[38;5;28;01mtry\u001b[39;00m:\n\u001b[0;32m--> 163\u001b[0m     frozen_trial \u001b[38;5;241m=\u001b[39m \u001b[43m_run_trial\u001b[49m\u001b[43m(\u001b[49m\u001b[43mstudy\u001b[49m\u001b[43m,\u001b[49m\u001b[43m \u001b[49m\u001b[43mfunc\u001b[49m\u001b[43m,\u001b[49m\u001b[43m \u001b[49m\u001b[43mcatch\u001b[49m\u001b[43m)\u001b[49m\n\u001b[1;32m    164\u001b[0m \u001b[38;5;28;01mfinally\u001b[39;00m:\n\u001b[1;32m    165\u001b[0m     \u001b[38;5;66;03m# The following line mitigates memory problems that can be occurred in some\u001b[39;00m\n\u001b[1;32m    166\u001b[0m     \u001b[38;5;66;03m# environments (e.g., services that use computing containers such as GitHub Actions).\u001b[39;00m\n\u001b[1;32m    167\u001b[0m     \u001b[38;5;66;03m# Please refer to the following PR for further details:\u001b[39;00m\n\u001b[1;32m    168\u001b[0m     \u001b[38;5;66;03m# https://github.com/optuna/optuna/pull/325.\u001b[39;00m\n\u001b[1;32m    169\u001b[0m     \u001b[38;5;28;01mif\u001b[39;00m gc_after_trial:\n",
      "File \u001b[0;32m/usr/local/lib/python3.9/dist-packages/optuna/study/_optimize.py:251\u001b[0m, in \u001b[0;36m_run_trial\u001b[0;34m(study, func, catch)\u001b[0m\n\u001b[1;32m    244\u001b[0m         \u001b[38;5;28;01massert\u001b[39;00m \u001b[38;5;28;01mFalse\u001b[39;00m, \u001b[38;5;124m\"\u001b[39m\u001b[38;5;124mShould not reach.\u001b[39m\u001b[38;5;124m\"\u001b[39m\n\u001b[1;32m    246\u001b[0m \u001b[38;5;28;01mif\u001b[39;00m (\n\u001b[1;32m    247\u001b[0m     frozen_trial\u001b[38;5;241m.\u001b[39mstate \u001b[38;5;241m==\u001b[39m TrialState\u001b[38;5;241m.\u001b[39mFAIL\n\u001b[1;32m    248\u001b[0m     \u001b[38;5;129;01mand\u001b[39;00m func_err \u001b[38;5;129;01mis\u001b[39;00m \u001b[38;5;129;01mnot\u001b[39;00m \u001b[38;5;28;01mNone\u001b[39;00m\n\u001b[1;32m    249\u001b[0m     \u001b[38;5;129;01mand\u001b[39;00m \u001b[38;5;129;01mnot\u001b[39;00m \u001b[38;5;28misinstance\u001b[39m(func_err, catch)\n\u001b[1;32m    250\u001b[0m ):\n\u001b[0;32m--> 251\u001b[0m     \u001b[38;5;28;01mraise\u001b[39;00m func_err\n\u001b[1;32m    252\u001b[0m \u001b[38;5;28;01mreturn\u001b[39;00m frozen_trial\n",
      "File \u001b[0;32m/usr/local/lib/python3.9/dist-packages/optuna/study/_optimize.py:200\u001b[0m, in \u001b[0;36m_run_trial\u001b[0;34m(study, func, catch)\u001b[0m\n\u001b[1;32m    198\u001b[0m \u001b[38;5;28;01mwith\u001b[39;00m get_heartbeat_thread(trial\u001b[38;5;241m.\u001b[39m_trial_id, study\u001b[38;5;241m.\u001b[39m_storage):\n\u001b[1;32m    199\u001b[0m     \u001b[38;5;28;01mtry\u001b[39;00m:\n\u001b[0;32m--> 200\u001b[0m         value_or_values \u001b[38;5;241m=\u001b[39m \u001b[43mfunc\u001b[49m\u001b[43m(\u001b[49m\u001b[43mtrial\u001b[49m\u001b[43m)\u001b[49m\n\u001b[1;32m    201\u001b[0m     \u001b[38;5;28;01mexcept\u001b[39;00m exceptions\u001b[38;5;241m.\u001b[39mTrialPruned \u001b[38;5;28;01mas\u001b[39;00m e:\n\u001b[1;32m    202\u001b[0m         \u001b[38;5;66;03m# TODO(mamu): Handle multi-objective cases.\u001b[39;00m\n\u001b[1;32m    203\u001b[0m         state \u001b[38;5;241m=\u001b[39m TrialState\u001b[38;5;241m.\u001b[39mPRUNED\n",
      "Input \u001b[0;32mIn [6]\u001b[0m, in \u001b[0;36mobjective.<locals>._objective\u001b[0;34m(trial)\u001b[0m\n\u001b[1;32m     18\u001b[0m pruning_callback \u001b[38;5;241m=\u001b[39m optuna\u001b[38;5;241m.\u001b[39mintegration\u001b[38;5;241m.\u001b[39mLightGBMPruningCallback(trial, \u001b[38;5;124m\"\u001b[39m\u001b[38;5;124mbinary_logloss\u001b[39m\u001b[38;5;124m\"\u001b[39m)\n\u001b[1;32m     20\u001b[0m model \u001b[38;5;241m=\u001b[39m lgb\u001b[38;5;241m.\u001b[39mLGBMClassifier(force_row_wise\u001b[38;5;241m=\u001b[39m\u001b[38;5;28;01mTrue\u001b[39;00m,\n\u001b[1;32m     21\u001b[0m                            boosting_type\u001b[38;5;241m=\u001b[39mboosting_type,\n\u001b[1;32m     22\u001b[0m                            n_estimators\u001b[38;5;241m=\u001b[39mn_estimators,\n\u001b[0;32m   (...)\u001b[0m\n\u001b[1;32m     32\u001b[0m                            callbacks\u001b[38;5;241m=\u001b[39m[pruning_callback],\n\u001b[1;32m     33\u001b[0m                            verbose\u001b[38;5;241m=\u001b[39m\u001b[38;5;241m-\u001b[39m\u001b[38;5;241m1\u001b[39m)\n\u001b[0;32m---> 34\u001b[0m scores \u001b[38;5;241m=\u001b[39m \u001b[43mcross_val_score\u001b[49m\u001b[43m(\u001b[49m\u001b[43mmodel\u001b[49m\u001b[43m,\u001b[49m\u001b[43m \u001b[49m\u001b[43mX\u001b[49m\u001b[43m,\u001b[49m\u001b[43m \u001b[49m\u001b[43my\u001b[49m\u001b[43m,\u001b[49m\u001b[43m \u001b[49m\u001b[43mscoring\u001b[49m\u001b[38;5;241;43m=\u001b[39;49m\u001b[38;5;124;43m\"\u001b[39;49m\u001b[38;5;124;43mf1_macro\u001b[39;49m\u001b[38;5;124;43m\"\u001b[39;49m\u001b[43m)\u001b[49m\n\u001b[1;32m     35\u001b[0m \u001b[38;5;28;01mreturn\u001b[39;00m scores\u001b[38;5;241m.\u001b[39mmean()\n",
      "File \u001b[0;32m/usr/local/lib/python3.9/dist-packages/sklearn/model_selection/_validation.py:515\u001b[0m, in \u001b[0;36mcross_val_score\u001b[0;34m(estimator, X, y, groups, scoring, cv, n_jobs, verbose, fit_params, pre_dispatch, error_score)\u001b[0m\n\u001b[1;32m    512\u001b[0m \u001b[38;5;66;03m# To ensure multimetric format is not supported\u001b[39;00m\n\u001b[1;32m    513\u001b[0m scorer \u001b[38;5;241m=\u001b[39m check_scoring(estimator, scoring\u001b[38;5;241m=\u001b[39mscoring)\n\u001b[0;32m--> 515\u001b[0m cv_results \u001b[38;5;241m=\u001b[39m \u001b[43mcross_validate\u001b[49m\u001b[43m(\u001b[49m\n\u001b[1;32m    516\u001b[0m \u001b[43m    \u001b[49m\u001b[43mestimator\u001b[49m\u001b[38;5;241;43m=\u001b[39;49m\u001b[43mestimator\u001b[49m\u001b[43m,\u001b[49m\n\u001b[1;32m    517\u001b[0m \u001b[43m    \u001b[49m\u001b[43mX\u001b[49m\u001b[38;5;241;43m=\u001b[39;49m\u001b[43mX\u001b[49m\u001b[43m,\u001b[49m\n\u001b[1;32m    518\u001b[0m \u001b[43m    \u001b[49m\u001b[43my\u001b[49m\u001b[38;5;241;43m=\u001b[39;49m\u001b[43my\u001b[49m\u001b[43m,\u001b[49m\n\u001b[1;32m    519\u001b[0m \u001b[43m    \u001b[49m\u001b[43mgroups\u001b[49m\u001b[38;5;241;43m=\u001b[39;49m\u001b[43mgroups\u001b[49m\u001b[43m,\u001b[49m\n\u001b[1;32m    520\u001b[0m \u001b[43m    \u001b[49m\u001b[43mscoring\u001b[49m\u001b[38;5;241;43m=\u001b[39;49m\u001b[43m{\u001b[49m\u001b[38;5;124;43m\"\u001b[39;49m\u001b[38;5;124;43mscore\u001b[39;49m\u001b[38;5;124;43m\"\u001b[39;49m\u001b[43m:\u001b[49m\u001b[43m \u001b[49m\u001b[43mscorer\u001b[49m\u001b[43m}\u001b[49m\u001b[43m,\u001b[49m\n\u001b[1;32m    521\u001b[0m \u001b[43m    \u001b[49m\u001b[43mcv\u001b[49m\u001b[38;5;241;43m=\u001b[39;49m\u001b[43mcv\u001b[49m\u001b[43m,\u001b[49m\n\u001b[1;32m    522\u001b[0m \u001b[43m    \u001b[49m\u001b[43mn_jobs\u001b[49m\u001b[38;5;241;43m=\u001b[39;49m\u001b[43mn_jobs\u001b[49m\u001b[43m,\u001b[49m\n\u001b[1;32m    523\u001b[0m \u001b[43m    \u001b[49m\u001b[43mverbose\u001b[49m\u001b[38;5;241;43m=\u001b[39;49m\u001b[43mverbose\u001b[49m\u001b[43m,\u001b[49m\n\u001b[1;32m    524\u001b[0m \u001b[43m    \u001b[49m\u001b[43mfit_params\u001b[49m\u001b[38;5;241;43m=\u001b[39;49m\u001b[43mfit_params\u001b[49m\u001b[43m,\u001b[49m\n\u001b[1;32m    525\u001b[0m \u001b[43m    \u001b[49m\u001b[43mpre_dispatch\u001b[49m\u001b[38;5;241;43m=\u001b[39;49m\u001b[43mpre_dispatch\u001b[49m\u001b[43m,\u001b[49m\n\u001b[1;32m    526\u001b[0m \u001b[43m    \u001b[49m\u001b[43merror_score\u001b[49m\u001b[38;5;241;43m=\u001b[39;49m\u001b[43merror_score\u001b[49m\u001b[43m,\u001b[49m\n\u001b[1;32m    527\u001b[0m \u001b[43m\u001b[49m\u001b[43m)\u001b[49m\n\u001b[1;32m    528\u001b[0m \u001b[38;5;28;01mreturn\u001b[39;00m cv_results[\u001b[38;5;124m\"\u001b[39m\u001b[38;5;124mtest_score\u001b[39m\u001b[38;5;124m\"\u001b[39m]\n",
      "File \u001b[0;32m/usr/local/lib/python3.9/dist-packages/sklearn/model_selection/_validation.py:266\u001b[0m, in \u001b[0;36mcross_validate\u001b[0;34m(estimator, X, y, groups, scoring, cv, n_jobs, verbose, fit_params, pre_dispatch, return_train_score, return_estimator, error_score)\u001b[0m\n\u001b[1;32m    263\u001b[0m \u001b[38;5;66;03m# We clone the estimator to make sure that all the folds are\u001b[39;00m\n\u001b[1;32m    264\u001b[0m \u001b[38;5;66;03m# independent, and that it is pickle-able.\u001b[39;00m\n\u001b[1;32m    265\u001b[0m parallel \u001b[38;5;241m=\u001b[39m Parallel(n_jobs\u001b[38;5;241m=\u001b[39mn_jobs, verbose\u001b[38;5;241m=\u001b[39mverbose, pre_dispatch\u001b[38;5;241m=\u001b[39mpre_dispatch)\n\u001b[0;32m--> 266\u001b[0m results \u001b[38;5;241m=\u001b[39m \u001b[43mparallel\u001b[49m\u001b[43m(\u001b[49m\n\u001b[1;32m    267\u001b[0m \u001b[43m    \u001b[49m\u001b[43mdelayed\u001b[49m\u001b[43m(\u001b[49m\u001b[43m_fit_and_score\u001b[49m\u001b[43m)\u001b[49m\u001b[43m(\u001b[49m\n\u001b[1;32m    268\u001b[0m \u001b[43m        \u001b[49m\u001b[43mclone\u001b[49m\u001b[43m(\u001b[49m\u001b[43mestimator\u001b[49m\u001b[43m)\u001b[49m\u001b[43m,\u001b[49m\n\u001b[1;32m    269\u001b[0m \u001b[43m        \u001b[49m\u001b[43mX\u001b[49m\u001b[43m,\u001b[49m\n\u001b[1;32m    270\u001b[0m \u001b[43m        \u001b[49m\u001b[43my\u001b[49m\u001b[43m,\u001b[49m\n\u001b[1;32m    271\u001b[0m \u001b[43m        \u001b[49m\u001b[43mscorers\u001b[49m\u001b[43m,\u001b[49m\n\u001b[1;32m    272\u001b[0m \u001b[43m        \u001b[49m\u001b[43mtrain\u001b[49m\u001b[43m,\u001b[49m\n\u001b[1;32m    273\u001b[0m \u001b[43m        \u001b[49m\u001b[43mtest\u001b[49m\u001b[43m,\u001b[49m\n\u001b[1;32m    274\u001b[0m \u001b[43m        \u001b[49m\u001b[43mverbose\u001b[49m\u001b[43m,\u001b[49m\n\u001b[1;32m    275\u001b[0m \u001b[43m        \u001b[49m\u001b[38;5;28;43;01mNone\u001b[39;49;00m\u001b[43m,\u001b[49m\n\u001b[1;32m    276\u001b[0m \u001b[43m        \u001b[49m\u001b[43mfit_params\u001b[49m\u001b[43m,\u001b[49m\n\u001b[1;32m    277\u001b[0m \u001b[43m        \u001b[49m\u001b[43mreturn_train_score\u001b[49m\u001b[38;5;241;43m=\u001b[39;49m\u001b[43mreturn_train_score\u001b[49m\u001b[43m,\u001b[49m\n\u001b[1;32m    278\u001b[0m \u001b[43m        \u001b[49m\u001b[43mreturn_times\u001b[49m\u001b[38;5;241;43m=\u001b[39;49m\u001b[38;5;28;43;01mTrue\u001b[39;49;00m\u001b[43m,\u001b[49m\n\u001b[1;32m    279\u001b[0m \u001b[43m        \u001b[49m\u001b[43mreturn_estimator\u001b[49m\u001b[38;5;241;43m=\u001b[39;49m\u001b[43mreturn_estimator\u001b[49m\u001b[43m,\u001b[49m\n\u001b[1;32m    280\u001b[0m \u001b[43m        \u001b[49m\u001b[43merror_score\u001b[49m\u001b[38;5;241;43m=\u001b[39;49m\u001b[43merror_score\u001b[49m\u001b[43m,\u001b[49m\n\u001b[1;32m    281\u001b[0m \u001b[43m    \u001b[49m\u001b[43m)\u001b[49m\n\u001b[1;32m    282\u001b[0m \u001b[43m    \u001b[49m\u001b[38;5;28;43;01mfor\u001b[39;49;00m\u001b[43m \u001b[49m\u001b[43mtrain\u001b[49m\u001b[43m,\u001b[49m\u001b[43m \u001b[49m\u001b[43mtest\u001b[49m\u001b[43m \u001b[49m\u001b[38;5;129;43;01min\u001b[39;49;00m\u001b[43m \u001b[49m\u001b[43mcv\u001b[49m\u001b[38;5;241;43m.\u001b[39;49m\u001b[43msplit\u001b[49m\u001b[43m(\u001b[49m\u001b[43mX\u001b[49m\u001b[43m,\u001b[49m\u001b[43m \u001b[49m\u001b[43my\u001b[49m\u001b[43m,\u001b[49m\u001b[43m \u001b[49m\u001b[43mgroups\u001b[49m\u001b[43m)\u001b[49m\n\u001b[1;32m    283\u001b[0m \u001b[43m\u001b[49m\u001b[43m)\u001b[49m\n\u001b[1;32m    285\u001b[0m _warn_or_raise_about_fit_failures(results, error_score)\n\u001b[1;32m    287\u001b[0m \u001b[38;5;66;03m# For callabe scoring, the return type is only know after calling. If the\u001b[39;00m\n\u001b[1;32m    288\u001b[0m \u001b[38;5;66;03m# return type is a dictionary, the error scores can now be inserted with\u001b[39;00m\n\u001b[1;32m    289\u001b[0m \u001b[38;5;66;03m# the correct key.\u001b[39;00m\n",
      "File \u001b[0;32m/usr/local/lib/python3.9/dist-packages/joblib/parallel.py:1046\u001b[0m, in \u001b[0;36mParallel.__call__\u001b[0;34m(self, iterable)\u001b[0m\n\u001b[1;32m   1043\u001b[0m \u001b[38;5;28;01mif\u001b[39;00m \u001b[38;5;28mself\u001b[39m\u001b[38;5;241m.\u001b[39mdispatch_one_batch(iterator):\n\u001b[1;32m   1044\u001b[0m     \u001b[38;5;28mself\u001b[39m\u001b[38;5;241m.\u001b[39m_iterating \u001b[38;5;241m=\u001b[39m \u001b[38;5;28mself\u001b[39m\u001b[38;5;241m.\u001b[39m_original_iterator \u001b[38;5;129;01mis\u001b[39;00m \u001b[38;5;129;01mnot\u001b[39;00m \u001b[38;5;28;01mNone\u001b[39;00m\n\u001b[0;32m-> 1046\u001b[0m \u001b[38;5;28;01mwhile\u001b[39;00m \u001b[38;5;28;43mself\u001b[39;49m\u001b[38;5;241;43m.\u001b[39;49m\u001b[43mdispatch_one_batch\u001b[49m\u001b[43m(\u001b[49m\u001b[43miterator\u001b[49m\u001b[43m)\u001b[49m:\n\u001b[1;32m   1047\u001b[0m     \u001b[38;5;28;01mpass\u001b[39;00m\n\u001b[1;32m   1049\u001b[0m \u001b[38;5;28;01mif\u001b[39;00m pre_dispatch \u001b[38;5;241m==\u001b[39m \u001b[38;5;124m\"\u001b[39m\u001b[38;5;124mall\u001b[39m\u001b[38;5;124m\"\u001b[39m \u001b[38;5;129;01mor\u001b[39;00m n_jobs \u001b[38;5;241m==\u001b[39m \u001b[38;5;241m1\u001b[39m:\n\u001b[1;32m   1050\u001b[0m     \u001b[38;5;66;03m# The iterable was consumed all at once by the above for loop.\u001b[39;00m\n\u001b[1;32m   1051\u001b[0m     \u001b[38;5;66;03m# No need to wait for async callbacks to trigger to\u001b[39;00m\n\u001b[1;32m   1052\u001b[0m     \u001b[38;5;66;03m# consumption.\u001b[39;00m\n",
      "File \u001b[0;32m/usr/local/lib/python3.9/dist-packages/joblib/parallel.py:833\u001b[0m, in \u001b[0;36mParallel.dispatch_one_batch\u001b[0;34m(self, iterator)\u001b[0m\n\u001b[1;32m    830\u001b[0m n_jobs \u001b[38;5;241m=\u001b[39m \u001b[38;5;28mself\u001b[39m\u001b[38;5;241m.\u001b[39m_cached_effective_n_jobs\n\u001b[1;32m    831\u001b[0m big_batch_size \u001b[38;5;241m=\u001b[39m batch_size \u001b[38;5;241m*\u001b[39m n_jobs\n\u001b[0;32m--> 833\u001b[0m islice \u001b[38;5;241m=\u001b[39m \u001b[38;5;28;43mlist\u001b[39;49m\u001b[43m(\u001b[49m\u001b[43mitertools\u001b[49m\u001b[38;5;241;43m.\u001b[39;49m\u001b[43mislice\u001b[49m\u001b[43m(\u001b[49m\u001b[43miterator\u001b[49m\u001b[43m,\u001b[49m\u001b[43m \u001b[49m\u001b[43mbig_batch_size\u001b[49m\u001b[43m)\u001b[49m\u001b[43m)\u001b[49m\n\u001b[1;32m    834\u001b[0m \u001b[38;5;28;01mif\u001b[39;00m \u001b[38;5;28mlen\u001b[39m(islice) \u001b[38;5;241m==\u001b[39m \u001b[38;5;241m0\u001b[39m:\n\u001b[1;32m    835\u001b[0m     \u001b[38;5;28;01mreturn\u001b[39;00m \u001b[38;5;28;01mFalse\u001b[39;00m\n",
      "File \u001b[0;32m/usr/local/lib/python3.9/dist-packages/sklearn/model_selection/_validation.py:268\u001b[0m, in \u001b[0;36m<genexpr>\u001b[0;34m(.0)\u001b[0m\n\u001b[1;32m    263\u001b[0m \u001b[38;5;66;03m# We clone the estimator to make sure that all the folds are\u001b[39;00m\n\u001b[1;32m    264\u001b[0m \u001b[38;5;66;03m# independent, and that it is pickle-able.\u001b[39;00m\n\u001b[1;32m    265\u001b[0m parallel \u001b[38;5;241m=\u001b[39m Parallel(n_jobs\u001b[38;5;241m=\u001b[39mn_jobs, verbose\u001b[38;5;241m=\u001b[39mverbose, pre_dispatch\u001b[38;5;241m=\u001b[39mpre_dispatch)\n\u001b[1;32m    266\u001b[0m results \u001b[38;5;241m=\u001b[39m parallel(\n\u001b[1;32m    267\u001b[0m     delayed(_fit_and_score)(\n\u001b[0;32m--> 268\u001b[0m         \u001b[43mclone\u001b[49m\u001b[43m(\u001b[49m\u001b[43mestimator\u001b[49m\u001b[43m)\u001b[49m,\n\u001b[1;32m    269\u001b[0m         X,\n\u001b[1;32m    270\u001b[0m         y,\n\u001b[1;32m    271\u001b[0m         scorers,\n\u001b[1;32m    272\u001b[0m         train,\n\u001b[1;32m    273\u001b[0m         test,\n\u001b[1;32m    274\u001b[0m         verbose,\n\u001b[1;32m    275\u001b[0m         \u001b[38;5;28;01mNone\u001b[39;00m,\n\u001b[1;32m    276\u001b[0m         fit_params,\n\u001b[1;32m    277\u001b[0m         return_train_score\u001b[38;5;241m=\u001b[39mreturn_train_score,\n\u001b[1;32m    278\u001b[0m         return_times\u001b[38;5;241m=\u001b[39m\u001b[38;5;28;01mTrue\u001b[39;00m,\n\u001b[1;32m    279\u001b[0m         return_estimator\u001b[38;5;241m=\u001b[39mreturn_estimator,\n\u001b[1;32m    280\u001b[0m         error_score\u001b[38;5;241m=\u001b[39merror_score,\n\u001b[1;32m    281\u001b[0m     )\n\u001b[1;32m    282\u001b[0m     \u001b[38;5;28;01mfor\u001b[39;00m train, test \u001b[38;5;129;01min\u001b[39;00m cv\u001b[38;5;241m.\u001b[39msplit(X, y, groups)\n\u001b[1;32m    283\u001b[0m )\n\u001b[1;32m    285\u001b[0m _warn_or_raise_about_fit_failures(results, error_score)\n\u001b[1;32m    287\u001b[0m \u001b[38;5;66;03m# For callabe scoring, the return type is only know after calling. If the\u001b[39;00m\n\u001b[1;32m    288\u001b[0m \u001b[38;5;66;03m# return type is a dictionary, the error scores can now be inserted with\u001b[39;00m\n\u001b[1;32m    289\u001b[0m \u001b[38;5;66;03m# the correct key.\u001b[39;00m\n",
      "File \u001b[0;32m/usr/local/lib/python3.9/dist-packages/sklearn/base.py:87\u001b[0m, in \u001b[0;36mclone\u001b[0;34m(estimator, safe)\u001b[0m\n\u001b[1;32m     85\u001b[0m new_object_params \u001b[38;5;241m=\u001b[39m estimator\u001b[38;5;241m.\u001b[39mget_params(deep\u001b[38;5;241m=\u001b[39m\u001b[38;5;28;01mFalse\u001b[39;00m)\n\u001b[1;32m     86\u001b[0m \u001b[38;5;28;01mfor\u001b[39;00m name, param \u001b[38;5;129;01min\u001b[39;00m new_object_params\u001b[38;5;241m.\u001b[39mitems():\n\u001b[0;32m---> 87\u001b[0m     new_object_params[name] \u001b[38;5;241m=\u001b[39m \u001b[43mclone\u001b[49m\u001b[43m(\u001b[49m\u001b[43mparam\u001b[49m\u001b[43m,\u001b[49m\u001b[43m \u001b[49m\u001b[43msafe\u001b[49m\u001b[38;5;241;43m=\u001b[39;49m\u001b[38;5;28;43;01mFalse\u001b[39;49;00m\u001b[43m)\u001b[49m\n\u001b[1;32m     88\u001b[0m new_object \u001b[38;5;241m=\u001b[39m klass(\u001b[38;5;241m*\u001b[39m\u001b[38;5;241m*\u001b[39mnew_object_params)\n\u001b[1;32m     89\u001b[0m params_set \u001b[38;5;241m=\u001b[39m new_object\u001b[38;5;241m.\u001b[39mget_params(deep\u001b[38;5;241m=\u001b[39m\u001b[38;5;28;01mFalse\u001b[39;00m)\n",
      "File \u001b[0;32m/usr/local/lib/python3.9/dist-packages/sklearn/base.py:65\u001b[0m, in \u001b[0;36mclone\u001b[0;34m(estimator, safe)\u001b[0m\n\u001b[1;32m     63\u001b[0m \u001b[38;5;66;03m# XXX: not handling dictionaries\u001b[39;00m\n\u001b[1;32m     64\u001b[0m \u001b[38;5;28;01mif\u001b[39;00m estimator_type \u001b[38;5;129;01min\u001b[39;00m (\u001b[38;5;28mlist\u001b[39m, \u001b[38;5;28mtuple\u001b[39m, \u001b[38;5;28mset\u001b[39m, \u001b[38;5;28mfrozenset\u001b[39m):\n\u001b[0;32m---> 65\u001b[0m     \u001b[38;5;28;01mreturn\u001b[39;00m estimator_type([clone(e, safe\u001b[38;5;241m=\u001b[39msafe) \u001b[38;5;28;01mfor\u001b[39;00m e \u001b[38;5;129;01min\u001b[39;00m estimator])\n\u001b[1;32m     66\u001b[0m \u001b[38;5;28;01melif\u001b[39;00m \u001b[38;5;129;01mnot\u001b[39;00m \u001b[38;5;28mhasattr\u001b[39m(estimator, \u001b[38;5;124m\"\u001b[39m\u001b[38;5;124mget_params\u001b[39m\u001b[38;5;124m\"\u001b[39m) \u001b[38;5;129;01mor\u001b[39;00m \u001b[38;5;28misinstance\u001b[39m(estimator, \u001b[38;5;28mtype\u001b[39m):\n\u001b[1;32m     67\u001b[0m     \u001b[38;5;28;01mif\u001b[39;00m \u001b[38;5;129;01mnot\u001b[39;00m safe:\n",
      "File \u001b[0;32m/usr/local/lib/python3.9/dist-packages/sklearn/base.py:65\u001b[0m, in \u001b[0;36m<listcomp>\u001b[0;34m(.0)\u001b[0m\n\u001b[1;32m     63\u001b[0m \u001b[38;5;66;03m# XXX: not handling dictionaries\u001b[39;00m\n\u001b[1;32m     64\u001b[0m \u001b[38;5;28;01mif\u001b[39;00m estimator_type \u001b[38;5;129;01min\u001b[39;00m (\u001b[38;5;28mlist\u001b[39m, \u001b[38;5;28mtuple\u001b[39m, \u001b[38;5;28mset\u001b[39m, \u001b[38;5;28mfrozenset\u001b[39m):\n\u001b[0;32m---> 65\u001b[0m     \u001b[38;5;28;01mreturn\u001b[39;00m estimator_type([\u001b[43mclone\u001b[49m\u001b[43m(\u001b[49m\u001b[43me\u001b[49m\u001b[43m,\u001b[49m\u001b[43m \u001b[49m\u001b[43msafe\u001b[49m\u001b[38;5;241;43m=\u001b[39;49m\u001b[43msafe\u001b[49m\u001b[43m)\u001b[49m \u001b[38;5;28;01mfor\u001b[39;00m e \u001b[38;5;129;01min\u001b[39;00m estimator])\n\u001b[1;32m     66\u001b[0m \u001b[38;5;28;01melif\u001b[39;00m \u001b[38;5;129;01mnot\u001b[39;00m \u001b[38;5;28mhasattr\u001b[39m(estimator, \u001b[38;5;124m\"\u001b[39m\u001b[38;5;124mget_params\u001b[39m\u001b[38;5;124m\"\u001b[39m) \u001b[38;5;129;01mor\u001b[39;00m \u001b[38;5;28misinstance\u001b[39m(estimator, \u001b[38;5;28mtype\u001b[39m):\n\u001b[1;32m     67\u001b[0m     \u001b[38;5;28;01mif\u001b[39;00m \u001b[38;5;129;01mnot\u001b[39;00m safe:\n",
      "File \u001b[0;32m/usr/local/lib/python3.9/dist-packages/sklearn/base.py:68\u001b[0m, in \u001b[0;36mclone\u001b[0;34m(estimator, safe)\u001b[0m\n\u001b[1;32m     66\u001b[0m \u001b[38;5;28;01melif\u001b[39;00m \u001b[38;5;129;01mnot\u001b[39;00m \u001b[38;5;28mhasattr\u001b[39m(estimator, \u001b[38;5;124m\"\u001b[39m\u001b[38;5;124mget_params\u001b[39m\u001b[38;5;124m\"\u001b[39m) \u001b[38;5;129;01mor\u001b[39;00m \u001b[38;5;28misinstance\u001b[39m(estimator, \u001b[38;5;28mtype\u001b[39m):\n\u001b[1;32m     67\u001b[0m     \u001b[38;5;28;01mif\u001b[39;00m \u001b[38;5;129;01mnot\u001b[39;00m safe:\n\u001b[0;32m---> 68\u001b[0m         \u001b[38;5;28;01mreturn\u001b[39;00m \u001b[43mcopy\u001b[49m\u001b[38;5;241;43m.\u001b[39;49m\u001b[43mdeepcopy\u001b[49m\u001b[43m(\u001b[49m\u001b[43mestimator\u001b[49m\u001b[43m)\u001b[49m\n\u001b[1;32m     69\u001b[0m     \u001b[38;5;28;01melse\u001b[39;00m:\n\u001b[1;32m     70\u001b[0m         \u001b[38;5;28;01mif\u001b[39;00m \u001b[38;5;28misinstance\u001b[39m(estimator, \u001b[38;5;28mtype\u001b[39m):\n",
      "File \u001b[0;32m/usr/lib/python3.9/copy.py:172\u001b[0m, in \u001b[0;36mdeepcopy\u001b[0;34m(x, memo, _nil)\u001b[0m\n\u001b[1;32m    170\u001b[0m                 y \u001b[38;5;241m=\u001b[39m x\n\u001b[1;32m    171\u001b[0m             \u001b[38;5;28;01melse\u001b[39;00m:\n\u001b[0;32m--> 172\u001b[0m                 y \u001b[38;5;241m=\u001b[39m \u001b[43m_reconstruct\u001b[49m\u001b[43m(\u001b[49m\u001b[43mx\u001b[49m\u001b[43m,\u001b[49m\u001b[43m \u001b[49m\u001b[43mmemo\u001b[49m\u001b[43m,\u001b[49m\u001b[43m \u001b[49m\u001b[38;5;241;43m*\u001b[39;49m\u001b[43mrv\u001b[49m\u001b[43m)\u001b[49m\n\u001b[1;32m    174\u001b[0m \u001b[38;5;66;03m# If is its own copy, don't memoize.\u001b[39;00m\n\u001b[1;32m    175\u001b[0m \u001b[38;5;28;01mif\u001b[39;00m y \u001b[38;5;129;01mis\u001b[39;00m \u001b[38;5;129;01mnot\u001b[39;00m x:\n",
      "File \u001b[0;32m/usr/lib/python3.9/copy.py:270\u001b[0m, in \u001b[0;36m_reconstruct\u001b[0;34m(x, memo, func, args, state, listiter, dictiter, deepcopy)\u001b[0m\n\u001b[1;32m    268\u001b[0m \u001b[38;5;28;01mif\u001b[39;00m state \u001b[38;5;129;01mis\u001b[39;00m \u001b[38;5;129;01mnot\u001b[39;00m \u001b[38;5;28;01mNone\u001b[39;00m:\n\u001b[1;32m    269\u001b[0m     \u001b[38;5;28;01mif\u001b[39;00m deep:\n\u001b[0;32m--> 270\u001b[0m         state \u001b[38;5;241m=\u001b[39m \u001b[43mdeepcopy\u001b[49m\u001b[43m(\u001b[49m\u001b[43mstate\u001b[49m\u001b[43m,\u001b[49m\u001b[43m \u001b[49m\u001b[43mmemo\u001b[49m\u001b[43m)\u001b[49m\n\u001b[1;32m    271\u001b[0m     \u001b[38;5;28;01mif\u001b[39;00m \u001b[38;5;28mhasattr\u001b[39m(y, \u001b[38;5;124m'\u001b[39m\u001b[38;5;124m__setstate__\u001b[39m\u001b[38;5;124m'\u001b[39m):\n\u001b[1;32m    272\u001b[0m         y\u001b[38;5;241m.\u001b[39m__setstate__(state)\n",
      "File \u001b[0;32m/usr/lib/python3.9/copy.py:146\u001b[0m, in \u001b[0;36mdeepcopy\u001b[0;34m(x, memo, _nil)\u001b[0m\n\u001b[1;32m    144\u001b[0m copier \u001b[38;5;241m=\u001b[39m _deepcopy_dispatch\u001b[38;5;241m.\u001b[39mget(\u001b[38;5;28mcls\u001b[39m)\n\u001b[1;32m    145\u001b[0m \u001b[38;5;28;01mif\u001b[39;00m copier \u001b[38;5;129;01mis\u001b[39;00m \u001b[38;5;129;01mnot\u001b[39;00m \u001b[38;5;28;01mNone\u001b[39;00m:\n\u001b[0;32m--> 146\u001b[0m     y \u001b[38;5;241m=\u001b[39m \u001b[43mcopier\u001b[49m\u001b[43m(\u001b[49m\u001b[43mx\u001b[49m\u001b[43m,\u001b[49m\u001b[43m \u001b[49m\u001b[43mmemo\u001b[49m\u001b[43m)\u001b[49m\n\u001b[1;32m    147\u001b[0m \u001b[38;5;28;01melse\u001b[39;00m:\n\u001b[1;32m    148\u001b[0m     \u001b[38;5;28;01mif\u001b[39;00m \u001b[38;5;28missubclass\u001b[39m(\u001b[38;5;28mcls\u001b[39m, \u001b[38;5;28mtype\u001b[39m):\n",
      "File \u001b[0;32m/usr/lib/python3.9/copy.py:230\u001b[0m, in \u001b[0;36m_deepcopy_dict\u001b[0;34m(x, memo, deepcopy)\u001b[0m\n\u001b[1;32m    228\u001b[0m memo[\u001b[38;5;28mid\u001b[39m(x)] \u001b[38;5;241m=\u001b[39m y\n\u001b[1;32m    229\u001b[0m \u001b[38;5;28;01mfor\u001b[39;00m key, value \u001b[38;5;129;01min\u001b[39;00m x\u001b[38;5;241m.\u001b[39mitems():\n\u001b[0;32m--> 230\u001b[0m     y[deepcopy(key, memo)] \u001b[38;5;241m=\u001b[39m \u001b[43mdeepcopy\u001b[49m\u001b[43m(\u001b[49m\u001b[43mvalue\u001b[49m\u001b[43m,\u001b[49m\u001b[43m \u001b[49m\u001b[43mmemo\u001b[49m\u001b[43m)\u001b[49m\n\u001b[1;32m    231\u001b[0m \u001b[38;5;28;01mreturn\u001b[39;00m y\n",
      "File \u001b[0;32m/usr/lib/python3.9/copy.py:172\u001b[0m, in \u001b[0;36mdeepcopy\u001b[0;34m(x, memo, _nil)\u001b[0m\n\u001b[1;32m    170\u001b[0m                 y \u001b[38;5;241m=\u001b[39m x\n\u001b[1;32m    171\u001b[0m             \u001b[38;5;28;01melse\u001b[39;00m:\n\u001b[0;32m--> 172\u001b[0m                 y \u001b[38;5;241m=\u001b[39m \u001b[43m_reconstruct\u001b[49m\u001b[43m(\u001b[49m\u001b[43mx\u001b[49m\u001b[43m,\u001b[49m\u001b[43m \u001b[49m\u001b[43mmemo\u001b[49m\u001b[43m,\u001b[49m\u001b[43m \u001b[49m\u001b[38;5;241;43m*\u001b[39;49m\u001b[43mrv\u001b[49m\u001b[43m)\u001b[49m\n\u001b[1;32m    174\u001b[0m \u001b[38;5;66;03m# If is its own copy, don't memoize.\u001b[39;00m\n\u001b[1;32m    175\u001b[0m \u001b[38;5;28;01mif\u001b[39;00m y \u001b[38;5;129;01mis\u001b[39;00m \u001b[38;5;129;01mnot\u001b[39;00m x:\n",
      "File \u001b[0;32m/usr/lib/python3.9/copy.py:270\u001b[0m, in \u001b[0;36m_reconstruct\u001b[0;34m(x, memo, func, args, state, listiter, dictiter, deepcopy)\u001b[0m\n\u001b[1;32m    268\u001b[0m \u001b[38;5;28;01mif\u001b[39;00m state \u001b[38;5;129;01mis\u001b[39;00m \u001b[38;5;129;01mnot\u001b[39;00m \u001b[38;5;28;01mNone\u001b[39;00m:\n\u001b[1;32m    269\u001b[0m     \u001b[38;5;28;01mif\u001b[39;00m deep:\n\u001b[0;32m--> 270\u001b[0m         state \u001b[38;5;241m=\u001b[39m \u001b[43mdeepcopy\u001b[49m\u001b[43m(\u001b[49m\u001b[43mstate\u001b[49m\u001b[43m,\u001b[49m\u001b[43m \u001b[49m\u001b[43mmemo\u001b[49m\u001b[43m)\u001b[49m\n\u001b[1;32m    271\u001b[0m     \u001b[38;5;28;01mif\u001b[39;00m \u001b[38;5;28mhasattr\u001b[39m(y, \u001b[38;5;124m'\u001b[39m\u001b[38;5;124m__setstate__\u001b[39m\u001b[38;5;124m'\u001b[39m):\n\u001b[1;32m    272\u001b[0m         y\u001b[38;5;241m.\u001b[39m__setstate__(state)\n",
      "File \u001b[0;32m/usr/lib/python3.9/copy.py:146\u001b[0m, in \u001b[0;36mdeepcopy\u001b[0;34m(x, memo, _nil)\u001b[0m\n\u001b[1;32m    144\u001b[0m copier \u001b[38;5;241m=\u001b[39m _deepcopy_dispatch\u001b[38;5;241m.\u001b[39mget(\u001b[38;5;28mcls\u001b[39m)\n\u001b[1;32m    145\u001b[0m \u001b[38;5;28;01mif\u001b[39;00m copier \u001b[38;5;129;01mis\u001b[39;00m \u001b[38;5;129;01mnot\u001b[39;00m \u001b[38;5;28;01mNone\u001b[39;00m:\n\u001b[0;32m--> 146\u001b[0m     y \u001b[38;5;241m=\u001b[39m \u001b[43mcopier\u001b[49m\u001b[43m(\u001b[49m\u001b[43mx\u001b[49m\u001b[43m,\u001b[49m\u001b[43m \u001b[49m\u001b[43mmemo\u001b[49m\u001b[43m)\u001b[49m\n\u001b[1;32m    147\u001b[0m \u001b[38;5;28;01melse\u001b[39;00m:\n\u001b[1;32m    148\u001b[0m     \u001b[38;5;28;01mif\u001b[39;00m \u001b[38;5;28missubclass\u001b[39m(\u001b[38;5;28mcls\u001b[39m, \u001b[38;5;28mtype\u001b[39m):\n",
      "File \u001b[0;32m/usr/lib/python3.9/copy.py:230\u001b[0m, in \u001b[0;36m_deepcopy_dict\u001b[0;34m(x, memo, deepcopy)\u001b[0m\n\u001b[1;32m    228\u001b[0m memo[\u001b[38;5;28mid\u001b[39m(x)] \u001b[38;5;241m=\u001b[39m y\n\u001b[1;32m    229\u001b[0m \u001b[38;5;28;01mfor\u001b[39;00m key, value \u001b[38;5;129;01min\u001b[39;00m x\u001b[38;5;241m.\u001b[39mitems():\n\u001b[0;32m--> 230\u001b[0m     y[deepcopy(key, memo)] \u001b[38;5;241m=\u001b[39m \u001b[43mdeepcopy\u001b[49m\u001b[43m(\u001b[49m\u001b[43mvalue\u001b[49m\u001b[43m,\u001b[49m\u001b[43m \u001b[49m\u001b[43mmemo\u001b[49m\u001b[43m)\u001b[49m\n\u001b[1;32m    231\u001b[0m \u001b[38;5;28;01mreturn\u001b[39;00m y\n",
      "    \u001b[0;31m[... skipping similar frames: _deepcopy_dict at line 230 (3 times), deepcopy at line 146 (3 times), _reconstruct at line 270 (2 times), deepcopy at line 172 (2 times)]\u001b[0m\n",
      "File \u001b[0;32m/usr/lib/python3.9/copy.py:172\u001b[0m, in \u001b[0;36mdeepcopy\u001b[0;34m(x, memo, _nil)\u001b[0m\n\u001b[1;32m    170\u001b[0m                 y \u001b[38;5;241m=\u001b[39m x\n\u001b[1;32m    171\u001b[0m             \u001b[38;5;28;01melse\u001b[39;00m:\n\u001b[0;32m--> 172\u001b[0m                 y \u001b[38;5;241m=\u001b[39m \u001b[43m_reconstruct\u001b[49m\u001b[43m(\u001b[49m\u001b[43mx\u001b[49m\u001b[43m,\u001b[49m\u001b[43m \u001b[49m\u001b[43mmemo\u001b[49m\u001b[43m,\u001b[49m\u001b[43m \u001b[49m\u001b[38;5;241;43m*\u001b[39;49m\u001b[43mrv\u001b[49m\u001b[43m)\u001b[49m\n\u001b[1;32m    174\u001b[0m \u001b[38;5;66;03m# If is its own copy, don't memoize.\u001b[39;00m\n\u001b[1;32m    175\u001b[0m \u001b[38;5;28;01mif\u001b[39;00m y \u001b[38;5;129;01mis\u001b[39;00m \u001b[38;5;129;01mnot\u001b[39;00m x:\n",
      "File \u001b[0;32m/usr/lib/python3.9/copy.py:270\u001b[0m, in \u001b[0;36m_reconstruct\u001b[0;34m(x, memo, func, args, state, listiter, dictiter, deepcopy)\u001b[0m\n\u001b[1;32m    268\u001b[0m \u001b[38;5;28;01mif\u001b[39;00m state \u001b[38;5;129;01mis\u001b[39;00m \u001b[38;5;129;01mnot\u001b[39;00m \u001b[38;5;28;01mNone\u001b[39;00m:\n\u001b[1;32m    269\u001b[0m     \u001b[38;5;28;01mif\u001b[39;00m deep:\n\u001b[0;32m--> 270\u001b[0m         state \u001b[38;5;241m=\u001b[39m \u001b[43mdeepcopy\u001b[49m\u001b[43m(\u001b[49m\u001b[43mstate\u001b[49m\u001b[43m,\u001b[49m\u001b[43m \u001b[49m\u001b[43mmemo\u001b[49m\u001b[43m)\u001b[49m\n\u001b[1;32m    271\u001b[0m     \u001b[38;5;28;01mif\u001b[39;00m \u001b[38;5;28mhasattr\u001b[39m(y, \u001b[38;5;124m'\u001b[39m\u001b[38;5;124m__setstate__\u001b[39m\u001b[38;5;124m'\u001b[39m):\n\u001b[1;32m    272\u001b[0m         y\u001b[38;5;241m.\u001b[39m__setstate__(state)\n",
      "    \u001b[0;31m[... skipping similar frames: deepcopy at line 146 (1 times)]\u001b[0m\n",
      "File \u001b[0;32m/usr/lib/python3.9/copy.py:230\u001b[0m, in \u001b[0;36m_deepcopy_dict\u001b[0;34m(x, memo, deepcopy)\u001b[0m\n\u001b[1;32m    228\u001b[0m memo[\u001b[38;5;28mid\u001b[39m(x)] \u001b[38;5;241m=\u001b[39m y\n\u001b[1;32m    229\u001b[0m \u001b[38;5;28;01mfor\u001b[39;00m key, value \u001b[38;5;129;01min\u001b[39;00m x\u001b[38;5;241m.\u001b[39mitems():\n\u001b[0;32m--> 230\u001b[0m     y[deepcopy(key, memo)] \u001b[38;5;241m=\u001b[39m \u001b[43mdeepcopy\u001b[49m\u001b[43m(\u001b[49m\u001b[43mvalue\u001b[49m\u001b[43m,\u001b[49m\u001b[43m \u001b[49m\u001b[43mmemo\u001b[49m\u001b[43m)\u001b[49m\n\u001b[1;32m    231\u001b[0m \u001b[38;5;28;01mreturn\u001b[39;00m y\n",
      "File \u001b[0;32m/usr/lib/python3.9/copy.py:146\u001b[0m, in \u001b[0;36mdeepcopy\u001b[0;34m(x, memo, _nil)\u001b[0m\n\u001b[1;32m    144\u001b[0m copier \u001b[38;5;241m=\u001b[39m _deepcopy_dispatch\u001b[38;5;241m.\u001b[39mget(\u001b[38;5;28mcls\u001b[39m)\n\u001b[1;32m    145\u001b[0m \u001b[38;5;28;01mif\u001b[39;00m copier \u001b[38;5;129;01mis\u001b[39;00m \u001b[38;5;129;01mnot\u001b[39;00m \u001b[38;5;28;01mNone\u001b[39;00m:\n\u001b[0;32m--> 146\u001b[0m     y \u001b[38;5;241m=\u001b[39m \u001b[43mcopier\u001b[49m\u001b[43m(\u001b[49m\u001b[43mx\u001b[49m\u001b[43m,\u001b[49m\u001b[43m \u001b[49m\u001b[43mmemo\u001b[49m\u001b[43m)\u001b[49m\n\u001b[1;32m    147\u001b[0m \u001b[38;5;28;01melse\u001b[39;00m:\n\u001b[1;32m    148\u001b[0m     \u001b[38;5;28;01mif\u001b[39;00m \u001b[38;5;28missubclass\u001b[39m(\u001b[38;5;28mcls\u001b[39m, \u001b[38;5;28mtype\u001b[39m):\n",
      "File \u001b[0;32m/usr/lib/python3.9/copy.py:229\u001b[0m, in \u001b[0;36m_deepcopy_dict\u001b[0;34m(x, memo, deepcopy)\u001b[0m\n\u001b[1;32m    227\u001b[0m y \u001b[38;5;241m=\u001b[39m {}\n\u001b[1;32m    228\u001b[0m memo[\u001b[38;5;28mid\u001b[39m(x)] \u001b[38;5;241m=\u001b[39m y\n\u001b[0;32m--> 229\u001b[0m \u001b[38;5;28;01mfor\u001b[39;00m key, value \u001b[38;5;129;01min\u001b[39;00m x\u001b[38;5;241m.\u001b[39mitems():\n\u001b[1;32m    230\u001b[0m     y[deepcopy(key, memo)] \u001b[38;5;241m=\u001b[39m deepcopy(value, memo)\n\u001b[1;32m    231\u001b[0m \u001b[38;5;28;01mreturn\u001b[39;00m y\n",
      "\u001b[0;31mRuntimeError\u001b[0m: dictionary changed size during iteration"
     ]
    }
   ],
   "source": [
    "sampler = optuna.samplers.TPESampler()\n",
    "pruner = optuna.pruners.HyperbandPruner(min_resource=10, max_resource=400, reduction_factor=3)\n",
    "\n",
    "optuna.logging.get_logger(\"optuna\").addHandler(logging.StreamHandler(sys.stdout))\n",
    "study_name = \"lgbm-tpe-rdb-study\"\n",
    "storage_name = f\"sqlite:///{study_name}.db\"\n",
    "study = optuna.create_study(\n",
    "    study_name=study_name,\n",
    "    storage=storage_name,\n",
    "    load_if_exists=False,\n",
    "    sampler=sampler,\n",
    "    pruner=pruner)\n",
    "study.optimize(objective(False), n_trials=100, gc_after_trial=True, n_jobs=-1)"
   ]
  },
  {
   "cell_type": "code",
   "execution_count": 12,
   "metadata": {
    "ExecuteTime": {
     "end_time": "2023-04-21T10:26:35.511845Z",
     "start_time": "2023-04-21T10:25:32.524484Z"
    },
    "collapsed": false
   },
   "outputs": [
    {
     "name": "stderr",
     "output_type": "stream",
     "text": [
      "\u001b[32m[I 2023-04-21 08:25:32,162]\u001b[0m Using an existing study with name 'lgbm-optuna-rdb-study' instead of creating a new one.\u001b[0m\n"
     ]
    },
    {
     "name": "stdout",
     "output_type": "stream",
     "text": [
      "Using an existing study with name 'lgbm-optuna-rdb-study' instead of creating a new one.\n"
     ]
    },
    {
     "name": "stderr",
     "output_type": "stream",
     "text": [
      "\u001b[32m[I 2023-04-21 08:26:17,345]\u001b[0m Trial 16 finished with value: 0.4235082247366586 and parameters: {'boosting_type': 'gbdt', 'lambda_l1': 1.0179602799796386e-08, 'lambda_l2': 9.349435489679461, 'num_leaves': 247, 'feature_fraction': 0.7460125770492829, 'bagging_fraction': 0.8227537764241121, 'bagging_freq': 7, 'min_child_samples': 98, 'learning_rate': 0.00020887902150769306, 'max_bin': 512, 'n_estimators': 140}. Best is trial 2 with value: 0.4235082247366586.\u001b[0m\n"
     ]
    },
    {
     "name": "stdout",
     "output_type": "stream",
     "text": [
      "Trial 16 finished with value: 0.4235082247366586 and parameters: {'boosting_type': 'gbdt', 'lambda_l1': 1.0179602799796386e-08, 'lambda_l2': 9.349435489679461, 'num_leaves': 247, 'feature_fraction': 0.7460125770492829, 'bagging_fraction': 0.8227537764241121, 'bagging_freq': 7, 'min_child_samples': 98, 'learning_rate': 0.00020887902150769306, 'max_bin': 512, 'n_estimators': 140}. Best is trial 2 with value: 0.4235082247366586.\n"
     ]
    },
    {
     "name": "stderr",
     "output_type": "stream",
     "text": [
      "\u001b[32m[I 2023-04-21 08:26:17,706]\u001b[0m Trial 10 finished with value: 0.4235082247366586 and parameters: {'boosting_type': 'gbdt', 'lambda_l1': 1.1909111890008977e-08, 'lambda_l2': 3.916792214730818, 'num_leaves': 252, 'feature_fraction': 0.7842462593069699, 'bagging_fraction': 0.8275752521380275, 'bagging_freq': 7, 'min_child_samples': 100, 'learning_rate': 0.00011984328761926979, 'max_bin': 512, 'n_estimators': 140}. Best is trial 2 with value: 0.4235082247366586.\u001b[0m\n"
     ]
    },
    {
     "name": "stdout",
     "output_type": "stream",
     "text": [
      "Trial 10 finished with value: 0.4235082247366586 and parameters: {'boosting_type': 'gbdt', 'lambda_l1': 1.1909111890008977e-08, 'lambda_l2': 3.916792214730818, 'num_leaves': 252, 'feature_fraction': 0.7842462593069699, 'bagging_fraction': 0.8275752521380275, 'bagging_freq': 7, 'min_child_samples': 100, 'learning_rate': 0.00011984328761926979, 'max_bin': 512, 'n_estimators': 140}. Best is trial 2 with value: 0.4235082247366586.\n"
     ]
    },
    {
     "name": "stderr",
     "output_type": "stream",
     "text": [
      "\u001b[32m[I 2023-04-21 08:26:19,453]\u001b[0m Trial 15 finished with value: 0.4235082247366586 and parameters: {'boosting_type': 'dart', 'lambda_l1': 2.45452431947837e-08, 'lambda_l2': 9.409711723147959, 'num_leaves': 240, 'feature_fraction': 0.7361874501422006, 'bagging_fraction': 0.8268982229824906, 'bagging_freq': 7, 'min_child_samples': 98, 'learning_rate': 0.00010252751490207828, 'max_bin': 128, 'n_estimators': 140}. Best is trial 2 with value: 0.4235082247366586.\u001b[0m\n"
     ]
    },
    {
     "name": "stdout",
     "output_type": "stream",
     "text": [
      "Trial 15 finished with value: 0.4235082247366586 and parameters: {'boosting_type': 'dart', 'lambda_l1': 2.45452431947837e-08, 'lambda_l2': 9.409711723147959, 'num_leaves': 240, 'feature_fraction': 0.7361874501422006, 'bagging_fraction': 0.8268982229824906, 'bagging_freq': 7, 'min_child_samples': 98, 'learning_rate': 0.00010252751490207828, 'max_bin': 128, 'n_estimators': 140}. Best is trial 2 with value: 0.4235082247366586.\n"
     ]
    },
    {
     "name": "stderr",
     "output_type": "stream",
     "text": [
      "\u001b[32m[I 2023-04-21 08:26:23,972]\u001b[0m Trial 13 finished with value: 0.4235082247366586 and parameters: {'boosting_type': 'dart', 'lambda_l1': 2.0777212047631954e-08, 'lambda_l2': 6.424628041959894, 'num_leaves': 215, 'feature_fraction': 0.7727133208837293, 'bagging_fraction': 0.8246055338792502, 'bagging_freq': 1, 'min_child_samples': 40, 'learning_rate': 0.00020485173235206778, 'max_bin': 512, 'n_estimators': 140}. Best is trial 2 with value: 0.4235082247366586.\u001b[0m\n"
     ]
    },
    {
     "name": "stdout",
     "output_type": "stream",
     "text": [
      "Trial 13 finished with value: 0.4235082247366586 and parameters: {'boosting_type': 'dart', 'lambda_l1': 2.0777212047631954e-08, 'lambda_l2': 6.424628041959894, 'num_leaves': 215, 'feature_fraction': 0.7727133208837293, 'bagging_fraction': 0.8246055338792502, 'bagging_freq': 1, 'min_child_samples': 40, 'learning_rate': 0.00020485173235206778, 'max_bin': 512, 'n_estimators': 140}. Best is trial 2 with value: 0.4235082247366586.\n"
     ]
    },
    {
     "name": "stderr",
     "output_type": "stream",
     "text": [
      "\u001b[32m[I 2023-04-21 08:26:26,708]\u001b[0m Trial 12 finished with value: 0.4235082247366586 and parameters: {'boosting_type': 'gbdt', 'lambda_l1': 1.2629724749571731e-08, 'lambda_l2': 3.390603189765865, 'num_leaves': 221, 'feature_fraction': 0.724381052807693, 'bagging_fraction': 0.8304770916566452, 'bagging_freq': 7, 'min_child_samples': 42, 'learning_rate': 0.00010535659139746389, 'max_bin': 512, 'n_estimators': 140}. Best is trial 2 with value: 0.4235082247366586.\u001b[0m\n"
     ]
    },
    {
     "name": "stdout",
     "output_type": "stream",
     "text": [
      "Trial 12 finished with value: 0.4235082247366586 and parameters: {'boosting_type': 'gbdt', 'lambda_l1': 1.2629724749571731e-08, 'lambda_l2': 3.390603189765865, 'num_leaves': 221, 'feature_fraction': 0.724381052807693, 'bagging_fraction': 0.8304770916566452, 'bagging_freq': 7, 'min_child_samples': 42, 'learning_rate': 0.00010535659139746389, 'max_bin': 512, 'n_estimators': 140}. Best is trial 2 with value: 0.4235082247366586.\n"
     ]
    },
    {
     "name": "stderr",
     "output_type": "stream",
     "text": [
      "\u001b[32m[I 2023-04-21 08:26:27,345]\u001b[0m Trial 17 finished with value: 0.4235082247366586 and parameters: {'boosting_type': 'dart', 'lambda_l1': 1.0117379382127918e-08, 'lambda_l2': 9.376556524124426, 'num_leaves': 256, 'feature_fraction': 0.7503860652460095, 'bagging_fraction': 0.7900318360857842, 'bagging_freq': 7, 'min_child_samples': 39, 'learning_rate': 0.00011742509479237352, 'max_bin': 512, 'n_estimators': 160}. Best is trial 2 with value: 0.4235082247366586.\u001b[0m\n"
     ]
    },
    {
     "name": "stdout",
     "output_type": "stream",
     "text": [
      "Trial 17 finished with value: 0.4235082247366586 and parameters: {'boosting_type': 'dart', 'lambda_l1': 1.0117379382127918e-08, 'lambda_l2': 9.376556524124426, 'num_leaves': 256, 'feature_fraction': 0.7503860652460095, 'bagging_fraction': 0.7900318360857842, 'bagging_freq': 7, 'min_child_samples': 39, 'learning_rate': 0.00011742509479237352, 'max_bin': 512, 'n_estimators': 160}. Best is trial 2 with value: 0.4235082247366586.\n"
     ]
    },
    {
     "name": "stderr",
     "output_type": "stream",
     "text": [
      "\u001b[32m[I 2023-04-21 08:26:30,423]\u001b[0m Trial 11 finished with value: 0.4235082247366586 and parameters: {'boosting_type': 'dart', 'lambda_l1': 1.9236047233867934e-08, 'lambda_l2': 1.9226679345069697, 'num_leaves': 242, 'feature_fraction': 0.7736592146746909, 'bagging_fraction': 0.7974437616210672, 'bagging_freq': 7, 'min_child_samples': 37, 'learning_rate': 0.00013319968527050706, 'max_bin': 512, 'n_estimators': 140}. Best is trial 2 with value: 0.4235082247366586.\u001b[0m\n"
     ]
    },
    {
     "name": "stdout",
     "output_type": "stream",
     "text": [
      "Trial 11 finished with value: 0.4235082247366586 and parameters: {'boosting_type': 'dart', 'lambda_l1': 1.9236047233867934e-08, 'lambda_l2': 1.9226679345069697, 'num_leaves': 242, 'feature_fraction': 0.7736592146746909, 'bagging_fraction': 0.7974437616210672, 'bagging_freq': 7, 'min_child_samples': 37, 'learning_rate': 0.00013319968527050706, 'max_bin': 512, 'n_estimators': 140}. Best is trial 2 with value: 0.4235082247366586.\n"
     ]
    },
    {
     "name": "stderr",
     "output_type": "stream",
     "text": [
      "\u001b[32m[I 2023-04-21 08:26:31,058]\u001b[0m Trial 14 finished with value: 0.4235082247366586 and parameters: {'boosting_type': 'gbdt', 'lambda_l1': 1.4408133646747365e-08, 'lambda_l2': 2.837493258342436, 'num_leaves': 245, 'feature_fraction': 0.7637633482746569, 'bagging_fraction': 0.8296627735915492, 'bagging_freq': 7, 'min_child_samples': 37, 'learning_rate': 0.00013694284525827822, 'max_bin': 512, 'n_estimators': 160}. Best is trial 2 with value: 0.4235082247366586.\u001b[0m\n"
     ]
    },
    {
     "name": "stdout",
     "output_type": "stream",
     "text": [
      "Trial 14 finished with value: 0.4235082247366586 and parameters: {'boosting_type': 'gbdt', 'lambda_l1': 1.4408133646747365e-08, 'lambda_l2': 2.837493258342436, 'num_leaves': 245, 'feature_fraction': 0.7637633482746569, 'bagging_fraction': 0.8296627735915492, 'bagging_freq': 7, 'min_child_samples': 37, 'learning_rate': 0.00013694284525827822, 'max_bin': 512, 'n_estimators': 160}. Best is trial 2 with value: 0.4235082247366586.\n"
     ]
    },
    {
     "name": "stderr",
     "output_type": "stream",
     "text": [
      "\u001b[32m[I 2023-04-21 08:26:34,243]\u001b[0m Trial 19 finished with value: 0.4235082247366586 and parameters: {'boosting_type': 'dart', 'lambda_l1': 1.3957343825730509e-06, 'lambda_l2': 1.2256972812369361e-08, 'num_leaves': 5, 'feature_fraction': 0.8427033256168555, 'bagging_fraction': 0.5366577275595632, 'bagging_freq': 1, 'min_child_samples': 36, 'learning_rate': 0.0007048212563581564, 'max_bin': 224, 'n_estimators': 40}. Best is trial 2 with value: 0.4235082247366586.\u001b[0m\n"
     ]
    },
    {
     "name": "stdout",
     "output_type": "stream",
     "text": [
      "Trial 19 finished with value: 0.4235082247366586 and parameters: {'boosting_type': 'dart', 'lambda_l1': 1.3957343825730509e-06, 'lambda_l2': 1.2256972812369361e-08, 'num_leaves': 5, 'feature_fraction': 0.8427033256168555, 'bagging_fraction': 0.5366577275595632, 'bagging_freq': 1, 'min_child_samples': 36, 'learning_rate': 0.0007048212563581564, 'max_bin': 224, 'n_estimators': 40}. Best is trial 2 with value: 0.4235082247366586.\n"
     ]
    },
    {
     "name": "stderr",
     "output_type": "stream",
     "text": [
      "\u001b[32m[I 2023-04-21 08:26:34,762]\u001b[0m Trial 18 finished with value: 0.4235082247366586 and parameters: {'boosting_type': 'dart', 'lambda_l1': 1.2876121235965678e-06, 'lambda_l2': 1.542472294392896e-07, 'num_leaves': 4, 'feature_fraction': 0.8472764387650585, 'bagging_fraction': 0.5063448986999544, 'bagging_freq': 1, 'min_child_samples': 34, 'learning_rate': 0.0005789551103378422, 'max_bin': 224, 'n_estimators': 40}. Best is trial 2 with value: 0.4235082247366586.\u001b[0m\n"
     ]
    },
    {
     "name": "stdout",
     "output_type": "stream",
     "text": [
      "Trial 18 finished with value: 0.4235082247366586 and parameters: {'boosting_type': 'dart', 'lambda_l1': 1.2876121235965678e-06, 'lambda_l2': 1.542472294392896e-07, 'num_leaves': 4, 'feature_fraction': 0.8472764387650585, 'bagging_fraction': 0.5063448986999544, 'bagging_freq': 1, 'min_child_samples': 34, 'learning_rate': 0.0005789551103378422, 'max_bin': 224, 'n_estimators': 40}. Best is trial 2 with value: 0.4235082247366586.\n"
     ]
    }
   ],
   "source": [
    "study = optuna.create_study(study_name=study_name, storage=storage_name, load_if_exists=True)\n",
    "study.optimize(objective(), n_trials=20, gc_after_trial=True, n_jobs=-1)"
   ]
  },
  {
   "cell_type": "code",
   "execution_count": 23,
   "metadata": {
    "ExecuteTime": {
     "end_time": "2023-04-27T00:06:23.703511Z",
     "start_time": "2023-04-27T00:06:23.673676Z"
    },
    "collapsed": false
   },
   "outputs": [
    {
     "name": "stdout",
     "output_type": "stream",
     "text": [
      "FrozenTrial(number=5, state=TrialState.COMPLETE, values=[0.4235082247366586], datetime_start=datetime.datetime(2023, 4, 26, 21, 55, 55, 15345), datetime_complete=datetime.datetime(2023, 4, 26, 21, 56, 38, 244296), params={'bagging_fraction': 0.9277029430467971, 'bagging_freq': 3, 'feature_fraction': 0.6565211338929926, 'lambda_l1': 4.496791174062579, 'lambda_l2': 0.000612013760106219, 'learning_rate': 0.00011283703507767392, 'max_bin': 288, 'min_child_samples': 97, 'n_estimators': 180, 'num_leaves': 100}, user_attrs={}, system_attrs={}, intermediate_values={}, distributions={'bagging_fraction': FloatDistribution(high=1.0, log=False, low=0.4, step=None), 'bagging_freq': IntDistribution(high=7, log=False, low=1, step=1), 'feature_fraction': FloatDistribution(high=1.0, log=False, low=0.4, step=None), 'lambda_l1': FloatDistribution(high=10.0, log=True, low=1e-08, step=None), 'lambda_l2': FloatDistribution(high=10.0, log=True, low=1e-08, step=None), 'learning_rate': FloatDistribution(high=0.5, log=True, low=0.0001, step=None), 'max_bin': IntDistribution(high=512, log=False, low=128, step=32), 'min_child_samples': IntDistribution(high=100, log=False, low=5, step=1), 'n_estimators': IntDistribution(high=400, log=False, low=40, step=20), 'num_leaves': IntDistribution(high=256, log=False, low=2, step=1)}, trial_id=6, value=None)\n"
     ]
    }
   ],
   "source": [
    "print(study.best_trial)"
   ]
  },
  {
   "cell_type": "markdown",
   "metadata": {
    "collapsed": false
   },
   "source": [
    "## Multi-objective optimization"
   ]
  },
  {
   "cell_type": "code",
   "execution_count": 22,
   "metadata": {
    "ExecuteTime": {
     "end_time": "2023-04-27T12:47:34.914428Z",
     "start_time": "2023-04-27T12:47:34.907420Z"
    },
    "collapsed": false
   },
   "outputs": [],
   "source": [
    "def moo_objective(trial):\n",
    "    learning_rate = trial.suggest_float(\"learning_rate\", 0.0001, 0.5, log=True),\n",
    "\n",
    "    model = lgb.LGBMClassifier(\n",
    "        force_row_wise=True,\n",
    "        boosting_type='gbdt',\n",
    "        n_estimators=200,\n",
    "        lambda_l1=3.298803078077973e-07,\n",
    "        lambda_l2=8.938532783741386e-07,\n",
    "        num_leaves=6,\n",
    "        feature_fraction=0.5133218336120866,\n",
    "        bagging_fraction=0.9660809666082303,\n",
    "        bagging_freq=7,\n",
    "        min_child_samples=91,\n",
    "        learning_rate=learning_rate,\n",
    "        max_bin=320,\n",
    "        verbose=-1,\n",
    "    )\n",
    "    scores = cross_val_score(model, X, y, scoring=\"f1_macro\")\n",
    "    return learning_rate[0], scores.mean()"
   ]
  },
  {
   "cell_type": "code",
   "execution_count": 23,
   "metadata": {
    "ExecuteTime": {
     "end_time": "2023-04-27T12:48:45.814205Z",
     "start_time": "2023-04-27T12:47:35.162158Z"
    },
    "collapsed": false
   },
   "outputs": [
    {
     "name": "stderr",
     "output_type": "stream",
     "text": [
      "\u001b[32m[I 2023-04-27 10:47:35,501]\u001b[0m A new study created in memory with name: no-name-eb122531-f2ee-4cb5-92d1-8efba6a28eef\u001b[0m\n",
      "\u001b[32m[I 2023-04-27 10:47:36,221]\u001b[0m Trial 0 finished with values: [0.018276625572235056, 0.7229728382357858] and parameters: {'learning_rate': 0.018276625572235056}. \u001b[0m\n",
      "\u001b[32m[I 2023-04-27 10:47:36,922]\u001b[0m Trial 1 finished with values: [0.012281350875017864, 0.713129498994182] and parameters: {'learning_rate': 0.012281350875017864}. \u001b[0m\n",
      "\u001b[32m[I 2023-04-27 10:47:37,601]\u001b[0m Trial 2 finished with values: [0.3179931543219117, 0.7181352358216049] and parameters: {'learning_rate': 0.3179931543219117}. \u001b[0m\n",
      "\u001b[32m[I 2023-04-27 10:47:38,317]\u001b[0m Trial 3 finished with values: [0.3317048028124761, 0.7182462105095208] and parameters: {'learning_rate': 0.3317048028124761}. \u001b[0m\n",
      "\u001b[32m[I 2023-04-27 10:47:39,042]\u001b[0m Trial 4 finished with values: [0.010097499163932589, 0.689595604293249] and parameters: {'learning_rate': 0.010097499163932589}. \u001b[0m\n",
      "\u001b[32m[I 2023-04-27 10:47:39,716]\u001b[0m Trial 5 finished with values: [0.0010284892903758126, 0.4235082247366586] and parameters: {'learning_rate': 0.0010284892903758126}. \u001b[0m\n",
      "\u001b[32m[I 2023-04-27 10:47:40,423]\u001b[0m Trial 6 finished with values: [0.0008073623310050534, 0.4235082247366586] and parameters: {'learning_rate': 0.0008073623310050534}. \u001b[0m\n",
      "\u001b[32m[I 2023-04-27 10:47:41,147]\u001b[0m Trial 7 finished with values: [0.009446892389275133, 0.6841554205738356] and parameters: {'learning_rate': 0.009446892389275133}. \u001b[0m\n",
      "\u001b[32m[I 2023-04-27 10:47:41,994]\u001b[0m Trial 8 finished with values: [0.042129982546996285, 0.7318679125094985] and parameters: {'learning_rate': 0.042129982546996285}. \u001b[0m\n",
      "\u001b[32m[I 2023-04-27 10:47:42,733]\u001b[0m Trial 9 finished with values: [0.006234336282154794, 0.6372047388051083] and parameters: {'learning_rate': 0.006234336282154794}. \u001b[0m\n",
      "\u001b[32m[I 2023-04-27 10:47:43,412]\u001b[0m Trial 10 finished with values: [0.0014213907266344855, 0.4235082247366586] and parameters: {'learning_rate': 0.0014213907266344855}. \u001b[0m\n",
      "\u001b[32m[I 2023-04-27 10:47:44,069]\u001b[0m Trial 11 finished with values: [0.0074818711669891215, 0.6643619268828908] and parameters: {'learning_rate': 0.0074818711669891215}. \u001b[0m\n",
      "\u001b[32m[I 2023-04-27 10:47:44,798]\u001b[0m Trial 12 finished with values: [0.1148404311838305, 0.7321994102159477] and parameters: {'learning_rate': 0.1148404311838305}. \u001b[0m\n",
      "\u001b[32m[I 2023-04-27 10:47:45,481]\u001b[0m Trial 13 finished with values: [0.0012664149179400209, 0.4235082247366586] and parameters: {'learning_rate': 0.0012664149179400209}. \u001b[0m\n",
      "\u001b[32m[I 2023-04-27 10:47:46,223]\u001b[0m Trial 14 finished with values: [0.05307222954482612, 0.7336139976808754] and parameters: {'learning_rate': 0.05307222954482612}. \u001b[0m\n",
      "\u001b[32m[I 2023-04-27 10:47:46,949]\u001b[0m Trial 15 finished with values: [0.01538041330688695, 0.7173796023919852] and parameters: {'learning_rate': 0.01538041330688695}. \u001b[0m\n",
      "\u001b[32m[I 2023-04-27 10:47:47,724]\u001b[0m Trial 16 finished with values: [0.018396986660930648, 0.7227368738811438] and parameters: {'learning_rate': 0.018396986660930648}. \u001b[0m\n",
      "\u001b[32m[I 2023-04-27 10:47:48,451]\u001b[0m Trial 17 finished with values: [0.0030415201353781317, 0.4235082247366586] and parameters: {'learning_rate': 0.0030415201353781317}. \u001b[0m\n",
      "\u001b[32m[I 2023-04-27 10:47:49,134]\u001b[0m Trial 18 finished with values: [0.34679130964813293, 0.7165372792236238] and parameters: {'learning_rate': 0.34679130964813293}. \u001b[0m\n",
      "\u001b[32m[I 2023-04-27 10:47:49,814]\u001b[0m Trial 19 finished with values: [0.0016185106184141472, 0.4235082247366586] and parameters: {'learning_rate': 0.0016185106184141472}. \u001b[0m\n",
      "\u001b[32m[I 2023-04-27 10:47:50,473]\u001b[0m Trial 20 finished with values: [0.09977031400739048, 0.7302018596960369] and parameters: {'learning_rate': 0.09977031400739048}. \u001b[0m\n",
      "\u001b[32m[I 2023-04-27 10:47:51,155]\u001b[0m Trial 21 finished with values: [0.00015692458115144144, 0.4235082247366586] and parameters: {'learning_rate': 0.00015692458115144144}. \u001b[0m\n",
      "\u001b[32m[I 2023-04-27 10:47:51,845]\u001b[0m Trial 22 finished with values: [0.0014637099340279343, 0.4235082247366586] and parameters: {'learning_rate': 0.0014637099340279343}. \u001b[0m\n",
      "\u001b[32m[I 2023-04-27 10:47:52,522]\u001b[0m Trial 23 finished with values: [0.237542460048024, 0.7216310177763523] and parameters: {'learning_rate': 0.237542460048024}. \u001b[0m\n",
      "\u001b[32m[I 2023-04-27 10:47:53,209]\u001b[0m Trial 24 finished with values: [0.24410089728809634, 0.7254004209977449] and parameters: {'learning_rate': 0.24410089728809634}. \u001b[0m\n",
      "\u001b[32m[I 2023-04-27 10:47:53,930]\u001b[0m Trial 25 finished with values: [0.039216586476540555, 0.7301579035907364] and parameters: {'learning_rate': 0.039216586476540555}. \u001b[0m\n",
      "\u001b[32m[I 2023-04-27 10:47:54,668]\u001b[0m Trial 26 finished with values: [0.04413193652148863, 0.7292176187667853] and parameters: {'learning_rate': 0.04413193652148863}. \u001b[0m\n",
      "\u001b[32m[I 2023-04-27 10:47:55,334]\u001b[0m Trial 27 finished with values: [0.12844461011742844, 0.7321027124572879] and parameters: {'learning_rate': 0.12844461011742844}. \u001b[0m\n",
      "\u001b[32m[I 2023-04-27 10:47:56,032]\u001b[0m Trial 28 finished with values: [0.0006332697167843045, 0.4235082247366586] and parameters: {'learning_rate': 0.0006332697167843045}. \u001b[0m\n",
      "\u001b[32m[I 2023-04-27 10:47:56,712]\u001b[0m Trial 29 finished with values: [0.4498243389528799, 0.7180387023655493] and parameters: {'learning_rate': 0.4498243389528799}. \u001b[0m\n",
      "\u001b[32m[I 2023-04-27 10:47:57,322]\u001b[0m Trial 30 finished with values: [0.28825962026286955, 0.7220137309076756] and parameters: {'learning_rate': 0.28825962026286955}. \u001b[0m\n",
      "\u001b[32m[I 2023-04-27 10:47:57,985]\u001b[0m Trial 31 finished with values: [0.036619413830782564, 0.7302184406320554] and parameters: {'learning_rate': 0.036619413830782564}. \u001b[0m\n",
      "\u001b[32m[I 2023-04-27 10:47:58,563]\u001b[0m Trial 32 finished with values: [0.03610204856200786, 0.7304328067409969] and parameters: {'learning_rate': 0.03610204856200786}. \u001b[0m\n",
      "\u001b[32m[I 2023-04-27 10:47:59,225]\u001b[0m Trial 33 finished with values: [0.0021961450728918896, 0.4235082247366586] and parameters: {'learning_rate': 0.0021961450728918896}. \u001b[0m\n",
      "\u001b[32m[I 2023-04-27 10:47:59,946]\u001b[0m Trial 34 finished with values: [0.012193586140043794, 0.7120523440790167] and parameters: {'learning_rate': 0.012193586140043794}. \u001b[0m\n",
      "\u001b[32m[I 2023-04-27 10:48:00,626]\u001b[0m Trial 35 finished with values: [0.19630258423899116, 0.7290264275839735] and parameters: {'learning_rate': 0.19630258423899116}. \u001b[0m\n",
      "\u001b[32m[I 2023-04-27 10:48:01,328]\u001b[0m Trial 36 finished with values: [0.00017918412416240907, 0.4235082247366586] and parameters: {'learning_rate': 0.00017918412416240907}. \u001b[0m\n",
      "\u001b[32m[I 2023-04-27 10:48:02,017]\u001b[0m Trial 37 finished with values: [0.014133500358080071, 0.7167142851538554] and parameters: {'learning_rate': 0.014133500358080071}. \u001b[0m\n",
      "\u001b[32m[I 2023-04-27 10:48:02,698]\u001b[0m Trial 38 finished with values: [0.04852382290869409, 0.7310333204595433] and parameters: {'learning_rate': 0.04852382290869409}. \u001b[0m\n",
      "\u001b[32m[I 2023-04-27 10:48:03,384]\u001b[0m Trial 39 finished with values: [0.040201201662143485, 0.7306614283099379] and parameters: {'learning_rate': 0.040201201662143485}. \u001b[0m\n",
      "\u001b[32m[I 2023-04-27 10:48:04,062]\u001b[0m Trial 40 finished with values: [0.0011776265316570207, 0.4235082247366586] and parameters: {'learning_rate': 0.0011776265316570207}. \u001b[0m\n",
      "\u001b[32m[I 2023-04-27 10:48:04,770]\u001b[0m Trial 41 finished with values: [0.026396073829949854, 0.7294521208392316] and parameters: {'learning_rate': 0.026396073829949854}. \u001b[0m\n",
      "\u001b[32m[I 2023-04-27 10:48:05,444]\u001b[0m Trial 42 finished with values: [0.19287363423507076, 0.7259236143539816] and parameters: {'learning_rate': 0.19287363423507076}. \u001b[0m\n",
      "\u001b[32m[I 2023-04-27 10:48:06,182]\u001b[0m Trial 43 finished with values: [0.07377836783758575, 0.7335097300380633] and parameters: {'learning_rate': 0.07377836783758575}. \u001b[0m\n",
      "\u001b[32m[I 2023-04-27 10:48:06,865]\u001b[0m Trial 44 finished with values: [0.06950786503628438, 0.7323174432397132] and parameters: {'learning_rate': 0.06950786503628438}. \u001b[0m\n",
      "\u001b[32m[I 2023-04-27 10:48:07,522]\u001b[0m Trial 45 finished with values: [0.0013182070434705978, 0.4235082247366586] and parameters: {'learning_rate': 0.0013182070434705978}. \u001b[0m\n",
      "\u001b[32m[I 2023-04-27 10:48:08,245]\u001b[0m Trial 46 finished with values: [0.0001689170415983065, 0.4235082247366586] and parameters: {'learning_rate': 0.0001689170415983065}. \u001b[0m\n",
      "\u001b[32m[I 2023-04-27 10:48:08,983]\u001b[0m Trial 47 finished with values: [0.0021018530965500105, 0.4235082247366586] and parameters: {'learning_rate': 0.0021018530965500105}. \u001b[0m\n",
      "\u001b[32m[I 2023-04-27 10:48:09,687]\u001b[0m Trial 48 finished with values: [0.00019287163151974652, 0.4235082247366586] and parameters: {'learning_rate': 0.00019287163151974652}. \u001b[0m\n",
      "\u001b[32m[I 2023-04-27 10:48:10,369]\u001b[0m Trial 49 finished with values: [0.1714187324525616, 0.7274564562489783] and parameters: {'learning_rate': 0.1714187324525616}. \u001b[0m\n",
      "\u001b[32m[I 2023-04-27 10:48:11,109]\u001b[0m Trial 50 finished with values: [0.028218912249716382, 0.7285799931977797] and parameters: {'learning_rate': 0.028218912249716382}. \u001b[0m\n",
      "\u001b[32m[I 2023-04-27 10:48:11,818]\u001b[0m Trial 51 finished with values: [0.00037469787058577405, 0.4235082247366586] and parameters: {'learning_rate': 0.00037469787058577405}. \u001b[0m\n",
      "\u001b[32m[I 2023-04-27 10:48:12,557]\u001b[0m Trial 52 finished with values: [0.016517619384449466, 0.7201909680929806] and parameters: {'learning_rate': 0.016517619384449466}. \u001b[0m\n",
      "\u001b[32m[I 2023-04-27 10:48:13,222]\u001b[0m Trial 53 finished with values: [0.4796291220454122, 0.7120415606860494] and parameters: {'learning_rate': 0.4796291220454122}. \u001b[0m\n",
      "\u001b[32m[I 2023-04-27 10:48:13,891]\u001b[0m Trial 54 finished with values: [0.01075645544167512, 0.6983807551597365] and parameters: {'learning_rate': 0.01075645544167512}. \u001b[0m\n",
      "\u001b[32m[I 2023-04-27 10:48:14,587]\u001b[0m Trial 55 finished with values: [0.0013300668001608705, 0.4235082247366586] and parameters: {'learning_rate': 0.0013300668001608705}. \u001b[0m\n",
      "\u001b[32m[I 2023-04-27 10:48:15,311]\u001b[0m Trial 56 finished with values: [0.009234620597188305, 0.6815820697212852] and parameters: {'learning_rate': 0.009234620597188305}. \u001b[0m\n",
      "\u001b[32m[I 2023-04-27 10:48:16,010]\u001b[0m Trial 57 finished with values: [0.030789337644333142, 0.7297299658845593] and parameters: {'learning_rate': 0.030789337644333142}. \u001b[0m\n",
      "\u001b[32m[I 2023-04-27 10:48:16,741]\u001b[0m Trial 58 finished with values: [0.0005196761744466342, 0.4235082247366586] and parameters: {'learning_rate': 0.0005196761744466342}. \u001b[0m\n",
      "\u001b[32m[I 2023-04-27 10:48:17,397]\u001b[0m Trial 59 finished with values: [0.21454254531144426, 0.7279770709345865] and parameters: {'learning_rate': 0.21454254531144426}. \u001b[0m\n",
      "\u001b[32m[I 2023-04-27 10:48:18,113]\u001b[0m Trial 60 finished with values: [0.023714036796718886, 0.7259369472766212] and parameters: {'learning_rate': 0.023714036796718886}. \u001b[0m\n",
      "\u001b[32m[I 2023-04-27 10:48:18,831]\u001b[0m Trial 61 finished with values: [0.042951701452191404, 0.7302474855948291] and parameters: {'learning_rate': 0.042951701452191404}. \u001b[0m\n",
      "\u001b[32m[I 2023-04-27 10:48:19,505]\u001b[0m Trial 62 finished with values: [0.30521179006815724, 0.7193743184471776] and parameters: {'learning_rate': 0.30521179006815724}. \u001b[0m\n",
      "\u001b[32m[I 2023-04-27 10:48:20,238]\u001b[0m Trial 63 finished with values: [0.0031088442966744653, 0.4235082247366586] and parameters: {'learning_rate': 0.0031088442966744653}. \u001b[0m\n",
      "\u001b[32m[I 2023-04-27 10:48:20,968]\u001b[0m Trial 64 finished with values: [0.0004014235312843208, 0.4235082247366586] and parameters: {'learning_rate': 0.0004014235312843208}. \u001b[0m\n",
      "\u001b[32m[I 2023-04-27 10:48:21,682]\u001b[0m Trial 65 finished with values: [0.005578035829630357, 0.6170142717941252] and parameters: {'learning_rate': 0.005578035829630357}. \u001b[0m\n",
      "\u001b[32m[I 2023-04-27 10:48:22,420]\u001b[0m Trial 66 finished with values: [0.0001592544431367279, 0.4235082247366586] and parameters: {'learning_rate': 0.0001592544431367279}. \u001b[0m\n",
      "\u001b[32m[I 2023-04-27 10:48:23,115]\u001b[0m Trial 67 finished with values: [0.0807232375319011, 0.7309408871913655] and parameters: {'learning_rate': 0.0807232375319011}. \u001b[0m\n",
      "\u001b[32m[I 2023-04-27 10:48:23,791]\u001b[0m Trial 68 finished with values: [0.16799292006264588, 0.7309842390105754] and parameters: {'learning_rate': 0.16799292006264588}. \u001b[0m\n",
      "\u001b[32m[I 2023-04-27 10:48:24,481]\u001b[0m Trial 69 finished with values: [0.04159311590472715, 0.7313584050417112] and parameters: {'learning_rate': 0.04159311590472715}. \u001b[0m\n",
      "\u001b[32m[I 2023-04-27 10:48:25,217]\u001b[0m Trial 70 finished with values: [0.0007829813261500128, 0.4235082247366586] and parameters: {'learning_rate': 0.0007829813261500128}. \u001b[0m\n",
      "\u001b[32m[I 2023-04-27 10:48:25,965]\u001b[0m Trial 71 finished with values: [0.0005327862205087224, 0.4235082247366586] and parameters: {'learning_rate': 0.0005327862205087224}. \u001b[0m\n",
      "\u001b[32m[I 2023-04-27 10:48:26,763]\u001b[0m Trial 72 finished with values: [0.011004042996587247, 0.7013991059388606] and parameters: {'learning_rate': 0.011004042996587247}. \u001b[0m\n",
      "\u001b[32m[I 2023-04-27 10:48:27,570]\u001b[0m Trial 73 finished with values: [0.012096495400321669, 0.7112448137800941] and parameters: {'learning_rate': 0.012096495400321669}. \u001b[0m\n",
      "\u001b[32m[I 2023-04-27 10:48:28,277]\u001b[0m Trial 74 finished with values: [0.07830377287729806, 0.7306338561389435] and parameters: {'learning_rate': 0.07830377287729806}. \u001b[0m\n",
      "\u001b[32m[I 2023-04-27 10:48:29,000]\u001b[0m Trial 75 finished with values: [0.0020289312962674306, 0.4235082247366586] and parameters: {'learning_rate': 0.0020289312962674306}. \u001b[0m\n",
      "\u001b[32m[I 2023-04-27 10:48:29,717]\u001b[0m Trial 76 finished with values: [0.007003614272196497, 0.653715322076985] and parameters: {'learning_rate': 0.007003614272196497}. \u001b[0m\n",
      "\u001b[32m[I 2023-04-27 10:48:30,438]\u001b[0m Trial 77 finished with values: [0.026811861365256547, 0.7281393119846103] and parameters: {'learning_rate': 0.026811861365256547}. \u001b[0m\n",
      "\u001b[32m[I 2023-04-27 10:48:31,206]\u001b[0m Trial 78 finished with values: [0.0014534431094221844, 0.4235082247366586] and parameters: {'learning_rate': 0.0014534431094221844}. \u001b[0m\n",
      "\u001b[32m[I 2023-04-27 10:48:31,910]\u001b[0m Trial 79 finished with values: [0.07184266906020101, 0.7318954915835494] and parameters: {'learning_rate': 0.07184266906020101}. \u001b[0m\n",
      "\u001b[32m[I 2023-04-27 10:48:32,611]\u001b[0m Trial 80 finished with values: [0.20138173825410338, 0.7278080193179831] and parameters: {'learning_rate': 0.20138173825410338}. \u001b[0m\n",
      "\u001b[32m[I 2023-04-27 10:48:33,350]\u001b[0m Trial 81 finished with values: [0.01956656266919498, 0.7259187426802697] and parameters: {'learning_rate': 0.01956656266919498}. \u001b[0m\n",
      "\u001b[32m[I 2023-04-27 10:48:34,043]\u001b[0m Trial 82 finished with values: [0.005251844487229045, 0.6024609734794308] and parameters: {'learning_rate': 0.005251844487229045}. \u001b[0m\n",
      "\u001b[32m[I 2023-04-27 10:48:34,734]\u001b[0m Trial 83 finished with values: [0.0007975269741962664, 0.4235082247366586] and parameters: {'learning_rate': 0.0007975269741962664}. \u001b[0m\n",
      "\u001b[32m[I 2023-04-27 10:48:35,428]\u001b[0m Trial 84 finished with values: [0.0005538907493946157, 0.4235082247366586] and parameters: {'learning_rate': 0.0005538907493946157}. \u001b[0m\n",
      "\u001b[32m[I 2023-04-27 10:48:36,126]\u001b[0m Trial 85 finished with values: [0.0835122016432078, 0.7321890615843162] and parameters: {'learning_rate': 0.0835122016432078}. \u001b[0m\n",
      "\u001b[32m[I 2023-04-27 10:48:36,860]\u001b[0m Trial 86 finished with values: [0.0006260697703589752, 0.4235082247366586] and parameters: {'learning_rate': 0.0006260697703589752}. \u001b[0m\n",
      "\u001b[32m[I 2023-04-27 10:48:37,556]\u001b[0m Trial 87 finished with values: [0.11742527067046299, 0.7321944783582703] and parameters: {'learning_rate': 0.11742527067046299}. \u001b[0m\n",
      "\u001b[32m[I 2023-04-27 10:48:38,296]\u001b[0m Trial 88 finished with values: [0.004544231657855253, 0.5343888745179519] and parameters: {'learning_rate': 0.004544231657855253}. \u001b[0m\n",
      "\u001b[32m[I 2023-04-27 10:48:39,070]\u001b[0m Trial 89 finished with values: [0.00012209259631005412, 0.4235082247366586] and parameters: {'learning_rate': 0.00012209259631005412}. \u001b[0m\n",
      "\u001b[32m[I 2023-04-27 10:48:39,823]\u001b[0m Trial 90 finished with values: [0.001267549290534437, 0.4235082247366586] and parameters: {'learning_rate': 0.001267549290534437}. \u001b[0m\n",
      "\u001b[32m[I 2023-04-27 10:48:40,539]\u001b[0m Trial 91 finished with values: [0.004363976487357013, 0.5087369170754972] and parameters: {'learning_rate': 0.004363976487357013}. \u001b[0m\n",
      "\u001b[32m[I 2023-04-27 10:48:41,243]\u001b[0m Trial 92 finished with values: [0.017485462659550834, 0.722280452051524] and parameters: {'learning_rate': 0.017485462659550834}. \u001b[0m\n",
      "\u001b[32m[I 2023-04-27 10:48:41,927]\u001b[0m Trial 93 finished with values: [0.44828056389247145, 0.7116760995541701] and parameters: {'learning_rate': 0.44828056389247145}. \u001b[0m\n",
      "\u001b[32m[I 2023-04-27 10:48:42,634]\u001b[0m Trial 94 finished with values: [0.08277845673611592, 0.7314187112500111] and parameters: {'learning_rate': 0.08277845673611592}. \u001b[0m\n",
      "\u001b[32m[I 2023-04-27 10:48:43,357]\u001b[0m Trial 95 finished with values: [0.0003291311959625348, 0.4235082247366586] and parameters: {'learning_rate': 0.0003291311959625348}. \u001b[0m\n",
      "\u001b[32m[I 2023-04-27 10:48:44,073]\u001b[0m Trial 96 finished with values: [0.00022868118733042252, 0.4235082247366586] and parameters: {'learning_rate': 0.00022868118733042252}. \u001b[0m\n",
      "\u001b[32m[I 2023-04-27 10:48:44,798]\u001b[0m Trial 97 finished with values: [0.18286145837300968, 0.7262427071035374] and parameters: {'learning_rate': 0.18286145837300968}. \u001b[0m\n",
      "\u001b[32m[I 2023-04-27 10:48:45,479]\u001b[0m Trial 98 finished with values: [0.06941692989749879, 0.7295385067809874] and parameters: {'learning_rate': 0.06941692989749879}. \u001b[0m\n",
      "\u001b[32m[I 2023-04-27 10:48:46,147]\u001b[0m Trial 99 finished with values: [0.19305171220017311, 0.7262367052555226] and parameters: {'learning_rate': 0.19305171220017311}. \u001b[0m\n"
     ]
    }
   ],
   "source": [
    "study = optuna.create_study(directions=[\"maximize\", \"maximize\"])\n",
    "study.optimize(moo_objective, n_trials=100)"
   ]
  },
  {
   "cell_type": "code",
   "execution_count": 24,
   "metadata": {
    "ExecuteTime": {
     "end_time": "2023-04-27T12:48:46.776516Z",
     "start_time": "2023-04-27T12:48:45.820953Z"
    },
    "collapsed": false
   },
   "outputs": [
    {
     "data": {
      "application/vnd.plotly.v1+json": {
       "config": {
        "plotlyServerURL": "https://plot.ly"
       },
       "data": [
        {
         "hovertemplate": "%{text}<extra>Trial</extra>",
         "marker": {
          "color": [
           0,
           1,
           2,
           4,
           5,
           6,
           7,
           8,
           9,
           10,
           11,
           13,
           15,
           16,
           17,
           18,
           19,
           20,
           21,
           22,
           23,
           25,
           26,
           28,
           31,
           32,
           33,
           34,
           36,
           37,
           38,
           39,
           40,
           41,
           42,
           44,
           45,
           46,
           47,
           48,
           49,
           50,
           51,
           52,
           54,
           55,
           56,
           57,
           58,
           60,
           61,
           63,
           64,
           65,
           66,
           67,
           69,
           70,
           71,
           72,
           73,
           74,
           75,
           76,
           77,
           78,
           79,
           80,
           81,
           82,
           83,
           84,
           85,
           86,
           88,
           89,
           90,
           91,
           92,
           93,
           94,
           95,
           96,
           97,
           98,
           99
          ],
          "colorbar": {
           "title": {
            "text": "Trial"
           }
          },
          "colorscale": [
           [
            0,
            "rgb(247,251,255)"
           ],
           [
            0.125,
            "rgb(222,235,247)"
           ],
           [
            0.25,
            "rgb(198,219,239)"
           ],
           [
            0.375,
            "rgb(158,202,225)"
           ],
           [
            0.5,
            "rgb(107,174,214)"
           ],
           [
            0.625,
            "rgb(66,146,198)"
           ],
           [
            0.75,
            "rgb(33,113,181)"
           ],
           [
            0.875,
            "rgb(8,81,156)"
           ],
           [
            1,
            "rgb(8,48,107)"
           ]
          ],
          "line": {
           "color": "Grey",
           "width": 0.5
          }
         },
         "mode": "markers",
         "showlegend": false,
         "text": [
          "{<br>  \"number\": 0,<br>  \"values\": [<br>    0.018276625572235056,<br>    0.7229728382357858<br>  ],<br>  \"params\": {<br>    \"learning_rate\": 0.018276625572235056<br>  }<br>}",
          "{<br>  \"number\": 1,<br>  \"values\": [<br>    0.012281350875017864,<br>    0.713129498994182<br>  ],<br>  \"params\": {<br>    \"learning_rate\": 0.012281350875017864<br>  }<br>}",
          "{<br>  \"number\": 2,<br>  \"values\": [<br>    0.3179931543219117,<br>    0.7181352358216049<br>  ],<br>  \"params\": {<br>    \"learning_rate\": 0.3179931543219117<br>  }<br>}",
          "{<br>  \"number\": 4,<br>  \"values\": [<br>    0.010097499163932589,<br>    0.689595604293249<br>  ],<br>  \"params\": {<br>    \"learning_rate\": 0.010097499163932589<br>  }<br>}",
          "{<br>  \"number\": 5,<br>  \"values\": [<br>    0.0010284892903758126,<br>    0.4235082247366586<br>  ],<br>  \"params\": {<br>    \"learning_rate\": 0.0010284892903758126<br>  }<br>}",
          "{<br>  \"number\": 6,<br>  \"values\": [<br>    0.0008073623310050534,<br>    0.4235082247366586<br>  ],<br>  \"params\": {<br>    \"learning_rate\": 0.0008073623310050534<br>  }<br>}",
          "{<br>  \"number\": 7,<br>  \"values\": [<br>    0.009446892389275133,<br>    0.6841554205738356<br>  ],<br>  \"params\": {<br>    \"learning_rate\": 0.009446892389275133<br>  }<br>}",
          "{<br>  \"number\": 8,<br>  \"values\": [<br>    0.042129982546996285,<br>    0.7318679125094985<br>  ],<br>  \"params\": {<br>    \"learning_rate\": 0.042129982546996285<br>  }<br>}",
          "{<br>  \"number\": 9,<br>  \"values\": [<br>    0.006234336282154794,<br>    0.6372047388051083<br>  ],<br>  \"params\": {<br>    \"learning_rate\": 0.006234336282154794<br>  }<br>}",
          "{<br>  \"number\": 10,<br>  \"values\": [<br>    0.0014213907266344855,<br>    0.4235082247366586<br>  ],<br>  \"params\": {<br>    \"learning_rate\": 0.0014213907266344855<br>  }<br>}",
          "{<br>  \"number\": 11,<br>  \"values\": [<br>    0.0074818711669891215,<br>    0.6643619268828908<br>  ],<br>  \"params\": {<br>    \"learning_rate\": 0.0074818711669891215<br>  }<br>}",
          "{<br>  \"number\": 13,<br>  \"values\": [<br>    0.0012664149179400209,<br>    0.4235082247366586<br>  ],<br>  \"params\": {<br>    \"learning_rate\": 0.0012664149179400209<br>  }<br>}",
          "{<br>  \"number\": 15,<br>  \"values\": [<br>    0.01538041330688695,<br>    0.7173796023919852<br>  ],<br>  \"params\": {<br>    \"learning_rate\": 0.01538041330688695<br>  }<br>}",
          "{<br>  \"number\": 16,<br>  \"values\": [<br>    0.018396986660930648,<br>    0.7227368738811438<br>  ],<br>  \"params\": {<br>    \"learning_rate\": 0.018396986660930648<br>  }<br>}",
          "{<br>  \"number\": 17,<br>  \"values\": [<br>    0.0030415201353781317,<br>    0.4235082247366586<br>  ],<br>  \"params\": {<br>    \"learning_rate\": 0.0030415201353781317<br>  }<br>}",
          "{<br>  \"number\": 18,<br>  \"values\": [<br>    0.34679130964813293,<br>    0.7165372792236238<br>  ],<br>  \"params\": {<br>    \"learning_rate\": 0.34679130964813293<br>  }<br>}",
          "{<br>  \"number\": 19,<br>  \"values\": [<br>    0.0016185106184141472,<br>    0.4235082247366586<br>  ],<br>  \"params\": {<br>    \"learning_rate\": 0.0016185106184141472<br>  }<br>}",
          "{<br>  \"number\": 20,<br>  \"values\": [<br>    0.09977031400739048,<br>    0.7302018596960369<br>  ],<br>  \"params\": {<br>    \"learning_rate\": 0.09977031400739048<br>  }<br>}",
          "{<br>  \"number\": 21,<br>  \"values\": [<br>    0.00015692458115144144,<br>    0.4235082247366586<br>  ],<br>  \"params\": {<br>    \"learning_rate\": 0.00015692458115144144<br>  }<br>}",
          "{<br>  \"number\": 22,<br>  \"values\": [<br>    0.0014637099340279343,<br>    0.4235082247366586<br>  ],<br>  \"params\": {<br>    \"learning_rate\": 0.0014637099340279343<br>  }<br>}",
          "{<br>  \"number\": 23,<br>  \"values\": [<br>    0.237542460048024,<br>    0.7216310177763523<br>  ],<br>  \"params\": {<br>    \"learning_rate\": 0.237542460048024<br>  }<br>}",
          "{<br>  \"number\": 25,<br>  \"values\": [<br>    0.039216586476540555,<br>    0.7301579035907364<br>  ],<br>  \"params\": {<br>    \"learning_rate\": 0.039216586476540555<br>  }<br>}",
          "{<br>  \"number\": 26,<br>  \"values\": [<br>    0.04413193652148863,<br>    0.7292176187667853<br>  ],<br>  \"params\": {<br>    \"learning_rate\": 0.04413193652148863<br>  }<br>}",
          "{<br>  \"number\": 28,<br>  \"values\": [<br>    0.0006332697167843045,<br>    0.4235082247366586<br>  ],<br>  \"params\": {<br>    \"learning_rate\": 0.0006332697167843045<br>  }<br>}",
          "{<br>  \"number\": 31,<br>  \"values\": [<br>    0.036619413830782564,<br>    0.7302184406320554<br>  ],<br>  \"params\": {<br>    \"learning_rate\": 0.036619413830782564<br>  }<br>}",
          "{<br>  \"number\": 32,<br>  \"values\": [<br>    0.03610204856200786,<br>    0.7304328067409969<br>  ],<br>  \"params\": {<br>    \"learning_rate\": 0.03610204856200786<br>  }<br>}",
          "{<br>  \"number\": 33,<br>  \"values\": [<br>    0.0021961450728918896,<br>    0.4235082247366586<br>  ],<br>  \"params\": {<br>    \"learning_rate\": 0.0021961450728918896<br>  }<br>}",
          "{<br>  \"number\": 34,<br>  \"values\": [<br>    0.012193586140043794,<br>    0.7120523440790167<br>  ],<br>  \"params\": {<br>    \"learning_rate\": 0.012193586140043794<br>  }<br>}",
          "{<br>  \"number\": 36,<br>  \"values\": [<br>    0.00017918412416240907,<br>    0.4235082247366586<br>  ],<br>  \"params\": {<br>    \"learning_rate\": 0.00017918412416240907<br>  }<br>}",
          "{<br>  \"number\": 37,<br>  \"values\": [<br>    0.014133500358080071,<br>    0.7167142851538554<br>  ],<br>  \"params\": {<br>    \"learning_rate\": 0.014133500358080071<br>  }<br>}",
          "{<br>  \"number\": 38,<br>  \"values\": [<br>    0.04852382290869409,<br>    0.7310333204595433<br>  ],<br>  \"params\": {<br>    \"learning_rate\": 0.04852382290869409<br>  }<br>}",
          "{<br>  \"number\": 39,<br>  \"values\": [<br>    0.040201201662143485,<br>    0.7306614283099379<br>  ],<br>  \"params\": {<br>    \"learning_rate\": 0.040201201662143485<br>  }<br>}",
          "{<br>  \"number\": 40,<br>  \"values\": [<br>    0.0011776265316570207,<br>    0.4235082247366586<br>  ],<br>  \"params\": {<br>    \"learning_rate\": 0.0011776265316570207<br>  }<br>}",
          "{<br>  \"number\": 41,<br>  \"values\": [<br>    0.026396073829949854,<br>    0.7294521208392316<br>  ],<br>  \"params\": {<br>    \"learning_rate\": 0.026396073829949854<br>  }<br>}",
          "{<br>  \"number\": 42,<br>  \"values\": [<br>    0.19287363423507076,<br>    0.7259236143539816<br>  ],<br>  \"params\": {<br>    \"learning_rate\": 0.19287363423507076<br>  }<br>}",
          "{<br>  \"number\": 44,<br>  \"values\": [<br>    0.06950786503628438,<br>    0.7323174432397132<br>  ],<br>  \"params\": {<br>    \"learning_rate\": 0.06950786503628438<br>  }<br>}",
          "{<br>  \"number\": 45,<br>  \"values\": [<br>    0.0013182070434705978,<br>    0.4235082247366586<br>  ],<br>  \"params\": {<br>    \"learning_rate\": 0.0013182070434705978<br>  }<br>}",
          "{<br>  \"number\": 46,<br>  \"values\": [<br>    0.0001689170415983065,<br>    0.4235082247366586<br>  ],<br>  \"params\": {<br>    \"learning_rate\": 0.0001689170415983065<br>  }<br>}",
          "{<br>  \"number\": 47,<br>  \"values\": [<br>    0.0021018530965500105,<br>    0.4235082247366586<br>  ],<br>  \"params\": {<br>    \"learning_rate\": 0.0021018530965500105<br>  }<br>}",
          "{<br>  \"number\": 48,<br>  \"values\": [<br>    0.00019287163151974652,<br>    0.4235082247366586<br>  ],<br>  \"params\": {<br>    \"learning_rate\": 0.00019287163151974652<br>  }<br>}",
          "{<br>  \"number\": 49,<br>  \"values\": [<br>    0.1714187324525616,<br>    0.7274564562489783<br>  ],<br>  \"params\": {<br>    \"learning_rate\": 0.1714187324525616<br>  }<br>}",
          "{<br>  \"number\": 50,<br>  \"values\": [<br>    0.028218912249716382,<br>    0.7285799931977797<br>  ],<br>  \"params\": {<br>    \"learning_rate\": 0.028218912249716382<br>  }<br>}",
          "{<br>  \"number\": 51,<br>  \"values\": [<br>    0.00037469787058577405,<br>    0.4235082247366586<br>  ],<br>  \"params\": {<br>    \"learning_rate\": 0.00037469787058577405<br>  }<br>}",
          "{<br>  \"number\": 52,<br>  \"values\": [<br>    0.016517619384449466,<br>    0.7201909680929806<br>  ],<br>  \"params\": {<br>    \"learning_rate\": 0.016517619384449466<br>  }<br>}",
          "{<br>  \"number\": 54,<br>  \"values\": [<br>    0.01075645544167512,<br>    0.6983807551597365<br>  ],<br>  \"params\": {<br>    \"learning_rate\": 0.01075645544167512<br>  }<br>}",
          "{<br>  \"number\": 55,<br>  \"values\": [<br>    0.0013300668001608705,<br>    0.4235082247366586<br>  ],<br>  \"params\": {<br>    \"learning_rate\": 0.0013300668001608705<br>  }<br>}",
          "{<br>  \"number\": 56,<br>  \"values\": [<br>    0.009234620597188305,<br>    0.6815820697212852<br>  ],<br>  \"params\": {<br>    \"learning_rate\": 0.009234620597188305<br>  }<br>}",
          "{<br>  \"number\": 57,<br>  \"values\": [<br>    0.030789337644333142,<br>    0.7297299658845593<br>  ],<br>  \"params\": {<br>    \"learning_rate\": 0.030789337644333142<br>  }<br>}",
          "{<br>  \"number\": 58,<br>  \"values\": [<br>    0.0005196761744466342,<br>    0.4235082247366586<br>  ],<br>  \"params\": {<br>    \"learning_rate\": 0.0005196761744466342<br>  }<br>}",
          "{<br>  \"number\": 60,<br>  \"values\": [<br>    0.023714036796718886,<br>    0.7259369472766212<br>  ],<br>  \"params\": {<br>    \"learning_rate\": 0.023714036796718886<br>  }<br>}",
          "{<br>  \"number\": 61,<br>  \"values\": [<br>    0.042951701452191404,<br>    0.7302474855948291<br>  ],<br>  \"params\": {<br>    \"learning_rate\": 0.042951701452191404<br>  }<br>}",
          "{<br>  \"number\": 63,<br>  \"values\": [<br>    0.0031088442966744653,<br>    0.4235082247366586<br>  ],<br>  \"params\": {<br>    \"learning_rate\": 0.0031088442966744653<br>  }<br>}",
          "{<br>  \"number\": 64,<br>  \"values\": [<br>    0.0004014235312843208,<br>    0.4235082247366586<br>  ],<br>  \"params\": {<br>    \"learning_rate\": 0.0004014235312843208<br>  }<br>}",
          "{<br>  \"number\": 65,<br>  \"values\": [<br>    0.005578035829630357,<br>    0.6170142717941252<br>  ],<br>  \"params\": {<br>    \"learning_rate\": 0.005578035829630357<br>  }<br>}",
          "{<br>  \"number\": 66,<br>  \"values\": [<br>    0.0001592544431367279,<br>    0.4235082247366586<br>  ],<br>  \"params\": {<br>    \"learning_rate\": 0.0001592544431367279<br>  }<br>}",
          "{<br>  \"number\": 67,<br>  \"values\": [<br>    0.0807232375319011,<br>    0.7309408871913655<br>  ],<br>  \"params\": {<br>    \"learning_rate\": 0.0807232375319011<br>  }<br>}",
          "{<br>  \"number\": 69,<br>  \"values\": [<br>    0.04159311590472715,<br>    0.7313584050417112<br>  ],<br>  \"params\": {<br>    \"learning_rate\": 0.04159311590472715<br>  }<br>}",
          "{<br>  \"number\": 70,<br>  \"values\": [<br>    0.0007829813261500128,<br>    0.4235082247366586<br>  ],<br>  \"params\": {<br>    \"learning_rate\": 0.0007829813261500128<br>  }<br>}",
          "{<br>  \"number\": 71,<br>  \"values\": [<br>    0.0005327862205087224,<br>    0.4235082247366586<br>  ],<br>  \"params\": {<br>    \"learning_rate\": 0.0005327862205087224<br>  }<br>}",
          "{<br>  \"number\": 72,<br>  \"values\": [<br>    0.011004042996587247,<br>    0.7013991059388606<br>  ],<br>  \"params\": {<br>    \"learning_rate\": 0.011004042996587247<br>  }<br>}",
          "{<br>  \"number\": 73,<br>  \"values\": [<br>    0.012096495400321669,<br>    0.7112448137800941<br>  ],<br>  \"params\": {<br>    \"learning_rate\": 0.012096495400321669<br>  }<br>}",
          "{<br>  \"number\": 74,<br>  \"values\": [<br>    0.07830377287729806,<br>    0.7306338561389435<br>  ],<br>  \"params\": {<br>    \"learning_rate\": 0.07830377287729806<br>  }<br>}",
          "{<br>  \"number\": 75,<br>  \"values\": [<br>    0.0020289312962674306,<br>    0.4235082247366586<br>  ],<br>  \"params\": {<br>    \"learning_rate\": 0.0020289312962674306<br>  }<br>}",
          "{<br>  \"number\": 76,<br>  \"values\": [<br>    0.007003614272196497,<br>    0.653715322076985<br>  ],<br>  \"params\": {<br>    \"learning_rate\": 0.007003614272196497<br>  }<br>}",
          "{<br>  \"number\": 77,<br>  \"values\": [<br>    0.026811861365256547,<br>    0.7281393119846103<br>  ],<br>  \"params\": {<br>    \"learning_rate\": 0.026811861365256547<br>  }<br>}",
          "{<br>  \"number\": 78,<br>  \"values\": [<br>    0.0014534431094221844,<br>    0.4235082247366586<br>  ],<br>  \"params\": {<br>    \"learning_rate\": 0.0014534431094221844<br>  }<br>}",
          "{<br>  \"number\": 79,<br>  \"values\": [<br>    0.07184266906020101,<br>    0.7318954915835494<br>  ],<br>  \"params\": {<br>    \"learning_rate\": 0.07184266906020101<br>  }<br>}",
          "{<br>  \"number\": 80,<br>  \"values\": [<br>    0.20138173825410338,<br>    0.7278080193179831<br>  ],<br>  \"params\": {<br>    \"learning_rate\": 0.20138173825410338<br>  }<br>}",
          "{<br>  \"number\": 81,<br>  \"values\": [<br>    0.01956656266919498,<br>    0.7259187426802697<br>  ],<br>  \"params\": {<br>    \"learning_rate\": 0.01956656266919498<br>  }<br>}",
          "{<br>  \"number\": 82,<br>  \"values\": [<br>    0.005251844487229045,<br>    0.6024609734794308<br>  ],<br>  \"params\": {<br>    \"learning_rate\": 0.005251844487229045<br>  }<br>}",
          "{<br>  \"number\": 83,<br>  \"values\": [<br>    0.0007975269741962664,<br>    0.4235082247366586<br>  ],<br>  \"params\": {<br>    \"learning_rate\": 0.0007975269741962664<br>  }<br>}",
          "{<br>  \"number\": 84,<br>  \"values\": [<br>    0.0005538907493946157,<br>    0.4235082247366586<br>  ],<br>  \"params\": {<br>    \"learning_rate\": 0.0005538907493946157<br>  }<br>}",
          "{<br>  \"number\": 85,<br>  \"values\": [<br>    0.0835122016432078,<br>    0.7321890615843162<br>  ],<br>  \"params\": {<br>    \"learning_rate\": 0.0835122016432078<br>  }<br>}",
          "{<br>  \"number\": 86,<br>  \"values\": [<br>    0.0006260697703589752,<br>    0.4235082247366586<br>  ],<br>  \"params\": {<br>    \"learning_rate\": 0.0006260697703589752<br>  }<br>}",
          "{<br>  \"number\": 88,<br>  \"values\": [<br>    0.004544231657855253,<br>    0.5343888745179519<br>  ],<br>  \"params\": {<br>    \"learning_rate\": 0.004544231657855253<br>  }<br>}",
          "{<br>  \"number\": 89,<br>  \"values\": [<br>    0.00012209259631005412,<br>    0.4235082247366586<br>  ],<br>  \"params\": {<br>    \"learning_rate\": 0.00012209259631005412<br>  }<br>}",
          "{<br>  \"number\": 90,<br>  \"values\": [<br>    0.001267549290534437,<br>    0.4235082247366586<br>  ],<br>  \"params\": {<br>    \"learning_rate\": 0.001267549290534437<br>  }<br>}",
          "{<br>  \"number\": 91,<br>  \"values\": [<br>    0.004363976487357013,<br>    0.5087369170754972<br>  ],<br>  \"params\": {<br>    \"learning_rate\": 0.004363976487357013<br>  }<br>}",
          "{<br>  \"number\": 92,<br>  \"values\": [<br>    0.017485462659550834,<br>    0.722280452051524<br>  ],<br>  \"params\": {<br>    \"learning_rate\": 0.017485462659550834<br>  }<br>}",
          "{<br>  \"number\": 93,<br>  \"values\": [<br>    0.44828056389247145,<br>    0.7116760995541701<br>  ],<br>  \"params\": {<br>    \"learning_rate\": 0.44828056389247145<br>  }<br>}",
          "{<br>  \"number\": 94,<br>  \"values\": [<br>    0.08277845673611592,<br>    0.7314187112500111<br>  ],<br>  \"params\": {<br>    \"learning_rate\": 0.08277845673611592<br>  }<br>}",
          "{<br>  \"number\": 95,<br>  \"values\": [<br>    0.0003291311959625348,<br>    0.4235082247366586<br>  ],<br>  \"params\": {<br>    \"learning_rate\": 0.0003291311959625348<br>  }<br>}",
          "{<br>  \"number\": 96,<br>  \"values\": [<br>    0.00022868118733042252,<br>    0.4235082247366586<br>  ],<br>  \"params\": {<br>    \"learning_rate\": 0.00022868118733042252<br>  }<br>}",
          "{<br>  \"number\": 97,<br>  \"values\": [<br>    0.18286145837300968,<br>    0.7262427071035374<br>  ],<br>  \"params\": {<br>    \"learning_rate\": 0.18286145837300968<br>  }<br>}",
          "{<br>  \"number\": 98,<br>  \"values\": [<br>    0.06941692989749879,<br>    0.7295385067809874<br>  ],<br>  \"params\": {<br>    \"learning_rate\": 0.06941692989749879<br>  }<br>}",
          "{<br>  \"number\": 99,<br>  \"values\": [<br>    0.19305171220017311,<br>    0.7262367052555226<br>  ],<br>  \"params\": {<br>    \"learning_rate\": 0.19305171220017311<br>  }<br>}"
         ],
         "type": "scatter",
         "x": [
          0.018276625572235056,
          0.012281350875017864,
          0.3179931543219117,
          0.010097499163932589,
          0.0010284892903758126,
          0.0008073623310050534,
          0.009446892389275133,
          0.042129982546996285,
          0.006234336282154794,
          0.0014213907266344855,
          0.0074818711669891215,
          0.0012664149179400209,
          0.01538041330688695,
          0.018396986660930648,
          0.0030415201353781317,
          0.34679130964813293,
          0.0016185106184141472,
          0.09977031400739048,
          0.00015692458115144144,
          0.0014637099340279343,
          0.237542460048024,
          0.039216586476540555,
          0.04413193652148863,
          0.0006332697167843045,
          0.036619413830782564,
          0.03610204856200786,
          0.0021961450728918896,
          0.012193586140043794,
          0.00017918412416240907,
          0.014133500358080071,
          0.04852382290869409,
          0.040201201662143485,
          0.0011776265316570207,
          0.026396073829949854,
          0.19287363423507076,
          0.06950786503628438,
          0.0013182070434705978,
          0.0001689170415983065,
          0.0021018530965500105,
          0.00019287163151974652,
          0.1714187324525616,
          0.028218912249716382,
          0.00037469787058577405,
          0.016517619384449466,
          0.01075645544167512,
          0.0013300668001608705,
          0.009234620597188305,
          0.030789337644333142,
          0.0005196761744466342,
          0.023714036796718886,
          0.042951701452191404,
          0.0031088442966744653,
          0.0004014235312843208,
          0.005578035829630357,
          0.0001592544431367279,
          0.0807232375319011,
          0.04159311590472715,
          0.0007829813261500128,
          0.0005327862205087224,
          0.011004042996587247,
          0.012096495400321669,
          0.07830377287729806,
          0.0020289312962674306,
          0.007003614272196497,
          0.026811861365256547,
          0.0014534431094221844,
          0.07184266906020101,
          0.20138173825410338,
          0.01956656266919498,
          0.005251844487229045,
          0.0007975269741962664,
          0.0005538907493946157,
          0.0835122016432078,
          0.0006260697703589752,
          0.004544231657855253,
          0.00012209259631005412,
          0.001267549290534437,
          0.004363976487357013,
          0.017485462659550834,
          0.44828056389247145,
          0.08277845673611592,
          0.0003291311959625348,
          0.00022868118733042252,
          0.18286145837300968,
          0.06941692989749879,
          0.19305171220017311
         ],
         "y": [
          0.7229728382357858,
          0.713129498994182,
          0.7181352358216049,
          0.689595604293249,
          0.4235082247366586,
          0.4235082247366586,
          0.6841554205738356,
          0.7318679125094985,
          0.6372047388051083,
          0.4235082247366586,
          0.6643619268828908,
          0.4235082247366586,
          0.7173796023919852,
          0.7227368738811438,
          0.4235082247366586,
          0.7165372792236238,
          0.4235082247366586,
          0.7302018596960369,
          0.4235082247366586,
          0.4235082247366586,
          0.7216310177763523,
          0.7301579035907364,
          0.7292176187667853,
          0.4235082247366586,
          0.7302184406320554,
          0.7304328067409969,
          0.4235082247366586,
          0.7120523440790167,
          0.4235082247366586,
          0.7167142851538554,
          0.7310333204595433,
          0.7306614283099379,
          0.4235082247366586,
          0.7294521208392316,
          0.7259236143539816,
          0.7323174432397132,
          0.4235082247366586,
          0.4235082247366586,
          0.4235082247366586,
          0.4235082247366586,
          0.7274564562489783,
          0.7285799931977797,
          0.4235082247366586,
          0.7201909680929806,
          0.6983807551597365,
          0.4235082247366586,
          0.6815820697212852,
          0.7297299658845593,
          0.4235082247366586,
          0.7259369472766212,
          0.7302474855948291,
          0.4235082247366586,
          0.4235082247366586,
          0.6170142717941252,
          0.4235082247366586,
          0.7309408871913655,
          0.7313584050417112,
          0.4235082247366586,
          0.4235082247366586,
          0.7013991059388606,
          0.7112448137800941,
          0.7306338561389435,
          0.4235082247366586,
          0.653715322076985,
          0.7281393119846103,
          0.4235082247366586,
          0.7318954915835494,
          0.7278080193179831,
          0.7259187426802697,
          0.6024609734794308,
          0.4235082247366586,
          0.4235082247366586,
          0.7321890615843162,
          0.4235082247366586,
          0.5343888745179519,
          0.4235082247366586,
          0.4235082247366586,
          0.5087369170754972,
          0.722280452051524,
          0.7116760995541701,
          0.7314187112500111,
          0.4235082247366586,
          0.4235082247366586,
          0.7262427071035374,
          0.7295385067809874,
          0.7262367052555226
         ]
        },
        {
         "hovertemplate": "%{text}<extra>Best Trial</extra>",
         "marker": {
          "color": [
           3,
           12,
           14,
           24,
           27,
           29,
           30,
           35,
           43,
           53,
           59,
           62,
           68,
           87
          ],
          "colorbar": {
           "title": {
            "text": "Best Trial"
           },
           "x": 1.1,
           "xpad": 40
          },
          "colorscale": [
           [
            0,
            "rgb(255,245,240)"
           ],
           [
            0.125,
            "rgb(254,224,210)"
           ],
           [
            0.25,
            "rgb(252,187,161)"
           ],
           [
            0.375,
            "rgb(252,146,114)"
           ],
           [
            0.5,
            "rgb(251,106,74)"
           ],
           [
            0.625,
            "rgb(239,59,44)"
           ],
           [
            0.75,
            "rgb(203,24,29)"
           ],
           [
            0.875,
            "rgb(165,15,21)"
           ],
           [
            1,
            "rgb(103,0,13)"
           ]
          ],
          "line": {
           "color": "Grey",
           "width": 0.5
          }
         },
         "mode": "markers",
         "showlegend": false,
         "text": [
          "{<br>  \"number\": 3,<br>  \"values\": [<br>    0.3317048028124761,<br>    0.7182462105095208<br>  ],<br>  \"params\": {<br>    \"learning_rate\": 0.3317048028124761<br>  }<br>}",
          "{<br>  \"number\": 12,<br>  \"values\": [<br>    0.1148404311838305,<br>    0.7321994102159477<br>  ],<br>  \"params\": {<br>    \"learning_rate\": 0.1148404311838305<br>  }<br>}",
          "{<br>  \"number\": 14,<br>  \"values\": [<br>    0.05307222954482612,<br>    0.7336139976808754<br>  ],<br>  \"params\": {<br>    \"learning_rate\": 0.05307222954482612<br>  }<br>}",
          "{<br>  \"number\": 24,<br>  \"values\": [<br>    0.24410089728809634,<br>    0.7254004209977449<br>  ],<br>  \"params\": {<br>    \"learning_rate\": 0.24410089728809634<br>  }<br>}",
          "{<br>  \"number\": 27,<br>  \"values\": [<br>    0.12844461011742844,<br>    0.7321027124572879<br>  ],<br>  \"params\": {<br>    \"learning_rate\": 0.12844461011742844<br>  }<br>}",
          "{<br>  \"number\": 29,<br>  \"values\": [<br>    0.4498243389528799,<br>    0.7180387023655493<br>  ],<br>  \"params\": {<br>    \"learning_rate\": 0.4498243389528799<br>  }<br>}",
          "{<br>  \"number\": 30,<br>  \"values\": [<br>    0.28825962026286955,<br>    0.7220137309076756<br>  ],<br>  \"params\": {<br>    \"learning_rate\": 0.28825962026286955<br>  }<br>}",
          "{<br>  \"number\": 35,<br>  \"values\": [<br>    0.19630258423899116,<br>    0.7290264275839735<br>  ],<br>  \"params\": {<br>    \"learning_rate\": 0.19630258423899116<br>  }<br>}",
          "{<br>  \"number\": 43,<br>  \"values\": [<br>    0.07377836783758575,<br>    0.7335097300380633<br>  ],<br>  \"params\": {<br>    \"learning_rate\": 0.07377836783758575<br>  }<br>}",
          "{<br>  \"number\": 53,<br>  \"values\": [<br>    0.4796291220454122,<br>    0.7120415606860494<br>  ],<br>  \"params\": {<br>    \"learning_rate\": 0.4796291220454122<br>  }<br>}",
          "{<br>  \"number\": 59,<br>  \"values\": [<br>    0.21454254531144426,<br>    0.7279770709345865<br>  ],<br>  \"params\": {<br>    \"learning_rate\": 0.21454254531144426<br>  }<br>}",
          "{<br>  \"number\": 62,<br>  \"values\": [<br>    0.30521179006815724,<br>    0.7193743184471776<br>  ],<br>  \"params\": {<br>    \"learning_rate\": 0.30521179006815724<br>  }<br>}",
          "{<br>  \"number\": 68,<br>  \"values\": [<br>    0.16799292006264588,<br>    0.7309842390105754<br>  ],<br>  \"params\": {<br>    \"learning_rate\": 0.16799292006264588<br>  }<br>}",
          "{<br>  \"number\": 87,<br>  \"values\": [<br>    0.11742527067046299,<br>    0.7321944783582703<br>  ],<br>  \"params\": {<br>    \"learning_rate\": 0.11742527067046299<br>  }<br>}"
         ],
         "type": "scatter",
         "x": [
          0.3317048028124761,
          0.1148404311838305,
          0.05307222954482612,
          0.24410089728809634,
          0.12844461011742844,
          0.4498243389528799,
          0.28825962026286955,
          0.19630258423899116,
          0.07377836783758575,
          0.4796291220454122,
          0.21454254531144426,
          0.30521179006815724,
          0.16799292006264588,
          0.11742527067046299
         ],
         "y": [
          0.7182462105095208,
          0.7321994102159477,
          0.7336139976808754,
          0.7254004209977449,
          0.7321027124572879,
          0.7180387023655493,
          0.7220137309076756,
          0.7290264275839735,
          0.7335097300380633,
          0.7120415606860494,
          0.7279770709345865,
          0.7193743184471776,
          0.7309842390105754,
          0.7321944783582703
         ]
        }
       ],
       "layout": {
        "template": {
         "data": {
          "bar": [
           {
            "error_x": {
             "color": "#2a3f5f"
            },
            "error_y": {
             "color": "#2a3f5f"
            },
            "marker": {
             "line": {
              "color": "#E5ECF6",
              "width": 0.5
             },
             "pattern": {
              "fillmode": "overlay",
              "size": 10,
              "solidity": 0.2
             }
            },
            "type": "bar"
           }
          ],
          "barpolar": [
           {
            "marker": {
             "line": {
              "color": "#E5ECF6",
              "width": 0.5
             },
             "pattern": {
              "fillmode": "overlay",
              "size": 10,
              "solidity": 0.2
             }
            },
            "type": "barpolar"
           }
          ],
          "carpet": [
           {
            "aaxis": {
             "endlinecolor": "#2a3f5f",
             "gridcolor": "white",
             "linecolor": "white",
             "minorgridcolor": "white",
             "startlinecolor": "#2a3f5f"
            },
            "baxis": {
             "endlinecolor": "#2a3f5f",
             "gridcolor": "white",
             "linecolor": "white",
             "minorgridcolor": "white",
             "startlinecolor": "#2a3f5f"
            },
            "type": "carpet"
           }
          ],
          "choropleth": [
           {
            "colorbar": {
             "outlinewidth": 0,
             "ticks": ""
            },
            "type": "choropleth"
           }
          ],
          "contour": [
           {
            "colorbar": {
             "outlinewidth": 0,
             "ticks": ""
            },
            "colorscale": [
             [
              0,
              "#0d0887"
             ],
             [
              0.1111111111111111,
              "#46039f"
             ],
             [
              0.2222222222222222,
              "#7201a8"
             ],
             [
              0.3333333333333333,
              "#9c179e"
             ],
             [
              0.4444444444444444,
              "#bd3786"
             ],
             [
              0.5555555555555556,
              "#d8576b"
             ],
             [
              0.6666666666666666,
              "#ed7953"
             ],
             [
              0.7777777777777778,
              "#fb9f3a"
             ],
             [
              0.8888888888888888,
              "#fdca26"
             ],
             [
              1,
              "#f0f921"
             ]
            ],
            "type": "contour"
           }
          ],
          "contourcarpet": [
           {
            "colorbar": {
             "outlinewidth": 0,
             "ticks": ""
            },
            "type": "contourcarpet"
           }
          ],
          "heatmap": [
           {
            "colorbar": {
             "outlinewidth": 0,
             "ticks": ""
            },
            "colorscale": [
             [
              0,
              "#0d0887"
             ],
             [
              0.1111111111111111,
              "#46039f"
             ],
             [
              0.2222222222222222,
              "#7201a8"
             ],
             [
              0.3333333333333333,
              "#9c179e"
             ],
             [
              0.4444444444444444,
              "#bd3786"
             ],
             [
              0.5555555555555556,
              "#d8576b"
             ],
             [
              0.6666666666666666,
              "#ed7953"
             ],
             [
              0.7777777777777778,
              "#fb9f3a"
             ],
             [
              0.8888888888888888,
              "#fdca26"
             ],
             [
              1,
              "#f0f921"
             ]
            ],
            "type": "heatmap"
           }
          ],
          "heatmapgl": [
           {
            "colorbar": {
             "outlinewidth": 0,
             "ticks": ""
            },
            "colorscale": [
             [
              0,
              "#0d0887"
             ],
             [
              0.1111111111111111,
              "#46039f"
             ],
             [
              0.2222222222222222,
              "#7201a8"
             ],
             [
              0.3333333333333333,
              "#9c179e"
             ],
             [
              0.4444444444444444,
              "#bd3786"
             ],
             [
              0.5555555555555556,
              "#d8576b"
             ],
             [
              0.6666666666666666,
              "#ed7953"
             ],
             [
              0.7777777777777778,
              "#fb9f3a"
             ],
             [
              0.8888888888888888,
              "#fdca26"
             ],
             [
              1,
              "#f0f921"
             ]
            ],
            "type": "heatmapgl"
           }
          ],
          "histogram": [
           {
            "marker": {
             "pattern": {
              "fillmode": "overlay",
              "size": 10,
              "solidity": 0.2
             }
            },
            "type": "histogram"
           }
          ],
          "histogram2d": [
           {
            "colorbar": {
             "outlinewidth": 0,
             "ticks": ""
            },
            "colorscale": [
             [
              0,
              "#0d0887"
             ],
             [
              0.1111111111111111,
              "#46039f"
             ],
             [
              0.2222222222222222,
              "#7201a8"
             ],
             [
              0.3333333333333333,
              "#9c179e"
             ],
             [
              0.4444444444444444,
              "#bd3786"
             ],
             [
              0.5555555555555556,
              "#d8576b"
             ],
             [
              0.6666666666666666,
              "#ed7953"
             ],
             [
              0.7777777777777778,
              "#fb9f3a"
             ],
             [
              0.8888888888888888,
              "#fdca26"
             ],
             [
              1,
              "#f0f921"
             ]
            ],
            "type": "histogram2d"
           }
          ],
          "histogram2dcontour": [
           {
            "colorbar": {
             "outlinewidth": 0,
             "ticks": ""
            },
            "colorscale": [
             [
              0,
              "#0d0887"
             ],
             [
              0.1111111111111111,
              "#46039f"
             ],
             [
              0.2222222222222222,
              "#7201a8"
             ],
             [
              0.3333333333333333,
              "#9c179e"
             ],
             [
              0.4444444444444444,
              "#bd3786"
             ],
             [
              0.5555555555555556,
              "#d8576b"
             ],
             [
              0.6666666666666666,
              "#ed7953"
             ],
             [
              0.7777777777777778,
              "#fb9f3a"
             ],
             [
              0.8888888888888888,
              "#fdca26"
             ],
             [
              1,
              "#f0f921"
             ]
            ],
            "type": "histogram2dcontour"
           }
          ],
          "mesh3d": [
           {
            "colorbar": {
             "outlinewidth": 0,
             "ticks": ""
            },
            "type": "mesh3d"
           }
          ],
          "parcoords": [
           {
            "line": {
             "colorbar": {
              "outlinewidth": 0,
              "ticks": ""
             }
            },
            "type": "parcoords"
           }
          ],
          "pie": [
           {
            "automargin": true,
            "type": "pie"
           }
          ],
          "scatter": [
           {
            "fillpattern": {
             "fillmode": "overlay",
             "size": 10,
             "solidity": 0.2
            },
            "type": "scatter"
           }
          ],
          "scatter3d": [
           {
            "line": {
             "colorbar": {
              "outlinewidth": 0,
              "ticks": ""
             }
            },
            "marker": {
             "colorbar": {
              "outlinewidth": 0,
              "ticks": ""
             }
            },
            "type": "scatter3d"
           }
          ],
          "scattercarpet": [
           {
            "marker": {
             "colorbar": {
              "outlinewidth": 0,
              "ticks": ""
             }
            },
            "type": "scattercarpet"
           }
          ],
          "scattergeo": [
           {
            "marker": {
             "colorbar": {
              "outlinewidth": 0,
              "ticks": ""
             }
            },
            "type": "scattergeo"
           }
          ],
          "scattergl": [
           {
            "marker": {
             "colorbar": {
              "outlinewidth": 0,
              "ticks": ""
             }
            },
            "type": "scattergl"
           }
          ],
          "scattermapbox": [
           {
            "marker": {
             "colorbar": {
              "outlinewidth": 0,
              "ticks": ""
             }
            },
            "type": "scattermapbox"
           }
          ],
          "scatterpolar": [
           {
            "marker": {
             "colorbar": {
              "outlinewidth": 0,
              "ticks": ""
             }
            },
            "type": "scatterpolar"
           }
          ],
          "scatterpolargl": [
           {
            "marker": {
             "colorbar": {
              "outlinewidth": 0,
              "ticks": ""
             }
            },
            "type": "scatterpolargl"
           }
          ],
          "scatterternary": [
           {
            "marker": {
             "colorbar": {
              "outlinewidth": 0,
              "ticks": ""
             }
            },
            "type": "scatterternary"
           }
          ],
          "surface": [
           {
            "colorbar": {
             "outlinewidth": 0,
             "ticks": ""
            },
            "colorscale": [
             [
              0,
              "#0d0887"
             ],
             [
              0.1111111111111111,
              "#46039f"
             ],
             [
              0.2222222222222222,
              "#7201a8"
             ],
             [
              0.3333333333333333,
              "#9c179e"
             ],
             [
              0.4444444444444444,
              "#bd3786"
             ],
             [
              0.5555555555555556,
              "#d8576b"
             ],
             [
              0.6666666666666666,
              "#ed7953"
             ],
             [
              0.7777777777777778,
              "#fb9f3a"
             ],
             [
              0.8888888888888888,
              "#fdca26"
             ],
             [
              1,
              "#f0f921"
             ]
            ],
            "type": "surface"
           }
          ],
          "table": [
           {
            "cells": {
             "fill": {
              "color": "#EBF0F8"
             },
             "line": {
              "color": "white"
             }
            },
            "header": {
             "fill": {
              "color": "#C8D4E3"
             },
             "line": {
              "color": "white"
             }
            },
            "type": "table"
           }
          ]
         },
         "layout": {
          "annotationdefaults": {
           "arrowcolor": "#2a3f5f",
           "arrowhead": 0,
           "arrowwidth": 1
          },
          "autotypenumbers": "strict",
          "coloraxis": {
           "colorbar": {
            "outlinewidth": 0,
            "ticks": ""
           }
          },
          "colorscale": {
           "diverging": [
            [
             0,
             "#8e0152"
            ],
            [
             0.1,
             "#c51b7d"
            ],
            [
             0.2,
             "#de77ae"
            ],
            [
             0.3,
             "#f1b6da"
            ],
            [
             0.4,
             "#fde0ef"
            ],
            [
             0.5,
             "#f7f7f7"
            ],
            [
             0.6,
             "#e6f5d0"
            ],
            [
             0.7,
             "#b8e186"
            ],
            [
             0.8,
             "#7fbc41"
            ],
            [
             0.9,
             "#4d9221"
            ],
            [
             1,
             "#276419"
            ]
           ],
           "sequential": [
            [
             0,
             "#0d0887"
            ],
            [
             0.1111111111111111,
             "#46039f"
            ],
            [
             0.2222222222222222,
             "#7201a8"
            ],
            [
             0.3333333333333333,
             "#9c179e"
            ],
            [
             0.4444444444444444,
             "#bd3786"
            ],
            [
             0.5555555555555556,
             "#d8576b"
            ],
            [
             0.6666666666666666,
             "#ed7953"
            ],
            [
             0.7777777777777778,
             "#fb9f3a"
            ],
            [
             0.8888888888888888,
             "#fdca26"
            ],
            [
             1,
             "#f0f921"
            ]
           ],
           "sequentialminus": [
            [
             0,
             "#0d0887"
            ],
            [
             0.1111111111111111,
             "#46039f"
            ],
            [
             0.2222222222222222,
             "#7201a8"
            ],
            [
             0.3333333333333333,
             "#9c179e"
            ],
            [
             0.4444444444444444,
             "#bd3786"
            ],
            [
             0.5555555555555556,
             "#d8576b"
            ],
            [
             0.6666666666666666,
             "#ed7953"
            ],
            [
             0.7777777777777778,
             "#fb9f3a"
            ],
            [
             0.8888888888888888,
             "#fdca26"
            ],
            [
             1,
             "#f0f921"
            ]
           ]
          },
          "colorway": [
           "#636efa",
           "#EF553B",
           "#00cc96",
           "#ab63fa",
           "#FFA15A",
           "#19d3f3",
           "#FF6692",
           "#B6E880",
           "#FF97FF",
           "#FECB52"
          ],
          "font": {
           "color": "#2a3f5f"
          },
          "geo": {
           "bgcolor": "white",
           "lakecolor": "white",
           "landcolor": "#E5ECF6",
           "showlakes": true,
           "showland": true,
           "subunitcolor": "white"
          },
          "hoverlabel": {
           "align": "left"
          },
          "hovermode": "closest",
          "mapbox": {
           "style": "light"
          },
          "paper_bgcolor": "white",
          "plot_bgcolor": "#E5ECF6",
          "polar": {
           "angularaxis": {
            "gridcolor": "white",
            "linecolor": "white",
            "ticks": ""
           },
           "bgcolor": "#E5ECF6",
           "radialaxis": {
            "gridcolor": "white",
            "linecolor": "white",
            "ticks": ""
           }
          },
          "scene": {
           "xaxis": {
            "backgroundcolor": "#E5ECF6",
            "gridcolor": "white",
            "gridwidth": 2,
            "linecolor": "white",
            "showbackground": true,
            "ticks": "",
            "zerolinecolor": "white"
           },
           "yaxis": {
            "backgroundcolor": "#E5ECF6",
            "gridcolor": "white",
            "gridwidth": 2,
            "linecolor": "white",
            "showbackground": true,
            "ticks": "",
            "zerolinecolor": "white"
           },
           "zaxis": {
            "backgroundcolor": "#E5ECF6",
            "gridcolor": "white",
            "gridwidth": 2,
            "linecolor": "white",
            "showbackground": true,
            "ticks": "",
            "zerolinecolor": "white"
           }
          },
          "shapedefaults": {
           "line": {
            "color": "#2a3f5f"
           }
          },
          "ternary": {
           "aaxis": {
            "gridcolor": "white",
            "linecolor": "white",
            "ticks": ""
           },
           "baxis": {
            "gridcolor": "white",
            "linecolor": "white",
            "ticks": ""
           },
           "bgcolor": "#E5ECF6",
           "caxis": {
            "gridcolor": "white",
            "linecolor": "white",
            "ticks": ""
           }
          },
          "title": {
           "x": 0.05
          },
          "xaxis": {
           "automargin": true,
           "gridcolor": "white",
           "linecolor": "white",
           "ticks": "",
           "title": {
            "standoff": 15
           },
           "zerolinecolor": "white",
           "zerolinewidth": 2
          },
          "yaxis": {
           "automargin": true,
           "gridcolor": "white",
           "linecolor": "white",
           "ticks": "",
           "title": {
            "standoff": 15
           },
           "zerolinecolor": "white",
           "zerolinewidth": 2
          }
         }
        },
        "title": {
         "text": "Pareto-front Plot"
        },
        "xaxis": {
         "title": {
          "text": "learning_rate"
         }
        },
        "yaxis": {
         "title": {
          "text": "f1"
         }
        }
       }
      },
      "text/html": [
       "<div>                            <div id=\"f5c97c6e-db5a-4ff5-9b09-b323a292b954\" class=\"plotly-graph-div\" style=\"height:525px; width:100%;\"></div>            <script type=\"text/javascript\">                require([\"plotly\"], function(Plotly) {                    window.PLOTLYENV=window.PLOTLYENV || {};                                    if (document.getElementById(\"f5c97c6e-db5a-4ff5-9b09-b323a292b954\")) {                    Plotly.newPlot(                        \"f5c97c6e-db5a-4ff5-9b09-b323a292b954\",                        [{\"hovertemplate\":\"%{text}<extra>Trial</extra>\",\"marker\":{\"color\":[0,1,2,4,5,6,7,8,9,10,11,13,15,16,17,18,19,20,21,22,23,25,26,28,31,32,33,34,36,37,38,39,40,41,42,44,45,46,47,48,49,50,51,52,54,55,56,57,58,60,61,63,64,65,66,67,69,70,71,72,73,74,75,76,77,78,79,80,81,82,83,84,85,86,88,89,90,91,92,93,94,95,96,97,98,99],\"colorbar\":{\"title\":{\"text\":\"Trial\"}},\"colorscale\":[[0.0,\"rgb(247,251,255)\"],[0.125,\"rgb(222,235,247)\"],[0.25,\"rgb(198,219,239)\"],[0.375,\"rgb(158,202,225)\"],[0.5,\"rgb(107,174,214)\"],[0.625,\"rgb(66,146,198)\"],[0.75,\"rgb(33,113,181)\"],[0.875,\"rgb(8,81,156)\"],[1.0,\"rgb(8,48,107)\"]],\"line\":{\"color\":\"Grey\",\"width\":0.5}},\"mode\":\"markers\",\"showlegend\":false,\"text\":[\"{<br>  \\\"number\\\": 0,<br>  \\\"values\\\": [<br>    0.018276625572235056,<br>    0.7229728382357858<br>  ],<br>  \\\"params\\\": {<br>    \\\"learning_rate\\\": 0.018276625572235056<br>  }<br>}\",\"{<br>  \\\"number\\\": 1,<br>  \\\"values\\\": [<br>    0.012281350875017864,<br>    0.713129498994182<br>  ],<br>  \\\"params\\\": {<br>    \\\"learning_rate\\\": 0.012281350875017864<br>  }<br>}\",\"{<br>  \\\"number\\\": 2,<br>  \\\"values\\\": [<br>    0.3179931543219117,<br>    0.7181352358216049<br>  ],<br>  \\\"params\\\": {<br>    \\\"learning_rate\\\": 0.3179931543219117<br>  }<br>}\",\"{<br>  \\\"number\\\": 4,<br>  \\\"values\\\": [<br>    0.010097499163932589,<br>    0.689595604293249<br>  ],<br>  \\\"params\\\": {<br>    \\\"learning_rate\\\": 0.010097499163932589<br>  }<br>}\",\"{<br>  \\\"number\\\": 5,<br>  \\\"values\\\": [<br>    0.0010284892903758126,<br>    0.4235082247366586<br>  ],<br>  \\\"params\\\": {<br>    \\\"learning_rate\\\": 0.0010284892903758126<br>  }<br>}\",\"{<br>  \\\"number\\\": 6,<br>  \\\"values\\\": [<br>    0.0008073623310050534,<br>    0.4235082247366586<br>  ],<br>  \\\"params\\\": {<br>    \\\"learning_rate\\\": 0.0008073623310050534<br>  }<br>}\",\"{<br>  \\\"number\\\": 7,<br>  \\\"values\\\": [<br>    0.009446892389275133,<br>    0.6841554205738356<br>  ],<br>  \\\"params\\\": {<br>    \\\"learning_rate\\\": 0.009446892389275133<br>  }<br>}\",\"{<br>  \\\"number\\\": 8,<br>  \\\"values\\\": [<br>    0.042129982546996285,<br>    0.7318679125094985<br>  ],<br>  \\\"params\\\": {<br>    \\\"learning_rate\\\": 0.042129982546996285<br>  }<br>}\",\"{<br>  \\\"number\\\": 9,<br>  \\\"values\\\": [<br>    0.006234336282154794,<br>    0.6372047388051083<br>  ],<br>  \\\"params\\\": {<br>    \\\"learning_rate\\\": 0.006234336282154794<br>  }<br>}\",\"{<br>  \\\"number\\\": 10,<br>  \\\"values\\\": [<br>    0.0014213907266344855,<br>    0.4235082247366586<br>  ],<br>  \\\"params\\\": {<br>    \\\"learning_rate\\\": 0.0014213907266344855<br>  }<br>}\",\"{<br>  \\\"number\\\": 11,<br>  \\\"values\\\": [<br>    0.0074818711669891215,<br>    0.6643619268828908<br>  ],<br>  \\\"params\\\": {<br>    \\\"learning_rate\\\": 0.0074818711669891215<br>  }<br>}\",\"{<br>  \\\"number\\\": 13,<br>  \\\"values\\\": [<br>    0.0012664149179400209,<br>    0.4235082247366586<br>  ],<br>  \\\"params\\\": {<br>    \\\"learning_rate\\\": 0.0012664149179400209<br>  }<br>}\",\"{<br>  \\\"number\\\": 15,<br>  \\\"values\\\": [<br>    0.01538041330688695,<br>    0.7173796023919852<br>  ],<br>  \\\"params\\\": {<br>    \\\"learning_rate\\\": 0.01538041330688695<br>  }<br>}\",\"{<br>  \\\"number\\\": 16,<br>  \\\"values\\\": [<br>    0.018396986660930648,<br>    0.7227368738811438<br>  ],<br>  \\\"params\\\": {<br>    \\\"learning_rate\\\": 0.018396986660930648<br>  }<br>}\",\"{<br>  \\\"number\\\": 17,<br>  \\\"values\\\": [<br>    0.0030415201353781317,<br>    0.4235082247366586<br>  ],<br>  \\\"params\\\": {<br>    \\\"learning_rate\\\": 0.0030415201353781317<br>  }<br>}\",\"{<br>  \\\"number\\\": 18,<br>  \\\"values\\\": [<br>    0.34679130964813293,<br>    0.7165372792236238<br>  ],<br>  \\\"params\\\": {<br>    \\\"learning_rate\\\": 0.34679130964813293<br>  }<br>}\",\"{<br>  \\\"number\\\": 19,<br>  \\\"values\\\": [<br>    0.0016185106184141472,<br>    0.4235082247366586<br>  ],<br>  \\\"params\\\": {<br>    \\\"learning_rate\\\": 0.0016185106184141472<br>  }<br>}\",\"{<br>  \\\"number\\\": 20,<br>  \\\"values\\\": [<br>    0.09977031400739048,<br>    0.7302018596960369<br>  ],<br>  \\\"params\\\": {<br>    \\\"learning_rate\\\": 0.09977031400739048<br>  }<br>}\",\"{<br>  \\\"number\\\": 21,<br>  \\\"values\\\": [<br>    0.00015692458115144144,<br>    0.4235082247366586<br>  ],<br>  \\\"params\\\": {<br>    \\\"learning_rate\\\": 0.00015692458115144144<br>  }<br>}\",\"{<br>  \\\"number\\\": 22,<br>  \\\"values\\\": [<br>    0.0014637099340279343,<br>    0.4235082247366586<br>  ],<br>  \\\"params\\\": {<br>    \\\"learning_rate\\\": 0.0014637099340279343<br>  }<br>}\",\"{<br>  \\\"number\\\": 23,<br>  \\\"values\\\": [<br>    0.237542460048024,<br>    0.7216310177763523<br>  ],<br>  \\\"params\\\": {<br>    \\\"learning_rate\\\": 0.237542460048024<br>  }<br>}\",\"{<br>  \\\"number\\\": 25,<br>  \\\"values\\\": [<br>    0.039216586476540555,<br>    0.7301579035907364<br>  ],<br>  \\\"params\\\": {<br>    \\\"learning_rate\\\": 0.039216586476540555<br>  }<br>}\",\"{<br>  \\\"number\\\": 26,<br>  \\\"values\\\": [<br>    0.04413193652148863,<br>    0.7292176187667853<br>  ],<br>  \\\"params\\\": {<br>    \\\"learning_rate\\\": 0.04413193652148863<br>  }<br>}\",\"{<br>  \\\"number\\\": 28,<br>  \\\"values\\\": [<br>    0.0006332697167843045,<br>    0.4235082247366586<br>  ],<br>  \\\"params\\\": {<br>    \\\"learning_rate\\\": 0.0006332697167843045<br>  }<br>}\",\"{<br>  \\\"number\\\": 31,<br>  \\\"values\\\": [<br>    0.036619413830782564,<br>    0.7302184406320554<br>  ],<br>  \\\"params\\\": {<br>    \\\"learning_rate\\\": 0.036619413830782564<br>  }<br>}\",\"{<br>  \\\"number\\\": 32,<br>  \\\"values\\\": [<br>    0.03610204856200786,<br>    0.7304328067409969<br>  ],<br>  \\\"params\\\": {<br>    \\\"learning_rate\\\": 0.03610204856200786<br>  }<br>}\",\"{<br>  \\\"number\\\": 33,<br>  \\\"values\\\": [<br>    0.0021961450728918896,<br>    0.4235082247366586<br>  ],<br>  \\\"params\\\": {<br>    \\\"learning_rate\\\": 0.0021961450728918896<br>  }<br>}\",\"{<br>  \\\"number\\\": 34,<br>  \\\"values\\\": [<br>    0.012193586140043794,<br>    0.7120523440790167<br>  ],<br>  \\\"params\\\": {<br>    \\\"learning_rate\\\": 0.012193586140043794<br>  }<br>}\",\"{<br>  \\\"number\\\": 36,<br>  \\\"values\\\": [<br>    0.00017918412416240907,<br>    0.4235082247366586<br>  ],<br>  \\\"params\\\": {<br>    \\\"learning_rate\\\": 0.00017918412416240907<br>  }<br>}\",\"{<br>  \\\"number\\\": 37,<br>  \\\"values\\\": [<br>    0.014133500358080071,<br>    0.7167142851538554<br>  ],<br>  \\\"params\\\": {<br>    \\\"learning_rate\\\": 0.014133500358080071<br>  }<br>}\",\"{<br>  \\\"number\\\": 38,<br>  \\\"values\\\": [<br>    0.04852382290869409,<br>    0.7310333204595433<br>  ],<br>  \\\"params\\\": {<br>    \\\"learning_rate\\\": 0.04852382290869409<br>  }<br>}\",\"{<br>  \\\"number\\\": 39,<br>  \\\"values\\\": [<br>    0.040201201662143485,<br>    0.7306614283099379<br>  ],<br>  \\\"params\\\": {<br>    \\\"learning_rate\\\": 0.040201201662143485<br>  }<br>}\",\"{<br>  \\\"number\\\": 40,<br>  \\\"values\\\": [<br>    0.0011776265316570207,<br>    0.4235082247366586<br>  ],<br>  \\\"params\\\": {<br>    \\\"learning_rate\\\": 0.0011776265316570207<br>  }<br>}\",\"{<br>  \\\"number\\\": 41,<br>  \\\"values\\\": [<br>    0.026396073829949854,<br>    0.7294521208392316<br>  ],<br>  \\\"params\\\": {<br>    \\\"learning_rate\\\": 0.026396073829949854<br>  }<br>}\",\"{<br>  \\\"number\\\": 42,<br>  \\\"values\\\": [<br>    0.19287363423507076,<br>    0.7259236143539816<br>  ],<br>  \\\"params\\\": {<br>    \\\"learning_rate\\\": 0.19287363423507076<br>  }<br>}\",\"{<br>  \\\"number\\\": 44,<br>  \\\"values\\\": [<br>    0.06950786503628438,<br>    0.7323174432397132<br>  ],<br>  \\\"params\\\": {<br>    \\\"learning_rate\\\": 0.06950786503628438<br>  }<br>}\",\"{<br>  \\\"number\\\": 45,<br>  \\\"values\\\": [<br>    0.0013182070434705978,<br>    0.4235082247366586<br>  ],<br>  \\\"params\\\": {<br>    \\\"learning_rate\\\": 0.0013182070434705978<br>  }<br>}\",\"{<br>  \\\"number\\\": 46,<br>  \\\"values\\\": [<br>    0.0001689170415983065,<br>    0.4235082247366586<br>  ],<br>  \\\"params\\\": {<br>    \\\"learning_rate\\\": 0.0001689170415983065<br>  }<br>}\",\"{<br>  \\\"number\\\": 47,<br>  \\\"values\\\": [<br>    0.0021018530965500105,<br>    0.4235082247366586<br>  ],<br>  \\\"params\\\": {<br>    \\\"learning_rate\\\": 0.0021018530965500105<br>  }<br>}\",\"{<br>  \\\"number\\\": 48,<br>  \\\"values\\\": [<br>    0.00019287163151974652,<br>    0.4235082247366586<br>  ],<br>  \\\"params\\\": {<br>    \\\"learning_rate\\\": 0.00019287163151974652<br>  }<br>}\",\"{<br>  \\\"number\\\": 49,<br>  \\\"values\\\": [<br>    0.1714187324525616,<br>    0.7274564562489783<br>  ],<br>  \\\"params\\\": {<br>    \\\"learning_rate\\\": 0.1714187324525616<br>  }<br>}\",\"{<br>  \\\"number\\\": 50,<br>  \\\"values\\\": [<br>    0.028218912249716382,<br>    0.7285799931977797<br>  ],<br>  \\\"params\\\": {<br>    \\\"learning_rate\\\": 0.028218912249716382<br>  }<br>}\",\"{<br>  \\\"number\\\": 51,<br>  \\\"values\\\": [<br>    0.00037469787058577405,<br>    0.4235082247366586<br>  ],<br>  \\\"params\\\": {<br>    \\\"learning_rate\\\": 0.00037469787058577405<br>  }<br>}\",\"{<br>  \\\"number\\\": 52,<br>  \\\"values\\\": [<br>    0.016517619384449466,<br>    0.7201909680929806<br>  ],<br>  \\\"params\\\": {<br>    \\\"learning_rate\\\": 0.016517619384449466<br>  }<br>}\",\"{<br>  \\\"number\\\": 54,<br>  \\\"values\\\": [<br>    0.01075645544167512,<br>    0.6983807551597365<br>  ],<br>  \\\"params\\\": {<br>    \\\"learning_rate\\\": 0.01075645544167512<br>  }<br>}\",\"{<br>  \\\"number\\\": 55,<br>  \\\"values\\\": [<br>    0.0013300668001608705,<br>    0.4235082247366586<br>  ],<br>  \\\"params\\\": {<br>    \\\"learning_rate\\\": 0.0013300668001608705<br>  }<br>}\",\"{<br>  \\\"number\\\": 56,<br>  \\\"values\\\": [<br>    0.009234620597188305,<br>    0.6815820697212852<br>  ],<br>  \\\"params\\\": {<br>    \\\"learning_rate\\\": 0.009234620597188305<br>  }<br>}\",\"{<br>  \\\"number\\\": 57,<br>  \\\"values\\\": [<br>    0.030789337644333142,<br>    0.7297299658845593<br>  ],<br>  \\\"params\\\": {<br>    \\\"learning_rate\\\": 0.030789337644333142<br>  }<br>}\",\"{<br>  \\\"number\\\": 58,<br>  \\\"values\\\": [<br>    0.0005196761744466342,<br>    0.4235082247366586<br>  ],<br>  \\\"params\\\": {<br>    \\\"learning_rate\\\": 0.0005196761744466342<br>  }<br>}\",\"{<br>  \\\"number\\\": 60,<br>  \\\"values\\\": [<br>    0.023714036796718886,<br>    0.7259369472766212<br>  ],<br>  \\\"params\\\": {<br>    \\\"learning_rate\\\": 0.023714036796718886<br>  }<br>}\",\"{<br>  \\\"number\\\": 61,<br>  \\\"values\\\": [<br>    0.042951701452191404,<br>    0.7302474855948291<br>  ],<br>  \\\"params\\\": {<br>    \\\"learning_rate\\\": 0.042951701452191404<br>  }<br>}\",\"{<br>  \\\"number\\\": 63,<br>  \\\"values\\\": [<br>    0.0031088442966744653,<br>    0.4235082247366586<br>  ],<br>  \\\"params\\\": {<br>    \\\"learning_rate\\\": 0.0031088442966744653<br>  }<br>}\",\"{<br>  \\\"number\\\": 64,<br>  \\\"values\\\": [<br>    0.0004014235312843208,<br>    0.4235082247366586<br>  ],<br>  \\\"params\\\": {<br>    \\\"learning_rate\\\": 0.0004014235312843208<br>  }<br>}\",\"{<br>  \\\"number\\\": 65,<br>  \\\"values\\\": [<br>    0.005578035829630357,<br>    0.6170142717941252<br>  ],<br>  \\\"params\\\": {<br>    \\\"learning_rate\\\": 0.005578035829630357<br>  }<br>}\",\"{<br>  \\\"number\\\": 66,<br>  \\\"values\\\": [<br>    0.0001592544431367279,<br>    0.4235082247366586<br>  ],<br>  \\\"params\\\": {<br>    \\\"learning_rate\\\": 0.0001592544431367279<br>  }<br>}\",\"{<br>  \\\"number\\\": 67,<br>  \\\"values\\\": [<br>    0.0807232375319011,<br>    0.7309408871913655<br>  ],<br>  \\\"params\\\": {<br>    \\\"learning_rate\\\": 0.0807232375319011<br>  }<br>}\",\"{<br>  \\\"number\\\": 69,<br>  \\\"values\\\": [<br>    0.04159311590472715,<br>    0.7313584050417112<br>  ],<br>  \\\"params\\\": {<br>    \\\"learning_rate\\\": 0.04159311590472715<br>  }<br>}\",\"{<br>  \\\"number\\\": 70,<br>  \\\"values\\\": [<br>    0.0007829813261500128,<br>    0.4235082247366586<br>  ],<br>  \\\"params\\\": {<br>    \\\"learning_rate\\\": 0.0007829813261500128<br>  }<br>}\",\"{<br>  \\\"number\\\": 71,<br>  \\\"values\\\": [<br>    0.0005327862205087224,<br>    0.4235082247366586<br>  ],<br>  \\\"params\\\": {<br>    \\\"learning_rate\\\": 0.0005327862205087224<br>  }<br>}\",\"{<br>  \\\"number\\\": 72,<br>  \\\"values\\\": [<br>    0.011004042996587247,<br>    0.7013991059388606<br>  ],<br>  \\\"params\\\": {<br>    \\\"learning_rate\\\": 0.011004042996587247<br>  }<br>}\",\"{<br>  \\\"number\\\": 73,<br>  \\\"values\\\": [<br>    0.012096495400321669,<br>    0.7112448137800941<br>  ],<br>  \\\"params\\\": {<br>    \\\"learning_rate\\\": 0.012096495400321669<br>  }<br>}\",\"{<br>  \\\"number\\\": 74,<br>  \\\"values\\\": [<br>    0.07830377287729806,<br>    0.7306338561389435<br>  ],<br>  \\\"params\\\": {<br>    \\\"learning_rate\\\": 0.07830377287729806<br>  }<br>}\",\"{<br>  \\\"number\\\": 75,<br>  \\\"values\\\": [<br>    0.0020289312962674306,<br>    0.4235082247366586<br>  ],<br>  \\\"params\\\": {<br>    \\\"learning_rate\\\": 0.0020289312962674306<br>  }<br>}\",\"{<br>  \\\"number\\\": 76,<br>  \\\"values\\\": [<br>    0.007003614272196497,<br>    0.653715322076985<br>  ],<br>  \\\"params\\\": {<br>    \\\"learning_rate\\\": 0.007003614272196497<br>  }<br>}\",\"{<br>  \\\"number\\\": 77,<br>  \\\"values\\\": [<br>    0.026811861365256547,<br>    0.7281393119846103<br>  ],<br>  \\\"params\\\": {<br>    \\\"learning_rate\\\": 0.026811861365256547<br>  }<br>}\",\"{<br>  \\\"number\\\": 78,<br>  \\\"values\\\": [<br>    0.0014534431094221844,<br>    0.4235082247366586<br>  ],<br>  \\\"params\\\": {<br>    \\\"learning_rate\\\": 0.0014534431094221844<br>  }<br>}\",\"{<br>  \\\"number\\\": 79,<br>  \\\"values\\\": [<br>    0.07184266906020101,<br>    0.7318954915835494<br>  ],<br>  \\\"params\\\": {<br>    \\\"learning_rate\\\": 0.07184266906020101<br>  }<br>}\",\"{<br>  \\\"number\\\": 80,<br>  \\\"values\\\": [<br>    0.20138173825410338,<br>    0.7278080193179831<br>  ],<br>  \\\"params\\\": {<br>    \\\"learning_rate\\\": 0.20138173825410338<br>  }<br>}\",\"{<br>  \\\"number\\\": 81,<br>  \\\"values\\\": [<br>    0.01956656266919498,<br>    0.7259187426802697<br>  ],<br>  \\\"params\\\": {<br>    \\\"learning_rate\\\": 0.01956656266919498<br>  }<br>}\",\"{<br>  \\\"number\\\": 82,<br>  \\\"values\\\": [<br>    0.005251844487229045,<br>    0.6024609734794308<br>  ],<br>  \\\"params\\\": {<br>    \\\"learning_rate\\\": 0.005251844487229045<br>  }<br>}\",\"{<br>  \\\"number\\\": 83,<br>  \\\"values\\\": [<br>    0.0007975269741962664,<br>    0.4235082247366586<br>  ],<br>  \\\"params\\\": {<br>    \\\"learning_rate\\\": 0.0007975269741962664<br>  }<br>}\",\"{<br>  \\\"number\\\": 84,<br>  \\\"values\\\": [<br>    0.0005538907493946157,<br>    0.4235082247366586<br>  ],<br>  \\\"params\\\": {<br>    \\\"learning_rate\\\": 0.0005538907493946157<br>  }<br>}\",\"{<br>  \\\"number\\\": 85,<br>  \\\"values\\\": [<br>    0.0835122016432078,<br>    0.7321890615843162<br>  ],<br>  \\\"params\\\": {<br>    \\\"learning_rate\\\": 0.0835122016432078<br>  }<br>}\",\"{<br>  \\\"number\\\": 86,<br>  \\\"values\\\": [<br>    0.0006260697703589752,<br>    0.4235082247366586<br>  ],<br>  \\\"params\\\": {<br>    \\\"learning_rate\\\": 0.0006260697703589752<br>  }<br>}\",\"{<br>  \\\"number\\\": 88,<br>  \\\"values\\\": [<br>    0.004544231657855253,<br>    0.5343888745179519<br>  ],<br>  \\\"params\\\": {<br>    \\\"learning_rate\\\": 0.004544231657855253<br>  }<br>}\",\"{<br>  \\\"number\\\": 89,<br>  \\\"values\\\": [<br>    0.00012209259631005412,<br>    0.4235082247366586<br>  ],<br>  \\\"params\\\": {<br>    \\\"learning_rate\\\": 0.00012209259631005412<br>  }<br>}\",\"{<br>  \\\"number\\\": 90,<br>  \\\"values\\\": [<br>    0.001267549290534437,<br>    0.4235082247366586<br>  ],<br>  \\\"params\\\": {<br>    \\\"learning_rate\\\": 0.001267549290534437<br>  }<br>}\",\"{<br>  \\\"number\\\": 91,<br>  \\\"values\\\": [<br>    0.004363976487357013,<br>    0.5087369170754972<br>  ],<br>  \\\"params\\\": {<br>    \\\"learning_rate\\\": 0.004363976487357013<br>  }<br>}\",\"{<br>  \\\"number\\\": 92,<br>  \\\"values\\\": [<br>    0.017485462659550834,<br>    0.722280452051524<br>  ],<br>  \\\"params\\\": {<br>    \\\"learning_rate\\\": 0.017485462659550834<br>  }<br>}\",\"{<br>  \\\"number\\\": 93,<br>  \\\"values\\\": [<br>    0.44828056389247145,<br>    0.7116760995541701<br>  ],<br>  \\\"params\\\": {<br>    \\\"learning_rate\\\": 0.44828056389247145<br>  }<br>}\",\"{<br>  \\\"number\\\": 94,<br>  \\\"values\\\": [<br>    0.08277845673611592,<br>    0.7314187112500111<br>  ],<br>  \\\"params\\\": {<br>    \\\"learning_rate\\\": 0.08277845673611592<br>  }<br>}\",\"{<br>  \\\"number\\\": 95,<br>  \\\"values\\\": [<br>    0.0003291311959625348,<br>    0.4235082247366586<br>  ],<br>  \\\"params\\\": {<br>    \\\"learning_rate\\\": 0.0003291311959625348<br>  }<br>}\",\"{<br>  \\\"number\\\": 96,<br>  \\\"values\\\": [<br>    0.00022868118733042252,<br>    0.4235082247366586<br>  ],<br>  \\\"params\\\": {<br>    \\\"learning_rate\\\": 0.00022868118733042252<br>  }<br>}\",\"{<br>  \\\"number\\\": 97,<br>  \\\"values\\\": [<br>    0.18286145837300968,<br>    0.7262427071035374<br>  ],<br>  \\\"params\\\": {<br>    \\\"learning_rate\\\": 0.18286145837300968<br>  }<br>}\",\"{<br>  \\\"number\\\": 98,<br>  \\\"values\\\": [<br>    0.06941692989749879,<br>    0.7295385067809874<br>  ],<br>  \\\"params\\\": {<br>    \\\"learning_rate\\\": 0.06941692989749879<br>  }<br>}\",\"{<br>  \\\"number\\\": 99,<br>  \\\"values\\\": [<br>    0.19305171220017311,<br>    0.7262367052555226<br>  ],<br>  \\\"params\\\": {<br>    \\\"learning_rate\\\": 0.19305171220017311<br>  }<br>}\"],\"x\":[0.018276625572235056,0.012281350875017864,0.3179931543219117,0.010097499163932589,0.0010284892903758126,0.0008073623310050534,0.009446892389275133,0.042129982546996285,0.006234336282154794,0.0014213907266344855,0.0074818711669891215,0.0012664149179400209,0.01538041330688695,0.018396986660930648,0.0030415201353781317,0.34679130964813293,0.0016185106184141472,0.09977031400739048,0.00015692458115144144,0.0014637099340279343,0.237542460048024,0.039216586476540555,0.04413193652148863,0.0006332697167843045,0.036619413830782564,0.03610204856200786,0.0021961450728918896,0.012193586140043794,0.00017918412416240907,0.014133500358080071,0.04852382290869409,0.040201201662143485,0.0011776265316570207,0.026396073829949854,0.19287363423507076,0.06950786503628438,0.0013182070434705978,0.0001689170415983065,0.0021018530965500105,0.00019287163151974652,0.1714187324525616,0.028218912249716382,0.00037469787058577405,0.016517619384449466,0.01075645544167512,0.0013300668001608705,0.009234620597188305,0.030789337644333142,0.0005196761744466342,0.023714036796718886,0.042951701452191404,0.0031088442966744653,0.0004014235312843208,0.005578035829630357,0.0001592544431367279,0.0807232375319011,0.04159311590472715,0.0007829813261500128,0.0005327862205087224,0.011004042996587247,0.012096495400321669,0.07830377287729806,0.0020289312962674306,0.007003614272196497,0.026811861365256547,0.0014534431094221844,0.07184266906020101,0.20138173825410338,0.01956656266919498,0.005251844487229045,0.0007975269741962664,0.0005538907493946157,0.0835122016432078,0.0006260697703589752,0.004544231657855253,0.00012209259631005412,0.001267549290534437,0.004363976487357013,0.017485462659550834,0.44828056389247145,0.08277845673611592,0.0003291311959625348,0.00022868118733042252,0.18286145837300968,0.06941692989749879,0.19305171220017311],\"y\":[0.7229728382357858,0.713129498994182,0.7181352358216049,0.689595604293249,0.4235082247366586,0.4235082247366586,0.6841554205738356,0.7318679125094985,0.6372047388051083,0.4235082247366586,0.6643619268828908,0.4235082247366586,0.7173796023919852,0.7227368738811438,0.4235082247366586,0.7165372792236238,0.4235082247366586,0.7302018596960369,0.4235082247366586,0.4235082247366586,0.7216310177763523,0.7301579035907364,0.7292176187667853,0.4235082247366586,0.7302184406320554,0.7304328067409969,0.4235082247366586,0.7120523440790167,0.4235082247366586,0.7167142851538554,0.7310333204595433,0.7306614283099379,0.4235082247366586,0.7294521208392316,0.7259236143539816,0.7323174432397132,0.4235082247366586,0.4235082247366586,0.4235082247366586,0.4235082247366586,0.7274564562489783,0.7285799931977797,0.4235082247366586,0.7201909680929806,0.6983807551597365,0.4235082247366586,0.6815820697212852,0.7297299658845593,0.4235082247366586,0.7259369472766212,0.7302474855948291,0.4235082247366586,0.4235082247366586,0.6170142717941252,0.4235082247366586,0.7309408871913655,0.7313584050417112,0.4235082247366586,0.4235082247366586,0.7013991059388606,0.7112448137800941,0.7306338561389435,0.4235082247366586,0.653715322076985,0.7281393119846103,0.4235082247366586,0.7318954915835494,0.7278080193179831,0.7259187426802697,0.6024609734794308,0.4235082247366586,0.4235082247366586,0.7321890615843162,0.4235082247366586,0.5343888745179519,0.4235082247366586,0.4235082247366586,0.5087369170754972,0.722280452051524,0.7116760995541701,0.7314187112500111,0.4235082247366586,0.4235082247366586,0.7262427071035374,0.7295385067809874,0.7262367052555226],\"type\":\"scatter\"},{\"hovertemplate\":\"%{text}<extra>Best Trial</extra>\",\"marker\":{\"color\":[3,12,14,24,27,29,30,35,43,53,59,62,68,87],\"colorbar\":{\"title\":{\"text\":\"Best Trial\"},\"x\":1.1,\"xpad\":40},\"colorscale\":[[0.0,\"rgb(255,245,240)\"],[0.125,\"rgb(254,224,210)\"],[0.25,\"rgb(252,187,161)\"],[0.375,\"rgb(252,146,114)\"],[0.5,\"rgb(251,106,74)\"],[0.625,\"rgb(239,59,44)\"],[0.75,\"rgb(203,24,29)\"],[0.875,\"rgb(165,15,21)\"],[1.0,\"rgb(103,0,13)\"]],\"line\":{\"color\":\"Grey\",\"width\":0.5}},\"mode\":\"markers\",\"showlegend\":false,\"text\":[\"{<br>  \\\"number\\\": 3,<br>  \\\"values\\\": [<br>    0.3317048028124761,<br>    0.7182462105095208<br>  ],<br>  \\\"params\\\": {<br>    \\\"learning_rate\\\": 0.3317048028124761<br>  }<br>}\",\"{<br>  \\\"number\\\": 12,<br>  \\\"values\\\": [<br>    0.1148404311838305,<br>    0.7321994102159477<br>  ],<br>  \\\"params\\\": {<br>    \\\"learning_rate\\\": 0.1148404311838305<br>  }<br>}\",\"{<br>  \\\"number\\\": 14,<br>  \\\"values\\\": [<br>    0.05307222954482612,<br>    0.7336139976808754<br>  ],<br>  \\\"params\\\": {<br>    \\\"learning_rate\\\": 0.05307222954482612<br>  }<br>}\",\"{<br>  \\\"number\\\": 24,<br>  \\\"values\\\": [<br>    0.24410089728809634,<br>    0.7254004209977449<br>  ],<br>  \\\"params\\\": {<br>    \\\"learning_rate\\\": 0.24410089728809634<br>  }<br>}\",\"{<br>  \\\"number\\\": 27,<br>  \\\"values\\\": [<br>    0.12844461011742844,<br>    0.7321027124572879<br>  ],<br>  \\\"params\\\": {<br>    \\\"learning_rate\\\": 0.12844461011742844<br>  }<br>}\",\"{<br>  \\\"number\\\": 29,<br>  \\\"values\\\": [<br>    0.4498243389528799,<br>    0.7180387023655493<br>  ],<br>  \\\"params\\\": {<br>    \\\"learning_rate\\\": 0.4498243389528799<br>  }<br>}\",\"{<br>  \\\"number\\\": 30,<br>  \\\"values\\\": [<br>    0.28825962026286955,<br>    0.7220137309076756<br>  ],<br>  \\\"params\\\": {<br>    \\\"learning_rate\\\": 0.28825962026286955<br>  }<br>}\",\"{<br>  \\\"number\\\": 35,<br>  \\\"values\\\": [<br>    0.19630258423899116,<br>    0.7290264275839735<br>  ],<br>  \\\"params\\\": {<br>    \\\"learning_rate\\\": 0.19630258423899116<br>  }<br>}\",\"{<br>  \\\"number\\\": 43,<br>  \\\"values\\\": [<br>    0.07377836783758575,<br>    0.7335097300380633<br>  ],<br>  \\\"params\\\": {<br>    \\\"learning_rate\\\": 0.07377836783758575<br>  }<br>}\",\"{<br>  \\\"number\\\": 53,<br>  \\\"values\\\": [<br>    0.4796291220454122,<br>    0.7120415606860494<br>  ],<br>  \\\"params\\\": {<br>    \\\"learning_rate\\\": 0.4796291220454122<br>  }<br>}\",\"{<br>  \\\"number\\\": 59,<br>  \\\"values\\\": [<br>    0.21454254531144426,<br>    0.7279770709345865<br>  ],<br>  \\\"params\\\": {<br>    \\\"learning_rate\\\": 0.21454254531144426<br>  }<br>}\",\"{<br>  \\\"number\\\": 62,<br>  \\\"values\\\": [<br>    0.30521179006815724,<br>    0.7193743184471776<br>  ],<br>  \\\"params\\\": {<br>    \\\"learning_rate\\\": 0.30521179006815724<br>  }<br>}\",\"{<br>  \\\"number\\\": 68,<br>  \\\"values\\\": [<br>    0.16799292006264588,<br>    0.7309842390105754<br>  ],<br>  \\\"params\\\": {<br>    \\\"learning_rate\\\": 0.16799292006264588<br>  }<br>}\",\"{<br>  \\\"number\\\": 87,<br>  \\\"values\\\": [<br>    0.11742527067046299,<br>    0.7321944783582703<br>  ],<br>  \\\"params\\\": {<br>    \\\"learning_rate\\\": 0.11742527067046299<br>  }<br>}\"],\"x\":[0.3317048028124761,0.1148404311838305,0.05307222954482612,0.24410089728809634,0.12844461011742844,0.4498243389528799,0.28825962026286955,0.19630258423899116,0.07377836783758575,0.4796291220454122,0.21454254531144426,0.30521179006815724,0.16799292006264588,0.11742527067046299],\"y\":[0.7182462105095208,0.7321994102159477,0.7336139976808754,0.7254004209977449,0.7321027124572879,0.7180387023655493,0.7220137309076756,0.7290264275839735,0.7335097300380633,0.7120415606860494,0.7279770709345865,0.7193743184471776,0.7309842390105754,0.7321944783582703],\"type\":\"scatter\"}],                        {\"title\":{\"text\":\"Pareto-front Plot\"},\"xaxis\":{\"title\":{\"text\":\"learning_rate\"}},\"yaxis\":{\"title\":{\"text\":\"f1\"}},\"template\":{\"data\":{\"histogram2dcontour\":[{\"type\":\"histogram2dcontour\",\"colorbar\":{\"outlinewidth\":0,\"ticks\":\"\"},\"colorscale\":[[0.0,\"#0d0887\"],[0.1111111111111111,\"#46039f\"],[0.2222222222222222,\"#7201a8\"],[0.3333333333333333,\"#9c179e\"],[0.4444444444444444,\"#bd3786\"],[0.5555555555555556,\"#d8576b\"],[0.6666666666666666,\"#ed7953\"],[0.7777777777777778,\"#fb9f3a\"],[0.8888888888888888,\"#fdca26\"],[1.0,\"#f0f921\"]]}],\"choropleth\":[{\"type\":\"choropleth\",\"colorbar\":{\"outlinewidth\":0,\"ticks\":\"\"}}],\"histogram2d\":[{\"type\":\"histogram2d\",\"colorbar\":{\"outlinewidth\":0,\"ticks\":\"\"},\"colorscale\":[[0.0,\"#0d0887\"],[0.1111111111111111,\"#46039f\"],[0.2222222222222222,\"#7201a8\"],[0.3333333333333333,\"#9c179e\"],[0.4444444444444444,\"#bd3786\"],[0.5555555555555556,\"#d8576b\"],[0.6666666666666666,\"#ed7953\"],[0.7777777777777778,\"#fb9f3a\"],[0.8888888888888888,\"#fdca26\"],[1.0,\"#f0f921\"]]}],\"heatmap\":[{\"type\":\"heatmap\",\"colorbar\":{\"outlinewidth\":0,\"ticks\":\"\"},\"colorscale\":[[0.0,\"#0d0887\"],[0.1111111111111111,\"#46039f\"],[0.2222222222222222,\"#7201a8\"],[0.3333333333333333,\"#9c179e\"],[0.4444444444444444,\"#bd3786\"],[0.5555555555555556,\"#d8576b\"],[0.6666666666666666,\"#ed7953\"],[0.7777777777777778,\"#fb9f3a\"],[0.8888888888888888,\"#fdca26\"],[1.0,\"#f0f921\"]]}],\"heatmapgl\":[{\"type\":\"heatmapgl\",\"colorbar\":{\"outlinewidth\":0,\"ticks\":\"\"},\"colorscale\":[[0.0,\"#0d0887\"],[0.1111111111111111,\"#46039f\"],[0.2222222222222222,\"#7201a8\"],[0.3333333333333333,\"#9c179e\"],[0.4444444444444444,\"#bd3786\"],[0.5555555555555556,\"#d8576b\"],[0.6666666666666666,\"#ed7953\"],[0.7777777777777778,\"#fb9f3a\"],[0.8888888888888888,\"#fdca26\"],[1.0,\"#f0f921\"]]}],\"contourcarpet\":[{\"type\":\"contourcarpet\",\"colorbar\":{\"outlinewidth\":0,\"ticks\":\"\"}}],\"contour\":[{\"type\":\"contour\",\"colorbar\":{\"outlinewidth\":0,\"ticks\":\"\"},\"colorscale\":[[0.0,\"#0d0887\"],[0.1111111111111111,\"#46039f\"],[0.2222222222222222,\"#7201a8\"],[0.3333333333333333,\"#9c179e\"],[0.4444444444444444,\"#bd3786\"],[0.5555555555555556,\"#d8576b\"],[0.6666666666666666,\"#ed7953\"],[0.7777777777777778,\"#fb9f3a\"],[0.8888888888888888,\"#fdca26\"],[1.0,\"#f0f921\"]]}],\"surface\":[{\"type\":\"surface\",\"colorbar\":{\"outlinewidth\":0,\"ticks\":\"\"},\"colorscale\":[[0.0,\"#0d0887\"],[0.1111111111111111,\"#46039f\"],[0.2222222222222222,\"#7201a8\"],[0.3333333333333333,\"#9c179e\"],[0.4444444444444444,\"#bd3786\"],[0.5555555555555556,\"#d8576b\"],[0.6666666666666666,\"#ed7953\"],[0.7777777777777778,\"#fb9f3a\"],[0.8888888888888888,\"#fdca26\"],[1.0,\"#f0f921\"]]}],\"mesh3d\":[{\"type\":\"mesh3d\",\"colorbar\":{\"outlinewidth\":0,\"ticks\":\"\"}}],\"scatter\":[{\"fillpattern\":{\"fillmode\":\"overlay\",\"size\":10,\"solidity\":0.2},\"type\":\"scatter\"}],\"parcoords\":[{\"type\":\"parcoords\",\"line\":{\"colorbar\":{\"outlinewidth\":0,\"ticks\":\"\"}}}],\"scatterpolargl\":[{\"type\":\"scatterpolargl\",\"marker\":{\"colorbar\":{\"outlinewidth\":0,\"ticks\":\"\"}}}],\"bar\":[{\"error_x\":{\"color\":\"#2a3f5f\"},\"error_y\":{\"color\":\"#2a3f5f\"},\"marker\":{\"line\":{\"color\":\"#E5ECF6\",\"width\":0.5},\"pattern\":{\"fillmode\":\"overlay\",\"size\":10,\"solidity\":0.2}},\"type\":\"bar\"}],\"scattergeo\":[{\"type\":\"scattergeo\",\"marker\":{\"colorbar\":{\"outlinewidth\":0,\"ticks\":\"\"}}}],\"scatterpolar\":[{\"type\":\"scatterpolar\",\"marker\":{\"colorbar\":{\"outlinewidth\":0,\"ticks\":\"\"}}}],\"histogram\":[{\"marker\":{\"pattern\":{\"fillmode\":\"overlay\",\"size\":10,\"solidity\":0.2}},\"type\":\"histogram\"}],\"scattergl\":[{\"type\":\"scattergl\",\"marker\":{\"colorbar\":{\"outlinewidth\":0,\"ticks\":\"\"}}}],\"scatter3d\":[{\"type\":\"scatter3d\",\"line\":{\"colorbar\":{\"outlinewidth\":0,\"ticks\":\"\"}},\"marker\":{\"colorbar\":{\"outlinewidth\":0,\"ticks\":\"\"}}}],\"scattermapbox\":[{\"type\":\"scattermapbox\",\"marker\":{\"colorbar\":{\"outlinewidth\":0,\"ticks\":\"\"}}}],\"scatterternary\":[{\"type\":\"scatterternary\",\"marker\":{\"colorbar\":{\"outlinewidth\":0,\"ticks\":\"\"}}}],\"scattercarpet\":[{\"type\":\"scattercarpet\",\"marker\":{\"colorbar\":{\"outlinewidth\":0,\"ticks\":\"\"}}}],\"carpet\":[{\"aaxis\":{\"endlinecolor\":\"#2a3f5f\",\"gridcolor\":\"white\",\"linecolor\":\"white\",\"minorgridcolor\":\"white\",\"startlinecolor\":\"#2a3f5f\"},\"baxis\":{\"endlinecolor\":\"#2a3f5f\",\"gridcolor\":\"white\",\"linecolor\":\"white\",\"minorgridcolor\":\"white\",\"startlinecolor\":\"#2a3f5f\"},\"type\":\"carpet\"}],\"table\":[{\"cells\":{\"fill\":{\"color\":\"#EBF0F8\"},\"line\":{\"color\":\"white\"}},\"header\":{\"fill\":{\"color\":\"#C8D4E3\"},\"line\":{\"color\":\"white\"}},\"type\":\"table\"}],\"barpolar\":[{\"marker\":{\"line\":{\"color\":\"#E5ECF6\",\"width\":0.5},\"pattern\":{\"fillmode\":\"overlay\",\"size\":10,\"solidity\":0.2}},\"type\":\"barpolar\"}],\"pie\":[{\"automargin\":true,\"type\":\"pie\"}]},\"layout\":{\"autotypenumbers\":\"strict\",\"colorway\":[\"#636efa\",\"#EF553B\",\"#00cc96\",\"#ab63fa\",\"#FFA15A\",\"#19d3f3\",\"#FF6692\",\"#B6E880\",\"#FF97FF\",\"#FECB52\"],\"font\":{\"color\":\"#2a3f5f\"},\"hovermode\":\"closest\",\"hoverlabel\":{\"align\":\"left\"},\"paper_bgcolor\":\"white\",\"plot_bgcolor\":\"#E5ECF6\",\"polar\":{\"bgcolor\":\"#E5ECF6\",\"angularaxis\":{\"gridcolor\":\"white\",\"linecolor\":\"white\",\"ticks\":\"\"},\"radialaxis\":{\"gridcolor\":\"white\",\"linecolor\":\"white\",\"ticks\":\"\"}},\"ternary\":{\"bgcolor\":\"#E5ECF6\",\"aaxis\":{\"gridcolor\":\"white\",\"linecolor\":\"white\",\"ticks\":\"\"},\"baxis\":{\"gridcolor\":\"white\",\"linecolor\":\"white\",\"ticks\":\"\"},\"caxis\":{\"gridcolor\":\"white\",\"linecolor\":\"white\",\"ticks\":\"\"}},\"coloraxis\":{\"colorbar\":{\"outlinewidth\":0,\"ticks\":\"\"}},\"colorscale\":{\"sequential\":[[0.0,\"#0d0887\"],[0.1111111111111111,\"#46039f\"],[0.2222222222222222,\"#7201a8\"],[0.3333333333333333,\"#9c179e\"],[0.4444444444444444,\"#bd3786\"],[0.5555555555555556,\"#d8576b\"],[0.6666666666666666,\"#ed7953\"],[0.7777777777777778,\"#fb9f3a\"],[0.8888888888888888,\"#fdca26\"],[1.0,\"#f0f921\"]],\"sequentialminus\":[[0.0,\"#0d0887\"],[0.1111111111111111,\"#46039f\"],[0.2222222222222222,\"#7201a8\"],[0.3333333333333333,\"#9c179e\"],[0.4444444444444444,\"#bd3786\"],[0.5555555555555556,\"#d8576b\"],[0.6666666666666666,\"#ed7953\"],[0.7777777777777778,\"#fb9f3a\"],[0.8888888888888888,\"#fdca26\"],[1.0,\"#f0f921\"]],\"diverging\":[[0,\"#8e0152\"],[0.1,\"#c51b7d\"],[0.2,\"#de77ae\"],[0.3,\"#f1b6da\"],[0.4,\"#fde0ef\"],[0.5,\"#f7f7f7\"],[0.6,\"#e6f5d0\"],[0.7,\"#b8e186\"],[0.8,\"#7fbc41\"],[0.9,\"#4d9221\"],[1,\"#276419\"]]},\"xaxis\":{\"gridcolor\":\"white\",\"linecolor\":\"white\",\"ticks\":\"\",\"title\":{\"standoff\":15},\"zerolinecolor\":\"white\",\"automargin\":true,\"zerolinewidth\":2},\"yaxis\":{\"gridcolor\":\"white\",\"linecolor\":\"white\",\"ticks\":\"\",\"title\":{\"standoff\":15},\"zerolinecolor\":\"white\",\"automargin\":true,\"zerolinewidth\":2},\"scene\":{\"xaxis\":{\"backgroundcolor\":\"#E5ECF6\",\"gridcolor\":\"white\",\"linecolor\":\"white\",\"showbackground\":true,\"ticks\":\"\",\"zerolinecolor\":\"white\",\"gridwidth\":2},\"yaxis\":{\"backgroundcolor\":\"#E5ECF6\",\"gridcolor\":\"white\",\"linecolor\":\"white\",\"showbackground\":true,\"ticks\":\"\",\"zerolinecolor\":\"white\",\"gridwidth\":2},\"zaxis\":{\"backgroundcolor\":\"#E5ECF6\",\"gridcolor\":\"white\",\"linecolor\":\"white\",\"showbackground\":true,\"ticks\":\"\",\"zerolinecolor\":\"white\",\"gridwidth\":2}},\"shapedefaults\":{\"line\":{\"color\":\"#2a3f5f\"}},\"annotationdefaults\":{\"arrowcolor\":\"#2a3f5f\",\"arrowhead\":0,\"arrowwidth\":1},\"geo\":{\"bgcolor\":\"white\",\"landcolor\":\"#E5ECF6\",\"subunitcolor\":\"white\",\"showland\":true,\"showlakes\":true,\"lakecolor\":\"white\"},\"title\":{\"x\":0.05},\"mapbox\":{\"style\":\"light\"}}}},                        {\"responsive\": true}                    ).then(function(){\n",
       "                            \n",
       "var gd = document.getElementById('f5c97c6e-db5a-4ff5-9b09-b323a292b954');\n",
       "var x = new MutationObserver(function (mutations, observer) {{\n",
       "        var display = window.getComputedStyle(gd).display;\n",
       "        if (!display || display === 'none') {{\n",
       "            console.log([gd, 'removed!']);\n",
       "            Plotly.purge(gd);\n",
       "            observer.disconnect();\n",
       "        }}\n",
       "}});\n",
       "\n",
       "// Listen for the removal of the full notebook cells\n",
       "var notebookContainer = gd.closest('#notebook-container');\n",
       "if (notebookContainer) {{\n",
       "    x.observe(notebookContainer, {childList: true});\n",
       "}}\n",
       "\n",
       "// Listen for the clearing of the current output cell\n",
       "var outputEl = gd.closest('.output');\n",
       "if (outputEl) {{\n",
       "    x.observe(outputEl, {childList: true});\n",
       "}}\n",
       "\n",
       "                        })                };                });            </script>        </div>"
      ]
     },
     "metadata": {},
     "output_type": "display_data"
    }
   ],
   "source": [
    "fig = optuna.visualization.plot_pareto_front(study, target_names=[\"learning_rate\", \"f1\"])\n",
    "fig.write_image(file=\"figures/ch5_pareto.png\", format=\"png\", scale=6)\n",
    "fig.show()"
   ]
  }
 ],
 "metadata": {
  "kernelspec": {
   "display_name": "Python 3",
   "language": "python",
   "name": "python3"
  },
  "language_info": {
   "codemirror_mode": {
    "name": "ipython",
    "version": 3
   },
   "file_extension": ".py",
   "mimetype": "text/x-python",
   "name": "python",
   "nbconvert_exporter": "python",
   "pygments_lexer": "ipython3",
   "version": "3.10.11"
  }
 },
 "nbformat": 4,
 "nbformat_minor": 0
}
