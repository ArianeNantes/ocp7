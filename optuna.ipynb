{
 "cells": [
  {
   "cell_type": "code",
   "execution_count": 1,
   "metadata": {
    "ExecuteTime": {
     "end_time": "2023-04-27T12:28:07.483508Z",
     "start_time": "2023-04-27T12:28:07.139630Z"
    },
    "collapsed": true
   },
   "outputs": [],
   "source": [
    "# On affiche les graphiques dans le notebook en statique\n",
    "%matplotlib inline"
   ]
  },
  {
   "cell_type": "code",
   "execution_count": 2,
   "metadata": {},
   "outputs": [],
   "source": [
    "import numpy as np\n",
    "import logging\n",
    "import sys\n",
    "import os\n",
    "import gc\n",
    "import joblib\n",
    "import lightgbm as lgb\n",
    "import optuna\n",
    "import plotly\n",
    "import kaleido\n",
    "import mlflow\n",
    "\n",
    "import pandas as pd\n",
    "from sklearn.model_selection import cross_val_score, cross_validate\n",
    "from sklearn.metrics import confusion_matrix, make_scorer"
   ]
  },
  {
   "cell_type": "code",
   "execution_count": 3,
   "metadata": {},
   "outputs": [],
   "source": [
    "from src.p7_constantes import DATA_INTERIM, DATA_BASE, MODEL_DIR\n",
    "from src.p7_constantes import LOCAL_HOST, LOCAL_PORT\n",
    "from src.p7_util import timer, clean_ram\n",
    "from src.p7_regex import sel_var"
   ]
  },
  {
   "cell_type": "code",
   "execution_count": 4,
   "metadata": {},
   "outputs": [
    {
     "name": "stdout",
     "output_type": "stream",
     "text": [
      "mlflow 2.12.1\n",
      "optuna 3.6.1\n",
      "numpy 1.26.4\n",
      "plotly 5.21.0\n",
      "kaleido 0.1.0\n"
     ]
    }
   ],
   "source": [
    "print(\"mlflow\", mlflow.__version__)\n",
    "print(\"optuna\", optuna.__version__)\n",
    "print(\"numpy\", np.__version__)\n",
    "print(\"plotly\", plotly.__version__)\n",
    "print(\"kaleido\", kaleido.__version__)"
   ]
  },
  {
   "cell_type": "markdown",
   "metadata": {},
   "source": [
    "Démarrer"
   ]
  },
  {
   "cell_type": "code",
   "execution_count": 5,
   "metadata": {},
   "outputs": [],
   "source": [
    "# from src.p7_regex import sel_var"
   ]
  },
  {
   "cell_type": "code",
   "execution_count": 6,
   "metadata": {},
   "outputs": [],
   "source": [
    "subdir = \"light_simple/\""
   ]
  },
  {
   "cell_type": "code",
   "execution_count": 7,
   "metadata": {},
   "outputs": [
    {
     "name": "stdout",
     "output_type": "stream",
     "text": [
      "Forme de train.csv : (191616, 19)\n",
      "0 variables à inclure correspondant au motif 'Unnamed' : []\n",
      "0 variables à exclure correspondant au motif 'None' : []\n",
      "0 variables sélectionnées : []\n"
     ]
    },
    {
     "data": {
      "text/html": [
       "<div>\n",
       "<style scoped>\n",
       "    .dataframe tbody tr th:only-of-type {\n",
       "        vertical-align: middle;\n",
       "    }\n",
       "\n",
       "    .dataframe tbody tr th {\n",
       "        vertical-align: top;\n",
       "    }\n",
       "\n",
       "    .dataframe thead th {\n",
       "        text-align: right;\n",
       "    }\n",
       "</style>\n",
       "<table border=\"1\" class=\"dataframe\">\n",
       "  <thead>\n",
       "    <tr style=\"text-align: right;\">\n",
       "      <th></th>\n",
       "      <th>SK_ID_CURR</th>\n",
       "      <th>TARGET</th>\n",
       "      <th>AMT_ANNUITY</th>\n",
       "      <th>DAYS_BIRTH</th>\n",
       "      <th>DAYS_EMPLOYED</th>\n",
       "      <th>DAYS_ID_PUBLISH</th>\n",
       "      <th>EXT_SOURCE_1</th>\n",
       "      <th>EXT_SOURCE_2</th>\n",
       "      <th>EXT_SOURCE_3</th>\n",
       "      <th>ANNUITY_INCOME_PERC</th>\n",
       "      <th>PAYMENT_RATE</th>\n",
       "      <th>BURO_AMT_CREDIT_MAX_OVERDUE_MEAN</th>\n",
       "      <th>ACTIVE_DAYS_CREDIT_MAX</th>\n",
       "      <th>ACTIVE_DAYS_CREDIT_ENDDATE_MIN</th>\n",
       "      <th>CLOSED_DAYS_CREDIT_MAX</th>\n",
       "      <th>CLOSED_DAYS_CREDIT_ENDDATE_MAX</th>\n",
       "      <th>PREV_CNT_PAYMENT_MEAN</th>\n",
       "      <th>APPROVED_CNT_PAYMENT_MEAN</th>\n",
       "      <th>INSTAL_DPD_MEAN</th>\n",
       "    </tr>\n",
       "  </thead>\n",
       "  <tbody>\n",
       "    <tr>\n",
       "      <th>0</th>\n",
       "      <td>100002</td>\n",
       "      <td>1.0</td>\n",
       "      <td>24700.5</td>\n",
       "      <td>-9461</td>\n",
       "      <td>-637.0</td>\n",
       "      <td>-2120</td>\n",
       "      <td>0.083037</td>\n",
       "      <td>0.262949</td>\n",
       "      <td>0.139376</td>\n",
       "      <td>0.121978</td>\n",
       "      <td>0.060749</td>\n",
       "      <td>1681.029</td>\n",
       "      <td>-103.0</td>\n",
       "      <td>780.0</td>\n",
       "      <td>-476.0</td>\n",
       "      <td>85.0</td>\n",
       "      <td>24.0</td>\n",
       "      <td>24.0</td>\n",
       "      <td>0.000000</td>\n",
       "    </tr>\n",
       "    <tr>\n",
       "      <th>1</th>\n",
       "      <td>100003</td>\n",
       "      <td>0.0</td>\n",
       "      <td>35698.5</td>\n",
       "      <td>-16765</td>\n",
       "      <td>-1188.0</td>\n",
       "      <td>-291</td>\n",
       "      <td>0.311267</td>\n",
       "      <td>0.622246</td>\n",
       "      <td>NaN</td>\n",
       "      <td>0.132217</td>\n",
       "      <td>0.027598</td>\n",
       "      <td>0.000</td>\n",
       "      <td>-606.0</td>\n",
       "      <td>1216.0</td>\n",
       "      <td>-775.0</td>\n",
       "      <td>-420.0</td>\n",
       "      <td>10.0</td>\n",
       "      <td>10.0</td>\n",
       "      <td>0.000000</td>\n",
       "    </tr>\n",
       "    <tr>\n",
       "      <th>2</th>\n",
       "      <td>100008</td>\n",
       "      <td>0.0</td>\n",
       "      <td>27517.5</td>\n",
       "      <td>-16941</td>\n",
       "      <td>-1588.0</td>\n",
       "      <td>-477</td>\n",
       "      <td>NaN</td>\n",
       "      <td>0.354225</td>\n",
       "      <td>0.621226</td>\n",
       "      <td>0.277955</td>\n",
       "      <td>0.056101</td>\n",
       "      <td>0.000</td>\n",
       "      <td>-78.0</td>\n",
       "      <td>471.0</td>\n",
       "      <td>-1097.0</td>\n",
       "      <td>-792.0</td>\n",
       "      <td>14.0</td>\n",
       "      <td>14.0</td>\n",
       "      <td>37.628571</td>\n",
       "    </tr>\n",
       "    <tr>\n",
       "      <th>3</th>\n",
       "      <td>100009</td>\n",
       "      <td>0.0</td>\n",
       "      <td>41301.0</td>\n",
       "      <td>-13778</td>\n",
       "      <td>-3130.0</td>\n",
       "      <td>-619</td>\n",
       "      <td>0.774761</td>\n",
       "      <td>0.724000</td>\n",
       "      <td>0.492060</td>\n",
       "      <td>0.241526</td>\n",
       "      <td>0.026463</td>\n",
       "      <td>0.000</td>\n",
       "      <td>-239.0</td>\n",
       "      <td>-209.0</td>\n",
       "      <td>-684.0</td>\n",
       "      <td>1044.0</td>\n",
       "      <td>8.0</td>\n",
       "      <td>8.0</td>\n",
       "      <td>0.137255</td>\n",
       "    </tr>\n",
       "    <tr>\n",
       "      <th>4</th>\n",
       "      <td>100011</td>\n",
       "      <td>0.0</td>\n",
       "      <td>33826.5</td>\n",
       "      <td>-20099</td>\n",
       "      <td>NaN</td>\n",
       "      <td>-3514</td>\n",
       "      <td>0.587334</td>\n",
       "      <td>0.205747</td>\n",
       "      <td>0.751724</td>\n",
       "      <td>0.300680</td>\n",
       "      <td>0.033176</td>\n",
       "      <td>5073.615</td>\n",
       "      <td>NaN</td>\n",
       "      <td>NaN</td>\n",
       "      <td>-1309.0</td>\n",
       "      <td>-860.0</td>\n",
       "      <td>14.0</td>\n",
       "      <td>14.0</td>\n",
       "      <td>7.946154</td>\n",
       "    </tr>\n",
       "  </tbody>\n",
       "</table>\n",
       "</div>"
      ],
      "text/plain": [
       "   SK_ID_CURR  TARGET  AMT_ANNUITY  DAYS_BIRTH  DAYS_EMPLOYED  \\\n",
       "0      100002     1.0      24700.5       -9461         -637.0   \n",
       "1      100003     0.0      35698.5      -16765        -1188.0   \n",
       "2      100008     0.0      27517.5      -16941        -1588.0   \n",
       "3      100009     0.0      41301.0      -13778        -3130.0   \n",
       "4      100011     0.0      33826.5      -20099            NaN   \n",
       "\n",
       "   DAYS_ID_PUBLISH  EXT_SOURCE_1  EXT_SOURCE_2  EXT_SOURCE_3  \\\n",
       "0            -2120      0.083037      0.262949      0.139376   \n",
       "1             -291      0.311267      0.622246           NaN   \n",
       "2             -477           NaN      0.354225      0.621226   \n",
       "3             -619      0.774761      0.724000      0.492060   \n",
       "4            -3514      0.587334      0.205747      0.751724   \n",
       "\n",
       "   ANNUITY_INCOME_PERC  PAYMENT_RATE  BURO_AMT_CREDIT_MAX_OVERDUE_MEAN  \\\n",
       "0             0.121978      0.060749                          1681.029   \n",
       "1             0.132217      0.027598                             0.000   \n",
       "2             0.277955      0.056101                             0.000   \n",
       "3             0.241526      0.026463                             0.000   \n",
       "4             0.300680      0.033176                          5073.615   \n",
       "\n",
       "   ACTIVE_DAYS_CREDIT_MAX  ACTIVE_DAYS_CREDIT_ENDDATE_MIN  \\\n",
       "0                  -103.0                           780.0   \n",
       "1                  -606.0                          1216.0   \n",
       "2                   -78.0                           471.0   \n",
       "3                  -239.0                          -209.0   \n",
       "4                     NaN                             NaN   \n",
       "\n",
       "   CLOSED_DAYS_CREDIT_MAX  CLOSED_DAYS_CREDIT_ENDDATE_MAX  \\\n",
       "0                  -476.0                            85.0   \n",
       "1                  -775.0                          -420.0   \n",
       "2                 -1097.0                          -792.0   \n",
       "3                  -684.0                          1044.0   \n",
       "4                 -1309.0                          -860.0   \n",
       "\n",
       "   PREV_CNT_PAYMENT_MEAN  APPROVED_CNT_PAYMENT_MEAN  INSTAL_DPD_MEAN  \n",
       "0                   24.0                       24.0         0.000000  \n",
       "1                   10.0                       10.0         0.000000  \n",
       "2                   14.0                       14.0        37.628571  \n",
       "3                    8.0                        8.0         0.137255  \n",
       "4                   14.0                       14.0         7.946154  "
      ]
     },
     "execution_count": 7,
     "metadata": {},
     "output_type": "execute_result"
    }
   ],
   "source": [
    "selected_features = joblib.load(os.path.join(MODEL_DIR, subdir, \"selected_features_03.pkl\"))\n",
    "train = pd.read_csv(os.path.join(DATA_INTERIM, \"train_simple_reduced_03.csv\"), usecols=['SK_ID_CURR', 'TARGET'] + selected_features)\n",
    "print(\"Forme de train.csv :\", train.shape)\n",
    "to_drop = sel_var(train.columns, 'Unnamed')\n",
    "if to_drop:\n",
    "    train = train.drop(to_drop, axis=1)\n",
    "train.head()"
   ]
  },
  {
   "cell_type": "code",
   "execution_count": 8,
   "metadata": {},
   "outputs": [],
   "source": [
    "#from src.p7_util import clean_ram"
   ]
  },
  {
   "cell_type": "code",
   "execution_count": 9,
   "metadata": {},
   "outputs": [
    {
     "name": "stdout",
     "output_type": "stream",
     "text": [
      "2 variables détruites : ['to_drop', 'selected_features']\n"
     ]
    }
   ],
   "source": [
    "dic_local = locals()\n",
    "to_del = ['to_drop', 'selected_features']\n",
    "clean_ram(to_del, dic_local)"
   ]
  },
  {
   "cell_type": "code",
   "execution_count": 10,
   "metadata": {
    "ExecuteTime": {
     "end_time": "2023-04-27T12:28:07.777267Z",
     "start_time": "2023-04-27T12:28:07.750661Z"
    },
    "collapsed": false
   },
   "outputs": [],
   "source": [
    "# Passe les variables catégorielles en dtype category sinon LGM ne pourra pas les traiter\n",
    "cat_features = list(train.loc[:, train.dtypes == 'object'].columns.values)\n",
    "for feature in cat_features:\n",
    "    train[feature] = pd.Series(train[feature], dtype=\"category\")"
   ]
  },
  {
   "cell_type": "code",
   "execution_count": 11,
   "metadata": {
    "ExecuteTime": {
     "end_time": "2023-04-27T12:28:07.971843Z",
     "start_time": "2023-04-27T12:28:07.966255Z"
    },
    "collapsed": false
   },
   "outputs": [],
   "source": [
    "# Essai sur un échantillon d'abord\n",
    "n_rows = 30_000\n",
    "X = train.drop(columns=[\"SK_ID_CURR\", \"TARGET\"], axis=1)\n",
    "y = train[\"TARGET\"]\n",
    "if n_rows:\n",
    "    X = X.head(n_rows)\n",
    "    y = y.head(n_rows)"
   ]
  },
  {
   "cell_type": "code",
   "execution_count": 12,
   "metadata": {},
   "outputs": [
    {
     "data": {
      "text/plain": [
       "['AMT_ANNUITY',\n",
       " 'DAYS_BIRTH',\n",
       " 'DAYS_EMPLOYED',\n",
       " 'DAYS_ID_PUBLISH',\n",
       " 'EXT_SOURCE_1',\n",
       " 'EXT_SOURCE_2',\n",
       " 'EXT_SOURCE_3',\n",
       " 'ANNUITY_INCOME_PERC',\n",
       " 'PAYMENT_RATE',\n",
       " 'BURO_AMT_CREDIT_MAX_OVERDUE_MEAN',\n",
       " 'ACTIVE_DAYS_CREDIT_MAX',\n",
       " 'ACTIVE_DAYS_CREDIT_ENDDATE_MIN',\n",
       " 'CLOSED_DAYS_CREDIT_MAX',\n",
       " 'CLOSED_DAYS_CREDIT_ENDDATE_MAX',\n",
       " 'PREV_CNT_PAYMENT_MEAN',\n",
       " 'APPROVED_CNT_PAYMENT_MEAN',\n",
       " 'INSTAL_DPD_MEAN']"
      ]
     },
     "execution_count": 12,
     "metadata": {},
     "output_type": "execute_result"
    }
   ],
   "source": [
    "predictors = list(X.columns)\n",
    "predictors"
   ]
  },
  {
   "cell_type": "code",
   "execution_count": 13,
   "metadata": {},
   "outputs": [
    {
     "name": "stdout",
     "output_type": "stream",
     "text": [
      "<class 'pandas.core.frame.DataFrame'>\n",
      "RangeIndex: 30000 entries, 0 to 29999\n",
      "Data columns (total 17 columns):\n",
      " #   Column                            Non-Null Count  Dtype  \n",
      "---  ------                            --------------  -----  \n",
      " 0   AMT_ANNUITY                       30000 non-null  float64\n",
      " 1   DAYS_BIRTH                        30000 non-null  int64  \n",
      " 2   DAYS_EMPLOYED                     27690 non-null  float64\n",
      " 3   DAYS_ID_PUBLISH                   30000 non-null  int64  \n",
      " 4   EXT_SOURCE_1                      20974 non-null  float64\n",
      " 5   EXT_SOURCE_2                      29959 non-null  float64\n",
      " 6   EXT_SOURCE_3                      25657 non-null  float64\n",
      " 7   ANNUITY_INCOME_PERC               30000 non-null  float64\n",
      " 8   PAYMENT_RATE                      30000 non-null  float64\n",
      " 9   BURO_AMT_CREDIT_MAX_OVERDUE_MEAN  21128 non-null  float64\n",
      " 10  ACTIVE_DAYS_CREDIT_MAX            23736 non-null  float64\n",
      " 11  ACTIVE_DAYS_CREDIT_ENDDATE_MIN    23015 non-null  float64\n",
      " 12  CLOSED_DAYS_CREDIT_MAX            24208 non-null  float64\n",
      " 13  CLOSED_DAYS_CREDIT_ENDDATE_MAX    24089 non-null  float64\n",
      " 14  PREV_CNT_PAYMENT_MEAN             28848 non-null  float64\n",
      " 15  APPROVED_CNT_PAYMENT_MEAN         28805 non-null  float64\n",
      " 16  INSTAL_DPD_MEAN                   28883 non-null  float64\n",
      "dtypes: float64(15), int64(2)\n",
      "memory usage: 3.9 MB\n"
     ]
    }
   ],
   "source": [
    "X.info()"
   ]
  },
  {
   "cell_type": "markdown",
   "metadata": {},
   "source": [
    "# Métrique personnalisée"
   ]
  },
  {
   "cell_type": "code",
   "execution_count": 14,
   "metadata": {},
   "outputs": [],
   "source": [
    "\n",
    "# Pénalise les Faux Negatifs dans le F1 Score\n",
    "def weight_f1(y_true, y_pred, weight_fn=10):\n",
    "    _, fp, fn, tp = confusion_matrix(y_true, y_pred).ravel()\n",
    "    # fn = Nombre de faux négatifs (oubli de prédire un défaut)\n",
    "    # fp = Nombre de faux positifs (défaut prédit à tort)\n",
    "    \n",
    "    # f1 standard = 2 * tp / (2 * tp + fp + fn)\n",
    "    \n",
    "    #weighted_f1 = 2 * tp / (2 * tp + weight_fn * fn  + (1 - weight_fn) * fp)\n",
    "    weighted_f1 = 2 * tp / (2 * tp + (weight_fn * fn  +  fp) / weight_fn)\n",
    "    \n",
    "    return weighted_f1\n",
    "\n",
    "# Créer une métrique personnalisée à partir de la fonction de perte\n",
    "custom_f1 = make_scorer(weight_f1, greater_is_better=True)"
   ]
  },
  {
   "cell_type": "markdown",
   "metadata": {
    "collapsed": false
   },
   "source": [
    "## Run A Study"
   ]
  },
  {
   "cell_type": "code",
   "execution_count": 15,
   "metadata": {},
   "outputs": [
    {
     "data": {
      "text/plain": [
       "\"\\nLa fonction _objectif est appelée une fois pour chaque essai (trial).\\nIci on entraîne un LGBMClassfier et on calcule la métrique : ? replacer le f1-score par une autre\\nOptuna passe un objet trial à la fonction _objectif, qu'on peut utiliser pour en définir les paramètres.\\nlog=True : applique une log scale aux valeurs à tester dans l'étendue spécifiée (pour les valeurs num), \\nEffet : plus de valeurs sont testées à proximité de la borne basse et moins (logarithmiquement) vers\\nla borne haute\\nConvient particulièrement bien au learning rate : on veut se concentrer sur des valeurs + petites et \\naugmenter exponentiellement le pas des valeurs à tester pour les plus grandes\\n\\nLe pruning callbac est le mécanisme qui applique le pruning dynamique pendant l'entraînement du modèle LightGBM \\ndans le cadre d'une étude Optuna. \\n1 - Initialisation du callback : \\nCrée le callback de pruning qui surveillera l'entraînement du modèle LightGBM \\net effectuera le pruning selon les instructions spécifiées par l'étude Optuna\\n2 - Évaluation périodique : \\nPendant l'entraînement de LightGBM, le callback est appelé périodiquement\\npour évaluer les performances du modèle en fonction des critères de pruning définis par Optuna.\\n3 - Décision de pruning : \\nLe callback utilise les informations fournies par Optuna, \\ntelles que les valeurs d'objectif de l'essai actuel et les valeurs d'objectif des essais précédents, \\npour décider si l'essai actuel doit être pruned en fonction de son efficacité par rapport à d'autres essais.\\n4 - Pruning : \\nPruning appliqué si décidé (arrête l'entraînement de ce modèle LightGBM)\\n5 - Réévaluation et ajustement :\\nAprès le pruning d'un essai, l'entraînement peut continuer avec les essais restants, \\net le processus de pruning peut être répété à intervalles réguliers jusqu'à ce que l'étude soit terminée.\\n\\n\\n\""
      ]
     },
     "execution_count": 15,
     "metadata": {},
     "output_type": "execute_result"
    }
   ],
   "source": [
    "\"\"\"\n",
    "La fonction _objectif est appelée une fois pour chaque essai (trial).\n",
    "Ici on entraîne un LGBMClassfier et on calcule la métrique : ? replacer le f1-score par une autre\n",
    "Optuna passe un objet trial à la fonction _objectif, qu'on peut utiliser pour en définir les paramètres.\n",
    "log=True : applique une log scale aux valeurs à tester dans l'étendue spécifiée (pour les valeurs num), \n",
    "Effet : plus de valeurs sont testées à proximité de la borne basse et moins (logarithmiquement) vers\n",
    "la borne haute\n",
    "Convient particulièrement bien au learning rate : on veut se concentrer sur des valeurs + petites et \n",
    "augmenter exponentiellement le pas des valeurs à tester pour les plus grandes\n",
    "\n",
    "Le pruning callbac est le mécanisme qui applique le pruning dynamique pendant l'entraînement du modèle LightGBM \n",
    "dans le cadre d'une étude Optuna. \n",
    "1 - Initialisation du callback : \n",
    "Crée le callback de pruning qui surveillera l'entraînement du modèle LightGBM \n",
    "et effectuera le pruning selon les instructions spécifiées par l'étude Optuna\n",
    "2 - Évaluation périodique : \n",
    "Pendant l'entraînement de LightGBM, le callback est appelé périodiquement\n",
    "pour évaluer les performances du modèle en fonction des critères de pruning définis par Optuna.\n",
    "3 - Décision de pruning : \n",
    "Le callback utilise les informations fournies par Optuna, \n",
    "telles que les valeurs d'objectif de l'essai actuel et les valeurs d'objectif des essais précédents, \n",
    "pour décider si l'essai actuel doit être pruned en fonction de son efficacité par rapport à d'autres essais.\n",
    "4 - Pruning : \n",
    "Pruning appliqué si décidé (arrête l'entraînement de ce modèle LightGBM)\n",
    "5 - Réévaluation et ajustement :\n",
    "Après le pruning d'un essai, l'entraînement peut continuer avec les essais restants, \n",
    "et le processus de pruning peut être répété à intervalles réguliers jusqu'à ce que l'étude soit terminée.\n",
    "\n",
    "\n",
    "\"\"\""
   ]
  },
  {
   "cell_type": "code",
   "execution_count": 16,
   "metadata": {},
   "outputs": [],
   "source": [
    "#from sklearn.model_selection import cross_validate"
   ]
  },
  {
   "cell_type": "code",
   "execution_count": 17,
   "metadata": {
    "ExecuteTime": {
     "end_time": "2023-04-27T12:28:10.156076Z",
     "start_time": "2023-04-27T12:28:10.152538Z"
    },
    "collapsed": false
   },
   "outputs": [],
   "source": [
    "# Nécessite l'installation optuna-integration\n",
    "def objective(optimize_boosting_type=True):\n",
    "    def _objective(trial):\n",
    "        if optimize_boosting_type:\n",
    "            boosting_type = trial.suggest_categorical(\"boosting_type\", [\"dart\", \"gbdt\"])\n",
    "        else:\n",
    "            boosting_type = \"gbdt\"\n",
    "        lambda_l1 = trial.suggest_float(\n",
    "            'lambda_l1', 1e-8, 10.0, log=True),\n",
    "        lambda_l2 = trial.suggest_float(\n",
    "            'lambda_l2', 1e-8, 10.0, log=True),\n",
    "        num_leaves = trial.suggest_int(\n",
    "            'num_leaves', 2, 256),\n",
    "        feature_fraction = trial.suggest_float(\n",
    "            'feature_fraction', 0.4, 1.0),\n",
    "        bagging_fraction = trial.suggest_float(\n",
    "            'bagging_fraction', 0.4, 1.0),\n",
    "        bagging_freq = trial.suggest_int(\n",
    "            'bagging_freq', 1, 7),\n",
    "        min_child_samples = trial.suggest_int(\n",
    "            'min_child_samples', 5, 100),\n",
    "        learning_rate = trial.suggest_float(\n",
    "            \"learning_rate\", 0.0001, 0.5, log=True),\n",
    "        max_bin = trial.suggest_int(\n",
    "            \"max_bin\", 128, 512, step=32)\n",
    "        n_estimators = trial.suggest_int(\n",
    "            \"n_estimators\", 40, 400, step=20)\n",
    "        \n",
    "        # 'binary' est la métrique d'erreur\n",
    "        pruning_callback = optuna.integration.LightGBMPruningCallback(trial, \"binary\")\n",
    "        \n",
    "        model = lgb.LGBMClassifier(\n",
    "            force_row_wise=True,\n",
    "            boosting_type=boosting_type,\n",
    "            n_estimators=n_estimators,\n",
    "            lambda_l1=lambda_l1,\n",
    "            lambda_l2=lambda_l2,\n",
    "            num_leaves=num_leaves,\n",
    "            feature_fraction=feature_fraction,\n",
    "            bagging_fraction=bagging_fraction,\n",
    "            bagging_freq=bagging_freq,\n",
    "            min_child_samples=min_child_samples,\n",
    "            learning_rate=learning_rate,\n",
    "            max_bin=max_bin,\n",
    "            callbacks=[pruning_callback],\n",
    "            verbose=-1,\n",
    "            )\n",
    "        \n",
    "        \n",
    "        # Si on voulait traquer avec mlflow différents scores :\n",
    "        # Pour intégration optuna mlflow avec nested runs voir :\n",
    "        # https://mlflow.org/docs/latest/traditional-ml/hyperparameter-tuning-with-child-runs/notebooks/hyperparameter-tuning-with-child-runs.html?highlight=run%20description\n",
    "        \"\"\"scoring = {\n",
    "            \"f1_macro\": \"f1_macro\",\n",
    "            \"recall_weighted\": \"recall_weighted\",\n",
    "            \"roc_auc\": \"roc_auc\",\n",
    "            \"balanced_accuracy\": \"balanced_accuracy\",\n",
    "            }\n",
    "        scores = cross_validate(model, X, y, scoring=scoring, cv=5)\n",
    "        mean_f1_macro = scores[\"f1_macro\"].mean()\n",
    "        mean_roc_auc = scores[\"test_roc_auc\"].mean()\n",
    "        mean_balanced_accuracy = scores[\"test_balanced_accuracy\"].mean()\n",
    "        mean_recall_weighted = scores[\"test_recall_weighted\"].mean()\n",
    "        return mean_recall_weighted.mean()\"\"\"\n",
    "\n",
    "        # Ici on ne choisit qu'une métrique\n",
    "        scores = cross_val_score(model, X, y, scoring=\"f1_macro\", cv=5)\n",
    "        return scores.mean()\n",
    "\n",
    "    return _objective"
   ]
  },
  {
   "cell_type": "code",
   "execution_count": 18,
   "metadata": {},
   "outputs": [
    {
     "data": {
      "text/plain": [
       "\"\\nMétriques pour notre cas :\\n\\nLe Recall mesure la proportion de vrais positifs (défauts correctement prédits)\\nparmi tous les vrais positifs et faux négatifs (défauts réels).\\nEn choisissant le Recall comme métrique, on se concentre sur la capacité du modèle à capturer la majorité des cas de défauts, \\nminimisant ainsi le risque de faux négatifs (ne pas prédire un défaut lorsqu'il existe réellement).\\n\\nLe F1-score est une mesure combinée de la précision et du recall. \\nIl s'agit de la moyenne harmonique de la précision et du recall.\\nLe F1-score est particulièrement utile lorsque les classes sont déséquilibrées car il donne plus de poids aux classes minoritaires. \\nAinsi, il peut être une bonne métrique lorsqu'on veut trouver un compromis entre la précision et le recall.\\n\\nAUC-ROC (Area Under the Receiver Operating Characteristic Curve) : L'AUC-ROC est une métrique qui mesure la capacité du modèle à classer\\ncorrectement les exemples positifs et négatifs. \\nElle est robuste aux déséquilibres de classe et donne une indication de la capacité du modèle à discriminer entre les classes.\\n\""
      ]
     },
     "execution_count": 18,
     "metadata": {},
     "output_type": "execute_result"
    }
   ],
   "source": [
    "\"\"\"\n",
    "Métriques pour notre cas :\n",
    "\n",
    "Le Recall mesure la proportion de vrais positifs (défauts correctement prédits)\n",
    "parmi tous les vrais positifs et faux négatifs (défauts réels).\n",
    "En choisissant le Recall comme métrique, on se concentre sur la capacité du modèle à capturer la majorité des cas de défauts, \n",
    "minimisant ainsi le risque de faux négatifs (ne pas prédire un défaut lorsqu'il existe réellement).\n",
    "\n",
    "Le F1-score est une mesure combinée de la précision et du recall. \n",
    "Il s'agit de la moyenne harmonique de la précision et du recall.\n",
    "Le F1-score est particulièrement utile lorsque les classes sont déséquilibrées car il donne plus de poids aux classes minoritaires. \n",
    "Ainsi, il peut être une bonne métrique lorsqu'on veut trouver un compromis entre la précision et le recall.\n",
    "\n",
    "AUC-ROC (Area Under the Receiver Operating Characteristic Curve) : L'AUC-ROC est une métrique qui mesure la capacité du modèle à classer\n",
    "correctement les exemples positifs et négatifs. \n",
    "Elle est robuste aux déséquilibres de classe et donne une indication de la capacité du modèle à discriminer entre les classes.\n",
    "\"\"\""
   ]
  },
  {
   "cell_type": "code",
   "execution_count": 19,
   "metadata": {},
   "outputs": [
    {
     "data": {
      "text/plain": [
       "\"\\nscoring avec cross_val_score :\\nThe 'scoring' parameter of cross_val_score must be a str among pour la classification :\\n{\\n'accuracy', 'balanced_accuracy', 'f1', \\n'jaccard_micro',\\n'jaccard_weighted',\\n'precision_micro',\\n'recall_samples', \\n'precision_macro',\\n'jaccard', \\n'recall_micro', \\n'roc_auc_ovo', \\n'f1_samples', 'recall_macro', 'precision_weighted', 'f1_weighted', 'roc_auc_ovr_weighted',\\n'f1_micro', 'roc_auc', 'f1_macro', 'precision_samples', 'recall', 'jaccard_samples', 'precision', 'average_precision', 'top_k_accuracy', \\n'neg_log_loss', 'jaccard_macro', 'neg_brier_score', 'roc_auc_ovr', 'recall_weighted', 'roc_auc_ovo_weighted'\\n}, a callable or None.\\n\\n\""
      ]
     },
     "execution_count": 19,
     "metadata": {},
     "output_type": "execute_result"
    }
   ],
   "source": [
    "\"\"\"\n",
    "scoring avec cross_val_score :\n",
    "The 'scoring' parameter of cross_val_score must be a str among pour la classification :\n",
    "{\n",
    "'accuracy', 'balanced_accuracy', 'f1', \n",
    "'jaccard_micro',\n",
    "'jaccard_weighted',\n",
    "'precision_micro',\n",
    "'recall_samples', \n",
    "'precision_macro',\n",
    "'jaccard', \n",
    "'recall_micro', \n",
    "'roc_auc_ovo', \n",
    "'f1_samples', 'recall_macro', 'precision_weighted', 'f1_weighted', 'roc_auc_ovr_weighted',\n",
    "'f1_micro', 'roc_auc', 'f1_macro', 'precision_samples', 'recall', 'jaccard_samples', 'precision', 'average_precision', 'top_k_accuracy', \n",
    "'neg_log_loss', 'jaccard_macro', 'neg_brier_score', 'roc_auc_ovr', 'recall_weighted', 'roc_auc_ovo_weighted'\n",
    "}, a callable or None.\n",
    "\n",
    "\"\"\""
   ]
  },
  {
   "cell_type": "code",
   "execution_count": 20,
   "metadata": {},
   "outputs": [
    {
     "data": {
      "text/plain": [
       "'\\nbalanced accuracy\\nThe balanced accuracy in binary and multiclass classification problems to deal with imbalanced datasets. \\nIt is defined as the average of recall obtained on each class.\\nThe best value is 1 and the worst value is 0 when adjusted=False.\\n'"
      ]
     },
     "execution_count": 20,
     "metadata": {},
     "output_type": "execute_result"
    }
   ],
   "source": [
    "\"\"\"\n",
    "balanced accuracy\n",
    "The balanced accuracy in binary and multiclass classification problems to deal with imbalanced datasets. \n",
    "It is defined as the average of recall obtained on each class.\n",
    "The best value is 1 and the worst value is 0 when adjusted=False.\n",
    "\"\"\""
   ]
  },
  {
   "cell_type": "code",
   "execution_count": 21,
   "metadata": {},
   "outputs": [
    {
     "data": {
      "text/plain": [
       "[]"
      ]
     },
     "execution_count": 21,
     "metadata": {},
     "output_type": "execute_result"
    }
   ],
   "source": [
    "cat_features"
   ]
  },
  {
   "cell_type": "code",
   "execution_count": 22,
   "metadata": {},
   "outputs": [
    {
     "data": {
      "text/plain": [
       "'\\nPruning (=\"Elagage\") = technique pour arrêter prématurément l\\'exécution (train + eval) si \\nil est peu probable que l\\'essai conduise à une amélioreration significative des performances\\n(l\\'entraînement est stoppé si l\\'algo sous-performe)\\n\\n**** HYPERBAND\\n\\nHyperband est une technique de pruning qui combine le pruning de type \"Successive halving\" et\\nd\\'autres techniques (random search, multi-bracket resource allocation strategy).\\n\\n1 - Successive Halving (Demi-seuccessifs):\\nAu début de l\\'optimisation, Hyperband crée un grand nombre de configurations d\\'hyperparamètres\\net entraîne chaque modèle pendant un petit nombre d\\'itérations (eochs). \\nEnsuite, il évalue les performances de ces modèles et conserve uniquement les meilleurs. \\nIl répète ce processus plusieurs fois, en doublant à chaque fois le nombre d\\'itérations, \\nmais en réduisant de moitié le nombre de configurations conservées.\\n\\nAinsi les modèles prometteurs bénéficient de plus d\\'itérations pour converger vers de bonnes performances,\\ntandis que les modèles moins prometteurs sont élagués à chaque étape.\\n\\n2 - Pruning basé sur la performance:\\nÀ chaque étape du Successive Halving, Hyperband évalue périodiquement les performances des modèles en formation\\net décide de \"pruner\" les modèles moins prometteurs. \\nLes modèles qui n\\'atteignent pas un certain seuil de performance sont arrêtés prématurément.\\n\\n*** MULTI_BRACKET RESSOURCE ALLOCATION strategy (Allocation de ressource à plusieurs \\'brackets\\' ou niveaux / échelon)\\n\\ndivise les ressources disponibles (telles que le nombre d\\'itérations, d\\'évaluations de modèles, etc.)\\nen plusieurs \"brackets\" ou \"niveaux\" et alloue ces ressources de manière dynamique en fonction de la performance\\ndes modèles à chaque niveau.\\n\\n1 - Multi-brackets\\nL\\'algorithme divise le budget total de ressources (par exemple, le nombre maximal d\\'itérations ou le temps total de calcul) en plusieurs \"brackets\" ou \"échelons\".\\nChaque bracket représente une étape distincte de l\\'algorithme où différents ensembles d\\'hyperparamètres sont évalués.\\nChaque bracket est caractérisé par un budget de ressources spécifique, qui peut être soit le nombre d\\'itérations, soit le temps de calcul. \\nLes brackets initiaux ont un budget élevé tandis que les brackets ultérieurs ont des budgets plus bas.\\n\\n2 - Resource allocation\\nAlloue dynamiquement les ressources aux config d\\'hyperparams\\nDans chaque bracket, Hyperband commence par évaluer un grand nombre de configurations d\\'hyperparamètres pour un nombre restreint d\\'itérations. \\nEnsuite, il élimine les configurations sous-performantes et alloue davantage de ressources aux configurations les plus prometteuses.\\n\\nWithin each bracket, successive halving is applied to iteratively eliminate underperforming configurations and\\nallocate more resources to the remaining promising ones.\\nAt the begining of each bracket, a new set of hyperparam configurations is sampled using random search.\\n\\n=> reduce risk of missing good config\\nmore efficient and effective hyperparam tuning.\\n'"
      ]
     },
     "execution_count": 22,
     "metadata": {},
     "output_type": "execute_result"
    }
   ],
   "source": [
    "\"\"\"\n",
    "Pruning (=\"Elagage\") = technique pour arrêter prématurément l'exécution (train + eval) si \n",
    "il est peu probable que l'essai conduise à une amélioreration significative des performances\n",
    "(l'entraînement est stoppé si l'algo sous-performe)\n",
    "\n",
    "**** HYPERBAND\n",
    "\n",
    "Hyperband est une technique de pruning qui combine le pruning de type \"Successive halving\" et\n",
    "d'autres techniques (random search, multi-bracket resource allocation strategy).\n",
    "\n",
    "1 - Successive Halving (Demi-seuccessifs):\n",
    "Au début de l'optimisation, Hyperband crée un grand nombre de configurations d'hyperparamètres\n",
    "et entraîne chaque modèle pendant un petit nombre d'itérations (eochs). \n",
    "Ensuite, il évalue les performances de ces modèles et conserve uniquement les meilleurs. \n",
    "Il répète ce processus plusieurs fois, en doublant à chaque fois le nombre d'itérations, \n",
    "mais en réduisant de moitié le nombre de configurations conservées.\n",
    "\n",
    "Ainsi les modèles prometteurs bénéficient de plus d'itérations pour converger vers de bonnes performances,\n",
    "tandis que les modèles moins prometteurs sont élagués à chaque étape.\n",
    "\n",
    "2 - Pruning basé sur la performance:\n",
    "À chaque étape du Successive Halving, Hyperband évalue périodiquement les performances des modèles en formation\n",
    "et décide de \"pruner\" les modèles moins prometteurs. \n",
    "Les modèles qui n'atteignent pas un certain seuil de performance sont arrêtés prématurément.\n",
    "\n",
    "*** MULTI_BRACKET RESSOURCE ALLOCATION strategy (Allocation de ressource à plusieurs 'brackets' ou niveaux / échelon)\n",
    "\n",
    "divise les ressources disponibles (telles que le nombre d'itérations, d'évaluations de modèles, etc.)\n",
    "en plusieurs \"brackets\" ou \"niveaux\" et alloue ces ressources de manière dynamique en fonction de la performance\n",
    "des modèles à chaque niveau.\n",
    "\n",
    "1 - Multi-brackets\n",
    "L'algorithme divise le budget total de ressources (par exemple, le nombre maximal d'itérations ou le temps total de calcul) en plusieurs \"brackets\" ou \"échelons\".\n",
    "Chaque bracket représente une étape distincte de l'algorithme où différents ensembles d'hyperparamètres sont évalués.\n",
    "Chaque bracket est caractérisé par un budget de ressources spécifique, qui peut être soit le nombre d'itérations, soit le temps de calcul. \n",
    "Les brackets initiaux ont un budget élevé tandis que les brackets ultérieurs ont des budgets plus bas.\n",
    "\n",
    "2 - Resource allocation\n",
    "Alloue dynamiquement les ressources aux config d'hyperparams\n",
    "Dans chaque bracket, Hyperband commence par évaluer un grand nombre de configurations d'hyperparamètres pour un nombre restreint d'itérations. \n",
    "Ensuite, il élimine les configurations sous-performantes et alloue davantage de ressources aux configurations les plus prometteuses.\n",
    "\n",
    "Within each bracket, successive halving is applied to iteratively eliminate underperforming configurations and\n",
    "allocate more resources to the remaining promising ones.\n",
    "At the begining of each bracket, a new set of hyperparam configurations is sampled using random search.\n",
    "\n",
    "=> reduce risk of missing good config\n",
    "more efficient and effective hyperparam tuning.\n",
    "\"\"\""
   ]
  },
  {
   "cell_type": "code",
   "execution_count": 23,
   "metadata": {},
   "outputs": [
    {
     "data": {
      "text/plain": [
       "'\\nSAMPLER TPE :\\nTree-structured Parzen Estimator\\nTPESampler utilise une approche bayésienne pour estimer les distributions de probabilité des valeurs d\\'hyperparamètres,\\nen se basant sur les performances des essais précédents, \\nafin de guider efficacement la recherche vers des régions prometteuses de l\\'espace des hyperparamètres.\\n\\n1 - Initialisation des distributions :\\nL\\'algorithme TPE commence par définir des distributions de probabilité pour chaque hyperparamètre à optimiser.\\nCes distributions peuvent être continues (comme des distributions gaussiennes) ou discrètes (comme des distributions uniformes).\\nPour chaque hyperparamètre, deux distributions sont définies : \\nune pour les valeurs considérées comme \"bonnes\" (positive), et une pour les valeurs considérées comme \"mauvaises\" (négative).\\n\\n2 - Évaluation des essais :\\nÀ chaque étape de l\\'optimisation, \\nTPE utilise les essais précédents pour estimer les distributions de probabilité des valeurs d\\'hyperparamètres.\\nLes essais sont divisés en deux groupes : \\nceux qui ont produit de bonnes performances et ceux qui ont produit de mauvaises performances, \\nen fonction du critère d\\'objectif (par exemple, la précision d\\'un modèle).\\nLes distributions de probabilité sont mises à jour en utilisant les essais des deux groupes,\\nen ajustant les paramètres des distributions pour mieux modéliser les valeurs d\\'hyperparamètres qui ont conduit à de bonnes performances.\\n\\n3 - Échantillonnage des essais :\\nUne fois que les distributions de probabilité ont été mises à jour, \\nTPE échantillonne de nouvelles valeurs d\\'hyperparamètres à partir de ces distributions. \\nLes valeurs échantillonnées sont généralement celles qui maximisent l\\'espérance d\\'une fonction d\\'acquisition \\n(par exemple, l\\'espérance de l\\'amélioration de l\\'objectif) \\nou qui minimisent une fonction de coût (par exemple, l\\'espérance de la perte de l\\'objectif).\\n\\n4 - Évaluation des performances :\\nLes nouvelles valeurs d\\'hyperparamètres échantillonnées sont utilisées pour effectuer de nouveaux essais.\\nLes performances de ces essais sont évaluées à l\\'aide de la fonction d\\'objectif, \\net les résultats sont utilisés pour mettre à jour les distributions de probabilité et répéter le processus.\\n'"
      ]
     },
     "execution_count": 23,
     "metadata": {},
     "output_type": "execute_result"
    }
   ],
   "source": [
    "\"\"\"\n",
    "SAMPLER TPE :\n",
    "Tree-structured Parzen Estimator\n",
    "TPESampler utilise une approche bayésienne pour estimer les distributions de probabilité des valeurs d'hyperparamètres,\n",
    "en se basant sur les performances des essais précédents, \n",
    "afin de guider efficacement la recherche vers des régions prometteuses de l'espace des hyperparamètres.\n",
    "\n",
    "1 - Initialisation des distributions :\n",
    "L'algorithme TPE commence par définir des distributions de probabilité pour chaque hyperparamètre à optimiser.\n",
    "Ces distributions peuvent être continues (comme des distributions gaussiennes) ou discrètes (comme des distributions uniformes).\n",
    "Pour chaque hyperparamètre, deux distributions sont définies : \n",
    "une pour les valeurs considérées comme \"bonnes\" (positive), et une pour les valeurs considérées comme \"mauvaises\" (négative).\n",
    "\n",
    "2 - Évaluation des essais :\n",
    "À chaque étape de l'optimisation, \n",
    "TPE utilise les essais précédents pour estimer les distributions de probabilité des valeurs d'hyperparamètres.\n",
    "Les essais sont divisés en deux groupes : \n",
    "ceux qui ont produit de bonnes performances et ceux qui ont produit de mauvaises performances, \n",
    "en fonction du critère d'objectif (par exemple, la précision d'un modèle).\n",
    "Les distributions de probabilité sont mises à jour en utilisant les essais des deux groupes,\n",
    "en ajustant les paramètres des distributions pour mieux modéliser les valeurs d'hyperparamètres qui ont conduit à de bonnes performances.\n",
    "\n",
    "3 - Échantillonnage des essais :\n",
    "Une fois que les distributions de probabilité ont été mises à jour, \n",
    "TPE échantillonne de nouvelles valeurs d'hyperparamètres à partir de ces distributions. \n",
    "Les valeurs échantillonnées sont généralement celles qui maximisent l'espérance d'une fonction d'acquisition \n",
    "(par exemple, l'espérance de l'amélioration de l'objectif) \n",
    "ou qui minimisent une fonction de coût (par exemple, l'espérance de la perte de l'objectif).\n",
    "\n",
    "4 - Évaluation des performances :\n",
    "Les nouvelles valeurs d'hyperparamètres échantillonnées sont utilisées pour effectuer de nouveaux essais.\n",
    "Les performances de ces essais sont évaluées à l'aide de la fonction d'objectif, \n",
    "et les résultats sont utilisés pour mettre à jour les distributions de probabilité et répéter le processus.\n",
    "\"\"\""
   ]
  },
  {
   "cell_type": "code",
   "execution_count": 24,
   "metadata": {},
   "outputs": [
    {
     "data": {
      "text/plain": [
       "'\\nDémarrer un serveur mlflow local en ligne de commande :\\nmlflow server --host 127.0.0.1 --port 8080\\n'"
      ]
     },
     "execution_count": 24,
     "metadata": {},
     "output_type": "execute_result"
    }
   ],
   "source": [
    "\"\"\"\n",
    "Démarrer un serveur mlflow local en ligne de commande :\n",
    "mlflow server --host 127.0.0.1 --port 8080\n",
    "\"\"\""
   ]
  },
  {
   "cell_type": "code",
   "execution_count": 25,
   "metadata": {},
   "outputs": [
    {
     "name": "stdout",
     "output_type": "stream",
     "text": [
      "http://127.0.0.1:8080\n"
     ]
    }
   ],
   "source": [
    "# Use the fluent API to set the tracking uri and the active experiment\n",
    "print(f\"{LOCAL_HOST}:{LOCAL_PORT}\")"
   ]
  },
  {
   "cell_type": "code",
   "execution_count": 25,
   "metadata": {},
   "outputs": [],
   "source": [
    "# Use the fluent API to set the tracking uri and the active experiment\n",
    "mlflow.set_tracking_uri(f\"{LOCAL_HOST}:{LOCAL_PORT}\")"
   ]
  },
  {
   "cell_type": "code",
   "execution_count": 27,
   "metadata": {},
   "outputs": [],
   "source": [
    "# On crèe une epérience\n",
    "experiment_name = \"lightgbm_hyperparam\"\n",
    "\n",
    "experiment_description = (\n",
    "    \"Recherche d'hyperparamètres pour le modèle LightGBM\"\n",
    "    \"Recherche Bayesienne - mono objectif - Hyperband\"\n",
    ")\n",
    "\n",
    "experiment_tags = {\n",
    "    \"model\": \"lightgbm\",\n",
    "    \"task\": \"hyperparam\",\n",
    "    \"mlflow.note.content\": experiment_description,\n",
    "}\n",
    "\n",
    "experiment_id = mlflow.create_experiment(\n",
    "    experiment_name,\n",
    "    #artifact_location=os.path.join(MODEL_DIR, subdir).as_uri(),\n",
    "    artifact_location=os.path.join(MODEL_DIR, subdir),\n",
    "    tags=experiment_tags,\n",
    ")"
   ]
  },
  {
   "cell_type": "code",
   "execution_count": 28,
   "metadata": {},
   "outputs": [
    {
     "data": {
      "text/plain": [
       "<Experiment: artifact_location='file:///E:/Mes Documents/_Open Classroom/Code/p7/models/light_simple', creation_time=1714818682024, experiment_id='960899003815379867', last_update_time=1714818682024, lifecycle_stage='active', name='lightgbm_hyperparam_test', tags={'mlflow.note.content': \"Recherche d'hyperparamètres pour le modèle \"\n",
       "                        'LightGBMRecherche Bayesienne - mono objectif - '\n",
       "                        'Hyperband',\n",
       " 'model': 'lightgbm',\n",
       " 'task': 'hyperparam'}>"
      ]
     },
     "execution_count": 28,
     "metadata": {},
     "output_type": "execute_result"
    }
   ],
   "source": [
    "# On active l'expérience\n",
    "experiment_metadata = mlflow.set_experiment(experiment_id=experiment_id)\n",
    "experiment_metadata"
   ]
  },
  {
   "cell_type": "code",
   "execution_count": 53,
   "metadata": {},
   "outputs": [
    {
     "name": "stdout",
     "output_type": "stream",
     "text": [
      "lightgbm_hyperparam_test\n",
      "active\n"
     ]
    }
   ],
   "source": [
    "print(experiment_metadata.name)\n",
    "print(experiment_metadata.lifecycle_stage)"
   ]
  },
  {
   "cell_type": "code",
   "execution_count": 29,
   "metadata": {
    "ExecuteTime": {
     "end_time": "2023-04-27T12:41:49.408124Z",
     "start_time": "2023-04-27T12:28:12.286408Z"
    },
    "collapsed": false
   },
   "outputs": [
    {
     "name": "stderr",
     "output_type": "stream",
     "text": [
      "[I 2024-05-04 12:31:50,233] A new study created in memory with name: lightgbm_single_obj_03\n",
      "[I 2024-05-04 12:31:52,452] Trial 5 finished with value: 0.0 and parameters: {'boosting_type': 'dart', 'lambda_l1': 6.823135770672805e-06, 'lambda_l2': 0.007499118161723124, 'num_leaves': 30, 'feature_fraction': 0.8147347003671239, 'bagging_fraction': 0.6515787288641275, 'bagging_freq': 7, 'min_child_samples': 51, 'learning_rate': 0.010886880720281183, 'max_bin': 256, 'n_estimators': 40}. Best is trial 5 with value: 0.0.\n",
      "[I 2024-05-04 12:31:54,235] Trial 0 finished with value: 0.5987567489425044 and parameters: {'boosting_type': 'gbdt', 'lambda_l1': 0.03762610517308741, 'lambda_l2': 5.844813698530148e-07, 'num_leaves': 21, 'feature_fraction': 0.7122226646460588, 'bagging_fraction': 0.8924020558960004, 'bagging_freq': 1, 'min_child_samples': 69, 'learning_rate': 0.25307716027209676, 'max_bin': 480, 'n_estimators': 120}. Best is trial 0 with value: 0.5987567489425044.\n",
      "[I 2024-05-04 12:31:58,211] Trial 4 finished with value: 0.5977753659981492 and parameters: {'boosting_type': 'dart', 'lambda_l1': 7.687785919284582e-06, 'lambda_l2': 0.004913159027701323, 'num_leaves': 42, 'feature_fraction': 0.4980874351334247, 'bagging_fraction': 0.4273657689709464, 'bagging_freq': 6, 'min_child_samples': 77, 'learning_rate': 0.3818341716776247, 'max_bin': 448, 'n_estimators': 140}. Best is trial 0 with value: 0.5987567489425044.\n",
      "[I 2024-05-04 12:31:59,832] Trial 6 finished with value: 0.0 and parameters: {'boosting_type': 'gbdt', 'lambda_l1': 4.092924066672471e-07, 'lambda_l2': 1.2789469071160939e-06, 'num_leaves': 48, 'feature_fraction': 0.887568320553869, 'bagging_fraction': 0.865967526936939, 'bagging_freq': 4, 'min_child_samples': 15, 'learning_rate': 0.0002112726784544093, 'max_bin': 512, 'n_estimators': 180}. Best is trial 0 with value: 0.5987567489425044.\n",
      "[I 2024-05-04 12:32:03,944] Trial 9 finished with value: 0.0 and parameters: {'boosting_type': 'gbdt', 'lambda_l1': 1.5614024964172187e-06, 'lambda_l2': 1.2532669391932567e-07, 'num_leaves': 38, 'feature_fraction': 0.4450824896157235, 'bagging_fraction': 0.7731565250360674, 'bagging_freq': 2, 'min_child_samples': 100, 'learning_rate': 0.0006590044956487174, 'max_bin': 480, 'n_estimators': 320}. Best is trial 0 with value: 0.5987567489425044.\n",
      "[I 2024-05-04 12:32:07,643] Trial 8 finished with value: 0.0 and parameters: {'boosting_type': 'dart', 'lambda_l1': 9.507102385160936e-08, 'lambda_l2': 2.380823043319113e-07, 'num_leaves': 214, 'feature_fraction': 0.4358558275651392, 'bagging_fraction': 0.6314774936029108, 'bagging_freq': 6, 'min_child_samples': 61, 'learning_rate': 0.0021240435798254684, 'max_bin': 416, 'n_estimators': 120}. Best is trial 0 with value: 0.5987567489425044.\n",
      "[I 2024-05-04 12:32:16,471] Trial 1 finished with value: 0.553418061007753 and parameters: {'boosting_type': 'gbdt', 'lambda_l1': 0.01507620713009109, 'lambda_l2': 4.9624790851526726, 'num_leaves': 222, 'feature_fraction': 0.9339116789522336, 'bagging_fraction': 0.7343998793228661, 'bagging_freq': 3, 'min_child_samples': 34, 'learning_rate': 0.004490915794688191, 'max_bin': 288, 'n_estimators': 260}. Best is trial 0 with value: 0.5987567489425044.\n",
      "[I 2024-05-04 12:32:17,508] Trial 7 finished with value: 0.5357257126861499 and parameters: {'boosting_type': 'gbdt', 'lambda_l1': 7.132728566409182e-08, 'lambda_l2': 1.901043079329789e-08, 'num_leaves': 186, 'feature_fraction': 0.7825172158791798, 'bagging_fraction': 0.6115281439567368, 'bagging_freq': 2, 'min_child_samples': 73, 'learning_rate': 0.003321582744828742, 'max_bin': 320, 'n_estimators': 360}. Best is trial 0 with value: 0.5987567489425044.\n",
      "[I 2024-05-04 12:32:19,955] Trial 2 finished with value: 0.0 and parameters: {'boosting_type': 'dart', 'lambda_l1': 1.3944143568985317e-07, 'lambda_l2': 0.0011778664954490777, 'num_leaves': 164, 'feature_fraction': 0.453362894983988, 'bagging_fraction': 0.7120366985044074, 'bagging_freq': 4, 'min_child_samples': 73, 'learning_rate': 0.00011743033802344087, 'max_bin': 512, 'n_estimators': 300}. Best is trial 0 with value: 0.5987567489425044.\n",
      "[I 2024-05-04 12:32:23,234] Trial 3 finished with value: 0.0 and parameters: {'boosting_type': 'gbdt', 'lambda_l1': 4.5196093704883493e-07, 'lambda_l2': 2.043521150084418e-06, 'num_leaves': 206, 'feature_fraction': 0.5289013062121716, 'bagging_fraction': 0.7946220625870372, 'bagging_freq': 2, 'min_child_samples': 71, 'learning_rate': 0.0011720328171501392, 'max_bin': 512, 'n_estimators': 380}. Best is trial 0 with value: 0.5987567489425044.\n"
     ]
    },
    {
     "name": "stdout",
     "output_type": "stream",
     "text": [
      "Optimize hyperparameters - duration (hh:mm:ss) : 0:00:35\n"
     ]
    }
   ],
   "source": [
    "with timer(\"Optimize hyperparameters\"):\n",
    "    # Utilise l'algorithme d'optimisation TPE (Tree-structured Parzen Estimator) comme méthode d'échantillonnage\n",
    "    # Il s'agit de l'algo qui génère les valeurs des hyperparams lors de chaque essai d'optimisation\n",
    "    # Ici il est utilisé en conjonction avec le pruning Hyperband\n",
    "    # => Le sampler choisit les params à essayer, le pruner les arrête prématurément si non performants\n",
    "    sampler = optuna.samplers.TPESampler()\n",
    "    \n",
    "    # Optuna a réalisé plusieurs études empiriques avec différents algorithmes de pruning.\n",
    "    # Empiriquement, l'algorithme Hyperband a donné les meilleurs résultats\n",
    "    # Voir : https://github.com/optuna/optuna/wiki/Benchmarks-with-Kurobako\n",
    "    # reduction_factor contrôle combien de trials sont proposés dans chaque Halving Round\n",
    "    pruner = optuna.pruners.HyperbandPruner(\n",
    "        min_resource=10, max_resource=400, reduction_factor=3)\n",
    "    \n",
    "    # On crèe une run MLFlow\n",
    "    run_name =\"lightgbm_single_f1_all\"\n",
    "    run_description ='Single objective - métrique f1_macro - all data kernel simple'\n",
    "    \n",
    "    \n",
    "    with mlflow.start_run(run_name=run_name) as run:\n",
    "        # description du run\n",
    "        mlflow.set_tag(\"mlflow.note.content\", run_description)\n",
    "        \n",
    "        study = optuna.create_study(\n",
    "            direction='maximize', \n",
    "            sampler=sampler,\n",
    "            pruner=pruner,\n",
    "            study_name=\"lightgbm_single_obj_03\",\n",
    "            #storage=os.path.join(MODEL_DIR, subdir)\n",
    "        )\n",
    "    \n",
    "        # gc appelle le garbage collector après chaque trial\n",
    "        study.optimize(objective(), n_trials=10, gc_after_trial=True, n_jobs=-1)\n",
    "        \n",
    "        best_params = study.best_trial.params\n",
    "        mlflow.log_params(best_params)\n",
    "        #mlflow.sklearn.log_model(study.model, \"Meilleur modèle\")\n",
    "        \n",
    "        fig = optuna.visualization.plot_parallel_coordinate(study, params=[\"boosting_type\", \"num_leaves\", \"learning_rate\", \"n_estimators\"])\n",
    "        im_dir = os.path.join(MODEL_DIR, subdir)\n",
    "        #fig.write_image(file=os.path.join(im_dir, \"single_parallel_coordinates.png\"), format=\"png\", scale=6)\n",
    "        fig.write_html(os.path.join(im_dir, \"single_parallel_coordinates.html\"))\n",
    "        fig = optuna.visualization.plot_param_importances(study)\n",
    "        #fig.write_image(file=os.path.join(im_dir, \"single_hyperparam_importance.png\"), format=\"png\", scale=1)\n",
    "        fig.write_html(os.path.join(im_dir, \"single_hyperparam_importance.html\"))\n",
    "        \n",
    "        mlflow.log_artifact(os.path.join(im_dir, \"single_parallel_coordinates.html\"))\n",
    "        mlflow.log_artifact(os.path.join(im_dir, \"single_hyperparam_importance.html\"))\n",
    "        #mlflow.log_artifact(os.path.join(im_dir, \"single_hyperparam_importance.png\"))\n",
    "    # Force mlflow à terminer le run même s'il y a une erreur dedans\n",
    "    mlflow.end_run()"
   ]
  },
  {
   "cell_type": "code",
   "execution_count": 80,
   "metadata": {},
   "outputs": [],
   "source": [
    "mlflow.end_run()"
   ]
  },
  {
   "cell_type": "code",
   "execution_count": 50,
   "metadata": {
    "ExecuteTime": {
     "end_time": "2023-04-27T12:41:49.410671Z",
     "start_time": "2023-04-27T12:41:49.410671Z"
    },
    "collapsed": false
   },
   "outputs": [
    {
     "name": "stdout",
     "output_type": "stream",
     "text": [
      "FrozenTrial(number=7, state=TrialState.COMPLETE, values=[0.6713640280500157], datetime_start=datetime.datetime(2024, 5, 4, 11, 22, 20, 556119), datetime_complete=datetime.datetime(2024, 5, 4, 11, 22, 31, 369550), params={'boosting_type': 'dart', 'lambda_l1': 1.3159775456532645, 'lambda_l2': 7.427708103108906e-05, 'num_leaves': 95, 'feature_fraction': 0.9301882478779776, 'bagging_fraction': 0.6469799790785027, 'bagging_freq': 1, 'min_child_samples': 90, 'learning_rate': 0.17514302089624703, 'max_bin': 288, 'n_estimators': 120}, user_attrs={}, system_attrs={}, intermediate_values={}, distributions={'boosting_type': CategoricalDistribution(choices=('dart', 'gbdt')), 'lambda_l1': FloatDistribution(high=10.0, log=True, low=1e-08, step=None), 'lambda_l2': FloatDistribution(high=10.0, log=True, low=1e-08, step=None), 'num_leaves': IntDistribution(high=256, log=False, low=2, step=1), 'feature_fraction': FloatDistribution(high=1.0, log=False, low=0.4, step=None), 'bagging_fraction': FloatDistribution(high=1.0, log=False, low=0.4, step=None), 'bagging_freq': IntDistribution(high=7, log=False, low=1, step=1), 'min_child_samples': IntDistribution(high=100, log=False, low=5, step=1), 'learning_rate': FloatDistribution(high=0.5, log=True, low=0.0001, step=None), 'max_bin': IntDistribution(high=512, log=False, low=128, step=32), 'n_estimators': IntDistribution(high=400, log=False, low=40, step=20)}, trial_id=7, value=None)\n",
      "boosting_type : dart\n",
      "lambda_l1 : 1.3159775456532645\n",
      "lambda_l2 : 7.427708103108906e-05\n",
      "num_leaves : 95\n",
      "feature_fraction : 0.9301882478779776\n",
      "bagging_fraction : 0.6469799790785027\n",
      "bagging_freq : 1\n",
      "min_child_samples : 90\n",
      "learning_rate : 0.17514302089624703\n",
      "max_bin : 288\n",
      "n_estimators : 120\n"
     ]
    }
   ],
   "source": [
    "print(study.best_trial)\n",
    "best_params = study.best_trial.params\n",
    "for k, v in best_params.items():\n",
    "    print(f\"{k} : {v}\")"
   ]
  },
  {
   "cell_type": "code",
   "execution_count": 70,
   "metadata": {},
   "outputs": [
    {
     "data": {
      "text/plain": [
       "['models/light_simple/opt_lightgbm_single_03.pkl']"
      ]
     },
     "execution_count": 70,
     "metadata": {},
     "output_type": "execute_result"
    }
   ],
   "source": [
    "joblib.dump(study, os.path.join(MODEL_DIR, subdir, \"opt_lightgbm_single_03.pkl\"))"
   ]
  },
  {
   "cell_type": "markdown",
   "metadata": {
    "collapsed": false
   },
   "source": [
    "## Understanding Parameters"
   ]
  },
  {
   "cell_type": "code",
   "execution_count": 72,
   "metadata": {},
   "outputs": [],
   "source": [
    "study = joblib.load(os.path.join(MODEL_DIR, subdir, \"opt_lightgbm_single_03.pkl\"))"
   ]
  },
  {
   "cell_type": "code",
   "execution_count": 73,
   "metadata": {},
   "outputs": [
    {
     "name": "stdout",
     "output_type": "stream",
     "text": [
      "<class 'plotly.graph_objs._figure.Figure'>\n"
     ]
    }
   ],
   "source": [
    "# Nécessite l'installation de plotly et de Kaleido (redémarrer le kernel impérativement après plotly, kaleido version 0.1.0 et nformat version récente)\n",
    "# pip install kaleido==0.1.0\n",
    "# pip install --upgrade nbformat\n",
    "# Ajouter le path de kaleido.cmd au PATH windows\n",
    "# Tout redémarrer\n",
    "fig = optuna.visualization.plot_parallel_coordinate(study, params=[\"boosting_type\", \"num_leaves\", \"learning_rate\", \"n_estimators\"])\n",
    "joblib.dump(fig, os.path.join(MODEL_DIR,'fig_plotly.pkl'))\n",
    "print(type(fig))"
   ]
  },
  {
   "cell_type": "code",
   "execution_count": 74,
   "metadata": {},
   "outputs": [],
   "source": [
    "im_dir = os.path.join(MODEL_DIR, subdir)"
   ]
  },
  {
   "cell_type": "code",
   "execution_count": 75,
   "metadata": {},
   "outputs": [],
   "source": [
    "fig.write_image(file=os.path.join(im_dir, \"single_parallel_coordinates.png\"), format=\"png\", scale=6)"
   ]
  },
  {
   "cell_type": "code",
   "execution_count": 76,
   "metadata": {},
   "outputs": [
    {
     "data": {
      "application/vnd.plotly.v1+json": {
       "config": {
        "plotlyServerURL": "https://plot.ly"
       },
       "data": [
        {
         "dimensions": [
          {
           "label": "Objective Value",
           "range": [
            0,
            0.6335845510272915
           ],
           "values": [
            0,
            0.36372286809394566,
            0,
            0.4088985407279015,
            0,
            0.5589914400737834,
            0,
            0.0714842700487468,
            0.6335845510272915,
            0,
            0.5989651572714703,
            0,
            0,
            0,
            0.6122962426302936,
            0,
            0,
            0.6137732165590389,
            0.5929453236600144,
            0.5974505756144689,
            0.5825649484091543,
            0,
            0.5761810375678778,
            0.5820088324178478,
            0,
            0.6059444364872382,
            0,
            0,
            0.6223718964301336,
            0.22116656003256724
           ]
          },
          {
           "label": "boosting_type",
           "range": [
            0,
            1
           ],
           "ticktext": [
            "gbdt",
            "dart"
           ],
           "tickvals": [
            0,
            1
           ],
           "values": [
            0,
            1,
            1,
            1,
            0,
            0,
            0,
            1,
            1,
            1,
            0,
            1,
            0,
            1,
            0,
            0,
            0,
            0,
            1,
            1,
            1,
            1,
            1,
            1,
            1,
            0,
            1,
            1,
            0,
            0
           ]
          },
          {
           "label": "learning_rate",
           "range": [
            -3.9992969909375042,
            -0.45992162336571174
           ],
           "ticktext": [
            "0.0001",
            "0.001",
            "0.01",
            "0.1",
            "0.347"
           ],
           "tickvals": [
            -3.9992969909375042,
            -3,
            -2,
            -1,
            -0.45992162336571174
           ],
           "values": [
            -3.3373056015812823,
            -2.3736549524268833,
            -3.125087617110428,
            -1.4805809673703987,
            -3.035132001741161,
            -2.3298956705726748,
            -3.1206659331229805,
            -2.6098673062993245,
            -0.45992162336571174,
            -3.210349380841419,
            -1.3764100599775493,
            -3.3738465035131573,
            -2.940103500449386,
            -3.3824107584039402,
            -1.9021515372502098,
            -3.9992969909375042,
            -3.8415746011774927,
            -1.3236205014760583,
            -1.835433653046471,
            -0.6641913655877274,
            -1.8535088390017314,
            -2.9672624255514655,
            -1.3773063194983444,
            -1.0554680062030413,
            -3.492949978024926,
            -2.045946538849903,
            -3.2915486452037084,
            -3.495271665763219,
            -0.4824275649206435,
            -2.4834829068126267
           ]
          },
          {
           "label": "n_estimators",
           "range": [
            40,
            400
           ],
           "values": [
            380,
            200,
            300,
            40,
            220,
            300,
            340,
            360,
            40,
            340,
            60,
            400,
            360,
            320,
            400,
            260,
            120,
            280,
            380,
            200,
            340,
            40,
            260,
            160,
            160,
            360,
            200,
            200,
            360,
            180
           ]
          },
          {
           "label": "num_leaves",
           "range": [
            12,
            255
           ],
           "values": [
            34,
            91,
            203,
            97,
            80,
            160,
            102,
            12,
            204,
            41,
            31,
            155,
            114,
            62,
            181,
            25,
            235,
            233,
            255,
            201,
            134,
            57,
            67,
            185,
            127,
            71,
            23,
            184,
            145,
            55
           ]
          }
         ],
         "labelangle": 30,
         "labelside": "bottom",
         "line": {
          "color": [
           0,
           0.36372286809394566,
           0,
           0.4088985407279015,
           0,
           0.5589914400737834,
           0,
           0.0714842700487468,
           0.6335845510272915,
           0,
           0.5989651572714703,
           0,
           0,
           0,
           0.6122962426302936,
           0,
           0,
           0.6137732165590389,
           0.5929453236600144,
           0.5974505756144689,
           0.5825649484091543,
           0,
           0.5761810375678778,
           0.5820088324178478,
           0,
           0.6059444364872382,
           0,
           0,
           0.6223718964301336,
           0.22116656003256724
          ],
          "colorbar": {
           "title": {
            "text": "Objective Value"
           }
          },
          "colorscale": [
           [
            0,
            "rgb(247,251,255)"
           ],
           [
            0.125,
            "rgb(222,235,247)"
           ],
           [
            0.25,
            "rgb(198,219,239)"
           ],
           [
            0.375,
            "rgb(158,202,225)"
           ],
           [
            0.5,
            "rgb(107,174,214)"
           ],
           [
            0.625,
            "rgb(66,146,198)"
           ],
           [
            0.75,
            "rgb(33,113,181)"
           ],
           [
            0.875,
            "rgb(8,81,156)"
           ],
           [
            1,
            "rgb(8,48,107)"
           ]
          ],
          "reversescale": false,
          "showscale": true
         },
         "type": "parcoords"
        }
       ],
       "layout": {
        "template": {
         "data": {
          "bar": [
           {
            "error_x": {
             "color": "#2a3f5f"
            },
            "error_y": {
             "color": "#2a3f5f"
            },
            "marker": {
             "line": {
              "color": "#E5ECF6",
              "width": 0.5
             },
             "pattern": {
              "fillmode": "overlay",
              "size": 10,
              "solidity": 0.2
             }
            },
            "type": "bar"
           }
          ],
          "barpolar": [
           {
            "marker": {
             "line": {
              "color": "#E5ECF6",
              "width": 0.5
             },
             "pattern": {
              "fillmode": "overlay",
              "size": 10,
              "solidity": 0.2
             }
            },
            "type": "barpolar"
           }
          ],
          "carpet": [
           {
            "aaxis": {
             "endlinecolor": "#2a3f5f",
             "gridcolor": "white",
             "linecolor": "white",
             "minorgridcolor": "white",
             "startlinecolor": "#2a3f5f"
            },
            "baxis": {
             "endlinecolor": "#2a3f5f",
             "gridcolor": "white",
             "linecolor": "white",
             "minorgridcolor": "white",
             "startlinecolor": "#2a3f5f"
            },
            "type": "carpet"
           }
          ],
          "choropleth": [
           {
            "colorbar": {
             "outlinewidth": 0,
             "ticks": ""
            },
            "type": "choropleth"
           }
          ],
          "contour": [
           {
            "colorbar": {
             "outlinewidth": 0,
             "ticks": ""
            },
            "colorscale": [
             [
              0,
              "#0d0887"
             ],
             [
              0.1111111111111111,
              "#46039f"
             ],
             [
              0.2222222222222222,
              "#7201a8"
             ],
             [
              0.3333333333333333,
              "#9c179e"
             ],
             [
              0.4444444444444444,
              "#bd3786"
             ],
             [
              0.5555555555555556,
              "#d8576b"
             ],
             [
              0.6666666666666666,
              "#ed7953"
             ],
             [
              0.7777777777777778,
              "#fb9f3a"
             ],
             [
              0.8888888888888888,
              "#fdca26"
             ],
             [
              1,
              "#f0f921"
             ]
            ],
            "type": "contour"
           }
          ],
          "contourcarpet": [
           {
            "colorbar": {
             "outlinewidth": 0,
             "ticks": ""
            },
            "type": "contourcarpet"
           }
          ],
          "heatmap": [
           {
            "colorbar": {
             "outlinewidth": 0,
             "ticks": ""
            },
            "colorscale": [
             [
              0,
              "#0d0887"
             ],
             [
              0.1111111111111111,
              "#46039f"
             ],
             [
              0.2222222222222222,
              "#7201a8"
             ],
             [
              0.3333333333333333,
              "#9c179e"
             ],
             [
              0.4444444444444444,
              "#bd3786"
             ],
             [
              0.5555555555555556,
              "#d8576b"
             ],
             [
              0.6666666666666666,
              "#ed7953"
             ],
             [
              0.7777777777777778,
              "#fb9f3a"
             ],
             [
              0.8888888888888888,
              "#fdca26"
             ],
             [
              1,
              "#f0f921"
             ]
            ],
            "type": "heatmap"
           }
          ],
          "heatmapgl": [
           {
            "colorbar": {
             "outlinewidth": 0,
             "ticks": ""
            },
            "colorscale": [
             [
              0,
              "#0d0887"
             ],
             [
              0.1111111111111111,
              "#46039f"
             ],
             [
              0.2222222222222222,
              "#7201a8"
             ],
             [
              0.3333333333333333,
              "#9c179e"
             ],
             [
              0.4444444444444444,
              "#bd3786"
             ],
             [
              0.5555555555555556,
              "#d8576b"
             ],
             [
              0.6666666666666666,
              "#ed7953"
             ],
             [
              0.7777777777777778,
              "#fb9f3a"
             ],
             [
              0.8888888888888888,
              "#fdca26"
             ],
             [
              1,
              "#f0f921"
             ]
            ],
            "type": "heatmapgl"
           }
          ],
          "histogram": [
           {
            "marker": {
             "pattern": {
              "fillmode": "overlay",
              "size": 10,
              "solidity": 0.2
             }
            },
            "type": "histogram"
           }
          ],
          "histogram2d": [
           {
            "colorbar": {
             "outlinewidth": 0,
             "ticks": ""
            },
            "colorscale": [
             [
              0,
              "#0d0887"
             ],
             [
              0.1111111111111111,
              "#46039f"
             ],
             [
              0.2222222222222222,
              "#7201a8"
             ],
             [
              0.3333333333333333,
              "#9c179e"
             ],
             [
              0.4444444444444444,
              "#bd3786"
             ],
             [
              0.5555555555555556,
              "#d8576b"
             ],
             [
              0.6666666666666666,
              "#ed7953"
             ],
             [
              0.7777777777777778,
              "#fb9f3a"
             ],
             [
              0.8888888888888888,
              "#fdca26"
             ],
             [
              1,
              "#f0f921"
             ]
            ],
            "type": "histogram2d"
           }
          ],
          "histogram2dcontour": [
           {
            "colorbar": {
             "outlinewidth": 0,
             "ticks": ""
            },
            "colorscale": [
             [
              0,
              "#0d0887"
             ],
             [
              0.1111111111111111,
              "#46039f"
             ],
             [
              0.2222222222222222,
              "#7201a8"
             ],
             [
              0.3333333333333333,
              "#9c179e"
             ],
             [
              0.4444444444444444,
              "#bd3786"
             ],
             [
              0.5555555555555556,
              "#d8576b"
             ],
             [
              0.6666666666666666,
              "#ed7953"
             ],
             [
              0.7777777777777778,
              "#fb9f3a"
             ],
             [
              0.8888888888888888,
              "#fdca26"
             ],
             [
              1,
              "#f0f921"
             ]
            ],
            "type": "histogram2dcontour"
           }
          ],
          "mesh3d": [
           {
            "colorbar": {
             "outlinewidth": 0,
             "ticks": ""
            },
            "type": "mesh3d"
           }
          ],
          "parcoords": [
           {
            "line": {
             "colorbar": {
              "outlinewidth": 0,
              "ticks": ""
             }
            },
            "type": "parcoords"
           }
          ],
          "pie": [
           {
            "automargin": true,
            "type": "pie"
           }
          ],
          "scatter": [
           {
            "fillpattern": {
             "fillmode": "overlay",
             "size": 10,
             "solidity": 0.2
            },
            "type": "scatter"
           }
          ],
          "scatter3d": [
           {
            "line": {
             "colorbar": {
              "outlinewidth": 0,
              "ticks": ""
             }
            },
            "marker": {
             "colorbar": {
              "outlinewidth": 0,
              "ticks": ""
             }
            },
            "type": "scatter3d"
           }
          ],
          "scattercarpet": [
           {
            "marker": {
             "colorbar": {
              "outlinewidth": 0,
              "ticks": ""
             }
            },
            "type": "scattercarpet"
           }
          ],
          "scattergeo": [
           {
            "marker": {
             "colorbar": {
              "outlinewidth": 0,
              "ticks": ""
             }
            },
            "type": "scattergeo"
           }
          ],
          "scattergl": [
           {
            "marker": {
             "colorbar": {
              "outlinewidth": 0,
              "ticks": ""
             }
            },
            "type": "scattergl"
           }
          ],
          "scattermapbox": [
           {
            "marker": {
             "colorbar": {
              "outlinewidth": 0,
              "ticks": ""
             }
            },
            "type": "scattermapbox"
           }
          ],
          "scatterpolar": [
           {
            "marker": {
             "colorbar": {
              "outlinewidth": 0,
              "ticks": ""
             }
            },
            "type": "scatterpolar"
           }
          ],
          "scatterpolargl": [
           {
            "marker": {
             "colorbar": {
              "outlinewidth": 0,
              "ticks": ""
             }
            },
            "type": "scatterpolargl"
           }
          ],
          "scatterternary": [
           {
            "marker": {
             "colorbar": {
              "outlinewidth": 0,
              "ticks": ""
             }
            },
            "type": "scatterternary"
           }
          ],
          "surface": [
           {
            "colorbar": {
             "outlinewidth": 0,
             "ticks": ""
            },
            "colorscale": [
             [
              0,
              "#0d0887"
             ],
             [
              0.1111111111111111,
              "#46039f"
             ],
             [
              0.2222222222222222,
              "#7201a8"
             ],
             [
              0.3333333333333333,
              "#9c179e"
             ],
             [
              0.4444444444444444,
              "#bd3786"
             ],
             [
              0.5555555555555556,
              "#d8576b"
             ],
             [
              0.6666666666666666,
              "#ed7953"
             ],
             [
              0.7777777777777778,
              "#fb9f3a"
             ],
             [
              0.8888888888888888,
              "#fdca26"
             ],
             [
              1,
              "#f0f921"
             ]
            ],
            "type": "surface"
           }
          ],
          "table": [
           {
            "cells": {
             "fill": {
              "color": "#EBF0F8"
             },
             "line": {
              "color": "white"
             }
            },
            "header": {
             "fill": {
              "color": "#C8D4E3"
             },
             "line": {
              "color": "white"
             }
            },
            "type": "table"
           }
          ]
         },
         "layout": {
          "annotationdefaults": {
           "arrowcolor": "#2a3f5f",
           "arrowhead": 0,
           "arrowwidth": 1
          },
          "autotypenumbers": "strict",
          "coloraxis": {
           "colorbar": {
            "outlinewidth": 0,
            "ticks": ""
           }
          },
          "colorscale": {
           "diverging": [
            [
             0,
             "#8e0152"
            ],
            [
             0.1,
             "#c51b7d"
            ],
            [
             0.2,
             "#de77ae"
            ],
            [
             0.3,
             "#f1b6da"
            ],
            [
             0.4,
             "#fde0ef"
            ],
            [
             0.5,
             "#f7f7f7"
            ],
            [
             0.6,
             "#e6f5d0"
            ],
            [
             0.7,
             "#b8e186"
            ],
            [
             0.8,
             "#7fbc41"
            ],
            [
             0.9,
             "#4d9221"
            ],
            [
             1,
             "#276419"
            ]
           ],
           "sequential": [
            [
             0,
             "#0d0887"
            ],
            [
             0.1111111111111111,
             "#46039f"
            ],
            [
             0.2222222222222222,
             "#7201a8"
            ],
            [
             0.3333333333333333,
             "#9c179e"
            ],
            [
             0.4444444444444444,
             "#bd3786"
            ],
            [
             0.5555555555555556,
             "#d8576b"
            ],
            [
             0.6666666666666666,
             "#ed7953"
            ],
            [
             0.7777777777777778,
             "#fb9f3a"
            ],
            [
             0.8888888888888888,
             "#fdca26"
            ],
            [
             1,
             "#f0f921"
            ]
           ],
           "sequentialminus": [
            [
             0,
             "#0d0887"
            ],
            [
             0.1111111111111111,
             "#46039f"
            ],
            [
             0.2222222222222222,
             "#7201a8"
            ],
            [
             0.3333333333333333,
             "#9c179e"
            ],
            [
             0.4444444444444444,
             "#bd3786"
            ],
            [
             0.5555555555555556,
             "#d8576b"
            ],
            [
             0.6666666666666666,
             "#ed7953"
            ],
            [
             0.7777777777777778,
             "#fb9f3a"
            ],
            [
             0.8888888888888888,
             "#fdca26"
            ],
            [
             1,
             "#f0f921"
            ]
           ]
          },
          "colorway": [
           "#636efa",
           "#EF553B",
           "#00cc96",
           "#ab63fa",
           "#FFA15A",
           "#19d3f3",
           "#FF6692",
           "#B6E880",
           "#FF97FF",
           "#FECB52"
          ],
          "font": {
           "color": "#2a3f5f"
          },
          "geo": {
           "bgcolor": "white",
           "lakecolor": "white",
           "landcolor": "#E5ECF6",
           "showlakes": true,
           "showland": true,
           "subunitcolor": "white"
          },
          "hoverlabel": {
           "align": "left"
          },
          "hovermode": "closest",
          "mapbox": {
           "style": "light"
          },
          "paper_bgcolor": "white",
          "plot_bgcolor": "#E5ECF6",
          "polar": {
           "angularaxis": {
            "gridcolor": "white",
            "linecolor": "white",
            "ticks": ""
           },
           "bgcolor": "#E5ECF6",
           "radialaxis": {
            "gridcolor": "white",
            "linecolor": "white",
            "ticks": ""
           }
          },
          "scene": {
           "xaxis": {
            "backgroundcolor": "#E5ECF6",
            "gridcolor": "white",
            "gridwidth": 2,
            "linecolor": "white",
            "showbackground": true,
            "ticks": "",
            "zerolinecolor": "white"
           },
           "yaxis": {
            "backgroundcolor": "#E5ECF6",
            "gridcolor": "white",
            "gridwidth": 2,
            "linecolor": "white",
            "showbackground": true,
            "ticks": "",
            "zerolinecolor": "white"
           },
           "zaxis": {
            "backgroundcolor": "#E5ECF6",
            "gridcolor": "white",
            "gridwidth": 2,
            "linecolor": "white",
            "showbackground": true,
            "ticks": "",
            "zerolinecolor": "white"
           }
          },
          "shapedefaults": {
           "line": {
            "color": "#2a3f5f"
           }
          },
          "ternary": {
           "aaxis": {
            "gridcolor": "white",
            "linecolor": "white",
            "ticks": ""
           },
           "baxis": {
            "gridcolor": "white",
            "linecolor": "white",
            "ticks": ""
           },
           "bgcolor": "#E5ECF6",
           "caxis": {
            "gridcolor": "white",
            "linecolor": "white",
            "ticks": ""
           }
          },
          "title": {
           "x": 0.05
          },
          "xaxis": {
           "automargin": true,
           "gridcolor": "white",
           "linecolor": "white",
           "ticks": "",
           "title": {
            "standoff": 15
           },
           "zerolinecolor": "white",
           "zerolinewidth": 2
          },
          "yaxis": {
           "automargin": true,
           "gridcolor": "white",
           "linecolor": "white",
           "ticks": "",
           "title": {
            "standoff": 15
           },
           "zerolinecolor": "white",
           "zerolinewidth": 2
          }
         }
        },
        "title": {
         "text": "Parallel Coordinate Plot"
        }
       }
      }
     },
     "metadata": {},
     "output_type": "display_data"
    }
   ],
   "source": [
    "fig.show()"
   ]
  },
  {
   "cell_type": "code",
   "execution_count": 44,
   "metadata": {},
   "outputs": [
    {
     "data": {
      "application/vnd.plotly.v1+json": {
       "config": {
        "plotlyServerURL": "https://plot.ly"
       },
       "data": [
        {
         "cliponaxis": false,
         "hovertemplate": [
          "boosting_type (CategoricalDistribution): 0.0<extra></extra>",
          "lambda_l2 (FloatDistribution): 1.1284358476796856e-08<extra></extra>",
          "n_estimators (IntDistribution): 0.0006056489878890361<extra></extra>",
          "bagging_fraction (FloatDistribution): 0.01639358197193788<extra></extra>",
          "bagging_freq (IntDistribution): 0.03288196624317381<extra></extra>",
          "min_child_samples (IntDistribution): 0.03294483063155574<extra></extra>",
          "lambda_l1 (FloatDistribution): 0.04918195872950982<extra></extra>",
          "max_bin (IntDistribution): 0.11475526867989987<extra></extra>",
          "num_leaves (IntDistribution): 0.11487100862927674<extra></extra>",
          "feature_fraction (FloatDistribution): 0.14770862489345693<extra></extra>",
          "learning_rate (FloatDistribution): 0.4906570999489418<extra></extra>"
         ],
         "name": "Objective Value",
         "orientation": "h",
         "text": [
          "<0.01",
          "<0.01",
          "<0.01",
          "0.02",
          "0.03",
          "0.03",
          "0.05",
          "0.11",
          "0.11",
          "0.15",
          "0.49"
         ],
         "textposition": "outside",
         "type": "bar",
         "x": [
          0,
          1.1284358476796856e-8,
          0.0006056489878890361,
          0.01639358197193788,
          0.03288196624317381,
          0.03294483063155574,
          0.04918195872950982,
          0.11475526867989987,
          0.11487100862927674,
          0.14770862489345693,
          0.4906570999489418
         ],
         "y": [
          "boosting_type",
          "lambda_l2",
          "n_estimators",
          "bagging_fraction",
          "bagging_freq",
          "min_child_samples",
          "lambda_l1",
          "max_bin",
          "num_leaves",
          "feature_fraction",
          "learning_rate"
         ]
        }
       ],
       "layout": {
        "template": {
         "data": {
          "bar": [
           {
            "error_x": {
             "color": "#2a3f5f"
            },
            "error_y": {
             "color": "#2a3f5f"
            },
            "marker": {
             "line": {
              "color": "#E5ECF6",
              "width": 0.5
             },
             "pattern": {
              "fillmode": "overlay",
              "size": 10,
              "solidity": 0.2
             }
            },
            "type": "bar"
           }
          ],
          "barpolar": [
           {
            "marker": {
             "line": {
              "color": "#E5ECF6",
              "width": 0.5
             },
             "pattern": {
              "fillmode": "overlay",
              "size": 10,
              "solidity": 0.2
             }
            },
            "type": "barpolar"
           }
          ],
          "carpet": [
           {
            "aaxis": {
             "endlinecolor": "#2a3f5f",
             "gridcolor": "white",
             "linecolor": "white",
             "minorgridcolor": "white",
             "startlinecolor": "#2a3f5f"
            },
            "baxis": {
             "endlinecolor": "#2a3f5f",
             "gridcolor": "white",
             "linecolor": "white",
             "minorgridcolor": "white",
             "startlinecolor": "#2a3f5f"
            },
            "type": "carpet"
           }
          ],
          "choropleth": [
           {
            "colorbar": {
             "outlinewidth": 0,
             "ticks": ""
            },
            "type": "choropleth"
           }
          ],
          "contour": [
           {
            "colorbar": {
             "outlinewidth": 0,
             "ticks": ""
            },
            "colorscale": [
             [
              0,
              "#0d0887"
             ],
             [
              0.1111111111111111,
              "#46039f"
             ],
             [
              0.2222222222222222,
              "#7201a8"
             ],
             [
              0.3333333333333333,
              "#9c179e"
             ],
             [
              0.4444444444444444,
              "#bd3786"
             ],
             [
              0.5555555555555556,
              "#d8576b"
             ],
             [
              0.6666666666666666,
              "#ed7953"
             ],
             [
              0.7777777777777778,
              "#fb9f3a"
             ],
             [
              0.8888888888888888,
              "#fdca26"
             ],
             [
              1,
              "#f0f921"
             ]
            ],
            "type": "contour"
           }
          ],
          "contourcarpet": [
           {
            "colorbar": {
             "outlinewidth": 0,
             "ticks": ""
            },
            "type": "contourcarpet"
           }
          ],
          "heatmap": [
           {
            "colorbar": {
             "outlinewidth": 0,
             "ticks": ""
            },
            "colorscale": [
             [
              0,
              "#0d0887"
             ],
             [
              0.1111111111111111,
              "#46039f"
             ],
             [
              0.2222222222222222,
              "#7201a8"
             ],
             [
              0.3333333333333333,
              "#9c179e"
             ],
             [
              0.4444444444444444,
              "#bd3786"
             ],
             [
              0.5555555555555556,
              "#d8576b"
             ],
             [
              0.6666666666666666,
              "#ed7953"
             ],
             [
              0.7777777777777778,
              "#fb9f3a"
             ],
             [
              0.8888888888888888,
              "#fdca26"
             ],
             [
              1,
              "#f0f921"
             ]
            ],
            "type": "heatmap"
           }
          ],
          "heatmapgl": [
           {
            "colorbar": {
             "outlinewidth": 0,
             "ticks": ""
            },
            "colorscale": [
             [
              0,
              "#0d0887"
             ],
             [
              0.1111111111111111,
              "#46039f"
             ],
             [
              0.2222222222222222,
              "#7201a8"
             ],
             [
              0.3333333333333333,
              "#9c179e"
             ],
             [
              0.4444444444444444,
              "#bd3786"
             ],
             [
              0.5555555555555556,
              "#d8576b"
             ],
             [
              0.6666666666666666,
              "#ed7953"
             ],
             [
              0.7777777777777778,
              "#fb9f3a"
             ],
             [
              0.8888888888888888,
              "#fdca26"
             ],
             [
              1,
              "#f0f921"
             ]
            ],
            "type": "heatmapgl"
           }
          ],
          "histogram": [
           {
            "marker": {
             "pattern": {
              "fillmode": "overlay",
              "size": 10,
              "solidity": 0.2
             }
            },
            "type": "histogram"
           }
          ],
          "histogram2d": [
           {
            "colorbar": {
             "outlinewidth": 0,
             "ticks": ""
            },
            "colorscale": [
             [
              0,
              "#0d0887"
             ],
             [
              0.1111111111111111,
              "#46039f"
             ],
             [
              0.2222222222222222,
              "#7201a8"
             ],
             [
              0.3333333333333333,
              "#9c179e"
             ],
             [
              0.4444444444444444,
              "#bd3786"
             ],
             [
              0.5555555555555556,
              "#d8576b"
             ],
             [
              0.6666666666666666,
              "#ed7953"
             ],
             [
              0.7777777777777778,
              "#fb9f3a"
             ],
             [
              0.8888888888888888,
              "#fdca26"
             ],
             [
              1,
              "#f0f921"
             ]
            ],
            "type": "histogram2d"
           }
          ],
          "histogram2dcontour": [
           {
            "colorbar": {
             "outlinewidth": 0,
             "ticks": ""
            },
            "colorscale": [
             [
              0,
              "#0d0887"
             ],
             [
              0.1111111111111111,
              "#46039f"
             ],
             [
              0.2222222222222222,
              "#7201a8"
             ],
             [
              0.3333333333333333,
              "#9c179e"
             ],
             [
              0.4444444444444444,
              "#bd3786"
             ],
             [
              0.5555555555555556,
              "#d8576b"
             ],
             [
              0.6666666666666666,
              "#ed7953"
             ],
             [
              0.7777777777777778,
              "#fb9f3a"
             ],
             [
              0.8888888888888888,
              "#fdca26"
             ],
             [
              1,
              "#f0f921"
             ]
            ],
            "type": "histogram2dcontour"
           }
          ],
          "mesh3d": [
           {
            "colorbar": {
             "outlinewidth": 0,
             "ticks": ""
            },
            "type": "mesh3d"
           }
          ],
          "parcoords": [
           {
            "line": {
             "colorbar": {
              "outlinewidth": 0,
              "ticks": ""
             }
            },
            "type": "parcoords"
           }
          ],
          "pie": [
           {
            "automargin": true,
            "type": "pie"
           }
          ],
          "scatter": [
           {
            "fillpattern": {
             "fillmode": "overlay",
             "size": 10,
             "solidity": 0.2
            },
            "type": "scatter"
           }
          ],
          "scatter3d": [
           {
            "line": {
             "colorbar": {
              "outlinewidth": 0,
              "ticks": ""
             }
            },
            "marker": {
             "colorbar": {
              "outlinewidth": 0,
              "ticks": ""
             }
            },
            "type": "scatter3d"
           }
          ],
          "scattercarpet": [
           {
            "marker": {
             "colorbar": {
              "outlinewidth": 0,
              "ticks": ""
             }
            },
            "type": "scattercarpet"
           }
          ],
          "scattergeo": [
           {
            "marker": {
             "colorbar": {
              "outlinewidth": 0,
              "ticks": ""
             }
            },
            "type": "scattergeo"
           }
          ],
          "scattergl": [
           {
            "marker": {
             "colorbar": {
              "outlinewidth": 0,
              "ticks": ""
             }
            },
            "type": "scattergl"
           }
          ],
          "scattermapbox": [
           {
            "marker": {
             "colorbar": {
              "outlinewidth": 0,
              "ticks": ""
             }
            },
            "type": "scattermapbox"
           }
          ],
          "scatterpolar": [
           {
            "marker": {
             "colorbar": {
              "outlinewidth": 0,
              "ticks": ""
             }
            },
            "type": "scatterpolar"
           }
          ],
          "scatterpolargl": [
           {
            "marker": {
             "colorbar": {
              "outlinewidth": 0,
              "ticks": ""
             }
            },
            "type": "scatterpolargl"
           }
          ],
          "scatterternary": [
           {
            "marker": {
             "colorbar": {
              "outlinewidth": 0,
              "ticks": ""
             }
            },
            "type": "scatterternary"
           }
          ],
          "surface": [
           {
            "colorbar": {
             "outlinewidth": 0,
             "ticks": ""
            },
            "colorscale": [
             [
              0,
              "#0d0887"
             ],
             [
              0.1111111111111111,
              "#46039f"
             ],
             [
              0.2222222222222222,
              "#7201a8"
             ],
             [
              0.3333333333333333,
              "#9c179e"
             ],
             [
              0.4444444444444444,
              "#bd3786"
             ],
             [
              0.5555555555555556,
              "#d8576b"
             ],
             [
              0.6666666666666666,
              "#ed7953"
             ],
             [
              0.7777777777777778,
              "#fb9f3a"
             ],
             [
              0.8888888888888888,
              "#fdca26"
             ],
             [
              1,
              "#f0f921"
             ]
            ],
            "type": "surface"
           }
          ],
          "table": [
           {
            "cells": {
             "fill": {
              "color": "#EBF0F8"
             },
             "line": {
              "color": "white"
             }
            },
            "header": {
             "fill": {
              "color": "#C8D4E3"
             },
             "line": {
              "color": "white"
             }
            },
            "type": "table"
           }
          ]
         },
         "layout": {
          "annotationdefaults": {
           "arrowcolor": "#2a3f5f",
           "arrowhead": 0,
           "arrowwidth": 1
          },
          "autotypenumbers": "strict",
          "coloraxis": {
           "colorbar": {
            "outlinewidth": 0,
            "ticks": ""
           }
          },
          "colorscale": {
           "diverging": [
            [
             0,
             "#8e0152"
            ],
            [
             0.1,
             "#c51b7d"
            ],
            [
             0.2,
             "#de77ae"
            ],
            [
             0.3,
             "#f1b6da"
            ],
            [
             0.4,
             "#fde0ef"
            ],
            [
             0.5,
             "#f7f7f7"
            ],
            [
             0.6,
             "#e6f5d0"
            ],
            [
             0.7,
             "#b8e186"
            ],
            [
             0.8,
             "#7fbc41"
            ],
            [
             0.9,
             "#4d9221"
            ],
            [
             1,
             "#276419"
            ]
           ],
           "sequential": [
            [
             0,
             "#0d0887"
            ],
            [
             0.1111111111111111,
             "#46039f"
            ],
            [
             0.2222222222222222,
             "#7201a8"
            ],
            [
             0.3333333333333333,
             "#9c179e"
            ],
            [
             0.4444444444444444,
             "#bd3786"
            ],
            [
             0.5555555555555556,
             "#d8576b"
            ],
            [
             0.6666666666666666,
             "#ed7953"
            ],
            [
             0.7777777777777778,
             "#fb9f3a"
            ],
            [
             0.8888888888888888,
             "#fdca26"
            ],
            [
             1,
             "#f0f921"
            ]
           ],
           "sequentialminus": [
            [
             0,
             "#0d0887"
            ],
            [
             0.1111111111111111,
             "#46039f"
            ],
            [
             0.2222222222222222,
             "#7201a8"
            ],
            [
             0.3333333333333333,
             "#9c179e"
            ],
            [
             0.4444444444444444,
             "#bd3786"
            ],
            [
             0.5555555555555556,
             "#d8576b"
            ],
            [
             0.6666666666666666,
             "#ed7953"
            ],
            [
             0.7777777777777778,
             "#fb9f3a"
            ],
            [
             0.8888888888888888,
             "#fdca26"
            ],
            [
             1,
             "#f0f921"
            ]
           ]
          },
          "colorway": [
           "#636efa",
           "#EF553B",
           "#00cc96",
           "#ab63fa",
           "#FFA15A",
           "#19d3f3",
           "#FF6692",
           "#B6E880",
           "#FF97FF",
           "#FECB52"
          ],
          "font": {
           "color": "#2a3f5f"
          },
          "geo": {
           "bgcolor": "white",
           "lakecolor": "white",
           "landcolor": "#E5ECF6",
           "showlakes": true,
           "showland": true,
           "subunitcolor": "white"
          },
          "hoverlabel": {
           "align": "left"
          },
          "hovermode": "closest",
          "mapbox": {
           "style": "light"
          },
          "paper_bgcolor": "white",
          "plot_bgcolor": "#E5ECF6",
          "polar": {
           "angularaxis": {
            "gridcolor": "white",
            "linecolor": "white",
            "ticks": ""
           },
           "bgcolor": "#E5ECF6",
           "radialaxis": {
            "gridcolor": "white",
            "linecolor": "white",
            "ticks": ""
           }
          },
          "scene": {
           "xaxis": {
            "backgroundcolor": "#E5ECF6",
            "gridcolor": "white",
            "gridwidth": 2,
            "linecolor": "white",
            "showbackground": true,
            "ticks": "",
            "zerolinecolor": "white"
           },
           "yaxis": {
            "backgroundcolor": "#E5ECF6",
            "gridcolor": "white",
            "gridwidth": 2,
            "linecolor": "white",
            "showbackground": true,
            "ticks": "",
            "zerolinecolor": "white"
           },
           "zaxis": {
            "backgroundcolor": "#E5ECF6",
            "gridcolor": "white",
            "gridwidth": 2,
            "linecolor": "white",
            "showbackground": true,
            "ticks": "",
            "zerolinecolor": "white"
           }
          },
          "shapedefaults": {
           "line": {
            "color": "#2a3f5f"
           }
          },
          "ternary": {
           "aaxis": {
            "gridcolor": "white",
            "linecolor": "white",
            "ticks": ""
           },
           "baxis": {
            "gridcolor": "white",
            "linecolor": "white",
            "ticks": ""
           },
           "bgcolor": "#E5ECF6",
           "caxis": {
            "gridcolor": "white",
            "linecolor": "white",
            "ticks": ""
           }
          },
          "title": {
           "x": 0.05
          },
          "xaxis": {
           "automargin": true,
           "gridcolor": "white",
           "linecolor": "white",
           "ticks": "",
           "title": {
            "standoff": 15
           },
           "zerolinecolor": "white",
           "zerolinewidth": 2
          },
          "yaxis": {
           "automargin": true,
           "gridcolor": "white",
           "linecolor": "white",
           "ticks": "",
           "title": {
            "standoff": 15
           },
           "zerolinecolor": "white",
           "zerolinewidth": 2
          }
         }
        },
        "title": {
         "text": "Hyperparameter Importances"
        },
        "xaxis": {
         "title": {
          "text": "Hyperparameter Importance"
         }
        },
        "yaxis": {
         "title": {
          "text": "Hyperparameter"
         }
        }
       }
      }
     },
     "metadata": {},
     "output_type": "display_data"
    }
   ],
   "source": [
    "# Plus rapide en html\n",
    "im_path = os.path.join(im_dir, \"single_parallel_coordinates.html\")\n",
    "fig.write_html(im_path)\n",
    "fig.show()"
   ]
  },
  {
   "cell_type": "code",
   "execution_count": 78,
   "metadata": {
    "ExecuteTime": {
     "end_time": "2023-04-27T12:44:59.987744Z",
     "start_time": "2023-04-27T12:44:57.634931Z"
    },
    "collapsed": false
   },
   "outputs": [
    {
     "data": {
      "application/vnd.plotly.v1+json": {
       "config": {
        "plotlyServerURL": "https://plot.ly"
       },
       "data": [
        {
         "cliponaxis": false,
         "hovertemplate": [
          "lambda_l2 (FloatDistribution): 0.00029711125426770864<extra></extra>",
          "boosting_type (CategoricalDistribution): 0.0006904020889898302<extra></extra>",
          "bagging_fraction (FloatDistribution): 0.008221532264097471<extra></extra>",
          "n_estimators (IntDistribution): 0.01646130539032057<extra></extra>",
          "max_bin (IntDistribution): 0.02036604589641953<extra></extra>",
          "num_leaves (IntDistribution): 0.02667477929639801<extra></extra>",
          "min_child_samples (IntDistribution): 0.031078573055325073<extra></extra>",
          "feature_fraction (FloatDistribution): 0.03711879247964429<extra></extra>",
          "bagging_freq (IntDistribution): 0.0580117715249724<extra></extra>",
          "lambda_l1 (FloatDistribution): 0.19512041675465164<extra></extra>",
          "learning_rate (FloatDistribution): 0.6059592699949132<extra></extra>"
         ],
         "name": "Objective Value",
         "orientation": "h",
         "text": [
          "<0.01",
          "<0.01",
          "<0.01",
          "0.02",
          "0.02",
          "0.03",
          "0.03",
          "0.04",
          "0.06",
          "0.20",
          "0.61"
         ],
         "textposition": "outside",
         "type": "bar",
         "x": [
          0.00029711125426770864,
          0.0006904020889898302,
          0.008221532264097471,
          0.01646130539032057,
          0.02036604589641953,
          0.02667477929639801,
          0.031078573055325073,
          0.03711879247964429,
          0.0580117715249724,
          0.19512041675465164,
          0.6059592699949132
         ],
         "y": [
          "lambda_l2",
          "boosting_type",
          "bagging_fraction",
          "n_estimators",
          "max_bin",
          "num_leaves",
          "min_child_samples",
          "feature_fraction",
          "bagging_freq",
          "lambda_l1",
          "learning_rate"
         ]
        }
       ],
       "layout": {
        "template": {
         "data": {
          "bar": [
           {
            "error_x": {
             "color": "#2a3f5f"
            },
            "error_y": {
             "color": "#2a3f5f"
            },
            "marker": {
             "line": {
              "color": "#E5ECF6",
              "width": 0.5
             },
             "pattern": {
              "fillmode": "overlay",
              "size": 10,
              "solidity": 0.2
             }
            },
            "type": "bar"
           }
          ],
          "barpolar": [
           {
            "marker": {
             "line": {
              "color": "#E5ECF6",
              "width": 0.5
             },
             "pattern": {
              "fillmode": "overlay",
              "size": 10,
              "solidity": 0.2
             }
            },
            "type": "barpolar"
           }
          ],
          "carpet": [
           {
            "aaxis": {
             "endlinecolor": "#2a3f5f",
             "gridcolor": "white",
             "linecolor": "white",
             "minorgridcolor": "white",
             "startlinecolor": "#2a3f5f"
            },
            "baxis": {
             "endlinecolor": "#2a3f5f",
             "gridcolor": "white",
             "linecolor": "white",
             "minorgridcolor": "white",
             "startlinecolor": "#2a3f5f"
            },
            "type": "carpet"
           }
          ],
          "choropleth": [
           {
            "colorbar": {
             "outlinewidth": 0,
             "ticks": ""
            },
            "type": "choropleth"
           }
          ],
          "contour": [
           {
            "colorbar": {
             "outlinewidth": 0,
             "ticks": ""
            },
            "colorscale": [
             [
              0,
              "#0d0887"
             ],
             [
              0.1111111111111111,
              "#46039f"
             ],
             [
              0.2222222222222222,
              "#7201a8"
             ],
             [
              0.3333333333333333,
              "#9c179e"
             ],
             [
              0.4444444444444444,
              "#bd3786"
             ],
             [
              0.5555555555555556,
              "#d8576b"
             ],
             [
              0.6666666666666666,
              "#ed7953"
             ],
             [
              0.7777777777777778,
              "#fb9f3a"
             ],
             [
              0.8888888888888888,
              "#fdca26"
             ],
             [
              1,
              "#f0f921"
             ]
            ],
            "type": "contour"
           }
          ],
          "contourcarpet": [
           {
            "colorbar": {
             "outlinewidth": 0,
             "ticks": ""
            },
            "type": "contourcarpet"
           }
          ],
          "heatmap": [
           {
            "colorbar": {
             "outlinewidth": 0,
             "ticks": ""
            },
            "colorscale": [
             [
              0,
              "#0d0887"
             ],
             [
              0.1111111111111111,
              "#46039f"
             ],
             [
              0.2222222222222222,
              "#7201a8"
             ],
             [
              0.3333333333333333,
              "#9c179e"
             ],
             [
              0.4444444444444444,
              "#bd3786"
             ],
             [
              0.5555555555555556,
              "#d8576b"
             ],
             [
              0.6666666666666666,
              "#ed7953"
             ],
             [
              0.7777777777777778,
              "#fb9f3a"
             ],
             [
              0.8888888888888888,
              "#fdca26"
             ],
             [
              1,
              "#f0f921"
             ]
            ],
            "type": "heatmap"
           }
          ],
          "heatmapgl": [
           {
            "colorbar": {
             "outlinewidth": 0,
             "ticks": ""
            },
            "colorscale": [
             [
              0,
              "#0d0887"
             ],
             [
              0.1111111111111111,
              "#46039f"
             ],
             [
              0.2222222222222222,
              "#7201a8"
             ],
             [
              0.3333333333333333,
              "#9c179e"
             ],
             [
              0.4444444444444444,
              "#bd3786"
             ],
             [
              0.5555555555555556,
              "#d8576b"
             ],
             [
              0.6666666666666666,
              "#ed7953"
             ],
             [
              0.7777777777777778,
              "#fb9f3a"
             ],
             [
              0.8888888888888888,
              "#fdca26"
             ],
             [
              1,
              "#f0f921"
             ]
            ],
            "type": "heatmapgl"
           }
          ],
          "histogram": [
           {
            "marker": {
             "pattern": {
              "fillmode": "overlay",
              "size": 10,
              "solidity": 0.2
             }
            },
            "type": "histogram"
           }
          ],
          "histogram2d": [
           {
            "colorbar": {
             "outlinewidth": 0,
             "ticks": ""
            },
            "colorscale": [
             [
              0,
              "#0d0887"
             ],
             [
              0.1111111111111111,
              "#46039f"
             ],
             [
              0.2222222222222222,
              "#7201a8"
             ],
             [
              0.3333333333333333,
              "#9c179e"
             ],
             [
              0.4444444444444444,
              "#bd3786"
             ],
             [
              0.5555555555555556,
              "#d8576b"
             ],
             [
              0.6666666666666666,
              "#ed7953"
             ],
             [
              0.7777777777777778,
              "#fb9f3a"
             ],
             [
              0.8888888888888888,
              "#fdca26"
             ],
             [
              1,
              "#f0f921"
             ]
            ],
            "type": "histogram2d"
           }
          ],
          "histogram2dcontour": [
           {
            "colorbar": {
             "outlinewidth": 0,
             "ticks": ""
            },
            "colorscale": [
             [
              0,
              "#0d0887"
             ],
             [
              0.1111111111111111,
              "#46039f"
             ],
             [
              0.2222222222222222,
              "#7201a8"
             ],
             [
              0.3333333333333333,
              "#9c179e"
             ],
             [
              0.4444444444444444,
              "#bd3786"
             ],
             [
              0.5555555555555556,
              "#d8576b"
             ],
             [
              0.6666666666666666,
              "#ed7953"
             ],
             [
              0.7777777777777778,
              "#fb9f3a"
             ],
             [
              0.8888888888888888,
              "#fdca26"
             ],
             [
              1,
              "#f0f921"
             ]
            ],
            "type": "histogram2dcontour"
           }
          ],
          "mesh3d": [
           {
            "colorbar": {
             "outlinewidth": 0,
             "ticks": ""
            },
            "type": "mesh3d"
           }
          ],
          "parcoords": [
           {
            "line": {
             "colorbar": {
              "outlinewidth": 0,
              "ticks": ""
             }
            },
            "type": "parcoords"
           }
          ],
          "pie": [
           {
            "automargin": true,
            "type": "pie"
           }
          ],
          "scatter": [
           {
            "fillpattern": {
             "fillmode": "overlay",
             "size": 10,
             "solidity": 0.2
            },
            "type": "scatter"
           }
          ],
          "scatter3d": [
           {
            "line": {
             "colorbar": {
              "outlinewidth": 0,
              "ticks": ""
             }
            },
            "marker": {
             "colorbar": {
              "outlinewidth": 0,
              "ticks": ""
             }
            },
            "type": "scatter3d"
           }
          ],
          "scattercarpet": [
           {
            "marker": {
             "colorbar": {
              "outlinewidth": 0,
              "ticks": ""
             }
            },
            "type": "scattercarpet"
           }
          ],
          "scattergeo": [
           {
            "marker": {
             "colorbar": {
              "outlinewidth": 0,
              "ticks": ""
             }
            },
            "type": "scattergeo"
           }
          ],
          "scattergl": [
           {
            "marker": {
             "colorbar": {
              "outlinewidth": 0,
              "ticks": ""
             }
            },
            "type": "scattergl"
           }
          ],
          "scattermapbox": [
           {
            "marker": {
             "colorbar": {
              "outlinewidth": 0,
              "ticks": ""
             }
            },
            "type": "scattermapbox"
           }
          ],
          "scatterpolar": [
           {
            "marker": {
             "colorbar": {
              "outlinewidth": 0,
              "ticks": ""
             }
            },
            "type": "scatterpolar"
           }
          ],
          "scatterpolargl": [
           {
            "marker": {
             "colorbar": {
              "outlinewidth": 0,
              "ticks": ""
             }
            },
            "type": "scatterpolargl"
           }
          ],
          "scatterternary": [
           {
            "marker": {
             "colorbar": {
              "outlinewidth": 0,
              "ticks": ""
             }
            },
            "type": "scatterternary"
           }
          ],
          "surface": [
           {
            "colorbar": {
             "outlinewidth": 0,
             "ticks": ""
            },
            "colorscale": [
             [
              0,
              "#0d0887"
             ],
             [
              0.1111111111111111,
              "#46039f"
             ],
             [
              0.2222222222222222,
              "#7201a8"
             ],
             [
              0.3333333333333333,
              "#9c179e"
             ],
             [
              0.4444444444444444,
              "#bd3786"
             ],
             [
              0.5555555555555556,
              "#d8576b"
             ],
             [
              0.6666666666666666,
              "#ed7953"
             ],
             [
              0.7777777777777778,
              "#fb9f3a"
             ],
             [
              0.8888888888888888,
              "#fdca26"
             ],
             [
              1,
              "#f0f921"
             ]
            ],
            "type": "surface"
           }
          ],
          "table": [
           {
            "cells": {
             "fill": {
              "color": "#EBF0F8"
             },
             "line": {
              "color": "white"
             }
            },
            "header": {
             "fill": {
              "color": "#C8D4E3"
             },
             "line": {
              "color": "white"
             }
            },
            "type": "table"
           }
          ]
         },
         "layout": {
          "annotationdefaults": {
           "arrowcolor": "#2a3f5f",
           "arrowhead": 0,
           "arrowwidth": 1
          },
          "autotypenumbers": "strict",
          "coloraxis": {
           "colorbar": {
            "outlinewidth": 0,
            "ticks": ""
           }
          },
          "colorscale": {
           "diverging": [
            [
             0,
             "#8e0152"
            ],
            [
             0.1,
             "#c51b7d"
            ],
            [
             0.2,
             "#de77ae"
            ],
            [
             0.3,
             "#f1b6da"
            ],
            [
             0.4,
             "#fde0ef"
            ],
            [
             0.5,
             "#f7f7f7"
            ],
            [
             0.6,
             "#e6f5d0"
            ],
            [
             0.7,
             "#b8e186"
            ],
            [
             0.8,
             "#7fbc41"
            ],
            [
             0.9,
             "#4d9221"
            ],
            [
             1,
             "#276419"
            ]
           ],
           "sequential": [
            [
             0,
             "#0d0887"
            ],
            [
             0.1111111111111111,
             "#46039f"
            ],
            [
             0.2222222222222222,
             "#7201a8"
            ],
            [
             0.3333333333333333,
             "#9c179e"
            ],
            [
             0.4444444444444444,
             "#bd3786"
            ],
            [
             0.5555555555555556,
             "#d8576b"
            ],
            [
             0.6666666666666666,
             "#ed7953"
            ],
            [
             0.7777777777777778,
             "#fb9f3a"
            ],
            [
             0.8888888888888888,
             "#fdca26"
            ],
            [
             1,
             "#f0f921"
            ]
           ],
           "sequentialminus": [
            [
             0,
             "#0d0887"
            ],
            [
             0.1111111111111111,
             "#46039f"
            ],
            [
             0.2222222222222222,
             "#7201a8"
            ],
            [
             0.3333333333333333,
             "#9c179e"
            ],
            [
             0.4444444444444444,
             "#bd3786"
            ],
            [
             0.5555555555555556,
             "#d8576b"
            ],
            [
             0.6666666666666666,
             "#ed7953"
            ],
            [
             0.7777777777777778,
             "#fb9f3a"
            ],
            [
             0.8888888888888888,
             "#fdca26"
            ],
            [
             1,
             "#f0f921"
            ]
           ]
          },
          "colorway": [
           "#636efa",
           "#EF553B",
           "#00cc96",
           "#ab63fa",
           "#FFA15A",
           "#19d3f3",
           "#FF6692",
           "#B6E880",
           "#FF97FF",
           "#FECB52"
          ],
          "font": {
           "color": "#2a3f5f"
          },
          "geo": {
           "bgcolor": "white",
           "lakecolor": "white",
           "landcolor": "#E5ECF6",
           "showlakes": true,
           "showland": true,
           "subunitcolor": "white"
          },
          "hoverlabel": {
           "align": "left"
          },
          "hovermode": "closest",
          "mapbox": {
           "style": "light"
          },
          "paper_bgcolor": "white",
          "plot_bgcolor": "#E5ECF6",
          "polar": {
           "angularaxis": {
            "gridcolor": "white",
            "linecolor": "white",
            "ticks": ""
           },
           "bgcolor": "#E5ECF6",
           "radialaxis": {
            "gridcolor": "white",
            "linecolor": "white",
            "ticks": ""
           }
          },
          "scene": {
           "xaxis": {
            "backgroundcolor": "#E5ECF6",
            "gridcolor": "white",
            "gridwidth": 2,
            "linecolor": "white",
            "showbackground": true,
            "ticks": "",
            "zerolinecolor": "white"
           },
           "yaxis": {
            "backgroundcolor": "#E5ECF6",
            "gridcolor": "white",
            "gridwidth": 2,
            "linecolor": "white",
            "showbackground": true,
            "ticks": "",
            "zerolinecolor": "white"
           },
           "zaxis": {
            "backgroundcolor": "#E5ECF6",
            "gridcolor": "white",
            "gridwidth": 2,
            "linecolor": "white",
            "showbackground": true,
            "ticks": "",
            "zerolinecolor": "white"
           }
          },
          "shapedefaults": {
           "line": {
            "color": "#2a3f5f"
           }
          },
          "ternary": {
           "aaxis": {
            "gridcolor": "white",
            "linecolor": "white",
            "ticks": ""
           },
           "baxis": {
            "gridcolor": "white",
            "linecolor": "white",
            "ticks": ""
           },
           "bgcolor": "#E5ECF6",
           "caxis": {
            "gridcolor": "white",
            "linecolor": "white",
            "ticks": ""
           }
          },
          "title": {
           "x": 0.05
          },
          "xaxis": {
           "automargin": true,
           "gridcolor": "white",
           "linecolor": "white",
           "ticks": "",
           "title": {
            "standoff": 15
           },
           "zerolinecolor": "white",
           "zerolinewidth": 2
          },
          "yaxis": {
           "automargin": true,
           "gridcolor": "white",
           "linecolor": "white",
           "ticks": "",
           "title": {
            "standoff": 15
           },
           "zerolinecolor": "white",
           "zerolinewidth": 2
          }
         }
        },
        "title": {
         "text": "Hyperparameter Importances"
        },
        "xaxis": {
         "title": {
          "text": "Hyperparameter Importance"
         }
        },
        "yaxis": {
         "title": {
          "text": "Hyperparameter"
         }
        }
       }
      }
     },
     "metadata": {},
     "output_type": "display_data"
    }
   ],
   "source": [
    "fig = optuna.visualization.plot_param_importances(study)\n",
    "fig.write_image(file=os.path.join(im_dir, \"single_hyperparam_importance.png\"), format=\"png\", scale=6)\n",
    "fig.show()"
   ]
  },
  {
   "cell_type": "markdown",
   "metadata": {
    "collapsed": false
   },
   "source": [
    "## Multi-objective optimization"
   ]
  },
  {
   "cell_type": "code",
   "execution_count": 22,
   "metadata": {
    "ExecuteTime": {
     "end_time": "2023-04-27T12:47:34.914428Z",
     "start_time": "2023-04-27T12:47:34.907420Z"
    },
    "collapsed": false
   },
   "outputs": [],
   "source": [
    "def moo_objective(trial):\n",
    "    learning_rate = trial.suggest_float(\"learning_rate\", 0.0001, 0.5, log=True),\n",
    "\n",
    "    model = lgb.LGBMClassifier(\n",
    "        force_row_wise=True,\n",
    "        boosting_type='gbdt',\n",
    "        n_estimators=200,\n",
    "        lambda_l1=3.298803078077973e-07,\n",
    "        lambda_l2=8.938532783741386e-07,\n",
    "        num_leaves=6,\n",
    "        feature_fraction=0.5133218336120866,\n",
    "        bagging_fraction=0.9660809666082303,\n",
    "        bagging_freq=7,\n",
    "        min_child_samples=91,\n",
    "        learning_rate=learning_rate,\n",
    "        max_bin=320,\n",
    "        verbose=-1,\n",
    "    )\n",
    "    scores = cross_val_score(model, X, y, scoring=\"f1_macro\")\n",
    "    return learning_rate[0], scores.mean()"
   ]
  },
  {
   "cell_type": "code",
   "execution_count": 23,
   "metadata": {
    "ExecuteTime": {
     "end_time": "2023-04-27T12:48:45.814205Z",
     "start_time": "2023-04-27T12:47:35.162158Z"
    },
    "collapsed": false
   },
   "outputs": [
    {
     "name": "stderr",
     "output_type": "stream",
     "text": [
      "\u001b[32m[I 2023-04-27 10:47:35,501]\u001b[0m A new study created in memory with name: no-name-eb122531-f2ee-4cb5-92d1-8efba6a28eef\u001b[0m\n",
      "\u001b[32m[I 2023-04-27 10:47:36,221]\u001b[0m Trial 0 finished with values: [0.018276625572235056, 0.7229728382357858] and parameters: {'learning_rate': 0.018276625572235056}. \u001b[0m\n",
      "\u001b[32m[I 2023-04-27 10:47:36,922]\u001b[0m Trial 1 finished with values: [0.012281350875017864, 0.713129498994182] and parameters: {'learning_rate': 0.012281350875017864}. \u001b[0m\n",
      "\u001b[32m[I 2023-04-27 10:47:37,601]\u001b[0m Trial 2 finished with values: [0.3179931543219117, 0.7181352358216049] and parameters: {'learning_rate': 0.3179931543219117}. \u001b[0m\n",
      "\u001b[32m[I 2023-04-27 10:47:38,317]\u001b[0m Trial 3 finished with values: [0.3317048028124761, 0.7182462105095208] and parameters: {'learning_rate': 0.3317048028124761}. \u001b[0m\n",
      "\u001b[32m[I 2023-04-27 10:47:39,042]\u001b[0m Trial 4 finished with values: [0.010097499163932589, 0.689595604293249] and parameters: {'learning_rate': 0.010097499163932589}. \u001b[0m\n",
      "\u001b[32m[I 2023-04-27 10:47:39,716]\u001b[0m Trial 5 finished with values: [0.0010284892903758126, 0.4235082247366586] and parameters: {'learning_rate': 0.0010284892903758126}. \u001b[0m\n",
      "\u001b[32m[I 2023-04-27 10:47:40,423]\u001b[0m Trial 6 finished with values: [0.0008073623310050534, 0.4235082247366586] and parameters: {'learning_rate': 0.0008073623310050534}. \u001b[0m\n",
      "\u001b[32m[I 2023-04-27 10:47:41,147]\u001b[0m Trial 7 finished with values: [0.009446892389275133, 0.6841554205738356] and parameters: {'learning_rate': 0.009446892389275133}. \u001b[0m\n",
      "\u001b[32m[I 2023-04-27 10:47:41,994]\u001b[0m Trial 8 finished with values: [0.042129982546996285, 0.7318679125094985] and parameters: {'learning_rate': 0.042129982546996285}. \u001b[0m\n",
      "\u001b[32m[I 2023-04-27 10:47:42,733]\u001b[0m Trial 9 finished with values: [0.006234336282154794, 0.6372047388051083] and parameters: {'learning_rate': 0.006234336282154794}. \u001b[0m\n",
      "\u001b[32m[I 2023-04-27 10:47:43,412]\u001b[0m Trial 10 finished with values: [0.0014213907266344855, 0.4235082247366586] and parameters: {'learning_rate': 0.0014213907266344855}. \u001b[0m\n",
      "\u001b[32m[I 2023-04-27 10:47:44,069]\u001b[0m Trial 11 finished with values: [0.0074818711669891215, 0.6643619268828908] and parameters: {'learning_rate': 0.0074818711669891215}. \u001b[0m\n",
      "\u001b[32m[I 2023-04-27 10:47:44,798]\u001b[0m Trial 12 finished with values: [0.1148404311838305, 0.7321994102159477] and parameters: {'learning_rate': 0.1148404311838305}. \u001b[0m\n",
      "\u001b[32m[I 2023-04-27 10:47:45,481]\u001b[0m Trial 13 finished with values: [0.0012664149179400209, 0.4235082247366586] and parameters: {'learning_rate': 0.0012664149179400209}. \u001b[0m\n",
      "\u001b[32m[I 2023-04-27 10:47:46,223]\u001b[0m Trial 14 finished with values: [0.05307222954482612, 0.7336139976808754] and parameters: {'learning_rate': 0.05307222954482612}. \u001b[0m\n",
      "\u001b[32m[I 2023-04-27 10:47:46,949]\u001b[0m Trial 15 finished with values: [0.01538041330688695, 0.7173796023919852] and parameters: {'learning_rate': 0.01538041330688695}. \u001b[0m\n",
      "\u001b[32m[I 2023-04-27 10:47:47,724]\u001b[0m Trial 16 finished with values: [0.018396986660930648, 0.7227368738811438] and parameters: {'learning_rate': 0.018396986660930648}. \u001b[0m\n",
      "\u001b[32m[I 2023-04-27 10:47:48,451]\u001b[0m Trial 17 finished with values: [0.0030415201353781317, 0.4235082247366586] and parameters: {'learning_rate': 0.0030415201353781317}. \u001b[0m\n",
      "\u001b[32m[I 2023-04-27 10:47:49,134]\u001b[0m Trial 18 finished with values: [0.34679130964813293, 0.7165372792236238] and parameters: {'learning_rate': 0.34679130964813293}. \u001b[0m\n",
      "\u001b[32m[I 2023-04-27 10:47:49,814]\u001b[0m Trial 19 finished with values: [0.0016185106184141472, 0.4235082247366586] and parameters: {'learning_rate': 0.0016185106184141472}. \u001b[0m\n",
      "\u001b[32m[I 2023-04-27 10:47:50,473]\u001b[0m Trial 20 finished with values: [0.09977031400739048, 0.7302018596960369] and parameters: {'learning_rate': 0.09977031400739048}. \u001b[0m\n",
      "\u001b[32m[I 2023-04-27 10:47:51,155]\u001b[0m Trial 21 finished with values: [0.00015692458115144144, 0.4235082247366586] and parameters: {'learning_rate': 0.00015692458115144144}. \u001b[0m\n",
      "\u001b[32m[I 2023-04-27 10:47:51,845]\u001b[0m Trial 22 finished with values: [0.0014637099340279343, 0.4235082247366586] and parameters: {'learning_rate': 0.0014637099340279343}. \u001b[0m\n",
      "\u001b[32m[I 2023-04-27 10:47:52,522]\u001b[0m Trial 23 finished with values: [0.237542460048024, 0.7216310177763523] and parameters: {'learning_rate': 0.237542460048024}. \u001b[0m\n",
      "\u001b[32m[I 2023-04-27 10:47:53,209]\u001b[0m Trial 24 finished with values: [0.24410089728809634, 0.7254004209977449] and parameters: {'learning_rate': 0.24410089728809634}. \u001b[0m\n",
      "\u001b[32m[I 2023-04-27 10:47:53,930]\u001b[0m Trial 25 finished with values: [0.039216586476540555, 0.7301579035907364] and parameters: {'learning_rate': 0.039216586476540555}. \u001b[0m\n",
      "\u001b[32m[I 2023-04-27 10:47:54,668]\u001b[0m Trial 26 finished with values: [0.04413193652148863, 0.7292176187667853] and parameters: {'learning_rate': 0.04413193652148863}. \u001b[0m\n",
      "\u001b[32m[I 2023-04-27 10:47:55,334]\u001b[0m Trial 27 finished with values: [0.12844461011742844, 0.7321027124572879] and parameters: {'learning_rate': 0.12844461011742844}. \u001b[0m\n",
      "\u001b[32m[I 2023-04-27 10:47:56,032]\u001b[0m Trial 28 finished with values: [0.0006332697167843045, 0.4235082247366586] and parameters: {'learning_rate': 0.0006332697167843045}. \u001b[0m\n",
      "\u001b[32m[I 2023-04-27 10:47:56,712]\u001b[0m Trial 29 finished with values: [0.4498243389528799, 0.7180387023655493] and parameters: {'learning_rate': 0.4498243389528799}. \u001b[0m\n",
      "\u001b[32m[I 2023-04-27 10:47:57,322]\u001b[0m Trial 30 finished with values: [0.28825962026286955, 0.7220137309076756] and parameters: {'learning_rate': 0.28825962026286955}. \u001b[0m\n",
      "\u001b[32m[I 2023-04-27 10:47:57,985]\u001b[0m Trial 31 finished with values: [0.036619413830782564, 0.7302184406320554] and parameters: {'learning_rate': 0.036619413830782564}. \u001b[0m\n",
      "\u001b[32m[I 2023-04-27 10:47:58,563]\u001b[0m Trial 32 finished with values: [0.03610204856200786, 0.7304328067409969] and parameters: {'learning_rate': 0.03610204856200786}. \u001b[0m\n",
      "\u001b[32m[I 2023-04-27 10:47:59,225]\u001b[0m Trial 33 finished with values: [0.0021961450728918896, 0.4235082247366586] and parameters: {'learning_rate': 0.0021961450728918896}. \u001b[0m\n",
      "\u001b[32m[I 2023-04-27 10:47:59,946]\u001b[0m Trial 34 finished with values: [0.012193586140043794, 0.7120523440790167] and parameters: {'learning_rate': 0.012193586140043794}. \u001b[0m\n",
      "\u001b[32m[I 2023-04-27 10:48:00,626]\u001b[0m Trial 35 finished with values: [0.19630258423899116, 0.7290264275839735] and parameters: {'learning_rate': 0.19630258423899116}. \u001b[0m\n",
      "\u001b[32m[I 2023-04-27 10:48:01,328]\u001b[0m Trial 36 finished with values: [0.00017918412416240907, 0.4235082247366586] and parameters: {'learning_rate': 0.00017918412416240907}. \u001b[0m\n",
      "\u001b[32m[I 2023-04-27 10:48:02,017]\u001b[0m Trial 37 finished with values: [0.014133500358080071, 0.7167142851538554] and parameters: {'learning_rate': 0.014133500358080071}. \u001b[0m\n",
      "\u001b[32m[I 2023-04-27 10:48:02,698]\u001b[0m Trial 38 finished with values: [0.04852382290869409, 0.7310333204595433] and parameters: {'learning_rate': 0.04852382290869409}. \u001b[0m\n",
      "\u001b[32m[I 2023-04-27 10:48:03,384]\u001b[0m Trial 39 finished with values: [0.040201201662143485, 0.7306614283099379] and parameters: {'learning_rate': 0.040201201662143485}. \u001b[0m\n",
      "\u001b[32m[I 2023-04-27 10:48:04,062]\u001b[0m Trial 40 finished with values: [0.0011776265316570207, 0.4235082247366586] and parameters: {'learning_rate': 0.0011776265316570207}. \u001b[0m\n",
      "\u001b[32m[I 2023-04-27 10:48:04,770]\u001b[0m Trial 41 finished with values: [0.026396073829949854, 0.7294521208392316] and parameters: {'learning_rate': 0.026396073829949854}. \u001b[0m\n",
      "\u001b[32m[I 2023-04-27 10:48:05,444]\u001b[0m Trial 42 finished with values: [0.19287363423507076, 0.7259236143539816] and parameters: {'learning_rate': 0.19287363423507076}. \u001b[0m\n",
      "\u001b[32m[I 2023-04-27 10:48:06,182]\u001b[0m Trial 43 finished with values: [0.07377836783758575, 0.7335097300380633] and parameters: {'learning_rate': 0.07377836783758575}. \u001b[0m\n",
      "\u001b[32m[I 2023-04-27 10:48:06,865]\u001b[0m Trial 44 finished with values: [0.06950786503628438, 0.7323174432397132] and parameters: {'learning_rate': 0.06950786503628438}. \u001b[0m\n",
      "\u001b[32m[I 2023-04-27 10:48:07,522]\u001b[0m Trial 45 finished with values: [0.0013182070434705978, 0.4235082247366586] and parameters: {'learning_rate': 0.0013182070434705978}. \u001b[0m\n",
      "\u001b[32m[I 2023-04-27 10:48:08,245]\u001b[0m Trial 46 finished with values: [0.0001689170415983065, 0.4235082247366586] and parameters: {'learning_rate': 0.0001689170415983065}. \u001b[0m\n",
      "\u001b[32m[I 2023-04-27 10:48:08,983]\u001b[0m Trial 47 finished with values: [0.0021018530965500105, 0.4235082247366586] and parameters: {'learning_rate': 0.0021018530965500105}. \u001b[0m\n",
      "\u001b[32m[I 2023-04-27 10:48:09,687]\u001b[0m Trial 48 finished with values: [0.00019287163151974652, 0.4235082247366586] and parameters: {'learning_rate': 0.00019287163151974652}. \u001b[0m\n",
      "\u001b[32m[I 2023-04-27 10:48:10,369]\u001b[0m Trial 49 finished with values: [0.1714187324525616, 0.7274564562489783] and parameters: {'learning_rate': 0.1714187324525616}. \u001b[0m\n",
      "\u001b[32m[I 2023-04-27 10:48:11,109]\u001b[0m Trial 50 finished with values: [0.028218912249716382, 0.7285799931977797] and parameters: {'learning_rate': 0.028218912249716382}. \u001b[0m\n",
      "\u001b[32m[I 2023-04-27 10:48:11,818]\u001b[0m Trial 51 finished with values: [0.00037469787058577405, 0.4235082247366586] and parameters: {'learning_rate': 0.00037469787058577405}. \u001b[0m\n",
      "\u001b[32m[I 2023-04-27 10:48:12,557]\u001b[0m Trial 52 finished with values: [0.016517619384449466, 0.7201909680929806] and parameters: {'learning_rate': 0.016517619384449466}. \u001b[0m\n",
      "\u001b[32m[I 2023-04-27 10:48:13,222]\u001b[0m Trial 53 finished with values: [0.4796291220454122, 0.7120415606860494] and parameters: {'learning_rate': 0.4796291220454122}. \u001b[0m\n",
      "\u001b[32m[I 2023-04-27 10:48:13,891]\u001b[0m Trial 54 finished with values: [0.01075645544167512, 0.6983807551597365] and parameters: {'learning_rate': 0.01075645544167512}. \u001b[0m\n",
      "\u001b[32m[I 2023-04-27 10:48:14,587]\u001b[0m Trial 55 finished with values: [0.0013300668001608705, 0.4235082247366586] and parameters: {'learning_rate': 0.0013300668001608705}. \u001b[0m\n",
      "\u001b[32m[I 2023-04-27 10:48:15,311]\u001b[0m Trial 56 finished with values: [0.009234620597188305, 0.6815820697212852] and parameters: {'learning_rate': 0.009234620597188305}. \u001b[0m\n",
      "\u001b[32m[I 2023-04-27 10:48:16,010]\u001b[0m Trial 57 finished with values: [0.030789337644333142, 0.7297299658845593] and parameters: {'learning_rate': 0.030789337644333142}. \u001b[0m\n",
      "\u001b[32m[I 2023-04-27 10:48:16,741]\u001b[0m Trial 58 finished with values: [0.0005196761744466342, 0.4235082247366586] and parameters: {'learning_rate': 0.0005196761744466342}. \u001b[0m\n",
      "\u001b[32m[I 2023-04-27 10:48:17,397]\u001b[0m Trial 59 finished with values: [0.21454254531144426, 0.7279770709345865] and parameters: {'learning_rate': 0.21454254531144426}. \u001b[0m\n",
      "\u001b[32m[I 2023-04-27 10:48:18,113]\u001b[0m Trial 60 finished with values: [0.023714036796718886, 0.7259369472766212] and parameters: {'learning_rate': 0.023714036796718886}. \u001b[0m\n",
      "\u001b[32m[I 2023-04-27 10:48:18,831]\u001b[0m Trial 61 finished with values: [0.042951701452191404, 0.7302474855948291] and parameters: {'learning_rate': 0.042951701452191404}. \u001b[0m\n",
      "\u001b[32m[I 2023-04-27 10:48:19,505]\u001b[0m Trial 62 finished with values: [0.30521179006815724, 0.7193743184471776] and parameters: {'learning_rate': 0.30521179006815724}. \u001b[0m\n",
      "\u001b[32m[I 2023-04-27 10:48:20,238]\u001b[0m Trial 63 finished with values: [0.0031088442966744653, 0.4235082247366586] and parameters: {'learning_rate': 0.0031088442966744653}. \u001b[0m\n",
      "\u001b[32m[I 2023-04-27 10:48:20,968]\u001b[0m Trial 64 finished with values: [0.0004014235312843208, 0.4235082247366586] and parameters: {'learning_rate': 0.0004014235312843208}. \u001b[0m\n",
      "\u001b[32m[I 2023-04-27 10:48:21,682]\u001b[0m Trial 65 finished with values: [0.005578035829630357, 0.6170142717941252] and parameters: {'learning_rate': 0.005578035829630357}. \u001b[0m\n",
      "\u001b[32m[I 2023-04-27 10:48:22,420]\u001b[0m Trial 66 finished with values: [0.0001592544431367279, 0.4235082247366586] and parameters: {'learning_rate': 0.0001592544431367279}. \u001b[0m\n",
      "\u001b[32m[I 2023-04-27 10:48:23,115]\u001b[0m Trial 67 finished with values: [0.0807232375319011, 0.7309408871913655] and parameters: {'learning_rate': 0.0807232375319011}. \u001b[0m\n",
      "\u001b[32m[I 2023-04-27 10:48:23,791]\u001b[0m Trial 68 finished with values: [0.16799292006264588, 0.7309842390105754] and parameters: {'learning_rate': 0.16799292006264588}. \u001b[0m\n",
      "\u001b[32m[I 2023-04-27 10:48:24,481]\u001b[0m Trial 69 finished with values: [0.04159311590472715, 0.7313584050417112] and parameters: {'learning_rate': 0.04159311590472715}. \u001b[0m\n",
      "\u001b[32m[I 2023-04-27 10:48:25,217]\u001b[0m Trial 70 finished with values: [0.0007829813261500128, 0.4235082247366586] and parameters: {'learning_rate': 0.0007829813261500128}. \u001b[0m\n",
      "\u001b[32m[I 2023-04-27 10:48:25,965]\u001b[0m Trial 71 finished with values: [0.0005327862205087224, 0.4235082247366586] and parameters: {'learning_rate': 0.0005327862205087224}. \u001b[0m\n",
      "\u001b[32m[I 2023-04-27 10:48:26,763]\u001b[0m Trial 72 finished with values: [0.011004042996587247, 0.7013991059388606] and parameters: {'learning_rate': 0.011004042996587247}. \u001b[0m\n",
      "\u001b[32m[I 2023-04-27 10:48:27,570]\u001b[0m Trial 73 finished with values: [0.012096495400321669, 0.7112448137800941] and parameters: {'learning_rate': 0.012096495400321669}. \u001b[0m\n",
      "\u001b[32m[I 2023-04-27 10:48:28,277]\u001b[0m Trial 74 finished with values: [0.07830377287729806, 0.7306338561389435] and parameters: {'learning_rate': 0.07830377287729806}. \u001b[0m\n",
      "\u001b[32m[I 2023-04-27 10:48:29,000]\u001b[0m Trial 75 finished with values: [0.0020289312962674306, 0.4235082247366586] and parameters: {'learning_rate': 0.0020289312962674306}. \u001b[0m\n",
      "\u001b[32m[I 2023-04-27 10:48:29,717]\u001b[0m Trial 76 finished with values: [0.007003614272196497, 0.653715322076985] and parameters: {'learning_rate': 0.007003614272196497}. \u001b[0m\n",
      "\u001b[32m[I 2023-04-27 10:48:30,438]\u001b[0m Trial 77 finished with values: [0.026811861365256547, 0.7281393119846103] and parameters: {'learning_rate': 0.026811861365256547}. \u001b[0m\n",
      "\u001b[32m[I 2023-04-27 10:48:31,206]\u001b[0m Trial 78 finished with values: [0.0014534431094221844, 0.4235082247366586] and parameters: {'learning_rate': 0.0014534431094221844}. \u001b[0m\n",
      "\u001b[32m[I 2023-04-27 10:48:31,910]\u001b[0m Trial 79 finished with values: [0.07184266906020101, 0.7318954915835494] and parameters: {'learning_rate': 0.07184266906020101}. \u001b[0m\n",
      "\u001b[32m[I 2023-04-27 10:48:32,611]\u001b[0m Trial 80 finished with values: [0.20138173825410338, 0.7278080193179831] and parameters: {'learning_rate': 0.20138173825410338}. \u001b[0m\n",
      "\u001b[32m[I 2023-04-27 10:48:33,350]\u001b[0m Trial 81 finished with values: [0.01956656266919498, 0.7259187426802697] and parameters: {'learning_rate': 0.01956656266919498}. \u001b[0m\n",
      "\u001b[32m[I 2023-04-27 10:48:34,043]\u001b[0m Trial 82 finished with values: [0.005251844487229045, 0.6024609734794308] and parameters: {'learning_rate': 0.005251844487229045}. \u001b[0m\n",
      "\u001b[32m[I 2023-04-27 10:48:34,734]\u001b[0m Trial 83 finished with values: [0.0007975269741962664, 0.4235082247366586] and parameters: {'learning_rate': 0.0007975269741962664}. \u001b[0m\n",
      "\u001b[32m[I 2023-04-27 10:48:35,428]\u001b[0m Trial 84 finished with values: [0.0005538907493946157, 0.4235082247366586] and parameters: {'learning_rate': 0.0005538907493946157}. \u001b[0m\n",
      "\u001b[32m[I 2023-04-27 10:48:36,126]\u001b[0m Trial 85 finished with values: [0.0835122016432078, 0.7321890615843162] and parameters: {'learning_rate': 0.0835122016432078}. \u001b[0m\n",
      "\u001b[32m[I 2023-04-27 10:48:36,860]\u001b[0m Trial 86 finished with values: [0.0006260697703589752, 0.4235082247366586] and parameters: {'learning_rate': 0.0006260697703589752}. \u001b[0m\n",
      "\u001b[32m[I 2023-04-27 10:48:37,556]\u001b[0m Trial 87 finished with values: [0.11742527067046299, 0.7321944783582703] and parameters: {'learning_rate': 0.11742527067046299}. \u001b[0m\n",
      "\u001b[32m[I 2023-04-27 10:48:38,296]\u001b[0m Trial 88 finished with values: [0.004544231657855253, 0.5343888745179519] and parameters: {'learning_rate': 0.004544231657855253}. \u001b[0m\n",
      "\u001b[32m[I 2023-04-27 10:48:39,070]\u001b[0m Trial 89 finished with values: [0.00012209259631005412, 0.4235082247366586] and parameters: {'learning_rate': 0.00012209259631005412}. \u001b[0m\n",
      "\u001b[32m[I 2023-04-27 10:48:39,823]\u001b[0m Trial 90 finished with values: [0.001267549290534437, 0.4235082247366586] and parameters: {'learning_rate': 0.001267549290534437}. \u001b[0m\n",
      "\u001b[32m[I 2023-04-27 10:48:40,539]\u001b[0m Trial 91 finished with values: [0.004363976487357013, 0.5087369170754972] and parameters: {'learning_rate': 0.004363976487357013}. \u001b[0m\n",
      "\u001b[32m[I 2023-04-27 10:48:41,243]\u001b[0m Trial 92 finished with values: [0.017485462659550834, 0.722280452051524] and parameters: {'learning_rate': 0.017485462659550834}. \u001b[0m\n",
      "\u001b[32m[I 2023-04-27 10:48:41,927]\u001b[0m Trial 93 finished with values: [0.44828056389247145, 0.7116760995541701] and parameters: {'learning_rate': 0.44828056389247145}. \u001b[0m\n",
      "\u001b[32m[I 2023-04-27 10:48:42,634]\u001b[0m Trial 94 finished with values: [0.08277845673611592, 0.7314187112500111] and parameters: {'learning_rate': 0.08277845673611592}. \u001b[0m\n",
      "\u001b[32m[I 2023-04-27 10:48:43,357]\u001b[0m Trial 95 finished with values: [0.0003291311959625348, 0.4235082247366586] and parameters: {'learning_rate': 0.0003291311959625348}. \u001b[0m\n",
      "\u001b[32m[I 2023-04-27 10:48:44,073]\u001b[0m Trial 96 finished with values: [0.00022868118733042252, 0.4235082247366586] and parameters: {'learning_rate': 0.00022868118733042252}. \u001b[0m\n",
      "\u001b[32m[I 2023-04-27 10:48:44,798]\u001b[0m Trial 97 finished with values: [0.18286145837300968, 0.7262427071035374] and parameters: {'learning_rate': 0.18286145837300968}. \u001b[0m\n",
      "\u001b[32m[I 2023-04-27 10:48:45,479]\u001b[0m Trial 98 finished with values: [0.06941692989749879, 0.7295385067809874] and parameters: {'learning_rate': 0.06941692989749879}. \u001b[0m\n",
      "\u001b[32m[I 2023-04-27 10:48:46,147]\u001b[0m Trial 99 finished with values: [0.19305171220017311, 0.7262367052555226] and parameters: {'learning_rate': 0.19305171220017311}. \u001b[0m\n"
     ]
    }
   ],
   "source": [
    "study = optuna.create_study(directions=[\"maximize\", \"maximize\"])\n",
    "study.optimize(moo_objective, n_trials=100)"
   ]
  },
  {
   "cell_type": "code",
   "execution_count": 24,
   "metadata": {
    "ExecuteTime": {
     "end_time": "2023-04-27T12:48:46.776516Z",
     "start_time": "2023-04-27T12:48:45.820953Z"
    },
    "collapsed": false
   },
   "outputs": [
    {
     "data": {
      "application/vnd.plotly.v1+json": {
       "config": {
        "plotlyServerURL": "https://plot.ly"
       },
       "data": [
        {
         "hovertemplate": "%{text}<extra>Trial</extra>",
         "marker": {
          "color": [
           0,
           1,
           2,
           4,
           5,
           6,
           7,
           8,
           9,
           10,
           11,
           13,
           15,
           16,
           17,
           18,
           19,
           20,
           21,
           22,
           23,
           25,
           26,
           28,
           31,
           32,
           33,
           34,
           36,
           37,
           38,
           39,
           40,
           41,
           42,
           44,
           45,
           46,
           47,
           48,
           49,
           50,
           51,
           52,
           54,
           55,
           56,
           57,
           58,
           60,
           61,
           63,
           64,
           65,
           66,
           67,
           69,
           70,
           71,
           72,
           73,
           74,
           75,
           76,
           77,
           78,
           79,
           80,
           81,
           82,
           83,
           84,
           85,
           86,
           88,
           89,
           90,
           91,
           92,
           93,
           94,
           95,
           96,
           97,
           98,
           99
          ],
          "colorbar": {
           "title": {
            "text": "Trial"
           }
          },
          "colorscale": [
           [
            0,
            "rgb(247,251,255)"
           ],
           [
            0.125,
            "rgb(222,235,247)"
           ],
           [
            0.25,
            "rgb(198,219,239)"
           ],
           [
            0.375,
            "rgb(158,202,225)"
           ],
           [
            0.5,
            "rgb(107,174,214)"
           ],
           [
            0.625,
            "rgb(66,146,198)"
           ],
           [
            0.75,
            "rgb(33,113,181)"
           ],
           [
            0.875,
            "rgb(8,81,156)"
           ],
           [
            1,
            "rgb(8,48,107)"
           ]
          ],
          "line": {
           "color": "Grey",
           "width": 0.5
          }
         },
         "mode": "markers",
         "showlegend": false,
         "text": [
          "{<br>  \"number\": 0,<br>  \"values\": [<br>    0.018276625572235056,<br>    0.7229728382357858<br>  ],<br>  \"params\": {<br>    \"learning_rate\": 0.018276625572235056<br>  }<br>}",
          "{<br>  \"number\": 1,<br>  \"values\": [<br>    0.012281350875017864,<br>    0.713129498994182<br>  ],<br>  \"params\": {<br>    \"learning_rate\": 0.012281350875017864<br>  }<br>}",
          "{<br>  \"number\": 2,<br>  \"values\": [<br>    0.3179931543219117,<br>    0.7181352358216049<br>  ],<br>  \"params\": {<br>    \"learning_rate\": 0.3179931543219117<br>  }<br>}",
          "{<br>  \"number\": 4,<br>  \"values\": [<br>    0.010097499163932589,<br>    0.689595604293249<br>  ],<br>  \"params\": {<br>    \"learning_rate\": 0.010097499163932589<br>  }<br>}",
          "{<br>  \"number\": 5,<br>  \"values\": [<br>    0.0010284892903758126,<br>    0.4235082247366586<br>  ],<br>  \"params\": {<br>    \"learning_rate\": 0.0010284892903758126<br>  }<br>}",
          "{<br>  \"number\": 6,<br>  \"values\": [<br>    0.0008073623310050534,<br>    0.4235082247366586<br>  ],<br>  \"params\": {<br>    \"learning_rate\": 0.0008073623310050534<br>  }<br>}",
          "{<br>  \"number\": 7,<br>  \"values\": [<br>    0.009446892389275133,<br>    0.6841554205738356<br>  ],<br>  \"params\": {<br>    \"learning_rate\": 0.009446892389275133<br>  }<br>}",
          "{<br>  \"number\": 8,<br>  \"values\": [<br>    0.042129982546996285,<br>    0.7318679125094985<br>  ],<br>  \"params\": {<br>    \"learning_rate\": 0.042129982546996285<br>  }<br>}",
          "{<br>  \"number\": 9,<br>  \"values\": [<br>    0.006234336282154794,<br>    0.6372047388051083<br>  ],<br>  \"params\": {<br>    \"learning_rate\": 0.006234336282154794<br>  }<br>}",
          "{<br>  \"number\": 10,<br>  \"values\": [<br>    0.0014213907266344855,<br>    0.4235082247366586<br>  ],<br>  \"params\": {<br>    \"learning_rate\": 0.0014213907266344855<br>  }<br>}",
          "{<br>  \"number\": 11,<br>  \"values\": [<br>    0.0074818711669891215,<br>    0.6643619268828908<br>  ],<br>  \"params\": {<br>    \"learning_rate\": 0.0074818711669891215<br>  }<br>}",
          "{<br>  \"number\": 13,<br>  \"values\": [<br>    0.0012664149179400209,<br>    0.4235082247366586<br>  ],<br>  \"params\": {<br>    \"learning_rate\": 0.0012664149179400209<br>  }<br>}",
          "{<br>  \"number\": 15,<br>  \"values\": [<br>    0.01538041330688695,<br>    0.7173796023919852<br>  ],<br>  \"params\": {<br>    \"learning_rate\": 0.01538041330688695<br>  }<br>}",
          "{<br>  \"number\": 16,<br>  \"values\": [<br>    0.018396986660930648,<br>    0.7227368738811438<br>  ],<br>  \"params\": {<br>    \"learning_rate\": 0.018396986660930648<br>  }<br>}",
          "{<br>  \"number\": 17,<br>  \"values\": [<br>    0.0030415201353781317,<br>    0.4235082247366586<br>  ],<br>  \"params\": {<br>    \"learning_rate\": 0.0030415201353781317<br>  }<br>}",
          "{<br>  \"number\": 18,<br>  \"values\": [<br>    0.34679130964813293,<br>    0.7165372792236238<br>  ],<br>  \"params\": {<br>    \"learning_rate\": 0.34679130964813293<br>  }<br>}",
          "{<br>  \"number\": 19,<br>  \"values\": [<br>    0.0016185106184141472,<br>    0.4235082247366586<br>  ],<br>  \"params\": {<br>    \"learning_rate\": 0.0016185106184141472<br>  }<br>}",
          "{<br>  \"number\": 20,<br>  \"values\": [<br>    0.09977031400739048,<br>    0.7302018596960369<br>  ],<br>  \"params\": {<br>    \"learning_rate\": 0.09977031400739048<br>  }<br>}",
          "{<br>  \"number\": 21,<br>  \"values\": [<br>    0.00015692458115144144,<br>    0.4235082247366586<br>  ],<br>  \"params\": {<br>    \"learning_rate\": 0.00015692458115144144<br>  }<br>}",
          "{<br>  \"number\": 22,<br>  \"values\": [<br>    0.0014637099340279343,<br>    0.4235082247366586<br>  ],<br>  \"params\": {<br>    \"learning_rate\": 0.0014637099340279343<br>  }<br>}",
          "{<br>  \"number\": 23,<br>  \"values\": [<br>    0.237542460048024,<br>    0.7216310177763523<br>  ],<br>  \"params\": {<br>    \"learning_rate\": 0.237542460048024<br>  }<br>}",
          "{<br>  \"number\": 25,<br>  \"values\": [<br>    0.039216586476540555,<br>    0.7301579035907364<br>  ],<br>  \"params\": {<br>    \"learning_rate\": 0.039216586476540555<br>  }<br>}",
          "{<br>  \"number\": 26,<br>  \"values\": [<br>    0.04413193652148863,<br>    0.7292176187667853<br>  ],<br>  \"params\": {<br>    \"learning_rate\": 0.04413193652148863<br>  }<br>}",
          "{<br>  \"number\": 28,<br>  \"values\": [<br>    0.0006332697167843045,<br>    0.4235082247366586<br>  ],<br>  \"params\": {<br>    \"learning_rate\": 0.0006332697167843045<br>  }<br>}",
          "{<br>  \"number\": 31,<br>  \"values\": [<br>    0.036619413830782564,<br>    0.7302184406320554<br>  ],<br>  \"params\": {<br>    \"learning_rate\": 0.036619413830782564<br>  }<br>}",
          "{<br>  \"number\": 32,<br>  \"values\": [<br>    0.03610204856200786,<br>    0.7304328067409969<br>  ],<br>  \"params\": {<br>    \"learning_rate\": 0.03610204856200786<br>  }<br>}",
          "{<br>  \"number\": 33,<br>  \"values\": [<br>    0.0021961450728918896,<br>    0.4235082247366586<br>  ],<br>  \"params\": {<br>    \"learning_rate\": 0.0021961450728918896<br>  }<br>}",
          "{<br>  \"number\": 34,<br>  \"values\": [<br>    0.012193586140043794,<br>    0.7120523440790167<br>  ],<br>  \"params\": {<br>    \"learning_rate\": 0.012193586140043794<br>  }<br>}",
          "{<br>  \"number\": 36,<br>  \"values\": [<br>    0.00017918412416240907,<br>    0.4235082247366586<br>  ],<br>  \"params\": {<br>    \"learning_rate\": 0.00017918412416240907<br>  }<br>}",
          "{<br>  \"number\": 37,<br>  \"values\": [<br>    0.014133500358080071,<br>    0.7167142851538554<br>  ],<br>  \"params\": {<br>    \"learning_rate\": 0.014133500358080071<br>  }<br>}",
          "{<br>  \"number\": 38,<br>  \"values\": [<br>    0.04852382290869409,<br>    0.7310333204595433<br>  ],<br>  \"params\": {<br>    \"learning_rate\": 0.04852382290869409<br>  }<br>}",
          "{<br>  \"number\": 39,<br>  \"values\": [<br>    0.040201201662143485,<br>    0.7306614283099379<br>  ],<br>  \"params\": {<br>    \"learning_rate\": 0.040201201662143485<br>  }<br>}",
          "{<br>  \"number\": 40,<br>  \"values\": [<br>    0.0011776265316570207,<br>    0.4235082247366586<br>  ],<br>  \"params\": {<br>    \"learning_rate\": 0.0011776265316570207<br>  }<br>}",
          "{<br>  \"number\": 41,<br>  \"values\": [<br>    0.026396073829949854,<br>    0.7294521208392316<br>  ],<br>  \"params\": {<br>    \"learning_rate\": 0.026396073829949854<br>  }<br>}",
          "{<br>  \"number\": 42,<br>  \"values\": [<br>    0.19287363423507076,<br>    0.7259236143539816<br>  ],<br>  \"params\": {<br>    \"learning_rate\": 0.19287363423507076<br>  }<br>}",
          "{<br>  \"number\": 44,<br>  \"values\": [<br>    0.06950786503628438,<br>    0.7323174432397132<br>  ],<br>  \"params\": {<br>    \"learning_rate\": 0.06950786503628438<br>  }<br>}",
          "{<br>  \"number\": 45,<br>  \"values\": [<br>    0.0013182070434705978,<br>    0.4235082247366586<br>  ],<br>  \"params\": {<br>    \"learning_rate\": 0.0013182070434705978<br>  }<br>}",
          "{<br>  \"number\": 46,<br>  \"values\": [<br>    0.0001689170415983065,<br>    0.4235082247366586<br>  ],<br>  \"params\": {<br>    \"learning_rate\": 0.0001689170415983065<br>  }<br>}",
          "{<br>  \"number\": 47,<br>  \"values\": [<br>    0.0021018530965500105,<br>    0.4235082247366586<br>  ],<br>  \"params\": {<br>    \"learning_rate\": 0.0021018530965500105<br>  }<br>}",
          "{<br>  \"number\": 48,<br>  \"values\": [<br>    0.00019287163151974652,<br>    0.4235082247366586<br>  ],<br>  \"params\": {<br>    \"learning_rate\": 0.00019287163151974652<br>  }<br>}",
          "{<br>  \"number\": 49,<br>  \"values\": [<br>    0.1714187324525616,<br>    0.7274564562489783<br>  ],<br>  \"params\": {<br>    \"learning_rate\": 0.1714187324525616<br>  }<br>}",
          "{<br>  \"number\": 50,<br>  \"values\": [<br>    0.028218912249716382,<br>    0.7285799931977797<br>  ],<br>  \"params\": {<br>    \"learning_rate\": 0.028218912249716382<br>  }<br>}",
          "{<br>  \"number\": 51,<br>  \"values\": [<br>    0.00037469787058577405,<br>    0.4235082247366586<br>  ],<br>  \"params\": {<br>    \"learning_rate\": 0.00037469787058577405<br>  }<br>}",
          "{<br>  \"number\": 52,<br>  \"values\": [<br>    0.016517619384449466,<br>    0.7201909680929806<br>  ],<br>  \"params\": {<br>    \"learning_rate\": 0.016517619384449466<br>  }<br>}",
          "{<br>  \"number\": 54,<br>  \"values\": [<br>    0.01075645544167512,<br>    0.6983807551597365<br>  ],<br>  \"params\": {<br>    \"learning_rate\": 0.01075645544167512<br>  }<br>}",
          "{<br>  \"number\": 55,<br>  \"values\": [<br>    0.0013300668001608705,<br>    0.4235082247366586<br>  ],<br>  \"params\": {<br>    \"learning_rate\": 0.0013300668001608705<br>  }<br>}",
          "{<br>  \"number\": 56,<br>  \"values\": [<br>    0.009234620597188305,<br>    0.6815820697212852<br>  ],<br>  \"params\": {<br>    \"learning_rate\": 0.009234620597188305<br>  }<br>}",
          "{<br>  \"number\": 57,<br>  \"values\": [<br>    0.030789337644333142,<br>    0.7297299658845593<br>  ],<br>  \"params\": {<br>    \"learning_rate\": 0.030789337644333142<br>  }<br>}",
          "{<br>  \"number\": 58,<br>  \"values\": [<br>    0.0005196761744466342,<br>    0.4235082247366586<br>  ],<br>  \"params\": {<br>    \"learning_rate\": 0.0005196761744466342<br>  }<br>}",
          "{<br>  \"number\": 60,<br>  \"values\": [<br>    0.023714036796718886,<br>    0.7259369472766212<br>  ],<br>  \"params\": {<br>    \"learning_rate\": 0.023714036796718886<br>  }<br>}",
          "{<br>  \"number\": 61,<br>  \"values\": [<br>    0.042951701452191404,<br>    0.7302474855948291<br>  ],<br>  \"params\": {<br>    \"learning_rate\": 0.042951701452191404<br>  }<br>}",
          "{<br>  \"number\": 63,<br>  \"values\": [<br>    0.0031088442966744653,<br>    0.4235082247366586<br>  ],<br>  \"params\": {<br>    \"learning_rate\": 0.0031088442966744653<br>  }<br>}",
          "{<br>  \"number\": 64,<br>  \"values\": [<br>    0.0004014235312843208,<br>    0.4235082247366586<br>  ],<br>  \"params\": {<br>    \"learning_rate\": 0.0004014235312843208<br>  }<br>}",
          "{<br>  \"number\": 65,<br>  \"values\": [<br>    0.005578035829630357,<br>    0.6170142717941252<br>  ],<br>  \"params\": {<br>    \"learning_rate\": 0.005578035829630357<br>  }<br>}",
          "{<br>  \"number\": 66,<br>  \"values\": [<br>    0.0001592544431367279,<br>    0.4235082247366586<br>  ],<br>  \"params\": {<br>    \"learning_rate\": 0.0001592544431367279<br>  }<br>}",
          "{<br>  \"number\": 67,<br>  \"values\": [<br>    0.0807232375319011,<br>    0.7309408871913655<br>  ],<br>  \"params\": {<br>    \"learning_rate\": 0.0807232375319011<br>  }<br>}",
          "{<br>  \"number\": 69,<br>  \"values\": [<br>    0.04159311590472715,<br>    0.7313584050417112<br>  ],<br>  \"params\": {<br>    \"learning_rate\": 0.04159311590472715<br>  }<br>}",
          "{<br>  \"number\": 70,<br>  \"values\": [<br>    0.0007829813261500128,<br>    0.4235082247366586<br>  ],<br>  \"params\": {<br>    \"learning_rate\": 0.0007829813261500128<br>  }<br>}",
          "{<br>  \"number\": 71,<br>  \"values\": [<br>    0.0005327862205087224,<br>    0.4235082247366586<br>  ],<br>  \"params\": {<br>    \"learning_rate\": 0.0005327862205087224<br>  }<br>}",
          "{<br>  \"number\": 72,<br>  \"values\": [<br>    0.011004042996587247,<br>    0.7013991059388606<br>  ],<br>  \"params\": {<br>    \"learning_rate\": 0.011004042996587247<br>  }<br>}",
          "{<br>  \"number\": 73,<br>  \"values\": [<br>    0.012096495400321669,<br>    0.7112448137800941<br>  ],<br>  \"params\": {<br>    \"learning_rate\": 0.012096495400321669<br>  }<br>}",
          "{<br>  \"number\": 74,<br>  \"values\": [<br>    0.07830377287729806,<br>    0.7306338561389435<br>  ],<br>  \"params\": {<br>    \"learning_rate\": 0.07830377287729806<br>  }<br>}",
          "{<br>  \"number\": 75,<br>  \"values\": [<br>    0.0020289312962674306,<br>    0.4235082247366586<br>  ],<br>  \"params\": {<br>    \"learning_rate\": 0.0020289312962674306<br>  }<br>}",
          "{<br>  \"number\": 76,<br>  \"values\": [<br>    0.007003614272196497,<br>    0.653715322076985<br>  ],<br>  \"params\": {<br>    \"learning_rate\": 0.007003614272196497<br>  }<br>}",
          "{<br>  \"number\": 77,<br>  \"values\": [<br>    0.026811861365256547,<br>    0.7281393119846103<br>  ],<br>  \"params\": {<br>    \"learning_rate\": 0.026811861365256547<br>  }<br>}",
          "{<br>  \"number\": 78,<br>  \"values\": [<br>    0.0014534431094221844,<br>    0.4235082247366586<br>  ],<br>  \"params\": {<br>    \"learning_rate\": 0.0014534431094221844<br>  }<br>}",
          "{<br>  \"number\": 79,<br>  \"values\": [<br>    0.07184266906020101,<br>    0.7318954915835494<br>  ],<br>  \"params\": {<br>    \"learning_rate\": 0.07184266906020101<br>  }<br>}",
          "{<br>  \"number\": 80,<br>  \"values\": [<br>    0.20138173825410338,<br>    0.7278080193179831<br>  ],<br>  \"params\": {<br>    \"learning_rate\": 0.20138173825410338<br>  }<br>}",
          "{<br>  \"number\": 81,<br>  \"values\": [<br>    0.01956656266919498,<br>    0.7259187426802697<br>  ],<br>  \"params\": {<br>    \"learning_rate\": 0.01956656266919498<br>  }<br>}",
          "{<br>  \"number\": 82,<br>  \"values\": [<br>    0.005251844487229045,<br>    0.6024609734794308<br>  ],<br>  \"params\": {<br>    \"learning_rate\": 0.005251844487229045<br>  }<br>}",
          "{<br>  \"number\": 83,<br>  \"values\": [<br>    0.0007975269741962664,<br>    0.4235082247366586<br>  ],<br>  \"params\": {<br>    \"learning_rate\": 0.0007975269741962664<br>  }<br>}",
          "{<br>  \"number\": 84,<br>  \"values\": [<br>    0.0005538907493946157,<br>    0.4235082247366586<br>  ],<br>  \"params\": {<br>    \"learning_rate\": 0.0005538907493946157<br>  }<br>}",
          "{<br>  \"number\": 85,<br>  \"values\": [<br>    0.0835122016432078,<br>    0.7321890615843162<br>  ],<br>  \"params\": {<br>    \"learning_rate\": 0.0835122016432078<br>  }<br>}",
          "{<br>  \"number\": 86,<br>  \"values\": [<br>    0.0006260697703589752,<br>    0.4235082247366586<br>  ],<br>  \"params\": {<br>    \"learning_rate\": 0.0006260697703589752<br>  }<br>}",
          "{<br>  \"number\": 88,<br>  \"values\": [<br>    0.004544231657855253,<br>    0.5343888745179519<br>  ],<br>  \"params\": {<br>    \"learning_rate\": 0.004544231657855253<br>  }<br>}",
          "{<br>  \"number\": 89,<br>  \"values\": [<br>    0.00012209259631005412,<br>    0.4235082247366586<br>  ],<br>  \"params\": {<br>    \"learning_rate\": 0.00012209259631005412<br>  }<br>}",
          "{<br>  \"number\": 90,<br>  \"values\": [<br>    0.001267549290534437,<br>    0.4235082247366586<br>  ],<br>  \"params\": {<br>    \"learning_rate\": 0.001267549290534437<br>  }<br>}",
          "{<br>  \"number\": 91,<br>  \"values\": [<br>    0.004363976487357013,<br>    0.5087369170754972<br>  ],<br>  \"params\": {<br>    \"learning_rate\": 0.004363976487357013<br>  }<br>}",
          "{<br>  \"number\": 92,<br>  \"values\": [<br>    0.017485462659550834,<br>    0.722280452051524<br>  ],<br>  \"params\": {<br>    \"learning_rate\": 0.017485462659550834<br>  }<br>}",
          "{<br>  \"number\": 93,<br>  \"values\": [<br>    0.44828056389247145,<br>    0.7116760995541701<br>  ],<br>  \"params\": {<br>    \"learning_rate\": 0.44828056389247145<br>  }<br>}",
          "{<br>  \"number\": 94,<br>  \"values\": [<br>    0.08277845673611592,<br>    0.7314187112500111<br>  ],<br>  \"params\": {<br>    \"learning_rate\": 0.08277845673611592<br>  }<br>}",
          "{<br>  \"number\": 95,<br>  \"values\": [<br>    0.0003291311959625348,<br>    0.4235082247366586<br>  ],<br>  \"params\": {<br>    \"learning_rate\": 0.0003291311959625348<br>  }<br>}",
          "{<br>  \"number\": 96,<br>  \"values\": [<br>    0.00022868118733042252,<br>    0.4235082247366586<br>  ],<br>  \"params\": {<br>    \"learning_rate\": 0.00022868118733042252<br>  }<br>}",
          "{<br>  \"number\": 97,<br>  \"values\": [<br>    0.18286145837300968,<br>    0.7262427071035374<br>  ],<br>  \"params\": {<br>    \"learning_rate\": 0.18286145837300968<br>  }<br>}",
          "{<br>  \"number\": 98,<br>  \"values\": [<br>    0.06941692989749879,<br>    0.7295385067809874<br>  ],<br>  \"params\": {<br>    \"learning_rate\": 0.06941692989749879<br>  }<br>}",
          "{<br>  \"number\": 99,<br>  \"values\": [<br>    0.19305171220017311,<br>    0.7262367052555226<br>  ],<br>  \"params\": {<br>    \"learning_rate\": 0.19305171220017311<br>  }<br>}"
         ],
         "type": "scatter",
         "x": [
          0.018276625572235056,
          0.012281350875017864,
          0.3179931543219117,
          0.010097499163932589,
          0.0010284892903758126,
          0.0008073623310050534,
          0.009446892389275133,
          0.042129982546996285,
          0.006234336282154794,
          0.0014213907266344855,
          0.0074818711669891215,
          0.0012664149179400209,
          0.01538041330688695,
          0.018396986660930648,
          0.0030415201353781317,
          0.34679130964813293,
          0.0016185106184141472,
          0.09977031400739048,
          0.00015692458115144144,
          0.0014637099340279343,
          0.237542460048024,
          0.039216586476540555,
          0.04413193652148863,
          0.0006332697167843045,
          0.036619413830782564,
          0.03610204856200786,
          0.0021961450728918896,
          0.012193586140043794,
          0.00017918412416240907,
          0.014133500358080071,
          0.04852382290869409,
          0.040201201662143485,
          0.0011776265316570207,
          0.026396073829949854,
          0.19287363423507076,
          0.06950786503628438,
          0.0013182070434705978,
          0.0001689170415983065,
          0.0021018530965500105,
          0.00019287163151974652,
          0.1714187324525616,
          0.028218912249716382,
          0.00037469787058577405,
          0.016517619384449466,
          0.01075645544167512,
          0.0013300668001608705,
          0.009234620597188305,
          0.030789337644333142,
          0.0005196761744466342,
          0.023714036796718886,
          0.042951701452191404,
          0.0031088442966744653,
          0.0004014235312843208,
          0.005578035829630357,
          0.0001592544431367279,
          0.0807232375319011,
          0.04159311590472715,
          0.0007829813261500128,
          0.0005327862205087224,
          0.011004042996587247,
          0.012096495400321669,
          0.07830377287729806,
          0.0020289312962674306,
          0.007003614272196497,
          0.026811861365256547,
          0.0014534431094221844,
          0.07184266906020101,
          0.20138173825410338,
          0.01956656266919498,
          0.005251844487229045,
          0.0007975269741962664,
          0.0005538907493946157,
          0.0835122016432078,
          0.0006260697703589752,
          0.004544231657855253,
          0.00012209259631005412,
          0.001267549290534437,
          0.004363976487357013,
          0.017485462659550834,
          0.44828056389247145,
          0.08277845673611592,
          0.0003291311959625348,
          0.00022868118733042252,
          0.18286145837300968,
          0.06941692989749879,
          0.19305171220017311
         ],
         "y": [
          0.7229728382357858,
          0.713129498994182,
          0.7181352358216049,
          0.689595604293249,
          0.4235082247366586,
          0.4235082247366586,
          0.6841554205738356,
          0.7318679125094985,
          0.6372047388051083,
          0.4235082247366586,
          0.6643619268828908,
          0.4235082247366586,
          0.7173796023919852,
          0.7227368738811438,
          0.4235082247366586,
          0.7165372792236238,
          0.4235082247366586,
          0.7302018596960369,
          0.4235082247366586,
          0.4235082247366586,
          0.7216310177763523,
          0.7301579035907364,
          0.7292176187667853,
          0.4235082247366586,
          0.7302184406320554,
          0.7304328067409969,
          0.4235082247366586,
          0.7120523440790167,
          0.4235082247366586,
          0.7167142851538554,
          0.7310333204595433,
          0.7306614283099379,
          0.4235082247366586,
          0.7294521208392316,
          0.7259236143539816,
          0.7323174432397132,
          0.4235082247366586,
          0.4235082247366586,
          0.4235082247366586,
          0.4235082247366586,
          0.7274564562489783,
          0.7285799931977797,
          0.4235082247366586,
          0.7201909680929806,
          0.6983807551597365,
          0.4235082247366586,
          0.6815820697212852,
          0.7297299658845593,
          0.4235082247366586,
          0.7259369472766212,
          0.7302474855948291,
          0.4235082247366586,
          0.4235082247366586,
          0.6170142717941252,
          0.4235082247366586,
          0.7309408871913655,
          0.7313584050417112,
          0.4235082247366586,
          0.4235082247366586,
          0.7013991059388606,
          0.7112448137800941,
          0.7306338561389435,
          0.4235082247366586,
          0.653715322076985,
          0.7281393119846103,
          0.4235082247366586,
          0.7318954915835494,
          0.7278080193179831,
          0.7259187426802697,
          0.6024609734794308,
          0.4235082247366586,
          0.4235082247366586,
          0.7321890615843162,
          0.4235082247366586,
          0.5343888745179519,
          0.4235082247366586,
          0.4235082247366586,
          0.5087369170754972,
          0.722280452051524,
          0.7116760995541701,
          0.7314187112500111,
          0.4235082247366586,
          0.4235082247366586,
          0.7262427071035374,
          0.7295385067809874,
          0.7262367052555226
         ]
        },
        {
         "hovertemplate": "%{text}<extra>Best Trial</extra>",
         "marker": {
          "color": [
           3,
           12,
           14,
           24,
           27,
           29,
           30,
           35,
           43,
           53,
           59,
           62,
           68,
           87
          ],
          "colorbar": {
           "title": {
            "text": "Best Trial"
           },
           "x": 1.1,
           "xpad": 40
          },
          "colorscale": [
           [
            0,
            "rgb(255,245,240)"
           ],
           [
            0.125,
            "rgb(254,224,210)"
           ],
           [
            0.25,
            "rgb(252,187,161)"
           ],
           [
            0.375,
            "rgb(252,146,114)"
           ],
           [
            0.5,
            "rgb(251,106,74)"
           ],
           [
            0.625,
            "rgb(239,59,44)"
           ],
           [
            0.75,
            "rgb(203,24,29)"
           ],
           [
            0.875,
            "rgb(165,15,21)"
           ],
           [
            1,
            "rgb(103,0,13)"
           ]
          ],
          "line": {
           "color": "Grey",
           "width": 0.5
          }
         },
         "mode": "markers",
         "showlegend": false,
         "text": [
          "{<br>  \"number\": 3,<br>  \"values\": [<br>    0.3317048028124761,<br>    0.7182462105095208<br>  ],<br>  \"params\": {<br>    \"learning_rate\": 0.3317048028124761<br>  }<br>}",
          "{<br>  \"number\": 12,<br>  \"values\": [<br>    0.1148404311838305,<br>    0.7321994102159477<br>  ],<br>  \"params\": {<br>    \"learning_rate\": 0.1148404311838305<br>  }<br>}",
          "{<br>  \"number\": 14,<br>  \"values\": [<br>    0.05307222954482612,<br>    0.7336139976808754<br>  ],<br>  \"params\": {<br>    \"learning_rate\": 0.05307222954482612<br>  }<br>}",
          "{<br>  \"number\": 24,<br>  \"values\": [<br>    0.24410089728809634,<br>    0.7254004209977449<br>  ],<br>  \"params\": {<br>    \"learning_rate\": 0.24410089728809634<br>  }<br>}",
          "{<br>  \"number\": 27,<br>  \"values\": [<br>    0.12844461011742844,<br>    0.7321027124572879<br>  ],<br>  \"params\": {<br>    \"learning_rate\": 0.12844461011742844<br>  }<br>}",
          "{<br>  \"number\": 29,<br>  \"values\": [<br>    0.4498243389528799,<br>    0.7180387023655493<br>  ],<br>  \"params\": {<br>    \"learning_rate\": 0.4498243389528799<br>  }<br>}",
          "{<br>  \"number\": 30,<br>  \"values\": [<br>    0.28825962026286955,<br>    0.7220137309076756<br>  ],<br>  \"params\": {<br>    \"learning_rate\": 0.28825962026286955<br>  }<br>}",
          "{<br>  \"number\": 35,<br>  \"values\": [<br>    0.19630258423899116,<br>    0.7290264275839735<br>  ],<br>  \"params\": {<br>    \"learning_rate\": 0.19630258423899116<br>  }<br>}",
          "{<br>  \"number\": 43,<br>  \"values\": [<br>    0.07377836783758575,<br>    0.7335097300380633<br>  ],<br>  \"params\": {<br>    \"learning_rate\": 0.07377836783758575<br>  }<br>}",
          "{<br>  \"number\": 53,<br>  \"values\": [<br>    0.4796291220454122,<br>    0.7120415606860494<br>  ],<br>  \"params\": {<br>    \"learning_rate\": 0.4796291220454122<br>  }<br>}",
          "{<br>  \"number\": 59,<br>  \"values\": [<br>    0.21454254531144426,<br>    0.7279770709345865<br>  ],<br>  \"params\": {<br>    \"learning_rate\": 0.21454254531144426<br>  }<br>}",
          "{<br>  \"number\": 62,<br>  \"values\": [<br>    0.30521179006815724,<br>    0.7193743184471776<br>  ],<br>  \"params\": {<br>    \"learning_rate\": 0.30521179006815724<br>  }<br>}",
          "{<br>  \"number\": 68,<br>  \"values\": [<br>    0.16799292006264588,<br>    0.7309842390105754<br>  ],<br>  \"params\": {<br>    \"learning_rate\": 0.16799292006264588<br>  }<br>}",
          "{<br>  \"number\": 87,<br>  \"values\": [<br>    0.11742527067046299,<br>    0.7321944783582703<br>  ],<br>  \"params\": {<br>    \"learning_rate\": 0.11742527067046299<br>  }<br>}"
         ],
         "type": "scatter",
         "x": [
          0.3317048028124761,
          0.1148404311838305,
          0.05307222954482612,
          0.24410089728809634,
          0.12844461011742844,
          0.4498243389528799,
          0.28825962026286955,
          0.19630258423899116,
          0.07377836783758575,
          0.4796291220454122,
          0.21454254531144426,
          0.30521179006815724,
          0.16799292006264588,
          0.11742527067046299
         ],
         "y": [
          0.7182462105095208,
          0.7321994102159477,
          0.7336139976808754,
          0.7254004209977449,
          0.7321027124572879,
          0.7180387023655493,
          0.7220137309076756,
          0.7290264275839735,
          0.7335097300380633,
          0.7120415606860494,
          0.7279770709345865,
          0.7193743184471776,
          0.7309842390105754,
          0.7321944783582703
         ]
        }
       ],
       "layout": {
        "template": {
         "data": {
          "bar": [
           {
            "error_x": {
             "color": "#2a3f5f"
            },
            "error_y": {
             "color": "#2a3f5f"
            },
            "marker": {
             "line": {
              "color": "#E5ECF6",
              "width": 0.5
             },
             "pattern": {
              "fillmode": "overlay",
              "size": 10,
              "solidity": 0.2
             }
            },
            "type": "bar"
           }
          ],
          "barpolar": [
           {
            "marker": {
             "line": {
              "color": "#E5ECF6",
              "width": 0.5
             },
             "pattern": {
              "fillmode": "overlay",
              "size": 10,
              "solidity": 0.2
             }
            },
            "type": "barpolar"
           }
          ],
          "carpet": [
           {
            "aaxis": {
             "endlinecolor": "#2a3f5f",
             "gridcolor": "white",
             "linecolor": "white",
             "minorgridcolor": "white",
             "startlinecolor": "#2a3f5f"
            },
            "baxis": {
             "endlinecolor": "#2a3f5f",
             "gridcolor": "white",
             "linecolor": "white",
             "minorgridcolor": "white",
             "startlinecolor": "#2a3f5f"
            },
            "type": "carpet"
           }
          ],
          "choropleth": [
           {
            "colorbar": {
             "outlinewidth": 0,
             "ticks": ""
            },
            "type": "choropleth"
           }
          ],
          "contour": [
           {
            "colorbar": {
             "outlinewidth": 0,
             "ticks": ""
            },
            "colorscale": [
             [
              0,
              "#0d0887"
             ],
             [
              0.1111111111111111,
              "#46039f"
             ],
             [
              0.2222222222222222,
              "#7201a8"
             ],
             [
              0.3333333333333333,
              "#9c179e"
             ],
             [
              0.4444444444444444,
              "#bd3786"
             ],
             [
              0.5555555555555556,
              "#d8576b"
             ],
             [
              0.6666666666666666,
              "#ed7953"
             ],
             [
              0.7777777777777778,
              "#fb9f3a"
             ],
             [
              0.8888888888888888,
              "#fdca26"
             ],
             [
              1,
              "#f0f921"
             ]
            ],
            "type": "contour"
           }
          ],
          "contourcarpet": [
           {
            "colorbar": {
             "outlinewidth": 0,
             "ticks": ""
            },
            "type": "contourcarpet"
           }
          ],
          "heatmap": [
           {
            "colorbar": {
             "outlinewidth": 0,
             "ticks": ""
            },
            "colorscale": [
             [
              0,
              "#0d0887"
             ],
             [
              0.1111111111111111,
              "#46039f"
             ],
             [
              0.2222222222222222,
              "#7201a8"
             ],
             [
              0.3333333333333333,
              "#9c179e"
             ],
             [
              0.4444444444444444,
              "#bd3786"
             ],
             [
              0.5555555555555556,
              "#d8576b"
             ],
             [
              0.6666666666666666,
              "#ed7953"
             ],
             [
              0.7777777777777778,
              "#fb9f3a"
             ],
             [
              0.8888888888888888,
              "#fdca26"
             ],
             [
              1,
              "#f0f921"
             ]
            ],
            "type": "heatmap"
           }
          ],
          "heatmapgl": [
           {
            "colorbar": {
             "outlinewidth": 0,
             "ticks": ""
            },
            "colorscale": [
             [
              0,
              "#0d0887"
             ],
             [
              0.1111111111111111,
              "#46039f"
             ],
             [
              0.2222222222222222,
              "#7201a8"
             ],
             [
              0.3333333333333333,
              "#9c179e"
             ],
             [
              0.4444444444444444,
              "#bd3786"
             ],
             [
              0.5555555555555556,
              "#d8576b"
             ],
             [
              0.6666666666666666,
              "#ed7953"
             ],
             [
              0.7777777777777778,
              "#fb9f3a"
             ],
             [
              0.8888888888888888,
              "#fdca26"
             ],
             [
              1,
              "#f0f921"
             ]
            ],
            "type": "heatmapgl"
           }
          ],
          "histogram": [
           {
            "marker": {
             "pattern": {
              "fillmode": "overlay",
              "size": 10,
              "solidity": 0.2
             }
            },
            "type": "histogram"
           }
          ],
          "histogram2d": [
           {
            "colorbar": {
             "outlinewidth": 0,
             "ticks": ""
            },
            "colorscale": [
             [
              0,
              "#0d0887"
             ],
             [
              0.1111111111111111,
              "#46039f"
             ],
             [
              0.2222222222222222,
              "#7201a8"
             ],
             [
              0.3333333333333333,
              "#9c179e"
             ],
             [
              0.4444444444444444,
              "#bd3786"
             ],
             [
              0.5555555555555556,
              "#d8576b"
             ],
             [
              0.6666666666666666,
              "#ed7953"
             ],
             [
              0.7777777777777778,
              "#fb9f3a"
             ],
             [
              0.8888888888888888,
              "#fdca26"
             ],
             [
              1,
              "#f0f921"
             ]
            ],
            "type": "histogram2d"
           }
          ],
          "histogram2dcontour": [
           {
            "colorbar": {
             "outlinewidth": 0,
             "ticks": ""
            },
            "colorscale": [
             [
              0,
              "#0d0887"
             ],
             [
              0.1111111111111111,
              "#46039f"
             ],
             [
              0.2222222222222222,
              "#7201a8"
             ],
             [
              0.3333333333333333,
              "#9c179e"
             ],
             [
              0.4444444444444444,
              "#bd3786"
             ],
             [
              0.5555555555555556,
              "#d8576b"
             ],
             [
              0.6666666666666666,
              "#ed7953"
             ],
             [
              0.7777777777777778,
              "#fb9f3a"
             ],
             [
              0.8888888888888888,
              "#fdca26"
             ],
             [
              1,
              "#f0f921"
             ]
            ],
            "type": "histogram2dcontour"
           }
          ],
          "mesh3d": [
           {
            "colorbar": {
             "outlinewidth": 0,
             "ticks": ""
            },
            "type": "mesh3d"
           }
          ],
          "parcoords": [
           {
            "line": {
             "colorbar": {
              "outlinewidth": 0,
              "ticks": ""
             }
            },
            "type": "parcoords"
           }
          ],
          "pie": [
           {
            "automargin": true,
            "type": "pie"
           }
          ],
          "scatter": [
           {
            "fillpattern": {
             "fillmode": "overlay",
             "size": 10,
             "solidity": 0.2
            },
            "type": "scatter"
           }
          ],
          "scatter3d": [
           {
            "line": {
             "colorbar": {
              "outlinewidth": 0,
              "ticks": ""
             }
            },
            "marker": {
             "colorbar": {
              "outlinewidth": 0,
              "ticks": ""
             }
            },
            "type": "scatter3d"
           }
          ],
          "scattercarpet": [
           {
            "marker": {
             "colorbar": {
              "outlinewidth": 0,
              "ticks": ""
             }
            },
            "type": "scattercarpet"
           }
          ],
          "scattergeo": [
           {
            "marker": {
             "colorbar": {
              "outlinewidth": 0,
              "ticks": ""
             }
            },
            "type": "scattergeo"
           }
          ],
          "scattergl": [
           {
            "marker": {
             "colorbar": {
              "outlinewidth": 0,
              "ticks": ""
             }
            },
            "type": "scattergl"
           }
          ],
          "scattermapbox": [
           {
            "marker": {
             "colorbar": {
              "outlinewidth": 0,
              "ticks": ""
             }
            },
            "type": "scattermapbox"
           }
          ],
          "scatterpolar": [
           {
            "marker": {
             "colorbar": {
              "outlinewidth": 0,
              "ticks": ""
             }
            },
            "type": "scatterpolar"
           }
          ],
          "scatterpolargl": [
           {
            "marker": {
             "colorbar": {
              "outlinewidth": 0,
              "ticks": ""
             }
            },
            "type": "scatterpolargl"
           }
          ],
          "scatterternary": [
           {
            "marker": {
             "colorbar": {
              "outlinewidth": 0,
              "ticks": ""
             }
            },
            "type": "scatterternary"
           }
          ],
          "surface": [
           {
            "colorbar": {
             "outlinewidth": 0,
             "ticks": ""
            },
            "colorscale": [
             [
              0,
              "#0d0887"
             ],
             [
              0.1111111111111111,
              "#46039f"
             ],
             [
              0.2222222222222222,
              "#7201a8"
             ],
             [
              0.3333333333333333,
              "#9c179e"
             ],
             [
              0.4444444444444444,
              "#bd3786"
             ],
             [
              0.5555555555555556,
              "#d8576b"
             ],
             [
              0.6666666666666666,
              "#ed7953"
             ],
             [
              0.7777777777777778,
              "#fb9f3a"
             ],
             [
              0.8888888888888888,
              "#fdca26"
             ],
             [
              1,
              "#f0f921"
             ]
            ],
            "type": "surface"
           }
          ],
          "table": [
           {
            "cells": {
             "fill": {
              "color": "#EBF0F8"
             },
             "line": {
              "color": "white"
             }
            },
            "header": {
             "fill": {
              "color": "#C8D4E3"
             },
             "line": {
              "color": "white"
             }
            },
            "type": "table"
           }
          ]
         },
         "layout": {
          "annotationdefaults": {
           "arrowcolor": "#2a3f5f",
           "arrowhead": 0,
           "arrowwidth": 1
          },
          "autotypenumbers": "strict",
          "coloraxis": {
           "colorbar": {
            "outlinewidth": 0,
            "ticks": ""
           }
          },
          "colorscale": {
           "diverging": [
            [
             0,
             "#8e0152"
            ],
            [
             0.1,
             "#c51b7d"
            ],
            [
             0.2,
             "#de77ae"
            ],
            [
             0.3,
             "#f1b6da"
            ],
            [
             0.4,
             "#fde0ef"
            ],
            [
             0.5,
             "#f7f7f7"
            ],
            [
             0.6,
             "#e6f5d0"
            ],
            [
             0.7,
             "#b8e186"
            ],
            [
             0.8,
             "#7fbc41"
            ],
            [
             0.9,
             "#4d9221"
            ],
            [
             1,
             "#276419"
            ]
           ],
           "sequential": [
            [
             0,
             "#0d0887"
            ],
            [
             0.1111111111111111,
             "#46039f"
            ],
            [
             0.2222222222222222,
             "#7201a8"
            ],
            [
             0.3333333333333333,
             "#9c179e"
            ],
            [
             0.4444444444444444,
             "#bd3786"
            ],
            [
             0.5555555555555556,
             "#d8576b"
            ],
            [
             0.6666666666666666,
             "#ed7953"
            ],
            [
             0.7777777777777778,
             "#fb9f3a"
            ],
            [
             0.8888888888888888,
             "#fdca26"
            ],
            [
             1,
             "#f0f921"
            ]
           ],
           "sequentialminus": [
            [
             0,
             "#0d0887"
            ],
            [
             0.1111111111111111,
             "#46039f"
            ],
            [
             0.2222222222222222,
             "#7201a8"
            ],
            [
             0.3333333333333333,
             "#9c179e"
            ],
            [
             0.4444444444444444,
             "#bd3786"
            ],
            [
             0.5555555555555556,
             "#d8576b"
            ],
            [
             0.6666666666666666,
             "#ed7953"
            ],
            [
             0.7777777777777778,
             "#fb9f3a"
            ],
            [
             0.8888888888888888,
             "#fdca26"
            ],
            [
             1,
             "#f0f921"
            ]
           ]
          },
          "colorway": [
           "#636efa",
           "#EF553B",
           "#00cc96",
           "#ab63fa",
           "#FFA15A",
           "#19d3f3",
           "#FF6692",
           "#B6E880",
           "#FF97FF",
           "#FECB52"
          ],
          "font": {
           "color": "#2a3f5f"
          },
          "geo": {
           "bgcolor": "white",
           "lakecolor": "white",
           "landcolor": "#E5ECF6",
           "showlakes": true,
           "showland": true,
           "subunitcolor": "white"
          },
          "hoverlabel": {
           "align": "left"
          },
          "hovermode": "closest",
          "mapbox": {
           "style": "light"
          },
          "paper_bgcolor": "white",
          "plot_bgcolor": "#E5ECF6",
          "polar": {
           "angularaxis": {
            "gridcolor": "white",
            "linecolor": "white",
            "ticks": ""
           },
           "bgcolor": "#E5ECF6",
           "radialaxis": {
            "gridcolor": "white",
            "linecolor": "white",
            "ticks": ""
           }
          },
          "scene": {
           "xaxis": {
            "backgroundcolor": "#E5ECF6",
            "gridcolor": "white",
            "gridwidth": 2,
            "linecolor": "white",
            "showbackground": true,
            "ticks": "",
            "zerolinecolor": "white"
           },
           "yaxis": {
            "backgroundcolor": "#E5ECF6",
            "gridcolor": "white",
            "gridwidth": 2,
            "linecolor": "white",
            "showbackground": true,
            "ticks": "",
            "zerolinecolor": "white"
           },
           "zaxis": {
            "backgroundcolor": "#E5ECF6",
            "gridcolor": "white",
            "gridwidth": 2,
            "linecolor": "white",
            "showbackground": true,
            "ticks": "",
            "zerolinecolor": "white"
           }
          },
          "shapedefaults": {
           "line": {
            "color": "#2a3f5f"
           }
          },
          "ternary": {
           "aaxis": {
            "gridcolor": "white",
            "linecolor": "white",
            "ticks": ""
           },
           "baxis": {
            "gridcolor": "white",
            "linecolor": "white",
            "ticks": ""
           },
           "bgcolor": "#E5ECF6",
           "caxis": {
            "gridcolor": "white",
            "linecolor": "white",
            "ticks": ""
           }
          },
          "title": {
           "x": 0.05
          },
          "xaxis": {
           "automargin": true,
           "gridcolor": "white",
           "linecolor": "white",
           "ticks": "",
           "title": {
            "standoff": 15
           },
           "zerolinecolor": "white",
           "zerolinewidth": 2
          },
          "yaxis": {
           "automargin": true,
           "gridcolor": "white",
           "linecolor": "white",
           "ticks": "",
           "title": {
            "standoff": 15
           },
           "zerolinecolor": "white",
           "zerolinewidth": 2
          }
         }
        },
        "title": {
         "text": "Pareto-front Plot"
        },
        "xaxis": {
         "title": {
          "text": "learning_rate"
         }
        },
        "yaxis": {
         "title": {
          "text": "f1"
         }
        }
       }
      },
      "text/html": [
       "<div>                            <div id=\"f5c97c6e-db5a-4ff5-9b09-b323a292b954\" class=\"plotly-graph-div\" style=\"height:525px; width:100%;\"></div>            <script type=\"text/javascript\">                require([\"plotly\"], function(Plotly) {                    window.PLOTLYENV=window.PLOTLYENV || {};                                    if (document.getElementById(\"f5c97c6e-db5a-4ff5-9b09-b323a292b954\")) {                    Plotly.newPlot(                        \"f5c97c6e-db5a-4ff5-9b09-b323a292b954\",                        [{\"hovertemplate\":\"%{text}<extra>Trial</extra>\",\"marker\":{\"color\":[0,1,2,4,5,6,7,8,9,10,11,13,15,16,17,18,19,20,21,22,23,25,26,28,31,32,33,34,36,37,38,39,40,41,42,44,45,46,47,48,49,50,51,52,54,55,56,57,58,60,61,63,64,65,66,67,69,70,71,72,73,74,75,76,77,78,79,80,81,82,83,84,85,86,88,89,90,91,92,93,94,95,96,97,98,99],\"colorbar\":{\"title\":{\"text\":\"Trial\"}},\"colorscale\":[[0.0,\"rgb(247,251,255)\"],[0.125,\"rgb(222,235,247)\"],[0.25,\"rgb(198,219,239)\"],[0.375,\"rgb(158,202,225)\"],[0.5,\"rgb(107,174,214)\"],[0.625,\"rgb(66,146,198)\"],[0.75,\"rgb(33,113,181)\"],[0.875,\"rgb(8,81,156)\"],[1.0,\"rgb(8,48,107)\"]],\"line\":{\"color\":\"Grey\",\"width\":0.5}},\"mode\":\"markers\",\"showlegend\":false,\"text\":[\"{<br>  \\\"number\\\": 0,<br>  \\\"values\\\": [<br>    0.018276625572235056,<br>    0.7229728382357858<br>  ],<br>  \\\"params\\\": {<br>    \\\"learning_rate\\\": 0.018276625572235056<br>  }<br>}\",\"{<br>  \\\"number\\\": 1,<br>  \\\"values\\\": [<br>    0.012281350875017864,<br>    0.713129498994182<br>  ],<br>  \\\"params\\\": {<br>    \\\"learning_rate\\\": 0.012281350875017864<br>  }<br>}\",\"{<br>  \\\"number\\\": 2,<br>  \\\"values\\\": [<br>    0.3179931543219117,<br>    0.7181352358216049<br>  ],<br>  \\\"params\\\": {<br>    \\\"learning_rate\\\": 0.3179931543219117<br>  }<br>}\",\"{<br>  \\\"number\\\": 4,<br>  \\\"values\\\": [<br>    0.010097499163932589,<br>    0.689595604293249<br>  ],<br>  \\\"params\\\": {<br>    \\\"learning_rate\\\": 0.010097499163932589<br>  }<br>}\",\"{<br>  \\\"number\\\": 5,<br>  \\\"values\\\": [<br>    0.0010284892903758126,<br>    0.4235082247366586<br>  ],<br>  \\\"params\\\": {<br>    \\\"learning_rate\\\": 0.0010284892903758126<br>  }<br>}\",\"{<br>  \\\"number\\\": 6,<br>  \\\"values\\\": [<br>    0.0008073623310050534,<br>    0.4235082247366586<br>  ],<br>  \\\"params\\\": {<br>    \\\"learning_rate\\\": 0.0008073623310050534<br>  }<br>}\",\"{<br>  \\\"number\\\": 7,<br>  \\\"values\\\": [<br>    0.009446892389275133,<br>    0.6841554205738356<br>  ],<br>  \\\"params\\\": {<br>    \\\"learning_rate\\\": 0.009446892389275133<br>  }<br>}\",\"{<br>  \\\"number\\\": 8,<br>  \\\"values\\\": [<br>    0.042129982546996285,<br>    0.7318679125094985<br>  ],<br>  \\\"params\\\": {<br>    \\\"learning_rate\\\": 0.042129982546996285<br>  }<br>}\",\"{<br>  \\\"number\\\": 9,<br>  \\\"values\\\": [<br>    0.006234336282154794,<br>    0.6372047388051083<br>  ],<br>  \\\"params\\\": {<br>    \\\"learning_rate\\\": 0.006234336282154794<br>  }<br>}\",\"{<br>  \\\"number\\\": 10,<br>  \\\"values\\\": [<br>    0.0014213907266344855,<br>    0.4235082247366586<br>  ],<br>  \\\"params\\\": {<br>    \\\"learning_rate\\\": 0.0014213907266344855<br>  }<br>}\",\"{<br>  \\\"number\\\": 11,<br>  \\\"values\\\": [<br>    0.0074818711669891215,<br>    0.6643619268828908<br>  ],<br>  \\\"params\\\": {<br>    \\\"learning_rate\\\": 0.0074818711669891215<br>  }<br>}\",\"{<br>  \\\"number\\\": 13,<br>  \\\"values\\\": [<br>    0.0012664149179400209,<br>    0.4235082247366586<br>  ],<br>  \\\"params\\\": {<br>    \\\"learning_rate\\\": 0.0012664149179400209<br>  }<br>}\",\"{<br>  \\\"number\\\": 15,<br>  \\\"values\\\": [<br>    0.01538041330688695,<br>    0.7173796023919852<br>  ],<br>  \\\"params\\\": {<br>    \\\"learning_rate\\\": 0.01538041330688695<br>  }<br>}\",\"{<br>  \\\"number\\\": 16,<br>  \\\"values\\\": [<br>    0.018396986660930648,<br>    0.7227368738811438<br>  ],<br>  \\\"params\\\": {<br>    \\\"learning_rate\\\": 0.018396986660930648<br>  }<br>}\",\"{<br>  \\\"number\\\": 17,<br>  \\\"values\\\": [<br>    0.0030415201353781317,<br>    0.4235082247366586<br>  ],<br>  \\\"params\\\": {<br>    \\\"learning_rate\\\": 0.0030415201353781317<br>  }<br>}\",\"{<br>  \\\"number\\\": 18,<br>  \\\"values\\\": [<br>    0.34679130964813293,<br>    0.7165372792236238<br>  ],<br>  \\\"params\\\": {<br>    \\\"learning_rate\\\": 0.34679130964813293<br>  }<br>}\",\"{<br>  \\\"number\\\": 19,<br>  \\\"values\\\": [<br>    0.0016185106184141472,<br>    0.4235082247366586<br>  ],<br>  \\\"params\\\": {<br>    \\\"learning_rate\\\": 0.0016185106184141472<br>  }<br>}\",\"{<br>  \\\"number\\\": 20,<br>  \\\"values\\\": [<br>    0.09977031400739048,<br>    0.7302018596960369<br>  ],<br>  \\\"params\\\": {<br>    \\\"learning_rate\\\": 0.09977031400739048<br>  }<br>}\",\"{<br>  \\\"number\\\": 21,<br>  \\\"values\\\": [<br>    0.00015692458115144144,<br>    0.4235082247366586<br>  ],<br>  \\\"params\\\": {<br>    \\\"learning_rate\\\": 0.00015692458115144144<br>  }<br>}\",\"{<br>  \\\"number\\\": 22,<br>  \\\"values\\\": [<br>    0.0014637099340279343,<br>    0.4235082247366586<br>  ],<br>  \\\"params\\\": {<br>    \\\"learning_rate\\\": 0.0014637099340279343<br>  }<br>}\",\"{<br>  \\\"number\\\": 23,<br>  \\\"values\\\": [<br>    0.237542460048024,<br>    0.7216310177763523<br>  ],<br>  \\\"params\\\": {<br>    \\\"learning_rate\\\": 0.237542460048024<br>  }<br>}\",\"{<br>  \\\"number\\\": 25,<br>  \\\"values\\\": [<br>    0.039216586476540555,<br>    0.7301579035907364<br>  ],<br>  \\\"params\\\": {<br>    \\\"learning_rate\\\": 0.039216586476540555<br>  }<br>}\",\"{<br>  \\\"number\\\": 26,<br>  \\\"values\\\": [<br>    0.04413193652148863,<br>    0.7292176187667853<br>  ],<br>  \\\"params\\\": {<br>    \\\"learning_rate\\\": 0.04413193652148863<br>  }<br>}\",\"{<br>  \\\"number\\\": 28,<br>  \\\"values\\\": [<br>    0.0006332697167843045,<br>    0.4235082247366586<br>  ],<br>  \\\"params\\\": {<br>    \\\"learning_rate\\\": 0.0006332697167843045<br>  }<br>}\",\"{<br>  \\\"number\\\": 31,<br>  \\\"values\\\": [<br>    0.036619413830782564,<br>    0.7302184406320554<br>  ],<br>  \\\"params\\\": {<br>    \\\"learning_rate\\\": 0.036619413830782564<br>  }<br>}\",\"{<br>  \\\"number\\\": 32,<br>  \\\"values\\\": [<br>    0.03610204856200786,<br>    0.7304328067409969<br>  ],<br>  \\\"params\\\": {<br>    \\\"learning_rate\\\": 0.03610204856200786<br>  }<br>}\",\"{<br>  \\\"number\\\": 33,<br>  \\\"values\\\": [<br>    0.0021961450728918896,<br>    0.4235082247366586<br>  ],<br>  \\\"params\\\": {<br>    \\\"learning_rate\\\": 0.0021961450728918896<br>  }<br>}\",\"{<br>  \\\"number\\\": 34,<br>  \\\"values\\\": [<br>    0.012193586140043794,<br>    0.7120523440790167<br>  ],<br>  \\\"params\\\": {<br>    \\\"learning_rate\\\": 0.012193586140043794<br>  }<br>}\",\"{<br>  \\\"number\\\": 36,<br>  \\\"values\\\": [<br>    0.00017918412416240907,<br>    0.4235082247366586<br>  ],<br>  \\\"params\\\": {<br>    \\\"learning_rate\\\": 0.00017918412416240907<br>  }<br>}\",\"{<br>  \\\"number\\\": 37,<br>  \\\"values\\\": [<br>    0.014133500358080071,<br>    0.7167142851538554<br>  ],<br>  \\\"params\\\": {<br>    \\\"learning_rate\\\": 0.014133500358080071<br>  }<br>}\",\"{<br>  \\\"number\\\": 38,<br>  \\\"values\\\": [<br>    0.04852382290869409,<br>    0.7310333204595433<br>  ],<br>  \\\"params\\\": {<br>    \\\"learning_rate\\\": 0.04852382290869409<br>  }<br>}\",\"{<br>  \\\"number\\\": 39,<br>  \\\"values\\\": [<br>    0.040201201662143485,<br>    0.7306614283099379<br>  ],<br>  \\\"params\\\": {<br>    \\\"learning_rate\\\": 0.040201201662143485<br>  }<br>}\",\"{<br>  \\\"number\\\": 40,<br>  \\\"values\\\": [<br>    0.0011776265316570207,<br>    0.4235082247366586<br>  ],<br>  \\\"params\\\": {<br>    \\\"learning_rate\\\": 0.0011776265316570207<br>  }<br>}\",\"{<br>  \\\"number\\\": 41,<br>  \\\"values\\\": [<br>    0.026396073829949854,<br>    0.7294521208392316<br>  ],<br>  \\\"params\\\": {<br>    \\\"learning_rate\\\": 0.026396073829949854<br>  }<br>}\",\"{<br>  \\\"number\\\": 42,<br>  \\\"values\\\": [<br>    0.19287363423507076,<br>    0.7259236143539816<br>  ],<br>  \\\"params\\\": {<br>    \\\"learning_rate\\\": 0.19287363423507076<br>  }<br>}\",\"{<br>  \\\"number\\\": 44,<br>  \\\"values\\\": [<br>    0.06950786503628438,<br>    0.7323174432397132<br>  ],<br>  \\\"params\\\": {<br>    \\\"learning_rate\\\": 0.06950786503628438<br>  }<br>}\",\"{<br>  \\\"number\\\": 45,<br>  \\\"values\\\": [<br>    0.0013182070434705978,<br>    0.4235082247366586<br>  ],<br>  \\\"params\\\": {<br>    \\\"learning_rate\\\": 0.0013182070434705978<br>  }<br>}\",\"{<br>  \\\"number\\\": 46,<br>  \\\"values\\\": [<br>    0.0001689170415983065,<br>    0.4235082247366586<br>  ],<br>  \\\"params\\\": {<br>    \\\"learning_rate\\\": 0.0001689170415983065<br>  }<br>}\",\"{<br>  \\\"number\\\": 47,<br>  \\\"values\\\": [<br>    0.0021018530965500105,<br>    0.4235082247366586<br>  ],<br>  \\\"params\\\": {<br>    \\\"learning_rate\\\": 0.0021018530965500105<br>  }<br>}\",\"{<br>  \\\"number\\\": 48,<br>  \\\"values\\\": [<br>    0.00019287163151974652,<br>    0.4235082247366586<br>  ],<br>  \\\"params\\\": {<br>    \\\"learning_rate\\\": 0.00019287163151974652<br>  }<br>}\",\"{<br>  \\\"number\\\": 49,<br>  \\\"values\\\": [<br>    0.1714187324525616,<br>    0.7274564562489783<br>  ],<br>  \\\"params\\\": {<br>    \\\"learning_rate\\\": 0.1714187324525616<br>  }<br>}\",\"{<br>  \\\"number\\\": 50,<br>  \\\"values\\\": [<br>    0.028218912249716382,<br>    0.7285799931977797<br>  ],<br>  \\\"params\\\": {<br>    \\\"learning_rate\\\": 0.028218912249716382<br>  }<br>}\",\"{<br>  \\\"number\\\": 51,<br>  \\\"values\\\": [<br>    0.00037469787058577405,<br>    0.4235082247366586<br>  ],<br>  \\\"params\\\": {<br>    \\\"learning_rate\\\": 0.00037469787058577405<br>  }<br>}\",\"{<br>  \\\"number\\\": 52,<br>  \\\"values\\\": [<br>    0.016517619384449466,<br>    0.7201909680929806<br>  ],<br>  \\\"params\\\": {<br>    \\\"learning_rate\\\": 0.016517619384449466<br>  }<br>}\",\"{<br>  \\\"number\\\": 54,<br>  \\\"values\\\": [<br>    0.01075645544167512,<br>    0.6983807551597365<br>  ],<br>  \\\"params\\\": {<br>    \\\"learning_rate\\\": 0.01075645544167512<br>  }<br>}\",\"{<br>  \\\"number\\\": 55,<br>  \\\"values\\\": [<br>    0.0013300668001608705,<br>    0.4235082247366586<br>  ],<br>  \\\"params\\\": {<br>    \\\"learning_rate\\\": 0.0013300668001608705<br>  }<br>}\",\"{<br>  \\\"number\\\": 56,<br>  \\\"values\\\": [<br>    0.009234620597188305,<br>    0.6815820697212852<br>  ],<br>  \\\"params\\\": {<br>    \\\"learning_rate\\\": 0.009234620597188305<br>  }<br>}\",\"{<br>  \\\"number\\\": 57,<br>  \\\"values\\\": [<br>    0.030789337644333142,<br>    0.7297299658845593<br>  ],<br>  \\\"params\\\": {<br>    \\\"learning_rate\\\": 0.030789337644333142<br>  }<br>}\",\"{<br>  \\\"number\\\": 58,<br>  \\\"values\\\": [<br>    0.0005196761744466342,<br>    0.4235082247366586<br>  ],<br>  \\\"params\\\": {<br>    \\\"learning_rate\\\": 0.0005196761744466342<br>  }<br>}\",\"{<br>  \\\"number\\\": 60,<br>  \\\"values\\\": [<br>    0.023714036796718886,<br>    0.7259369472766212<br>  ],<br>  \\\"params\\\": {<br>    \\\"learning_rate\\\": 0.023714036796718886<br>  }<br>}\",\"{<br>  \\\"number\\\": 61,<br>  \\\"values\\\": [<br>    0.042951701452191404,<br>    0.7302474855948291<br>  ],<br>  \\\"params\\\": {<br>    \\\"learning_rate\\\": 0.042951701452191404<br>  }<br>}\",\"{<br>  \\\"number\\\": 63,<br>  \\\"values\\\": [<br>    0.0031088442966744653,<br>    0.4235082247366586<br>  ],<br>  \\\"params\\\": {<br>    \\\"learning_rate\\\": 0.0031088442966744653<br>  }<br>}\",\"{<br>  \\\"number\\\": 64,<br>  \\\"values\\\": [<br>    0.0004014235312843208,<br>    0.4235082247366586<br>  ],<br>  \\\"params\\\": {<br>    \\\"learning_rate\\\": 0.0004014235312843208<br>  }<br>}\",\"{<br>  \\\"number\\\": 65,<br>  \\\"values\\\": [<br>    0.005578035829630357,<br>    0.6170142717941252<br>  ],<br>  \\\"params\\\": {<br>    \\\"learning_rate\\\": 0.005578035829630357<br>  }<br>}\",\"{<br>  \\\"number\\\": 66,<br>  \\\"values\\\": [<br>    0.0001592544431367279,<br>    0.4235082247366586<br>  ],<br>  \\\"params\\\": {<br>    \\\"learning_rate\\\": 0.0001592544431367279<br>  }<br>}\",\"{<br>  \\\"number\\\": 67,<br>  \\\"values\\\": [<br>    0.0807232375319011,<br>    0.7309408871913655<br>  ],<br>  \\\"params\\\": {<br>    \\\"learning_rate\\\": 0.0807232375319011<br>  }<br>}\",\"{<br>  \\\"number\\\": 69,<br>  \\\"values\\\": [<br>    0.04159311590472715,<br>    0.7313584050417112<br>  ],<br>  \\\"params\\\": {<br>    \\\"learning_rate\\\": 0.04159311590472715<br>  }<br>}\",\"{<br>  \\\"number\\\": 70,<br>  \\\"values\\\": [<br>    0.0007829813261500128,<br>    0.4235082247366586<br>  ],<br>  \\\"params\\\": {<br>    \\\"learning_rate\\\": 0.0007829813261500128<br>  }<br>}\",\"{<br>  \\\"number\\\": 71,<br>  \\\"values\\\": [<br>    0.0005327862205087224,<br>    0.4235082247366586<br>  ],<br>  \\\"params\\\": {<br>    \\\"learning_rate\\\": 0.0005327862205087224<br>  }<br>}\",\"{<br>  \\\"number\\\": 72,<br>  \\\"values\\\": [<br>    0.011004042996587247,<br>    0.7013991059388606<br>  ],<br>  \\\"params\\\": {<br>    \\\"learning_rate\\\": 0.011004042996587247<br>  }<br>}\",\"{<br>  \\\"number\\\": 73,<br>  \\\"values\\\": [<br>    0.012096495400321669,<br>    0.7112448137800941<br>  ],<br>  \\\"params\\\": {<br>    \\\"learning_rate\\\": 0.012096495400321669<br>  }<br>}\",\"{<br>  \\\"number\\\": 74,<br>  \\\"values\\\": [<br>    0.07830377287729806,<br>    0.7306338561389435<br>  ],<br>  \\\"params\\\": {<br>    \\\"learning_rate\\\": 0.07830377287729806<br>  }<br>}\",\"{<br>  \\\"number\\\": 75,<br>  \\\"values\\\": [<br>    0.0020289312962674306,<br>    0.4235082247366586<br>  ],<br>  \\\"params\\\": {<br>    \\\"learning_rate\\\": 0.0020289312962674306<br>  }<br>}\",\"{<br>  \\\"number\\\": 76,<br>  \\\"values\\\": [<br>    0.007003614272196497,<br>    0.653715322076985<br>  ],<br>  \\\"params\\\": {<br>    \\\"learning_rate\\\": 0.007003614272196497<br>  }<br>}\",\"{<br>  \\\"number\\\": 77,<br>  \\\"values\\\": [<br>    0.026811861365256547,<br>    0.7281393119846103<br>  ],<br>  \\\"params\\\": {<br>    \\\"learning_rate\\\": 0.026811861365256547<br>  }<br>}\",\"{<br>  \\\"number\\\": 78,<br>  \\\"values\\\": [<br>    0.0014534431094221844,<br>    0.4235082247366586<br>  ],<br>  \\\"params\\\": {<br>    \\\"learning_rate\\\": 0.0014534431094221844<br>  }<br>}\",\"{<br>  \\\"number\\\": 79,<br>  \\\"values\\\": [<br>    0.07184266906020101,<br>    0.7318954915835494<br>  ],<br>  \\\"params\\\": {<br>    \\\"learning_rate\\\": 0.07184266906020101<br>  }<br>}\",\"{<br>  \\\"number\\\": 80,<br>  \\\"values\\\": [<br>    0.20138173825410338,<br>    0.7278080193179831<br>  ],<br>  \\\"params\\\": {<br>    \\\"learning_rate\\\": 0.20138173825410338<br>  }<br>}\",\"{<br>  \\\"number\\\": 81,<br>  \\\"values\\\": [<br>    0.01956656266919498,<br>    0.7259187426802697<br>  ],<br>  \\\"params\\\": {<br>    \\\"learning_rate\\\": 0.01956656266919498<br>  }<br>}\",\"{<br>  \\\"number\\\": 82,<br>  \\\"values\\\": [<br>    0.005251844487229045,<br>    0.6024609734794308<br>  ],<br>  \\\"params\\\": {<br>    \\\"learning_rate\\\": 0.005251844487229045<br>  }<br>}\",\"{<br>  \\\"number\\\": 83,<br>  \\\"values\\\": [<br>    0.0007975269741962664,<br>    0.4235082247366586<br>  ],<br>  \\\"params\\\": {<br>    \\\"learning_rate\\\": 0.0007975269741962664<br>  }<br>}\",\"{<br>  \\\"number\\\": 84,<br>  \\\"values\\\": [<br>    0.0005538907493946157,<br>    0.4235082247366586<br>  ],<br>  \\\"params\\\": {<br>    \\\"learning_rate\\\": 0.0005538907493946157<br>  }<br>}\",\"{<br>  \\\"number\\\": 85,<br>  \\\"values\\\": [<br>    0.0835122016432078,<br>    0.7321890615843162<br>  ],<br>  \\\"params\\\": {<br>    \\\"learning_rate\\\": 0.0835122016432078<br>  }<br>}\",\"{<br>  \\\"number\\\": 86,<br>  \\\"values\\\": [<br>    0.0006260697703589752,<br>    0.4235082247366586<br>  ],<br>  \\\"params\\\": {<br>    \\\"learning_rate\\\": 0.0006260697703589752<br>  }<br>}\",\"{<br>  \\\"number\\\": 88,<br>  \\\"values\\\": [<br>    0.004544231657855253,<br>    0.5343888745179519<br>  ],<br>  \\\"params\\\": {<br>    \\\"learning_rate\\\": 0.004544231657855253<br>  }<br>}\",\"{<br>  \\\"number\\\": 89,<br>  \\\"values\\\": [<br>    0.00012209259631005412,<br>    0.4235082247366586<br>  ],<br>  \\\"params\\\": {<br>    \\\"learning_rate\\\": 0.00012209259631005412<br>  }<br>}\",\"{<br>  \\\"number\\\": 90,<br>  \\\"values\\\": [<br>    0.001267549290534437,<br>    0.4235082247366586<br>  ],<br>  \\\"params\\\": {<br>    \\\"learning_rate\\\": 0.001267549290534437<br>  }<br>}\",\"{<br>  \\\"number\\\": 91,<br>  \\\"values\\\": [<br>    0.004363976487357013,<br>    0.5087369170754972<br>  ],<br>  \\\"params\\\": {<br>    \\\"learning_rate\\\": 0.004363976487357013<br>  }<br>}\",\"{<br>  \\\"number\\\": 92,<br>  \\\"values\\\": [<br>    0.017485462659550834,<br>    0.722280452051524<br>  ],<br>  \\\"params\\\": {<br>    \\\"learning_rate\\\": 0.017485462659550834<br>  }<br>}\",\"{<br>  \\\"number\\\": 93,<br>  \\\"values\\\": [<br>    0.44828056389247145,<br>    0.7116760995541701<br>  ],<br>  \\\"params\\\": {<br>    \\\"learning_rate\\\": 0.44828056389247145<br>  }<br>}\",\"{<br>  \\\"number\\\": 94,<br>  \\\"values\\\": [<br>    0.08277845673611592,<br>    0.7314187112500111<br>  ],<br>  \\\"params\\\": {<br>    \\\"learning_rate\\\": 0.08277845673611592<br>  }<br>}\",\"{<br>  \\\"number\\\": 95,<br>  \\\"values\\\": [<br>    0.0003291311959625348,<br>    0.4235082247366586<br>  ],<br>  \\\"params\\\": {<br>    \\\"learning_rate\\\": 0.0003291311959625348<br>  }<br>}\",\"{<br>  \\\"number\\\": 96,<br>  \\\"values\\\": [<br>    0.00022868118733042252,<br>    0.4235082247366586<br>  ],<br>  \\\"params\\\": {<br>    \\\"learning_rate\\\": 0.00022868118733042252<br>  }<br>}\",\"{<br>  \\\"number\\\": 97,<br>  \\\"values\\\": [<br>    0.18286145837300968,<br>    0.7262427071035374<br>  ],<br>  \\\"params\\\": {<br>    \\\"learning_rate\\\": 0.18286145837300968<br>  }<br>}\",\"{<br>  \\\"number\\\": 98,<br>  \\\"values\\\": [<br>    0.06941692989749879,<br>    0.7295385067809874<br>  ],<br>  \\\"params\\\": {<br>    \\\"learning_rate\\\": 0.06941692989749879<br>  }<br>}\",\"{<br>  \\\"number\\\": 99,<br>  \\\"values\\\": [<br>    0.19305171220017311,<br>    0.7262367052555226<br>  ],<br>  \\\"params\\\": {<br>    \\\"learning_rate\\\": 0.19305171220017311<br>  }<br>}\"],\"x\":[0.018276625572235056,0.012281350875017864,0.3179931543219117,0.010097499163932589,0.0010284892903758126,0.0008073623310050534,0.009446892389275133,0.042129982546996285,0.006234336282154794,0.0014213907266344855,0.0074818711669891215,0.0012664149179400209,0.01538041330688695,0.018396986660930648,0.0030415201353781317,0.34679130964813293,0.0016185106184141472,0.09977031400739048,0.00015692458115144144,0.0014637099340279343,0.237542460048024,0.039216586476540555,0.04413193652148863,0.0006332697167843045,0.036619413830782564,0.03610204856200786,0.0021961450728918896,0.012193586140043794,0.00017918412416240907,0.014133500358080071,0.04852382290869409,0.040201201662143485,0.0011776265316570207,0.026396073829949854,0.19287363423507076,0.06950786503628438,0.0013182070434705978,0.0001689170415983065,0.0021018530965500105,0.00019287163151974652,0.1714187324525616,0.028218912249716382,0.00037469787058577405,0.016517619384449466,0.01075645544167512,0.0013300668001608705,0.009234620597188305,0.030789337644333142,0.0005196761744466342,0.023714036796718886,0.042951701452191404,0.0031088442966744653,0.0004014235312843208,0.005578035829630357,0.0001592544431367279,0.0807232375319011,0.04159311590472715,0.0007829813261500128,0.0005327862205087224,0.011004042996587247,0.012096495400321669,0.07830377287729806,0.0020289312962674306,0.007003614272196497,0.026811861365256547,0.0014534431094221844,0.07184266906020101,0.20138173825410338,0.01956656266919498,0.005251844487229045,0.0007975269741962664,0.0005538907493946157,0.0835122016432078,0.0006260697703589752,0.004544231657855253,0.00012209259631005412,0.001267549290534437,0.004363976487357013,0.017485462659550834,0.44828056389247145,0.08277845673611592,0.0003291311959625348,0.00022868118733042252,0.18286145837300968,0.06941692989749879,0.19305171220017311],\"y\":[0.7229728382357858,0.713129498994182,0.7181352358216049,0.689595604293249,0.4235082247366586,0.4235082247366586,0.6841554205738356,0.7318679125094985,0.6372047388051083,0.4235082247366586,0.6643619268828908,0.4235082247366586,0.7173796023919852,0.7227368738811438,0.4235082247366586,0.7165372792236238,0.4235082247366586,0.7302018596960369,0.4235082247366586,0.4235082247366586,0.7216310177763523,0.7301579035907364,0.7292176187667853,0.4235082247366586,0.7302184406320554,0.7304328067409969,0.4235082247366586,0.7120523440790167,0.4235082247366586,0.7167142851538554,0.7310333204595433,0.7306614283099379,0.4235082247366586,0.7294521208392316,0.7259236143539816,0.7323174432397132,0.4235082247366586,0.4235082247366586,0.4235082247366586,0.4235082247366586,0.7274564562489783,0.7285799931977797,0.4235082247366586,0.7201909680929806,0.6983807551597365,0.4235082247366586,0.6815820697212852,0.7297299658845593,0.4235082247366586,0.7259369472766212,0.7302474855948291,0.4235082247366586,0.4235082247366586,0.6170142717941252,0.4235082247366586,0.7309408871913655,0.7313584050417112,0.4235082247366586,0.4235082247366586,0.7013991059388606,0.7112448137800941,0.7306338561389435,0.4235082247366586,0.653715322076985,0.7281393119846103,0.4235082247366586,0.7318954915835494,0.7278080193179831,0.7259187426802697,0.6024609734794308,0.4235082247366586,0.4235082247366586,0.7321890615843162,0.4235082247366586,0.5343888745179519,0.4235082247366586,0.4235082247366586,0.5087369170754972,0.722280452051524,0.7116760995541701,0.7314187112500111,0.4235082247366586,0.4235082247366586,0.7262427071035374,0.7295385067809874,0.7262367052555226],\"type\":\"scatter\"},{\"hovertemplate\":\"%{text}<extra>Best Trial</extra>\",\"marker\":{\"color\":[3,12,14,24,27,29,30,35,43,53,59,62,68,87],\"colorbar\":{\"title\":{\"text\":\"Best Trial\"},\"x\":1.1,\"xpad\":40},\"colorscale\":[[0.0,\"rgb(255,245,240)\"],[0.125,\"rgb(254,224,210)\"],[0.25,\"rgb(252,187,161)\"],[0.375,\"rgb(252,146,114)\"],[0.5,\"rgb(251,106,74)\"],[0.625,\"rgb(239,59,44)\"],[0.75,\"rgb(203,24,29)\"],[0.875,\"rgb(165,15,21)\"],[1.0,\"rgb(103,0,13)\"]],\"line\":{\"color\":\"Grey\",\"width\":0.5}},\"mode\":\"markers\",\"showlegend\":false,\"text\":[\"{<br>  \\\"number\\\": 3,<br>  \\\"values\\\": [<br>    0.3317048028124761,<br>    0.7182462105095208<br>  ],<br>  \\\"params\\\": {<br>    \\\"learning_rate\\\": 0.3317048028124761<br>  }<br>}\",\"{<br>  \\\"number\\\": 12,<br>  \\\"values\\\": [<br>    0.1148404311838305,<br>    0.7321994102159477<br>  ],<br>  \\\"params\\\": {<br>    \\\"learning_rate\\\": 0.1148404311838305<br>  }<br>}\",\"{<br>  \\\"number\\\": 14,<br>  \\\"values\\\": [<br>    0.05307222954482612,<br>    0.7336139976808754<br>  ],<br>  \\\"params\\\": {<br>    \\\"learning_rate\\\": 0.05307222954482612<br>  }<br>}\",\"{<br>  \\\"number\\\": 24,<br>  \\\"values\\\": [<br>    0.24410089728809634,<br>    0.7254004209977449<br>  ],<br>  \\\"params\\\": {<br>    \\\"learning_rate\\\": 0.24410089728809634<br>  }<br>}\",\"{<br>  \\\"number\\\": 27,<br>  \\\"values\\\": [<br>    0.12844461011742844,<br>    0.7321027124572879<br>  ],<br>  \\\"params\\\": {<br>    \\\"learning_rate\\\": 0.12844461011742844<br>  }<br>}\",\"{<br>  \\\"number\\\": 29,<br>  \\\"values\\\": [<br>    0.4498243389528799,<br>    0.7180387023655493<br>  ],<br>  \\\"params\\\": {<br>    \\\"learning_rate\\\": 0.4498243389528799<br>  }<br>}\",\"{<br>  \\\"number\\\": 30,<br>  \\\"values\\\": [<br>    0.28825962026286955,<br>    0.7220137309076756<br>  ],<br>  \\\"params\\\": {<br>    \\\"learning_rate\\\": 0.28825962026286955<br>  }<br>}\",\"{<br>  \\\"number\\\": 35,<br>  \\\"values\\\": [<br>    0.19630258423899116,<br>    0.7290264275839735<br>  ],<br>  \\\"params\\\": {<br>    \\\"learning_rate\\\": 0.19630258423899116<br>  }<br>}\",\"{<br>  \\\"number\\\": 43,<br>  \\\"values\\\": [<br>    0.07377836783758575,<br>    0.7335097300380633<br>  ],<br>  \\\"params\\\": {<br>    \\\"learning_rate\\\": 0.07377836783758575<br>  }<br>}\",\"{<br>  \\\"number\\\": 53,<br>  \\\"values\\\": [<br>    0.4796291220454122,<br>    0.7120415606860494<br>  ],<br>  \\\"params\\\": {<br>    \\\"learning_rate\\\": 0.4796291220454122<br>  }<br>}\",\"{<br>  \\\"number\\\": 59,<br>  \\\"values\\\": [<br>    0.21454254531144426,<br>    0.7279770709345865<br>  ],<br>  \\\"params\\\": {<br>    \\\"learning_rate\\\": 0.21454254531144426<br>  }<br>}\",\"{<br>  \\\"number\\\": 62,<br>  \\\"values\\\": [<br>    0.30521179006815724,<br>    0.7193743184471776<br>  ],<br>  \\\"params\\\": {<br>    \\\"learning_rate\\\": 0.30521179006815724<br>  }<br>}\",\"{<br>  \\\"number\\\": 68,<br>  \\\"values\\\": [<br>    0.16799292006264588,<br>    0.7309842390105754<br>  ],<br>  \\\"params\\\": {<br>    \\\"learning_rate\\\": 0.16799292006264588<br>  }<br>}\",\"{<br>  \\\"number\\\": 87,<br>  \\\"values\\\": [<br>    0.11742527067046299,<br>    0.7321944783582703<br>  ],<br>  \\\"params\\\": {<br>    \\\"learning_rate\\\": 0.11742527067046299<br>  }<br>}\"],\"x\":[0.3317048028124761,0.1148404311838305,0.05307222954482612,0.24410089728809634,0.12844461011742844,0.4498243389528799,0.28825962026286955,0.19630258423899116,0.07377836783758575,0.4796291220454122,0.21454254531144426,0.30521179006815724,0.16799292006264588,0.11742527067046299],\"y\":[0.7182462105095208,0.7321994102159477,0.7336139976808754,0.7254004209977449,0.7321027124572879,0.7180387023655493,0.7220137309076756,0.7290264275839735,0.7335097300380633,0.7120415606860494,0.7279770709345865,0.7193743184471776,0.7309842390105754,0.7321944783582703],\"type\":\"scatter\"}],                        {\"title\":{\"text\":\"Pareto-front Plot\"},\"xaxis\":{\"title\":{\"text\":\"learning_rate\"}},\"yaxis\":{\"title\":{\"text\":\"f1\"}},\"template\":{\"data\":{\"histogram2dcontour\":[{\"type\":\"histogram2dcontour\",\"colorbar\":{\"outlinewidth\":0,\"ticks\":\"\"},\"colorscale\":[[0.0,\"#0d0887\"],[0.1111111111111111,\"#46039f\"],[0.2222222222222222,\"#7201a8\"],[0.3333333333333333,\"#9c179e\"],[0.4444444444444444,\"#bd3786\"],[0.5555555555555556,\"#d8576b\"],[0.6666666666666666,\"#ed7953\"],[0.7777777777777778,\"#fb9f3a\"],[0.8888888888888888,\"#fdca26\"],[1.0,\"#f0f921\"]]}],\"choropleth\":[{\"type\":\"choropleth\",\"colorbar\":{\"outlinewidth\":0,\"ticks\":\"\"}}],\"histogram2d\":[{\"type\":\"histogram2d\",\"colorbar\":{\"outlinewidth\":0,\"ticks\":\"\"},\"colorscale\":[[0.0,\"#0d0887\"],[0.1111111111111111,\"#46039f\"],[0.2222222222222222,\"#7201a8\"],[0.3333333333333333,\"#9c179e\"],[0.4444444444444444,\"#bd3786\"],[0.5555555555555556,\"#d8576b\"],[0.6666666666666666,\"#ed7953\"],[0.7777777777777778,\"#fb9f3a\"],[0.8888888888888888,\"#fdca26\"],[1.0,\"#f0f921\"]]}],\"heatmap\":[{\"type\":\"heatmap\",\"colorbar\":{\"outlinewidth\":0,\"ticks\":\"\"},\"colorscale\":[[0.0,\"#0d0887\"],[0.1111111111111111,\"#46039f\"],[0.2222222222222222,\"#7201a8\"],[0.3333333333333333,\"#9c179e\"],[0.4444444444444444,\"#bd3786\"],[0.5555555555555556,\"#d8576b\"],[0.6666666666666666,\"#ed7953\"],[0.7777777777777778,\"#fb9f3a\"],[0.8888888888888888,\"#fdca26\"],[1.0,\"#f0f921\"]]}],\"heatmapgl\":[{\"type\":\"heatmapgl\",\"colorbar\":{\"outlinewidth\":0,\"ticks\":\"\"},\"colorscale\":[[0.0,\"#0d0887\"],[0.1111111111111111,\"#46039f\"],[0.2222222222222222,\"#7201a8\"],[0.3333333333333333,\"#9c179e\"],[0.4444444444444444,\"#bd3786\"],[0.5555555555555556,\"#d8576b\"],[0.6666666666666666,\"#ed7953\"],[0.7777777777777778,\"#fb9f3a\"],[0.8888888888888888,\"#fdca26\"],[1.0,\"#f0f921\"]]}],\"contourcarpet\":[{\"type\":\"contourcarpet\",\"colorbar\":{\"outlinewidth\":0,\"ticks\":\"\"}}],\"contour\":[{\"type\":\"contour\",\"colorbar\":{\"outlinewidth\":0,\"ticks\":\"\"},\"colorscale\":[[0.0,\"#0d0887\"],[0.1111111111111111,\"#46039f\"],[0.2222222222222222,\"#7201a8\"],[0.3333333333333333,\"#9c179e\"],[0.4444444444444444,\"#bd3786\"],[0.5555555555555556,\"#d8576b\"],[0.6666666666666666,\"#ed7953\"],[0.7777777777777778,\"#fb9f3a\"],[0.8888888888888888,\"#fdca26\"],[1.0,\"#f0f921\"]]}],\"surface\":[{\"type\":\"surface\",\"colorbar\":{\"outlinewidth\":0,\"ticks\":\"\"},\"colorscale\":[[0.0,\"#0d0887\"],[0.1111111111111111,\"#46039f\"],[0.2222222222222222,\"#7201a8\"],[0.3333333333333333,\"#9c179e\"],[0.4444444444444444,\"#bd3786\"],[0.5555555555555556,\"#d8576b\"],[0.6666666666666666,\"#ed7953\"],[0.7777777777777778,\"#fb9f3a\"],[0.8888888888888888,\"#fdca26\"],[1.0,\"#f0f921\"]]}],\"mesh3d\":[{\"type\":\"mesh3d\",\"colorbar\":{\"outlinewidth\":0,\"ticks\":\"\"}}],\"scatter\":[{\"fillpattern\":{\"fillmode\":\"overlay\",\"size\":10,\"solidity\":0.2},\"type\":\"scatter\"}],\"parcoords\":[{\"type\":\"parcoords\",\"line\":{\"colorbar\":{\"outlinewidth\":0,\"ticks\":\"\"}}}],\"scatterpolargl\":[{\"type\":\"scatterpolargl\",\"marker\":{\"colorbar\":{\"outlinewidth\":0,\"ticks\":\"\"}}}],\"bar\":[{\"error_x\":{\"color\":\"#2a3f5f\"},\"error_y\":{\"color\":\"#2a3f5f\"},\"marker\":{\"line\":{\"color\":\"#E5ECF6\",\"width\":0.5},\"pattern\":{\"fillmode\":\"overlay\",\"size\":10,\"solidity\":0.2}},\"type\":\"bar\"}],\"scattergeo\":[{\"type\":\"scattergeo\",\"marker\":{\"colorbar\":{\"outlinewidth\":0,\"ticks\":\"\"}}}],\"scatterpolar\":[{\"type\":\"scatterpolar\",\"marker\":{\"colorbar\":{\"outlinewidth\":0,\"ticks\":\"\"}}}],\"histogram\":[{\"marker\":{\"pattern\":{\"fillmode\":\"overlay\",\"size\":10,\"solidity\":0.2}},\"type\":\"histogram\"}],\"scattergl\":[{\"type\":\"scattergl\",\"marker\":{\"colorbar\":{\"outlinewidth\":0,\"ticks\":\"\"}}}],\"scatter3d\":[{\"type\":\"scatter3d\",\"line\":{\"colorbar\":{\"outlinewidth\":0,\"ticks\":\"\"}},\"marker\":{\"colorbar\":{\"outlinewidth\":0,\"ticks\":\"\"}}}],\"scattermapbox\":[{\"type\":\"scattermapbox\",\"marker\":{\"colorbar\":{\"outlinewidth\":0,\"ticks\":\"\"}}}],\"scatterternary\":[{\"type\":\"scatterternary\",\"marker\":{\"colorbar\":{\"outlinewidth\":0,\"ticks\":\"\"}}}],\"scattercarpet\":[{\"type\":\"scattercarpet\",\"marker\":{\"colorbar\":{\"outlinewidth\":0,\"ticks\":\"\"}}}],\"carpet\":[{\"aaxis\":{\"endlinecolor\":\"#2a3f5f\",\"gridcolor\":\"white\",\"linecolor\":\"white\",\"minorgridcolor\":\"white\",\"startlinecolor\":\"#2a3f5f\"},\"baxis\":{\"endlinecolor\":\"#2a3f5f\",\"gridcolor\":\"white\",\"linecolor\":\"white\",\"minorgridcolor\":\"white\",\"startlinecolor\":\"#2a3f5f\"},\"type\":\"carpet\"}],\"table\":[{\"cells\":{\"fill\":{\"color\":\"#EBF0F8\"},\"line\":{\"color\":\"white\"}},\"header\":{\"fill\":{\"color\":\"#C8D4E3\"},\"line\":{\"color\":\"white\"}},\"type\":\"table\"}],\"barpolar\":[{\"marker\":{\"line\":{\"color\":\"#E5ECF6\",\"width\":0.5},\"pattern\":{\"fillmode\":\"overlay\",\"size\":10,\"solidity\":0.2}},\"type\":\"barpolar\"}],\"pie\":[{\"automargin\":true,\"type\":\"pie\"}]},\"layout\":{\"autotypenumbers\":\"strict\",\"colorway\":[\"#636efa\",\"#EF553B\",\"#00cc96\",\"#ab63fa\",\"#FFA15A\",\"#19d3f3\",\"#FF6692\",\"#B6E880\",\"#FF97FF\",\"#FECB52\"],\"font\":{\"color\":\"#2a3f5f\"},\"hovermode\":\"closest\",\"hoverlabel\":{\"align\":\"left\"},\"paper_bgcolor\":\"white\",\"plot_bgcolor\":\"#E5ECF6\",\"polar\":{\"bgcolor\":\"#E5ECF6\",\"angularaxis\":{\"gridcolor\":\"white\",\"linecolor\":\"white\",\"ticks\":\"\"},\"radialaxis\":{\"gridcolor\":\"white\",\"linecolor\":\"white\",\"ticks\":\"\"}},\"ternary\":{\"bgcolor\":\"#E5ECF6\",\"aaxis\":{\"gridcolor\":\"white\",\"linecolor\":\"white\",\"ticks\":\"\"},\"baxis\":{\"gridcolor\":\"white\",\"linecolor\":\"white\",\"ticks\":\"\"},\"caxis\":{\"gridcolor\":\"white\",\"linecolor\":\"white\",\"ticks\":\"\"}},\"coloraxis\":{\"colorbar\":{\"outlinewidth\":0,\"ticks\":\"\"}},\"colorscale\":{\"sequential\":[[0.0,\"#0d0887\"],[0.1111111111111111,\"#46039f\"],[0.2222222222222222,\"#7201a8\"],[0.3333333333333333,\"#9c179e\"],[0.4444444444444444,\"#bd3786\"],[0.5555555555555556,\"#d8576b\"],[0.6666666666666666,\"#ed7953\"],[0.7777777777777778,\"#fb9f3a\"],[0.8888888888888888,\"#fdca26\"],[1.0,\"#f0f921\"]],\"sequentialminus\":[[0.0,\"#0d0887\"],[0.1111111111111111,\"#46039f\"],[0.2222222222222222,\"#7201a8\"],[0.3333333333333333,\"#9c179e\"],[0.4444444444444444,\"#bd3786\"],[0.5555555555555556,\"#d8576b\"],[0.6666666666666666,\"#ed7953\"],[0.7777777777777778,\"#fb9f3a\"],[0.8888888888888888,\"#fdca26\"],[1.0,\"#f0f921\"]],\"diverging\":[[0,\"#8e0152\"],[0.1,\"#c51b7d\"],[0.2,\"#de77ae\"],[0.3,\"#f1b6da\"],[0.4,\"#fde0ef\"],[0.5,\"#f7f7f7\"],[0.6,\"#e6f5d0\"],[0.7,\"#b8e186\"],[0.8,\"#7fbc41\"],[0.9,\"#4d9221\"],[1,\"#276419\"]]},\"xaxis\":{\"gridcolor\":\"white\",\"linecolor\":\"white\",\"ticks\":\"\",\"title\":{\"standoff\":15},\"zerolinecolor\":\"white\",\"automargin\":true,\"zerolinewidth\":2},\"yaxis\":{\"gridcolor\":\"white\",\"linecolor\":\"white\",\"ticks\":\"\",\"title\":{\"standoff\":15},\"zerolinecolor\":\"white\",\"automargin\":true,\"zerolinewidth\":2},\"scene\":{\"xaxis\":{\"backgroundcolor\":\"#E5ECF6\",\"gridcolor\":\"white\",\"linecolor\":\"white\",\"showbackground\":true,\"ticks\":\"\",\"zerolinecolor\":\"white\",\"gridwidth\":2},\"yaxis\":{\"backgroundcolor\":\"#E5ECF6\",\"gridcolor\":\"white\",\"linecolor\":\"white\",\"showbackground\":true,\"ticks\":\"\",\"zerolinecolor\":\"white\",\"gridwidth\":2},\"zaxis\":{\"backgroundcolor\":\"#E5ECF6\",\"gridcolor\":\"white\",\"linecolor\":\"white\",\"showbackground\":true,\"ticks\":\"\",\"zerolinecolor\":\"white\",\"gridwidth\":2}},\"shapedefaults\":{\"line\":{\"color\":\"#2a3f5f\"}},\"annotationdefaults\":{\"arrowcolor\":\"#2a3f5f\",\"arrowhead\":0,\"arrowwidth\":1},\"geo\":{\"bgcolor\":\"white\",\"landcolor\":\"#E5ECF6\",\"subunitcolor\":\"white\",\"showland\":true,\"showlakes\":true,\"lakecolor\":\"white\"},\"title\":{\"x\":0.05},\"mapbox\":{\"style\":\"light\"}}}},                        {\"responsive\": true}                    ).then(function(){\n",
       "                            \n",
       "var gd = document.getElementById('f5c97c6e-db5a-4ff5-9b09-b323a292b954');\n",
       "var x = new MutationObserver(function (mutations, observer) {{\n",
       "        var display = window.getComputedStyle(gd).display;\n",
       "        if (!display || display === 'none') {{\n",
       "            console.log([gd, 'removed!']);\n",
       "            Plotly.purge(gd);\n",
       "            observer.disconnect();\n",
       "        }}\n",
       "}});\n",
       "\n",
       "// Listen for the removal of the full notebook cells\n",
       "var notebookContainer = gd.closest('#notebook-container');\n",
       "if (notebookContainer) {{\n",
       "    x.observe(notebookContainer, {childList: true});\n",
       "}}\n",
       "\n",
       "// Listen for the clearing of the current output cell\n",
       "var outputEl = gd.closest('.output');\n",
       "if (outputEl) {{\n",
       "    x.observe(outputEl, {childList: true});\n",
       "}}\n",
       "\n",
       "                        })                };                });            </script>        </div>"
      ]
     },
     "metadata": {},
     "output_type": "display_data"
    }
   ],
   "source": [
    "fig = optuna.visualization.plot_pareto_front(study, target_names=[\"learning_rate\", \"f1\"])\n",
    "fig.write_image(file=\"figures/ch5_pareto.png\", format=\"png\", scale=6)\n",
    "fig.show()"
   ]
  }
 ],
 "metadata": {
  "kernelspec": {
   "display_name": "Python 3",
   "language": "python",
   "name": "python3"
  },
  "language_info": {
   "codemirror_mode": {
    "name": "ipython",
    "version": 3
   },
   "file_extension": ".py",
   "mimetype": "text/x-python",
   "name": "python",
   "nbconvert_exporter": "python",
   "pygments_lexer": "ipython3",
   "version": "3.10.11"
  }
 },
 "nbformat": 4,
 "nbformat_minor": 0
}
