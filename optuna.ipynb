{
 "cells": [
  {
   "cell_type": "code",
   "execution_count": 1,
   "metadata": {
    "ExecuteTime": {
     "end_time": "2023-04-27T12:28:07.483508Z",
     "start_time": "2023-04-27T12:28:07.139630Z"
    },
    "collapsed": true
   },
   "outputs": [],
   "source": [
    "# On affiche les graphiques dans le notebook en statique\n",
    "%matplotlib inline"
   ]
  },
  {
   "cell_type": "code",
   "execution_count": 2,
   "metadata": {},
   "outputs": [],
   "source": [
    "import numpy as np\n",
    "import logging\n",
    "import sys\n",
    "import os\n",
    "import gc\n",
    "import joblib\n",
    "import lightgbm as lgb\n",
    "import optuna\n",
    "import pandas as pd\n",
    "from sklearn.model_selection import cross_val_score"
   ]
  },
  {
   "cell_type": "code",
   "execution_count": 3,
   "metadata": {},
   "outputs": [],
   "source": [
    "from src.p7_constantes import DATA_INTERIM, DATA_BASE, MODEL_DIR\n",
    "from src.p7_util import timer"
   ]
  },
  {
   "cell_type": "markdown",
   "metadata": {},
   "source": [
    "Démarrer"
   ]
  },
  {
   "cell_type": "code",
   "execution_count": 4,
   "metadata": {},
   "outputs": [
    {
     "name": "stdout",
     "output_type": "stream",
     "text": [
      "Forme de train.csv : (307506, 18)\n"
     ]
    },
    {
     "data": {
      "text/html": [
       "<div>\n",
       "<style scoped>\n",
       "    .dataframe tbody tr th:only-of-type {\n",
       "        vertical-align: middle;\n",
       "    }\n",
       "\n",
       "    .dataframe tbody tr th {\n",
       "        vertical-align: top;\n",
       "    }\n",
       "\n",
       "    .dataframe thead th {\n",
       "        text-align: right;\n",
       "    }\n",
       "</style>\n",
       "<table border=\"1\" class=\"dataframe\">\n",
       "  <thead>\n",
       "    <tr style=\"text-align: right;\">\n",
       "      <th></th>\n",
       "      <th>SK_ID_CURR</th>\n",
       "      <th>TARGET</th>\n",
       "      <th>ORGANIZATION_TYPE</th>\n",
       "      <th>CREDIT_TO_ANNUITY_RATIO</th>\n",
       "      <th>EXT_SOURCES_MEAN</th>\n",
       "      <th>EXT_SOURCE_3</th>\n",
       "      <th>EXT_SOURCES_MIN</th>\n",
       "      <th>BUREAU_CONSUMER_DAYS_CREDIT_ENDDATE_MAX</th>\n",
       "      <th>AMT_ANNUITY</th>\n",
       "      <th>CREDIT_TO_GOODS_RATIO</th>\n",
       "      <th>OCCUPATION_TYPE</th>\n",
       "      <th>DAYS_ID_PUBLISH</th>\n",
       "      <th>DAYS_EMPLOYED</th>\n",
       "      <th>BUREAU_CREDIT_DEBT_CREDIT_DIFF_MEAN</th>\n",
       "      <th>BUREAU_ACTIVE_DEBT_CREDIT_DIFF_MEAN</th>\n",
       "      <th>ANNUITY_TO_INCOME_RATIO</th>\n",
       "      <th>AGE</th>\n",
       "    </tr>\n",
       "  </thead>\n",
       "  <tbody>\n",
       "    <tr>\n",
       "      <th>0</th>\n",
       "      <td>100002</td>\n",
       "      <td>1.0</td>\n",
       "      <td>0</td>\n",
       "      <td>16.47</td>\n",
       "      <td>0.1617</td>\n",
       "      <td>0.1394</td>\n",
       "      <td>0.0830</td>\n",
       "      <td>780.0</td>\n",
       "      <td>24700.5</td>\n",
       "      <td>1.1580</td>\n",
       "      <td>0</td>\n",
       "      <td>-2120</td>\n",
       "      <td>-637.0</td>\n",
       "      <td>15994.282</td>\n",
       "      <td>118103.78</td>\n",
       "      <td>0.12195</td>\n",
       "      <td>25.920548</td>\n",
       "    </tr>\n",
       "    <tr>\n",
       "      <th>1</th>\n",
       "      <td>100003</td>\n",
       "      <td>0.0</td>\n",
       "      <td>1</td>\n",
       "      <td>36.22</td>\n",
       "      <td>0.4668</td>\n",
       "      <td>NaN</td>\n",
       "      <td>0.3113</td>\n",
       "      <td>-420.0</td>\n",
       "      <td>35698.5</td>\n",
       "      <td>1.1455</td>\n",
       "      <td>1</td>\n",
       "      <td>-291</td>\n",
       "      <td>-1188.0</td>\n",
       "      <td>461250.000</td>\n",
       "      <td>810000.00</td>\n",
       "      <td>0.13220</td>\n",
       "      <td>45.931507</td>\n",
       "    </tr>\n",
       "    <tr>\n",
       "      <th>2</th>\n",
       "      <td>100004</td>\n",
       "      <td>0.0</td>\n",
       "      <td>2</td>\n",
       "      <td>20.00</td>\n",
       "      <td>0.6426</td>\n",
       "      <td>0.7295</td>\n",
       "      <td>0.5560</td>\n",
       "      <td>-382.0</td>\n",
       "      <td>6750.0</td>\n",
       "      <td>1.0000</td>\n",
       "      <td>0</td>\n",
       "      <td>-2531</td>\n",
       "      <td>-225.0</td>\n",
       "      <td>NaN</td>\n",
       "      <td>NaN</td>\n",
       "      <td>0.10000</td>\n",
       "      <td>52.180822</td>\n",
       "    </tr>\n",
       "    <tr>\n",
       "      <th>3</th>\n",
       "      <td>100006</td>\n",
       "      <td>0.0</td>\n",
       "      <td>0</td>\n",
       "      <td>10.53</td>\n",
       "      <td>0.6504</td>\n",
       "      <td>NaN</td>\n",
       "      <td>0.6504</td>\n",
       "      <td>NaN</td>\n",
       "      <td>29686.5</td>\n",
       "      <td>1.0530</td>\n",
       "      <td>0</td>\n",
       "      <td>-2437</td>\n",
       "      <td>-3040.0</td>\n",
       "      <td>NaN</td>\n",
       "      <td>NaN</td>\n",
       "      <td>0.21980</td>\n",
       "      <td>52.068493</td>\n",
       "    </tr>\n",
       "    <tr>\n",
       "      <th>4</th>\n",
       "      <td>100007</td>\n",
       "      <td>0.0</td>\n",
       "      <td>3</td>\n",
       "      <td>23.47</td>\n",
       "      <td>0.3228</td>\n",
       "      <td>NaN</td>\n",
       "      <td>0.3228</td>\n",
       "      <td>-783.0</td>\n",
       "      <td>21865.5</td>\n",
       "      <td>1.0000</td>\n",
       "      <td>1</td>\n",
       "      <td>-3458</td>\n",
       "      <td>-3038.0</td>\n",
       "      <td>NaN</td>\n",
       "      <td>NaN</td>\n",
       "      <td>0.17990</td>\n",
       "      <td>54.608219</td>\n",
       "    </tr>\n",
       "  </tbody>\n",
       "</table>\n",
       "</div>"
      ],
      "text/plain": [
       "   SK_ID_CURR  TARGET  ORGANIZATION_TYPE  CREDIT_TO_ANNUITY_RATIO  \\\n",
       "0      100002     1.0                  0                    16.47   \n",
       "1      100003     0.0                  1                    36.22   \n",
       "2      100004     0.0                  2                    20.00   \n",
       "3      100006     0.0                  0                    10.53   \n",
       "4      100007     0.0                  3                    23.47   \n",
       "\n",
       "   EXT_SOURCES_MEAN  EXT_SOURCE_3  EXT_SOURCES_MIN  \\\n",
       "0            0.1617        0.1394           0.0830   \n",
       "1            0.4668           NaN           0.3113   \n",
       "2            0.6426        0.7295           0.5560   \n",
       "3            0.6504           NaN           0.6504   \n",
       "4            0.3228           NaN           0.3228   \n",
       "\n",
       "   BUREAU_CONSUMER_DAYS_CREDIT_ENDDATE_MAX  AMT_ANNUITY  \\\n",
       "0                                    780.0      24700.5   \n",
       "1                                   -420.0      35698.5   \n",
       "2                                   -382.0       6750.0   \n",
       "3                                      NaN      29686.5   \n",
       "4                                   -783.0      21865.5   \n",
       "\n",
       "   CREDIT_TO_GOODS_RATIO  OCCUPATION_TYPE  DAYS_ID_PUBLISH  DAYS_EMPLOYED  \\\n",
       "0                 1.1580                0            -2120         -637.0   \n",
       "1                 1.1455                1             -291        -1188.0   \n",
       "2                 1.0000                0            -2531         -225.0   \n",
       "3                 1.0530                0            -2437        -3040.0   \n",
       "4                 1.0000                1            -3458        -3038.0   \n",
       "\n",
       "   BUREAU_CREDIT_DEBT_CREDIT_DIFF_MEAN  BUREAU_ACTIVE_DEBT_CREDIT_DIFF_MEAN  \\\n",
       "0                            15994.282                            118103.78   \n",
       "1                           461250.000                            810000.00   \n",
       "2                                  NaN                                  NaN   \n",
       "3                                  NaN                                  NaN   \n",
       "4                                  NaN                                  NaN   \n",
       "\n",
       "   ANNUITY_TO_INCOME_RATIO        AGE  \n",
       "0                  0.12195  25.920548  \n",
       "1                  0.13220  45.931507  \n",
       "2                  0.10000  52.180822  \n",
       "3                  0.21980  52.068493  \n",
       "4                  0.17990  54.608219  "
      ]
     },
     "execution_count": 4,
     "metadata": {},
     "output_type": "execute_result"
    }
   ],
   "source": [
    "df = pd.read_csv(os.path.join(DATA_INTERIM, \"train.csv\"))\n",
    "print(\"Forme de train.csv :\", df.shape)\n",
    "if 'Unnamed: 0' in df.columns:\n",
    "    df = df.drop('Unnamed: 0', axis=1)\n",
    "df.head()"
   ]
  },
  {
   "cell_type": "code",
   "execution_count": 5,
   "metadata": {},
   "outputs": [],
   "source": [
    "encoded_features_application = ['ORGANIZATION_TYPE', 'OCCUPATION_TYPE']\n",
    "mapper = {feature: feature + '_old' for feature in encoded_features_application}\n",
    "df = df.rename(mapper, axis=1)\n"
   ]
  },
  {
   "cell_type": "code",
   "execution_count": 6,
   "metadata": {},
   "outputs": [
    {
     "data": {
      "text/html": [
       "<div>\n",
       "<style scoped>\n",
       "    .dataframe tbody tr th:only-of-type {\n",
       "        vertical-align: middle;\n",
       "    }\n",
       "\n",
       "    .dataframe tbody tr th {\n",
       "        vertical-align: top;\n",
       "    }\n",
       "\n",
       "    .dataframe thead th {\n",
       "        text-align: right;\n",
       "    }\n",
       "</style>\n",
       "<table border=\"1\" class=\"dataframe\">\n",
       "  <thead>\n",
       "    <tr style=\"text-align: right;\">\n",
       "      <th></th>\n",
       "      <th>SK_ID_CURR</th>\n",
       "      <th>TARGET</th>\n",
       "      <th>CREDIT_TO_ANNUITY_RATIO</th>\n",
       "      <th>EXT_SOURCES_MEAN</th>\n",
       "      <th>EXT_SOURCE_3</th>\n",
       "      <th>EXT_SOURCES_MIN</th>\n",
       "      <th>BUREAU_CONSUMER_DAYS_CREDIT_ENDDATE_MAX</th>\n",
       "      <th>AMT_ANNUITY</th>\n",
       "      <th>CREDIT_TO_GOODS_RATIO</th>\n",
       "      <th>DAYS_ID_PUBLISH</th>\n",
       "      <th>DAYS_EMPLOYED</th>\n",
       "      <th>BUREAU_CREDIT_DEBT_CREDIT_DIFF_MEAN</th>\n",
       "      <th>BUREAU_ACTIVE_DEBT_CREDIT_DIFF_MEAN</th>\n",
       "      <th>ANNUITY_TO_INCOME_RATIO</th>\n",
       "      <th>AGE</th>\n",
       "      <th>ORGANIZATION_TYPE</th>\n",
       "      <th>OCCUPATION_TYPE</th>\n",
       "    </tr>\n",
       "  </thead>\n",
       "  <tbody>\n",
       "    <tr>\n",
       "      <th>0</th>\n",
       "      <td>100002</td>\n",
       "      <td>1.0</td>\n",
       "      <td>16.47</td>\n",
       "      <td>0.1617</td>\n",
       "      <td>0.1394</td>\n",
       "      <td>0.0830</td>\n",
       "      <td>780.0</td>\n",
       "      <td>24700.5</td>\n",
       "      <td>1.1580</td>\n",
       "      <td>-2120</td>\n",
       "      <td>-637.0</td>\n",
       "      <td>15994.282</td>\n",
       "      <td>118103.78</td>\n",
       "      <td>0.12195</td>\n",
       "      <td>25.920548</td>\n",
       "      <td>Business Entity Type 3</td>\n",
       "      <td>Laborers</td>\n",
       "    </tr>\n",
       "    <tr>\n",
       "      <th>1</th>\n",
       "      <td>100003</td>\n",
       "      <td>0.0</td>\n",
       "      <td>36.22</td>\n",
       "      <td>0.4668</td>\n",
       "      <td>NaN</td>\n",
       "      <td>0.3113</td>\n",
       "      <td>-420.0</td>\n",
       "      <td>35698.5</td>\n",
       "      <td>1.1455</td>\n",
       "      <td>-291</td>\n",
       "      <td>-1188.0</td>\n",
       "      <td>461250.000</td>\n",
       "      <td>810000.00</td>\n",
       "      <td>0.13220</td>\n",
       "      <td>45.931507</td>\n",
       "      <td>School</td>\n",
       "      <td>Core staff</td>\n",
       "    </tr>\n",
       "    <tr>\n",
       "      <th>2</th>\n",
       "      <td>100004</td>\n",
       "      <td>0.0</td>\n",
       "      <td>20.00</td>\n",
       "      <td>0.6426</td>\n",
       "      <td>0.7295</td>\n",
       "      <td>0.5560</td>\n",
       "      <td>-382.0</td>\n",
       "      <td>6750.0</td>\n",
       "      <td>1.0000</td>\n",
       "      <td>-2531</td>\n",
       "      <td>-225.0</td>\n",
       "      <td>NaN</td>\n",
       "      <td>NaN</td>\n",
       "      <td>0.10000</td>\n",
       "      <td>52.180822</td>\n",
       "      <td>Government</td>\n",
       "      <td>Laborers</td>\n",
       "    </tr>\n",
       "    <tr>\n",
       "      <th>3</th>\n",
       "      <td>100006</td>\n",
       "      <td>0.0</td>\n",
       "      <td>10.53</td>\n",
       "      <td>0.6504</td>\n",
       "      <td>NaN</td>\n",
       "      <td>0.6504</td>\n",
       "      <td>NaN</td>\n",
       "      <td>29686.5</td>\n",
       "      <td>1.0530</td>\n",
       "      <td>-2437</td>\n",
       "      <td>-3040.0</td>\n",
       "      <td>NaN</td>\n",
       "      <td>NaN</td>\n",
       "      <td>0.21980</td>\n",
       "      <td>52.068493</td>\n",
       "      <td>Business Entity Type 3</td>\n",
       "      <td>Laborers</td>\n",
       "    </tr>\n",
       "    <tr>\n",
       "      <th>4</th>\n",
       "      <td>100007</td>\n",
       "      <td>0.0</td>\n",
       "      <td>23.47</td>\n",
       "      <td>0.3228</td>\n",
       "      <td>NaN</td>\n",
       "      <td>0.3228</td>\n",
       "      <td>-783.0</td>\n",
       "      <td>21865.5</td>\n",
       "      <td>1.0000</td>\n",
       "      <td>-3458</td>\n",
       "      <td>-3038.0</td>\n",
       "      <td>NaN</td>\n",
       "      <td>NaN</td>\n",
       "      <td>0.17990</td>\n",
       "      <td>54.608219</td>\n",
       "      <td>Religion</td>\n",
       "      <td>Core staff</td>\n",
       "    </tr>\n",
       "  </tbody>\n",
       "</table>\n",
       "</div>"
      ],
      "text/plain": [
       "   SK_ID_CURR  TARGET  CREDIT_TO_ANNUITY_RATIO  EXT_SOURCES_MEAN  \\\n",
       "0      100002     1.0                    16.47            0.1617   \n",
       "1      100003     0.0                    36.22            0.4668   \n",
       "2      100004     0.0                    20.00            0.6426   \n",
       "3      100006     0.0                    10.53            0.6504   \n",
       "4      100007     0.0                    23.47            0.3228   \n",
       "\n",
       "   EXT_SOURCE_3  EXT_SOURCES_MIN  BUREAU_CONSUMER_DAYS_CREDIT_ENDDATE_MAX  \\\n",
       "0        0.1394           0.0830                                    780.0   \n",
       "1           NaN           0.3113                                   -420.0   \n",
       "2        0.7295           0.5560                                   -382.0   \n",
       "3           NaN           0.6504                                      NaN   \n",
       "4           NaN           0.3228                                   -783.0   \n",
       "\n",
       "   AMT_ANNUITY  CREDIT_TO_GOODS_RATIO  DAYS_ID_PUBLISH  DAYS_EMPLOYED  \\\n",
       "0      24700.5                 1.1580            -2120         -637.0   \n",
       "1      35698.5                 1.1455             -291        -1188.0   \n",
       "2       6750.0                 1.0000            -2531         -225.0   \n",
       "3      29686.5                 1.0530            -2437        -3040.0   \n",
       "4      21865.5                 1.0000            -3458        -3038.0   \n",
       "\n",
       "   BUREAU_CREDIT_DEBT_CREDIT_DIFF_MEAN  BUREAU_ACTIVE_DEBT_CREDIT_DIFF_MEAN  \\\n",
       "0                            15994.282                            118103.78   \n",
       "1                           461250.000                            810000.00   \n",
       "2                                  NaN                                  NaN   \n",
       "3                                  NaN                                  NaN   \n",
       "4                                  NaN                                  NaN   \n",
       "\n",
       "   ANNUITY_TO_INCOME_RATIO        AGE       ORGANIZATION_TYPE OCCUPATION_TYPE  \n",
       "0                  0.12195  25.920548  Business Entity Type 3        Laborers  \n",
       "1                  0.13220  45.931507                  School      Core staff  \n",
       "2                  0.10000  52.180822              Government        Laborers  \n",
       "3                  0.21980  52.068493  Business Entity Type 3        Laborers  \n",
       "4                  0.17990  54.608219                Religion      Core staff  "
      ]
     },
     "execution_count": 6,
     "metadata": {},
     "output_type": "execute_result"
    }
   ],
   "source": [
    "initial_application = pd.read_csv(os.path.join(DATA_BASE, \"application_train.csv\"))[['SK_ID_CURR'] + encoded_features_application]\n",
    "initial_application.shape\n",
    "df = pd.merge(left=df, right=initial_application, on=['SK_ID_CURR'])\n",
    "df = df.drop([v for v in mapper.values()], axis=1)\n",
    "del initial_application\n",
    "del mapper\n",
    "gc.collect()\n",
    "df.head()"
   ]
  },
  {
   "cell_type": "code",
   "execution_count": 7,
   "metadata": {},
   "outputs": [
    {
     "data": {
      "text/plain": [
       "ORGANIZATION_TYPE\n",
       "Business Entity Type 3    67991\n",
       "NaN                       55374\n",
       "Self-employed             38412\n",
       "Other                     16683\n",
       "Medicine                  11192\n",
       "Business Entity Type 2    10553\n",
       "Government                10404\n",
       "School                     8893\n",
       "Trade: type 7              7831\n",
       "Kindergarten               6879\n",
       "Construction               6721\n",
       "Business Entity Type 1     5983\n",
       "Transport: type 4          5398\n",
       "Trade: type 3              3492\n",
       "Industry: type 9           3368\n",
       "Industry: type 3           3277\n",
       "Security                   3247\n",
       "Housing                    2958\n",
       "Industry: type 11          2704\n",
       "Military                   2634\n",
       "Bank                       2507\n",
       "Agriculture                2454\n",
       "Police                     2341\n",
       "Transport: type 2          2204\n",
       "Postal                     2157\n",
       "Security Ministries        1974\n",
       "Trade: type 2              1900\n",
       "Restaurant                 1811\n",
       "Services                   1575\n",
       "University                 1327\n",
       "Industry: type 7           1307\n",
       "Transport: type 3          1187\n",
       "Industry: type 1           1039\n",
       "Hotel                       966\n",
       "Electricity                 950\n",
       "Industry: type 4            877\n",
       "Trade: type 6               631\n",
       "Industry: type 5            599\n",
       "Insurance                   597\n",
       "Telecom                     577\n",
       "Emergency                   560\n",
       "Industry: type 2            458\n",
       "Advertising                 429\n",
       "Realtor                     396\n",
       "Culture                     379\n",
       "Industry: type 12           369\n",
       "Trade: type 1               348\n",
       "Mobile                      317\n",
       "Legal Services              305\n",
       "Cleaning                    260\n",
       "Transport: type 1           201\n",
       "Industry: type 6            112\n",
       "Industry: type 10           109\n",
       "Religion                     85\n",
       "Industry: type 13            67\n",
       "Trade: type 4                64\n",
       "Trade: type 5                49\n",
       "Industry: type 8             24\n",
       "Name: count, dtype: int64"
      ]
     },
     "execution_count": 7,
     "metadata": {},
     "output_type": "execute_result"
    }
   ],
   "source": [
    "df['ORGANIZATION_TYPE'] = df['ORGANIZATION_TYPE'].apply(lambda x: np.nan if x==\"XNA\" else x)\n",
    "df['ORGANIZATION_TYPE'].value_counts(dropna=False)"
   ]
  },
  {
   "cell_type": "code",
   "execution_count": 8,
   "metadata": {},
   "outputs": [
    {
     "data": {
      "text/plain": [
       "OCCUPATION_TYPE\n",
       "NaN                      96389\n",
       "Laborers                 55185\n",
       "Sales staff              32102\n",
       "Core staff               27569\n",
       "Managers                 21371\n",
       "Drivers                  18603\n",
       "High skill tech staff    11380\n",
       "Accountants               9813\n",
       "Medicine staff            8537\n",
       "Security staff            6721\n",
       "Cooking staff             5946\n",
       "Cleaning staff            4653\n",
       "Private service staff     2652\n",
       "Low-skill Laborers        2092\n",
       "Waiters/barmen staff      1348\n",
       "Secretaries               1305\n",
       "Realty agents              751\n",
       "HR staff                   563\n",
       "IT staff                   526\n",
       "Name: count, dtype: int64"
      ]
     },
     "execution_count": 8,
     "metadata": {},
     "output_type": "execute_result"
    }
   ],
   "source": [
    "df['OCCUPATION_TYPE'].value_counts(dropna=False)"
   ]
  },
  {
   "cell_type": "code",
   "execution_count": 9,
   "metadata": {
    "ExecuteTime": {
     "end_time": "2023-04-27T12:28:07.777267Z",
     "start_time": "2023-04-27T12:28:07.750661Z"
    },
    "collapsed": false
   },
   "outputs": [],
   "source": [
    "cat_features = list(df.loc[:, df.dtypes == 'object'].columns.values)\n",
    "for feature in cat_features:\n",
    "    df[feature] = pd.Series(df[feature], dtype=\"category\")"
   ]
  },
  {
   "cell_type": "code",
   "execution_count": 10,
   "metadata": {
    "ExecuteTime": {
     "end_time": "2023-04-27T12:28:07.971843Z",
     "start_time": "2023-04-27T12:28:07.966255Z"
    },
    "collapsed": false
   },
   "outputs": [],
   "source": [
    "# Essai sur un échantillon d'abord\n",
    "n_rows = 30_000\n",
    "X = df.drop(columns=[\"SK_ID_CURR\", \"TARGET\"], axis=1)\n",
    "y = df[\"TARGET\"]\n",
    "if n_rows:\n",
    "    X = X.head(n_rows)\n",
    "    y = y.head(n_rows)"
   ]
  },
  {
   "cell_type": "code",
   "execution_count": 11,
   "metadata": {},
   "outputs": [
    {
     "data": {
      "text/plain": [
       "['CREDIT_TO_ANNUITY_RATIO',\n",
       " 'EXT_SOURCES_MEAN',\n",
       " 'EXT_SOURCE_3',\n",
       " 'EXT_SOURCES_MIN',\n",
       " 'BUREAU_CONSUMER_DAYS_CREDIT_ENDDATE_MAX',\n",
       " 'AMT_ANNUITY',\n",
       " 'CREDIT_TO_GOODS_RATIO',\n",
       " 'DAYS_ID_PUBLISH',\n",
       " 'DAYS_EMPLOYED',\n",
       " 'BUREAU_CREDIT_DEBT_CREDIT_DIFF_MEAN',\n",
       " 'BUREAU_ACTIVE_DEBT_CREDIT_DIFF_MEAN',\n",
       " 'ANNUITY_TO_INCOME_RATIO',\n",
       " 'AGE',\n",
       " 'ORGANIZATION_TYPE',\n",
       " 'OCCUPATION_TYPE']"
      ]
     },
     "execution_count": 11,
     "metadata": {},
     "output_type": "execute_result"
    }
   ],
   "source": [
    "predictors = list(X.columns)\n",
    "predictors"
   ]
  },
  {
   "cell_type": "code",
   "execution_count": 12,
   "metadata": {},
   "outputs": [
    {
     "name": "stdout",
     "output_type": "stream",
     "text": [
      "<class 'pandas.core.frame.DataFrame'>\n",
      "RangeIndex: 30000 entries, 0 to 29999\n",
      "Data columns (total 15 columns):\n",
      " #   Column                                   Non-Null Count  Dtype   \n",
      "---  ------                                   --------------  -----   \n",
      " 0   CREDIT_TO_ANNUITY_RATIO                  30000 non-null  float64 \n",
      " 1   EXT_SOURCES_MEAN                         29977 non-null  float64 \n",
      " 2   EXT_SOURCE_3                             24078 non-null  float64 \n",
      " 3   EXT_SOURCES_MIN                          29977 non-null  float64 \n",
      " 4   BUREAU_CONSUMER_DAYS_CREDIT_ENDDATE_MAX  24064 non-null  float64 \n",
      " 5   AMT_ANNUITY                              30000 non-null  float64 \n",
      " 6   CREDIT_TO_GOODS_RATIO                    29976 non-null  float64 \n",
      " 7   DAYS_ID_PUBLISH                          30000 non-null  int64   \n",
      " 8   DAYS_EMPLOYED                            24577 non-null  float64 \n",
      " 9   BUREAU_CREDIT_DEBT_CREDIT_DIFF_MEAN      15663 non-null  float64 \n",
      " 10  BUREAU_ACTIVE_DEBT_CREDIT_DIFF_MEAN      20092 non-null  float64 \n",
      " 11  ANNUITY_TO_INCOME_RATIO                  30000 non-null  float64 \n",
      " 12  AGE                                      30000 non-null  float64 \n",
      " 13  ORGANIZATION_TYPE                        24577 non-null  category\n",
      " 14  OCCUPATION_TYPE                          20554 non-null  category\n",
      "dtypes: category(2), float64(12), int64(1)\n",
      "memory usage: 3.0 MB\n"
     ]
    }
   ],
   "source": [
    "X.info()"
   ]
  },
  {
   "cell_type": "markdown",
   "metadata": {
    "collapsed": false
   },
   "source": [
    "## Run A Study"
   ]
  },
  {
   "cell_type": "code",
   "execution_count": 13,
   "metadata": {
    "ExecuteTime": {
     "end_time": "2023-04-27T12:28:10.156076Z",
     "start_time": "2023-04-27T12:28:10.152538Z"
    },
    "collapsed": false
   },
   "outputs": [],
   "source": [
    "# Nécessite l'installation optuna-integration\n",
    "def objective(optimize_boosting_type=True):\n",
    "    def _objective(trial):\n",
    "        if optimize_boosting_type:\n",
    "            boosting_type = trial.suggest_categorical(\"boosting_type\", [\"dart\", \"gbdt\"])\n",
    "        else:\n",
    "            boosting_type = \"gbdt\"\n",
    "        lambda_l1 = trial.suggest_float(\n",
    "            'lambda_l1', 1e-8, 10.0, log=True),\n",
    "        lambda_l2 = trial.suggest_float(\n",
    "            'lambda_l2', 1e-8, 10.0, log=True),\n",
    "        num_leaves = trial.suggest_int(\n",
    "            'num_leaves', 2, 256),\n",
    "        feature_fraction = trial.suggest_float(\n",
    "            'feature_fraction', 0.4, 1.0),\n",
    "        bagging_fraction = trial.suggest_float(\n",
    "            'bagging_fraction', 0.4, 1.0),\n",
    "        bagging_freq = trial.suggest_int(\n",
    "            'bagging_freq', 1, 7),\n",
    "        min_child_samples = trial.suggest_int(\n",
    "            'min_child_samples', 5, 100),\n",
    "        learning_rate = trial.suggest_float(\n",
    "            \"learning_rate\", 0.0001, 0.5, log=True),\n",
    "        max_bin = trial.suggest_int(\n",
    "            \"max_bin\", 128, 512, step=32)\n",
    "        n_estimators = trial.suggest_int(\n",
    "            \"n_estimators\", 40, 400, step=20)\n",
    "\n",
    "        pruning_callback = optuna.integration.LightGBMPruningCallback(trial, \"binary\")\n",
    "        #pruning_callback = optuna-integration.LightGBMPruningCallback(trial, \"binary\")\n",
    "        \n",
    "        model = lgb.LGBMClassifier(\n",
    "            force_row_wise=True,\n",
    "            boosting_type=boosting_type,\n",
    "            n_estimators=n_estimators,\n",
    "            lambda_l1=lambda_l1,\n",
    "            lambda_l2=lambda_l2,\n",
    "            num_leaves=num_leaves,\n",
    "            feature_fraction=feature_fraction,\n",
    "            bagging_fraction=bagging_fraction,\n",
    "            bagging_freq=bagging_freq,\n",
    "            min_child_samples=min_child_samples,\n",
    "            learning_rate=learning_rate,\n",
    "            max_bin=max_bin,\n",
    "            callbacks=[pruning_callback],\n",
    "            verbose=-1,\n",
    "            )\n",
    "        \n",
    "        scores = cross_val_score(model, X, y, scoring=\"f1_macro\", cv=5)\n",
    "        return scores.mean()\n",
    "\n",
    "    return _objective"
   ]
  },
  {
   "cell_type": "code",
   "execution_count": 14,
   "metadata": {},
   "outputs": [
    {
     "data": {
      "text/plain": [
       "['ORGANIZATION_TYPE', 'OCCUPATION_TYPE']"
      ]
     },
     "execution_count": 14,
     "metadata": {},
     "output_type": "execute_result"
    }
   ],
   "source": [
    "cat_features"
   ]
  },
  {
   "cell_type": "code",
   "execution_count": 15,
   "metadata": {
    "ExecuteTime": {
     "end_time": "2023-04-27T12:41:49.408124Z",
     "start_time": "2023-04-27T12:28:12.286408Z"
    },
    "collapsed": false
   },
   "outputs": [
    {
     "name": "stderr",
     "output_type": "stream",
     "text": [
      "[I 2024-04-27 08:30:37,758] A new study created in memory with name: no-name-b5531032-13a8-4e70-9878-dc8d40ef2b8c\n",
      "[I 2024-04-27 08:30:45,111] Trial 13 finished with value: 0.4791485806059554 and parameters: {'boosting_type': 'gbdt', 'lambda_l1': 2.5434052781410035e-07, 'lambda_l2': 0.0005809141064153906, 'num_leaves': 3, 'feature_fraction': 0.7896642847527977, 'bagging_fraction': 0.7357466819476344, 'bagging_freq': 2, 'min_child_samples': 96, 'learning_rate': 0.005883644208119656, 'max_bin': 416, 'n_estimators': 340}. Best is trial 13 with value: 0.4791485806059554.\n",
      "[I 2024-04-27 08:30:52,087] Trial 19 finished with value: 0.4791485806059554 and parameters: {'boosting_type': 'dart', 'lambda_l1': 3.050334122435856e-06, 'lambda_l2': 4.350924027127744e-08, 'num_leaves': 6, 'feature_fraction': 0.48634489370002093, 'bagging_fraction': 0.9746296699996962, 'bagging_freq': 2, 'min_child_samples': 98, 'learning_rate': 0.00015026369838780335, 'max_bin': 256, 'n_estimators': 260}. Best is trial 13 with value: 0.4791485806059554.\n",
      "[I 2024-04-27 08:30:52,403] Trial 18 finished with value: 0.48520205328073074 and parameters: {'boosting_type': 'dart', 'lambda_l1': 4.144478413305072e-07, 'lambda_l2': 0.9900892510973462, 'num_leaves': 4, 'feature_fraction': 0.5410926069723038, 'bagging_fraction': 0.7795874585679703, 'bagging_freq': 3, 'min_child_samples': 38, 'learning_rate': 0.15219445634101553, 'max_bin': 352, 'n_estimators': 320}. Best is trial 18 with value: 0.48520205328073074.\n",
      "[I 2024-04-27 08:30:54,230] Trial 15 finished with value: 0.4791485806059554 and parameters: {'boosting_type': 'gbdt', 'lambda_l1': 1.0687069798408848, 'lambda_l2': 4.207790775870118, 'num_leaves': 51, 'feature_fraction': 0.5172203645521203, 'bagging_fraction': 0.7740334966273252, 'bagging_freq': 1, 'min_child_samples': 33, 'learning_rate': 0.0001721421212637708, 'max_bin': 192, 'n_estimators': 60}. Best is trial 18 with value: 0.48520205328073074.\n",
      "[I 2024-04-27 08:30:58,156] Trial 14 finished with value: 0.4791485806059554 and parameters: {'boosting_type': 'gbdt', 'lambda_l1': 0.0005737535153558963, 'lambda_l2': 1.609488820250317e-05, 'num_leaves': 76, 'feature_fraction': 0.4523760877815966, 'bagging_fraction': 0.6933919880905179, 'bagging_freq': 4, 'min_child_samples': 71, 'learning_rate': 0.006349558038158585, 'max_bin': 160, 'n_estimators': 60}. Best is trial 18 with value: 0.48520205328073074.\n",
      "[I 2024-04-27 08:31:07,227] Trial 16 finished with value: 0.479572700609683 and parameters: {'boosting_type': 'gbdt', 'lambda_l1': 0.00011782674116549973, 'lambda_l2': 1.4126281325102946e-07, 'num_leaves': 127, 'feature_fraction': 0.48470871433472407, 'bagging_fraction': 0.9174043165725481, 'bagging_freq': 7, 'min_child_samples': 91, 'learning_rate': 0.025415103888968154, 'max_bin': 512, 'n_estimators': 60}. Best is trial 18 with value: 0.48520205328073074.\n",
      "[I 2024-04-27 08:31:16,880] Trial 24 finished with value: 0.4799283534800498 and parameters: {'boosting_type': 'dart', 'lambda_l1': 0.0959794577183186, 'lambda_l2': 2.9340500326495057e-08, 'num_leaves': 76, 'feature_fraction': 0.581096386318792, 'bagging_fraction': 0.4772975458448603, 'bagging_freq': 3, 'min_child_samples': 68, 'learning_rate': 0.02872791498686298, 'max_bin': 192, 'n_estimators': 140}. Best is trial 18 with value: 0.48520205328073074.\n",
      "[I 2024-04-27 08:31:19,084] Trial 21 finished with value: 0.4791485806059554 and parameters: {'boosting_type': 'dart', 'lambda_l1': 0.24299840624397412, 'lambda_l2': 4.498305645873419e-08, 'num_leaves': 24, 'feature_fraction': 0.9159214240745854, 'bagging_fraction': 0.9125862278984676, 'bagging_freq': 3, 'min_child_samples': 73, 'learning_rate': 0.0011972264515218351, 'max_bin': 160, 'n_estimators': 360}. Best is trial 18 with value: 0.48520205328073074.\n",
      "[I 2024-04-27 08:31:19,175] Trial 9 finished with value: 0.4791485806059554 and parameters: {'boosting_type': 'gbdt', 'lambda_l1': 4.972924781564543e-08, 'lambda_l2': 1.3090923547548714e-06, 'num_leaves': 234, 'feature_fraction': 0.7675222219796127, 'bagging_fraction': 0.5694045999676272, 'bagging_freq': 5, 'min_child_samples': 73, 'learning_rate': 0.0007478319230781632, 'max_bin': 288, 'n_estimators': 100}. Best is trial 18 with value: 0.48520205328073074.\n",
      "[I 2024-04-27 08:31:19,540] Trial 29 finished with value: 0.5448514162289019 and parameters: {'boosting_type': 'gbdt', 'lambda_l1': 0.28078545204119576, 'lambda_l2': 0.040681772959291915, 'num_leaves': 37, 'feature_fraction': 0.6129147156735774, 'bagging_fraction': 0.4173485934979642, 'bagging_freq': 1, 'min_child_samples': 30, 'learning_rate': 0.46171753755463535, 'max_bin': 480, 'n_estimators': 260}. Best is trial 29 with value: 0.5448514162289019.\n",
      "[I 2024-04-27 08:31:22,166] Trial 27 finished with value: 0.4791485806059554 and parameters: {'boosting_type': 'dart', 'lambda_l1': 0.006931668379421146, 'lambda_l2': 1.0466479835276135, 'num_leaves': 55, 'feature_fraction': 0.9051160874875421, 'bagging_fraction': 0.8536794289655852, 'bagging_freq': 5, 'min_child_samples': 56, 'learning_rate': 0.001019449726794481, 'max_bin': 448, 'n_estimators': 220}. Best is trial 29 with value: 0.5448514162289019.\n",
      "[I 2024-04-27 08:31:29,727] Trial 4 finished with value: 0.4791485806059554 and parameters: {'boosting_type': 'dart', 'lambda_l1': 0.593799888226439, 'lambda_l2': 0.010045116062695952, 'num_leaves': 38, 'feature_fraction': 0.8936716570882597, 'bagging_fraction': 0.44592212682700466, 'bagging_freq': 7, 'min_child_samples': 19, 'learning_rate': 0.00011526474233233347, 'max_bin': 256, 'n_estimators': 360}. Best is trial 29 with value: 0.5448514162289019.\n",
      "[I 2024-04-27 08:31:30,989] Trial 10 finished with value: 0.5109619106699438 and parameters: {'boosting_type': 'gbdt', 'lambda_l1': 3.118392198892279e-07, 'lambda_l2': 0.000837983767209885, 'num_leaves': 209, 'feature_fraction': 0.5457430962908774, 'bagging_fraction': 0.5578911701355542, 'bagging_freq': 5, 'min_child_samples': 46, 'learning_rate': 0.09021977904523777, 'max_bin': 224, 'n_estimators': 80}. Best is trial 29 with value: 0.5448514162289019.\n",
      "[I 2024-04-27 08:31:33,389] Trial 23 finished with value: 0.4791485806059554 and parameters: {'boosting_type': 'dart', 'lambda_l1': 0.53942764826753, 'lambda_l2': 0.00010318937545052507, 'num_leaves': 195, 'feature_fraction': 0.6310332675321124, 'bagging_fraction': 0.7023796880801465, 'bagging_freq': 4, 'min_child_samples': 30, 'learning_rate': 0.000950995827489929, 'max_bin': 160, 'n_estimators': 100}. Best is trial 29 with value: 0.5448514162289019.\n",
      "[I 2024-04-27 08:31:34,799] Trial 26 finished with value: 0.560365316044187 and parameters: {'boosting_type': 'dart', 'lambda_l1': 8.525930055598907, 'lambda_l2': 2.1656304353873055, 'num_leaves': 153, 'feature_fraction': 0.9969889380894155, 'bagging_fraction': 0.6553199106521793, 'bagging_freq': 2, 'min_child_samples': 25, 'learning_rate': 0.24241611757080983, 'max_bin': 352, 'n_estimators': 260}. Best is trial 26 with value: 0.560365316044187.\n",
      "[I 2024-04-27 08:31:37,882] Trial 20 finished with value: 0.4791485806059554 and parameters: {'boosting_type': 'gbdt', 'lambda_l1': 0.01179671123949664, 'lambda_l2': 7.466090405131767e-08, 'num_leaves': 174, 'feature_fraction': 0.8522521139100846, 'bagging_fraction': 0.8354021016885202, 'bagging_freq': 3, 'min_child_samples': 16, 'learning_rate': 0.007143771694234779, 'max_bin': 384, 'n_estimators': 120}. Best is trial 26 with value: 0.560365316044187.\n",
      "[I 2024-04-27 08:31:38,009] Trial 22 finished with value: 0.4791485806059554 and parameters: {'boosting_type': 'gbdt', 'lambda_l1': 0.12121461079560529, 'lambda_l2': 0.0010787147932850118, 'num_leaves': 186, 'feature_fraction': 0.7929579953546644, 'bagging_fraction': 0.6357866963636254, 'bagging_freq': 4, 'min_child_samples': 28, 'learning_rate': 0.00040651247945658325, 'max_bin': 288, 'n_estimators': 120}. Best is trial 26 with value: 0.560365316044187.\n",
      "[I 2024-04-27 08:31:38,920] Trial 12 finished with value: 0.2765743642454027 and parameters: {'boosting_type': 'dart', 'lambda_l1': 6.458322046025103e-07, 'lambda_l2': 4.971888593230848, 'num_leaves': 205, 'feature_fraction': 0.6637354745269299, 'bagging_fraction': 0.42916561303759887, 'bagging_freq': 4, 'min_child_samples': 11, 'learning_rate': 0.02078705143787345, 'max_bin': 160, 'n_estimators': 160}. Best is trial 26 with value: 0.560365316044187.\n",
      "[I 2024-04-27 08:31:40,107] Trial 5 finished with value: 0.48243103855367453 and parameters: {'boosting_type': 'dart', 'lambda_l1': 0.06018908070141926, 'lambda_l2': 1.3463102907061483e-06, 'num_leaves': 53, 'feature_fraction': 0.5015747184775668, 'bagging_fraction': 0.7278575541414346, 'bagging_freq': 7, 'min_child_samples': 96, 'learning_rate': 0.02031189356652431, 'max_bin': 160, 'n_estimators': 320}. Best is trial 26 with value: 0.560365316044187.\n",
      "[I 2024-04-27 08:31:40,288] Trial 7 finished with value: 0.4791485806059554 and parameters: {'boosting_type': 'gbdt', 'lambda_l1': 2.3102003846669405e-07, 'lambda_l2': 5.573454453073424e-08, 'num_leaves': 158, 'feature_fraction': 0.4792240125210385, 'bagging_fraction': 0.938416373091561, 'bagging_freq': 4, 'min_child_samples': 99, 'learning_rate': 0.00012183875216388885, 'max_bin': 320, 'n_estimators': 140}. Best is trial 26 with value: 0.560365316044187.\n",
      "[I 2024-04-27 08:31:41,573] Trial 25 finished with value: 0.4791485806059554 and parameters: {'boosting_type': 'gbdt', 'lambda_l1': 4.5020501344910044e-05, 'lambda_l2': 5.64982290316899e-05, 'num_leaves': 53, 'feature_fraction': 0.4219885588522431, 'bagging_fraction': 0.5174898541383164, 'bagging_freq': 6, 'min_child_samples': 26, 'learning_rate': 0.00017260887841873476, 'max_bin': 160, 'n_estimators': 360}. Best is trial 26 with value: 0.560365316044187.\n",
      "[I 2024-04-27 08:31:43,087] Trial 28 finished with value: 0.4791485806059554 and parameters: {'boosting_type': 'dart', 'lambda_l1': 0.00013074795097540055, 'lambda_l2': 6.762906080868193e-05, 'num_leaves': 169, 'feature_fraction': 0.8712078584542313, 'bagging_fraction': 0.7581632458523198, 'bagging_freq': 3, 'min_child_samples': 100, 'learning_rate': 0.003909052382542838, 'max_bin': 224, 'n_estimators': 200}. Best is trial 26 with value: 0.560365316044187.\n",
      "[I 2024-04-27 08:31:43,197] Trial 11 finished with value: 0.4791485806059554 and parameters: {'boosting_type': 'dart', 'lambda_l1': 0.0006078841601979991, 'lambda_l2': 0.0007368772512401577, 'num_leaves': 254, 'feature_fraction': 0.6460945030807813, 'bagging_fraction': 0.5054771380755293, 'bagging_freq': 1, 'min_child_samples': 89, 'learning_rate': 0.003543239044973533, 'max_bin': 192, 'n_estimators': 260}. Best is trial 26 with value: 0.560365316044187.\n",
      "[I 2024-04-27 08:31:45,175] Trial 0 finished with value: 0.4791485806059554 and parameters: {'boosting_type': 'gbdt', 'lambda_l1': 0.03522962973001744, 'lambda_l2': 0.0001562028633527889, 'num_leaves': 104, 'feature_fraction': 0.7174135545292988, 'bagging_fraction': 0.4807057528082655, 'bagging_freq': 3, 'min_child_samples': 29, 'learning_rate': 0.0003076397319190766, 'max_bin': 352, 'n_estimators': 280}. Best is trial 26 with value: 0.560365316044187.\n",
      "[I 2024-04-27 08:31:46,854] Trial 2 finished with value: 0.4980896492719801 and parameters: {'boosting_type': 'gbdt', 'lambda_l1': 5.734822634037505, 'lambda_l2': 0.004144561529213112, 'num_leaves': 137, 'feature_fraction': 0.7058353721935859, 'bagging_fraction': 0.6864538859725957, 'bagging_freq': 1, 'min_child_samples': 56, 'learning_rate': 0.02876281817486116, 'max_bin': 224, 'n_estimators': 300}. Best is trial 26 with value: 0.560365316044187.\n",
      "[I 2024-04-27 08:31:52,994] Trial 6 finished with value: 0.5087884935086311 and parameters: {'boosting_type': 'gbdt', 'lambda_l1': 6.652609878004397e-06, 'lambda_l2': 0.04534958719714165, 'num_leaves': 163, 'feature_fraction': 0.9504813089297878, 'bagging_fraction': 0.9230166778935224, 'bagging_freq': 4, 'min_child_samples': 47, 'learning_rate': 0.07831552638097504, 'max_bin': 480, 'n_estimators': 220}. Best is trial 26 with value: 0.560365316044187.\n",
      "[I 2024-04-27 08:31:53,525] Trial 1 finished with value: 0.5124992400608767 and parameters: {'boosting_type': 'dart', 'lambda_l1': 3.566699252159487e-05, 'lambda_l2': 0.017041844541482606, 'num_leaves': 232, 'feature_fraction': 0.9335174460739377, 'bagging_fraction': 0.5800216472473244, 'bagging_freq': 1, 'min_child_samples': 82, 'learning_rate': 0.1520905362461143, 'max_bin': 288, 'n_estimators': 300}. Best is trial 26 with value: 0.560365316044187.\n",
      "[I 2024-04-27 08:31:58,534] Trial 8 finished with value: 0.5117664956264374 and parameters: {'boosting_type': 'dart', 'lambda_l1': 0.0019059753641160193, 'lambda_l2': 0.028396747910327112, 'num_leaves': 166, 'feature_fraction': 0.7531633600915928, 'bagging_fraction': 0.9910644515914202, 'bagging_freq': 5, 'min_child_samples': 58, 'learning_rate': 0.12530093370292394, 'max_bin': 384, 'n_estimators': 300}. Best is trial 26 with value: 0.560365316044187.\n",
      "[I 2024-04-27 08:31:59,473] Trial 3 finished with value: 0.47956279486005327 and parameters: {'boosting_type': 'dart', 'lambda_l1': 2.9662057525172798e-05, 'lambda_l2': 0.00018592380455708103, 'num_leaves': 189, 'feature_fraction': 0.836902041309828, 'bagging_fraction': 0.5657694631083208, 'bagging_freq': 4, 'min_child_samples': 17, 'learning_rate': 0.005871858886698097, 'max_bin': 480, 'n_estimators': 280}. Best is trial 26 with value: 0.560365316044187.\n",
      "[I 2024-04-27 08:32:00,095] Trial 17 finished with value: 0.4791485806059554 and parameters: {'boosting_type': 'dart', 'lambda_l1': 1.697716826930624e-07, 'lambda_l2': 1.6056008758606569e-06, 'num_leaves': 199, 'feature_fraction': 0.9682332015553387, 'bagging_fraction': 0.763954822838087, 'bagging_freq': 3, 'min_child_samples': 15, 'learning_rate': 0.0005932535301741619, 'max_bin': 416, 'n_estimators': 280}. Best is trial 26 with value: 0.560365316044187.\n"
     ]
    },
    {
     "name": "stdout",
     "output_type": "stream",
     "text": [
      "Optimize hyperparameters - done in 82s\n"
     ]
    }
   ],
   "source": [
    "with timer(\"Optimize hyperparameters\"):\n",
    "    sampler = optuna.samplers.TPESampler()\n",
    "    pruner = optuna.pruners.HyperbandPruner(\n",
    "        min_resource=10, max_resource=400, reduction_factor=3)\n",
    "\n",
    "    study = optuna.create_study(\n",
    "        direction='maximize', sampler=sampler,\n",
    "        pruner=pruner\n",
    "    )\n",
    "    study.optimize(objective(), n_trials=30, gc_after_trial=True, n_jobs=-1)"
   ]
  },
  {
   "cell_type": "code",
   "execution_count": 16,
   "metadata": {
    "ExecuteTime": {
     "end_time": "2023-04-27T12:41:49.410671Z",
     "start_time": "2023-04-27T12:41:49.410671Z"
    },
    "collapsed": false
   },
   "outputs": [
    {
     "name": "stdout",
     "output_type": "stream",
     "text": [
      "FrozenTrial(number=26, state=TrialState.COMPLETE, values=[0.560365316044187], datetime_start=datetime.datetime(2024, 4, 27, 8, 30, 37, 805472), datetime_complete=datetime.datetime(2024, 4, 27, 8, 31, 34, 798284), params={'boosting_type': 'dart', 'lambda_l1': 8.525930055598907, 'lambda_l2': 2.1656304353873055, 'num_leaves': 153, 'feature_fraction': 0.9969889380894155, 'bagging_fraction': 0.6553199106521793, 'bagging_freq': 2, 'min_child_samples': 25, 'learning_rate': 0.24241611757080983, 'max_bin': 352, 'n_estimators': 260}, user_attrs={}, system_attrs={}, intermediate_values={}, distributions={'boosting_type': CategoricalDistribution(choices=('dart', 'gbdt')), 'lambda_l1': FloatDistribution(high=10.0, log=True, low=1e-08, step=None), 'lambda_l2': FloatDistribution(high=10.0, log=True, low=1e-08, step=None), 'num_leaves': IntDistribution(high=256, log=False, low=2, step=1), 'feature_fraction': FloatDistribution(high=1.0, log=False, low=0.4, step=None), 'bagging_fraction': FloatDistribution(high=1.0, log=False, low=0.4, step=None), 'bagging_freq': IntDistribution(high=7, log=False, low=1, step=1), 'min_child_samples': IntDistribution(high=100, log=False, low=5, step=1), 'learning_rate': FloatDistribution(high=0.5, log=True, low=0.0001, step=None), 'max_bin': IntDistribution(high=512, log=False, low=128, step=32), 'n_estimators': IntDistribution(high=400, log=False, low=40, step=20)}, trial_id=26, value=None)\n",
      "boosting_type : dart\n",
      "lambda_l1 : 8.525930055598907\n",
      "lambda_l2 : 2.1656304353873055\n",
      "num_leaves : 153\n",
      "feature_fraction : 0.9969889380894155\n",
      "bagging_fraction : 0.6553199106521793\n",
      "bagging_freq : 2\n",
      "min_child_samples : 25\n",
      "learning_rate : 0.24241611757080983\n",
      "max_bin : 352\n",
      "n_estimators : 260\n"
     ]
    }
   ],
   "source": [
    "print(study.best_trial)\n",
    "best_params = study.best_trial.params\n",
    "for k, v in best_params.items():\n",
    "    print(f\"{k} : {v}\")"
   ]
  },
  {
   "cell_type": "markdown",
   "metadata": {
    "collapsed": false
   },
   "source": [
    "## Understanding Parameters"
   ]
  },
  {
   "cell_type": "code",
   "execution_count": 17,
   "metadata": {
    "ExecuteTime": {
     "end_time": "2023-04-27T13:10:19.070931Z",
     "start_time": "2023-04-27T13:10:01.799386Z"
    },
    "collapsed": false
   },
   "outputs": [],
   "source": [
    "import plotly"
   ]
  },
  {
   "cell_type": "code",
   "execution_count": 18,
   "metadata": {},
   "outputs": [
    {
     "data": {
      "text/plain": [
       "'5.21.0'"
      ]
     },
     "execution_count": 18,
     "metadata": {},
     "output_type": "execute_result"
    }
   ],
   "source": [
    "plotly.__version__"
   ]
  },
  {
   "cell_type": "code",
   "execution_count": 19,
   "metadata": {},
   "outputs": [
    {
     "data": {
      "text/plain": [
       "'0.1.0'"
      ]
     },
     "execution_count": 19,
     "metadata": {},
     "output_type": "execute_result"
    }
   ],
   "source": [
    "import kaleido\n",
    "kaleido.__version__"
   ]
  },
  {
   "cell_type": "code",
   "execution_count": 20,
   "metadata": {},
   "outputs": [],
   "source": [
    "study = joblib.load(os.path.join(MODEL_DIR,\"lgbm-optuna-study.pkl\"))"
   ]
  },
  {
   "cell_type": "code",
   "execution_count": 21,
   "metadata": {},
   "outputs": [
    {
     "name": "stdout",
     "output_type": "stream",
     "text": [
      "<class 'plotly.graph_objs._figure.Figure'>\n"
     ]
    }
   ],
   "source": [
    "# Nécessite l'installation de plotly et de Kaleido (redémarrer le kernel impérativement après plotly, kaleido version 0.1.0 et nformat version récente)\n",
    "# pip install kaleido==0.1.0\n",
    "# pip install --upgrade nbformat\n",
    "# Ajouter le path de kaleido.cmd au PATH windows\n",
    "# Tout redémarrer\n",
    "fig = optuna.visualization.plot_parallel_coordinate(study, params=[\"boosting_type\", \"num_leaves\", \"learning_rate\", \"n_estimators\"])\n",
    "joblib.dump(fig, os.path.join(MODEL_DIR,'fig_plotly.pkl'))\n",
    "print(type(fig))"
   ]
  },
  {
   "cell_type": "code",
   "execution_count": 22,
   "metadata": {},
   "outputs": [],
   "source": [
    "fig.write_image(file=os.path.join(MODEL_DIR, \"try1_parallel_coordinates.png\"), format=\"png\", scale=6)"
   ]
  },
  {
   "cell_type": "code",
   "execution_count": 23,
   "metadata": {},
   "outputs": [
    {
     "data": {
      "application/vnd.plotly.v1+json": {
       "config": {
        "plotlyServerURL": "https://plot.ly"
       },
       "data": [
        {
         "dimensions": [
          {
           "label": "Objective Value",
           "range": [
            0.4791485806059554,
            0.5907814807779238
           ],
           "values": [
            0.4791485806059554,
            0.48677853308851143,
            0.4791485806059554,
            0.4791485806059554,
            0.4791485806059554,
            0.4791485806059554,
            0.4791485806059554,
            0.4791485806059554,
            0.5051361509095036,
            0.4791485806059554,
            0.4791485806059554,
            0.4791485806059554,
            0.4791485806059554,
            0.5178311388514388,
            0.4791485806059554,
            0.4791485806059554,
            0.5131614347035655,
            0.4791485806059554,
            0.4965349243953761,
            0.4791485806059554,
            0.4791485806059554,
            0.4791485806059554,
            0.4791485806059554,
            0.5907814807779238,
            0.49875606323431265,
            0.48887390520415275,
            0.4791485806059554,
            0.5036063910842142,
            0.4791485806059554,
            0.4791485806059554
           ]
          },
          {
           "label": "boosting_type",
           "range": [
            0,
            1
           ],
           "ticktext": [
            "dart",
            "gbdt"
           ],
           "tickvals": [
            0,
            1
           ],
           "values": [
            0,
            0,
            1,
            0,
            0,
            1,
            0,
            0,
            1,
            1,
            1,
            1,
            1,
            1,
            1,
            1,
            0,
            1,
            1,
            1,
            0,
            0,
            0,
            0,
            0,
            1,
            1,
            1,
            0,
            0
           ]
          },
          {
           "label": "learning_rate",
           "range": [
            -3.920964375834994,
            -0.6591236992680577
           ],
           "ticktext": [
            "0.00012",
            "0.001",
            "0.01",
            "0.1",
            "0.219"
           ],
           "tickvals": [
            -3.920964375834994,
            -3,
            -2,
            -1,
            -0.6591236992680577
           ],
           "values": [
            -3.2906795176298447,
            -0.9712715329332082,
            -2.832811913760084,
            -1.9975471510969798,
            -2.86423891310115,
            -2.3579797002676486,
            -3.755449661391543,
            -2.6177894967210653,
            -1.2022148470520153,
            -3.666633265802092,
            -3.63287584610282,
            -2.7663529214302716,
            -2.0835807786900915,
            -1.0889862753396868,
            -3.7072771102794757,
            -2.7530126553040914,
            -0.6591236992680577,
            -2.3455204893851045,
            -1.5273003695838376,
            -3.480681871534975,
            -3.1786508014073753,
            -3.920964375834994,
            -3.7420902403636527,
            -1.3609477704736215,
            -1.3123307954555603,
            -1.8911535387483804,
            -2.764853134180803,
            -1.02362832706395,
            -3.120882364745001,
            -3.2792176909052007
           ]
          },
          {
           "label": "n_estimators",
           "range": [
            40,
            400
           ],
           "values": [
            140,
            80,
            80,
            80,
            200,
            120,
            300,
            240,
            100,
            340,
            400,
            280,
            100,
            400,
            160,
            60,
            40,
            60,
            300,
            100,
            300,
            60,
            360,
            320,
            160,
            240,
            320,
            160,
            280,
            160
           ]
          },
          {
           "label": "num_leaves",
           "range": [
            6,
            247
           ],
           "values": [
            66,
            58,
            175,
            155,
            210,
            153,
            112,
            153,
            154,
            104,
            59,
            6,
            83,
            112,
            247,
            106,
            80,
            215,
            200,
            152,
            231,
            35,
            212,
            72,
            169,
            138,
            225,
            10,
            168,
            210
           ]
          }
         ],
         "labelangle": 30,
         "labelside": "bottom",
         "line": {
          "color": [
           0.4791485806059554,
           0.48677853308851143,
           0.4791485806059554,
           0.4791485806059554,
           0.4791485806059554,
           0.4791485806059554,
           0.4791485806059554,
           0.4791485806059554,
           0.5051361509095036,
           0.4791485806059554,
           0.4791485806059554,
           0.4791485806059554,
           0.4791485806059554,
           0.5178311388514388,
           0.4791485806059554,
           0.4791485806059554,
           0.5131614347035655,
           0.4791485806059554,
           0.4965349243953761,
           0.4791485806059554,
           0.4791485806059554,
           0.4791485806059554,
           0.4791485806059554,
           0.5907814807779238,
           0.49875606323431265,
           0.48887390520415275,
           0.4791485806059554,
           0.5036063910842142,
           0.4791485806059554,
           0.4791485806059554
          ],
          "colorbar": {
           "title": {
            "text": "Objective Value"
           }
          },
          "colorscale": [
           [
            0,
            "rgb(247,251,255)"
           ],
           [
            0.125,
            "rgb(222,235,247)"
           ],
           [
            0.25,
            "rgb(198,219,239)"
           ],
           [
            0.375,
            "rgb(158,202,225)"
           ],
           [
            0.5,
            "rgb(107,174,214)"
           ],
           [
            0.625,
            "rgb(66,146,198)"
           ],
           [
            0.75,
            "rgb(33,113,181)"
           ],
           [
            0.875,
            "rgb(8,81,156)"
           ],
           [
            1,
            "rgb(8,48,107)"
           ]
          ],
          "reversescale": false,
          "showscale": true
         },
         "type": "parcoords"
        }
       ],
       "layout": {
        "template": {
         "data": {
          "bar": [
           {
            "error_x": {
             "color": "#2a3f5f"
            },
            "error_y": {
             "color": "#2a3f5f"
            },
            "marker": {
             "line": {
              "color": "#E5ECF6",
              "width": 0.5
             },
             "pattern": {
              "fillmode": "overlay",
              "size": 10,
              "solidity": 0.2
             }
            },
            "type": "bar"
           }
          ],
          "barpolar": [
           {
            "marker": {
             "line": {
              "color": "#E5ECF6",
              "width": 0.5
             },
             "pattern": {
              "fillmode": "overlay",
              "size": 10,
              "solidity": 0.2
             }
            },
            "type": "barpolar"
           }
          ],
          "carpet": [
           {
            "aaxis": {
             "endlinecolor": "#2a3f5f",
             "gridcolor": "white",
             "linecolor": "white",
             "minorgridcolor": "white",
             "startlinecolor": "#2a3f5f"
            },
            "baxis": {
             "endlinecolor": "#2a3f5f",
             "gridcolor": "white",
             "linecolor": "white",
             "minorgridcolor": "white",
             "startlinecolor": "#2a3f5f"
            },
            "type": "carpet"
           }
          ],
          "choropleth": [
           {
            "colorbar": {
             "outlinewidth": 0,
             "ticks": ""
            },
            "type": "choropleth"
           }
          ],
          "contour": [
           {
            "colorbar": {
             "outlinewidth": 0,
             "ticks": ""
            },
            "colorscale": [
             [
              0,
              "#0d0887"
             ],
             [
              0.1111111111111111,
              "#46039f"
             ],
             [
              0.2222222222222222,
              "#7201a8"
             ],
             [
              0.3333333333333333,
              "#9c179e"
             ],
             [
              0.4444444444444444,
              "#bd3786"
             ],
             [
              0.5555555555555556,
              "#d8576b"
             ],
             [
              0.6666666666666666,
              "#ed7953"
             ],
             [
              0.7777777777777778,
              "#fb9f3a"
             ],
             [
              0.8888888888888888,
              "#fdca26"
             ],
             [
              1,
              "#f0f921"
             ]
            ],
            "type": "contour"
           }
          ],
          "contourcarpet": [
           {
            "colorbar": {
             "outlinewidth": 0,
             "ticks": ""
            },
            "type": "contourcarpet"
           }
          ],
          "heatmap": [
           {
            "colorbar": {
             "outlinewidth": 0,
             "ticks": ""
            },
            "colorscale": [
             [
              0,
              "#0d0887"
             ],
             [
              0.1111111111111111,
              "#46039f"
             ],
             [
              0.2222222222222222,
              "#7201a8"
             ],
             [
              0.3333333333333333,
              "#9c179e"
             ],
             [
              0.4444444444444444,
              "#bd3786"
             ],
             [
              0.5555555555555556,
              "#d8576b"
             ],
             [
              0.6666666666666666,
              "#ed7953"
             ],
             [
              0.7777777777777778,
              "#fb9f3a"
             ],
             [
              0.8888888888888888,
              "#fdca26"
             ],
             [
              1,
              "#f0f921"
             ]
            ],
            "type": "heatmap"
           }
          ],
          "heatmapgl": [
           {
            "colorbar": {
             "outlinewidth": 0,
             "ticks": ""
            },
            "colorscale": [
             [
              0,
              "#0d0887"
             ],
             [
              0.1111111111111111,
              "#46039f"
             ],
             [
              0.2222222222222222,
              "#7201a8"
             ],
             [
              0.3333333333333333,
              "#9c179e"
             ],
             [
              0.4444444444444444,
              "#bd3786"
             ],
             [
              0.5555555555555556,
              "#d8576b"
             ],
             [
              0.6666666666666666,
              "#ed7953"
             ],
             [
              0.7777777777777778,
              "#fb9f3a"
             ],
             [
              0.8888888888888888,
              "#fdca26"
             ],
             [
              1,
              "#f0f921"
             ]
            ],
            "type": "heatmapgl"
           }
          ],
          "histogram": [
           {
            "marker": {
             "pattern": {
              "fillmode": "overlay",
              "size": 10,
              "solidity": 0.2
             }
            },
            "type": "histogram"
           }
          ],
          "histogram2d": [
           {
            "colorbar": {
             "outlinewidth": 0,
             "ticks": ""
            },
            "colorscale": [
             [
              0,
              "#0d0887"
             ],
             [
              0.1111111111111111,
              "#46039f"
             ],
             [
              0.2222222222222222,
              "#7201a8"
             ],
             [
              0.3333333333333333,
              "#9c179e"
             ],
             [
              0.4444444444444444,
              "#bd3786"
             ],
             [
              0.5555555555555556,
              "#d8576b"
             ],
             [
              0.6666666666666666,
              "#ed7953"
             ],
             [
              0.7777777777777778,
              "#fb9f3a"
             ],
             [
              0.8888888888888888,
              "#fdca26"
             ],
             [
              1,
              "#f0f921"
             ]
            ],
            "type": "histogram2d"
           }
          ],
          "histogram2dcontour": [
           {
            "colorbar": {
             "outlinewidth": 0,
             "ticks": ""
            },
            "colorscale": [
             [
              0,
              "#0d0887"
             ],
             [
              0.1111111111111111,
              "#46039f"
             ],
             [
              0.2222222222222222,
              "#7201a8"
             ],
             [
              0.3333333333333333,
              "#9c179e"
             ],
             [
              0.4444444444444444,
              "#bd3786"
             ],
             [
              0.5555555555555556,
              "#d8576b"
             ],
             [
              0.6666666666666666,
              "#ed7953"
             ],
             [
              0.7777777777777778,
              "#fb9f3a"
             ],
             [
              0.8888888888888888,
              "#fdca26"
             ],
             [
              1,
              "#f0f921"
             ]
            ],
            "type": "histogram2dcontour"
           }
          ],
          "mesh3d": [
           {
            "colorbar": {
             "outlinewidth": 0,
             "ticks": ""
            },
            "type": "mesh3d"
           }
          ],
          "parcoords": [
           {
            "line": {
             "colorbar": {
              "outlinewidth": 0,
              "ticks": ""
             }
            },
            "type": "parcoords"
           }
          ],
          "pie": [
           {
            "automargin": true,
            "type": "pie"
           }
          ],
          "scatter": [
           {
            "fillpattern": {
             "fillmode": "overlay",
             "size": 10,
             "solidity": 0.2
            },
            "type": "scatter"
           }
          ],
          "scatter3d": [
           {
            "line": {
             "colorbar": {
              "outlinewidth": 0,
              "ticks": ""
             }
            },
            "marker": {
             "colorbar": {
              "outlinewidth": 0,
              "ticks": ""
             }
            },
            "type": "scatter3d"
           }
          ],
          "scattercarpet": [
           {
            "marker": {
             "colorbar": {
              "outlinewidth": 0,
              "ticks": ""
             }
            },
            "type": "scattercarpet"
           }
          ],
          "scattergeo": [
           {
            "marker": {
             "colorbar": {
              "outlinewidth": 0,
              "ticks": ""
             }
            },
            "type": "scattergeo"
           }
          ],
          "scattergl": [
           {
            "marker": {
             "colorbar": {
              "outlinewidth": 0,
              "ticks": ""
             }
            },
            "type": "scattergl"
           }
          ],
          "scattermapbox": [
           {
            "marker": {
             "colorbar": {
              "outlinewidth": 0,
              "ticks": ""
             }
            },
            "type": "scattermapbox"
           }
          ],
          "scatterpolar": [
           {
            "marker": {
             "colorbar": {
              "outlinewidth": 0,
              "ticks": ""
             }
            },
            "type": "scatterpolar"
           }
          ],
          "scatterpolargl": [
           {
            "marker": {
             "colorbar": {
              "outlinewidth": 0,
              "ticks": ""
             }
            },
            "type": "scatterpolargl"
           }
          ],
          "scatterternary": [
           {
            "marker": {
             "colorbar": {
              "outlinewidth": 0,
              "ticks": ""
             }
            },
            "type": "scatterternary"
           }
          ],
          "surface": [
           {
            "colorbar": {
             "outlinewidth": 0,
             "ticks": ""
            },
            "colorscale": [
             [
              0,
              "#0d0887"
             ],
             [
              0.1111111111111111,
              "#46039f"
             ],
             [
              0.2222222222222222,
              "#7201a8"
             ],
             [
              0.3333333333333333,
              "#9c179e"
             ],
             [
              0.4444444444444444,
              "#bd3786"
             ],
             [
              0.5555555555555556,
              "#d8576b"
             ],
             [
              0.6666666666666666,
              "#ed7953"
             ],
             [
              0.7777777777777778,
              "#fb9f3a"
             ],
             [
              0.8888888888888888,
              "#fdca26"
             ],
             [
              1,
              "#f0f921"
             ]
            ],
            "type": "surface"
           }
          ],
          "table": [
           {
            "cells": {
             "fill": {
              "color": "#EBF0F8"
             },
             "line": {
              "color": "white"
             }
            },
            "header": {
             "fill": {
              "color": "#C8D4E3"
             },
             "line": {
              "color": "white"
             }
            },
            "type": "table"
           }
          ]
         },
         "layout": {
          "annotationdefaults": {
           "arrowcolor": "#2a3f5f",
           "arrowhead": 0,
           "arrowwidth": 1
          },
          "autotypenumbers": "strict",
          "coloraxis": {
           "colorbar": {
            "outlinewidth": 0,
            "ticks": ""
           }
          },
          "colorscale": {
           "diverging": [
            [
             0,
             "#8e0152"
            ],
            [
             0.1,
             "#c51b7d"
            ],
            [
             0.2,
             "#de77ae"
            ],
            [
             0.3,
             "#f1b6da"
            ],
            [
             0.4,
             "#fde0ef"
            ],
            [
             0.5,
             "#f7f7f7"
            ],
            [
             0.6,
             "#e6f5d0"
            ],
            [
             0.7,
             "#b8e186"
            ],
            [
             0.8,
             "#7fbc41"
            ],
            [
             0.9,
             "#4d9221"
            ],
            [
             1,
             "#276419"
            ]
           ],
           "sequential": [
            [
             0,
             "#0d0887"
            ],
            [
             0.1111111111111111,
             "#46039f"
            ],
            [
             0.2222222222222222,
             "#7201a8"
            ],
            [
             0.3333333333333333,
             "#9c179e"
            ],
            [
             0.4444444444444444,
             "#bd3786"
            ],
            [
             0.5555555555555556,
             "#d8576b"
            ],
            [
             0.6666666666666666,
             "#ed7953"
            ],
            [
             0.7777777777777778,
             "#fb9f3a"
            ],
            [
             0.8888888888888888,
             "#fdca26"
            ],
            [
             1,
             "#f0f921"
            ]
           ],
           "sequentialminus": [
            [
             0,
             "#0d0887"
            ],
            [
             0.1111111111111111,
             "#46039f"
            ],
            [
             0.2222222222222222,
             "#7201a8"
            ],
            [
             0.3333333333333333,
             "#9c179e"
            ],
            [
             0.4444444444444444,
             "#bd3786"
            ],
            [
             0.5555555555555556,
             "#d8576b"
            ],
            [
             0.6666666666666666,
             "#ed7953"
            ],
            [
             0.7777777777777778,
             "#fb9f3a"
            ],
            [
             0.8888888888888888,
             "#fdca26"
            ],
            [
             1,
             "#f0f921"
            ]
           ]
          },
          "colorway": [
           "#636efa",
           "#EF553B",
           "#00cc96",
           "#ab63fa",
           "#FFA15A",
           "#19d3f3",
           "#FF6692",
           "#B6E880",
           "#FF97FF",
           "#FECB52"
          ],
          "font": {
           "color": "#2a3f5f"
          },
          "geo": {
           "bgcolor": "white",
           "lakecolor": "white",
           "landcolor": "#E5ECF6",
           "showlakes": true,
           "showland": true,
           "subunitcolor": "white"
          },
          "hoverlabel": {
           "align": "left"
          },
          "hovermode": "closest",
          "mapbox": {
           "style": "light"
          },
          "paper_bgcolor": "white",
          "plot_bgcolor": "#E5ECF6",
          "polar": {
           "angularaxis": {
            "gridcolor": "white",
            "linecolor": "white",
            "ticks": ""
           },
           "bgcolor": "#E5ECF6",
           "radialaxis": {
            "gridcolor": "white",
            "linecolor": "white",
            "ticks": ""
           }
          },
          "scene": {
           "xaxis": {
            "backgroundcolor": "#E5ECF6",
            "gridcolor": "white",
            "gridwidth": 2,
            "linecolor": "white",
            "showbackground": true,
            "ticks": "",
            "zerolinecolor": "white"
           },
           "yaxis": {
            "backgroundcolor": "#E5ECF6",
            "gridcolor": "white",
            "gridwidth": 2,
            "linecolor": "white",
            "showbackground": true,
            "ticks": "",
            "zerolinecolor": "white"
           },
           "zaxis": {
            "backgroundcolor": "#E5ECF6",
            "gridcolor": "white",
            "gridwidth": 2,
            "linecolor": "white",
            "showbackground": true,
            "ticks": "",
            "zerolinecolor": "white"
           }
          },
          "shapedefaults": {
           "line": {
            "color": "#2a3f5f"
           }
          },
          "ternary": {
           "aaxis": {
            "gridcolor": "white",
            "linecolor": "white",
            "ticks": ""
           },
           "baxis": {
            "gridcolor": "white",
            "linecolor": "white",
            "ticks": ""
           },
           "bgcolor": "#E5ECF6",
           "caxis": {
            "gridcolor": "white",
            "linecolor": "white",
            "ticks": ""
           }
          },
          "title": {
           "x": 0.05
          },
          "xaxis": {
           "automargin": true,
           "gridcolor": "white",
           "linecolor": "white",
           "ticks": "",
           "title": {
            "standoff": 15
           },
           "zerolinecolor": "white",
           "zerolinewidth": 2
          },
          "yaxis": {
           "automargin": true,
           "gridcolor": "white",
           "linecolor": "white",
           "ticks": "",
           "title": {
            "standoff": 15
           },
           "zerolinecolor": "white",
           "zerolinewidth": 2
          }
         }
        },
        "title": {
         "text": "Parallel Coordinate Plot"
        }
       }
      }
     },
     "metadata": {},
     "output_type": "display_data"
    }
   ],
   "source": [
    "fig.show()"
   ]
  },
  {
   "cell_type": "code",
   "execution_count": 24,
   "metadata": {},
   "outputs": [
    {
     "data": {
      "application/vnd.plotly.v1+json": {
       "config": {
        "plotlyServerURL": "https://plot.ly"
       },
       "data": [
        {
         "dimensions": [
          {
           "label": "Objective Value",
           "range": [
            0.4791485806059554,
            0.5907814807779238
           ],
           "values": [
            0.4791485806059554,
            0.48677853308851143,
            0.4791485806059554,
            0.4791485806059554,
            0.4791485806059554,
            0.4791485806059554,
            0.4791485806059554,
            0.4791485806059554,
            0.5051361509095036,
            0.4791485806059554,
            0.4791485806059554,
            0.4791485806059554,
            0.4791485806059554,
            0.5178311388514388,
            0.4791485806059554,
            0.4791485806059554,
            0.5131614347035655,
            0.4791485806059554,
            0.4965349243953761,
            0.4791485806059554,
            0.4791485806059554,
            0.4791485806059554,
            0.4791485806059554,
            0.5907814807779238,
            0.49875606323431265,
            0.48887390520415275,
            0.4791485806059554,
            0.5036063910842142,
            0.4791485806059554,
            0.4791485806059554
           ]
          },
          {
           "label": "boosting_type",
           "range": [
            0,
            1
           ],
           "ticktext": [
            "dart",
            "gbdt"
           ],
           "tickvals": [
            0,
            1
           ],
           "values": [
            0,
            0,
            1,
            0,
            0,
            1,
            0,
            0,
            1,
            1,
            1,
            1,
            1,
            1,
            1,
            1,
            0,
            1,
            1,
            1,
            0,
            0,
            0,
            0,
            0,
            1,
            1,
            1,
            0,
            0
           ]
          },
          {
           "label": "learning_rate",
           "range": [
            -3.920964375834994,
            -0.6591236992680577
           ],
           "ticktext": [
            "0.00012",
            "0.001",
            "0.01",
            "0.1",
            "0.219"
           ],
           "tickvals": [
            -3.920964375834994,
            -3,
            -2,
            -1,
            -0.6591236992680577
           ],
           "values": [
            -3.2906795176298447,
            -0.9712715329332082,
            -2.832811913760084,
            -1.9975471510969798,
            -2.86423891310115,
            -2.3579797002676486,
            -3.755449661391543,
            -2.6177894967210653,
            -1.2022148470520153,
            -3.666633265802092,
            -3.63287584610282,
            -2.7663529214302716,
            -2.0835807786900915,
            -1.0889862753396868,
            -3.7072771102794757,
            -2.7530126553040914,
            -0.6591236992680577,
            -2.3455204893851045,
            -1.5273003695838376,
            -3.480681871534975,
            -3.1786508014073753,
            -3.920964375834994,
            -3.7420902403636527,
            -1.3609477704736215,
            -1.3123307954555603,
            -1.8911535387483804,
            -2.764853134180803,
            -1.02362832706395,
            -3.120882364745001,
            -3.2792176909052007
           ]
          },
          {
           "label": "n_estimators",
           "range": [
            40,
            400
           ],
           "values": [
            140,
            80,
            80,
            80,
            200,
            120,
            300,
            240,
            100,
            340,
            400,
            280,
            100,
            400,
            160,
            60,
            40,
            60,
            300,
            100,
            300,
            60,
            360,
            320,
            160,
            240,
            320,
            160,
            280,
            160
           ]
          },
          {
           "label": "num_leaves",
           "range": [
            6,
            247
           ],
           "values": [
            66,
            58,
            175,
            155,
            210,
            153,
            112,
            153,
            154,
            104,
            59,
            6,
            83,
            112,
            247,
            106,
            80,
            215,
            200,
            152,
            231,
            35,
            212,
            72,
            169,
            138,
            225,
            10,
            168,
            210
           ]
          }
         ],
         "labelangle": 30,
         "labelside": "bottom",
         "line": {
          "color": [
           0.4791485806059554,
           0.48677853308851143,
           0.4791485806059554,
           0.4791485806059554,
           0.4791485806059554,
           0.4791485806059554,
           0.4791485806059554,
           0.4791485806059554,
           0.5051361509095036,
           0.4791485806059554,
           0.4791485806059554,
           0.4791485806059554,
           0.4791485806059554,
           0.5178311388514388,
           0.4791485806059554,
           0.4791485806059554,
           0.5131614347035655,
           0.4791485806059554,
           0.4965349243953761,
           0.4791485806059554,
           0.4791485806059554,
           0.4791485806059554,
           0.4791485806059554,
           0.5907814807779238,
           0.49875606323431265,
           0.48887390520415275,
           0.4791485806059554,
           0.5036063910842142,
           0.4791485806059554,
           0.4791485806059554
          ],
          "colorbar": {
           "title": {
            "text": "Objective Value"
           }
          },
          "colorscale": [
           [
            0,
            "rgb(247,251,255)"
           ],
           [
            0.125,
            "rgb(222,235,247)"
           ],
           [
            0.25,
            "rgb(198,219,239)"
           ],
           [
            0.375,
            "rgb(158,202,225)"
           ],
           [
            0.5,
            "rgb(107,174,214)"
           ],
           [
            0.625,
            "rgb(66,146,198)"
           ],
           [
            0.75,
            "rgb(33,113,181)"
           ],
           [
            0.875,
            "rgb(8,81,156)"
           ],
           [
            1,
            "rgb(8,48,107)"
           ]
          ],
          "reversescale": false,
          "showscale": true
         },
         "type": "parcoords"
        }
       ],
       "layout": {
        "template": {
         "data": {
          "bar": [
           {
            "error_x": {
             "color": "#2a3f5f"
            },
            "error_y": {
             "color": "#2a3f5f"
            },
            "marker": {
             "line": {
              "color": "#E5ECF6",
              "width": 0.5
             },
             "pattern": {
              "fillmode": "overlay",
              "size": 10,
              "solidity": 0.2
             }
            },
            "type": "bar"
           }
          ],
          "barpolar": [
           {
            "marker": {
             "line": {
              "color": "#E5ECF6",
              "width": 0.5
             },
             "pattern": {
              "fillmode": "overlay",
              "size": 10,
              "solidity": 0.2
             }
            },
            "type": "barpolar"
           }
          ],
          "carpet": [
           {
            "aaxis": {
             "endlinecolor": "#2a3f5f",
             "gridcolor": "white",
             "linecolor": "white",
             "minorgridcolor": "white",
             "startlinecolor": "#2a3f5f"
            },
            "baxis": {
             "endlinecolor": "#2a3f5f",
             "gridcolor": "white",
             "linecolor": "white",
             "minorgridcolor": "white",
             "startlinecolor": "#2a3f5f"
            },
            "type": "carpet"
           }
          ],
          "choropleth": [
           {
            "colorbar": {
             "outlinewidth": 0,
             "ticks": ""
            },
            "type": "choropleth"
           }
          ],
          "contour": [
           {
            "colorbar": {
             "outlinewidth": 0,
             "ticks": ""
            },
            "colorscale": [
             [
              0,
              "#0d0887"
             ],
             [
              0.1111111111111111,
              "#46039f"
             ],
             [
              0.2222222222222222,
              "#7201a8"
             ],
             [
              0.3333333333333333,
              "#9c179e"
             ],
             [
              0.4444444444444444,
              "#bd3786"
             ],
             [
              0.5555555555555556,
              "#d8576b"
             ],
             [
              0.6666666666666666,
              "#ed7953"
             ],
             [
              0.7777777777777778,
              "#fb9f3a"
             ],
             [
              0.8888888888888888,
              "#fdca26"
             ],
             [
              1,
              "#f0f921"
             ]
            ],
            "type": "contour"
           }
          ],
          "contourcarpet": [
           {
            "colorbar": {
             "outlinewidth": 0,
             "ticks": ""
            },
            "type": "contourcarpet"
           }
          ],
          "heatmap": [
           {
            "colorbar": {
             "outlinewidth": 0,
             "ticks": ""
            },
            "colorscale": [
             [
              0,
              "#0d0887"
             ],
             [
              0.1111111111111111,
              "#46039f"
             ],
             [
              0.2222222222222222,
              "#7201a8"
             ],
             [
              0.3333333333333333,
              "#9c179e"
             ],
             [
              0.4444444444444444,
              "#bd3786"
             ],
             [
              0.5555555555555556,
              "#d8576b"
             ],
             [
              0.6666666666666666,
              "#ed7953"
             ],
             [
              0.7777777777777778,
              "#fb9f3a"
             ],
             [
              0.8888888888888888,
              "#fdca26"
             ],
             [
              1,
              "#f0f921"
             ]
            ],
            "type": "heatmap"
           }
          ],
          "heatmapgl": [
           {
            "colorbar": {
             "outlinewidth": 0,
             "ticks": ""
            },
            "colorscale": [
             [
              0,
              "#0d0887"
             ],
             [
              0.1111111111111111,
              "#46039f"
             ],
             [
              0.2222222222222222,
              "#7201a8"
             ],
             [
              0.3333333333333333,
              "#9c179e"
             ],
             [
              0.4444444444444444,
              "#bd3786"
             ],
             [
              0.5555555555555556,
              "#d8576b"
             ],
             [
              0.6666666666666666,
              "#ed7953"
             ],
             [
              0.7777777777777778,
              "#fb9f3a"
             ],
             [
              0.8888888888888888,
              "#fdca26"
             ],
             [
              1,
              "#f0f921"
             ]
            ],
            "type": "heatmapgl"
           }
          ],
          "histogram": [
           {
            "marker": {
             "pattern": {
              "fillmode": "overlay",
              "size": 10,
              "solidity": 0.2
             }
            },
            "type": "histogram"
           }
          ],
          "histogram2d": [
           {
            "colorbar": {
             "outlinewidth": 0,
             "ticks": ""
            },
            "colorscale": [
             [
              0,
              "#0d0887"
             ],
             [
              0.1111111111111111,
              "#46039f"
             ],
             [
              0.2222222222222222,
              "#7201a8"
             ],
             [
              0.3333333333333333,
              "#9c179e"
             ],
             [
              0.4444444444444444,
              "#bd3786"
             ],
             [
              0.5555555555555556,
              "#d8576b"
             ],
             [
              0.6666666666666666,
              "#ed7953"
             ],
             [
              0.7777777777777778,
              "#fb9f3a"
             ],
             [
              0.8888888888888888,
              "#fdca26"
             ],
             [
              1,
              "#f0f921"
             ]
            ],
            "type": "histogram2d"
           }
          ],
          "histogram2dcontour": [
           {
            "colorbar": {
             "outlinewidth": 0,
             "ticks": ""
            },
            "colorscale": [
             [
              0,
              "#0d0887"
             ],
             [
              0.1111111111111111,
              "#46039f"
             ],
             [
              0.2222222222222222,
              "#7201a8"
             ],
             [
              0.3333333333333333,
              "#9c179e"
             ],
             [
              0.4444444444444444,
              "#bd3786"
             ],
             [
              0.5555555555555556,
              "#d8576b"
             ],
             [
              0.6666666666666666,
              "#ed7953"
             ],
             [
              0.7777777777777778,
              "#fb9f3a"
             ],
             [
              0.8888888888888888,
              "#fdca26"
             ],
             [
              1,
              "#f0f921"
             ]
            ],
            "type": "histogram2dcontour"
           }
          ],
          "mesh3d": [
           {
            "colorbar": {
             "outlinewidth": 0,
             "ticks": ""
            },
            "type": "mesh3d"
           }
          ],
          "parcoords": [
           {
            "line": {
             "colorbar": {
              "outlinewidth": 0,
              "ticks": ""
             }
            },
            "type": "parcoords"
           }
          ],
          "pie": [
           {
            "automargin": true,
            "type": "pie"
           }
          ],
          "scatter": [
           {
            "fillpattern": {
             "fillmode": "overlay",
             "size": 10,
             "solidity": 0.2
            },
            "type": "scatter"
           }
          ],
          "scatter3d": [
           {
            "line": {
             "colorbar": {
              "outlinewidth": 0,
              "ticks": ""
             }
            },
            "marker": {
             "colorbar": {
              "outlinewidth": 0,
              "ticks": ""
             }
            },
            "type": "scatter3d"
           }
          ],
          "scattercarpet": [
           {
            "marker": {
             "colorbar": {
              "outlinewidth": 0,
              "ticks": ""
             }
            },
            "type": "scattercarpet"
           }
          ],
          "scattergeo": [
           {
            "marker": {
             "colorbar": {
              "outlinewidth": 0,
              "ticks": ""
             }
            },
            "type": "scattergeo"
           }
          ],
          "scattergl": [
           {
            "marker": {
             "colorbar": {
              "outlinewidth": 0,
              "ticks": ""
             }
            },
            "type": "scattergl"
           }
          ],
          "scattermapbox": [
           {
            "marker": {
             "colorbar": {
              "outlinewidth": 0,
              "ticks": ""
             }
            },
            "type": "scattermapbox"
           }
          ],
          "scatterpolar": [
           {
            "marker": {
             "colorbar": {
              "outlinewidth": 0,
              "ticks": ""
             }
            },
            "type": "scatterpolar"
           }
          ],
          "scatterpolargl": [
           {
            "marker": {
             "colorbar": {
              "outlinewidth": 0,
              "ticks": ""
             }
            },
            "type": "scatterpolargl"
           }
          ],
          "scatterternary": [
           {
            "marker": {
             "colorbar": {
              "outlinewidth": 0,
              "ticks": ""
             }
            },
            "type": "scatterternary"
           }
          ],
          "surface": [
           {
            "colorbar": {
             "outlinewidth": 0,
             "ticks": ""
            },
            "colorscale": [
             [
              0,
              "#0d0887"
             ],
             [
              0.1111111111111111,
              "#46039f"
             ],
             [
              0.2222222222222222,
              "#7201a8"
             ],
             [
              0.3333333333333333,
              "#9c179e"
             ],
             [
              0.4444444444444444,
              "#bd3786"
             ],
             [
              0.5555555555555556,
              "#d8576b"
             ],
             [
              0.6666666666666666,
              "#ed7953"
             ],
             [
              0.7777777777777778,
              "#fb9f3a"
             ],
             [
              0.8888888888888888,
              "#fdca26"
             ],
             [
              1,
              "#f0f921"
             ]
            ],
            "type": "surface"
           }
          ],
          "table": [
           {
            "cells": {
             "fill": {
              "color": "#EBF0F8"
             },
             "line": {
              "color": "white"
             }
            },
            "header": {
             "fill": {
              "color": "#C8D4E3"
             },
             "line": {
              "color": "white"
             }
            },
            "type": "table"
           }
          ]
         },
         "layout": {
          "annotationdefaults": {
           "arrowcolor": "#2a3f5f",
           "arrowhead": 0,
           "arrowwidth": 1
          },
          "autotypenumbers": "strict",
          "coloraxis": {
           "colorbar": {
            "outlinewidth": 0,
            "ticks": ""
           }
          },
          "colorscale": {
           "diverging": [
            [
             0,
             "#8e0152"
            ],
            [
             0.1,
             "#c51b7d"
            ],
            [
             0.2,
             "#de77ae"
            ],
            [
             0.3,
             "#f1b6da"
            ],
            [
             0.4,
             "#fde0ef"
            ],
            [
             0.5,
             "#f7f7f7"
            ],
            [
             0.6,
             "#e6f5d0"
            ],
            [
             0.7,
             "#b8e186"
            ],
            [
             0.8,
             "#7fbc41"
            ],
            [
             0.9,
             "#4d9221"
            ],
            [
             1,
             "#276419"
            ]
           ],
           "sequential": [
            [
             0,
             "#0d0887"
            ],
            [
             0.1111111111111111,
             "#46039f"
            ],
            [
             0.2222222222222222,
             "#7201a8"
            ],
            [
             0.3333333333333333,
             "#9c179e"
            ],
            [
             0.4444444444444444,
             "#bd3786"
            ],
            [
             0.5555555555555556,
             "#d8576b"
            ],
            [
             0.6666666666666666,
             "#ed7953"
            ],
            [
             0.7777777777777778,
             "#fb9f3a"
            ],
            [
             0.8888888888888888,
             "#fdca26"
            ],
            [
             1,
             "#f0f921"
            ]
           ],
           "sequentialminus": [
            [
             0,
             "#0d0887"
            ],
            [
             0.1111111111111111,
             "#46039f"
            ],
            [
             0.2222222222222222,
             "#7201a8"
            ],
            [
             0.3333333333333333,
             "#9c179e"
            ],
            [
             0.4444444444444444,
             "#bd3786"
            ],
            [
             0.5555555555555556,
             "#d8576b"
            ],
            [
             0.6666666666666666,
             "#ed7953"
            ],
            [
             0.7777777777777778,
             "#fb9f3a"
            ],
            [
             0.8888888888888888,
             "#fdca26"
            ],
            [
             1,
             "#f0f921"
            ]
           ]
          },
          "colorway": [
           "#636efa",
           "#EF553B",
           "#00cc96",
           "#ab63fa",
           "#FFA15A",
           "#19d3f3",
           "#FF6692",
           "#B6E880",
           "#FF97FF",
           "#FECB52"
          ],
          "font": {
           "color": "#2a3f5f"
          },
          "geo": {
           "bgcolor": "white",
           "lakecolor": "white",
           "landcolor": "#E5ECF6",
           "showlakes": true,
           "showland": true,
           "subunitcolor": "white"
          },
          "hoverlabel": {
           "align": "left"
          },
          "hovermode": "closest",
          "mapbox": {
           "style": "light"
          },
          "paper_bgcolor": "white",
          "plot_bgcolor": "#E5ECF6",
          "polar": {
           "angularaxis": {
            "gridcolor": "white",
            "linecolor": "white",
            "ticks": ""
           },
           "bgcolor": "#E5ECF6",
           "radialaxis": {
            "gridcolor": "white",
            "linecolor": "white",
            "ticks": ""
           }
          },
          "scene": {
           "xaxis": {
            "backgroundcolor": "#E5ECF6",
            "gridcolor": "white",
            "gridwidth": 2,
            "linecolor": "white",
            "showbackground": true,
            "ticks": "",
            "zerolinecolor": "white"
           },
           "yaxis": {
            "backgroundcolor": "#E5ECF6",
            "gridcolor": "white",
            "gridwidth": 2,
            "linecolor": "white",
            "showbackground": true,
            "ticks": "",
            "zerolinecolor": "white"
           },
           "zaxis": {
            "backgroundcolor": "#E5ECF6",
            "gridcolor": "white",
            "gridwidth": 2,
            "linecolor": "white",
            "showbackground": true,
            "ticks": "",
            "zerolinecolor": "white"
           }
          },
          "shapedefaults": {
           "line": {
            "color": "#2a3f5f"
           }
          },
          "ternary": {
           "aaxis": {
            "gridcolor": "white",
            "linecolor": "white",
            "ticks": ""
           },
           "baxis": {
            "gridcolor": "white",
            "linecolor": "white",
            "ticks": ""
           },
           "bgcolor": "#E5ECF6",
           "caxis": {
            "gridcolor": "white",
            "linecolor": "white",
            "ticks": ""
           }
          },
          "title": {
           "x": 0.05
          },
          "xaxis": {
           "automargin": true,
           "gridcolor": "white",
           "linecolor": "white",
           "ticks": "",
           "title": {
            "standoff": 15
           },
           "zerolinecolor": "white",
           "zerolinewidth": 2
          },
          "yaxis": {
           "automargin": true,
           "gridcolor": "white",
           "linecolor": "white",
           "ticks": "",
           "title": {
            "standoff": 15
           },
           "zerolinecolor": "white",
           "zerolinewidth": 2
          }
         }
        },
        "title": {
         "text": "Parallel Coordinate Plot"
        }
       }
      }
     },
     "metadata": {},
     "output_type": "display_data"
    }
   ],
   "source": [
    "# Plus rapide en html\n",
    "im_path = os.path.join(MODEL_DIR, 'fig_plotly.html')\n",
    "fig.write_html(im_path)\n",
    "fig.show()"
   ]
  },
  {
   "cell_type": "code",
   "execution_count": 25,
   "metadata": {
    "ExecuteTime": {
     "end_time": "2023-04-27T12:44:59.987744Z",
     "start_time": "2023-04-27T12:44:57.634931Z"
    },
    "collapsed": false
   },
   "outputs": [
    {
     "data": {
      "application/vnd.plotly.v1+json": {
       "config": {
        "plotlyServerURL": "https://plot.ly"
       },
       "data": [
        {
         "cliponaxis": false,
         "hovertemplate": [
          "max_bin (IntDistribution): 0.01937272251597659<extra></extra>",
          "bagging_freq (IntDistribution): 0.0255204165345012<extra></extra>",
          "feature_fraction (FloatDistribution): 0.03157223529075308<extra></extra>",
          "lambda_l1 (FloatDistribution): 0.032439370646282446<extra></extra>",
          "boosting_type (CategoricalDistribution): 0.04510893986825228<extra></extra>",
          "num_leaves (IntDistribution): 0.048922301650845545<extra></extra>",
          "min_child_samples (IntDistribution): 0.05729101457397826<extra></extra>",
          "n_estimators (IntDistribution): 0.13982520837613427<extra></extra>",
          "bagging_fraction (FloatDistribution): 0.14535587155813554<extra></extra>",
          "lambda_l2 (FloatDistribution): 0.14867856994027864<extra></extra>",
          "learning_rate (FloatDistribution): 0.3059133490448624<extra></extra>"
         ],
         "name": "Objective Value",
         "orientation": "h",
         "text": [
          "0.02",
          "0.03",
          "0.03",
          "0.03",
          "0.05",
          "0.05",
          "0.06",
          "0.14",
          "0.15",
          "0.15",
          "0.31"
         ],
         "textposition": "outside",
         "type": "bar",
         "x": [
          0.01937272251597659,
          0.0255204165345012,
          0.03157223529075308,
          0.032439370646282446,
          0.04510893986825228,
          0.048922301650845545,
          0.05729101457397826,
          0.13982520837613427,
          0.14535587155813554,
          0.14867856994027864,
          0.3059133490448624
         ],
         "y": [
          "max_bin",
          "bagging_freq",
          "feature_fraction",
          "lambda_l1",
          "boosting_type",
          "num_leaves",
          "min_child_samples",
          "n_estimators",
          "bagging_fraction",
          "lambda_l2",
          "learning_rate"
         ]
        }
       ],
       "layout": {
        "template": {
         "data": {
          "bar": [
           {
            "error_x": {
             "color": "#2a3f5f"
            },
            "error_y": {
             "color": "#2a3f5f"
            },
            "marker": {
             "line": {
              "color": "#E5ECF6",
              "width": 0.5
             },
             "pattern": {
              "fillmode": "overlay",
              "size": 10,
              "solidity": 0.2
             }
            },
            "type": "bar"
           }
          ],
          "barpolar": [
           {
            "marker": {
             "line": {
              "color": "#E5ECF6",
              "width": 0.5
             },
             "pattern": {
              "fillmode": "overlay",
              "size": 10,
              "solidity": 0.2
             }
            },
            "type": "barpolar"
           }
          ],
          "carpet": [
           {
            "aaxis": {
             "endlinecolor": "#2a3f5f",
             "gridcolor": "white",
             "linecolor": "white",
             "minorgridcolor": "white",
             "startlinecolor": "#2a3f5f"
            },
            "baxis": {
             "endlinecolor": "#2a3f5f",
             "gridcolor": "white",
             "linecolor": "white",
             "minorgridcolor": "white",
             "startlinecolor": "#2a3f5f"
            },
            "type": "carpet"
           }
          ],
          "choropleth": [
           {
            "colorbar": {
             "outlinewidth": 0,
             "ticks": ""
            },
            "type": "choropleth"
           }
          ],
          "contour": [
           {
            "colorbar": {
             "outlinewidth": 0,
             "ticks": ""
            },
            "colorscale": [
             [
              0,
              "#0d0887"
             ],
             [
              0.1111111111111111,
              "#46039f"
             ],
             [
              0.2222222222222222,
              "#7201a8"
             ],
             [
              0.3333333333333333,
              "#9c179e"
             ],
             [
              0.4444444444444444,
              "#bd3786"
             ],
             [
              0.5555555555555556,
              "#d8576b"
             ],
             [
              0.6666666666666666,
              "#ed7953"
             ],
             [
              0.7777777777777778,
              "#fb9f3a"
             ],
             [
              0.8888888888888888,
              "#fdca26"
             ],
             [
              1,
              "#f0f921"
             ]
            ],
            "type": "contour"
           }
          ],
          "contourcarpet": [
           {
            "colorbar": {
             "outlinewidth": 0,
             "ticks": ""
            },
            "type": "contourcarpet"
           }
          ],
          "heatmap": [
           {
            "colorbar": {
             "outlinewidth": 0,
             "ticks": ""
            },
            "colorscale": [
             [
              0,
              "#0d0887"
             ],
             [
              0.1111111111111111,
              "#46039f"
             ],
             [
              0.2222222222222222,
              "#7201a8"
             ],
             [
              0.3333333333333333,
              "#9c179e"
             ],
             [
              0.4444444444444444,
              "#bd3786"
             ],
             [
              0.5555555555555556,
              "#d8576b"
             ],
             [
              0.6666666666666666,
              "#ed7953"
             ],
             [
              0.7777777777777778,
              "#fb9f3a"
             ],
             [
              0.8888888888888888,
              "#fdca26"
             ],
             [
              1,
              "#f0f921"
             ]
            ],
            "type": "heatmap"
           }
          ],
          "heatmapgl": [
           {
            "colorbar": {
             "outlinewidth": 0,
             "ticks": ""
            },
            "colorscale": [
             [
              0,
              "#0d0887"
             ],
             [
              0.1111111111111111,
              "#46039f"
             ],
             [
              0.2222222222222222,
              "#7201a8"
             ],
             [
              0.3333333333333333,
              "#9c179e"
             ],
             [
              0.4444444444444444,
              "#bd3786"
             ],
             [
              0.5555555555555556,
              "#d8576b"
             ],
             [
              0.6666666666666666,
              "#ed7953"
             ],
             [
              0.7777777777777778,
              "#fb9f3a"
             ],
             [
              0.8888888888888888,
              "#fdca26"
             ],
             [
              1,
              "#f0f921"
             ]
            ],
            "type": "heatmapgl"
           }
          ],
          "histogram": [
           {
            "marker": {
             "pattern": {
              "fillmode": "overlay",
              "size": 10,
              "solidity": 0.2
             }
            },
            "type": "histogram"
           }
          ],
          "histogram2d": [
           {
            "colorbar": {
             "outlinewidth": 0,
             "ticks": ""
            },
            "colorscale": [
             [
              0,
              "#0d0887"
             ],
             [
              0.1111111111111111,
              "#46039f"
             ],
             [
              0.2222222222222222,
              "#7201a8"
             ],
             [
              0.3333333333333333,
              "#9c179e"
             ],
             [
              0.4444444444444444,
              "#bd3786"
             ],
             [
              0.5555555555555556,
              "#d8576b"
             ],
             [
              0.6666666666666666,
              "#ed7953"
             ],
             [
              0.7777777777777778,
              "#fb9f3a"
             ],
             [
              0.8888888888888888,
              "#fdca26"
             ],
             [
              1,
              "#f0f921"
             ]
            ],
            "type": "histogram2d"
           }
          ],
          "histogram2dcontour": [
           {
            "colorbar": {
             "outlinewidth": 0,
             "ticks": ""
            },
            "colorscale": [
             [
              0,
              "#0d0887"
             ],
             [
              0.1111111111111111,
              "#46039f"
             ],
             [
              0.2222222222222222,
              "#7201a8"
             ],
             [
              0.3333333333333333,
              "#9c179e"
             ],
             [
              0.4444444444444444,
              "#bd3786"
             ],
             [
              0.5555555555555556,
              "#d8576b"
             ],
             [
              0.6666666666666666,
              "#ed7953"
             ],
             [
              0.7777777777777778,
              "#fb9f3a"
             ],
             [
              0.8888888888888888,
              "#fdca26"
             ],
             [
              1,
              "#f0f921"
             ]
            ],
            "type": "histogram2dcontour"
           }
          ],
          "mesh3d": [
           {
            "colorbar": {
             "outlinewidth": 0,
             "ticks": ""
            },
            "type": "mesh3d"
           }
          ],
          "parcoords": [
           {
            "line": {
             "colorbar": {
              "outlinewidth": 0,
              "ticks": ""
             }
            },
            "type": "parcoords"
           }
          ],
          "pie": [
           {
            "automargin": true,
            "type": "pie"
           }
          ],
          "scatter": [
           {
            "fillpattern": {
             "fillmode": "overlay",
             "size": 10,
             "solidity": 0.2
            },
            "type": "scatter"
           }
          ],
          "scatter3d": [
           {
            "line": {
             "colorbar": {
              "outlinewidth": 0,
              "ticks": ""
             }
            },
            "marker": {
             "colorbar": {
              "outlinewidth": 0,
              "ticks": ""
             }
            },
            "type": "scatter3d"
           }
          ],
          "scattercarpet": [
           {
            "marker": {
             "colorbar": {
              "outlinewidth": 0,
              "ticks": ""
             }
            },
            "type": "scattercarpet"
           }
          ],
          "scattergeo": [
           {
            "marker": {
             "colorbar": {
              "outlinewidth": 0,
              "ticks": ""
             }
            },
            "type": "scattergeo"
           }
          ],
          "scattergl": [
           {
            "marker": {
             "colorbar": {
              "outlinewidth": 0,
              "ticks": ""
             }
            },
            "type": "scattergl"
           }
          ],
          "scattermapbox": [
           {
            "marker": {
             "colorbar": {
              "outlinewidth": 0,
              "ticks": ""
             }
            },
            "type": "scattermapbox"
           }
          ],
          "scatterpolar": [
           {
            "marker": {
             "colorbar": {
              "outlinewidth": 0,
              "ticks": ""
             }
            },
            "type": "scatterpolar"
           }
          ],
          "scatterpolargl": [
           {
            "marker": {
             "colorbar": {
              "outlinewidth": 0,
              "ticks": ""
             }
            },
            "type": "scatterpolargl"
           }
          ],
          "scatterternary": [
           {
            "marker": {
             "colorbar": {
              "outlinewidth": 0,
              "ticks": ""
             }
            },
            "type": "scatterternary"
           }
          ],
          "surface": [
           {
            "colorbar": {
             "outlinewidth": 0,
             "ticks": ""
            },
            "colorscale": [
             [
              0,
              "#0d0887"
             ],
             [
              0.1111111111111111,
              "#46039f"
             ],
             [
              0.2222222222222222,
              "#7201a8"
             ],
             [
              0.3333333333333333,
              "#9c179e"
             ],
             [
              0.4444444444444444,
              "#bd3786"
             ],
             [
              0.5555555555555556,
              "#d8576b"
             ],
             [
              0.6666666666666666,
              "#ed7953"
             ],
             [
              0.7777777777777778,
              "#fb9f3a"
             ],
             [
              0.8888888888888888,
              "#fdca26"
             ],
             [
              1,
              "#f0f921"
             ]
            ],
            "type": "surface"
           }
          ],
          "table": [
           {
            "cells": {
             "fill": {
              "color": "#EBF0F8"
             },
             "line": {
              "color": "white"
             }
            },
            "header": {
             "fill": {
              "color": "#C8D4E3"
             },
             "line": {
              "color": "white"
             }
            },
            "type": "table"
           }
          ]
         },
         "layout": {
          "annotationdefaults": {
           "arrowcolor": "#2a3f5f",
           "arrowhead": 0,
           "arrowwidth": 1
          },
          "autotypenumbers": "strict",
          "coloraxis": {
           "colorbar": {
            "outlinewidth": 0,
            "ticks": ""
           }
          },
          "colorscale": {
           "diverging": [
            [
             0,
             "#8e0152"
            ],
            [
             0.1,
             "#c51b7d"
            ],
            [
             0.2,
             "#de77ae"
            ],
            [
             0.3,
             "#f1b6da"
            ],
            [
             0.4,
             "#fde0ef"
            ],
            [
             0.5,
             "#f7f7f7"
            ],
            [
             0.6,
             "#e6f5d0"
            ],
            [
             0.7,
             "#b8e186"
            ],
            [
             0.8,
             "#7fbc41"
            ],
            [
             0.9,
             "#4d9221"
            ],
            [
             1,
             "#276419"
            ]
           ],
           "sequential": [
            [
             0,
             "#0d0887"
            ],
            [
             0.1111111111111111,
             "#46039f"
            ],
            [
             0.2222222222222222,
             "#7201a8"
            ],
            [
             0.3333333333333333,
             "#9c179e"
            ],
            [
             0.4444444444444444,
             "#bd3786"
            ],
            [
             0.5555555555555556,
             "#d8576b"
            ],
            [
             0.6666666666666666,
             "#ed7953"
            ],
            [
             0.7777777777777778,
             "#fb9f3a"
            ],
            [
             0.8888888888888888,
             "#fdca26"
            ],
            [
             1,
             "#f0f921"
            ]
           ],
           "sequentialminus": [
            [
             0,
             "#0d0887"
            ],
            [
             0.1111111111111111,
             "#46039f"
            ],
            [
             0.2222222222222222,
             "#7201a8"
            ],
            [
             0.3333333333333333,
             "#9c179e"
            ],
            [
             0.4444444444444444,
             "#bd3786"
            ],
            [
             0.5555555555555556,
             "#d8576b"
            ],
            [
             0.6666666666666666,
             "#ed7953"
            ],
            [
             0.7777777777777778,
             "#fb9f3a"
            ],
            [
             0.8888888888888888,
             "#fdca26"
            ],
            [
             1,
             "#f0f921"
            ]
           ]
          },
          "colorway": [
           "#636efa",
           "#EF553B",
           "#00cc96",
           "#ab63fa",
           "#FFA15A",
           "#19d3f3",
           "#FF6692",
           "#B6E880",
           "#FF97FF",
           "#FECB52"
          ],
          "font": {
           "color": "#2a3f5f"
          },
          "geo": {
           "bgcolor": "white",
           "lakecolor": "white",
           "landcolor": "#E5ECF6",
           "showlakes": true,
           "showland": true,
           "subunitcolor": "white"
          },
          "hoverlabel": {
           "align": "left"
          },
          "hovermode": "closest",
          "mapbox": {
           "style": "light"
          },
          "paper_bgcolor": "white",
          "plot_bgcolor": "#E5ECF6",
          "polar": {
           "angularaxis": {
            "gridcolor": "white",
            "linecolor": "white",
            "ticks": ""
           },
           "bgcolor": "#E5ECF6",
           "radialaxis": {
            "gridcolor": "white",
            "linecolor": "white",
            "ticks": ""
           }
          },
          "scene": {
           "xaxis": {
            "backgroundcolor": "#E5ECF6",
            "gridcolor": "white",
            "gridwidth": 2,
            "linecolor": "white",
            "showbackground": true,
            "ticks": "",
            "zerolinecolor": "white"
           },
           "yaxis": {
            "backgroundcolor": "#E5ECF6",
            "gridcolor": "white",
            "gridwidth": 2,
            "linecolor": "white",
            "showbackground": true,
            "ticks": "",
            "zerolinecolor": "white"
           },
           "zaxis": {
            "backgroundcolor": "#E5ECF6",
            "gridcolor": "white",
            "gridwidth": 2,
            "linecolor": "white",
            "showbackground": true,
            "ticks": "",
            "zerolinecolor": "white"
           }
          },
          "shapedefaults": {
           "line": {
            "color": "#2a3f5f"
           }
          },
          "ternary": {
           "aaxis": {
            "gridcolor": "white",
            "linecolor": "white",
            "ticks": ""
           },
           "baxis": {
            "gridcolor": "white",
            "linecolor": "white",
            "ticks": ""
           },
           "bgcolor": "#E5ECF6",
           "caxis": {
            "gridcolor": "white",
            "linecolor": "white",
            "ticks": ""
           }
          },
          "title": {
           "x": 0.05
          },
          "xaxis": {
           "automargin": true,
           "gridcolor": "white",
           "linecolor": "white",
           "ticks": "",
           "title": {
            "standoff": 15
           },
           "zerolinecolor": "white",
           "zerolinewidth": 2
          },
          "yaxis": {
           "automargin": true,
           "gridcolor": "white",
           "linecolor": "white",
           "ticks": "",
           "title": {
            "standoff": 15
           },
           "zerolinecolor": "white",
           "zerolinewidth": 2
          }
         }
        },
        "title": {
         "text": "Hyperparameter Importances"
        },
        "xaxis": {
         "title": {
          "text": "Hyperparameter Importance"
         }
        },
        "yaxis": {
         "title": {
          "text": "Hyperparameter"
         }
        }
       }
      }
     },
     "metadata": {},
     "output_type": "display_data"
    }
   ],
   "source": [
    "fig = optuna.visualization.plot_param_importances(study)\n",
    "fig.write_image(file=os.path.join(MODEL_DIR, \"try1_hyperparam_importance.png\"), format=\"png\", scale=6)\n",
    "fig.show()"
   ]
  },
  {
   "cell_type": "markdown",
   "metadata": {
    "collapsed": false
   },
   "source": [
    "## Save and Resume a Study"
   ]
  },
  {
   "cell_type": "code",
   "execution_count": 26,
   "metadata": {
    "ExecuteTime": {
     "end_time": "2023-04-27T12:46:03.381646Z",
     "start_time": "2023-04-27T12:46:03.326566Z"
    },
    "collapsed": false
   },
   "outputs": [
    {
     "data": {
      "text/plain": [
       "['models/lgbm-optuna-study.pkl']"
      ]
     },
     "execution_count": 26,
     "metadata": {},
     "output_type": "execute_result"
    }
   ],
   "source": [
    "joblib.dump(study, os.path.join(MODEL_DIR, \"lgbm-optuna-study.pkl\"))"
   ]
  },
  {
   "cell_type": "code",
   "execution_count": 28,
   "metadata": {
    "ExecuteTime": {
     "end_time": "2023-04-27T13:09:55.488271Z",
     "start_time": "2023-04-27T13:09:55.463873Z"
    },
    "collapsed": false
   },
   "outputs": [
    {
     "name": "stderr",
     "output_type": "stream",
     "text": [
      "[I 2024-04-27 08:53:45,530] Trial 32 finished with value: 0.5116440498214068 and parameters: {'boosting_type': 'dart', 'lambda_l1': 6.792818041547189e-05, 'lambda_l2': 3.1954892717159225e-07, 'num_leaves': 75, 'feature_fraction': 0.8946164805173675, 'bagging_fraction': 0.8658874438569492, 'bagging_freq': 4, 'min_child_samples': 30, 'learning_rate': 0.39566782548107093, 'max_bin': 320, 'n_estimators': 380}. Best is trial 23 with value: 0.5907814807779238.\n",
      "[I 2024-04-27 08:53:48,454] Trial 38 finished with value: 0.5150143552605523 and parameters: {'boosting_type': 'dart', 'lambda_l1': 3.735265790987351e-05, 'lambda_l2': 1.5702432762430575e-07, 'num_leaves': 75, 'feature_fraction': 0.9028907370621844, 'bagging_fraction': 0.8293905296790435, 'bagging_freq': 4, 'min_child_samples': 32, 'learning_rate': 0.41619962296496005, 'max_bin': 320, 'n_estimators': 400}. Best is trial 23 with value: 0.5907814807779238.\n",
      "[I 2024-04-27 08:53:49,022] Trial 31 finished with value: 0.5163946218571953 and parameters: {'boosting_type': 'dart', 'lambda_l1': 8.393530065643245e-05, 'lambda_l2': 2.57954658290124e-07, 'num_leaves': 77, 'feature_fraction': 0.8988534596832188, 'bagging_fraction': 0.8579767112943605, 'bagging_freq': 4, 'min_child_samples': 31, 'learning_rate': 0.4074291983533365, 'max_bin': 320, 'n_estimators': 400}. Best is trial 23 with value: 0.5907814807779238.\n",
      "[I 2024-04-27 08:53:51,859] Trial 47 finished with value: 0.5203725770717985 and parameters: {'boosting_type': 'dart', 'lambda_l1': 7.06309413119525e-05, 'lambda_l2': 1.2133867967620678e-07, 'num_leaves': 77, 'feature_fraction': 0.9045256124909663, 'bagging_fraction': 0.8168969369729173, 'bagging_freq': 4, 'min_child_samples': 33, 'learning_rate': 0.37524354351677863, 'max_bin': 320, 'n_estimators': 400}. Best is trial 23 with value: 0.5907814807779238.\n",
      "[I 2024-04-27 08:53:53,355] Trial 39 finished with value: 0.5178704589131505 and parameters: {'boosting_type': 'dart', 'lambda_l1': 0.00011703702784012873, 'lambda_l2': 8.753699431251644e-08, 'num_leaves': 83, 'feature_fraction': 0.8985540162753346, 'bagging_fraction': 0.8380472389876564, 'bagging_freq': 4, 'min_child_samples': 32, 'learning_rate': 0.35981167063979697, 'max_bin': 320, 'n_estimators': 380}. Best is trial 23 with value: 0.5907814807779238.\n",
      "[I 2024-04-27 08:53:55,371] Trial 43 finished with value: 0.5184793157477932 and parameters: {'boosting_type': 'dart', 'lambda_l1': 7.208363160474082e-05, 'lambda_l2': 1.415590264572646e-07, 'num_leaves': 74, 'feature_fraction': 0.8899233646676586, 'bagging_fraction': 0.861603783158602, 'bagging_freq': 4, 'min_child_samples': 33, 'learning_rate': 0.39867451807037885, 'max_bin': 320, 'n_estimators': 400}. Best is trial 23 with value: 0.5907814807779238.\n",
      "[I 2024-04-27 08:53:56,386] Trial 46 finished with value: 0.5144263751973697 and parameters: {'boosting_type': 'dart', 'lambda_l1': 6.408066241162272e-05, 'lambda_l2': 5.225531220266074e-05, 'num_leaves': 81, 'feature_fraction': 0.8973826150373595, 'bagging_fraction': 0.8560751091447001, 'bagging_freq': 4, 'min_child_samples': 32, 'learning_rate': 0.34419573300482437, 'max_bin': 320, 'n_estimators': 400}. Best is trial 23 with value: 0.5907814807779238.\n",
      "[I 2024-04-27 08:53:57,119] Trial 49 finished with value: 0.5191501158857333 and parameters: {'boosting_type': 'dart', 'lambda_l1': 6.66368458023187e-05, 'lambda_l2': 3.478087962106162e-07, 'num_leaves': 76, 'feature_fraction': 0.8968938297531899, 'bagging_fraction': 0.8304201403937695, 'bagging_freq': 4, 'min_child_samples': 36, 'learning_rate': 0.43564520384656563, 'max_bin': 320, 'n_estimators': 400}. Best is trial 23 with value: 0.5907814807779238.\n",
      "[I 2024-04-27 08:53:57,223] Trial 33 finished with value: 0.5151707234555805 and parameters: {'boosting_type': 'dart', 'lambda_l1': 2.809337423353168e-05, 'lambda_l2': 2.9107335167476715e-07, 'num_leaves': 80, 'feature_fraction': 0.9066566332317841, 'bagging_fraction': 0.8337358971860579, 'bagging_freq': 6, 'min_child_samples': 30, 'learning_rate': 0.25155705381170396, 'max_bin': 320, 'n_estimators': 400}. Best is trial 23 with value: 0.5907814807779238.\n",
      "[I 2024-04-27 08:53:58,755] Trial 30 finished with value: 0.5134816820455539 and parameters: {'boosting_type': 'dart', 'lambda_l1': 8.82517992042346e-05, 'lambda_l2': 2.78279939026787e-07, 'num_leaves': 84, 'feature_fraction': 0.8980727491210885, 'bagging_fraction': 0.834973996748111, 'bagging_freq': 4, 'min_child_samples': 27, 'learning_rate': 0.34114000877486544, 'max_bin': 320, 'n_estimators': 400}. Best is trial 23 with value: 0.5907814807779238.\n",
      "[I 2024-04-27 08:53:59,824] Trial 35 finished with value: 0.5183311247052658 and parameters: {'boosting_type': 'dart', 'lambda_l1': 8.018905393795403e-05, 'lambda_l2': 2.293048010932546e-07, 'num_leaves': 82, 'feature_fraction': 0.890687556332285, 'bagging_fraction': 0.8196879310849225, 'bagging_freq': 4, 'min_child_samples': 33, 'learning_rate': 0.4267308588918147, 'max_bin': 448, 'n_estimators': 380}. Best is trial 23 with value: 0.5907814807779238.\n",
      "[I 2024-04-27 08:54:00,173] Trial 41 finished with value: 0.5165101734938192 and parameters: {'boosting_type': 'dart', 'lambda_l1': 9.646360804252852e-05, 'lambda_l2': 4.1311207260787534e-07, 'num_leaves': 80, 'feature_fraction': 0.8945359131681163, 'bagging_fraction': 0.8202380726057281, 'bagging_freq': 4, 'min_child_samples': 32, 'learning_rate': 0.2678163266908223, 'max_bin': 320, 'n_estimators': 400}. Best is trial 23 with value: 0.5907814807779238.\n",
      "[I 2024-04-27 08:54:00,625] Trial 37 finished with value: 0.5194441162049703 and parameters: {'boosting_type': 'dart', 'lambda_l1': 5.166000743940116e-05, 'lambda_l2': 3.244225920048221e-07, 'num_leaves': 78, 'feature_fraction': 0.8875210313748683, 'bagging_fraction': 0.8336406610133889, 'bagging_freq': 4, 'min_child_samples': 37, 'learning_rate': 0.4650805369774902, 'max_bin': 320, 'n_estimators': 400}. Best is trial 23 with value: 0.5907814807779238.\n",
      "[I 2024-04-27 08:54:01,104] Trial 42 finished with value: 0.5219191502647368 and parameters: {'boosting_type': 'dart', 'lambda_l1': 7.407855155068181e-05, 'lambda_l2': 1.3862366245103556e-08, 'num_leaves': 78, 'feature_fraction': 0.9234440493160774, 'bagging_fraction': 0.8368522943747232, 'bagging_freq': 4, 'min_child_samples': 37, 'learning_rate': 0.43214775626678725, 'max_bin': 320, 'n_estimators': 400}. Best is trial 23 with value: 0.5907814807779238.\n",
      "[I 2024-04-27 08:54:01,189] Trial 48 finished with value: 0.5155009603241395 and parameters: {'boosting_type': 'dart', 'lambda_l1': 6.411101237121844e-05, 'lambda_l2': 9.646041748900674e-08, 'num_leaves': 79, 'feature_fraction': 0.91047009557918, 'bagging_fraction': 0.8306124304933373, 'bagging_freq': 4, 'min_child_samples': 34, 'learning_rate': 0.41201664117904496, 'max_bin': 320, 'n_estimators': 400}. Best is trial 23 with value: 0.5907814807779238.\n",
      "[I 2024-04-27 08:54:01,377] Trial 44 finished with value: 0.5189082913569538 and parameters: {'boosting_type': 'dart', 'lambda_l1': 8.213663988054607e-05, 'lambda_l2': 2.7621098443731483e-07, 'num_leaves': 79, 'feature_fraction': 0.8959011714528309, 'bagging_fraction': 0.8582110558646414, 'bagging_freq': 4, 'min_child_samples': 34, 'learning_rate': 0.42154693317722164, 'max_bin': 320, 'n_estimators': 400}. Best is trial 23 with value: 0.5907814807779238.\n",
      "[I 2024-04-27 08:54:02,214] Trial 34 finished with value: 0.5166286863818373 and parameters: {'boosting_type': 'dart', 'lambda_l1': 5.763634548401859e-05, 'lambda_l2': 4.411328519249499e-07, 'num_leaves': 82, 'feature_fraction': 0.8977433841899555, 'bagging_fraction': 0.8241325049996103, 'bagging_freq': 4, 'min_child_samples': 32, 'learning_rate': 0.4620419260902711, 'max_bin': 320, 'n_estimators': 400}. Best is trial 23 with value: 0.5907814807779238.\n",
      "[I 2024-04-27 08:54:02,368] Trial 40 finished with value: 0.5096037379523172 and parameters: {'boosting_type': 'dart', 'lambda_l1': 7.356093737564497e-05, 'lambda_l2': 2.28721780324074e-07, 'num_leaves': 82, 'feature_fraction': 0.8847199561710868, 'bagging_fraction': 0.8182151794836672, 'bagging_freq': 4, 'min_child_samples': 33, 'learning_rate': 0.43696340105326814, 'max_bin': 320, 'n_estimators': 400}. Best is trial 23 with value: 0.5907814807779238.\n",
      "[I 2024-04-27 08:54:03,341] Trial 45 finished with value: 0.518321077434457 and parameters: {'boosting_type': 'dart', 'lambda_l1': 7.887252109048679e-05, 'lambda_l2': 1.10653551985124e-07, 'num_leaves': 85, 'feature_fraction': 0.8974206219015002, 'bagging_fraction': 0.8365385477483066, 'bagging_freq': 4, 'min_child_samples': 30, 'learning_rate': 0.42972699195041136, 'max_bin': 448, 'n_estimators': 400}. Best is trial 23 with value: 0.5907814807779238.\n",
      "[I 2024-04-27 08:54:03,529] Trial 36 finished with value: 0.5171777194996975 and parameters: {'boosting_type': 'dart', 'lambda_l1': 0.00010264135466898008, 'lambda_l2': 1.9538001948983358e-08, 'num_leaves': 88, 'feature_fraction': 0.8784705758316017, 'bagging_fraction': 0.8271637141162997, 'bagging_freq': 4, 'min_child_samples': 30, 'learning_rate': 0.4000573189963758, 'max_bin': 320, 'n_estimators': 400}. Best is trial 23 with value: 0.5907814807779238.\n"
     ]
    }
   ],
   "source": [
    "study = joblib.load(os.path.join(MODEL_DIR, \"lgbm-optuna-study.pkl\"))\n",
    "study.optimize(objective(), n_trials=20, gc_after_trial=True, n_jobs=-1)"
   ]
  },
  {
   "cell_type": "code",
   "execution_count": 29,
   "metadata": {
    "ExecuteTime": {
     "end_time": "2023-04-26T23:52:19.672471Z",
     "start_time": "2023-04-26T23:52:19.665936Z"
    },
    "collapsed": false
   },
   "outputs": [
    {
     "name": "stdout",
     "output_type": "stream",
     "text": [
      "FrozenTrial(number=23, state=TrialState.COMPLETE, values=[0.5907814807779238], datetime_start=datetime.datetime(2024, 4, 26, 7, 18, 28, 352868), datetime_complete=datetime.datetime(2024, 4, 26, 7, 19, 27, 743267), params={'boosting_type': 'dart', 'lambda_l1': 0.025780771002814715, 'lambda_l2': 2.1103357195834125, 'num_leaves': 72, 'feature_fraction': 0.746310813407126, 'bagging_fraction': 0.9601299271053441, 'bagging_freq': 6, 'min_child_samples': 44, 'learning_rate': 0.043556425276861634, 'max_bin': 256, 'n_estimators': 320}, user_attrs={}, system_attrs={}, intermediate_values={}, distributions={'boosting_type': CategoricalDistribution(choices=('dart', 'gbdt')), 'lambda_l1': FloatDistribution(high=10.0, log=True, low=1e-08, step=None), 'lambda_l2': FloatDistribution(high=10.0, log=True, low=1e-08, step=None), 'num_leaves': IntDistribution(high=256, log=False, low=2, step=1), 'feature_fraction': FloatDistribution(high=1.0, log=False, low=0.4, step=None), 'bagging_fraction': FloatDistribution(high=1.0, log=False, low=0.4, step=None), 'bagging_freq': IntDistribution(high=7, log=False, low=1, step=1), 'min_child_samples': IntDistribution(high=100, log=False, low=5, step=1), 'learning_rate': FloatDistribution(high=0.5, log=True, low=0.0001, step=None), 'max_bin': IntDistribution(high=512, log=False, low=128, step=32), 'n_estimators': IntDistribution(high=400, log=False, low=40, step=20)}, trial_id=23, value=None)\n"
     ]
    }
   ],
   "source": [
    "print(study.best_trial)"
   ]
  },
  {
   "cell_type": "markdown",
   "metadata": {
    "collapsed": false
   },
   "source": [
    "## Multi-objective optimization"
   ]
  },
  {
   "cell_type": "code",
   "execution_count": 22,
   "metadata": {
    "ExecuteTime": {
     "end_time": "2023-04-27T12:47:34.914428Z",
     "start_time": "2023-04-27T12:47:34.907420Z"
    },
    "collapsed": false
   },
   "outputs": [],
   "source": [
    "def moo_objective(trial):\n",
    "    learning_rate = trial.suggest_float(\"learning_rate\", 0.0001, 0.5, log=True),\n",
    "\n",
    "    model = lgb.LGBMClassifier(\n",
    "        force_row_wise=True,\n",
    "        boosting_type='gbdt',\n",
    "        n_estimators=200,\n",
    "        lambda_l1=3.298803078077973e-07,\n",
    "        lambda_l2=8.938532783741386e-07,\n",
    "        num_leaves=6,\n",
    "        feature_fraction=0.5133218336120866,\n",
    "        bagging_fraction=0.9660809666082303,\n",
    "        bagging_freq=7,\n",
    "        min_child_samples=91,\n",
    "        learning_rate=learning_rate,\n",
    "        max_bin=320,\n",
    "        verbose=-1,\n",
    "    )\n",
    "    scores = cross_val_score(model, X, y, scoring=\"f1_macro\")\n",
    "    return learning_rate[0], scores.mean()"
   ]
  },
  {
   "cell_type": "code",
   "execution_count": 23,
   "metadata": {
    "ExecuteTime": {
     "end_time": "2023-04-27T12:48:45.814205Z",
     "start_time": "2023-04-27T12:47:35.162158Z"
    },
    "collapsed": false
   },
   "outputs": [
    {
     "name": "stderr",
     "output_type": "stream",
     "text": [
      "\u001b[32m[I 2023-04-27 10:47:35,501]\u001b[0m A new study created in memory with name: no-name-eb122531-f2ee-4cb5-92d1-8efba6a28eef\u001b[0m\n",
      "\u001b[32m[I 2023-04-27 10:47:36,221]\u001b[0m Trial 0 finished with values: [0.018276625572235056, 0.7229728382357858] and parameters: {'learning_rate': 0.018276625572235056}. \u001b[0m\n",
      "\u001b[32m[I 2023-04-27 10:47:36,922]\u001b[0m Trial 1 finished with values: [0.012281350875017864, 0.713129498994182] and parameters: {'learning_rate': 0.012281350875017864}. \u001b[0m\n",
      "\u001b[32m[I 2023-04-27 10:47:37,601]\u001b[0m Trial 2 finished with values: [0.3179931543219117, 0.7181352358216049] and parameters: {'learning_rate': 0.3179931543219117}. \u001b[0m\n",
      "\u001b[32m[I 2023-04-27 10:47:38,317]\u001b[0m Trial 3 finished with values: [0.3317048028124761, 0.7182462105095208] and parameters: {'learning_rate': 0.3317048028124761}. \u001b[0m\n",
      "\u001b[32m[I 2023-04-27 10:47:39,042]\u001b[0m Trial 4 finished with values: [0.010097499163932589, 0.689595604293249] and parameters: {'learning_rate': 0.010097499163932589}. \u001b[0m\n",
      "\u001b[32m[I 2023-04-27 10:47:39,716]\u001b[0m Trial 5 finished with values: [0.0010284892903758126, 0.4235082247366586] and parameters: {'learning_rate': 0.0010284892903758126}. \u001b[0m\n",
      "\u001b[32m[I 2023-04-27 10:47:40,423]\u001b[0m Trial 6 finished with values: [0.0008073623310050534, 0.4235082247366586] and parameters: {'learning_rate': 0.0008073623310050534}. \u001b[0m\n",
      "\u001b[32m[I 2023-04-27 10:47:41,147]\u001b[0m Trial 7 finished with values: [0.009446892389275133, 0.6841554205738356] and parameters: {'learning_rate': 0.009446892389275133}. \u001b[0m\n",
      "\u001b[32m[I 2023-04-27 10:47:41,994]\u001b[0m Trial 8 finished with values: [0.042129982546996285, 0.7318679125094985] and parameters: {'learning_rate': 0.042129982546996285}. \u001b[0m\n",
      "\u001b[32m[I 2023-04-27 10:47:42,733]\u001b[0m Trial 9 finished with values: [0.006234336282154794, 0.6372047388051083] and parameters: {'learning_rate': 0.006234336282154794}. \u001b[0m\n",
      "\u001b[32m[I 2023-04-27 10:47:43,412]\u001b[0m Trial 10 finished with values: [0.0014213907266344855, 0.4235082247366586] and parameters: {'learning_rate': 0.0014213907266344855}. \u001b[0m\n",
      "\u001b[32m[I 2023-04-27 10:47:44,069]\u001b[0m Trial 11 finished with values: [0.0074818711669891215, 0.6643619268828908] and parameters: {'learning_rate': 0.0074818711669891215}. \u001b[0m\n",
      "\u001b[32m[I 2023-04-27 10:47:44,798]\u001b[0m Trial 12 finished with values: [0.1148404311838305, 0.7321994102159477] and parameters: {'learning_rate': 0.1148404311838305}. \u001b[0m\n",
      "\u001b[32m[I 2023-04-27 10:47:45,481]\u001b[0m Trial 13 finished with values: [0.0012664149179400209, 0.4235082247366586] and parameters: {'learning_rate': 0.0012664149179400209}. \u001b[0m\n",
      "\u001b[32m[I 2023-04-27 10:47:46,223]\u001b[0m Trial 14 finished with values: [0.05307222954482612, 0.7336139976808754] and parameters: {'learning_rate': 0.05307222954482612}. \u001b[0m\n",
      "\u001b[32m[I 2023-04-27 10:47:46,949]\u001b[0m Trial 15 finished with values: [0.01538041330688695, 0.7173796023919852] and parameters: {'learning_rate': 0.01538041330688695}. \u001b[0m\n",
      "\u001b[32m[I 2023-04-27 10:47:47,724]\u001b[0m Trial 16 finished with values: [0.018396986660930648, 0.7227368738811438] and parameters: {'learning_rate': 0.018396986660930648}. \u001b[0m\n",
      "\u001b[32m[I 2023-04-27 10:47:48,451]\u001b[0m Trial 17 finished with values: [0.0030415201353781317, 0.4235082247366586] and parameters: {'learning_rate': 0.0030415201353781317}. \u001b[0m\n",
      "\u001b[32m[I 2023-04-27 10:47:49,134]\u001b[0m Trial 18 finished with values: [0.34679130964813293, 0.7165372792236238] and parameters: {'learning_rate': 0.34679130964813293}. \u001b[0m\n",
      "\u001b[32m[I 2023-04-27 10:47:49,814]\u001b[0m Trial 19 finished with values: [0.0016185106184141472, 0.4235082247366586] and parameters: {'learning_rate': 0.0016185106184141472}. \u001b[0m\n",
      "\u001b[32m[I 2023-04-27 10:47:50,473]\u001b[0m Trial 20 finished with values: [0.09977031400739048, 0.7302018596960369] and parameters: {'learning_rate': 0.09977031400739048}. \u001b[0m\n",
      "\u001b[32m[I 2023-04-27 10:47:51,155]\u001b[0m Trial 21 finished with values: [0.00015692458115144144, 0.4235082247366586] and parameters: {'learning_rate': 0.00015692458115144144}. \u001b[0m\n",
      "\u001b[32m[I 2023-04-27 10:47:51,845]\u001b[0m Trial 22 finished with values: [0.0014637099340279343, 0.4235082247366586] and parameters: {'learning_rate': 0.0014637099340279343}. \u001b[0m\n",
      "\u001b[32m[I 2023-04-27 10:47:52,522]\u001b[0m Trial 23 finished with values: [0.237542460048024, 0.7216310177763523] and parameters: {'learning_rate': 0.237542460048024}. \u001b[0m\n",
      "\u001b[32m[I 2023-04-27 10:47:53,209]\u001b[0m Trial 24 finished with values: [0.24410089728809634, 0.7254004209977449] and parameters: {'learning_rate': 0.24410089728809634}. \u001b[0m\n",
      "\u001b[32m[I 2023-04-27 10:47:53,930]\u001b[0m Trial 25 finished with values: [0.039216586476540555, 0.7301579035907364] and parameters: {'learning_rate': 0.039216586476540555}. \u001b[0m\n",
      "\u001b[32m[I 2023-04-27 10:47:54,668]\u001b[0m Trial 26 finished with values: [0.04413193652148863, 0.7292176187667853] and parameters: {'learning_rate': 0.04413193652148863}. \u001b[0m\n",
      "\u001b[32m[I 2023-04-27 10:47:55,334]\u001b[0m Trial 27 finished with values: [0.12844461011742844, 0.7321027124572879] and parameters: {'learning_rate': 0.12844461011742844}. \u001b[0m\n",
      "\u001b[32m[I 2023-04-27 10:47:56,032]\u001b[0m Trial 28 finished with values: [0.0006332697167843045, 0.4235082247366586] and parameters: {'learning_rate': 0.0006332697167843045}. \u001b[0m\n",
      "\u001b[32m[I 2023-04-27 10:47:56,712]\u001b[0m Trial 29 finished with values: [0.4498243389528799, 0.7180387023655493] and parameters: {'learning_rate': 0.4498243389528799}. \u001b[0m\n",
      "\u001b[32m[I 2023-04-27 10:47:57,322]\u001b[0m Trial 30 finished with values: [0.28825962026286955, 0.7220137309076756] and parameters: {'learning_rate': 0.28825962026286955}. \u001b[0m\n",
      "\u001b[32m[I 2023-04-27 10:47:57,985]\u001b[0m Trial 31 finished with values: [0.036619413830782564, 0.7302184406320554] and parameters: {'learning_rate': 0.036619413830782564}. \u001b[0m\n",
      "\u001b[32m[I 2023-04-27 10:47:58,563]\u001b[0m Trial 32 finished with values: [0.03610204856200786, 0.7304328067409969] and parameters: {'learning_rate': 0.03610204856200786}. \u001b[0m\n",
      "\u001b[32m[I 2023-04-27 10:47:59,225]\u001b[0m Trial 33 finished with values: [0.0021961450728918896, 0.4235082247366586] and parameters: {'learning_rate': 0.0021961450728918896}. \u001b[0m\n",
      "\u001b[32m[I 2023-04-27 10:47:59,946]\u001b[0m Trial 34 finished with values: [0.012193586140043794, 0.7120523440790167] and parameters: {'learning_rate': 0.012193586140043794}. \u001b[0m\n",
      "\u001b[32m[I 2023-04-27 10:48:00,626]\u001b[0m Trial 35 finished with values: [0.19630258423899116, 0.7290264275839735] and parameters: {'learning_rate': 0.19630258423899116}. \u001b[0m\n",
      "\u001b[32m[I 2023-04-27 10:48:01,328]\u001b[0m Trial 36 finished with values: [0.00017918412416240907, 0.4235082247366586] and parameters: {'learning_rate': 0.00017918412416240907}. \u001b[0m\n",
      "\u001b[32m[I 2023-04-27 10:48:02,017]\u001b[0m Trial 37 finished with values: [0.014133500358080071, 0.7167142851538554] and parameters: {'learning_rate': 0.014133500358080071}. \u001b[0m\n",
      "\u001b[32m[I 2023-04-27 10:48:02,698]\u001b[0m Trial 38 finished with values: [0.04852382290869409, 0.7310333204595433] and parameters: {'learning_rate': 0.04852382290869409}. \u001b[0m\n",
      "\u001b[32m[I 2023-04-27 10:48:03,384]\u001b[0m Trial 39 finished with values: [0.040201201662143485, 0.7306614283099379] and parameters: {'learning_rate': 0.040201201662143485}. \u001b[0m\n",
      "\u001b[32m[I 2023-04-27 10:48:04,062]\u001b[0m Trial 40 finished with values: [0.0011776265316570207, 0.4235082247366586] and parameters: {'learning_rate': 0.0011776265316570207}. \u001b[0m\n",
      "\u001b[32m[I 2023-04-27 10:48:04,770]\u001b[0m Trial 41 finished with values: [0.026396073829949854, 0.7294521208392316] and parameters: {'learning_rate': 0.026396073829949854}. \u001b[0m\n",
      "\u001b[32m[I 2023-04-27 10:48:05,444]\u001b[0m Trial 42 finished with values: [0.19287363423507076, 0.7259236143539816] and parameters: {'learning_rate': 0.19287363423507076}. \u001b[0m\n",
      "\u001b[32m[I 2023-04-27 10:48:06,182]\u001b[0m Trial 43 finished with values: [0.07377836783758575, 0.7335097300380633] and parameters: {'learning_rate': 0.07377836783758575}. \u001b[0m\n",
      "\u001b[32m[I 2023-04-27 10:48:06,865]\u001b[0m Trial 44 finished with values: [0.06950786503628438, 0.7323174432397132] and parameters: {'learning_rate': 0.06950786503628438}. \u001b[0m\n",
      "\u001b[32m[I 2023-04-27 10:48:07,522]\u001b[0m Trial 45 finished with values: [0.0013182070434705978, 0.4235082247366586] and parameters: {'learning_rate': 0.0013182070434705978}. \u001b[0m\n",
      "\u001b[32m[I 2023-04-27 10:48:08,245]\u001b[0m Trial 46 finished with values: [0.0001689170415983065, 0.4235082247366586] and parameters: {'learning_rate': 0.0001689170415983065}. \u001b[0m\n",
      "\u001b[32m[I 2023-04-27 10:48:08,983]\u001b[0m Trial 47 finished with values: [0.0021018530965500105, 0.4235082247366586] and parameters: {'learning_rate': 0.0021018530965500105}. \u001b[0m\n",
      "\u001b[32m[I 2023-04-27 10:48:09,687]\u001b[0m Trial 48 finished with values: [0.00019287163151974652, 0.4235082247366586] and parameters: {'learning_rate': 0.00019287163151974652}. \u001b[0m\n",
      "\u001b[32m[I 2023-04-27 10:48:10,369]\u001b[0m Trial 49 finished with values: [0.1714187324525616, 0.7274564562489783] and parameters: {'learning_rate': 0.1714187324525616}. \u001b[0m\n",
      "\u001b[32m[I 2023-04-27 10:48:11,109]\u001b[0m Trial 50 finished with values: [0.028218912249716382, 0.7285799931977797] and parameters: {'learning_rate': 0.028218912249716382}. \u001b[0m\n",
      "\u001b[32m[I 2023-04-27 10:48:11,818]\u001b[0m Trial 51 finished with values: [0.00037469787058577405, 0.4235082247366586] and parameters: {'learning_rate': 0.00037469787058577405}. \u001b[0m\n",
      "\u001b[32m[I 2023-04-27 10:48:12,557]\u001b[0m Trial 52 finished with values: [0.016517619384449466, 0.7201909680929806] and parameters: {'learning_rate': 0.016517619384449466}. \u001b[0m\n",
      "\u001b[32m[I 2023-04-27 10:48:13,222]\u001b[0m Trial 53 finished with values: [0.4796291220454122, 0.7120415606860494] and parameters: {'learning_rate': 0.4796291220454122}. \u001b[0m\n",
      "\u001b[32m[I 2023-04-27 10:48:13,891]\u001b[0m Trial 54 finished with values: [0.01075645544167512, 0.6983807551597365] and parameters: {'learning_rate': 0.01075645544167512}. \u001b[0m\n",
      "\u001b[32m[I 2023-04-27 10:48:14,587]\u001b[0m Trial 55 finished with values: [0.0013300668001608705, 0.4235082247366586] and parameters: {'learning_rate': 0.0013300668001608705}. \u001b[0m\n",
      "\u001b[32m[I 2023-04-27 10:48:15,311]\u001b[0m Trial 56 finished with values: [0.009234620597188305, 0.6815820697212852] and parameters: {'learning_rate': 0.009234620597188305}. \u001b[0m\n",
      "\u001b[32m[I 2023-04-27 10:48:16,010]\u001b[0m Trial 57 finished with values: [0.030789337644333142, 0.7297299658845593] and parameters: {'learning_rate': 0.030789337644333142}. \u001b[0m\n",
      "\u001b[32m[I 2023-04-27 10:48:16,741]\u001b[0m Trial 58 finished with values: [0.0005196761744466342, 0.4235082247366586] and parameters: {'learning_rate': 0.0005196761744466342}. \u001b[0m\n",
      "\u001b[32m[I 2023-04-27 10:48:17,397]\u001b[0m Trial 59 finished with values: [0.21454254531144426, 0.7279770709345865] and parameters: {'learning_rate': 0.21454254531144426}. \u001b[0m\n",
      "\u001b[32m[I 2023-04-27 10:48:18,113]\u001b[0m Trial 60 finished with values: [0.023714036796718886, 0.7259369472766212] and parameters: {'learning_rate': 0.023714036796718886}. \u001b[0m\n",
      "\u001b[32m[I 2023-04-27 10:48:18,831]\u001b[0m Trial 61 finished with values: [0.042951701452191404, 0.7302474855948291] and parameters: {'learning_rate': 0.042951701452191404}. \u001b[0m\n",
      "\u001b[32m[I 2023-04-27 10:48:19,505]\u001b[0m Trial 62 finished with values: [0.30521179006815724, 0.7193743184471776] and parameters: {'learning_rate': 0.30521179006815724}. \u001b[0m\n",
      "\u001b[32m[I 2023-04-27 10:48:20,238]\u001b[0m Trial 63 finished with values: [0.0031088442966744653, 0.4235082247366586] and parameters: {'learning_rate': 0.0031088442966744653}. \u001b[0m\n",
      "\u001b[32m[I 2023-04-27 10:48:20,968]\u001b[0m Trial 64 finished with values: [0.0004014235312843208, 0.4235082247366586] and parameters: {'learning_rate': 0.0004014235312843208}. \u001b[0m\n",
      "\u001b[32m[I 2023-04-27 10:48:21,682]\u001b[0m Trial 65 finished with values: [0.005578035829630357, 0.6170142717941252] and parameters: {'learning_rate': 0.005578035829630357}. \u001b[0m\n",
      "\u001b[32m[I 2023-04-27 10:48:22,420]\u001b[0m Trial 66 finished with values: [0.0001592544431367279, 0.4235082247366586] and parameters: {'learning_rate': 0.0001592544431367279}. \u001b[0m\n",
      "\u001b[32m[I 2023-04-27 10:48:23,115]\u001b[0m Trial 67 finished with values: [0.0807232375319011, 0.7309408871913655] and parameters: {'learning_rate': 0.0807232375319011}. \u001b[0m\n",
      "\u001b[32m[I 2023-04-27 10:48:23,791]\u001b[0m Trial 68 finished with values: [0.16799292006264588, 0.7309842390105754] and parameters: {'learning_rate': 0.16799292006264588}. \u001b[0m\n",
      "\u001b[32m[I 2023-04-27 10:48:24,481]\u001b[0m Trial 69 finished with values: [0.04159311590472715, 0.7313584050417112] and parameters: {'learning_rate': 0.04159311590472715}. \u001b[0m\n",
      "\u001b[32m[I 2023-04-27 10:48:25,217]\u001b[0m Trial 70 finished with values: [0.0007829813261500128, 0.4235082247366586] and parameters: {'learning_rate': 0.0007829813261500128}. \u001b[0m\n",
      "\u001b[32m[I 2023-04-27 10:48:25,965]\u001b[0m Trial 71 finished with values: [0.0005327862205087224, 0.4235082247366586] and parameters: {'learning_rate': 0.0005327862205087224}. \u001b[0m\n",
      "\u001b[32m[I 2023-04-27 10:48:26,763]\u001b[0m Trial 72 finished with values: [0.011004042996587247, 0.7013991059388606] and parameters: {'learning_rate': 0.011004042996587247}. \u001b[0m\n",
      "\u001b[32m[I 2023-04-27 10:48:27,570]\u001b[0m Trial 73 finished with values: [0.012096495400321669, 0.7112448137800941] and parameters: {'learning_rate': 0.012096495400321669}. \u001b[0m\n",
      "\u001b[32m[I 2023-04-27 10:48:28,277]\u001b[0m Trial 74 finished with values: [0.07830377287729806, 0.7306338561389435] and parameters: {'learning_rate': 0.07830377287729806}. \u001b[0m\n",
      "\u001b[32m[I 2023-04-27 10:48:29,000]\u001b[0m Trial 75 finished with values: [0.0020289312962674306, 0.4235082247366586] and parameters: {'learning_rate': 0.0020289312962674306}. \u001b[0m\n",
      "\u001b[32m[I 2023-04-27 10:48:29,717]\u001b[0m Trial 76 finished with values: [0.007003614272196497, 0.653715322076985] and parameters: {'learning_rate': 0.007003614272196497}. \u001b[0m\n",
      "\u001b[32m[I 2023-04-27 10:48:30,438]\u001b[0m Trial 77 finished with values: [0.026811861365256547, 0.7281393119846103] and parameters: {'learning_rate': 0.026811861365256547}. \u001b[0m\n",
      "\u001b[32m[I 2023-04-27 10:48:31,206]\u001b[0m Trial 78 finished with values: [0.0014534431094221844, 0.4235082247366586] and parameters: {'learning_rate': 0.0014534431094221844}. \u001b[0m\n",
      "\u001b[32m[I 2023-04-27 10:48:31,910]\u001b[0m Trial 79 finished with values: [0.07184266906020101, 0.7318954915835494] and parameters: {'learning_rate': 0.07184266906020101}. \u001b[0m\n",
      "\u001b[32m[I 2023-04-27 10:48:32,611]\u001b[0m Trial 80 finished with values: [0.20138173825410338, 0.7278080193179831] and parameters: {'learning_rate': 0.20138173825410338}. \u001b[0m\n",
      "\u001b[32m[I 2023-04-27 10:48:33,350]\u001b[0m Trial 81 finished with values: [0.01956656266919498, 0.7259187426802697] and parameters: {'learning_rate': 0.01956656266919498}. \u001b[0m\n",
      "\u001b[32m[I 2023-04-27 10:48:34,043]\u001b[0m Trial 82 finished with values: [0.005251844487229045, 0.6024609734794308] and parameters: {'learning_rate': 0.005251844487229045}. \u001b[0m\n",
      "\u001b[32m[I 2023-04-27 10:48:34,734]\u001b[0m Trial 83 finished with values: [0.0007975269741962664, 0.4235082247366586] and parameters: {'learning_rate': 0.0007975269741962664}. \u001b[0m\n",
      "\u001b[32m[I 2023-04-27 10:48:35,428]\u001b[0m Trial 84 finished with values: [0.0005538907493946157, 0.4235082247366586] and parameters: {'learning_rate': 0.0005538907493946157}. \u001b[0m\n",
      "\u001b[32m[I 2023-04-27 10:48:36,126]\u001b[0m Trial 85 finished with values: [0.0835122016432078, 0.7321890615843162] and parameters: {'learning_rate': 0.0835122016432078}. \u001b[0m\n",
      "\u001b[32m[I 2023-04-27 10:48:36,860]\u001b[0m Trial 86 finished with values: [0.0006260697703589752, 0.4235082247366586] and parameters: {'learning_rate': 0.0006260697703589752}. \u001b[0m\n",
      "\u001b[32m[I 2023-04-27 10:48:37,556]\u001b[0m Trial 87 finished with values: [0.11742527067046299, 0.7321944783582703] and parameters: {'learning_rate': 0.11742527067046299}. \u001b[0m\n",
      "\u001b[32m[I 2023-04-27 10:48:38,296]\u001b[0m Trial 88 finished with values: [0.004544231657855253, 0.5343888745179519] and parameters: {'learning_rate': 0.004544231657855253}. \u001b[0m\n",
      "\u001b[32m[I 2023-04-27 10:48:39,070]\u001b[0m Trial 89 finished with values: [0.00012209259631005412, 0.4235082247366586] and parameters: {'learning_rate': 0.00012209259631005412}. \u001b[0m\n",
      "\u001b[32m[I 2023-04-27 10:48:39,823]\u001b[0m Trial 90 finished with values: [0.001267549290534437, 0.4235082247366586] and parameters: {'learning_rate': 0.001267549290534437}. \u001b[0m\n",
      "\u001b[32m[I 2023-04-27 10:48:40,539]\u001b[0m Trial 91 finished with values: [0.004363976487357013, 0.5087369170754972] and parameters: {'learning_rate': 0.004363976487357013}. \u001b[0m\n",
      "\u001b[32m[I 2023-04-27 10:48:41,243]\u001b[0m Trial 92 finished with values: [0.017485462659550834, 0.722280452051524] and parameters: {'learning_rate': 0.017485462659550834}. \u001b[0m\n",
      "\u001b[32m[I 2023-04-27 10:48:41,927]\u001b[0m Trial 93 finished with values: [0.44828056389247145, 0.7116760995541701] and parameters: {'learning_rate': 0.44828056389247145}. \u001b[0m\n",
      "\u001b[32m[I 2023-04-27 10:48:42,634]\u001b[0m Trial 94 finished with values: [0.08277845673611592, 0.7314187112500111] and parameters: {'learning_rate': 0.08277845673611592}. \u001b[0m\n",
      "\u001b[32m[I 2023-04-27 10:48:43,357]\u001b[0m Trial 95 finished with values: [0.0003291311959625348, 0.4235082247366586] and parameters: {'learning_rate': 0.0003291311959625348}. \u001b[0m\n",
      "\u001b[32m[I 2023-04-27 10:48:44,073]\u001b[0m Trial 96 finished with values: [0.00022868118733042252, 0.4235082247366586] and parameters: {'learning_rate': 0.00022868118733042252}. \u001b[0m\n",
      "\u001b[32m[I 2023-04-27 10:48:44,798]\u001b[0m Trial 97 finished with values: [0.18286145837300968, 0.7262427071035374] and parameters: {'learning_rate': 0.18286145837300968}. \u001b[0m\n",
      "\u001b[32m[I 2023-04-27 10:48:45,479]\u001b[0m Trial 98 finished with values: [0.06941692989749879, 0.7295385067809874] and parameters: {'learning_rate': 0.06941692989749879}. \u001b[0m\n",
      "\u001b[32m[I 2023-04-27 10:48:46,147]\u001b[0m Trial 99 finished with values: [0.19305171220017311, 0.7262367052555226] and parameters: {'learning_rate': 0.19305171220017311}. \u001b[0m\n"
     ]
    }
   ],
   "source": [
    "study = optuna.create_study(directions=[\"maximize\", \"maximize\"])\n",
    "study.optimize(moo_objective, n_trials=100)"
   ]
  },
  {
   "cell_type": "code",
   "execution_count": 24,
   "metadata": {
    "ExecuteTime": {
     "end_time": "2023-04-27T12:48:46.776516Z",
     "start_time": "2023-04-27T12:48:45.820953Z"
    },
    "collapsed": false
   },
   "outputs": [
    {
     "data": {
      "application/vnd.plotly.v1+json": {
       "config": {
        "plotlyServerURL": "https://plot.ly"
       },
       "data": [
        {
         "hovertemplate": "%{text}<extra>Trial</extra>",
         "marker": {
          "color": [
           0,
           1,
           2,
           4,
           5,
           6,
           7,
           8,
           9,
           10,
           11,
           13,
           15,
           16,
           17,
           18,
           19,
           20,
           21,
           22,
           23,
           25,
           26,
           28,
           31,
           32,
           33,
           34,
           36,
           37,
           38,
           39,
           40,
           41,
           42,
           44,
           45,
           46,
           47,
           48,
           49,
           50,
           51,
           52,
           54,
           55,
           56,
           57,
           58,
           60,
           61,
           63,
           64,
           65,
           66,
           67,
           69,
           70,
           71,
           72,
           73,
           74,
           75,
           76,
           77,
           78,
           79,
           80,
           81,
           82,
           83,
           84,
           85,
           86,
           88,
           89,
           90,
           91,
           92,
           93,
           94,
           95,
           96,
           97,
           98,
           99
          ],
          "colorbar": {
           "title": {
            "text": "Trial"
           }
          },
          "colorscale": [
           [
            0,
            "rgb(247,251,255)"
           ],
           [
            0.125,
            "rgb(222,235,247)"
           ],
           [
            0.25,
            "rgb(198,219,239)"
           ],
           [
            0.375,
            "rgb(158,202,225)"
           ],
           [
            0.5,
            "rgb(107,174,214)"
           ],
           [
            0.625,
            "rgb(66,146,198)"
           ],
           [
            0.75,
            "rgb(33,113,181)"
           ],
           [
            0.875,
            "rgb(8,81,156)"
           ],
           [
            1,
            "rgb(8,48,107)"
           ]
          ],
          "line": {
           "color": "Grey",
           "width": 0.5
          }
         },
         "mode": "markers",
         "showlegend": false,
         "text": [
          "{<br>  \"number\": 0,<br>  \"values\": [<br>    0.018276625572235056,<br>    0.7229728382357858<br>  ],<br>  \"params\": {<br>    \"learning_rate\": 0.018276625572235056<br>  }<br>}",
          "{<br>  \"number\": 1,<br>  \"values\": [<br>    0.012281350875017864,<br>    0.713129498994182<br>  ],<br>  \"params\": {<br>    \"learning_rate\": 0.012281350875017864<br>  }<br>}",
          "{<br>  \"number\": 2,<br>  \"values\": [<br>    0.3179931543219117,<br>    0.7181352358216049<br>  ],<br>  \"params\": {<br>    \"learning_rate\": 0.3179931543219117<br>  }<br>}",
          "{<br>  \"number\": 4,<br>  \"values\": [<br>    0.010097499163932589,<br>    0.689595604293249<br>  ],<br>  \"params\": {<br>    \"learning_rate\": 0.010097499163932589<br>  }<br>}",
          "{<br>  \"number\": 5,<br>  \"values\": [<br>    0.0010284892903758126,<br>    0.4235082247366586<br>  ],<br>  \"params\": {<br>    \"learning_rate\": 0.0010284892903758126<br>  }<br>}",
          "{<br>  \"number\": 6,<br>  \"values\": [<br>    0.0008073623310050534,<br>    0.4235082247366586<br>  ],<br>  \"params\": {<br>    \"learning_rate\": 0.0008073623310050534<br>  }<br>}",
          "{<br>  \"number\": 7,<br>  \"values\": [<br>    0.009446892389275133,<br>    0.6841554205738356<br>  ],<br>  \"params\": {<br>    \"learning_rate\": 0.009446892389275133<br>  }<br>}",
          "{<br>  \"number\": 8,<br>  \"values\": [<br>    0.042129982546996285,<br>    0.7318679125094985<br>  ],<br>  \"params\": {<br>    \"learning_rate\": 0.042129982546996285<br>  }<br>}",
          "{<br>  \"number\": 9,<br>  \"values\": [<br>    0.006234336282154794,<br>    0.6372047388051083<br>  ],<br>  \"params\": {<br>    \"learning_rate\": 0.006234336282154794<br>  }<br>}",
          "{<br>  \"number\": 10,<br>  \"values\": [<br>    0.0014213907266344855,<br>    0.4235082247366586<br>  ],<br>  \"params\": {<br>    \"learning_rate\": 0.0014213907266344855<br>  }<br>}",
          "{<br>  \"number\": 11,<br>  \"values\": [<br>    0.0074818711669891215,<br>    0.6643619268828908<br>  ],<br>  \"params\": {<br>    \"learning_rate\": 0.0074818711669891215<br>  }<br>}",
          "{<br>  \"number\": 13,<br>  \"values\": [<br>    0.0012664149179400209,<br>    0.4235082247366586<br>  ],<br>  \"params\": {<br>    \"learning_rate\": 0.0012664149179400209<br>  }<br>}",
          "{<br>  \"number\": 15,<br>  \"values\": [<br>    0.01538041330688695,<br>    0.7173796023919852<br>  ],<br>  \"params\": {<br>    \"learning_rate\": 0.01538041330688695<br>  }<br>}",
          "{<br>  \"number\": 16,<br>  \"values\": [<br>    0.018396986660930648,<br>    0.7227368738811438<br>  ],<br>  \"params\": {<br>    \"learning_rate\": 0.018396986660930648<br>  }<br>}",
          "{<br>  \"number\": 17,<br>  \"values\": [<br>    0.0030415201353781317,<br>    0.4235082247366586<br>  ],<br>  \"params\": {<br>    \"learning_rate\": 0.0030415201353781317<br>  }<br>}",
          "{<br>  \"number\": 18,<br>  \"values\": [<br>    0.34679130964813293,<br>    0.7165372792236238<br>  ],<br>  \"params\": {<br>    \"learning_rate\": 0.34679130964813293<br>  }<br>}",
          "{<br>  \"number\": 19,<br>  \"values\": [<br>    0.0016185106184141472,<br>    0.4235082247366586<br>  ],<br>  \"params\": {<br>    \"learning_rate\": 0.0016185106184141472<br>  }<br>}",
          "{<br>  \"number\": 20,<br>  \"values\": [<br>    0.09977031400739048,<br>    0.7302018596960369<br>  ],<br>  \"params\": {<br>    \"learning_rate\": 0.09977031400739048<br>  }<br>}",
          "{<br>  \"number\": 21,<br>  \"values\": [<br>    0.00015692458115144144,<br>    0.4235082247366586<br>  ],<br>  \"params\": {<br>    \"learning_rate\": 0.00015692458115144144<br>  }<br>}",
          "{<br>  \"number\": 22,<br>  \"values\": [<br>    0.0014637099340279343,<br>    0.4235082247366586<br>  ],<br>  \"params\": {<br>    \"learning_rate\": 0.0014637099340279343<br>  }<br>}",
          "{<br>  \"number\": 23,<br>  \"values\": [<br>    0.237542460048024,<br>    0.7216310177763523<br>  ],<br>  \"params\": {<br>    \"learning_rate\": 0.237542460048024<br>  }<br>}",
          "{<br>  \"number\": 25,<br>  \"values\": [<br>    0.039216586476540555,<br>    0.7301579035907364<br>  ],<br>  \"params\": {<br>    \"learning_rate\": 0.039216586476540555<br>  }<br>}",
          "{<br>  \"number\": 26,<br>  \"values\": [<br>    0.04413193652148863,<br>    0.7292176187667853<br>  ],<br>  \"params\": {<br>    \"learning_rate\": 0.04413193652148863<br>  }<br>}",
          "{<br>  \"number\": 28,<br>  \"values\": [<br>    0.0006332697167843045,<br>    0.4235082247366586<br>  ],<br>  \"params\": {<br>    \"learning_rate\": 0.0006332697167843045<br>  }<br>}",
          "{<br>  \"number\": 31,<br>  \"values\": [<br>    0.036619413830782564,<br>    0.7302184406320554<br>  ],<br>  \"params\": {<br>    \"learning_rate\": 0.036619413830782564<br>  }<br>}",
          "{<br>  \"number\": 32,<br>  \"values\": [<br>    0.03610204856200786,<br>    0.7304328067409969<br>  ],<br>  \"params\": {<br>    \"learning_rate\": 0.03610204856200786<br>  }<br>}",
          "{<br>  \"number\": 33,<br>  \"values\": [<br>    0.0021961450728918896,<br>    0.4235082247366586<br>  ],<br>  \"params\": {<br>    \"learning_rate\": 0.0021961450728918896<br>  }<br>}",
          "{<br>  \"number\": 34,<br>  \"values\": [<br>    0.012193586140043794,<br>    0.7120523440790167<br>  ],<br>  \"params\": {<br>    \"learning_rate\": 0.012193586140043794<br>  }<br>}",
          "{<br>  \"number\": 36,<br>  \"values\": [<br>    0.00017918412416240907,<br>    0.4235082247366586<br>  ],<br>  \"params\": {<br>    \"learning_rate\": 0.00017918412416240907<br>  }<br>}",
          "{<br>  \"number\": 37,<br>  \"values\": [<br>    0.014133500358080071,<br>    0.7167142851538554<br>  ],<br>  \"params\": {<br>    \"learning_rate\": 0.014133500358080071<br>  }<br>}",
          "{<br>  \"number\": 38,<br>  \"values\": [<br>    0.04852382290869409,<br>    0.7310333204595433<br>  ],<br>  \"params\": {<br>    \"learning_rate\": 0.04852382290869409<br>  }<br>}",
          "{<br>  \"number\": 39,<br>  \"values\": [<br>    0.040201201662143485,<br>    0.7306614283099379<br>  ],<br>  \"params\": {<br>    \"learning_rate\": 0.040201201662143485<br>  }<br>}",
          "{<br>  \"number\": 40,<br>  \"values\": [<br>    0.0011776265316570207,<br>    0.4235082247366586<br>  ],<br>  \"params\": {<br>    \"learning_rate\": 0.0011776265316570207<br>  }<br>}",
          "{<br>  \"number\": 41,<br>  \"values\": [<br>    0.026396073829949854,<br>    0.7294521208392316<br>  ],<br>  \"params\": {<br>    \"learning_rate\": 0.026396073829949854<br>  }<br>}",
          "{<br>  \"number\": 42,<br>  \"values\": [<br>    0.19287363423507076,<br>    0.7259236143539816<br>  ],<br>  \"params\": {<br>    \"learning_rate\": 0.19287363423507076<br>  }<br>}",
          "{<br>  \"number\": 44,<br>  \"values\": [<br>    0.06950786503628438,<br>    0.7323174432397132<br>  ],<br>  \"params\": {<br>    \"learning_rate\": 0.06950786503628438<br>  }<br>}",
          "{<br>  \"number\": 45,<br>  \"values\": [<br>    0.0013182070434705978,<br>    0.4235082247366586<br>  ],<br>  \"params\": {<br>    \"learning_rate\": 0.0013182070434705978<br>  }<br>}",
          "{<br>  \"number\": 46,<br>  \"values\": [<br>    0.0001689170415983065,<br>    0.4235082247366586<br>  ],<br>  \"params\": {<br>    \"learning_rate\": 0.0001689170415983065<br>  }<br>}",
          "{<br>  \"number\": 47,<br>  \"values\": [<br>    0.0021018530965500105,<br>    0.4235082247366586<br>  ],<br>  \"params\": {<br>    \"learning_rate\": 0.0021018530965500105<br>  }<br>}",
          "{<br>  \"number\": 48,<br>  \"values\": [<br>    0.00019287163151974652,<br>    0.4235082247366586<br>  ],<br>  \"params\": {<br>    \"learning_rate\": 0.00019287163151974652<br>  }<br>}",
          "{<br>  \"number\": 49,<br>  \"values\": [<br>    0.1714187324525616,<br>    0.7274564562489783<br>  ],<br>  \"params\": {<br>    \"learning_rate\": 0.1714187324525616<br>  }<br>}",
          "{<br>  \"number\": 50,<br>  \"values\": [<br>    0.028218912249716382,<br>    0.7285799931977797<br>  ],<br>  \"params\": {<br>    \"learning_rate\": 0.028218912249716382<br>  }<br>}",
          "{<br>  \"number\": 51,<br>  \"values\": [<br>    0.00037469787058577405,<br>    0.4235082247366586<br>  ],<br>  \"params\": {<br>    \"learning_rate\": 0.00037469787058577405<br>  }<br>}",
          "{<br>  \"number\": 52,<br>  \"values\": [<br>    0.016517619384449466,<br>    0.7201909680929806<br>  ],<br>  \"params\": {<br>    \"learning_rate\": 0.016517619384449466<br>  }<br>}",
          "{<br>  \"number\": 54,<br>  \"values\": [<br>    0.01075645544167512,<br>    0.6983807551597365<br>  ],<br>  \"params\": {<br>    \"learning_rate\": 0.01075645544167512<br>  }<br>}",
          "{<br>  \"number\": 55,<br>  \"values\": [<br>    0.0013300668001608705,<br>    0.4235082247366586<br>  ],<br>  \"params\": {<br>    \"learning_rate\": 0.0013300668001608705<br>  }<br>}",
          "{<br>  \"number\": 56,<br>  \"values\": [<br>    0.009234620597188305,<br>    0.6815820697212852<br>  ],<br>  \"params\": {<br>    \"learning_rate\": 0.009234620597188305<br>  }<br>}",
          "{<br>  \"number\": 57,<br>  \"values\": [<br>    0.030789337644333142,<br>    0.7297299658845593<br>  ],<br>  \"params\": {<br>    \"learning_rate\": 0.030789337644333142<br>  }<br>}",
          "{<br>  \"number\": 58,<br>  \"values\": [<br>    0.0005196761744466342,<br>    0.4235082247366586<br>  ],<br>  \"params\": {<br>    \"learning_rate\": 0.0005196761744466342<br>  }<br>}",
          "{<br>  \"number\": 60,<br>  \"values\": [<br>    0.023714036796718886,<br>    0.7259369472766212<br>  ],<br>  \"params\": {<br>    \"learning_rate\": 0.023714036796718886<br>  }<br>}",
          "{<br>  \"number\": 61,<br>  \"values\": [<br>    0.042951701452191404,<br>    0.7302474855948291<br>  ],<br>  \"params\": {<br>    \"learning_rate\": 0.042951701452191404<br>  }<br>}",
          "{<br>  \"number\": 63,<br>  \"values\": [<br>    0.0031088442966744653,<br>    0.4235082247366586<br>  ],<br>  \"params\": {<br>    \"learning_rate\": 0.0031088442966744653<br>  }<br>}",
          "{<br>  \"number\": 64,<br>  \"values\": [<br>    0.0004014235312843208,<br>    0.4235082247366586<br>  ],<br>  \"params\": {<br>    \"learning_rate\": 0.0004014235312843208<br>  }<br>}",
          "{<br>  \"number\": 65,<br>  \"values\": [<br>    0.005578035829630357,<br>    0.6170142717941252<br>  ],<br>  \"params\": {<br>    \"learning_rate\": 0.005578035829630357<br>  }<br>}",
          "{<br>  \"number\": 66,<br>  \"values\": [<br>    0.0001592544431367279,<br>    0.4235082247366586<br>  ],<br>  \"params\": {<br>    \"learning_rate\": 0.0001592544431367279<br>  }<br>}",
          "{<br>  \"number\": 67,<br>  \"values\": [<br>    0.0807232375319011,<br>    0.7309408871913655<br>  ],<br>  \"params\": {<br>    \"learning_rate\": 0.0807232375319011<br>  }<br>}",
          "{<br>  \"number\": 69,<br>  \"values\": [<br>    0.04159311590472715,<br>    0.7313584050417112<br>  ],<br>  \"params\": {<br>    \"learning_rate\": 0.04159311590472715<br>  }<br>}",
          "{<br>  \"number\": 70,<br>  \"values\": [<br>    0.0007829813261500128,<br>    0.4235082247366586<br>  ],<br>  \"params\": {<br>    \"learning_rate\": 0.0007829813261500128<br>  }<br>}",
          "{<br>  \"number\": 71,<br>  \"values\": [<br>    0.0005327862205087224,<br>    0.4235082247366586<br>  ],<br>  \"params\": {<br>    \"learning_rate\": 0.0005327862205087224<br>  }<br>}",
          "{<br>  \"number\": 72,<br>  \"values\": [<br>    0.011004042996587247,<br>    0.7013991059388606<br>  ],<br>  \"params\": {<br>    \"learning_rate\": 0.011004042996587247<br>  }<br>}",
          "{<br>  \"number\": 73,<br>  \"values\": [<br>    0.012096495400321669,<br>    0.7112448137800941<br>  ],<br>  \"params\": {<br>    \"learning_rate\": 0.012096495400321669<br>  }<br>}",
          "{<br>  \"number\": 74,<br>  \"values\": [<br>    0.07830377287729806,<br>    0.7306338561389435<br>  ],<br>  \"params\": {<br>    \"learning_rate\": 0.07830377287729806<br>  }<br>}",
          "{<br>  \"number\": 75,<br>  \"values\": [<br>    0.0020289312962674306,<br>    0.4235082247366586<br>  ],<br>  \"params\": {<br>    \"learning_rate\": 0.0020289312962674306<br>  }<br>}",
          "{<br>  \"number\": 76,<br>  \"values\": [<br>    0.007003614272196497,<br>    0.653715322076985<br>  ],<br>  \"params\": {<br>    \"learning_rate\": 0.007003614272196497<br>  }<br>}",
          "{<br>  \"number\": 77,<br>  \"values\": [<br>    0.026811861365256547,<br>    0.7281393119846103<br>  ],<br>  \"params\": {<br>    \"learning_rate\": 0.026811861365256547<br>  }<br>}",
          "{<br>  \"number\": 78,<br>  \"values\": [<br>    0.0014534431094221844,<br>    0.4235082247366586<br>  ],<br>  \"params\": {<br>    \"learning_rate\": 0.0014534431094221844<br>  }<br>}",
          "{<br>  \"number\": 79,<br>  \"values\": [<br>    0.07184266906020101,<br>    0.7318954915835494<br>  ],<br>  \"params\": {<br>    \"learning_rate\": 0.07184266906020101<br>  }<br>}",
          "{<br>  \"number\": 80,<br>  \"values\": [<br>    0.20138173825410338,<br>    0.7278080193179831<br>  ],<br>  \"params\": {<br>    \"learning_rate\": 0.20138173825410338<br>  }<br>}",
          "{<br>  \"number\": 81,<br>  \"values\": [<br>    0.01956656266919498,<br>    0.7259187426802697<br>  ],<br>  \"params\": {<br>    \"learning_rate\": 0.01956656266919498<br>  }<br>}",
          "{<br>  \"number\": 82,<br>  \"values\": [<br>    0.005251844487229045,<br>    0.6024609734794308<br>  ],<br>  \"params\": {<br>    \"learning_rate\": 0.005251844487229045<br>  }<br>}",
          "{<br>  \"number\": 83,<br>  \"values\": [<br>    0.0007975269741962664,<br>    0.4235082247366586<br>  ],<br>  \"params\": {<br>    \"learning_rate\": 0.0007975269741962664<br>  }<br>}",
          "{<br>  \"number\": 84,<br>  \"values\": [<br>    0.0005538907493946157,<br>    0.4235082247366586<br>  ],<br>  \"params\": {<br>    \"learning_rate\": 0.0005538907493946157<br>  }<br>}",
          "{<br>  \"number\": 85,<br>  \"values\": [<br>    0.0835122016432078,<br>    0.7321890615843162<br>  ],<br>  \"params\": {<br>    \"learning_rate\": 0.0835122016432078<br>  }<br>}",
          "{<br>  \"number\": 86,<br>  \"values\": [<br>    0.0006260697703589752,<br>    0.4235082247366586<br>  ],<br>  \"params\": {<br>    \"learning_rate\": 0.0006260697703589752<br>  }<br>}",
          "{<br>  \"number\": 88,<br>  \"values\": [<br>    0.004544231657855253,<br>    0.5343888745179519<br>  ],<br>  \"params\": {<br>    \"learning_rate\": 0.004544231657855253<br>  }<br>}",
          "{<br>  \"number\": 89,<br>  \"values\": [<br>    0.00012209259631005412,<br>    0.4235082247366586<br>  ],<br>  \"params\": {<br>    \"learning_rate\": 0.00012209259631005412<br>  }<br>}",
          "{<br>  \"number\": 90,<br>  \"values\": [<br>    0.001267549290534437,<br>    0.4235082247366586<br>  ],<br>  \"params\": {<br>    \"learning_rate\": 0.001267549290534437<br>  }<br>}",
          "{<br>  \"number\": 91,<br>  \"values\": [<br>    0.004363976487357013,<br>    0.5087369170754972<br>  ],<br>  \"params\": {<br>    \"learning_rate\": 0.004363976487357013<br>  }<br>}",
          "{<br>  \"number\": 92,<br>  \"values\": [<br>    0.017485462659550834,<br>    0.722280452051524<br>  ],<br>  \"params\": {<br>    \"learning_rate\": 0.017485462659550834<br>  }<br>}",
          "{<br>  \"number\": 93,<br>  \"values\": [<br>    0.44828056389247145,<br>    0.7116760995541701<br>  ],<br>  \"params\": {<br>    \"learning_rate\": 0.44828056389247145<br>  }<br>}",
          "{<br>  \"number\": 94,<br>  \"values\": [<br>    0.08277845673611592,<br>    0.7314187112500111<br>  ],<br>  \"params\": {<br>    \"learning_rate\": 0.08277845673611592<br>  }<br>}",
          "{<br>  \"number\": 95,<br>  \"values\": [<br>    0.0003291311959625348,<br>    0.4235082247366586<br>  ],<br>  \"params\": {<br>    \"learning_rate\": 0.0003291311959625348<br>  }<br>}",
          "{<br>  \"number\": 96,<br>  \"values\": [<br>    0.00022868118733042252,<br>    0.4235082247366586<br>  ],<br>  \"params\": {<br>    \"learning_rate\": 0.00022868118733042252<br>  }<br>}",
          "{<br>  \"number\": 97,<br>  \"values\": [<br>    0.18286145837300968,<br>    0.7262427071035374<br>  ],<br>  \"params\": {<br>    \"learning_rate\": 0.18286145837300968<br>  }<br>}",
          "{<br>  \"number\": 98,<br>  \"values\": [<br>    0.06941692989749879,<br>    0.7295385067809874<br>  ],<br>  \"params\": {<br>    \"learning_rate\": 0.06941692989749879<br>  }<br>}",
          "{<br>  \"number\": 99,<br>  \"values\": [<br>    0.19305171220017311,<br>    0.7262367052555226<br>  ],<br>  \"params\": {<br>    \"learning_rate\": 0.19305171220017311<br>  }<br>}"
         ],
         "type": "scatter",
         "x": [
          0.018276625572235056,
          0.012281350875017864,
          0.3179931543219117,
          0.010097499163932589,
          0.0010284892903758126,
          0.0008073623310050534,
          0.009446892389275133,
          0.042129982546996285,
          0.006234336282154794,
          0.0014213907266344855,
          0.0074818711669891215,
          0.0012664149179400209,
          0.01538041330688695,
          0.018396986660930648,
          0.0030415201353781317,
          0.34679130964813293,
          0.0016185106184141472,
          0.09977031400739048,
          0.00015692458115144144,
          0.0014637099340279343,
          0.237542460048024,
          0.039216586476540555,
          0.04413193652148863,
          0.0006332697167843045,
          0.036619413830782564,
          0.03610204856200786,
          0.0021961450728918896,
          0.012193586140043794,
          0.00017918412416240907,
          0.014133500358080071,
          0.04852382290869409,
          0.040201201662143485,
          0.0011776265316570207,
          0.026396073829949854,
          0.19287363423507076,
          0.06950786503628438,
          0.0013182070434705978,
          0.0001689170415983065,
          0.0021018530965500105,
          0.00019287163151974652,
          0.1714187324525616,
          0.028218912249716382,
          0.00037469787058577405,
          0.016517619384449466,
          0.01075645544167512,
          0.0013300668001608705,
          0.009234620597188305,
          0.030789337644333142,
          0.0005196761744466342,
          0.023714036796718886,
          0.042951701452191404,
          0.0031088442966744653,
          0.0004014235312843208,
          0.005578035829630357,
          0.0001592544431367279,
          0.0807232375319011,
          0.04159311590472715,
          0.0007829813261500128,
          0.0005327862205087224,
          0.011004042996587247,
          0.012096495400321669,
          0.07830377287729806,
          0.0020289312962674306,
          0.007003614272196497,
          0.026811861365256547,
          0.0014534431094221844,
          0.07184266906020101,
          0.20138173825410338,
          0.01956656266919498,
          0.005251844487229045,
          0.0007975269741962664,
          0.0005538907493946157,
          0.0835122016432078,
          0.0006260697703589752,
          0.004544231657855253,
          0.00012209259631005412,
          0.001267549290534437,
          0.004363976487357013,
          0.017485462659550834,
          0.44828056389247145,
          0.08277845673611592,
          0.0003291311959625348,
          0.00022868118733042252,
          0.18286145837300968,
          0.06941692989749879,
          0.19305171220017311
         ],
         "y": [
          0.7229728382357858,
          0.713129498994182,
          0.7181352358216049,
          0.689595604293249,
          0.4235082247366586,
          0.4235082247366586,
          0.6841554205738356,
          0.7318679125094985,
          0.6372047388051083,
          0.4235082247366586,
          0.6643619268828908,
          0.4235082247366586,
          0.7173796023919852,
          0.7227368738811438,
          0.4235082247366586,
          0.7165372792236238,
          0.4235082247366586,
          0.7302018596960369,
          0.4235082247366586,
          0.4235082247366586,
          0.7216310177763523,
          0.7301579035907364,
          0.7292176187667853,
          0.4235082247366586,
          0.7302184406320554,
          0.7304328067409969,
          0.4235082247366586,
          0.7120523440790167,
          0.4235082247366586,
          0.7167142851538554,
          0.7310333204595433,
          0.7306614283099379,
          0.4235082247366586,
          0.7294521208392316,
          0.7259236143539816,
          0.7323174432397132,
          0.4235082247366586,
          0.4235082247366586,
          0.4235082247366586,
          0.4235082247366586,
          0.7274564562489783,
          0.7285799931977797,
          0.4235082247366586,
          0.7201909680929806,
          0.6983807551597365,
          0.4235082247366586,
          0.6815820697212852,
          0.7297299658845593,
          0.4235082247366586,
          0.7259369472766212,
          0.7302474855948291,
          0.4235082247366586,
          0.4235082247366586,
          0.6170142717941252,
          0.4235082247366586,
          0.7309408871913655,
          0.7313584050417112,
          0.4235082247366586,
          0.4235082247366586,
          0.7013991059388606,
          0.7112448137800941,
          0.7306338561389435,
          0.4235082247366586,
          0.653715322076985,
          0.7281393119846103,
          0.4235082247366586,
          0.7318954915835494,
          0.7278080193179831,
          0.7259187426802697,
          0.6024609734794308,
          0.4235082247366586,
          0.4235082247366586,
          0.7321890615843162,
          0.4235082247366586,
          0.5343888745179519,
          0.4235082247366586,
          0.4235082247366586,
          0.5087369170754972,
          0.722280452051524,
          0.7116760995541701,
          0.7314187112500111,
          0.4235082247366586,
          0.4235082247366586,
          0.7262427071035374,
          0.7295385067809874,
          0.7262367052555226
         ]
        },
        {
         "hovertemplate": "%{text}<extra>Best Trial</extra>",
         "marker": {
          "color": [
           3,
           12,
           14,
           24,
           27,
           29,
           30,
           35,
           43,
           53,
           59,
           62,
           68,
           87
          ],
          "colorbar": {
           "title": {
            "text": "Best Trial"
           },
           "x": 1.1,
           "xpad": 40
          },
          "colorscale": [
           [
            0,
            "rgb(255,245,240)"
           ],
           [
            0.125,
            "rgb(254,224,210)"
           ],
           [
            0.25,
            "rgb(252,187,161)"
           ],
           [
            0.375,
            "rgb(252,146,114)"
           ],
           [
            0.5,
            "rgb(251,106,74)"
           ],
           [
            0.625,
            "rgb(239,59,44)"
           ],
           [
            0.75,
            "rgb(203,24,29)"
           ],
           [
            0.875,
            "rgb(165,15,21)"
           ],
           [
            1,
            "rgb(103,0,13)"
           ]
          ],
          "line": {
           "color": "Grey",
           "width": 0.5
          }
         },
         "mode": "markers",
         "showlegend": false,
         "text": [
          "{<br>  \"number\": 3,<br>  \"values\": [<br>    0.3317048028124761,<br>    0.7182462105095208<br>  ],<br>  \"params\": {<br>    \"learning_rate\": 0.3317048028124761<br>  }<br>}",
          "{<br>  \"number\": 12,<br>  \"values\": [<br>    0.1148404311838305,<br>    0.7321994102159477<br>  ],<br>  \"params\": {<br>    \"learning_rate\": 0.1148404311838305<br>  }<br>}",
          "{<br>  \"number\": 14,<br>  \"values\": [<br>    0.05307222954482612,<br>    0.7336139976808754<br>  ],<br>  \"params\": {<br>    \"learning_rate\": 0.05307222954482612<br>  }<br>}",
          "{<br>  \"number\": 24,<br>  \"values\": [<br>    0.24410089728809634,<br>    0.7254004209977449<br>  ],<br>  \"params\": {<br>    \"learning_rate\": 0.24410089728809634<br>  }<br>}",
          "{<br>  \"number\": 27,<br>  \"values\": [<br>    0.12844461011742844,<br>    0.7321027124572879<br>  ],<br>  \"params\": {<br>    \"learning_rate\": 0.12844461011742844<br>  }<br>}",
          "{<br>  \"number\": 29,<br>  \"values\": [<br>    0.4498243389528799,<br>    0.7180387023655493<br>  ],<br>  \"params\": {<br>    \"learning_rate\": 0.4498243389528799<br>  }<br>}",
          "{<br>  \"number\": 30,<br>  \"values\": [<br>    0.28825962026286955,<br>    0.7220137309076756<br>  ],<br>  \"params\": {<br>    \"learning_rate\": 0.28825962026286955<br>  }<br>}",
          "{<br>  \"number\": 35,<br>  \"values\": [<br>    0.19630258423899116,<br>    0.7290264275839735<br>  ],<br>  \"params\": {<br>    \"learning_rate\": 0.19630258423899116<br>  }<br>}",
          "{<br>  \"number\": 43,<br>  \"values\": [<br>    0.07377836783758575,<br>    0.7335097300380633<br>  ],<br>  \"params\": {<br>    \"learning_rate\": 0.07377836783758575<br>  }<br>}",
          "{<br>  \"number\": 53,<br>  \"values\": [<br>    0.4796291220454122,<br>    0.7120415606860494<br>  ],<br>  \"params\": {<br>    \"learning_rate\": 0.4796291220454122<br>  }<br>}",
          "{<br>  \"number\": 59,<br>  \"values\": [<br>    0.21454254531144426,<br>    0.7279770709345865<br>  ],<br>  \"params\": {<br>    \"learning_rate\": 0.21454254531144426<br>  }<br>}",
          "{<br>  \"number\": 62,<br>  \"values\": [<br>    0.30521179006815724,<br>    0.7193743184471776<br>  ],<br>  \"params\": {<br>    \"learning_rate\": 0.30521179006815724<br>  }<br>}",
          "{<br>  \"number\": 68,<br>  \"values\": [<br>    0.16799292006264588,<br>    0.7309842390105754<br>  ],<br>  \"params\": {<br>    \"learning_rate\": 0.16799292006264588<br>  }<br>}",
          "{<br>  \"number\": 87,<br>  \"values\": [<br>    0.11742527067046299,<br>    0.7321944783582703<br>  ],<br>  \"params\": {<br>    \"learning_rate\": 0.11742527067046299<br>  }<br>}"
         ],
         "type": "scatter",
         "x": [
          0.3317048028124761,
          0.1148404311838305,
          0.05307222954482612,
          0.24410089728809634,
          0.12844461011742844,
          0.4498243389528799,
          0.28825962026286955,
          0.19630258423899116,
          0.07377836783758575,
          0.4796291220454122,
          0.21454254531144426,
          0.30521179006815724,
          0.16799292006264588,
          0.11742527067046299
         ],
         "y": [
          0.7182462105095208,
          0.7321994102159477,
          0.7336139976808754,
          0.7254004209977449,
          0.7321027124572879,
          0.7180387023655493,
          0.7220137309076756,
          0.7290264275839735,
          0.7335097300380633,
          0.7120415606860494,
          0.7279770709345865,
          0.7193743184471776,
          0.7309842390105754,
          0.7321944783582703
         ]
        }
       ],
       "layout": {
        "template": {
         "data": {
          "bar": [
           {
            "error_x": {
             "color": "#2a3f5f"
            },
            "error_y": {
             "color": "#2a3f5f"
            },
            "marker": {
             "line": {
              "color": "#E5ECF6",
              "width": 0.5
             },
             "pattern": {
              "fillmode": "overlay",
              "size": 10,
              "solidity": 0.2
             }
            },
            "type": "bar"
           }
          ],
          "barpolar": [
           {
            "marker": {
             "line": {
              "color": "#E5ECF6",
              "width": 0.5
             },
             "pattern": {
              "fillmode": "overlay",
              "size": 10,
              "solidity": 0.2
             }
            },
            "type": "barpolar"
           }
          ],
          "carpet": [
           {
            "aaxis": {
             "endlinecolor": "#2a3f5f",
             "gridcolor": "white",
             "linecolor": "white",
             "minorgridcolor": "white",
             "startlinecolor": "#2a3f5f"
            },
            "baxis": {
             "endlinecolor": "#2a3f5f",
             "gridcolor": "white",
             "linecolor": "white",
             "minorgridcolor": "white",
             "startlinecolor": "#2a3f5f"
            },
            "type": "carpet"
           }
          ],
          "choropleth": [
           {
            "colorbar": {
             "outlinewidth": 0,
             "ticks": ""
            },
            "type": "choropleth"
           }
          ],
          "contour": [
           {
            "colorbar": {
             "outlinewidth": 0,
             "ticks": ""
            },
            "colorscale": [
             [
              0,
              "#0d0887"
             ],
             [
              0.1111111111111111,
              "#46039f"
             ],
             [
              0.2222222222222222,
              "#7201a8"
             ],
             [
              0.3333333333333333,
              "#9c179e"
             ],
             [
              0.4444444444444444,
              "#bd3786"
             ],
             [
              0.5555555555555556,
              "#d8576b"
             ],
             [
              0.6666666666666666,
              "#ed7953"
             ],
             [
              0.7777777777777778,
              "#fb9f3a"
             ],
             [
              0.8888888888888888,
              "#fdca26"
             ],
             [
              1,
              "#f0f921"
             ]
            ],
            "type": "contour"
           }
          ],
          "contourcarpet": [
           {
            "colorbar": {
             "outlinewidth": 0,
             "ticks": ""
            },
            "type": "contourcarpet"
           }
          ],
          "heatmap": [
           {
            "colorbar": {
             "outlinewidth": 0,
             "ticks": ""
            },
            "colorscale": [
             [
              0,
              "#0d0887"
             ],
             [
              0.1111111111111111,
              "#46039f"
             ],
             [
              0.2222222222222222,
              "#7201a8"
             ],
             [
              0.3333333333333333,
              "#9c179e"
             ],
             [
              0.4444444444444444,
              "#bd3786"
             ],
             [
              0.5555555555555556,
              "#d8576b"
             ],
             [
              0.6666666666666666,
              "#ed7953"
             ],
             [
              0.7777777777777778,
              "#fb9f3a"
             ],
             [
              0.8888888888888888,
              "#fdca26"
             ],
             [
              1,
              "#f0f921"
             ]
            ],
            "type": "heatmap"
           }
          ],
          "heatmapgl": [
           {
            "colorbar": {
             "outlinewidth": 0,
             "ticks": ""
            },
            "colorscale": [
             [
              0,
              "#0d0887"
             ],
             [
              0.1111111111111111,
              "#46039f"
             ],
             [
              0.2222222222222222,
              "#7201a8"
             ],
             [
              0.3333333333333333,
              "#9c179e"
             ],
             [
              0.4444444444444444,
              "#bd3786"
             ],
             [
              0.5555555555555556,
              "#d8576b"
             ],
             [
              0.6666666666666666,
              "#ed7953"
             ],
             [
              0.7777777777777778,
              "#fb9f3a"
             ],
             [
              0.8888888888888888,
              "#fdca26"
             ],
             [
              1,
              "#f0f921"
             ]
            ],
            "type": "heatmapgl"
           }
          ],
          "histogram": [
           {
            "marker": {
             "pattern": {
              "fillmode": "overlay",
              "size": 10,
              "solidity": 0.2
             }
            },
            "type": "histogram"
           }
          ],
          "histogram2d": [
           {
            "colorbar": {
             "outlinewidth": 0,
             "ticks": ""
            },
            "colorscale": [
             [
              0,
              "#0d0887"
             ],
             [
              0.1111111111111111,
              "#46039f"
             ],
             [
              0.2222222222222222,
              "#7201a8"
             ],
             [
              0.3333333333333333,
              "#9c179e"
             ],
             [
              0.4444444444444444,
              "#bd3786"
             ],
             [
              0.5555555555555556,
              "#d8576b"
             ],
             [
              0.6666666666666666,
              "#ed7953"
             ],
             [
              0.7777777777777778,
              "#fb9f3a"
             ],
             [
              0.8888888888888888,
              "#fdca26"
             ],
             [
              1,
              "#f0f921"
             ]
            ],
            "type": "histogram2d"
           }
          ],
          "histogram2dcontour": [
           {
            "colorbar": {
             "outlinewidth": 0,
             "ticks": ""
            },
            "colorscale": [
             [
              0,
              "#0d0887"
             ],
             [
              0.1111111111111111,
              "#46039f"
             ],
             [
              0.2222222222222222,
              "#7201a8"
             ],
             [
              0.3333333333333333,
              "#9c179e"
             ],
             [
              0.4444444444444444,
              "#bd3786"
             ],
             [
              0.5555555555555556,
              "#d8576b"
             ],
             [
              0.6666666666666666,
              "#ed7953"
             ],
             [
              0.7777777777777778,
              "#fb9f3a"
             ],
             [
              0.8888888888888888,
              "#fdca26"
             ],
             [
              1,
              "#f0f921"
             ]
            ],
            "type": "histogram2dcontour"
           }
          ],
          "mesh3d": [
           {
            "colorbar": {
             "outlinewidth": 0,
             "ticks": ""
            },
            "type": "mesh3d"
           }
          ],
          "parcoords": [
           {
            "line": {
             "colorbar": {
              "outlinewidth": 0,
              "ticks": ""
             }
            },
            "type": "parcoords"
           }
          ],
          "pie": [
           {
            "automargin": true,
            "type": "pie"
           }
          ],
          "scatter": [
           {
            "fillpattern": {
             "fillmode": "overlay",
             "size": 10,
             "solidity": 0.2
            },
            "type": "scatter"
           }
          ],
          "scatter3d": [
           {
            "line": {
             "colorbar": {
              "outlinewidth": 0,
              "ticks": ""
             }
            },
            "marker": {
             "colorbar": {
              "outlinewidth": 0,
              "ticks": ""
             }
            },
            "type": "scatter3d"
           }
          ],
          "scattercarpet": [
           {
            "marker": {
             "colorbar": {
              "outlinewidth": 0,
              "ticks": ""
             }
            },
            "type": "scattercarpet"
           }
          ],
          "scattergeo": [
           {
            "marker": {
             "colorbar": {
              "outlinewidth": 0,
              "ticks": ""
             }
            },
            "type": "scattergeo"
           }
          ],
          "scattergl": [
           {
            "marker": {
             "colorbar": {
              "outlinewidth": 0,
              "ticks": ""
             }
            },
            "type": "scattergl"
           }
          ],
          "scattermapbox": [
           {
            "marker": {
             "colorbar": {
              "outlinewidth": 0,
              "ticks": ""
             }
            },
            "type": "scattermapbox"
           }
          ],
          "scatterpolar": [
           {
            "marker": {
             "colorbar": {
              "outlinewidth": 0,
              "ticks": ""
             }
            },
            "type": "scatterpolar"
           }
          ],
          "scatterpolargl": [
           {
            "marker": {
             "colorbar": {
              "outlinewidth": 0,
              "ticks": ""
             }
            },
            "type": "scatterpolargl"
           }
          ],
          "scatterternary": [
           {
            "marker": {
             "colorbar": {
              "outlinewidth": 0,
              "ticks": ""
             }
            },
            "type": "scatterternary"
           }
          ],
          "surface": [
           {
            "colorbar": {
             "outlinewidth": 0,
             "ticks": ""
            },
            "colorscale": [
             [
              0,
              "#0d0887"
             ],
             [
              0.1111111111111111,
              "#46039f"
             ],
             [
              0.2222222222222222,
              "#7201a8"
             ],
             [
              0.3333333333333333,
              "#9c179e"
             ],
             [
              0.4444444444444444,
              "#bd3786"
             ],
             [
              0.5555555555555556,
              "#d8576b"
             ],
             [
              0.6666666666666666,
              "#ed7953"
             ],
             [
              0.7777777777777778,
              "#fb9f3a"
             ],
             [
              0.8888888888888888,
              "#fdca26"
             ],
             [
              1,
              "#f0f921"
             ]
            ],
            "type": "surface"
           }
          ],
          "table": [
           {
            "cells": {
             "fill": {
              "color": "#EBF0F8"
             },
             "line": {
              "color": "white"
             }
            },
            "header": {
             "fill": {
              "color": "#C8D4E3"
             },
             "line": {
              "color": "white"
             }
            },
            "type": "table"
           }
          ]
         },
         "layout": {
          "annotationdefaults": {
           "arrowcolor": "#2a3f5f",
           "arrowhead": 0,
           "arrowwidth": 1
          },
          "autotypenumbers": "strict",
          "coloraxis": {
           "colorbar": {
            "outlinewidth": 0,
            "ticks": ""
           }
          },
          "colorscale": {
           "diverging": [
            [
             0,
             "#8e0152"
            ],
            [
             0.1,
             "#c51b7d"
            ],
            [
             0.2,
             "#de77ae"
            ],
            [
             0.3,
             "#f1b6da"
            ],
            [
             0.4,
             "#fde0ef"
            ],
            [
             0.5,
             "#f7f7f7"
            ],
            [
             0.6,
             "#e6f5d0"
            ],
            [
             0.7,
             "#b8e186"
            ],
            [
             0.8,
             "#7fbc41"
            ],
            [
             0.9,
             "#4d9221"
            ],
            [
             1,
             "#276419"
            ]
           ],
           "sequential": [
            [
             0,
             "#0d0887"
            ],
            [
             0.1111111111111111,
             "#46039f"
            ],
            [
             0.2222222222222222,
             "#7201a8"
            ],
            [
             0.3333333333333333,
             "#9c179e"
            ],
            [
             0.4444444444444444,
             "#bd3786"
            ],
            [
             0.5555555555555556,
             "#d8576b"
            ],
            [
             0.6666666666666666,
             "#ed7953"
            ],
            [
             0.7777777777777778,
             "#fb9f3a"
            ],
            [
             0.8888888888888888,
             "#fdca26"
            ],
            [
             1,
             "#f0f921"
            ]
           ],
           "sequentialminus": [
            [
             0,
             "#0d0887"
            ],
            [
             0.1111111111111111,
             "#46039f"
            ],
            [
             0.2222222222222222,
             "#7201a8"
            ],
            [
             0.3333333333333333,
             "#9c179e"
            ],
            [
             0.4444444444444444,
             "#bd3786"
            ],
            [
             0.5555555555555556,
             "#d8576b"
            ],
            [
             0.6666666666666666,
             "#ed7953"
            ],
            [
             0.7777777777777778,
             "#fb9f3a"
            ],
            [
             0.8888888888888888,
             "#fdca26"
            ],
            [
             1,
             "#f0f921"
            ]
           ]
          },
          "colorway": [
           "#636efa",
           "#EF553B",
           "#00cc96",
           "#ab63fa",
           "#FFA15A",
           "#19d3f3",
           "#FF6692",
           "#B6E880",
           "#FF97FF",
           "#FECB52"
          ],
          "font": {
           "color": "#2a3f5f"
          },
          "geo": {
           "bgcolor": "white",
           "lakecolor": "white",
           "landcolor": "#E5ECF6",
           "showlakes": true,
           "showland": true,
           "subunitcolor": "white"
          },
          "hoverlabel": {
           "align": "left"
          },
          "hovermode": "closest",
          "mapbox": {
           "style": "light"
          },
          "paper_bgcolor": "white",
          "plot_bgcolor": "#E5ECF6",
          "polar": {
           "angularaxis": {
            "gridcolor": "white",
            "linecolor": "white",
            "ticks": ""
           },
           "bgcolor": "#E5ECF6",
           "radialaxis": {
            "gridcolor": "white",
            "linecolor": "white",
            "ticks": ""
           }
          },
          "scene": {
           "xaxis": {
            "backgroundcolor": "#E5ECF6",
            "gridcolor": "white",
            "gridwidth": 2,
            "linecolor": "white",
            "showbackground": true,
            "ticks": "",
            "zerolinecolor": "white"
           },
           "yaxis": {
            "backgroundcolor": "#E5ECF6",
            "gridcolor": "white",
            "gridwidth": 2,
            "linecolor": "white",
            "showbackground": true,
            "ticks": "",
            "zerolinecolor": "white"
           },
           "zaxis": {
            "backgroundcolor": "#E5ECF6",
            "gridcolor": "white",
            "gridwidth": 2,
            "linecolor": "white",
            "showbackground": true,
            "ticks": "",
            "zerolinecolor": "white"
           }
          },
          "shapedefaults": {
           "line": {
            "color": "#2a3f5f"
           }
          },
          "ternary": {
           "aaxis": {
            "gridcolor": "white",
            "linecolor": "white",
            "ticks": ""
           },
           "baxis": {
            "gridcolor": "white",
            "linecolor": "white",
            "ticks": ""
           },
           "bgcolor": "#E5ECF6",
           "caxis": {
            "gridcolor": "white",
            "linecolor": "white",
            "ticks": ""
           }
          },
          "title": {
           "x": 0.05
          },
          "xaxis": {
           "automargin": true,
           "gridcolor": "white",
           "linecolor": "white",
           "ticks": "",
           "title": {
            "standoff": 15
           },
           "zerolinecolor": "white",
           "zerolinewidth": 2
          },
          "yaxis": {
           "automargin": true,
           "gridcolor": "white",
           "linecolor": "white",
           "ticks": "",
           "title": {
            "standoff": 15
           },
           "zerolinecolor": "white",
           "zerolinewidth": 2
          }
         }
        },
        "title": {
         "text": "Pareto-front Plot"
        },
        "xaxis": {
         "title": {
          "text": "learning_rate"
         }
        },
        "yaxis": {
         "title": {
          "text": "f1"
         }
        }
       }
      },
      "text/html": [
       "<div>                            <div id=\"f5c97c6e-db5a-4ff5-9b09-b323a292b954\" class=\"plotly-graph-div\" style=\"height:525px; width:100%;\"></div>            <script type=\"text/javascript\">                require([\"plotly\"], function(Plotly) {                    window.PLOTLYENV=window.PLOTLYENV || {};                                    if (document.getElementById(\"f5c97c6e-db5a-4ff5-9b09-b323a292b954\")) {                    Plotly.newPlot(                        \"f5c97c6e-db5a-4ff5-9b09-b323a292b954\",                        [{\"hovertemplate\":\"%{text}<extra>Trial</extra>\",\"marker\":{\"color\":[0,1,2,4,5,6,7,8,9,10,11,13,15,16,17,18,19,20,21,22,23,25,26,28,31,32,33,34,36,37,38,39,40,41,42,44,45,46,47,48,49,50,51,52,54,55,56,57,58,60,61,63,64,65,66,67,69,70,71,72,73,74,75,76,77,78,79,80,81,82,83,84,85,86,88,89,90,91,92,93,94,95,96,97,98,99],\"colorbar\":{\"title\":{\"text\":\"Trial\"}},\"colorscale\":[[0.0,\"rgb(247,251,255)\"],[0.125,\"rgb(222,235,247)\"],[0.25,\"rgb(198,219,239)\"],[0.375,\"rgb(158,202,225)\"],[0.5,\"rgb(107,174,214)\"],[0.625,\"rgb(66,146,198)\"],[0.75,\"rgb(33,113,181)\"],[0.875,\"rgb(8,81,156)\"],[1.0,\"rgb(8,48,107)\"]],\"line\":{\"color\":\"Grey\",\"width\":0.5}},\"mode\":\"markers\",\"showlegend\":false,\"text\":[\"{<br>  \\\"number\\\": 0,<br>  \\\"values\\\": [<br>    0.018276625572235056,<br>    0.7229728382357858<br>  ],<br>  \\\"params\\\": {<br>    \\\"learning_rate\\\": 0.018276625572235056<br>  }<br>}\",\"{<br>  \\\"number\\\": 1,<br>  \\\"values\\\": [<br>    0.012281350875017864,<br>    0.713129498994182<br>  ],<br>  \\\"params\\\": {<br>    \\\"learning_rate\\\": 0.012281350875017864<br>  }<br>}\",\"{<br>  \\\"number\\\": 2,<br>  \\\"values\\\": [<br>    0.3179931543219117,<br>    0.7181352358216049<br>  ],<br>  \\\"params\\\": {<br>    \\\"learning_rate\\\": 0.3179931543219117<br>  }<br>}\",\"{<br>  \\\"number\\\": 4,<br>  \\\"values\\\": [<br>    0.010097499163932589,<br>    0.689595604293249<br>  ],<br>  \\\"params\\\": {<br>    \\\"learning_rate\\\": 0.010097499163932589<br>  }<br>}\",\"{<br>  \\\"number\\\": 5,<br>  \\\"values\\\": [<br>    0.0010284892903758126,<br>    0.4235082247366586<br>  ],<br>  \\\"params\\\": {<br>    \\\"learning_rate\\\": 0.0010284892903758126<br>  }<br>}\",\"{<br>  \\\"number\\\": 6,<br>  \\\"values\\\": [<br>    0.0008073623310050534,<br>    0.4235082247366586<br>  ],<br>  \\\"params\\\": {<br>    \\\"learning_rate\\\": 0.0008073623310050534<br>  }<br>}\",\"{<br>  \\\"number\\\": 7,<br>  \\\"values\\\": [<br>    0.009446892389275133,<br>    0.6841554205738356<br>  ],<br>  \\\"params\\\": {<br>    \\\"learning_rate\\\": 0.009446892389275133<br>  }<br>}\",\"{<br>  \\\"number\\\": 8,<br>  \\\"values\\\": [<br>    0.042129982546996285,<br>    0.7318679125094985<br>  ],<br>  \\\"params\\\": {<br>    \\\"learning_rate\\\": 0.042129982546996285<br>  }<br>}\",\"{<br>  \\\"number\\\": 9,<br>  \\\"values\\\": [<br>    0.006234336282154794,<br>    0.6372047388051083<br>  ],<br>  \\\"params\\\": {<br>    \\\"learning_rate\\\": 0.006234336282154794<br>  }<br>}\",\"{<br>  \\\"number\\\": 10,<br>  \\\"values\\\": [<br>    0.0014213907266344855,<br>    0.4235082247366586<br>  ],<br>  \\\"params\\\": {<br>    \\\"learning_rate\\\": 0.0014213907266344855<br>  }<br>}\",\"{<br>  \\\"number\\\": 11,<br>  \\\"values\\\": [<br>    0.0074818711669891215,<br>    0.6643619268828908<br>  ],<br>  \\\"params\\\": {<br>    \\\"learning_rate\\\": 0.0074818711669891215<br>  }<br>}\",\"{<br>  \\\"number\\\": 13,<br>  \\\"values\\\": [<br>    0.0012664149179400209,<br>    0.4235082247366586<br>  ],<br>  \\\"params\\\": {<br>    \\\"learning_rate\\\": 0.0012664149179400209<br>  }<br>}\",\"{<br>  \\\"number\\\": 15,<br>  \\\"values\\\": [<br>    0.01538041330688695,<br>    0.7173796023919852<br>  ],<br>  \\\"params\\\": {<br>    \\\"learning_rate\\\": 0.01538041330688695<br>  }<br>}\",\"{<br>  \\\"number\\\": 16,<br>  \\\"values\\\": [<br>    0.018396986660930648,<br>    0.7227368738811438<br>  ],<br>  \\\"params\\\": {<br>    \\\"learning_rate\\\": 0.018396986660930648<br>  }<br>}\",\"{<br>  \\\"number\\\": 17,<br>  \\\"values\\\": [<br>    0.0030415201353781317,<br>    0.4235082247366586<br>  ],<br>  \\\"params\\\": {<br>    \\\"learning_rate\\\": 0.0030415201353781317<br>  }<br>}\",\"{<br>  \\\"number\\\": 18,<br>  \\\"values\\\": [<br>    0.34679130964813293,<br>    0.7165372792236238<br>  ],<br>  \\\"params\\\": {<br>    \\\"learning_rate\\\": 0.34679130964813293<br>  }<br>}\",\"{<br>  \\\"number\\\": 19,<br>  \\\"values\\\": [<br>    0.0016185106184141472,<br>    0.4235082247366586<br>  ],<br>  \\\"params\\\": {<br>    \\\"learning_rate\\\": 0.0016185106184141472<br>  }<br>}\",\"{<br>  \\\"number\\\": 20,<br>  \\\"values\\\": [<br>    0.09977031400739048,<br>    0.7302018596960369<br>  ],<br>  \\\"params\\\": {<br>    \\\"learning_rate\\\": 0.09977031400739048<br>  }<br>}\",\"{<br>  \\\"number\\\": 21,<br>  \\\"values\\\": [<br>    0.00015692458115144144,<br>    0.4235082247366586<br>  ],<br>  \\\"params\\\": {<br>    \\\"learning_rate\\\": 0.00015692458115144144<br>  }<br>}\",\"{<br>  \\\"number\\\": 22,<br>  \\\"values\\\": [<br>    0.0014637099340279343,<br>    0.4235082247366586<br>  ],<br>  \\\"params\\\": {<br>    \\\"learning_rate\\\": 0.0014637099340279343<br>  }<br>}\",\"{<br>  \\\"number\\\": 23,<br>  \\\"values\\\": [<br>    0.237542460048024,<br>    0.7216310177763523<br>  ],<br>  \\\"params\\\": {<br>    \\\"learning_rate\\\": 0.237542460048024<br>  }<br>}\",\"{<br>  \\\"number\\\": 25,<br>  \\\"values\\\": [<br>    0.039216586476540555,<br>    0.7301579035907364<br>  ],<br>  \\\"params\\\": {<br>    \\\"learning_rate\\\": 0.039216586476540555<br>  }<br>}\",\"{<br>  \\\"number\\\": 26,<br>  \\\"values\\\": [<br>    0.04413193652148863,<br>    0.7292176187667853<br>  ],<br>  \\\"params\\\": {<br>    \\\"learning_rate\\\": 0.04413193652148863<br>  }<br>}\",\"{<br>  \\\"number\\\": 28,<br>  \\\"values\\\": [<br>    0.0006332697167843045,<br>    0.4235082247366586<br>  ],<br>  \\\"params\\\": {<br>    \\\"learning_rate\\\": 0.0006332697167843045<br>  }<br>}\",\"{<br>  \\\"number\\\": 31,<br>  \\\"values\\\": [<br>    0.036619413830782564,<br>    0.7302184406320554<br>  ],<br>  \\\"params\\\": {<br>    \\\"learning_rate\\\": 0.036619413830782564<br>  }<br>}\",\"{<br>  \\\"number\\\": 32,<br>  \\\"values\\\": [<br>    0.03610204856200786,<br>    0.7304328067409969<br>  ],<br>  \\\"params\\\": {<br>    \\\"learning_rate\\\": 0.03610204856200786<br>  }<br>}\",\"{<br>  \\\"number\\\": 33,<br>  \\\"values\\\": [<br>    0.0021961450728918896,<br>    0.4235082247366586<br>  ],<br>  \\\"params\\\": {<br>    \\\"learning_rate\\\": 0.0021961450728918896<br>  }<br>}\",\"{<br>  \\\"number\\\": 34,<br>  \\\"values\\\": [<br>    0.012193586140043794,<br>    0.7120523440790167<br>  ],<br>  \\\"params\\\": {<br>    \\\"learning_rate\\\": 0.012193586140043794<br>  }<br>}\",\"{<br>  \\\"number\\\": 36,<br>  \\\"values\\\": [<br>    0.00017918412416240907,<br>    0.4235082247366586<br>  ],<br>  \\\"params\\\": {<br>    \\\"learning_rate\\\": 0.00017918412416240907<br>  }<br>}\",\"{<br>  \\\"number\\\": 37,<br>  \\\"values\\\": [<br>    0.014133500358080071,<br>    0.7167142851538554<br>  ],<br>  \\\"params\\\": {<br>    \\\"learning_rate\\\": 0.014133500358080071<br>  }<br>}\",\"{<br>  \\\"number\\\": 38,<br>  \\\"values\\\": [<br>    0.04852382290869409,<br>    0.7310333204595433<br>  ],<br>  \\\"params\\\": {<br>    \\\"learning_rate\\\": 0.04852382290869409<br>  }<br>}\",\"{<br>  \\\"number\\\": 39,<br>  \\\"values\\\": [<br>    0.040201201662143485,<br>    0.7306614283099379<br>  ],<br>  \\\"params\\\": {<br>    \\\"learning_rate\\\": 0.040201201662143485<br>  }<br>}\",\"{<br>  \\\"number\\\": 40,<br>  \\\"values\\\": [<br>    0.0011776265316570207,<br>    0.4235082247366586<br>  ],<br>  \\\"params\\\": {<br>    \\\"learning_rate\\\": 0.0011776265316570207<br>  }<br>}\",\"{<br>  \\\"number\\\": 41,<br>  \\\"values\\\": [<br>    0.026396073829949854,<br>    0.7294521208392316<br>  ],<br>  \\\"params\\\": {<br>    \\\"learning_rate\\\": 0.026396073829949854<br>  }<br>}\",\"{<br>  \\\"number\\\": 42,<br>  \\\"values\\\": [<br>    0.19287363423507076,<br>    0.7259236143539816<br>  ],<br>  \\\"params\\\": {<br>    \\\"learning_rate\\\": 0.19287363423507076<br>  }<br>}\",\"{<br>  \\\"number\\\": 44,<br>  \\\"values\\\": [<br>    0.06950786503628438,<br>    0.7323174432397132<br>  ],<br>  \\\"params\\\": {<br>    \\\"learning_rate\\\": 0.06950786503628438<br>  }<br>}\",\"{<br>  \\\"number\\\": 45,<br>  \\\"values\\\": [<br>    0.0013182070434705978,<br>    0.4235082247366586<br>  ],<br>  \\\"params\\\": {<br>    \\\"learning_rate\\\": 0.0013182070434705978<br>  }<br>}\",\"{<br>  \\\"number\\\": 46,<br>  \\\"values\\\": [<br>    0.0001689170415983065,<br>    0.4235082247366586<br>  ],<br>  \\\"params\\\": {<br>    \\\"learning_rate\\\": 0.0001689170415983065<br>  }<br>}\",\"{<br>  \\\"number\\\": 47,<br>  \\\"values\\\": [<br>    0.0021018530965500105,<br>    0.4235082247366586<br>  ],<br>  \\\"params\\\": {<br>    \\\"learning_rate\\\": 0.0021018530965500105<br>  }<br>}\",\"{<br>  \\\"number\\\": 48,<br>  \\\"values\\\": [<br>    0.00019287163151974652,<br>    0.4235082247366586<br>  ],<br>  \\\"params\\\": {<br>    \\\"learning_rate\\\": 0.00019287163151974652<br>  }<br>}\",\"{<br>  \\\"number\\\": 49,<br>  \\\"values\\\": [<br>    0.1714187324525616,<br>    0.7274564562489783<br>  ],<br>  \\\"params\\\": {<br>    \\\"learning_rate\\\": 0.1714187324525616<br>  }<br>}\",\"{<br>  \\\"number\\\": 50,<br>  \\\"values\\\": [<br>    0.028218912249716382,<br>    0.7285799931977797<br>  ],<br>  \\\"params\\\": {<br>    \\\"learning_rate\\\": 0.028218912249716382<br>  }<br>}\",\"{<br>  \\\"number\\\": 51,<br>  \\\"values\\\": [<br>    0.00037469787058577405,<br>    0.4235082247366586<br>  ],<br>  \\\"params\\\": {<br>    \\\"learning_rate\\\": 0.00037469787058577405<br>  }<br>}\",\"{<br>  \\\"number\\\": 52,<br>  \\\"values\\\": [<br>    0.016517619384449466,<br>    0.7201909680929806<br>  ],<br>  \\\"params\\\": {<br>    \\\"learning_rate\\\": 0.016517619384449466<br>  }<br>}\",\"{<br>  \\\"number\\\": 54,<br>  \\\"values\\\": [<br>    0.01075645544167512,<br>    0.6983807551597365<br>  ],<br>  \\\"params\\\": {<br>    \\\"learning_rate\\\": 0.01075645544167512<br>  }<br>}\",\"{<br>  \\\"number\\\": 55,<br>  \\\"values\\\": [<br>    0.0013300668001608705,<br>    0.4235082247366586<br>  ],<br>  \\\"params\\\": {<br>    \\\"learning_rate\\\": 0.0013300668001608705<br>  }<br>}\",\"{<br>  \\\"number\\\": 56,<br>  \\\"values\\\": [<br>    0.009234620597188305,<br>    0.6815820697212852<br>  ],<br>  \\\"params\\\": {<br>    \\\"learning_rate\\\": 0.009234620597188305<br>  }<br>}\",\"{<br>  \\\"number\\\": 57,<br>  \\\"values\\\": [<br>    0.030789337644333142,<br>    0.7297299658845593<br>  ],<br>  \\\"params\\\": {<br>    \\\"learning_rate\\\": 0.030789337644333142<br>  }<br>}\",\"{<br>  \\\"number\\\": 58,<br>  \\\"values\\\": [<br>    0.0005196761744466342,<br>    0.4235082247366586<br>  ],<br>  \\\"params\\\": {<br>    \\\"learning_rate\\\": 0.0005196761744466342<br>  }<br>}\",\"{<br>  \\\"number\\\": 60,<br>  \\\"values\\\": [<br>    0.023714036796718886,<br>    0.7259369472766212<br>  ],<br>  \\\"params\\\": {<br>    \\\"learning_rate\\\": 0.023714036796718886<br>  }<br>}\",\"{<br>  \\\"number\\\": 61,<br>  \\\"values\\\": [<br>    0.042951701452191404,<br>    0.7302474855948291<br>  ],<br>  \\\"params\\\": {<br>    \\\"learning_rate\\\": 0.042951701452191404<br>  }<br>}\",\"{<br>  \\\"number\\\": 63,<br>  \\\"values\\\": [<br>    0.0031088442966744653,<br>    0.4235082247366586<br>  ],<br>  \\\"params\\\": {<br>    \\\"learning_rate\\\": 0.0031088442966744653<br>  }<br>}\",\"{<br>  \\\"number\\\": 64,<br>  \\\"values\\\": [<br>    0.0004014235312843208,<br>    0.4235082247366586<br>  ],<br>  \\\"params\\\": {<br>    \\\"learning_rate\\\": 0.0004014235312843208<br>  }<br>}\",\"{<br>  \\\"number\\\": 65,<br>  \\\"values\\\": [<br>    0.005578035829630357,<br>    0.6170142717941252<br>  ],<br>  \\\"params\\\": {<br>    \\\"learning_rate\\\": 0.005578035829630357<br>  }<br>}\",\"{<br>  \\\"number\\\": 66,<br>  \\\"values\\\": [<br>    0.0001592544431367279,<br>    0.4235082247366586<br>  ],<br>  \\\"params\\\": {<br>    \\\"learning_rate\\\": 0.0001592544431367279<br>  }<br>}\",\"{<br>  \\\"number\\\": 67,<br>  \\\"values\\\": [<br>    0.0807232375319011,<br>    0.7309408871913655<br>  ],<br>  \\\"params\\\": {<br>    \\\"learning_rate\\\": 0.0807232375319011<br>  }<br>}\",\"{<br>  \\\"number\\\": 69,<br>  \\\"values\\\": [<br>    0.04159311590472715,<br>    0.7313584050417112<br>  ],<br>  \\\"params\\\": {<br>    \\\"learning_rate\\\": 0.04159311590472715<br>  }<br>}\",\"{<br>  \\\"number\\\": 70,<br>  \\\"values\\\": [<br>    0.0007829813261500128,<br>    0.4235082247366586<br>  ],<br>  \\\"params\\\": {<br>    \\\"learning_rate\\\": 0.0007829813261500128<br>  }<br>}\",\"{<br>  \\\"number\\\": 71,<br>  \\\"values\\\": [<br>    0.0005327862205087224,<br>    0.4235082247366586<br>  ],<br>  \\\"params\\\": {<br>    \\\"learning_rate\\\": 0.0005327862205087224<br>  }<br>}\",\"{<br>  \\\"number\\\": 72,<br>  \\\"values\\\": [<br>    0.011004042996587247,<br>    0.7013991059388606<br>  ],<br>  \\\"params\\\": {<br>    \\\"learning_rate\\\": 0.011004042996587247<br>  }<br>}\",\"{<br>  \\\"number\\\": 73,<br>  \\\"values\\\": [<br>    0.012096495400321669,<br>    0.7112448137800941<br>  ],<br>  \\\"params\\\": {<br>    \\\"learning_rate\\\": 0.012096495400321669<br>  }<br>}\",\"{<br>  \\\"number\\\": 74,<br>  \\\"values\\\": [<br>    0.07830377287729806,<br>    0.7306338561389435<br>  ],<br>  \\\"params\\\": {<br>    \\\"learning_rate\\\": 0.07830377287729806<br>  }<br>}\",\"{<br>  \\\"number\\\": 75,<br>  \\\"values\\\": [<br>    0.0020289312962674306,<br>    0.4235082247366586<br>  ],<br>  \\\"params\\\": {<br>    \\\"learning_rate\\\": 0.0020289312962674306<br>  }<br>}\",\"{<br>  \\\"number\\\": 76,<br>  \\\"values\\\": [<br>    0.007003614272196497,<br>    0.653715322076985<br>  ],<br>  \\\"params\\\": {<br>    \\\"learning_rate\\\": 0.007003614272196497<br>  }<br>}\",\"{<br>  \\\"number\\\": 77,<br>  \\\"values\\\": [<br>    0.026811861365256547,<br>    0.7281393119846103<br>  ],<br>  \\\"params\\\": {<br>    \\\"learning_rate\\\": 0.026811861365256547<br>  }<br>}\",\"{<br>  \\\"number\\\": 78,<br>  \\\"values\\\": [<br>    0.0014534431094221844,<br>    0.4235082247366586<br>  ],<br>  \\\"params\\\": {<br>    \\\"learning_rate\\\": 0.0014534431094221844<br>  }<br>}\",\"{<br>  \\\"number\\\": 79,<br>  \\\"values\\\": [<br>    0.07184266906020101,<br>    0.7318954915835494<br>  ],<br>  \\\"params\\\": {<br>    \\\"learning_rate\\\": 0.07184266906020101<br>  }<br>}\",\"{<br>  \\\"number\\\": 80,<br>  \\\"values\\\": [<br>    0.20138173825410338,<br>    0.7278080193179831<br>  ],<br>  \\\"params\\\": {<br>    \\\"learning_rate\\\": 0.20138173825410338<br>  }<br>}\",\"{<br>  \\\"number\\\": 81,<br>  \\\"values\\\": [<br>    0.01956656266919498,<br>    0.7259187426802697<br>  ],<br>  \\\"params\\\": {<br>    \\\"learning_rate\\\": 0.01956656266919498<br>  }<br>}\",\"{<br>  \\\"number\\\": 82,<br>  \\\"values\\\": [<br>    0.005251844487229045,<br>    0.6024609734794308<br>  ],<br>  \\\"params\\\": {<br>    \\\"learning_rate\\\": 0.005251844487229045<br>  }<br>}\",\"{<br>  \\\"number\\\": 83,<br>  \\\"values\\\": [<br>    0.0007975269741962664,<br>    0.4235082247366586<br>  ],<br>  \\\"params\\\": {<br>    \\\"learning_rate\\\": 0.0007975269741962664<br>  }<br>}\",\"{<br>  \\\"number\\\": 84,<br>  \\\"values\\\": [<br>    0.0005538907493946157,<br>    0.4235082247366586<br>  ],<br>  \\\"params\\\": {<br>    \\\"learning_rate\\\": 0.0005538907493946157<br>  }<br>}\",\"{<br>  \\\"number\\\": 85,<br>  \\\"values\\\": [<br>    0.0835122016432078,<br>    0.7321890615843162<br>  ],<br>  \\\"params\\\": {<br>    \\\"learning_rate\\\": 0.0835122016432078<br>  }<br>}\",\"{<br>  \\\"number\\\": 86,<br>  \\\"values\\\": [<br>    0.0006260697703589752,<br>    0.4235082247366586<br>  ],<br>  \\\"params\\\": {<br>    \\\"learning_rate\\\": 0.0006260697703589752<br>  }<br>}\",\"{<br>  \\\"number\\\": 88,<br>  \\\"values\\\": [<br>    0.004544231657855253,<br>    0.5343888745179519<br>  ],<br>  \\\"params\\\": {<br>    \\\"learning_rate\\\": 0.004544231657855253<br>  }<br>}\",\"{<br>  \\\"number\\\": 89,<br>  \\\"values\\\": [<br>    0.00012209259631005412,<br>    0.4235082247366586<br>  ],<br>  \\\"params\\\": {<br>    \\\"learning_rate\\\": 0.00012209259631005412<br>  }<br>}\",\"{<br>  \\\"number\\\": 90,<br>  \\\"values\\\": [<br>    0.001267549290534437,<br>    0.4235082247366586<br>  ],<br>  \\\"params\\\": {<br>    \\\"learning_rate\\\": 0.001267549290534437<br>  }<br>}\",\"{<br>  \\\"number\\\": 91,<br>  \\\"values\\\": [<br>    0.004363976487357013,<br>    0.5087369170754972<br>  ],<br>  \\\"params\\\": {<br>    \\\"learning_rate\\\": 0.004363976487357013<br>  }<br>}\",\"{<br>  \\\"number\\\": 92,<br>  \\\"values\\\": [<br>    0.017485462659550834,<br>    0.722280452051524<br>  ],<br>  \\\"params\\\": {<br>    \\\"learning_rate\\\": 0.017485462659550834<br>  }<br>}\",\"{<br>  \\\"number\\\": 93,<br>  \\\"values\\\": [<br>    0.44828056389247145,<br>    0.7116760995541701<br>  ],<br>  \\\"params\\\": {<br>    \\\"learning_rate\\\": 0.44828056389247145<br>  }<br>}\",\"{<br>  \\\"number\\\": 94,<br>  \\\"values\\\": [<br>    0.08277845673611592,<br>    0.7314187112500111<br>  ],<br>  \\\"params\\\": {<br>    \\\"learning_rate\\\": 0.08277845673611592<br>  }<br>}\",\"{<br>  \\\"number\\\": 95,<br>  \\\"values\\\": [<br>    0.0003291311959625348,<br>    0.4235082247366586<br>  ],<br>  \\\"params\\\": {<br>    \\\"learning_rate\\\": 0.0003291311959625348<br>  }<br>}\",\"{<br>  \\\"number\\\": 96,<br>  \\\"values\\\": [<br>    0.00022868118733042252,<br>    0.4235082247366586<br>  ],<br>  \\\"params\\\": {<br>    \\\"learning_rate\\\": 0.00022868118733042252<br>  }<br>}\",\"{<br>  \\\"number\\\": 97,<br>  \\\"values\\\": [<br>    0.18286145837300968,<br>    0.7262427071035374<br>  ],<br>  \\\"params\\\": {<br>    \\\"learning_rate\\\": 0.18286145837300968<br>  }<br>}\",\"{<br>  \\\"number\\\": 98,<br>  \\\"values\\\": [<br>    0.06941692989749879,<br>    0.7295385067809874<br>  ],<br>  \\\"params\\\": {<br>    \\\"learning_rate\\\": 0.06941692989749879<br>  }<br>}\",\"{<br>  \\\"number\\\": 99,<br>  \\\"values\\\": [<br>    0.19305171220017311,<br>    0.7262367052555226<br>  ],<br>  \\\"params\\\": {<br>    \\\"learning_rate\\\": 0.19305171220017311<br>  }<br>}\"],\"x\":[0.018276625572235056,0.012281350875017864,0.3179931543219117,0.010097499163932589,0.0010284892903758126,0.0008073623310050534,0.009446892389275133,0.042129982546996285,0.006234336282154794,0.0014213907266344855,0.0074818711669891215,0.0012664149179400209,0.01538041330688695,0.018396986660930648,0.0030415201353781317,0.34679130964813293,0.0016185106184141472,0.09977031400739048,0.00015692458115144144,0.0014637099340279343,0.237542460048024,0.039216586476540555,0.04413193652148863,0.0006332697167843045,0.036619413830782564,0.03610204856200786,0.0021961450728918896,0.012193586140043794,0.00017918412416240907,0.014133500358080071,0.04852382290869409,0.040201201662143485,0.0011776265316570207,0.026396073829949854,0.19287363423507076,0.06950786503628438,0.0013182070434705978,0.0001689170415983065,0.0021018530965500105,0.00019287163151974652,0.1714187324525616,0.028218912249716382,0.00037469787058577405,0.016517619384449466,0.01075645544167512,0.0013300668001608705,0.009234620597188305,0.030789337644333142,0.0005196761744466342,0.023714036796718886,0.042951701452191404,0.0031088442966744653,0.0004014235312843208,0.005578035829630357,0.0001592544431367279,0.0807232375319011,0.04159311590472715,0.0007829813261500128,0.0005327862205087224,0.011004042996587247,0.012096495400321669,0.07830377287729806,0.0020289312962674306,0.007003614272196497,0.026811861365256547,0.0014534431094221844,0.07184266906020101,0.20138173825410338,0.01956656266919498,0.005251844487229045,0.0007975269741962664,0.0005538907493946157,0.0835122016432078,0.0006260697703589752,0.004544231657855253,0.00012209259631005412,0.001267549290534437,0.004363976487357013,0.017485462659550834,0.44828056389247145,0.08277845673611592,0.0003291311959625348,0.00022868118733042252,0.18286145837300968,0.06941692989749879,0.19305171220017311],\"y\":[0.7229728382357858,0.713129498994182,0.7181352358216049,0.689595604293249,0.4235082247366586,0.4235082247366586,0.6841554205738356,0.7318679125094985,0.6372047388051083,0.4235082247366586,0.6643619268828908,0.4235082247366586,0.7173796023919852,0.7227368738811438,0.4235082247366586,0.7165372792236238,0.4235082247366586,0.7302018596960369,0.4235082247366586,0.4235082247366586,0.7216310177763523,0.7301579035907364,0.7292176187667853,0.4235082247366586,0.7302184406320554,0.7304328067409969,0.4235082247366586,0.7120523440790167,0.4235082247366586,0.7167142851538554,0.7310333204595433,0.7306614283099379,0.4235082247366586,0.7294521208392316,0.7259236143539816,0.7323174432397132,0.4235082247366586,0.4235082247366586,0.4235082247366586,0.4235082247366586,0.7274564562489783,0.7285799931977797,0.4235082247366586,0.7201909680929806,0.6983807551597365,0.4235082247366586,0.6815820697212852,0.7297299658845593,0.4235082247366586,0.7259369472766212,0.7302474855948291,0.4235082247366586,0.4235082247366586,0.6170142717941252,0.4235082247366586,0.7309408871913655,0.7313584050417112,0.4235082247366586,0.4235082247366586,0.7013991059388606,0.7112448137800941,0.7306338561389435,0.4235082247366586,0.653715322076985,0.7281393119846103,0.4235082247366586,0.7318954915835494,0.7278080193179831,0.7259187426802697,0.6024609734794308,0.4235082247366586,0.4235082247366586,0.7321890615843162,0.4235082247366586,0.5343888745179519,0.4235082247366586,0.4235082247366586,0.5087369170754972,0.722280452051524,0.7116760995541701,0.7314187112500111,0.4235082247366586,0.4235082247366586,0.7262427071035374,0.7295385067809874,0.7262367052555226],\"type\":\"scatter\"},{\"hovertemplate\":\"%{text}<extra>Best Trial</extra>\",\"marker\":{\"color\":[3,12,14,24,27,29,30,35,43,53,59,62,68,87],\"colorbar\":{\"title\":{\"text\":\"Best Trial\"},\"x\":1.1,\"xpad\":40},\"colorscale\":[[0.0,\"rgb(255,245,240)\"],[0.125,\"rgb(254,224,210)\"],[0.25,\"rgb(252,187,161)\"],[0.375,\"rgb(252,146,114)\"],[0.5,\"rgb(251,106,74)\"],[0.625,\"rgb(239,59,44)\"],[0.75,\"rgb(203,24,29)\"],[0.875,\"rgb(165,15,21)\"],[1.0,\"rgb(103,0,13)\"]],\"line\":{\"color\":\"Grey\",\"width\":0.5}},\"mode\":\"markers\",\"showlegend\":false,\"text\":[\"{<br>  \\\"number\\\": 3,<br>  \\\"values\\\": [<br>    0.3317048028124761,<br>    0.7182462105095208<br>  ],<br>  \\\"params\\\": {<br>    \\\"learning_rate\\\": 0.3317048028124761<br>  }<br>}\",\"{<br>  \\\"number\\\": 12,<br>  \\\"values\\\": [<br>    0.1148404311838305,<br>    0.7321994102159477<br>  ],<br>  \\\"params\\\": {<br>    \\\"learning_rate\\\": 0.1148404311838305<br>  }<br>}\",\"{<br>  \\\"number\\\": 14,<br>  \\\"values\\\": [<br>    0.05307222954482612,<br>    0.7336139976808754<br>  ],<br>  \\\"params\\\": {<br>    \\\"learning_rate\\\": 0.05307222954482612<br>  }<br>}\",\"{<br>  \\\"number\\\": 24,<br>  \\\"values\\\": [<br>    0.24410089728809634,<br>    0.7254004209977449<br>  ],<br>  \\\"params\\\": {<br>    \\\"learning_rate\\\": 0.24410089728809634<br>  }<br>}\",\"{<br>  \\\"number\\\": 27,<br>  \\\"values\\\": [<br>    0.12844461011742844,<br>    0.7321027124572879<br>  ],<br>  \\\"params\\\": {<br>    \\\"learning_rate\\\": 0.12844461011742844<br>  }<br>}\",\"{<br>  \\\"number\\\": 29,<br>  \\\"values\\\": [<br>    0.4498243389528799,<br>    0.7180387023655493<br>  ],<br>  \\\"params\\\": {<br>    \\\"learning_rate\\\": 0.4498243389528799<br>  }<br>}\",\"{<br>  \\\"number\\\": 30,<br>  \\\"values\\\": [<br>    0.28825962026286955,<br>    0.7220137309076756<br>  ],<br>  \\\"params\\\": {<br>    \\\"learning_rate\\\": 0.28825962026286955<br>  }<br>}\",\"{<br>  \\\"number\\\": 35,<br>  \\\"values\\\": [<br>    0.19630258423899116,<br>    0.7290264275839735<br>  ],<br>  \\\"params\\\": {<br>    \\\"learning_rate\\\": 0.19630258423899116<br>  }<br>}\",\"{<br>  \\\"number\\\": 43,<br>  \\\"values\\\": [<br>    0.07377836783758575,<br>    0.7335097300380633<br>  ],<br>  \\\"params\\\": {<br>    \\\"learning_rate\\\": 0.07377836783758575<br>  }<br>}\",\"{<br>  \\\"number\\\": 53,<br>  \\\"values\\\": [<br>    0.4796291220454122,<br>    0.7120415606860494<br>  ],<br>  \\\"params\\\": {<br>    \\\"learning_rate\\\": 0.4796291220454122<br>  }<br>}\",\"{<br>  \\\"number\\\": 59,<br>  \\\"values\\\": [<br>    0.21454254531144426,<br>    0.7279770709345865<br>  ],<br>  \\\"params\\\": {<br>    \\\"learning_rate\\\": 0.21454254531144426<br>  }<br>}\",\"{<br>  \\\"number\\\": 62,<br>  \\\"values\\\": [<br>    0.30521179006815724,<br>    0.7193743184471776<br>  ],<br>  \\\"params\\\": {<br>    \\\"learning_rate\\\": 0.30521179006815724<br>  }<br>}\",\"{<br>  \\\"number\\\": 68,<br>  \\\"values\\\": [<br>    0.16799292006264588,<br>    0.7309842390105754<br>  ],<br>  \\\"params\\\": {<br>    \\\"learning_rate\\\": 0.16799292006264588<br>  }<br>}\",\"{<br>  \\\"number\\\": 87,<br>  \\\"values\\\": [<br>    0.11742527067046299,<br>    0.7321944783582703<br>  ],<br>  \\\"params\\\": {<br>    \\\"learning_rate\\\": 0.11742527067046299<br>  }<br>}\"],\"x\":[0.3317048028124761,0.1148404311838305,0.05307222954482612,0.24410089728809634,0.12844461011742844,0.4498243389528799,0.28825962026286955,0.19630258423899116,0.07377836783758575,0.4796291220454122,0.21454254531144426,0.30521179006815724,0.16799292006264588,0.11742527067046299],\"y\":[0.7182462105095208,0.7321994102159477,0.7336139976808754,0.7254004209977449,0.7321027124572879,0.7180387023655493,0.7220137309076756,0.7290264275839735,0.7335097300380633,0.7120415606860494,0.7279770709345865,0.7193743184471776,0.7309842390105754,0.7321944783582703],\"type\":\"scatter\"}],                        {\"title\":{\"text\":\"Pareto-front Plot\"},\"xaxis\":{\"title\":{\"text\":\"learning_rate\"}},\"yaxis\":{\"title\":{\"text\":\"f1\"}},\"template\":{\"data\":{\"histogram2dcontour\":[{\"type\":\"histogram2dcontour\",\"colorbar\":{\"outlinewidth\":0,\"ticks\":\"\"},\"colorscale\":[[0.0,\"#0d0887\"],[0.1111111111111111,\"#46039f\"],[0.2222222222222222,\"#7201a8\"],[0.3333333333333333,\"#9c179e\"],[0.4444444444444444,\"#bd3786\"],[0.5555555555555556,\"#d8576b\"],[0.6666666666666666,\"#ed7953\"],[0.7777777777777778,\"#fb9f3a\"],[0.8888888888888888,\"#fdca26\"],[1.0,\"#f0f921\"]]}],\"choropleth\":[{\"type\":\"choropleth\",\"colorbar\":{\"outlinewidth\":0,\"ticks\":\"\"}}],\"histogram2d\":[{\"type\":\"histogram2d\",\"colorbar\":{\"outlinewidth\":0,\"ticks\":\"\"},\"colorscale\":[[0.0,\"#0d0887\"],[0.1111111111111111,\"#46039f\"],[0.2222222222222222,\"#7201a8\"],[0.3333333333333333,\"#9c179e\"],[0.4444444444444444,\"#bd3786\"],[0.5555555555555556,\"#d8576b\"],[0.6666666666666666,\"#ed7953\"],[0.7777777777777778,\"#fb9f3a\"],[0.8888888888888888,\"#fdca26\"],[1.0,\"#f0f921\"]]}],\"heatmap\":[{\"type\":\"heatmap\",\"colorbar\":{\"outlinewidth\":0,\"ticks\":\"\"},\"colorscale\":[[0.0,\"#0d0887\"],[0.1111111111111111,\"#46039f\"],[0.2222222222222222,\"#7201a8\"],[0.3333333333333333,\"#9c179e\"],[0.4444444444444444,\"#bd3786\"],[0.5555555555555556,\"#d8576b\"],[0.6666666666666666,\"#ed7953\"],[0.7777777777777778,\"#fb9f3a\"],[0.8888888888888888,\"#fdca26\"],[1.0,\"#f0f921\"]]}],\"heatmapgl\":[{\"type\":\"heatmapgl\",\"colorbar\":{\"outlinewidth\":0,\"ticks\":\"\"},\"colorscale\":[[0.0,\"#0d0887\"],[0.1111111111111111,\"#46039f\"],[0.2222222222222222,\"#7201a8\"],[0.3333333333333333,\"#9c179e\"],[0.4444444444444444,\"#bd3786\"],[0.5555555555555556,\"#d8576b\"],[0.6666666666666666,\"#ed7953\"],[0.7777777777777778,\"#fb9f3a\"],[0.8888888888888888,\"#fdca26\"],[1.0,\"#f0f921\"]]}],\"contourcarpet\":[{\"type\":\"contourcarpet\",\"colorbar\":{\"outlinewidth\":0,\"ticks\":\"\"}}],\"contour\":[{\"type\":\"contour\",\"colorbar\":{\"outlinewidth\":0,\"ticks\":\"\"},\"colorscale\":[[0.0,\"#0d0887\"],[0.1111111111111111,\"#46039f\"],[0.2222222222222222,\"#7201a8\"],[0.3333333333333333,\"#9c179e\"],[0.4444444444444444,\"#bd3786\"],[0.5555555555555556,\"#d8576b\"],[0.6666666666666666,\"#ed7953\"],[0.7777777777777778,\"#fb9f3a\"],[0.8888888888888888,\"#fdca26\"],[1.0,\"#f0f921\"]]}],\"surface\":[{\"type\":\"surface\",\"colorbar\":{\"outlinewidth\":0,\"ticks\":\"\"},\"colorscale\":[[0.0,\"#0d0887\"],[0.1111111111111111,\"#46039f\"],[0.2222222222222222,\"#7201a8\"],[0.3333333333333333,\"#9c179e\"],[0.4444444444444444,\"#bd3786\"],[0.5555555555555556,\"#d8576b\"],[0.6666666666666666,\"#ed7953\"],[0.7777777777777778,\"#fb9f3a\"],[0.8888888888888888,\"#fdca26\"],[1.0,\"#f0f921\"]]}],\"mesh3d\":[{\"type\":\"mesh3d\",\"colorbar\":{\"outlinewidth\":0,\"ticks\":\"\"}}],\"scatter\":[{\"fillpattern\":{\"fillmode\":\"overlay\",\"size\":10,\"solidity\":0.2},\"type\":\"scatter\"}],\"parcoords\":[{\"type\":\"parcoords\",\"line\":{\"colorbar\":{\"outlinewidth\":0,\"ticks\":\"\"}}}],\"scatterpolargl\":[{\"type\":\"scatterpolargl\",\"marker\":{\"colorbar\":{\"outlinewidth\":0,\"ticks\":\"\"}}}],\"bar\":[{\"error_x\":{\"color\":\"#2a3f5f\"},\"error_y\":{\"color\":\"#2a3f5f\"},\"marker\":{\"line\":{\"color\":\"#E5ECF6\",\"width\":0.5},\"pattern\":{\"fillmode\":\"overlay\",\"size\":10,\"solidity\":0.2}},\"type\":\"bar\"}],\"scattergeo\":[{\"type\":\"scattergeo\",\"marker\":{\"colorbar\":{\"outlinewidth\":0,\"ticks\":\"\"}}}],\"scatterpolar\":[{\"type\":\"scatterpolar\",\"marker\":{\"colorbar\":{\"outlinewidth\":0,\"ticks\":\"\"}}}],\"histogram\":[{\"marker\":{\"pattern\":{\"fillmode\":\"overlay\",\"size\":10,\"solidity\":0.2}},\"type\":\"histogram\"}],\"scattergl\":[{\"type\":\"scattergl\",\"marker\":{\"colorbar\":{\"outlinewidth\":0,\"ticks\":\"\"}}}],\"scatter3d\":[{\"type\":\"scatter3d\",\"line\":{\"colorbar\":{\"outlinewidth\":0,\"ticks\":\"\"}},\"marker\":{\"colorbar\":{\"outlinewidth\":0,\"ticks\":\"\"}}}],\"scattermapbox\":[{\"type\":\"scattermapbox\",\"marker\":{\"colorbar\":{\"outlinewidth\":0,\"ticks\":\"\"}}}],\"scatterternary\":[{\"type\":\"scatterternary\",\"marker\":{\"colorbar\":{\"outlinewidth\":0,\"ticks\":\"\"}}}],\"scattercarpet\":[{\"type\":\"scattercarpet\",\"marker\":{\"colorbar\":{\"outlinewidth\":0,\"ticks\":\"\"}}}],\"carpet\":[{\"aaxis\":{\"endlinecolor\":\"#2a3f5f\",\"gridcolor\":\"white\",\"linecolor\":\"white\",\"minorgridcolor\":\"white\",\"startlinecolor\":\"#2a3f5f\"},\"baxis\":{\"endlinecolor\":\"#2a3f5f\",\"gridcolor\":\"white\",\"linecolor\":\"white\",\"minorgridcolor\":\"white\",\"startlinecolor\":\"#2a3f5f\"},\"type\":\"carpet\"}],\"table\":[{\"cells\":{\"fill\":{\"color\":\"#EBF0F8\"},\"line\":{\"color\":\"white\"}},\"header\":{\"fill\":{\"color\":\"#C8D4E3\"},\"line\":{\"color\":\"white\"}},\"type\":\"table\"}],\"barpolar\":[{\"marker\":{\"line\":{\"color\":\"#E5ECF6\",\"width\":0.5},\"pattern\":{\"fillmode\":\"overlay\",\"size\":10,\"solidity\":0.2}},\"type\":\"barpolar\"}],\"pie\":[{\"automargin\":true,\"type\":\"pie\"}]},\"layout\":{\"autotypenumbers\":\"strict\",\"colorway\":[\"#636efa\",\"#EF553B\",\"#00cc96\",\"#ab63fa\",\"#FFA15A\",\"#19d3f3\",\"#FF6692\",\"#B6E880\",\"#FF97FF\",\"#FECB52\"],\"font\":{\"color\":\"#2a3f5f\"},\"hovermode\":\"closest\",\"hoverlabel\":{\"align\":\"left\"},\"paper_bgcolor\":\"white\",\"plot_bgcolor\":\"#E5ECF6\",\"polar\":{\"bgcolor\":\"#E5ECF6\",\"angularaxis\":{\"gridcolor\":\"white\",\"linecolor\":\"white\",\"ticks\":\"\"},\"radialaxis\":{\"gridcolor\":\"white\",\"linecolor\":\"white\",\"ticks\":\"\"}},\"ternary\":{\"bgcolor\":\"#E5ECF6\",\"aaxis\":{\"gridcolor\":\"white\",\"linecolor\":\"white\",\"ticks\":\"\"},\"baxis\":{\"gridcolor\":\"white\",\"linecolor\":\"white\",\"ticks\":\"\"},\"caxis\":{\"gridcolor\":\"white\",\"linecolor\":\"white\",\"ticks\":\"\"}},\"coloraxis\":{\"colorbar\":{\"outlinewidth\":0,\"ticks\":\"\"}},\"colorscale\":{\"sequential\":[[0.0,\"#0d0887\"],[0.1111111111111111,\"#46039f\"],[0.2222222222222222,\"#7201a8\"],[0.3333333333333333,\"#9c179e\"],[0.4444444444444444,\"#bd3786\"],[0.5555555555555556,\"#d8576b\"],[0.6666666666666666,\"#ed7953\"],[0.7777777777777778,\"#fb9f3a\"],[0.8888888888888888,\"#fdca26\"],[1.0,\"#f0f921\"]],\"sequentialminus\":[[0.0,\"#0d0887\"],[0.1111111111111111,\"#46039f\"],[0.2222222222222222,\"#7201a8\"],[0.3333333333333333,\"#9c179e\"],[0.4444444444444444,\"#bd3786\"],[0.5555555555555556,\"#d8576b\"],[0.6666666666666666,\"#ed7953\"],[0.7777777777777778,\"#fb9f3a\"],[0.8888888888888888,\"#fdca26\"],[1.0,\"#f0f921\"]],\"diverging\":[[0,\"#8e0152\"],[0.1,\"#c51b7d\"],[0.2,\"#de77ae\"],[0.3,\"#f1b6da\"],[0.4,\"#fde0ef\"],[0.5,\"#f7f7f7\"],[0.6,\"#e6f5d0\"],[0.7,\"#b8e186\"],[0.8,\"#7fbc41\"],[0.9,\"#4d9221\"],[1,\"#276419\"]]},\"xaxis\":{\"gridcolor\":\"white\",\"linecolor\":\"white\",\"ticks\":\"\",\"title\":{\"standoff\":15},\"zerolinecolor\":\"white\",\"automargin\":true,\"zerolinewidth\":2},\"yaxis\":{\"gridcolor\":\"white\",\"linecolor\":\"white\",\"ticks\":\"\",\"title\":{\"standoff\":15},\"zerolinecolor\":\"white\",\"automargin\":true,\"zerolinewidth\":2},\"scene\":{\"xaxis\":{\"backgroundcolor\":\"#E5ECF6\",\"gridcolor\":\"white\",\"linecolor\":\"white\",\"showbackground\":true,\"ticks\":\"\",\"zerolinecolor\":\"white\",\"gridwidth\":2},\"yaxis\":{\"backgroundcolor\":\"#E5ECF6\",\"gridcolor\":\"white\",\"linecolor\":\"white\",\"showbackground\":true,\"ticks\":\"\",\"zerolinecolor\":\"white\",\"gridwidth\":2},\"zaxis\":{\"backgroundcolor\":\"#E5ECF6\",\"gridcolor\":\"white\",\"linecolor\":\"white\",\"showbackground\":true,\"ticks\":\"\",\"zerolinecolor\":\"white\",\"gridwidth\":2}},\"shapedefaults\":{\"line\":{\"color\":\"#2a3f5f\"}},\"annotationdefaults\":{\"arrowcolor\":\"#2a3f5f\",\"arrowhead\":0,\"arrowwidth\":1},\"geo\":{\"bgcolor\":\"white\",\"landcolor\":\"#E5ECF6\",\"subunitcolor\":\"white\",\"showland\":true,\"showlakes\":true,\"lakecolor\":\"white\"},\"title\":{\"x\":0.05},\"mapbox\":{\"style\":\"light\"}}}},                        {\"responsive\": true}                    ).then(function(){\n",
       "                            \n",
       "var gd = document.getElementById('f5c97c6e-db5a-4ff5-9b09-b323a292b954');\n",
       "var x = new MutationObserver(function (mutations, observer) {{\n",
       "        var display = window.getComputedStyle(gd).display;\n",
       "        if (!display || display === 'none') {{\n",
       "            console.log([gd, 'removed!']);\n",
       "            Plotly.purge(gd);\n",
       "            observer.disconnect();\n",
       "        }}\n",
       "}});\n",
       "\n",
       "// Listen for the removal of the full notebook cells\n",
       "var notebookContainer = gd.closest('#notebook-container');\n",
       "if (notebookContainer) {{\n",
       "    x.observe(notebookContainer, {childList: true});\n",
       "}}\n",
       "\n",
       "// Listen for the clearing of the current output cell\n",
       "var outputEl = gd.closest('.output');\n",
       "if (outputEl) {{\n",
       "    x.observe(outputEl, {childList: true});\n",
       "}}\n",
       "\n",
       "                        })                };                });            </script>        </div>"
      ]
     },
     "metadata": {},
     "output_type": "display_data"
    }
   ],
   "source": [
    "fig = optuna.visualization.plot_pareto_front(study, target_names=[\"learning_rate\", \"f1\"])\n",
    "fig.write_image(file=\"figures/ch5_pareto.png\", format=\"png\", scale=6)\n",
    "fig.show()"
   ]
  }
 ],
 "metadata": {
  "kernelspec": {
   "display_name": "Python 3",
   "language": "python",
   "name": "python3"
  },
  "language_info": {
   "codemirror_mode": {
    "name": "ipython",
    "version": 3
   },
   "file_extension": ".py",
   "mimetype": "text/x-python",
   "name": "python",
   "nbconvert_exporter": "python",
   "pygments_lexer": "ipython3",
   "version": "3.10.11"
  }
 },
 "nbformat": 4,
 "nbformat_minor": 0
}
