{
 "cells": [
  {
   "cell_type": "code",
   "execution_count": 1,
   "metadata": {
    "ExecuteTime": {
     "end_time": "2023-04-27T12:28:07.483508Z",
     "start_time": "2023-04-27T12:28:07.139630Z"
    },
    "collapsed": true
   },
   "outputs": [],
   "source": [
    "# On affiche les graphiques dans le notebook en statique\n",
    "%matplotlib inline"
   ]
  },
  {
   "cell_type": "code",
   "execution_count": 2,
   "metadata": {},
   "outputs": [],
   "source": [
    "import numpy as np\n",
    "import logging\n",
    "import re\n",
    "import os\n",
    "import gc\n",
    "import joblib\n",
    "import lightgbm as lgb\n",
    "import optuna\n",
    "import plotly\n",
    "import kaleido\n",
    "import mlflow\n",
    "\n",
    "import pandas as pd\n",
    "from sklearn.model_selection import cross_val_score, cross_validate\n",
    "from sklearn.model_selection import StratifiedKFold\n",
    "from sklearn.metrics import confusion_matrix, make_scorer, f1_score"
   ]
  },
  {
   "cell_type": "code",
   "execution_count": 3,
   "metadata": {},
   "outputs": [],
   "source": [
    "%load_ext autoreload\n",
    "%autoreload 2"
   ]
  },
  {
   "cell_type": "code",
   "execution_count": 4,
   "metadata": {},
   "outputs": [],
   "source": [
    "from src.p7_constantes import DATA_INTERIM, DATA_BASE, MODEL_DIR\n",
    "from src.p7_constantes import LOCAL_HOST, LOCAL_PORT\n",
    "from src.p7_constantes import NUM_THREADS\n",
    "from src.p7_simple_kernel import reduce_memory, get_memory_consumed, get_available_memory, get_batch_size\n",
    "from src.p7_hyper_param import CONFIG_SEARCH\n",
    "from src.p7_hyper_param import sk_single_search, build_experiment, build_parent_run_name, get_train, get_sorted_features_by_importance\n",
    "from src.p7_evaluate import lgb_cross_evaluate\n",
    "from src.p7_util import timer, clean_ram\n",
    "from src.p7_regex import sel_var"
   ]
  },
  {
   "cell_type": "markdown",
   "metadata": {},
   "source": [
    "Démarrer"
   ]
  },
  {
   "cell_type": "code",
   "execution_count": 5,
   "metadata": {},
   "outputs": [
    {
     "name": "stdout",
     "output_type": "stream",
     "text": [
      "model_dir : models/\n",
      "model_type : lightgbm\n",
      "subdir : light_simple/\n",
      "data_dir : data/interim/\n",
      "train_filename : train.csv\n",
      "feature_importance_filename : feature_importance.csv\n",
      "n_predictors : 20\n",
      "moo_objective : False\n",
      "metric : weighted_recall\n",
      "n_trials : 40\n"
     ]
    }
   ],
   "source": [
    "config = CONFIG_SEARCH\n",
    "for k, v in config.items():\n",
    "    print(f\"{k} : {v}\")"
   ]
  },
  {
   "cell_type": "markdown",
   "metadata": {},
   "source": [
    "# Essai avec toutes les données"
   ]
  },
  {
   "cell_type": "code",
   "execution_count": 6,
   "metadata": {},
   "outputs": [],
   "source": [
    "config['metric'] = 'auc'"
   ]
  },
  {
   "cell_type": "code",
   "execution_count": 7,
   "metadata": {},
   "outputs": [
    {
     "name": "stdout",
     "output_type": "stream",
     "text": [
      "0 variables à inclure correspondant au motif 'Unnamed' : []\n",
      "0 variables à exclure correspondant au motif 'None' : []\n",
      "0 variables sélectionnées : []\n",
      "Forme de train.csv : (246008, 790)\n",
      "Forme de data : (246008, 790)\n"
     ]
    },
    {
     "data": {
      "text/html": [
       "<div>\n",
       "<style scoped>\n",
       "    .dataframe tbody tr th:only-of-type {\n",
       "        vertical-align: middle;\n",
       "    }\n",
       "\n",
       "    .dataframe tbody tr th {\n",
       "        vertical-align: top;\n",
       "    }\n",
       "\n",
       "    .dataframe thead th {\n",
       "        text-align: right;\n",
       "    }\n",
       "</style>\n",
       "<table border=\"1\" class=\"dataframe\">\n",
       "  <thead>\n",
       "    <tr style=\"text-align: right;\">\n",
       "      <th></th>\n",
       "      <th>SK_ID_CURR</th>\n",
       "      <th>CODE_GENDER</th>\n",
       "      <th>FLAG_OWN_CAR</th>\n",
       "      <th>FLAG_OWN_REALTY</th>\n",
       "      <th>CNT_CHILDREN</th>\n",
       "      <th>AMT_INCOME_TOTAL</th>\n",
       "      <th>AMT_CREDIT</th>\n",
       "      <th>AMT_ANNUITY</th>\n",
       "      <th>AMT_GOODS_PRICE</th>\n",
       "      <th>REGION_POPULATION_RELATIVE</th>\n",
       "      <th>...</th>\n",
       "      <th>CC_NAME_CONTRACT_STATUS_Sentproposal_SUM</th>\n",
       "      <th>CC_NAME_CONTRACT_STATUS_Sentproposal_VAR</th>\n",
       "      <th>CC_NAME_CONTRACT_STATUS_Signed_MEAN</th>\n",
       "      <th>CC_NAME_CONTRACT_STATUS_Signed_SUM</th>\n",
       "      <th>CC_NAME_CONTRACT_STATUS_Signed_VAR</th>\n",
       "      <th>CC_NAME_CONTRACT_STATUS_nan_MEAN</th>\n",
       "      <th>CC_NAME_CONTRACT_STATUS_nan_SUM</th>\n",
       "      <th>CC_NAME_CONTRACT_STATUS_nan_VAR</th>\n",
       "      <th>CC_COUNT</th>\n",
       "      <th>TARGET</th>\n",
       "    </tr>\n",
       "  </thead>\n",
       "  <tbody>\n",
       "    <tr>\n",
       "      <th>0</th>\n",
       "      <td>450053</td>\n",
       "      <td>0.0</td>\n",
       "      <td>0</td>\n",
       "      <td>0</td>\n",
       "      <td>0</td>\n",
       "      <td>225000.0</td>\n",
       "      <td>270000.0</td>\n",
       "      <td>13500.0</td>\n",
       "      <td>270000.0</td>\n",
       "      <td>0.018029</td>\n",
       "      <td>...</td>\n",
       "      <td>0.0</td>\n",
       "      <td>0.0</td>\n",
       "      <td>0.0</td>\n",
       "      <td>0.0</td>\n",
       "      <td>0.0</td>\n",
       "      <td>0.0</td>\n",
       "      <td>0.0</td>\n",
       "      <td>0.0</td>\n",
       "      <td>34.0</td>\n",
       "      <td>0</td>\n",
       "    </tr>\n",
       "    <tr>\n",
       "      <th>1</th>\n",
       "      <td>420697</td>\n",
       "      <td>1.0</td>\n",
       "      <td>0</td>\n",
       "      <td>0</td>\n",
       "      <td>0</td>\n",
       "      <td>99000.0</td>\n",
       "      <td>254700.0</td>\n",
       "      <td>17019.0</td>\n",
       "      <td>225000.0</td>\n",
       "      <td>0.020246</td>\n",
       "      <td>...</td>\n",
       "      <td>NaN</td>\n",
       "      <td>NaN</td>\n",
       "      <td>NaN</td>\n",
       "      <td>NaN</td>\n",
       "      <td>NaN</td>\n",
       "      <td>NaN</td>\n",
       "      <td>NaN</td>\n",
       "      <td>NaN</td>\n",
       "      <td>NaN</td>\n",
       "      <td>0</td>\n",
       "    </tr>\n",
       "    <tr>\n",
       "      <th>2</th>\n",
       "      <td>338811</td>\n",
       "      <td>0.0</td>\n",
       "      <td>0</td>\n",
       "      <td>0</td>\n",
       "      <td>0</td>\n",
       "      <td>157500.0</td>\n",
       "      <td>450000.0</td>\n",
       "      <td>22500.0</td>\n",
       "      <td>450000.0</td>\n",
       "      <td>0.022625</td>\n",
       "      <td>...</td>\n",
       "      <td>NaN</td>\n",
       "      <td>NaN</td>\n",
       "      <td>NaN</td>\n",
       "      <td>NaN</td>\n",
       "      <td>NaN</td>\n",
       "      <td>NaN</td>\n",
       "      <td>NaN</td>\n",
       "      <td>NaN</td>\n",
       "      <td>NaN</td>\n",
       "      <td>0</td>\n",
       "    </tr>\n",
       "    <tr>\n",
       "      <th>3</th>\n",
       "      <td>303494</td>\n",
       "      <td>0.0</td>\n",
       "      <td>1</td>\n",
       "      <td>1</td>\n",
       "      <td>0</td>\n",
       "      <td>225000.0</td>\n",
       "      <td>1372500.0</td>\n",
       "      <td>40131.0</td>\n",
       "      <td>1372500.0</td>\n",
       "      <td>0.011703</td>\n",
       "      <td>...</td>\n",
       "      <td>NaN</td>\n",
       "      <td>NaN</td>\n",
       "      <td>NaN</td>\n",
       "      <td>NaN</td>\n",
       "      <td>NaN</td>\n",
       "      <td>NaN</td>\n",
       "      <td>NaN</td>\n",
       "      <td>NaN</td>\n",
       "      <td>NaN</td>\n",
       "      <td>0</td>\n",
       "    </tr>\n",
       "    <tr>\n",
       "      <th>4</th>\n",
       "      <td>153319</td>\n",
       "      <td>1.0</td>\n",
       "      <td>0</td>\n",
       "      <td>1</td>\n",
       "      <td>0</td>\n",
       "      <td>292500.0</td>\n",
       "      <td>314055.0</td>\n",
       "      <td>13963.5</td>\n",
       "      <td>238500.0</td>\n",
       "      <td>0.008230</td>\n",
       "      <td>...</td>\n",
       "      <td>NaN</td>\n",
       "      <td>NaN</td>\n",
       "      <td>NaN</td>\n",
       "      <td>NaN</td>\n",
       "      <td>NaN</td>\n",
       "      <td>NaN</td>\n",
       "      <td>NaN</td>\n",
       "      <td>NaN</td>\n",
       "      <td>NaN</td>\n",
       "      <td>0</td>\n",
       "    </tr>\n",
       "  </tbody>\n",
       "</table>\n",
       "<p>5 rows × 790 columns</p>\n",
       "</div>"
      ],
      "text/plain": [
       "   SK_ID_CURR  CODE_GENDER  FLAG_OWN_CAR  FLAG_OWN_REALTY  CNT_CHILDREN  \\\n",
       "0      450053          0.0             0                0             0   \n",
       "1      420697          1.0             0                0             0   \n",
       "2      338811          0.0             0                0             0   \n",
       "3      303494          0.0             1                1             0   \n",
       "4      153319          1.0             0                1             0   \n",
       "\n",
       "   AMT_INCOME_TOTAL  AMT_CREDIT  AMT_ANNUITY  AMT_GOODS_PRICE  \\\n",
       "0          225000.0    270000.0      13500.0         270000.0   \n",
       "1           99000.0    254700.0      17019.0         225000.0   \n",
       "2          157500.0    450000.0      22500.0         450000.0   \n",
       "3          225000.0   1372500.0      40131.0        1372500.0   \n",
       "4          292500.0    314055.0      13963.5         238500.0   \n",
       "\n",
       "   REGION_POPULATION_RELATIVE  ...  CC_NAME_CONTRACT_STATUS_Sentproposal_SUM  \\\n",
       "0                    0.018029  ...                                       0.0   \n",
       "1                    0.020246  ...                                       NaN   \n",
       "2                    0.022625  ...                                       NaN   \n",
       "3                    0.011703  ...                                       NaN   \n",
       "4                    0.008230  ...                                       NaN   \n",
       "\n",
       "   CC_NAME_CONTRACT_STATUS_Sentproposal_VAR  \\\n",
       "0                                       0.0   \n",
       "1                                       NaN   \n",
       "2                                       NaN   \n",
       "3                                       NaN   \n",
       "4                                       NaN   \n",
       "\n",
       "   CC_NAME_CONTRACT_STATUS_Signed_MEAN  CC_NAME_CONTRACT_STATUS_Signed_SUM  \\\n",
       "0                                  0.0                                 0.0   \n",
       "1                                  NaN                                 NaN   \n",
       "2                                  NaN                                 NaN   \n",
       "3                                  NaN                                 NaN   \n",
       "4                                  NaN                                 NaN   \n",
       "\n",
       "   CC_NAME_CONTRACT_STATUS_Signed_VAR  CC_NAME_CONTRACT_STATUS_nan_MEAN  \\\n",
       "0                                 0.0                               0.0   \n",
       "1                                 NaN                               NaN   \n",
       "2                                 NaN                               NaN   \n",
       "3                                 NaN                               NaN   \n",
       "4                                 NaN                               NaN   \n",
       "\n",
       "   CC_NAME_CONTRACT_STATUS_nan_SUM  CC_NAME_CONTRACT_STATUS_nan_VAR  CC_COUNT  \\\n",
       "0                              0.0                              0.0      34.0   \n",
       "1                              NaN                              NaN       NaN   \n",
       "2                              NaN                              NaN       NaN   \n",
       "3                              NaN                              NaN       NaN   \n",
       "4                              NaN                              NaN       NaN   \n",
       "\n",
       "   TARGET  \n",
       "0       0  \n",
       "1       0  \n",
       "2       0  \n",
       "3       0  \n",
       "4       0  \n",
       "\n",
       "[5 rows x 790 columns]"
      ]
     },
     "execution_count": 7,
     "metadata": {},
     "output_type": "execute_result"
    }
   ],
   "source": [
    "data = get_train()\n",
    "print(\"Forme de data :\", data.shape)\n",
    "data.head()"
   ]
  },
  {
   "cell_type": "code",
   "execution_count": 8,
   "metadata": {},
   "outputs": [],
   "source": [
    "sorted_features = get_sorted_features_by_importance(config=config)"
   ]
  },
  {
   "cell_type": "code",
   "execution_count": 9,
   "metadata": {},
   "outputs": [
    {
     "data": {
      "text/plain": [
       "'not_predictors = [\\n    \\'TARGET\\',\\n    \"SK_ID_CURR\",\\n    \"SK_ID_BUREAU\",\\n    \"SK_ID_PREV\",\\n    \"index\",\\n    \"level_0\",\\n    ]\\npredictors = list(filter(lambda v: v not in not_predictors, data.columns))\\nlen(predictors)'"
      ]
     },
     "execution_count": 9,
     "metadata": {},
     "output_type": "execute_result"
    }
   ],
   "source": [
    "\"\"\"not_predictors = [\n",
    "    'TARGET',\n",
    "    \"SK_ID_CURR\",\n",
    "    \"SK_ID_BUREAU\",\n",
    "    \"SK_ID_PREV\",\n",
    "    \"index\",\n",
    "    \"level_0\",\n",
    "    ]\n",
    "predictors = list(filter(lambda v: v not in not_predictors, data.columns))\n",
    "len(predictors)\"\"\""
   ]
  },
  {
   "cell_type": "code",
   "execution_count": 10,
   "metadata": {},
   "outputs": [],
   "source": [
    "predictors = joblib.load(os.path.join(DATA_INTERIM, \"features_sorted_by_importance.pkl\"))"
   ]
  },
  {
   "cell_type": "code",
   "execution_count": 11,
   "metadata": {},
   "outputs": [
    {
     "name": "stdout",
     "output_type": "stream",
     "text": [
      "Nombre de features : 788\n"
     ]
    }
   ],
   "source": [
    "print(\"Nombre de features :\", len(predictors))\n",
    "X, y = (\n",
    "    data[predictors],\n",
    "    data[\"TARGET\"],\n",
    ")\n",
    "\n",
    "#categorical_features = list(X.select_dtypes(include=\"object\").columns)\n",
    "#categorical_features"
   ]
  },
  {
   "cell_type": "code",
   "execution_count": 12,
   "metadata": {},
   "outputs": [
    {
     "data": {
      "text/plain": [
       "(30000, 50)"
      ]
     },
     "execution_count": 12,
     "metadata": {},
     "output_type": "execute_result"
    }
   ],
   "source": [
    "X.shape"
   ]
  },
  {
   "cell_type": "code",
   "execution_count": 13,
   "metadata": {},
   "outputs": [
    {
     "name": "stdout",
     "output_type": "stream",
     "text": [
      "<class 'pandas.core.frame.DataFrame'>\n",
      "RangeIndex: 30000 entries, 0 to 29999\n",
      "Data columns (total 50 columns):\n",
      " #   Column                                Non-Null Count  Dtype  \n",
      "---  ------                                --------------  -----  \n",
      " 0   PAYMENT_RATE                          29998 non-null  float64\n",
      " 1   EXT_SOURCE_3                          23957 non-null  float64\n",
      " 2   EXT_SOURCE_1                          13029 non-null  float64\n",
      " 3   EXT_SOURCE_2                          29928 non-null  float64\n",
      " 4   DAYS_BIRTH                            30000 non-null  int64  \n",
      " 5   DAYS_EMPLOYED                         24582 non-null  float64\n",
      " 6   AMT_ANNUITY                           29998 non-null  float64\n",
      " 7   APPROVED_CNT_PAYMENT_MEAN             28284 non-null  float64\n",
      " 8   DAYS_ID_PUBLISH                       30000 non-null  int64  \n",
      " 9   ACTIVE_DAYS_CREDIT_MAX                21051 non-null  float64\n",
      " 10  INSTAL_DPD_MEAN                       28431 non-null  float64\n",
      " 11  INSTAL_DAYS_ENTRY_PAYMENT_MAX         28431 non-null  float64\n",
      " 12  DAYS_LAST_PHONE_CHANGE                26165 non-null  float64\n",
      " 13  ANNUITY_INCOME_PERC                   29998 non-null  float64\n",
      " 14  ACTIVE_DAYS_CREDIT_ENDDATE_MIN        20185 non-null  float64\n",
      " 15  AMT_CREDIT                            30000 non-null  float64\n",
      " 16  DAYS_REGISTRATION                     30000 non-null  float64\n",
      " 17  DAYS_EMPLOYED_PERC                    24582 non-null  float64\n",
      " 18  AMT_GOODS_PRICE                       29972 non-null  float64\n",
      " 19  INSTAL_AMT_PAYMENT_SUM                28431 non-null  float64\n",
      " 20  PREV_CNT_PAYMENT_MEAN                 28346 non-null  float64\n",
      " 21  INSTAL_DBD_SUM                        28431 non-null  float64\n",
      " 22  REGION_POPULATION_RELATIVE            30000 non-null  float64\n",
      " 23  OWN_CAR_AGE                           10109 non-null  float64\n",
      " 24  BURO_AMT_CREDIT_MAX_OVERDUE_MEAN      17802 non-null  float64\n",
      " 25  CLOSED_DAYS_CREDIT_ENDDATE_MAX        22308 non-null  float64\n",
      " 26  CLOSED_DAYS_CREDIT_MAX                22455 non-null  float64\n",
      " 27  POS_MONTHS_BALANCE_SIZE               28218 non-null  float64\n",
      " 28  CLOSED_AMT_CREDIT_SUM_MEAN            22455 non-null  float64\n",
      " 29  ACTIVE_AMT_CREDIT_SUM_SUM             21051 non-null  float64\n",
      " 30  ACTIVE_DAYS_CREDIT_UPDATE_MEAN        21051 non-null  float64\n",
      " 31  BURO_AMT_CREDIT_SUM_DEBT_MEAN         24895 non-null  float64\n",
      " 32  INCOME_CREDIT_PERC                    30000 non-null  float64\n",
      " 33  BURO_DAYS_CREDIT_ENDDATE_MAX          25411 non-null  float64\n",
      " 34  BURO_DAYS_CREDIT_MAX                  25606 non-null  float64\n",
      " 35  INSTAL_DAYS_ENTRY_PAYMENT_MEAN        28431 non-null  float64\n",
      " 36  INSTAL_DBD_MEAN                       28431 non-null  float64\n",
      " 37  ACTIVE_AMT_CREDIT_SUM_DEBT_MEAN       20004 non-null  float64\n",
      " 38  ACTIVE_DAYS_CREDIT_ENDDATE_MAX        20185 non-null  float64\n",
      " 39  ACTIVE_DAYS_CREDIT_ENDDATE_MEAN       20185 non-null  float64\n",
      " 40  APPROVED_DAYS_DECISION_MAX            28284 non-null  float64\n",
      " 41  INSTAL_AMT_PAYMENT_MEAN               28431 non-null  float64\n",
      " 42  INSTAL_DAYS_ENTRY_PAYMENT_SUM         28431 non-null  float64\n",
      " 43  PREV_DAYS_DECISION_MAX                28390 non-null  float64\n",
      " 44  INSTAL_PAYMENT_PERC_MEAN              28431 non-null  float64\n",
      " 45  ACTIVE_AMT_CREDIT_MAX_OVERDUE_MEAN    11250 non-null  float64\n",
      " 46  CODE_GENDER                           30000 non-null  float64\n",
      " 47  INSTAL_DBD_MAX                        28431 non-null  float64\n",
      " 48  INSTAL_AMT_PAYMENT_MIN                28431 non-null  float64\n",
      " 49  POS_NAME_CONTRACT_STATUS_Active_MEAN  28218 non-null  float64\n",
      "dtypes: float64(48), int64(2)\n",
      "memory usage: 11.4 MB\n"
     ]
    }
   ],
   "source": [
    "X.info()"
   ]
  },
  {
   "cell_type": "code",
   "execution_count": 14,
   "metadata": {},
   "outputs": [],
   "source": [
    "#from src.p7_simple_kernel import reduce_memory"
   ]
  },
  {
   "cell_type": "code",
   "execution_count": 15,
   "metadata": {},
   "outputs": [
    {
     "name": "stdout",
     "output_type": "stream",
     "text": [
      "Memory usage of dataframe is 11.44 MB\n",
      "Memory usage after optimization is: 11.44 MB\n",
      "Decreased by 0.0%\n",
      "<class 'pandas.core.frame.DataFrame'>\n",
      "RangeIndex: 30000 entries, 0 to 29999\n",
      "Data columns (total 50 columns):\n",
      " #   Column                                Non-Null Count  Dtype  \n",
      "---  ------                                --------------  -----  \n",
      " 0   PAYMENT_RATE                          29998 non-null  float64\n",
      " 1   EXT_SOURCE_3                          23957 non-null  float64\n",
      " 2   EXT_SOURCE_1                          13029 non-null  float64\n",
      " 3   EXT_SOURCE_2                          29928 non-null  float64\n",
      " 4   DAYS_BIRTH                            30000 non-null  int64  \n",
      " 5   DAYS_EMPLOYED                         24582 non-null  float64\n",
      " 6   AMT_ANNUITY                           29998 non-null  float64\n",
      " 7   APPROVED_CNT_PAYMENT_MEAN             28284 non-null  float64\n",
      " 8   DAYS_ID_PUBLISH                       30000 non-null  int64  \n",
      " 9   ACTIVE_DAYS_CREDIT_MAX                21051 non-null  float64\n",
      " 10  INSTAL_DPD_MEAN                       28431 non-null  float64\n",
      " 11  INSTAL_DAYS_ENTRY_PAYMENT_MAX         28431 non-null  float64\n",
      " 12  DAYS_LAST_PHONE_CHANGE                26165 non-null  float64\n",
      " 13  ANNUITY_INCOME_PERC                   29998 non-null  float64\n",
      " 14  ACTIVE_DAYS_CREDIT_ENDDATE_MIN        20185 non-null  float64\n",
      " 15  AMT_CREDIT                            30000 non-null  float64\n",
      " 16  DAYS_REGISTRATION                     30000 non-null  float64\n",
      " 17  DAYS_EMPLOYED_PERC                    24582 non-null  float64\n",
      " 18  AMT_GOODS_PRICE                       29972 non-null  float64\n",
      " 19  INSTAL_AMT_PAYMENT_SUM                28431 non-null  float64\n",
      " 20  PREV_CNT_PAYMENT_MEAN                 28346 non-null  float64\n",
      " 21  INSTAL_DBD_SUM                        28431 non-null  float64\n",
      " 22  REGION_POPULATION_RELATIVE            30000 non-null  float64\n",
      " 23  OWN_CAR_AGE                           10109 non-null  float64\n",
      " 24  BURO_AMT_CREDIT_MAX_OVERDUE_MEAN      17802 non-null  float64\n",
      " 25  CLOSED_DAYS_CREDIT_ENDDATE_MAX        22308 non-null  float64\n",
      " 26  CLOSED_DAYS_CREDIT_MAX                22455 non-null  float64\n",
      " 27  POS_MONTHS_BALANCE_SIZE               28218 non-null  float64\n",
      " 28  CLOSED_AMT_CREDIT_SUM_MEAN            22455 non-null  float64\n",
      " 29  ACTIVE_AMT_CREDIT_SUM_SUM             21051 non-null  float64\n",
      " 30  ACTIVE_DAYS_CREDIT_UPDATE_MEAN        21051 non-null  float64\n",
      " 31  BURO_AMT_CREDIT_SUM_DEBT_MEAN         24895 non-null  float64\n",
      " 32  INCOME_CREDIT_PERC                    30000 non-null  float64\n",
      " 33  BURO_DAYS_CREDIT_ENDDATE_MAX          25411 non-null  float64\n",
      " 34  BURO_DAYS_CREDIT_MAX                  25606 non-null  float64\n",
      " 35  INSTAL_DAYS_ENTRY_PAYMENT_MEAN        28431 non-null  float64\n",
      " 36  INSTAL_DBD_MEAN                       28431 non-null  float64\n",
      " 37  ACTIVE_AMT_CREDIT_SUM_DEBT_MEAN       20004 non-null  float64\n",
      " 38  ACTIVE_DAYS_CREDIT_ENDDATE_MAX        20185 non-null  float64\n",
      " 39  ACTIVE_DAYS_CREDIT_ENDDATE_MEAN       20185 non-null  float64\n",
      " 40  APPROVED_DAYS_DECISION_MAX            28284 non-null  float64\n",
      " 41  INSTAL_AMT_PAYMENT_MEAN               28431 non-null  float64\n",
      " 42  INSTAL_DAYS_ENTRY_PAYMENT_SUM         28431 non-null  float64\n",
      " 43  PREV_DAYS_DECISION_MAX                28390 non-null  float64\n",
      " 44  INSTAL_PAYMENT_PERC_MEAN              28431 non-null  float64\n",
      " 45  ACTIVE_AMT_CREDIT_MAX_OVERDUE_MEAN    11250 non-null  float64\n",
      " 46  CODE_GENDER                           30000 non-null  float64\n",
      " 47  INSTAL_DBD_MAX                        28431 non-null  float64\n",
      " 48  INSTAL_AMT_PAYMENT_MIN                28431 non-null  float64\n",
      " 49  POS_NAME_CONTRACT_STATUS_Active_MEAN  28218 non-null  float64\n",
      "dtypes: float64(48), int64(2)\n",
      "memory usage: 11.4 MB\n"
     ]
    }
   ],
   "source": [
    "X_mem = reduce_memory(X)\n",
    "X_mem.info()"
   ]
  },
  {
   "cell_type": "code",
   "execution_count": 16,
   "metadata": {},
   "outputs": [
    {
     "data": {
      "text/plain": [
       "0"
      ]
     },
     "execution_count": 16,
     "metadata": {},
     "output_type": "execute_result"
    }
   ],
   "source": [
    "del X_mem\n",
    "del data\n",
    "gc.collect()"
   ]
  },
  {
   "cell_type": "code",
   "execution_count": 17,
   "metadata": {},
   "outputs": [],
   "source": [
    "config['n_trials'] = 40"
   ]
  },
  {
   "cell_type": "code",
   "execution_count": 19,
   "metadata": {},
   "outputs": [
    {
     "name": "stderr",
     "output_type": "stream",
     "text": [
      "[I 2024-05-14 12:27:43,778] A new study created in memory with name: study_by_10_2\n"
     ]
    },
    {
     "name": "stdout",
     "output_type": "stream",
     "text": [
      "Création de l'expérience 'by_10_2'\n",
      "Experience 'by_10_2' activée\n"
     ]
    },
    {
     "name": "stderr",
     "output_type": "stream",
     "text": [
      "[I 2024-05-14 12:27:56,536] Trial 5 finished with value: 0.7386595314843186 and parameters: {'boosting_type': 'dart', 'lambda_l1': 3.7698602730548696e-05, 'lambda_l2': 0.0038733052326654035, 'num_leaves': 75, 'feature_fraction': 0.4623463454273016, 'bagging_fraction': 0.4296779680977219, 'bagging_freq': 4, 'min_child_samples': 61, 'learning_rate': 0.007173835888078745, 'max_bin': 416, 'n_estimators': 60}. Best is trial 5 with value: 0.7386595314843186.\n",
      "[I 2024-05-14 12:28:09,327] Trial 1 finished with value: 0.7219273882437498 and parameters: {'boosting_type': 'dart', 'lambda_l1': 4.043060109284792e-06, 'lambda_l2': 0.3600007549071652, 'num_leaves': 38, 'feature_fraction': 0.9726584657663307, 'bagging_fraction': 0.6587140645438139, 'bagging_freq': 1, 'min_child_samples': 31, 'learning_rate': 0.0001835966957922136, 'max_bin': 320, 'n_estimators': 160}. Best is trial 5 with value: 0.7386595314843186.\n",
      "[I 2024-05-14 12:28:11,094] Trial 7 finished with value: 0.7363304012334634 and parameters: {'boosting_type': 'gbdt', 'lambda_l1': 1.795701076091054e-08, 'lambda_l2': 0.001813393661251158, 'num_leaves': 179, 'feature_fraction': 0.8461684502819804, 'bagging_fraction': 0.9321557548182602, 'bagging_freq': 3, 'min_child_samples': 72, 'learning_rate': 0.0004509915538848123, 'max_bin': 128, 'n_estimators': 80}. Best is trial 5 with value: 0.7386595314843186.\n",
      "[I 2024-05-14 12:28:26,553] Trial 0 finished with value: 0.7499631399975665 and parameters: {'boosting_type': 'gbdt', 'lambda_l1': 4.701778462583837, 'lambda_l2': 2.8985135361772347e-06, 'num_leaves': 245, 'feature_fraction': 0.43528703220823445, 'bagging_fraction': 0.6377670188804228, 'bagging_freq': 1, 'min_child_samples': 98, 'learning_rate': 0.0034056011695448554, 'max_bin': 256, 'n_estimators': 280}. Best is trial 0 with value: 0.7499631399975665.\n",
      "[I 2024-05-14 12:28:28,077] Trial 2 finished with value: 0.7426474936893491 and parameters: {'boosting_type': 'dart', 'lambda_l1': 0.09046868852606775, 'lambda_l2': 2.0288267007350127e-06, 'num_leaves': 97, 'feature_fraction': 0.5330189630176518, 'bagging_fraction': 0.8921997891999589, 'bagging_freq': 5, 'min_child_samples': 49, 'learning_rate': 0.0002596728961824785, 'max_bin': 352, 'n_estimators': 200}. Best is trial 0 with value: 0.7499631399975665.\n",
      "[I 2024-05-14 12:28:28,860] Trial 6 finished with value: 0.7387561924615738 and parameters: {'boosting_type': 'dart', 'lambda_l1': 7.15674745450194e-07, 'lambda_l2': 0.05294851552756896, 'num_leaves': 109, 'feature_fraction': 0.5151285368173727, 'bagging_fraction': 0.7774413356263573, 'bagging_freq': 1, 'min_child_samples': 62, 'learning_rate': 0.16602539814104908, 'max_bin': 448, 'n_estimators': 180}. Best is trial 0 with value: 0.7499631399975665.\n",
      "[I 2024-05-14 12:28:29,667] Trial 3 finished with value: 0.7476195445030378 and parameters: {'boosting_type': 'dart', 'lambda_l1': 4.4192353602433647e-07, 'lambda_l2': 1.2464020292356576e-08, 'num_leaves': 68, 'feature_fraction': 0.5118989259391842, 'bagging_fraction': 0.6593936867480372, 'bagging_freq': 2, 'min_child_samples': 100, 'learning_rate': 0.0002627787239649479, 'max_bin': 160, 'n_estimators': 260}. Best is trial 0 with value: 0.7499631399975665.\n",
      "[I 2024-05-14 12:28:34,418] Trial 9 finished with value: 0.7478564128681905 and parameters: {'boosting_type': 'gbdt', 'lambda_l1': 1.955133129126024e-06, 'lambda_l2': 0.00896019652522998, 'num_leaves': 64, 'feature_fraction': 0.7903467535299696, 'bagging_fraction': 0.7443855719863148, 'bagging_freq': 7, 'min_child_samples': 64, 'learning_rate': 0.0353495270967277, 'max_bin': 448, 'n_estimators': 340}. Best is trial 0 with value: 0.7499631399975665.\n",
      "[I 2024-05-14 12:28:43,769] Trial 4 finished with value: 0.7450546006443814 and parameters: {'boosting_type': 'gbdt', 'lambda_l1': 0.0032096533802320757, 'lambda_l2': 1.605350083888337e-07, 'num_leaves': 256, 'feature_fraction': 0.9551794752622207, 'bagging_fraction': 0.934223929670381, 'bagging_freq': 6, 'min_child_samples': 56, 'learning_rate': 0.00851137582024236, 'max_bin': 256, 'n_estimators': 260}. Best is trial 0 with value: 0.7499631399975665.\n",
      "[I 2024-05-14 12:29:00,480] Trial 8 finished with value: 0.7429175115712532 and parameters: {'boosting_type': 'dart', 'lambda_l1': 1.706544634564009e-08, 'lambda_l2': 6.982075444334535e-08, 'num_leaves': 215, 'feature_fraction': 0.8950305123782079, 'bagging_fraction': 0.9799443587661177, 'bagging_freq': 2, 'min_child_samples': 14, 'learning_rate': 0.020140716347686927, 'max_bin': 480, 'n_estimators': 400}. Best is trial 0 with value: 0.7499631399975665.\n",
      "[I 2024-05-14 12:29:56,013] Trial 19 finished with value: 0.7387270359547946 and parameters: {'boosting_type': 'gbdt', 'lambda_l1': 9.100569110626049, 'lambda_l2': 2.616063722192727e-05, 'num_leaves': 142, 'feature_fraction': 0.6705674168931026, 'bagging_fraction': 0.5046856579508572, 'bagging_freq': 4, 'min_child_samples': 100, 'learning_rate': 0.0009722799526436936, 'max_bin': 224, 'n_estimators': 320}. Best is trial 0 with value: 0.7499631399975665.\n",
      "[I 2024-05-14 12:29:56,708] Trial 11 finished with value: 0.7416438920696939 and parameters: {'boosting_type': 'gbdt', 'lambda_l1': 7.301498693976258, 'lambda_l2': 1.4278736385456508e-05, 'num_leaves': 159, 'feature_fraction': 0.6524470938314222, 'bagging_fraction': 0.4960444886982235, 'bagging_freq': 4, 'min_child_samples': 97, 'learning_rate': 0.0015016934469065017, 'max_bin': 224, 'n_estimators': 320}. Best is trial 0 with value: 0.7499631399975665.\n",
      "[I 2024-05-14 12:29:57,874] Trial 16 finished with value: 0.7453558092079564 and parameters: {'boosting_type': 'gbdt', 'lambda_l1': 4.6271310254110745, 'lambda_l2': 2.7284644397325883e-05, 'num_leaves': 166, 'feature_fraction': 0.6305521258581674, 'bagging_fraction': 0.499918123488872, 'bagging_freq': 4, 'min_child_samples': 99, 'learning_rate': 0.0014604375016475002, 'max_bin': 224, 'n_estimators': 320}. Best is trial 0 with value: 0.7499631399975665.\n",
      "[I 2024-05-14 12:29:58,056] Trial 12 finished with value: 0.7437309555084515 and parameters: {'boosting_type': 'gbdt', 'lambda_l1': 5.557286603398479, 'lambda_l2': 1.7655058363526488e-05, 'num_leaves': 153, 'feature_fraction': 0.651586383342075, 'bagging_fraction': 0.5067110103872267, 'bagging_freq': 3, 'min_child_samples': 99, 'learning_rate': 0.0015200712708150217, 'max_bin': 192, 'n_estimators': 320}. Best is trial 0 with value: 0.7499631399975665.\n",
      "[I 2024-05-14 12:29:58,202] Trial 14 finished with value: 0.742094650157705 and parameters: {'boosting_type': 'gbdt', 'lambda_l1': 5.954180867512196, 'lambda_l2': 4.008113142715415e-05, 'num_leaves': 156, 'feature_fraction': 0.6585941680309264, 'bagging_fraction': 0.4757835892725192, 'bagging_freq': 4, 'min_child_samples': 93, 'learning_rate': 0.000933997435718382, 'max_bin': 224, 'n_estimators': 320}. Best is trial 0 with value: 0.7499631399975665.\n",
      "[I 2024-05-14 12:29:59,535] Trial 10 finished with value: 0.7457432818548961 and parameters: {'boosting_type': 'gbdt', 'lambda_l1': 3.317948538187938, 'lambda_l2': 9.024185802543116e-06, 'num_leaves': 155, 'feature_fraction': 0.6858689435927037, 'bagging_fraction': 0.5043106034194517, 'bagging_freq': 4, 'min_child_samples': 94, 'learning_rate': 0.0014661006181864904, 'max_bin': 224, 'n_estimators': 320}. Best is trial 0 with value: 0.7499631399975665.\n",
      "[I 2024-05-14 12:29:59,710] Trial 13 finished with value: 0.742881951180556 and parameters: {'boosting_type': 'gbdt', 'lambda_l1': 5.949024452562653, 'lambda_l2': 1.9432123152782957e-05, 'num_leaves': 163, 'feature_fraction': 0.6504980229716649, 'bagging_fraction': 0.5062502133679242, 'bagging_freq': 4, 'min_child_samples': 99, 'learning_rate': 0.001439888276358194, 'max_bin': 224, 'n_estimators': 320}. Best is trial 0 with value: 0.7499631399975665.\n",
      "[I 2024-05-14 12:29:59,847] Trial 18 finished with value: 0.7442614984560989 and parameters: {'boosting_type': 'gbdt', 'lambda_l1': 4.2066643360003955, 'lambda_l2': 4.557490990546749e-05, 'num_leaves': 158, 'feature_fraction': 0.6707685597503392, 'bagging_fraction': 0.5081492589734097, 'bagging_freq': 4, 'min_child_samples': 99, 'learning_rate': 0.0015193209615094905, 'max_bin': 224, 'n_estimators': 320}. Best is trial 0 with value: 0.7499631399975665.\n",
      "[I 2024-05-14 12:29:59,939] Trial 17 finished with value: 0.7449207971404022 and parameters: {'boosting_type': 'gbdt', 'lambda_l1': 4.475524733862677, 'lambda_l2': 3.4927709543843046e-05, 'num_leaves': 166, 'feature_fraction': 0.6558407007822982, 'bagging_fraction': 0.5194390770344621, 'bagging_freq': 4, 'min_child_samples': 99, 'learning_rate': 0.001744161057602718, 'max_bin': 224, 'n_estimators': 320}. Best is trial 0 with value: 0.7499631399975665.\n",
      "[I 2024-05-14 12:30:00,040] Trial 15 finished with value: 0.7452628398814303 and parameters: {'boosting_type': 'gbdt', 'lambda_l1': 4.36528157156628, 'lambda_l2': 2.227554480070358e-05, 'num_leaves': 169, 'feature_fraction': 0.6556652037580156, 'bagging_fraction': 0.5358943863786334, 'bagging_freq': 4, 'min_child_samples': 97, 'learning_rate': 0.0016253958879270908, 'max_bin': 224, 'n_estimators': 320}. Best is trial 0 with value: 0.7499631399975665.\n",
      "[I 2024-05-14 12:30:40,618] Trial 21 finished with value: 0.7581674193741597 and parameters: {'boosting_type': 'gbdt', 'lambda_l1': 0.0026233134700184347, 'lambda_l2': 5.539793739159694, 'num_leaves': 6, 'feature_fraction': 0.7721456419543683, 'bagging_fraction': 0.7649083138912377, 'bagging_freq': 7, 'min_child_samples': 80, 'learning_rate': 0.06040877241679307, 'max_bin': 512, 'n_estimators': 240}. Best is trial 21 with value: 0.7581674193741597.\n",
      "[I 2024-05-14 12:31:06,306] Trial 26 finished with value: 0.7574067886443316 and parameters: {'boosting_type': 'gbdt', 'lambda_l1': 0.002245736173165305, 'lambda_l2': 1.4966415678178417, 'num_leaves': 6, 'feature_fraction': 0.7682432476890508, 'bagging_fraction': 0.74590410233115, 'bagging_freq': 7, 'min_child_samples': 80, 'learning_rate': 0.074545229125052, 'max_bin': 512, 'n_estimators': 400}. Best is trial 21 with value: 0.7581674193741597.\n",
      "[I 2024-05-14 12:31:06,811] Trial 28 finished with value: 0.75849364075492 and parameters: {'boosting_type': 'gbdt', 'lambda_l1': 0.0012143107044680311, 'lambda_l2': 5.313356160164179, 'num_leaves': 9, 'feature_fraction': 0.7764258622502603, 'bagging_fraction': 0.7493922100100644, 'bagging_freq': 7, 'min_child_samples': 79, 'learning_rate': 0.04729599182959947, 'max_bin': 512, 'n_estimators': 400}. Best is trial 28 with value: 0.75849364075492.\n",
      "[I 2024-05-14 12:31:07,338] Trial 23 finished with value: 0.7523205226774714 and parameters: {'boosting_type': 'gbdt', 'lambda_l1': 0.001173313448315688, 'lambda_l2': 2.6654738064491768, 'num_leaves': 20, 'feature_fraction': 0.7631296697623636, 'bagging_fraction': 0.7493829000445831, 'bagging_freq': 7, 'min_child_samples': 82, 'learning_rate': 0.0593875193692473, 'max_bin': 512, 'n_estimators': 380}. Best is trial 28 with value: 0.75849364075492.\n",
      "[I 2024-05-14 12:31:08,033] Trial 20 finished with value: 0.7494668013240218 and parameters: {'boosting_type': 'gbdt', 'lambda_l1': 0.00325531306318023, 'lambda_l2': 0.00065810022431894, 'num_leaves': 11, 'feature_fraction': 0.7790042221846959, 'bagging_fraction': 0.7754325117427793, 'bagging_freq': 7, 'min_child_samples': 84, 'learning_rate': 0.09044871876980472, 'max_bin': 512, 'n_estimators': 400}. Best is trial 28 with value: 0.75849364075492.\n",
      "[I 2024-05-14 12:31:08,218] Trial 29 finished with value: 0.7570097478414203 and parameters: {'boosting_type': 'gbdt', 'lambda_l1': 0.0016655931683507575, 'lambda_l2': 2.9024383480937828, 'num_leaves': 10, 'feature_fraction': 0.7751916726041935, 'bagging_fraction': 0.7736596746680199, 'bagging_freq': 7, 'min_child_samples': 80, 'learning_rate': 0.05826479423267141, 'max_bin': 512, 'n_estimators': 400}. Best is trial 28 with value: 0.75849364075492.\n",
      "[I 2024-05-14 12:31:08,656] Trial 22 finished with value: 0.7557805788282324 and parameters: {'boosting_type': 'gbdt', 'lambda_l1': 0.001321998576882443, 'lambda_l2': 8.046369754059201, 'num_leaves': 13, 'feature_fraction': 0.7773785721205869, 'bagging_fraction': 0.7825705356804311, 'bagging_freq': 7, 'min_child_samples': 80, 'learning_rate': 0.06611810635002849, 'max_bin': 320, 'n_estimators': 400}. Best is trial 28 with value: 0.75849364075492.\n",
      "[I 2024-05-14 12:31:08,909] Trial 25 finished with value: 0.7513770422268339 and parameters: {'boosting_type': 'gbdt', 'lambda_l1': 0.0018700680977473294, 'lambda_l2': 0.0009300457178176015, 'num_leaves': 16, 'feature_fraction': 0.7593488571552752, 'bagging_fraction': 0.7573280660532591, 'bagging_freq': 7, 'min_child_samples': 84, 'learning_rate': 0.055039245719505324, 'max_bin': 384, 'n_estimators': 400}. Best is trial 28 with value: 0.75849364075492.\n",
      "[I 2024-05-14 12:31:09,445] Trial 27 finished with value: 0.7495598459903587 and parameters: {'boosting_type': 'gbdt', 'lambda_l1': 0.0010150388389617792, 'lambda_l2': 5.16312717049231, 'num_leaves': 22, 'feature_fraction': 0.7763631567839817, 'bagging_fraction': 0.7843547462937568, 'bagging_freq': 7, 'min_child_samples': 80, 'learning_rate': 0.06575354337174623, 'max_bin': 512, 'n_estimators': 400}. Best is trial 28 with value: 0.75849364075492.\n",
      "[I 2024-05-14 12:31:10,034] Trial 24 finished with value: 0.723872134779908 and parameters: {'boosting_type': 'gbdt', 'lambda_l1': 0.0011592660124438107, 'lambda_l2': 4.198007201393387, 'num_leaves': 34, 'feature_fraction': 0.7788078729456248, 'bagging_fraction': 0.7785934950513973, 'bagging_freq': 7, 'min_child_samples': 80, 'learning_rate': 0.18141876802496226, 'max_bin': 512, 'n_estimators': 400}. Best is trial 28 with value: 0.75849364075492.\n"
     ]
    },
    {
     "name": "stdout",
     "output_type": "stream",
     "text": [
      "Optimize hyperparameters - duration (hh:mm:ss) : 0:03:27\n"
     ]
    }
   ],
   "source": [
    "\n",
    "study = sk_single_search(X, y, experiment_name=\"huge_by_10_trials\", num=\"010\", by_10_trials=True, config=config)"
   ]
  },
  {
   "cell_type": "markdown",
   "metadata": {},
   "source": [
    "# Vieux"
   ]
  },
  {
   "cell_type": "code",
   "execution_count": 26,
   "metadata": {},
   "outputs": [
    {
     "name": "stdout",
     "output_type": "stream",
     "text": [
      "0 variables à inclure correspondant au motif 'Unnamed' : []\n",
      "0 variables à exclure correspondant au motif 'None' : []\n",
      "0 variables sélectionnées : []\n",
      "Forme de data avec Target : (307507, 794)\n"
     ]
    },
    {
     "data": {
      "text/html": [
       "<div>\n",
       "<style scoped>\n",
       "    .dataframe tbody tr th:only-of-type {\n",
       "        vertical-align: middle;\n",
       "    }\n",
       "\n",
       "    .dataframe tbody tr th {\n",
       "        vertical-align: top;\n",
       "    }\n",
       "\n",
       "    .dataframe thead th {\n",
       "        text-align: right;\n",
       "    }\n",
       "</style>\n",
       "<table border=\"1\" class=\"dataframe\">\n",
       "  <thead>\n",
       "    <tr style=\"text-align: right;\">\n",
       "      <th></th>\n",
       "      <th>SK_ID_CURR</th>\n",
       "      <th>TARGET</th>\n",
       "      <th>CODE_GENDER</th>\n",
       "      <th>FLAG_OWN_CAR</th>\n",
       "      <th>FLAG_OWN_REALTY</th>\n",
       "      <th>CNT_CHILDREN</th>\n",
       "      <th>AMT_INCOME_TOTAL</th>\n",
       "      <th>AMT_CREDIT</th>\n",
       "      <th>AMT_ANNUITY</th>\n",
       "      <th>AMT_GOODS_PRICE</th>\n",
       "      <th>...</th>\n",
       "      <th>CC_NAME_CONTRACT_STATUS_Sentproposal_MEAN</th>\n",
       "      <th>CC_NAME_CONTRACT_STATUS_Sentproposal_SUM</th>\n",
       "      <th>CC_NAME_CONTRACT_STATUS_Sentproposal_VAR</th>\n",
       "      <th>CC_NAME_CONTRACT_STATUS_Signed_MEAN</th>\n",
       "      <th>CC_NAME_CONTRACT_STATUS_Signed_SUM</th>\n",
       "      <th>CC_NAME_CONTRACT_STATUS_Signed_VAR</th>\n",
       "      <th>CC_NAME_CONTRACT_STATUS_nan_MEAN</th>\n",
       "      <th>CC_NAME_CONTRACT_STATUS_nan_SUM</th>\n",
       "      <th>CC_NAME_CONTRACT_STATUS_nan_VAR</th>\n",
       "      <th>CC_COUNT</th>\n",
       "    </tr>\n",
       "  </thead>\n",
       "  <tbody>\n",
       "    <tr>\n",
       "      <th>0</th>\n",
       "      <td>100002</td>\n",
       "      <td>1.0</td>\n",
       "      <td>0</td>\n",
       "      <td>0</td>\n",
       "      <td>0</td>\n",
       "      <td>0</td>\n",
       "      <td>202500.0</td>\n",
       "      <td>406597.5</td>\n",
       "      <td>24700.5</td>\n",
       "      <td>351000.0</td>\n",
       "      <td>...</td>\n",
       "      <td>NaN</td>\n",
       "      <td>NaN</td>\n",
       "      <td>NaN</td>\n",
       "      <td>NaN</td>\n",
       "      <td>NaN</td>\n",
       "      <td>NaN</td>\n",
       "      <td>NaN</td>\n",
       "      <td>NaN</td>\n",
       "      <td>NaN</td>\n",
       "      <td>NaN</td>\n",
       "    </tr>\n",
       "    <tr>\n",
       "      <th>1</th>\n",
       "      <td>100003</td>\n",
       "      <td>0.0</td>\n",
       "      <td>1</td>\n",
       "      <td>0</td>\n",
       "      <td>1</td>\n",
       "      <td>0</td>\n",
       "      <td>270000.0</td>\n",
       "      <td>1293502.5</td>\n",
       "      <td>35698.5</td>\n",
       "      <td>1129500.0</td>\n",
       "      <td>...</td>\n",
       "      <td>NaN</td>\n",
       "      <td>NaN</td>\n",
       "      <td>NaN</td>\n",
       "      <td>NaN</td>\n",
       "      <td>NaN</td>\n",
       "      <td>NaN</td>\n",
       "      <td>NaN</td>\n",
       "      <td>NaN</td>\n",
       "      <td>NaN</td>\n",
       "      <td>NaN</td>\n",
       "    </tr>\n",
       "    <tr>\n",
       "      <th>2</th>\n",
       "      <td>100004</td>\n",
       "      <td>0.0</td>\n",
       "      <td>0</td>\n",
       "      <td>1</td>\n",
       "      <td>0</td>\n",
       "      <td>0</td>\n",
       "      <td>67500.0</td>\n",
       "      <td>135000.0</td>\n",
       "      <td>6750.0</td>\n",
       "      <td>135000.0</td>\n",
       "      <td>...</td>\n",
       "      <td>NaN</td>\n",
       "      <td>NaN</td>\n",
       "      <td>NaN</td>\n",
       "      <td>NaN</td>\n",
       "      <td>NaN</td>\n",
       "      <td>NaN</td>\n",
       "      <td>NaN</td>\n",
       "      <td>NaN</td>\n",
       "      <td>NaN</td>\n",
       "      <td>NaN</td>\n",
       "    </tr>\n",
       "    <tr>\n",
       "      <th>3</th>\n",
       "      <td>100006</td>\n",
       "      <td>0.0</td>\n",
       "      <td>1</td>\n",
       "      <td>0</td>\n",
       "      <td>0</td>\n",
       "      <td>0</td>\n",
       "      <td>135000.0</td>\n",
       "      <td>312682.5</td>\n",
       "      <td>29686.5</td>\n",
       "      <td>297000.0</td>\n",
       "      <td>...</td>\n",
       "      <td>0.0</td>\n",
       "      <td>0.0</td>\n",
       "      <td>0.0</td>\n",
       "      <td>0.0</td>\n",
       "      <td>0.0</td>\n",
       "      <td>0.0</td>\n",
       "      <td>0.0</td>\n",
       "      <td>0.0</td>\n",
       "      <td>0.0</td>\n",
       "      <td>6.0</td>\n",
       "    </tr>\n",
       "    <tr>\n",
       "      <th>4</th>\n",
       "      <td>100007</td>\n",
       "      <td>0.0</td>\n",
       "      <td>0</td>\n",
       "      <td>0</td>\n",
       "      <td>0</td>\n",
       "      <td>0</td>\n",
       "      <td>121500.0</td>\n",
       "      <td>513000.0</td>\n",
       "      <td>21865.5</td>\n",
       "      <td>513000.0</td>\n",
       "      <td>...</td>\n",
       "      <td>NaN</td>\n",
       "      <td>NaN</td>\n",
       "      <td>NaN</td>\n",
       "      <td>NaN</td>\n",
       "      <td>NaN</td>\n",
       "      <td>NaN</td>\n",
       "      <td>NaN</td>\n",
       "      <td>NaN</td>\n",
       "      <td>NaN</td>\n",
       "      <td>NaN</td>\n",
       "    </tr>\n",
       "  </tbody>\n",
       "</table>\n",
       "<p>5 rows × 794 columns</p>\n",
       "</div>"
      ],
      "text/plain": [
       "   SK_ID_CURR  TARGET  CODE_GENDER  FLAG_OWN_CAR  FLAG_OWN_REALTY  \\\n",
       "0      100002     1.0            0             0                0   \n",
       "1      100003     0.0            1             0                1   \n",
       "2      100004     0.0            0             1                0   \n",
       "3      100006     0.0            1             0                0   \n",
       "4      100007     0.0            0             0                0   \n",
       "\n",
       "   CNT_CHILDREN  AMT_INCOME_TOTAL  AMT_CREDIT  AMT_ANNUITY  AMT_GOODS_PRICE  \\\n",
       "0             0          202500.0    406597.5      24700.5         351000.0   \n",
       "1             0          270000.0   1293502.5      35698.5        1129500.0   \n",
       "2             0           67500.0    135000.0       6750.0         135000.0   \n",
       "3             0          135000.0    312682.5      29686.5         297000.0   \n",
       "4             0          121500.0    513000.0      21865.5         513000.0   \n",
       "\n",
       "   ...  CC_NAME_CONTRACT_STATUS_Sentproposal_MEAN  \\\n",
       "0  ...                                        NaN   \n",
       "1  ...                                        NaN   \n",
       "2  ...                                        NaN   \n",
       "3  ...                                        0.0   \n",
       "4  ...                                        NaN   \n",
       "\n",
       "   CC_NAME_CONTRACT_STATUS_Sentproposal_SUM  \\\n",
       "0                                       NaN   \n",
       "1                                       NaN   \n",
       "2                                       NaN   \n",
       "3                                       0.0   \n",
       "4                                       NaN   \n",
       "\n",
       "   CC_NAME_CONTRACT_STATUS_Sentproposal_VAR  \\\n",
       "0                                       NaN   \n",
       "1                                       NaN   \n",
       "2                                       NaN   \n",
       "3                                       0.0   \n",
       "4                                       NaN   \n",
       "\n",
       "   CC_NAME_CONTRACT_STATUS_Signed_MEAN  CC_NAME_CONTRACT_STATUS_Signed_SUM  \\\n",
       "0                                  NaN                                 NaN   \n",
       "1                                  NaN                                 NaN   \n",
       "2                                  NaN                                 NaN   \n",
       "3                                  0.0                                 0.0   \n",
       "4                                  NaN                                 NaN   \n",
       "\n",
       "   CC_NAME_CONTRACT_STATUS_Signed_VAR  CC_NAME_CONTRACT_STATUS_nan_MEAN  \\\n",
       "0                                 NaN                               NaN   \n",
       "1                                 NaN                               NaN   \n",
       "2                                 NaN                               NaN   \n",
       "3                                 0.0                               0.0   \n",
       "4                                 NaN                               NaN   \n",
       "\n",
       "   CC_NAME_CONTRACT_STATUS_nan_SUM  CC_NAME_CONTRACT_STATUS_nan_VAR  CC_COUNT  \n",
       "0                              NaN                              NaN       NaN  \n",
       "1                              NaN                              NaN       NaN  \n",
       "2                              NaN                              NaN       NaN  \n",
       "3                              0.0                              0.0       6.0  \n",
       "4                              NaN                              NaN       NaN  \n",
       "\n",
       "[5 rows x 794 columns]"
      ]
     },
     "execution_count": 26,
     "metadata": {},
     "output_type": "execute_result"
    }
   ],
   "source": [
    "df = pd.read_csv(os.path.join(DATA_INTERIM, \"all_data_simple_kernel_ohe.csv\"))\n",
    "\n",
    "to_drop = sel_var(df.columns, 'Unnamed')\n",
    "if to_drop:\n",
    "    df = df.drop(to_drop, axis=1)\n",
    "\n",
    "df = df.rename(columns=lambda x: re.sub(\"[^A-Za-z0-9_]+\", \"\", x))\n",
    "    \n",
    "data = df[df['TARGET'].notnull()]\n",
    "\n",
    "del df\n",
    "gc.collect()\n",
    "\n",
    "print(\"Forme de data avec Target :\", data.shape)\n",
    "data.head()"
   ]
  },
  {
   "cell_type": "code",
   "execution_count": 8,
   "metadata": {},
   "outputs": [],
   "source": [
    "#from src.p7_util import clean_ram"
   ]
  },
  {
   "cell_type": "code",
   "execution_count": 9,
   "metadata": {},
   "outputs": [
    {
     "name": "stdout",
     "output_type": "stream",
     "text": [
      "1 variables détruites : ['to_drop']\n"
     ]
    }
   ],
   "source": [
    "dic_local = locals()\n",
    "to_del = ['to_drop', 'selected_features']\n",
    "clean_ram(to_del, dic_local)"
   ]
  },
  {
   "cell_type": "markdown",
   "metadata": {},
   "source": [
    "Récupération des features par ordre d'importance"
   ]
  },
  {
   "cell_type": "code",
   "execution_count": 27,
   "metadata": {},
   "outputs": [
    {
     "name": "stdout",
     "output_type": "stream",
     "text": [
      "792\n"
     ]
    },
    {
     "data": {
      "text/plain": [
       "['PAYMENT_RATE',\n",
       " 'EXT_SOURCE_1',\n",
       " 'EXT_SOURCE_3',\n",
       " 'EXT_SOURCE_2',\n",
       " 'DAYS_BIRTH',\n",
       " 'AMT_ANNUITY',\n",
       " 'DAYS_EMPLOYED',\n",
       " 'APPROVED_CNT_PAYMENT_MEAN',\n",
       " 'DAYS_ID_PUBLISH',\n",
       " 'ACTIVE_DAYS_CREDIT_MAX']"
      ]
     },
     "execution_count": 27,
     "metadata": {},
     "output_type": "execute_result"
    }
   ],
   "source": [
    "sorted_features_by_importance = pd.read_csv(os.path.join(config['model_dir'], config['subdir'], config['feature_importance_filename'])).set_index(\"feature\").index.tolist()\n",
    "print(len(sorted_features_by_importance))\n",
    "sorted_features_by_importance[:10]"
   ]
  },
  {
   "cell_type": "code",
   "execution_count": 35,
   "metadata": {},
   "outputs": [],
   "source": [
    "not_predictors = [\n",
    "    'TARGET',\n",
    "    \"SK_ID_CURR\",\n",
    "    \"SK_ID_BUREAU\",\n",
    "    \"SK_ID_PREV\",\n",
    "    \"index\",\n",
    "    \"level_0\",\n",
    "    ]\n",
    "predictors = list(filter(lambda v: v not in not_predictors, data.columns))"
   ]
  },
  {
   "cell_type": "code",
   "execution_count": 36,
   "metadata": {},
   "outputs": [
    {
     "data": {
      "text/plain": [
       "792"
      ]
     },
     "execution_count": 36,
     "metadata": {},
     "output_type": "execute_result"
    }
   ],
   "source": [
    "len(predictors)"
   ]
  },
  {
   "cell_type": "code",
   "execution_count": 37,
   "metadata": {},
   "outputs": [],
   "source": [
    "config['n_predictors'] = 400"
   ]
  },
  {
   "cell_type": "code",
   "execution_count": 38,
   "metadata": {},
   "outputs": [
    {
     "name": "stdout",
     "output_type": "stream",
     "text": [
      "Nombre de features : 400\n"
     ]
    }
   ],
   "source": [
    "predictors = predictors[:config['n_predictors']]\n",
    "print(\"Nombre de features :\", len(predictors))\n",
    "X_train, y_train = (\n",
    "    data[predictors],\n",
    "    data[\"TARGET\"],\n",
    ")\n",
    "\n",
    "categorical_features = list(X_train.loc[:, X_train.dtypes == \"object\"].columns.values)\n",
    "\n",
    "# Conversion en dataset lgbm\n",
    "train_set = lgb.Dataset(\n",
    "    X_train,\n",
    "    y_train,\n",
    "    feature_name=predictors,\n",
    "    categorical_feature=categorical_features,\n",
    "    free_raw_data=True,\n",
    ").construct()"
   ]
  },
  {
   "cell_type": "code",
   "execution_count": 14,
   "metadata": {},
   "outputs": [
    {
     "data": {
      "text/plain": [
       "['CODE_GENDER',\n",
       " 'FLAG_OWN_CAR',\n",
       " 'FLAG_OWN_REALTY',\n",
       " 'CNT_CHILDREN',\n",
       " 'AMT_INCOME_TOTAL',\n",
       " 'AMT_CREDIT',\n",
       " 'AMT_ANNUITY',\n",
       " 'AMT_GOODS_PRICE',\n",
       " 'REGION_POPULATION_RELATIVE',\n",
       " 'DAYS_BIRTH',\n",
       " 'DAYS_EMPLOYED',\n",
       " 'DAYS_REGISTRATION',\n",
       " 'DAYS_ID_PUBLISH',\n",
       " 'OWN_CAR_AGE',\n",
       " 'FLAG_MOBIL',\n",
       " 'FLAG_EMP_PHONE',\n",
       " 'FLAG_WORK_PHONE',\n",
       " 'FLAG_CONT_MOBILE',\n",
       " 'FLAG_PHONE',\n",
       " 'FLAG_EMAIL']"
      ]
     },
     "execution_count": 14,
     "metadata": {},
     "output_type": "execute_result"
    }
   ],
   "source": [
    "train_set.get_feature_name()"
   ]
  },
  {
   "cell_type": "code",
   "execution_count": 15,
   "metadata": {},
   "outputs": [],
   "source": [
    "#from src.p7_evaluate import lgb_cross_evaluate"
   ]
  },
  {
   "cell_type": "code",
   "execution_count": 16,
   "metadata": {},
   "outputs": [],
   "source": [
    "def lgb_single_objective(lgb_dataset, config=CONFIG_SEARCH):\n",
    "    def _objective(trial):\n",
    "        parent_run_name, parent_run_description = build_parent_run_name(config=config)\n",
    "        child_run_name = f\"N_{trial.number}_T_{trial._trial_id}\"\n",
    "        with mlflow.start_run(run_name=child_run_name, nested=True):\n",
    "            # On définit les hyperparamètres\n",
    "            params = {\n",
    "                \"boosting_type\": trial.suggest_categorical(\n",
    "                    \"boosting_type\", [\"dart\", \"gbdt\"]\n",
    "                ),\n",
    "                \"lambda_l1\": trial.suggest_float(\"lambda_l1\", 1e-8, 10.0, log=True),\n",
    "                \"lambda_l2\": trial.suggest_float(\"lambda_l2\", 1e-8, 10.0, log=True),\n",
    "                \"num_leaves\": trial.suggest_int(\"num_leaves\", 2, 256),\n",
    "                \"feature_fraction\": trial.suggest_float(\"feature_fraction\", 0.4, 1.0),\n",
    "                \"bagging_fraction\": trial.suggest_float(\"bagging_fraction\", 0.4, 1.0),\n",
    "                \"bagging_freq\": trial.suggest_int(\"bagging_freq\", 1, 7),\n",
    "                \"min_child_samples\": trial.suggest_int(\"min_child_samples\", 5, 100),\n",
    "                \"learning_rate\": trial.suggest_float(\n",
    "                    \"learning_rate\", 0.0001, 0.5, log=True\n",
    "                ),\n",
    "                \"max_bin\": trial.suggest_int(\"max_bin\", 128, 512, step=32),\n",
    "                \"n_estimators\": trial.suggest_int(\"n_estimators\", 40, 400, step=20),\n",
    "                \n",
    "                \"objective\": \"binary\",\n",
    "                \n",
    "                \"metric\": [\"binary_logloss\", \"auc\"],\n",
    "                \"num_threads\":NUM_THREADS,\n",
    "                \"verbose\": -1,\n",
    "            }\n",
    "            \n",
    "            if params['boosting_type'] == 'dart':\n",
    "                early_stopping=False\n",
    "            else:\n",
    "                early_stopping=True\n",
    "                \n",
    "            other_params = {}\n",
    "            cv_results = lgb_cross_evaluate(lgb_dataset, params, early_stopping=early_stopping, verbose=False)\n",
    "            for k in cv_results.keys():\n",
    "                mlflow.log_metric(k, cv_results[k][-1])\n",
    "            mlflow.log_params(params)\n",
    "        return cv_results['valid weighted_recall-mean'][-1]\n",
    "    return _objective\n"
   ]
  },
  {
   "cell_type": "code",
   "execution_count": 17,
   "metadata": {},
   "outputs": [],
   "source": [
    "#from src.p7_hyper_param import build_experiment, build_parent_run_name"
   ]
  },
  {
   "cell_type": "code",
   "execution_count": 18,
   "metadata": {},
   "outputs": [],
   "source": [
    "def lgb_single_search(train_df, experiment_name=None, config=CONFIG_SEARCH):\n",
    "    # Use the fluent API to set the tracking uri and the active experiment\n",
    "    #mlflow.set_tracking_uri(f\"{LOCAL_HOST}:{LOCAL_PORT}\")\n",
    "\n",
    "    with timer(\"Optimize hyperparameters\"):\n",
    "        # Utilise l'algorithme d'optimisation TPE (Tree-structured Parzen Estimator) comme méthode d'échantillonnage\n",
    "        # Il s'agit de l'algo qui génère les valeurs des hyperparams lors de chaque essai d'optimisation\n",
    "        # Ici il est utilisé en conjonction avec le pruning Hyperband\n",
    "        # => Le sampler choisit les params à essayer, le pruner les arrête prématurément si non performants\n",
    "        sampler = optuna.samplers.TPESampler()\n",
    "\n",
    "        # Optuna a réalisé plusieurs études empiriques avec différents algorithmes de pruning.\n",
    "        # Empiriquement, l'algorithme Hyperband a donné les meilleurs résultats\n",
    "        # Voir : https://github.com/optuna/optuna/wiki/Benchmarks-with-Kurobako\n",
    "        # reduction_factor contrôle combien de trials sont proposés dans chaque Halving Round\n",
    "        pruner = optuna.pruners.HyperbandPruner(\n",
    "            min_resource=10, max_resource=400, reduction_factor=3\n",
    "        )\n",
    "\n",
    "        # On active l'expérience\n",
    "        n_rows = train_df.shape[0]\n",
    "        experiment_id = build_experiment(\n",
    "            n_rows=n_rows, experiment_name=experiment_name, config=config\n",
    "        )\n",
    "        experiment_metadata = mlflow.set_experiment(experiment_id=experiment_id)\n",
    "        print(f\"Experience '{experiment_metadata.name}' activée\")\n",
    "\n",
    "        # On crèe une run MLFlow\n",
    "        parent_run_name, parent_run_description = build_parent_run_name(config=config)\n",
    "\n",
    "        with mlflow.start_run(\n",
    "            experiment_id=experiment_id, run_name=parent_run_name, nested=True\n",
    "        ) as run:\n",
    "            # description du run\n",
    "            mlflow.set_tag(\"mlflow.note.content\", parent_run_description)\n",
    "\n",
    "            study = optuna.create_study(\n",
    "                direction=\"maximize\",\n",
    "                sampler=sampler,\n",
    "                pruner=pruner,\n",
    "                study_name=f\"study_{experiment_metadata.name}\",\n",
    "                # storage=os.path.join(MODEL_DIR, subdir)\n",
    "            )\n",
    "\n",
    "            # gc appelle le garbage collector après chaque trial\n",
    "            study.optimize(\n",
    "                lgb_single_objective(lgb_dataset=train_df, config=config),\n",
    "                n_trials=config[\"n_trials\"],\n",
    "                gc_after_trial=True,\n",
    "                n_jobs=NUM_THREADS,\n",
    "            )\n",
    "            \n",
    "            best_params = study.best_trial.params\n",
    "            best_score = study.best_trial.value\n",
    "            mlflow.log_params(best_params)\n",
    "\n",
    "            fig = optuna.visualization.plot_parallel_coordinate(\n",
    "                study,\n",
    "                params=[\"boosting_type\", \"num_leaves\", \"learning_rate\", \"n_estimators\"],\n",
    "            )\n",
    "            im_dir = os.path.join(config[\"model_dir\"], config[\"subdir\"])\n",
    "            # fig.write_image(file=os.path.join(im_dir, \"single_parallel_coordinates.png\"), format=\"png\", scale=6)\n",
    "            fig.write_html(os.path.join(im_dir, \"single_parallel_coordinates.html\"))\n",
    "            fig = optuna.visualization.plot_param_importances(study)\n",
    "            # fig.write_image(file=os.path.join(im_dir, \"single_hyperparam_importance.png\"), format=\"png\", scale=1)\n",
    "            fig.write_html(os.path.join(im_dir, \"single_hyperparam_importance.html\"))\n",
    "\n",
    "            mlflow.log_params(best_params)\n",
    "            mlflow.log_metric(config[\"metric\"], best_score)\n",
    "            mlflow.log_artifact(\n",
    "                os.path.join(im_dir, \"single_parallel_coordinates.html\")\n",
    "            )\n",
    "            mlflow.log_artifact(\n",
    "                os.path.join(im_dir, \"single_hyperparam_importance.html\")\n",
    "            )\n",
    "            # mlflow.log_artifact(os.path.join(im_dir, \"single_hyperparam_importance.png\"))\n",
    "        # Force mlflow à terminer le run même s'il y a une erreur dedans\n",
    "        mlflow.end_run()\n",
    "    return study\n"
   ]
  },
  {
   "cell_type": "code",
   "execution_count": 31,
   "metadata": {},
   "outputs": [
    {
     "data": {
      "text/plain": [
       "{'model_dir': 'models/',\n",
       " 'model_type': 'lightgbm',\n",
       " 'subdir': 'light_simple/',\n",
       " 'data_dir': 'data/interim/',\n",
       " 'train_filename': 'all_data_simple_kernel_ohe.csv',\n",
       " 'feature_importance_filename': 'feature_importance.csv',\n",
       " 'n_predictors': 400,\n",
       " 'moo_objective': False,\n",
       " 'metric': 'weighted_recall',\n",
       " 'n_trials': 40}"
      ]
     },
     "execution_count": 31,
     "metadata": {},
     "output_type": "execute_result"
    }
   ],
   "source": [
    "config = CONFIG_SEARCH\n",
    "config"
   ]
  },
  {
   "cell_type": "code",
   "execution_count": 20,
   "metadata": {},
   "outputs": [],
   "source": [
    "config['n_trials'] = 40"
   ]
  },
  {
   "cell_type": "code",
   "execution_count": 32,
   "metadata": {},
   "outputs": [],
   "source": [
    "experiment_name = None"
   ]
  },
  {
   "cell_type": "code",
   "execution_count": 33,
   "metadata": {},
   "outputs": [
    {
     "data": {
      "text/plain": [
       "(307507, 20)"
      ]
     },
     "execution_count": 33,
     "metadata": {},
     "output_type": "execute_result"
    }
   ],
   "source": [
    "data[predictors].shape"
   ]
  },
  {
   "cell_type": "code",
   "execution_count": 39,
   "metadata": {},
   "outputs": [
    {
     "name": "stderr",
     "output_type": "stream",
     "text": [
      "[I 2024-05-10 10:59:57,484] A new study created in memory with name: study_light_simple_400x307507_40trials\n"
     ]
    },
    {
     "name": "stdout",
     "output_type": "stream",
     "text": [
      "experiment_name light_simple_400x307507_40trials\n",
      "Création de l'expérience 'light_simple_400x307507_40trials'\n",
      "Experience 'light_simple_400x307507_40trials' activée\n"
     ]
    },
    {
     "name": "stderr",
     "output_type": "stream",
     "text": [
      "[I 2024-05-10 11:00:58,041] Trial 10 finished with value: 0.9192701304309328 and parameters: {'boosting_type': 'gbdt', 'lambda_l1': 0.010236245979906347, 'lambda_l2': 0.012472878005614916, 'num_leaves': 142, 'feature_fraction': 0.9995589586074928, 'bagging_fraction': 0.51568527166329, 'bagging_freq': 3, 'min_child_samples': 38, 'learning_rate': 0.011661606594194181, 'max_bin': 224, 'n_estimators': 40}. Best is trial 10 with value: 0.9192701304309328.\n",
      "[I 2024-05-10 11:04:28,092] Trial 9 finished with value: 1.0 and parameters: {'boosting_type': 'dart', 'lambda_l1': 7.345055931263538, 'lambda_l2': 0.0022676098344615305, 'num_leaves': 57, 'feature_fraction': 0.6264447572786682, 'bagging_fraction': 0.9623764482744351, 'bagging_freq': 3, 'min_child_samples': 85, 'learning_rate': 0.07485224422944901, 'max_bin': 128, 'n_estimators': 140}. Best is trial 9 with value: 1.0.\n",
      "[I 2024-05-10 11:04:36,227] Trial 2 finished with value: 0.9192701304309328 and parameters: {'boosting_type': 'dart', 'lambda_l1': 6.8946253627699114, 'lambda_l2': 5.954380272500296e-06, 'num_leaves': 85, 'feature_fraction': 0.6927863602592722, 'bagging_fraction': 0.5612882063345714, 'bagging_freq': 5, 'min_child_samples': 37, 'learning_rate': 0.0016761976971766657, 'max_bin': 320, 'n_estimators': 100}. Best is trial 9 with value: 1.0.\n",
      "[I 2024-05-10 11:04:41,088] Trial 14 finished with value: 1.0 and parameters: {'boosting_type': 'dart', 'lambda_l1': 9.090632061031472e-07, 'lambda_l2': 2.9406221255108727, 'num_leaves': 43, 'feature_fraction': 0.9483349375168492, 'bagging_fraction': 0.719238076246815, 'bagging_freq': 5, 'min_child_samples': 66, 'learning_rate': 0.013805659961076437, 'max_bin': 192, 'n_estimators': 380}. Best is trial 9 with value: 1.0.\n",
      "[I 2024-05-10 11:05:30,393] Trial 17 finished with value: 0.9192701304309328 and parameters: {'boosting_type': 'gbdt', 'lambda_l1': 1.6534254214344812, 'lambda_l2': 0.09938471692465442, 'num_leaves': 186, 'feature_fraction': 0.9625314753390218, 'bagging_fraction': 0.4730431826652066, 'bagging_freq': 2, 'min_child_samples': 98, 'learning_rate': 0.00041604781347180214, 'max_bin': 128, 'n_estimators': 40}. Best is trial 9 with value: 1.0.\n",
      "[I 2024-05-10 11:05:35,542] Trial 13 finished with value: 1.0 and parameters: {'boosting_type': 'gbdt', 'lambda_l1': 0.00010957746326523445, 'lambda_l2': 3.965438399727038e-07, 'num_leaves': 51, 'feature_fraction': 0.5172021141746566, 'bagging_fraction': 0.9639578214881325, 'bagging_freq': 7, 'min_child_samples': 38, 'learning_rate': 0.2812761581134221, 'max_bin': 384, 'n_estimators': 220}. Best is trial 9 with value: 1.0.\n",
      "[I 2024-05-10 11:07:34,744] Trial 18 finished with value: 1.0 and parameters: {'boosting_type': 'gbdt', 'lambda_l1': 0.19103667616838624, 'lambda_l2': 7.715603461204382e-08, 'num_leaves': 66, 'feature_fraction': 0.7443954133595825, 'bagging_fraction': 0.6980652105342193, 'bagging_freq': 4, 'min_child_samples': 18, 'learning_rate': 0.1696123804266007, 'max_bin': 416, 'n_estimators': 260}. Best is trial 9 with value: 1.0.\n",
      "[I 2024-05-10 11:08:08,111] Trial 5 finished with value: 1.0 and parameters: {'boosting_type': 'dart', 'lambda_l1': 4.594553968542979e-08, 'lambda_l2': 0.00276740360767409, 'num_leaves': 75, 'feature_fraction': 0.9210918990651616, 'bagging_fraction': 0.5670848948775563, 'bagging_freq': 1, 'min_child_samples': 7, 'learning_rate': 0.005886473779878291, 'max_bin': 192, 'n_estimators': 380}. Best is trial 9 with value: 1.0.\n",
      "[I 2024-05-10 11:08:39,958] Trial 15 finished with value: 1.0 and parameters: {'boosting_type': 'dart', 'lambda_l1': 1.4653675023142738e-06, 'lambda_l2': 0.06433210113484153, 'num_leaves': 19, 'feature_fraction': 0.7454185186589666, 'bagging_fraction': 0.5152929477795406, 'bagging_freq': 6, 'min_child_samples': 63, 'learning_rate': 0.014861016087510582, 'max_bin': 320, 'n_estimators': 380}. Best is trial 9 with value: 1.0.\n",
      "[I 2024-05-10 11:10:26,019] Trial 8 finished with value: 1.0 and parameters: {'boosting_type': 'gbdt', 'lambda_l1': 0.1772903561562609, 'lambda_l2': 1.0726768950295194e-06, 'num_leaves': 207, 'feature_fraction': 0.8403494535602324, 'bagging_fraction': 0.876477059086416, 'bagging_freq': 7, 'min_child_samples': 82, 'learning_rate': 0.03102877419699648, 'max_bin': 416, 'n_estimators': 240}. Best is trial 9 with value: 1.0.\n",
      "[I 2024-05-10 11:10:38,982] Trial 24 finished with value: 1.0 and parameters: {'boosting_type': 'dart', 'lambda_l1': 1.6505475979996864e-05, 'lambda_l2': 0.4789813696522009, 'num_leaves': 35, 'feature_fraction': 0.7079443692784607, 'bagging_fraction': 0.9677332406833786, 'bagging_freq': 4, 'min_child_samples': 27, 'learning_rate': 0.12843443141684513, 'max_bin': 448, 'n_estimators': 60}. Best is trial 9 with value: 1.0.\n",
      "[I 2024-05-10 11:10:40,255] Trial 1 finished with value: 0.9192701304309328 and parameters: {'boosting_type': 'gbdt', 'lambda_l1': 0.6382853151533237, 'lambda_l2': 7.084228369913773e-06, 'num_leaves': 36, 'feature_fraction': 0.41607027284816456, 'bagging_fraction': 0.5880738715477889, 'bagging_freq': 2, 'min_child_samples': 9, 'learning_rate': 0.0017240461584552998, 'max_bin': 160, 'n_estimators': 280}. Best is trial 9 with value: 1.0.\n",
      "[I 2024-05-10 11:11:51,739] Trial 22 finished with value: 1.0 and parameters: {'boosting_type': 'gbdt', 'lambda_l1': 1.6845292755331445e-06, 'lambda_l2': 1.1708650281888827e-07, 'num_leaves': 34, 'feature_fraction': 0.8767966458595643, 'bagging_fraction': 0.8446434603297146, 'bagging_freq': 7, 'min_child_samples': 85, 'learning_rate': 0.07404640292503897, 'max_bin': 224, 'n_estimators': 240}. Best is trial 9 with value: 1.0.\n",
      "[I 2024-05-10 11:14:05,685] Trial 6 finished with value: 0.9192701304309328 and parameters: {'boosting_type': 'dart', 'lambda_l1': 0.2288251810609013, 'lambda_l2': 1.240499419388801e-08, 'num_leaves': 118, 'feature_fraction': 0.6335173728965063, 'bagging_fraction': 0.4790537055250109, 'bagging_freq': 2, 'min_child_samples': 46, 'learning_rate': 0.00026198910134695683, 'max_bin': 416, 'n_estimators': 260}. Best is trial 9 with value: 1.0.\n",
      "[I 2024-05-10 11:14:10,495] Trial 21 finished with value: 0.9192701304309328 and parameters: {'boosting_type': 'gbdt', 'lambda_l1': 0.00044087285488766687, 'lambda_l2': 0.00015667040361288896, 'num_leaves': 150, 'feature_fraction': 0.69681635267466, 'bagging_fraction': 0.8990495562688703, 'bagging_freq': 4, 'min_child_samples': 58, 'learning_rate': 0.00019334918031920815, 'max_bin': 192, 'n_estimators': 140}. Best is trial 9 with value: 1.0.\n",
      "[I 2024-05-10 11:14:58,056] Trial 7 finished with value: 0.9192701304309328 and parameters: {'boosting_type': 'dart', 'lambda_l1': 0.00011049556892864663, 'lambda_l2': 3.557405304085062e-06, 'num_leaves': 188, 'feature_fraction': 0.4998868069292416, 'bagging_fraction': 0.9524317458653644, 'bagging_freq': 5, 'min_child_samples': 11, 'learning_rate': 0.00013830982980087098, 'max_bin': 352, 'n_estimators': 100}. Best is trial 9 with value: 1.0.\n",
      "[I 2024-05-10 11:15:58,511] Trial 3 finished with value: 0.9192701304309328 and parameters: {'boosting_type': 'gbdt', 'lambda_l1': 4.45328497043871, 'lambda_l2': 0.12373723195764545, 'num_leaves': 162, 'feature_fraction': 0.6611596924566678, 'bagging_fraction': 0.9863486119737868, 'bagging_freq': 7, 'min_child_samples': 48, 'learning_rate': 0.00022625991014383964, 'max_bin': 512, 'n_estimators': 220}. Best is trial 9 with value: 1.0.\n",
      "[I 2024-05-10 11:18:07,850] Trial 4 finished with value: 1.0 and parameters: {'boosting_type': 'gbdt', 'lambda_l1': 5.404332300462549e-07, 'lambda_l2': 0.056100223612486295, 'num_leaves': 238, 'feature_fraction': 0.5529430103762536, 'bagging_fraction': 0.44199888220790207, 'bagging_freq': 1, 'min_child_samples': 68, 'learning_rate': 0.10717056569094498, 'max_bin': 320, 'n_estimators': 120}. Best is trial 9 with value: 1.0.\n",
      "[I 2024-05-10 11:18:10,348] Trial 19 finished with value: 1.0 and parameters: {'boosting_type': 'dart', 'lambda_l1': 2.774738646196603, 'lambda_l2': 4.012557248139901e-05, 'num_leaves': 236, 'feature_fraction': 0.5353706841859123, 'bagging_fraction': 0.4474087589189286, 'bagging_freq': 7, 'min_child_samples': 77, 'learning_rate': 0.1759501668564121, 'max_bin': 416, 'n_estimators': 340}. Best is trial 9 with value: 1.0.\n",
      "[I 2024-05-10 11:18:47,269] Trial 20 finished with value: 0.9424013097689325 and parameters: {'boosting_type': 'gbdt', 'lambda_l1': 2.18884499769834e-07, 'lambda_l2': 2.1780635266823164e-07, 'num_leaves': 184, 'feature_fraction': 0.44017906503598186, 'bagging_fraction': 0.7557313268480378, 'bagging_freq': 6, 'min_child_samples': 30, 'learning_rate': 0.020249222344353893, 'max_bin': 352, 'n_estimators': 60}. Best is trial 9 with value: 1.0.\n",
      "[I 2024-05-10 11:19:45,809] Trial 23 finished with value: 0.9192701304309328 and parameters: {'boosting_type': 'gbdt', 'lambda_l1': 0.0013818562154243996, 'lambda_l2': 4.301517610004232e-08, 'num_leaves': 166, 'feature_fraction': 0.6270645678406014, 'bagging_fraction': 0.45045269557407314, 'bagging_freq': 6, 'min_child_samples': 97, 'learning_rate': 0.005127664297616896, 'max_bin': 384, 'n_estimators': 120}. Best is trial 9 with value: 1.0.\n",
      "[I 2024-05-10 11:20:23,687] Trial 0 finished with value: 0.9192701304309328 and parameters: {'boosting_type': 'dart', 'lambda_l1': 1.2391169172288812e-06, 'lambda_l2': 8.643313404670515e-07, 'num_leaves': 68, 'feature_fraction': 0.6841192472252158, 'bagging_fraction': 0.9687881287688919, 'bagging_freq': 7, 'min_child_samples': 65, 'learning_rate': 0.0001122404391697388, 'max_bin': 512, 'n_estimators': 240}. Best is trial 9 with value: 1.0.\n",
      "[I 2024-05-10 11:21:27,617] Trial 12 finished with value: 0.9192701304309328 and parameters: {'boosting_type': 'gbdt', 'lambda_l1': 4.663160039699777e-08, 'lambda_l2': 1.5902532084787688, 'num_leaves': 125, 'feature_fraction': 0.6010683971218396, 'bagging_fraction': 0.5788487736030677, 'bagging_freq': 7, 'min_child_samples': 33, 'learning_rate': 0.001089814911778635, 'max_bin': 224, 'n_estimators': 360}. Best is trial 9 with value: 1.0.\n",
      "[I 2024-05-10 11:25:28,774] Trial 34 finished with value: 0.9192701304309328 and parameters: {'boosting_type': 'dart', 'lambda_l1': 1.027633346878653e-08, 'lambda_l2': 0.0013859323943450688, 'num_leaves': 103, 'feature_fraction': 0.806652389077454, 'bagging_fraction': 0.4076207598603633, 'bagging_freq': 1, 'min_child_samples': 71, 'learning_rate': 0.0027420552970450133, 'max_bin': 288, 'n_estimators': 180}. Best is trial 9 with value: 1.0.\n",
      "[I 2024-05-10 11:26:23,257] Trial 11 finished with value: 1.0 and parameters: {'boosting_type': 'gbdt', 'lambda_l1': 0.0006448270498983715, 'lambda_l2': 0.0007437733398305608, 'num_leaves': 243, 'feature_fraction': 0.8216131330933027, 'bagging_fraction': 0.5202828089551607, 'bagging_freq': 4, 'min_child_samples': 44, 'learning_rate': 0.003959327041096647, 'max_bin': 224, 'n_estimators': 220}. Best is trial 9 with value: 1.0.\n",
      "[I 2024-05-10 11:29:50,530] Trial 36 finished with value: 1.0 and parameters: {'boosting_type': 'gbdt', 'lambda_l1': 1.8331232485315718e-08, 'lambda_l2': 0.001956980290419796, 'num_leaves': 255, 'feature_fraction': 0.8235866699372683, 'bagging_fraction': 0.404046748476366, 'bagging_freq': 1, 'min_child_samples': 73, 'learning_rate': 0.041672356512504574, 'max_bin': 288, 'n_estimators': 180}. Best is trial 9 with value: 1.0.\n",
      "[I 2024-05-10 11:30:14,325] Trial 37 finished with value: 1.0 and parameters: {'boosting_type': 'gbdt', 'lambda_l1': 5.509085079814069e-08, 'lambda_l2': 0.0013647968137908313, 'num_leaves': 246, 'feature_fraction': 0.8429259875666447, 'bagging_fraction': 0.6040884081778147, 'bagging_freq': 1, 'min_child_samples': 75, 'learning_rate': 0.03668238783231943, 'max_bin': 288, 'n_estimators': 180}. Best is trial 9 with value: 1.0.\n",
      "[I 2024-05-10 11:30:16,629] Trial 38 finished with value: 1.0 and parameters: {'boosting_type': 'gbdt', 'lambda_l1': 1.9369249675614727e-08, 'lambda_l2': 0.0020870332822086773, 'num_leaves': 234, 'feature_fraction': 0.8436803981347815, 'bagging_fraction': 0.6215769388423764, 'bagging_freq': 1, 'min_child_samples': 76, 'learning_rate': 0.027690491904994518, 'max_bin': 288, 'n_estimators': 180}. Best is trial 9 with value: 1.0.\n",
      "[I 2024-05-10 11:30:32,728] Trial 39 finished with value: 1.0 and parameters: {'boosting_type': 'gbdt', 'lambda_l1': 0.011258659963583936, 'lambda_l2': 0.012468471331752653, 'num_leaves': 212, 'feature_fraction': 0.8908491887125877, 'bagging_fraction': 0.6207725284231699, 'bagging_freq': 1, 'min_child_samples': 80, 'learning_rate': 0.04282094114068989, 'max_bin': 288, 'n_estimators': 320}. Best is trial 9 with value: 1.0.\n",
      "[I 2024-05-10 11:31:10,702] Trial 29 finished with value: 1.0 and parameters: {'boosting_type': 'dart', 'lambda_l1': 0.0031999406173028565, 'lambda_l2': 5.8697346767591025e-05, 'num_leaves': 235, 'feature_fraction': 0.8469833517238076, 'bagging_fraction': 0.6790989216355136, 'bagging_freq': 1, 'min_child_samples': 66, 'learning_rate': 0.0038924689408820997, 'max_bin': 512, 'n_estimators': 320}. Best is trial 9 with value: 1.0.\n",
      "[I 2024-05-10 11:34:21,080] Trial 16 finished with value: 1.0 and parameters: {'boosting_type': 'dart', 'lambda_l1': 8.309304542069978e-08, 'lambda_l2': 9.880086025838153e-05, 'num_leaves': 83, 'feature_fraction': 0.7678972190706408, 'bagging_fraction': 0.8814499392391882, 'bagging_freq': 1, 'min_child_samples': 77, 'learning_rate': 0.004538780592691382, 'max_bin': 224, 'n_estimators': 380}. Best is trial 9 with value: 1.0.\n",
      "[I 2024-05-10 11:38:14,224] Trial 35 finished with value: 1.0 and parameters: {'boosting_type': 'dart', 'lambda_l1': 1.4330412929617886e-08, 'lambda_l2': 0.003281630514754638, 'num_leaves': 106, 'feature_fraction': 0.5823228198563435, 'bagging_fraction': 0.40476043932633265, 'bagging_freq': 1, 'min_child_samples': 99, 'learning_rate': 0.004571937164046792, 'max_bin': 256, 'n_estimators': 320}. Best is trial 9 with value: 1.0.\n",
      "[I 2024-05-10 11:38:53,831] Trial 32 finished with value: 1.0 and parameters: {'boosting_type': 'dart', 'lambda_l1': 1.2213196907843563e-08, 'lambda_l2': 0.0003346360863808263, 'num_leaves': 256, 'feature_fraction': 0.8509969532067623, 'bagging_fraction': 0.7526007749991172, 'bagging_freq': 1, 'min_child_samples': 78, 'learning_rate': 0.003286058125977581, 'max_bin': 288, 'n_estimators': 320}. Best is trial 9 with value: 1.0.\n",
      "[I 2024-05-10 11:41:00,065] Trial 30 finished with value: 1.0 and parameters: {'boosting_type': 'dart', 'lambda_l1': 3.096954616918739e-08, 'lambda_l2': 0.00014741717300739685, 'num_leaves': 249, 'feature_fraction': 0.8395879546572053, 'bagging_fraction': 0.698756498846624, 'bagging_freq': 1, 'min_child_samples': 78, 'learning_rate': 0.003146289251841356, 'max_bin': 512, 'n_estimators': 320}. Best is trial 9 with value: 1.0.\n",
      "[I 2024-05-10 11:44:25,786] Trial 28 finished with value: 1.0 and parameters: {'boosting_type': 'dart', 'lambda_l1': 1.9486872777277445e-08, 'lambda_l2': 0.00010309950890289785, 'num_leaves': 255, 'feature_fraction': 0.8390226590288116, 'bagging_fraction': 0.4080758512574532, 'bagging_freq': 1, 'min_child_samples': 56, 'learning_rate': 0.002751517168086927, 'max_bin': 512, 'n_estimators': 340}. Best is trial 9 with value: 1.0.\n",
      "[I 2024-05-10 11:44:32,968] Trial 25 finished with value: 0.9192701304309328 and parameters: {'boosting_type': 'dart', 'lambda_l1': 2.476820745671826e-08, 'lambda_l2': 9.55920864130848e-05, 'num_leaves': 254, 'feature_fraction': 0.43514623400532587, 'bagging_fraction': 0.6581583317880104, 'bagging_freq': 1, 'min_child_samples': 8, 'learning_rate': 0.00013859146151885818, 'max_bin': 224, 'n_estimators': 340}. Best is trial 9 with value: 1.0.\n",
      "[I 2024-05-10 11:44:38,593] Trial 31 finished with value: 1.0 and parameters: {'boosting_type': 'dart', 'lambda_l1': 1.7215213990081556e-08, 'lambda_l2': 0.00010131879930915891, 'num_leaves': 247, 'feature_fraction': 0.8668407129053497, 'bagging_fraction': 0.766502276162348, 'bagging_freq': 1, 'min_child_samples': 74, 'learning_rate': 0.00389594739139489, 'max_bin': 480, 'n_estimators': 320}. Best is trial 9 with value: 1.0.\n",
      "[I 2024-05-10 11:44:42,159] Trial 27 finished with value: 1.0 and parameters: {'boosting_type': 'dart', 'lambda_l1': 1.8885230139478736e-08, 'lambda_l2': 3.78209229676737e-05, 'num_leaves': 249, 'feature_fraction': 0.8669710418187528, 'bagging_fraction': 0.8220161573687171, 'bagging_freq': 1, 'min_child_samples': 78, 'learning_rate': 0.002941073348562688, 'max_bin': 512, 'n_estimators': 320}. Best is trial 9 with value: 1.0.\n",
      "[I 2024-05-10 11:45:33,705] Trial 33 finished with value: 0.9195302886965895 and parameters: {'boosting_type': 'dart', 'lambda_l1': 2.2060870453980582e-08, 'lambda_l2': 0.00048096954955384897, 'num_leaves': 249, 'feature_fraction': 0.5437172800149481, 'bagging_fraction': 0.41331533198152937, 'bagging_freq': 1, 'min_child_samples': 72, 'learning_rate': 0.002985897898025231, 'max_bin': 288, 'n_estimators': 320}. Best is trial 9 with value: 1.0.\n",
      "[I 2024-05-10 11:45:43,108] Trial 26 finished with value: 1.0 and parameters: {'boosting_type': 'gbdt', 'lambda_l1': 5.5585621488480586e-08, 'lambda_l2': 2.727967949301173e-05, 'num_leaves': 253, 'feature_fraction': 0.8611660240359141, 'bagging_fraction': 0.772176602553635, 'bagging_freq': 1, 'min_child_samples': 8, 'learning_rate': 0.002650608430078417, 'max_bin': 512, 'n_estimators': 300}. Best is trial 9 with value: 1.0.\n"
     ]
    },
    {
     "name": "stdout",
     "output_type": "stream",
     "text": [
      "Optimize hyperparameters - duration (hh:mm:ss) : 0:45:46\n"
     ]
    }
   ],
   "source": [
    "study = sk_single_search(data[predictors + ['TARGET']], experiment_name=experiment_name, config=config)"
   ]
  },
  {
   "cell_type": "code",
   "execution_count": 24,
   "metadata": {},
   "outputs": [],
   "source": [
    "# Use the fluent API to set the tracking uri and the active experiment\n",
    "mlflow.set_tracking_uri(f\"{LOCAL_HOST}:{LOCAL_PORT}\")"
   ]
  },
  {
   "cell_type": "code",
   "execution_count": 24,
   "metadata": {},
   "outputs": [],
   "source": [
    "#study = lgb_single_search(data[predictors + ['TARGET']], experiment_name=experiment_name, config=config)"
   ]
  },
  {
   "cell_type": "markdown",
   "metadata": {
    "collapsed": false
   },
   "source": [
    "## Run A Study"
   ]
  },
  {
   "cell_type": "code",
   "execution_count": 15,
   "metadata": {},
   "outputs": [
    {
     "data": {
      "text/plain": [
       "'\\nDémarrer un serveur mlflow local en ligne de commande :\\nmlflow server --host 127.0.0.1 --port 8080\\n'"
      ]
     },
     "execution_count": 15,
     "metadata": {},
     "output_type": "execute_result"
    }
   ],
   "source": [
    "\"\"\"\n",
    "Démarrer un serveur mlflow local en ligne de commande :\n",
    "mlflow server --host 127.0.0.1 --port 8080\n",
    "\"\"\""
   ]
  },
  {
   "cell_type": "code",
   "execution_count": 16,
   "metadata": {},
   "outputs": [
    {
     "data": {
      "text/plain": [
       "'# Use the fluent API to set the tracking uri and the active experiment\\nmlflow.set_tracking_uri(f\"{LOCAL_HOST}:{LOCAL_PORT}\")'"
      ]
     },
     "execution_count": 16,
     "metadata": {},
     "output_type": "execute_result"
    }
   ],
   "source": [
    "\"\"\"# Use the fluent API to set the tracking uri and the active experiment\n",
    "mlflow.set_tracking_uri(f\"{LOCAL_HOST}:{LOCAL_PORT}\")\"\"\""
   ]
  },
  {
   "cell_type": "code",
   "execution_count": 17,
   "metadata": {},
   "outputs": [
    {
     "name": "stdout",
     "output_type": "stream",
     "text": [
      "experiment_name light_simple_20x307507_100trials\n",
      "Création de l'expérience 'light_simple_20x307507_100trials'\n",
      "Experience 'light_simple_20x307507_100trials' activée\n"
     ]
    },
    {
     "name": "stderr",
     "output_type": "stream",
     "text": [
      "[I 2024-05-06 23:05:50,403] A new study created in memory with name: study_light_simple_20x307507_100trials\n",
      "[I 2024-05-06 23:06:04,928] Trial 18 finished with value: 1.0 and parameters: {'boosting_type': 'gbdt', 'lambda_l1': 7.064863870788589, 'lambda_l2': 3.9451936584622644e-06, 'num_leaves': 174, 'feature_fraction': 0.8429258549197521, 'bagging_fraction': 0.7719731044862875, 'bagging_freq': 5, 'min_child_samples': 100, 'learning_rate': 0.3496027616599878, 'max_bin': 480, 'n_estimators': 80}. Best is trial 18 with value: 1.0.\n",
      "[I 2024-05-06 23:06:05,750] Trial 8 finished with value: 0.9192701304309328 and parameters: {'boosting_type': 'gbdt', 'lambda_l1': 0.0018216133950195634, 'lambda_l2': 0.07680533717405039, 'num_leaves': 139, 'feature_fraction': 0.9342887198519151, 'bagging_fraction': 0.8859913125362429, 'bagging_freq': 3, 'min_child_samples': 10, 'learning_rate': 0.00010223793692724258, 'max_bin': 416, 'n_estimators': 40}. Best is trial 18 with value: 1.0.\n",
      "[I 2024-05-06 23:06:32,601] Trial 20 finished with value: 0.9192701304309328 and parameters: {'boosting_type': 'gbdt', 'lambda_l1': 2.1849673053239074, 'lambda_l2': 9.091981652703936e-05, 'num_leaves': 41, 'feature_fraction': 0.9303514371576957, 'bagging_fraction': 0.8423178271573823, 'bagging_freq': 2, 'min_child_samples': 52, 'learning_rate': 0.003225020821166685, 'max_bin': 352, 'n_estimators': 180}. Best is trial 18 with value: 1.0.\n",
      "[I 2024-05-06 23:06:40,225] Trial 25 finished with value: 0.9192701304309328 and parameters: {'boosting_type': 'dart', 'lambda_l1': 0.013356366328387955, 'lambda_l2': 6.251949787416434e-07, 'num_leaves': 39, 'feature_fraction': 0.6618573538166515, 'bagging_fraction': 0.4050460621194984, 'bagging_freq': 2, 'min_child_samples': 64, 'learning_rate': 0.0009814132264206019, 'max_bin': 256, 'n_estimators': 80}. Best is trial 18 with value: 1.0.\n",
      "[I 2024-05-06 23:06:40,511] Trial 27 finished with value: 1.0 and parameters: {'boosting_type': 'gbdt', 'lambda_l1': 0.00012132751440244631, 'lambda_l2': 4.146376540726695e-08, 'num_leaves': 82, 'feature_fraction': 0.744413784506824, 'bagging_fraction': 0.5622211503714912, 'bagging_freq': 7, 'min_child_samples': 80, 'learning_rate': 0.24465582591798277, 'max_bin': 480, 'n_estimators': 140}. Best is trial 18 with value: 1.0.\n",
      "[I 2024-05-06 23:06:52,257] Trial 26 finished with value: 1.0 and parameters: {'boosting_type': 'dart', 'lambda_l1': 0.006739447458015964, 'lambda_l2': 0.003049999013784824, 'num_leaves': 198, 'feature_fraction': 0.6807332856372685, 'bagging_fraction': 0.8988922459474568, 'bagging_freq': 5, 'min_child_samples': 76, 'learning_rate': 0.05679097064113726, 'max_bin': 480, 'n_estimators': 40}. Best is trial 18 with value: 1.0.\n",
      "[I 2024-05-06 23:06:54,420] Trial 2 finished with value: 1.0 and parameters: {'boosting_type': 'gbdt', 'lambda_l1': 2.6327405863930176e-06, 'lambda_l2': 1.7446358467403508e-08, 'num_leaves': 6, 'feature_fraction': 0.8399357370295448, 'bagging_fraction': 0.5596685951169633, 'bagging_freq': 2, 'min_child_samples': 87, 'learning_rate': 0.019150495382728977, 'max_bin': 480, 'n_estimators': 260}. Best is trial 18 with value: 1.0.\n",
      "[I 2024-05-06 23:06:54,664] Trial 1 finished with value: 1.0 and parameters: {'boosting_type': 'gbdt', 'lambda_l1': 0.06214234386493723, 'lambda_l2': 0.01234252599865653, 'num_leaves': 88, 'feature_fraction': 0.741415885298621, 'bagging_fraction': 0.48406922545180886, 'bagging_freq': 5, 'min_child_samples': 63, 'learning_rate': 0.08711421637639284, 'max_bin': 384, 'n_estimators': 80}. Best is trial 18 with value: 1.0.\n",
      "[I 2024-05-06 23:07:03,075] Trial 28 finished with value: 0.9192701304309328 and parameters: {'boosting_type': 'dart', 'lambda_l1': 5.50189360623619e-06, 'lambda_l2': 6.916631519976643e-07, 'num_leaves': 14, 'feature_fraction': 0.5373110356896846, 'bagging_fraction': 0.9964691939960021, 'bagging_freq': 7, 'min_child_samples': 35, 'learning_rate': 0.0009544207718232848, 'max_bin': 416, 'n_estimators': 120}. Best is trial 18 with value: 1.0.\n",
      "[I 2024-05-06 23:07:11,837] Trial 24 finished with value: 0.9192701304309328 and parameters: {'boosting_type': 'gbdt', 'lambda_l1': 1.9542797478082343e-08, 'lambda_l2': 0.008553073741885889, 'num_leaves': 122, 'feature_fraction': 0.926780395214736, 'bagging_fraction': 0.42442692633003587, 'bagging_freq': 3, 'min_child_samples': 21, 'learning_rate': 0.0015128381796837992, 'max_bin': 416, 'n_estimators': 240}. Best is trial 18 with value: 1.0.\n",
      "[I 2024-05-06 23:07:25,922] Trial 39 finished with value: 1.0 and parameters: {'boosting_type': 'dart', 'lambda_l1': 0.014968392821587465, 'lambda_l2': 0.010463797524850044, 'num_leaves': 147, 'feature_fraction': 0.7377614784181379, 'bagging_fraction': 0.8862715148787244, 'bagging_freq': 6, 'min_child_samples': 11, 'learning_rate': 0.07805357037370295, 'max_bin': 288, 'n_estimators': 40}. Best is trial 18 with value: 1.0.\n",
      "[I 2024-05-06 23:07:44,987] Trial 30 finished with value: 1.0 and parameters: {'boosting_type': 'dart', 'lambda_l1': 1.0139995009215323, 'lambda_l2': 4.8556631218122666e-05, 'num_leaves': 220, 'feature_fraction': 0.9156704976189431, 'bagging_fraction': 0.888945056080634, 'bagging_freq': 3, 'min_child_samples': 30, 'learning_rate': 0.021364828253486075, 'max_bin': 416, 'n_estimators': 140}. Best is trial 18 with value: 1.0.\n",
      "[I 2024-05-06 23:08:02,843] Trial 3 finished with value: 1.0 and parameters: {'boosting_type': 'dart', 'lambda_l1': 0.16308125973609158, 'lambda_l2': 2.1536478115661547e-08, 'num_leaves': 76, 'feature_fraction': 0.9071545633743391, 'bagging_fraction': 0.6555003568526596, 'bagging_freq': 3, 'min_child_samples': 81, 'learning_rate': 0.03718055034708739, 'max_bin': 320, 'n_estimators': 300}. Best is trial 18 with value: 1.0.\n",
      "[I 2024-05-06 23:08:03,487] Trial 36 finished with value: 0.9192701304309328 and parameters: {'boosting_type': 'dart', 'lambda_l1': 4.387917365430535e-07, 'lambda_l2': 1.888617054165288e-07, 'num_leaves': 74, 'feature_fraction': 0.8054471460549502, 'bagging_fraction': 0.7368864431021069, 'bagging_freq': 4, 'min_child_samples': 96, 'learning_rate': 0.0020698707699060193, 'max_bin': 416, 'n_estimators': 60}. Best is trial 18 with value: 1.0.\n",
      "[I 2024-05-06 23:08:05,204] Trial 0 finished with value: 0.9192701304309328 and parameters: {'boosting_type': 'gbdt', 'lambda_l1': 0.0019676787850207997, 'lambda_l2': 2.3349067338244402e-07, 'num_leaves': 197, 'feature_fraction': 0.50258957063809, 'bagging_fraction': 0.5384592923389417, 'bagging_freq': 5, 'min_child_samples': 13, 'learning_rate': 0.006199099712805571, 'max_bin': 320, 'n_estimators': 40}. Best is trial 18 with value: 1.0.\n",
      "[I 2024-05-06 23:08:16,518] Trial 12 finished with value: 0.9192701304309328 and parameters: {'boosting_type': 'gbdt', 'lambda_l1': 1.0559529559533958e-05, 'lambda_l2': 6.00104954500562e-08, 'num_leaves': 36, 'feature_fraction': 0.4716055262116571, 'bagging_fraction': 0.997199607592693, 'bagging_freq': 2, 'min_child_samples': 50, 'learning_rate': 0.0035496822301517216, 'max_bin': 288, 'n_estimators': 120}. Best is trial 18 with value: 1.0.\n",
      "[I 2024-05-06 23:08:18,461] Trial 35 finished with value: 0.9192701304309328 and parameters: {'boosting_type': 'gbdt', 'lambda_l1': 0.005824467819235853, 'lambda_l2': 0.0001880503041127129, 'num_leaves': 33, 'feature_fraction': 0.6894530055289934, 'bagging_fraction': 0.6727636062788953, 'bagging_freq': 2, 'min_child_samples': 45, 'learning_rate': 0.00042265719395543207, 'max_bin': 128, 'n_estimators': 220}. Best is trial 18 with value: 1.0.\n",
      "[I 2024-05-06 23:08:21,435] Trial 17 finished with value: 0.9192701304309328 and parameters: {'boosting_type': 'dart', 'lambda_l1': 0.03176298443557284, 'lambda_l2': 0.08510730775224856, 'num_leaves': 137, 'feature_fraction': 0.5931380556878743, 'bagging_fraction': 0.4379433986408103, 'bagging_freq': 4, 'min_child_samples': 31, 'learning_rate': 0.006115095459783877, 'max_bin': 352, 'n_estimators': 100}. Best is trial 18 with value: 1.0.\n",
      "[I 2024-05-06 23:08:38,619] Trial 7 finished with value: 1.0 and parameters: {'boosting_type': 'dart', 'lambda_l1': 8.786551274158066, 'lambda_l2': 1.853961185764244e-05, 'num_leaves': 188, 'feature_fraction': 0.6559690851488578, 'bagging_fraction': 0.506542744496613, 'bagging_freq': 1, 'min_child_samples': 5, 'learning_rate': 0.014897797440145613, 'max_bin': 352, 'n_estimators': 160}. Best is trial 18 with value: 1.0.\n",
      "[I 2024-05-06 23:08:51,570] Trial 47 finished with value: 1.0 and parameters: {'boosting_type': 'gbdt', 'lambda_l1': 2.3286193911143002e-05, 'lambda_l2': 1.5237284201956929, 'num_leaves': 2, 'feature_fraction': 0.5840762911083268, 'bagging_fraction': 0.5173604482859318, 'bagging_freq': 4, 'min_child_samples': 65, 'learning_rate': 0.014539904258696647, 'max_bin': 160, 'n_estimators': 300}. Best is trial 18 with value: 1.0.\n",
      "[I 2024-05-06 23:09:03,615] Trial 31 finished with value: 1.0 and parameters: {'boosting_type': 'dart', 'lambda_l1': 0.0006218939428670141, 'lambda_l2': 4.237199770272646e-06, 'num_leaves': 60, 'feature_fraction': 0.6419976085522978, 'bagging_fraction': 0.5625630138149516, 'bagging_freq': 3, 'min_child_samples': 20, 'learning_rate': 0.02401870566816558, 'max_bin': 192, 'n_estimators': 120}. Best is trial 18 with value: 1.0.\n",
      "[I 2024-05-06 23:09:06,427] Trial 49 finished with value: 1.0 and parameters: {'boosting_type': 'gbdt', 'lambda_l1': 0.00011081491344275693, 'lambda_l2': 2.949733744865668, 'num_leaves': 3, 'feature_fraction': 0.8241119013592425, 'bagging_fraction': 0.5268388233999303, 'bagging_freq': 1, 'min_child_samples': 67, 'learning_rate': 0.015489086246833322, 'max_bin': 160, 'n_estimators': 400}. Best is trial 18 with value: 1.0.\n",
      "[I 2024-05-06 23:09:09,658] Trial 6 finished with value: 1.0 and parameters: {'boosting_type': 'dart', 'lambda_l1': 0.00018288274358183252, 'lambda_l2': 3.0410909744476125e-06, 'num_leaves': 87, 'feature_fraction': 0.7467771386853101, 'bagging_fraction': 0.9868172143375297, 'bagging_freq': 7, 'min_child_samples': 55, 'learning_rate': 0.11677709872588239, 'max_bin': 416, 'n_estimators': 220}. Best is trial 18 with value: 1.0.\n",
      "[I 2024-05-06 23:09:12,161] Trial 13 finished with value: 1.0 and parameters: {'boosting_type': 'gbdt', 'lambda_l1': 0.0018370689086732006, 'lambda_l2': 1.1047485378107062e-06, 'num_leaves': 53, 'feature_fraction': 0.9087753608078525, 'bagging_fraction': 0.9576550912974241, 'bagging_freq': 3, 'min_child_samples': 20, 'learning_rate': 0.0034149213361174355, 'max_bin': 384, 'n_estimators': 260}. Best is trial 18 with value: 1.0.\n",
      "[I 2024-05-06 23:09:13,507] Trial 40 finished with value: 0.9192701304309328 and parameters: {'boosting_type': 'gbdt', 'lambda_l1': 0.0002468765442714557, 'lambda_l2': 0.0071188855659089, 'num_leaves': 216, 'feature_fraction': 0.5366407513824971, 'bagging_fraction': 0.9140760968974173, 'bagging_freq': 5, 'min_child_samples': 8, 'learning_rate': 0.00028751874824582143, 'max_bin': 416, 'n_estimators': 60}. Best is trial 18 with value: 1.0.\n",
      "[I 2024-05-06 23:09:27,466] Trial 50 finished with value: 1.0 and parameters: {'boosting_type': 'gbdt', 'lambda_l1': 0.00012227835636954623, 'lambda_l2': 0.8260641199904252, 'num_leaves': 105, 'feature_fraction': 0.999619120473823, 'bagging_fraction': 0.613246315325622, 'bagging_freq': 1, 'min_child_samples': 66, 'learning_rate': 0.122379184489921, 'max_bin': 512, 'n_estimators': 400}. Best is trial 18 with value: 1.0.\n",
      "[I 2024-05-06 23:09:51,656] Trial 56 finished with value: 1.0 and parameters: {'boosting_type': 'gbdt', 'lambda_l1': 0.16442599877404124, 'lambda_l2': 1.9412924629518842e-08, 'num_leaves': 106, 'feature_fraction': 0.9985257283523102, 'bagging_fraction': 0.6598103263784826, 'bagging_freq': 6, 'min_child_samples': 88, 'learning_rate': 0.048014441973534126, 'max_bin': 512, 'n_estimators': 320}. Best is trial 18 with value: 1.0.\n",
      "[I 2024-05-06 23:09:55,621] Trial 23 finished with value: 0.9192701304309328 and parameters: {'boosting_type': 'gbdt', 'lambda_l1': 4.662472783707103e-05, 'lambda_l2': 9.336030714055482e-06, 'num_leaves': 54, 'feature_fraction': 0.5468021173376517, 'bagging_fraction': 0.7200298783942691, 'bagging_freq': 2, 'min_child_samples': 57, 'learning_rate': 0.00014109172826004332, 'max_bin': 160, 'n_estimators': 200}. Best is trial 18 with value: 1.0.\n",
      "[I 2024-05-06 23:09:57,485] Trial 10 finished with value: 0.9192701304309328 and parameters: {'boosting_type': 'dart', 'lambda_l1': 8.618053833544205e-08, 'lambda_l2': 0.028254470662353755, 'num_leaves': 81, 'feature_fraction': 0.5332616330942191, 'bagging_fraction': 0.7266479063221585, 'bagging_freq': 2, 'min_child_samples': 97, 'learning_rate': 0.0015783515858448327, 'max_bin': 352, 'n_estimators': 200}. Best is trial 18 with value: 1.0.\n",
      "[I 2024-05-06 23:10:06,245] Trial 53 finished with value: 1.0 and parameters: {'boosting_type': 'gbdt', 'lambda_l1': 0.1581716795522055, 'lambda_l2': 1.04703899452066e-08, 'num_leaves': 96, 'feature_fraction': 0.8660587514102512, 'bagging_fraction': 0.6393764190075409, 'bagging_freq': 6, 'min_child_samples': 85, 'learning_rate': 0.10642477089543184, 'max_bin': 512, 'n_estimators': 320}. Best is trial 18 with value: 1.0.\n",
      "[I 2024-05-06 23:10:09,217] Trial 46 finished with value: 1.0 and parameters: {'boosting_type': 'gbdt', 'lambda_l1': 5.605729463408702e-05, 'lambda_l2': 0.2026105636919123, 'num_leaves': 17, 'feature_fraction': 0.6075508596554382, 'bagging_fraction': 0.5281375347377539, 'bagging_freq': 1, 'min_child_samples': 53, 'learning_rate': 0.011901857890269155, 'max_bin': 160, 'n_estimators': 360}. Best is trial 18 with value: 1.0.\n",
      "[I 2024-05-06 23:10:09,478] Trial 52 finished with value: 1.0 and parameters: {'boosting_type': 'gbdt', 'lambda_l1': 0.17827614182685583, 'lambda_l2': 1.851072121044896e-08, 'num_leaves': 106, 'feature_fraction': 0.841583742414146, 'bagging_fraction': 0.6334221230048668, 'bagging_freq': 1, 'min_child_samples': 89, 'learning_rate': 0.11209466806769741, 'max_bin': 512, 'n_estimators': 380}. Best is trial 18 with value: 1.0.\n",
      "[I 2024-05-06 23:10:10,818] Trial 33 finished with value: 1.0 and parameters: {'boosting_type': 'gbdt', 'lambda_l1': 0.008678549401383151, 'lambda_l2': 0.7247433890125617, 'num_leaves': 51, 'feature_fraction': 0.6021539256674462, 'bagging_fraction': 0.8845975310914231, 'bagging_freq': 6, 'min_child_samples': 52, 'learning_rate': 0.012515331061624791, 'max_bin': 320, 'n_estimators': 340}. Best is trial 18 with value: 1.0.\n",
      "[I 2024-05-06 23:10:16,984] Trial 5 finished with value: 0.9192701304309328 and parameters: {'boosting_type': 'gbdt', 'lambda_l1': 4.505109196768208e-06, 'lambda_l2': 0.004888672138151381, 'num_leaves': 25, 'feature_fraction': 0.6002620598963957, 'bagging_fraction': 0.5275524485524941, 'bagging_freq': 1, 'min_child_samples': 48, 'learning_rate': 0.001374836325161756, 'max_bin': 224, 'n_estimators': 400}. Best is trial 18 with value: 1.0.\n",
      "[I 2024-05-06 23:10:22,091] Trial 19 finished with value: 0.9192701304309328 and parameters: {'boosting_type': 'gbdt', 'lambda_l1': 0.9517337978793602, 'lambda_l2': 0.649423973093307, 'num_leaves': 124, 'feature_fraction': 0.581788116442815, 'bagging_fraction': 0.5357951797768956, 'bagging_freq': 5, 'min_child_samples': 39, 'learning_rate': 0.003816366601948192, 'max_bin': 352, 'n_estimators': 180}. Best is trial 18 with value: 1.0.\n",
      "[I 2024-05-06 23:10:50,953] Trial 54 finished with value: 1.0 and parameters: {'boosting_type': 'gbdt', 'lambda_l1': 0.16898106824512787, 'lambda_l2': 1.1976877538933731e-08, 'num_leaves': 104, 'feature_fraction': 0.8670711359707435, 'bagging_fraction': 0.6391041958208178, 'bagging_freq': 6, 'min_child_samples': 86, 'learning_rate': 0.04138406058494417, 'max_bin': 512, 'n_estimators': 320}. Best is trial 18 with value: 1.0.\n",
      "[I 2024-05-06 23:10:59,156] Trial 57 finished with value: 1.0 and parameters: {'boosting_type': 'gbdt', 'lambda_l1': 0.20625339504187667, 'lambda_l2': 1.0426646526332626e-08, 'num_leaves': 106, 'feature_fraction': 0.8613632106636281, 'bagging_fraction': 0.6439803767275268, 'bagging_freq': 6, 'min_child_samples': 87, 'learning_rate': 0.04328310103912974, 'max_bin': 224, 'n_estimators': 320}. Best is trial 18 with value: 1.0.\n",
      "[I 2024-05-06 23:11:13,725] Trial 55 finished with value: 1.0 and parameters: {'boosting_type': 'gbdt', 'lambda_l1': 0.11178739205696618, 'lambda_l2': 1.6555240981086157e-08, 'num_leaves': 108, 'feature_fraction': 0.7987374961439774, 'bagging_fraction': 0.6353720669851205, 'bagging_freq': 6, 'min_child_samples': 86, 'learning_rate': 0.041884667590503105, 'max_bin': 512, 'n_estimators': 320}. Best is trial 18 with value: 1.0.\n",
      "[I 2024-05-06 23:11:17,324] Trial 32 finished with value: 1.0 and parameters: {'boosting_type': 'gbdt', 'lambda_l1': 0.00040015633419727644, 'lambda_l2': 2.241448909480166e-05, 'num_leaves': 121, 'feature_fraction': 0.9188697701196863, 'bagging_fraction': 0.9298448836284966, 'bagging_freq': 6, 'min_child_samples': 91, 'learning_rate': 0.010493930397627301, 'max_bin': 512, 'n_estimators': 400}. Best is trial 18 with value: 1.0.\n",
      "[I 2024-05-06 23:11:18,935] Trial 22 finished with value: 0.9192701304309328 and parameters: {'boosting_type': 'gbdt', 'lambda_l1': 0.0014631318118919572, 'lambda_l2': 0.29976311546106704, 'num_leaves': 236, 'feature_fraction': 0.8094388686747644, 'bagging_fraction': 0.5467916783600855, 'bagging_freq': 6, 'min_child_samples': 63, 'learning_rate': 0.0013044433701661956, 'max_bin': 448, 'n_estimators': 280}. Best is trial 18 with value: 1.0.\n",
      "[I 2024-05-06 23:11:20,632] Trial 58 finished with value: 1.0 and parameters: {'boosting_type': 'gbdt', 'lambda_l1': 0.1788438454436034, 'lambda_l2': 0.0009951129352619979, 'num_leaves': 161, 'feature_fraction': 0.8790507319516551, 'bagging_fraction': 0.47108298803383, 'bagging_freq': 6, 'min_child_samples': 81, 'learning_rate': 0.03955096941171668, 'max_bin': 224, 'n_estimators': 340}. Best is trial 18 with value: 1.0.\n",
      "[I 2024-05-06 23:11:21,674] Trial 21 finished with value: 0.9984910920739057 and parameters: {'boosting_type': 'gbdt', 'lambda_l1': 6.137789142809368, 'lambda_l2': 2.3444105150313e-06, 'num_leaves': 232, 'feature_fraction': 0.8134438276202538, 'bagging_fraction': 0.9895509359231873, 'bagging_freq': 1, 'min_child_samples': 81, 'learning_rate': 0.0032531302987089724, 'max_bin': 448, 'n_estimators': 260}. Best is trial 18 with value: 1.0.\n",
      "[I 2024-05-06 23:12:10,779] Trial 60 finished with value: 1.0 and parameters: {'boosting_type': 'gbdt', 'lambda_l1': 0.13230412570457767, 'lambda_l2': 1.5275360091965972e-08, 'num_leaves': 163, 'feature_fraction': 0.8630876141337298, 'bagging_fraction': 0.4723183351705386, 'bagging_freq': 6, 'min_child_samples': 78, 'learning_rate': 0.036211075291809856, 'max_bin': 256, 'n_estimators': 320}. Best is trial 18 with value: 1.0.\n",
      "[I 2024-05-06 23:12:16,250] Trial 72 finished with value: 1.0 and parameters: {'boosting_type': 'dart', 'lambda_l1': 9.861714377535856, 'lambda_l2': 7.191718647250024e-08, 'num_leaves': 70, 'feature_fraction': 0.7451362993119279, 'bagging_fraction': 0.4853911221450749, 'bagging_freq': 3, 'min_child_samples': 72, 'learning_rate': 0.49591069562454193, 'max_bin': 384, 'n_estimators': 260}. Best is trial 18 with value: 1.0.\n",
      "[I 2024-05-06 23:13:04,029] Trial 75 finished with value: 0.8161460789255459 and parameters: {'boosting_type': 'dart', 'lambda_l1': 2.2100427785563337, 'lambda_l2': 1.934773355288021e-07, 'num_leaves': 80, 'feature_fraction': 0.7262145732463822, 'bagging_fraction': 0.5883260326577652, 'bagging_freq': 2, 'min_child_samples': 45, 'learning_rate': 0.20188218823768647, 'max_bin': 384, 'n_estimators': 180}. Best is trial 18 with value: 1.0.\n",
      "[I 2024-05-06 23:13:48,001] Trial 16 finished with value: 1.0 and parameters: {'boosting_type': 'dart', 'lambda_l1': 0.0003374730282754955, 'lambda_l2': 0.0003504771277387139, 'num_leaves': 229, 'feature_fraction': 0.7827706716494555, 'bagging_fraction': 0.46047632815481954, 'bagging_freq': 5, 'min_child_samples': 28, 'learning_rate': 0.1173436598940802, 'max_bin': 512, 'n_estimators': 340}. Best is trial 18 with value: 1.0.\n",
      "[I 2024-05-06 23:13:54,520] Trial 67 finished with value: 1.0 and parameters: {'boosting_type': 'dart', 'lambda_l1': 5.597240010577311e-07, 'lambda_l2': 0.001108408199176021, 'num_leaves': 78, 'feature_fraction': 0.7765926521317081, 'bagging_fraction': 0.47268166757700164, 'bagging_freq': 7, 'min_child_samples': 72, 'learning_rate': 0.19858009341413205, 'max_bin': 448, 'n_estimators': 280}. Best is trial 18 with value: 1.0.\n",
      "[I 2024-05-06 23:14:21,049] Trial 69 finished with value: 1.0 and parameters: {'boosting_type': 'dart', 'lambda_l1': 1.3742847044211925e-06, 'lambda_l2': 0.001002772819580851, 'num_leaves': 70, 'feature_fraction': 0.7609275254410587, 'bagging_fraction': 0.4836578432212514, 'bagging_freq': 4, 'min_child_samples': 73, 'learning_rate': 0.22887963949030551, 'max_bin': 448, 'n_estimators': 280}. Best is trial 18 with value: 1.0.\n",
      "[I 2024-05-06 23:14:33,294] Trial 71 finished with value: 1.0 and parameters: {'boosting_type': 'dart', 'lambda_l1': 1.4102762220424743e-06, 'lambda_l2': 0.0006980500121845059, 'num_leaves': 68, 'feature_fraction': 0.762202762823832, 'bagging_fraction': 0.4751365539379274, 'bagging_freq': 4, 'min_child_samples': 73, 'learning_rate': 0.17835970540216378, 'max_bin': 384, 'n_estimators': 260}. Best is trial 18 with value: 1.0.\n",
      "[I 2024-05-06 23:15:27,843] Trial 73 finished with value: 1.0 and parameters: {'boosting_type': 'dart', 'lambda_l1': 9.34979646419355e-07, 'lambda_l2': 2.0750960620678603e-07, 'num_leaves': 76, 'feature_fraction': 0.753410967852656, 'bagging_fraction': 0.48298824520526845, 'bagging_freq': 3, 'min_child_samples': 71, 'learning_rate': 0.16412749220898706, 'max_bin': 384, 'n_estimators': 240}. Best is trial 18 with value: 1.0.\n",
      "[I 2024-05-06 23:15:29,502] Trial 74 finished with value: 1.0 and parameters: {'boosting_type': 'dart', 'lambda_l1': 7.755672455289656e-07, 'lambda_l2': 1.2285781111463654e-07, 'num_leaves': 68, 'feature_fraction': 0.7611776545615186, 'bagging_fraction': 0.5898217510539663, 'bagging_freq': 3, 'min_child_samples': 72, 'learning_rate': 0.20740203009087146, 'max_bin': 384, 'n_estimators': 260}. Best is trial 18 with value: 1.0.\n",
      "[I 2024-05-06 23:15:36,629] Trial 64 finished with value: 1.0 and parameters: {'boosting_type': 'dart', 'lambda_l1': 2.496830847447007e-06, 'lambda_l2': 0.001027825980709664, 'num_leaves': 166, 'feature_fraction': 0.7707784319233381, 'bagging_fraction': 0.46170348922675947, 'bagging_freq': 7, 'min_child_samples': 74, 'learning_rate': 0.21222730485753252, 'max_bin': 448, 'n_estimators': 280}. Best is trial 18 with value: 1.0.\n",
      "[I 2024-05-06 23:15:47,678] Trial 48 finished with value: 1.0 and parameters: {'boosting_type': 'gbdt', 'lambda_l1': 7.169881799280049e-05, 'lambda_l2': 0.8736451022700269, 'num_leaves': 104, 'feature_fraction': 0.6144461354181958, 'bagging_fraction': 0.5080753113026545, 'bagging_freq': 1, 'min_child_samples': 66, 'learning_rate': 0.018245050664082912, 'max_bin': 512, 'n_estimators': 360}. Best is trial 18 with value: 1.0.\n",
      "[I 2024-05-06 23:15:55,931] Trial 80 finished with value: 1.0 and parameters: {'boosting_type': 'dart', 'lambda_l1': 0.05370844116584449, 'lambda_l2': 1.2326552026597694e-05, 'num_leaves': 91, 'feature_fraction': 0.9630177419158754, 'bagging_fraction': 0.799206188136964, 'bagging_freq': 2, 'min_child_samples': 58, 'learning_rate': 0.02395672172828653, 'max_bin': 352, 'n_estimators': 220}. Best is trial 18 with value: 1.0.\n",
      "[I 2024-05-06 23:16:08,559] Trial 43 finished with value: 1.0 and parameters: {'boosting_type': 'gbdt', 'lambda_l1': 8.165686435540114e-07, 'lambda_l2': 7.699482516699832, 'num_leaves': 82, 'feature_fraction': 0.4479816102023129, 'bagging_fraction': 0.5844972341404047, 'bagging_freq': 1, 'min_child_samples': 98, 'learning_rate': 0.011417170801207655, 'max_bin': 128, 'n_estimators': 340}. Best is trial 18 with value: 1.0.\n",
      "[I 2024-05-06 23:16:26,562] Trial 37 finished with value: 1.0 and parameters: {'boosting_type': 'dart', 'lambda_l1': 0.0023364197884682106, 'lambda_l2': 0.37977693289476144, 'num_leaves': 126, 'feature_fraction': 0.49527278342943, 'bagging_fraction': 0.7080043766926675, 'bagging_freq': 7, 'min_child_samples': 72, 'learning_rate': 0.059247199197844526, 'max_bin': 128, 'n_estimators': 280}. Best is trial 18 with value: 1.0.\n",
      "[I 2024-05-06 23:16:28,880] Trial 11 finished with value: 0.9192701304309328 and parameters: {'boosting_type': 'gbdt', 'lambda_l1': 0.000402625131930909, 'lambda_l2': 0.009507421732353031, 'num_leaves': 211, 'feature_fraction': 0.4366496941921635, 'bagging_fraction': 0.4654090985149465, 'bagging_freq': 5, 'min_child_samples': 75, 'learning_rate': 0.0006118572563523074, 'max_bin': 352, 'n_estimators': 200}. Best is trial 18 with value: 1.0.\n",
      "[I 2024-05-06 23:16:50,969] Trial 68 finished with value: 1.0 and parameters: {'boosting_type': 'dart', 'lambda_l1': 5.304587628002503e-07, 'lambda_l2': 0.0017234054088737661, 'num_leaves': 158, 'feature_fraction': 0.7596910584122287, 'bagging_fraction': 0.472352094547567, 'bagging_freq': 7, 'min_child_samples': 76, 'learning_rate': 0.1860044969981694, 'max_bin': 448, 'n_estimators': 260}. Best is trial 18 with value: 1.0.\n",
      "[I 2024-05-06 23:16:53,148] Trial 38 finished with value: 0.9192701304309328 and parameters: {'boosting_type': 'gbdt', 'lambda_l1': 0.06676231195004269, 'lambda_l2': 0.051879043559135286, 'num_leaves': 241, 'feature_fraction': 0.613556276361529, 'bagging_fraction': 0.5145263775038806, 'bagging_freq': 7, 'min_child_samples': 38, 'learning_rate': 0.003400882653635923, 'max_bin': 192, 'n_estimators': 220}. Best is trial 18 with value: 1.0.\n",
      "[I 2024-05-06 23:17:03,072] Trial 82 finished with value: 1.0 and parameters: {'boosting_type': 'dart', 'lambda_l1': 0.0018933945804003839, 'lambda_l2': 8.456131924666113e-07, 'num_leaves': 94, 'feature_fraction': 0.9550674868348399, 'bagging_fraction': 0.7728704022815197, 'bagging_freq': 2, 'min_child_samples': 5, 'learning_rate': 0.006347910885007884, 'max_bin': 320, 'n_estimators': 200}. Best is trial 18 with value: 1.0.\n",
      "[I 2024-05-06 23:17:03,599] Trial 44 finished with value: 1.0 and parameters: {'boosting_type': 'gbdt', 'lambda_l1': 4.6671321560410553e-07, 'lambda_l2': 3.68778314394243, 'num_leaves': 256, 'feature_fraction': 0.8116409711160779, 'bagging_fraction': 0.5280723851095318, 'bagging_freq': 1, 'min_child_samples': 96, 'learning_rate': 0.008129488693847303, 'max_bin': 160, 'n_estimators': 380}. Best is trial 18 with value: 1.0.\n",
      "[I 2024-05-06 23:17:07,061] Trial 83 finished with value: 1.0 and parameters: {'boosting_type': 'dart', 'lambda_l1': 0.038296069235735565, 'lambda_l2': 9.049251822009841e-07, 'num_leaves': 93, 'feature_fraction': 0.9630995442382206, 'bagging_fraction': 0.9692031326513963, 'bagging_freq': 2, 'min_child_samples': 16, 'learning_rate': 0.004294780059875463, 'max_bin': 352, 'n_estimators': 220}. Best is trial 18 with value: 1.0.\n",
      "[I 2024-05-06 23:17:09,929] Trial 81 finished with value: 1.0 and parameters: {'boosting_type': 'dart', 'lambda_l1': 0.049095921061816455, 'lambda_l2': 1.4528274857438435e-05, 'num_leaves': 255, 'feature_fraction': 0.9569482301405549, 'bagging_fraction': 0.8228729529108341, 'bagging_freq': 2, 'min_child_samples': 56, 'learning_rate': 0.0058594112812053595, 'max_bin': 352, 'n_estimators': 160}. Best is trial 18 with value: 1.0.\n",
      "[I 2024-05-06 23:17:14,671] Trial 29 finished with value: 0.9192701304309328 and parameters: {'boosting_type': 'gbdt', 'lambda_l1': 0.14079944068490613, 'lambda_l2': 0.10476874890969456, 'num_leaves': 249, 'feature_fraction': 0.5884640528133556, 'bagging_fraction': 0.4812230923273604, 'bagging_freq': 1, 'min_child_samples': 73, 'learning_rate': 0.000257672367390785, 'max_bin': 448, 'n_estimators': 240}. Best is trial 18 with value: 1.0.\n",
      "[I 2024-05-06 23:17:18,434] Trial 84 finished with value: 1.0 and parameters: {'boosting_type': 'dart', 'lambda_l1': 0.047540647337426266, 'lambda_l2': 1.75194035830387e-06, 'num_leaves': 91, 'feature_fraction': 0.9528138982064049, 'bagging_fraction': 0.9671146578399514, 'bagging_freq': 2, 'min_child_samples': 5, 'learning_rate': 0.006266316266053092, 'max_bin': 352, 'n_estimators': 220}. Best is trial 18 with value: 1.0.\n",
      "[I 2024-05-06 23:17:37,452] Trial 70 finished with value: 1.0 and parameters: {'boosting_type': 'dart', 'lambda_l1': 6.866510634172511e-07, 'lambda_l2': 1.462436891336015e-07, 'num_leaves': 152, 'feature_fraction': 0.7359635376315172, 'bagging_fraction': 0.4705775556082981, 'bagging_freq': 4, 'min_child_samples': 76, 'learning_rate': 0.18603554836821382, 'max_bin': 384, 'n_estimators': 280}. Best is trial 18 with value: 1.0.\n",
      "[I 2024-05-06 23:17:38,442] Trial 4 finished with value: 0.9192701304309328 and parameters: {'boosting_type': 'dart', 'lambda_l1': 0.015533827686509925, 'lambda_l2': 0.0019251954010168347, 'num_leaves': 112, 'feature_fraction': 0.4637411657200371, 'bagging_fraction': 0.8734032399877827, 'bagging_freq': 1, 'min_child_samples': 73, 'learning_rate': 0.0014534658024052591, 'max_bin': 480, 'n_estimators': 320}. Best is trial 18 with value: 1.0.\n",
      "[I 2024-05-06 23:17:43,918] Trial 9 finished with value: 0.9192701304309328 and parameters: {'boosting_type': 'gbdt', 'lambda_l1': 0.00023643681525025643, 'lambda_l2': 0.005675524204033881, 'num_leaves': 181, 'feature_fraction': 0.6536305366776998, 'bagging_fraction': 0.9576382658422297, 'bagging_freq': 4, 'min_child_samples': 16, 'learning_rate': 0.00043784469964650057, 'max_bin': 480, 'n_estimators': 360}. Best is trial 18 with value: 1.0.\n",
      "[I 2024-05-06 23:18:32,963] Trial 88 finished with value: 1.0 and parameters: {'boosting_type': 'dart', 'lambda_l1': 0.5730678556914123, 'lambda_l2': 1.184145228249366e-06, 'num_leaves': 47, 'feature_fraction': 0.7036902440327738, 'bagging_fraction': 0.9669509960820681, 'bagging_freq': 2, 'min_child_samples': 15, 'learning_rate': 0.008544287347226679, 'max_bin': 320, 'n_estimators': 160}. Best is trial 18 with value: 1.0.\n",
      "[I 2024-05-06 23:18:37,437] Trial 15 finished with value: 1.0 and parameters: {'boosting_type': 'dart', 'lambda_l1': 3.418475502715203e-08, 'lambda_l2': 0.0006622104566760813, 'num_leaves': 70, 'feature_fraction': 0.6915381552108077, 'bagging_fraction': 0.822955479910084, 'bagging_freq': 6, 'min_child_samples': 31, 'learning_rate': 0.004858699642953437, 'max_bin': 224, 'n_estimators': 400}. Best is trial 18 with value: 1.0.\n",
      "[I 2024-05-06 23:18:43,988] Trial 92 finished with value: 1.0 and parameters: {'boosting_type': 'dart', 'lambda_l1': 0.742181219181186, 'lambda_l2': 4.754758095121278e-05, 'num_leaves': 186, 'feature_fraction': 0.8963930013869842, 'bagging_fraction': 0.4334063682981691, 'bagging_freq': 5, 'min_child_samples': 15, 'learning_rate': 0.08091644619500565, 'max_bin': 352, 'n_estimators': 160}. Best is trial 18 with value: 1.0.\n",
      "[I 2024-05-06 23:18:50,115] Trial 99 finished with value: 1.0 and parameters: {'boosting_type': 'dart', 'lambda_l1': 0.5409557016285816, 'lambda_l2': 6.489412965130055e-05, 'num_leaves': 48, 'feature_fraction': 0.703635801159504, 'bagging_fraction': 0.4266181486094876, 'bagging_freq': 5, 'min_child_samples': 24, 'learning_rate': 0.030570397916714773, 'max_bin': 480, 'n_estimators': 100}. Best is trial 18 with value: 1.0.\n",
      "[I 2024-05-06 23:18:54,027] Trial 98 finished with value: 1.0 and parameters: {'boosting_type': 'dart', 'lambda_l1': 0.5658280771599843, 'lambda_l2': 4.424295623344826e-05, 'num_leaves': 194, 'feature_fraction': 0.8949654526244186, 'bagging_fraction': 0.4274035740701984, 'bagging_freq': 5, 'min_child_samples': 17, 'learning_rate': 0.08322346622226225, 'max_bin': 480, 'n_estimators': 100}. Best is trial 18 with value: 1.0.\n",
      "[I 2024-05-06 23:18:55,952] Trial 91 finished with value: 1.0 and parameters: {'boosting_type': 'dart', 'lambda_l1': 0.4926724250131875, 'lambda_l2': 1.6357766106181775e-06, 'num_leaves': 47, 'feature_fraction': 0.7230359463386291, 'bagging_fraction': 0.9590062408751481, 'bagging_freq': 3, 'min_child_samples': 18, 'learning_rate': 0.02754352612475462, 'max_bin': 352, 'n_estimators': 160}. Best is trial 18 with value: 1.0.\n",
      "[I 2024-05-06 23:19:00,863] Trial 97 finished with value: 1.0 and parameters: {'boosting_type': 'dart', 'lambda_l1': 0.45281500311659256, 'lambda_l2': 7.486486486471029e-05, 'num_leaves': 191, 'feature_fraction': 0.8962997799352126, 'bagging_fraction': 0.4404070080410196, 'bagging_freq': 5, 'min_child_samples': 22, 'learning_rate': 0.028822368705737532, 'max_bin': 480, 'n_estimators': 100}. Best is trial 18 with value: 1.0.\n",
      "[I 2024-05-06 23:19:01,152] Trial 90 finished with value: 1.0 and parameters: {'boosting_type': 'dart', 'lambda_l1': 0.0015564827479844405, 'lambda_l2': 7.100912044672922e-07, 'num_leaves': 56, 'feature_fraction': 0.8983862694657283, 'bagging_fraction': 0.9742477182457235, 'bagging_freq': 2, 'min_child_samples': 18, 'learning_rate': 0.007904302346790489, 'max_bin': 320, 'n_estimators': 160}. Best is trial 18 with value: 1.0.\n",
      "[I 2024-05-06 23:19:11,942] Trial 66 finished with value: 1.0 and parameters: {'boosting_type': 'dart', 'lambda_l1': 3.072332964681062e-07, 'lambda_l2': 0.0009131001262959965, 'num_leaves': 159, 'feature_fraction': 0.7741292035898524, 'bagging_fraction': 0.47281570247767385, 'bagging_freq': 4, 'min_child_samples': 72, 'learning_rate': 0.04362135457436194, 'max_bin': 448, 'n_estimators': 280}. Best is trial 18 with value: 1.0.\n",
      "[I 2024-05-06 23:19:17,157] Trial 85 finished with value: 0.9269057286110807 and parameters: {'boosting_type': 'dart', 'lambda_l1': 0.0023423038190924193, 'lambda_l2': 5.742876567125494e-07, 'num_leaves': 50, 'feature_fraction': 0.7079278715192867, 'bagging_fraction': 0.9559824921102444, 'bagging_freq': 2, 'min_child_samples': 5, 'learning_rate': 0.0059079729419593986, 'max_bin': 320, 'n_estimators': 160}. Best is trial 18 with value: 1.0.\n",
      "[I 2024-05-06 23:19:24,607] Trial 86 finished with value: 0.9244082260118937 and parameters: {'boosting_type': 'dart', 'lambda_l1': 0.002542720412976291, 'lambda_l2': 6.249961885437957e-07, 'num_leaves': 50, 'feature_fraction': 0.7121289566636422, 'bagging_fraction': 0.9717713078434249, 'bagging_freq': 3, 'min_child_samples': 5, 'learning_rate': 0.0058488046788750265, 'max_bin': 320, 'n_estimators': 160}. Best is trial 18 with value: 1.0.\n",
      "[I 2024-05-06 23:19:32,652] Trial 65 finished with value: 1.0 and parameters: {'boosting_type': 'dart', 'lambda_l1': 1.2502134907075666e-06, 'lambda_l2': 0.0008865082495128323, 'num_leaves': 158, 'feature_fraction': 0.7638807575229352, 'bagging_fraction': 0.4801246119025677, 'bagging_freq': 7, 'min_child_samples': 75, 'learning_rate': 0.0357620859329605, 'max_bin': 448, 'n_estimators': 260}. Best is trial 18 with value: 1.0.\n",
      "[I 2024-05-06 23:19:38,674] Trial 51 finished with value: 1.0 and parameters: {'boosting_type': 'gbdt', 'lambda_l1': 7.46903507751847e-07, 'lambda_l2': 2.5039105519029055, 'num_leaves': 108, 'feature_fraction': 0.401776527340807, 'bagging_fraction': 0.616535302294891, 'bagging_freq': 1, 'min_child_samples': 88, 'learning_rate': 0.14634616847900708, 'max_bin': 192, 'n_estimators': 400}. Best is trial 18 with value: 1.0.\n",
      "[I 2024-05-06 23:19:40,118] Trial 95 finished with value: 1.0 and parameters: {'boosting_type': 'dart', 'lambda_l1': 0.4978636900192872, 'lambda_l2': 3.221592257164441e-06, 'num_leaves': 187, 'feature_fraction': 0.7087476889651673, 'bagging_fraction': 0.4195424439261318, 'bagging_freq': 5, 'min_child_samples': 26, 'learning_rate': 0.07738269709837546, 'max_bin': 480, 'n_estimators': 100}. Best is trial 18 with value: 1.0.\n",
      "[I 2024-05-06 23:19:50,882] Trial 96 finished with value: 1.0 and parameters: {'boosting_type': 'dart', 'lambda_l1': 0.6054522884553383, 'lambda_l2': 5.584923496604927e-05, 'num_leaves': 187, 'feature_fraction': 0.9006525695930775, 'bagging_fraction': 0.42533433048994906, 'bagging_freq': 4, 'min_child_samples': 30, 'learning_rate': 0.028931661241429964, 'max_bin': 480, 'n_estimators': 300}. Best is trial 18 with value: 1.0.\n",
      "[I 2024-05-06 23:19:51,388] Trial 93 finished with value: 1.0 and parameters: {'boosting_type': 'dart', 'lambda_l1': 0.7073488093085148, 'lambda_l2': 5.9130737276310686e-05, 'num_leaves': 185, 'feature_fraction': 0.7091030101066431, 'bagging_fraction': 0.42752251637911304, 'bagging_freq': 5, 'min_child_samples': 23, 'learning_rate': 0.07652175035423772, 'max_bin': 480, 'n_estimators': 140}. Best is trial 18 with value: 1.0.\n",
      "[I 2024-05-06 23:19:59,709] Trial 87 finished with value: 0.9411980871889793 and parameters: {'boosting_type': 'dart', 'lambda_l1': 6.968605628357984e-08, 'lambda_l2': 1.613609202977453e-06, 'num_leaves': 49, 'feature_fraction': 0.7209871058760554, 'bagging_fraction': 0.9363269565783751, 'bagging_freq': 2, 'min_child_samples': 5, 'learning_rate': 0.006115360687989838, 'max_bin': 320, 'n_estimators': 160}. Best is trial 18 with value: 1.0.\n",
      "[I 2024-05-06 23:20:09,105] Trial 77 finished with value: 1.0 and parameters: {'boosting_type': 'dart', 'lambda_l1': 1.6012088261132196e-06, 'lambda_l2': 0.000834990719015984, 'num_leaves': 91, 'feature_fraction': 0.7628852629073164, 'bagging_fraction': 0.7752420680371448, 'bagging_freq': 4, 'min_child_samples': 72, 'learning_rate': 0.006427648068378467, 'max_bin': 320, 'n_estimators': 220}. Best is trial 18 with value: 1.0.\n",
      "[I 2024-05-06 23:20:13,242] Trial 94 finished with value: 1.0 and parameters: {'boosting_type': 'dart', 'lambda_l1': 0.4253824646518071, 'lambda_l2': 2.52679663767939e-06, 'num_leaves': 181, 'feature_fraction': 0.7102108570236062, 'bagging_fraction': 0.4325597719264721, 'bagging_freq': 5, 'min_child_samples': 28, 'learning_rate': 0.09323303672779784, 'max_bin': 288, 'n_estimators': 240}. Best is trial 18 with value: 1.0.\n",
      "[I 2024-05-06 23:20:14,015] Trial 78 finished with value: 1.0 and parameters: {'boosting_type': 'dart', 'lambda_l1': 0.04424484231056348, 'lambda_l2': 1.5100935043107853e-05, 'num_leaves': 198, 'feature_fraction': 0.7073672859284492, 'bagging_fraction': 0.8110119649493978, 'bagging_freq': 4, 'min_child_samples': 59, 'learning_rate': 0.024359627052523754, 'max_bin': 352, 'n_estimators': 220}. Best is trial 18 with value: 1.0.\n",
      "[I 2024-05-06 23:20:23,129] Trial 89 finished with value: 0.9286975561222818 and parameters: {'boosting_type': 'dart', 'lambda_l1': 0.4230111122928589, 'lambda_l2': 7.799278014970898e-07, 'num_leaves': 184, 'feature_fraction': 0.7097835545379754, 'bagging_fraction': 0.9423874653851857, 'bagging_freq': 2, 'min_child_samples': 20, 'learning_rate': 0.005857682007513676, 'max_bin': 320, 'n_estimators': 160}. Best is trial 18 with value: 1.0.\n",
      "[I 2024-05-06 23:20:24,847] Trial 41 finished with value: 1.0 and parameters: {'boosting_type': 'dart', 'lambda_l1': 0.13303848960709963, 'lambda_l2': 6.245610605571202, 'num_leaves': 231, 'feature_fraction': 0.482145248098868, 'bagging_fraction': 0.5998738648839569, 'bagging_freq': 5, 'min_child_samples': 49, 'learning_rate': 0.04614339690512458, 'max_bin': 128, 'n_estimators': 380}. Best is trial 18 with value: 1.0.\n",
      "[I 2024-05-06 23:20:50,572] Trial 76 finished with value: 1.0 and parameters: {'boosting_type': 'dart', 'lambda_l1': 8.998619398742871e-07, 'lambda_l2': 0.00159862452752648, 'num_leaves': 91, 'feature_fraction': 0.4251769020532493, 'bagging_fraction': 0.7789079185928389, 'bagging_freq': 4, 'min_child_samples': 59, 'learning_rate': 0.024184443930329855, 'max_bin': 352, 'n_estimators': 220}. Best is trial 18 with value: 1.0.\n",
      "[I 2024-05-06 23:20:57,696] Trial 61 finished with value: 1.0 and parameters: {'boosting_type': 'gbdt', 'lambda_l1': 1.8237910771922063e-06, 'lambda_l2': 0.0009839371372573045, 'num_leaves': 156, 'feature_fraction': 0.4023443148959603, 'bagging_fraction': 0.482273452866125, 'bagging_freq': 5, 'min_child_samples': 74, 'learning_rate': 0.03537023254943771, 'max_bin': 288, 'n_estimators': 280}. Best is trial 18 with value: 1.0.\n",
      "[I 2024-05-06 23:20:59,230] Trial 62 finished with value: 1.0 and parameters: {'boosting_type': 'dart', 'lambda_l1': 7.757599576606727e-07, 'lambda_l2': 1.5475406796457268e-07, 'num_leaves': 123, 'feature_fraction': 0.77561441551295, 'bagging_fraction': 0.46652199911487835, 'bagging_freq': 7, 'min_child_samples': 74, 'learning_rate': 0.038097179123100545, 'max_bin': 448, 'n_estimators': 280}. Best is trial 18 with value: 1.0.\n",
      "[I 2024-05-06 23:21:09,021] Trial 14 finished with value: 0.9192701304309328 and parameters: {'boosting_type': 'gbdt', 'lambda_l1': 0.00012154394536978319, 'lambda_l2': 1.2775222918219295e-08, 'num_leaves': 217, 'feature_fraction': 0.8176532832044543, 'bagging_fraction': 0.48419237087947403, 'bagging_freq': 6, 'min_child_samples': 6, 'learning_rate': 0.00027600666105580176, 'max_bin': 384, 'n_estimators': 400}. Best is trial 18 with value: 1.0.\n",
      "[I 2024-05-06 23:21:19,964] Trial 59 finished with value: 1.0 and parameters: {'boosting_type': 'dart', 'lambda_l1': 0.0769758447914259, 'lambda_l2': 1.0686315534296016e-07, 'num_leaves': 158, 'feature_fraction': 0.40116691861095416, 'bagging_fraction': 0.47861295598438586, 'bagging_freq': 6, 'min_child_samples': 79, 'learning_rate': 0.03334302533587173, 'max_bin': 224, 'n_estimators': 320}. Best is trial 18 with value: 1.0.\n",
      "[I 2024-05-06 23:21:22,281] Trial 79 finished with value: 0.919276634337342 and parameters: {'boosting_type': 'dart', 'lambda_l1': 0.04561765483904091, 'lambda_l2': 1.0092857937140331e-05, 'num_leaves': 189, 'feature_fraction': 0.4186248938460473, 'bagging_fraction': 0.8005747806710235, 'bagging_freq': 3, 'min_child_samples': 58, 'learning_rate': 0.006420648996356012, 'max_bin': 352, 'n_estimators': 220}. Best is trial 18 with value: 1.0.\n",
      "[I 2024-05-06 23:21:25,500] Trial 63 finished with value: 1.0 and parameters: {'boosting_type': 'dart', 'lambda_l1': 1.7967559763885788e-06, 'lambda_l2': 1.0854606270463661e-07, 'num_leaves': 160, 'feature_fraction': 0.752992262697017, 'bagging_fraction': 0.47847812030167786, 'bagging_freq': 7, 'min_child_samples': 74, 'learning_rate': 0.02985136715558031, 'max_bin': 448, 'n_estimators': 280}. Best is trial 18 with value: 1.0.\n",
      "[I 2024-05-06 23:21:29,255] Trial 42 finished with value: 1.0 and parameters: {'boosting_type': 'gbdt', 'lambda_l1': 2.4997471143674742e-06, 'lambda_l2': 1.9268086540952998, 'num_leaves': 250, 'feature_fraction': 0.40468302646195503, 'bagging_fraction': 0.5934244150875193, 'bagging_freq': 1, 'min_child_samples': 97, 'learning_rate': 0.018425625516292763, 'max_bin': 128, 'n_estimators': 360}. Best is trial 18 with value: 1.0.\n",
      "[I 2024-05-06 23:21:31,512] Trial 34 finished with value: 1.0 and parameters: {'boosting_type': 'gbdt', 'lambda_l1': 0.0007211287504157088, 'lambda_l2': 1.0091494035734632e-08, 'num_leaves': 176, 'feature_fraction': 0.42771273229458273, 'bagging_fraction': 0.6628816984532613, 'bagging_freq': 2, 'min_child_samples': 11, 'learning_rate': 0.011914519201106743, 'max_bin': 160, 'n_estimators': 360}. Best is trial 18 with value: 1.0.\n",
      "[I 2024-05-06 23:21:32,728] Trial 45 finished with value: 1.0 and parameters: {'boosting_type': 'gbdt', 'lambda_l1': 5.6760616046382756e-05, 'lambda_l2': 1.0938295929896802, 'num_leaves': 253, 'feature_fraction': 0.40465045480570466, 'bagging_fraction': 0.5471991695139751, 'bagging_freq': 1, 'min_child_samples': 55, 'learning_rate': 0.011648242930193892, 'max_bin': 160, 'n_estimators': 380}. Best is trial 18 with value: 1.0.\n"
     ]
    },
    {
     "name": "stdout",
     "output_type": "stream",
     "text": [
      "Optimize hyperparameters - duration (hh:mm:ss) : 0:15:43\n"
     ]
    }
   ],
   "source": [
    "study = sk_single_search(data[predictors + ['TARGET']])"
   ]
  },
  {
   "cell_type": "code",
   "execution_count": 94,
   "metadata": {},
   "outputs": [],
   "source": [
    "mlflow.end_run()"
   ]
  },
  {
   "cell_type": "code",
   "execution_count": 20,
   "metadata": {
    "ExecuteTime": {
     "end_time": "2023-04-27T12:41:49.410671Z",
     "start_time": "2023-04-27T12:41:49.410671Z"
    },
    "collapsed": false
   },
   "outputs": [
    {
     "name": "stdout",
     "output_type": "stream",
     "text": [
      "FrozenTrial(number=18, state=TrialState.COMPLETE, values=[1.0], datetime_start=datetime.datetime(2024, 5, 6, 23, 5, 50, 415841), datetime_complete=datetime.datetime(2024, 5, 6, 23, 6, 4, 928118), params={'boosting_type': 'gbdt', 'lambda_l1': 7.064863870788589, 'lambda_l2': 3.9451936584622644e-06, 'num_leaves': 174, 'feature_fraction': 0.8429258549197521, 'bagging_fraction': 0.7719731044862875, 'bagging_freq': 5, 'min_child_samples': 100, 'learning_rate': 0.3496027616599878, 'max_bin': 480, 'n_estimators': 80}, user_attrs={}, system_attrs={}, intermediate_values={}, distributions={'boosting_type': CategoricalDistribution(choices=('dart', 'gbdt')), 'lambda_l1': FloatDistribution(high=10.0, log=True, low=1e-08, step=None), 'lambda_l2': FloatDistribution(high=10.0, log=True, low=1e-08, step=None), 'num_leaves': IntDistribution(high=256, log=False, low=2, step=1), 'feature_fraction': FloatDistribution(high=1.0, log=False, low=0.4, step=None), 'bagging_fraction': FloatDistribution(high=1.0, log=False, low=0.4, step=None), 'bagging_freq': IntDistribution(high=7, log=False, low=1, step=1), 'min_child_samples': IntDistribution(high=100, log=False, low=5, step=1), 'learning_rate': FloatDistribution(high=0.5, log=True, low=0.0001, step=None), 'max_bin': IntDistribution(high=512, log=False, low=128, step=32), 'n_estimators': IntDistribution(high=400, log=False, low=40, step=20)}, trial_id=18, value=None)\n",
      "boosting_type : gbdt\n",
      "lambda_l1 : 7.064863870788589\n",
      "lambda_l2 : 3.9451936584622644e-06\n",
      "num_leaves : 174\n",
      "feature_fraction : 0.8429258549197521\n",
      "bagging_fraction : 0.7719731044862875\n",
      "bagging_freq : 5\n",
      "min_child_samples : 100\n",
      "learning_rate : 0.3496027616599878\n",
      "max_bin : 480\n",
      "n_estimators : 80\n"
     ]
    }
   ],
   "source": [
    "print(study.best_trial)\n",
    "best_params = study.best_trial.params\n",
    "for k, v in best_params.items():\n",
    "    print(f\"{k} : {v}\")"
   ]
  },
  {
   "cell_type": "code",
   "execution_count": 22,
   "metadata": {},
   "outputs": [
    {
     "data": {
      "text/plain": [
       "['models/light_simple/study_light_simple_20x307507_100trials.pkl']"
      ]
     },
     "execution_count": 22,
     "metadata": {},
     "output_type": "execute_result"
    }
   ],
   "source": [
    "joblib.dump(study, os.path.join(MODEL_DIR, config['subdir'], \"study_light_simple_20x307507_100trials.pkl\"))"
   ]
  },
  {
   "cell_type": "markdown",
   "metadata": {},
   "source": [
    "# Avec 100 predictors"
   ]
  },
  {
   "cell_type": "code",
   "execution_count": null,
   "metadata": {},
   "outputs": [],
   "source": [
    "# override Optuna's default logging to ERROR only\n",
    "optuna.logging.set_verbosity(optuna.logging.ERROR)\n",
    "# voir la faq pour les args dans optimize : https://optuna.readthedocs.io/en/stable/faq.html#how-to-define-objective-functions-that-have-own-arguments"
   ]
  },
  {
   "cell_type": "code",
   "execution_count": 23,
   "metadata": {},
   "outputs": [],
   "source": [
    "config['n_predictors'] = 100"
   ]
  },
  {
   "cell_type": "code",
   "execution_count": 25,
   "metadata": {},
   "outputs": [],
   "source": [
    "# Use the fluent API to set the tracking uri and the active experiment\n",
    "mlflow.set_tracking_uri(f\"{LOCAL_HOST}:{LOCAL_PORT}\")"
   ]
  },
  {
   "cell_type": "code",
   "execution_count": 26,
   "metadata": {},
   "outputs": [
    {
     "name": "stderr",
     "output_type": "stream",
     "text": [
      "[I 2024-05-07 01:12:26,176] A new study created in memory with name: study_light_simple_100x307507_100trials\n"
     ]
    },
    {
     "name": "stdout",
     "output_type": "stream",
     "text": [
      "experiment_name light_simple_100x307507_100trials\n",
      "Création de l'expérience 'light_simple_100x307507_100trials'\n",
      "Experience 'light_simple_100x307507_100trials' activée\n"
     ]
    },
    {
     "name": "stderr",
     "output_type": "stream",
     "text": [
      "[I 2024-05-07 01:13:00,351] Trial 11 finished with value: 1.0 and parameters: {'boosting_type': 'gbdt', 'lambda_l1': 2.935980124674102, 'lambda_l2': 0.027376404563782868, 'num_leaves': 91, 'feature_fraction': 0.9404956710315201, 'bagging_fraction': 0.5041372749174218, 'bagging_freq': 5, 'min_child_samples': 67, 'learning_rate': 0.08092938441307712, 'max_bin': 448, 'n_estimators': 200}. Best is trial 11 with value: 1.0.\n",
      "[I 2024-05-07 01:13:02,629] Trial 4 finished with value: 1.0 and parameters: {'boosting_type': 'dart', 'lambda_l1': 2.532785225351618, 'lambda_l2': 3.463972231226103e-08, 'num_leaves': 140, 'feature_fraction': 0.8186779378093619, 'bagging_fraction': 0.8365114890964351, 'bagging_freq': 5, 'min_child_samples': 29, 'learning_rate': 0.045264340268737394, 'max_bin': 416, 'n_estimators': 40}. Best is trial 11 with value: 1.0.\n",
      "[I 2024-05-07 01:13:13,615] Trial 26 finished with value: 1.0 and parameters: {'boosting_type': 'gbdt', 'lambda_l1': 9.150622579971083, 'lambda_l2': 0.001273765363039254, 'num_leaves': 24, 'feature_fraction': 0.9157250675017404, 'bagging_fraction': 0.8984179277122573, 'bagging_freq': 3, 'min_child_samples': 82, 'learning_rate': 0.3219537515895646, 'max_bin': 288, 'n_estimators': 340}. Best is trial 11 with value: 1.0.\n",
      "[I 2024-05-07 01:13:14,351] Trial 31 finished with value: 1.0 and parameters: {'boosting_type': 'dart', 'lambda_l1': 0.018301598367750735, 'lambda_l2': 1.7874866629940587e-08, 'num_leaves': 203, 'feature_fraction': 0.7962853280998806, 'bagging_fraction': 0.4316809701561132, 'bagging_freq': 4, 'min_child_samples': 23, 'learning_rate': 0.03203998387336324, 'max_bin': 224, 'n_estimators': 40}. Best is trial 11 with value: 1.0.\n",
      "[I 2024-05-07 01:13:20,970] Trial 18 finished with value: 1.0 and parameters: {'boosting_type': 'gbdt', 'lambda_l1': 3.9468740058341e-07, 'lambda_l2': 0.011049604237671429, 'num_leaves': 139, 'feature_fraction': 0.9893891676308416, 'bagging_fraction': 0.7313994235832362, 'bagging_freq': 7, 'min_child_samples': 10, 'learning_rate': 0.001727660251476615, 'max_bin': 160, 'n_estimators': 380}. Best is trial 11 with value: 1.0.\n",
      "[I 2024-05-07 01:13:29,188] Trial 36 finished with value: 1.0 and parameters: {'boosting_type': 'gbdt', 'lambda_l1': 0.005001815879068347, 'lambda_l2': 0.15137882552570753, 'num_leaves': 216, 'feature_fraction': 0.9979898354190883, 'bagging_fraction': 0.5322705937056688, 'bagging_freq': 1, 'min_child_samples': 42, 'learning_rate': 0.1901548306680023, 'max_bin': 192, 'n_estimators': 40}. Best is trial 11 with value: 1.0.\n",
      "[I 2024-05-07 01:13:32,384] Trial 8 finished with value: 1.0 and parameters: {'boosting_type': 'gbdt', 'lambda_l1': 0.024965505988511022, 'lambda_l2': 1.2082394344992147, 'num_leaves': 170, 'feature_fraction': 0.9689082312349969, 'bagging_fraction': 0.543530242939905, 'bagging_freq': 1, 'min_child_samples': 74, 'learning_rate': 0.1198814859998634, 'max_bin': 352, 'n_estimators': 320}. Best is trial 11 with value: 1.0.\n",
      "[I 2024-05-07 01:13:53,730] Trial 13 finished with value: 1.0 and parameters: {'boosting_type': 'dart', 'lambda_l1': 0.004441097731085209, 'lambda_l2': 5.144513139024524e-06, 'num_leaves': 2, 'feature_fraction': 0.725841638462823, 'bagging_fraction': 0.5373205253157015, 'bagging_freq': 2, 'min_child_samples': 35, 'learning_rate': 0.020690228812509197, 'max_bin': 416, 'n_estimators': 300}. Best is trial 11 with value: 1.0.\n",
      "[I 2024-05-07 01:13:55,022] Trial 0 finished with value: 1.0 and parameters: {'boosting_type': 'dart', 'lambda_l1': 6.164657115525038, 'lambda_l2': 4.368038630555311, 'num_leaves': 99, 'feature_fraction': 0.8197500467006702, 'bagging_fraction': 0.989896498402794, 'bagging_freq': 7, 'min_child_samples': 89, 'learning_rate': 0.0106503763506499, 'max_bin': 256, 'n_estimators': 100}. Best is trial 11 with value: 1.0.\n",
      "[I 2024-05-07 01:14:03,360] Trial 30 finished with value: 0.9192701304309328 and parameters: {'boosting_type': 'dart', 'lambda_l1': 0.0008480751773664238, 'lambda_l2': 0.00015762812392876706, 'num_leaves': 136, 'feature_fraction': 0.6138958546288935, 'bagging_fraction': 0.5677024838362673, 'bagging_freq': 2, 'min_child_samples': 81, 'learning_rate': 0.008918138830670008, 'max_bin': 480, 'n_estimators': 40}. Best is trial 11 with value: 1.0.\n",
      "[I 2024-05-07 01:14:11,146] Trial 35 finished with value: 0.9192701304309328 and parameters: {'boosting_type': 'dart', 'lambda_l1': 0.21573068884130417, 'lambda_l2': 0.025137067565535565, 'num_leaves': 101, 'feature_fraction': 0.8461004422698502, 'bagging_fraction': 0.8944843735867972, 'bagging_freq': 6, 'min_child_samples': 30, 'learning_rate': 0.00014757388001219405, 'max_bin': 480, 'n_estimators': 80}. Best is trial 11 with value: 1.0.\n",
      "[I 2024-05-07 01:14:13,174] Trial 23 finished with value: 1.0 and parameters: {'boosting_type': 'gbdt', 'lambda_l1': 0.00041981364183034896, 'lambda_l2': 0.30394743388759266, 'num_leaves': 14, 'feature_fraction': 0.5797865390617684, 'bagging_fraction': 0.8503992938404511, 'bagging_freq': 3, 'min_child_samples': 46, 'learning_rate': 0.13331215603692, 'max_bin': 128, 'n_estimators': 380}. Best is trial 11 with value: 1.0.\n",
      "[I 2024-05-07 01:14:33,960] Trial 9 finished with value: 1.0 and parameters: {'boosting_type': 'dart', 'lambda_l1': 0.0786025856293918, 'lambda_l2': 5.476620330163198, 'num_leaves': 179, 'feature_fraction': 0.858533314916031, 'bagging_fraction': 0.785144146675717, 'bagging_freq': 1, 'min_child_samples': 68, 'learning_rate': 0.27330256256241886, 'max_bin': 512, 'n_estimators': 360}. Best is trial 11 with value: 1.0.\n",
      "[I 2024-05-07 01:14:48,208] Trial 24 finished with value: 0.9192701304309328 and parameters: {'boosting_type': 'dart', 'lambda_l1': 1.4150970810974114e-05, 'lambda_l2': 0.0007755680360186619, 'num_leaves': 39, 'feature_fraction': 0.8075944581236507, 'bagging_fraction': 0.6148746042027702, 'bagging_freq': 7, 'min_child_samples': 51, 'learning_rate': 0.00015701077817018323, 'max_bin': 192, 'n_estimators': 280}. Best is trial 11 with value: 1.0.\n",
      "[I 2024-05-07 01:14:49,446] Trial 39 finished with value: 1.0 and parameters: {'boosting_type': 'gbdt', 'lambda_l1': 0.22856038715531388, 'lambda_l2': 2.9664838365767025e-06, 'num_leaves': 22, 'feature_fraction': 0.9362460495603995, 'bagging_fraction': 0.8165070258118912, 'bagging_freq': 7, 'min_child_samples': 68, 'learning_rate': 0.0017648114501212543, 'max_bin': 512, 'n_estimators': 380}. Best is trial 11 with value: 1.0.\n",
      "[I 2024-05-07 01:14:50,647] Trial 16 finished with value: 1.0 and parameters: {'boosting_type': 'dart', 'lambda_l1': 5.479484075596766, 'lambda_l2': 2.1233427522714245e-08, 'num_leaves': 150, 'feature_fraction': 0.8754662436496019, 'bagging_fraction': 0.7251570580057961, 'bagging_freq': 1, 'min_child_samples': 9, 'learning_rate': 0.11076967868323431, 'max_bin': 256, 'n_estimators': 400}. Best is trial 11 with value: 1.0.\n",
      "[I 2024-05-07 01:15:11,209] Trial 10 finished with value: 1.0 and parameters: {'boosting_type': 'gbdt', 'lambda_l1': 0.00014468975709782528, 'lambda_l2': 0.8687201568405182, 'num_leaves': 97, 'feature_fraction': 0.628144037470142, 'bagging_fraction': 0.6769105546292251, 'bagging_freq': 7, 'min_child_samples': 60, 'learning_rate': 0.01270527504316405, 'max_bin': 256, 'n_estimators': 140}. Best is trial 11 with value: 1.0.\n",
      "[I 2024-05-07 01:15:23,465] Trial 5 finished with value: 0.9192701304309328 and parameters: {'boosting_type': 'gbdt', 'lambda_l1': 3.564155413813395e-07, 'lambda_l2': 4.050353061031382e-07, 'num_leaves': 128, 'feature_fraction': 0.48554508846323485, 'bagging_fraction': 0.8717864892394449, 'bagging_freq': 1, 'min_child_samples': 71, 'learning_rate': 0.0001229196263153154, 'max_bin': 384, 'n_estimators': 60}. Best is trial 11 with value: 1.0.\n",
      "[I 2024-05-07 01:15:29,874] Trial 32 finished with value: 1.0 and parameters: {'boosting_type': 'gbdt', 'lambda_l1': 1.870851959179565, 'lambda_l2': 2.060694274355197e-05, 'num_leaves': 138, 'feature_fraction': 0.8084541362433748, 'bagging_fraction': 0.826557070176112, 'bagging_freq': 6, 'min_child_samples': 7, 'learning_rate': 0.0076701561856033235, 'max_bin': 128, 'n_estimators': 180}. Best is trial 11 with value: 1.0.\n",
      "[I 2024-05-07 01:15:34,281] Trial 17 finished with value: 0.9192701304309328 and parameters: {'boosting_type': 'gbdt', 'lambda_l1': 2.972379207483013e-07, 'lambda_l2': 4.091815395925366e-05, 'num_leaves': 218, 'feature_fraction': 0.8282558833715117, 'bagging_fraction': 0.6406469259394917, 'bagging_freq': 6, 'min_child_samples': 71, 'learning_rate': 0.00012985858414207364, 'max_bin': 352, 'n_estimators': 160}. Best is trial 11 with value: 1.0.\n",
      "[I 2024-05-07 01:15:46,968] Trial 27 finished with value: 0.9192701304309328 and parameters: {'boosting_type': 'gbdt', 'lambda_l1': 0.033106960392370356, 'lambda_l2': 0.0251916497223087, 'num_leaves': 142, 'feature_fraction': 0.8954290781016436, 'bagging_fraction': 0.9312856529578544, 'bagging_freq': 4, 'min_child_samples': 37, 'learning_rate': 0.0007416262764185456, 'max_bin': 352, 'n_estimators': 400}. Best is trial 11 with value: 1.0.\n",
      "[I 2024-05-07 01:16:21,676] Trial 12 finished with value: 0.9192701304309328 and parameters: {'boosting_type': 'gbdt', 'lambda_l1': 2.0185697111267995, 'lambda_l2': 2.1953030093548522e-07, 'num_leaves': 203, 'feature_fraction': 0.7665415999880367, 'bagging_fraction': 0.4397653571942888, 'bagging_freq': 3, 'min_child_samples': 58, 'learning_rate': 0.0005600970265437768, 'max_bin': 384, 'n_estimators': 160}. Best is trial 11 with value: 1.0.\n",
      "[I 2024-05-07 01:16:35,089] Trial 45 finished with value: 0.9192701304309328 and parameters: {'boosting_type': 'dart', 'lambda_l1': 0.7869066465493678, 'lambda_l2': 3.374296450471157e-08, 'num_leaves': 75, 'feature_fraction': 0.6917422384448702, 'bagging_fraction': 0.9837520602356218, 'bagging_freq': 5, 'min_child_samples': 97, 'learning_rate': 0.0021667797814380117, 'max_bin': 352, 'n_estimators': 140}. Best is trial 11 with value: 1.0.\n",
      "[I 2024-05-07 01:16:41,683] Trial 51 finished with value: 0.9192701304309328 and parameters: {'boosting_type': 'dart', 'lambda_l1': 0.5213500212808903, 'lambda_l2': 5.081703726610421e-07, 'num_leaves': 65, 'feature_fraction': 0.7184825749385356, 'bagging_fraction': 0.9756738120894759, 'bagging_freq': 5, 'min_child_samples': 92, 'learning_rate': 0.002474803357534049, 'max_bin': 320, 'n_estimators': 100}. Best is trial 11 with value: 1.0.\n",
      "[I 2024-05-07 01:16:51,252] Trial 52 finished with value: 1.0 and parameters: {'boosting_type': 'dart', 'lambda_l1': 1.3137935433525345, 'lambda_l2': 4.221676715883714, 'num_leaves': 65, 'feature_fraction': 0.7246739337233614, 'bagging_fraction': 0.9989726423503176, 'bagging_freq': 5, 'min_child_samples': 99, 'learning_rate': 0.04602324015973679, 'max_bin': 320, 'n_estimators': 100}. Best is trial 11 with value: 1.0.\n",
      "[I 2024-05-07 01:16:59,795] Trial 40 finished with value: 1.0 and parameters: {'boosting_type': 'gbdt', 'lambda_l1': 0.5802043797144212, 'lambda_l2': 1.427113857725361e-07, 'num_leaves': 66, 'feature_fraction': 0.5458851147700928, 'bagging_fraction': 0.9188103164981813, 'bagging_freq': 1, 'min_child_samples': 76, 'learning_rate': 0.056103266762577, 'max_bin': 320, 'n_estimators': 300}. Best is trial 11 with value: 1.0.\n",
      "[I 2024-05-07 01:17:02,071] Trial 50 finished with value: 0.9192701304309328 and parameters: {'boosting_type': 'dart', 'lambda_l1': 0.5849323969579192, 'lambda_l2': 2.234669187213985e-07, 'num_leaves': 78, 'feature_fraction': 0.721846801139559, 'bagging_fraction': 0.982589678039004, 'bagging_freq': 5, 'min_child_samples': 100, 'learning_rate': 0.0026080839649834956, 'max_bin': 320, 'n_estimators': 120}. Best is trial 11 with value: 1.0.\n",
      "[I 2024-05-07 01:17:06,686] Trial 14 finished with value: 1.0 and parameters: {'boosting_type': 'dart', 'lambda_l1': 6.5401956485981225, 'lambda_l2': 0.08058858954617203, 'num_leaves': 140, 'feature_fraction': 0.6673340656445752, 'bagging_fraction': 0.49599731592635843, 'bagging_freq': 4, 'min_child_samples': 28, 'learning_rate': 0.004397360334486354, 'max_bin': 128, 'n_estimators': 400}. Best is trial 11 with value: 1.0.\n",
      "[I 2024-05-07 01:17:12,514] Trial 6 finished with value: 1.0 and parameters: {'boosting_type': 'dart', 'lambda_l1': 0.04819988345975422, 'lambda_l2': 4.0326297427952106e-05, 'num_leaves': 135, 'feature_fraction': 0.7923661458581754, 'bagging_fraction': 0.9059811208044767, 'bagging_freq': 5, 'min_child_samples': 18, 'learning_rate': 0.011880154276327113, 'max_bin': 448, 'n_estimators': 260}. Best is trial 11 with value: 1.0.\n",
      "[I 2024-05-07 01:17:14,093] Trial 3 finished with value: 0.9192701304309328 and parameters: {'boosting_type': 'gbdt', 'lambda_l1': 4.480254386738922e-08, 'lambda_l2': 7.310220123057801, 'num_leaves': 203, 'feature_fraction': 0.6669435046968608, 'bagging_fraction': 0.6210440438353967, 'bagging_freq': 4, 'min_child_samples': 15, 'learning_rate': 0.000583022131331677, 'max_bin': 480, 'n_estimators': 140}. Best is trial 11 with value: 1.0.\n",
      "[I 2024-05-07 01:17:25,045] Trial 20 finished with value: 1.0 and parameters: {'boosting_type': 'dart', 'lambda_l1': 0.04009807302605112, 'lambda_l2': 3.1073809312109985e-06, 'num_leaves': 75, 'feature_fraction': 0.6332067188314132, 'bagging_fraction': 0.4432098651454671, 'bagging_freq': 5, 'min_child_samples': 26, 'learning_rate': 0.005284774273377735, 'max_bin': 512, 'n_estimators': 280}. Best is trial 11 with value: 1.0.\n",
      "[I 2024-05-07 01:17:28,618] Trial 53 finished with value: 1.0 and parameters: {'boosting_type': 'dart', 'lambda_l1': 0.3379229478507215, 'lambda_l2': 3.1785189977754196, 'num_leaves': 68, 'feature_fraction': 0.7096620998695801, 'bagging_fraction': 0.9762190953034351, 'bagging_freq': 5, 'min_child_samples': 99, 'learning_rate': 0.038223589243367335, 'max_bin': 320, 'n_estimators': 100}. Best is trial 11 with value: 1.0.\n",
      "[I 2024-05-07 01:17:51,602] Trial 22 finished with value: 0.9215725175298752 and parameters: {'boosting_type': 'dart', 'lambda_l1': 6.225858175386742e-07, 'lambda_l2': 2.522311629940218e-08, 'num_leaves': 110, 'feature_fraction': 0.46044769504837724, 'bagging_fraction': 0.4480370292985191, 'bagging_freq': 7, 'min_child_samples': 97, 'learning_rate': 0.0149997505923005, 'max_bin': 160, 'n_estimators': 100}. Best is trial 11 with value: 1.0.\n",
      "[I 2024-05-07 01:17:58,694] Trial 34 finished with value: 0.9192701304309328 and parameters: {'boosting_type': 'dart', 'lambda_l1': 0.001644415988780286, 'lambda_l2': 5.4492831030164665e-05, 'num_leaves': 114, 'feature_fraction': 0.5067013573154384, 'bagging_fraction': 0.9478941700708762, 'bagging_freq': 3, 'min_child_samples': 57, 'learning_rate': 0.002966166257800741, 'max_bin': 448, 'n_estimators': 120}. Best is trial 11 with value: 1.0.\n",
      "[I 2024-05-07 01:18:03,993] Trial 56 finished with value: 1.0 and parameters: {'boosting_type': 'dart', 'lambda_l1': 2.7186969363544943e-05, 'lambda_l2': 8.79254680805317, 'num_leaves': 164, 'feature_fraction': 0.9549017294772022, 'bagging_fraction': 0.7649444003167795, 'bagging_freq': 6, 'min_child_samples': 84, 'learning_rate': 0.048395468066826534, 'max_bin': 416, 'n_estimators': 240}. Best is trial 11 with value: 1.0.\n",
      "[I 2024-05-07 01:18:11,321] Trial 41 finished with value: 0.9192701304309328 and parameters: {'boosting_type': 'dart', 'lambda_l1': 2.7789204894819138e-06, 'lambda_l2': 4.741582040286514, 'num_leaves': 79, 'feature_fraction': 0.405611678680986, 'bagging_fraction': 0.9996225124175186, 'bagging_freq': 7, 'min_child_samples': 99, 'learning_rate': 0.0002035549173128151, 'max_bin': 288, 'n_estimators': 160}. Best is trial 11 with value: 1.0.\n",
      "[I 2024-05-07 01:18:12,044] Trial 48 finished with value: 0.9192701304309328 and parameters: {'boosting_type': 'dart', 'lambda_l1': 0.8436511263757334, 'lambda_l2': 5.328617596525182e-07, 'num_leaves': 67, 'feature_fraction': 0.4206230645631968, 'bagging_fraction': 0.9890999136081178, 'bagging_freq': 5, 'min_child_samples': 99, 'learning_rate': 0.0028044076126396765, 'max_bin': 352, 'n_estimators': 140}. Best is trial 11 with value: 1.0.\n",
      "[I 2024-05-07 01:18:20,805] Trial 1 finished with value: 1.0 and parameters: {'boosting_type': 'gbdt', 'lambda_l1': 0.0006750844155516974, 'lambda_l2': 1.5965790657094284e-07, 'num_leaves': 68, 'feature_fraction': 0.5828238187385915, 'bagging_fraction': 0.9031383399885885, 'bagging_freq': 1, 'min_child_samples': 73, 'learning_rate': 0.043708574645058354, 'max_bin': 288, 'n_estimators': 280}. Best is trial 11 with value: 1.0.\n",
      "[I 2024-05-07 01:18:24,679] Trial 29 finished with value: 0.9192701304309328 and parameters: {'boosting_type': 'gbdt', 'lambda_l1': 1.506541494082537e-08, 'lambda_l2': 2.2953408297825183e-06, 'num_leaves': 108, 'feature_fraction': 0.9219736105226003, 'bagging_fraction': 0.7490001481272108, 'bagging_freq': 7, 'min_child_samples': 16, 'learning_rate': 0.00013138304722566562, 'max_bin': 320, 'n_estimators': 240}. Best is trial 11 with value: 1.0.\n",
      "[I 2024-05-07 01:19:10,002] Trial 63 finished with value: 1.0 and parameters: {'boosting_type': 'dart', 'lambda_l1': 0.007759478605346892, 'lambda_l2': 1.06903146292174, 'num_leaves': 166, 'feature_fraction': 0.9443733718864231, 'bagging_fraction': 0.7847998027913214, 'bagging_freq': 6, 'min_child_samples': 18, 'learning_rate': 0.017026275167264033, 'max_bin': 416, 'n_estimators': 240}. Best is trial 11 with value: 1.0.\n",
      "[I 2024-05-07 01:19:16,771] Trial 15 finished with value: 1.0 and parameters: {'boosting_type': 'gbdt', 'lambda_l1': 7.395785645472544e-06, 'lambda_l2': 3.6346831455583523e-07, 'num_leaves': 150, 'feature_fraction': 0.8828729768636059, 'bagging_fraction': 0.5027408511502748, 'bagging_freq': 6, 'min_child_samples': 62, 'learning_rate': 0.00461947510713782, 'max_bin': 128, 'n_estimators': 160}. Best is trial 11 with value: 1.0.\n",
      "[I 2024-05-07 01:19:18,450] Trial 67 finished with value: 1.0 and parameters: {'boosting_type': 'dart', 'lambda_l1': 0.09051834375804671, 'lambda_l2': 0.6547617957906109, 'num_leaves': 177, 'feature_fraction': 0.7640043183103165, 'bagging_fraction': 0.8625431050733722, 'bagging_freq': 2, 'min_child_samples': 18, 'learning_rate': 0.484131028465928, 'max_bin': 384, 'n_estimators': 240}. Best is trial 11 with value: 1.0.\n",
      "[I 2024-05-07 01:19:19,233] Trial 43 finished with value: 0.9192701304309328 and parameters: {'boosting_type': 'dart', 'lambda_l1': 1.8948546757834956e-06, 'lambda_l2': 1.672681440321196e-08, 'num_leaves': 69, 'feature_fraction': 0.41986883813082826, 'bagging_fraction': 0.9785657124069091, 'bagging_freq': 7, 'min_child_samples': 96, 'learning_rate': 0.0017317703605332553, 'max_bin': 352, 'n_estimators': 140}. Best is trial 11 with value: 1.0.\n",
      "[I 2024-05-07 01:19:23,806] Trial 47 finished with value: 0.9192701304309328 and parameters: {'boosting_type': 'dart', 'lambda_l1': 1.3646563435994135e-08, 'lambda_l2': 3.412891124332001e-07, 'num_leaves': 76, 'feature_fraction': 0.7171376954240684, 'bagging_fraction': 0.99943847200346, 'bagging_freq': 5, 'min_child_samples': 98, 'learning_rate': 0.0030015376892353995, 'max_bin': 352, 'n_estimators': 140}. Best is trial 11 with value: 1.0.\n",
      "[I 2024-05-07 01:19:26,160] Trial 44 finished with value: 0.9192701304309328 and parameters: {'boosting_type': 'dart', 'lambda_l1': 7.617884366449129e-07, 'lambda_l2': 2.8874091834633874e-08, 'num_leaves': 66, 'feature_fraction': 0.40369585280528025, 'bagging_fraction': 0.9928166195513037, 'bagging_freq': 7, 'min_child_samples': 99, 'learning_rate': 0.0024760681711059984, 'max_bin': 352, 'n_estimators': 140}. Best is trial 11 with value: 1.0.\n",
      "[I 2024-05-07 01:19:30,904] Trial 37 finished with value: 1.0 and parameters: {'boosting_type': 'gbdt', 'lambda_l1': 8.003282639541936e-08, 'lambda_l2': 0.537312757868081, 'num_leaves': 72, 'feature_fraction': 0.6077956773915012, 'bagging_fraction': 0.5657702080138178, 'bagging_freq': 4, 'min_child_samples': 93, 'learning_rate': 0.009322329299417984, 'max_bin': 384, 'n_estimators': 400}. Best is trial 11 with value: 1.0.\n",
      "[I 2024-05-07 01:19:52,392] Trial 54 finished with value: 1.0 and parameters: {'boosting_type': 'dart', 'lambda_l1': 0.2886165931231044, 'lambda_l2': 9.98400213214851, 'num_leaves': 253, 'feature_fraction': 0.671129097204816, 'bagging_fraction': 0.9814138501672338, 'bagging_freq': 5, 'min_child_samples': 99, 'learning_rate': 0.03653512448741184, 'max_bin': 320, 'n_estimators': 100}. Best is trial 11 with value: 1.0.\n",
      "[I 2024-05-07 01:20:28,516] Trial 42 finished with value: 0.9192701304309328 and parameters: {'boosting_type': 'dart', 'lambda_l1': 8.428727857697356e-06, 'lambda_l2': 1.04012938006943e-08, 'num_leaves': 75, 'feature_fraction': 0.4234292495386379, 'bagging_fraction': 0.9601255779311314, 'bagging_freq': 7, 'min_child_samples': 94, 'learning_rate': 0.0026067691970028555, 'max_bin': 320, 'n_estimators': 160}. Best is trial 11 with value: 1.0.\n",
      "[I 2024-05-07 01:21:14,473] Trial 61 finished with value: 1.0 and parameters: {'boosting_type': 'dart', 'lambda_l1': 0.08993406008954476, 'lambda_l2': 0.003696781578634498, 'num_leaves': 115, 'feature_fraction': 0.7500719644906343, 'bagging_fraction': 0.9458892380258489, 'bagging_freq': 6, 'min_child_samples': 20, 'learning_rate': 0.016696268988602245, 'max_bin': 448, 'n_estimators': 240}. Best is trial 11 with value: 1.0.\n",
      "[I 2024-05-07 01:21:24,785] Trial 33 finished with value: 1.0 and parameters: {'boosting_type': 'gbdt', 'lambda_l1': 0.000589204543710091, 'lambda_l2': 3.511990808157619e-06, 'num_leaves': 99, 'feature_fraction': 0.48599052469777937, 'bagging_fraction': 0.6432198732228885, 'bagging_freq': 1, 'min_child_samples': 38, 'learning_rate': 0.040776405222900866, 'max_bin': 160, 'n_estimators': 220}. Best is trial 11 with value: 1.0.\n",
      "[I 2024-05-07 01:21:28,035] Trial 79 finished with value: 1.0 and parameters: {'boosting_type': 'gbdt', 'lambda_l1': 4.7276162263005626, 'lambda_l2': 7.424561384047833e-08, 'num_leaves': 121, 'feature_fraction': 0.7751058878498076, 'bagging_fraction': 0.6847087248745438, 'bagging_freq': 2, 'min_child_samples': 88, 'learning_rate': 0.07732484234552917, 'max_bin': 256, 'n_estimators': 340}. Best is trial 11 with value: 1.0.\n",
      "[I 2024-05-07 01:21:44,800] Trial 55 finished with value: 1.0 and parameters: {'boosting_type': 'dart', 'lambda_l1': 1.5318968587979404e-08, 'lambda_l2': 2.26733699338954, 'num_leaves': 256, 'feature_fraction': 0.7514420524288069, 'bagging_fraction': 0.780265191652666, 'bagging_freq': 6, 'min_child_samples': 86, 'learning_rate': 0.052704869913147365, 'max_bin': 288, 'n_estimators': 240}. Best is trial 11 with value: 1.0.\n",
      "[I 2024-05-07 01:21:46,866] Trial 19 finished with value: 1.0 and parameters: {'boosting_type': 'dart', 'lambda_l1': 3.7732428816507192e-06, 'lambda_l2': 2.0615164783482612e-08, 'num_leaves': 180, 'feature_fraction': 0.9538648842262021, 'bagging_fraction': 0.9723752654909146, 'bagging_freq': 3, 'min_child_samples': 37, 'learning_rate': 0.057101783427658294, 'max_bin': 256, 'n_estimators': 280}. Best is trial 11 with value: 1.0.\n",
      "[I 2024-05-07 01:22:02,536] Trial 38 finished with value: 0.9192701304309328 and parameters: {'boosting_type': 'dart', 'lambda_l1': 2.8259002427420463, 'lambda_l2': 0.0016307041306537413, 'num_leaves': 167, 'feature_fraction': 0.6222399464215855, 'bagging_fraction': 0.9893862885585706, 'bagging_freq': 6, 'min_child_samples': 76, 'learning_rate': 0.002049769999656136, 'max_bin': 224, 'n_estimators': 360}. Best is trial 11 with value: 1.0.\n",
      "[I 2024-05-07 01:22:07,562] Trial 65 finished with value: 1.0 and parameters: {'boosting_type': 'dart', 'lambda_l1': 0.08487824990582453, 'lambda_l2': 1.0187434759431526, 'num_leaves': 166, 'feature_fraction': 0.7838440636489645, 'bagging_fraction': 0.7731104915130983, 'bagging_freq': 6, 'min_child_samples': 19, 'learning_rate': 0.02223171172315629, 'max_bin': 416, 'n_estimators': 240}. Best is trial 11 with value: 1.0.\n",
      "[I 2024-05-07 01:22:39,758] Trial 62 finished with value: 1.0 and parameters: {'boosting_type': 'dart', 'lambda_l1': 0.01134081905331117, 'lambda_l2': 1.324581246059083, 'num_leaves': 169, 'feature_fraction': 0.7558825080469156, 'bagging_fraction': 0.9434265076149407, 'bagging_freq': 6, 'min_child_samples': 19, 'learning_rate': 0.01644497367012415, 'max_bin': 416, 'n_estimators': 240}. Best is trial 11 with value: 1.0.\n",
      "[I 2024-05-07 01:22:41,260] Trial 49 finished with value: 0.9192701304309328 and parameters: {'boosting_type': 'dart', 'lambda_l1': 2.244382462680658e-08, 'lambda_l2': 3.281405417242904e-05, 'num_leaves': 245, 'feature_fraction': 0.7257844947276586, 'bagging_fraction': 0.998804038069408, 'bagging_freq': 5, 'min_child_samples': 96, 'learning_rate': 0.0022022910877913635, 'max_bin': 320, 'n_estimators': 120}. Best is trial 11 with value: 1.0.\n",
      "[I 2024-05-07 01:22:47,088] Trial 82 finished with value: 1.0 and parameters: {'boosting_type': 'gbdt', 'lambda_l1': 0.013435834538920683, 'lambda_l2': 1.1705141859877264, 'num_leaves': 185, 'feature_fraction': 0.8514415973667236, 'bagging_fraction': 0.825142235344535, 'bagging_freq': 1, 'min_child_samples': 63, 'learning_rate': 0.17885785584676409, 'max_bin': 288, 'n_estimators': 340}. Best is trial 11 with value: 1.0.\n",
      "[I 2024-05-07 01:23:00,531] Trial 78 finished with value: 1.0 and parameters: {'boosting_type': 'gbdt', 'lambda_l1': 3.5600084591263634, 'lambda_l2': 9.878476310137001e-08, 'num_leaves': 123, 'feature_fraction': 0.7595670049644553, 'bagging_fraction': 0.6968441911388951, 'bagging_freq': 2, 'min_child_samples': 77, 'learning_rate': 0.021834280165163616, 'max_bin': 256, 'n_estimators': 340}. Best is trial 11 with value: 1.0.\n",
      "[I 2024-05-07 01:23:03,247] Trial 71 finished with value: 1.0 and parameters: {'boosting_type': 'dart', 'lambda_l1': 0.09195269043317668, 'lambda_l2': 9.629167450415978e-08, 'num_leaves': 122, 'feature_fraction': 0.7713434855227441, 'bagging_fraction': 0.8667605442937651, 'bagging_freq': 2, 'min_child_samples': 63, 'learning_rate': 0.024896520046249676, 'max_bin': 256, 'n_estimators': 220}. Best is trial 11 with value: 1.0.\n",
      "[I 2024-05-07 01:23:07,608] Trial 84 finished with value: 1.0 and parameters: {'boosting_type': 'gbdt', 'lambda_l1': 4.4061856928726726e-05, 'lambda_l2': 1.0453982326768465e-05, 'num_leaves': 152, 'feature_fraction': 0.85862105638333, 'bagging_fraction': 0.8915620872570822, 'bagging_freq': 1, 'min_child_samples': 63, 'learning_rate': 0.1954602095455223, 'max_bin': 480, 'n_estimators': 320}. Best is trial 11 with value: 1.0.\n",
      "[W 2024-05-07 01:23:09,876] Trial 64 failed with parameters: {'boosting_type': 'dart', 'lambda_l1': 0.003981324049878658, 'lambda_l2': 0.5955885874168311, 'num_leaves': 161, 'feature_fraction': 0.7832213698423848, 'bagging_fraction': 0.7737155585375334, 'bagging_freq': 6, 'min_child_samples': 20, 'learning_rate': 0.02790454113643694, 'max_bin': 416, 'n_estimators': 240} because of the following error: MlflowException(\"API request to http://127.0.0.1:8080/api/2.0/mlflow/runs/log-batch failed with exception HTTPConnectionPool(host='127.0.0.1', port=8080): Max retries exceeded with url: /api/2.0/mlflow/runs/log-batch (Caused by ResponseError('too many 500 error responses'))\").\n",
      "urllib3.exceptions.ResponseError: too many 500 error responses\n",
      "\n",
      "The above exception was the direct cause of the following exception:\n",
      "\n",
      "Traceback (most recent call last):\n",
      "  File \"e:\\Mes Documents\\_Open Classroom\\Code\\p7\\p7env\\lib\\site-packages\\requests\\adapters.py\", line 486, in send\n",
      "    resp = conn.urlopen(\n",
      "  File \"e:\\Mes Documents\\_Open Classroom\\Code\\p7\\p7env\\lib\\site-packages\\urllib3\\connectionpool.py\", line 948, in urlopen\n",
      "    return self.urlopen(\n",
      "  File \"e:\\Mes Documents\\_Open Classroom\\Code\\p7\\p7env\\lib\\site-packages\\urllib3\\connectionpool.py\", line 948, in urlopen\n",
      "    return self.urlopen(\n",
      "  File \"e:\\Mes Documents\\_Open Classroom\\Code\\p7\\p7env\\lib\\site-packages\\urllib3\\connectionpool.py\", line 948, in urlopen\n",
      "    return self.urlopen(\n",
      "  [Previous line repeated 2 more times]\n",
      "  File \"e:\\Mes Documents\\_Open Classroom\\Code\\p7\\p7env\\lib\\site-packages\\urllib3\\connectionpool.py\", line 938, in urlopen\n",
      "    retries = retries.increment(method, url, response=response, _pool=self)\n",
      "  File \"e:\\Mes Documents\\_Open Classroom\\Code\\p7\\p7env\\lib\\site-packages\\urllib3\\util\\retry.py\", line 515, in increment\n",
      "    raise MaxRetryError(_pool, url, reason) from reason  # type: ignore[arg-type]\n",
      "urllib3.exceptions.MaxRetryError: HTTPConnectionPool(host='127.0.0.1', port=8080): Max retries exceeded with url: /api/2.0/mlflow/runs/log-batch (Caused by ResponseError('too many 500 error responses'))\n",
      "\n",
      "During handling of the above exception, another exception occurred:\n",
      "\n",
      "Traceback (most recent call last):\n",
      "  File \"e:\\Mes Documents\\_Open Classroom\\Code\\p7\\p7env\\lib\\site-packages\\mlflow\\utils\\rest_utils.py\", line 128, in http_request\n",
      "    return _get_http_response_with_retries(\n",
      "  File \"e:\\Mes Documents\\_Open Classroom\\Code\\p7\\p7env\\lib\\site-packages\\mlflow\\utils\\request_utils.py\", line 228, in _get_http_response_with_retries\n",
      "    return session.request(method, url, allow_redirects=allow_redirects, **kwargs)\n",
      "  File \"e:\\Mes Documents\\_Open Classroom\\Code\\p7\\p7env\\lib\\site-packages\\requests\\sessions.py\", line 589, in request\n",
      "    resp = self.send(prep, **send_kwargs)\n",
      "  File \"e:\\Mes Documents\\_Open Classroom\\Code\\p7\\p7env\\lib\\site-packages\\requests\\sessions.py\", line 703, in send\n",
      "    r = adapter.send(request, **kwargs)\n",
      "  File \"e:\\Mes Documents\\_Open Classroom\\Code\\p7\\p7env\\lib\\site-packages\\requests\\adapters.py\", line 510, in send\n",
      "    raise RetryError(e, request=request)\n",
      "requests.exceptions.RetryError: HTTPConnectionPool(host='127.0.0.1', port=8080): Max retries exceeded with url: /api/2.0/mlflow/runs/log-batch (Caused by ResponseError('too many 500 error responses'))\n",
      "\n",
      "During handling of the above exception, another exception occurred:\n",
      "\n",
      "Traceback (most recent call last):\n",
      "  File \"e:\\Mes Documents\\_Open Classroom\\Code\\p7\\p7env\\lib\\site-packages\\optuna\\study\\_optimize.py\", line 196, in _run_trial\n",
      "    value_or_values = func(trial)\n",
      "  File \"e:\\Mes Documents\\_Open Classroom\\Code\\p7\\src\\p7_hyper_param.py\", line 235, in _objective\n",
      "    mlflow.log_params(hyperparams)\n",
      "  File \"e:\\Mes Documents\\_Open Classroom\\Code\\p7\\p7env\\lib\\site-packages\\mlflow\\tracking\\fluent.py\", line 911, in log_params\n",
      "    return MlflowClient().log_batch(\n",
      "  File \"e:\\Mes Documents\\_Open Classroom\\Code\\p7\\p7env\\lib\\site-packages\\mlflow\\tracking\\client.py\", line 1134, in log_batch\n",
      "    return self._tracking_client.log_batch(\n",
      "  File \"e:\\Mes Documents\\_Open Classroom\\Code\\p7\\p7env\\lib\\site-packages\\mlflow\\tracking\\_tracking_service\\client.py\", line 471, in log_batch\n",
      "    self.store.log_batch(\n",
      "  File \"e:\\Mes Documents\\_Open Classroom\\Code\\p7\\p7env\\lib\\site-packages\\mlflow\\store\\tracking\\rest_store.py\", line 340, in log_batch\n",
      "    self._call_endpoint(LogBatch, req_body)\n",
      "  File \"e:\\Mes Documents\\_Open Classroom\\Code\\p7\\p7env\\lib\\site-packages\\mlflow\\store\\tracking\\rest_store.py\", line 60, in _call_endpoint\n",
      "    return call_endpoint(self.get_host_creds(), endpoint, method, json_body, response_proto)\n",
      "  File \"e:\\Mes Documents\\_Open Classroom\\Code\\p7\\p7env\\lib\\site-packages\\mlflow\\utils\\rest_utils.py\", line 289, in call_endpoint\n",
      "    response = http_request(**call_kwargs)\n",
      "  File \"e:\\Mes Documents\\_Open Classroom\\Code\\p7\\p7env\\lib\\site-packages\\mlflow\\utils\\rest_utils.py\", line 151, in http_request\n",
      "    raise MlflowException(f\"API request to {url} failed with exception {e}\")\n",
      "mlflow.exceptions.MlflowException: API request to http://127.0.0.1:8080/api/2.0/mlflow/runs/log-batch failed with exception HTTPConnectionPool(host='127.0.0.1', port=8080): Max retries exceeded with url: /api/2.0/mlflow/runs/log-batch (Caused by ResponseError('too many 500 error responses'))\n",
      "[W 2024-05-07 01:23:09,879] Trial 64 failed with value None.\n",
      "[W 2024-05-07 01:24:13,103] Trial 85 failed with parameters: {'boosting_type': 'gbdt', 'lambda_l1': 8.724719392894354e-05, 'lambda_l2': 0.09914518441867362, 'num_leaves': 49, 'feature_fraction': 0.8516218968217428, 'bagging_fraction': 0.8304149626204833, 'bagging_freq': 1, 'min_child_samples': 64, 'learning_rate': 0.20454220072164567, 'max_bin': 448, 'n_estimators': 320} because of the following error: MlflowException(\"API request to http://127.0.0.1:8080/api/2.0/mlflow/runs/log-batch failed with exception HTTPConnectionPool(host='127.0.0.1', port=8080): Max retries exceeded with url: /api/2.0/mlflow/runs/log-batch (Caused by ResponseError('too many 500 error responses'))\").\n",
      "urllib3.exceptions.ResponseError: too many 500 error responses\n",
      "\n",
      "The above exception was the direct cause of the following exception:\n",
      "\n",
      "Traceback (most recent call last):\n",
      "  File \"e:\\Mes Documents\\_Open Classroom\\Code\\p7\\p7env\\lib\\site-packages\\requests\\adapters.py\", line 486, in send\n",
      "    resp = conn.urlopen(\n",
      "  File \"e:\\Mes Documents\\_Open Classroom\\Code\\p7\\p7env\\lib\\site-packages\\urllib3\\connectionpool.py\", line 948, in urlopen\n",
      "    return self.urlopen(\n",
      "  File \"e:\\Mes Documents\\_Open Classroom\\Code\\p7\\p7env\\lib\\site-packages\\urllib3\\connectionpool.py\", line 948, in urlopen\n",
      "    return self.urlopen(\n",
      "  File \"e:\\Mes Documents\\_Open Classroom\\Code\\p7\\p7env\\lib\\site-packages\\urllib3\\connectionpool.py\", line 948, in urlopen\n",
      "    return self.urlopen(\n",
      "  [Previous line repeated 2 more times]\n",
      "  File \"e:\\Mes Documents\\_Open Classroom\\Code\\p7\\p7env\\lib\\site-packages\\urllib3\\connectionpool.py\", line 938, in urlopen\n",
      "    retries = retries.increment(method, url, response=response, _pool=self)\n",
      "  File \"e:\\Mes Documents\\_Open Classroom\\Code\\p7\\p7env\\lib\\site-packages\\urllib3\\util\\retry.py\", line 515, in increment\n",
      "    raise MaxRetryError(_pool, url, reason) from reason  # type: ignore[arg-type]\n",
      "urllib3.exceptions.MaxRetryError: HTTPConnectionPool(host='127.0.0.1', port=8080): Max retries exceeded with url: /api/2.0/mlflow/runs/log-batch (Caused by ResponseError('too many 500 error responses'))\n",
      "\n",
      "During handling of the above exception, another exception occurred:\n",
      "\n",
      "Traceback (most recent call last):\n",
      "  File \"e:\\Mes Documents\\_Open Classroom\\Code\\p7\\p7env\\lib\\site-packages\\mlflow\\utils\\rest_utils.py\", line 128, in http_request\n",
      "    return _get_http_response_with_retries(\n",
      "  File \"e:\\Mes Documents\\_Open Classroom\\Code\\p7\\p7env\\lib\\site-packages\\mlflow\\utils\\request_utils.py\", line 228, in _get_http_response_with_retries\n",
      "    return session.request(method, url, allow_redirects=allow_redirects, **kwargs)\n",
      "  File \"e:\\Mes Documents\\_Open Classroom\\Code\\p7\\p7env\\lib\\site-packages\\requests\\sessions.py\", line 589, in request\n",
      "    resp = self.send(prep, **send_kwargs)\n",
      "  File \"e:\\Mes Documents\\_Open Classroom\\Code\\p7\\p7env\\lib\\site-packages\\requests\\sessions.py\", line 703, in send\n",
      "    r = adapter.send(request, **kwargs)\n",
      "  File \"e:\\Mes Documents\\_Open Classroom\\Code\\p7\\p7env\\lib\\site-packages\\requests\\adapters.py\", line 510, in send\n",
      "    raise RetryError(e, request=request)\n",
      "requests.exceptions.RetryError: HTTPConnectionPool(host='127.0.0.1', port=8080): Max retries exceeded with url: /api/2.0/mlflow/runs/log-batch (Caused by ResponseError('too many 500 error responses'))\n",
      "\n",
      "During handling of the above exception, another exception occurred:\n",
      "\n",
      "Traceback (most recent call last):\n",
      "  File \"e:\\Mes Documents\\_Open Classroom\\Code\\p7\\p7env\\lib\\site-packages\\optuna\\study\\_optimize.py\", line 196, in _run_trial\n",
      "    value_or_values = func(trial)\n",
      "  File \"e:\\Mes Documents\\_Open Classroom\\Code\\p7\\src\\p7_hyper_param.py\", line 235, in _objective\n",
      "    mlflow.log_params(hyperparams)\n",
      "  File \"e:\\Mes Documents\\_Open Classroom\\Code\\p7\\p7env\\lib\\site-packages\\mlflow\\tracking\\fluent.py\", line 911, in log_params\n",
      "    return MlflowClient().log_batch(\n",
      "  File \"e:\\Mes Documents\\_Open Classroom\\Code\\p7\\p7env\\lib\\site-packages\\mlflow\\tracking\\client.py\", line 1134, in log_batch\n",
      "    return self._tracking_client.log_batch(\n",
      "  File \"e:\\Mes Documents\\_Open Classroom\\Code\\p7\\p7env\\lib\\site-packages\\mlflow\\tracking\\_tracking_service\\client.py\", line 471, in log_batch\n",
      "    self.store.log_batch(\n",
      "  File \"e:\\Mes Documents\\_Open Classroom\\Code\\p7\\p7env\\lib\\site-packages\\mlflow\\store\\tracking\\rest_store.py\", line 340, in log_batch\n",
      "    self._call_endpoint(LogBatch, req_body)\n",
      "  File \"e:\\Mes Documents\\_Open Classroom\\Code\\p7\\p7env\\lib\\site-packages\\mlflow\\store\\tracking\\rest_store.py\", line 60, in _call_endpoint\n",
      "    return call_endpoint(self.get_host_creds(), endpoint, method, json_body, response_proto)\n",
      "  File \"e:\\Mes Documents\\_Open Classroom\\Code\\p7\\p7env\\lib\\site-packages\\mlflow\\utils\\rest_utils.py\", line 289, in call_endpoint\n",
      "    response = http_request(**call_kwargs)\n",
      "  File \"e:\\Mes Documents\\_Open Classroom\\Code\\p7\\p7env\\lib\\site-packages\\mlflow\\utils\\rest_utils.py\", line 151, in http_request\n",
      "    raise MlflowException(f\"API request to {url} failed with exception {e}\")\n",
      "mlflow.exceptions.MlflowException: API request to http://127.0.0.1:8080/api/2.0/mlflow/runs/log-batch failed with exception HTTPConnectionPool(host='127.0.0.1', port=8080): Max retries exceeded with url: /api/2.0/mlflow/runs/log-batch (Caused by ResponseError('too many 500 error responses'))\n",
      "[W 2024-05-07 01:24:13,106] Trial 85 failed with value None.\n",
      "[I 2024-05-07 01:24:15,927] Trial 68 finished with value: 1.0 and parameters: {'boosting_type': 'dart', 'lambda_l1': 0.11211947983690308, 'lambda_l2': 0.6821367151077833, 'num_leaves': 248, 'feature_fraction': 0.7596372623541738, 'bagging_fraction': 0.8689354783134673, 'bagging_freq': 2, 'min_child_samples': 19, 'learning_rate': 0.021880839517105462, 'max_bin': 416, 'n_estimators': 240}. Best is trial 11 with value: 1.0.\n",
      "[I 2024-05-07 01:24:16,243] Trial 91 finished with value: 1.0 and parameters: {'boosting_type': 'gbdt', 'lambda_l1': 0.0001894479434139656, 'lambda_l2': 0.09785121013208854, 'num_leaves': 151, 'feature_fraction': 0.8756785322923821, 'bagging_fraction': 0.9077061138654803, 'bagging_freq': 1, 'min_child_samples': 11, 'learning_rate': 0.08716781083443521, 'max_bin': 512, 'n_estimators': 300}. Best is trial 11 with value: 1.0.\n",
      "[I 2024-05-07 01:24:17,708] Trial 75 finished with value: 1.0 and parameters: {'boosting_type': 'gbdt', 'lambda_l1': 0.07251057315997772, 'lambda_l2': 7.885864975228171e-08, 'num_leaves': 251, 'feature_fraction': 0.8551899046435819, 'bagging_fraction': 0.9447464463116685, 'bagging_freq': 2, 'min_child_samples': 89, 'learning_rate': 0.025178227156050153, 'max_bin': 256, 'n_estimators': 340}. Best is trial 11 with value: 1.0.\n",
      "[I 2024-05-07 01:24:20,941] Trial 89 finished with value: 1.0 and parameters: {'boosting_type': 'gbdt', 'lambda_l1': 0.0001870093848637996, 'lambda_l2': 8.959571745397771e-06, 'num_leaves': 151, 'feature_fraction': 0.868343886835905, 'bagging_fraction': 0.8893939689052625, 'bagging_freq': 2, 'min_child_samples': 75, 'learning_rate': 0.09505013184632014, 'max_bin': 480, 'n_estimators': 300}. Best is trial 11 with value: 1.0.\n",
      "[W 2024-05-07 01:24:26,521] Trial 86 failed with parameters: {'boosting_type': 'gbdt', 'lambda_l1': 0.00011805108670027515, 'lambda_l2': 1.2485543335772509e-06, 'num_leaves': 152, 'feature_fraction': 0.8645224920280623, 'bagging_fraction': 0.8838527215180761, 'bagging_freq': 1, 'min_child_samples': 66, 'learning_rate': 0.19950304042718353, 'max_bin': 480, 'n_estimators': 320} because of the following error: MlflowException(\"API request to http://127.0.0.1:8080/api/2.0/mlflow/runs/log-batch failed with exception HTTPConnectionPool(host='127.0.0.1', port=8080): Max retries exceeded with url: /api/2.0/mlflow/runs/log-batch (Caused by ResponseError('too many 500 error responses'))\").\n",
      "urllib3.exceptions.ResponseError: too many 500 error responses\n",
      "\n",
      "The above exception was the direct cause of the following exception:\n",
      "\n",
      "Traceback (most recent call last):\n",
      "  File \"e:\\Mes Documents\\_Open Classroom\\Code\\p7\\p7env\\lib\\site-packages\\requests\\adapters.py\", line 486, in send\n",
      "    resp = conn.urlopen(\n",
      "  File \"e:\\Mes Documents\\_Open Classroom\\Code\\p7\\p7env\\lib\\site-packages\\urllib3\\connectionpool.py\", line 948, in urlopen\n",
      "    return self.urlopen(\n",
      "  File \"e:\\Mes Documents\\_Open Classroom\\Code\\p7\\p7env\\lib\\site-packages\\urllib3\\connectionpool.py\", line 948, in urlopen\n",
      "    return self.urlopen(\n",
      "  File \"e:\\Mes Documents\\_Open Classroom\\Code\\p7\\p7env\\lib\\site-packages\\urllib3\\connectionpool.py\", line 948, in urlopen\n",
      "    return self.urlopen(\n",
      "  [Previous line repeated 2 more times]\n",
      "  File \"e:\\Mes Documents\\_Open Classroom\\Code\\p7\\p7env\\lib\\site-packages\\urllib3\\connectionpool.py\", line 938, in urlopen\n",
      "    retries = retries.increment(method, url, response=response, _pool=self)\n",
      "  File \"e:\\Mes Documents\\_Open Classroom\\Code\\p7\\p7env\\lib\\site-packages\\urllib3\\util\\retry.py\", line 515, in increment\n",
      "    raise MaxRetryError(_pool, url, reason) from reason  # type: ignore[arg-type]\n",
      "urllib3.exceptions.MaxRetryError: HTTPConnectionPool(host='127.0.0.1', port=8080): Max retries exceeded with url: /api/2.0/mlflow/runs/log-batch (Caused by ResponseError('too many 500 error responses'))\n",
      "\n",
      "During handling of the above exception, another exception occurred:\n",
      "\n",
      "Traceback (most recent call last):\n",
      "  File \"e:\\Mes Documents\\_Open Classroom\\Code\\p7\\p7env\\lib\\site-packages\\mlflow\\utils\\rest_utils.py\", line 128, in http_request\n",
      "    return _get_http_response_with_retries(\n",
      "  File \"e:\\Mes Documents\\_Open Classroom\\Code\\p7\\p7env\\lib\\site-packages\\mlflow\\utils\\request_utils.py\", line 228, in _get_http_response_with_retries\n",
      "    return session.request(method, url, allow_redirects=allow_redirects, **kwargs)\n",
      "  File \"e:\\Mes Documents\\_Open Classroom\\Code\\p7\\p7env\\lib\\site-packages\\requests\\sessions.py\", line 589, in request\n",
      "    resp = self.send(prep, **send_kwargs)\n",
      "  File \"e:\\Mes Documents\\_Open Classroom\\Code\\p7\\p7env\\lib\\site-packages\\requests\\sessions.py\", line 703, in send\n",
      "    r = adapter.send(request, **kwargs)\n",
      "  File \"e:\\Mes Documents\\_Open Classroom\\Code\\p7\\p7env\\lib\\site-packages\\requests\\adapters.py\", line 510, in send\n",
      "    raise RetryError(e, request=request)\n",
      "requests.exceptions.RetryError: HTTPConnectionPool(host='127.0.0.1', port=8080): Max retries exceeded with url: /api/2.0/mlflow/runs/log-batch (Caused by ResponseError('too many 500 error responses'))\n",
      "\n",
      "During handling of the above exception, another exception occurred:\n",
      "\n",
      "Traceback (most recent call last):\n",
      "  File \"e:\\Mes Documents\\_Open Classroom\\Code\\p7\\p7env\\lib\\site-packages\\optuna\\study\\_optimize.py\", line 196, in _run_trial\n",
      "    value_or_values = func(trial)\n",
      "  File \"e:\\Mes Documents\\_Open Classroom\\Code\\p7\\src\\p7_hyper_param.py\", line 235, in _objective\n",
      "    mlflow.log_params(hyperparams)\n",
      "  File \"e:\\Mes Documents\\_Open Classroom\\Code\\p7\\p7env\\lib\\site-packages\\mlflow\\tracking\\fluent.py\", line 911, in log_params\n",
      "    return MlflowClient().log_batch(\n",
      "  File \"e:\\Mes Documents\\_Open Classroom\\Code\\p7\\p7env\\lib\\site-packages\\mlflow\\tracking\\client.py\", line 1134, in log_batch\n",
      "    return self._tracking_client.log_batch(\n",
      "  File \"e:\\Mes Documents\\_Open Classroom\\Code\\p7\\p7env\\lib\\site-packages\\mlflow\\tracking\\_tracking_service\\client.py\", line 471, in log_batch\n",
      "    self.store.log_batch(\n",
      "  File \"e:\\Mes Documents\\_Open Classroom\\Code\\p7\\p7env\\lib\\site-packages\\mlflow\\store\\tracking\\rest_store.py\", line 340, in log_batch\n",
      "    self._call_endpoint(LogBatch, req_body)\n",
      "  File \"e:\\Mes Documents\\_Open Classroom\\Code\\p7\\p7env\\lib\\site-packages\\mlflow\\store\\tracking\\rest_store.py\", line 60, in _call_endpoint\n",
      "    return call_endpoint(self.get_host_creds(), endpoint, method, json_body, response_proto)\n",
      "  File \"e:\\Mes Documents\\_Open Classroom\\Code\\p7\\p7env\\lib\\site-packages\\mlflow\\utils\\rest_utils.py\", line 289, in call_endpoint\n",
      "    response = http_request(**call_kwargs)\n",
      "  File \"e:\\Mes Documents\\_Open Classroom\\Code\\p7\\p7env\\lib\\site-packages\\mlflow\\utils\\rest_utils.py\", line 151, in http_request\n",
      "    raise MlflowException(f\"API request to {url} failed with exception {e}\")\n",
      "mlflow.exceptions.MlflowException: API request to http://127.0.0.1:8080/api/2.0/mlflow/runs/log-batch failed with exception HTTPConnectionPool(host='127.0.0.1', port=8080): Max retries exceeded with url: /api/2.0/mlflow/runs/log-batch (Caused by ResponseError('too many 500 error responses'))\n",
      "[W 2024-05-07 01:24:26,524] Trial 86 failed with value None.\n",
      "[W 2024-05-07 01:24:28,765] Trial 46 failed with parameters: {'boosting_type': 'dart', 'lambda_l1': 1.3431189046625178, 'lambda_l2': 1.0822000661787787e-08, 'num_leaves': 251, 'feature_fraction': 0.44879949085031184, 'bagging_fraction': 0.9864013856527152, 'bagging_freq': 5, 'min_child_samples': 99, 'learning_rate': 0.002726539319749874, 'max_bin': 352, 'n_estimators': 140} because of the following error: MlflowException(\"API request to http://127.0.0.1:8080/api/2.0/mlflow/runs/log-batch failed with exception HTTPConnectionPool(host='127.0.0.1', port=8080): Max retries exceeded with url: /api/2.0/mlflow/runs/log-batch (Caused by ResponseError('too many 500 error responses'))\").\n",
      "urllib3.exceptions.ResponseError: too many 500 error responses\n",
      "\n",
      "The above exception was the direct cause of the following exception:\n",
      "\n",
      "Traceback (most recent call last):\n",
      "  File \"e:\\Mes Documents\\_Open Classroom\\Code\\p7\\p7env\\lib\\site-packages\\requests\\adapters.py\", line 486, in send\n",
      "    resp = conn.urlopen(\n",
      "  File \"e:\\Mes Documents\\_Open Classroom\\Code\\p7\\p7env\\lib\\site-packages\\urllib3\\connectionpool.py\", line 948, in urlopen\n",
      "    return self.urlopen(\n",
      "  File \"e:\\Mes Documents\\_Open Classroom\\Code\\p7\\p7env\\lib\\site-packages\\urllib3\\connectionpool.py\", line 948, in urlopen\n",
      "    return self.urlopen(\n",
      "  File \"e:\\Mes Documents\\_Open Classroom\\Code\\p7\\p7env\\lib\\site-packages\\urllib3\\connectionpool.py\", line 948, in urlopen\n",
      "    return self.urlopen(\n",
      "  [Previous line repeated 2 more times]\n",
      "  File \"e:\\Mes Documents\\_Open Classroom\\Code\\p7\\p7env\\lib\\site-packages\\urllib3\\connectionpool.py\", line 938, in urlopen\n",
      "    retries = retries.increment(method, url, response=response, _pool=self)\n",
      "  File \"e:\\Mes Documents\\_Open Classroom\\Code\\p7\\p7env\\lib\\site-packages\\urllib3\\util\\retry.py\", line 515, in increment\n",
      "    raise MaxRetryError(_pool, url, reason) from reason  # type: ignore[arg-type]\n",
      "urllib3.exceptions.MaxRetryError: HTTPConnectionPool(host='127.0.0.1', port=8080): Max retries exceeded with url: /api/2.0/mlflow/runs/log-batch (Caused by ResponseError('too many 500 error responses'))\n",
      "\n",
      "During handling of the above exception, another exception occurred:\n",
      "\n",
      "Traceback (most recent call last):\n",
      "  File \"e:\\Mes Documents\\_Open Classroom\\Code\\p7\\p7env\\lib\\site-packages\\mlflow\\utils\\rest_utils.py\", line 128, in http_request\n",
      "    return _get_http_response_with_retries(\n",
      "  File \"e:\\Mes Documents\\_Open Classroom\\Code\\p7\\p7env\\lib\\site-packages\\mlflow\\utils\\request_utils.py\", line 228, in _get_http_response_with_retries\n",
      "    return session.request(method, url, allow_redirects=allow_redirects, **kwargs)\n",
      "  File \"e:\\Mes Documents\\_Open Classroom\\Code\\p7\\p7env\\lib\\site-packages\\requests\\sessions.py\", line 589, in request\n",
      "    resp = self.send(prep, **send_kwargs)\n",
      "  File \"e:\\Mes Documents\\_Open Classroom\\Code\\p7\\p7env\\lib\\site-packages\\requests\\sessions.py\", line 703, in send\n",
      "    r = adapter.send(request, **kwargs)\n",
      "  File \"e:\\Mes Documents\\_Open Classroom\\Code\\p7\\p7env\\lib\\site-packages\\requests\\adapters.py\", line 510, in send\n",
      "    raise RetryError(e, request=request)\n",
      "requests.exceptions.RetryError: HTTPConnectionPool(host='127.0.0.1', port=8080): Max retries exceeded with url: /api/2.0/mlflow/runs/log-batch (Caused by ResponseError('too many 500 error responses'))\n",
      "\n",
      "During handling of the above exception, another exception occurred:\n",
      "\n",
      "Traceback (most recent call last):\n",
      "  File \"e:\\Mes Documents\\_Open Classroom\\Code\\p7\\p7env\\lib\\site-packages\\optuna\\study\\_optimize.py\", line 196, in _run_trial\n",
      "    value_or_values = func(trial)\n",
      "  File \"e:\\Mes Documents\\_Open Classroom\\Code\\p7\\src\\p7_hyper_param.py\", line 235, in _objective\n",
      "    mlflow.log_params(hyperparams)\n",
      "  File \"e:\\Mes Documents\\_Open Classroom\\Code\\p7\\p7env\\lib\\site-packages\\mlflow\\tracking\\fluent.py\", line 911, in log_params\n",
      "    return MlflowClient().log_batch(\n",
      "  File \"e:\\Mes Documents\\_Open Classroom\\Code\\p7\\p7env\\lib\\site-packages\\mlflow\\tracking\\client.py\", line 1134, in log_batch\n",
      "    return self._tracking_client.log_batch(\n",
      "  File \"e:\\Mes Documents\\_Open Classroom\\Code\\p7\\p7env\\lib\\site-packages\\mlflow\\tracking\\_tracking_service\\client.py\", line 471, in log_batch\n",
      "    self.store.log_batch(\n",
      "  File \"e:\\Mes Documents\\_Open Classroom\\Code\\p7\\p7env\\lib\\site-packages\\mlflow\\store\\tracking\\rest_store.py\", line 340, in log_batch\n",
      "    self._call_endpoint(LogBatch, req_body)\n",
      "  File \"e:\\Mes Documents\\_Open Classroom\\Code\\p7\\p7env\\lib\\site-packages\\mlflow\\store\\tracking\\rest_store.py\", line 60, in _call_endpoint\n",
      "    return call_endpoint(self.get_host_creds(), endpoint, method, json_body, response_proto)\n",
      "  File \"e:\\Mes Documents\\_Open Classroom\\Code\\p7\\p7env\\lib\\site-packages\\mlflow\\utils\\rest_utils.py\", line 289, in call_endpoint\n",
      "    response = http_request(**call_kwargs)\n",
      "  File \"e:\\Mes Documents\\_Open Classroom\\Code\\p7\\p7env\\lib\\site-packages\\mlflow\\utils\\rest_utils.py\", line 151, in http_request\n",
      "    raise MlflowException(f\"API request to {url} failed with exception {e}\")\n",
      "mlflow.exceptions.MlflowException: API request to http://127.0.0.1:8080/api/2.0/mlflow/runs/log-batch failed with exception HTTPConnectionPool(host='127.0.0.1', port=8080): Max retries exceeded with url: /api/2.0/mlflow/runs/log-batch (Caused by ResponseError('too many 500 error responses'))\n",
      "[W 2024-05-07 01:24:28,767] Trial 46 failed with value None.\n",
      "[W 2024-05-07 01:24:29,363] Trial 25 failed with parameters: {'boosting_type': 'gbdt', 'lambda_l1': 0.889850853804715, 'lambda_l2': 8.222806769592332e-07, 'num_leaves': 106, 'feature_fraction': 0.49939463334019785, 'bagging_fraction': 0.7926680724506019, 'bagging_freq': 1, 'min_child_samples': 44, 'learning_rate': 0.0004255081870364916, 'max_bin': 224, 'n_estimators': 360} because of the following error: MlflowException(\"API request to http://127.0.0.1:8080/api/2.0/mlflow/runs/log-batch failed with exception HTTPConnectionPool(host='127.0.0.1', port=8080): Max retries exceeded with url: /api/2.0/mlflow/runs/log-batch (Caused by ResponseError('too many 500 error responses'))\").\n",
      "urllib3.exceptions.ResponseError: too many 500 error responses\n",
      "\n",
      "The above exception was the direct cause of the following exception:\n",
      "\n",
      "Traceback (most recent call last):\n",
      "  File \"e:\\Mes Documents\\_Open Classroom\\Code\\p7\\p7env\\lib\\site-packages\\requests\\adapters.py\", line 486, in send\n",
      "    resp = conn.urlopen(\n",
      "  File \"e:\\Mes Documents\\_Open Classroom\\Code\\p7\\p7env\\lib\\site-packages\\urllib3\\connectionpool.py\", line 948, in urlopen\n",
      "    return self.urlopen(\n",
      "  File \"e:\\Mes Documents\\_Open Classroom\\Code\\p7\\p7env\\lib\\site-packages\\urllib3\\connectionpool.py\", line 948, in urlopen\n",
      "    return self.urlopen(\n",
      "  File \"e:\\Mes Documents\\_Open Classroom\\Code\\p7\\p7env\\lib\\site-packages\\urllib3\\connectionpool.py\", line 948, in urlopen\n",
      "    return self.urlopen(\n",
      "  [Previous line repeated 2 more times]\n",
      "  File \"e:\\Mes Documents\\_Open Classroom\\Code\\p7\\p7env\\lib\\site-packages\\urllib3\\connectionpool.py\", line 938, in urlopen\n",
      "    retries = retries.increment(method, url, response=response, _pool=self)\n",
      "  File \"e:\\Mes Documents\\_Open Classroom\\Code\\p7\\p7env\\lib\\site-packages\\urllib3\\util\\retry.py\", line 515, in increment\n",
      "    raise MaxRetryError(_pool, url, reason) from reason  # type: ignore[arg-type]\n",
      "urllib3.exceptions.MaxRetryError: HTTPConnectionPool(host='127.0.0.1', port=8080): Max retries exceeded with url: /api/2.0/mlflow/runs/log-batch (Caused by ResponseError('too many 500 error responses'))\n",
      "\n",
      "During handling of the above exception, another exception occurred:\n",
      "\n",
      "Traceback (most recent call last):\n",
      "  File \"e:\\Mes Documents\\_Open Classroom\\Code\\p7\\p7env\\lib\\site-packages\\mlflow\\utils\\rest_utils.py\", line 128, in http_request\n",
      "    return _get_http_response_with_retries(\n",
      "  File \"e:\\Mes Documents\\_Open Classroom\\Code\\p7\\p7env\\lib\\site-packages\\mlflow\\utils\\request_utils.py\", line 228, in _get_http_response_with_retries\n",
      "    return session.request(method, url, allow_redirects=allow_redirects, **kwargs)\n",
      "  File \"e:\\Mes Documents\\_Open Classroom\\Code\\p7\\p7env\\lib\\site-packages\\requests\\sessions.py\", line 589, in request\n",
      "    resp = self.send(prep, **send_kwargs)\n",
      "  File \"e:\\Mes Documents\\_Open Classroom\\Code\\p7\\p7env\\lib\\site-packages\\requests\\sessions.py\", line 703, in send\n",
      "    r = adapter.send(request, **kwargs)\n",
      "  File \"e:\\Mes Documents\\_Open Classroom\\Code\\p7\\p7env\\lib\\site-packages\\requests\\adapters.py\", line 510, in send\n",
      "    raise RetryError(e, request=request)\n",
      "requests.exceptions.RetryError: HTTPConnectionPool(host='127.0.0.1', port=8080): Max retries exceeded with url: /api/2.0/mlflow/runs/log-batch (Caused by ResponseError('too many 500 error responses'))\n",
      "\n",
      "During handling of the above exception, another exception occurred:\n",
      "\n",
      "Traceback (most recent call last):\n",
      "  File \"e:\\Mes Documents\\_Open Classroom\\Code\\p7\\p7env\\lib\\site-packages\\optuna\\study\\_optimize.py\", line 196, in _run_trial\n",
      "    value_or_values = func(trial)\n",
      "  File \"e:\\Mes Documents\\_Open Classroom\\Code\\p7\\src\\p7_hyper_param.py\", line 235, in _objective\n",
      "    mlflow.log_params(hyperparams)\n",
      "  File \"e:\\Mes Documents\\_Open Classroom\\Code\\p7\\p7env\\lib\\site-packages\\mlflow\\tracking\\fluent.py\", line 911, in log_params\n",
      "    return MlflowClient().log_batch(\n",
      "  File \"e:\\Mes Documents\\_Open Classroom\\Code\\p7\\p7env\\lib\\site-packages\\mlflow\\tracking\\client.py\", line 1134, in log_batch\n",
      "    return self._tracking_client.log_batch(\n",
      "  File \"e:\\Mes Documents\\_Open Classroom\\Code\\p7\\p7env\\lib\\site-packages\\mlflow\\tracking\\_tracking_service\\client.py\", line 471, in log_batch\n",
      "    self.store.log_batch(\n",
      "  File \"e:\\Mes Documents\\_Open Classroom\\Code\\p7\\p7env\\lib\\site-packages\\mlflow\\store\\tracking\\rest_store.py\", line 340, in log_batch\n",
      "    self._call_endpoint(LogBatch, req_body)\n",
      "  File \"e:\\Mes Documents\\_Open Classroom\\Code\\p7\\p7env\\lib\\site-packages\\mlflow\\store\\tracking\\rest_store.py\", line 60, in _call_endpoint\n",
      "    return call_endpoint(self.get_host_creds(), endpoint, method, json_body, response_proto)\n",
      "  File \"e:\\Mes Documents\\_Open Classroom\\Code\\p7\\p7env\\lib\\site-packages\\mlflow\\utils\\rest_utils.py\", line 289, in call_endpoint\n",
      "    response = http_request(**call_kwargs)\n",
      "  File \"e:\\Mes Documents\\_Open Classroom\\Code\\p7\\p7env\\lib\\site-packages\\mlflow\\utils\\rest_utils.py\", line 151, in http_request\n",
      "    raise MlflowException(f\"API request to {url} failed with exception {e}\")\n",
      "mlflow.exceptions.MlflowException: API request to http://127.0.0.1:8080/api/2.0/mlflow/runs/log-batch failed with exception HTTPConnectionPool(host='127.0.0.1', port=8080): Max retries exceeded with url: /api/2.0/mlflow/runs/log-batch (Caused by ResponseError('too many 500 error responses'))\n",
      "[W 2024-05-07 01:24:29,368] Trial 25 failed with value None.\n",
      "[W 2024-05-07 01:24:31,923] Trial 66 failed with parameters: {'boosting_type': 'dart', 'lambda_l1': 0.12811588144323632, 'lambda_l2': 0.00457629399763561, 'num_leaves': 177, 'feature_fraction': 0.7704480248948425, 'bagging_fraction': 0.8691736013627026, 'bagging_freq': 4, 'min_child_samples': 20, 'learning_rate': 0.02221334839596213, 'max_bin': 416, 'n_estimators': 240} because of the following error: MlflowException(\"API request to http://127.0.0.1:8080/api/2.0/mlflow/runs/log-batch failed with exception HTTPConnectionPool(host='127.0.0.1', port=8080): Max retries exceeded with url: /api/2.0/mlflow/runs/log-batch (Caused by ResponseError('too many 500 error responses'))\").\n",
      "urllib3.exceptions.ResponseError: too many 500 error responses\n",
      "\n",
      "The above exception was the direct cause of the following exception:\n",
      "\n",
      "Traceback (most recent call last):\n",
      "  File \"e:\\Mes Documents\\_Open Classroom\\Code\\p7\\p7env\\lib\\site-packages\\requests\\adapters.py\", line 486, in send\n",
      "    resp = conn.urlopen(\n",
      "  File \"e:\\Mes Documents\\_Open Classroom\\Code\\p7\\p7env\\lib\\site-packages\\urllib3\\connectionpool.py\", line 948, in urlopen\n",
      "    return self.urlopen(\n",
      "  File \"e:\\Mes Documents\\_Open Classroom\\Code\\p7\\p7env\\lib\\site-packages\\urllib3\\connectionpool.py\", line 948, in urlopen\n",
      "    return self.urlopen(\n",
      "  File \"e:\\Mes Documents\\_Open Classroom\\Code\\p7\\p7env\\lib\\site-packages\\urllib3\\connectionpool.py\", line 948, in urlopen\n",
      "    return self.urlopen(\n",
      "  [Previous line repeated 2 more times]\n",
      "  File \"e:\\Mes Documents\\_Open Classroom\\Code\\p7\\p7env\\lib\\site-packages\\urllib3\\connectionpool.py\", line 938, in urlopen\n",
      "    retries = retries.increment(method, url, response=response, _pool=self)\n",
      "  File \"e:\\Mes Documents\\_Open Classroom\\Code\\p7\\p7env\\lib\\site-packages\\urllib3\\util\\retry.py\", line 515, in increment\n",
      "    raise MaxRetryError(_pool, url, reason) from reason  # type: ignore[arg-type]\n",
      "urllib3.exceptions.MaxRetryError: HTTPConnectionPool(host='127.0.0.1', port=8080): Max retries exceeded with url: /api/2.0/mlflow/runs/log-batch (Caused by ResponseError('too many 500 error responses'))\n",
      "\n",
      "During handling of the above exception, another exception occurred:\n",
      "\n",
      "Traceback (most recent call last):\n",
      "  File \"e:\\Mes Documents\\_Open Classroom\\Code\\p7\\p7env\\lib\\site-packages\\mlflow\\utils\\rest_utils.py\", line 128, in http_request\n",
      "    return _get_http_response_with_retries(\n",
      "  File \"e:\\Mes Documents\\_Open Classroom\\Code\\p7\\p7env\\lib\\site-packages\\mlflow\\utils\\request_utils.py\", line 228, in _get_http_response_with_retries\n",
      "    return session.request(method, url, allow_redirects=allow_redirects, **kwargs)\n",
      "  File \"e:\\Mes Documents\\_Open Classroom\\Code\\p7\\p7env\\lib\\site-packages\\requests\\sessions.py\", line 589, in request\n",
      "    resp = self.send(prep, **send_kwargs)\n",
      "  File \"e:\\Mes Documents\\_Open Classroom\\Code\\p7\\p7env\\lib\\site-packages\\requests\\sessions.py\", line 703, in send\n",
      "    r = adapter.send(request, **kwargs)\n",
      "  File \"e:\\Mes Documents\\_Open Classroom\\Code\\p7\\p7env\\lib\\site-packages\\requests\\adapters.py\", line 510, in send\n",
      "    raise RetryError(e, request=request)\n",
      "requests.exceptions.RetryError: HTTPConnectionPool(host='127.0.0.1', port=8080): Max retries exceeded with url: /api/2.0/mlflow/runs/log-batch (Caused by ResponseError('too many 500 error responses'))\n",
      "\n",
      "During handling of the above exception, another exception occurred:\n",
      "\n",
      "Traceback (most recent call last):\n",
      "  File \"e:\\Mes Documents\\_Open Classroom\\Code\\p7\\p7env\\lib\\site-packages\\optuna\\study\\_optimize.py\", line 196, in _run_trial\n",
      "    value_or_values = func(trial)\n",
      "  File \"e:\\Mes Documents\\_Open Classroom\\Code\\p7\\src\\p7_hyper_param.py\", line 235, in _objective\n",
      "    mlflow.log_params(hyperparams)\n",
      "  File \"e:\\Mes Documents\\_Open Classroom\\Code\\p7\\p7env\\lib\\site-packages\\mlflow\\tracking\\fluent.py\", line 911, in log_params\n",
      "    return MlflowClient().log_batch(\n",
      "  File \"e:\\Mes Documents\\_Open Classroom\\Code\\p7\\p7env\\lib\\site-packages\\mlflow\\tracking\\client.py\", line 1134, in log_batch\n",
      "    return self._tracking_client.log_batch(\n",
      "  File \"e:\\Mes Documents\\_Open Classroom\\Code\\p7\\p7env\\lib\\site-packages\\mlflow\\tracking\\_tracking_service\\client.py\", line 471, in log_batch\n",
      "    self.store.log_batch(\n",
      "  File \"e:\\Mes Documents\\_Open Classroom\\Code\\p7\\p7env\\lib\\site-packages\\mlflow\\store\\tracking\\rest_store.py\", line 340, in log_batch\n",
      "    self._call_endpoint(LogBatch, req_body)\n",
      "  File \"e:\\Mes Documents\\_Open Classroom\\Code\\p7\\p7env\\lib\\site-packages\\mlflow\\store\\tracking\\rest_store.py\", line 60, in _call_endpoint\n",
      "    return call_endpoint(self.get_host_creds(), endpoint, method, json_body, response_proto)\n",
      "  File \"e:\\Mes Documents\\_Open Classroom\\Code\\p7\\p7env\\lib\\site-packages\\mlflow\\utils\\rest_utils.py\", line 289, in call_endpoint\n",
      "    response = http_request(**call_kwargs)\n",
      "  File \"e:\\Mes Documents\\_Open Classroom\\Code\\p7\\p7env\\lib\\site-packages\\mlflow\\utils\\rest_utils.py\", line 151, in http_request\n",
      "    raise MlflowException(f\"API request to {url} failed with exception {e}\")\n",
      "mlflow.exceptions.MlflowException: API request to http://127.0.0.1:8080/api/2.0/mlflow/runs/log-batch failed with exception HTTPConnectionPool(host='127.0.0.1', port=8080): Max retries exceeded with url: /api/2.0/mlflow/runs/log-batch (Caused by ResponseError('too many 500 error responses'))\n",
      "[W 2024-05-07 01:24:31,925] Trial 66 failed with value None.\n",
      "[W 2024-05-07 01:24:32,187] Trial 80 failed with parameters: {'boosting_type': 'gbdt', 'lambda_l1': 4.03268340075724e-05, 'lambda_l2': 1.29721605635433e-06, 'num_leaves': 127, 'feature_fraction': 0.839986309974872, 'bagging_fraction': 0.6842363069354984, 'bagging_freq': 1, 'min_child_samples': 75, 'learning_rate': 0.087434104828253, 'max_bin': 288, 'n_estimators': 340} because of the following error: MlflowException(\"API request to http://127.0.0.1:8080/api/2.0/mlflow/runs/log-batch failed with exception HTTPConnectionPool(host='127.0.0.1', port=8080): Max retries exceeded with url: /api/2.0/mlflow/runs/log-batch (Caused by ResponseError('too many 500 error responses'))\").\n",
      "urllib3.exceptions.ResponseError: too many 500 error responses\n",
      "\n",
      "The above exception was the direct cause of the following exception:\n",
      "\n",
      "Traceback (most recent call last):\n",
      "  File \"e:\\Mes Documents\\_Open Classroom\\Code\\p7\\p7env\\lib\\site-packages\\requests\\adapters.py\", line 486, in send\n",
      "    resp = conn.urlopen(\n",
      "  File \"e:\\Mes Documents\\_Open Classroom\\Code\\p7\\p7env\\lib\\site-packages\\urllib3\\connectionpool.py\", line 948, in urlopen\n",
      "    return self.urlopen(\n",
      "  File \"e:\\Mes Documents\\_Open Classroom\\Code\\p7\\p7env\\lib\\site-packages\\urllib3\\connectionpool.py\", line 948, in urlopen\n",
      "    return self.urlopen(\n",
      "  File \"e:\\Mes Documents\\_Open Classroom\\Code\\p7\\p7env\\lib\\site-packages\\urllib3\\connectionpool.py\", line 948, in urlopen\n",
      "    return self.urlopen(\n",
      "  [Previous line repeated 2 more times]\n",
      "  File \"e:\\Mes Documents\\_Open Classroom\\Code\\p7\\p7env\\lib\\site-packages\\urllib3\\connectionpool.py\", line 938, in urlopen\n",
      "    retries = retries.increment(method, url, response=response, _pool=self)\n",
      "  File \"e:\\Mes Documents\\_Open Classroom\\Code\\p7\\p7env\\lib\\site-packages\\urllib3\\util\\retry.py\", line 515, in increment\n",
      "    raise MaxRetryError(_pool, url, reason) from reason  # type: ignore[arg-type]\n",
      "urllib3.exceptions.MaxRetryError: HTTPConnectionPool(host='127.0.0.1', port=8080): Max retries exceeded with url: /api/2.0/mlflow/runs/log-batch (Caused by ResponseError('too many 500 error responses'))\n",
      "\n",
      "During handling of the above exception, another exception occurred:\n",
      "\n",
      "Traceback (most recent call last):\n",
      "  File \"e:\\Mes Documents\\_Open Classroom\\Code\\p7\\p7env\\lib\\site-packages\\mlflow\\utils\\rest_utils.py\", line 128, in http_request\n",
      "    return _get_http_response_with_retries(\n",
      "  File \"e:\\Mes Documents\\_Open Classroom\\Code\\p7\\p7env\\lib\\site-packages\\mlflow\\utils\\request_utils.py\", line 228, in _get_http_response_with_retries\n",
      "    return session.request(method, url, allow_redirects=allow_redirects, **kwargs)\n",
      "  File \"e:\\Mes Documents\\_Open Classroom\\Code\\p7\\p7env\\lib\\site-packages\\requests\\sessions.py\", line 589, in request\n",
      "    resp = self.send(prep, **send_kwargs)\n",
      "  File \"e:\\Mes Documents\\_Open Classroom\\Code\\p7\\p7env\\lib\\site-packages\\requests\\sessions.py\", line 703, in send\n",
      "    r = adapter.send(request, **kwargs)\n",
      "  File \"e:\\Mes Documents\\_Open Classroom\\Code\\p7\\p7env\\lib\\site-packages\\requests\\adapters.py\", line 510, in send\n",
      "    raise RetryError(e, request=request)\n",
      "requests.exceptions.RetryError: HTTPConnectionPool(host='127.0.0.1', port=8080): Max retries exceeded with url: /api/2.0/mlflow/runs/log-batch (Caused by ResponseError('too many 500 error responses'))\n",
      "\n",
      "During handling of the above exception, another exception occurred:\n",
      "\n",
      "Traceback (most recent call last):\n",
      "  File \"e:\\Mes Documents\\_Open Classroom\\Code\\p7\\p7env\\lib\\site-packages\\optuna\\study\\_optimize.py\", line 196, in _run_trial\n",
      "    value_or_values = func(trial)\n",
      "  File \"e:\\Mes Documents\\_Open Classroom\\Code\\p7\\src\\p7_hyper_param.py\", line 235, in _objective\n",
      "    mlflow.log_params(hyperparams)\n",
      "  File \"e:\\Mes Documents\\_Open Classroom\\Code\\p7\\p7env\\lib\\site-packages\\mlflow\\tracking\\fluent.py\", line 911, in log_params\n",
      "    return MlflowClient().log_batch(\n",
      "  File \"e:\\Mes Documents\\_Open Classroom\\Code\\p7\\p7env\\lib\\site-packages\\mlflow\\tracking\\client.py\", line 1134, in log_batch\n",
      "    return self._tracking_client.log_batch(\n",
      "  File \"e:\\Mes Documents\\_Open Classroom\\Code\\p7\\p7env\\lib\\site-packages\\mlflow\\tracking\\_tracking_service\\client.py\", line 471, in log_batch\n",
      "    self.store.log_batch(\n",
      "  File \"e:\\Mes Documents\\_Open Classroom\\Code\\p7\\p7env\\lib\\site-packages\\mlflow\\store\\tracking\\rest_store.py\", line 340, in log_batch\n",
      "    self._call_endpoint(LogBatch, req_body)\n",
      "  File \"e:\\Mes Documents\\_Open Classroom\\Code\\p7\\p7env\\lib\\site-packages\\mlflow\\store\\tracking\\rest_store.py\", line 60, in _call_endpoint\n",
      "    return call_endpoint(self.get_host_creds(), endpoint, method, json_body, response_proto)\n",
      "  File \"e:\\Mes Documents\\_Open Classroom\\Code\\p7\\p7env\\lib\\site-packages\\mlflow\\utils\\rest_utils.py\", line 289, in call_endpoint\n",
      "    response = http_request(**call_kwargs)\n",
      "  File \"e:\\Mes Documents\\_Open Classroom\\Code\\p7\\p7env\\lib\\site-packages\\mlflow\\utils\\rest_utils.py\", line 151, in http_request\n",
      "    raise MlflowException(f\"API request to {url} failed with exception {e}\")\n",
      "mlflow.exceptions.MlflowException: API request to http://127.0.0.1:8080/api/2.0/mlflow/runs/log-batch failed with exception HTTPConnectionPool(host='127.0.0.1', port=8080): Max retries exceeded with url: /api/2.0/mlflow/runs/log-batch (Caused by ResponseError('too many 500 error responses'))\n",
      "[W 2024-05-07 01:24:32,190] Trial 80 failed with value None.\n",
      "[W 2024-05-07 01:24:36,207] Trial 92 failed with parameters: {'boosting_type': 'gbdt', 'lambda_l1': 0.00014739551317786666, 'lambda_l2': 0.13247098086415282, 'num_leaves': 46, 'feature_fraction': 0.8227884913227732, 'bagging_fraction': 0.8356991018627155, 'bagging_freq': 4, 'min_child_samples': 53, 'learning_rate': 0.01123061185871813, 'max_bin': 224, 'n_estimators': 60} because of the following error: MlflowException(\"API request to http://127.0.0.1:8080/api/2.0/mlflow/runs/log-batch failed with exception HTTPConnectionPool(host='127.0.0.1', port=8080): Max retries exceeded with url: /api/2.0/mlflow/runs/log-batch (Caused by ResponseError('too many 500 error responses'))\").\n",
      "urllib3.exceptions.ResponseError: too many 500 error responses\n",
      "\n",
      "The above exception was the direct cause of the following exception:\n",
      "\n",
      "Traceback (most recent call last):\n",
      "  File \"e:\\Mes Documents\\_Open Classroom\\Code\\p7\\p7env\\lib\\site-packages\\requests\\adapters.py\", line 486, in send\n",
      "    resp = conn.urlopen(\n",
      "  File \"e:\\Mes Documents\\_Open Classroom\\Code\\p7\\p7env\\lib\\site-packages\\urllib3\\connectionpool.py\", line 948, in urlopen\n",
      "    return self.urlopen(\n",
      "  File \"e:\\Mes Documents\\_Open Classroom\\Code\\p7\\p7env\\lib\\site-packages\\urllib3\\connectionpool.py\", line 948, in urlopen\n",
      "    return self.urlopen(\n",
      "  File \"e:\\Mes Documents\\_Open Classroom\\Code\\p7\\p7env\\lib\\site-packages\\urllib3\\connectionpool.py\", line 948, in urlopen\n",
      "    return self.urlopen(\n",
      "  [Previous line repeated 2 more times]\n",
      "  File \"e:\\Mes Documents\\_Open Classroom\\Code\\p7\\p7env\\lib\\site-packages\\urllib3\\connectionpool.py\", line 938, in urlopen\n",
      "    retries = retries.increment(method, url, response=response, _pool=self)\n",
      "  File \"e:\\Mes Documents\\_Open Classroom\\Code\\p7\\p7env\\lib\\site-packages\\urllib3\\util\\retry.py\", line 515, in increment\n",
      "    raise MaxRetryError(_pool, url, reason) from reason  # type: ignore[arg-type]\n",
      "urllib3.exceptions.MaxRetryError: HTTPConnectionPool(host='127.0.0.1', port=8080): Max retries exceeded with url: /api/2.0/mlflow/runs/log-batch (Caused by ResponseError('too many 500 error responses'))\n",
      "\n",
      "During handling of the above exception, another exception occurred:\n",
      "\n",
      "Traceback (most recent call last):\n",
      "  File \"e:\\Mes Documents\\_Open Classroom\\Code\\p7\\p7env\\lib\\site-packages\\mlflow\\utils\\rest_utils.py\", line 128, in http_request\n",
      "    return _get_http_response_with_retries(\n",
      "  File \"e:\\Mes Documents\\_Open Classroom\\Code\\p7\\p7env\\lib\\site-packages\\mlflow\\utils\\request_utils.py\", line 228, in _get_http_response_with_retries\n",
      "    return session.request(method, url, allow_redirects=allow_redirects, **kwargs)\n",
      "  File \"e:\\Mes Documents\\_Open Classroom\\Code\\p7\\p7env\\lib\\site-packages\\requests\\sessions.py\", line 589, in request\n",
      "    resp = self.send(prep, **send_kwargs)\n",
      "  File \"e:\\Mes Documents\\_Open Classroom\\Code\\p7\\p7env\\lib\\site-packages\\requests\\sessions.py\", line 703, in send\n",
      "    r = adapter.send(request, **kwargs)\n",
      "  File \"e:\\Mes Documents\\_Open Classroom\\Code\\p7\\p7env\\lib\\site-packages\\requests\\adapters.py\", line 510, in send\n",
      "    raise RetryError(e, request=request)\n",
      "requests.exceptions.RetryError: HTTPConnectionPool(host='127.0.0.1', port=8080): Max retries exceeded with url: /api/2.0/mlflow/runs/log-batch (Caused by ResponseError('too many 500 error responses'))\n",
      "\n",
      "During handling of the above exception, another exception occurred:\n",
      "\n",
      "Traceback (most recent call last):\n",
      "  File \"e:\\Mes Documents\\_Open Classroom\\Code\\p7\\p7env\\lib\\site-packages\\optuna\\study\\_optimize.py\", line 196, in _run_trial\n",
      "    value_or_values = func(trial)\n",
      "  File \"e:\\Mes Documents\\_Open Classroom\\Code\\p7\\src\\p7_hyper_param.py\", line 235, in _objective\n",
      "    mlflow.log_params(hyperparams)\n",
      "  File \"e:\\Mes Documents\\_Open Classroom\\Code\\p7\\p7env\\lib\\site-packages\\mlflow\\tracking\\fluent.py\", line 911, in log_params\n",
      "    return MlflowClient().log_batch(\n",
      "  File \"e:\\Mes Documents\\_Open Classroom\\Code\\p7\\p7env\\lib\\site-packages\\mlflow\\tracking\\client.py\", line 1134, in log_batch\n",
      "    return self._tracking_client.log_batch(\n",
      "  File \"e:\\Mes Documents\\_Open Classroom\\Code\\p7\\p7env\\lib\\site-packages\\mlflow\\tracking\\_tracking_service\\client.py\", line 471, in log_batch\n",
      "    self.store.log_batch(\n",
      "  File \"e:\\Mes Documents\\_Open Classroom\\Code\\p7\\p7env\\lib\\site-packages\\mlflow\\store\\tracking\\rest_store.py\", line 340, in log_batch\n",
      "    self._call_endpoint(LogBatch, req_body)\n",
      "  File \"e:\\Mes Documents\\_Open Classroom\\Code\\p7\\p7env\\lib\\site-packages\\mlflow\\store\\tracking\\rest_store.py\", line 60, in _call_endpoint\n",
      "    return call_endpoint(self.get_host_creds(), endpoint, method, json_body, response_proto)\n",
      "  File \"e:\\Mes Documents\\_Open Classroom\\Code\\p7\\p7env\\lib\\site-packages\\mlflow\\utils\\rest_utils.py\", line 289, in call_endpoint\n",
      "    response = http_request(**call_kwargs)\n",
      "  File \"e:\\Mes Documents\\_Open Classroom\\Code\\p7\\p7env\\lib\\site-packages\\mlflow\\utils\\rest_utils.py\", line 151, in http_request\n",
      "    raise MlflowException(f\"API request to {url} failed with exception {e}\")\n",
      "mlflow.exceptions.MlflowException: API request to http://127.0.0.1:8080/api/2.0/mlflow/runs/log-batch failed with exception HTTPConnectionPool(host='127.0.0.1', port=8080): Max retries exceeded with url: /api/2.0/mlflow/runs/log-batch (Caused by ResponseError('too many 500 error responses'))\n",
      "[W 2024-05-07 01:24:36,209] Trial 92 failed with value None.\n",
      "[W 2024-05-07 01:24:36,648] Trial 76 failed with parameters: {'boosting_type': 'gbdt', 'lambda_l1': 0.00015340428841057117, 'lambda_l2': 1.0118336242910789e-07, 'num_leaves': 243, 'feature_fraction': 0.7769470991552093, 'bagging_fraction': 0.9481135298358384, 'bagging_freq': 2, 'min_child_samples': 88, 'learning_rate': 0.08271713861032327, 'max_bin': 256, 'n_estimators': 300} because of the following error: MlflowException(\"API request to http://127.0.0.1:8080/api/2.0/mlflow/runs/log-batch failed with exception HTTPConnectionPool(host='127.0.0.1', port=8080): Max retries exceeded with url: /api/2.0/mlflow/runs/log-batch (Caused by ResponseError('too many 500 error responses'))\").\n",
      "urllib3.exceptions.ResponseError: too many 500 error responses\n",
      "\n",
      "The above exception was the direct cause of the following exception:\n",
      "\n",
      "Traceback (most recent call last):\n",
      "  File \"e:\\Mes Documents\\_Open Classroom\\Code\\p7\\p7env\\lib\\site-packages\\requests\\adapters.py\", line 486, in send\n",
      "    resp = conn.urlopen(\n",
      "  File \"e:\\Mes Documents\\_Open Classroom\\Code\\p7\\p7env\\lib\\site-packages\\urllib3\\connectionpool.py\", line 948, in urlopen\n",
      "    return self.urlopen(\n",
      "  File \"e:\\Mes Documents\\_Open Classroom\\Code\\p7\\p7env\\lib\\site-packages\\urllib3\\connectionpool.py\", line 948, in urlopen\n",
      "    return self.urlopen(\n",
      "  File \"e:\\Mes Documents\\_Open Classroom\\Code\\p7\\p7env\\lib\\site-packages\\urllib3\\connectionpool.py\", line 948, in urlopen\n",
      "    return self.urlopen(\n",
      "  [Previous line repeated 2 more times]\n",
      "  File \"e:\\Mes Documents\\_Open Classroom\\Code\\p7\\p7env\\lib\\site-packages\\urllib3\\connectionpool.py\", line 938, in urlopen\n",
      "    retries = retries.increment(method, url, response=response, _pool=self)\n",
      "  File \"e:\\Mes Documents\\_Open Classroom\\Code\\p7\\p7env\\lib\\site-packages\\urllib3\\util\\retry.py\", line 515, in increment\n",
      "    raise MaxRetryError(_pool, url, reason) from reason  # type: ignore[arg-type]\n",
      "urllib3.exceptions.MaxRetryError: HTTPConnectionPool(host='127.0.0.1', port=8080): Max retries exceeded with url: /api/2.0/mlflow/runs/log-batch (Caused by ResponseError('too many 500 error responses'))\n",
      "\n",
      "During handling of the above exception, another exception occurred:\n",
      "\n",
      "Traceback (most recent call last):\n",
      "  File \"e:\\Mes Documents\\_Open Classroom\\Code\\p7\\p7env\\lib\\site-packages\\mlflow\\utils\\rest_utils.py\", line 128, in http_request\n",
      "    return _get_http_response_with_retries(\n",
      "  File \"e:\\Mes Documents\\_Open Classroom\\Code\\p7\\p7env\\lib\\site-packages\\mlflow\\utils\\request_utils.py\", line 228, in _get_http_response_with_retries\n",
      "    return session.request(method, url, allow_redirects=allow_redirects, **kwargs)\n",
      "  File \"e:\\Mes Documents\\_Open Classroom\\Code\\p7\\p7env\\lib\\site-packages\\requests\\sessions.py\", line 589, in request\n",
      "    resp = self.send(prep, **send_kwargs)\n",
      "  File \"e:\\Mes Documents\\_Open Classroom\\Code\\p7\\p7env\\lib\\site-packages\\requests\\sessions.py\", line 703, in send\n",
      "    r = adapter.send(request, **kwargs)\n",
      "  File \"e:\\Mes Documents\\_Open Classroom\\Code\\p7\\p7env\\lib\\site-packages\\requests\\adapters.py\", line 510, in send\n",
      "    raise RetryError(e, request=request)\n",
      "requests.exceptions.RetryError: HTTPConnectionPool(host='127.0.0.1', port=8080): Max retries exceeded with url: /api/2.0/mlflow/runs/log-batch (Caused by ResponseError('too many 500 error responses'))\n",
      "\n",
      "During handling of the above exception, another exception occurred:\n",
      "\n",
      "Traceback (most recent call last):\n",
      "  File \"e:\\Mes Documents\\_Open Classroom\\Code\\p7\\p7env\\lib\\site-packages\\optuna\\study\\_optimize.py\", line 196, in _run_trial\n",
      "    value_or_values = func(trial)\n",
      "  File \"e:\\Mes Documents\\_Open Classroom\\Code\\p7\\src\\p7_hyper_param.py\", line 235, in _objective\n",
      "    mlflow.log_params(hyperparams)\n",
      "  File \"e:\\Mes Documents\\_Open Classroom\\Code\\p7\\p7env\\lib\\site-packages\\mlflow\\tracking\\fluent.py\", line 911, in log_params\n",
      "    return MlflowClient().log_batch(\n",
      "  File \"e:\\Mes Documents\\_Open Classroom\\Code\\p7\\p7env\\lib\\site-packages\\mlflow\\tracking\\client.py\", line 1134, in log_batch\n",
      "    return self._tracking_client.log_batch(\n",
      "  File \"e:\\Mes Documents\\_Open Classroom\\Code\\p7\\p7env\\lib\\site-packages\\mlflow\\tracking\\_tracking_service\\client.py\", line 471, in log_batch\n",
      "    self.store.log_batch(\n",
      "  File \"e:\\Mes Documents\\_Open Classroom\\Code\\p7\\p7env\\lib\\site-packages\\mlflow\\store\\tracking\\rest_store.py\", line 340, in log_batch\n",
      "    self._call_endpoint(LogBatch, req_body)\n",
      "  File \"e:\\Mes Documents\\_Open Classroom\\Code\\p7\\p7env\\lib\\site-packages\\mlflow\\store\\tracking\\rest_store.py\", line 60, in _call_endpoint\n",
      "    return call_endpoint(self.get_host_creds(), endpoint, method, json_body, response_proto)\n",
      "  File \"e:\\Mes Documents\\_Open Classroom\\Code\\p7\\p7env\\lib\\site-packages\\mlflow\\utils\\rest_utils.py\", line 289, in call_endpoint\n",
      "    response = http_request(**call_kwargs)\n",
      "  File \"e:\\Mes Documents\\_Open Classroom\\Code\\p7\\p7env\\lib\\site-packages\\mlflow\\utils\\rest_utils.py\", line 151, in http_request\n",
      "    raise MlflowException(f\"API request to {url} failed with exception {e}\")\n",
      "mlflow.exceptions.MlflowException: API request to http://127.0.0.1:8080/api/2.0/mlflow/runs/log-batch failed with exception HTTPConnectionPool(host='127.0.0.1', port=8080): Max retries exceeded with url: /api/2.0/mlflow/runs/log-batch (Caused by ResponseError('too many 500 error responses'))\n",
      "[W 2024-05-07 01:24:36,651] Trial 76 failed with value None.\n",
      "[W 2024-05-07 01:24:36,896] Trial 7 failed with parameters: {'boosting_type': 'gbdt', 'lambda_l1': 3.44195679073073, 'lambda_l2': 4.6257781882130073e-05, 'num_leaves': 99, 'feature_fraction': 0.5236191856962062, 'bagging_fraction': 0.6659220987282224, 'bagging_freq': 6, 'min_child_samples': 66, 'learning_rate': 0.005225594092175652, 'max_bin': 256, 'n_estimators': 400} because of the following error: MlflowException(\"API request to http://127.0.0.1:8080/api/2.0/mlflow/runs/log-batch failed with exception HTTPConnectionPool(host='127.0.0.1', port=8080): Max retries exceeded with url: /api/2.0/mlflow/runs/log-batch (Caused by ResponseError('too many 500 error responses'))\").\n",
      "urllib3.exceptions.ResponseError: too many 500 error responses\n",
      "\n",
      "The above exception was the direct cause of the following exception:\n",
      "\n",
      "Traceback (most recent call last):\n",
      "  File \"e:\\Mes Documents\\_Open Classroom\\Code\\p7\\p7env\\lib\\site-packages\\requests\\adapters.py\", line 486, in send\n",
      "    resp = conn.urlopen(\n",
      "  File \"e:\\Mes Documents\\_Open Classroom\\Code\\p7\\p7env\\lib\\site-packages\\urllib3\\connectionpool.py\", line 948, in urlopen\n",
      "    return self.urlopen(\n",
      "  File \"e:\\Mes Documents\\_Open Classroom\\Code\\p7\\p7env\\lib\\site-packages\\urllib3\\connectionpool.py\", line 948, in urlopen\n",
      "    return self.urlopen(\n",
      "  File \"e:\\Mes Documents\\_Open Classroom\\Code\\p7\\p7env\\lib\\site-packages\\urllib3\\connectionpool.py\", line 948, in urlopen\n",
      "    return self.urlopen(\n",
      "  [Previous line repeated 2 more times]\n",
      "  File \"e:\\Mes Documents\\_Open Classroom\\Code\\p7\\p7env\\lib\\site-packages\\urllib3\\connectionpool.py\", line 938, in urlopen\n",
      "    retries = retries.increment(method, url, response=response, _pool=self)\n",
      "  File \"e:\\Mes Documents\\_Open Classroom\\Code\\p7\\p7env\\lib\\site-packages\\urllib3\\util\\retry.py\", line 515, in increment\n",
      "    raise MaxRetryError(_pool, url, reason) from reason  # type: ignore[arg-type]\n",
      "urllib3.exceptions.MaxRetryError: HTTPConnectionPool(host='127.0.0.1', port=8080): Max retries exceeded with url: /api/2.0/mlflow/runs/log-batch (Caused by ResponseError('too many 500 error responses'))\n",
      "\n",
      "During handling of the above exception, another exception occurred:\n",
      "\n",
      "Traceback (most recent call last):\n",
      "  File \"e:\\Mes Documents\\_Open Classroom\\Code\\p7\\p7env\\lib\\site-packages\\mlflow\\utils\\rest_utils.py\", line 128, in http_request\n",
      "    return _get_http_response_with_retries(\n",
      "  File \"e:\\Mes Documents\\_Open Classroom\\Code\\p7\\p7env\\lib\\site-packages\\mlflow\\utils\\request_utils.py\", line 228, in _get_http_response_with_retries\n",
      "    return session.request(method, url, allow_redirects=allow_redirects, **kwargs)\n",
      "  File \"e:\\Mes Documents\\_Open Classroom\\Code\\p7\\p7env\\lib\\site-packages\\requests\\sessions.py\", line 589, in request\n",
      "    resp = self.send(prep, **send_kwargs)\n",
      "  File \"e:\\Mes Documents\\_Open Classroom\\Code\\p7\\p7env\\lib\\site-packages\\requests\\sessions.py\", line 703, in send\n",
      "    r = adapter.send(request, **kwargs)\n",
      "  File \"e:\\Mes Documents\\_Open Classroom\\Code\\p7\\p7env\\lib\\site-packages\\requests\\adapters.py\", line 510, in send\n",
      "    raise RetryError(e, request=request)\n",
      "requests.exceptions.RetryError: HTTPConnectionPool(host='127.0.0.1', port=8080): Max retries exceeded with url: /api/2.0/mlflow/runs/log-batch (Caused by ResponseError('too many 500 error responses'))\n",
      "\n",
      "During handling of the above exception, another exception occurred:\n",
      "\n",
      "Traceback (most recent call last):\n",
      "  File \"e:\\Mes Documents\\_Open Classroom\\Code\\p7\\p7env\\lib\\site-packages\\optuna\\study\\_optimize.py\", line 196, in _run_trial\n",
      "    value_or_values = func(trial)\n",
      "  File \"e:\\Mes Documents\\_Open Classroom\\Code\\p7\\src\\p7_hyper_param.py\", line 235, in _objective\n",
      "    mlflow.log_params(hyperparams)\n",
      "  File \"e:\\Mes Documents\\_Open Classroom\\Code\\p7\\p7env\\lib\\site-packages\\mlflow\\tracking\\fluent.py\", line 911, in log_params\n",
      "    return MlflowClient().log_batch(\n",
      "  File \"e:\\Mes Documents\\_Open Classroom\\Code\\p7\\p7env\\lib\\site-packages\\mlflow\\tracking\\client.py\", line 1134, in log_batch\n",
      "    return self._tracking_client.log_batch(\n",
      "  File \"e:\\Mes Documents\\_Open Classroom\\Code\\p7\\p7env\\lib\\site-packages\\mlflow\\tracking\\_tracking_service\\client.py\", line 471, in log_batch\n",
      "    self.store.log_batch(\n",
      "  File \"e:\\Mes Documents\\_Open Classroom\\Code\\p7\\p7env\\lib\\site-packages\\mlflow\\store\\tracking\\rest_store.py\", line 340, in log_batch\n",
      "    self._call_endpoint(LogBatch, req_body)\n",
      "  File \"e:\\Mes Documents\\_Open Classroom\\Code\\p7\\p7env\\lib\\site-packages\\mlflow\\store\\tracking\\rest_store.py\", line 60, in _call_endpoint\n",
      "    return call_endpoint(self.get_host_creds(), endpoint, method, json_body, response_proto)\n",
      "  File \"e:\\Mes Documents\\_Open Classroom\\Code\\p7\\p7env\\lib\\site-packages\\mlflow\\utils\\rest_utils.py\", line 289, in call_endpoint\n",
      "    response = http_request(**call_kwargs)\n",
      "  File \"e:\\Mes Documents\\_Open Classroom\\Code\\p7\\p7env\\lib\\site-packages\\mlflow\\utils\\rest_utils.py\", line 151, in http_request\n",
      "    raise MlflowException(f\"API request to {url} failed with exception {e}\")\n",
      "mlflow.exceptions.MlflowException: API request to http://127.0.0.1:8080/api/2.0/mlflow/runs/log-batch failed with exception HTTPConnectionPool(host='127.0.0.1', port=8080): Max retries exceeded with url: /api/2.0/mlflow/runs/log-batch (Caused by ResponseError('too many 500 error responses'))\n",
      "[W 2024-05-07 01:24:36,900] Trial 81 failed with parameters: {'boosting_type': 'gbdt', 'lambda_l1': 0.00016792929901790783, 'lambda_l2': 1.160792950436536e-06, 'num_leaves': 127, 'feature_fraction': 0.8594242967209955, 'bagging_fraction': 0.6933433791767901, 'bagging_freq': 2, 'min_child_samples': 88, 'learning_rate': 0.08463998328409249, 'max_bin': 256, 'n_estimators': 320} because of the following error: MlflowException(\"API request to http://127.0.0.1:8080/api/2.0/mlflow/runs/log-batch failed with exception HTTPConnectionPool(host='127.0.0.1', port=8080): Max retries exceeded with url: /api/2.0/mlflow/runs/log-batch (Caused by ResponseError('too many 500 error responses'))\").\n",
      "urllib3.exceptions.ResponseError: too many 500 error responses\n",
      "\n",
      "The above exception was the direct cause of the following exception:\n",
      "\n",
      "Traceback (most recent call last):\n",
      "  File \"e:\\Mes Documents\\_Open Classroom\\Code\\p7\\p7env\\lib\\site-packages\\requests\\adapters.py\", line 486, in send\n",
      "    resp = conn.urlopen(\n",
      "  File \"e:\\Mes Documents\\_Open Classroom\\Code\\p7\\p7env\\lib\\site-packages\\urllib3\\connectionpool.py\", line 948, in urlopen\n",
      "    return self.urlopen(\n",
      "  File \"e:\\Mes Documents\\_Open Classroom\\Code\\p7\\p7env\\lib\\site-packages\\urllib3\\connectionpool.py\", line 948, in urlopen\n",
      "    return self.urlopen(\n",
      "  File \"e:\\Mes Documents\\_Open Classroom\\Code\\p7\\p7env\\lib\\site-packages\\urllib3\\connectionpool.py\", line 948, in urlopen\n",
      "    return self.urlopen(\n",
      "  [Previous line repeated 2 more times]\n",
      "  File \"e:\\Mes Documents\\_Open Classroom\\Code\\p7\\p7env\\lib\\site-packages\\urllib3\\connectionpool.py\", line 938, in urlopen\n",
      "    retries = retries.increment(method, url, response=response, _pool=self)\n",
      "  File \"e:\\Mes Documents\\_Open Classroom\\Code\\p7\\p7env\\lib\\site-packages\\urllib3\\util\\retry.py\", line 515, in increment\n",
      "    raise MaxRetryError(_pool, url, reason) from reason  # type: ignore[arg-type]\n",
      "urllib3.exceptions.MaxRetryError: HTTPConnectionPool(host='127.0.0.1', port=8080): Max retries exceeded with url: /api/2.0/mlflow/runs/log-batch (Caused by ResponseError('too many 500 error responses'))\n",
      "\n",
      "During handling of the above exception, another exception occurred:\n",
      "\n",
      "Traceback (most recent call last):\n",
      "  File \"e:\\Mes Documents\\_Open Classroom\\Code\\p7\\p7env\\lib\\site-packages\\mlflow\\utils\\rest_utils.py\", line 128, in http_request\n",
      "    return _get_http_response_with_retries(\n",
      "  File \"e:\\Mes Documents\\_Open Classroom\\Code\\p7\\p7env\\lib\\site-packages\\mlflow\\utils\\request_utils.py\", line 228, in _get_http_response_with_retries\n",
      "    return session.request(method, url, allow_redirects=allow_redirects, **kwargs)\n",
      "  File \"e:\\Mes Documents\\_Open Classroom\\Code\\p7\\p7env\\lib\\site-packages\\requests\\sessions.py\", line 589, in request\n",
      "    resp = self.send(prep, **send_kwargs)\n",
      "  File \"e:\\Mes Documents\\_Open Classroom\\Code\\p7\\p7env\\lib\\site-packages\\requests\\sessions.py\", line 703, in send\n",
      "    r = adapter.send(request, **kwargs)\n",
      "  File \"e:\\Mes Documents\\_Open Classroom\\Code\\p7\\p7env\\lib\\site-packages\\requests\\adapters.py\", line 510, in send\n",
      "    raise RetryError(e, request=request)\n",
      "requests.exceptions.RetryError: HTTPConnectionPool(host='127.0.0.1', port=8080): Max retries exceeded with url: /api/2.0/mlflow/runs/log-batch (Caused by ResponseError('too many 500 error responses'))\n",
      "\n",
      "During handling of the above exception, another exception occurred:\n",
      "\n",
      "Traceback (most recent call last):\n",
      "  File \"e:\\Mes Documents\\_Open Classroom\\Code\\p7\\p7env\\lib\\site-packages\\optuna\\study\\_optimize.py\", line 196, in _run_trial\n",
      "    value_or_values = func(trial)\n",
      "  File \"e:\\Mes Documents\\_Open Classroom\\Code\\p7\\src\\p7_hyper_param.py\", line 235, in _objective\n",
      "    mlflow.log_params(hyperparams)\n",
      "  File \"e:\\Mes Documents\\_Open Classroom\\Code\\p7\\p7env\\lib\\site-packages\\mlflow\\tracking\\fluent.py\", line 911, in log_params\n",
      "    return MlflowClient().log_batch(\n",
      "  File \"e:\\Mes Documents\\_Open Classroom\\Code\\p7\\p7env\\lib\\site-packages\\mlflow\\tracking\\client.py\", line 1134, in log_batch\n",
      "    return self._tracking_client.log_batch(\n",
      "  File \"e:\\Mes Documents\\_Open Classroom\\Code\\p7\\p7env\\lib\\site-packages\\mlflow\\tracking\\_tracking_service\\client.py\", line 471, in log_batch\n",
      "    self.store.log_batch(\n",
      "  File \"e:\\Mes Documents\\_Open Classroom\\Code\\p7\\p7env\\lib\\site-packages\\mlflow\\store\\tracking\\rest_store.py\", line 340, in log_batch\n",
      "    self._call_endpoint(LogBatch, req_body)\n",
      "  File \"e:\\Mes Documents\\_Open Classroom\\Code\\p7\\p7env\\lib\\site-packages\\mlflow\\store\\tracking\\rest_store.py\", line 60, in _call_endpoint\n",
      "    return call_endpoint(self.get_host_creds(), endpoint, method, json_body, response_proto)\n",
      "  File \"e:\\Mes Documents\\_Open Classroom\\Code\\p7\\p7env\\lib\\site-packages\\mlflow\\utils\\rest_utils.py\", line 289, in call_endpoint\n",
      "    response = http_request(**call_kwargs)\n",
      "  File \"e:\\Mes Documents\\_Open Classroom\\Code\\p7\\p7env\\lib\\site-packages\\mlflow\\utils\\rest_utils.py\", line 151, in http_request\n",
      "    raise MlflowException(f\"API request to {url} failed with exception {e}\")\n",
      "mlflow.exceptions.MlflowException: API request to http://127.0.0.1:8080/api/2.0/mlflow/runs/log-batch failed with exception HTTPConnectionPool(host='127.0.0.1', port=8080): Max retries exceeded with url: /api/2.0/mlflow/runs/log-batch (Caused by ResponseError('too many 500 error responses'))\n",
      "[W 2024-05-07 01:24:36,900] Trial 7 failed with value None.\n",
      "[W 2024-05-07 01:24:36,903] Trial 81 failed with value None.\n",
      "[W 2024-05-07 01:24:39,199] Trial 58 failed with parameters: {'boosting_type': 'dart', 'lambda_l1': 1.3546185832386193e-08, 'lambda_l2': 1.3200305122883698, 'num_leaves': 169, 'feature_fraction': 0.6578914898749855, 'bagging_fraction': 0.7732637675268081, 'bagging_freq': 6, 'min_child_samples': 87, 'learning_rate': 0.021553078623394416, 'max_bin': 416, 'n_estimators': 240} because of the following error: MlflowException(\"API request to http://127.0.0.1:8080/api/2.0/mlflow/runs/log-batch failed with exception HTTPConnectionPool(host='127.0.0.1', port=8080): Max retries exceeded with url: /api/2.0/mlflow/runs/log-batch (Caused by ResponseError('too many 500 error responses'))\").\n",
      "urllib3.exceptions.ResponseError: too many 500 error responses\n",
      "\n",
      "The above exception was the direct cause of the following exception:\n",
      "\n",
      "Traceback (most recent call last):\n",
      "  File \"e:\\Mes Documents\\_Open Classroom\\Code\\p7\\p7env\\lib\\site-packages\\requests\\adapters.py\", line 486, in send\n",
      "    resp = conn.urlopen(\n",
      "  File \"e:\\Mes Documents\\_Open Classroom\\Code\\p7\\p7env\\lib\\site-packages\\urllib3\\connectionpool.py\", line 948, in urlopen\n",
      "    return self.urlopen(\n",
      "  File \"e:\\Mes Documents\\_Open Classroom\\Code\\p7\\p7env\\lib\\site-packages\\urllib3\\connectionpool.py\", line 948, in urlopen\n",
      "    return self.urlopen(\n",
      "  File \"e:\\Mes Documents\\_Open Classroom\\Code\\p7\\p7env\\lib\\site-packages\\urllib3\\connectionpool.py\", line 948, in urlopen\n",
      "    return self.urlopen(\n",
      "  [Previous line repeated 2 more times]\n",
      "  File \"e:\\Mes Documents\\_Open Classroom\\Code\\p7\\p7env\\lib\\site-packages\\urllib3\\connectionpool.py\", line 938, in urlopen\n",
      "    retries = retries.increment(method, url, response=response, _pool=self)\n",
      "  File \"e:\\Mes Documents\\_Open Classroom\\Code\\p7\\p7env\\lib\\site-packages\\urllib3\\util\\retry.py\", line 515, in increment\n",
      "    raise MaxRetryError(_pool, url, reason) from reason  # type: ignore[arg-type]\n",
      "urllib3.exceptions.MaxRetryError: HTTPConnectionPool(host='127.0.0.1', port=8080): Max retries exceeded with url: /api/2.0/mlflow/runs/log-batch (Caused by ResponseError('too many 500 error responses'))\n",
      "\n",
      "During handling of the above exception, another exception occurred:\n",
      "\n",
      "Traceback (most recent call last):\n",
      "  File \"e:\\Mes Documents\\_Open Classroom\\Code\\p7\\p7env\\lib\\site-packages\\mlflow\\utils\\rest_utils.py\", line 128, in http_request\n",
      "    return _get_http_response_with_retries(\n",
      "  File \"e:\\Mes Documents\\_Open Classroom\\Code\\p7\\p7env\\lib\\site-packages\\mlflow\\utils\\request_utils.py\", line 228, in _get_http_response_with_retries\n",
      "    return session.request(method, url, allow_redirects=allow_redirects, **kwargs)\n",
      "  File \"e:\\Mes Documents\\_Open Classroom\\Code\\p7\\p7env\\lib\\site-packages\\requests\\sessions.py\", line 589, in request\n",
      "    resp = self.send(prep, **send_kwargs)\n",
      "  File \"e:\\Mes Documents\\_Open Classroom\\Code\\p7\\p7env\\lib\\site-packages\\requests\\sessions.py\", line 703, in send\n",
      "    r = adapter.send(request, **kwargs)\n",
      "  File \"e:\\Mes Documents\\_Open Classroom\\Code\\p7\\p7env\\lib\\site-packages\\requests\\adapters.py\", line 510, in send\n",
      "    raise RetryError(e, request=request)\n",
      "requests.exceptions.RetryError: HTTPConnectionPool(host='127.0.0.1', port=8080): Max retries exceeded with url: /api/2.0/mlflow/runs/log-batch (Caused by ResponseError('too many 500 error responses'))\n",
      "\n",
      "During handling of the above exception, another exception occurred:\n",
      "\n",
      "Traceback (most recent call last):\n",
      "  File \"e:\\Mes Documents\\_Open Classroom\\Code\\p7\\p7env\\lib\\site-packages\\optuna\\study\\_optimize.py\", line 196, in _run_trial\n",
      "    value_or_values = func(trial)\n",
      "  File \"e:\\Mes Documents\\_Open Classroom\\Code\\p7\\src\\p7_hyper_param.py\", line 235, in _objective\n",
      "    mlflow.log_params(hyperparams)\n",
      "  File \"e:\\Mes Documents\\_Open Classroom\\Code\\p7\\p7env\\lib\\site-packages\\mlflow\\tracking\\fluent.py\", line 911, in log_params\n",
      "    return MlflowClient().log_batch(\n",
      "  File \"e:\\Mes Documents\\_Open Classroom\\Code\\p7\\p7env\\lib\\site-packages\\mlflow\\tracking\\client.py\", line 1134, in log_batch\n",
      "    return self._tracking_client.log_batch(\n",
      "  File \"e:\\Mes Documents\\_Open Classroom\\Code\\p7\\p7env\\lib\\site-packages\\mlflow\\tracking\\_tracking_service\\client.py\", line 471, in log_batch\n",
      "    self.store.log_batch(\n",
      "  File \"e:\\Mes Documents\\_Open Classroom\\Code\\p7\\p7env\\lib\\site-packages\\mlflow\\store\\tracking\\rest_store.py\", line 340, in log_batch\n",
      "    self._call_endpoint(LogBatch, req_body)\n",
      "  File \"e:\\Mes Documents\\_Open Classroom\\Code\\p7\\p7env\\lib\\site-packages\\mlflow\\store\\tracking\\rest_store.py\", line 60, in _call_endpoint\n",
      "    return call_endpoint(self.get_host_creds(), endpoint, method, json_body, response_proto)\n",
      "  File \"e:\\Mes Documents\\_Open Classroom\\Code\\p7\\p7env\\lib\\site-packages\\mlflow\\utils\\rest_utils.py\", line 289, in call_endpoint\n",
      "    response = http_request(**call_kwargs)\n",
      "  File \"e:\\Mes Documents\\_Open Classroom\\Code\\p7\\p7env\\lib\\site-packages\\mlflow\\utils\\rest_utils.py\", line 151, in http_request\n",
      "    raise MlflowException(f\"API request to {url} failed with exception {e}\")\n",
      "mlflow.exceptions.MlflowException: API request to http://127.0.0.1:8080/api/2.0/mlflow/runs/log-batch failed with exception HTTPConnectionPool(host='127.0.0.1', port=8080): Max retries exceeded with url: /api/2.0/mlflow/runs/log-batch (Caused by ResponseError('too many 500 error responses'))\n",
      "[W 2024-05-07 01:24:39,201] Trial 58 failed with value None.\n",
      "[I 2024-05-07 01:24:44,220] Trial 70 finished with value: 1.0 and parameters: {'boosting_type': 'dart', 'lambda_l1': 0.00011581247155445077, 'lambda_l2': 0.004107190169309875, 'num_leaves': 181, 'feature_fraction': 0.7663203713921782, 'bagging_fraction': 0.866991811895251, 'bagging_freq': 2, 'min_child_samples': 21, 'learning_rate': 0.025698253533334686, 'max_bin': 416, 'n_estimators': 240}. Best is trial 11 with value: 1.0.\n",
      "[W 2024-05-07 01:24:56,861] Trial 87 failed with parameters: {'boosting_type': 'gbdt', 'lambda_l1': 0.00017231296593934252, 'lambda_l2': 0.09111193616974389, 'num_leaves': 152, 'feature_fraction': 0.8574196980858693, 'bagging_fraction': 0.8820778856639762, 'bagging_freq': 1, 'min_child_samples': 63, 'learning_rate': 0.1865333628665541, 'max_bin': 512, 'n_estimators': 300} because of the following error: MlflowException(\"API request to http://127.0.0.1:8080/api/2.0/mlflow/runs/log-batch failed with exception HTTPConnectionPool(host='127.0.0.1', port=8080): Max retries exceeded with url: /api/2.0/mlflow/runs/log-batch (Caused by ResponseError('too many 500 error responses'))\").\n",
      "urllib3.exceptions.ResponseError: too many 500 error responses\n",
      "\n",
      "The above exception was the direct cause of the following exception:\n",
      "\n",
      "Traceback (most recent call last):\n",
      "  File \"e:\\Mes Documents\\_Open Classroom\\Code\\p7\\p7env\\lib\\site-packages\\requests\\adapters.py\", line 486, in send\n",
      "    resp = conn.urlopen(\n",
      "  File \"e:\\Mes Documents\\_Open Classroom\\Code\\p7\\p7env\\lib\\site-packages\\urllib3\\connectionpool.py\", line 948, in urlopen\n",
      "    return self.urlopen(\n",
      "  File \"e:\\Mes Documents\\_Open Classroom\\Code\\p7\\p7env\\lib\\site-packages\\urllib3\\connectionpool.py\", line 948, in urlopen\n",
      "    return self.urlopen(\n",
      "  File \"e:\\Mes Documents\\_Open Classroom\\Code\\p7\\p7env\\lib\\site-packages\\urllib3\\connectionpool.py\", line 948, in urlopen\n",
      "    return self.urlopen(\n",
      "  [Previous line repeated 2 more times]\n",
      "  File \"e:\\Mes Documents\\_Open Classroom\\Code\\p7\\p7env\\lib\\site-packages\\urllib3\\connectionpool.py\", line 938, in urlopen\n",
      "    retries = retries.increment(method, url, response=response, _pool=self)\n",
      "  File \"e:\\Mes Documents\\_Open Classroom\\Code\\p7\\p7env\\lib\\site-packages\\urllib3\\util\\retry.py\", line 515, in increment\n",
      "    raise MaxRetryError(_pool, url, reason) from reason  # type: ignore[arg-type]\n",
      "urllib3.exceptions.MaxRetryError: HTTPConnectionPool(host='127.0.0.1', port=8080): Max retries exceeded with url: /api/2.0/mlflow/runs/log-batch (Caused by ResponseError('too many 500 error responses'))\n",
      "\n",
      "During handling of the above exception, another exception occurred:\n",
      "\n",
      "Traceback (most recent call last):\n",
      "  File \"e:\\Mes Documents\\_Open Classroom\\Code\\p7\\p7env\\lib\\site-packages\\mlflow\\utils\\rest_utils.py\", line 128, in http_request\n",
      "    return _get_http_response_with_retries(\n",
      "  File \"e:\\Mes Documents\\_Open Classroom\\Code\\p7\\p7env\\lib\\site-packages\\mlflow\\utils\\request_utils.py\", line 228, in _get_http_response_with_retries\n",
      "    return session.request(method, url, allow_redirects=allow_redirects, **kwargs)\n",
      "  File \"e:\\Mes Documents\\_Open Classroom\\Code\\p7\\p7env\\lib\\site-packages\\requests\\sessions.py\", line 589, in request\n",
      "    resp = self.send(prep, **send_kwargs)\n",
      "  File \"e:\\Mes Documents\\_Open Classroom\\Code\\p7\\p7env\\lib\\site-packages\\requests\\sessions.py\", line 703, in send\n",
      "    r = adapter.send(request, **kwargs)\n",
      "  File \"e:\\Mes Documents\\_Open Classroom\\Code\\p7\\p7env\\lib\\site-packages\\requests\\adapters.py\", line 510, in send\n",
      "    raise RetryError(e, request=request)\n",
      "requests.exceptions.RetryError: HTTPConnectionPool(host='127.0.0.1', port=8080): Max retries exceeded with url: /api/2.0/mlflow/runs/log-batch (Caused by ResponseError('too many 500 error responses'))\n",
      "\n",
      "During handling of the above exception, another exception occurred:\n",
      "\n",
      "Traceback (most recent call last):\n",
      "  File \"e:\\Mes Documents\\_Open Classroom\\Code\\p7\\p7env\\lib\\site-packages\\optuna\\study\\_optimize.py\", line 196, in _run_trial\n",
      "    value_or_values = func(trial)\n",
      "  File \"e:\\Mes Documents\\_Open Classroom\\Code\\p7\\src\\p7_hyper_param.py\", line 235, in _objective\n",
      "    mlflow.log_params(hyperparams)\n",
      "  File \"e:\\Mes Documents\\_Open Classroom\\Code\\p7\\p7env\\lib\\site-packages\\mlflow\\tracking\\fluent.py\", line 911, in log_params\n",
      "    return MlflowClient().log_batch(\n",
      "  File \"e:\\Mes Documents\\_Open Classroom\\Code\\p7\\p7env\\lib\\site-packages\\mlflow\\tracking\\client.py\", line 1134, in log_batch\n",
      "    return self._tracking_client.log_batch(\n",
      "  File \"e:\\Mes Documents\\_Open Classroom\\Code\\p7\\p7env\\lib\\site-packages\\mlflow\\tracking\\_tracking_service\\client.py\", line 471, in log_batch\n",
      "    self.store.log_batch(\n",
      "  File \"e:\\Mes Documents\\_Open Classroom\\Code\\p7\\p7env\\lib\\site-packages\\mlflow\\store\\tracking\\rest_store.py\", line 340, in log_batch\n",
      "    self._call_endpoint(LogBatch, req_body)\n",
      "  File \"e:\\Mes Documents\\_Open Classroom\\Code\\p7\\p7env\\lib\\site-packages\\mlflow\\store\\tracking\\rest_store.py\", line 60, in _call_endpoint\n",
      "    return call_endpoint(self.get_host_creds(), endpoint, method, json_body, response_proto)\n",
      "  File \"e:\\Mes Documents\\_Open Classroom\\Code\\p7\\p7env\\lib\\site-packages\\mlflow\\utils\\rest_utils.py\", line 289, in call_endpoint\n",
      "    response = http_request(**call_kwargs)\n",
      "  File \"e:\\Mes Documents\\_Open Classroom\\Code\\p7\\p7env\\lib\\site-packages\\mlflow\\utils\\rest_utils.py\", line 151, in http_request\n",
      "    raise MlflowException(f\"API request to {url} failed with exception {e}\")\n",
      "mlflow.exceptions.MlflowException: API request to http://127.0.0.1:8080/api/2.0/mlflow/runs/log-batch failed with exception HTTPConnectionPool(host='127.0.0.1', port=8080): Max retries exceeded with url: /api/2.0/mlflow/runs/log-batch (Caused by ResponseError('too many 500 error responses'))\n",
      "[W 2024-05-07 01:24:56,864] Trial 87 failed with value None.\n",
      "[W 2024-05-07 01:25:03,172] Trial 73 failed with parameters: {'boosting_type': 'gbdt', 'lambda_l1': 0.09933292738926554, 'lambda_l2': 0.0042931638033287915, 'num_leaves': 122, 'feature_fraction': 0.7652514349510907, 'bagging_fraction': 0.9498785903602921, 'bagging_freq': 2, 'min_child_samples': 88, 'learning_rate': 0.02544844364702796, 'max_bin': 256, 'n_estimators': 340} because of the following error: MlflowException(\"API request to http://127.0.0.1:8080/api/2.0/mlflow/runs/log-batch failed with exception HTTPConnectionPool(host='127.0.0.1', port=8080): Max retries exceeded with url: /api/2.0/mlflow/runs/log-batch (Caused by ResponseError('too many 500 error responses'))\").\n",
      "urllib3.exceptions.ResponseError: too many 500 error responses\n",
      "\n",
      "The above exception was the direct cause of the following exception:\n",
      "\n",
      "Traceback (most recent call last):\n",
      "  File \"e:\\Mes Documents\\_Open Classroom\\Code\\p7\\p7env\\lib\\site-packages\\requests\\adapters.py\", line 486, in send\n",
      "    resp = conn.urlopen(\n",
      "  File \"e:\\Mes Documents\\_Open Classroom\\Code\\p7\\p7env\\lib\\site-packages\\urllib3\\connectionpool.py\", line 948, in urlopen\n",
      "    return self.urlopen(\n",
      "  File \"e:\\Mes Documents\\_Open Classroom\\Code\\p7\\p7env\\lib\\site-packages\\urllib3\\connectionpool.py\", line 948, in urlopen\n",
      "    return self.urlopen(\n",
      "  File \"e:\\Mes Documents\\_Open Classroom\\Code\\p7\\p7env\\lib\\site-packages\\urllib3\\connectionpool.py\", line 948, in urlopen\n",
      "    return self.urlopen(\n",
      "  [Previous line repeated 2 more times]\n",
      "  File \"e:\\Mes Documents\\_Open Classroom\\Code\\p7\\p7env\\lib\\site-packages\\urllib3\\connectionpool.py\", line 938, in urlopen\n",
      "    retries = retries.increment(method, url, response=response, _pool=self)\n",
      "  File \"e:\\Mes Documents\\_Open Classroom\\Code\\p7\\p7env\\lib\\site-packages\\urllib3\\util\\retry.py\", line 515, in increment\n",
      "    raise MaxRetryError(_pool, url, reason) from reason  # type: ignore[arg-type]\n",
      "urllib3.exceptions.MaxRetryError: HTTPConnectionPool(host='127.0.0.1', port=8080): Max retries exceeded with url: /api/2.0/mlflow/runs/log-batch (Caused by ResponseError('too many 500 error responses'))\n",
      "\n",
      "During handling of the above exception, another exception occurred:\n",
      "\n",
      "Traceback (most recent call last):\n",
      "  File \"e:\\Mes Documents\\_Open Classroom\\Code\\p7\\p7env\\lib\\site-packages\\mlflow\\utils\\rest_utils.py\", line 128, in http_request\n",
      "    return _get_http_response_with_retries(\n",
      "  File \"e:\\Mes Documents\\_Open Classroom\\Code\\p7\\p7env\\lib\\site-packages\\mlflow\\utils\\request_utils.py\", line 228, in _get_http_response_with_retries\n",
      "    return session.request(method, url, allow_redirects=allow_redirects, **kwargs)\n",
      "  File \"e:\\Mes Documents\\_Open Classroom\\Code\\p7\\p7env\\lib\\site-packages\\requests\\sessions.py\", line 589, in request\n",
      "    resp = self.send(prep, **send_kwargs)\n",
      "  File \"e:\\Mes Documents\\_Open Classroom\\Code\\p7\\p7env\\lib\\site-packages\\requests\\sessions.py\", line 703, in send\n",
      "    r = adapter.send(request, **kwargs)\n",
      "  File \"e:\\Mes Documents\\_Open Classroom\\Code\\p7\\p7env\\lib\\site-packages\\requests\\adapters.py\", line 510, in send\n",
      "    raise RetryError(e, request=request)\n",
      "requests.exceptions.RetryError: HTTPConnectionPool(host='127.0.0.1', port=8080): Max retries exceeded with url: /api/2.0/mlflow/runs/log-batch (Caused by ResponseError('too many 500 error responses'))\n",
      "\n",
      "During handling of the above exception, another exception occurred:\n",
      "\n",
      "Traceback (most recent call last):\n",
      "  File \"e:\\Mes Documents\\_Open Classroom\\Code\\p7\\p7env\\lib\\site-packages\\optuna\\study\\_optimize.py\", line 196, in _run_trial\n",
      "    value_or_values = func(trial)\n",
      "  File \"e:\\Mes Documents\\_Open Classroom\\Code\\p7\\src\\p7_hyper_param.py\", line 235, in _objective\n",
      "    mlflow.log_params(hyperparams)\n",
      "  File \"e:\\Mes Documents\\_Open Classroom\\Code\\p7\\p7env\\lib\\site-packages\\mlflow\\tracking\\fluent.py\", line 911, in log_params\n",
      "    return MlflowClient().log_batch(\n",
      "  File \"e:\\Mes Documents\\_Open Classroom\\Code\\p7\\p7env\\lib\\site-packages\\mlflow\\tracking\\client.py\", line 1134, in log_batch\n",
      "    return self._tracking_client.log_batch(\n",
      "  File \"e:\\Mes Documents\\_Open Classroom\\Code\\p7\\p7env\\lib\\site-packages\\mlflow\\tracking\\_tracking_service\\client.py\", line 471, in log_batch\n",
      "    self.store.log_batch(\n",
      "  File \"e:\\Mes Documents\\_Open Classroom\\Code\\p7\\p7env\\lib\\site-packages\\mlflow\\store\\tracking\\rest_store.py\", line 340, in log_batch\n",
      "    self._call_endpoint(LogBatch, req_body)\n",
      "  File \"e:\\Mes Documents\\_Open Classroom\\Code\\p7\\p7env\\lib\\site-packages\\mlflow\\store\\tracking\\rest_store.py\", line 60, in _call_endpoint\n",
      "    return call_endpoint(self.get_host_creds(), endpoint, method, json_body, response_proto)\n",
      "  File \"e:\\Mes Documents\\_Open Classroom\\Code\\p7\\p7env\\lib\\site-packages\\mlflow\\utils\\rest_utils.py\", line 289, in call_endpoint\n",
      "    response = http_request(**call_kwargs)\n",
      "  File \"e:\\Mes Documents\\_Open Classroom\\Code\\p7\\p7env\\lib\\site-packages\\mlflow\\utils\\rest_utils.py\", line 151, in http_request\n",
      "    raise MlflowException(f\"API request to {url} failed with exception {e}\")\n",
      "mlflow.exceptions.MlflowException: API request to http://127.0.0.1:8080/api/2.0/mlflow/runs/log-batch failed with exception HTTPConnectionPool(host='127.0.0.1', port=8080): Max retries exceeded with url: /api/2.0/mlflow/runs/log-batch (Caused by ResponseError('too many 500 error responses'))\n",
      "[W 2024-05-07 01:25:03,175] Trial 73 failed with value None.\n",
      "[I 2024-05-07 01:25:03,554] Trial 57 finished with value: 1.0 and parameters: {'boosting_type': 'dart', 'lambda_l1': 0.06471248281640714, 'lambda_l2': 1.4495166944808884, 'num_leaves': 171, 'feature_fraction': 0.4286657546788272, 'bagging_fraction': 0.7751633460178489, 'bagging_freq': 6, 'min_child_samples': 89, 'learning_rate': 0.016391749102613363, 'max_bin': 416, 'n_estimators': 240}. Best is trial 11 with value: 1.0.\n",
      "[I 2024-05-07 01:25:06,834] Trial 2 finished with value: 1.0 and parameters: {'boosting_type': 'gbdt', 'lambda_l1': 0.032423748570412594, 'lambda_l2': 0.0009482560209609172, 'num_leaves': 250, 'feature_fraction': 0.6351539186201465, 'bagging_fraction': 0.47007869595358726, 'bagging_freq': 1, 'min_child_samples': 8, 'learning_rate': 0.004529384729060214, 'max_bin': 224, 'n_estimators': 380}. Best is trial 11 with value: 1.0.\n",
      "[I 2024-05-07 01:25:07,126] Trial 77 finished with value: 1.0 and parameters: {'boosting_type': 'gbdt', 'lambda_l1': 0.0001092697148443283, 'lambda_l2': 0.0032221380041027024, 'num_leaves': 252, 'feature_fraction': 0.7714235760700661, 'bagging_fraction': 0.6639641778160902, 'bagging_freq': 2, 'min_child_samples': 66, 'learning_rate': 0.022800751873353283, 'max_bin': 256, 'n_estimators': 320}. Best is trial 11 with value: 1.0.\n",
      "[W 2024-05-07 01:25:08,950] Trial 88 failed with parameters: {'boosting_type': 'gbdt', 'lambda_l1': 0.000228424413864065, 'lambda_l2': 1.1564416834547442e-06, 'num_leaves': 183, 'feature_fraction': 0.8530658730802095, 'bagging_fraction': 0.8851829544138685, 'bagging_freq': 1, 'min_child_samples': 61, 'learning_rate': 0.1682349859366963, 'max_bin': 512, 'n_estimators': 320} because of the following error: MlflowException(\"API request to http://127.0.0.1:8080/api/2.0/mlflow/runs/log-batch failed with exception HTTPConnectionPool(host='127.0.0.1', port=8080): Max retries exceeded with url: /api/2.0/mlflow/runs/log-batch (Caused by ResponseError('too many 500 error responses'))\").\n",
      "urllib3.exceptions.ResponseError: too many 500 error responses\n",
      "\n",
      "The above exception was the direct cause of the following exception:\n",
      "\n",
      "Traceback (most recent call last):\n",
      "  File \"e:\\Mes Documents\\_Open Classroom\\Code\\p7\\p7env\\lib\\site-packages\\requests\\adapters.py\", line 486, in send\n",
      "    resp = conn.urlopen(\n",
      "  File \"e:\\Mes Documents\\_Open Classroom\\Code\\p7\\p7env\\lib\\site-packages\\urllib3\\connectionpool.py\", line 948, in urlopen\n",
      "    return self.urlopen(\n",
      "  File \"e:\\Mes Documents\\_Open Classroom\\Code\\p7\\p7env\\lib\\site-packages\\urllib3\\connectionpool.py\", line 948, in urlopen\n",
      "    return self.urlopen(\n",
      "  File \"e:\\Mes Documents\\_Open Classroom\\Code\\p7\\p7env\\lib\\site-packages\\urllib3\\connectionpool.py\", line 948, in urlopen\n",
      "    return self.urlopen(\n",
      "  [Previous line repeated 2 more times]\n",
      "  File \"e:\\Mes Documents\\_Open Classroom\\Code\\p7\\p7env\\lib\\site-packages\\urllib3\\connectionpool.py\", line 938, in urlopen\n",
      "    retries = retries.increment(method, url, response=response, _pool=self)\n",
      "  File \"e:\\Mes Documents\\_Open Classroom\\Code\\p7\\p7env\\lib\\site-packages\\urllib3\\util\\retry.py\", line 515, in increment\n",
      "    raise MaxRetryError(_pool, url, reason) from reason  # type: ignore[arg-type]\n",
      "urllib3.exceptions.MaxRetryError: HTTPConnectionPool(host='127.0.0.1', port=8080): Max retries exceeded with url: /api/2.0/mlflow/runs/log-batch (Caused by ResponseError('too many 500 error responses'))\n",
      "\n",
      "During handling of the above exception, another exception occurred:\n",
      "\n",
      "Traceback (most recent call last):\n",
      "  File \"e:\\Mes Documents\\_Open Classroom\\Code\\p7\\p7env\\lib\\site-packages\\mlflow\\utils\\rest_utils.py\", line 128, in http_request\n",
      "    return _get_http_response_with_retries(\n",
      "  File \"e:\\Mes Documents\\_Open Classroom\\Code\\p7\\p7env\\lib\\site-packages\\mlflow\\utils\\request_utils.py\", line 228, in _get_http_response_with_retries\n",
      "    return session.request(method, url, allow_redirects=allow_redirects, **kwargs)\n",
      "  File \"e:\\Mes Documents\\_Open Classroom\\Code\\p7\\p7env\\lib\\site-packages\\requests\\sessions.py\", line 589, in request\n",
      "    resp = self.send(prep, **send_kwargs)\n",
      "  File \"e:\\Mes Documents\\_Open Classroom\\Code\\p7\\p7env\\lib\\site-packages\\requests\\sessions.py\", line 703, in send\n",
      "    r = adapter.send(request, **kwargs)\n",
      "  File \"e:\\Mes Documents\\_Open Classroom\\Code\\p7\\p7env\\lib\\site-packages\\requests\\adapters.py\", line 510, in send\n",
      "    raise RetryError(e, request=request)\n",
      "requests.exceptions.RetryError: HTTPConnectionPool(host='127.0.0.1', port=8080): Max retries exceeded with url: /api/2.0/mlflow/runs/log-batch (Caused by ResponseError('too many 500 error responses'))\n",
      "\n",
      "During handling of the above exception, another exception occurred:\n",
      "\n",
      "Traceback (most recent call last):\n",
      "  File \"e:\\Mes Documents\\_Open Classroom\\Code\\p7\\p7env\\lib\\site-packages\\optuna\\study\\_optimize.py\", line 196, in _run_trial\n",
      "    value_or_values = func(trial)\n",
      "  File \"e:\\Mes Documents\\_Open Classroom\\Code\\p7\\src\\p7_hyper_param.py\", line 235, in _objective\n",
      "    mlflow.log_params(hyperparams)\n",
      "  File \"e:\\Mes Documents\\_Open Classroom\\Code\\p7\\p7env\\lib\\site-packages\\mlflow\\tracking\\fluent.py\", line 911, in log_params\n",
      "    return MlflowClient().log_batch(\n",
      "  File \"e:\\Mes Documents\\_Open Classroom\\Code\\p7\\p7env\\lib\\site-packages\\mlflow\\tracking\\client.py\", line 1134, in log_batch\n",
      "    return self._tracking_client.log_batch(\n",
      "  File \"e:\\Mes Documents\\_Open Classroom\\Code\\p7\\p7env\\lib\\site-packages\\mlflow\\tracking\\_tracking_service\\client.py\", line 471, in log_batch\n",
      "    self.store.log_batch(\n",
      "  File \"e:\\Mes Documents\\_Open Classroom\\Code\\p7\\p7env\\lib\\site-packages\\mlflow\\store\\tracking\\rest_store.py\", line 340, in log_batch\n",
      "    self._call_endpoint(LogBatch, req_body)\n",
      "  File \"e:\\Mes Documents\\_Open Classroom\\Code\\p7\\p7env\\lib\\site-packages\\mlflow\\store\\tracking\\rest_store.py\", line 60, in _call_endpoint\n",
      "    return call_endpoint(self.get_host_creds(), endpoint, method, json_body, response_proto)\n",
      "  File \"e:\\Mes Documents\\_Open Classroom\\Code\\p7\\p7env\\lib\\site-packages\\mlflow\\utils\\rest_utils.py\", line 289, in call_endpoint\n",
      "    response = http_request(**call_kwargs)\n",
      "  File \"e:\\Mes Documents\\_Open Classroom\\Code\\p7\\p7env\\lib\\site-packages\\mlflow\\utils\\rest_utils.py\", line 151, in http_request\n",
      "    raise MlflowException(f\"API request to {url} failed with exception {e}\")\n",
      "mlflow.exceptions.MlflowException: API request to http://127.0.0.1:8080/api/2.0/mlflow/runs/log-batch failed with exception HTTPConnectionPool(host='127.0.0.1', port=8080): Max retries exceeded with url: /api/2.0/mlflow/runs/log-batch (Caused by ResponseError('too many 500 error responses'))\n",
      "[W 2024-05-07 01:25:08,952] Trial 88 failed with value None.\n",
      "[I 2024-05-07 01:25:09,920] Trial 74 finished with value: 1.0 and parameters: {'boosting_type': 'gbdt', 'lambda_l1': 5.725784817989386e-05, 'lambda_l2': 0.00460353586713782, 'num_leaves': 251, 'feature_fraction': 0.7688968834780853, 'bagging_fraction': 0.9476074742508874, 'bagging_freq': 2, 'min_child_samples': 88, 'learning_rate': 0.027291665465988137, 'max_bin': 256, 'n_estimators': 320}. Best is trial 11 with value: 1.0.\n",
      "[I 2024-05-07 01:25:11,885] Trial 69 finished with value: 1.0 and parameters: {'boosting_type': 'dart', 'lambda_l1': 8.467644917194171e-05, 'lambda_l2': 0.0036580467819969146, 'num_leaves': 256, 'feature_fraction': 0.7700981260198164, 'bagging_fraction': 0.8709077904682079, 'bagging_freq': 2, 'min_child_samples': 17, 'learning_rate': 0.021223138453731045, 'max_bin': 256, 'n_estimators': 240}. Best is trial 11 with value: 1.0.\n",
      "[W 2024-05-07 01:25:13,285] Trial 90 failed with parameters: {'boosting_type': 'gbdt', 'lambda_l1': 0.00013613336501845988, 'lambda_l2': 1.0880640515745891e-05, 'num_leaves': 152, 'feature_fraction': 0.8762261545413657, 'bagging_fraction': 0.8781301386112632, 'bagging_freq': 1, 'min_child_samples': 53, 'learning_rate': 0.07935398926549729, 'max_bin': 480, 'n_estimators': 300} because of the following error: MlflowException(\"API request to http://127.0.0.1:8080/api/2.0/mlflow/runs/log-batch failed with exception HTTPConnectionPool(host='127.0.0.1', port=8080): Max retries exceeded with url: /api/2.0/mlflow/runs/log-batch (Caused by ResponseError('too many 500 error responses'))\").\n",
      "urllib3.exceptions.ResponseError: too many 500 error responses\n",
      "\n",
      "The above exception was the direct cause of the following exception:\n",
      "\n",
      "Traceback (most recent call last):\n",
      "  File \"e:\\Mes Documents\\_Open Classroom\\Code\\p7\\p7env\\lib\\site-packages\\requests\\adapters.py\", line 486, in send\n",
      "    resp = conn.urlopen(\n",
      "  File \"e:\\Mes Documents\\_Open Classroom\\Code\\p7\\p7env\\lib\\site-packages\\urllib3\\connectionpool.py\", line 948, in urlopen\n",
      "    return self.urlopen(\n",
      "  File \"e:\\Mes Documents\\_Open Classroom\\Code\\p7\\p7env\\lib\\site-packages\\urllib3\\connectionpool.py\", line 948, in urlopen\n",
      "    return self.urlopen(\n",
      "  File \"e:\\Mes Documents\\_Open Classroom\\Code\\p7\\p7env\\lib\\site-packages\\urllib3\\connectionpool.py\", line 948, in urlopen\n",
      "    return self.urlopen(\n",
      "  [Previous line repeated 2 more times]\n",
      "  File \"e:\\Mes Documents\\_Open Classroom\\Code\\p7\\p7env\\lib\\site-packages\\urllib3\\connectionpool.py\", line 938, in urlopen\n",
      "    retries = retries.increment(method, url, response=response, _pool=self)\n",
      "  File \"e:\\Mes Documents\\_Open Classroom\\Code\\p7\\p7env\\lib\\site-packages\\urllib3\\util\\retry.py\", line 515, in increment\n",
      "    raise MaxRetryError(_pool, url, reason) from reason  # type: ignore[arg-type]\n",
      "urllib3.exceptions.MaxRetryError: HTTPConnectionPool(host='127.0.0.1', port=8080): Max retries exceeded with url: /api/2.0/mlflow/runs/log-batch (Caused by ResponseError('too many 500 error responses'))\n",
      "\n",
      "During handling of the above exception, another exception occurred:\n",
      "\n",
      "Traceback (most recent call last):\n",
      "  File \"e:\\Mes Documents\\_Open Classroom\\Code\\p7\\p7env\\lib\\site-packages\\mlflow\\utils\\rest_utils.py\", line 128, in http_request\n",
      "    return _get_http_response_with_retries(\n",
      "  File \"e:\\Mes Documents\\_Open Classroom\\Code\\p7\\p7env\\lib\\site-packages\\mlflow\\utils\\request_utils.py\", line 228, in _get_http_response_with_retries\n",
      "    return session.request(method, url, allow_redirects=allow_redirects, **kwargs)\n",
      "  File \"e:\\Mes Documents\\_Open Classroom\\Code\\p7\\p7env\\lib\\site-packages\\requests\\sessions.py\", line 589, in request\n",
      "    resp = self.send(prep, **send_kwargs)\n",
      "  File \"e:\\Mes Documents\\_Open Classroom\\Code\\p7\\p7env\\lib\\site-packages\\requests\\sessions.py\", line 703, in send\n",
      "    r = adapter.send(request, **kwargs)\n",
      "  File \"e:\\Mes Documents\\_Open Classroom\\Code\\p7\\p7env\\lib\\site-packages\\requests\\adapters.py\", line 510, in send\n",
      "    raise RetryError(e, request=request)\n",
      "requests.exceptions.RetryError: HTTPConnectionPool(host='127.0.0.1', port=8080): Max retries exceeded with url: /api/2.0/mlflow/runs/log-batch (Caused by ResponseError('too many 500 error responses'))\n",
      "\n",
      "During handling of the above exception, another exception occurred:\n",
      "\n",
      "Traceback (most recent call last):\n",
      "  File \"e:\\Mes Documents\\_Open Classroom\\Code\\p7\\p7env\\lib\\site-packages\\optuna\\study\\_optimize.py\", line 196, in _run_trial\n",
      "    value_or_values = func(trial)\n",
      "  File \"e:\\Mes Documents\\_Open Classroom\\Code\\p7\\src\\p7_hyper_param.py\", line 235, in _objective\n",
      "    mlflow.log_params(hyperparams)\n",
      "  File \"e:\\Mes Documents\\_Open Classroom\\Code\\p7\\p7env\\lib\\site-packages\\mlflow\\tracking\\fluent.py\", line 911, in log_params\n",
      "    return MlflowClient().log_batch(\n",
      "  File \"e:\\Mes Documents\\_Open Classroom\\Code\\p7\\p7env\\lib\\site-packages\\mlflow\\tracking\\client.py\", line 1134, in log_batch\n",
      "    return self._tracking_client.log_batch(\n",
      "  File \"e:\\Mes Documents\\_Open Classroom\\Code\\p7\\p7env\\lib\\site-packages\\mlflow\\tracking\\_tracking_service\\client.py\", line 471, in log_batch\n",
      "    self.store.log_batch(\n",
      "  File \"e:\\Mes Documents\\_Open Classroom\\Code\\p7\\p7env\\lib\\site-packages\\mlflow\\store\\tracking\\rest_store.py\", line 340, in log_batch\n",
      "    self._call_endpoint(LogBatch, req_body)\n",
      "  File \"e:\\Mes Documents\\_Open Classroom\\Code\\p7\\p7env\\lib\\site-packages\\mlflow\\store\\tracking\\rest_store.py\", line 60, in _call_endpoint\n",
      "    return call_endpoint(self.get_host_creds(), endpoint, method, json_body, response_proto)\n",
      "  File \"e:\\Mes Documents\\_Open Classroom\\Code\\p7\\p7env\\lib\\site-packages\\mlflow\\utils\\rest_utils.py\", line 289, in call_endpoint\n",
      "    response = http_request(**call_kwargs)\n",
      "  File \"e:\\Mes Documents\\_Open Classroom\\Code\\p7\\p7env\\lib\\site-packages\\mlflow\\utils\\rest_utils.py\", line 151, in http_request\n",
      "    raise MlflowException(f\"API request to {url} failed with exception {e}\")\n",
      "mlflow.exceptions.MlflowException: API request to http://127.0.0.1:8080/api/2.0/mlflow/runs/log-batch failed with exception HTTPConnectionPool(host='127.0.0.1', port=8080): Max retries exceeded with url: /api/2.0/mlflow/runs/log-batch (Caused by ResponseError('too many 500 error responses'))\n",
      "[W 2024-05-07 01:25:13,288] Trial 90 failed with value None.\n",
      "[I 2024-05-07 01:25:15,233] Trial 83 finished with value: 1.0 and parameters: {'boosting_type': 'gbdt', 'lambda_l1': 0.00012901783406171514, 'lambda_l2': 1.191851385868809e-06, 'num_leaves': 186, 'feature_fraction': 0.8562344932789088, 'bagging_fraction': 0.8960785371315996, 'bagging_freq': 1, 'min_child_samples': 75, 'learning_rate': 0.02543202271525305, 'max_bin': 448, 'n_estimators': 320}. Best is trial 11 with value: 1.0.\n",
      "[I 2024-05-07 01:25:16,834] Trial 21 finished with value: 1.0 and parameters: {'boosting_type': 'gbdt', 'lambda_l1': 9.35351715342763e-07, 'lambda_l2': 1.9462171897401235e-06, 'num_leaves': 210, 'feature_fraction': 0.9534572628994171, 'bagging_fraction': 0.6654700467958945, 'bagging_freq': 7, 'min_child_samples': 25, 'learning_rate': 0.003257253162310248, 'max_bin': 224, 'n_estimators': 260}. Best is trial 11 with value: 1.0.\n",
      "[I 2024-05-07 01:25:21,987] Trial 60 finished with value: 0.9859970668171533 and parameters: {'boosting_type': 'dart', 'lambda_l1': 1.182122258859359e-08, 'lambda_l2': 0.002650867845677902, 'num_leaves': 112, 'feature_fraction': 0.4174236422155684, 'bagging_fraction': 0.7868876523709079, 'bagging_freq': 6, 'min_child_samples': 20, 'learning_rate': 0.017554690760524214, 'max_bin': 416, 'n_estimators': 240}. Best is trial 11 with value: 1.0.\n",
      "[I 2024-05-07 01:25:23,444] Trial 59 finished with value: 0.9731095557778412 and parameters: {'boosting_type': 'dart', 'lambda_l1': 0.0644119678504522, 'lambda_l2': 1.500600429613266, 'num_leaves': 168, 'feature_fraction': 0.4134819825489597, 'bagging_fraction': 0.7662263361099033, 'bagging_freq': 6, 'min_child_samples': 86, 'learning_rate': 0.018471611305678884, 'max_bin': 416, 'n_estimators': 260}. Best is trial 11 with value: 1.0.\n",
      "[I 2024-05-07 01:25:29,388] Trial 28 finished with value: 0.9192701304309328 and parameters: {'boosting_type': 'gbdt', 'lambda_l1': 1.908429837712417e-06, 'lambda_l2': 3.098481344306932e-07, 'num_leaves': 169, 'feature_fraction': 0.5685701151947944, 'bagging_fraction': 0.9174888651087229, 'bagging_freq': 2, 'min_child_samples': 36, 'learning_rate': 0.00087520611945855, 'max_bin': 416, 'n_estimators': 360}. Best is trial 11 with value: 1.0.\n",
      "[W 2024-05-07 01:26:25,134] Trial 72 failed with parameters: {'boosting_type': 'gbdt', 'lambda_l1': 6.655201073515645e-05, 'lambda_l2': 7.030441714243133e-08, 'num_leaves': 182, 'feature_fraction': 0.7604861358719368, 'bagging_fraction': 0.8671160977786715, 'bagging_freq': 2, 'min_child_samples': 88, 'learning_rate': 0.023632157334930636, 'max_bin': 384, 'n_estimators': 320} because of the following error: MlflowException(\"API request to http://127.0.0.1:8080/api/2.0/mlflow/runs/log-batch failed with exception HTTPConnectionPool(host='127.0.0.1', port=8080): Max retries exceeded with url: /api/2.0/mlflow/runs/log-batch (Caused by ResponseError('too many 500 error responses'))\").\n",
      "urllib3.exceptions.ResponseError: too many 500 error responses\n",
      "\n",
      "The above exception was the direct cause of the following exception:\n",
      "\n",
      "Traceback (most recent call last):\n",
      "  File \"e:\\Mes Documents\\_Open Classroom\\Code\\p7\\p7env\\lib\\site-packages\\requests\\adapters.py\", line 486, in send\n",
      "    resp = conn.urlopen(\n",
      "  File \"e:\\Mes Documents\\_Open Classroom\\Code\\p7\\p7env\\lib\\site-packages\\urllib3\\connectionpool.py\", line 948, in urlopen\n",
      "    return self.urlopen(\n",
      "  File \"e:\\Mes Documents\\_Open Classroom\\Code\\p7\\p7env\\lib\\site-packages\\urllib3\\connectionpool.py\", line 948, in urlopen\n",
      "    return self.urlopen(\n",
      "  File \"e:\\Mes Documents\\_Open Classroom\\Code\\p7\\p7env\\lib\\site-packages\\urllib3\\connectionpool.py\", line 948, in urlopen\n",
      "    return self.urlopen(\n",
      "  [Previous line repeated 2 more times]\n",
      "  File \"e:\\Mes Documents\\_Open Classroom\\Code\\p7\\p7env\\lib\\site-packages\\urllib3\\connectionpool.py\", line 938, in urlopen\n",
      "    retries = retries.increment(method, url, response=response, _pool=self)\n",
      "  File \"e:\\Mes Documents\\_Open Classroom\\Code\\p7\\p7env\\lib\\site-packages\\urllib3\\util\\retry.py\", line 515, in increment\n",
      "    raise MaxRetryError(_pool, url, reason) from reason  # type: ignore[arg-type]\n",
      "urllib3.exceptions.MaxRetryError: HTTPConnectionPool(host='127.0.0.1', port=8080): Max retries exceeded with url: /api/2.0/mlflow/runs/log-batch (Caused by ResponseError('too many 500 error responses'))\n",
      "\n",
      "During handling of the above exception, another exception occurred:\n",
      "\n",
      "Traceback (most recent call last):\n",
      "  File \"e:\\Mes Documents\\_Open Classroom\\Code\\p7\\p7env\\lib\\site-packages\\mlflow\\utils\\rest_utils.py\", line 128, in http_request\n",
      "    return _get_http_response_with_retries(\n",
      "  File \"e:\\Mes Documents\\_Open Classroom\\Code\\p7\\p7env\\lib\\site-packages\\mlflow\\utils\\request_utils.py\", line 228, in _get_http_response_with_retries\n",
      "    return session.request(method, url, allow_redirects=allow_redirects, **kwargs)\n",
      "  File \"e:\\Mes Documents\\_Open Classroom\\Code\\p7\\p7env\\lib\\site-packages\\requests\\sessions.py\", line 589, in request\n",
      "    resp = self.send(prep, **send_kwargs)\n",
      "  File \"e:\\Mes Documents\\_Open Classroom\\Code\\p7\\p7env\\lib\\site-packages\\requests\\sessions.py\", line 703, in send\n",
      "    r = adapter.send(request, **kwargs)\n",
      "  File \"e:\\Mes Documents\\_Open Classroom\\Code\\p7\\p7env\\lib\\site-packages\\requests\\adapters.py\", line 510, in send\n",
      "    raise RetryError(e, request=request)\n",
      "requests.exceptions.RetryError: HTTPConnectionPool(host='127.0.0.1', port=8080): Max retries exceeded with url: /api/2.0/mlflow/runs/log-batch (Caused by ResponseError('too many 500 error responses'))\n",
      "\n",
      "During handling of the above exception, another exception occurred:\n",
      "\n",
      "Traceback (most recent call last):\n",
      "  File \"e:\\Mes Documents\\_Open Classroom\\Code\\p7\\p7env\\lib\\site-packages\\optuna\\study\\_optimize.py\", line 196, in _run_trial\n",
      "    value_or_values = func(trial)\n",
      "  File \"e:\\Mes Documents\\_Open Classroom\\Code\\p7\\src\\p7_hyper_param.py\", line 235, in _objective\n",
      "    mlflow.log_params(hyperparams)\n",
      "  File \"e:\\Mes Documents\\_Open Classroom\\Code\\p7\\p7env\\lib\\site-packages\\mlflow\\tracking\\fluent.py\", line 911, in log_params\n",
      "    return MlflowClient().log_batch(\n",
      "  File \"e:\\Mes Documents\\_Open Classroom\\Code\\p7\\p7env\\lib\\site-packages\\mlflow\\tracking\\client.py\", line 1134, in log_batch\n",
      "    return self._tracking_client.log_batch(\n",
      "  File \"e:\\Mes Documents\\_Open Classroom\\Code\\p7\\p7env\\lib\\site-packages\\mlflow\\tracking\\_tracking_service\\client.py\", line 471, in log_batch\n",
      "    self.store.log_batch(\n",
      "  File \"e:\\Mes Documents\\_Open Classroom\\Code\\p7\\p7env\\lib\\site-packages\\mlflow\\store\\tracking\\rest_store.py\", line 340, in log_batch\n",
      "    self._call_endpoint(LogBatch, req_body)\n",
      "  File \"e:\\Mes Documents\\_Open Classroom\\Code\\p7\\p7env\\lib\\site-packages\\mlflow\\store\\tracking\\rest_store.py\", line 60, in _call_endpoint\n",
      "    return call_endpoint(self.get_host_creds(), endpoint, method, json_body, response_proto)\n",
      "  File \"e:\\Mes Documents\\_Open Classroom\\Code\\p7\\p7env\\lib\\site-packages\\mlflow\\utils\\rest_utils.py\", line 289, in call_endpoint\n",
      "    response = http_request(**call_kwargs)\n",
      "  File \"e:\\Mes Documents\\_Open Classroom\\Code\\p7\\p7env\\lib\\site-packages\\mlflow\\utils\\rest_utils.py\", line 151, in http_request\n",
      "    raise MlflowException(f\"API request to {url} failed with exception {e}\")\n",
      "mlflow.exceptions.MlflowException: API request to http://127.0.0.1:8080/api/2.0/mlflow/runs/log-batch failed with exception HTTPConnectionPool(host='127.0.0.1', port=8080): Max retries exceeded with url: /api/2.0/mlflow/runs/log-batch (Caused by ResponseError('too many 500 error responses'))\n",
      "[W 2024-05-07 01:26:25,136] Trial 72 failed with value None.\n"
     ]
    },
    {
     "ename": "MlflowException",
     "evalue": "API request to http://127.0.0.1:8080/api/2.0/mlflow/runs/log-batch failed with exception HTTPConnectionPool(host='127.0.0.1', port=8080): Max retries exceeded with url: /api/2.0/mlflow/runs/log-batch (Caused by ResponseError('too many 500 error responses'))",
     "output_type": "error",
     "traceback": [
      "\u001b[1;31m---------------------------------------------------------------------------\u001b[0m",
      "\u001b[1;31mResponseError\u001b[0m                             Traceback (most recent call last)",
      "\u001b[1;31mResponseError\u001b[0m: too many 500 error responses",
      "\nThe above exception was the direct cause of the following exception:\n",
      "\u001b[1;31mMaxRetryError\u001b[0m                             Traceback (most recent call last)",
      "File \u001b[1;32me:\\Mes Documents\\_Open Classroom\\Code\\p7\\p7env\\lib\\site-packages\\requests\\adapters.py:486\u001b[0m, in \u001b[0;36mHTTPAdapter.send\u001b[1;34m(self, request, stream, timeout, verify, cert, proxies)\u001b[0m\n\u001b[0;32m    485\u001b[0m \u001b[38;5;28;01mtry\u001b[39;00m:\n\u001b[1;32m--> 486\u001b[0m     resp \u001b[38;5;241m=\u001b[39m \u001b[43mconn\u001b[49m\u001b[38;5;241;43m.\u001b[39;49m\u001b[43murlopen\u001b[49m\u001b[43m(\u001b[49m\n\u001b[0;32m    487\u001b[0m \u001b[43m        \u001b[49m\u001b[43mmethod\u001b[49m\u001b[38;5;241;43m=\u001b[39;49m\u001b[43mrequest\u001b[49m\u001b[38;5;241;43m.\u001b[39;49m\u001b[43mmethod\u001b[49m\u001b[43m,\u001b[49m\n\u001b[0;32m    488\u001b[0m \u001b[43m        \u001b[49m\u001b[43murl\u001b[49m\u001b[38;5;241;43m=\u001b[39;49m\u001b[43murl\u001b[49m\u001b[43m,\u001b[49m\n\u001b[0;32m    489\u001b[0m \u001b[43m        \u001b[49m\u001b[43mbody\u001b[49m\u001b[38;5;241;43m=\u001b[39;49m\u001b[43mrequest\u001b[49m\u001b[38;5;241;43m.\u001b[39;49m\u001b[43mbody\u001b[49m\u001b[43m,\u001b[49m\n\u001b[0;32m    490\u001b[0m \u001b[43m        \u001b[49m\u001b[43mheaders\u001b[49m\u001b[38;5;241;43m=\u001b[39;49m\u001b[43mrequest\u001b[49m\u001b[38;5;241;43m.\u001b[39;49m\u001b[43mheaders\u001b[49m\u001b[43m,\u001b[49m\n\u001b[0;32m    491\u001b[0m \u001b[43m        \u001b[49m\u001b[43mredirect\u001b[49m\u001b[38;5;241;43m=\u001b[39;49m\u001b[38;5;28;43;01mFalse\u001b[39;49;00m\u001b[43m,\u001b[49m\n\u001b[0;32m    492\u001b[0m \u001b[43m        \u001b[49m\u001b[43massert_same_host\u001b[49m\u001b[38;5;241;43m=\u001b[39;49m\u001b[38;5;28;43;01mFalse\u001b[39;49;00m\u001b[43m,\u001b[49m\n\u001b[0;32m    493\u001b[0m \u001b[43m        \u001b[49m\u001b[43mpreload_content\u001b[49m\u001b[38;5;241;43m=\u001b[39;49m\u001b[38;5;28;43;01mFalse\u001b[39;49;00m\u001b[43m,\u001b[49m\n\u001b[0;32m    494\u001b[0m \u001b[43m        \u001b[49m\u001b[43mdecode_content\u001b[49m\u001b[38;5;241;43m=\u001b[39;49m\u001b[38;5;28;43;01mFalse\u001b[39;49;00m\u001b[43m,\u001b[49m\n\u001b[0;32m    495\u001b[0m \u001b[43m        \u001b[49m\u001b[43mretries\u001b[49m\u001b[38;5;241;43m=\u001b[39;49m\u001b[38;5;28;43mself\u001b[39;49m\u001b[38;5;241;43m.\u001b[39;49m\u001b[43mmax_retries\u001b[49m\u001b[43m,\u001b[49m\n\u001b[0;32m    496\u001b[0m \u001b[43m        \u001b[49m\u001b[43mtimeout\u001b[49m\u001b[38;5;241;43m=\u001b[39;49m\u001b[43mtimeout\u001b[49m\u001b[43m,\u001b[49m\n\u001b[0;32m    497\u001b[0m \u001b[43m        \u001b[49m\u001b[43mchunked\u001b[49m\u001b[38;5;241;43m=\u001b[39;49m\u001b[43mchunked\u001b[49m\u001b[43m,\u001b[49m\n\u001b[0;32m    498\u001b[0m \u001b[43m    \u001b[49m\u001b[43m)\u001b[49m\n\u001b[0;32m    500\u001b[0m \u001b[38;5;28;01mexcept\u001b[39;00m (ProtocolError, \u001b[38;5;167;01mOSError\u001b[39;00m) \u001b[38;5;28;01mas\u001b[39;00m err:\n",
      "File \u001b[1;32me:\\Mes Documents\\_Open Classroom\\Code\\p7\\p7env\\lib\\site-packages\\urllib3\\connectionpool.py:948\u001b[0m, in \u001b[0;36mHTTPConnectionPool.urlopen\u001b[1;34m(self, method, url, body, headers, retries, redirect, assert_same_host, timeout, pool_timeout, release_conn, chunked, body_pos, preload_content, decode_content, **response_kw)\u001b[0m\n\u001b[0;32m    947\u001b[0m     log\u001b[38;5;241m.\u001b[39mdebug(\u001b[38;5;124m\"\u001b[39m\u001b[38;5;124mRetry: \u001b[39m\u001b[38;5;132;01m%s\u001b[39;00m\u001b[38;5;124m\"\u001b[39m, url)\n\u001b[1;32m--> 948\u001b[0m     \u001b[38;5;28;01mreturn\u001b[39;00m \u001b[38;5;28mself\u001b[39m\u001b[38;5;241m.\u001b[39murlopen(\n\u001b[0;32m    949\u001b[0m         method,\n\u001b[0;32m    950\u001b[0m         url,\n\u001b[0;32m    951\u001b[0m         body,\n\u001b[0;32m    952\u001b[0m         headers,\n\u001b[0;32m    953\u001b[0m         retries\u001b[38;5;241m=\u001b[39mretries,\n\u001b[0;32m    954\u001b[0m         redirect\u001b[38;5;241m=\u001b[39mredirect,\n\u001b[0;32m    955\u001b[0m         assert_same_host\u001b[38;5;241m=\u001b[39massert_same_host,\n\u001b[0;32m    956\u001b[0m         timeout\u001b[38;5;241m=\u001b[39mtimeout,\n\u001b[0;32m    957\u001b[0m         pool_timeout\u001b[38;5;241m=\u001b[39mpool_timeout,\n\u001b[0;32m    958\u001b[0m         release_conn\u001b[38;5;241m=\u001b[39mrelease_conn,\n\u001b[0;32m    959\u001b[0m         chunked\u001b[38;5;241m=\u001b[39mchunked,\n\u001b[0;32m    960\u001b[0m         body_pos\u001b[38;5;241m=\u001b[39mbody_pos,\n\u001b[0;32m    961\u001b[0m         preload_content\u001b[38;5;241m=\u001b[39mpreload_content,\n\u001b[0;32m    962\u001b[0m         decode_content\u001b[38;5;241m=\u001b[39mdecode_content,\n\u001b[0;32m    963\u001b[0m         \u001b[38;5;241m*\u001b[39m\u001b[38;5;241m*\u001b[39mresponse_kw,\n\u001b[0;32m    964\u001b[0m     )\n\u001b[0;32m    966\u001b[0m \u001b[38;5;28;01mreturn\u001b[39;00m response\n",
      "File \u001b[1;32me:\\Mes Documents\\_Open Classroom\\Code\\p7\\p7env\\lib\\site-packages\\urllib3\\connectionpool.py:948\u001b[0m, in \u001b[0;36mHTTPConnectionPool.urlopen\u001b[1;34m(self, method, url, body, headers, retries, redirect, assert_same_host, timeout, pool_timeout, release_conn, chunked, body_pos, preload_content, decode_content, **response_kw)\u001b[0m\n\u001b[0;32m    947\u001b[0m     log\u001b[38;5;241m.\u001b[39mdebug(\u001b[38;5;124m\"\u001b[39m\u001b[38;5;124mRetry: \u001b[39m\u001b[38;5;132;01m%s\u001b[39;00m\u001b[38;5;124m\"\u001b[39m, url)\n\u001b[1;32m--> 948\u001b[0m     \u001b[38;5;28;01mreturn\u001b[39;00m \u001b[38;5;28mself\u001b[39m\u001b[38;5;241m.\u001b[39murlopen(\n\u001b[0;32m    949\u001b[0m         method,\n\u001b[0;32m    950\u001b[0m         url,\n\u001b[0;32m    951\u001b[0m         body,\n\u001b[0;32m    952\u001b[0m         headers,\n\u001b[0;32m    953\u001b[0m         retries\u001b[38;5;241m=\u001b[39mretries,\n\u001b[0;32m    954\u001b[0m         redirect\u001b[38;5;241m=\u001b[39mredirect,\n\u001b[0;32m    955\u001b[0m         assert_same_host\u001b[38;5;241m=\u001b[39massert_same_host,\n\u001b[0;32m    956\u001b[0m         timeout\u001b[38;5;241m=\u001b[39mtimeout,\n\u001b[0;32m    957\u001b[0m         pool_timeout\u001b[38;5;241m=\u001b[39mpool_timeout,\n\u001b[0;32m    958\u001b[0m         release_conn\u001b[38;5;241m=\u001b[39mrelease_conn,\n\u001b[0;32m    959\u001b[0m         chunked\u001b[38;5;241m=\u001b[39mchunked,\n\u001b[0;32m    960\u001b[0m         body_pos\u001b[38;5;241m=\u001b[39mbody_pos,\n\u001b[0;32m    961\u001b[0m         preload_content\u001b[38;5;241m=\u001b[39mpreload_content,\n\u001b[0;32m    962\u001b[0m         decode_content\u001b[38;5;241m=\u001b[39mdecode_content,\n\u001b[0;32m    963\u001b[0m         \u001b[38;5;241m*\u001b[39m\u001b[38;5;241m*\u001b[39mresponse_kw,\n\u001b[0;32m    964\u001b[0m     )\n\u001b[0;32m    966\u001b[0m \u001b[38;5;28;01mreturn\u001b[39;00m response\n",
      "    \u001b[1;31m[... skipping similar frames: HTTPConnectionPool.urlopen at line 948 (2 times)]\u001b[0m\n",
      "File \u001b[1;32me:\\Mes Documents\\_Open Classroom\\Code\\p7\\p7env\\lib\\site-packages\\urllib3\\connectionpool.py:948\u001b[0m, in \u001b[0;36mHTTPConnectionPool.urlopen\u001b[1;34m(self, method, url, body, headers, retries, redirect, assert_same_host, timeout, pool_timeout, release_conn, chunked, body_pos, preload_content, decode_content, **response_kw)\u001b[0m\n\u001b[0;32m    947\u001b[0m     log\u001b[38;5;241m.\u001b[39mdebug(\u001b[38;5;124m\"\u001b[39m\u001b[38;5;124mRetry: \u001b[39m\u001b[38;5;132;01m%s\u001b[39;00m\u001b[38;5;124m\"\u001b[39m, url)\n\u001b[1;32m--> 948\u001b[0m     \u001b[38;5;28;01mreturn\u001b[39;00m \u001b[38;5;28mself\u001b[39m\u001b[38;5;241m.\u001b[39murlopen(\n\u001b[0;32m    949\u001b[0m         method,\n\u001b[0;32m    950\u001b[0m         url,\n\u001b[0;32m    951\u001b[0m         body,\n\u001b[0;32m    952\u001b[0m         headers,\n\u001b[0;32m    953\u001b[0m         retries\u001b[38;5;241m=\u001b[39mretries,\n\u001b[0;32m    954\u001b[0m         redirect\u001b[38;5;241m=\u001b[39mredirect,\n\u001b[0;32m    955\u001b[0m         assert_same_host\u001b[38;5;241m=\u001b[39massert_same_host,\n\u001b[0;32m    956\u001b[0m         timeout\u001b[38;5;241m=\u001b[39mtimeout,\n\u001b[0;32m    957\u001b[0m         pool_timeout\u001b[38;5;241m=\u001b[39mpool_timeout,\n\u001b[0;32m    958\u001b[0m         release_conn\u001b[38;5;241m=\u001b[39mrelease_conn,\n\u001b[0;32m    959\u001b[0m         chunked\u001b[38;5;241m=\u001b[39mchunked,\n\u001b[0;32m    960\u001b[0m         body_pos\u001b[38;5;241m=\u001b[39mbody_pos,\n\u001b[0;32m    961\u001b[0m         preload_content\u001b[38;5;241m=\u001b[39mpreload_content,\n\u001b[0;32m    962\u001b[0m         decode_content\u001b[38;5;241m=\u001b[39mdecode_content,\n\u001b[0;32m    963\u001b[0m         \u001b[38;5;241m*\u001b[39m\u001b[38;5;241m*\u001b[39mresponse_kw,\n\u001b[0;32m    964\u001b[0m     )\n\u001b[0;32m    966\u001b[0m \u001b[38;5;28;01mreturn\u001b[39;00m response\n",
      "File \u001b[1;32me:\\Mes Documents\\_Open Classroom\\Code\\p7\\p7env\\lib\\site-packages\\urllib3\\connectionpool.py:938\u001b[0m, in \u001b[0;36mHTTPConnectionPool.urlopen\u001b[1;34m(self, method, url, body, headers, retries, redirect, assert_same_host, timeout, pool_timeout, release_conn, chunked, body_pos, preload_content, decode_content, **response_kw)\u001b[0m\n\u001b[0;32m    937\u001b[0m \u001b[38;5;28;01mtry\u001b[39;00m:\n\u001b[1;32m--> 938\u001b[0m     retries \u001b[38;5;241m=\u001b[39m \u001b[43mretries\u001b[49m\u001b[38;5;241;43m.\u001b[39;49m\u001b[43mincrement\u001b[49m\u001b[43m(\u001b[49m\u001b[43mmethod\u001b[49m\u001b[43m,\u001b[49m\u001b[43m \u001b[49m\u001b[43murl\u001b[49m\u001b[43m,\u001b[49m\u001b[43m \u001b[49m\u001b[43mresponse\u001b[49m\u001b[38;5;241;43m=\u001b[39;49m\u001b[43mresponse\u001b[49m\u001b[43m,\u001b[49m\u001b[43m \u001b[49m\u001b[43m_pool\u001b[49m\u001b[38;5;241;43m=\u001b[39;49m\u001b[38;5;28;43mself\u001b[39;49m\u001b[43m)\u001b[49m\n\u001b[0;32m    939\u001b[0m \u001b[38;5;28;01mexcept\u001b[39;00m MaxRetryError:\n",
      "File \u001b[1;32me:\\Mes Documents\\_Open Classroom\\Code\\p7\\p7env\\lib\\site-packages\\urllib3\\util\\retry.py:515\u001b[0m, in \u001b[0;36mRetry.increment\u001b[1;34m(self, method, url, response, error, _pool, _stacktrace)\u001b[0m\n\u001b[0;32m    514\u001b[0m     reason \u001b[38;5;241m=\u001b[39m error \u001b[38;5;129;01mor\u001b[39;00m ResponseError(cause)\n\u001b[1;32m--> 515\u001b[0m     \u001b[38;5;28;01mraise\u001b[39;00m MaxRetryError(_pool, url, reason) \u001b[38;5;28;01mfrom\u001b[39;00m \u001b[38;5;21;01mreason\u001b[39;00m  \u001b[38;5;66;03m# type: ignore[arg-type]\u001b[39;00m\n\u001b[0;32m    517\u001b[0m log\u001b[38;5;241m.\u001b[39mdebug(\u001b[38;5;124m\"\u001b[39m\u001b[38;5;124mIncremented Retry for (url=\u001b[39m\u001b[38;5;124m'\u001b[39m\u001b[38;5;132;01m%s\u001b[39;00m\u001b[38;5;124m'\u001b[39m\u001b[38;5;124m): \u001b[39m\u001b[38;5;132;01m%r\u001b[39;00m\u001b[38;5;124m\"\u001b[39m, url, new_retry)\n",
      "\u001b[1;31mMaxRetryError\u001b[0m: HTTPConnectionPool(host='127.0.0.1', port=8080): Max retries exceeded with url: /api/2.0/mlflow/runs/log-batch (Caused by ResponseError('too many 500 error responses'))",
      "\nDuring handling of the above exception, another exception occurred:\n",
      "\u001b[1;31mRetryError\u001b[0m                                Traceback (most recent call last)",
      "File \u001b[1;32me:\\Mes Documents\\_Open Classroom\\Code\\p7\\p7env\\lib\\site-packages\\mlflow\\utils\\rest_utils.py:128\u001b[0m, in \u001b[0;36mhttp_request\u001b[1;34m(host_creds, endpoint, method, max_retries, backoff_factor, backoff_jitter, extra_headers, retry_codes, timeout, raise_on_status, respect_retry_after_header, **kwargs)\u001b[0m\n\u001b[0;32m    127\u001b[0m \u001b[38;5;28;01mtry\u001b[39;00m:\n\u001b[1;32m--> 128\u001b[0m     \u001b[38;5;28;01mreturn\u001b[39;00m _get_http_response_with_retries(\n\u001b[0;32m    129\u001b[0m         method,\n\u001b[0;32m    130\u001b[0m         url,\n\u001b[0;32m    131\u001b[0m         max_retries,\n\u001b[0;32m    132\u001b[0m         backoff_factor,\n\u001b[0;32m    133\u001b[0m         backoff_jitter,\n\u001b[0;32m    134\u001b[0m         retry_codes,\n\u001b[0;32m    135\u001b[0m         raise_on_status,\n\u001b[0;32m    136\u001b[0m         headers\u001b[38;5;241m=\u001b[39mheaders,\n\u001b[0;32m    137\u001b[0m         verify\u001b[38;5;241m=\u001b[39mhost_creds\u001b[38;5;241m.\u001b[39mverify,\n\u001b[0;32m    138\u001b[0m         timeout\u001b[38;5;241m=\u001b[39mtimeout,\n\u001b[0;32m    139\u001b[0m         respect_retry_after_header\u001b[38;5;241m=\u001b[39mrespect_retry_after_header,\n\u001b[0;32m    140\u001b[0m         \u001b[38;5;241m*\u001b[39m\u001b[38;5;241m*\u001b[39mkwargs,\n\u001b[0;32m    141\u001b[0m     )\n\u001b[0;32m    142\u001b[0m \u001b[38;5;28;01mexcept\u001b[39;00m requests\u001b[38;5;241m.\u001b[39mexceptions\u001b[38;5;241m.\u001b[39mTimeout \u001b[38;5;28;01mas\u001b[39;00m to:\n",
      "File \u001b[1;32me:\\Mes Documents\\_Open Classroom\\Code\\p7\\p7env\\lib\\site-packages\\mlflow\\utils\\request_utils.py:228\u001b[0m, in \u001b[0;36m_get_http_response_with_retries\u001b[1;34m(method, url, max_retries, backoff_factor, backoff_jitter, retry_codes, raise_on_status, allow_redirects, respect_retry_after_header, **kwargs)\u001b[0m\n\u001b[0;32m    226\u001b[0m allow_redirects \u001b[38;5;241m=\u001b[39m env_value \u001b[38;5;28;01mif\u001b[39;00m allow_redirects \u001b[38;5;129;01mis\u001b[39;00m \u001b[38;5;28;01mNone\u001b[39;00m \u001b[38;5;28;01melse\u001b[39;00m allow_redirects\n\u001b[1;32m--> 228\u001b[0m \u001b[38;5;28;01mreturn\u001b[39;00m session\u001b[38;5;241m.\u001b[39mrequest(method, url, allow_redirects\u001b[38;5;241m=\u001b[39mallow_redirects, \u001b[38;5;241m*\u001b[39m\u001b[38;5;241m*\u001b[39mkwargs)\n",
      "File \u001b[1;32me:\\Mes Documents\\_Open Classroom\\Code\\p7\\p7env\\lib\\site-packages\\requests\\sessions.py:589\u001b[0m, in \u001b[0;36mSession.request\u001b[1;34m(self, method, url, params, data, headers, cookies, files, auth, timeout, allow_redirects, proxies, hooks, stream, verify, cert, json)\u001b[0m\n\u001b[0;32m    588\u001b[0m send_kwargs\u001b[38;5;241m.\u001b[39mupdate(settings)\n\u001b[1;32m--> 589\u001b[0m resp \u001b[38;5;241m=\u001b[39m \u001b[38;5;28mself\u001b[39m\u001b[38;5;241m.\u001b[39msend(prep, \u001b[38;5;241m*\u001b[39m\u001b[38;5;241m*\u001b[39msend_kwargs)\n\u001b[0;32m    591\u001b[0m \u001b[38;5;28;01mreturn\u001b[39;00m resp\n",
      "File \u001b[1;32me:\\Mes Documents\\_Open Classroom\\Code\\p7\\p7env\\lib\\site-packages\\requests\\sessions.py:703\u001b[0m, in \u001b[0;36mSession.send\u001b[1;34m(self, request, **kwargs)\u001b[0m\n\u001b[0;32m    702\u001b[0m \u001b[38;5;66;03m# Send the request\u001b[39;00m\n\u001b[1;32m--> 703\u001b[0m r \u001b[38;5;241m=\u001b[39m adapter\u001b[38;5;241m.\u001b[39msend(request, \u001b[38;5;241m*\u001b[39m\u001b[38;5;241m*\u001b[39mkwargs)\n\u001b[0;32m    705\u001b[0m \u001b[38;5;66;03m# Total elapsed time of the request (approximately)\u001b[39;00m\n",
      "File \u001b[1;32me:\\Mes Documents\\_Open Classroom\\Code\\p7\\p7env\\lib\\site-packages\\requests\\adapters.py:510\u001b[0m, in \u001b[0;36mHTTPAdapter.send\u001b[1;34m(self, request, stream, timeout, verify, cert, proxies)\u001b[0m\n\u001b[0;32m    509\u001b[0m \u001b[38;5;28;01mif\u001b[39;00m \u001b[38;5;28misinstance\u001b[39m(e\u001b[38;5;241m.\u001b[39mreason, ResponseError):\n\u001b[1;32m--> 510\u001b[0m     \u001b[38;5;28;01mraise\u001b[39;00m RetryError(e, request\u001b[38;5;241m=\u001b[39mrequest)\n\u001b[0;32m    512\u001b[0m \u001b[38;5;28;01mif\u001b[39;00m \u001b[38;5;28misinstance\u001b[39m(e\u001b[38;5;241m.\u001b[39mreason, _ProxyError):\n",
      "\u001b[1;31mRetryError\u001b[0m: HTTPConnectionPool(host='127.0.0.1', port=8080): Max retries exceeded with url: /api/2.0/mlflow/runs/log-batch (Caused by ResponseError('too many 500 error responses'))",
      "\nDuring handling of the above exception, another exception occurred:\n",
      "\u001b[1;31mMlflowException\u001b[0m                           Traceback (most recent call last)",
      "Cell \u001b[1;32mIn[26], line 1\u001b[0m\n\u001b[1;32m----> 1\u001b[0m study \u001b[38;5;241m=\u001b[39m \u001b[43mlgbm_single_search\u001b[49m\u001b[43m(\u001b[49m\u001b[43mtrain\u001b[49m\u001b[43m[\u001b[49m\u001b[43mpredictors\u001b[49m\u001b[43m \u001b[49m\u001b[38;5;241;43m+\u001b[39;49m\u001b[43m \u001b[49m\u001b[43m[\u001b[49m\u001b[38;5;124;43m'\u001b[39;49m\u001b[38;5;124;43mTARGET\u001b[39;49m\u001b[38;5;124;43m'\u001b[39;49m\u001b[43m]\u001b[49m\u001b[43m]\u001b[49m\u001b[43m,\u001b[49m\u001b[43m \u001b[49m\u001b[43mconfig\u001b[49m\u001b[38;5;241;43m=\u001b[39;49m\u001b[43mconfig\u001b[49m\u001b[43m)\u001b[49m\n",
      "File \u001b[1;32me:\\Mes Documents\\_Open Classroom\\Code\\p7\\src\\p7_hyper_param.py:395\u001b[0m, in \u001b[0;36mlgbm_single_search\u001b[1;34m(data, experiment_name, config)\u001b[0m\n\u001b[0;32m    386\u001b[0m study \u001b[38;5;241m=\u001b[39m optuna\u001b[38;5;241m.\u001b[39mcreate_study(\n\u001b[0;32m    387\u001b[0m     direction\u001b[38;5;241m=\u001b[39m\u001b[38;5;124m\"\u001b[39m\u001b[38;5;124mmaximize\u001b[39m\u001b[38;5;124m\"\u001b[39m,\n\u001b[0;32m    388\u001b[0m     sampler\u001b[38;5;241m=\u001b[39msampler,\n\u001b[1;32m   (...)\u001b[0m\n\u001b[0;32m    391\u001b[0m     \u001b[38;5;66;03m# storage=os.path.join(MODEL_DIR, subdir)\u001b[39;00m\n\u001b[0;32m    392\u001b[0m )\n\u001b[0;32m    394\u001b[0m \u001b[38;5;66;03m# gc appelle le garbage collector après chaque trial\u001b[39;00m\n\u001b[1;32m--> 395\u001b[0m \u001b[43mstudy\u001b[49m\u001b[38;5;241;43m.\u001b[39;49m\u001b[43moptimize\u001b[49m\u001b[43m(\u001b[49m\n\u001b[0;32m    396\u001b[0m \u001b[43m    \u001b[49m\u001b[43mlgbm_single_objective\u001b[49m\u001b[43m(\u001b[49m\n\u001b[0;32m    397\u001b[0m \u001b[43m        \u001b[49m\u001b[43mdata\u001b[49m\u001b[38;5;241;43m=\u001b[39;49m\u001b[43mdata\u001b[49m\u001b[43m,\u001b[49m\u001b[43m \u001b[49m\u001b[43moptimize_boosting_type\u001b[49m\u001b[38;5;241;43m=\u001b[39;49m\u001b[38;5;28;43;01mTrue\u001b[39;49;00m\u001b[43m,\u001b[49m\u001b[43m \u001b[49m\u001b[43mconfig\u001b[49m\u001b[38;5;241;43m=\u001b[39;49m\u001b[43mconfig\u001b[49m\n\u001b[0;32m    398\u001b[0m \u001b[43m    \u001b[49m\u001b[43m)\u001b[49m\u001b[43m,\u001b[49m\n\u001b[0;32m    399\u001b[0m \u001b[43m    \u001b[49m\u001b[43mn_trials\u001b[49m\u001b[38;5;241;43m=\u001b[39;49m\u001b[43mconfig\u001b[49m\u001b[43m[\u001b[49m\u001b[38;5;124;43m\"\u001b[39;49m\u001b[38;5;124;43mn_trials\u001b[39;49m\u001b[38;5;124;43m\"\u001b[39;49m\u001b[43m]\u001b[49m\u001b[43m,\u001b[49m\n\u001b[0;32m    400\u001b[0m \u001b[43m    \u001b[49m\u001b[43mgc_after_trial\u001b[49m\u001b[38;5;241;43m=\u001b[39;49m\u001b[38;5;28;43;01mTrue\u001b[39;49;00m\u001b[43m,\u001b[49m\n\u001b[0;32m    401\u001b[0m \u001b[43m    \u001b[49m\u001b[43mn_jobs\u001b[49m\u001b[38;5;241;43m=\u001b[39;49m\u001b[38;5;241;43m-\u001b[39;49m\u001b[38;5;241;43m1\u001b[39;49m\u001b[43m,\u001b[49m\n\u001b[0;32m    402\u001b[0m \u001b[43m\u001b[49m\u001b[43m)\u001b[49m\n\u001b[0;32m    404\u001b[0m best_params \u001b[38;5;241m=\u001b[39m study\u001b[38;5;241m.\u001b[39mbest_trial\u001b[38;5;241m.\u001b[39mparams\n\u001b[0;32m    405\u001b[0m best_score \u001b[38;5;241m=\u001b[39m study\u001b[38;5;241m.\u001b[39mbest_trial\u001b[38;5;241m.\u001b[39mvalue\n",
      "File \u001b[1;32me:\\Mes Documents\\_Open Classroom\\Code\\p7\\p7env\\lib\\site-packages\\optuna\\study\\study.py:451\u001b[0m, in \u001b[0;36mStudy.optimize\u001b[1;34m(self, func, n_trials, timeout, n_jobs, catch, callbacks, gc_after_trial, show_progress_bar)\u001b[0m\n\u001b[0;32m    348\u001b[0m \u001b[38;5;28;01mdef\u001b[39;00m \u001b[38;5;21moptimize\u001b[39m(\n\u001b[0;32m    349\u001b[0m     \u001b[38;5;28mself\u001b[39m,\n\u001b[0;32m    350\u001b[0m     func: ObjectiveFuncType,\n\u001b[1;32m   (...)\u001b[0m\n\u001b[0;32m    357\u001b[0m     show_progress_bar: \u001b[38;5;28mbool\u001b[39m \u001b[38;5;241m=\u001b[39m \u001b[38;5;28;01mFalse\u001b[39;00m,\n\u001b[0;32m    358\u001b[0m ) \u001b[38;5;241m-\u001b[39m\u001b[38;5;241m>\u001b[39m \u001b[38;5;28;01mNone\u001b[39;00m:\n\u001b[0;32m    359\u001b[0m \u001b[38;5;250m    \u001b[39m\u001b[38;5;124;03m\"\"\"Optimize an objective function.\u001b[39;00m\n\u001b[0;32m    360\u001b[0m \n\u001b[0;32m    361\u001b[0m \u001b[38;5;124;03m    Optimization is done by choosing a suitable set of hyperparameter values from a given\u001b[39;00m\n\u001b[1;32m   (...)\u001b[0m\n\u001b[0;32m    449\u001b[0m \u001b[38;5;124;03m            If nested invocation of this method occurs.\u001b[39;00m\n\u001b[0;32m    450\u001b[0m \u001b[38;5;124;03m    \"\"\"\u001b[39;00m\n\u001b[1;32m--> 451\u001b[0m     \u001b[43m_optimize\u001b[49m\u001b[43m(\u001b[49m\n\u001b[0;32m    452\u001b[0m \u001b[43m        \u001b[49m\u001b[43mstudy\u001b[49m\u001b[38;5;241;43m=\u001b[39;49m\u001b[38;5;28;43mself\u001b[39;49m\u001b[43m,\u001b[49m\n\u001b[0;32m    453\u001b[0m \u001b[43m        \u001b[49m\u001b[43mfunc\u001b[49m\u001b[38;5;241;43m=\u001b[39;49m\u001b[43mfunc\u001b[49m\u001b[43m,\u001b[49m\n\u001b[0;32m    454\u001b[0m \u001b[43m        \u001b[49m\u001b[43mn_trials\u001b[49m\u001b[38;5;241;43m=\u001b[39;49m\u001b[43mn_trials\u001b[49m\u001b[43m,\u001b[49m\n\u001b[0;32m    455\u001b[0m \u001b[43m        \u001b[49m\u001b[43mtimeout\u001b[49m\u001b[38;5;241;43m=\u001b[39;49m\u001b[43mtimeout\u001b[49m\u001b[43m,\u001b[49m\n\u001b[0;32m    456\u001b[0m \u001b[43m        \u001b[49m\u001b[43mn_jobs\u001b[49m\u001b[38;5;241;43m=\u001b[39;49m\u001b[43mn_jobs\u001b[49m\u001b[43m,\u001b[49m\n\u001b[0;32m    457\u001b[0m \u001b[43m        \u001b[49m\u001b[43mcatch\u001b[49m\u001b[38;5;241;43m=\u001b[39;49m\u001b[38;5;28;43mtuple\u001b[39;49m\u001b[43m(\u001b[49m\u001b[43mcatch\u001b[49m\u001b[43m)\u001b[49m\u001b[43m \u001b[49m\u001b[38;5;28;43;01mif\u001b[39;49;00m\u001b[43m \u001b[49m\u001b[38;5;28;43misinstance\u001b[39;49m\u001b[43m(\u001b[49m\u001b[43mcatch\u001b[49m\u001b[43m,\u001b[49m\u001b[43m \u001b[49m\u001b[43mIterable\u001b[49m\u001b[43m)\u001b[49m\u001b[43m \u001b[49m\u001b[38;5;28;43;01melse\u001b[39;49;00m\u001b[43m \u001b[49m\u001b[43m(\u001b[49m\u001b[43mcatch\u001b[49m\u001b[43m,\u001b[49m\u001b[43m)\u001b[49m\u001b[43m,\u001b[49m\n\u001b[0;32m    458\u001b[0m \u001b[43m        \u001b[49m\u001b[43mcallbacks\u001b[49m\u001b[38;5;241;43m=\u001b[39;49m\u001b[43mcallbacks\u001b[49m\u001b[43m,\u001b[49m\n\u001b[0;32m    459\u001b[0m \u001b[43m        \u001b[49m\u001b[43mgc_after_trial\u001b[49m\u001b[38;5;241;43m=\u001b[39;49m\u001b[43mgc_after_trial\u001b[49m\u001b[43m,\u001b[49m\n\u001b[0;32m    460\u001b[0m \u001b[43m        \u001b[49m\u001b[43mshow_progress_bar\u001b[49m\u001b[38;5;241;43m=\u001b[39;49m\u001b[43mshow_progress_bar\u001b[49m\u001b[43m,\u001b[49m\n\u001b[0;32m    461\u001b[0m \u001b[43m    \u001b[49m\u001b[43m)\u001b[49m\n",
      "File \u001b[1;32me:\\Mes Documents\\_Open Classroom\\Code\\p7\\p7env\\lib\\site-packages\\optuna\\study\\_optimize.py:99\u001b[0m, in \u001b[0;36m_optimize\u001b[1;34m(study, func, n_trials, timeout, n_jobs, catch, callbacks, gc_after_trial, show_progress_bar)\u001b[0m\n\u001b[0;32m     97\u001b[0m                     \u001b[38;5;66;03m# Raise if exception occurred in executing the completed futures.\u001b[39;00m\n\u001b[0;32m     98\u001b[0m                     \u001b[38;5;28;01mfor\u001b[39;00m f \u001b[38;5;129;01min\u001b[39;00m completed:\n\u001b[1;32m---> 99\u001b[0m                         \u001b[43mf\u001b[49m\u001b[38;5;241;43m.\u001b[39;49m\u001b[43mresult\u001b[49m\u001b[43m(\u001b[49m\u001b[43m)\u001b[49m\n\u001b[0;32m    101\u001b[0m                 futures\u001b[38;5;241m.\u001b[39madd(\n\u001b[0;32m    102\u001b[0m                     executor\u001b[38;5;241m.\u001b[39msubmit(\n\u001b[0;32m    103\u001b[0m                         _optimize_sequential,\n\u001b[1;32m   (...)\u001b[0m\n\u001b[0;32m    114\u001b[0m                     )\n\u001b[0;32m    115\u001b[0m                 )\n\u001b[0;32m    116\u001b[0m \u001b[38;5;28;01mfinally\u001b[39;00m:\n",
      "File \u001b[1;32mE:\\Program Files\\Python310\\lib\\concurrent\\futures\\_base.py:451\u001b[0m, in \u001b[0;36mFuture.result\u001b[1;34m(self, timeout)\u001b[0m\n\u001b[0;32m    449\u001b[0m     \u001b[38;5;28;01mraise\u001b[39;00m CancelledError()\n\u001b[0;32m    450\u001b[0m \u001b[38;5;28;01melif\u001b[39;00m \u001b[38;5;28mself\u001b[39m\u001b[38;5;241m.\u001b[39m_state \u001b[38;5;241m==\u001b[39m FINISHED:\n\u001b[1;32m--> 451\u001b[0m     \u001b[38;5;28;01mreturn\u001b[39;00m \u001b[38;5;28;43mself\u001b[39;49m\u001b[38;5;241;43m.\u001b[39;49m\u001b[43m__get_result\u001b[49m\u001b[43m(\u001b[49m\u001b[43m)\u001b[49m\n\u001b[0;32m    453\u001b[0m \u001b[38;5;28mself\u001b[39m\u001b[38;5;241m.\u001b[39m_condition\u001b[38;5;241m.\u001b[39mwait(timeout)\n\u001b[0;32m    455\u001b[0m \u001b[38;5;28;01mif\u001b[39;00m \u001b[38;5;28mself\u001b[39m\u001b[38;5;241m.\u001b[39m_state \u001b[38;5;129;01min\u001b[39;00m [CANCELLED, CANCELLED_AND_NOTIFIED]:\n",
      "File \u001b[1;32mE:\\Program Files\\Python310\\lib\\concurrent\\futures\\_base.py:403\u001b[0m, in \u001b[0;36mFuture.__get_result\u001b[1;34m(self)\u001b[0m\n\u001b[0;32m    401\u001b[0m \u001b[38;5;28;01mif\u001b[39;00m \u001b[38;5;28mself\u001b[39m\u001b[38;5;241m.\u001b[39m_exception:\n\u001b[0;32m    402\u001b[0m     \u001b[38;5;28;01mtry\u001b[39;00m:\n\u001b[1;32m--> 403\u001b[0m         \u001b[38;5;28;01mraise\u001b[39;00m \u001b[38;5;28mself\u001b[39m\u001b[38;5;241m.\u001b[39m_exception\n\u001b[0;32m    404\u001b[0m     \u001b[38;5;28;01mfinally\u001b[39;00m:\n\u001b[0;32m    405\u001b[0m         \u001b[38;5;66;03m# Break a reference cycle with the exception in self._exception\u001b[39;00m\n\u001b[0;32m    406\u001b[0m         \u001b[38;5;28mself\u001b[39m \u001b[38;5;241m=\u001b[39m \u001b[38;5;28;01mNone\u001b[39;00m\n",
      "File \u001b[1;32mE:\\Program Files\\Python310\\lib\\concurrent\\futures\\thread.py:58\u001b[0m, in \u001b[0;36m_WorkItem.run\u001b[1;34m(self)\u001b[0m\n\u001b[0;32m     55\u001b[0m     \u001b[38;5;28;01mreturn\u001b[39;00m\n\u001b[0;32m     57\u001b[0m \u001b[38;5;28;01mtry\u001b[39;00m:\n\u001b[1;32m---> 58\u001b[0m     result \u001b[38;5;241m=\u001b[39m \u001b[38;5;28mself\u001b[39m\u001b[38;5;241m.\u001b[39mfn(\u001b[38;5;241m*\u001b[39m\u001b[38;5;28mself\u001b[39m\u001b[38;5;241m.\u001b[39margs, \u001b[38;5;241m*\u001b[39m\u001b[38;5;241m*\u001b[39m\u001b[38;5;28mself\u001b[39m\u001b[38;5;241m.\u001b[39mkwargs)\n\u001b[0;32m     59\u001b[0m \u001b[38;5;28;01mexcept\u001b[39;00m \u001b[38;5;167;01mBaseException\u001b[39;00m \u001b[38;5;28;01mas\u001b[39;00m exc:\n\u001b[0;32m     60\u001b[0m     \u001b[38;5;28mself\u001b[39m\u001b[38;5;241m.\u001b[39mfuture\u001b[38;5;241m.\u001b[39mset_exception(exc)\n",
      "File \u001b[1;32me:\\Mes Documents\\_Open Classroom\\Code\\p7\\p7env\\lib\\site-packages\\optuna\\study\\_optimize.py:159\u001b[0m, in \u001b[0;36m_optimize_sequential\u001b[1;34m(study, func, n_trials, timeout, catch, callbacks, gc_after_trial, reseed_sampler_rng, time_start, progress_bar)\u001b[0m\n\u001b[0;32m    156\u001b[0m         \u001b[38;5;28;01mbreak\u001b[39;00m\n\u001b[0;32m    158\u001b[0m \u001b[38;5;28;01mtry\u001b[39;00m:\n\u001b[1;32m--> 159\u001b[0m     frozen_trial \u001b[38;5;241m=\u001b[39m \u001b[43m_run_trial\u001b[49m\u001b[43m(\u001b[49m\u001b[43mstudy\u001b[49m\u001b[43m,\u001b[49m\u001b[43m \u001b[49m\u001b[43mfunc\u001b[49m\u001b[43m,\u001b[49m\u001b[43m \u001b[49m\u001b[43mcatch\u001b[49m\u001b[43m)\u001b[49m\n\u001b[0;32m    160\u001b[0m \u001b[38;5;28;01mfinally\u001b[39;00m:\n\u001b[0;32m    161\u001b[0m     \u001b[38;5;66;03m# The following line mitigates memory problems that can be occurred in some\u001b[39;00m\n\u001b[0;32m    162\u001b[0m     \u001b[38;5;66;03m# environments (e.g., services that use computing containers such as GitHub Actions).\u001b[39;00m\n\u001b[0;32m    163\u001b[0m     \u001b[38;5;66;03m# Please refer to the following PR for further details:\u001b[39;00m\n\u001b[0;32m    164\u001b[0m     \u001b[38;5;66;03m# https://github.com/optuna/optuna/pull/325.\u001b[39;00m\n\u001b[0;32m    165\u001b[0m     \u001b[38;5;28;01mif\u001b[39;00m gc_after_trial:\n",
      "File \u001b[1;32me:\\Mes Documents\\_Open Classroom\\Code\\p7\\p7env\\lib\\site-packages\\optuna\\study\\_optimize.py:247\u001b[0m, in \u001b[0;36m_run_trial\u001b[1;34m(study, func, catch)\u001b[0m\n\u001b[0;32m    240\u001b[0m         \u001b[38;5;28;01massert\u001b[39;00m \u001b[38;5;28;01mFalse\u001b[39;00m, \u001b[38;5;124m\"\u001b[39m\u001b[38;5;124mShould not reach.\u001b[39m\u001b[38;5;124m\"\u001b[39m\n\u001b[0;32m    242\u001b[0m \u001b[38;5;28;01mif\u001b[39;00m (\n\u001b[0;32m    243\u001b[0m     frozen_trial\u001b[38;5;241m.\u001b[39mstate \u001b[38;5;241m==\u001b[39m TrialState\u001b[38;5;241m.\u001b[39mFAIL\n\u001b[0;32m    244\u001b[0m     \u001b[38;5;129;01mand\u001b[39;00m func_err \u001b[38;5;129;01mis\u001b[39;00m \u001b[38;5;129;01mnot\u001b[39;00m \u001b[38;5;28;01mNone\u001b[39;00m\n\u001b[0;32m    245\u001b[0m     \u001b[38;5;129;01mand\u001b[39;00m \u001b[38;5;129;01mnot\u001b[39;00m \u001b[38;5;28misinstance\u001b[39m(func_err, catch)\n\u001b[0;32m    246\u001b[0m ):\n\u001b[1;32m--> 247\u001b[0m     \u001b[38;5;28;01mraise\u001b[39;00m func_err\n\u001b[0;32m    248\u001b[0m \u001b[38;5;28;01mreturn\u001b[39;00m frozen_trial\n",
      "File \u001b[1;32me:\\Mes Documents\\_Open Classroom\\Code\\p7\\p7env\\lib\\site-packages\\optuna\\study\\_optimize.py:196\u001b[0m, in \u001b[0;36m_run_trial\u001b[1;34m(study, func, catch)\u001b[0m\n\u001b[0;32m    194\u001b[0m \u001b[38;5;28;01mwith\u001b[39;00m get_heartbeat_thread(trial\u001b[38;5;241m.\u001b[39m_trial_id, study\u001b[38;5;241m.\u001b[39m_storage):\n\u001b[0;32m    195\u001b[0m     \u001b[38;5;28;01mtry\u001b[39;00m:\n\u001b[1;32m--> 196\u001b[0m         value_or_values \u001b[38;5;241m=\u001b[39m \u001b[43mfunc\u001b[49m\u001b[43m(\u001b[49m\u001b[43mtrial\u001b[49m\u001b[43m)\u001b[49m\n\u001b[0;32m    197\u001b[0m     \u001b[38;5;28;01mexcept\u001b[39;00m exceptions\u001b[38;5;241m.\u001b[39mTrialPruned \u001b[38;5;28;01mas\u001b[39;00m e:\n\u001b[0;32m    198\u001b[0m         \u001b[38;5;66;03m# TODO(mamu): Handle multi-objective cases.\u001b[39;00m\n\u001b[0;32m    199\u001b[0m         state \u001b[38;5;241m=\u001b[39m TrialState\u001b[38;5;241m.\u001b[39mPRUNED\n",
      "File \u001b[1;32me:\\Mes Documents\\_Open Classroom\\Code\\p7\\src\\p7_hyper_param.py:235\u001b[0m, in \u001b[0;36mlgbm_single_objective.<locals>._objective\u001b[1;34m(trial)\u001b[0m\n\u001b[0;32m    233\u001b[0m     mlflow\u001b[38;5;241m.\u001b[39mlog_metric(\u001b[38;5;124m\"\u001b[39m\u001b[38;5;124mf1_score\u001b[39m\u001b[38;5;124m\"\u001b[39m, mean_f1_scores)\n\u001b[0;32m    234\u001b[0m     mlflow\u001b[38;5;241m.\u001b[39mlog_metric(\u001b[38;5;124m\"\u001b[39m\u001b[38;5;124mweighted_recall\u001b[39m\u001b[38;5;124m\"\u001b[39m, mean_weighted_recall_scores)\n\u001b[1;32m--> 235\u001b[0m     \u001b[43mmlflow\u001b[49m\u001b[38;5;241;43m.\u001b[39;49m\u001b[43mlog_params\u001b[49m\u001b[43m(\u001b[49m\u001b[43mhyperparams\u001b[49m\u001b[43m)\u001b[49m\n\u001b[0;32m    236\u001b[0m \u001b[38;5;28;01mreturn\u001b[39;00m mean_weighted_recall_scores\n",
      "File \u001b[1;32me:\\Mes Documents\\_Open Classroom\\Code\\p7\\p7env\\lib\\site-packages\\mlflow\\tracking\\fluent.py:911\u001b[0m, in \u001b[0;36mlog_params\u001b[1;34m(params, synchronous)\u001b[0m\n\u001b[0;32m    909\u001b[0m params_arr \u001b[38;5;241m=\u001b[39m [Param(key, \u001b[38;5;28mstr\u001b[39m(value)) \u001b[38;5;28;01mfor\u001b[39;00m key, value \u001b[38;5;129;01min\u001b[39;00m params\u001b[38;5;241m.\u001b[39mitems()]\n\u001b[0;32m    910\u001b[0m synchronous \u001b[38;5;241m=\u001b[39m synchronous \u001b[38;5;28;01mif\u001b[39;00m synchronous \u001b[38;5;129;01mis\u001b[39;00m \u001b[38;5;129;01mnot\u001b[39;00m \u001b[38;5;28;01mNone\u001b[39;00m \u001b[38;5;28;01melse\u001b[39;00m \u001b[38;5;129;01mnot\u001b[39;00m MLFLOW_ENABLE_ASYNC_LOGGING\u001b[38;5;241m.\u001b[39mget()\n\u001b[1;32m--> 911\u001b[0m \u001b[38;5;28;01mreturn\u001b[39;00m \u001b[43mMlflowClient\u001b[49m\u001b[43m(\u001b[49m\u001b[43m)\u001b[49m\u001b[38;5;241;43m.\u001b[39;49m\u001b[43mlog_batch\u001b[49m\u001b[43m(\u001b[49m\n\u001b[0;32m    912\u001b[0m \u001b[43m    \u001b[49m\u001b[43mrun_id\u001b[49m\u001b[38;5;241;43m=\u001b[39;49m\u001b[43mrun_id\u001b[49m\u001b[43m,\u001b[49m\u001b[43m \u001b[49m\u001b[43mmetrics\u001b[49m\u001b[38;5;241;43m=\u001b[39;49m\u001b[43m[\u001b[49m\u001b[43m]\u001b[49m\u001b[43m,\u001b[49m\u001b[43m \u001b[49m\u001b[43mparams\u001b[49m\u001b[38;5;241;43m=\u001b[39;49m\u001b[43mparams_arr\u001b[49m\u001b[43m,\u001b[49m\u001b[43m \u001b[49m\u001b[43mtags\u001b[49m\u001b[38;5;241;43m=\u001b[39;49m\u001b[43m[\u001b[49m\u001b[43m]\u001b[49m\u001b[43m,\u001b[49m\u001b[43m \u001b[49m\u001b[43msynchronous\u001b[49m\u001b[38;5;241;43m=\u001b[39;49m\u001b[43msynchronous\u001b[49m\n\u001b[0;32m    913\u001b[0m \u001b[43m\u001b[49m\u001b[43m)\u001b[49m\n",
      "File \u001b[1;32me:\\Mes Documents\\_Open Classroom\\Code\\p7\\p7env\\lib\\site-packages\\mlflow\\tracking\\client.py:1134\u001b[0m, in \u001b[0;36mMlflowClient.log_batch\u001b[1;34m(self, run_id, metrics, params, tags, synchronous)\u001b[0m\n\u001b[0;32m   1061\u001b[0m \u001b[38;5;28;01mdef\u001b[39;00m \u001b[38;5;21mlog_batch\u001b[39m(\n\u001b[0;32m   1062\u001b[0m     \u001b[38;5;28mself\u001b[39m,\n\u001b[0;32m   1063\u001b[0m     run_id: \u001b[38;5;28mstr\u001b[39m,\n\u001b[1;32m   (...)\u001b[0m\n\u001b[0;32m   1067\u001b[0m     synchronous: \u001b[38;5;28mbool\u001b[39m \u001b[38;5;241m=\u001b[39m \u001b[38;5;28;01mTrue\u001b[39;00m,\n\u001b[0;32m   1068\u001b[0m ) \u001b[38;5;241m-\u001b[39m\u001b[38;5;241m>\u001b[39m Optional[RunOperations]:\n\u001b[0;32m   1069\u001b[0m \u001b[38;5;250m    \u001b[39m\u001b[38;5;124;03m\"\"\"\u001b[39;00m\n\u001b[0;32m   1070\u001b[0m \u001b[38;5;124;03m    Log multiple metrics, params, and/or tags.\u001b[39;00m\n\u001b[0;32m   1071\u001b[0m \n\u001b[1;32m   (...)\u001b[0m\n\u001b[0;32m   1132\u001b[0m \n\u001b[0;32m   1133\u001b[0m \u001b[38;5;124;03m    \"\"\"\u001b[39;00m\n\u001b[1;32m-> 1134\u001b[0m     \u001b[38;5;28;01mreturn\u001b[39;00m \u001b[38;5;28;43mself\u001b[39;49m\u001b[38;5;241;43m.\u001b[39;49m\u001b[43m_tracking_client\u001b[49m\u001b[38;5;241;43m.\u001b[39;49m\u001b[43mlog_batch\u001b[49m\u001b[43m(\u001b[49m\n\u001b[0;32m   1135\u001b[0m \u001b[43m        \u001b[49m\u001b[43mrun_id\u001b[49m\u001b[43m,\u001b[49m\u001b[43m \u001b[49m\u001b[43mmetrics\u001b[49m\u001b[43m,\u001b[49m\u001b[43m \u001b[49m\u001b[43mparams\u001b[49m\u001b[43m,\u001b[49m\u001b[43m \u001b[49m\u001b[43mtags\u001b[49m\u001b[43m,\u001b[49m\u001b[43m \u001b[49m\u001b[43msynchronous\u001b[49m\u001b[38;5;241;43m=\u001b[39;49m\u001b[43msynchronous\u001b[49m\n\u001b[0;32m   1136\u001b[0m \u001b[43m    \u001b[49m\u001b[43m)\u001b[49m\n",
      "File \u001b[1;32me:\\Mes Documents\\_Open Classroom\\Code\\p7\\p7env\\lib\\site-packages\\mlflow\\tracking\\_tracking_service\\client.py:471\u001b[0m, in \u001b[0;36mTrackingServiceClient.log_batch\u001b[1;34m(self, run_id, metrics, params, tags, synchronous)\u001b[0m\n\u001b[0;32m    468\u001b[0m metrics \u001b[38;5;241m=\u001b[39m metrics[metrics_batch_size:]\n\u001b[0;32m    470\u001b[0m \u001b[38;5;28;01mif\u001b[39;00m synchronous:\n\u001b[1;32m--> 471\u001b[0m     \u001b[38;5;28;43mself\u001b[39;49m\u001b[38;5;241;43m.\u001b[39;49m\u001b[43mstore\u001b[49m\u001b[38;5;241;43m.\u001b[39;49m\u001b[43mlog_batch\u001b[49m\u001b[43m(\u001b[49m\n\u001b[0;32m    472\u001b[0m \u001b[43m        \u001b[49m\u001b[43mrun_id\u001b[49m\u001b[38;5;241;43m=\u001b[39;49m\u001b[43mrun_id\u001b[49m\u001b[43m,\u001b[49m\u001b[43m \u001b[49m\u001b[43mmetrics\u001b[49m\u001b[38;5;241;43m=\u001b[39;49m\u001b[43mmetrics_batch\u001b[49m\u001b[43m,\u001b[49m\u001b[43m \u001b[49m\u001b[43mparams\u001b[49m\u001b[38;5;241;43m=\u001b[39;49m\u001b[43mparams_batch\u001b[49m\u001b[43m,\u001b[49m\u001b[43m \u001b[49m\u001b[43mtags\u001b[49m\u001b[38;5;241;43m=\u001b[39;49m\u001b[43mtags_batch\u001b[49m\n\u001b[0;32m    473\u001b[0m \u001b[43m    \u001b[49m\u001b[43m)\u001b[49m\n\u001b[0;32m    474\u001b[0m \u001b[38;5;28;01melse\u001b[39;00m:\n\u001b[0;32m    475\u001b[0m     run_operations_list\u001b[38;5;241m.\u001b[39mappend(\n\u001b[0;32m    476\u001b[0m         \u001b[38;5;28mself\u001b[39m\u001b[38;5;241m.\u001b[39mstore\u001b[38;5;241m.\u001b[39mlog_batch_async(\n\u001b[0;32m    477\u001b[0m             run_id\u001b[38;5;241m=\u001b[39mrun_id,\n\u001b[1;32m   (...)\u001b[0m\n\u001b[0;32m    481\u001b[0m         )\n\u001b[0;32m    482\u001b[0m     )\n",
      "File \u001b[1;32me:\\Mes Documents\\_Open Classroom\\Code\\p7\\p7env\\lib\\site-packages\\mlflow\\store\\tracking\\rest_store.py:340\u001b[0m, in \u001b[0;36mRestStore.log_batch\u001b[1;34m(self, run_id, metrics, params, tags)\u001b[0m\n\u001b[0;32m    336\u001b[0m tag_protos \u001b[38;5;241m=\u001b[39m [tag\u001b[38;5;241m.\u001b[39mto_proto() \u001b[38;5;28;01mfor\u001b[39;00m tag \u001b[38;5;129;01min\u001b[39;00m tags]\n\u001b[0;32m    337\u001b[0m req_body \u001b[38;5;241m=\u001b[39m message_to_json(\n\u001b[0;32m    338\u001b[0m     LogBatch(metrics\u001b[38;5;241m=\u001b[39mmetric_protos, params\u001b[38;5;241m=\u001b[39mparam_protos, tags\u001b[38;5;241m=\u001b[39mtag_protos, run_id\u001b[38;5;241m=\u001b[39mrun_id)\n\u001b[0;32m    339\u001b[0m )\n\u001b[1;32m--> 340\u001b[0m \u001b[38;5;28;43mself\u001b[39;49m\u001b[38;5;241;43m.\u001b[39;49m\u001b[43m_call_endpoint\u001b[49m\u001b[43m(\u001b[49m\u001b[43mLogBatch\u001b[49m\u001b[43m,\u001b[49m\u001b[43m \u001b[49m\u001b[43mreq_body\u001b[49m\u001b[43m)\u001b[49m\n",
      "File \u001b[1;32me:\\Mes Documents\\_Open Classroom\\Code\\p7\\p7env\\lib\\site-packages\\mlflow\\store\\tracking\\rest_store.py:60\u001b[0m, in \u001b[0;36mRestStore._call_endpoint\u001b[1;34m(self, api, json_body)\u001b[0m\n\u001b[0;32m     58\u001b[0m endpoint, method \u001b[38;5;241m=\u001b[39m _METHOD_TO_INFO[api]\n\u001b[0;32m     59\u001b[0m response_proto \u001b[38;5;241m=\u001b[39m api\u001b[38;5;241m.\u001b[39mResponse()\n\u001b[1;32m---> 60\u001b[0m \u001b[38;5;28;01mreturn\u001b[39;00m \u001b[43mcall_endpoint\u001b[49m\u001b[43m(\u001b[49m\u001b[38;5;28;43mself\u001b[39;49m\u001b[38;5;241;43m.\u001b[39;49m\u001b[43mget_host_creds\u001b[49m\u001b[43m(\u001b[49m\u001b[43m)\u001b[49m\u001b[43m,\u001b[49m\u001b[43m \u001b[49m\u001b[43mendpoint\u001b[49m\u001b[43m,\u001b[49m\u001b[43m \u001b[49m\u001b[43mmethod\u001b[49m\u001b[43m,\u001b[49m\u001b[43m \u001b[49m\u001b[43mjson_body\u001b[49m\u001b[43m,\u001b[49m\u001b[43m \u001b[49m\u001b[43mresponse_proto\u001b[49m\u001b[43m)\u001b[49m\n",
      "File \u001b[1;32me:\\Mes Documents\\_Open Classroom\\Code\\p7\\p7env\\lib\\site-packages\\mlflow\\utils\\rest_utils.py:289\u001b[0m, in \u001b[0;36mcall_endpoint\u001b[1;34m(host_creds, endpoint, method, json_body, response_proto, extra_headers)\u001b[0m\n\u001b[0;32m    287\u001b[0m \u001b[38;5;28;01melse\u001b[39;00m:\n\u001b[0;32m    288\u001b[0m     call_kwargs[\u001b[38;5;124m\"\u001b[39m\u001b[38;5;124mjson\u001b[39m\u001b[38;5;124m\"\u001b[39m] \u001b[38;5;241m=\u001b[39m json_body\n\u001b[1;32m--> 289\u001b[0m     response \u001b[38;5;241m=\u001b[39m http_request(\u001b[38;5;241m*\u001b[39m\u001b[38;5;241m*\u001b[39mcall_kwargs)\n\u001b[0;32m    290\u001b[0m response \u001b[38;5;241m=\u001b[39m verify_rest_response(response, endpoint)\n\u001b[0;32m    291\u001b[0m js_dict \u001b[38;5;241m=\u001b[39m json\u001b[38;5;241m.\u001b[39mloads(response\u001b[38;5;241m.\u001b[39mtext)\n",
      "File \u001b[1;32me:\\Mes Documents\\_Open Classroom\\Code\\p7\\p7env\\lib\\site-packages\\mlflow\\utils\\rest_utils.py:151\u001b[0m, in \u001b[0;36mhttp_request\u001b[1;34m(host_creds, endpoint, method, max_retries, backoff_factor, backoff_jitter, extra_headers, retry_codes, timeout, raise_on_status, respect_retry_after_header, **kwargs)\u001b[0m\n\u001b[0;32m    149\u001b[0m     \u001b[38;5;28;01mraise\u001b[39;00m InvalidUrlException(\u001b[38;5;124mf\u001b[39m\u001b[38;5;124m\"\u001b[39m\u001b[38;5;124mInvalid url: \u001b[39m\u001b[38;5;132;01m{\u001b[39;00murl\u001b[38;5;132;01m}\u001b[39;00m\u001b[38;5;124m\"\u001b[39m) \u001b[38;5;28;01mfrom\u001b[39;00m \u001b[38;5;21;01miu\u001b[39;00m\n\u001b[0;32m    150\u001b[0m \u001b[38;5;28;01mexcept\u001b[39;00m \u001b[38;5;167;01mException\u001b[39;00m \u001b[38;5;28;01mas\u001b[39;00m e:\n\u001b[1;32m--> 151\u001b[0m     \u001b[38;5;28;01mraise\u001b[39;00m MlflowException(\u001b[38;5;124mf\u001b[39m\u001b[38;5;124m\"\u001b[39m\u001b[38;5;124mAPI request to \u001b[39m\u001b[38;5;132;01m{\u001b[39;00murl\u001b[38;5;132;01m}\u001b[39;00m\u001b[38;5;124m failed with exception \u001b[39m\u001b[38;5;132;01m{\u001b[39;00me\u001b[38;5;132;01m}\u001b[39;00m\u001b[38;5;124m\"\u001b[39m)\n",
      "\u001b[1;31mMlflowException\u001b[0m: API request to http://127.0.0.1:8080/api/2.0/mlflow/runs/log-batch failed with exception HTTPConnectionPool(host='127.0.0.1', port=8080): Max retries exceeded with url: /api/2.0/mlflow/runs/log-batch (Caused by ResponseError('too many 500 error responses'))"
     ]
    }
   ],
   "source": [
    "study = lgbm_single_search(train[predictors + ['TARGET']], config=config)"
   ]
  },
  {
   "cell_type": "markdown",
   "metadata": {
    "collapsed": false
   },
   "source": [
    "## Understanding Parameters"
   ]
  },
  {
   "cell_type": "code",
   "execution_count": 72,
   "metadata": {},
   "outputs": [],
   "source": [
    "study = joblib.load(os.path.join(MODEL_DIR, config['subdir'], \"opt_lightgbm_single_03.pkl\"))"
   ]
  },
  {
   "cell_type": "code",
   "execution_count": 73,
   "metadata": {},
   "outputs": [
    {
     "name": "stdout",
     "output_type": "stream",
     "text": [
      "<class 'plotly.graph_objs._figure.Figure'>\n"
     ]
    }
   ],
   "source": [
    "# Nécessite l'installation de plotly et de Kaleido (redémarrer le kernel impérativement après plotly, kaleido version 0.1.0 et nformat version récente)\n",
    "# pip install kaleido==0.1.0\n",
    "# pip install --upgrade nbformat\n",
    "# Ajouter le path de kaleido.cmd au PATH windows\n",
    "# Tout redémarrer\n",
    "fig = optuna.visualization.plot_parallel_coordinate(study, params=[\"boosting_type\", \"num_leaves\", \"learning_rate\", \"n_estimators\"])\n",
    "joblib.dump(fig, os.path.join(MODEL_DIR,'fig_plotly.pkl'))\n",
    "print(type(fig))"
   ]
  },
  {
   "cell_type": "code",
   "execution_count": 74,
   "metadata": {},
   "outputs": [],
   "source": [
    "im_dir = os.path.join(MODEL_DIR, subdir)"
   ]
  },
  {
   "cell_type": "code",
   "execution_count": 75,
   "metadata": {},
   "outputs": [],
   "source": [
    "fig.write_image(file=os.path.join(im_dir, \"single_parallel_coordinates.png\"), format=\"png\", scale=6)"
   ]
  },
  {
   "cell_type": "code",
   "execution_count": 76,
   "metadata": {},
   "outputs": [
    {
     "data": {
      "application/vnd.plotly.v1+json": {
       "config": {
        "plotlyServerURL": "https://plot.ly"
       },
       "data": [
        {
         "dimensions": [
          {
           "label": "Objective Value",
           "range": [
            0,
            0.6335845510272915
           ],
           "values": [
            0,
            0.36372286809394566,
            0,
            0.4088985407279015,
            0,
            0.5589914400737834,
            0,
            0.0714842700487468,
            0.6335845510272915,
            0,
            0.5989651572714703,
            0,
            0,
            0,
            0.6122962426302936,
            0,
            0,
            0.6137732165590389,
            0.5929453236600144,
            0.5974505756144689,
            0.5825649484091543,
            0,
            0.5761810375678778,
            0.5820088324178478,
            0,
            0.6059444364872382,
            0,
            0,
            0.6223718964301336,
            0.22116656003256724
           ]
          },
          {
           "label": "boosting_type",
           "range": [
            0,
            1
           ],
           "ticktext": [
            "gbdt",
            "dart"
           ],
           "tickvals": [
            0,
            1
           ],
           "values": [
            0,
            1,
            1,
            1,
            0,
            0,
            0,
            1,
            1,
            1,
            0,
            1,
            0,
            1,
            0,
            0,
            0,
            0,
            1,
            1,
            1,
            1,
            1,
            1,
            1,
            0,
            1,
            1,
            0,
            0
           ]
          },
          {
           "label": "learning_rate",
           "range": [
            -3.9992969909375042,
            -0.45992162336571174
           ],
           "ticktext": [
            "0.0001",
            "0.001",
            "0.01",
            "0.1",
            "0.347"
           ],
           "tickvals": [
            -3.9992969909375042,
            -3,
            -2,
            -1,
            -0.45992162336571174
           ],
           "values": [
            -3.3373056015812823,
            -2.3736549524268833,
            -3.125087617110428,
            -1.4805809673703987,
            -3.035132001741161,
            -2.3298956705726748,
            -3.1206659331229805,
            -2.6098673062993245,
            -0.45992162336571174,
            -3.210349380841419,
            -1.3764100599775493,
            -3.3738465035131573,
            -2.940103500449386,
            -3.3824107584039402,
            -1.9021515372502098,
            -3.9992969909375042,
            -3.8415746011774927,
            -1.3236205014760583,
            -1.835433653046471,
            -0.6641913655877274,
            -1.8535088390017314,
            -2.9672624255514655,
            -1.3773063194983444,
            -1.0554680062030413,
            -3.492949978024926,
            -2.045946538849903,
            -3.2915486452037084,
            -3.495271665763219,
            -0.4824275649206435,
            -2.4834829068126267
           ]
          },
          {
           "label": "n_estimators",
           "range": [
            40,
            400
           ],
           "values": [
            380,
            200,
            300,
            40,
            220,
            300,
            340,
            360,
            40,
            340,
            60,
            400,
            360,
            320,
            400,
            260,
            120,
            280,
            380,
            200,
            340,
            40,
            260,
            160,
            160,
            360,
            200,
            200,
            360,
            180
           ]
          },
          {
           "label": "num_leaves",
           "range": [
            12,
            255
           ],
           "values": [
            34,
            91,
            203,
            97,
            80,
            160,
            102,
            12,
            204,
            41,
            31,
            155,
            114,
            62,
            181,
            25,
            235,
            233,
            255,
            201,
            134,
            57,
            67,
            185,
            127,
            71,
            23,
            184,
            145,
            55
           ]
          }
         ],
         "labelangle": 30,
         "labelside": "bottom",
         "line": {
          "color": [
           0,
           0.36372286809394566,
           0,
           0.4088985407279015,
           0,
           0.5589914400737834,
           0,
           0.0714842700487468,
           0.6335845510272915,
           0,
           0.5989651572714703,
           0,
           0,
           0,
           0.6122962426302936,
           0,
           0,
           0.6137732165590389,
           0.5929453236600144,
           0.5974505756144689,
           0.5825649484091543,
           0,
           0.5761810375678778,
           0.5820088324178478,
           0,
           0.6059444364872382,
           0,
           0,
           0.6223718964301336,
           0.22116656003256724
          ],
          "colorbar": {
           "title": {
            "text": "Objective Value"
           }
          },
          "colorscale": [
           [
            0,
            "rgb(247,251,255)"
           ],
           [
            0.125,
            "rgb(222,235,247)"
           ],
           [
            0.25,
            "rgb(198,219,239)"
           ],
           [
            0.375,
            "rgb(158,202,225)"
           ],
           [
            0.5,
            "rgb(107,174,214)"
           ],
           [
            0.625,
            "rgb(66,146,198)"
           ],
           [
            0.75,
            "rgb(33,113,181)"
           ],
           [
            0.875,
            "rgb(8,81,156)"
           ],
           [
            1,
            "rgb(8,48,107)"
           ]
          ],
          "reversescale": false,
          "showscale": true
         },
         "type": "parcoords"
        }
       ],
       "layout": {
        "template": {
         "data": {
          "bar": [
           {
            "error_x": {
             "color": "#2a3f5f"
            },
            "error_y": {
             "color": "#2a3f5f"
            },
            "marker": {
             "line": {
              "color": "#E5ECF6",
              "width": 0.5
             },
             "pattern": {
              "fillmode": "overlay",
              "size": 10,
              "solidity": 0.2
             }
            },
            "type": "bar"
           }
          ],
          "barpolar": [
           {
            "marker": {
             "line": {
              "color": "#E5ECF6",
              "width": 0.5
             },
             "pattern": {
              "fillmode": "overlay",
              "size": 10,
              "solidity": 0.2
             }
            },
            "type": "barpolar"
           }
          ],
          "carpet": [
           {
            "aaxis": {
             "endlinecolor": "#2a3f5f",
             "gridcolor": "white",
             "linecolor": "white",
             "minorgridcolor": "white",
             "startlinecolor": "#2a3f5f"
            },
            "baxis": {
             "endlinecolor": "#2a3f5f",
             "gridcolor": "white",
             "linecolor": "white",
             "minorgridcolor": "white",
             "startlinecolor": "#2a3f5f"
            },
            "type": "carpet"
           }
          ],
          "choropleth": [
           {
            "colorbar": {
             "outlinewidth": 0,
             "ticks": ""
            },
            "type": "choropleth"
           }
          ],
          "contour": [
           {
            "colorbar": {
             "outlinewidth": 0,
             "ticks": ""
            },
            "colorscale": [
             [
              0,
              "#0d0887"
             ],
             [
              0.1111111111111111,
              "#46039f"
             ],
             [
              0.2222222222222222,
              "#7201a8"
             ],
             [
              0.3333333333333333,
              "#9c179e"
             ],
             [
              0.4444444444444444,
              "#bd3786"
             ],
             [
              0.5555555555555556,
              "#d8576b"
             ],
             [
              0.6666666666666666,
              "#ed7953"
             ],
             [
              0.7777777777777778,
              "#fb9f3a"
             ],
             [
              0.8888888888888888,
              "#fdca26"
             ],
             [
              1,
              "#f0f921"
             ]
            ],
            "type": "contour"
           }
          ],
          "contourcarpet": [
           {
            "colorbar": {
             "outlinewidth": 0,
             "ticks": ""
            },
            "type": "contourcarpet"
           }
          ],
          "heatmap": [
           {
            "colorbar": {
             "outlinewidth": 0,
             "ticks": ""
            },
            "colorscale": [
             [
              0,
              "#0d0887"
             ],
             [
              0.1111111111111111,
              "#46039f"
             ],
             [
              0.2222222222222222,
              "#7201a8"
             ],
             [
              0.3333333333333333,
              "#9c179e"
             ],
             [
              0.4444444444444444,
              "#bd3786"
             ],
             [
              0.5555555555555556,
              "#d8576b"
             ],
             [
              0.6666666666666666,
              "#ed7953"
             ],
             [
              0.7777777777777778,
              "#fb9f3a"
             ],
             [
              0.8888888888888888,
              "#fdca26"
             ],
             [
              1,
              "#f0f921"
             ]
            ],
            "type": "heatmap"
           }
          ],
          "heatmapgl": [
           {
            "colorbar": {
             "outlinewidth": 0,
             "ticks": ""
            },
            "colorscale": [
             [
              0,
              "#0d0887"
             ],
             [
              0.1111111111111111,
              "#46039f"
             ],
             [
              0.2222222222222222,
              "#7201a8"
             ],
             [
              0.3333333333333333,
              "#9c179e"
             ],
             [
              0.4444444444444444,
              "#bd3786"
             ],
             [
              0.5555555555555556,
              "#d8576b"
             ],
             [
              0.6666666666666666,
              "#ed7953"
             ],
             [
              0.7777777777777778,
              "#fb9f3a"
             ],
             [
              0.8888888888888888,
              "#fdca26"
             ],
             [
              1,
              "#f0f921"
             ]
            ],
            "type": "heatmapgl"
           }
          ],
          "histogram": [
           {
            "marker": {
             "pattern": {
              "fillmode": "overlay",
              "size": 10,
              "solidity": 0.2
             }
            },
            "type": "histogram"
           }
          ],
          "histogram2d": [
           {
            "colorbar": {
             "outlinewidth": 0,
             "ticks": ""
            },
            "colorscale": [
             [
              0,
              "#0d0887"
             ],
             [
              0.1111111111111111,
              "#46039f"
             ],
             [
              0.2222222222222222,
              "#7201a8"
             ],
             [
              0.3333333333333333,
              "#9c179e"
             ],
             [
              0.4444444444444444,
              "#bd3786"
             ],
             [
              0.5555555555555556,
              "#d8576b"
             ],
             [
              0.6666666666666666,
              "#ed7953"
             ],
             [
              0.7777777777777778,
              "#fb9f3a"
             ],
             [
              0.8888888888888888,
              "#fdca26"
             ],
             [
              1,
              "#f0f921"
             ]
            ],
            "type": "histogram2d"
           }
          ],
          "histogram2dcontour": [
           {
            "colorbar": {
             "outlinewidth": 0,
             "ticks": ""
            },
            "colorscale": [
             [
              0,
              "#0d0887"
             ],
             [
              0.1111111111111111,
              "#46039f"
             ],
             [
              0.2222222222222222,
              "#7201a8"
             ],
             [
              0.3333333333333333,
              "#9c179e"
             ],
             [
              0.4444444444444444,
              "#bd3786"
             ],
             [
              0.5555555555555556,
              "#d8576b"
             ],
             [
              0.6666666666666666,
              "#ed7953"
             ],
             [
              0.7777777777777778,
              "#fb9f3a"
             ],
             [
              0.8888888888888888,
              "#fdca26"
             ],
             [
              1,
              "#f0f921"
             ]
            ],
            "type": "histogram2dcontour"
           }
          ],
          "mesh3d": [
           {
            "colorbar": {
             "outlinewidth": 0,
             "ticks": ""
            },
            "type": "mesh3d"
           }
          ],
          "parcoords": [
           {
            "line": {
             "colorbar": {
              "outlinewidth": 0,
              "ticks": ""
             }
            },
            "type": "parcoords"
           }
          ],
          "pie": [
           {
            "automargin": true,
            "type": "pie"
           }
          ],
          "scatter": [
           {
            "fillpattern": {
             "fillmode": "overlay",
             "size": 10,
             "solidity": 0.2
            },
            "type": "scatter"
           }
          ],
          "scatter3d": [
           {
            "line": {
             "colorbar": {
              "outlinewidth": 0,
              "ticks": ""
             }
            },
            "marker": {
             "colorbar": {
              "outlinewidth": 0,
              "ticks": ""
             }
            },
            "type": "scatter3d"
           }
          ],
          "scattercarpet": [
           {
            "marker": {
             "colorbar": {
              "outlinewidth": 0,
              "ticks": ""
             }
            },
            "type": "scattercarpet"
           }
          ],
          "scattergeo": [
           {
            "marker": {
             "colorbar": {
              "outlinewidth": 0,
              "ticks": ""
             }
            },
            "type": "scattergeo"
           }
          ],
          "scattergl": [
           {
            "marker": {
             "colorbar": {
              "outlinewidth": 0,
              "ticks": ""
             }
            },
            "type": "scattergl"
           }
          ],
          "scattermapbox": [
           {
            "marker": {
             "colorbar": {
              "outlinewidth": 0,
              "ticks": ""
             }
            },
            "type": "scattermapbox"
           }
          ],
          "scatterpolar": [
           {
            "marker": {
             "colorbar": {
              "outlinewidth": 0,
              "ticks": ""
             }
            },
            "type": "scatterpolar"
           }
          ],
          "scatterpolargl": [
           {
            "marker": {
             "colorbar": {
              "outlinewidth": 0,
              "ticks": ""
             }
            },
            "type": "scatterpolargl"
           }
          ],
          "scatterternary": [
           {
            "marker": {
             "colorbar": {
              "outlinewidth": 0,
              "ticks": ""
             }
            },
            "type": "scatterternary"
           }
          ],
          "surface": [
           {
            "colorbar": {
             "outlinewidth": 0,
             "ticks": ""
            },
            "colorscale": [
             [
              0,
              "#0d0887"
             ],
             [
              0.1111111111111111,
              "#46039f"
             ],
             [
              0.2222222222222222,
              "#7201a8"
             ],
             [
              0.3333333333333333,
              "#9c179e"
             ],
             [
              0.4444444444444444,
              "#bd3786"
             ],
             [
              0.5555555555555556,
              "#d8576b"
             ],
             [
              0.6666666666666666,
              "#ed7953"
             ],
             [
              0.7777777777777778,
              "#fb9f3a"
             ],
             [
              0.8888888888888888,
              "#fdca26"
             ],
             [
              1,
              "#f0f921"
             ]
            ],
            "type": "surface"
           }
          ],
          "table": [
           {
            "cells": {
             "fill": {
              "color": "#EBF0F8"
             },
             "line": {
              "color": "white"
             }
            },
            "header": {
             "fill": {
              "color": "#C8D4E3"
             },
             "line": {
              "color": "white"
             }
            },
            "type": "table"
           }
          ]
         },
         "layout": {
          "annotationdefaults": {
           "arrowcolor": "#2a3f5f",
           "arrowhead": 0,
           "arrowwidth": 1
          },
          "autotypenumbers": "strict",
          "coloraxis": {
           "colorbar": {
            "outlinewidth": 0,
            "ticks": ""
           }
          },
          "colorscale": {
           "diverging": [
            [
             0,
             "#8e0152"
            ],
            [
             0.1,
             "#c51b7d"
            ],
            [
             0.2,
             "#de77ae"
            ],
            [
             0.3,
             "#f1b6da"
            ],
            [
             0.4,
             "#fde0ef"
            ],
            [
             0.5,
             "#f7f7f7"
            ],
            [
             0.6,
             "#e6f5d0"
            ],
            [
             0.7,
             "#b8e186"
            ],
            [
             0.8,
             "#7fbc41"
            ],
            [
             0.9,
             "#4d9221"
            ],
            [
             1,
             "#276419"
            ]
           ],
           "sequential": [
            [
             0,
             "#0d0887"
            ],
            [
             0.1111111111111111,
             "#46039f"
            ],
            [
             0.2222222222222222,
             "#7201a8"
            ],
            [
             0.3333333333333333,
             "#9c179e"
            ],
            [
             0.4444444444444444,
             "#bd3786"
            ],
            [
             0.5555555555555556,
             "#d8576b"
            ],
            [
             0.6666666666666666,
             "#ed7953"
            ],
            [
             0.7777777777777778,
             "#fb9f3a"
            ],
            [
             0.8888888888888888,
             "#fdca26"
            ],
            [
             1,
             "#f0f921"
            ]
           ],
           "sequentialminus": [
            [
             0,
             "#0d0887"
            ],
            [
             0.1111111111111111,
             "#46039f"
            ],
            [
             0.2222222222222222,
             "#7201a8"
            ],
            [
             0.3333333333333333,
             "#9c179e"
            ],
            [
             0.4444444444444444,
             "#bd3786"
            ],
            [
             0.5555555555555556,
             "#d8576b"
            ],
            [
             0.6666666666666666,
             "#ed7953"
            ],
            [
             0.7777777777777778,
             "#fb9f3a"
            ],
            [
             0.8888888888888888,
             "#fdca26"
            ],
            [
             1,
             "#f0f921"
            ]
           ]
          },
          "colorway": [
           "#636efa",
           "#EF553B",
           "#00cc96",
           "#ab63fa",
           "#FFA15A",
           "#19d3f3",
           "#FF6692",
           "#B6E880",
           "#FF97FF",
           "#FECB52"
          ],
          "font": {
           "color": "#2a3f5f"
          },
          "geo": {
           "bgcolor": "white",
           "lakecolor": "white",
           "landcolor": "#E5ECF6",
           "showlakes": true,
           "showland": true,
           "subunitcolor": "white"
          },
          "hoverlabel": {
           "align": "left"
          },
          "hovermode": "closest",
          "mapbox": {
           "style": "light"
          },
          "paper_bgcolor": "white",
          "plot_bgcolor": "#E5ECF6",
          "polar": {
           "angularaxis": {
            "gridcolor": "white",
            "linecolor": "white",
            "ticks": ""
           },
           "bgcolor": "#E5ECF6",
           "radialaxis": {
            "gridcolor": "white",
            "linecolor": "white",
            "ticks": ""
           }
          },
          "scene": {
           "xaxis": {
            "backgroundcolor": "#E5ECF6",
            "gridcolor": "white",
            "gridwidth": 2,
            "linecolor": "white",
            "showbackground": true,
            "ticks": "",
            "zerolinecolor": "white"
           },
           "yaxis": {
            "backgroundcolor": "#E5ECF6",
            "gridcolor": "white",
            "gridwidth": 2,
            "linecolor": "white",
            "showbackground": true,
            "ticks": "",
            "zerolinecolor": "white"
           },
           "zaxis": {
            "backgroundcolor": "#E5ECF6",
            "gridcolor": "white",
            "gridwidth": 2,
            "linecolor": "white",
            "showbackground": true,
            "ticks": "",
            "zerolinecolor": "white"
           }
          },
          "shapedefaults": {
           "line": {
            "color": "#2a3f5f"
           }
          },
          "ternary": {
           "aaxis": {
            "gridcolor": "white",
            "linecolor": "white",
            "ticks": ""
           },
           "baxis": {
            "gridcolor": "white",
            "linecolor": "white",
            "ticks": ""
           },
           "bgcolor": "#E5ECF6",
           "caxis": {
            "gridcolor": "white",
            "linecolor": "white",
            "ticks": ""
           }
          },
          "title": {
           "x": 0.05
          },
          "xaxis": {
           "automargin": true,
           "gridcolor": "white",
           "linecolor": "white",
           "ticks": "",
           "title": {
            "standoff": 15
           },
           "zerolinecolor": "white",
           "zerolinewidth": 2
          },
          "yaxis": {
           "automargin": true,
           "gridcolor": "white",
           "linecolor": "white",
           "ticks": "",
           "title": {
            "standoff": 15
           },
           "zerolinecolor": "white",
           "zerolinewidth": 2
          }
         }
        },
        "title": {
         "text": "Parallel Coordinate Plot"
        }
       }
      }
     },
     "metadata": {},
     "output_type": "display_data"
    }
   ],
   "source": [
    "fig.show()"
   ]
  },
  {
   "cell_type": "code",
   "execution_count": 44,
   "metadata": {},
   "outputs": [
    {
     "data": {
      "application/vnd.plotly.v1+json": {
       "config": {
        "plotlyServerURL": "https://plot.ly"
       },
       "data": [
        {
         "cliponaxis": false,
         "hovertemplate": [
          "boosting_type (CategoricalDistribution): 0.0<extra></extra>",
          "lambda_l2 (FloatDistribution): 1.1284358476796856e-08<extra></extra>",
          "n_estimators (IntDistribution): 0.0006056489878890361<extra></extra>",
          "bagging_fraction (FloatDistribution): 0.01639358197193788<extra></extra>",
          "bagging_freq (IntDistribution): 0.03288196624317381<extra></extra>",
          "min_child_samples (IntDistribution): 0.03294483063155574<extra></extra>",
          "lambda_l1 (FloatDistribution): 0.04918195872950982<extra></extra>",
          "max_bin (IntDistribution): 0.11475526867989987<extra></extra>",
          "num_leaves (IntDistribution): 0.11487100862927674<extra></extra>",
          "feature_fraction (FloatDistribution): 0.14770862489345693<extra></extra>",
          "learning_rate (FloatDistribution): 0.4906570999489418<extra></extra>"
         ],
         "name": "Objective Value",
         "orientation": "h",
         "text": [
          "<0.01",
          "<0.01",
          "<0.01",
          "0.02",
          "0.03",
          "0.03",
          "0.05",
          "0.11",
          "0.11",
          "0.15",
          "0.49"
         ],
         "textposition": "outside",
         "type": "bar",
         "x": [
          0,
          1.1284358476796856e-8,
          0.0006056489878890361,
          0.01639358197193788,
          0.03288196624317381,
          0.03294483063155574,
          0.04918195872950982,
          0.11475526867989987,
          0.11487100862927674,
          0.14770862489345693,
          0.4906570999489418
         ],
         "y": [
          "boosting_type",
          "lambda_l2",
          "n_estimators",
          "bagging_fraction",
          "bagging_freq",
          "min_child_samples",
          "lambda_l1",
          "max_bin",
          "num_leaves",
          "feature_fraction",
          "learning_rate"
         ]
        }
       ],
       "layout": {
        "template": {
         "data": {
          "bar": [
           {
            "error_x": {
             "color": "#2a3f5f"
            },
            "error_y": {
             "color": "#2a3f5f"
            },
            "marker": {
             "line": {
              "color": "#E5ECF6",
              "width": 0.5
             },
             "pattern": {
              "fillmode": "overlay",
              "size": 10,
              "solidity": 0.2
             }
            },
            "type": "bar"
           }
          ],
          "barpolar": [
           {
            "marker": {
             "line": {
              "color": "#E5ECF6",
              "width": 0.5
             },
             "pattern": {
              "fillmode": "overlay",
              "size": 10,
              "solidity": 0.2
             }
            },
            "type": "barpolar"
           }
          ],
          "carpet": [
           {
            "aaxis": {
             "endlinecolor": "#2a3f5f",
             "gridcolor": "white",
             "linecolor": "white",
             "minorgridcolor": "white",
             "startlinecolor": "#2a3f5f"
            },
            "baxis": {
             "endlinecolor": "#2a3f5f",
             "gridcolor": "white",
             "linecolor": "white",
             "minorgridcolor": "white",
             "startlinecolor": "#2a3f5f"
            },
            "type": "carpet"
           }
          ],
          "choropleth": [
           {
            "colorbar": {
             "outlinewidth": 0,
             "ticks": ""
            },
            "type": "choropleth"
           }
          ],
          "contour": [
           {
            "colorbar": {
             "outlinewidth": 0,
             "ticks": ""
            },
            "colorscale": [
             [
              0,
              "#0d0887"
             ],
             [
              0.1111111111111111,
              "#46039f"
             ],
             [
              0.2222222222222222,
              "#7201a8"
             ],
             [
              0.3333333333333333,
              "#9c179e"
             ],
             [
              0.4444444444444444,
              "#bd3786"
             ],
             [
              0.5555555555555556,
              "#d8576b"
             ],
             [
              0.6666666666666666,
              "#ed7953"
             ],
             [
              0.7777777777777778,
              "#fb9f3a"
             ],
             [
              0.8888888888888888,
              "#fdca26"
             ],
             [
              1,
              "#f0f921"
             ]
            ],
            "type": "contour"
           }
          ],
          "contourcarpet": [
           {
            "colorbar": {
             "outlinewidth": 0,
             "ticks": ""
            },
            "type": "contourcarpet"
           }
          ],
          "heatmap": [
           {
            "colorbar": {
             "outlinewidth": 0,
             "ticks": ""
            },
            "colorscale": [
             [
              0,
              "#0d0887"
             ],
             [
              0.1111111111111111,
              "#46039f"
             ],
             [
              0.2222222222222222,
              "#7201a8"
             ],
             [
              0.3333333333333333,
              "#9c179e"
             ],
             [
              0.4444444444444444,
              "#bd3786"
             ],
             [
              0.5555555555555556,
              "#d8576b"
             ],
             [
              0.6666666666666666,
              "#ed7953"
             ],
             [
              0.7777777777777778,
              "#fb9f3a"
             ],
             [
              0.8888888888888888,
              "#fdca26"
             ],
             [
              1,
              "#f0f921"
             ]
            ],
            "type": "heatmap"
           }
          ],
          "heatmapgl": [
           {
            "colorbar": {
             "outlinewidth": 0,
             "ticks": ""
            },
            "colorscale": [
             [
              0,
              "#0d0887"
             ],
             [
              0.1111111111111111,
              "#46039f"
             ],
             [
              0.2222222222222222,
              "#7201a8"
             ],
             [
              0.3333333333333333,
              "#9c179e"
             ],
             [
              0.4444444444444444,
              "#bd3786"
             ],
             [
              0.5555555555555556,
              "#d8576b"
             ],
             [
              0.6666666666666666,
              "#ed7953"
             ],
             [
              0.7777777777777778,
              "#fb9f3a"
             ],
             [
              0.8888888888888888,
              "#fdca26"
             ],
             [
              1,
              "#f0f921"
             ]
            ],
            "type": "heatmapgl"
           }
          ],
          "histogram": [
           {
            "marker": {
             "pattern": {
              "fillmode": "overlay",
              "size": 10,
              "solidity": 0.2
             }
            },
            "type": "histogram"
           }
          ],
          "histogram2d": [
           {
            "colorbar": {
             "outlinewidth": 0,
             "ticks": ""
            },
            "colorscale": [
             [
              0,
              "#0d0887"
             ],
             [
              0.1111111111111111,
              "#46039f"
             ],
             [
              0.2222222222222222,
              "#7201a8"
             ],
             [
              0.3333333333333333,
              "#9c179e"
             ],
             [
              0.4444444444444444,
              "#bd3786"
             ],
             [
              0.5555555555555556,
              "#d8576b"
             ],
             [
              0.6666666666666666,
              "#ed7953"
             ],
             [
              0.7777777777777778,
              "#fb9f3a"
             ],
             [
              0.8888888888888888,
              "#fdca26"
             ],
             [
              1,
              "#f0f921"
             ]
            ],
            "type": "histogram2d"
           }
          ],
          "histogram2dcontour": [
           {
            "colorbar": {
             "outlinewidth": 0,
             "ticks": ""
            },
            "colorscale": [
             [
              0,
              "#0d0887"
             ],
             [
              0.1111111111111111,
              "#46039f"
             ],
             [
              0.2222222222222222,
              "#7201a8"
             ],
             [
              0.3333333333333333,
              "#9c179e"
             ],
             [
              0.4444444444444444,
              "#bd3786"
             ],
             [
              0.5555555555555556,
              "#d8576b"
             ],
             [
              0.6666666666666666,
              "#ed7953"
             ],
             [
              0.7777777777777778,
              "#fb9f3a"
             ],
             [
              0.8888888888888888,
              "#fdca26"
             ],
             [
              1,
              "#f0f921"
             ]
            ],
            "type": "histogram2dcontour"
           }
          ],
          "mesh3d": [
           {
            "colorbar": {
             "outlinewidth": 0,
             "ticks": ""
            },
            "type": "mesh3d"
           }
          ],
          "parcoords": [
           {
            "line": {
             "colorbar": {
              "outlinewidth": 0,
              "ticks": ""
             }
            },
            "type": "parcoords"
           }
          ],
          "pie": [
           {
            "automargin": true,
            "type": "pie"
           }
          ],
          "scatter": [
           {
            "fillpattern": {
             "fillmode": "overlay",
             "size": 10,
             "solidity": 0.2
            },
            "type": "scatter"
           }
          ],
          "scatter3d": [
           {
            "line": {
             "colorbar": {
              "outlinewidth": 0,
              "ticks": ""
             }
            },
            "marker": {
             "colorbar": {
              "outlinewidth": 0,
              "ticks": ""
             }
            },
            "type": "scatter3d"
           }
          ],
          "scattercarpet": [
           {
            "marker": {
             "colorbar": {
              "outlinewidth": 0,
              "ticks": ""
             }
            },
            "type": "scattercarpet"
           }
          ],
          "scattergeo": [
           {
            "marker": {
             "colorbar": {
              "outlinewidth": 0,
              "ticks": ""
             }
            },
            "type": "scattergeo"
           }
          ],
          "scattergl": [
           {
            "marker": {
             "colorbar": {
              "outlinewidth": 0,
              "ticks": ""
             }
            },
            "type": "scattergl"
           }
          ],
          "scattermapbox": [
           {
            "marker": {
             "colorbar": {
              "outlinewidth": 0,
              "ticks": ""
             }
            },
            "type": "scattermapbox"
           }
          ],
          "scatterpolar": [
           {
            "marker": {
             "colorbar": {
              "outlinewidth": 0,
              "ticks": ""
             }
            },
            "type": "scatterpolar"
           }
          ],
          "scatterpolargl": [
           {
            "marker": {
             "colorbar": {
              "outlinewidth": 0,
              "ticks": ""
             }
            },
            "type": "scatterpolargl"
           }
          ],
          "scatterternary": [
           {
            "marker": {
             "colorbar": {
              "outlinewidth": 0,
              "ticks": ""
             }
            },
            "type": "scatterternary"
           }
          ],
          "surface": [
           {
            "colorbar": {
             "outlinewidth": 0,
             "ticks": ""
            },
            "colorscale": [
             [
              0,
              "#0d0887"
             ],
             [
              0.1111111111111111,
              "#46039f"
             ],
             [
              0.2222222222222222,
              "#7201a8"
             ],
             [
              0.3333333333333333,
              "#9c179e"
             ],
             [
              0.4444444444444444,
              "#bd3786"
             ],
             [
              0.5555555555555556,
              "#d8576b"
             ],
             [
              0.6666666666666666,
              "#ed7953"
             ],
             [
              0.7777777777777778,
              "#fb9f3a"
             ],
             [
              0.8888888888888888,
              "#fdca26"
             ],
             [
              1,
              "#f0f921"
             ]
            ],
            "type": "surface"
           }
          ],
          "table": [
           {
            "cells": {
             "fill": {
              "color": "#EBF0F8"
             },
             "line": {
              "color": "white"
             }
            },
            "header": {
             "fill": {
              "color": "#C8D4E3"
             },
             "line": {
              "color": "white"
             }
            },
            "type": "table"
           }
          ]
         },
         "layout": {
          "annotationdefaults": {
           "arrowcolor": "#2a3f5f",
           "arrowhead": 0,
           "arrowwidth": 1
          },
          "autotypenumbers": "strict",
          "coloraxis": {
           "colorbar": {
            "outlinewidth": 0,
            "ticks": ""
           }
          },
          "colorscale": {
           "diverging": [
            [
             0,
             "#8e0152"
            ],
            [
             0.1,
             "#c51b7d"
            ],
            [
             0.2,
             "#de77ae"
            ],
            [
             0.3,
             "#f1b6da"
            ],
            [
             0.4,
             "#fde0ef"
            ],
            [
             0.5,
             "#f7f7f7"
            ],
            [
             0.6,
             "#e6f5d0"
            ],
            [
             0.7,
             "#b8e186"
            ],
            [
             0.8,
             "#7fbc41"
            ],
            [
             0.9,
             "#4d9221"
            ],
            [
             1,
             "#276419"
            ]
           ],
           "sequential": [
            [
             0,
             "#0d0887"
            ],
            [
             0.1111111111111111,
             "#46039f"
            ],
            [
             0.2222222222222222,
             "#7201a8"
            ],
            [
             0.3333333333333333,
             "#9c179e"
            ],
            [
             0.4444444444444444,
             "#bd3786"
            ],
            [
             0.5555555555555556,
             "#d8576b"
            ],
            [
             0.6666666666666666,
             "#ed7953"
            ],
            [
             0.7777777777777778,
             "#fb9f3a"
            ],
            [
             0.8888888888888888,
             "#fdca26"
            ],
            [
             1,
             "#f0f921"
            ]
           ],
           "sequentialminus": [
            [
             0,
             "#0d0887"
            ],
            [
             0.1111111111111111,
             "#46039f"
            ],
            [
             0.2222222222222222,
             "#7201a8"
            ],
            [
             0.3333333333333333,
             "#9c179e"
            ],
            [
             0.4444444444444444,
             "#bd3786"
            ],
            [
             0.5555555555555556,
             "#d8576b"
            ],
            [
             0.6666666666666666,
             "#ed7953"
            ],
            [
             0.7777777777777778,
             "#fb9f3a"
            ],
            [
             0.8888888888888888,
             "#fdca26"
            ],
            [
             1,
             "#f0f921"
            ]
           ]
          },
          "colorway": [
           "#636efa",
           "#EF553B",
           "#00cc96",
           "#ab63fa",
           "#FFA15A",
           "#19d3f3",
           "#FF6692",
           "#B6E880",
           "#FF97FF",
           "#FECB52"
          ],
          "font": {
           "color": "#2a3f5f"
          },
          "geo": {
           "bgcolor": "white",
           "lakecolor": "white",
           "landcolor": "#E5ECF6",
           "showlakes": true,
           "showland": true,
           "subunitcolor": "white"
          },
          "hoverlabel": {
           "align": "left"
          },
          "hovermode": "closest",
          "mapbox": {
           "style": "light"
          },
          "paper_bgcolor": "white",
          "plot_bgcolor": "#E5ECF6",
          "polar": {
           "angularaxis": {
            "gridcolor": "white",
            "linecolor": "white",
            "ticks": ""
           },
           "bgcolor": "#E5ECF6",
           "radialaxis": {
            "gridcolor": "white",
            "linecolor": "white",
            "ticks": ""
           }
          },
          "scene": {
           "xaxis": {
            "backgroundcolor": "#E5ECF6",
            "gridcolor": "white",
            "gridwidth": 2,
            "linecolor": "white",
            "showbackground": true,
            "ticks": "",
            "zerolinecolor": "white"
           },
           "yaxis": {
            "backgroundcolor": "#E5ECF6",
            "gridcolor": "white",
            "gridwidth": 2,
            "linecolor": "white",
            "showbackground": true,
            "ticks": "",
            "zerolinecolor": "white"
           },
           "zaxis": {
            "backgroundcolor": "#E5ECF6",
            "gridcolor": "white",
            "gridwidth": 2,
            "linecolor": "white",
            "showbackground": true,
            "ticks": "",
            "zerolinecolor": "white"
           }
          },
          "shapedefaults": {
           "line": {
            "color": "#2a3f5f"
           }
          },
          "ternary": {
           "aaxis": {
            "gridcolor": "white",
            "linecolor": "white",
            "ticks": ""
           },
           "baxis": {
            "gridcolor": "white",
            "linecolor": "white",
            "ticks": ""
           },
           "bgcolor": "#E5ECF6",
           "caxis": {
            "gridcolor": "white",
            "linecolor": "white",
            "ticks": ""
           }
          },
          "title": {
           "x": 0.05
          },
          "xaxis": {
           "automargin": true,
           "gridcolor": "white",
           "linecolor": "white",
           "ticks": "",
           "title": {
            "standoff": 15
           },
           "zerolinecolor": "white",
           "zerolinewidth": 2
          },
          "yaxis": {
           "automargin": true,
           "gridcolor": "white",
           "linecolor": "white",
           "ticks": "",
           "title": {
            "standoff": 15
           },
           "zerolinecolor": "white",
           "zerolinewidth": 2
          }
         }
        },
        "title": {
         "text": "Hyperparameter Importances"
        },
        "xaxis": {
         "title": {
          "text": "Hyperparameter Importance"
         }
        },
        "yaxis": {
         "title": {
          "text": "Hyperparameter"
         }
        }
       }
      }
     },
     "metadata": {},
     "output_type": "display_data"
    }
   ],
   "source": [
    "# Plus rapide en html\n",
    "im_path = os.path.join(im_dir, \"single_parallel_coordinates.html\")\n",
    "fig.write_html(im_path)\n",
    "fig.show()"
   ]
  },
  {
   "cell_type": "code",
   "execution_count": 78,
   "metadata": {
    "ExecuteTime": {
     "end_time": "2023-04-27T12:44:59.987744Z",
     "start_time": "2023-04-27T12:44:57.634931Z"
    },
    "collapsed": false
   },
   "outputs": [
    {
     "data": {
      "application/vnd.plotly.v1+json": {
       "config": {
        "plotlyServerURL": "https://plot.ly"
       },
       "data": [
        {
         "cliponaxis": false,
         "hovertemplate": [
          "lambda_l2 (FloatDistribution): 0.00029711125426770864<extra></extra>",
          "boosting_type (CategoricalDistribution): 0.0006904020889898302<extra></extra>",
          "bagging_fraction (FloatDistribution): 0.008221532264097471<extra></extra>",
          "n_estimators (IntDistribution): 0.01646130539032057<extra></extra>",
          "max_bin (IntDistribution): 0.02036604589641953<extra></extra>",
          "num_leaves (IntDistribution): 0.02667477929639801<extra></extra>",
          "min_child_samples (IntDistribution): 0.031078573055325073<extra></extra>",
          "feature_fraction (FloatDistribution): 0.03711879247964429<extra></extra>",
          "bagging_freq (IntDistribution): 0.0580117715249724<extra></extra>",
          "lambda_l1 (FloatDistribution): 0.19512041675465164<extra></extra>",
          "learning_rate (FloatDistribution): 0.6059592699949132<extra></extra>"
         ],
         "name": "Objective Value",
         "orientation": "h",
         "text": [
          "<0.01",
          "<0.01",
          "<0.01",
          "0.02",
          "0.02",
          "0.03",
          "0.03",
          "0.04",
          "0.06",
          "0.20",
          "0.61"
         ],
         "textposition": "outside",
         "type": "bar",
         "x": [
          0.00029711125426770864,
          0.0006904020889898302,
          0.008221532264097471,
          0.01646130539032057,
          0.02036604589641953,
          0.02667477929639801,
          0.031078573055325073,
          0.03711879247964429,
          0.0580117715249724,
          0.19512041675465164,
          0.6059592699949132
         ],
         "y": [
          "lambda_l2",
          "boosting_type",
          "bagging_fraction",
          "n_estimators",
          "max_bin",
          "num_leaves",
          "min_child_samples",
          "feature_fraction",
          "bagging_freq",
          "lambda_l1",
          "learning_rate"
         ]
        }
       ],
       "layout": {
        "template": {
         "data": {
          "bar": [
           {
            "error_x": {
             "color": "#2a3f5f"
            },
            "error_y": {
             "color": "#2a3f5f"
            },
            "marker": {
             "line": {
              "color": "#E5ECF6",
              "width": 0.5
             },
             "pattern": {
              "fillmode": "overlay",
              "size": 10,
              "solidity": 0.2
             }
            },
            "type": "bar"
           }
          ],
          "barpolar": [
           {
            "marker": {
             "line": {
              "color": "#E5ECF6",
              "width": 0.5
             },
             "pattern": {
              "fillmode": "overlay",
              "size": 10,
              "solidity": 0.2
             }
            },
            "type": "barpolar"
           }
          ],
          "carpet": [
           {
            "aaxis": {
             "endlinecolor": "#2a3f5f",
             "gridcolor": "white",
             "linecolor": "white",
             "minorgridcolor": "white",
             "startlinecolor": "#2a3f5f"
            },
            "baxis": {
             "endlinecolor": "#2a3f5f",
             "gridcolor": "white",
             "linecolor": "white",
             "minorgridcolor": "white",
             "startlinecolor": "#2a3f5f"
            },
            "type": "carpet"
           }
          ],
          "choropleth": [
           {
            "colorbar": {
             "outlinewidth": 0,
             "ticks": ""
            },
            "type": "choropleth"
           }
          ],
          "contour": [
           {
            "colorbar": {
             "outlinewidth": 0,
             "ticks": ""
            },
            "colorscale": [
             [
              0,
              "#0d0887"
             ],
             [
              0.1111111111111111,
              "#46039f"
             ],
             [
              0.2222222222222222,
              "#7201a8"
             ],
             [
              0.3333333333333333,
              "#9c179e"
             ],
             [
              0.4444444444444444,
              "#bd3786"
             ],
             [
              0.5555555555555556,
              "#d8576b"
             ],
             [
              0.6666666666666666,
              "#ed7953"
             ],
             [
              0.7777777777777778,
              "#fb9f3a"
             ],
             [
              0.8888888888888888,
              "#fdca26"
             ],
             [
              1,
              "#f0f921"
             ]
            ],
            "type": "contour"
           }
          ],
          "contourcarpet": [
           {
            "colorbar": {
             "outlinewidth": 0,
             "ticks": ""
            },
            "type": "contourcarpet"
           }
          ],
          "heatmap": [
           {
            "colorbar": {
             "outlinewidth": 0,
             "ticks": ""
            },
            "colorscale": [
             [
              0,
              "#0d0887"
             ],
             [
              0.1111111111111111,
              "#46039f"
             ],
             [
              0.2222222222222222,
              "#7201a8"
             ],
             [
              0.3333333333333333,
              "#9c179e"
             ],
             [
              0.4444444444444444,
              "#bd3786"
             ],
             [
              0.5555555555555556,
              "#d8576b"
             ],
             [
              0.6666666666666666,
              "#ed7953"
             ],
             [
              0.7777777777777778,
              "#fb9f3a"
             ],
             [
              0.8888888888888888,
              "#fdca26"
             ],
             [
              1,
              "#f0f921"
             ]
            ],
            "type": "heatmap"
           }
          ],
          "heatmapgl": [
           {
            "colorbar": {
             "outlinewidth": 0,
             "ticks": ""
            },
            "colorscale": [
             [
              0,
              "#0d0887"
             ],
             [
              0.1111111111111111,
              "#46039f"
             ],
             [
              0.2222222222222222,
              "#7201a8"
             ],
             [
              0.3333333333333333,
              "#9c179e"
             ],
             [
              0.4444444444444444,
              "#bd3786"
             ],
             [
              0.5555555555555556,
              "#d8576b"
             ],
             [
              0.6666666666666666,
              "#ed7953"
             ],
             [
              0.7777777777777778,
              "#fb9f3a"
             ],
             [
              0.8888888888888888,
              "#fdca26"
             ],
             [
              1,
              "#f0f921"
             ]
            ],
            "type": "heatmapgl"
           }
          ],
          "histogram": [
           {
            "marker": {
             "pattern": {
              "fillmode": "overlay",
              "size": 10,
              "solidity": 0.2
             }
            },
            "type": "histogram"
           }
          ],
          "histogram2d": [
           {
            "colorbar": {
             "outlinewidth": 0,
             "ticks": ""
            },
            "colorscale": [
             [
              0,
              "#0d0887"
             ],
             [
              0.1111111111111111,
              "#46039f"
             ],
             [
              0.2222222222222222,
              "#7201a8"
             ],
             [
              0.3333333333333333,
              "#9c179e"
             ],
             [
              0.4444444444444444,
              "#bd3786"
             ],
             [
              0.5555555555555556,
              "#d8576b"
             ],
             [
              0.6666666666666666,
              "#ed7953"
             ],
             [
              0.7777777777777778,
              "#fb9f3a"
             ],
             [
              0.8888888888888888,
              "#fdca26"
             ],
             [
              1,
              "#f0f921"
             ]
            ],
            "type": "histogram2d"
           }
          ],
          "histogram2dcontour": [
           {
            "colorbar": {
             "outlinewidth": 0,
             "ticks": ""
            },
            "colorscale": [
             [
              0,
              "#0d0887"
             ],
             [
              0.1111111111111111,
              "#46039f"
             ],
             [
              0.2222222222222222,
              "#7201a8"
             ],
             [
              0.3333333333333333,
              "#9c179e"
             ],
             [
              0.4444444444444444,
              "#bd3786"
             ],
             [
              0.5555555555555556,
              "#d8576b"
             ],
             [
              0.6666666666666666,
              "#ed7953"
             ],
             [
              0.7777777777777778,
              "#fb9f3a"
             ],
             [
              0.8888888888888888,
              "#fdca26"
             ],
             [
              1,
              "#f0f921"
             ]
            ],
            "type": "histogram2dcontour"
           }
          ],
          "mesh3d": [
           {
            "colorbar": {
             "outlinewidth": 0,
             "ticks": ""
            },
            "type": "mesh3d"
           }
          ],
          "parcoords": [
           {
            "line": {
             "colorbar": {
              "outlinewidth": 0,
              "ticks": ""
             }
            },
            "type": "parcoords"
           }
          ],
          "pie": [
           {
            "automargin": true,
            "type": "pie"
           }
          ],
          "scatter": [
           {
            "fillpattern": {
             "fillmode": "overlay",
             "size": 10,
             "solidity": 0.2
            },
            "type": "scatter"
           }
          ],
          "scatter3d": [
           {
            "line": {
             "colorbar": {
              "outlinewidth": 0,
              "ticks": ""
             }
            },
            "marker": {
             "colorbar": {
              "outlinewidth": 0,
              "ticks": ""
             }
            },
            "type": "scatter3d"
           }
          ],
          "scattercarpet": [
           {
            "marker": {
             "colorbar": {
              "outlinewidth": 0,
              "ticks": ""
             }
            },
            "type": "scattercarpet"
           }
          ],
          "scattergeo": [
           {
            "marker": {
             "colorbar": {
              "outlinewidth": 0,
              "ticks": ""
             }
            },
            "type": "scattergeo"
           }
          ],
          "scattergl": [
           {
            "marker": {
             "colorbar": {
              "outlinewidth": 0,
              "ticks": ""
             }
            },
            "type": "scattergl"
           }
          ],
          "scattermapbox": [
           {
            "marker": {
             "colorbar": {
              "outlinewidth": 0,
              "ticks": ""
             }
            },
            "type": "scattermapbox"
           }
          ],
          "scatterpolar": [
           {
            "marker": {
             "colorbar": {
              "outlinewidth": 0,
              "ticks": ""
             }
            },
            "type": "scatterpolar"
           }
          ],
          "scatterpolargl": [
           {
            "marker": {
             "colorbar": {
              "outlinewidth": 0,
              "ticks": ""
             }
            },
            "type": "scatterpolargl"
           }
          ],
          "scatterternary": [
           {
            "marker": {
             "colorbar": {
              "outlinewidth": 0,
              "ticks": ""
             }
            },
            "type": "scatterternary"
           }
          ],
          "surface": [
           {
            "colorbar": {
             "outlinewidth": 0,
             "ticks": ""
            },
            "colorscale": [
             [
              0,
              "#0d0887"
             ],
             [
              0.1111111111111111,
              "#46039f"
             ],
             [
              0.2222222222222222,
              "#7201a8"
             ],
             [
              0.3333333333333333,
              "#9c179e"
             ],
             [
              0.4444444444444444,
              "#bd3786"
             ],
             [
              0.5555555555555556,
              "#d8576b"
             ],
             [
              0.6666666666666666,
              "#ed7953"
             ],
             [
              0.7777777777777778,
              "#fb9f3a"
             ],
             [
              0.8888888888888888,
              "#fdca26"
             ],
             [
              1,
              "#f0f921"
             ]
            ],
            "type": "surface"
           }
          ],
          "table": [
           {
            "cells": {
             "fill": {
              "color": "#EBF0F8"
             },
             "line": {
              "color": "white"
             }
            },
            "header": {
             "fill": {
              "color": "#C8D4E3"
             },
             "line": {
              "color": "white"
             }
            },
            "type": "table"
           }
          ]
         },
         "layout": {
          "annotationdefaults": {
           "arrowcolor": "#2a3f5f",
           "arrowhead": 0,
           "arrowwidth": 1
          },
          "autotypenumbers": "strict",
          "coloraxis": {
           "colorbar": {
            "outlinewidth": 0,
            "ticks": ""
           }
          },
          "colorscale": {
           "diverging": [
            [
             0,
             "#8e0152"
            ],
            [
             0.1,
             "#c51b7d"
            ],
            [
             0.2,
             "#de77ae"
            ],
            [
             0.3,
             "#f1b6da"
            ],
            [
             0.4,
             "#fde0ef"
            ],
            [
             0.5,
             "#f7f7f7"
            ],
            [
             0.6,
             "#e6f5d0"
            ],
            [
             0.7,
             "#b8e186"
            ],
            [
             0.8,
             "#7fbc41"
            ],
            [
             0.9,
             "#4d9221"
            ],
            [
             1,
             "#276419"
            ]
           ],
           "sequential": [
            [
             0,
             "#0d0887"
            ],
            [
             0.1111111111111111,
             "#46039f"
            ],
            [
             0.2222222222222222,
             "#7201a8"
            ],
            [
             0.3333333333333333,
             "#9c179e"
            ],
            [
             0.4444444444444444,
             "#bd3786"
            ],
            [
             0.5555555555555556,
             "#d8576b"
            ],
            [
             0.6666666666666666,
             "#ed7953"
            ],
            [
             0.7777777777777778,
             "#fb9f3a"
            ],
            [
             0.8888888888888888,
             "#fdca26"
            ],
            [
             1,
             "#f0f921"
            ]
           ],
           "sequentialminus": [
            [
             0,
             "#0d0887"
            ],
            [
             0.1111111111111111,
             "#46039f"
            ],
            [
             0.2222222222222222,
             "#7201a8"
            ],
            [
             0.3333333333333333,
             "#9c179e"
            ],
            [
             0.4444444444444444,
             "#bd3786"
            ],
            [
             0.5555555555555556,
             "#d8576b"
            ],
            [
             0.6666666666666666,
             "#ed7953"
            ],
            [
             0.7777777777777778,
             "#fb9f3a"
            ],
            [
             0.8888888888888888,
             "#fdca26"
            ],
            [
             1,
             "#f0f921"
            ]
           ]
          },
          "colorway": [
           "#636efa",
           "#EF553B",
           "#00cc96",
           "#ab63fa",
           "#FFA15A",
           "#19d3f3",
           "#FF6692",
           "#B6E880",
           "#FF97FF",
           "#FECB52"
          ],
          "font": {
           "color": "#2a3f5f"
          },
          "geo": {
           "bgcolor": "white",
           "lakecolor": "white",
           "landcolor": "#E5ECF6",
           "showlakes": true,
           "showland": true,
           "subunitcolor": "white"
          },
          "hoverlabel": {
           "align": "left"
          },
          "hovermode": "closest",
          "mapbox": {
           "style": "light"
          },
          "paper_bgcolor": "white",
          "plot_bgcolor": "#E5ECF6",
          "polar": {
           "angularaxis": {
            "gridcolor": "white",
            "linecolor": "white",
            "ticks": ""
           },
           "bgcolor": "#E5ECF6",
           "radialaxis": {
            "gridcolor": "white",
            "linecolor": "white",
            "ticks": ""
           }
          },
          "scene": {
           "xaxis": {
            "backgroundcolor": "#E5ECF6",
            "gridcolor": "white",
            "gridwidth": 2,
            "linecolor": "white",
            "showbackground": true,
            "ticks": "",
            "zerolinecolor": "white"
           },
           "yaxis": {
            "backgroundcolor": "#E5ECF6",
            "gridcolor": "white",
            "gridwidth": 2,
            "linecolor": "white",
            "showbackground": true,
            "ticks": "",
            "zerolinecolor": "white"
           },
           "zaxis": {
            "backgroundcolor": "#E5ECF6",
            "gridcolor": "white",
            "gridwidth": 2,
            "linecolor": "white",
            "showbackground": true,
            "ticks": "",
            "zerolinecolor": "white"
           }
          },
          "shapedefaults": {
           "line": {
            "color": "#2a3f5f"
           }
          },
          "ternary": {
           "aaxis": {
            "gridcolor": "white",
            "linecolor": "white",
            "ticks": ""
           },
           "baxis": {
            "gridcolor": "white",
            "linecolor": "white",
            "ticks": ""
           },
           "bgcolor": "#E5ECF6",
           "caxis": {
            "gridcolor": "white",
            "linecolor": "white",
            "ticks": ""
           }
          },
          "title": {
           "x": 0.05
          },
          "xaxis": {
           "automargin": true,
           "gridcolor": "white",
           "linecolor": "white",
           "ticks": "",
           "title": {
            "standoff": 15
           },
           "zerolinecolor": "white",
           "zerolinewidth": 2
          },
          "yaxis": {
           "automargin": true,
           "gridcolor": "white",
           "linecolor": "white",
           "ticks": "",
           "title": {
            "standoff": 15
           },
           "zerolinecolor": "white",
           "zerolinewidth": 2
          }
         }
        },
        "title": {
         "text": "Hyperparameter Importances"
        },
        "xaxis": {
         "title": {
          "text": "Hyperparameter Importance"
         }
        },
        "yaxis": {
         "title": {
          "text": "Hyperparameter"
         }
        }
       }
      }
     },
     "metadata": {},
     "output_type": "display_data"
    }
   ],
   "source": [
    "fig = optuna.visualization.plot_param_importances(study)\n",
    "fig.write_image(file=os.path.join(im_dir, \"single_hyperparam_importance.png\"), format=\"png\", scale=6)\n",
    "fig.show()"
   ]
  },
  {
   "cell_type": "markdown",
   "metadata": {
    "collapsed": false
   },
   "source": [
    "## Multi-objective optimization"
   ]
  },
  {
   "cell_type": "code",
   "execution_count": 22,
   "metadata": {
    "ExecuteTime": {
     "end_time": "2023-04-27T12:47:34.914428Z",
     "start_time": "2023-04-27T12:47:34.907420Z"
    },
    "collapsed": false
   },
   "outputs": [],
   "source": [
    "def moo_objective(trial):\n",
    "    learning_rate = trial.suggest_float(\"learning_rate\", 0.0001, 0.5, log=True),\n",
    "\n",
    "    model = lgb.LGBMClassifier(\n",
    "        force_row_wise=True,\n",
    "        boosting_type='gbdt',\n",
    "        n_estimators=200,\n",
    "        lambda_l1=3.298803078077973e-07,\n",
    "        lambda_l2=8.938532783741386e-07,\n",
    "        num_leaves=6,\n",
    "        feature_fraction=0.5133218336120866,\n",
    "        bagging_fraction=0.9660809666082303,\n",
    "        bagging_freq=7,\n",
    "        min_child_samples=91,\n",
    "        learning_rate=learning_rate,\n",
    "        max_bin=320,\n",
    "        verbose=-1,\n",
    "    )\n",
    "    scores = cross_val_score(model, X, y, scoring=\"f1_macro\")\n",
    "    return learning_rate[0], scores.mean()"
   ]
  },
  {
   "cell_type": "code",
   "execution_count": 23,
   "metadata": {
    "ExecuteTime": {
     "end_time": "2023-04-27T12:48:45.814205Z",
     "start_time": "2023-04-27T12:47:35.162158Z"
    },
    "collapsed": false
   },
   "outputs": [
    {
     "name": "stderr",
     "output_type": "stream",
     "text": [
      "\u001b[32m[I 2023-04-27 10:47:35,501]\u001b[0m A new study created in memory with name: no-name-eb122531-f2ee-4cb5-92d1-8efba6a28eef\u001b[0m\n",
      "\u001b[32m[I 2023-04-27 10:47:36,221]\u001b[0m Trial 0 finished with values: [0.018276625572235056, 0.7229728382357858] and parameters: {'learning_rate': 0.018276625572235056}. \u001b[0m\n",
      "\u001b[32m[I 2023-04-27 10:47:36,922]\u001b[0m Trial 1 finished with values: [0.012281350875017864, 0.713129498994182] and parameters: {'learning_rate': 0.012281350875017864}. \u001b[0m\n",
      "\u001b[32m[I 2023-04-27 10:47:37,601]\u001b[0m Trial 2 finished with values: [0.3179931543219117, 0.7181352358216049] and parameters: {'learning_rate': 0.3179931543219117}. \u001b[0m\n",
      "\u001b[32m[I 2023-04-27 10:47:38,317]\u001b[0m Trial 3 finished with values: [0.3317048028124761, 0.7182462105095208] and parameters: {'learning_rate': 0.3317048028124761}. \u001b[0m\n",
      "\u001b[32m[I 2023-04-27 10:47:39,042]\u001b[0m Trial 4 finished with values: [0.010097499163932589, 0.689595604293249] and parameters: {'learning_rate': 0.010097499163932589}. \u001b[0m\n",
      "\u001b[32m[I 2023-04-27 10:47:39,716]\u001b[0m Trial 5 finished with values: [0.0010284892903758126, 0.4235082247366586] and parameters: {'learning_rate': 0.0010284892903758126}. \u001b[0m\n",
      "\u001b[32m[I 2023-04-27 10:47:40,423]\u001b[0m Trial 6 finished with values: [0.0008073623310050534, 0.4235082247366586] and parameters: {'learning_rate': 0.0008073623310050534}. \u001b[0m\n",
      "\u001b[32m[I 2023-04-27 10:47:41,147]\u001b[0m Trial 7 finished with values: [0.009446892389275133, 0.6841554205738356] and parameters: {'learning_rate': 0.009446892389275133}. \u001b[0m\n",
      "\u001b[32m[I 2023-04-27 10:47:41,994]\u001b[0m Trial 8 finished with values: [0.042129982546996285, 0.7318679125094985] and parameters: {'learning_rate': 0.042129982546996285}. \u001b[0m\n",
      "\u001b[32m[I 2023-04-27 10:47:42,733]\u001b[0m Trial 9 finished with values: [0.006234336282154794, 0.6372047388051083] and parameters: {'learning_rate': 0.006234336282154794}. \u001b[0m\n",
      "\u001b[32m[I 2023-04-27 10:47:43,412]\u001b[0m Trial 10 finished with values: [0.0014213907266344855, 0.4235082247366586] and parameters: {'learning_rate': 0.0014213907266344855}. \u001b[0m\n",
      "\u001b[32m[I 2023-04-27 10:47:44,069]\u001b[0m Trial 11 finished with values: [0.0074818711669891215, 0.6643619268828908] and parameters: {'learning_rate': 0.0074818711669891215}. \u001b[0m\n",
      "\u001b[32m[I 2023-04-27 10:47:44,798]\u001b[0m Trial 12 finished with values: [0.1148404311838305, 0.7321994102159477] and parameters: {'learning_rate': 0.1148404311838305}. \u001b[0m\n",
      "\u001b[32m[I 2023-04-27 10:47:45,481]\u001b[0m Trial 13 finished with values: [0.0012664149179400209, 0.4235082247366586] and parameters: {'learning_rate': 0.0012664149179400209}. \u001b[0m\n",
      "\u001b[32m[I 2023-04-27 10:47:46,223]\u001b[0m Trial 14 finished with values: [0.05307222954482612, 0.7336139976808754] and parameters: {'learning_rate': 0.05307222954482612}. \u001b[0m\n",
      "\u001b[32m[I 2023-04-27 10:47:46,949]\u001b[0m Trial 15 finished with values: [0.01538041330688695, 0.7173796023919852] and parameters: {'learning_rate': 0.01538041330688695}. \u001b[0m\n",
      "\u001b[32m[I 2023-04-27 10:47:47,724]\u001b[0m Trial 16 finished with values: [0.018396986660930648, 0.7227368738811438] and parameters: {'learning_rate': 0.018396986660930648}. \u001b[0m\n",
      "\u001b[32m[I 2023-04-27 10:47:48,451]\u001b[0m Trial 17 finished with values: [0.0030415201353781317, 0.4235082247366586] and parameters: {'learning_rate': 0.0030415201353781317}. \u001b[0m\n",
      "\u001b[32m[I 2023-04-27 10:47:49,134]\u001b[0m Trial 18 finished with values: [0.34679130964813293, 0.7165372792236238] and parameters: {'learning_rate': 0.34679130964813293}. \u001b[0m\n",
      "\u001b[32m[I 2023-04-27 10:47:49,814]\u001b[0m Trial 19 finished with values: [0.0016185106184141472, 0.4235082247366586] and parameters: {'learning_rate': 0.0016185106184141472}. \u001b[0m\n",
      "\u001b[32m[I 2023-04-27 10:47:50,473]\u001b[0m Trial 20 finished with values: [0.09977031400739048, 0.7302018596960369] and parameters: {'learning_rate': 0.09977031400739048}. \u001b[0m\n",
      "\u001b[32m[I 2023-04-27 10:47:51,155]\u001b[0m Trial 21 finished with values: [0.00015692458115144144, 0.4235082247366586] and parameters: {'learning_rate': 0.00015692458115144144}. \u001b[0m\n",
      "\u001b[32m[I 2023-04-27 10:47:51,845]\u001b[0m Trial 22 finished with values: [0.0014637099340279343, 0.4235082247366586] and parameters: {'learning_rate': 0.0014637099340279343}. \u001b[0m\n",
      "\u001b[32m[I 2023-04-27 10:47:52,522]\u001b[0m Trial 23 finished with values: [0.237542460048024, 0.7216310177763523] and parameters: {'learning_rate': 0.237542460048024}. \u001b[0m\n",
      "\u001b[32m[I 2023-04-27 10:47:53,209]\u001b[0m Trial 24 finished with values: [0.24410089728809634, 0.7254004209977449] and parameters: {'learning_rate': 0.24410089728809634}. \u001b[0m\n",
      "\u001b[32m[I 2023-04-27 10:47:53,930]\u001b[0m Trial 25 finished with values: [0.039216586476540555, 0.7301579035907364] and parameters: {'learning_rate': 0.039216586476540555}. \u001b[0m\n",
      "\u001b[32m[I 2023-04-27 10:47:54,668]\u001b[0m Trial 26 finished with values: [0.04413193652148863, 0.7292176187667853] and parameters: {'learning_rate': 0.04413193652148863}. \u001b[0m\n",
      "\u001b[32m[I 2023-04-27 10:47:55,334]\u001b[0m Trial 27 finished with values: [0.12844461011742844, 0.7321027124572879] and parameters: {'learning_rate': 0.12844461011742844}. \u001b[0m\n",
      "\u001b[32m[I 2023-04-27 10:47:56,032]\u001b[0m Trial 28 finished with values: [0.0006332697167843045, 0.4235082247366586] and parameters: {'learning_rate': 0.0006332697167843045}. \u001b[0m\n",
      "\u001b[32m[I 2023-04-27 10:47:56,712]\u001b[0m Trial 29 finished with values: [0.4498243389528799, 0.7180387023655493] and parameters: {'learning_rate': 0.4498243389528799}. \u001b[0m\n",
      "\u001b[32m[I 2023-04-27 10:47:57,322]\u001b[0m Trial 30 finished with values: [0.28825962026286955, 0.7220137309076756] and parameters: {'learning_rate': 0.28825962026286955}. \u001b[0m\n",
      "\u001b[32m[I 2023-04-27 10:47:57,985]\u001b[0m Trial 31 finished with values: [0.036619413830782564, 0.7302184406320554] and parameters: {'learning_rate': 0.036619413830782564}. \u001b[0m\n",
      "\u001b[32m[I 2023-04-27 10:47:58,563]\u001b[0m Trial 32 finished with values: [0.03610204856200786, 0.7304328067409969] and parameters: {'learning_rate': 0.03610204856200786}. \u001b[0m\n",
      "\u001b[32m[I 2023-04-27 10:47:59,225]\u001b[0m Trial 33 finished with values: [0.0021961450728918896, 0.4235082247366586] and parameters: {'learning_rate': 0.0021961450728918896}. \u001b[0m\n",
      "\u001b[32m[I 2023-04-27 10:47:59,946]\u001b[0m Trial 34 finished with values: [0.012193586140043794, 0.7120523440790167] and parameters: {'learning_rate': 0.012193586140043794}. \u001b[0m\n",
      "\u001b[32m[I 2023-04-27 10:48:00,626]\u001b[0m Trial 35 finished with values: [0.19630258423899116, 0.7290264275839735] and parameters: {'learning_rate': 0.19630258423899116}. \u001b[0m\n",
      "\u001b[32m[I 2023-04-27 10:48:01,328]\u001b[0m Trial 36 finished with values: [0.00017918412416240907, 0.4235082247366586] and parameters: {'learning_rate': 0.00017918412416240907}. \u001b[0m\n",
      "\u001b[32m[I 2023-04-27 10:48:02,017]\u001b[0m Trial 37 finished with values: [0.014133500358080071, 0.7167142851538554] and parameters: {'learning_rate': 0.014133500358080071}. \u001b[0m\n",
      "\u001b[32m[I 2023-04-27 10:48:02,698]\u001b[0m Trial 38 finished with values: [0.04852382290869409, 0.7310333204595433] and parameters: {'learning_rate': 0.04852382290869409}. \u001b[0m\n",
      "\u001b[32m[I 2023-04-27 10:48:03,384]\u001b[0m Trial 39 finished with values: [0.040201201662143485, 0.7306614283099379] and parameters: {'learning_rate': 0.040201201662143485}. \u001b[0m\n",
      "\u001b[32m[I 2023-04-27 10:48:04,062]\u001b[0m Trial 40 finished with values: [0.0011776265316570207, 0.4235082247366586] and parameters: {'learning_rate': 0.0011776265316570207}. \u001b[0m\n",
      "\u001b[32m[I 2023-04-27 10:48:04,770]\u001b[0m Trial 41 finished with values: [0.026396073829949854, 0.7294521208392316] and parameters: {'learning_rate': 0.026396073829949854}. \u001b[0m\n",
      "\u001b[32m[I 2023-04-27 10:48:05,444]\u001b[0m Trial 42 finished with values: [0.19287363423507076, 0.7259236143539816] and parameters: {'learning_rate': 0.19287363423507076}. \u001b[0m\n",
      "\u001b[32m[I 2023-04-27 10:48:06,182]\u001b[0m Trial 43 finished with values: [0.07377836783758575, 0.7335097300380633] and parameters: {'learning_rate': 0.07377836783758575}. \u001b[0m\n",
      "\u001b[32m[I 2023-04-27 10:48:06,865]\u001b[0m Trial 44 finished with values: [0.06950786503628438, 0.7323174432397132] and parameters: {'learning_rate': 0.06950786503628438}. \u001b[0m\n",
      "\u001b[32m[I 2023-04-27 10:48:07,522]\u001b[0m Trial 45 finished with values: [0.0013182070434705978, 0.4235082247366586] and parameters: {'learning_rate': 0.0013182070434705978}. \u001b[0m\n",
      "\u001b[32m[I 2023-04-27 10:48:08,245]\u001b[0m Trial 46 finished with values: [0.0001689170415983065, 0.4235082247366586] and parameters: {'learning_rate': 0.0001689170415983065}. \u001b[0m\n",
      "\u001b[32m[I 2023-04-27 10:48:08,983]\u001b[0m Trial 47 finished with values: [0.0021018530965500105, 0.4235082247366586] and parameters: {'learning_rate': 0.0021018530965500105}. \u001b[0m\n",
      "\u001b[32m[I 2023-04-27 10:48:09,687]\u001b[0m Trial 48 finished with values: [0.00019287163151974652, 0.4235082247366586] and parameters: {'learning_rate': 0.00019287163151974652}. \u001b[0m\n",
      "\u001b[32m[I 2023-04-27 10:48:10,369]\u001b[0m Trial 49 finished with values: [0.1714187324525616, 0.7274564562489783] and parameters: {'learning_rate': 0.1714187324525616}. \u001b[0m\n",
      "\u001b[32m[I 2023-04-27 10:48:11,109]\u001b[0m Trial 50 finished with values: [0.028218912249716382, 0.7285799931977797] and parameters: {'learning_rate': 0.028218912249716382}. \u001b[0m\n",
      "\u001b[32m[I 2023-04-27 10:48:11,818]\u001b[0m Trial 51 finished with values: [0.00037469787058577405, 0.4235082247366586] and parameters: {'learning_rate': 0.00037469787058577405}. \u001b[0m\n",
      "\u001b[32m[I 2023-04-27 10:48:12,557]\u001b[0m Trial 52 finished with values: [0.016517619384449466, 0.7201909680929806] and parameters: {'learning_rate': 0.016517619384449466}. \u001b[0m\n",
      "\u001b[32m[I 2023-04-27 10:48:13,222]\u001b[0m Trial 53 finished with values: [0.4796291220454122, 0.7120415606860494] and parameters: {'learning_rate': 0.4796291220454122}. \u001b[0m\n",
      "\u001b[32m[I 2023-04-27 10:48:13,891]\u001b[0m Trial 54 finished with values: [0.01075645544167512, 0.6983807551597365] and parameters: {'learning_rate': 0.01075645544167512}. \u001b[0m\n",
      "\u001b[32m[I 2023-04-27 10:48:14,587]\u001b[0m Trial 55 finished with values: [0.0013300668001608705, 0.4235082247366586] and parameters: {'learning_rate': 0.0013300668001608705}. \u001b[0m\n",
      "\u001b[32m[I 2023-04-27 10:48:15,311]\u001b[0m Trial 56 finished with values: [0.009234620597188305, 0.6815820697212852] and parameters: {'learning_rate': 0.009234620597188305}. \u001b[0m\n",
      "\u001b[32m[I 2023-04-27 10:48:16,010]\u001b[0m Trial 57 finished with values: [0.030789337644333142, 0.7297299658845593] and parameters: {'learning_rate': 0.030789337644333142}. \u001b[0m\n",
      "\u001b[32m[I 2023-04-27 10:48:16,741]\u001b[0m Trial 58 finished with values: [0.0005196761744466342, 0.4235082247366586] and parameters: {'learning_rate': 0.0005196761744466342}. \u001b[0m\n",
      "\u001b[32m[I 2023-04-27 10:48:17,397]\u001b[0m Trial 59 finished with values: [0.21454254531144426, 0.7279770709345865] and parameters: {'learning_rate': 0.21454254531144426}. \u001b[0m\n",
      "\u001b[32m[I 2023-04-27 10:48:18,113]\u001b[0m Trial 60 finished with values: [0.023714036796718886, 0.7259369472766212] and parameters: {'learning_rate': 0.023714036796718886}. \u001b[0m\n",
      "\u001b[32m[I 2023-04-27 10:48:18,831]\u001b[0m Trial 61 finished with values: [0.042951701452191404, 0.7302474855948291] and parameters: {'learning_rate': 0.042951701452191404}. \u001b[0m\n",
      "\u001b[32m[I 2023-04-27 10:48:19,505]\u001b[0m Trial 62 finished with values: [0.30521179006815724, 0.7193743184471776] and parameters: {'learning_rate': 0.30521179006815724}. \u001b[0m\n",
      "\u001b[32m[I 2023-04-27 10:48:20,238]\u001b[0m Trial 63 finished with values: [0.0031088442966744653, 0.4235082247366586] and parameters: {'learning_rate': 0.0031088442966744653}. \u001b[0m\n",
      "\u001b[32m[I 2023-04-27 10:48:20,968]\u001b[0m Trial 64 finished with values: [0.0004014235312843208, 0.4235082247366586] and parameters: {'learning_rate': 0.0004014235312843208}. \u001b[0m\n",
      "\u001b[32m[I 2023-04-27 10:48:21,682]\u001b[0m Trial 65 finished with values: [0.005578035829630357, 0.6170142717941252] and parameters: {'learning_rate': 0.005578035829630357}. \u001b[0m\n",
      "\u001b[32m[I 2023-04-27 10:48:22,420]\u001b[0m Trial 66 finished with values: [0.0001592544431367279, 0.4235082247366586] and parameters: {'learning_rate': 0.0001592544431367279}. \u001b[0m\n",
      "\u001b[32m[I 2023-04-27 10:48:23,115]\u001b[0m Trial 67 finished with values: [0.0807232375319011, 0.7309408871913655] and parameters: {'learning_rate': 0.0807232375319011}. \u001b[0m\n",
      "\u001b[32m[I 2023-04-27 10:48:23,791]\u001b[0m Trial 68 finished with values: [0.16799292006264588, 0.7309842390105754] and parameters: {'learning_rate': 0.16799292006264588}. \u001b[0m\n",
      "\u001b[32m[I 2023-04-27 10:48:24,481]\u001b[0m Trial 69 finished with values: [0.04159311590472715, 0.7313584050417112] and parameters: {'learning_rate': 0.04159311590472715}. \u001b[0m\n",
      "\u001b[32m[I 2023-04-27 10:48:25,217]\u001b[0m Trial 70 finished with values: [0.0007829813261500128, 0.4235082247366586] and parameters: {'learning_rate': 0.0007829813261500128}. \u001b[0m\n",
      "\u001b[32m[I 2023-04-27 10:48:25,965]\u001b[0m Trial 71 finished with values: [0.0005327862205087224, 0.4235082247366586] and parameters: {'learning_rate': 0.0005327862205087224}. \u001b[0m\n",
      "\u001b[32m[I 2023-04-27 10:48:26,763]\u001b[0m Trial 72 finished with values: [0.011004042996587247, 0.7013991059388606] and parameters: {'learning_rate': 0.011004042996587247}. \u001b[0m\n",
      "\u001b[32m[I 2023-04-27 10:48:27,570]\u001b[0m Trial 73 finished with values: [0.012096495400321669, 0.7112448137800941] and parameters: {'learning_rate': 0.012096495400321669}. \u001b[0m\n",
      "\u001b[32m[I 2023-04-27 10:48:28,277]\u001b[0m Trial 74 finished with values: [0.07830377287729806, 0.7306338561389435] and parameters: {'learning_rate': 0.07830377287729806}. \u001b[0m\n",
      "\u001b[32m[I 2023-04-27 10:48:29,000]\u001b[0m Trial 75 finished with values: [0.0020289312962674306, 0.4235082247366586] and parameters: {'learning_rate': 0.0020289312962674306}. \u001b[0m\n",
      "\u001b[32m[I 2023-04-27 10:48:29,717]\u001b[0m Trial 76 finished with values: [0.007003614272196497, 0.653715322076985] and parameters: {'learning_rate': 0.007003614272196497}. \u001b[0m\n",
      "\u001b[32m[I 2023-04-27 10:48:30,438]\u001b[0m Trial 77 finished with values: [0.026811861365256547, 0.7281393119846103] and parameters: {'learning_rate': 0.026811861365256547}. \u001b[0m\n",
      "\u001b[32m[I 2023-04-27 10:48:31,206]\u001b[0m Trial 78 finished with values: [0.0014534431094221844, 0.4235082247366586] and parameters: {'learning_rate': 0.0014534431094221844}. \u001b[0m\n",
      "\u001b[32m[I 2023-04-27 10:48:31,910]\u001b[0m Trial 79 finished with values: [0.07184266906020101, 0.7318954915835494] and parameters: {'learning_rate': 0.07184266906020101}. \u001b[0m\n",
      "\u001b[32m[I 2023-04-27 10:48:32,611]\u001b[0m Trial 80 finished with values: [0.20138173825410338, 0.7278080193179831] and parameters: {'learning_rate': 0.20138173825410338}. \u001b[0m\n",
      "\u001b[32m[I 2023-04-27 10:48:33,350]\u001b[0m Trial 81 finished with values: [0.01956656266919498, 0.7259187426802697] and parameters: {'learning_rate': 0.01956656266919498}. \u001b[0m\n",
      "\u001b[32m[I 2023-04-27 10:48:34,043]\u001b[0m Trial 82 finished with values: [0.005251844487229045, 0.6024609734794308] and parameters: {'learning_rate': 0.005251844487229045}. \u001b[0m\n",
      "\u001b[32m[I 2023-04-27 10:48:34,734]\u001b[0m Trial 83 finished with values: [0.0007975269741962664, 0.4235082247366586] and parameters: {'learning_rate': 0.0007975269741962664}. \u001b[0m\n",
      "\u001b[32m[I 2023-04-27 10:48:35,428]\u001b[0m Trial 84 finished with values: [0.0005538907493946157, 0.4235082247366586] and parameters: {'learning_rate': 0.0005538907493946157}. \u001b[0m\n",
      "\u001b[32m[I 2023-04-27 10:48:36,126]\u001b[0m Trial 85 finished with values: [0.0835122016432078, 0.7321890615843162] and parameters: {'learning_rate': 0.0835122016432078}. \u001b[0m\n",
      "\u001b[32m[I 2023-04-27 10:48:36,860]\u001b[0m Trial 86 finished with values: [0.0006260697703589752, 0.4235082247366586] and parameters: {'learning_rate': 0.0006260697703589752}. \u001b[0m\n",
      "\u001b[32m[I 2023-04-27 10:48:37,556]\u001b[0m Trial 87 finished with values: [0.11742527067046299, 0.7321944783582703] and parameters: {'learning_rate': 0.11742527067046299}. \u001b[0m\n",
      "\u001b[32m[I 2023-04-27 10:48:38,296]\u001b[0m Trial 88 finished with values: [0.004544231657855253, 0.5343888745179519] and parameters: {'learning_rate': 0.004544231657855253}. \u001b[0m\n",
      "\u001b[32m[I 2023-04-27 10:48:39,070]\u001b[0m Trial 89 finished with values: [0.00012209259631005412, 0.4235082247366586] and parameters: {'learning_rate': 0.00012209259631005412}. \u001b[0m\n",
      "\u001b[32m[I 2023-04-27 10:48:39,823]\u001b[0m Trial 90 finished with values: [0.001267549290534437, 0.4235082247366586] and parameters: {'learning_rate': 0.001267549290534437}. \u001b[0m\n",
      "\u001b[32m[I 2023-04-27 10:48:40,539]\u001b[0m Trial 91 finished with values: [0.004363976487357013, 0.5087369170754972] and parameters: {'learning_rate': 0.004363976487357013}. \u001b[0m\n",
      "\u001b[32m[I 2023-04-27 10:48:41,243]\u001b[0m Trial 92 finished with values: [0.017485462659550834, 0.722280452051524] and parameters: {'learning_rate': 0.017485462659550834}. \u001b[0m\n",
      "\u001b[32m[I 2023-04-27 10:48:41,927]\u001b[0m Trial 93 finished with values: [0.44828056389247145, 0.7116760995541701] and parameters: {'learning_rate': 0.44828056389247145}. \u001b[0m\n",
      "\u001b[32m[I 2023-04-27 10:48:42,634]\u001b[0m Trial 94 finished with values: [0.08277845673611592, 0.7314187112500111] and parameters: {'learning_rate': 0.08277845673611592}. \u001b[0m\n",
      "\u001b[32m[I 2023-04-27 10:48:43,357]\u001b[0m Trial 95 finished with values: [0.0003291311959625348, 0.4235082247366586] and parameters: {'learning_rate': 0.0003291311959625348}. \u001b[0m\n",
      "\u001b[32m[I 2023-04-27 10:48:44,073]\u001b[0m Trial 96 finished with values: [0.00022868118733042252, 0.4235082247366586] and parameters: {'learning_rate': 0.00022868118733042252}. \u001b[0m\n",
      "\u001b[32m[I 2023-04-27 10:48:44,798]\u001b[0m Trial 97 finished with values: [0.18286145837300968, 0.7262427071035374] and parameters: {'learning_rate': 0.18286145837300968}. \u001b[0m\n",
      "\u001b[32m[I 2023-04-27 10:48:45,479]\u001b[0m Trial 98 finished with values: [0.06941692989749879, 0.7295385067809874] and parameters: {'learning_rate': 0.06941692989749879}. \u001b[0m\n",
      "\u001b[32m[I 2023-04-27 10:48:46,147]\u001b[0m Trial 99 finished with values: [0.19305171220017311, 0.7262367052555226] and parameters: {'learning_rate': 0.19305171220017311}. \u001b[0m\n"
     ]
    }
   ],
   "source": [
    "study = optuna.create_study(directions=[\"maximize\", \"maximize\"])\n",
    "study.optimize(moo_objective, n_trials=100)"
   ]
  },
  {
   "cell_type": "code",
   "execution_count": 24,
   "metadata": {
    "ExecuteTime": {
     "end_time": "2023-04-27T12:48:46.776516Z",
     "start_time": "2023-04-27T12:48:45.820953Z"
    },
    "collapsed": false
   },
   "outputs": [
    {
     "data": {
      "application/vnd.plotly.v1+json": {
       "config": {
        "plotlyServerURL": "https://plot.ly"
       },
       "data": [
        {
         "hovertemplate": "%{text}<extra>Trial</extra>",
         "marker": {
          "color": [
           0,
           1,
           2,
           4,
           5,
           6,
           7,
           8,
           9,
           10,
           11,
           13,
           15,
           16,
           17,
           18,
           19,
           20,
           21,
           22,
           23,
           25,
           26,
           28,
           31,
           32,
           33,
           34,
           36,
           37,
           38,
           39,
           40,
           41,
           42,
           44,
           45,
           46,
           47,
           48,
           49,
           50,
           51,
           52,
           54,
           55,
           56,
           57,
           58,
           60,
           61,
           63,
           64,
           65,
           66,
           67,
           69,
           70,
           71,
           72,
           73,
           74,
           75,
           76,
           77,
           78,
           79,
           80,
           81,
           82,
           83,
           84,
           85,
           86,
           88,
           89,
           90,
           91,
           92,
           93,
           94,
           95,
           96,
           97,
           98,
           99
          ],
          "colorbar": {
           "title": {
            "text": "Trial"
           }
          },
          "colorscale": [
           [
            0,
            "rgb(247,251,255)"
           ],
           [
            0.125,
            "rgb(222,235,247)"
           ],
           [
            0.25,
            "rgb(198,219,239)"
           ],
           [
            0.375,
            "rgb(158,202,225)"
           ],
           [
            0.5,
            "rgb(107,174,214)"
           ],
           [
            0.625,
            "rgb(66,146,198)"
           ],
           [
            0.75,
            "rgb(33,113,181)"
           ],
           [
            0.875,
            "rgb(8,81,156)"
           ],
           [
            1,
            "rgb(8,48,107)"
           ]
          ],
          "line": {
           "color": "Grey",
           "width": 0.5
          }
         },
         "mode": "markers",
         "showlegend": false,
         "text": [
          "{<br>  \"number\": 0,<br>  \"values\": [<br>    0.018276625572235056,<br>    0.7229728382357858<br>  ],<br>  \"params\": {<br>    \"learning_rate\": 0.018276625572235056<br>  }<br>}",
          "{<br>  \"number\": 1,<br>  \"values\": [<br>    0.012281350875017864,<br>    0.713129498994182<br>  ],<br>  \"params\": {<br>    \"learning_rate\": 0.012281350875017864<br>  }<br>}",
          "{<br>  \"number\": 2,<br>  \"values\": [<br>    0.3179931543219117,<br>    0.7181352358216049<br>  ],<br>  \"params\": {<br>    \"learning_rate\": 0.3179931543219117<br>  }<br>}",
          "{<br>  \"number\": 4,<br>  \"values\": [<br>    0.010097499163932589,<br>    0.689595604293249<br>  ],<br>  \"params\": {<br>    \"learning_rate\": 0.010097499163932589<br>  }<br>}",
          "{<br>  \"number\": 5,<br>  \"values\": [<br>    0.0010284892903758126,<br>    0.4235082247366586<br>  ],<br>  \"params\": {<br>    \"learning_rate\": 0.0010284892903758126<br>  }<br>}",
          "{<br>  \"number\": 6,<br>  \"values\": [<br>    0.0008073623310050534,<br>    0.4235082247366586<br>  ],<br>  \"params\": {<br>    \"learning_rate\": 0.0008073623310050534<br>  }<br>}",
          "{<br>  \"number\": 7,<br>  \"values\": [<br>    0.009446892389275133,<br>    0.6841554205738356<br>  ],<br>  \"params\": {<br>    \"learning_rate\": 0.009446892389275133<br>  }<br>}",
          "{<br>  \"number\": 8,<br>  \"values\": [<br>    0.042129982546996285,<br>    0.7318679125094985<br>  ],<br>  \"params\": {<br>    \"learning_rate\": 0.042129982546996285<br>  }<br>}",
          "{<br>  \"number\": 9,<br>  \"values\": [<br>    0.006234336282154794,<br>    0.6372047388051083<br>  ],<br>  \"params\": {<br>    \"learning_rate\": 0.006234336282154794<br>  }<br>}",
          "{<br>  \"number\": 10,<br>  \"values\": [<br>    0.0014213907266344855,<br>    0.4235082247366586<br>  ],<br>  \"params\": {<br>    \"learning_rate\": 0.0014213907266344855<br>  }<br>}",
          "{<br>  \"number\": 11,<br>  \"values\": [<br>    0.0074818711669891215,<br>    0.6643619268828908<br>  ],<br>  \"params\": {<br>    \"learning_rate\": 0.0074818711669891215<br>  }<br>}",
          "{<br>  \"number\": 13,<br>  \"values\": [<br>    0.0012664149179400209,<br>    0.4235082247366586<br>  ],<br>  \"params\": {<br>    \"learning_rate\": 0.0012664149179400209<br>  }<br>}",
          "{<br>  \"number\": 15,<br>  \"values\": [<br>    0.01538041330688695,<br>    0.7173796023919852<br>  ],<br>  \"params\": {<br>    \"learning_rate\": 0.01538041330688695<br>  }<br>}",
          "{<br>  \"number\": 16,<br>  \"values\": [<br>    0.018396986660930648,<br>    0.7227368738811438<br>  ],<br>  \"params\": {<br>    \"learning_rate\": 0.018396986660930648<br>  }<br>}",
          "{<br>  \"number\": 17,<br>  \"values\": [<br>    0.0030415201353781317,<br>    0.4235082247366586<br>  ],<br>  \"params\": {<br>    \"learning_rate\": 0.0030415201353781317<br>  }<br>}",
          "{<br>  \"number\": 18,<br>  \"values\": [<br>    0.34679130964813293,<br>    0.7165372792236238<br>  ],<br>  \"params\": {<br>    \"learning_rate\": 0.34679130964813293<br>  }<br>}",
          "{<br>  \"number\": 19,<br>  \"values\": [<br>    0.0016185106184141472,<br>    0.4235082247366586<br>  ],<br>  \"params\": {<br>    \"learning_rate\": 0.0016185106184141472<br>  }<br>}",
          "{<br>  \"number\": 20,<br>  \"values\": [<br>    0.09977031400739048,<br>    0.7302018596960369<br>  ],<br>  \"params\": {<br>    \"learning_rate\": 0.09977031400739048<br>  }<br>}",
          "{<br>  \"number\": 21,<br>  \"values\": [<br>    0.00015692458115144144,<br>    0.4235082247366586<br>  ],<br>  \"params\": {<br>    \"learning_rate\": 0.00015692458115144144<br>  }<br>}",
          "{<br>  \"number\": 22,<br>  \"values\": [<br>    0.0014637099340279343,<br>    0.4235082247366586<br>  ],<br>  \"params\": {<br>    \"learning_rate\": 0.0014637099340279343<br>  }<br>}",
          "{<br>  \"number\": 23,<br>  \"values\": [<br>    0.237542460048024,<br>    0.7216310177763523<br>  ],<br>  \"params\": {<br>    \"learning_rate\": 0.237542460048024<br>  }<br>}",
          "{<br>  \"number\": 25,<br>  \"values\": [<br>    0.039216586476540555,<br>    0.7301579035907364<br>  ],<br>  \"params\": {<br>    \"learning_rate\": 0.039216586476540555<br>  }<br>}",
          "{<br>  \"number\": 26,<br>  \"values\": [<br>    0.04413193652148863,<br>    0.7292176187667853<br>  ],<br>  \"params\": {<br>    \"learning_rate\": 0.04413193652148863<br>  }<br>}",
          "{<br>  \"number\": 28,<br>  \"values\": [<br>    0.0006332697167843045,<br>    0.4235082247366586<br>  ],<br>  \"params\": {<br>    \"learning_rate\": 0.0006332697167843045<br>  }<br>}",
          "{<br>  \"number\": 31,<br>  \"values\": [<br>    0.036619413830782564,<br>    0.7302184406320554<br>  ],<br>  \"params\": {<br>    \"learning_rate\": 0.036619413830782564<br>  }<br>}",
          "{<br>  \"number\": 32,<br>  \"values\": [<br>    0.03610204856200786,<br>    0.7304328067409969<br>  ],<br>  \"params\": {<br>    \"learning_rate\": 0.03610204856200786<br>  }<br>}",
          "{<br>  \"number\": 33,<br>  \"values\": [<br>    0.0021961450728918896,<br>    0.4235082247366586<br>  ],<br>  \"params\": {<br>    \"learning_rate\": 0.0021961450728918896<br>  }<br>}",
          "{<br>  \"number\": 34,<br>  \"values\": [<br>    0.012193586140043794,<br>    0.7120523440790167<br>  ],<br>  \"params\": {<br>    \"learning_rate\": 0.012193586140043794<br>  }<br>}",
          "{<br>  \"number\": 36,<br>  \"values\": [<br>    0.00017918412416240907,<br>    0.4235082247366586<br>  ],<br>  \"params\": {<br>    \"learning_rate\": 0.00017918412416240907<br>  }<br>}",
          "{<br>  \"number\": 37,<br>  \"values\": [<br>    0.014133500358080071,<br>    0.7167142851538554<br>  ],<br>  \"params\": {<br>    \"learning_rate\": 0.014133500358080071<br>  }<br>}",
          "{<br>  \"number\": 38,<br>  \"values\": [<br>    0.04852382290869409,<br>    0.7310333204595433<br>  ],<br>  \"params\": {<br>    \"learning_rate\": 0.04852382290869409<br>  }<br>}",
          "{<br>  \"number\": 39,<br>  \"values\": [<br>    0.040201201662143485,<br>    0.7306614283099379<br>  ],<br>  \"params\": {<br>    \"learning_rate\": 0.040201201662143485<br>  }<br>}",
          "{<br>  \"number\": 40,<br>  \"values\": [<br>    0.0011776265316570207,<br>    0.4235082247366586<br>  ],<br>  \"params\": {<br>    \"learning_rate\": 0.0011776265316570207<br>  }<br>}",
          "{<br>  \"number\": 41,<br>  \"values\": [<br>    0.026396073829949854,<br>    0.7294521208392316<br>  ],<br>  \"params\": {<br>    \"learning_rate\": 0.026396073829949854<br>  }<br>}",
          "{<br>  \"number\": 42,<br>  \"values\": [<br>    0.19287363423507076,<br>    0.7259236143539816<br>  ],<br>  \"params\": {<br>    \"learning_rate\": 0.19287363423507076<br>  }<br>}",
          "{<br>  \"number\": 44,<br>  \"values\": [<br>    0.06950786503628438,<br>    0.7323174432397132<br>  ],<br>  \"params\": {<br>    \"learning_rate\": 0.06950786503628438<br>  }<br>}",
          "{<br>  \"number\": 45,<br>  \"values\": [<br>    0.0013182070434705978,<br>    0.4235082247366586<br>  ],<br>  \"params\": {<br>    \"learning_rate\": 0.0013182070434705978<br>  }<br>}",
          "{<br>  \"number\": 46,<br>  \"values\": [<br>    0.0001689170415983065,<br>    0.4235082247366586<br>  ],<br>  \"params\": {<br>    \"learning_rate\": 0.0001689170415983065<br>  }<br>}",
          "{<br>  \"number\": 47,<br>  \"values\": [<br>    0.0021018530965500105,<br>    0.4235082247366586<br>  ],<br>  \"params\": {<br>    \"learning_rate\": 0.0021018530965500105<br>  }<br>}",
          "{<br>  \"number\": 48,<br>  \"values\": [<br>    0.00019287163151974652,<br>    0.4235082247366586<br>  ],<br>  \"params\": {<br>    \"learning_rate\": 0.00019287163151974652<br>  }<br>}",
          "{<br>  \"number\": 49,<br>  \"values\": [<br>    0.1714187324525616,<br>    0.7274564562489783<br>  ],<br>  \"params\": {<br>    \"learning_rate\": 0.1714187324525616<br>  }<br>}",
          "{<br>  \"number\": 50,<br>  \"values\": [<br>    0.028218912249716382,<br>    0.7285799931977797<br>  ],<br>  \"params\": {<br>    \"learning_rate\": 0.028218912249716382<br>  }<br>}",
          "{<br>  \"number\": 51,<br>  \"values\": [<br>    0.00037469787058577405,<br>    0.4235082247366586<br>  ],<br>  \"params\": {<br>    \"learning_rate\": 0.00037469787058577405<br>  }<br>}",
          "{<br>  \"number\": 52,<br>  \"values\": [<br>    0.016517619384449466,<br>    0.7201909680929806<br>  ],<br>  \"params\": {<br>    \"learning_rate\": 0.016517619384449466<br>  }<br>}",
          "{<br>  \"number\": 54,<br>  \"values\": [<br>    0.01075645544167512,<br>    0.6983807551597365<br>  ],<br>  \"params\": {<br>    \"learning_rate\": 0.01075645544167512<br>  }<br>}",
          "{<br>  \"number\": 55,<br>  \"values\": [<br>    0.0013300668001608705,<br>    0.4235082247366586<br>  ],<br>  \"params\": {<br>    \"learning_rate\": 0.0013300668001608705<br>  }<br>}",
          "{<br>  \"number\": 56,<br>  \"values\": [<br>    0.009234620597188305,<br>    0.6815820697212852<br>  ],<br>  \"params\": {<br>    \"learning_rate\": 0.009234620597188305<br>  }<br>}",
          "{<br>  \"number\": 57,<br>  \"values\": [<br>    0.030789337644333142,<br>    0.7297299658845593<br>  ],<br>  \"params\": {<br>    \"learning_rate\": 0.030789337644333142<br>  }<br>}",
          "{<br>  \"number\": 58,<br>  \"values\": [<br>    0.0005196761744466342,<br>    0.4235082247366586<br>  ],<br>  \"params\": {<br>    \"learning_rate\": 0.0005196761744466342<br>  }<br>}",
          "{<br>  \"number\": 60,<br>  \"values\": [<br>    0.023714036796718886,<br>    0.7259369472766212<br>  ],<br>  \"params\": {<br>    \"learning_rate\": 0.023714036796718886<br>  }<br>}",
          "{<br>  \"number\": 61,<br>  \"values\": [<br>    0.042951701452191404,<br>    0.7302474855948291<br>  ],<br>  \"params\": {<br>    \"learning_rate\": 0.042951701452191404<br>  }<br>}",
          "{<br>  \"number\": 63,<br>  \"values\": [<br>    0.0031088442966744653,<br>    0.4235082247366586<br>  ],<br>  \"params\": {<br>    \"learning_rate\": 0.0031088442966744653<br>  }<br>}",
          "{<br>  \"number\": 64,<br>  \"values\": [<br>    0.0004014235312843208,<br>    0.4235082247366586<br>  ],<br>  \"params\": {<br>    \"learning_rate\": 0.0004014235312843208<br>  }<br>}",
          "{<br>  \"number\": 65,<br>  \"values\": [<br>    0.005578035829630357,<br>    0.6170142717941252<br>  ],<br>  \"params\": {<br>    \"learning_rate\": 0.005578035829630357<br>  }<br>}",
          "{<br>  \"number\": 66,<br>  \"values\": [<br>    0.0001592544431367279,<br>    0.4235082247366586<br>  ],<br>  \"params\": {<br>    \"learning_rate\": 0.0001592544431367279<br>  }<br>}",
          "{<br>  \"number\": 67,<br>  \"values\": [<br>    0.0807232375319011,<br>    0.7309408871913655<br>  ],<br>  \"params\": {<br>    \"learning_rate\": 0.0807232375319011<br>  }<br>}",
          "{<br>  \"number\": 69,<br>  \"values\": [<br>    0.04159311590472715,<br>    0.7313584050417112<br>  ],<br>  \"params\": {<br>    \"learning_rate\": 0.04159311590472715<br>  }<br>}",
          "{<br>  \"number\": 70,<br>  \"values\": [<br>    0.0007829813261500128,<br>    0.4235082247366586<br>  ],<br>  \"params\": {<br>    \"learning_rate\": 0.0007829813261500128<br>  }<br>}",
          "{<br>  \"number\": 71,<br>  \"values\": [<br>    0.0005327862205087224,<br>    0.4235082247366586<br>  ],<br>  \"params\": {<br>    \"learning_rate\": 0.0005327862205087224<br>  }<br>}",
          "{<br>  \"number\": 72,<br>  \"values\": [<br>    0.011004042996587247,<br>    0.7013991059388606<br>  ],<br>  \"params\": {<br>    \"learning_rate\": 0.011004042996587247<br>  }<br>}",
          "{<br>  \"number\": 73,<br>  \"values\": [<br>    0.012096495400321669,<br>    0.7112448137800941<br>  ],<br>  \"params\": {<br>    \"learning_rate\": 0.012096495400321669<br>  }<br>}",
          "{<br>  \"number\": 74,<br>  \"values\": [<br>    0.07830377287729806,<br>    0.7306338561389435<br>  ],<br>  \"params\": {<br>    \"learning_rate\": 0.07830377287729806<br>  }<br>}",
          "{<br>  \"number\": 75,<br>  \"values\": [<br>    0.0020289312962674306,<br>    0.4235082247366586<br>  ],<br>  \"params\": {<br>    \"learning_rate\": 0.0020289312962674306<br>  }<br>}",
          "{<br>  \"number\": 76,<br>  \"values\": [<br>    0.007003614272196497,<br>    0.653715322076985<br>  ],<br>  \"params\": {<br>    \"learning_rate\": 0.007003614272196497<br>  }<br>}",
          "{<br>  \"number\": 77,<br>  \"values\": [<br>    0.026811861365256547,<br>    0.7281393119846103<br>  ],<br>  \"params\": {<br>    \"learning_rate\": 0.026811861365256547<br>  }<br>}",
          "{<br>  \"number\": 78,<br>  \"values\": [<br>    0.0014534431094221844,<br>    0.4235082247366586<br>  ],<br>  \"params\": {<br>    \"learning_rate\": 0.0014534431094221844<br>  }<br>}",
          "{<br>  \"number\": 79,<br>  \"values\": [<br>    0.07184266906020101,<br>    0.7318954915835494<br>  ],<br>  \"params\": {<br>    \"learning_rate\": 0.07184266906020101<br>  }<br>}",
          "{<br>  \"number\": 80,<br>  \"values\": [<br>    0.20138173825410338,<br>    0.7278080193179831<br>  ],<br>  \"params\": {<br>    \"learning_rate\": 0.20138173825410338<br>  }<br>}",
          "{<br>  \"number\": 81,<br>  \"values\": [<br>    0.01956656266919498,<br>    0.7259187426802697<br>  ],<br>  \"params\": {<br>    \"learning_rate\": 0.01956656266919498<br>  }<br>}",
          "{<br>  \"number\": 82,<br>  \"values\": [<br>    0.005251844487229045,<br>    0.6024609734794308<br>  ],<br>  \"params\": {<br>    \"learning_rate\": 0.005251844487229045<br>  }<br>}",
          "{<br>  \"number\": 83,<br>  \"values\": [<br>    0.0007975269741962664,<br>    0.4235082247366586<br>  ],<br>  \"params\": {<br>    \"learning_rate\": 0.0007975269741962664<br>  }<br>}",
          "{<br>  \"number\": 84,<br>  \"values\": [<br>    0.0005538907493946157,<br>    0.4235082247366586<br>  ],<br>  \"params\": {<br>    \"learning_rate\": 0.0005538907493946157<br>  }<br>}",
          "{<br>  \"number\": 85,<br>  \"values\": [<br>    0.0835122016432078,<br>    0.7321890615843162<br>  ],<br>  \"params\": {<br>    \"learning_rate\": 0.0835122016432078<br>  }<br>}",
          "{<br>  \"number\": 86,<br>  \"values\": [<br>    0.0006260697703589752,<br>    0.4235082247366586<br>  ],<br>  \"params\": {<br>    \"learning_rate\": 0.0006260697703589752<br>  }<br>}",
          "{<br>  \"number\": 88,<br>  \"values\": [<br>    0.004544231657855253,<br>    0.5343888745179519<br>  ],<br>  \"params\": {<br>    \"learning_rate\": 0.004544231657855253<br>  }<br>}",
          "{<br>  \"number\": 89,<br>  \"values\": [<br>    0.00012209259631005412,<br>    0.4235082247366586<br>  ],<br>  \"params\": {<br>    \"learning_rate\": 0.00012209259631005412<br>  }<br>}",
          "{<br>  \"number\": 90,<br>  \"values\": [<br>    0.001267549290534437,<br>    0.4235082247366586<br>  ],<br>  \"params\": {<br>    \"learning_rate\": 0.001267549290534437<br>  }<br>}",
          "{<br>  \"number\": 91,<br>  \"values\": [<br>    0.004363976487357013,<br>    0.5087369170754972<br>  ],<br>  \"params\": {<br>    \"learning_rate\": 0.004363976487357013<br>  }<br>}",
          "{<br>  \"number\": 92,<br>  \"values\": [<br>    0.017485462659550834,<br>    0.722280452051524<br>  ],<br>  \"params\": {<br>    \"learning_rate\": 0.017485462659550834<br>  }<br>}",
          "{<br>  \"number\": 93,<br>  \"values\": [<br>    0.44828056389247145,<br>    0.7116760995541701<br>  ],<br>  \"params\": {<br>    \"learning_rate\": 0.44828056389247145<br>  }<br>}",
          "{<br>  \"number\": 94,<br>  \"values\": [<br>    0.08277845673611592,<br>    0.7314187112500111<br>  ],<br>  \"params\": {<br>    \"learning_rate\": 0.08277845673611592<br>  }<br>}",
          "{<br>  \"number\": 95,<br>  \"values\": [<br>    0.0003291311959625348,<br>    0.4235082247366586<br>  ],<br>  \"params\": {<br>    \"learning_rate\": 0.0003291311959625348<br>  }<br>}",
          "{<br>  \"number\": 96,<br>  \"values\": [<br>    0.00022868118733042252,<br>    0.4235082247366586<br>  ],<br>  \"params\": {<br>    \"learning_rate\": 0.00022868118733042252<br>  }<br>}",
          "{<br>  \"number\": 97,<br>  \"values\": [<br>    0.18286145837300968,<br>    0.7262427071035374<br>  ],<br>  \"params\": {<br>    \"learning_rate\": 0.18286145837300968<br>  }<br>}",
          "{<br>  \"number\": 98,<br>  \"values\": [<br>    0.06941692989749879,<br>    0.7295385067809874<br>  ],<br>  \"params\": {<br>    \"learning_rate\": 0.06941692989749879<br>  }<br>}",
          "{<br>  \"number\": 99,<br>  \"values\": [<br>    0.19305171220017311,<br>    0.7262367052555226<br>  ],<br>  \"params\": {<br>    \"learning_rate\": 0.19305171220017311<br>  }<br>}"
         ],
         "type": "scatter",
         "x": [
          0.018276625572235056,
          0.012281350875017864,
          0.3179931543219117,
          0.010097499163932589,
          0.0010284892903758126,
          0.0008073623310050534,
          0.009446892389275133,
          0.042129982546996285,
          0.006234336282154794,
          0.0014213907266344855,
          0.0074818711669891215,
          0.0012664149179400209,
          0.01538041330688695,
          0.018396986660930648,
          0.0030415201353781317,
          0.34679130964813293,
          0.0016185106184141472,
          0.09977031400739048,
          0.00015692458115144144,
          0.0014637099340279343,
          0.237542460048024,
          0.039216586476540555,
          0.04413193652148863,
          0.0006332697167843045,
          0.036619413830782564,
          0.03610204856200786,
          0.0021961450728918896,
          0.012193586140043794,
          0.00017918412416240907,
          0.014133500358080071,
          0.04852382290869409,
          0.040201201662143485,
          0.0011776265316570207,
          0.026396073829949854,
          0.19287363423507076,
          0.06950786503628438,
          0.0013182070434705978,
          0.0001689170415983065,
          0.0021018530965500105,
          0.00019287163151974652,
          0.1714187324525616,
          0.028218912249716382,
          0.00037469787058577405,
          0.016517619384449466,
          0.01075645544167512,
          0.0013300668001608705,
          0.009234620597188305,
          0.030789337644333142,
          0.0005196761744466342,
          0.023714036796718886,
          0.042951701452191404,
          0.0031088442966744653,
          0.0004014235312843208,
          0.005578035829630357,
          0.0001592544431367279,
          0.0807232375319011,
          0.04159311590472715,
          0.0007829813261500128,
          0.0005327862205087224,
          0.011004042996587247,
          0.012096495400321669,
          0.07830377287729806,
          0.0020289312962674306,
          0.007003614272196497,
          0.026811861365256547,
          0.0014534431094221844,
          0.07184266906020101,
          0.20138173825410338,
          0.01956656266919498,
          0.005251844487229045,
          0.0007975269741962664,
          0.0005538907493946157,
          0.0835122016432078,
          0.0006260697703589752,
          0.004544231657855253,
          0.00012209259631005412,
          0.001267549290534437,
          0.004363976487357013,
          0.017485462659550834,
          0.44828056389247145,
          0.08277845673611592,
          0.0003291311959625348,
          0.00022868118733042252,
          0.18286145837300968,
          0.06941692989749879,
          0.19305171220017311
         ],
         "y": [
          0.7229728382357858,
          0.713129498994182,
          0.7181352358216049,
          0.689595604293249,
          0.4235082247366586,
          0.4235082247366586,
          0.6841554205738356,
          0.7318679125094985,
          0.6372047388051083,
          0.4235082247366586,
          0.6643619268828908,
          0.4235082247366586,
          0.7173796023919852,
          0.7227368738811438,
          0.4235082247366586,
          0.7165372792236238,
          0.4235082247366586,
          0.7302018596960369,
          0.4235082247366586,
          0.4235082247366586,
          0.7216310177763523,
          0.7301579035907364,
          0.7292176187667853,
          0.4235082247366586,
          0.7302184406320554,
          0.7304328067409969,
          0.4235082247366586,
          0.7120523440790167,
          0.4235082247366586,
          0.7167142851538554,
          0.7310333204595433,
          0.7306614283099379,
          0.4235082247366586,
          0.7294521208392316,
          0.7259236143539816,
          0.7323174432397132,
          0.4235082247366586,
          0.4235082247366586,
          0.4235082247366586,
          0.4235082247366586,
          0.7274564562489783,
          0.7285799931977797,
          0.4235082247366586,
          0.7201909680929806,
          0.6983807551597365,
          0.4235082247366586,
          0.6815820697212852,
          0.7297299658845593,
          0.4235082247366586,
          0.7259369472766212,
          0.7302474855948291,
          0.4235082247366586,
          0.4235082247366586,
          0.6170142717941252,
          0.4235082247366586,
          0.7309408871913655,
          0.7313584050417112,
          0.4235082247366586,
          0.4235082247366586,
          0.7013991059388606,
          0.7112448137800941,
          0.7306338561389435,
          0.4235082247366586,
          0.653715322076985,
          0.7281393119846103,
          0.4235082247366586,
          0.7318954915835494,
          0.7278080193179831,
          0.7259187426802697,
          0.6024609734794308,
          0.4235082247366586,
          0.4235082247366586,
          0.7321890615843162,
          0.4235082247366586,
          0.5343888745179519,
          0.4235082247366586,
          0.4235082247366586,
          0.5087369170754972,
          0.722280452051524,
          0.7116760995541701,
          0.7314187112500111,
          0.4235082247366586,
          0.4235082247366586,
          0.7262427071035374,
          0.7295385067809874,
          0.7262367052555226
         ]
        },
        {
         "hovertemplate": "%{text}<extra>Best Trial</extra>",
         "marker": {
          "color": [
           3,
           12,
           14,
           24,
           27,
           29,
           30,
           35,
           43,
           53,
           59,
           62,
           68,
           87
          ],
          "colorbar": {
           "title": {
            "text": "Best Trial"
           },
           "x": 1.1,
           "xpad": 40
          },
          "colorscale": [
           [
            0,
            "rgb(255,245,240)"
           ],
           [
            0.125,
            "rgb(254,224,210)"
           ],
           [
            0.25,
            "rgb(252,187,161)"
           ],
           [
            0.375,
            "rgb(252,146,114)"
           ],
           [
            0.5,
            "rgb(251,106,74)"
           ],
           [
            0.625,
            "rgb(239,59,44)"
           ],
           [
            0.75,
            "rgb(203,24,29)"
           ],
           [
            0.875,
            "rgb(165,15,21)"
           ],
           [
            1,
            "rgb(103,0,13)"
           ]
          ],
          "line": {
           "color": "Grey",
           "width": 0.5
          }
         },
         "mode": "markers",
         "showlegend": false,
         "text": [
          "{<br>  \"number\": 3,<br>  \"values\": [<br>    0.3317048028124761,<br>    0.7182462105095208<br>  ],<br>  \"params\": {<br>    \"learning_rate\": 0.3317048028124761<br>  }<br>}",
          "{<br>  \"number\": 12,<br>  \"values\": [<br>    0.1148404311838305,<br>    0.7321994102159477<br>  ],<br>  \"params\": {<br>    \"learning_rate\": 0.1148404311838305<br>  }<br>}",
          "{<br>  \"number\": 14,<br>  \"values\": [<br>    0.05307222954482612,<br>    0.7336139976808754<br>  ],<br>  \"params\": {<br>    \"learning_rate\": 0.05307222954482612<br>  }<br>}",
          "{<br>  \"number\": 24,<br>  \"values\": [<br>    0.24410089728809634,<br>    0.7254004209977449<br>  ],<br>  \"params\": {<br>    \"learning_rate\": 0.24410089728809634<br>  }<br>}",
          "{<br>  \"number\": 27,<br>  \"values\": [<br>    0.12844461011742844,<br>    0.7321027124572879<br>  ],<br>  \"params\": {<br>    \"learning_rate\": 0.12844461011742844<br>  }<br>}",
          "{<br>  \"number\": 29,<br>  \"values\": [<br>    0.4498243389528799,<br>    0.7180387023655493<br>  ],<br>  \"params\": {<br>    \"learning_rate\": 0.4498243389528799<br>  }<br>}",
          "{<br>  \"number\": 30,<br>  \"values\": [<br>    0.28825962026286955,<br>    0.7220137309076756<br>  ],<br>  \"params\": {<br>    \"learning_rate\": 0.28825962026286955<br>  }<br>}",
          "{<br>  \"number\": 35,<br>  \"values\": [<br>    0.19630258423899116,<br>    0.7290264275839735<br>  ],<br>  \"params\": {<br>    \"learning_rate\": 0.19630258423899116<br>  }<br>}",
          "{<br>  \"number\": 43,<br>  \"values\": [<br>    0.07377836783758575,<br>    0.7335097300380633<br>  ],<br>  \"params\": {<br>    \"learning_rate\": 0.07377836783758575<br>  }<br>}",
          "{<br>  \"number\": 53,<br>  \"values\": [<br>    0.4796291220454122,<br>    0.7120415606860494<br>  ],<br>  \"params\": {<br>    \"learning_rate\": 0.4796291220454122<br>  }<br>}",
          "{<br>  \"number\": 59,<br>  \"values\": [<br>    0.21454254531144426,<br>    0.7279770709345865<br>  ],<br>  \"params\": {<br>    \"learning_rate\": 0.21454254531144426<br>  }<br>}",
          "{<br>  \"number\": 62,<br>  \"values\": [<br>    0.30521179006815724,<br>    0.7193743184471776<br>  ],<br>  \"params\": {<br>    \"learning_rate\": 0.30521179006815724<br>  }<br>}",
          "{<br>  \"number\": 68,<br>  \"values\": [<br>    0.16799292006264588,<br>    0.7309842390105754<br>  ],<br>  \"params\": {<br>    \"learning_rate\": 0.16799292006264588<br>  }<br>}",
          "{<br>  \"number\": 87,<br>  \"values\": [<br>    0.11742527067046299,<br>    0.7321944783582703<br>  ],<br>  \"params\": {<br>    \"learning_rate\": 0.11742527067046299<br>  }<br>}"
         ],
         "type": "scatter",
         "x": [
          0.3317048028124761,
          0.1148404311838305,
          0.05307222954482612,
          0.24410089728809634,
          0.12844461011742844,
          0.4498243389528799,
          0.28825962026286955,
          0.19630258423899116,
          0.07377836783758575,
          0.4796291220454122,
          0.21454254531144426,
          0.30521179006815724,
          0.16799292006264588,
          0.11742527067046299
         ],
         "y": [
          0.7182462105095208,
          0.7321994102159477,
          0.7336139976808754,
          0.7254004209977449,
          0.7321027124572879,
          0.7180387023655493,
          0.7220137309076756,
          0.7290264275839735,
          0.7335097300380633,
          0.7120415606860494,
          0.7279770709345865,
          0.7193743184471776,
          0.7309842390105754,
          0.7321944783582703
         ]
        }
       ],
       "layout": {
        "template": {
         "data": {
          "bar": [
           {
            "error_x": {
             "color": "#2a3f5f"
            },
            "error_y": {
             "color": "#2a3f5f"
            },
            "marker": {
             "line": {
              "color": "#E5ECF6",
              "width": 0.5
             },
             "pattern": {
              "fillmode": "overlay",
              "size": 10,
              "solidity": 0.2
             }
            },
            "type": "bar"
           }
          ],
          "barpolar": [
           {
            "marker": {
             "line": {
              "color": "#E5ECF6",
              "width": 0.5
             },
             "pattern": {
              "fillmode": "overlay",
              "size": 10,
              "solidity": 0.2
             }
            },
            "type": "barpolar"
           }
          ],
          "carpet": [
           {
            "aaxis": {
             "endlinecolor": "#2a3f5f",
             "gridcolor": "white",
             "linecolor": "white",
             "minorgridcolor": "white",
             "startlinecolor": "#2a3f5f"
            },
            "baxis": {
             "endlinecolor": "#2a3f5f",
             "gridcolor": "white",
             "linecolor": "white",
             "minorgridcolor": "white",
             "startlinecolor": "#2a3f5f"
            },
            "type": "carpet"
           }
          ],
          "choropleth": [
           {
            "colorbar": {
             "outlinewidth": 0,
             "ticks": ""
            },
            "type": "choropleth"
           }
          ],
          "contour": [
           {
            "colorbar": {
             "outlinewidth": 0,
             "ticks": ""
            },
            "colorscale": [
             [
              0,
              "#0d0887"
             ],
             [
              0.1111111111111111,
              "#46039f"
             ],
             [
              0.2222222222222222,
              "#7201a8"
             ],
             [
              0.3333333333333333,
              "#9c179e"
             ],
             [
              0.4444444444444444,
              "#bd3786"
             ],
             [
              0.5555555555555556,
              "#d8576b"
             ],
             [
              0.6666666666666666,
              "#ed7953"
             ],
             [
              0.7777777777777778,
              "#fb9f3a"
             ],
             [
              0.8888888888888888,
              "#fdca26"
             ],
             [
              1,
              "#f0f921"
             ]
            ],
            "type": "contour"
           }
          ],
          "contourcarpet": [
           {
            "colorbar": {
             "outlinewidth": 0,
             "ticks": ""
            },
            "type": "contourcarpet"
           }
          ],
          "heatmap": [
           {
            "colorbar": {
             "outlinewidth": 0,
             "ticks": ""
            },
            "colorscale": [
             [
              0,
              "#0d0887"
             ],
             [
              0.1111111111111111,
              "#46039f"
             ],
             [
              0.2222222222222222,
              "#7201a8"
             ],
             [
              0.3333333333333333,
              "#9c179e"
             ],
             [
              0.4444444444444444,
              "#bd3786"
             ],
             [
              0.5555555555555556,
              "#d8576b"
             ],
             [
              0.6666666666666666,
              "#ed7953"
             ],
             [
              0.7777777777777778,
              "#fb9f3a"
             ],
             [
              0.8888888888888888,
              "#fdca26"
             ],
             [
              1,
              "#f0f921"
             ]
            ],
            "type": "heatmap"
           }
          ],
          "heatmapgl": [
           {
            "colorbar": {
             "outlinewidth": 0,
             "ticks": ""
            },
            "colorscale": [
             [
              0,
              "#0d0887"
             ],
             [
              0.1111111111111111,
              "#46039f"
             ],
             [
              0.2222222222222222,
              "#7201a8"
             ],
             [
              0.3333333333333333,
              "#9c179e"
             ],
             [
              0.4444444444444444,
              "#bd3786"
             ],
             [
              0.5555555555555556,
              "#d8576b"
             ],
             [
              0.6666666666666666,
              "#ed7953"
             ],
             [
              0.7777777777777778,
              "#fb9f3a"
             ],
             [
              0.8888888888888888,
              "#fdca26"
             ],
             [
              1,
              "#f0f921"
             ]
            ],
            "type": "heatmapgl"
           }
          ],
          "histogram": [
           {
            "marker": {
             "pattern": {
              "fillmode": "overlay",
              "size": 10,
              "solidity": 0.2
             }
            },
            "type": "histogram"
           }
          ],
          "histogram2d": [
           {
            "colorbar": {
             "outlinewidth": 0,
             "ticks": ""
            },
            "colorscale": [
             [
              0,
              "#0d0887"
             ],
             [
              0.1111111111111111,
              "#46039f"
             ],
             [
              0.2222222222222222,
              "#7201a8"
             ],
             [
              0.3333333333333333,
              "#9c179e"
             ],
             [
              0.4444444444444444,
              "#bd3786"
             ],
             [
              0.5555555555555556,
              "#d8576b"
             ],
             [
              0.6666666666666666,
              "#ed7953"
             ],
             [
              0.7777777777777778,
              "#fb9f3a"
             ],
             [
              0.8888888888888888,
              "#fdca26"
             ],
             [
              1,
              "#f0f921"
             ]
            ],
            "type": "histogram2d"
           }
          ],
          "histogram2dcontour": [
           {
            "colorbar": {
             "outlinewidth": 0,
             "ticks": ""
            },
            "colorscale": [
             [
              0,
              "#0d0887"
             ],
             [
              0.1111111111111111,
              "#46039f"
             ],
             [
              0.2222222222222222,
              "#7201a8"
             ],
             [
              0.3333333333333333,
              "#9c179e"
             ],
             [
              0.4444444444444444,
              "#bd3786"
             ],
             [
              0.5555555555555556,
              "#d8576b"
             ],
             [
              0.6666666666666666,
              "#ed7953"
             ],
             [
              0.7777777777777778,
              "#fb9f3a"
             ],
             [
              0.8888888888888888,
              "#fdca26"
             ],
             [
              1,
              "#f0f921"
             ]
            ],
            "type": "histogram2dcontour"
           }
          ],
          "mesh3d": [
           {
            "colorbar": {
             "outlinewidth": 0,
             "ticks": ""
            },
            "type": "mesh3d"
           }
          ],
          "parcoords": [
           {
            "line": {
             "colorbar": {
              "outlinewidth": 0,
              "ticks": ""
             }
            },
            "type": "parcoords"
           }
          ],
          "pie": [
           {
            "automargin": true,
            "type": "pie"
           }
          ],
          "scatter": [
           {
            "fillpattern": {
             "fillmode": "overlay",
             "size": 10,
             "solidity": 0.2
            },
            "type": "scatter"
           }
          ],
          "scatter3d": [
           {
            "line": {
             "colorbar": {
              "outlinewidth": 0,
              "ticks": ""
             }
            },
            "marker": {
             "colorbar": {
              "outlinewidth": 0,
              "ticks": ""
             }
            },
            "type": "scatter3d"
           }
          ],
          "scattercarpet": [
           {
            "marker": {
             "colorbar": {
              "outlinewidth": 0,
              "ticks": ""
             }
            },
            "type": "scattercarpet"
           }
          ],
          "scattergeo": [
           {
            "marker": {
             "colorbar": {
              "outlinewidth": 0,
              "ticks": ""
             }
            },
            "type": "scattergeo"
           }
          ],
          "scattergl": [
           {
            "marker": {
             "colorbar": {
              "outlinewidth": 0,
              "ticks": ""
             }
            },
            "type": "scattergl"
           }
          ],
          "scattermapbox": [
           {
            "marker": {
             "colorbar": {
              "outlinewidth": 0,
              "ticks": ""
             }
            },
            "type": "scattermapbox"
           }
          ],
          "scatterpolar": [
           {
            "marker": {
             "colorbar": {
              "outlinewidth": 0,
              "ticks": ""
             }
            },
            "type": "scatterpolar"
           }
          ],
          "scatterpolargl": [
           {
            "marker": {
             "colorbar": {
              "outlinewidth": 0,
              "ticks": ""
             }
            },
            "type": "scatterpolargl"
           }
          ],
          "scatterternary": [
           {
            "marker": {
             "colorbar": {
              "outlinewidth": 0,
              "ticks": ""
             }
            },
            "type": "scatterternary"
           }
          ],
          "surface": [
           {
            "colorbar": {
             "outlinewidth": 0,
             "ticks": ""
            },
            "colorscale": [
             [
              0,
              "#0d0887"
             ],
             [
              0.1111111111111111,
              "#46039f"
             ],
             [
              0.2222222222222222,
              "#7201a8"
             ],
             [
              0.3333333333333333,
              "#9c179e"
             ],
             [
              0.4444444444444444,
              "#bd3786"
             ],
             [
              0.5555555555555556,
              "#d8576b"
             ],
             [
              0.6666666666666666,
              "#ed7953"
             ],
             [
              0.7777777777777778,
              "#fb9f3a"
             ],
             [
              0.8888888888888888,
              "#fdca26"
             ],
             [
              1,
              "#f0f921"
             ]
            ],
            "type": "surface"
           }
          ],
          "table": [
           {
            "cells": {
             "fill": {
              "color": "#EBF0F8"
             },
             "line": {
              "color": "white"
             }
            },
            "header": {
             "fill": {
              "color": "#C8D4E3"
             },
             "line": {
              "color": "white"
             }
            },
            "type": "table"
           }
          ]
         },
         "layout": {
          "annotationdefaults": {
           "arrowcolor": "#2a3f5f",
           "arrowhead": 0,
           "arrowwidth": 1
          },
          "autotypenumbers": "strict",
          "coloraxis": {
           "colorbar": {
            "outlinewidth": 0,
            "ticks": ""
           }
          },
          "colorscale": {
           "diverging": [
            [
             0,
             "#8e0152"
            ],
            [
             0.1,
             "#c51b7d"
            ],
            [
             0.2,
             "#de77ae"
            ],
            [
             0.3,
             "#f1b6da"
            ],
            [
             0.4,
             "#fde0ef"
            ],
            [
             0.5,
             "#f7f7f7"
            ],
            [
             0.6,
             "#e6f5d0"
            ],
            [
             0.7,
             "#b8e186"
            ],
            [
             0.8,
             "#7fbc41"
            ],
            [
             0.9,
             "#4d9221"
            ],
            [
             1,
             "#276419"
            ]
           ],
           "sequential": [
            [
             0,
             "#0d0887"
            ],
            [
             0.1111111111111111,
             "#46039f"
            ],
            [
             0.2222222222222222,
             "#7201a8"
            ],
            [
             0.3333333333333333,
             "#9c179e"
            ],
            [
             0.4444444444444444,
             "#bd3786"
            ],
            [
             0.5555555555555556,
             "#d8576b"
            ],
            [
             0.6666666666666666,
             "#ed7953"
            ],
            [
             0.7777777777777778,
             "#fb9f3a"
            ],
            [
             0.8888888888888888,
             "#fdca26"
            ],
            [
             1,
             "#f0f921"
            ]
           ],
           "sequentialminus": [
            [
             0,
             "#0d0887"
            ],
            [
             0.1111111111111111,
             "#46039f"
            ],
            [
             0.2222222222222222,
             "#7201a8"
            ],
            [
             0.3333333333333333,
             "#9c179e"
            ],
            [
             0.4444444444444444,
             "#bd3786"
            ],
            [
             0.5555555555555556,
             "#d8576b"
            ],
            [
             0.6666666666666666,
             "#ed7953"
            ],
            [
             0.7777777777777778,
             "#fb9f3a"
            ],
            [
             0.8888888888888888,
             "#fdca26"
            ],
            [
             1,
             "#f0f921"
            ]
           ]
          },
          "colorway": [
           "#636efa",
           "#EF553B",
           "#00cc96",
           "#ab63fa",
           "#FFA15A",
           "#19d3f3",
           "#FF6692",
           "#B6E880",
           "#FF97FF",
           "#FECB52"
          ],
          "font": {
           "color": "#2a3f5f"
          },
          "geo": {
           "bgcolor": "white",
           "lakecolor": "white",
           "landcolor": "#E5ECF6",
           "showlakes": true,
           "showland": true,
           "subunitcolor": "white"
          },
          "hoverlabel": {
           "align": "left"
          },
          "hovermode": "closest",
          "mapbox": {
           "style": "light"
          },
          "paper_bgcolor": "white",
          "plot_bgcolor": "#E5ECF6",
          "polar": {
           "angularaxis": {
            "gridcolor": "white",
            "linecolor": "white",
            "ticks": ""
           },
           "bgcolor": "#E5ECF6",
           "radialaxis": {
            "gridcolor": "white",
            "linecolor": "white",
            "ticks": ""
           }
          },
          "scene": {
           "xaxis": {
            "backgroundcolor": "#E5ECF6",
            "gridcolor": "white",
            "gridwidth": 2,
            "linecolor": "white",
            "showbackground": true,
            "ticks": "",
            "zerolinecolor": "white"
           },
           "yaxis": {
            "backgroundcolor": "#E5ECF6",
            "gridcolor": "white",
            "gridwidth": 2,
            "linecolor": "white",
            "showbackground": true,
            "ticks": "",
            "zerolinecolor": "white"
           },
           "zaxis": {
            "backgroundcolor": "#E5ECF6",
            "gridcolor": "white",
            "gridwidth": 2,
            "linecolor": "white",
            "showbackground": true,
            "ticks": "",
            "zerolinecolor": "white"
           }
          },
          "shapedefaults": {
           "line": {
            "color": "#2a3f5f"
           }
          },
          "ternary": {
           "aaxis": {
            "gridcolor": "white",
            "linecolor": "white",
            "ticks": ""
           },
           "baxis": {
            "gridcolor": "white",
            "linecolor": "white",
            "ticks": ""
           },
           "bgcolor": "#E5ECF6",
           "caxis": {
            "gridcolor": "white",
            "linecolor": "white",
            "ticks": ""
           }
          },
          "title": {
           "x": 0.05
          },
          "xaxis": {
           "automargin": true,
           "gridcolor": "white",
           "linecolor": "white",
           "ticks": "",
           "title": {
            "standoff": 15
           },
           "zerolinecolor": "white",
           "zerolinewidth": 2
          },
          "yaxis": {
           "automargin": true,
           "gridcolor": "white",
           "linecolor": "white",
           "ticks": "",
           "title": {
            "standoff": 15
           },
           "zerolinecolor": "white",
           "zerolinewidth": 2
          }
         }
        },
        "title": {
         "text": "Pareto-front Plot"
        },
        "xaxis": {
         "title": {
          "text": "learning_rate"
         }
        },
        "yaxis": {
         "title": {
          "text": "f1"
         }
        }
       }
      },
      "text/html": [
       "<div>                            <div id=\"f5c97c6e-db5a-4ff5-9b09-b323a292b954\" class=\"plotly-graph-div\" style=\"height:525px; width:100%;\"></div>            <script type=\"text/javascript\">                require([\"plotly\"], function(Plotly) {                    window.PLOTLYENV=window.PLOTLYENV || {};                                    if (document.getElementById(\"f5c97c6e-db5a-4ff5-9b09-b323a292b954\")) {                    Plotly.newPlot(                        \"f5c97c6e-db5a-4ff5-9b09-b323a292b954\",                        [{\"hovertemplate\":\"%{text}<extra>Trial</extra>\",\"marker\":{\"color\":[0,1,2,4,5,6,7,8,9,10,11,13,15,16,17,18,19,20,21,22,23,25,26,28,31,32,33,34,36,37,38,39,40,41,42,44,45,46,47,48,49,50,51,52,54,55,56,57,58,60,61,63,64,65,66,67,69,70,71,72,73,74,75,76,77,78,79,80,81,82,83,84,85,86,88,89,90,91,92,93,94,95,96,97,98,99],\"colorbar\":{\"title\":{\"text\":\"Trial\"}},\"colorscale\":[[0.0,\"rgb(247,251,255)\"],[0.125,\"rgb(222,235,247)\"],[0.25,\"rgb(198,219,239)\"],[0.375,\"rgb(158,202,225)\"],[0.5,\"rgb(107,174,214)\"],[0.625,\"rgb(66,146,198)\"],[0.75,\"rgb(33,113,181)\"],[0.875,\"rgb(8,81,156)\"],[1.0,\"rgb(8,48,107)\"]],\"line\":{\"color\":\"Grey\",\"width\":0.5}},\"mode\":\"markers\",\"showlegend\":false,\"text\":[\"{<br>  \\\"number\\\": 0,<br>  \\\"values\\\": [<br>    0.018276625572235056,<br>    0.7229728382357858<br>  ],<br>  \\\"params\\\": {<br>    \\\"learning_rate\\\": 0.018276625572235056<br>  }<br>}\",\"{<br>  \\\"number\\\": 1,<br>  \\\"values\\\": [<br>    0.012281350875017864,<br>    0.713129498994182<br>  ],<br>  \\\"params\\\": {<br>    \\\"learning_rate\\\": 0.012281350875017864<br>  }<br>}\",\"{<br>  \\\"number\\\": 2,<br>  \\\"values\\\": [<br>    0.3179931543219117,<br>    0.7181352358216049<br>  ],<br>  \\\"params\\\": {<br>    \\\"learning_rate\\\": 0.3179931543219117<br>  }<br>}\",\"{<br>  \\\"number\\\": 4,<br>  \\\"values\\\": [<br>    0.010097499163932589,<br>    0.689595604293249<br>  ],<br>  \\\"params\\\": {<br>    \\\"learning_rate\\\": 0.010097499163932589<br>  }<br>}\",\"{<br>  \\\"number\\\": 5,<br>  \\\"values\\\": [<br>    0.0010284892903758126,<br>    0.4235082247366586<br>  ],<br>  \\\"params\\\": {<br>    \\\"learning_rate\\\": 0.0010284892903758126<br>  }<br>}\",\"{<br>  \\\"number\\\": 6,<br>  \\\"values\\\": [<br>    0.0008073623310050534,<br>    0.4235082247366586<br>  ],<br>  \\\"params\\\": {<br>    \\\"learning_rate\\\": 0.0008073623310050534<br>  }<br>}\",\"{<br>  \\\"number\\\": 7,<br>  \\\"values\\\": [<br>    0.009446892389275133,<br>    0.6841554205738356<br>  ],<br>  \\\"params\\\": {<br>    \\\"learning_rate\\\": 0.009446892389275133<br>  }<br>}\",\"{<br>  \\\"number\\\": 8,<br>  \\\"values\\\": [<br>    0.042129982546996285,<br>    0.7318679125094985<br>  ],<br>  \\\"params\\\": {<br>    \\\"learning_rate\\\": 0.042129982546996285<br>  }<br>}\",\"{<br>  \\\"number\\\": 9,<br>  \\\"values\\\": [<br>    0.006234336282154794,<br>    0.6372047388051083<br>  ],<br>  \\\"params\\\": {<br>    \\\"learning_rate\\\": 0.006234336282154794<br>  }<br>}\",\"{<br>  \\\"number\\\": 10,<br>  \\\"values\\\": [<br>    0.0014213907266344855,<br>    0.4235082247366586<br>  ],<br>  \\\"params\\\": {<br>    \\\"learning_rate\\\": 0.0014213907266344855<br>  }<br>}\",\"{<br>  \\\"number\\\": 11,<br>  \\\"values\\\": [<br>    0.0074818711669891215,<br>    0.6643619268828908<br>  ],<br>  \\\"params\\\": {<br>    \\\"learning_rate\\\": 0.0074818711669891215<br>  }<br>}\",\"{<br>  \\\"number\\\": 13,<br>  \\\"values\\\": [<br>    0.0012664149179400209,<br>    0.4235082247366586<br>  ],<br>  \\\"params\\\": {<br>    \\\"learning_rate\\\": 0.0012664149179400209<br>  }<br>}\",\"{<br>  \\\"number\\\": 15,<br>  \\\"values\\\": [<br>    0.01538041330688695,<br>    0.7173796023919852<br>  ],<br>  \\\"params\\\": {<br>    \\\"learning_rate\\\": 0.01538041330688695<br>  }<br>}\",\"{<br>  \\\"number\\\": 16,<br>  \\\"values\\\": [<br>    0.018396986660930648,<br>    0.7227368738811438<br>  ],<br>  \\\"params\\\": {<br>    \\\"learning_rate\\\": 0.018396986660930648<br>  }<br>}\",\"{<br>  \\\"number\\\": 17,<br>  \\\"values\\\": [<br>    0.0030415201353781317,<br>    0.4235082247366586<br>  ],<br>  \\\"params\\\": {<br>    \\\"learning_rate\\\": 0.0030415201353781317<br>  }<br>}\",\"{<br>  \\\"number\\\": 18,<br>  \\\"values\\\": [<br>    0.34679130964813293,<br>    0.7165372792236238<br>  ],<br>  \\\"params\\\": {<br>    \\\"learning_rate\\\": 0.34679130964813293<br>  }<br>}\",\"{<br>  \\\"number\\\": 19,<br>  \\\"values\\\": [<br>    0.0016185106184141472,<br>    0.4235082247366586<br>  ],<br>  \\\"params\\\": {<br>    \\\"learning_rate\\\": 0.0016185106184141472<br>  }<br>}\",\"{<br>  \\\"number\\\": 20,<br>  \\\"values\\\": [<br>    0.09977031400739048,<br>    0.7302018596960369<br>  ],<br>  \\\"params\\\": {<br>    \\\"learning_rate\\\": 0.09977031400739048<br>  }<br>}\",\"{<br>  \\\"number\\\": 21,<br>  \\\"values\\\": [<br>    0.00015692458115144144,<br>    0.4235082247366586<br>  ],<br>  \\\"params\\\": {<br>    \\\"learning_rate\\\": 0.00015692458115144144<br>  }<br>}\",\"{<br>  \\\"number\\\": 22,<br>  \\\"values\\\": [<br>    0.0014637099340279343,<br>    0.4235082247366586<br>  ],<br>  \\\"params\\\": {<br>    \\\"learning_rate\\\": 0.0014637099340279343<br>  }<br>}\",\"{<br>  \\\"number\\\": 23,<br>  \\\"values\\\": [<br>    0.237542460048024,<br>    0.7216310177763523<br>  ],<br>  \\\"params\\\": {<br>    \\\"learning_rate\\\": 0.237542460048024<br>  }<br>}\",\"{<br>  \\\"number\\\": 25,<br>  \\\"values\\\": [<br>    0.039216586476540555,<br>    0.7301579035907364<br>  ],<br>  \\\"params\\\": {<br>    \\\"learning_rate\\\": 0.039216586476540555<br>  }<br>}\",\"{<br>  \\\"number\\\": 26,<br>  \\\"values\\\": [<br>    0.04413193652148863,<br>    0.7292176187667853<br>  ],<br>  \\\"params\\\": {<br>    \\\"learning_rate\\\": 0.04413193652148863<br>  }<br>}\",\"{<br>  \\\"number\\\": 28,<br>  \\\"values\\\": [<br>    0.0006332697167843045,<br>    0.4235082247366586<br>  ],<br>  \\\"params\\\": {<br>    \\\"learning_rate\\\": 0.0006332697167843045<br>  }<br>}\",\"{<br>  \\\"number\\\": 31,<br>  \\\"values\\\": [<br>    0.036619413830782564,<br>    0.7302184406320554<br>  ],<br>  \\\"params\\\": {<br>    \\\"learning_rate\\\": 0.036619413830782564<br>  }<br>}\",\"{<br>  \\\"number\\\": 32,<br>  \\\"values\\\": [<br>    0.03610204856200786,<br>    0.7304328067409969<br>  ],<br>  \\\"params\\\": {<br>    \\\"learning_rate\\\": 0.03610204856200786<br>  }<br>}\",\"{<br>  \\\"number\\\": 33,<br>  \\\"values\\\": [<br>    0.0021961450728918896,<br>    0.4235082247366586<br>  ],<br>  \\\"params\\\": {<br>    \\\"learning_rate\\\": 0.0021961450728918896<br>  }<br>}\",\"{<br>  \\\"number\\\": 34,<br>  \\\"values\\\": [<br>    0.012193586140043794,<br>    0.7120523440790167<br>  ],<br>  \\\"params\\\": {<br>    \\\"learning_rate\\\": 0.012193586140043794<br>  }<br>}\",\"{<br>  \\\"number\\\": 36,<br>  \\\"values\\\": [<br>    0.00017918412416240907,<br>    0.4235082247366586<br>  ],<br>  \\\"params\\\": {<br>    \\\"learning_rate\\\": 0.00017918412416240907<br>  }<br>}\",\"{<br>  \\\"number\\\": 37,<br>  \\\"values\\\": [<br>    0.014133500358080071,<br>    0.7167142851538554<br>  ],<br>  \\\"params\\\": {<br>    \\\"learning_rate\\\": 0.014133500358080071<br>  }<br>}\",\"{<br>  \\\"number\\\": 38,<br>  \\\"values\\\": [<br>    0.04852382290869409,<br>    0.7310333204595433<br>  ],<br>  \\\"params\\\": {<br>    \\\"learning_rate\\\": 0.04852382290869409<br>  }<br>}\",\"{<br>  \\\"number\\\": 39,<br>  \\\"values\\\": [<br>    0.040201201662143485,<br>    0.7306614283099379<br>  ],<br>  \\\"params\\\": {<br>    \\\"learning_rate\\\": 0.040201201662143485<br>  }<br>}\",\"{<br>  \\\"number\\\": 40,<br>  \\\"values\\\": [<br>    0.0011776265316570207,<br>    0.4235082247366586<br>  ],<br>  \\\"params\\\": {<br>    \\\"learning_rate\\\": 0.0011776265316570207<br>  }<br>}\",\"{<br>  \\\"number\\\": 41,<br>  \\\"values\\\": [<br>    0.026396073829949854,<br>    0.7294521208392316<br>  ],<br>  \\\"params\\\": {<br>    \\\"learning_rate\\\": 0.026396073829949854<br>  }<br>}\",\"{<br>  \\\"number\\\": 42,<br>  \\\"values\\\": [<br>    0.19287363423507076,<br>    0.7259236143539816<br>  ],<br>  \\\"params\\\": {<br>    \\\"learning_rate\\\": 0.19287363423507076<br>  }<br>}\",\"{<br>  \\\"number\\\": 44,<br>  \\\"values\\\": [<br>    0.06950786503628438,<br>    0.7323174432397132<br>  ],<br>  \\\"params\\\": {<br>    \\\"learning_rate\\\": 0.06950786503628438<br>  }<br>}\",\"{<br>  \\\"number\\\": 45,<br>  \\\"values\\\": [<br>    0.0013182070434705978,<br>    0.4235082247366586<br>  ],<br>  \\\"params\\\": {<br>    \\\"learning_rate\\\": 0.0013182070434705978<br>  }<br>}\",\"{<br>  \\\"number\\\": 46,<br>  \\\"values\\\": [<br>    0.0001689170415983065,<br>    0.4235082247366586<br>  ],<br>  \\\"params\\\": {<br>    \\\"learning_rate\\\": 0.0001689170415983065<br>  }<br>}\",\"{<br>  \\\"number\\\": 47,<br>  \\\"values\\\": [<br>    0.0021018530965500105,<br>    0.4235082247366586<br>  ],<br>  \\\"params\\\": {<br>    \\\"learning_rate\\\": 0.0021018530965500105<br>  }<br>}\",\"{<br>  \\\"number\\\": 48,<br>  \\\"values\\\": [<br>    0.00019287163151974652,<br>    0.4235082247366586<br>  ],<br>  \\\"params\\\": {<br>    \\\"learning_rate\\\": 0.00019287163151974652<br>  }<br>}\",\"{<br>  \\\"number\\\": 49,<br>  \\\"values\\\": [<br>    0.1714187324525616,<br>    0.7274564562489783<br>  ],<br>  \\\"params\\\": {<br>    \\\"learning_rate\\\": 0.1714187324525616<br>  }<br>}\",\"{<br>  \\\"number\\\": 50,<br>  \\\"values\\\": [<br>    0.028218912249716382,<br>    0.7285799931977797<br>  ],<br>  \\\"params\\\": {<br>    \\\"learning_rate\\\": 0.028218912249716382<br>  }<br>}\",\"{<br>  \\\"number\\\": 51,<br>  \\\"values\\\": [<br>    0.00037469787058577405,<br>    0.4235082247366586<br>  ],<br>  \\\"params\\\": {<br>    \\\"learning_rate\\\": 0.00037469787058577405<br>  }<br>}\",\"{<br>  \\\"number\\\": 52,<br>  \\\"values\\\": [<br>    0.016517619384449466,<br>    0.7201909680929806<br>  ],<br>  \\\"params\\\": {<br>    \\\"learning_rate\\\": 0.016517619384449466<br>  }<br>}\",\"{<br>  \\\"number\\\": 54,<br>  \\\"values\\\": [<br>    0.01075645544167512,<br>    0.6983807551597365<br>  ],<br>  \\\"params\\\": {<br>    \\\"learning_rate\\\": 0.01075645544167512<br>  }<br>}\",\"{<br>  \\\"number\\\": 55,<br>  \\\"values\\\": [<br>    0.0013300668001608705,<br>    0.4235082247366586<br>  ],<br>  \\\"params\\\": {<br>    \\\"learning_rate\\\": 0.0013300668001608705<br>  }<br>}\",\"{<br>  \\\"number\\\": 56,<br>  \\\"values\\\": [<br>    0.009234620597188305,<br>    0.6815820697212852<br>  ],<br>  \\\"params\\\": {<br>    \\\"learning_rate\\\": 0.009234620597188305<br>  }<br>}\",\"{<br>  \\\"number\\\": 57,<br>  \\\"values\\\": [<br>    0.030789337644333142,<br>    0.7297299658845593<br>  ],<br>  \\\"params\\\": {<br>    \\\"learning_rate\\\": 0.030789337644333142<br>  }<br>}\",\"{<br>  \\\"number\\\": 58,<br>  \\\"values\\\": [<br>    0.0005196761744466342,<br>    0.4235082247366586<br>  ],<br>  \\\"params\\\": {<br>    \\\"learning_rate\\\": 0.0005196761744466342<br>  }<br>}\",\"{<br>  \\\"number\\\": 60,<br>  \\\"values\\\": [<br>    0.023714036796718886,<br>    0.7259369472766212<br>  ],<br>  \\\"params\\\": {<br>    \\\"learning_rate\\\": 0.023714036796718886<br>  }<br>}\",\"{<br>  \\\"number\\\": 61,<br>  \\\"values\\\": [<br>    0.042951701452191404,<br>    0.7302474855948291<br>  ],<br>  \\\"params\\\": {<br>    \\\"learning_rate\\\": 0.042951701452191404<br>  }<br>}\",\"{<br>  \\\"number\\\": 63,<br>  \\\"values\\\": [<br>    0.0031088442966744653,<br>    0.4235082247366586<br>  ],<br>  \\\"params\\\": {<br>    \\\"learning_rate\\\": 0.0031088442966744653<br>  }<br>}\",\"{<br>  \\\"number\\\": 64,<br>  \\\"values\\\": [<br>    0.0004014235312843208,<br>    0.4235082247366586<br>  ],<br>  \\\"params\\\": {<br>    \\\"learning_rate\\\": 0.0004014235312843208<br>  }<br>}\",\"{<br>  \\\"number\\\": 65,<br>  \\\"values\\\": [<br>    0.005578035829630357,<br>    0.6170142717941252<br>  ],<br>  \\\"params\\\": {<br>    \\\"learning_rate\\\": 0.005578035829630357<br>  }<br>}\",\"{<br>  \\\"number\\\": 66,<br>  \\\"values\\\": [<br>    0.0001592544431367279,<br>    0.4235082247366586<br>  ],<br>  \\\"params\\\": {<br>    \\\"learning_rate\\\": 0.0001592544431367279<br>  }<br>}\",\"{<br>  \\\"number\\\": 67,<br>  \\\"values\\\": [<br>    0.0807232375319011,<br>    0.7309408871913655<br>  ],<br>  \\\"params\\\": {<br>    \\\"learning_rate\\\": 0.0807232375319011<br>  }<br>}\",\"{<br>  \\\"number\\\": 69,<br>  \\\"values\\\": [<br>    0.04159311590472715,<br>    0.7313584050417112<br>  ],<br>  \\\"params\\\": {<br>    \\\"learning_rate\\\": 0.04159311590472715<br>  }<br>}\",\"{<br>  \\\"number\\\": 70,<br>  \\\"values\\\": [<br>    0.0007829813261500128,<br>    0.4235082247366586<br>  ],<br>  \\\"params\\\": {<br>    \\\"learning_rate\\\": 0.0007829813261500128<br>  }<br>}\",\"{<br>  \\\"number\\\": 71,<br>  \\\"values\\\": [<br>    0.0005327862205087224,<br>    0.4235082247366586<br>  ],<br>  \\\"params\\\": {<br>    \\\"learning_rate\\\": 0.0005327862205087224<br>  }<br>}\",\"{<br>  \\\"number\\\": 72,<br>  \\\"values\\\": [<br>    0.011004042996587247,<br>    0.7013991059388606<br>  ],<br>  \\\"params\\\": {<br>    \\\"learning_rate\\\": 0.011004042996587247<br>  }<br>}\",\"{<br>  \\\"number\\\": 73,<br>  \\\"values\\\": [<br>    0.012096495400321669,<br>    0.7112448137800941<br>  ],<br>  \\\"params\\\": {<br>    \\\"learning_rate\\\": 0.012096495400321669<br>  }<br>}\",\"{<br>  \\\"number\\\": 74,<br>  \\\"values\\\": [<br>    0.07830377287729806,<br>    0.7306338561389435<br>  ],<br>  \\\"params\\\": {<br>    \\\"learning_rate\\\": 0.07830377287729806<br>  }<br>}\",\"{<br>  \\\"number\\\": 75,<br>  \\\"values\\\": [<br>    0.0020289312962674306,<br>    0.4235082247366586<br>  ],<br>  \\\"params\\\": {<br>    \\\"learning_rate\\\": 0.0020289312962674306<br>  }<br>}\",\"{<br>  \\\"number\\\": 76,<br>  \\\"values\\\": [<br>    0.007003614272196497,<br>    0.653715322076985<br>  ],<br>  \\\"params\\\": {<br>    \\\"learning_rate\\\": 0.007003614272196497<br>  }<br>}\",\"{<br>  \\\"number\\\": 77,<br>  \\\"values\\\": [<br>    0.026811861365256547,<br>    0.7281393119846103<br>  ],<br>  \\\"params\\\": {<br>    \\\"learning_rate\\\": 0.026811861365256547<br>  }<br>}\",\"{<br>  \\\"number\\\": 78,<br>  \\\"values\\\": [<br>    0.0014534431094221844,<br>    0.4235082247366586<br>  ],<br>  \\\"params\\\": {<br>    \\\"learning_rate\\\": 0.0014534431094221844<br>  }<br>}\",\"{<br>  \\\"number\\\": 79,<br>  \\\"values\\\": [<br>    0.07184266906020101,<br>    0.7318954915835494<br>  ],<br>  \\\"params\\\": {<br>    \\\"learning_rate\\\": 0.07184266906020101<br>  }<br>}\",\"{<br>  \\\"number\\\": 80,<br>  \\\"values\\\": [<br>    0.20138173825410338,<br>    0.7278080193179831<br>  ],<br>  \\\"params\\\": {<br>    \\\"learning_rate\\\": 0.20138173825410338<br>  }<br>}\",\"{<br>  \\\"number\\\": 81,<br>  \\\"values\\\": [<br>    0.01956656266919498,<br>    0.7259187426802697<br>  ],<br>  \\\"params\\\": {<br>    \\\"learning_rate\\\": 0.01956656266919498<br>  }<br>}\",\"{<br>  \\\"number\\\": 82,<br>  \\\"values\\\": [<br>    0.005251844487229045,<br>    0.6024609734794308<br>  ],<br>  \\\"params\\\": {<br>    \\\"learning_rate\\\": 0.005251844487229045<br>  }<br>}\",\"{<br>  \\\"number\\\": 83,<br>  \\\"values\\\": [<br>    0.0007975269741962664,<br>    0.4235082247366586<br>  ],<br>  \\\"params\\\": {<br>    \\\"learning_rate\\\": 0.0007975269741962664<br>  }<br>}\",\"{<br>  \\\"number\\\": 84,<br>  \\\"values\\\": [<br>    0.0005538907493946157,<br>    0.4235082247366586<br>  ],<br>  \\\"params\\\": {<br>    \\\"learning_rate\\\": 0.0005538907493946157<br>  }<br>}\",\"{<br>  \\\"number\\\": 85,<br>  \\\"values\\\": [<br>    0.0835122016432078,<br>    0.7321890615843162<br>  ],<br>  \\\"params\\\": {<br>    \\\"learning_rate\\\": 0.0835122016432078<br>  }<br>}\",\"{<br>  \\\"number\\\": 86,<br>  \\\"values\\\": [<br>    0.0006260697703589752,<br>    0.4235082247366586<br>  ],<br>  \\\"params\\\": {<br>    \\\"learning_rate\\\": 0.0006260697703589752<br>  }<br>}\",\"{<br>  \\\"number\\\": 88,<br>  \\\"values\\\": [<br>    0.004544231657855253,<br>    0.5343888745179519<br>  ],<br>  \\\"params\\\": {<br>    \\\"learning_rate\\\": 0.004544231657855253<br>  }<br>}\",\"{<br>  \\\"number\\\": 89,<br>  \\\"values\\\": [<br>    0.00012209259631005412,<br>    0.4235082247366586<br>  ],<br>  \\\"params\\\": {<br>    \\\"learning_rate\\\": 0.00012209259631005412<br>  }<br>}\",\"{<br>  \\\"number\\\": 90,<br>  \\\"values\\\": [<br>    0.001267549290534437,<br>    0.4235082247366586<br>  ],<br>  \\\"params\\\": {<br>    \\\"learning_rate\\\": 0.001267549290534437<br>  }<br>}\",\"{<br>  \\\"number\\\": 91,<br>  \\\"values\\\": [<br>    0.004363976487357013,<br>    0.5087369170754972<br>  ],<br>  \\\"params\\\": {<br>    \\\"learning_rate\\\": 0.004363976487357013<br>  }<br>}\",\"{<br>  \\\"number\\\": 92,<br>  \\\"values\\\": [<br>    0.017485462659550834,<br>    0.722280452051524<br>  ],<br>  \\\"params\\\": {<br>    \\\"learning_rate\\\": 0.017485462659550834<br>  }<br>}\",\"{<br>  \\\"number\\\": 93,<br>  \\\"values\\\": [<br>    0.44828056389247145,<br>    0.7116760995541701<br>  ],<br>  \\\"params\\\": {<br>    \\\"learning_rate\\\": 0.44828056389247145<br>  }<br>}\",\"{<br>  \\\"number\\\": 94,<br>  \\\"values\\\": [<br>    0.08277845673611592,<br>    0.7314187112500111<br>  ],<br>  \\\"params\\\": {<br>    \\\"learning_rate\\\": 0.08277845673611592<br>  }<br>}\",\"{<br>  \\\"number\\\": 95,<br>  \\\"values\\\": [<br>    0.0003291311959625348,<br>    0.4235082247366586<br>  ],<br>  \\\"params\\\": {<br>    \\\"learning_rate\\\": 0.0003291311959625348<br>  }<br>}\",\"{<br>  \\\"number\\\": 96,<br>  \\\"values\\\": [<br>    0.00022868118733042252,<br>    0.4235082247366586<br>  ],<br>  \\\"params\\\": {<br>    \\\"learning_rate\\\": 0.00022868118733042252<br>  }<br>}\",\"{<br>  \\\"number\\\": 97,<br>  \\\"values\\\": [<br>    0.18286145837300968,<br>    0.7262427071035374<br>  ],<br>  \\\"params\\\": {<br>    \\\"learning_rate\\\": 0.18286145837300968<br>  }<br>}\",\"{<br>  \\\"number\\\": 98,<br>  \\\"values\\\": [<br>    0.06941692989749879,<br>    0.7295385067809874<br>  ],<br>  \\\"params\\\": {<br>    \\\"learning_rate\\\": 0.06941692989749879<br>  }<br>}\",\"{<br>  \\\"number\\\": 99,<br>  \\\"values\\\": [<br>    0.19305171220017311,<br>    0.7262367052555226<br>  ],<br>  \\\"params\\\": {<br>    \\\"learning_rate\\\": 0.19305171220017311<br>  }<br>}\"],\"x\":[0.018276625572235056,0.012281350875017864,0.3179931543219117,0.010097499163932589,0.0010284892903758126,0.0008073623310050534,0.009446892389275133,0.042129982546996285,0.006234336282154794,0.0014213907266344855,0.0074818711669891215,0.0012664149179400209,0.01538041330688695,0.018396986660930648,0.0030415201353781317,0.34679130964813293,0.0016185106184141472,0.09977031400739048,0.00015692458115144144,0.0014637099340279343,0.237542460048024,0.039216586476540555,0.04413193652148863,0.0006332697167843045,0.036619413830782564,0.03610204856200786,0.0021961450728918896,0.012193586140043794,0.00017918412416240907,0.014133500358080071,0.04852382290869409,0.040201201662143485,0.0011776265316570207,0.026396073829949854,0.19287363423507076,0.06950786503628438,0.0013182070434705978,0.0001689170415983065,0.0021018530965500105,0.00019287163151974652,0.1714187324525616,0.028218912249716382,0.00037469787058577405,0.016517619384449466,0.01075645544167512,0.0013300668001608705,0.009234620597188305,0.030789337644333142,0.0005196761744466342,0.023714036796718886,0.042951701452191404,0.0031088442966744653,0.0004014235312843208,0.005578035829630357,0.0001592544431367279,0.0807232375319011,0.04159311590472715,0.0007829813261500128,0.0005327862205087224,0.011004042996587247,0.012096495400321669,0.07830377287729806,0.0020289312962674306,0.007003614272196497,0.026811861365256547,0.0014534431094221844,0.07184266906020101,0.20138173825410338,0.01956656266919498,0.005251844487229045,0.0007975269741962664,0.0005538907493946157,0.0835122016432078,0.0006260697703589752,0.004544231657855253,0.00012209259631005412,0.001267549290534437,0.004363976487357013,0.017485462659550834,0.44828056389247145,0.08277845673611592,0.0003291311959625348,0.00022868118733042252,0.18286145837300968,0.06941692989749879,0.19305171220017311],\"y\":[0.7229728382357858,0.713129498994182,0.7181352358216049,0.689595604293249,0.4235082247366586,0.4235082247366586,0.6841554205738356,0.7318679125094985,0.6372047388051083,0.4235082247366586,0.6643619268828908,0.4235082247366586,0.7173796023919852,0.7227368738811438,0.4235082247366586,0.7165372792236238,0.4235082247366586,0.7302018596960369,0.4235082247366586,0.4235082247366586,0.7216310177763523,0.7301579035907364,0.7292176187667853,0.4235082247366586,0.7302184406320554,0.7304328067409969,0.4235082247366586,0.7120523440790167,0.4235082247366586,0.7167142851538554,0.7310333204595433,0.7306614283099379,0.4235082247366586,0.7294521208392316,0.7259236143539816,0.7323174432397132,0.4235082247366586,0.4235082247366586,0.4235082247366586,0.4235082247366586,0.7274564562489783,0.7285799931977797,0.4235082247366586,0.7201909680929806,0.6983807551597365,0.4235082247366586,0.6815820697212852,0.7297299658845593,0.4235082247366586,0.7259369472766212,0.7302474855948291,0.4235082247366586,0.4235082247366586,0.6170142717941252,0.4235082247366586,0.7309408871913655,0.7313584050417112,0.4235082247366586,0.4235082247366586,0.7013991059388606,0.7112448137800941,0.7306338561389435,0.4235082247366586,0.653715322076985,0.7281393119846103,0.4235082247366586,0.7318954915835494,0.7278080193179831,0.7259187426802697,0.6024609734794308,0.4235082247366586,0.4235082247366586,0.7321890615843162,0.4235082247366586,0.5343888745179519,0.4235082247366586,0.4235082247366586,0.5087369170754972,0.722280452051524,0.7116760995541701,0.7314187112500111,0.4235082247366586,0.4235082247366586,0.7262427071035374,0.7295385067809874,0.7262367052555226],\"type\":\"scatter\"},{\"hovertemplate\":\"%{text}<extra>Best Trial</extra>\",\"marker\":{\"color\":[3,12,14,24,27,29,30,35,43,53,59,62,68,87],\"colorbar\":{\"title\":{\"text\":\"Best Trial\"},\"x\":1.1,\"xpad\":40},\"colorscale\":[[0.0,\"rgb(255,245,240)\"],[0.125,\"rgb(254,224,210)\"],[0.25,\"rgb(252,187,161)\"],[0.375,\"rgb(252,146,114)\"],[0.5,\"rgb(251,106,74)\"],[0.625,\"rgb(239,59,44)\"],[0.75,\"rgb(203,24,29)\"],[0.875,\"rgb(165,15,21)\"],[1.0,\"rgb(103,0,13)\"]],\"line\":{\"color\":\"Grey\",\"width\":0.5}},\"mode\":\"markers\",\"showlegend\":false,\"text\":[\"{<br>  \\\"number\\\": 3,<br>  \\\"values\\\": [<br>    0.3317048028124761,<br>    0.7182462105095208<br>  ],<br>  \\\"params\\\": {<br>    \\\"learning_rate\\\": 0.3317048028124761<br>  }<br>}\",\"{<br>  \\\"number\\\": 12,<br>  \\\"values\\\": [<br>    0.1148404311838305,<br>    0.7321994102159477<br>  ],<br>  \\\"params\\\": {<br>    \\\"learning_rate\\\": 0.1148404311838305<br>  }<br>}\",\"{<br>  \\\"number\\\": 14,<br>  \\\"values\\\": [<br>    0.05307222954482612,<br>    0.7336139976808754<br>  ],<br>  \\\"params\\\": {<br>    \\\"learning_rate\\\": 0.05307222954482612<br>  }<br>}\",\"{<br>  \\\"number\\\": 24,<br>  \\\"values\\\": [<br>    0.24410089728809634,<br>    0.7254004209977449<br>  ],<br>  \\\"params\\\": {<br>    \\\"learning_rate\\\": 0.24410089728809634<br>  }<br>}\",\"{<br>  \\\"number\\\": 27,<br>  \\\"values\\\": [<br>    0.12844461011742844,<br>    0.7321027124572879<br>  ],<br>  \\\"params\\\": {<br>    \\\"learning_rate\\\": 0.12844461011742844<br>  }<br>}\",\"{<br>  \\\"number\\\": 29,<br>  \\\"values\\\": [<br>    0.4498243389528799,<br>    0.7180387023655493<br>  ],<br>  \\\"params\\\": {<br>    \\\"learning_rate\\\": 0.4498243389528799<br>  }<br>}\",\"{<br>  \\\"number\\\": 30,<br>  \\\"values\\\": [<br>    0.28825962026286955,<br>    0.7220137309076756<br>  ],<br>  \\\"params\\\": {<br>    \\\"learning_rate\\\": 0.28825962026286955<br>  }<br>}\",\"{<br>  \\\"number\\\": 35,<br>  \\\"values\\\": [<br>    0.19630258423899116,<br>    0.7290264275839735<br>  ],<br>  \\\"params\\\": {<br>    \\\"learning_rate\\\": 0.19630258423899116<br>  }<br>}\",\"{<br>  \\\"number\\\": 43,<br>  \\\"values\\\": [<br>    0.07377836783758575,<br>    0.7335097300380633<br>  ],<br>  \\\"params\\\": {<br>    \\\"learning_rate\\\": 0.07377836783758575<br>  }<br>}\",\"{<br>  \\\"number\\\": 53,<br>  \\\"values\\\": [<br>    0.4796291220454122,<br>    0.7120415606860494<br>  ],<br>  \\\"params\\\": {<br>    \\\"learning_rate\\\": 0.4796291220454122<br>  }<br>}\",\"{<br>  \\\"number\\\": 59,<br>  \\\"values\\\": [<br>    0.21454254531144426,<br>    0.7279770709345865<br>  ],<br>  \\\"params\\\": {<br>    \\\"learning_rate\\\": 0.21454254531144426<br>  }<br>}\",\"{<br>  \\\"number\\\": 62,<br>  \\\"values\\\": [<br>    0.30521179006815724,<br>    0.7193743184471776<br>  ],<br>  \\\"params\\\": {<br>    \\\"learning_rate\\\": 0.30521179006815724<br>  }<br>}\",\"{<br>  \\\"number\\\": 68,<br>  \\\"values\\\": [<br>    0.16799292006264588,<br>    0.7309842390105754<br>  ],<br>  \\\"params\\\": {<br>    \\\"learning_rate\\\": 0.16799292006264588<br>  }<br>}\",\"{<br>  \\\"number\\\": 87,<br>  \\\"values\\\": [<br>    0.11742527067046299,<br>    0.7321944783582703<br>  ],<br>  \\\"params\\\": {<br>    \\\"learning_rate\\\": 0.11742527067046299<br>  }<br>}\"],\"x\":[0.3317048028124761,0.1148404311838305,0.05307222954482612,0.24410089728809634,0.12844461011742844,0.4498243389528799,0.28825962026286955,0.19630258423899116,0.07377836783758575,0.4796291220454122,0.21454254531144426,0.30521179006815724,0.16799292006264588,0.11742527067046299],\"y\":[0.7182462105095208,0.7321994102159477,0.7336139976808754,0.7254004209977449,0.7321027124572879,0.7180387023655493,0.7220137309076756,0.7290264275839735,0.7335097300380633,0.7120415606860494,0.7279770709345865,0.7193743184471776,0.7309842390105754,0.7321944783582703],\"type\":\"scatter\"}],                        {\"title\":{\"text\":\"Pareto-front Plot\"},\"xaxis\":{\"title\":{\"text\":\"learning_rate\"}},\"yaxis\":{\"title\":{\"text\":\"f1\"}},\"template\":{\"data\":{\"histogram2dcontour\":[{\"type\":\"histogram2dcontour\",\"colorbar\":{\"outlinewidth\":0,\"ticks\":\"\"},\"colorscale\":[[0.0,\"#0d0887\"],[0.1111111111111111,\"#46039f\"],[0.2222222222222222,\"#7201a8\"],[0.3333333333333333,\"#9c179e\"],[0.4444444444444444,\"#bd3786\"],[0.5555555555555556,\"#d8576b\"],[0.6666666666666666,\"#ed7953\"],[0.7777777777777778,\"#fb9f3a\"],[0.8888888888888888,\"#fdca26\"],[1.0,\"#f0f921\"]]}],\"choropleth\":[{\"type\":\"choropleth\",\"colorbar\":{\"outlinewidth\":0,\"ticks\":\"\"}}],\"histogram2d\":[{\"type\":\"histogram2d\",\"colorbar\":{\"outlinewidth\":0,\"ticks\":\"\"},\"colorscale\":[[0.0,\"#0d0887\"],[0.1111111111111111,\"#46039f\"],[0.2222222222222222,\"#7201a8\"],[0.3333333333333333,\"#9c179e\"],[0.4444444444444444,\"#bd3786\"],[0.5555555555555556,\"#d8576b\"],[0.6666666666666666,\"#ed7953\"],[0.7777777777777778,\"#fb9f3a\"],[0.8888888888888888,\"#fdca26\"],[1.0,\"#f0f921\"]]}],\"heatmap\":[{\"type\":\"heatmap\",\"colorbar\":{\"outlinewidth\":0,\"ticks\":\"\"},\"colorscale\":[[0.0,\"#0d0887\"],[0.1111111111111111,\"#46039f\"],[0.2222222222222222,\"#7201a8\"],[0.3333333333333333,\"#9c179e\"],[0.4444444444444444,\"#bd3786\"],[0.5555555555555556,\"#d8576b\"],[0.6666666666666666,\"#ed7953\"],[0.7777777777777778,\"#fb9f3a\"],[0.8888888888888888,\"#fdca26\"],[1.0,\"#f0f921\"]]}],\"heatmapgl\":[{\"type\":\"heatmapgl\",\"colorbar\":{\"outlinewidth\":0,\"ticks\":\"\"},\"colorscale\":[[0.0,\"#0d0887\"],[0.1111111111111111,\"#46039f\"],[0.2222222222222222,\"#7201a8\"],[0.3333333333333333,\"#9c179e\"],[0.4444444444444444,\"#bd3786\"],[0.5555555555555556,\"#d8576b\"],[0.6666666666666666,\"#ed7953\"],[0.7777777777777778,\"#fb9f3a\"],[0.8888888888888888,\"#fdca26\"],[1.0,\"#f0f921\"]]}],\"contourcarpet\":[{\"type\":\"contourcarpet\",\"colorbar\":{\"outlinewidth\":0,\"ticks\":\"\"}}],\"contour\":[{\"type\":\"contour\",\"colorbar\":{\"outlinewidth\":0,\"ticks\":\"\"},\"colorscale\":[[0.0,\"#0d0887\"],[0.1111111111111111,\"#46039f\"],[0.2222222222222222,\"#7201a8\"],[0.3333333333333333,\"#9c179e\"],[0.4444444444444444,\"#bd3786\"],[0.5555555555555556,\"#d8576b\"],[0.6666666666666666,\"#ed7953\"],[0.7777777777777778,\"#fb9f3a\"],[0.8888888888888888,\"#fdca26\"],[1.0,\"#f0f921\"]]}],\"surface\":[{\"type\":\"surface\",\"colorbar\":{\"outlinewidth\":0,\"ticks\":\"\"},\"colorscale\":[[0.0,\"#0d0887\"],[0.1111111111111111,\"#46039f\"],[0.2222222222222222,\"#7201a8\"],[0.3333333333333333,\"#9c179e\"],[0.4444444444444444,\"#bd3786\"],[0.5555555555555556,\"#d8576b\"],[0.6666666666666666,\"#ed7953\"],[0.7777777777777778,\"#fb9f3a\"],[0.8888888888888888,\"#fdca26\"],[1.0,\"#f0f921\"]]}],\"mesh3d\":[{\"type\":\"mesh3d\",\"colorbar\":{\"outlinewidth\":0,\"ticks\":\"\"}}],\"scatter\":[{\"fillpattern\":{\"fillmode\":\"overlay\",\"size\":10,\"solidity\":0.2},\"type\":\"scatter\"}],\"parcoords\":[{\"type\":\"parcoords\",\"line\":{\"colorbar\":{\"outlinewidth\":0,\"ticks\":\"\"}}}],\"scatterpolargl\":[{\"type\":\"scatterpolargl\",\"marker\":{\"colorbar\":{\"outlinewidth\":0,\"ticks\":\"\"}}}],\"bar\":[{\"error_x\":{\"color\":\"#2a3f5f\"},\"error_y\":{\"color\":\"#2a3f5f\"},\"marker\":{\"line\":{\"color\":\"#E5ECF6\",\"width\":0.5},\"pattern\":{\"fillmode\":\"overlay\",\"size\":10,\"solidity\":0.2}},\"type\":\"bar\"}],\"scattergeo\":[{\"type\":\"scattergeo\",\"marker\":{\"colorbar\":{\"outlinewidth\":0,\"ticks\":\"\"}}}],\"scatterpolar\":[{\"type\":\"scatterpolar\",\"marker\":{\"colorbar\":{\"outlinewidth\":0,\"ticks\":\"\"}}}],\"histogram\":[{\"marker\":{\"pattern\":{\"fillmode\":\"overlay\",\"size\":10,\"solidity\":0.2}},\"type\":\"histogram\"}],\"scattergl\":[{\"type\":\"scattergl\",\"marker\":{\"colorbar\":{\"outlinewidth\":0,\"ticks\":\"\"}}}],\"scatter3d\":[{\"type\":\"scatter3d\",\"line\":{\"colorbar\":{\"outlinewidth\":0,\"ticks\":\"\"}},\"marker\":{\"colorbar\":{\"outlinewidth\":0,\"ticks\":\"\"}}}],\"scattermapbox\":[{\"type\":\"scattermapbox\",\"marker\":{\"colorbar\":{\"outlinewidth\":0,\"ticks\":\"\"}}}],\"scatterternary\":[{\"type\":\"scatterternary\",\"marker\":{\"colorbar\":{\"outlinewidth\":0,\"ticks\":\"\"}}}],\"scattercarpet\":[{\"type\":\"scattercarpet\",\"marker\":{\"colorbar\":{\"outlinewidth\":0,\"ticks\":\"\"}}}],\"carpet\":[{\"aaxis\":{\"endlinecolor\":\"#2a3f5f\",\"gridcolor\":\"white\",\"linecolor\":\"white\",\"minorgridcolor\":\"white\",\"startlinecolor\":\"#2a3f5f\"},\"baxis\":{\"endlinecolor\":\"#2a3f5f\",\"gridcolor\":\"white\",\"linecolor\":\"white\",\"minorgridcolor\":\"white\",\"startlinecolor\":\"#2a3f5f\"},\"type\":\"carpet\"}],\"table\":[{\"cells\":{\"fill\":{\"color\":\"#EBF0F8\"},\"line\":{\"color\":\"white\"}},\"header\":{\"fill\":{\"color\":\"#C8D4E3\"},\"line\":{\"color\":\"white\"}},\"type\":\"table\"}],\"barpolar\":[{\"marker\":{\"line\":{\"color\":\"#E5ECF6\",\"width\":0.5},\"pattern\":{\"fillmode\":\"overlay\",\"size\":10,\"solidity\":0.2}},\"type\":\"barpolar\"}],\"pie\":[{\"automargin\":true,\"type\":\"pie\"}]},\"layout\":{\"autotypenumbers\":\"strict\",\"colorway\":[\"#636efa\",\"#EF553B\",\"#00cc96\",\"#ab63fa\",\"#FFA15A\",\"#19d3f3\",\"#FF6692\",\"#B6E880\",\"#FF97FF\",\"#FECB52\"],\"font\":{\"color\":\"#2a3f5f\"},\"hovermode\":\"closest\",\"hoverlabel\":{\"align\":\"left\"},\"paper_bgcolor\":\"white\",\"plot_bgcolor\":\"#E5ECF6\",\"polar\":{\"bgcolor\":\"#E5ECF6\",\"angularaxis\":{\"gridcolor\":\"white\",\"linecolor\":\"white\",\"ticks\":\"\"},\"radialaxis\":{\"gridcolor\":\"white\",\"linecolor\":\"white\",\"ticks\":\"\"}},\"ternary\":{\"bgcolor\":\"#E5ECF6\",\"aaxis\":{\"gridcolor\":\"white\",\"linecolor\":\"white\",\"ticks\":\"\"},\"baxis\":{\"gridcolor\":\"white\",\"linecolor\":\"white\",\"ticks\":\"\"},\"caxis\":{\"gridcolor\":\"white\",\"linecolor\":\"white\",\"ticks\":\"\"}},\"coloraxis\":{\"colorbar\":{\"outlinewidth\":0,\"ticks\":\"\"}},\"colorscale\":{\"sequential\":[[0.0,\"#0d0887\"],[0.1111111111111111,\"#46039f\"],[0.2222222222222222,\"#7201a8\"],[0.3333333333333333,\"#9c179e\"],[0.4444444444444444,\"#bd3786\"],[0.5555555555555556,\"#d8576b\"],[0.6666666666666666,\"#ed7953\"],[0.7777777777777778,\"#fb9f3a\"],[0.8888888888888888,\"#fdca26\"],[1.0,\"#f0f921\"]],\"sequentialminus\":[[0.0,\"#0d0887\"],[0.1111111111111111,\"#46039f\"],[0.2222222222222222,\"#7201a8\"],[0.3333333333333333,\"#9c179e\"],[0.4444444444444444,\"#bd3786\"],[0.5555555555555556,\"#d8576b\"],[0.6666666666666666,\"#ed7953\"],[0.7777777777777778,\"#fb9f3a\"],[0.8888888888888888,\"#fdca26\"],[1.0,\"#f0f921\"]],\"diverging\":[[0,\"#8e0152\"],[0.1,\"#c51b7d\"],[0.2,\"#de77ae\"],[0.3,\"#f1b6da\"],[0.4,\"#fde0ef\"],[0.5,\"#f7f7f7\"],[0.6,\"#e6f5d0\"],[0.7,\"#b8e186\"],[0.8,\"#7fbc41\"],[0.9,\"#4d9221\"],[1,\"#276419\"]]},\"xaxis\":{\"gridcolor\":\"white\",\"linecolor\":\"white\",\"ticks\":\"\",\"title\":{\"standoff\":15},\"zerolinecolor\":\"white\",\"automargin\":true,\"zerolinewidth\":2},\"yaxis\":{\"gridcolor\":\"white\",\"linecolor\":\"white\",\"ticks\":\"\",\"title\":{\"standoff\":15},\"zerolinecolor\":\"white\",\"automargin\":true,\"zerolinewidth\":2},\"scene\":{\"xaxis\":{\"backgroundcolor\":\"#E5ECF6\",\"gridcolor\":\"white\",\"linecolor\":\"white\",\"showbackground\":true,\"ticks\":\"\",\"zerolinecolor\":\"white\",\"gridwidth\":2},\"yaxis\":{\"backgroundcolor\":\"#E5ECF6\",\"gridcolor\":\"white\",\"linecolor\":\"white\",\"showbackground\":true,\"ticks\":\"\",\"zerolinecolor\":\"white\",\"gridwidth\":2},\"zaxis\":{\"backgroundcolor\":\"#E5ECF6\",\"gridcolor\":\"white\",\"linecolor\":\"white\",\"showbackground\":true,\"ticks\":\"\",\"zerolinecolor\":\"white\",\"gridwidth\":2}},\"shapedefaults\":{\"line\":{\"color\":\"#2a3f5f\"}},\"annotationdefaults\":{\"arrowcolor\":\"#2a3f5f\",\"arrowhead\":0,\"arrowwidth\":1},\"geo\":{\"bgcolor\":\"white\",\"landcolor\":\"#E5ECF6\",\"subunitcolor\":\"white\",\"showland\":true,\"showlakes\":true,\"lakecolor\":\"white\"},\"title\":{\"x\":0.05},\"mapbox\":{\"style\":\"light\"}}}},                        {\"responsive\": true}                    ).then(function(){\n",
       "                            \n",
       "var gd = document.getElementById('f5c97c6e-db5a-4ff5-9b09-b323a292b954');\n",
       "var x = new MutationObserver(function (mutations, observer) {{\n",
       "        var display = window.getComputedStyle(gd).display;\n",
       "        if (!display || display === 'none') {{\n",
       "            console.log([gd, 'removed!']);\n",
       "            Plotly.purge(gd);\n",
       "            observer.disconnect();\n",
       "        }}\n",
       "}});\n",
       "\n",
       "// Listen for the removal of the full notebook cells\n",
       "var notebookContainer = gd.closest('#notebook-container');\n",
       "if (notebookContainer) {{\n",
       "    x.observe(notebookContainer, {childList: true});\n",
       "}}\n",
       "\n",
       "// Listen for the clearing of the current output cell\n",
       "var outputEl = gd.closest('.output');\n",
       "if (outputEl) {{\n",
       "    x.observe(outputEl, {childList: true});\n",
       "}}\n",
       "\n",
       "                        })                };                });            </script>        </div>"
      ]
     },
     "metadata": {},
     "output_type": "display_data"
    }
   ],
   "source": [
    "fig = optuna.visualization.plot_pareto_front(study, target_names=[\"learning_rate\", \"f1\"])\n",
    "fig.write_image(file=\"figures/ch5_pareto.png\", format=\"png\", scale=6)\n",
    "fig.show()"
   ]
  }
 ],
 "metadata": {
  "kernelspec": {
   "display_name": "Python 3",
   "language": "python",
   "name": "python3"
  },
  "language_info": {
   "codemirror_mode": {
    "name": "ipython",
    "version": 3
   },
   "file_extension": ".py",
   "mimetype": "text/x-python",
   "name": "python",
   "nbconvert_exporter": "python",
   "pygments_lexer": "ipython3",
   "version": "3.10.11"
  }
 },
 "nbformat": 4,
 "nbformat_minor": 0
}
